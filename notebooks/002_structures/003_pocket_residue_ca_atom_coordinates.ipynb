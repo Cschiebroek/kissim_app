{
 "cells": [
  {
   "cell_type": "markdown",
   "metadata": {},
   "source": [
    "# Extract pocket residue CA atom coordinates\n",
    "\n",
    "We extract the coordinates for all pockets' residue CA atoms to be used in other notebooks."
   ]
  },
  {
   "cell_type": "code",
   "execution_count": 1,
   "metadata": {},
   "outputs": [],
   "source": [
    "%load_ext autoreload\n",
    "%autoreload 2"
   ]
  },
  {
   "cell_type": "code",
   "execution_count": 2,
   "metadata": {},
   "outputs": [
    {
     "data": {
      "application/vnd.jupyter.widget-view+json": {
       "model_id": "97b9e9970c6a49369d5f44cf82831422",
       "version_major": 2,
       "version_minor": 0
      },
      "text/plain": []
     },
     "metadata": {},
     "output_type": "display_data"
    }
   ],
   "source": [
    "from pathlib import Path\n",
    "\n",
    "import pandas as pd\n",
    "from opencadd.databases.klifs import setup_local\n",
    "from kissim.io import PocketDataFrame\n",
    "\n",
    "from src.paths import (\n",
    "    PATH_DATA,\n",
    "    PATH_RESULTS,\n",
    "    PATH_DATA_KLIFS_DOWNLOAD,\n",
    ")"
   ]
  },
  {
   "cell_type": "code",
   "execution_count": 3,
   "metadata": {},
   "outputs": [],
   "source": [
    "HERE = Path(_dh[-1])  # noqa: F821\n",
    "DATA = PATH_DATA\n",
    "RESULTS = PATH_RESULTS / \"all\""
   ]
  },
  {
   "cell_type": "code",
   "execution_count": 4,
   "metadata": {},
   "outputs": [
    {
     "name": "stdout",
     "output_type": "stream",
     "text": [
      "Number of structures: 11806\n"
     ]
    }
   ],
   "source": [
    "LOCAL = setup_local(PATH_DATA_KLIFS_DOWNLOAD)\n",
    "print(f\"Number of structures: {len(LOCAL._database)}\")"
   ]
  },
  {
   "cell_type": "markdown",
   "metadata": {},
   "source": [
    "## Load structure KLIFS IDs of interest\n",
    "\n",
    "Let's load our pre-calculated fingerprint saved in a _json_ file as `FingerprintGenerator` object."
   ]
  },
  {
   "cell_type": "code",
   "execution_count": 5,
   "metadata": {},
   "outputs": [
    {
     "name": "stdout",
     "output_type": "stream",
     "text": [
      "Number of structures: 4690\n"
     ]
    }
   ],
   "source": [
    "structure_klifs_ids = pd.read_csv(\n",
    "    DATA / \"processed/structure_klifs_ids_all.txt\", squeeze=True, header=None\n",
    ").to_list()\n",
    "print(f\"Number of structures: {len(structure_klifs_ids)}\")"
   ]
  },
  {
   "cell_type": "markdown",
   "metadata": {},
   "source": [
    "## Extract pocket residue CA atom coordinates"
   ]
  },
  {
   "cell_type": "code",
   "execution_count": 6,
   "metadata": {},
   "outputs": [],
   "source": [
    "def pocket_residue_ca_atom_coordinates(structure_klifs_ids, klifs_session):\n",
    "\n",
    "    coordinates = []\n",
    "\n",
    "    for structure_klifs_id in structure_klifs_ids:\n",
    "        pocket = PocketDataFrame.from_structure_klifs_id(structure_klifs_id, klifs_session)\n",
    "        if pocket is not None:\n",
    "            ca_atoms = pocket.residues.dropna().merge(\n",
    "                pocket.ca_atoms, how=\"left\", on=[\"residue.id\"]\n",
    "            )\n",
    "            ca_atoms[\"structure.klifs_id\"] = structure_klifs_id\n",
    "            ca_atoms = ca_atoms.set_index(\n",
    "                [\"structure.klifs_id\", \"residue.ix\"],\n",
    "            )[[\"atom.x\", \"atom.y\", \"atom.z\"]]\n",
    "            coordinates.append(ca_atoms)\n",
    "\n",
    "    coordinates = pd.concat(coordinates)\n",
    "    return coordinates"
   ]
  },
  {
   "cell_type": "markdown",
   "metadata": {},
   "source": [
    "The next cell will take about 15 minutes."
   ]
  },
  {
   "cell_type": "code",
   "execution_count": 7,
   "metadata": {},
   "outputs": [
    {
     "name": "stderr",
     "output_type": "stream",
     "text": [
      "13042: Local complex.pdb or pocket.pdb file missing: /home/dominique/Documents/GitHub/kissim_app/src/../data/external/structures/20210902_KLIFS_HUMAN/HUMAN/GPRK5/6pjx_altA_chainA/complex.pdb\n"
     ]
    },
    {
     "name": "stdout",
     "output_type": "stream",
     "text": [
      "CPU times: user 16min 38s, sys: 1.01 s, total: 16min 39s\n",
      "Wall time: 16min 40s\n"
     ]
    }
   ],
   "source": [
    "%time coordinates = pocket_residue_ca_atom_coordinates(structure_klifs_ids, LOCAL)  # noqa: E501"
   ]
  },
  {
   "cell_type": "markdown",
   "metadata": {},
   "source": [
    "## Save coordinates"
   ]
  },
  {
   "cell_type": "code",
   "execution_count": 8,
   "metadata": {},
   "outputs": [],
   "source": [
    "coordinates.to_csv(  # noqa: F821\n",
    "    DATA / \"processed/pocket_residue_ca_atom_coordinates.csv.gz\", compression=\"gzip\"\n",
    ")"
   ]
  },
  {
   "cell_type": "markdown",
   "metadata": {},
   "source": [
    "## Load coordinates"
   ]
  },
  {
   "cell_type": "code",
   "execution_count": 9,
   "metadata": {},
   "outputs": [
    {
     "data": {
      "text/html": [
       "<div>\n",
       "<style scoped>\n",
       "    .dataframe tbody tr th:only-of-type {\n",
       "        vertical-align: middle;\n",
       "    }\n",
       "\n",
       "    .dataframe tbody tr th {\n",
       "        vertical-align: top;\n",
       "    }\n",
       "\n",
       "    .dataframe thead th {\n",
       "        text-align: right;\n",
       "    }\n",
       "</style>\n",
       "<table border=\"1\" class=\"dataframe\">\n",
       "  <thead>\n",
       "    <tr style=\"text-align: right;\">\n",
       "      <th></th>\n",
       "      <th></th>\n",
       "      <th>atom.x</th>\n",
       "      <th>atom.y</th>\n",
       "      <th>atom.z</th>\n",
       "    </tr>\n",
       "    <tr>\n",
       "      <th>structure.klifs_id</th>\n",
       "      <th>residue.ix</th>\n",
       "      <th></th>\n",
       "      <th></th>\n",
       "      <th></th>\n",
       "    </tr>\n",
       "  </thead>\n",
       "  <tbody>\n",
       "    <tr>\n",
       "      <th rowspan=\"5\" valign=\"top\">1</th>\n",
       "      <th>1</th>\n",
       "      <td>8.332</td>\n",
       "      <td>18.829</td>\n",
       "      <td>52.312</td>\n",
       "    </tr>\n",
       "    <tr>\n",
       "      <th>2</th>\n",
       "      <td>9.247</td>\n",
       "      <td>16.975</td>\n",
       "      <td>49.126</td>\n",
       "    </tr>\n",
       "    <tr>\n",
       "      <th>3</th>\n",
       "      <td>6.166</td>\n",
       "      <td>15.784</td>\n",
       "      <td>47.231</td>\n",
       "    </tr>\n",
       "    <tr>\n",
       "      <th>4</th>\n",
       "      <td>7.642</td>\n",
       "      <td>14.754</td>\n",
       "      <td>43.861</td>\n",
       "    </tr>\n",
       "    <tr>\n",
       "      <th>5</th>\n",
       "      <td>10.860</td>\n",
       "      <td>13.971</td>\n",
       "      <td>41.981</td>\n",
       "    </tr>\n",
       "    <tr>\n",
       "      <th>...</th>\n",
       "      <th>...</th>\n",
       "      <td>...</td>\n",
       "      <td>...</td>\n",
       "      <td>...</td>\n",
       "    </tr>\n",
       "    <tr>\n",
       "      <th rowspan=\"5\" valign=\"top\">13864</th>\n",
       "      <th>81</th>\n",
       "      <td>2.577</td>\n",
       "      <td>18.822</td>\n",
       "      <td>33.603</td>\n",
       "    </tr>\n",
       "    <tr>\n",
       "      <th>82</th>\n",
       "      <td>2.393</td>\n",
       "      <td>21.136</td>\n",
       "      <td>30.594</td>\n",
       "    </tr>\n",
       "    <tr>\n",
       "      <th>83</th>\n",
       "      <td>5.271</td>\n",
       "      <td>19.480</td>\n",
       "      <td>28.732</td>\n",
       "    </tr>\n",
       "    <tr>\n",
       "      <th>84</th>\n",
       "      <td>3.250</td>\n",
       "      <td>18.475</td>\n",
       "      <td>25.666</td>\n",
       "    </tr>\n",
       "    <tr>\n",
       "      <th>85</th>\n",
       "      <td>1.726</td>\n",
       "      <td>21.336</td>\n",
       "      <td>23.683</td>\n",
       "    </tr>\n",
       "  </tbody>\n",
       "</table>\n",
       "<p>393619 rows × 3 columns</p>\n",
       "</div>"
      ],
      "text/plain": [
       "                               atom.x  atom.y  atom.z\n",
       "structure.klifs_id residue.ix                        \n",
       "1                  1            8.332  18.829  52.312\n",
       "                   2            9.247  16.975  49.126\n",
       "                   3            6.166  15.784  47.231\n",
       "                   4            7.642  14.754  43.861\n",
       "                   5           10.860  13.971  41.981\n",
       "...                               ...     ...     ...\n",
       "13864              81           2.577  18.822  33.603\n",
       "                   82           2.393  21.136  30.594\n",
       "                   83           5.271  19.480  28.732\n",
       "                   84           3.250  18.475  25.666\n",
       "                   85           1.726  21.336  23.683\n",
       "\n",
       "[393619 rows x 3 columns]"
      ]
     },
     "execution_count": 9,
     "metadata": {},
     "output_type": "execute_result"
    }
   ],
   "source": [
    "coordinates = pd.read_csv(\n",
    "    DATA / \"processed/pocket_residue_ca_atom_coordinates.csv.gz\",\n",
    "    header=0,\n",
    "    index_col=[0, 1],\n",
    ")\n",
    "coordinates"
   ]
  },
  {
   "cell_type": "code",
   "execution_count": 10,
   "metadata": {
    "tags": []
   },
   "outputs": [
    {
     "name": "stdout",
     "output_type": "stream",
     "text": [
      "Number of structures: 4689\n"
     ]
    }
   ],
   "source": [
    "n_structures = len(coordinates.index.get_level_values(\"structure.klifs_id\").unique())\n",
    "print(f\"Number of structures: {n_structures}\")"
   ]
  }
 ],
 "metadata": {
  "kernelspec": {
   "display_name": "Python 3 (ipykernel)",
   "language": "python",
   "name": "python3"
  },
  "language_info": {
   "codemirror_mode": {
    "name": "ipython",
    "version": 3
   },
   "file_extension": ".py",
   "mimetype": "text/x-python",
   "name": "python",
   "nbconvert_exporter": "python",
   "pygments_lexer": "ipython3",
   "version": "3.9.7"
  },
  "widgets": {
   "application/vnd.jupyter.widget-state+json": {
    "state": {},
    "version_major": 2,
    "version_minor": 0
   }
  }
 },
 "nbformat": 4,
 "nbformat_minor": 4
}
