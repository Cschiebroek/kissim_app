{
 "cells": [
  {
   "cell_type": "markdown",
   "metadata": {},
   "source": [
    "# Extract pocket residue CA atom coordinates\n",
    "\n",
    "We extract the coordinates for all pockets' residue CA atoms to be used in other notebooks."
   ]
  },
  {
   "cell_type": "code",
   "execution_count": 1,
   "metadata": {
    "execution": {
     "iopub.execute_input": "2021-09-16T18:44:14.185652Z",
     "iopub.status.busy": "2021-09-16T18:44:14.185331Z",
     "iopub.status.idle": "2021-09-16T18:44:14.192662Z",
     "shell.execute_reply": "2021-09-16T18:44:14.192326Z"
    }
   },
   "outputs": [],
   "source": [
    "%load_ext autoreload\n",
    "%autoreload 2"
   ]
  },
  {
   "cell_type": "code",
   "execution_count": 2,
   "metadata": {
    "execution": {
     "iopub.execute_input": "2021-09-16T18:44:14.195041Z",
     "iopub.status.busy": "2021-09-16T18:44:14.194725Z",
     "iopub.status.idle": "2021-09-16T18:44:15.291317Z",
     "shell.execute_reply": "2021-09-16T18:44:15.291562Z"
    }
   },
   "outputs": [
    {
     "data": {
      "application/vnd.jupyter.widget-view+json": {
       "model_id": "82745733e16347b7a48bb9612d9f054c",
       "version_major": 2,
       "version_minor": 0
      },
      "text/plain": []
     },
     "metadata": {},
     "output_type": "display_data"
    }
   ],
   "source": [
    "from pathlib import Path\n",
    "\n",
    "import pandas as pd\n",
    "from opencadd.databases.klifs import setup_local\n",
    "from kissim.io import PocketDataFrame\n",
    "\n",
    "from src.paths import PATH_DATA, PATH_RESULTS, PATH_DATA_KLIFS_DOWNLOAD, PATH_DATA_KLIFS_DOWNLOAD_TEST"
   ]
  },
  {
   "cell_type": "code",
   "execution_count": 3,
   "metadata": {
    "execution": {
     "iopub.execute_input": "2021-09-16T18:44:15.294022Z",
     "iopub.status.busy": "2021-09-16T18:44:15.293717Z",
     "iopub.status.idle": "2021-09-16T18:44:15.305151Z",
     "shell.execute_reply": "2021-09-16T18:44:15.304888Z"
    }
   },
   "outputs": [],
   "source": [
    "HERE = Path(_dh[-1])  # noqa: F821\n",
    "DATA = PATH_DATA\n",
    "RESULTS = PATH_RESULTS / \"all\""
   ]
  },
  {
   "cell_type": "code",
   "execution_count": 4,
   "metadata": {
    "execution": {
     "iopub.execute_input": "2021-09-16T18:44:15.307222Z",
     "iopub.status.busy": "2021-09-16T18:44:15.306918Z",
     "iopub.status.idle": "2021-09-16T18:44:27.156726Z",
     "shell.execute_reply": "2021-09-16T18:44:27.155909Z"
    }
   },
   "outputs": [
    {
     "name": "stderr",
     "output_type": "stream",
     "text": [
      "Local structure is not part of SerializableSwaggerClient(https://dev.klifs.net/api_v2) (yet? any more?): 7ree-A-A\n",
      "Expected type to be dict for value [400, 'KLIFS error: An unknown ligand ID was provided'] to unmarshal to a <class 'abc.Error'>.Was <class 'list'> instead.\n",
      "Local structure is not part of SerializableSwaggerClient(https://dev.klifs.net/api_v2) (yet? any more?): 7ree-B-A\n",
      "Expected type to be dict for value [400, 'KLIFS error: An unknown ligand ID was provided'] to unmarshal to a <class 'abc.Error'>.Was <class 'list'> instead.\n",
      "Local structure is not part of SerializableSwaggerClient(https://dev.klifs.net/api_v2) (yet? any more?): 7n3u---A\n",
      "Expected type to be dict for value [400, 'KLIFS error: An unknown ligand ID was provided'] to unmarshal to a <class 'abc.Error'>.Was <class 'list'> instead.\n",
      "Local structure is not part of SerializableSwaggerClient(https://dev.klifs.net/api_v2) (yet? any more?): 6w9e-B-A\n",
      "Expected type to be dict for value [400, 'KLIFS error: An unknown ligand ID was provided'] to unmarshal to a <class 'abc.Error'>.Was <class 'list'> instead.\n",
      "Local structure is not part of SerializableSwaggerClient(https://dev.klifs.net/api_v2) (yet? any more?): 6w9e-A-A\n",
      "Expected type to be dict for value [400, 'KLIFS error: An unknown ligand ID was provided'] to unmarshal to a <class 'abc.Error'>.Was <class 'list'> instead.\n",
      "Local structure is not part of SerializableSwaggerClient(https://dev.klifs.net/api_v2) (yet? any more?): 6w9e-D-A\n",
      "Expected type to be dict for value [400, 'KLIFS error: An unknown ligand ID was provided'] to unmarshal to a <class 'abc.Error'>.Was <class 'list'> instead.\n",
      "Local structure is not part of SerializableSwaggerClient(https://dev.klifs.net/api_v2) (yet? any more?): 6w9e-C-A\n",
      "Expected type to be dict for value [400, 'KLIFS error: An unknown ligand ID was provided'] to unmarshal to a <class 'abc.Error'>.Was <class 'list'> instead.\n",
      "Local structure is not part of SerializableSwaggerClient(https://dev.klifs.net/api_v2) (yet? any more?): 7ni6---A\n",
      "Expected type to be dict for value [400, 'KLIFS error: An unknown ligand ID was provided'] to unmarshal to a <class 'abc.Error'>.Was <class 'list'> instead.\n",
      "Local structure is not part of SerializableSwaggerClient(https://dev.klifs.net/api_v2) (yet? any more?): 7ni5---A\n",
      "Expected type to be dict for value [400, 'KLIFS error: An unknown ligand ID was provided'] to unmarshal to a <class 'abc.Error'>.Was <class 'list'> instead.\n",
      "Local structure is not part of SerializableSwaggerClient(https://dev.klifs.net/api_v2) (yet? any more?): 7ni4---A\n",
      "Expected type to be dict for value [400, 'KLIFS error: An unknown ligand ID was provided'] to unmarshal to a <class 'abc.Error'>.Was <class 'list'> instead.\n",
      "Local structure is not part of SerializableSwaggerClient(https://dev.klifs.net/api_v2) (yet? any more?): 7apj---A\n",
      "Expected type to be dict for value [400, 'KLIFS error: An unknown ligand ID was provided'] to unmarshal to a <class 'abc.Error'>.Was <class 'list'> instead.\n"
     ]
    },
    {
     "name": "stdout",
     "output_type": "stream",
     "text": [
      "Number of structures: 11795\n"
     ]
    }
   ],
   "source": [
    "try:\n",
    "    LOCAL = setup_local(PATH_DATA_KLIFS_DOWNLOAD)\n",
    "except FileNotFoundError:\n",
    "    # Use this KLIFS dataset for CI\n",
    "    LOCAL = setup_local(PATH_DATA_KLIFS_DOWNLOAD_TEST)\n",
    "\n",
    "print(f\"Number of structures: {len(LOCAL._database)}\")"
   ]
  },
  {
   "cell_type": "markdown",
   "metadata": {},
   "source": [
    "## Load structure KLIFS IDs of interest\n",
    "\n",
    "Let's load our pre-calculated fingerprint saved in a _json_ file as `FingerprintGenerator` object."
   ]
  },
  {
   "cell_type": "code",
   "execution_count": 5,
   "metadata": {
    "execution": {
     "iopub.execute_input": "2021-09-16T18:44:27.162084Z",
     "iopub.status.busy": "2021-09-16T18:44:27.161267Z",
     "iopub.status.idle": "2021-09-16T18:44:27.177439Z",
     "shell.execute_reply": "2021-09-16T18:44:27.177115Z"
    }
   },
   "outputs": [
    {
     "name": "stdout",
     "output_type": "stream",
     "text": [
      "Number of structures: 4685\n"
     ]
    }
   ],
   "source": [
    "structure_klifs_ids = pd.read_csv(\n",
    "    DATA / \"processed/structure_klifs_ids_all.txt\", squeeze=True, header=None\n",
    ").to_list()\n",
    "print(f\"Number of structures: {len(structure_klifs_ids)}\")"
   ]
  },
  {
   "cell_type": "markdown",
   "metadata": {},
   "source": [
    "## Extract pocket residue CA atom coordinates"
   ]
  },
  {
   "cell_type": "code",
   "execution_count": 6,
   "metadata": {
    "execution": {
     "iopub.execute_input": "2021-09-16T18:44:27.180468Z",
     "iopub.status.busy": "2021-09-16T18:44:27.180144Z",
     "iopub.status.idle": "2021-09-16T18:44:27.191418Z",
     "shell.execute_reply": "2021-09-16T18:44:27.191682Z"
    }
   },
   "outputs": [],
   "source": [
    "def pocket_residue_ca_atom_coordinates(structure_klifs_ids, klifs_session):\n",
    "\n",
    "    coordinates = []\n",
    "\n",
    "    for structure_klifs_id in structure_klifs_ids:\n",
    "        pocket = PocketDataFrame.from_structure_klifs_id(structure_klifs_id, klifs_session)\n",
    "        if pocket is not None:\n",
    "            ca_atoms = pocket.residues.dropna().merge(\n",
    "                pocket.ca_atoms, how=\"left\", on=[\"residue.id\"]\n",
    "            )\n",
    "            ca_atoms[\"structure.klifs_id\"] = structure_klifs_id\n",
    "            ca_atoms = ca_atoms.set_index(\n",
    "                [\"structure.klifs_id\", \"residue.ix\"],\n",
    "            )[[\"atom.x\", \"atom.y\", \"atom.z\"]]\n",
    "            coordinates.append(ca_atoms)\n",
    "\n",
    "    coordinates = pd.concat(coordinates)\n",
    "    return coordinates"
   ]
  },
  {
   "cell_type": "code",
   "execution_count": 7,
   "metadata": {
    "execution": {
     "iopub.execute_input": "2021-09-16T18:44:27.194026Z",
     "iopub.status.busy": "2021-09-16T18:44:27.193714Z",
     "iopub.status.idle": "2021-09-16T19:00:01.411210Z",
     "shell.execute_reply": "2021-09-16T19:00:01.410899Z"
    }
   },
   "outputs": [
    {
     "name": "stderr",
     "output_type": "stream",
     "text": [
      "13042: Local complex.pdb or pocket.pdb file missing: /home/dominique/Documents/GitHub/kissim_app/src/../data/external/structures/20210902_KLIFS_HUMAN/HUMAN/GPRK5/6pjx_altA_chainA/complex.pdb\n"
     ]
    },
    {
     "name": "stdout",
     "output_type": "stream",
     "text": [
      "CPU times: user 15min 30s, sys: 1.01 s, total: 15min 31s\n",
      "Wall time: 15min 34s\n"
     ]
    }
   ],
   "source": [
    "%time coordinates = pocket_residue_ca_atom_coordinates(structure_klifs_ids, LOCAL)  # noqa: E501"
   ]
  },
  {
   "cell_type": "markdown",
   "metadata": {},
   "source": [
    "## Save coordinates"
   ]
  },
  {
   "cell_type": "code",
   "execution_count": 8,
   "metadata": {
    "execution": {
     "iopub.execute_input": "2021-09-16T19:00:01.413314Z",
     "iopub.status.busy": "2021-09-16T19:00:01.413011Z",
     "iopub.status.idle": "2021-09-16T19:00:03.801975Z",
     "shell.execute_reply": "2021-09-16T19:00:03.801635Z"
    }
   },
   "outputs": [],
   "source": [
    "coordinates.to_csv(  # noqa: F821\n",
    "    DATA / \"processed/pocket_residue_ca_atom_coordinates.csv.gz\", compression=\"gzip\"\n",
    ")"
   ]
  },
  {
   "cell_type": "markdown",
   "metadata": {},
   "source": [
    "## Load coordinates"
   ]
  },
  {
   "cell_type": "code",
   "execution_count": 9,
   "metadata": {
    "execution": {
     "iopub.execute_input": "2021-09-16T19:00:03.804342Z",
     "iopub.status.busy": "2021-09-16T19:00:03.804043Z",
     "iopub.status.idle": "2021-09-16T19:00:03.994179Z",
     "shell.execute_reply": "2021-09-16T19:00:03.994426Z"
    }
   },
   "outputs": [
    {
     "data": {
      "text/html": [
       "<div>\n",
       "<style scoped>\n",
       "    .dataframe tbody tr th:only-of-type {\n",
       "        vertical-align: middle;\n",
       "    }\n",
       "\n",
       "    .dataframe tbody tr th {\n",
       "        vertical-align: top;\n",
       "    }\n",
       "\n",
       "    .dataframe thead th {\n",
       "        text-align: right;\n",
       "    }\n",
       "</style>\n",
       "<table border=\"1\" class=\"dataframe\">\n",
       "  <thead>\n",
       "    <tr style=\"text-align: right;\">\n",
       "      <th></th>\n",
       "      <th></th>\n",
       "      <th>atom.x</th>\n",
       "      <th>atom.y</th>\n",
       "      <th>atom.z</th>\n",
       "    </tr>\n",
       "    <tr>\n",
       "      <th>structure.klifs_id</th>\n",
       "      <th>residue.ix</th>\n",
       "      <th></th>\n",
       "      <th></th>\n",
       "      <th></th>\n",
       "    </tr>\n",
       "  </thead>\n",
       "  <tbody>\n",
       "    <tr>\n",
       "      <th rowspan=\"5\" valign=\"top\">1</th>\n",
       "      <th>1</th>\n",
       "      <td>8.332</td>\n",
       "      <td>18.829</td>\n",
       "      <td>52.312</td>\n",
       "    </tr>\n",
       "    <tr>\n",
       "      <th>2</th>\n",
       "      <td>9.247</td>\n",
       "      <td>16.975</td>\n",
       "      <td>49.126</td>\n",
       "    </tr>\n",
       "    <tr>\n",
       "      <th>3</th>\n",
       "      <td>6.166</td>\n",
       "      <td>15.784</td>\n",
       "      <td>47.231</td>\n",
       "    </tr>\n",
       "    <tr>\n",
       "      <th>4</th>\n",
       "      <td>7.642</td>\n",
       "      <td>14.754</td>\n",
       "      <td>43.861</td>\n",
       "    </tr>\n",
       "    <tr>\n",
       "      <th>5</th>\n",
       "      <td>10.860</td>\n",
       "      <td>13.971</td>\n",
       "      <td>41.981</td>\n",
       "    </tr>\n",
       "    <tr>\n",
       "      <th>...</th>\n",
       "      <th>...</th>\n",
       "      <td>...</td>\n",
       "      <td>...</td>\n",
       "      <td>...</td>\n",
       "    </tr>\n",
       "    <tr>\n",
       "      <th rowspan=\"5\" valign=\"top\">13853</th>\n",
       "      <th>81</th>\n",
       "      <td>1.884</td>\n",
       "      <td>18.534</td>\n",
       "      <td>33.726</td>\n",
       "    </tr>\n",
       "    <tr>\n",
       "      <th>82</th>\n",
       "      <td>2.756</td>\n",
       "      <td>20.901</td>\n",
       "      <td>30.782</td>\n",
       "    </tr>\n",
       "    <tr>\n",
       "      <th>83</th>\n",
       "      <td>5.668</td>\n",
       "      <td>18.490</td>\n",
       "      <td>29.982</td>\n",
       "    </tr>\n",
       "    <tr>\n",
       "      <th>84</th>\n",
       "      <td>4.271</td>\n",
       "      <td>17.749</td>\n",
       "      <td>26.447</td>\n",
       "    </tr>\n",
       "    <tr>\n",
       "      <th>85</th>\n",
       "      <td>2.723</td>\n",
       "      <td>21.267</td>\n",
       "      <td>25.979</td>\n",
       "    </tr>\n",
       "  </tbody>\n",
       "</table>\n",
       "<p>393200 rows × 3 columns</p>\n",
       "</div>"
      ],
      "text/plain": [
       "                               atom.x  atom.y  atom.z\n",
       "structure.klifs_id residue.ix                        \n",
       "1                  1            8.332  18.829  52.312\n",
       "                   2            9.247  16.975  49.126\n",
       "                   3            6.166  15.784  47.231\n",
       "                   4            7.642  14.754  43.861\n",
       "                   5           10.860  13.971  41.981\n",
       "...                               ...     ...     ...\n",
       "13853              81           1.884  18.534  33.726\n",
       "                   82           2.756  20.901  30.782\n",
       "                   83           5.668  18.490  29.982\n",
       "                   84           4.271  17.749  26.447\n",
       "                   85           2.723  21.267  25.979\n",
       "\n",
       "[393200 rows x 3 columns]"
      ]
     },
     "execution_count": 9,
     "metadata": {},
     "output_type": "execute_result"
    }
   ],
   "source": [
    "coordinates = pd.read_csv(\n",
    "    DATA / \"processed/pocket_residue_ca_atom_coordinates.csv.gz\",\n",
    "    header=0,\n",
    "    index_col=[0, 1],\n",
    ")\n",
    "coordinates"
   ]
  },
  {
   "cell_type": "code",
   "execution_count": 10,
   "metadata": {
    "execution": {
     "iopub.execute_input": "2021-09-16T19:00:03.996792Z",
     "iopub.status.busy": "2021-09-16T19:00:03.996490Z",
     "iopub.status.idle": "2021-09-16T19:00:04.012816Z",
     "shell.execute_reply": "2021-09-16T19:00:04.012490Z"
    },
    "tags": []
   },
   "outputs": [
    {
     "name": "stdout",
     "output_type": "stream",
     "text": [
      "Number of structures: 4684\n"
     ]
    }
   ],
   "source": [
    "n_structures = len(coordinates.index.get_level_values(\"structure.klifs_id\").unique())\n",
    "print(f\"Number of structures: {n_structures}\")"
   ]
  }
 ],
 "metadata": {
  "kernelspec": {
   "display_name": "Python 3 (ipykernel)",
   "language": "python",
   "name": "python3"
  },
  "language_info": {
   "codemirror_mode": {
    "name": "ipython",
    "version": 3
   },
   "file_extension": ".py",
   "mimetype": "text/x-python",
   "name": "python",
   "nbconvert_exporter": "python",
   "pygments_lexer": "ipython3",
   "version": "3.9.7"
  },
  "widgets": {
   "application/vnd.jupyter.widget-state+json": {
    "state": {
     "82745733e16347b7a48bb9612d9f054c": {
      "model_module": "nglview-js-widgets",
      "model_module_version": "3.0.1",
      "model_name": "ColormakerRegistryModel",
      "state": {
       "_dom_classes": [],
       "_model_module": "nglview-js-widgets",
       "_model_module_version": "3.0.1",
       "_model_name": "ColormakerRegistryModel",
       "_msg_ar": [],
       "_msg_q": [],
       "_ready": false,
       "_view_count": null,
       "_view_module": "nglview-js-widgets",
       "_view_module_version": "3.0.1",
       "_view_name": "ColormakerRegistryView",
       "layout": "IPY_MODEL_be04f359ac984a7281384d01aa773849"
      }
     },
     "be04f359ac984a7281384d01aa773849": {
      "model_module": "@jupyter-widgets/base",
      "model_module_version": "1.2.0",
      "model_name": "LayoutModel",
      "state": {
       "_model_module": "@jupyter-widgets/base",
       "_model_module_version": "1.2.0",
       "_model_name": "LayoutModel",
       "_view_count": null,
       "_view_module": "@jupyter-widgets/base",
       "_view_module_version": "1.2.0",
       "_view_name": "LayoutView",
       "align_content": null,
       "align_items": null,
       "align_self": null,
       "border": null,
       "bottom": null,
       "display": null,
       "flex": null,
       "flex_flow": null,
       "grid_area": null,
       "grid_auto_columns": null,
       "grid_auto_flow": null,
       "grid_auto_rows": null,
       "grid_column": null,
       "grid_gap": null,
       "grid_row": null,
       "grid_template_areas": null,
       "grid_template_columns": null,
       "grid_template_rows": null,
       "height": null,
       "justify_content": null,
       "justify_items": null,
       "left": null,
       "margin": null,
       "max_height": null,
       "max_width": null,
       "min_height": null,
       "min_width": null,
       "object_fit": null,
       "object_position": null,
       "order": null,
       "overflow": null,
       "overflow_x": null,
       "overflow_y": null,
       "padding": null,
       "right": null,
       "top": null,
       "visibility": null,
       "width": null
      }
     }
    },
    "version_major": 2,
    "version_minor": 0
   }
  }
 },
 "nbformat": 4,
 "nbformat_minor": 4
}
