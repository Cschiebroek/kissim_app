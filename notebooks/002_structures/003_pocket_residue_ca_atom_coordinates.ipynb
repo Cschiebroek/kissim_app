{
 "cells": [
  {
   "cell_type": "markdown",
   "metadata": {},
   "source": [
    "# Extract pocket residue CA atom coordinates\n",
    "\n",
    "We extract the coordinates for all pockets' residue CA atoms to be used in other notebooks."
   ]
  },
  {
   "cell_type": "code",
   "execution_count": 1,
   "metadata": {},
   "outputs": [],
   "source": [
    "%load_ext autoreload\n",
    "%autoreload 2"
   ]
  },
  {
   "cell_type": "code",
   "execution_count": 2,
   "metadata": {},
   "outputs": [
    {
     "data": {
      "application/vnd.jupyter.widget-view+json": {
       "model_id": "fab4b86d97524062a77e70725ee05b60",
       "version_major": 2,
       "version_minor": 0
      },
      "text/plain": []
     },
     "metadata": {},
     "output_type": "display_data"
    }
   ],
   "source": [
    "from pathlib import Path\n",
    "\n",
    "import pandas as pd\n",
    "from opencadd.databases.klifs import setup_local\n",
    "from kissim.io import PocketDataFrame"
   ]
  },
  {
   "cell_type": "code",
   "execution_count": 3,
   "metadata": {},
   "outputs": [],
   "source": [
    "HERE = Path(_dh[-1])  # noqa: F821\n",
    "DATA = HERE / \"../../data/\"\n",
    "RESULTS = HERE / \"../../results/\""
   ]
  },
  {
   "cell_type": "code",
   "execution_count": 4,
   "metadata": {},
   "outputs": [
    {
     "name": "stdout",
     "output_type": "stream",
     "text": [
      "Number of structures: 11693\n"
     ]
    }
   ],
   "source": [
    "try:\n",
    "    LOCAL = setup_local(DATA / \"external/structures/20210630_KLIFS_HUMAN\")\n",
    "except FileNotFoundError:\n",
    "    # Use this KLIFS dataset for CI\n",
    "    LOCAL = setup_local(DATA / \"external/structures/20201223_KLIFS_HUMAN_ABL2\")\n",
    "\n",
    "print(f\"Number of structures: {len(LOCAL._database)}\")"
   ]
  },
  {
   "cell_type": "markdown",
   "metadata": {},
   "source": [
    "## Load structure KLIFS IDs of interest\n",
    "\n",
    "Let's load our pre-calculated fingerprint saved in a _json_ file as `FingerprintGenerator` object."
   ]
  },
  {
   "cell_type": "code",
   "execution_count": 5,
   "metadata": {},
   "outputs": [
    {
     "name": "stdout",
     "output_type": "stream",
     "text": [
      "Number of structures: 5265\n"
     ]
    }
   ],
   "source": [
    "structure_klifs_ids = pd.read_csv(\n",
    "    DATA / \"processed/structure_klifs_ids.txt\", squeeze=True, header=None\n",
    ").to_list()\n",
    "print(f\"Number of structures: {len(structure_klifs_ids)}\")"
   ]
  },
  {
   "cell_type": "markdown",
   "metadata": {},
   "source": [
    "## Extract pocket residue CA atom coordinates"
   ]
  },
  {
   "cell_type": "code",
   "execution_count": 6,
   "metadata": {},
   "outputs": [],
   "source": [
    "def pocket_residue_ca_atom_coordinates(structure_klifs_ids, klifs_session):\n",
    "\n",
    "    coordinates = []\n",
    "\n",
    "    for structure_klifs_id in structure_klifs_ids:\n",
    "        pocket = PocketDataFrame.from_structure_klifs_id(structure_klifs_id, klifs_session)\n",
    "        if pocket is not None:\n",
    "            ca_atoms = pocket.residues.dropna().merge(\n",
    "                pocket.ca_atoms, how=\"left\", on=[\"residue.id\"]\n",
    "            )\n",
    "            ca_atoms[\"structure.klifs_id\"] = structure_klifs_id\n",
    "            ca_atoms = ca_atoms.set_index(\n",
    "                [\"structure.klifs_id\", \"residue.ix\"],\n",
    "            )[[\"atom.x\", \"atom.y\", \"atom.z\"]]\n",
    "            coordinates.append(ca_atoms)\n",
    "\n",
    "    coordinates = pd.concat(coordinates)\n",
    "    return coordinates"
   ]
  },
  {
   "cell_type": "code",
   "execution_count": 10,
   "metadata": {},
   "outputs": [
    {
     "name": "stderr",
     "output_type": "stream",
     "text": [
      "10429: Structure KLIFS ID unknown to local session. (ValueError: Input values yield no results.)\n",
      "6656: Structure KLIFS ID unknown to local session. (ValueError: Input values yield no results.)\n",
      "1987: Structure KLIFS ID unknown to local session. (ValueError: Input values yield no results.)\n",
      "7362: Structure KLIFS ID unknown to local session. (ValueError: Input values yield no results.)\n",
      "5454: Structure KLIFS ID unknown to local session. (ValueError: Input values yield no results.)\n",
      "5458: Structure KLIFS ID unknown to local session. (ValueError: Input values yield no results.)\n",
      "10737: Structure KLIFS ID unknown to local session. (ValueError: Input values yield no results.)\n",
      "1940: Structure KLIFS ID unknown to local session. (ValueError: Input values yield no results.)\n",
      "3544: Structure KLIFS ID unknown to local session. (ValueError: Input values yield no results.)\n",
      "The following structure could not be loaded into kissim: 1243: Length of values (1284) does not match length of index (1313)\n",
      "13042: Local complex.pdb or pocket.pdb file missing: /home/dominique/Documents/GitHub/kissim_app/notebooks/structures/../../data/external/structures/20210630_KLIFS_HUMAN/HUMAN/GPRK5/6pjx_altA_chainA/complex.pdb\n",
      "8272: Structure KLIFS ID unknown to local session. (ValueError: Input values yield no results.)\n",
      "6772: Structure KLIFS ID unknown to local session. (ValueError: Input values yield no results.)\n",
      "The following structure could not be loaded into kissim: 13623: Length of values (991) does not match length of index (1461)\n",
      "The following structure could not be loaded into kissim: 13625: Length of values (991) does not match length of index (1461)\n",
      "The following structure could not be loaded into kissim: 13626: Length of values (562) does not match length of index (1367)\n",
      "The following structure could not be loaded into kissim: 13624: Length of values (991) does not match length of index (1461)\n",
      "7962: Structure KLIFS ID unknown to local session. (ValueError: Input values yield no results.)\n",
      "10564: Structure KLIFS ID unknown to local session. (ValueError: Input values yield no results.)\n",
      "6320: Structure KLIFS ID unknown to local session. (ValueError: Input values yield no results.)\n",
      "7421: Structure KLIFS ID unknown to local session. (ValueError: Input values yield no results.)\n",
      "9494: Structure KLIFS ID unknown to local session. (ValueError: Input values yield no results.)\n",
      "7143: Structure KLIFS ID unknown to local session. (ValueError: Input values yield no results.)\n"
     ]
    },
    {
     "name": "stdout",
     "output_type": "stream",
     "text": [
      "CPU times: user 16min 36s, sys: 864 ms, total: 16min 37s\n",
      "Wall time: 16min 37s\n"
     ]
    }
   ],
   "source": [
    "%time coordinates = pocket_residue_ca_atom_coordinates(structure_klifs_ids, LOCAL)  # noqa: E501"
   ]
  },
  {
   "cell_type": "markdown",
   "metadata": {},
   "source": [
    "## Save coordinates"
   ]
  },
  {
   "cell_type": "code",
   "execution_count": 11,
   "metadata": {},
   "outputs": [],
   "source": [
    "coordinates.to_csv(  # noqa: F821\n",
    "    DATA / \"processed/pocket_residue_ca_atom_coordinates.csv.gz\", compression=\"gzip\"\n",
    ")"
   ]
  },
  {
   "cell_type": "markdown",
   "metadata": {},
   "source": [
    "## Load coordinates"
   ]
  },
  {
   "cell_type": "code",
   "execution_count": 12,
   "metadata": {},
   "outputs": [
    {
     "data": {
      "text/html": [
       "<div>\n",
       "<style scoped>\n",
       "    .dataframe tbody tr th:only-of-type {\n",
       "        vertical-align: middle;\n",
       "    }\n",
       "\n",
       "    .dataframe tbody tr th {\n",
       "        vertical-align: top;\n",
       "    }\n",
       "\n",
       "    .dataframe thead th {\n",
       "        text-align: right;\n",
       "    }\n",
       "</style>\n",
       "<table border=\"1\" class=\"dataframe\">\n",
       "  <thead>\n",
       "    <tr style=\"text-align: right;\">\n",
       "      <th></th>\n",
       "      <th></th>\n",
       "      <th>atom.x</th>\n",
       "      <th>atom.y</th>\n",
       "      <th>atom.z</th>\n",
       "    </tr>\n",
       "    <tr>\n",
       "      <th>structure.klifs_id</th>\n",
       "      <th>residue.ix</th>\n",
       "      <th></th>\n",
       "      <th></th>\n",
       "      <th></th>\n",
       "    </tr>\n",
       "  </thead>\n",
       "  <tbody>\n",
       "    <tr>\n",
       "      <th rowspan=\"5\" valign=\"top\">3833</th>\n",
       "      <th>1</th>\n",
       "      <td>6.052</td>\n",
       "      <td>14.970</td>\n",
       "      <td>51.859</td>\n",
       "    </tr>\n",
       "    <tr>\n",
       "      <th>2</th>\n",
       "      <td>6.264</td>\n",
       "      <td>13.245</td>\n",
       "      <td>48.484</td>\n",
       "    </tr>\n",
       "    <tr>\n",
       "      <th>3</th>\n",
       "      <td>2.951</td>\n",
       "      <td>13.925</td>\n",
       "      <td>46.609</td>\n",
       "    </tr>\n",
       "    <tr>\n",
       "      <th>4</th>\n",
       "      <td>3.487</td>\n",
       "      <td>11.680</td>\n",
       "      <td>43.579</td>\n",
       "    </tr>\n",
       "    <tr>\n",
       "      <th>5</th>\n",
       "      <td>6.188</td>\n",
       "      <td>10.086</td>\n",
       "      <td>41.434</td>\n",
       "    </tr>\n",
       "    <tr>\n",
       "      <th>...</th>\n",
       "      <th>...</th>\n",
       "      <td>...</td>\n",
       "      <td>...</td>\n",
       "      <td>...</td>\n",
       "    </tr>\n",
       "    <tr>\n",
       "      <th rowspan=\"5\" valign=\"top\">7219</th>\n",
       "      <th>81</th>\n",
       "      <td>2.003</td>\n",
       "      <td>19.768</td>\n",
       "      <td>33.851</td>\n",
       "    </tr>\n",
       "    <tr>\n",
       "      <th>82</th>\n",
       "      <td>3.749</td>\n",
       "      <td>21.637</td>\n",
       "      <td>31.096</td>\n",
       "    </tr>\n",
       "    <tr>\n",
       "      <th>83</th>\n",
       "      <td>6.670</td>\n",
       "      <td>19.352</td>\n",
       "      <td>30.231</td>\n",
       "    </tr>\n",
       "    <tr>\n",
       "      <th>84</th>\n",
       "      <td>5.273</td>\n",
       "      <td>17.350</td>\n",
       "      <td>27.325</td>\n",
       "    </tr>\n",
       "    <tr>\n",
       "      <th>85</th>\n",
       "      <td>3.514</td>\n",
       "      <td>20.317</td>\n",
       "      <td>25.770</td>\n",
       "    </tr>\n",
       "  </tbody>\n",
       "</table>\n",
       "<p>438620 rows × 3 columns</p>\n",
       "</div>"
      ],
      "text/plain": [
       "                               atom.x  atom.y  atom.z\n",
       "structure.klifs_id residue.ix                        \n",
       "3833               1            6.052  14.970  51.859\n",
       "                   2            6.264  13.245  48.484\n",
       "                   3            2.951  13.925  46.609\n",
       "                   4            3.487  11.680  43.579\n",
       "                   5            6.188  10.086  41.434\n",
       "...                               ...     ...     ...\n",
       "7219               81           2.003  19.768  33.851\n",
       "                   82           3.749  21.637  31.096\n",
       "                   83           6.670  19.352  30.231\n",
       "                   84           5.273  17.350  27.325\n",
       "                   85           3.514  20.317  25.770\n",
       "\n",
       "[438620 rows x 3 columns]"
      ]
     },
     "execution_count": 12,
     "metadata": {},
     "output_type": "execute_result"
    }
   ],
   "source": [
    "coordinates = pd.read_csv(\n",
    "    DATA / \"processed/pocket_residue_ca_atom_coordinates.csv.gz\",\n",
    "    header=0,\n",
    "    index_col=[0, 1],\n",
    ")\n",
    "coordinates"
   ]
  },
  {
   "cell_type": "code",
   "execution_count": 13,
   "metadata": {},
   "outputs": [
    {
     "name": "stdout",
     "output_type": "stream",
     "text": [
      "Number of structures: 5242\n"
     ]
    }
   ],
   "source": [
    "n_structures = len(coordinates.index.get_level_values(\"structure.klifs_id\").unique())\n",
    "print(f\"Number of structures: {n_structures}\")"
   ]
  }
 ],
 "metadata": {
  "kernelspec": {
   "display_name": "Python 3",
   "language": "python",
   "name": "python3"
  },
  "language_info": {
   "codemirror_mode": {
    "name": "ipython",
    "version": 3
   },
   "file_extension": ".py",
   "mimetype": "text/x-python",
   "name": "python",
   "nbconvert_exporter": "python",
   "pygments_lexer": "ipython3",
   "version": "3.9.5"
  },
  "widgets": {
   "application/vnd.jupyter.widget-state+json": {
    "state": {
     "dae2cad5915245a4aa8dce2cb52b8092": {
      "model_module": "@jupyter-widgets/base",
      "model_module_version": "1.2.0",
      "model_name": "LayoutModel",
      "state": {}
     },
     "fab4b86d97524062a77e70725ee05b60": {
      "model_module": "nglview-js-widgets",
      "model_module_version": "3.0.1",
      "model_name": "ColormakerRegistryModel",
      "state": {
       "_msg_ar": [],
       "_msg_q": [],
       "_ready": true,
       "layout": "IPY_MODEL_dae2cad5915245a4aa8dce2cb52b8092"
      }
     }
    },
    "version_major": 2,
    "version_minor": 0
   }
  }
 },
 "nbformat": 4,
 "nbformat_minor": 4
}
