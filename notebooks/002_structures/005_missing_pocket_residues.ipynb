{
 "cells": [
  {
   "cell_type": "markdown",
   "id": "fcb366ab-a832-4f51-a8f5-87214c8f07c9",
   "metadata": {},
   "source": [
    "# Missing residues\n",
    "\n",
    "We check the number and position of missing residues in kinase structures (fetched from KLIFS)."
   ]
  },
  {
   "cell_type": "code",
   "execution_count": 1,
   "id": "44152ed9-33c9-4fee-a22d-f24906177ead",
   "metadata": {},
   "outputs": [],
   "source": [
    "from opencadd.databases.klifs import setup_remote"
   ]
  },
  {
   "cell_type": "code",
   "execution_count": 2,
   "id": "0a1fc34b-9634-46f2-b6a0-6d9504f12d5a",
   "metadata": {},
   "outputs": [],
   "source": [
    "klifs_session = setup_remote()"
   ]
  },
  {
   "cell_type": "code",
   "execution_count": 3,
   "id": "e73ef44a-8d66-4e5d-a7b1-c39c2267468b",
   "metadata": {},
   "outputs": [
    {
     "name": "stdout",
     "output_type": "stream",
     "text": [
      "(12518, 41)\n",
      "(11842, 41)\n"
     ]
    }
   ],
   "source": [
    "structures = klifs_session.structures.all_structures()\n",
    "print(structures.shape)\n",
    "print(structures[structures[\"species.klifs\"] == \"Human\"].shape)"
   ]
  },
  {
   "cell_type": "markdown",
   "id": "df642c47-9dd7-4346-a46a-2ddfcb1dfc8f",
   "metadata": {},
   "source": [
    "## Number of missing residues per structure"
   ]
  },
  {
   "cell_type": "code",
   "execution_count": 4,
   "id": "e4510eb6-d2a3-41e6-8d2d-2e76594622ac",
   "metadata": {},
   "outputs": [
    {
     "data": {
      "image/png": "[encoded data removed]",
      "text/plain": [
       "<Figure size 432x288 with 1 Axes>"
      ]
     },
     "metadata": {
      "needs_background": "light"
     },
     "output_type": "display_data"
    }
   ],
   "source": [
    "structure_pockets = structures[\"structure.pocket\"]\n",
    "structure_pockets.str.count(\"_\").value_counts().sort_index().plot(kind=\"bar\");"
   ]
  },
  {
   "cell_type": "markdown",
   "id": "ab313325-bb81-4123-9d7f-107bef728080",
   "metadata": {},
   "source": [
    "## Number of missing residues per structure filtered by KLIFS quality score"
   ]
  },
  {
   "cell_type": "code",
   "execution_count": 5,
   "id": "36a342dc-c274-418b-a346-53dc7afa6df7",
   "metadata": {},
   "outputs": [
    {
     "name": "stdout",
     "output_type": "stream",
     "text": [
      "(11924, 41)\n",
      "(11276, 41)\n"
     ]
    }
   ],
   "source": [
    "structures_filtered = structures[structures[\"structure.qualityscore\"] >= 6]\n",
    "print(structures_filtered.shape)\n",
    "print(structures_filtered[structures_filtered[\"species.klifs\"] == \"Human\"].shape)"
   ]
  },
  {
   "cell_type": "code",
   "execution_count": 6,
   "id": "0ca92059-c0a6-4857-991b-792500aa84d9",
   "metadata": {},
   "outputs": [
    {
     "data": {
      "image/png": "[encoded data removed]",
      "text/plain": [
       "<Figure size 432x288 with 1 Axes>"
      ]
     },
     "metadata": {
      "needs_background": "light"
     },
     "output_type": "display_data"
    }
   ],
   "source": [
    "structure_pockets = structures_filtered[\"structure.pocket\"]\n",
    "structure_pockets.str.count(\"_\").value_counts().sort_index().plot(kind=\"bar\");"
   ]
  },
  {
   "cell_type": "markdown",
   "id": "4386ae9f-0272-4c3e-b384-59e6d83ddb95",
   "metadata": {},
   "source": [
    "## Number of missing residues per structure and position"
   ]
  },
  {
   "cell_type": "code",
   "execution_count": 7,
   "id": "a2d657a1-3d4f-4fa3-9689-0c659ff574a2",
   "metadata": {},
   "outputs": [],
   "source": [
    "def missing_residue_positions(pocket_sequence):\n",
    "    try:\n",
    "        return pocket_sequence.index(\"_\")\n",
    "    except ValueError:\n",
    "        return None"
   ]
  },
  {
   "cell_type": "code",
   "execution_count": 8,
   "id": "b6e30a48-3541-4a93-88bf-1eedb49816f3",
   "metadata": {},
   "outputs": [
    {
     "data": {
      "image/png": "[encoded data removed]",
      "text/plain": [
       "<Figure size 432x288 with 1 Axes>"
      ]
     },
     "metadata": {
      "needs_background": "light"
     },
     "output_type": "display_data"
    }
   ],
   "source": [
    "missing_residues_per_position = (\n",
    "    structure_pockets.apply(missing_residue_positions).dropna().value_counts().sort_index()\n",
    ")\n",
    "missing_residues_per_position.index = [int(i) + 1 for i in missing_residues_per_position.index]\n",
    "missing_residues_per_position.plot(kind=\"bar\");"
   ]
  }
 ],
 "metadata": {
  "kernelspec": {
   "display_name": "Python 3",
   "language": "python",
   "name": "python3"
  },
  "language_info": {
   "codemirror_mode": {
    "name": "ipython",
    "version": 3
   },
   "file_extension": ".py",
   "mimetype": "text/x-python",
   "name": "python",
   "nbconvert_exporter": "python",
   "pygments_lexer": "ipython3",
   "version": "3.9.5"
  },
  "widgets": {
   "application/vnd.jupyter.widget-state+json": {
    "state": {},
    "version_major": 2,
    "version_minor": 0
   }
  }
 },
 "nbformat": 4,
 "nbformat_minor": 5
}
