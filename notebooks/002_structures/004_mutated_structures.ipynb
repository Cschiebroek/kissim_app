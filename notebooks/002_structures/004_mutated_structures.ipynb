{
 "cells": [
  {
   "cell_type": "markdown",
   "id": "8ade53e8-2455-41a5-a23e-0ef454f38a38",
   "metadata": {},
   "source": [
    "# KLIFS structures with mutated pockets\n",
    "\n",
    "Explore KLIFS structures with mutations in their pocket:\n",
    "- Number of structures with mutations\n",
    "- Distribution of number of mutations per structure\n",
    "- Number of mutations per KLIFS pocket position\n",
    "- Type of mutations\n",
    "- Type of mutations per KLIFS position"
   ]
  },
  {
   "cell_type": "code",
   "execution_count": 1,
   "id": "40b67520-2f83-4244-a95d-fcb2bd720f56",
   "metadata": {},
   "outputs": [],
   "source": [
    "import pandas as pd\n",
    "from opencadd.databases.klifs import setup_remote"
   ]
  },
  {
   "cell_type": "code",
   "execution_count": 2,
   "id": "b7851ee2-04b0-4df0-9e81-b327866abc0a",
   "metadata": {},
   "outputs": [],
   "source": [
    "klifs_session = setup_remote()"
   ]
  },
  {
   "cell_type": "markdown",
   "id": "2cc12947-1719-49a3-8b7f-1be659c20036",
   "metadata": {},
   "source": [
    "## Structures"
   ]
  },
  {
   "cell_type": "code",
   "execution_count": 3,
   "id": "b258a88c-34cd-4ce4-a194-5b7cdb534199",
   "metadata": {},
   "outputs": [],
   "source": [
    "structures = klifs_session.structures.all_structures()"
   ]
  },
  {
   "cell_type": "code",
   "execution_count": 4,
   "id": "f2cea9f6-59df-4bc8-885e-b7f54e8acfdc",
   "metadata": {},
   "outputs": [
    {
     "data": {
      "text/plain": [
       "(12572, 46)"
      ]
     },
     "execution_count": 4,
     "metadata": {},
     "output_type": "execute_result"
    }
   ],
   "source": [
    "structures.shape"
   ]
  },
  {
   "cell_type": "markdown",
   "id": "c7641894-aee4-4b38-be7d-a0bd22343e60",
   "metadata": {},
   "source": [
    "## Kinases"
   ]
  },
  {
   "cell_type": "code",
   "execution_count": 5,
   "id": "45e015ab-82c8-4dcd-8a68-a60c09d70fdc",
   "metadata": {},
   "outputs": [],
   "source": [
    "kinases_short = klifs_session.kinases.all_kinases()"
   ]
  },
  {
   "cell_type": "code",
   "execution_count": 6,
   "id": "506ad7fa-3cfc-41c2-9e8b-b952ac371e0f",
   "metadata": {},
   "outputs": [],
   "source": [
    "kinases = klifs_session.kinases.by_kinase_klifs_id(kinases_short[\"kinase.klifs_id\"].to_list())"
   ]
  },
  {
   "cell_type": "markdown",
   "id": "246d72b8-9455-4ffc-8732-b503f847ce41",
   "metadata": {},
   "source": [
    "## Structure and kinase pocket sequence"
   ]
  },
  {
   "cell_type": "code",
   "execution_count": 7,
   "id": "ad259559-b20b-43a7-825e-77a6fe3d4015",
   "metadata": {},
   "outputs": [],
   "source": [
    "structure_kinase_sequence = pd.merge(\n",
    "    structures[[\"structure.klifs_id\", \"kinase.klifs_id\", \"kinase.klifs_name\", \"structure.pocket\"]],\n",
    "    kinases[[\"kinase.klifs_id\", \"kinase.pocket\"]],\n",
    ")"
   ]
  },
  {
   "cell_type": "markdown",
   "id": "5e5fb8d5-8520-4f58-95c7-d0d4d3339b66",
   "metadata": {},
   "source": [
    "## Mutations in pockets"
   ]
  },
  {
   "cell_type": "code",
   "execution_count": 8,
   "id": "f5c2d389-31dc-47c4-b1e2-aa71ee4518dc",
   "metadata": {},
   "outputs": [],
   "source": [
    "def get_mutations(structure_seq, kinase_seq):\n",
    "\n",
    "    sequences = pd.DataFrame(\n",
    "        [list(structure_seq), list(kinase_seq)], index=[\"structure\", \"kinase\"]\n",
    "    ).transpose()\n",
    "    sequences.index = sequences.index + 1\n",
    "    sequences = sequences[sequences.apply(lambda x: x[\"structure\"] != \"_\", axis=1)]\n",
    "    sequences = sequences[sequences.apply(lambda x: x[\"kinase\"] != \"-\", axis=1)]\n",
    "\n",
    "    mutations = sequences[sequences.apply(lambda x: x[\"structure\"] != x[\"kinase\"], axis=1)]\n",
    "    return mutations"
   ]
  },
  {
   "cell_type": "code",
   "execution_count": 9,
   "id": "7eb8e55d-b9ad-4e13-9917-762d0bfecf1c",
   "metadata": {},
   "outputs": [
    {
     "name": "stdout",
     "output_type": "stream",
     "text": [
      "Number of structures to iterate over: 12572\n",
      "CPU times: user 59.2 s, sys: 2.14 ms, total: 59.2 s\n",
      "Wall time: 59.1 s\n"
     ]
    },
    {
     "data": {
      "text/html": [
       "<div>\n",
       "<style scoped>\n",
       "    .dataframe tbody tr th:only-of-type {\n",
       "        vertical-align: middle;\n",
       "    }\n",
       "\n",
       "    .dataframe tbody tr th {\n",
       "        vertical-align: top;\n",
       "    }\n",
       "\n",
       "    .dataframe thead th {\n",
       "        text-align: right;\n",
       "    }\n",
       "</style>\n",
       "<table border=\"1\" class=\"dataframe\">\n",
       "  <thead>\n",
       "    <tr style=\"text-align: right;\">\n",
       "      <th></th>\n",
       "      <th></th>\n",
       "      <th>structure</th>\n",
       "      <th>kinase</th>\n",
       "    </tr>\n",
       "    <tr>\n",
       "      <th>structure_klifs_id</th>\n",
       "      <th>residue_klifs_id</th>\n",
       "      <th></th>\n",
       "      <th></th>\n",
       "    </tr>\n",
       "  </thead>\n",
       "  <tbody>\n",
       "    <tr>\n",
       "      <th>9869</th>\n",
       "      <th>25</th>\n",
       "      <td>S</td>\n",
       "      <td>N</td>\n",
       "    </tr>\n",
       "    <tr>\n",
       "      <th>9868</th>\n",
       "      <th>25</th>\n",
       "      <td>S</td>\n",
       "      <td>N</td>\n",
       "    </tr>\n",
       "    <tr>\n",
       "      <th>3276</th>\n",
       "      <th>63</th>\n",
       "      <td>H</td>\n",
       "      <td>R</td>\n",
       "    </tr>\n",
       "    <tr>\n",
       "      <th>3275</th>\n",
       "      <th>63</th>\n",
       "      <td>H</td>\n",
       "      <td>R</td>\n",
       "    </tr>\n",
       "    <tr>\n",
       "      <th>13042</th>\n",
       "      <th>63</th>\n",
       "      <td>H</td>\n",
       "      <td>R</td>\n",
       "    </tr>\n",
       "    <tr>\n",
       "      <th>...</th>\n",
       "      <th>...</th>\n",
       "      <td>...</td>\n",
       "      <td>...</td>\n",
       "    </tr>\n",
       "    <tr>\n",
       "      <th rowspan=\"5\" valign=\"top\">9070</th>\n",
       "      <th>54</th>\n",
       "      <td>R</td>\n",
       "      <td>D</td>\n",
       "    </tr>\n",
       "    <tr>\n",
       "      <th>55</th>\n",
       "      <td>D</td>\n",
       "      <td>Q</td>\n",
       "    </tr>\n",
       "    <tr>\n",
       "      <th>56</th>\n",
       "      <td>Q</td>\n",
       "      <td>L</td>\n",
       "    </tr>\n",
       "    <tr>\n",
       "      <th>57</th>\n",
       "      <td>L</td>\n",
       "      <td>G</td>\n",
       "    </tr>\n",
       "    <tr>\n",
       "      <th>58</th>\n",
       "      <td>G</td>\n",
       "      <td>R</td>\n",
       "    </tr>\n",
       "  </tbody>\n",
       "</table>\n",
       "<p>7390 rows × 2 columns</p>\n",
       "</div>"
      ],
      "text/plain": [
       "                                    structure kinase\n",
       "structure_klifs_id residue_klifs_id                 \n",
       "9869               25                       S      N\n",
       "9868               25                       S      N\n",
       "3276               63                       H      R\n",
       "3275               63                       H      R\n",
       "13042              63                       H      R\n",
       "...                                       ...    ...\n",
       "9070               54                       R      D\n",
       "                   55                       D      Q\n",
       "                   56                       Q      L\n",
       "                   57                       L      G\n",
       "                   58                       G      R\n",
       "\n",
       "[7390 rows x 2 columns]"
      ]
     },
     "execution_count": 9,
     "metadata": {},
     "output_type": "execute_result"
    }
   ],
   "source": [
    "%%time\n",
    "\n",
    "print(f\"Number of structures to iterate over: {structure_kinase_sequence.shape[0]}\")\n",
    "mutated_residues = []\n",
    "for structure_klifs_id, structure in structure_kinase_sequence.set_index(\n",
    "    \"structure.klifs_id\"\n",
    ").iterrows():\n",
    "    mutations = get_mutations(structure[\"structure.pocket\"], structure[\"kinase.pocket\"])\n",
    "    mutations[\"structure_klifs_id\"] = structure_klifs_id\n",
    "    if mutations.shape[0] > 0:\n",
    "        mutated_residues.append(mutations)\n",
    "\n",
    "mutated_residues = pd.concat(mutated_residues)\n",
    "mutated_residues.index.name = \"residue_klifs_id\"\n",
    "mutated_residues = mutated_residues.reset_index()\n",
    "mutated_residues = mutated_residues.set_index([\"structure_klifs_id\", \"residue_klifs_id\"])\n",
    "mutated_residues"
   ]
  },
  {
   "cell_type": "markdown",
   "id": "01544d5c-addb-4774-89e7-13399221bfcf",
   "metadata": {},
   "source": [
    "### Number of structures with mutations"
   ]
  },
  {
   "cell_type": "code",
   "execution_count": 10,
   "id": "210fb671-6e32-4dea-b7d8-0e3d01fdc678",
   "metadata": {},
   "outputs": [
    {
     "name": "stdout",
     "output_type": "stream",
     "text": [
      "Number of structures with mutations: 1843\n"
     ]
    }
   ],
   "source": [
    "structure_klifs_ids_with_mutation = mutated_residues.index.get_level_values(0).unique()\n",
    "print(f\"Number of structures with mutations: {len(structure_klifs_ids_with_mutation)}\")"
   ]
  },
  {
   "cell_type": "markdown",
   "id": "ba7ae487-d210-486f-9eab-aeac484cf955",
   "metadata": {},
   "source": [
    "### Distribution of number of mutations per structure"
   ]
  },
  {
   "cell_type": "code",
   "execution_count": 11,
   "id": "4556eac7-6344-46ff-8219-a40672250246",
   "metadata": {},
   "outputs": [],
   "source": [
    "n_mutations_per_structure = mutated_residues.groupby(\"structure_klifs_id\").size()"
   ]
  },
  {
   "cell_type": "code",
   "execution_count": 12,
   "id": "236f763c-1cdd-43b0-beb4-fcb01a7d3180",
   "metadata": {},
   "outputs": [
    {
     "data": {
      "image/png": "[encoded data removed]",
      "text/plain": [
       "<Figure size 432x288 with 1 Axes>"
      ]
     },
     "metadata": {
      "needs_background": "light"
     },
     "output_type": "display_data"
    }
   ],
   "source": [
    "n_structures_mutations = n_mutations_per_structure.value_counts()\n",
    "n_structures_mutations.name = \"n_structures\"\n",
    "n_structures_mutations.index.name = \"n_mutations\"\n",
    "n_structures_mutations = n_structures_mutations.sort_index().squeeze()\n",
    "\n",
    "n_structures_mutations.plot(kind=\"bar\");"
   ]
  },
  {
   "cell_type": "markdown",
   "id": "ecc36b06-eb11-4707-88d8-4a11e00709a8",
   "metadata": {},
   "source": [
    "### Number of mutations per KLIFS pocket position"
   ]
  },
  {
   "cell_type": "code",
   "execution_count": 13,
   "id": "333eb7e2-70e3-4383-9c48-0ebebc3869bf",
   "metadata": {},
   "outputs": [
    {
     "data": {
      "image/png": "[encoded data removed]",
      "text/plain": [
       "<Figure size 1080x360 with 1 Axes>"
      ]
     },
     "metadata": {
      "needs_background": "light"
     },
     "output_type": "display_data"
    }
   ],
   "source": [
    "n_mutations_per_residue = mutated_residues.reset_index()[\"residue_klifs_id\"].value_counts()\n",
    "n_mutations_per_residue.name = \"n_structures\"\n",
    "n_mutations_per_residue.index.name = \"residue_klifs_id\"\n",
    "n_mutations_per_residue = n_mutations_per_residue.sort_index().squeeze()\n",
    "\n",
    "n_mutations_per_residue.plot(kind=\"bar\", figsize=(15, 5));"
   ]
  },
  {
   "cell_type": "markdown",
   "id": "0467802e-7832-4e73-b16f-2c1901e3b3f2",
   "metadata": {},
   "source": [
    "### Type of mutations"
   ]
  },
  {
   "cell_type": "code",
   "execution_count": 14,
   "id": "f3a15a28-2a1a-496a-bc25-b3d0ea37ab74",
   "metadata": {},
   "outputs": [
    {
     "data": {
      "text/plain": [
       "structure  kinase\n",
       "M          T         343\n",
       "A          C         237\n",
       "N          D         204\n",
       "R          L         133\n",
       "L          V         117\n",
       "S          G         108\n",
       "I          V          95\n",
       "A          I          93\n",
       "L          K          91\n",
       "R          K          89\n",
       "L          M          86\n",
       "F          Y          84\n",
       "I          L          83\n",
       "D          L          78\n",
       "L          Y          77\n",
       "S          C          77\n",
       "M          L          74\n",
       "A          S          69\n",
       "F          L          69\n",
       "L          N          64\n",
       "N          L          63\n",
       "S          A          62\n",
       "K          L          62\n",
       "           S          62\n",
       "A          D          60\n",
       "L          F          58\n",
       "           D          57\n",
       "D          N          56\n",
       "V          L          55\n",
       "I          A          55\n",
       "dtype: int64"
      ]
     },
     "execution_count": 14,
     "metadata": {},
     "output_type": "execute_result"
    }
   ],
   "source": [
    "mutated_residues.groupby([\"structure\", \"kinase\"]).size().sort_values(ascending=False).head(30)"
   ]
  },
  {
   "cell_type": "markdown",
   "id": "148ac753-bba2-437e-8708-054d3e4f9968",
   "metadata": {},
   "source": [
    "### Type of mutations per KLIFS position"
   ]
  },
  {
   "cell_type": "code",
   "execution_count": 15,
   "id": "c61678a7-46a7-4378-afd4-d968a6839160",
   "metadata": {
    "tags": []
   },
   "outputs": [
    {
     "data": {
      "text/plain": [
       "residue_klifs_id  structure  kinase\n",
       "45                M          T         343\n",
       "70                N          D         190\n",
       "7                 A          C         185\n",
       "84                R          L          83\n",
       "59                A          I          74\n",
       "17                R          K          46\n",
       "45                M          L          44\n",
       "31                L          K          42\n",
       "84                I          F          42\n",
       "81                D          N          42\n",
       "80                S          G          42\n",
       "79                L          T          42\n",
       "32                S          L          42\n",
       "83                G          P          42\n",
       "30                K          S          42\n",
       "29                S          M          42\n",
       "85                S          I          42\n",
       "80                A          S          39\n",
       "36                I          V          39\n",
       "48                A          C          39\n",
       "52                S          E          39\n",
       "70                A          D          39\n",
       "28                L          N          39\n",
       "74                H          E          39\n",
       "47                L          Y          39\n",
       "82                Y          F          36\n",
       "83                S          G          36\n",
       "59                S          C          35\n",
       "60                F          Y          32\n",
       "45                L          M          29\n",
       "dtype: int64"
      ]
     },
     "execution_count": 15,
     "metadata": {},
     "output_type": "execute_result"
    }
   ],
   "source": [
    "mutated_residues.reset_index().groupby(\n",
    "    [\"residue_klifs_id\", \"structure\", \"kinase\"]\n",
    ").size().sort_values(ascending=False).head(30)"
   ]
  }
 ],
 "metadata": {
  "kernelspec": {
   "display_name": "Python 3 (ipykernel)",
   "language": "python",
   "name": "python3"
  },
  "language_info": {
   "codemirror_mode": {
    "name": "ipython",
    "version": 3
   },
   "file_extension": ".py",
   "mimetype": "text/x-python",
   "name": "python",
   "nbconvert_exporter": "python",
   "pygments_lexer": "ipython3",
   "version": "3.9.7"
  },
  "widgets": {
   "application/vnd.jupyter.widget-state+json": {
    "state": {},
    "version_major": 2,
    "version_minor": 0
   }
  }
 },
 "nbformat": 4,
 "nbformat_minor": 5
}
