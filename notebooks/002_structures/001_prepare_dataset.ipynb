{
 "cells": [
  {
   "cell_type": "markdown",
   "metadata": {},
   "source": [
    "# Data preparation and exploration\n",
    "\n",
    "We prepare the KLIFS dataset to be used for `kissim` encoding and comparison.\n",
    "\n",
    "- Fetch all structures in KLIFS (metadata).\n",
    "- Filter dataset by\n",
    "  - Species\n",
    "  - DFG conformation (optional)\n",
    "  - Resolution\n",
    "  - Quality score\n",
    "  - Best struture per kinase-PDB pair\n",
    "- Save the KLIFS structure IDs for the filtered dataset.\n",
    "\n",
    "__Note__: The KLIFS data is prepared only on the basis of the structures' metadata from KLIFS. Additional filtering will happen during fingerprint generation, where the actual structural data (coordiantes ect.) are used."
   ]
  },
  {
   "cell_type": "code",
   "execution_count": 1,
   "metadata": {},
   "outputs": [],
   "source": [
    "%load_ext autoreload\n",
    "%autoreload 2"
   ]
  },
  {
   "cell_type": "code",
   "execution_count": 2,
   "metadata": {},
   "outputs": [
    {
     "data": {
      "application/vnd.jupyter.widget-view+json": {
       "model_id": "22f28c2e89674be3bf4a52974a170227",
       "version_major": 2,
       "version_minor": 0
      },
      "text/plain": []
     },
     "metadata": {},
     "output_type": "display_data"
    }
   ],
   "source": [
    "from pathlib import Path\n",
    "import logging\n",
    "\n",
    "import pandas as pd\n",
    "from opencadd.databases.klifs import setup_remote\n",
    "\n",
    "from src.data.structures import filters, explorer"
   ]
  },
  {
   "cell_type": "code",
   "execution_count": 3,
   "metadata": {},
   "outputs": [],
   "source": [
    "logging.basicConfig(level=logging.INFO)\n",
    "pd.set_option(\"display.max_columns\", 50)"
   ]
  },
  {
   "cell_type": "code",
   "execution_count": 4,
   "metadata": {},
   "outputs": [],
   "source": [
    "SPECIES = \"Human\"\n",
    "DFG_CONFORMATION = \"in\"\n",
    "RESOLUTION_MAX = 4\n",
    "QUALITYSCORE_MIN = 4\n",
    "\n",
    "HERE = Path(_dh[-1])  # noqa: F821\n",
    "DATA = HERE / \"../../data/processed/\""
   ]
  },
  {
   "cell_type": "markdown",
   "metadata": {},
   "source": [
    "## Fetch structures (metadata)"
   ]
  },
  {
   "cell_type": "code",
   "execution_count": 5,
   "metadata": {},
   "outputs": [
    {
     "name": "stderr",
     "output_type": "stream",
     "text": [
      "INFO:opencadd.databases.klifs.api:Set up remote session...\n",
      "INFO:opencadd.databases.klifs.api:Remote session is ready!\n"
     ]
    }
   ],
   "source": [
    "remote = setup_remote()"
   ]
  },
  {
   "cell_type": "code",
   "execution_count": 6,
   "metadata": {},
   "outputs": [
    {
     "name": "stdout",
     "output_type": "stream",
     "text": [
      "(12408, 41)\n"
     ]
    },
    {
     "data": {
      "text/html": [
       "<div>\n",
       "<style scoped>\n",
       "    .dataframe tbody tr th:only-of-type {\n",
       "        vertical-align: middle;\n",
       "    }\n",
       "\n",
       "    .dataframe tbody tr th {\n",
       "        vertical-align: top;\n",
       "    }\n",
       "\n",
       "    .dataframe thead th {\n",
       "        text-align: right;\n",
       "    }\n",
       "</style>\n",
       "<table border=\"1\" class=\"dataframe\">\n",
       "  <thead>\n",
       "    <tr style=\"text-align: right;\">\n",
       "      <th></th>\n",
       "      <th>structure.klifs_id</th>\n",
       "      <th>structure.pdb_id</th>\n",
       "      <th>structure.alternate_model</th>\n",
       "      <th>structure.chain</th>\n",
       "      <th>species.klifs</th>\n",
       "      <th>kinase.klifs_id</th>\n",
       "      <th>kinase.klifs_name</th>\n",
       "      <th>kinase.family</th>\n",
       "      <th>kinase.group</th>\n",
       "      <th>structure.pocket</th>\n",
       "      <th>ligand.expo_id</th>\n",
       "      <th>ligand_allosteric.expo_id</th>\n",
       "      <th>ligand.name</th>\n",
       "      <th>ligand_allosteric.name</th>\n",
       "      <th>structure.dfg</th>\n",
       "      <th>structure.ac_helix</th>\n",
       "      <th>structure.resolution</th>\n",
       "      <th>structure.qualityscore</th>\n",
       "      <th>structure.missing_residues</th>\n",
       "      <th>structure.missing_atoms</th>\n",
       "      <th>structure.rmsd1</th>\n",
       "      <th>structure.rmsd2</th>\n",
       "      <th>structure.front</th>\n",
       "      <th>structure.gate</th>\n",
       "      <th>structure.back</th>\n",
       "      <th>structure.fp_i</th>\n",
       "      <th>structure.fp_ii</th>\n",
       "      <th>structure.bp_i_a</th>\n",
       "      <th>structure.bp_i_b</th>\n",
       "      <th>structure.bp_ii_in</th>\n",
       "      <th>structure.bp_ii_a_in</th>\n",
       "      <th>structure.bp_ii_b_in</th>\n",
       "      <th>structure.bp_ii_out</th>\n",
       "      <th>structure.bp_ii_b</th>\n",
       "      <th>structure.bp_iii</th>\n",
       "      <th>structure.bp_iv</th>\n",
       "      <th>structure.bp_v</th>\n",
       "      <th>structure.grich_distance</th>\n",
       "      <th>structure.grich_angle</th>\n",
       "      <th>structure.grich_rotation</th>\n",
       "      <th>structure.filepath</th>\n",
       "    </tr>\n",
       "  </thead>\n",
       "  <tbody>\n",
       "    <tr>\n",
       "      <th>0</th>\n",
       "      <td>10439</td>\n",
       "      <td>6buu</td>\n",
       "      <td>B</td>\n",
       "      <td>B</td>\n",
       "      <td>Human</td>\n",
       "      <td>1</td>\n",
       "      <td>AKT1</td>\n",
       "      <td>&lt;NA&gt;</td>\n",
       "      <td>&lt;NA&gt;</td>\n",
       "      <td>KLLGKGTFGKVILYAMKILHTLTENRVLQNSRPFLTALKYSCFVME...</td>\n",
       "      <td>-</td>\n",
       "      <td>-</td>\n",
       "      <td>&lt;NA&gt;</td>\n",
       "      <td>&lt;NA&gt;</td>\n",
       "      <td>in</td>\n",
       "      <td>in</td>\n",
       "      <td>2.40</td>\n",
       "      <td>8.0</td>\n",
       "      <td>0</td>\n",
       "      <td>0</td>\n",
       "      <td>0.776</td>\n",
       "      <td>2.091</td>\n",
       "      <td>False</td>\n",
       "      <td>False</td>\n",
       "      <td>False</td>\n",
       "      <td>False</td>\n",
       "      <td>False</td>\n",
       "      <td>False</td>\n",
       "      <td>False</td>\n",
       "      <td>False</td>\n",
       "      <td>False</td>\n",
       "      <td>False</td>\n",
       "      <td>False</td>\n",
       "      <td>False</td>\n",
       "      <td>False</td>\n",
       "      <td>False</td>\n",
       "      <td>False</td>\n",
       "      <td>17.9011</td>\n",
       "      <td>59.594799</td>\n",
       "      <td>60.872501</td>\n",
       "      <td>&lt;NA&gt;</td>\n",
       "    </tr>\n",
       "    <tr>\n",
       "      <th>1</th>\n",
       "      <td>10429</td>\n",
       "      <td>6c0i</td>\n",
       "      <td>C</td>\n",
       "      <td>B</td>\n",
       "      <td>Human</td>\n",
       "      <td>1</td>\n",
       "      <td>AKT1</td>\n",
       "      <td>&lt;NA&gt;</td>\n",
       "      <td>&lt;NA&gt;</td>\n",
       "      <td>KLLGKGTFGKVILYAMKILHTLTENRVLQNSRPFLTALKYSCFVME...</td>\n",
       "      <td>-</td>\n",
       "      <td>-</td>\n",
       "      <td>&lt;NA&gt;</td>\n",
       "      <td>&lt;NA&gt;</td>\n",
       "      <td>in</td>\n",
       "      <td>in</td>\n",
       "      <td>2.40</td>\n",
       "      <td>8.0</td>\n",
       "      <td>0</td>\n",
       "      <td>0</td>\n",
       "      <td>0.776</td>\n",
       "      <td>2.091</td>\n",
       "      <td>False</td>\n",
       "      <td>False</td>\n",
       "      <td>False</td>\n",
       "      <td>False</td>\n",
       "      <td>False</td>\n",
       "      <td>False</td>\n",
       "      <td>False</td>\n",
       "      <td>False</td>\n",
       "      <td>False</td>\n",
       "      <td>False</td>\n",
       "      <td>False</td>\n",
       "      <td>False</td>\n",
       "      <td>False</td>\n",
       "      <td>False</td>\n",
       "      <td>False</td>\n",
       "      <td>17.9011</td>\n",
       "      <td>59.594799</td>\n",
       "      <td>60.872501</td>\n",
       "      <td>&lt;NA&gt;</td>\n",
       "    </tr>\n",
       "    <tr>\n",
       "      <th>2</th>\n",
       "      <td>10437</td>\n",
       "      <td>6c0i</td>\n",
       "      <td>B</td>\n",
       "      <td>B</td>\n",
       "      <td>Human</td>\n",
       "      <td>1</td>\n",
       "      <td>AKT1</td>\n",
       "      <td>&lt;NA&gt;</td>\n",
       "      <td>&lt;NA&gt;</td>\n",
       "      <td>KLLGKGTFGKVILYAMKILHTLTENRVLQNSRPFLTALKYSCFVME...</td>\n",
       "      <td>-</td>\n",
       "      <td>-</td>\n",
       "      <td>&lt;NA&gt;</td>\n",
       "      <td>&lt;NA&gt;</td>\n",
       "      <td>in</td>\n",
       "      <td>in</td>\n",
       "      <td>2.40</td>\n",
       "      <td>8.0</td>\n",
       "      <td>0</td>\n",
       "      <td>0</td>\n",
       "      <td>0.776</td>\n",
       "      <td>2.091</td>\n",
       "      <td>False</td>\n",
       "      <td>False</td>\n",
       "      <td>False</td>\n",
       "      <td>False</td>\n",
       "      <td>False</td>\n",
       "      <td>False</td>\n",
       "      <td>False</td>\n",
       "      <td>False</td>\n",
       "      <td>False</td>\n",
       "      <td>False</td>\n",
       "      <td>False</td>\n",
       "      <td>False</td>\n",
       "      <td>False</td>\n",
       "      <td>False</td>\n",
       "      <td>False</td>\n",
       "      <td>17.9011</td>\n",
       "      <td>59.594799</td>\n",
       "      <td>60.872501</td>\n",
       "      <td>&lt;NA&gt;</td>\n",
       "    </tr>\n",
       "    <tr>\n",
       "      <th>3</th>\n",
       "      <td>10882</td>\n",
       "      <td>6npz</td>\n",
       "      <td>B</td>\n",
       "      <td>A</td>\n",
       "      <td>Human</td>\n",
       "      <td>1</td>\n",
       "      <td>AKT1</td>\n",
       "      <td>&lt;NA&gt;</td>\n",
       "      <td>&lt;NA&gt;</td>\n",
       "      <td>KLLGKGTFGKVILYAMKILHTLTENRVLQNSRPFLTALKYSCFVME...</td>\n",
       "      <td>-</td>\n",
       "      <td>-</td>\n",
       "      <td>&lt;NA&gt;</td>\n",
       "      <td>&lt;NA&gt;</td>\n",
       "      <td>in</td>\n",
       "      <td>in</td>\n",
       "      <td>2.12</td>\n",
       "      <td>8.0</td>\n",
       "      <td>0</td>\n",
       "      <td>0</td>\n",
       "      <td>0.778</td>\n",
       "      <td>2.094</td>\n",
       "      <td>False</td>\n",
       "      <td>False</td>\n",
       "      <td>False</td>\n",
       "      <td>False</td>\n",
       "      <td>False</td>\n",
       "      <td>False</td>\n",
       "      <td>False</td>\n",
       "      <td>False</td>\n",
       "      <td>False</td>\n",
       "      <td>False</td>\n",
       "      <td>False</td>\n",
       "      <td>False</td>\n",
       "      <td>False</td>\n",
       "      <td>False</td>\n",
       "      <td>False</td>\n",
       "      <td>18.3634</td>\n",
       "      <td>62.727299</td>\n",
       "      <td>65.081703</td>\n",
       "      <td>&lt;NA&gt;</td>\n",
       "    </tr>\n",
       "    <tr>\n",
       "      <th>4</th>\n",
       "      <td>6762</td>\n",
       "      <td>3cqu</td>\n",
       "      <td>B</td>\n",
       "      <td>A</td>\n",
       "      <td>Human</td>\n",
       "      <td>1</td>\n",
       "      <td>AKT1</td>\n",
       "      <td>&lt;NA&gt;</td>\n",
       "      <td>&lt;NA&gt;</td>\n",
       "      <td>KLLGKGTFGKVILYAMKILHTLTENRVLQNSRPFLTALKYSCFVME...</td>\n",
       "      <td>CQU</td>\n",
       "      <td>-</td>\n",
       "      <td>&lt;NA&gt;</td>\n",
       "      <td>&lt;NA&gt;</td>\n",
       "      <td>in</td>\n",
       "      <td>in</td>\n",
       "      <td>2.20</td>\n",
       "      <td>8.0</td>\n",
       "      <td>0</td>\n",
       "      <td>0</td>\n",
       "      <td>0.783</td>\n",
       "      <td>2.104</td>\n",
       "      <td>True</td>\n",
       "      <td>False</td>\n",
       "      <td>False</td>\n",
       "      <td>False</td>\n",
       "      <td>False</td>\n",
       "      <td>False</td>\n",
       "      <td>False</td>\n",
       "      <td>False</td>\n",
       "      <td>False</td>\n",
       "      <td>False</td>\n",
       "      <td>False</td>\n",
       "      <td>False</td>\n",
       "      <td>False</td>\n",
       "      <td>False</td>\n",
       "      <td>False</td>\n",
       "      <td>16.4004</td>\n",
       "      <td>52.805099</td>\n",
       "      <td>47.165001</td>\n",
       "      <td>&lt;NA&gt;</td>\n",
       "    </tr>\n",
       "  </tbody>\n",
       "</table>\n",
       "</div>"
      ],
      "text/plain": [
       "   structure.klifs_id structure.pdb_id structure.alternate_model  \\\n",
       "0               10439             6buu                         B   \n",
       "1               10429             6c0i                         C   \n",
       "2               10437             6c0i                         B   \n",
       "3               10882             6npz                         B   \n",
       "4                6762             3cqu                         B   \n",
       "\n",
       "  structure.chain species.klifs  kinase.klifs_id kinase.klifs_name  \\\n",
       "0               B         Human                1              AKT1   \n",
       "1               B         Human                1              AKT1   \n",
       "2               B         Human                1              AKT1   \n",
       "3               A         Human                1              AKT1   \n",
       "4               A         Human                1              AKT1   \n",
       "\n",
       "  kinase.family kinase.group  \\\n",
       "0          <NA>         <NA>   \n",
       "1          <NA>         <NA>   \n",
       "2          <NA>         <NA>   \n",
       "3          <NA>         <NA>   \n",
       "4          <NA>         <NA>   \n",
       "\n",
       "                                    structure.pocket ligand.expo_id  \\\n",
       "0  KLLGKGTFGKVILYAMKILHTLTENRVLQNSRPFLTALKYSCFVME...              -   \n",
       "1  KLLGKGTFGKVILYAMKILHTLTENRVLQNSRPFLTALKYSCFVME...              -   \n",
       "2  KLLGKGTFGKVILYAMKILHTLTENRVLQNSRPFLTALKYSCFVME...              -   \n",
       "3  KLLGKGTFGKVILYAMKILHTLTENRVLQNSRPFLTALKYSCFVME...              -   \n",
       "4  KLLGKGTFGKVILYAMKILHTLTENRVLQNSRPFLTALKYSCFVME...            CQU   \n",
       "\n",
       "  ligand_allosteric.expo_id ligand.name ligand_allosteric.name structure.dfg  \\\n",
       "0                         -        <NA>                   <NA>            in   \n",
       "1                         -        <NA>                   <NA>            in   \n",
       "2                         -        <NA>                   <NA>            in   \n",
       "3                         -        <NA>                   <NA>            in   \n",
       "4                         -        <NA>                   <NA>            in   \n",
       "\n",
       "  structure.ac_helix  structure.resolution  structure.qualityscore  \\\n",
       "0                 in                  2.40                     8.0   \n",
       "1                 in                  2.40                     8.0   \n",
       "2                 in                  2.40                     8.0   \n",
       "3                 in                  2.12                     8.0   \n",
       "4                 in                  2.20                     8.0   \n",
       "\n",
       "   structure.missing_residues  structure.missing_atoms  structure.rmsd1  \\\n",
       "0                           0                        0            0.776   \n",
       "1                           0                        0            0.776   \n",
       "2                           0                        0            0.776   \n",
       "3                           0                        0            0.778   \n",
       "4                           0                        0            0.783   \n",
       "\n",
       "   structure.rmsd2  structure.front  structure.gate  structure.back  \\\n",
       "0            2.091            False           False           False   \n",
       "1            2.091            False           False           False   \n",
       "2            2.091            False           False           False   \n",
       "3            2.094            False           False           False   \n",
       "4            2.104             True           False           False   \n",
       "\n",
       "   structure.fp_i  structure.fp_ii  structure.bp_i_a  structure.bp_i_b  \\\n",
       "0           False            False             False             False   \n",
       "1           False            False             False             False   \n",
       "2           False            False             False             False   \n",
       "3           False            False             False             False   \n",
       "4           False            False             False             False   \n",
       "\n",
       "   structure.bp_ii_in  structure.bp_ii_a_in  structure.bp_ii_b_in  \\\n",
       "0               False                 False                 False   \n",
       "1               False                 False                 False   \n",
       "2               False                 False                 False   \n",
       "3               False                 False                 False   \n",
       "4               False                 False                 False   \n",
       "\n",
       "   structure.bp_ii_out  structure.bp_ii_b  structure.bp_iii  structure.bp_iv  \\\n",
       "0                False              False             False            False   \n",
       "1                False              False             False            False   \n",
       "2                False              False             False            False   \n",
       "3                False              False             False            False   \n",
       "4                False              False             False            False   \n",
       "\n",
       "   structure.bp_v  structure.grich_distance  structure.grich_angle  \\\n",
       "0           False                   17.9011              59.594799   \n",
       "1           False                   17.9011              59.594799   \n",
       "2           False                   17.9011              59.594799   \n",
       "3           False                   18.3634              62.727299   \n",
       "4           False                   16.4004              52.805099   \n",
       "\n",
       "   structure.grich_rotation structure.filepath  \n",
       "0                 60.872501               <NA>  \n",
       "1                 60.872501               <NA>  \n",
       "2                 60.872501               <NA>  \n",
       "3                 65.081703               <NA>  \n",
       "4                 47.165001               <NA>  "
      ]
     },
     "execution_count": 6,
     "metadata": {},
     "output_type": "execute_result"
    }
   ],
   "source": [
    "structures = remote.structures.all_structures()\n",
    "print(structures.shape)\n",
    "structures.head()"
   ]
  },
  {
   "cell_type": "markdown",
   "metadata": {},
   "source": [
    "## Explore structures in full dataset"
   ]
  },
  {
   "cell_type": "markdown",
   "metadata": {},
   "source": [
    "### Species, DFG/aC-helix conformations, ligand"
   ]
  },
  {
   "cell_type": "code",
   "execution_count": 7,
   "metadata": {},
   "outputs": [
    {
     "data": {
      "image/png": "[encoded data removed]",
      "text/plain": [
       "<Figure size 1080x216 with 4 Axes>"
      ]
     },
     "metadata": {},
     "output_type": "display_data"
    }
   ],
   "source": [
    "explorer.plot_important_categories(structures);"
   ]
  },
  {
   "cell_type": "markdown",
   "metadata": {},
   "source": [
    "### Resolution vs. quality score"
   ]
  },
  {
   "cell_type": "code",
   "execution_count": 8,
   "metadata": {},
   "outputs": [
    {
     "data": {
      "image/png": "[encoded data removed]",
      "text/plain": [
       "<Figure size 288x288 with 1 Axes>"
      ]
     },
     "metadata": {},
     "output_type": "display_data"
    }
   ],
   "source": [
    "explorer.plot_resolution_vs_qualityscore(structures);"
   ]
  },
  {
   "cell_type": "markdown",
   "metadata": {},
   "source": [
    "### Number of structures per kinase-PDB pair\n",
    "\n",
    "How many kinase-PDB pairs are represented by how many structures?"
   ]
  },
  {
   "cell_type": "code",
   "execution_count": 9,
   "metadata": {},
   "outputs": [
    {
     "data": {
      "image/png": "[encoded data removed]",
      "text/plain": [
       "<Figure size 576x396 with 1 Axes>"
      ]
     },
     "metadata": {},
     "output_type": "display_data"
    }
   ],
   "source": [
    "explorer.plot_number_of_structures_per_kinase_pdb_pair(structures);"
   ]
  },
  {
   "cell_type": "markdown",
   "metadata": {},
   "source": [
    "## Filter structures"
   ]
  },
  {
   "cell_type": "code",
   "execution_count": 10,
   "metadata": {},
   "outputs": [
    {
     "name": "stderr",
     "output_type": "stream",
     "text": [
      "INFO:src.data.structures.filters:make_copy                       12408 structures (-1 day, 23:59:59.993652s)\n",
      "INFO:src.data.structures.filters:select_species                  11743 structures (-1 day, 23:59:59.989406s)\n",
      "INFO:src.data.structures.filters:select_resolution               11454 structures (-1 day, 23:59:59.989592s)\n",
      "INFO:src.data.structures.filters:select_qualityscore             11364 structures (-1 day, 23:59:59.990364s)\n",
      "INFO:src.data.structures.filters:select_best_pdb_kinase_pairs     5265 structures (-1 day, 23:59:59.969790s)\n"
     ]
    }
   ],
   "source": [
    "structures_filtered = (\n",
    "    structures.pipe(filters.make_copy)\n",
    "    .pipe(filters.select_species, SPECIES)\n",
    "    # .pipe(filters.select_dfg, DFG_CONFORMATION)\n",
    "    .pipe(filters.select_resolution, RESOLUTION_MAX)\n",
    "    .pipe(filters.select_qualityscore, QUALITYSCORE_MIN)\n",
    "    .pipe(filters.select_best_pdb_kinase_pairs)\n",
    ")\n",
    "structures_filtered.reset_index(inplace=True, drop=True)"
   ]
  },
  {
   "cell_type": "markdown",
   "metadata": {},
   "source": [
    "## Save filtered structures"
   ]
  },
  {
   "cell_type": "code",
   "execution_count": 11,
   "metadata": {},
   "outputs": [],
   "source": [
    "structures_filtered[\"structure.klifs_id\"].to_csv(\n",
    "    DATA / \"structure_klifs_ids.txt\", index=None, header=None\n",
    ")"
   ]
  }
 ],
 "metadata": {
  "kernelspec": {
   "display_name": "Python 3",
   "language": "python",
   "name": "python3"
  },
  "language_info": {
   "codemirror_mode": {
    "name": "ipython",
    "version": 3
   },
   "file_extension": ".py",
   "mimetype": "text/x-python",
   "name": "python",
   "nbconvert_exporter": "python",
   "pygments_lexer": "ipython3",
   "version": "3.9.5"
  },
  "widgets": {
   "application/vnd.jupyter.widget-state+json": {
    "state": {},
    "version_major": 2,
    "version_minor": 0
   }
  }
 },
 "nbformat": 4,
 "nbformat_minor": 4
}
