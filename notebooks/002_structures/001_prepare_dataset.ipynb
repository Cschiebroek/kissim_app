{
 "cells": [
  {
   "cell_type": "markdown",
   "metadata": {},
   "source": [
    "# Data preparation and exploration\n",
    "\n",
    "We prepare the KLIFS dataset to be used for `kissim` encoding and comparison.\n",
    "\n",
    "- Fetch all structures in KLIFS (metadata).\n",
    "- Filter dataset by\n",
    "  - Species\n",
    "  - DFG conformation (optional)\n",
    "  - Resolution\n",
    "  - Quality score\n",
    "  - Maximum number of mutations in the pocket\n",
    "  - Maximum number of missing residues in the pocket (most will be caught by quality score already) \n",
    "  - Best struture per kinase-PDB pair\n",
    "- Save the KLIFS structure IDs for the filtered dataset.\n",
    "\n",
    "__Note__: The KLIFS data is prepared only on the basis of the structures' metadata from KLIFS. Additional filtering will happen during fingerprint generation, where the actual structural data (coordiantes ect.) are used."
   ]
  },
  {
   "cell_type": "code",
   "execution_count": 1,
   "metadata": {},
   "outputs": [],
   "source": [
    "%load_ext autoreload\n",
    "%autoreload 2"
   ]
  },
  {
   "cell_type": "code",
   "execution_count": 2,
   "metadata": {},
   "outputs": [
    {
     "data": {
      "application/vnd.jupyter.widget-view+json": {
       "model_id": "97374f2bd7fd455ca56afd416570939c",
       "version_major": 2,
       "version_minor": 0
      },
      "text/plain": []
     },
     "metadata": {},
     "output_type": "display_data"
    }
   ],
   "source": [
    "from pathlib import Path\n",
    "import logging\n",
    "\n",
    "import pandas as pd\n",
    "from opencadd.databases.klifs import setup_remote, setup_local\n",
    "\n",
    "from src.data.structures import filters, explorer"
   ]
  },
  {
   "cell_type": "code",
   "execution_count": 3,
   "metadata": {},
   "outputs": [],
   "source": [
    "logging.basicConfig(level=logging.INFO)\n",
    "pd.set_option(\"display.max_columns\", 50)"
   ]
  },
  {
   "cell_type": "code",
   "execution_count": 4,
   "metadata": {},
   "outputs": [],
   "source": [
    "SPECIES = \"Human\"\n",
    "RESOLUTION_MAX = 3\n",
    "QUALITYSCORE_MIN = 6\n",
    "N_ALLOWED_MUTATIONS = 3\n",
    "N_ALLOWED_MISSING_RESIDUES = 8\n",
    "\n",
    "HERE = Path(_dh[-1])  # noqa: F821\n",
    "DATA = HERE / \"../../data/\""
   ]
  },
  {
   "cell_type": "markdown",
   "metadata": {},
   "source": [
    "## Fetch structures (metadata)"
   ]
  },
  {
   "cell_type": "code",
   "execution_count": 5,
   "metadata": {},
   "outputs": [
    {
     "name": "stderr",
     "output_type": "stream",
     "text": [
      "INFO:opencadd.databases.klifs.api:Set up local session...\n",
      "INFO:opencadd.databases.klifs.local:Load overview.csv...\n",
      "INFO:opencadd.databases.klifs.local:Load KLIFS_export.csv...\n",
      "INFO:opencadd.databases.klifs.local:Merge both csv files...\n",
      "INFO:opencadd.databases.klifs.local:Add paths to coordinate folders to structures...\n",
      "INFO:opencadd.databases.klifs.local:Add KLIFS IDs to structures (uses remote since not available locally!)...\n",
      "INFO:opencadd.databases.klifs.api:Local session is ready!\n"
     ]
    },
    {
     "name": "stdout",
     "output_type": "stream",
     "text": [
      "(11693, 41)\n"
     ]
    },
    {
     "data": {
      "text/html": [
       "<div>\n",
       "<style scoped>\n",
       "    .dataframe tbody tr th:only-of-type {\n",
       "        vertical-align: middle;\n",
       "    }\n",
       "\n",
       "    .dataframe tbody tr th {\n",
       "        vertical-align: top;\n",
       "    }\n",
       "\n",
       "    .dataframe thead th {\n",
       "        text-align: right;\n",
       "    }\n",
       "</style>\n",
       "<table border=\"1\" class=\"dataframe\">\n",
       "  <thead>\n",
       "    <tr style=\"text-align: right;\">\n",
       "      <th></th>\n",
       "      <th>structure.klifs_id</th>\n",
       "      <th>structure.pdb_id</th>\n",
       "      <th>structure.alternate_model</th>\n",
       "      <th>structure.chain</th>\n",
       "      <th>species.klifs</th>\n",
       "      <th>kinase.klifs_id</th>\n",
       "      <th>kinase.klifs_name</th>\n",
       "      <th>kinase.family</th>\n",
       "      <th>kinase.group</th>\n",
       "      <th>structure.pocket</th>\n",
       "      <th>ligand.expo_id</th>\n",
       "      <th>ligand_allosteric.expo_id</th>\n",
       "      <th>ligand.name</th>\n",
       "      <th>ligand_allosteric.name</th>\n",
       "      <th>structure.dfg</th>\n",
       "      <th>structure.ac_helix</th>\n",
       "      <th>structure.resolution</th>\n",
       "      <th>structure.qualityscore</th>\n",
       "      <th>structure.missing_residues</th>\n",
       "      <th>structure.missing_atoms</th>\n",
       "      <th>structure.rmsd1</th>\n",
       "      <th>structure.rmsd2</th>\n",
       "      <th>structure.front</th>\n",
       "      <th>structure.gate</th>\n",
       "      <th>structure.back</th>\n",
       "      <th>structure.fp_i</th>\n",
       "      <th>structure.fp_ii</th>\n",
       "      <th>structure.bp_i_a</th>\n",
       "      <th>structure.bp_i_b</th>\n",
       "      <th>structure.bp_ii_in</th>\n",
       "      <th>structure.bp_ii_a_in</th>\n",
       "      <th>structure.bp_ii_b_in</th>\n",
       "      <th>structure.bp_ii_out</th>\n",
       "      <th>structure.bp_ii_b</th>\n",
       "      <th>structure.bp_iii</th>\n",
       "      <th>structure.bp_iv</th>\n",
       "      <th>structure.bp_v</th>\n",
       "      <th>structure.grich_distance</th>\n",
       "      <th>structure.grich_angle</th>\n",
       "      <th>structure.grich_rotation</th>\n",
       "      <th>structure.filepath</th>\n",
       "    </tr>\n",
       "  </thead>\n",
       "  <tbody>\n",
       "    <tr>\n",
       "      <th>0</th>\n",
       "      <td>1</td>\n",
       "      <td>3dko</td>\n",
       "      <td>A</td>\n",
       "      <td>A</td>\n",
       "      <td>Human</td>\n",
       "      <td>415</td>\n",
       "      <td>EphA7</td>\n",
       "      <td>Eph</td>\n",
       "      <td>TK</td>\n",
       "      <td>RVIGA_EFGEVCSVAIKTLDFLCEASIMGQFDPNVVHLEGVMIVIE...</td>\n",
       "      <td>IHZ</td>\n",
       "      <td>-</td>\n",
       "      <td>5-[(2-methyl-5-{[3-(trifluoromethyl)phenyl]car...</td>\n",
       "      <td>-</td>\n",
       "      <td>out</td>\n",
       "      <td>in</td>\n",
       "      <td>2.00</td>\n",
       "      <td>8.1</td>\n",
       "      <td>3</td>\n",
       "      <td>7</td>\n",
       "      <td>0.944</td>\n",
       "      <td>2.254</td>\n",
       "      <td>&lt;NA&gt;</td>\n",
       "      <td>&lt;NA&gt;</td>\n",
       "      <td>&lt;NA&gt;</td>\n",
       "      <td>False</td>\n",
       "      <td>False</td>\n",
       "      <td>True</td>\n",
       "      <td>True</td>\n",
       "      <td>False</td>\n",
       "      <td>False</td>\n",
       "      <td>False</td>\n",
       "      <td>True</td>\n",
       "      <td>False</td>\n",
       "      <td>True</td>\n",
       "      <td>False</td>\n",
       "      <td>False</td>\n",
       "      <td>NaN</td>\n",
       "      <td>NaN</td>\n",
       "      <td>NaN</td>\n",
       "      <td>HUMAN/EphA7/3dko_altA_chainA</td>\n",
       "    </tr>\n",
       "    <tr>\n",
       "      <th>1</th>\n",
       "      <td>3</td>\n",
       "      <td>3dko</td>\n",
       "      <td>B</td>\n",
       "      <td>A</td>\n",
       "      <td>Human</td>\n",
       "      <td>415</td>\n",
       "      <td>EphA7</td>\n",
       "      <td>Eph</td>\n",
       "      <td>TK</td>\n",
       "      <td>RVIGA_EFGEVCSVAIKTLDFLCEASIMGQFDPNVVHLEGVMIVIE...</td>\n",
       "      <td>IHZ</td>\n",
       "      <td>-</td>\n",
       "      <td>5-[(2-methyl-5-{[3-(trifluoromethyl)phenyl]car...</td>\n",
       "      <td>-</td>\n",
       "      <td>out</td>\n",
       "      <td>in</td>\n",
       "      <td>2.00</td>\n",
       "      <td>8.1</td>\n",
       "      <td>3</td>\n",
       "      <td>7</td>\n",
       "      <td>0.944</td>\n",
       "      <td>2.254</td>\n",
       "      <td>&lt;NA&gt;</td>\n",
       "      <td>&lt;NA&gt;</td>\n",
       "      <td>&lt;NA&gt;</td>\n",
       "      <td>False</td>\n",
       "      <td>False</td>\n",
       "      <td>True</td>\n",
       "      <td>True</td>\n",
       "      <td>False</td>\n",
       "      <td>False</td>\n",
       "      <td>False</td>\n",
       "      <td>True</td>\n",
       "      <td>False</td>\n",
       "      <td>True</td>\n",
       "      <td>False</td>\n",
       "      <td>False</td>\n",
       "      <td>NaN</td>\n",
       "      <td>NaN</td>\n",
       "      <td>NaN</td>\n",
       "      <td>HUMAN/EphA7/3dko_altB_chainA</td>\n",
       "    </tr>\n",
       "    <tr>\n",
       "      <th>2</th>\n",
       "      <td>5</td>\n",
       "      <td>3v8t</td>\n",
       "      <td>B</td>\n",
       "      <td>A</td>\n",
       "      <td>Human</td>\n",
       "      <td>474</td>\n",
       "      <td>ITK</td>\n",
       "      <td>Tec</td>\n",
       "      <td>TK</td>\n",
       "      <td>QEIGSG___LVHLVAIKTIDFIEEAEVMMKLSPKLVQLYGVCLVFE...</td>\n",
       "      <td>477</td>\n",
       "      <td>-</td>\n",
       "      <td>3-{2-[5-(difluoromethyl)-2H-thieno[3,2-c]pyraz...</td>\n",
       "      <td>-</td>\n",
       "      <td>in</td>\n",
       "      <td>in</td>\n",
       "      <td>2.00</td>\n",
       "      <td>7.8</td>\n",
       "      <td>4</td>\n",
       "      <td>6</td>\n",
       "      <td>0.842</td>\n",
       "      <td>2.047</td>\n",
       "      <td>&lt;NA&gt;</td>\n",
       "      <td>&lt;NA&gt;</td>\n",
       "      <td>&lt;NA&gt;</td>\n",
       "      <td>False</td>\n",
       "      <td>False</td>\n",
       "      <td>False</td>\n",
       "      <td>False</td>\n",
       "      <td>False</td>\n",
       "      <td>False</td>\n",
       "      <td>False</td>\n",
       "      <td>False</td>\n",
       "      <td>False</td>\n",
       "      <td>False</td>\n",
       "      <td>False</td>\n",
       "      <td>False</td>\n",
       "      <td>NaN</td>\n",
       "      <td>NaN</td>\n",
       "      <td>NaN</td>\n",
       "      <td>HUMAN/ITK/3v8t_altB_chainA</td>\n",
       "    </tr>\n",
       "    <tr>\n",
       "      <th>3</th>\n",
       "      <td>6</td>\n",
       "      <td>4kio</td>\n",
       "      <td>A</td>\n",
       "      <td>D</td>\n",
       "      <td>Human</td>\n",
       "      <td>474</td>\n",
       "      <td>ITK</td>\n",
       "      <td>Tec</td>\n",
       "      <td>TK</td>\n",
       "      <td>QEIGSGQFGLVHLVAIKTIDFIEEAEVMMKLSPKLVQLYGVCLVFE...</td>\n",
       "      <td>G6K</td>\n",
       "      <td>-</td>\n",
       "      <td>1-[(3S)-3-{[4-(morpholin-4-ylmethyl)-6-([1,3]t...</td>\n",
       "      <td>-</td>\n",
       "      <td>in</td>\n",
       "      <td>in</td>\n",
       "      <td>2.18</td>\n",
       "      <td>8.6</td>\n",
       "      <td>1</td>\n",
       "      <td>10</td>\n",
       "      <td>0.842</td>\n",
       "      <td>2.151</td>\n",
       "      <td>&lt;NA&gt;</td>\n",
       "      <td>&lt;NA&gt;</td>\n",
       "      <td>&lt;NA&gt;</td>\n",
       "      <td>False</td>\n",
       "      <td>False</td>\n",
       "      <td>False</td>\n",
       "      <td>False</td>\n",
       "      <td>False</td>\n",
       "      <td>False</td>\n",
       "      <td>False</td>\n",
       "      <td>False</td>\n",
       "      <td>False</td>\n",
       "      <td>False</td>\n",
       "      <td>False</td>\n",
       "      <td>False</td>\n",
       "      <td>NaN</td>\n",
       "      <td>NaN</td>\n",
       "      <td>NaN</td>\n",
       "      <td>HUMAN/ITK/4kio_altA_chainD</td>\n",
       "    </tr>\n",
       "    <tr>\n",
       "      <th>4</th>\n",
       "      <td>7</td>\n",
       "      <td>4kio</td>\n",
       "      <td>B</td>\n",
       "      <td>C</td>\n",
       "      <td>Human</td>\n",
       "      <td>474</td>\n",
       "      <td>ITK</td>\n",
       "      <td>Tec</td>\n",
       "      <td>TK</td>\n",
       "      <td>QEIGSGQFGLVHLVAIKTIDFIEEAEVMMKLSPKLVQLYGVCLVFE...</td>\n",
       "      <td>G5K</td>\n",
       "      <td>-</td>\n",
       "      <td>1-[(3S)-3-{[4-(morpholin-4-ylmethyl)-6-([1,3]t...</td>\n",
       "      <td>-</td>\n",
       "      <td>in</td>\n",
       "      <td>in</td>\n",
       "      <td>2.18</td>\n",
       "      <td>9.0</td>\n",
       "      <td>0</td>\n",
       "      <td>10</td>\n",
       "      <td>0.840</td>\n",
       "      <td>2.148</td>\n",
       "      <td>&lt;NA&gt;</td>\n",
       "      <td>&lt;NA&gt;</td>\n",
       "      <td>&lt;NA&gt;</td>\n",
       "      <td>False</td>\n",
       "      <td>False</td>\n",
       "      <td>False</td>\n",
       "      <td>False</td>\n",
       "      <td>False</td>\n",
       "      <td>False</td>\n",
       "      <td>False</td>\n",
       "      <td>False</td>\n",
       "      <td>False</td>\n",
       "      <td>False</td>\n",
       "      <td>False</td>\n",
       "      <td>False</td>\n",
       "      <td>NaN</td>\n",
       "      <td>NaN</td>\n",
       "      <td>NaN</td>\n",
       "      <td>HUMAN/ITK/4kio_altB_chainC</td>\n",
       "    </tr>\n",
       "  </tbody>\n",
       "</table>\n",
       "</div>"
      ],
      "text/plain": [
       "   structure.klifs_id structure.pdb_id structure.alternate_model  \\\n",
       "0                   1             3dko                         A   \n",
       "1                   3             3dko                         B   \n",
       "2                   5             3v8t                         B   \n",
       "3                   6             4kio                         A   \n",
       "4                   7             4kio                         B   \n",
       "\n",
       "  structure.chain species.klifs  kinase.klifs_id kinase.klifs_name  \\\n",
       "0               A         Human              415             EphA7   \n",
       "1               A         Human              415             EphA7   \n",
       "2               A         Human              474               ITK   \n",
       "3               D         Human              474               ITK   \n",
       "4               C         Human              474               ITK   \n",
       "\n",
       "  kinase.family kinase.group  \\\n",
       "0           Eph           TK   \n",
       "1           Eph           TK   \n",
       "2           Tec           TK   \n",
       "3           Tec           TK   \n",
       "4           Tec           TK   \n",
       "\n",
       "                                    structure.pocket ligand.expo_id  \\\n",
       "0  RVIGA_EFGEVCSVAIKTLDFLCEASIMGQFDPNVVHLEGVMIVIE...            IHZ   \n",
       "1  RVIGA_EFGEVCSVAIKTLDFLCEASIMGQFDPNVVHLEGVMIVIE...            IHZ   \n",
       "2  QEIGSG___LVHLVAIKTIDFIEEAEVMMKLSPKLVQLYGVCLVFE...            477   \n",
       "3  QEIGSGQFGLVHLVAIKTIDFIEEAEVMMKLSPKLVQLYGVCLVFE...            G6K   \n",
       "4  QEIGSGQFGLVHLVAIKTIDFIEEAEVMMKLSPKLVQLYGVCLVFE...            G5K   \n",
       "\n",
       "  ligand_allosteric.expo_id  \\\n",
       "0                         -   \n",
       "1                         -   \n",
       "2                         -   \n",
       "3                         -   \n",
       "4                         -   \n",
       "\n",
       "                                         ligand.name ligand_allosteric.name  \\\n",
       "0  5-[(2-methyl-5-{[3-(trifluoromethyl)phenyl]car...                      -   \n",
       "1  5-[(2-methyl-5-{[3-(trifluoromethyl)phenyl]car...                      -   \n",
       "2  3-{2-[5-(difluoromethyl)-2H-thieno[3,2-c]pyraz...                      -   \n",
       "3  1-[(3S)-3-{[4-(morpholin-4-ylmethyl)-6-([1,3]t...                      -   \n",
       "4  1-[(3S)-3-{[4-(morpholin-4-ylmethyl)-6-([1,3]t...                      -   \n",
       "\n",
       "  structure.dfg structure.ac_helix  structure.resolution  \\\n",
       "0           out                 in                  2.00   \n",
       "1           out                 in                  2.00   \n",
       "2            in                 in                  2.00   \n",
       "3            in                 in                  2.18   \n",
       "4            in                 in                  2.18   \n",
       "\n",
       "   structure.qualityscore  structure.missing_residues  \\\n",
       "0                     8.1                           3   \n",
       "1                     8.1                           3   \n",
       "2                     7.8                           4   \n",
       "3                     8.6                           1   \n",
       "4                     9.0                           0   \n",
       "\n",
       "   structure.missing_atoms  structure.rmsd1  structure.rmsd2  structure.front  \\\n",
       "0                        7            0.944            2.254             <NA>   \n",
       "1                        7            0.944            2.254             <NA>   \n",
       "2                        6            0.842            2.047             <NA>   \n",
       "3                       10            0.842            2.151             <NA>   \n",
       "4                       10            0.840            2.148             <NA>   \n",
       "\n",
       "   structure.gate  structure.back  structure.fp_i  structure.fp_ii  \\\n",
       "0            <NA>            <NA>           False            False   \n",
       "1            <NA>            <NA>           False            False   \n",
       "2            <NA>            <NA>           False            False   \n",
       "3            <NA>            <NA>           False            False   \n",
       "4            <NA>            <NA>           False            False   \n",
       "\n",
       "   structure.bp_i_a  structure.bp_i_b  structure.bp_ii_in  \\\n",
       "0              True              True               False   \n",
       "1              True              True               False   \n",
       "2             False             False               False   \n",
       "3             False             False               False   \n",
       "4             False             False               False   \n",
       "\n",
       "   structure.bp_ii_a_in  structure.bp_ii_b_in  structure.bp_ii_out  \\\n",
       "0                 False                 False                 True   \n",
       "1                 False                 False                 True   \n",
       "2                 False                 False                False   \n",
       "3                 False                 False                False   \n",
       "4                 False                 False                False   \n",
       "\n",
       "   structure.bp_ii_b  structure.bp_iii  structure.bp_iv  structure.bp_v  \\\n",
       "0              False              True            False           False   \n",
       "1              False              True            False           False   \n",
       "2              False             False            False           False   \n",
       "3              False             False            False           False   \n",
       "4              False             False            False           False   \n",
       "\n",
       "   structure.grich_distance  structure.grich_angle  structure.grich_rotation  \\\n",
       "0                       NaN                    NaN                       NaN   \n",
       "1                       NaN                    NaN                       NaN   \n",
       "2                       NaN                    NaN                       NaN   \n",
       "3                       NaN                    NaN                       NaN   \n",
       "4                       NaN                    NaN                       NaN   \n",
       "\n",
       "             structure.filepath  \n",
       "0  HUMAN/EphA7/3dko_altA_chainA  \n",
       "1  HUMAN/EphA7/3dko_altB_chainA  \n",
       "2    HUMAN/ITK/3v8t_altB_chainA  \n",
       "3    HUMAN/ITK/4kio_altA_chainD  \n",
       "4    HUMAN/ITK/4kio_altB_chainC  "
      ]
     },
     "execution_count": 5,
     "metadata": {},
     "output_type": "execute_result"
    }
   ],
   "source": [
    "klifs_session = setup_local(DATA / \"external/structures/20210630_KLIFS_HUMAN\")\n",
    "\n",
    "structures = klifs_session.structures.all_structures()\n",
    "print(structures.shape)\n",
    "structures.head()"
   ]
  },
  {
   "cell_type": "code",
   "execution_count": 6,
   "metadata": {},
   "outputs": [
    {
     "name": "stderr",
     "output_type": "stream",
     "text": [
      "INFO:opencadd.databases.klifs.api:Set up remote session...\n",
      "INFO:opencadd.databases.klifs.api:Remote session is ready!\n"
     ]
    }
   ],
   "source": [
    "klifs_session = setup_remote()\n",
    "\n",
    "kinases_short = klifs_session.kinases.all_kinases()\n",
    "kinases = klifs_session.kinases.by_kinase_klifs_id(kinases_short[\"kinase.klifs_id\"].to_list())\n",
    "structures = pd.merge(structures, kinases[[\"kinase.klifs_id\", \"kinase.pocket\"]])"
   ]
  },
  {
   "cell_type": "markdown",
   "metadata": {},
   "source": [
    "## Explore structures in full dataset"
   ]
  },
  {
   "cell_type": "markdown",
   "metadata": {},
   "source": [
    "### Species, DFG/aC-helix conformations, ligand"
   ]
  },
  {
   "cell_type": "code",
   "execution_count": 7,
   "metadata": {},
   "outputs": [
    {
     "data": {
      "image/png": "[encoded data removed]",
      "text/plain": [
       "<Figure size 1080x216 with 4 Axes>"
      ]
     },
     "metadata": {},
     "output_type": "display_data"
    }
   ],
   "source": [
    "explorer.plot_important_categories(structures);"
   ]
  },
  {
   "cell_type": "markdown",
   "metadata": {},
   "source": [
    "### Resolution vs. quality score"
   ]
  },
  {
   "cell_type": "code",
   "execution_count": 8,
   "metadata": {},
   "outputs": [
    {
     "data": {
      "image/png": "[encoded data removed]",
      "text/plain": [
       "<Figure size 288x288 with 1 Axes>"
      ]
     },
     "metadata": {},
     "output_type": "display_data"
    }
   ],
   "source": [
    "explorer.plot_resolution_vs_qualityscore(structures);"
   ]
  },
  {
   "cell_type": "markdown",
   "metadata": {},
   "source": [
    "### Number of structures per kinase-PDB pair\n",
    "\n",
    "How many kinase-PDB pairs are represented by how many structures?"
   ]
  },
  {
   "cell_type": "code",
   "execution_count": 9,
   "metadata": {},
   "outputs": [
    {
     "data": {
      "image/png": "[encoded data removed]",
      "text/plain": [
       "<Figure size 576x396 with 1 Axes>"
      ]
     },
     "metadata": {},
     "output_type": "display_data"
    }
   ],
   "source": [
    "explorer.plot_number_of_structures_per_kinase_pdb_pair(structures);"
   ]
  },
  {
   "cell_type": "markdown",
   "metadata": {},
   "source": [
    "## Filter and save structures"
   ]
  },
  {
   "cell_type": "code",
   "execution_count": 10,
   "metadata": {},
   "outputs": [],
   "source": [
    "n_structures = {}\n",
    "n_kinases = {}"
   ]
  },
  {
   "cell_type": "markdown",
   "metadata": {},
   "source": [
    "### DFG-all"
   ]
  },
  {
   "cell_type": "code",
   "execution_count": 11,
   "metadata": {},
   "outputs": [
    {
     "name": "stderr",
     "output_type": "stream",
     "text": [
      "INFO:src.data.structures.filters:make_copy                       11693 structures (-1 day, 23:59:59.996402s)\n",
      "INFO:src.data.structures.filters:select_species                  11693 structures (-1 day, 23:59:59.991962s)\n",
      "INFO:src.data.structures.filters:select_resolution               10665 structures (-1 day, 23:59:59.993932s)\n",
      "INFO:src.data.structures.filters:select_qualityscore             10192 structures (-1 day, 23:59:59.991268s)\n",
      "INFO:src.data.structures.filters:select_maximum_n_mutations      10077 structures (-1 day, 23:58:41.269706s)\n",
      "INFO:src.data.structures.filters:select_maximum_n_missing_residues  10072 structures (-1 day, 23:59:59.989244s)\n",
      "INFO:src.data.structures.filters:select_best_pdb_kinase_pairs     4638 structures (-1 day, 23:59:59.977902s)\n"
     ]
    },
    {
     "name": "stdout",
     "output_type": "stream",
     "text": [
      "CPU times: user 1min 18s, sys: 5.65 ms, total: 1min 18s\n",
      "Wall time: 1min 18s\n"
     ]
    }
   ],
   "source": [
    "%%time\n",
    "\n",
    "structures_filtered = (\n",
    "    structures.pipe(filters.make_copy)\n",
    "    .pipe(filters.select_species, SPECIES)\n",
    "    # .pipe(filters.select_dfg, DFG_CONFORMATION)\n",
    "    .pipe(filters.select_resolution, RESOLUTION_MAX)\n",
    "    .pipe(filters.select_qualityscore, QUALITYSCORE_MIN)\n",
    "    .pipe(filters.select_maximum_n_mutations, N_ALLOWED_MUTATIONS)\n",
    "    .pipe(filters.select_maximum_n_missing_residues, N_ALLOWED_MISSING_RESIDUES)\n",
    "    .pipe(filters.select_best_pdb_kinase_pairs)\n",
    ")\n",
    "structures_filtered.reset_index(inplace=True, drop=True)\n",
    "structures_filtered[\"structure.klifs_id\"].sort_values().to_csv(\n",
    "    DATA / \"processed/structure_klifs_ids_all.txt\", index=None, header=None\n",
    ")\n",
    "\n",
    "n_structures[\"all\"] = len(structures_filtered)\n",
    "n_kinases[\"all\"] = len(structures_filtered[\"kinase.klifs_name\"].drop_duplicates())"
   ]
  },
  {
   "cell_type": "markdown",
   "metadata": {},
   "source": [
    "### DFG-in / DFG-out"
   ]
  },
  {
   "cell_type": "code",
   "execution_count": 12,
   "metadata": {},
   "outputs": [
    {
     "name": "stderr",
     "output_type": "stream",
     "text": [
      "INFO:src.data.structures.filters:make_copy                       11693 structures (-1 day, 23:59:59.994232s)\n",
      "INFO:src.data.structures.filters:select_species                  11693 structures (-1 day, 23:59:59.991127s)\n",
      "INFO:src.data.structures.filters:select_resolution               10665 structures (-1 day, 23:59:59.991111s)\n",
      "INFO:src.data.structures.filters:select_qualityscore             10192 structures (-1 day, 23:59:59.992108s)\n",
      "INFO:src.data.structures.filters:select_maximum_n_mutations      10077 structures (-1 day, 23:58:40.522250s)\n",
      "INFO:src.data.structures.filters:select_maximum_n_missing_residues  10072 structures (-1 day, 23:59:59.989138s)\n",
      "INFO:src.data.structures.filters:select_dfg                       8908 structures (-1 day, 23:59:59.992108s)\n",
      "INFO:src.data.structures.filters:select_best_pdb_kinase_pairs     4069 structures (-1 day, 23:59:59.965821s)\n",
      "INFO:src.data.structures.filters:make_copy                       11693 structures (-1 day, 23:59:59.996392s)\n",
      "INFO:src.data.structures.filters:select_species                  11693 structures (-1 day, 23:59:59.991850s)\n",
      "INFO:src.data.structures.filters:select_resolution               10665 structures (-1 day, 23:59:59.993165s)\n",
      "INFO:src.data.structures.filters:select_qualityscore             10192 structures (-1 day, 23:59:59.991310s)\n",
      "INFO:src.data.structures.filters:select_maximum_n_mutations      10077 structures (-1 day, 23:58:40.416417s)\n",
      "INFO:src.data.structures.filters:select_maximum_n_missing_residues  10072 structures (-1 day, 23:59:59.989354s)\n",
      "INFO:src.data.structures.filters:select_dfg                        784 structures (-1 day, 23:59:59.997184s)\n",
      "INFO:src.data.structures.filters:select_best_pdb_kinase_pairs      406 structures (-1 day, 23:59:59.988300s)\n"
     ]
    },
    {
     "name": "stdout",
     "output_type": "stream",
     "text": [
      "CPU times: user 2min 39s, sys: 27.9 ms, total: 2min 39s\n",
      "Wall time: 2min 39s\n"
     ]
    }
   ],
   "source": [
    "%%time\n",
    "\n",
    "for dfg_conformation in [\"in\", \"out\"]:\n",
    "    structures_filtered = (\n",
    "        structures.pipe(filters.make_copy)\n",
    "        .pipe(filters.select_species, SPECIES)\n",
    "        .pipe(filters.select_resolution, RESOLUTION_MAX)\n",
    "        .pipe(filters.select_qualityscore, QUALITYSCORE_MIN)\n",
    "        .pipe(filters.select_maximum_n_mutations, N_ALLOWED_MUTATIONS)\n",
    "        .pipe(filters.select_maximum_n_missing_residues, N_ALLOWED_MISSING_RESIDUES)\n",
    "        .pipe(filters.select_dfg, dfg_conformation)\n",
    "        .pipe(filters.select_best_pdb_kinase_pairs)\n",
    "    )\n",
    "    structures_filtered.reset_index(inplace=True, drop=True)\n",
    "    structures_filtered[\"structure.klifs_id\"].sort_values().to_csv(\n",
    "        DATA / f\"processed/structure_klifs_ids_dfg_{dfg_conformation}.txt\", index=None, header=None\n",
    "    )\n",
    "    n_structures[f\"dfg_{dfg_conformation}\"] = len(structures_filtered)\n",
    "    n_kinases[f\"dfg_{dfg_conformation}\"] = len(\n",
    "        structures_filtered[\"kinase.klifs_name\"].drop_duplicates()\n",
    "    )"
   ]
  },
  {
   "cell_type": "markdown",
   "metadata": {},
   "source": [
    "## Dataset statistics"
   ]
  },
  {
   "cell_type": "code",
   "execution_count": 13,
   "metadata": {},
   "outputs": [
    {
     "data": {
      "text/html": [
       "<div>\n",
       "<style scoped>\n",
       "    .dataframe tbody tr th:only-of-type {\n",
       "        vertical-align: middle;\n",
       "    }\n",
       "\n",
       "    .dataframe tbody tr th {\n",
       "        vertical-align: top;\n",
       "    }\n",
       "\n",
       "    .dataframe thead th {\n",
       "        text-align: right;\n",
       "    }\n",
       "</style>\n",
       "<table border=\"1\" class=\"dataframe\">\n",
       "  <thead>\n",
       "    <tr style=\"text-align: right;\">\n",
       "      <th></th>\n",
       "      <th>all</th>\n",
       "      <th>dfg_in</th>\n",
       "      <th>dfg_out</th>\n",
       "    </tr>\n",
       "  </thead>\n",
       "  <tbody>\n",
       "    <tr>\n",
       "      <th>n_structures</th>\n",
       "      <td>4638</td>\n",
       "      <td>4069</td>\n",
       "      <td>406</td>\n",
       "    </tr>\n",
       "    <tr>\n",
       "      <th>n_kinases</th>\n",
       "      <td>279</td>\n",
       "      <td>257</td>\n",
       "      <td>71</td>\n",
       "    </tr>\n",
       "  </tbody>\n",
       "</table>\n",
       "</div>"
      ],
      "text/plain": [
       "               all  dfg_in  dfg_out\n",
       "n_structures  4638    4069      406\n",
       "n_kinases      279     257       71"
      ]
     },
     "execution_count": 13,
     "metadata": {},
     "output_type": "execute_result"
    }
   ],
   "source": [
    "n_structures = pd.Series(n_structures)\n",
    "n_structures.name = \"n_structures\"\n",
    "n_kinases = pd.Series(n_kinases)\n",
    "n_kinases.name = \"n_kinases\"\n",
    "pd.concat([n_structures, n_kinases], axis=1).transpose()"
   ]
  }
 ],
 "metadata": {
  "kernelspec": {
   "display_name": "Python 3",
   "language": "python",
   "name": "python3"
  },
  "language_info": {
   "codemirror_mode": {
    "name": "ipython",
    "version": 3
   },
   "file_extension": ".py",
   "mimetype": "text/x-python",
   "name": "python",
   "nbconvert_exporter": "python",
   "pygments_lexer": "ipython3",
   "version": "3.9.5"
  },
  "widgets": {
   "application/vnd.jupyter.widget-state+json": {
    "state": {
     "37975b1f0330405f8fb505867c036250": {
      "model_module": "@jupyter-widgets/base",
      "model_module_version": "1.2.0",
      "model_name": "LayoutModel",
      "state": {}
     },
     "97374f2bd7fd455ca56afd416570939c": {
      "model_module": "nglview-js-widgets",
      "model_module_version": "3.0.1",
      "model_name": "ColormakerRegistryModel",
      "state": {
       "_msg_ar": [],
       "_msg_q": [],
       "_ready": true,
       "layout": "IPY_MODEL_37975b1f0330405f8fb505867c036250"
      }
     }
    },
    "version_major": 2,
    "version_minor": 0
   }
  }
 },
 "nbformat": 4,
 "nbformat_minor": 4
}
