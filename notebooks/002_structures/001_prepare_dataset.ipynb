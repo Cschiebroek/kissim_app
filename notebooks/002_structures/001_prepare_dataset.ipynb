{
 "cells": [
  {
   "cell_type": "markdown",
   "metadata": {},
   "source": [
    "# Data preparation and exploration\n",
    "\n",
    "We prepare the KLIFS dataset to be used for `kissim` encoding and comparison.\n",
    "\n",
    "- Fetch all structures in KLIFS (metadata).\n",
    "- Filter dataset by\n",
    "  - Species\n",
    "  - DFG conformation (optional)\n",
    "  - Resolution\n",
    "  - Quality score\n",
    "  - Best struture per kinase-PDB pair\n",
    "- Save the KLIFS structure IDs for the filtered dataset.\n",
    "\n",
    "__Note__: The KLIFS data is prepared only on the basis of the structures' metadata from KLIFS. Additional filtering will happen during fingerprint generation, where the actual structural data (coordiantes ect.) are used."
   ]
  },
  {
   "cell_type": "code",
   "execution_count": 1,
   "metadata": {},
   "outputs": [],
   "source": [
    "%load_ext autoreload\n",
    "%autoreload 2"
   ]
  },
  {
   "cell_type": "code",
   "execution_count": 2,
   "metadata": {},
   "outputs": [
    {
     "data": {
      "application/vnd.jupyter.widget-view+json": {
       "model_id": "ce9901d145fe462a91b46efd188a2ef2",
       "version_major": 2,
       "version_minor": 0
      },
      "text/plain": []
     },
     "metadata": {},
     "output_type": "display_data"
    }
   ],
   "source": [
    "from pathlib import Path\n",
    "import logging\n",
    "\n",
    "import pandas as pd\n",
    "from opencadd.databases.klifs import setup_remote\n",
    "\n",
    "from src.data.structures import filters, explorer"
   ]
  },
  {
   "cell_type": "code",
   "execution_count": 3,
   "metadata": {},
   "outputs": [],
   "source": [
    "logging.basicConfig(level=logging.INFO)\n",
    "pd.set_option(\"display.max_columns\", 50)"
   ]
  },
  {
   "cell_type": "code",
   "execution_count": 4,
   "metadata": {},
   "outputs": [],
   "source": [
    "SPECIES = \"Human\"\n",
    "RESOLUTION_MAX = 4\n",
    "QUALITYSCORE_MIN = 4\n",
    "\n",
    "HERE = Path(_dh[-1])  # noqa: F821\n",
    "DATA = HERE / \"../../data/processed/\""
   ]
  },
  {
   "cell_type": "markdown",
   "metadata": {},
   "source": [
    "## Fetch structures (metadata)"
   ]
  },
  {
   "cell_type": "code",
   "execution_count": 5,
   "metadata": {},
   "outputs": [
    {
     "name": "stderr",
     "output_type": "stream",
     "text": [
      "INFO:opencadd.databases.klifs.api:Set up remote session...\n",
      "INFO:opencadd.databases.klifs.api:Remote session is ready!\n"
     ]
    }
   ],
   "source": [
    "remote = setup_remote()"
   ]
  },
  {
   "cell_type": "code",
   "execution_count": 6,
   "metadata": {},
   "outputs": [
    {
     "name": "stdout",
     "output_type": "stream",
     "text": [
      "(12465, 41)\n"
     ]
    },
    {
     "data": {
      "text/html": [
       "<div>\n",
       "<style scoped>\n",
       "    .dataframe tbody tr th:only-of-type {\n",
       "        vertical-align: middle;\n",
       "    }\n",
       "\n",
       "    .dataframe tbody tr th {\n",
       "        vertical-align: top;\n",
       "    }\n",
       "\n",
       "    .dataframe thead th {\n",
       "        text-align: right;\n",
       "    }\n",
       "</style>\n",
       "<table border=\"1\" class=\"dataframe\">\n",
       "  <thead>\n",
       "    <tr style=\"text-align: right;\">\n",
       "      <th></th>\n",
       "      <th>structure.klifs_id</th>\n",
       "      <th>structure.pdb_id</th>\n",
       "      <th>structure.alternate_model</th>\n",
       "      <th>structure.chain</th>\n",
       "      <th>species.klifs</th>\n",
       "      <th>kinase.klifs_id</th>\n",
       "      <th>kinase.klifs_name</th>\n",
       "      <th>kinase.family</th>\n",
       "      <th>kinase.group</th>\n",
       "      <th>structure.pocket</th>\n",
       "      <th>ligand.expo_id</th>\n",
       "      <th>ligand_allosteric.expo_id</th>\n",
       "      <th>ligand.name</th>\n",
       "      <th>ligand_allosteric.name</th>\n",
       "      <th>structure.dfg</th>\n",
       "      <th>structure.ac_helix</th>\n",
       "      <th>structure.resolution</th>\n",
       "      <th>structure.qualityscore</th>\n",
       "      <th>structure.missing_residues</th>\n",
       "      <th>structure.missing_atoms</th>\n",
       "      <th>structure.rmsd1</th>\n",
       "      <th>structure.rmsd2</th>\n",
       "      <th>structure.front</th>\n",
       "      <th>structure.gate</th>\n",
       "      <th>structure.back</th>\n",
       "      <th>structure.fp_i</th>\n",
       "      <th>structure.fp_ii</th>\n",
       "      <th>structure.bp_i_a</th>\n",
       "      <th>structure.bp_i_b</th>\n",
       "      <th>structure.bp_ii_in</th>\n",
       "      <th>structure.bp_ii_a_in</th>\n",
       "      <th>structure.bp_ii_b_in</th>\n",
       "      <th>structure.bp_ii_out</th>\n",
       "      <th>structure.bp_ii_b</th>\n",
       "      <th>structure.bp_iii</th>\n",
       "      <th>structure.bp_iv</th>\n",
       "      <th>structure.bp_v</th>\n",
       "      <th>structure.grich_distance</th>\n",
       "      <th>structure.grich_angle</th>\n",
       "      <th>structure.grich_rotation</th>\n",
       "      <th>structure.filepath</th>\n",
       "    </tr>\n",
       "  </thead>\n",
       "  <tbody>\n",
       "    <tr>\n",
       "      <th>0</th>\n",
       "      <td>2543</td>\n",
       "      <td>4gv1</td>\n",
       "      <td>A</td>\n",
       "      <td>A</td>\n",
       "      <td>Human</td>\n",
       "      <td>1</td>\n",
       "      <td>AKT1</td>\n",
       "      <td>&lt;NA&gt;</td>\n",
       "      <td>&lt;NA&gt;</td>\n",
       "      <td>KLLGKGTFGKVILYAMKILHTLTENRVLQNSRPFLTALKYSCFVME...</td>\n",
       "      <td>0XZ</td>\n",
       "      <td>-</td>\n",
       "      <td>&lt;NA&gt;</td>\n",
       "      <td>&lt;NA&gt;</td>\n",
       "      <td>in</td>\n",
       "      <td>in</td>\n",
       "      <td>1.49</td>\n",
       "      <td>8.0</td>\n",
       "      <td>0</td>\n",
       "      <td>0</td>\n",
       "      <td>0.778</td>\n",
       "      <td>2.095</td>\n",
       "      <td>True</td>\n",
       "      <td>False</td>\n",
       "      <td>False</td>\n",
       "      <td>False</td>\n",
       "      <td>True</td>\n",
       "      <td>False</td>\n",
       "      <td>False</td>\n",
       "      <td>False</td>\n",
       "      <td>False</td>\n",
       "      <td>False</td>\n",
       "      <td>False</td>\n",
       "      <td>False</td>\n",
       "      <td>False</td>\n",
       "      <td>False</td>\n",
       "      <td>False</td>\n",
       "      <td>17.830900</td>\n",
       "      <td>58.416401</td>\n",
       "      <td>58.960499</td>\n",
       "      <td>&lt;NA&gt;</td>\n",
       "    </tr>\n",
       "    <tr>\n",
       "      <th>1</th>\n",
       "      <td>2537</td>\n",
       "      <td>3mv5</td>\n",
       "      <td>A</td>\n",
       "      <td>A</td>\n",
       "      <td>Human</td>\n",
       "      <td>1</td>\n",
       "      <td>AKT1</td>\n",
       "      <td>&lt;NA&gt;</td>\n",
       "      <td>&lt;NA&gt;</td>\n",
       "      <td>KLLGKGTFGKVILYAMKILHTLTENRVLQNSRPFLTALKYSCFVME...</td>\n",
       "      <td>XFE</td>\n",
       "      <td>-</td>\n",
       "      <td>&lt;NA&gt;</td>\n",
       "      <td>&lt;NA&gt;</td>\n",
       "      <td>in</td>\n",
       "      <td>in</td>\n",
       "      <td>2.47</td>\n",
       "      <td>8.0</td>\n",
       "      <td>0</td>\n",
       "      <td>0</td>\n",
       "      <td>0.779</td>\n",
       "      <td>2.092</td>\n",
       "      <td>True</td>\n",
       "      <td>False</td>\n",
       "      <td>False</td>\n",
       "      <td>False</td>\n",
       "      <td>False</td>\n",
       "      <td>False</td>\n",
       "      <td>False</td>\n",
       "      <td>False</td>\n",
       "      <td>False</td>\n",
       "      <td>False</td>\n",
       "      <td>False</td>\n",
       "      <td>False</td>\n",
       "      <td>False</td>\n",
       "      <td>False</td>\n",
       "      <td>False</td>\n",
       "      <td>17.396900</td>\n",
       "      <td>57.091900</td>\n",
       "      <td>55.166599</td>\n",
       "      <td>&lt;NA&gt;</td>\n",
       "    </tr>\n",
       "    <tr>\n",
       "      <th>2</th>\n",
       "      <td>2536</td>\n",
       "      <td>4gv1</td>\n",
       "      <td>B</td>\n",
       "      <td>A</td>\n",
       "      <td>Human</td>\n",
       "      <td>1</td>\n",
       "      <td>AKT1</td>\n",
       "      <td>&lt;NA&gt;</td>\n",
       "      <td>&lt;NA&gt;</td>\n",
       "      <td>KLLGKGTFGKVILYAMKILHTLTENRVLQNSRPFLTALKYSCFVME...</td>\n",
       "      <td>0XZ</td>\n",
       "      <td>-</td>\n",
       "      <td>&lt;NA&gt;</td>\n",
       "      <td>&lt;NA&gt;</td>\n",
       "      <td>in</td>\n",
       "      <td>in</td>\n",
       "      <td>1.49</td>\n",
       "      <td>8.0</td>\n",
       "      <td>0</td>\n",
       "      <td>0</td>\n",
       "      <td>0.778</td>\n",
       "      <td>2.095</td>\n",
       "      <td>True</td>\n",
       "      <td>False</td>\n",
       "      <td>False</td>\n",
       "      <td>False</td>\n",
       "      <td>True</td>\n",
       "      <td>False</td>\n",
       "      <td>False</td>\n",
       "      <td>False</td>\n",
       "      <td>False</td>\n",
       "      <td>False</td>\n",
       "      <td>False</td>\n",
       "      <td>False</td>\n",
       "      <td>False</td>\n",
       "      <td>False</td>\n",
       "      <td>False</td>\n",
       "      <td>17.830900</td>\n",
       "      <td>58.351101</td>\n",
       "      <td>58.960602</td>\n",
       "      <td>&lt;NA&gt;</td>\n",
       "    </tr>\n",
       "    <tr>\n",
       "      <th>3</th>\n",
       "      <td>2535</td>\n",
       "      <td>3qkk</td>\n",
       "      <td>-</td>\n",
       "      <td>A</td>\n",
       "      <td>Human</td>\n",
       "      <td>1</td>\n",
       "      <td>AKT1</td>\n",
       "      <td>&lt;NA&gt;</td>\n",
       "      <td>&lt;NA&gt;</td>\n",
       "      <td>KLLGKGTFGKVILYAMKILHTLTENRVLQNSRPFLTALKYSCFVME...</td>\n",
       "      <td>SMH</td>\n",
       "      <td>-</td>\n",
       "      <td>&lt;NA&gt;</td>\n",
       "      <td>&lt;NA&gt;</td>\n",
       "      <td>in</td>\n",
       "      <td>in</td>\n",
       "      <td>2.30</td>\n",
       "      <td>8.0</td>\n",
       "      <td>0</td>\n",
       "      <td>0</td>\n",
       "      <td>0.779</td>\n",
       "      <td>2.103</td>\n",
       "      <td>True</td>\n",
       "      <td>False</td>\n",
       "      <td>False</td>\n",
       "      <td>False</td>\n",
       "      <td>True</td>\n",
       "      <td>False</td>\n",
       "      <td>False</td>\n",
       "      <td>False</td>\n",
       "      <td>False</td>\n",
       "      <td>False</td>\n",
       "      <td>False</td>\n",
       "      <td>False</td>\n",
       "      <td>False</td>\n",
       "      <td>False</td>\n",
       "      <td>False</td>\n",
       "      <td>18.656799</td>\n",
       "      <td>59.938599</td>\n",
       "      <td>58.083000</td>\n",
       "      <td>&lt;NA&gt;</td>\n",
       "    </tr>\n",
       "    <tr>\n",
       "      <th>4</th>\n",
       "      <td>10913</td>\n",
       "      <td>6hhi</td>\n",
       "      <td>-</td>\n",
       "      <td>A</td>\n",
       "      <td>Human</td>\n",
       "      <td>1</td>\n",
       "      <td>AKT1</td>\n",
       "      <td>&lt;NA&gt;</td>\n",
       "      <td>&lt;NA&gt;</td>\n",
       "      <td>KLLGKGTFGKVILYAMKIL_________QNSRPFLTALKYSCFVME...</td>\n",
       "      <td>G4N</td>\n",
       "      <td>-</td>\n",
       "      <td>&lt;NA&gt;</td>\n",
       "      <td>&lt;NA&gt;</td>\n",
       "      <td>out</td>\n",
       "      <td>na</td>\n",
       "      <td>2.70</td>\n",
       "      <td>3.2</td>\n",
       "      <td>9</td>\n",
       "      <td>0</td>\n",
       "      <td>0.959</td>\n",
       "      <td>2.376</td>\n",
       "      <td>False</td>\n",
       "      <td>False</td>\n",
       "      <td>True</td>\n",
       "      <td>False</td>\n",
       "      <td>False</td>\n",
       "      <td>False</td>\n",
       "      <td>False</td>\n",
       "      <td>False</td>\n",
       "      <td>False</td>\n",
       "      <td>False</td>\n",
       "      <td>True</td>\n",
       "      <td>False</td>\n",
       "      <td>True</td>\n",
       "      <td>True</td>\n",
       "      <td>False</td>\n",
       "      <td>20.028200</td>\n",
       "      <td>66.834602</td>\n",
       "      <td>57.757599</td>\n",
       "      <td>&lt;NA&gt;</td>\n",
       "    </tr>\n",
       "  </tbody>\n",
       "</table>\n",
       "</div>"
      ],
      "text/plain": [
       "   structure.klifs_id structure.pdb_id structure.alternate_model  \\\n",
       "0                2543             4gv1                         A   \n",
       "1                2537             3mv5                         A   \n",
       "2                2536             4gv1                         B   \n",
       "3                2535             3qkk                         -   \n",
       "4               10913             6hhi                         -   \n",
       "\n",
       "  structure.chain species.klifs  kinase.klifs_id kinase.klifs_name  \\\n",
       "0               A         Human                1              AKT1   \n",
       "1               A         Human                1              AKT1   \n",
       "2               A         Human                1              AKT1   \n",
       "3               A         Human                1              AKT1   \n",
       "4               A         Human                1              AKT1   \n",
       "\n",
       "  kinase.family kinase.group  \\\n",
       "0          <NA>         <NA>   \n",
       "1          <NA>         <NA>   \n",
       "2          <NA>         <NA>   \n",
       "3          <NA>         <NA>   \n",
       "4          <NA>         <NA>   \n",
       "\n",
       "                                    structure.pocket ligand.expo_id  \\\n",
       "0  KLLGKGTFGKVILYAMKILHTLTENRVLQNSRPFLTALKYSCFVME...            0XZ   \n",
       "1  KLLGKGTFGKVILYAMKILHTLTENRVLQNSRPFLTALKYSCFVME...            XFE   \n",
       "2  KLLGKGTFGKVILYAMKILHTLTENRVLQNSRPFLTALKYSCFVME...            0XZ   \n",
       "3  KLLGKGTFGKVILYAMKILHTLTENRVLQNSRPFLTALKYSCFVME...            SMH   \n",
       "4  KLLGKGTFGKVILYAMKIL_________QNSRPFLTALKYSCFVME...            G4N   \n",
       "\n",
       "  ligand_allosteric.expo_id ligand.name ligand_allosteric.name structure.dfg  \\\n",
       "0                         -        <NA>                   <NA>            in   \n",
       "1                         -        <NA>                   <NA>            in   \n",
       "2                         -        <NA>                   <NA>            in   \n",
       "3                         -        <NA>                   <NA>            in   \n",
       "4                         -        <NA>                   <NA>           out   \n",
       "\n",
       "  structure.ac_helix  structure.resolution  structure.qualityscore  \\\n",
       "0                 in                  1.49                     8.0   \n",
       "1                 in                  2.47                     8.0   \n",
       "2                 in                  1.49                     8.0   \n",
       "3                 in                  2.30                     8.0   \n",
       "4                 na                  2.70                     3.2   \n",
       "\n",
       "   structure.missing_residues  structure.missing_atoms  structure.rmsd1  \\\n",
       "0                           0                        0            0.778   \n",
       "1                           0                        0            0.779   \n",
       "2                           0                        0            0.778   \n",
       "3                           0                        0            0.779   \n",
       "4                           9                        0            0.959   \n",
       "\n",
       "   structure.rmsd2  structure.front  structure.gate  structure.back  \\\n",
       "0            2.095             True           False           False   \n",
       "1            2.092             True           False           False   \n",
       "2            2.095             True           False           False   \n",
       "3            2.103             True           False           False   \n",
       "4            2.376            False           False            True   \n",
       "\n",
       "   structure.fp_i  structure.fp_ii  structure.bp_i_a  structure.bp_i_b  \\\n",
       "0           False             True             False             False   \n",
       "1           False            False             False             False   \n",
       "2           False             True             False             False   \n",
       "3           False             True             False             False   \n",
       "4           False            False             False             False   \n",
       "\n",
       "   structure.bp_ii_in  structure.bp_ii_a_in  structure.bp_ii_b_in  \\\n",
       "0               False                 False                 False   \n",
       "1               False                 False                 False   \n",
       "2               False                 False                 False   \n",
       "3               False                 False                 False   \n",
       "4               False                 False                 False   \n",
       "\n",
       "   structure.bp_ii_out  structure.bp_ii_b  structure.bp_iii  structure.bp_iv  \\\n",
       "0                False              False             False            False   \n",
       "1                False              False             False            False   \n",
       "2                False              False             False            False   \n",
       "3                False              False             False            False   \n",
       "4                 True              False              True             True   \n",
       "\n",
       "   structure.bp_v  structure.grich_distance  structure.grich_angle  \\\n",
       "0           False                 17.830900              58.416401   \n",
       "1           False                 17.396900              57.091900   \n",
       "2           False                 17.830900              58.351101   \n",
       "3           False                 18.656799              59.938599   \n",
       "4           False                 20.028200              66.834602   \n",
       "\n",
       "   structure.grich_rotation structure.filepath  \n",
       "0                 58.960499               <NA>  \n",
       "1                 55.166599               <NA>  \n",
       "2                 58.960602               <NA>  \n",
       "3                 58.083000               <NA>  \n",
       "4                 57.757599               <NA>  "
      ]
     },
     "execution_count": 6,
     "metadata": {},
     "output_type": "execute_result"
    }
   ],
   "source": [
    "structures = remote.structures.all_structures()\n",
    "print(structures.shape)\n",
    "structures.head()"
   ]
  },
  {
   "cell_type": "markdown",
   "metadata": {},
   "source": [
    "## Explore structures in full dataset"
   ]
  },
  {
   "cell_type": "markdown",
   "metadata": {},
   "source": [
    "### Species, DFG/aC-helix conformations, ligand"
   ]
  },
  {
   "cell_type": "code",
   "execution_count": 7,
   "metadata": {},
   "outputs": [
    {
     "data": {
      "image/png": "[encoded data removed]",
      "text/plain": [
       "<Figure size 1080x216 with 4 Axes>"
      ]
     },
     "metadata": {},
     "output_type": "display_data"
    }
   ],
   "source": [
    "explorer.plot_important_categories(structures);"
   ]
  },
  {
   "cell_type": "markdown",
   "metadata": {},
   "source": [
    "### Resolution vs. quality score"
   ]
  },
  {
   "cell_type": "code",
   "execution_count": 8,
   "metadata": {},
   "outputs": [
    {
     "data": {
      "image/png": "[encoded data removed]",
      "text/plain": [
       "<Figure size 288x288 with 1 Axes>"
      ]
     },
     "metadata": {},
     "output_type": "display_data"
    }
   ],
   "source": [
    "explorer.plot_resolution_vs_qualityscore(structures);"
   ]
  },
  {
   "cell_type": "markdown",
   "metadata": {},
   "source": [
    "### Number of structures per kinase-PDB pair\n",
    "\n",
    "How many kinase-PDB pairs are represented by how many structures?"
   ]
  },
  {
   "cell_type": "code",
   "execution_count": 9,
   "metadata": {},
   "outputs": [
    {
     "data": {
      "image/png": "[encoded data removed]",
      "text/plain": [
       "<Figure size 576x396 with 1 Axes>"
      ]
     },
     "metadata": {},
     "output_type": "display_data"
    }
   ],
   "source": [
    "explorer.plot_number_of_structures_per_kinase_pdb_pair(structures);"
   ]
  },
  {
   "cell_type": "markdown",
   "metadata": {},
   "source": [
    "## Filter and save structures"
   ]
  },
  {
   "cell_type": "markdown",
   "metadata": {},
   "source": [
    "### DFG-all"
   ]
  },
  {
   "cell_type": "code",
   "execution_count": 10,
   "metadata": {},
   "outputs": [
    {
     "name": "stderr",
     "output_type": "stream",
     "text": [
      "INFO:src.data.structures.filters:make_copy                       12465 structures (-1 day, 23:59:59.994200s)\n",
      "INFO:src.data.structures.filters:select_species                  11800 structures (-1 day, 23:59:59.990565s)\n",
      "INFO:src.data.structures.filters:select_resolution               11511 structures (-1 day, 23:59:59.990997s)\n",
      "INFO:src.data.structures.filters:select_qualityscore             11421 structures (-1 day, 23:59:59.987949s)\n",
      "INFO:src.data.structures.filters:select_best_pdb_kinase_pairs     5305 structures (-1 day, 23:59:59.968961s)\n"
     ]
    }
   ],
   "source": [
    "structures_filtered = (\n",
    "    structures.pipe(filters.make_copy)\n",
    "    .pipe(filters.select_species, SPECIES)\n",
    "    # .pipe(filters.select_dfg, DFG_CONFORMATION)\n",
    "    .pipe(filters.select_resolution, RESOLUTION_MAX)\n",
    "    .pipe(filters.select_qualityscore, QUALITYSCORE_MIN)\n",
    "    .pipe(filters.select_best_pdb_kinase_pairs)\n",
    ")\n",
    "structures_filtered.reset_index(inplace=True, drop=True)\n",
    "structures_filtered[\"structure.klifs_id\"].sort_values().to_csv(\n",
    "    DATA / \"structure_klifs_ids.txt\", index=None, header=None\n",
    ")"
   ]
  },
  {
   "cell_type": "markdown",
   "metadata": {},
   "source": [
    "### DFG-in / DFG-out"
   ]
  },
  {
   "cell_type": "code",
   "execution_count": 11,
   "metadata": {},
   "outputs": [
    {
     "name": "stderr",
     "output_type": "stream",
     "text": [
      "INFO:src.data.structures.filters:make_copy                       12465 structures (-1 day, 23:59:59.994516s)\n",
      "INFO:src.data.structures.filters:select_species                  11800 structures (-1 day, 23:59:59.989784s)\n",
      "INFO:src.data.structures.filters:select_resolution               11511 structures (-1 day, 23:59:59.991742s)\n",
      "INFO:src.data.structures.filters:select_qualityscore             11421 structures (-1 day, 23:59:59.991784s)\n",
      "INFO:src.data.structures.filters:select_dfg                       9949 structures (-1 day, 23:59:59.991433s)\n",
      "INFO:src.data.structures.filters:select_best_pdb_kinase_pairs     4595 structures (-1 day, 23:59:59.976130s)\n",
      "INFO:src.data.structures.filters:make_copy                       12465 structures (-1 day, 23:59:59.992917s)\n",
      "INFO:src.data.structures.filters:select_species                  11800 structures (-1 day, 23:59:59.989743s)\n",
      "INFO:src.data.structures.filters:select_resolution               11511 structures (-1 day, 23:59:59.992302s)\n",
      "INFO:src.data.structures.filters:select_qualityscore             11421 structures (-1 day, 23:59:59.990059s)\n",
      "INFO:src.data.structures.filters:select_dfg                        954 structures (-1 day, 23:59:59.997063s)\n",
      "INFO:src.data.structures.filters:select_best_pdb_kinase_pairs      491 structures (-1 day, 23:59:59.991795s)\n"
     ]
    }
   ],
   "source": [
    "for dfg_conformation in [\"in\", \"out\"]:\n",
    "    structures_filtered = (\n",
    "        structures.pipe(filters.make_copy)\n",
    "        .pipe(filters.select_species, SPECIES)\n",
    "        .pipe(filters.select_resolution, RESOLUTION_MAX)\n",
    "        .pipe(filters.select_qualityscore, QUALITYSCORE_MIN)\n",
    "        .pipe(filters.select_dfg, dfg_conformation)\n",
    "        .pipe(filters.select_best_pdb_kinase_pairs)\n",
    "    )\n",
    "    structures_filtered.reset_index(inplace=True, drop=True)\n",
    "    structures_filtered[\"structure.klifs_id\"].sort_values().to_csv(\n",
    "        DATA / f\"structure_klifs_ids_dfg_{dfg_conformation}.txt\", index=None, header=None\n",
    "    )"
   ]
  }
 ],
 "metadata": {
  "kernelspec": {
   "display_name": "Python 3",
   "language": "python",
   "name": "python3"
  },
  "language_info": {
   "codemirror_mode": {
    "name": "ipython",
    "version": 3
   },
   "file_extension": ".py",
   "mimetype": "text/x-python",
   "name": "python",
   "nbconvert_exporter": "python",
   "pygments_lexer": "ipython3",
   "version": "3.9.5"
  },
  "widgets": {
   "application/vnd.jupyter.widget-state+json": {
    "state": {
     "5c36aace99aa4a1c8b92f71311cdf316": {
      "model_module": "@jupyter-widgets/base",
      "model_module_version": "1.2.0",
      "model_name": "LayoutModel",
      "state": {}
     },
     "ce9901d145fe462a91b46efd188a2ef2": {
      "model_module": "nglview-js-widgets",
      "model_module_version": "3.0.1",
      "model_name": "ColormakerRegistryModel",
      "state": {
       "_msg_ar": [],
       "_msg_q": [],
       "_ready": true,
       "layout": "IPY_MODEL_5c36aace99aa4a1c8b92f71311cdf316"
      }
     }
    },
    "version_major": 2,
    "version_minor": 0
   }
  }
 },
 "nbformat": 4,
 "nbformat_minor": 4
}
