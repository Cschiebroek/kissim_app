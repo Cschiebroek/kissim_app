{
 "cells": [
  {
   "cell_type": "markdown",
   "id": "7fa29c41-ff51-41a2-9de3-37699162f7ef",
   "metadata": {},
   "source": [
    "# AlphaFold DB kinase dataset\n",
    "\n",
    "So `kissim` can only reach the structurally covered kinome? Well, we are in luck! \n",
    "\n",
    "Let's use the predicted kinase structures provided in the AlphaFold DB (AF) and use these structures to generate a AF-based `kissim` tree.\n",
    "\n",
    "In this notebook we prepare a kinase subset of the AF human dataset."
   ]
  },
  {
   "cell_type": "markdown",
   "id": "8b2aeaf8-733a-4761-ba9c-12a7992e587f",
   "metadata": {},
   "source": [
    "- Download the human AF dataset\n",
    "- Get all kinase UniProt IDs in KLIFS (extract pseudokinases)\n",
    "- Get all files in the human AF dataset\n",
    "- Filter AF kinase structures\n",
    "- Decompress AF kinase files in new folder\n",
    "- Choose models F1 per kinase only\n",
    "- Aggreate and save AF-to-KLIFS metadata\n",
    "- For fun: Show EGFR!"
   ]
  },
  {
   "cell_type": "code",
   "execution_count": 1,
   "id": "324052a1-4351-474e-8b03-f182f56588d4",
   "metadata": {},
   "outputs": [],
   "source": [
    "%load_ext autoreload\n",
    "%autoreload 2"
   ]
  },
  {
   "cell_type": "code",
   "execution_count": 2,
   "id": "35275c59-907e-4113-aeb7-73784d735119",
   "metadata": {},
   "outputs": [
    {
     "data": {
      "application/vnd.jupyter.widget-view+json": {
       "model_id": "eda9249aba9848c0a0fe9b63a0f0bdf3",
       "version_major": 2,
       "version_minor": 0
      },
      "text/plain": []
     },
     "metadata": {},
     "output_type": "display_data"
    }
   ],
   "source": [
    "from pathlib import Path\n",
    "import tarfile\n",
    "import re\n",
    "import os\n",
    "\n",
    "import pandas as pd\n",
    "import nglview as nv"
   ]
  },
  {
   "cell_type": "code",
   "execution_count": 3,
   "id": "ccb88234-a0e4-44d7-814d-91c7a84d5f14",
   "metadata": {},
   "outputs": [],
   "source": [
    "# Set path to this notebook\n",
    "HERE = Path(_dh[-1])\n",
    "DATA = HERE / \"../../data\""
   ]
  },
  {
   "cell_type": "code",
   "execution_count": 4,
   "id": "07af20a2-2710-4ec8-bceb-fea34e37acde",
   "metadata": {},
   "outputs": [],
   "source": [
    "# Path to AF download\n",
    "AF_PATH = Path(DATA / \"external/structures/AlphaFoldDB\")\n",
    "# Path to folder for processed output files from this notebook\n",
    "AF_KLIFS_METADATA_PATH = DATA / \"processed/af_klifs_metadata.csv\""
   ]
  },
  {
   "cell_type": "markdown",
   "id": "c7711eb5-74e2-4a2c-b91c-09c269cd2bc3",
   "metadata": {},
   "source": [
    "<div class=\"alert alert-block alert-info\">\n",
    "    If you want to run this notebook with your copy of the AF dataset, please change the paths in the cell above to your paths.\n",
    "</div>"
   ]
  },
  {
   "cell_type": "markdown",
   "id": "3bd521bf-da9d-4b75-a586-813843e0b7e4",
   "metadata": {},
   "source": [
    "## Download the human AF dataset\n",
    "\n",
    "**Manual step**: AlphaFold DB provides [download links](https://alphafold.ebi.ac.uk/download) for the proteome of different species. Download the human dataset!"
   ]
  },
  {
   "cell_type": "markdown",
   "id": "a78646b0-052d-48da-b4a0-ef26601d558d",
   "metadata": {},
   "source": [
    "## Kinase UniProt IDs in KLIFS"
   ]
  },
  {
   "cell_type": "markdown",
   "id": "ccc445e9-751e-4845-b7ed-205331f82216",
   "metadata": {},
   "source": [
    "Install the `opencadd` version that uses the KLIFS Swagger V2 (`klifs-dev` branch)."
   ]
  },
  {
   "cell_type": "code",
   "execution_count": 5,
   "id": "1bb25a2b-98be-4e33-b6dc-fee9e64a64ca",
   "metadata": {},
   "outputs": [
    {
     "name": "stdout",
     "output_type": "stream",
     "text": [
      "Collecting https://github.com/volkamerlab/opencadd/archive/klifs-dev.zip\n",
      "  Using cached https://github.com/volkamerlab/opencadd/archive/klifs-dev.zip\n"
     ]
    }
   ],
   "source": [
    "!pip install https://github.com/volkamerlab/opencadd/archive/klifs-dev.zip"
   ]
  },
  {
   "cell_type": "code",
   "execution_count": 6,
   "id": "006e8865-435b-47f7-9e0b-e95d6e081259",
   "metadata": {
    "tags": []
   },
   "outputs": [
    {
     "name": "stderr",
     "output_type": "stream",
     "text": [
      "INFO:opencadd.databases.klifs.api:If you want to see an non-truncated version of the DataFrames in this module, use `pd.set_option('display.max_columns', 50)` in your notebook.\n",
      "INFO:opencadd.databases.klifs.api:Set up remote session...\n",
      "INFO:opencadd.databases.klifs.api:Remote session is ready!\n"
     ]
    }
   ],
   "source": [
    "from opencadd.databases.klifs import setup_remote\n",
    "\n",
    "klifs_session = setup_remote()"
   ]
  },
  {
   "cell_type": "code",
   "execution_count": 7,
   "id": "3a1f1389-b2da-4265-b547-fbdaa1da9b8a",
   "metadata": {},
   "outputs": [
    {
     "name": "stdout",
     "output_type": "stream",
     "text": [
      "Number of kinases in KLIFS: 555\n",
      "Number of kinases in KLIFS with UniProt ID: 555\n"
     ]
    }
   ],
   "source": [
    "# Get kinases in KLIFS\n",
    "kinases = klifs_session.kinases.all_kinases(species=\"Human\")\n",
    "print(f\"Number of kinases in KLIFS: {kinases.shape[0]}\")\n",
    "# Remove kinases without UniProt ID\n",
    "kinases = kinases[kinases[\"kinase.uniprot\"] != 0]\n",
    "print(f\"Number of kinases in KLIFS with UniProt ID: {kinases.shape[0]}\")"
   ]
  },
  {
   "cell_type": "code",
   "execution_count": 8,
   "id": "ab8046d2-0694-4e2c-bcdc-93d3ccbf48e3",
   "metadata": {},
   "outputs": [
    {
     "data": {
      "text/plain": [
       "555"
      ]
     },
     "execution_count": 8,
     "metadata": {},
     "output_type": "execute_result"
    }
   ],
   "source": [
    "uniprot_ids = kinases[\"kinase.uniprot\"].to_list()\n",
    "len(uniprot_ids)"
   ]
  },
  {
   "cell_type": "markdown",
   "id": "1f6b1f55-fd45-41b9-b340-1aa3eff161b6",
   "metadata": {},
   "source": [
    "### Pseudokinases in KLIFS\n",
    "\n",
    "These kinases might need to be dealt with individually, so let's keep a lot of UniProt IDs for downstream processing."
   ]
  },
  {
   "cell_type": "code",
   "execution_count": 9,
   "id": "4c28d478-0873-49e0-b9eb-fae76c2c7e81",
   "metadata": {},
   "outputs": [
    {
     "name": "stdout",
     "output_type": "stream",
     "text": [
      "13 pseudokinases\n"
     ]
    },
    {
     "data": {
      "text/html": [
       "<div>\n",
       "<style scoped>\n",
       "    .dataframe tbody tr th:only-of-type {\n",
       "        vertical-align: middle;\n",
       "    }\n",
       "\n",
       "    .dataframe tbody tr th {\n",
       "        vertical-align: top;\n",
       "    }\n",
       "\n",
       "    .dataframe thead th {\n",
       "        text-align: right;\n",
       "    }\n",
       "</style>\n",
       "<table border=\"1\" class=\"dataframe\">\n",
       "  <thead>\n",
       "    <tr style=\"text-align: right;\">\n",
       "      <th></th>\n",
       "      <th>kinase.klifs_id</th>\n",
       "      <th>kinase.klifs_name</th>\n",
       "      <th>kinase.full_name</th>\n",
       "      <th>kinase.gene_name</th>\n",
       "      <th>kinase.uniprot</th>\n",
       "      <th>species.klifs</th>\n",
       "    </tr>\n",
       "  </thead>\n",
       "  <tbody>\n",
       "    <tr>\n",
       "      <th>133</th>\n",
       "      <td>306</td>\n",
       "      <td>GCN2</td>\n",
       "      <td>eukaryotic translation initiation factor 2 alp...</td>\n",
       "      <td>EIF2AK4</td>\n",
       "      <td>Q9P2K8</td>\n",
       "      <td>Human</td>\n",
       "    </tr>\n",
       "    <tr>\n",
       "      <th>134</th>\n",
       "      <td>307</td>\n",
       "      <td>GCN2-b</td>\n",
       "      <td>eukaryotic translation initiation factor 2 alp...</td>\n",
       "      <td>EIF2AK4-b</td>\n",
       "      <td>Q9P2K8</td>\n",
       "      <td>Human</td>\n",
       "    </tr>\n",
       "    <tr>\n",
       "      <th>201</th>\n",
       "      <td>435</td>\n",
       "      <td>JAK1</td>\n",
       "      <td>Janus kinase 1</td>\n",
       "      <td>JAK1</td>\n",
       "      <td>P23458</td>\n",
       "      <td>Human</td>\n",
       "    </tr>\n",
       "    <tr>\n",
       "      <th>202</th>\n",
       "      <td>438</td>\n",
       "      <td>JAK1-b</td>\n",
       "      <td>Janus kinase 1 (2nd domain)</td>\n",
       "      <td>JAK1-b</td>\n",
       "      <td>P23458</td>\n",
       "      <td>Human</td>\n",
       "    </tr>\n",
       "    <tr>\n",
       "      <th>203</th>\n",
       "      <td>436</td>\n",
       "      <td>JAK2</td>\n",
       "      <td>Janus kinase 2</td>\n",
       "      <td>JAK2</td>\n",
       "      <td>O60674</td>\n",
       "      <td>Human</td>\n",
       "    </tr>\n",
       "    <tr>\n",
       "      <th>204</th>\n",
       "      <td>439</td>\n",
       "      <td>JAK2-b</td>\n",
       "      <td>Janus kinase 2 (2nd domain)</td>\n",
       "      <td>JAK2-b</td>\n",
       "      <td>O60674</td>\n",
       "      <td>Human</td>\n",
       "    </tr>\n",
       "    <tr>\n",
       "      <th>205</th>\n",
       "      <td>437</td>\n",
       "      <td>JAK3</td>\n",
       "      <td>Janus kinase 3</td>\n",
       "      <td>JAK3</td>\n",
       "      <td>P52333</td>\n",
       "      <td>Human</td>\n",
       "    </tr>\n",
       "    <tr>\n",
       "      <th>206</th>\n",
       "      <td>440</td>\n",
       "      <td>JAK3-b</td>\n",
       "      <td>Janus kinase 3 (2nd domain)</td>\n",
       "      <td>JAK3-b</td>\n",
       "      <td>P52333</td>\n",
       "      <td>Human</td>\n",
       "    </tr>\n",
       "    <tr>\n",
       "      <th>321</th>\n",
       "      <td>173</td>\n",
       "      <td>Obscn</td>\n",
       "      <td>obscurin, cytoskeletal calmodulin and titin-in...</td>\n",
       "      <td>OBSCN</td>\n",
       "      <td>Q5VST9</td>\n",
       "      <td>Human</td>\n",
       "    </tr>\n",
       "    <tr>\n",
       "      <th>322</th>\n",
       "      <td>174</td>\n",
       "      <td>Obscn-b</td>\n",
       "      <td>obscurin, cytoskeletal calmodulin and titin-in...</td>\n",
       "      <td>OBSCN-b</td>\n",
       "      <td>Q5VST9</td>\n",
       "      <td>Human</td>\n",
       "    </tr>\n",
       "    <tr>\n",
       "      <th>427</th>\n",
       "      <td>53</td>\n",
       "      <td>RSK3</td>\n",
       "      <td>ribosomal protein S6 kinase A1</td>\n",
       "      <td>RPS6KA1</td>\n",
       "      <td>Q15418</td>\n",
       "      <td>Human</td>\n",
       "    </tr>\n",
       "    <tr>\n",
       "      <th>428</th>\n",
       "      <td>57</td>\n",
       "      <td>RSK3-b</td>\n",
       "      <td>ribosomal protein S6 kinase A1 (2nd domain)</td>\n",
       "      <td>RPS6KA1-b</td>\n",
       "      <td>Q15418</td>\n",
       "      <td>Human</td>\n",
       "    </tr>\n",
       "    <tr>\n",
       "      <th>429</th>\n",
       "      <td>54</td>\n",
       "      <td>RSK1</td>\n",
       "      <td>ribosomal protein S6 kinase A2</td>\n",
       "      <td>RPS6KA2</td>\n",
       "      <td>Q15349</td>\n",
       "      <td>Human</td>\n",
       "    </tr>\n",
       "    <tr>\n",
       "      <th>430</th>\n",
       "      <td>58</td>\n",
       "      <td>RSK1-b</td>\n",
       "      <td>ribosomal protein S6 kinase A2 (2nd domain)</td>\n",
       "      <td>RPS6KA2-b</td>\n",
       "      <td>Q15349</td>\n",
       "      <td>Human</td>\n",
       "    </tr>\n",
       "    <tr>\n",
       "      <th>431</th>\n",
       "      <td>55</td>\n",
       "      <td>RSK2</td>\n",
       "      <td>ribosomal protein S6 kinase A3</td>\n",
       "      <td>RPS6KA3</td>\n",
       "      <td>P51812</td>\n",
       "      <td>Human</td>\n",
       "    </tr>\n",
       "    <tr>\n",
       "      <th>432</th>\n",
       "      <td>59</td>\n",
       "      <td>RSK2-b</td>\n",
       "      <td>ribosomal protein S6 kinase A3 (2nd domain)</td>\n",
       "      <td>RPS6KA3-b</td>\n",
       "      <td>P51812</td>\n",
       "      <td>Human</td>\n",
       "    </tr>\n",
       "    <tr>\n",
       "      <th>433</th>\n",
       "      <td>47</td>\n",
       "      <td>MSK2</td>\n",
       "      <td>ribosomal protein S6 kinase A4</td>\n",
       "      <td>RPS6KA4</td>\n",
       "      <td>O75676</td>\n",
       "      <td>Human</td>\n",
       "    </tr>\n",
       "    <tr>\n",
       "      <th>434</th>\n",
       "      <td>48</td>\n",
       "      <td>MSK2-b</td>\n",
       "      <td>ribosomal protein S6 kinase A4 (2nd domain)</td>\n",
       "      <td>RPS6KA4-b</td>\n",
       "      <td>O75676</td>\n",
       "      <td>Human</td>\n",
       "    </tr>\n",
       "    <tr>\n",
       "      <th>435</th>\n",
       "      <td>49</td>\n",
       "      <td>MSK1</td>\n",
       "      <td>ribosomal protein S6 kinase A5</td>\n",
       "      <td>RPS6KA5</td>\n",
       "      <td>O75582</td>\n",
       "      <td>Human</td>\n",
       "    </tr>\n",
       "    <tr>\n",
       "      <th>436</th>\n",
       "      <td>50</td>\n",
       "      <td>MSK1-b</td>\n",
       "      <td>ribosomal protein S6 kinase A5 (2nd domain)</td>\n",
       "      <td>RPS6KA5-b</td>\n",
       "      <td>O75582</td>\n",
       "      <td>Human</td>\n",
       "    </tr>\n",
       "    <tr>\n",
       "      <th>437</th>\n",
       "      <td>56</td>\n",
       "      <td>RSK4</td>\n",
       "      <td>ribosomal protein S6 kinase A6</td>\n",
       "      <td>RPS6KA6</td>\n",
       "      <td>Q9UK32</td>\n",
       "      <td>Human</td>\n",
       "    </tr>\n",
       "    <tr>\n",
       "      <th>438</th>\n",
       "      <td>60</td>\n",
       "      <td>RSK4-b</td>\n",
       "      <td>ribosomal protein S6 kinase A6 (2nd domain)</td>\n",
       "      <td>RPS6KA6-b</td>\n",
       "      <td>Q9UK32</td>\n",
       "      <td>Human</td>\n",
       "    </tr>\n",
       "    <tr>\n",
       "      <th>460</th>\n",
       "      <td>175</td>\n",
       "      <td>SPEG</td>\n",
       "      <td>SPEG complex locus</td>\n",
       "      <td>SPEG</td>\n",
       "      <td>Q15772</td>\n",
       "      <td>Human</td>\n",
       "    </tr>\n",
       "    <tr>\n",
       "      <th>461</th>\n",
       "      <td>176</td>\n",
       "      <td>SPEG-b</td>\n",
       "      <td>SPEG complex locus (2nd domain)</td>\n",
       "      <td>SPEG-b</td>\n",
       "      <td>Q15772</td>\n",
       "      <td>Human</td>\n",
       "    </tr>\n",
       "    <tr>\n",
       "      <th>536</th>\n",
       "      <td>441</td>\n",
       "      <td>TYK2</td>\n",
       "      <td>tyrosine kinase 2</td>\n",
       "      <td>TYK2</td>\n",
       "      <td>P29597</td>\n",
       "      <td>Human</td>\n",
       "    </tr>\n",
       "    <tr>\n",
       "      <th>537</th>\n",
       "      <td>442</td>\n",
       "      <td>TYK2-b</td>\n",
       "      <td>tyrosine kinase 2 (2nd domain)</td>\n",
       "      <td>TYK2-b</td>\n",
       "      <td>P29597</td>\n",
       "      <td>Human</td>\n",
       "    </tr>\n",
       "  </tbody>\n",
       "</table>\n",
       "</div>"
      ],
      "text/plain": [
       "     kinase.klifs_id kinase.klifs_name  \\\n",
       "133              306              GCN2   \n",
       "134              307            GCN2-b   \n",
       "201              435              JAK1   \n",
       "202              438            JAK1-b   \n",
       "203              436              JAK2   \n",
       "204              439            JAK2-b   \n",
       "205              437              JAK3   \n",
       "206              440            JAK3-b   \n",
       "321              173             Obscn   \n",
       "322              174           Obscn-b   \n",
       "427               53              RSK3   \n",
       "428               57            RSK3-b   \n",
       "429               54              RSK1   \n",
       "430               58            RSK1-b   \n",
       "431               55              RSK2   \n",
       "432               59            RSK2-b   \n",
       "433               47              MSK2   \n",
       "434               48            MSK2-b   \n",
       "435               49              MSK1   \n",
       "436               50            MSK1-b   \n",
       "437               56              RSK4   \n",
       "438               60            RSK4-b   \n",
       "460              175              SPEG   \n",
       "461              176            SPEG-b   \n",
       "536              441              TYK2   \n",
       "537              442            TYK2-b   \n",
       "\n",
       "                                      kinase.full_name kinase.gene_name  \\\n",
       "133  eukaryotic translation initiation factor 2 alp...          EIF2AK4   \n",
       "134  eukaryotic translation initiation factor 2 alp...        EIF2AK4-b   \n",
       "201                                     Janus kinase 1             JAK1   \n",
       "202                        Janus kinase 1 (2nd domain)           JAK1-b   \n",
       "203                                     Janus kinase 2             JAK2   \n",
       "204                        Janus kinase 2 (2nd domain)           JAK2-b   \n",
       "205                                     Janus kinase 3             JAK3   \n",
       "206                        Janus kinase 3 (2nd domain)           JAK3-b   \n",
       "321  obscurin, cytoskeletal calmodulin and titin-in...            OBSCN   \n",
       "322  obscurin, cytoskeletal calmodulin and titin-in...          OBSCN-b   \n",
       "427                     ribosomal protein S6 kinase A1          RPS6KA1   \n",
       "428        ribosomal protein S6 kinase A1 (2nd domain)        RPS6KA1-b   \n",
       "429                     ribosomal protein S6 kinase A2          RPS6KA2   \n",
       "430        ribosomal protein S6 kinase A2 (2nd domain)        RPS6KA2-b   \n",
       "431                     ribosomal protein S6 kinase A3          RPS6KA3   \n",
       "432        ribosomal protein S6 kinase A3 (2nd domain)        RPS6KA3-b   \n",
       "433                     ribosomal protein S6 kinase A4          RPS6KA4   \n",
       "434        ribosomal protein S6 kinase A4 (2nd domain)        RPS6KA4-b   \n",
       "435                     ribosomal protein S6 kinase A5          RPS6KA5   \n",
       "436        ribosomal protein S6 kinase A5 (2nd domain)        RPS6KA5-b   \n",
       "437                     ribosomal protein S6 kinase A6          RPS6KA6   \n",
       "438        ribosomal protein S6 kinase A6 (2nd domain)        RPS6KA6-b   \n",
       "460                                 SPEG complex locus             SPEG   \n",
       "461                    SPEG complex locus (2nd domain)           SPEG-b   \n",
       "536                                  tyrosine kinase 2             TYK2   \n",
       "537                     tyrosine kinase 2 (2nd domain)           TYK2-b   \n",
       "\n",
       "    kinase.uniprot species.klifs  \n",
       "133         Q9P2K8         Human  \n",
       "134         Q9P2K8         Human  \n",
       "201         P23458         Human  \n",
       "202         P23458         Human  \n",
       "203         O60674         Human  \n",
       "204         O60674         Human  \n",
       "205         P52333         Human  \n",
       "206         P52333         Human  \n",
       "321         Q5VST9         Human  \n",
       "322         Q5VST9         Human  \n",
       "427         Q15418         Human  \n",
       "428         Q15418         Human  \n",
       "429         Q15349         Human  \n",
       "430         Q15349         Human  \n",
       "431         P51812         Human  \n",
       "432         P51812         Human  \n",
       "433         O75676         Human  \n",
       "434         O75676         Human  \n",
       "435         O75582         Human  \n",
       "436         O75582         Human  \n",
       "437         Q9UK32         Human  \n",
       "438         Q9UK32         Human  \n",
       "460         Q15772         Human  \n",
       "461         Q15772         Human  \n",
       "536         P29597         Human  \n",
       "537         P29597         Human  "
      ]
     },
     "execution_count": 9,
     "metadata": {},
     "output_type": "execute_result"
    }
   ],
   "source": [
    "pseudokinases = kinases[kinases[\"kinase.klifs_name\"].str.endswith(\"-b\")]\n",
    "uniprot_ids_pseudokinases = pseudokinases[\"kinase.uniprot\"].to_list()\n",
    "print(f\"{len(uniprot_ids_pseudokinases)} pseudokinases\")\n",
    "kinases[kinases[\"kinase.uniprot\"].isin(uniprot_ids_pseudokinases)]"
   ]
  },
  {
   "cell_type": "markdown",
   "id": "6b0faef4-f905-4d40-8a0e-569c52e5f8d9",
   "metadata": {},
   "source": [
    "## Get all files in the human AF dataset"
   ]
  },
  {
   "cell_type": "code",
   "execution_count": 10,
   "id": "80a6b2b8-b612-433e-b469-8c1ed4e38865",
   "metadata": {},
   "outputs": [
    {
     "data": {
      "text/plain": [
       "46782"
      ]
     },
     "execution_count": 10,
     "metadata": {},
     "output_type": "execute_result"
    }
   ],
   "source": [
    "t = tarfile.open(Path(AF_PATH / \"UP000005640_9606_HUMAN.tar\"))\n",
    "af_files = t.getnames()\n",
    "len(af_files)"
   ]
  },
  {
   "cell_type": "code",
   "execution_count": 11,
   "id": "1436624e-89c4-43a5-a348-2871488ac25f",
   "metadata": {},
   "outputs": [
    {
     "data": {
      "text/plain": [
       "['AF-A0A024R1R8-F1-model_v1.cif.gz',\n",
       " 'AF-A0A024R1R8-F1-model_v1.pdb.gz',\n",
       " 'AF-A0A024RBG1-F1-model_v1.cif.gz',\n",
       " 'AF-A0A024RBG1-F1-model_v1.pdb.gz',\n",
       " 'AF-A0A024RCN7-F1-model_v1.cif.gz',\n",
       " 'AF-A0A024RCN7-F1-model_v1.pdb.gz',\n",
       " 'AF-A0A075B6H5-F1-model_v1.cif.gz',\n",
       " 'AF-A0A075B6H5-F1-model_v1.pdb.gz',\n",
       " 'AF-A0A075B6H7-F1-model_v1.cif.gz',\n",
       " 'AF-A0A075B6H7-F1-model_v1.pdb.gz']"
      ]
     },
     "execution_count": 11,
     "metadata": {},
     "output_type": "execute_result"
    }
   ],
   "source": [
    "af_files[:10]"
   ]
  },
  {
   "cell_type": "markdown",
   "id": "b6ef7567-c90f-4132-b990-0a045b35bd15",
   "metadata": {},
   "source": [
    "## Filter AF kinase structures"
   ]
  },
  {
   "cell_type": "code",
   "execution_count": 12,
   "id": "884a237c-4a79-4494-91c8-579d3d530285",
   "metadata": {},
   "outputs": [],
   "source": [
    "uniprot_to_files = {}\n",
    "for uniprot_id in uniprot_ids:\n",
    "    r = re.compile(f\".*{uniprot_id}.*.pdb.gz\")\n",
    "    uniprot_to_files[uniprot_id] = list(filter(r.match, af_files))"
   ]
  },
  {
   "cell_type": "markdown",
   "id": "f07ea848-258b-4cc0-8fc3-770fb5e26d59",
   "metadata": {},
   "source": [
    "### Number of models per kinase\n",
    "\n",
    "**TODO**: Some kinases are represented by multiple structures indicated by F1, F2, ... - what are they?\n",
    "\n",
    "- Isoforms\n",
    "- They are not part of the AF `sequences.fasta` file"
   ]
  },
  {
   "cell_type": "code",
   "execution_count": 13,
   "id": "133df3c1-fd92-4264-8e0d-5b743dc0dee6",
   "metadata": {},
   "outputs": [
    {
     "data": {
      "text/html": [
       "<div>\n",
       "<style scoped>\n",
       "    .dataframe tbody tr th:only-of-type {\n",
       "        vertical-align: middle;\n",
       "    }\n",
       "\n",
       "    .dataframe tbody tr th {\n",
       "        vertical-align: top;\n",
       "    }\n",
       "\n",
       "    .dataframe thead th {\n",
       "        text-align: right;\n",
       "    }\n",
       "</style>\n",
       "<table border=\"1\" class=\"dataframe\">\n",
       "  <thead>\n",
       "    <tr style=\"text-align: right;\">\n",
       "      <th></th>\n",
       "      <th>n_models</th>\n",
       "      <th>n_kinases</th>\n",
       "    </tr>\n",
       "  </thead>\n",
       "  <tbody>\n",
       "    <tr>\n",
       "      <th>0</th>\n",
       "      <td>1</td>\n",
       "      <td>534</td>\n",
       "    </tr>\n",
       "    <tr>\n",
       "      <th>2</th>\n",
       "      <td>9</td>\n",
       "      <td>1</td>\n",
       "    </tr>\n",
       "    <tr>\n",
       "      <th>1</th>\n",
       "      <td>10</td>\n",
       "      <td>2</td>\n",
       "    </tr>\n",
       "    <tr>\n",
       "      <th>3</th>\n",
       "      <td>11</td>\n",
       "      <td>1</td>\n",
       "    </tr>\n",
       "    <tr>\n",
       "      <th>4</th>\n",
       "      <td>13</td>\n",
       "      <td>1</td>\n",
       "    </tr>\n",
       "    <tr>\n",
       "      <th>5</th>\n",
       "      <td>14</td>\n",
       "      <td>1</td>\n",
       "    </tr>\n",
       "    <tr>\n",
       "      <th>6</th>\n",
       "      <td>34</td>\n",
       "      <td>1</td>\n",
       "    </tr>\n",
       "    <tr>\n",
       "      <th>7</th>\n",
       "      <td>166</td>\n",
       "      <td>1</td>\n",
       "    </tr>\n",
       "  </tbody>\n",
       "</table>\n",
       "</div>"
      ],
      "text/plain": [
       "   n_models  n_kinases\n",
       "0         1        534\n",
       "2         9          1\n",
       "1        10          2\n",
       "3        11          1\n",
       "4        13          1\n",
       "5        14          1\n",
       "6        34          1\n",
       "7       166          1"
      ]
     },
     "execution_count": 13,
     "metadata": {},
     "output_type": "execute_result"
    }
   ],
   "source": [
    "uniprot_to_files_stats = {uniprot_id: len(files) for uniprot_id, files in uniprot_to_files.items()}\n",
    "uniprot_to_files_stats = pd.Series(uniprot_to_files_stats, name=\"n_kinases\")\n",
    "uniprot_to_files_stats = uniprot_to_files_stats.value_counts().to_frame()\n",
    "uniprot_to_files_stats.index.name = \"n_models\"\n",
    "uniprot_to_files_stats = uniprot_to_files_stats.reset_index().sort_values(\"n_models\")\n",
    "uniprot_to_files_stats"
   ]
  },
  {
   "cell_type": "markdown",
   "id": "a7e5c848-8a95-4b7d-a358-65f099452f99",
   "metadata": {},
   "source": [
    "List kinases with multiple models:"
   ]
  },
  {
   "cell_type": "code",
   "execution_count": 14,
   "id": "4b50f059-513e-4dab-b0f2-a1331c2a987c",
   "metadata": {},
   "outputs": [
    {
     "data": {
      "text/html": [
       "<div>\n",
       "<style scoped>\n",
       "    .dataframe tbody tr th:only-of-type {\n",
       "        vertical-align: middle;\n",
       "    }\n",
       "\n",
       "    .dataframe tbody tr th {\n",
       "        vertical-align: top;\n",
       "    }\n",
       "\n",
       "    .dataframe thead th {\n",
       "        text-align: right;\n",
       "    }\n",
       "</style>\n",
       "<table border=\"1\" class=\"dataframe\">\n",
       "  <thead>\n",
       "    <tr style=\"text-align: right;\">\n",
       "      <th></th>\n",
       "      <th>kinase.klifs_id</th>\n",
       "      <th>kinase.klifs_name</th>\n",
       "      <th>kinase.full_name</th>\n",
       "      <th>kinase.gene_name</th>\n",
       "      <th>kinase.uniprot</th>\n",
       "      <th>species.klifs</th>\n",
       "    </tr>\n",
       "  </thead>\n",
       "  <tbody>\n",
       "    <tr>\n",
       "      <th>24</th>\n",
       "      <td>94</td>\n",
       "      <td>ATM</td>\n",
       "      <td>Serine-protein kinase ATM</td>\n",
       "      <td>ATM</td>\n",
       "      <td>Q13315</td>\n",
       "      <td>Human</td>\n",
       "    </tr>\n",
       "    <tr>\n",
       "      <th>207</th>\n",
       "      <td>178</td>\n",
       "      <td>Trad</td>\n",
       "      <td>kalirin, RhoGEF kinase</td>\n",
       "      <td>KALRN</td>\n",
       "      <td>O60229</td>\n",
       "      <td>Human</td>\n",
       "    </tr>\n",
       "    <tr>\n",
       "      <th>321</th>\n",
       "      <td>173</td>\n",
       "      <td>Obscn</td>\n",
       "      <td>obscurin, cytoskeletal calmodulin and titin-in...</td>\n",
       "      <td>OBSCN</td>\n",
       "      <td>Q5VST9</td>\n",
       "      <td>Human</td>\n",
       "    </tr>\n",
       "    <tr>\n",
       "      <th>322</th>\n",
       "      <td>174</td>\n",
       "      <td>Obscn-b</td>\n",
       "      <td>obscurin, cytoskeletal calmodulin and titin-in...</td>\n",
       "      <td>OBSCN-b</td>\n",
       "      <td>Q5VST9</td>\n",
       "      <td>Human</td>\n",
       "    </tr>\n",
       "    <tr>\n",
       "      <th>458</th>\n",
       "      <td>98</td>\n",
       "      <td>SMG1</td>\n",
       "      <td>Serine/threonine-protein kinase SMG1</td>\n",
       "      <td>SMG1</td>\n",
       "      <td>Q96Q15</td>\n",
       "      <td>Human</td>\n",
       "    </tr>\n",
       "    <tr>\n",
       "      <th>460</th>\n",
       "      <td>175</td>\n",
       "      <td>SPEG</td>\n",
       "      <td>SPEG complex locus</td>\n",
       "      <td>SPEG</td>\n",
       "      <td>Q15772</td>\n",
       "      <td>Human</td>\n",
       "    </tr>\n",
       "    <tr>\n",
       "      <th>461</th>\n",
       "      <td>176</td>\n",
       "      <td>SPEG-b</td>\n",
       "      <td>SPEG complex locus (2nd domain)</td>\n",
       "      <td>SPEG-b</td>\n",
       "      <td>Q15772</td>\n",
       "      <td>Human</td>\n",
       "    </tr>\n",
       "    <tr>\n",
       "      <th>522</th>\n",
       "      <td>177</td>\n",
       "      <td>Trio</td>\n",
       "      <td>trio Rho guanine nucleotide exchange factor</td>\n",
       "      <td>TRIO</td>\n",
       "      <td>O75962</td>\n",
       "      <td>Human</td>\n",
       "    </tr>\n",
       "    <tr>\n",
       "      <th>525</th>\n",
       "      <td>99</td>\n",
       "      <td>TRRAP</td>\n",
       "      <td>Transformation/transcription domain-associated...</td>\n",
       "      <td>TRRAP</td>\n",
       "      <td>Q9Y4A5</td>\n",
       "      <td>Human</td>\n",
       "    </tr>\n",
       "    <tr>\n",
       "      <th>534</th>\n",
       "      <td>154</td>\n",
       "      <td>TTN</td>\n",
       "      <td>titin</td>\n",
       "      <td>TTN</td>\n",
       "      <td>Q8WZ42</td>\n",
       "      <td>Human</td>\n",
       "    </tr>\n",
       "  </tbody>\n",
       "</table>\n",
       "</div>"
      ],
      "text/plain": [
       "     kinase.klifs_id kinase.klifs_name  \\\n",
       "24                94               ATM   \n",
       "207              178              Trad   \n",
       "321              173             Obscn   \n",
       "322              174           Obscn-b   \n",
       "458               98              SMG1   \n",
       "460              175              SPEG   \n",
       "461              176            SPEG-b   \n",
       "522              177              Trio   \n",
       "525               99             TRRAP   \n",
       "534              154               TTN   \n",
       "\n",
       "                                      kinase.full_name kinase.gene_name  \\\n",
       "24                           Serine-protein kinase ATM              ATM   \n",
       "207                             kalirin, RhoGEF kinase            KALRN   \n",
       "321  obscurin, cytoskeletal calmodulin and titin-in...            OBSCN   \n",
       "322  obscurin, cytoskeletal calmodulin and titin-in...          OBSCN-b   \n",
       "458               Serine/threonine-protein kinase SMG1             SMG1   \n",
       "460                                 SPEG complex locus             SPEG   \n",
       "461                    SPEG complex locus (2nd domain)           SPEG-b   \n",
       "522        trio Rho guanine nucleotide exchange factor             TRIO   \n",
       "525  Transformation/transcription domain-associated...            TRRAP   \n",
       "534                                              titin              TTN   \n",
       "\n",
       "    kinase.uniprot species.klifs  \n",
       "24          Q13315         Human  \n",
       "207         O60229         Human  \n",
       "321         Q5VST9         Human  \n",
       "322         Q5VST9         Human  \n",
       "458         Q96Q15         Human  \n",
       "460         Q15772         Human  \n",
       "461         Q15772         Human  \n",
       "522         O75962         Human  \n",
       "525         Q9Y4A5         Human  \n",
       "534         Q8WZ42         Human  "
      ]
     },
     "execution_count": 14,
     "metadata": {},
     "output_type": "execute_result"
    }
   ],
   "source": [
    "uniprot_with_multiple_files = {}\n",
    "for uniprot_id, files in uniprot_to_files.items():\n",
    "    if len(files) > 1:\n",
    "        uniprot_with_multiple_files[uniprot_id] = files\n",
    "kinases[kinases[\"kinase.uniprot\"].isin(list(uniprot_with_multiple_files.keys()))]"
   ]
  },
  {
   "cell_type": "markdown",
   "id": "e024a7c1-cf8d-4e3e-8de4-668590d75836",
   "metadata": {},
   "source": [
    "## Decompress AF kinase files in new folder\n",
    "\n",
    "The PDB files come as `.pdb.gz`; decompress and save all kinase PDB files to a new folder."
   ]
  },
  {
   "cell_type": "code",
   "execution_count": 15,
   "id": "6572ee14-e964-4e60-83e7-7c8da9e8ef4b",
   "metadata": {},
   "outputs": [],
   "source": [
    "# Make directory for kinase files\n",
    "af_kinases_path = AF_PATH / \"af_kinases\"\n",
    "af_kinases_path.mkdir(parents=True, exist_ok=True)"
   ]
  },
  {
   "cell_type": "code",
   "execution_count": 16,
   "id": "0193adf9-5d27-4ed7-bc80-57011fe59be3",
   "metadata": {},
   "outputs": [],
   "source": [
    "# Extract pdb.gz kinase files to new folder\n",
    "for uniprot_id in uniprot_ids:\n",
    "    r = re.compile(f\".*{uniprot_id}.*.pdb.gz\")\n",
    "    members = [m for m in t.getmembers() if r.search(m.name)]\n",
    "    t.extractall(af_kinases_path, members=members)"
   ]
  },
  {
   "cell_type": "code",
   "execution_count": 17,
   "id": "e6cd18b3-87ba-4034-afe9-6566157e3811",
   "metadata": {},
   "outputs": [
    {
     "data": {
      "text/plain": [
       "0"
      ]
     },
     "execution_count": 17,
     "metadata": {},
     "output_type": "execute_result"
    }
   ],
   "source": [
    "# Decompress PDB files (will remove pdb.gz files)\n",
    "cmd = f\"gunzip {af_kinases_path / '*.pdb.gz'}\"\n",
    "os.system(cmd)"
   ]
  },
  {
   "cell_type": "markdown",
   "id": "c0dd8fd2-afea-4539-8081-4604e8448f69",
   "metadata": {},
   "source": [
    "## Choose models F1 per kinase only\n",
    "\n",
    "**TODO**: Still need to understand what the different models stand for."
   ]
  },
  {
   "cell_type": "code",
   "execution_count": 18,
   "id": "447e524f-eed3-4197-b51a-15ed9486e8cc",
   "metadata": {},
   "outputs": [
    {
     "data": {
      "text/html": [
       "<div>\n",
       "<style scoped>\n",
       "    .dataframe tbody tr th:only-of-type {\n",
       "        vertical-align: middle;\n",
       "    }\n",
       "\n",
       "    .dataframe tbody tr th {\n",
       "        vertical-align: top;\n",
       "    }\n",
       "\n",
       "    .dataframe thead th {\n",
       "        text-align: right;\n",
       "    }\n",
       "</style>\n",
       "<table border=\"1\" class=\"dataframe\">\n",
       "  <thead>\n",
       "    <tr style=\"text-align: right;\">\n",
       "      <th></th>\n",
       "      <th>kinase.uniprot</th>\n",
       "      <th>structure.af_file</th>\n",
       "    </tr>\n",
       "  </thead>\n",
       "  <tbody>\n",
       "    <tr>\n",
       "      <th>0</th>\n",
       "      <td>Q2M2I8</td>\n",
       "      <td>AF-Q2M2I8-F1-model_v1.pdb.gz</td>\n",
       "    </tr>\n",
       "    <tr>\n",
       "      <th>1</th>\n",
       "      <td>Q6ZMQ8</td>\n",
       "      <td>AF-Q6ZMQ8-F1-model_v1.pdb.gz</td>\n",
       "    </tr>\n",
       "    <tr>\n",
       "      <th>2</th>\n",
       "      <td>P00519</td>\n",
       "      <td>AF-P00519-F1-model_v1.pdb.gz</td>\n",
       "    </tr>\n",
       "    <tr>\n",
       "      <th>3</th>\n",
       "      <td>P42684</td>\n",
       "      <td>AF-P42684-F1-model_v1.pdb.gz</td>\n",
       "    </tr>\n",
       "    <tr>\n",
       "      <th>4</th>\n",
       "      <td>Q04771</td>\n",
       "      <td>AF-Q04771-F1-model_v1.pdb.gz</td>\n",
       "    </tr>\n",
       "    <tr>\n",
       "      <th>...</th>\n",
       "      <td>...</td>\n",
       "      <td>...</td>\n",
       "    </tr>\n",
       "    <tr>\n",
       "      <th>537</th>\n",
       "      <td>Q9Y3S1</td>\n",
       "      <td>AF-Q9Y3S1-F1-model_v1.pdb.gz</td>\n",
       "    </tr>\n",
       "    <tr>\n",
       "      <th>538</th>\n",
       "      <td>Q9BYP7</td>\n",
       "      <td>AF-Q9BYP7-F1-model_v1.pdb.gz</td>\n",
       "    </tr>\n",
       "    <tr>\n",
       "      <th>539</th>\n",
       "      <td>Q96J92</td>\n",
       "      <td>AF-Q96J92-F1-model_v1.pdb.gz</td>\n",
       "    </tr>\n",
       "    <tr>\n",
       "      <th>540</th>\n",
       "      <td>P07947</td>\n",
       "      <td>AF-P07947-F1-model_v1.pdb.gz</td>\n",
       "    </tr>\n",
       "    <tr>\n",
       "      <th>541</th>\n",
       "      <td>P43403</td>\n",
       "      <td>AF-P43403-F1-model_v1.pdb.gz</td>\n",
       "    </tr>\n",
       "  </tbody>\n",
       "</table>\n",
       "<p>542 rows × 2 columns</p>\n",
       "</div>"
      ],
      "text/plain": [
       "    kinase.uniprot             structure.af_file\n",
       "0           Q2M2I8  AF-Q2M2I8-F1-model_v1.pdb.gz\n",
       "1           Q6ZMQ8  AF-Q6ZMQ8-F1-model_v1.pdb.gz\n",
       "2           P00519  AF-P00519-F1-model_v1.pdb.gz\n",
       "3           P42684  AF-P42684-F1-model_v1.pdb.gz\n",
       "4           Q04771  AF-Q04771-F1-model_v1.pdb.gz\n",
       "..             ...                           ...\n",
       "537         Q9Y3S1  AF-Q9Y3S1-F1-model_v1.pdb.gz\n",
       "538         Q9BYP7  AF-Q9BYP7-F1-model_v1.pdb.gz\n",
       "539         Q96J92  AF-Q96J92-F1-model_v1.pdb.gz\n",
       "540         P07947  AF-P07947-F1-model_v1.pdb.gz\n",
       "541         P43403  AF-P43403-F1-model_v1.pdb.gz\n",
       "\n",
       "[542 rows x 2 columns]"
      ]
     },
     "execution_count": 18,
     "metadata": {},
     "output_type": "execute_result"
    }
   ],
   "source": [
    "af_metadata_f1 = [[uniprot_id, files[0]] for uniprot_id, files in uniprot_to_files.items()]\n",
    "af_metadata_f1 = pd.DataFrame(af_metadata_f1, columns=[\"kinase.uniprot\", \"structure.af_file\"])\n",
    "af_metadata_f1"
   ]
  },
  {
   "cell_type": "markdown",
   "id": "5bc6f53c-4818-4266-baeb-13d2521df239",
   "metadata": {},
   "source": [
    "## Aggreate and save AF-to-KLIFS metadata"
   ]
  },
  {
   "cell_type": "code",
   "execution_count": 19,
   "id": "1fe17611-85a1-44d2-84b1-6e37f4a5057e",
   "metadata": {},
   "outputs": [
    {
     "name": "stdout",
     "output_type": "stream",
     "text": [
      "Number of kinase entries in KLIFS: 555\n",
      "Among those: Number of pseudokinase entries in KLIFS: 13\n",
      "Number of UniProt entries in KLIFS: 542\n",
      "Number of kinase entries in AF: 542\n"
     ]
    }
   ],
   "source": [
    "print(f\"Number of kinase entries in KLIFS: {kinases.shape[0]}\")\n",
    "print(f\"Among those: Number of pseudokinase entries in KLIFS: {len(uniprot_ids_pseudokinases)}\")\n",
    "print(f\"Number of UniProt entries in KLIFS: {len(kinases['kinase.uniprot'].unique())}\")\n",
    "print(f\"Number of kinase entries in AF: {af_metadata_f1.shape[0]}\")"
   ]
  },
  {
   "cell_type": "markdown",
   "id": "98d43670-aefe-42e2-acc5-9581feca3a19",
   "metadata": {},
   "source": [
    "**Note**: KLIFS lists kinases like JAK1 separatly in the form of its kinase and its pseudokinase (JAK1-b); thus, one UniProt entry in KLIFS can have two KLIFS kinase entries."
   ]
  },
  {
   "cell_type": "code",
   "execution_count": 20,
   "id": "478937f3-cee7-40da-bef0-8185c8f6e1cc",
   "metadata": {},
   "outputs": [
    {
     "data": {
      "text/html": [
       "<div>\n",
       "<style scoped>\n",
       "    .dataframe tbody tr th:only-of-type {\n",
       "        vertical-align: middle;\n",
       "    }\n",
       "\n",
       "    .dataframe tbody tr th {\n",
       "        vertical-align: top;\n",
       "    }\n",
       "\n",
       "    .dataframe thead th {\n",
       "        text-align: right;\n",
       "    }\n",
       "</style>\n",
       "<table border=\"1\" class=\"dataframe\">\n",
       "  <thead>\n",
       "    <tr style=\"text-align: right;\">\n",
       "      <th></th>\n",
       "      <th>kinase.uniprot</th>\n",
       "      <th>structure.af_file</th>\n",
       "      <th>kinase.klifs_id</th>\n",
       "      <th>kinase.klifs_name</th>\n",
       "      <th>kinase.full_name</th>\n",
       "      <th>kinase.gene_name</th>\n",
       "      <th>species.klifs</th>\n",
       "    </tr>\n",
       "  </thead>\n",
       "  <tbody>\n",
       "    <tr>\n",
       "      <th>0</th>\n",
       "      <td>Q2M2I8</td>\n",
       "      <td>AF-Q2M2I8-F1-model_v1.pdb.gz</td>\n",
       "      <td>277</td>\n",
       "      <td>AAK1</td>\n",
       "      <td>AP2 associated kinase 1</td>\n",
       "      <td>AAK1</td>\n",
       "      <td>Human</td>\n",
       "    </tr>\n",
       "    <tr>\n",
       "      <th>1</th>\n",
       "      <td>Q6ZMQ8</td>\n",
       "      <td>AF-Q6ZMQ8-F1-model_v1.pdb.gz</td>\n",
       "      <td>443</td>\n",
       "      <td>LMR1</td>\n",
       "      <td>apoptosis-associated tyrosine kinase</td>\n",
       "      <td>AATK</td>\n",
       "      <td>Human</td>\n",
       "    </tr>\n",
       "    <tr>\n",
       "      <th>2</th>\n",
       "      <td>P00519</td>\n",
       "      <td>AF-P00519-F1-model_v1.pdb.gz</td>\n",
       "      <td>392</td>\n",
       "      <td>ABL1</td>\n",
       "      <td>ABL proto-oncogene 1, non-receptor tyrosine ki...</td>\n",
       "      <td>ABL1</td>\n",
       "      <td>Human</td>\n",
       "    </tr>\n",
       "    <tr>\n",
       "      <th>3</th>\n",
       "      <td>P42684</td>\n",
       "      <td>AF-P42684-F1-model_v1.pdb.gz</td>\n",
       "      <td>393</td>\n",
       "      <td>ABL2</td>\n",
       "      <td>ABL proto-oncogene 2, non-receptor tyrosine ki...</td>\n",
       "      <td>ABL2</td>\n",
       "      <td>Human</td>\n",
       "    </tr>\n",
       "    <tr>\n",
       "      <th>4</th>\n",
       "      <td>Q04771</td>\n",
       "      <td>AF-Q04771-F1-model_v1.pdb.gz</td>\n",
       "      <td>516</td>\n",
       "      <td>ALK2</td>\n",
       "      <td>activin A receptor type I</td>\n",
       "      <td>ACVR1</td>\n",
       "      <td>Human</td>\n",
       "    </tr>\n",
       "    <tr>\n",
       "      <th>...</th>\n",
       "      <td>...</td>\n",
       "      <td>...</td>\n",
       "      <td>...</td>\n",
       "      <td>...</td>\n",
       "      <td>...</td>\n",
       "      <td>...</td>\n",
       "      <td>...</td>\n",
       "    </tr>\n",
       "    <tr>\n",
       "      <th>550</th>\n",
       "      <td>Q9Y3S1</td>\n",
       "      <td>AF-Q9Y3S1-F1-model_v1.pdb.gz</td>\n",
       "      <td>339</td>\n",
       "      <td>Wnk2</td>\n",
       "      <td>WNK lysine deficient protein kinase 2</td>\n",
       "      <td>WNK2</td>\n",
       "      <td>Human</td>\n",
       "    </tr>\n",
       "    <tr>\n",
       "      <th>551</th>\n",
       "      <td>Q9BYP7</td>\n",
       "      <td>AF-Q9BYP7-F1-model_v1.pdb.gz</td>\n",
       "      <td>338</td>\n",
       "      <td>Wnk3</td>\n",
       "      <td>WNK lysine deficient protein kinase 3</td>\n",
       "      <td>WNK3</td>\n",
       "      <td>Human</td>\n",
       "    </tr>\n",
       "    <tr>\n",
       "      <th>552</th>\n",
       "      <td>Q96J92</td>\n",
       "      <td>AF-Q96J92-F1-model_v1.pdb.gz</td>\n",
       "      <td>337</td>\n",
       "      <td>Wnk4</td>\n",
       "      <td>WNK lysine deficient protein kinase 4</td>\n",
       "      <td>WNK4</td>\n",
       "      <td>Human</td>\n",
       "    </tr>\n",
       "    <tr>\n",
       "      <th>553</th>\n",
       "      <td>P07947</td>\n",
       "      <td>AF-P07947-F1-model_v1.pdb.gz</td>\n",
       "      <td>463</td>\n",
       "      <td>YES</td>\n",
       "      <td>YES proto-oncogene 1, Src family tyrosine kinase</td>\n",
       "      <td>YES1</td>\n",
       "      <td>Human</td>\n",
       "    </tr>\n",
       "    <tr>\n",
       "      <th>554</th>\n",
       "      <td>P43403</td>\n",
       "      <td>AF-P43403-F1-model_v1.pdb.gz</td>\n",
       "      <td>471</td>\n",
       "      <td>ZAP70</td>\n",
       "      <td>zeta chain of T cell receptor associated prote...</td>\n",
       "      <td>ZAP70</td>\n",
       "      <td>Human</td>\n",
       "    </tr>\n",
       "  </tbody>\n",
       "</table>\n",
       "<p>555 rows × 7 columns</p>\n",
       "</div>"
      ],
      "text/plain": [
       "    kinase.uniprot             structure.af_file  kinase.klifs_id  \\\n",
       "0           Q2M2I8  AF-Q2M2I8-F1-model_v1.pdb.gz              277   \n",
       "1           Q6ZMQ8  AF-Q6ZMQ8-F1-model_v1.pdb.gz              443   \n",
       "2           P00519  AF-P00519-F1-model_v1.pdb.gz              392   \n",
       "3           P42684  AF-P42684-F1-model_v1.pdb.gz              393   \n",
       "4           Q04771  AF-Q04771-F1-model_v1.pdb.gz              516   \n",
       "..             ...                           ...              ...   \n",
       "550         Q9Y3S1  AF-Q9Y3S1-F1-model_v1.pdb.gz              339   \n",
       "551         Q9BYP7  AF-Q9BYP7-F1-model_v1.pdb.gz              338   \n",
       "552         Q96J92  AF-Q96J92-F1-model_v1.pdb.gz              337   \n",
       "553         P07947  AF-P07947-F1-model_v1.pdb.gz              463   \n",
       "554         P43403  AF-P43403-F1-model_v1.pdb.gz              471   \n",
       "\n",
       "    kinase.klifs_name                                   kinase.full_name  \\\n",
       "0                AAK1                            AP2 associated kinase 1   \n",
       "1                LMR1               apoptosis-associated tyrosine kinase   \n",
       "2                ABL1  ABL proto-oncogene 1, non-receptor tyrosine ki...   \n",
       "3                ABL2  ABL proto-oncogene 2, non-receptor tyrosine ki...   \n",
       "4                ALK2                          activin A receptor type I   \n",
       "..                ...                                                ...   \n",
       "550              Wnk2              WNK lysine deficient protein kinase 2   \n",
       "551              Wnk3              WNK lysine deficient protein kinase 3   \n",
       "552              Wnk4              WNK lysine deficient protein kinase 4   \n",
       "553               YES   YES proto-oncogene 1, Src family tyrosine kinase   \n",
       "554             ZAP70  zeta chain of T cell receptor associated prote...   \n",
       "\n",
       "    kinase.gene_name species.klifs  \n",
       "0               AAK1         Human  \n",
       "1               AATK         Human  \n",
       "2               ABL1         Human  \n",
       "3               ABL2         Human  \n",
       "4              ACVR1         Human  \n",
       "..               ...           ...  \n",
       "550             WNK2         Human  \n",
       "551             WNK3         Human  \n",
       "552             WNK4         Human  \n",
       "553             YES1         Human  \n",
       "554            ZAP70         Human  \n",
       "\n",
       "[555 rows x 7 columns]"
      ]
     },
     "execution_count": 20,
     "metadata": {},
     "output_type": "execute_result"
    }
   ],
   "source": [
    "af_klifs_metadata = pd.merge(af_metadata_f1, kinases, on=\"kinase.uniprot\", how=\"right\")\n",
    "af_klifs_metadata"
   ]
  },
  {
   "cell_type": "code",
   "execution_count": 21,
   "id": "c89741d8-4e1f-4c68-9074-cfa55f998143",
   "metadata": {},
   "outputs": [],
   "source": [
    "af_klifs_metadata.to_csv(AF_KLIFS_METADATA_PATH, index=False)"
   ]
  },
  {
   "cell_type": "markdown",
   "id": "4b819921-5ab9-457b-91e3-25359650cd80",
   "metadata": {},
   "source": [
    "## For fun: Show EGFR !"
   ]
  },
  {
   "cell_type": "code",
   "execution_count": 22,
   "id": "0a204c27-b884-4250-b555-3e35cc7a0766",
   "metadata": {},
   "outputs": [],
   "source": [
    "# Get pocket PDB residue IDs for example EGFR structure\n",
    "egfr_structures = klifs_session.structures.by_kinase_name(\"EGFR\")\n",
    "example_egfr_structure_klifs_id = (\n",
    "    egfr_structures[egfr_structures[\"ligand.expo_id\"] == \"IRE\"]\n",
    "    .sort_values(\"structure.resolution\")\n",
    "    .reset_index(drop=True)\n",
    "    .loc[0, \"structure.klifs_id\"]\n",
    ")\n",
    "example_egfr_pocket = klifs_session.pockets.by_structure_klifs_id(example_egfr_structure_klifs_id)\n",
    "example_egfr_pocket_residue_ids = example_egfr_pocket[\"residue.id\"].to_list()"
   ]
  },
  {
   "cell_type": "code",
   "execution_count": 23,
   "id": "58293152-4e86-4b86-869d-5fc29715dc7d",
   "metadata": {},
   "outputs": [],
   "source": [
    "# Set path to EGFR PDB file\n",
    "egfr_uniprot_id = kinases[kinases[\"kinase.klifs_name\"] == \"EGFR\"][\"kinase.uniprot\"].to_list()[0]\n",
    "egfr_path = af_kinases_path / uniprot_to_files[egfr_uniprot_id][0]\n",
    "egfr_path = egfr_path.parent / egfr_path.stem"
   ]
  },
  {
   "cell_type": "code",
   "execution_count": 24,
   "id": "1c93d02c-2c7c-4b93-904b-0d97c479048f",
   "metadata": {},
   "outputs": [
    {
     "data": {
      "application/vnd.jupyter.widget-view+json": {
       "model_id": "2384b120dfa34658b09bdd09272f1633",
       "version_major": 2,
       "version_minor": 0
      },
      "text/plain": [
       "ThemeManager()"
      ]
     },
     "metadata": {},
     "output_type": "display_data"
    },
    {
     "data": {
      "application/vnd.jupyter.widget-view+json": {
       "model_id": "f4adc58149314b2fb3352c153707f999",
       "version_major": 2,
       "version_minor": 0
      },
      "text/plain": [
       "NGLWidget(gui_style='ngl')"
      ]
     },
     "metadata": {},
     "output_type": "display_data"
    }
   ],
   "source": [
    "# Show full structure in grey and KLIFS pocket in blue\n",
    "with open(egfr_path) as f:\n",
    "    view = nv.show_file(f, ext=\"pdb\")\n",
    "view.clear_representations()\n",
    "nv_pocket_selection = \" or \".join(example_egfr_pocket_residue_ids)\n",
    "view.add_representation(\"cartoon\", selection=f\"protein\", color=\"grey\")\n",
    "view.add_representation(\"cartoon\", selection=f\"protein and ({nv_pocket_selection})\", color=\"blue\")\n",
    "view.display(gui=\"ngl\")"
   ]
  },
  {
   "cell_type": "code",
   "execution_count": 27,
   "id": "17c3f037-910d-4c09-930c-473d7f3be0d5",
   "metadata": {},
   "outputs": [],
   "source": [
    "view.render_image(trim=True, factor=2, transparent=True);"
   ]
  },
  {
   "cell_type": "code",
   "execution_count": 28,
   "id": "4ee0d1b7-116e-41b1-83fe-62e2e6ca1108",
   "metadata": {},
   "outputs": [
    {
     "data": {
      "image/png": "[encoded data removed]",
      "text/plain": [
       "<IPython.core.display.Image object>"
      ]
     },
     "execution_count": 28,
     "metadata": {},
     "output_type": "execute_result"
    }
   ],
   "source": [
    "view._display_image()"
   ]
  },
  {
   "cell_type": "code",
   "execution_count": null,
   "id": "1851e472-bbcc-4428-b745-097b8df27cc7",
   "metadata": {},
   "outputs": [],
   "source": []
  },
  {
   "cell_type": "code",
   "execution_count": null,
   "id": "cbd082f7-b272-491b-8128-b18eba729ede",
   "metadata": {},
   "outputs": [],
   "source": []
  },
  {
   "cell_type": "code",
   "execution_count": null,
   "id": "52f24bea-e461-438f-aad4-4c9adebbd7a5",
   "metadata": {},
   "outputs": [],
   "source": []
  },
  {
   "cell_type": "code",
   "execution_count": null,
   "id": "b39d257a-a9aa-482b-86a6-e09927ab40dc",
   "metadata": {},
   "outputs": [],
   "source": []
  }
 ],
 "metadata": {
  "kernelspec": {
   "display_name": "Python 3",
   "language": "python",
   "name": "python3"
  },
  "language_info": {
   "codemirror_mode": {
    "name": "ipython",
    "version": 3
   },
   "file_extension": ".py",
   "mimetype": "text/x-python",
   "name": "python",
   "nbconvert_exporter": "python",
   "pygments_lexer": "ipython3",
   "version": "3.9.5"
  },
  "widgets": {
   "application/vnd.jupyter.widget-state+json": {
    "state": {},
    "version_major": 2,
    "version_minor": 0
   }
  }
 },
 "nbformat": 4,
 "nbformat_minor": 5
}
