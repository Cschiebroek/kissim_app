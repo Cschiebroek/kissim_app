{
 "cells": [
  {
   "cell_type": "markdown",
   "id": "dee412a3-f699-42ed-a792-f9ff671dacc3",
   "metadata": {},
   "source": [
    "## Explore AF kinases with multiple models\n",
    "\n",
    "Some kinases have multiple models in the human proteome download archive (F1, F2, ... instead of only F1).\n",
    "\n",
    "Turns out these kinases have a length above the AF cutoff described in the AlphaFold DB paper."
   ]
  },
  {
   "cell_type": "code",
   "execution_count": 1,
   "id": "1fd4a0b2-e7d5-42ec-8418-2e9061ebdee9",
   "metadata": {},
   "outputs": [],
   "source": [
    "%load_ext autoreload\n",
    "%autoreload 2"
   ]
  },
  {
   "cell_type": "code",
   "execution_count": 24,
   "id": "22c87dfe-e54e-43e2-9afb-25f66b9e4bc3",
   "metadata": {},
   "outputs": [],
   "source": [
    "from pathlib import Path\n",
    "from tempfile import NamedTemporaryFile\n",
    "import os\n",
    "\n",
    "import requests\n",
    "import pandas as pd\n",
    "from Bio import SeqIO"
   ]
  },
  {
   "cell_type": "code",
   "execution_count": 3,
   "id": "07b66dfa-8b61-481a-bbfc-305ce8a6bfce",
   "metadata": {},
   "outputs": [],
   "source": [
    "# Set path to this notebook\n",
    "HERE = Path(_dh[-1])  # noqa: F821\n",
    "DATA = HERE / \"../../data\""
   ]
  },
  {
   "cell_type": "code",
   "execution_count": 4,
   "id": "c64248f9-7f18-4737-925b-b7de53dc043e",
   "metadata": {},
   "outputs": [],
   "source": [
    "# Path to AF download\n",
    "AF_PATH = Path(DATA / \"external/structures/AlphaFoldDB\")\n",
    "# Path to folder for processed output files from this notebook\n",
    "AF_KLIFS_METADATA_PATH = DATA / \"processed/af_klifs_metadata.csv\"\n",
    "SEQUENCES_PATH = AF_PATH / \"sequences.fasta\""
   ]
  },
  {
   "cell_type": "markdown",
   "id": "cd84597c-cfaa-4bae-ab36-eef23e47bb8c",
   "metadata": {},
   "source": [
    "## Load kinases (AF/KLIFS)"
   ]
  },
  {
   "cell_type": "code",
   "execution_count": 5,
   "id": "515900ed-5859-4202-b55d-c50ed3913b1b",
   "metadata": {},
   "outputs": [
    {
     "data": {
      "text/html": [
       "<div>\n",
       "<style scoped>\n",
       "    .dataframe tbody tr th:only-of-type {\n",
       "        vertical-align: middle;\n",
       "    }\n",
       "\n",
       "    .dataframe tbody tr th {\n",
       "        vertical-align: top;\n",
       "    }\n",
       "\n",
       "    .dataframe thead th {\n",
       "        text-align: right;\n",
       "    }\n",
       "</style>\n",
       "<table border=\"1\" class=\"dataframe\">\n",
       "  <thead>\n",
       "    <tr style=\"text-align: right;\">\n",
       "      <th></th>\n",
       "      <th>kinase.uniprot</th>\n",
       "      <th>structure.af_file</th>\n",
       "      <th>kinase.klifs_id</th>\n",
       "      <th>kinase.klifs_name</th>\n",
       "      <th>kinase.full_name</th>\n",
       "      <th>kinase.gene_name</th>\n",
       "      <th>species.klifs</th>\n",
       "      <th>n_models</th>\n",
       "      <th>structure.af_name</th>\n",
       "    </tr>\n",
       "  </thead>\n",
       "  <tbody>\n",
       "    <tr>\n",
       "      <th>0</th>\n",
       "      <td>Q2M2I8</td>\n",
       "      <td>AF-Q2M2I8-F1-model_v1.pdb.gz</td>\n",
       "      <td>277</td>\n",
       "      <td>AAK1</td>\n",
       "      <td>AP2 associated kinase 1</td>\n",
       "      <td>AAK1</td>\n",
       "      <td>Human</td>\n",
       "      <td>1</td>\n",
       "      <td>AF-Q2M2I8-F1</td>\n",
       "    </tr>\n",
       "    <tr>\n",
       "      <th>1</th>\n",
       "      <td>Q6ZMQ8</td>\n",
       "      <td>AF-Q6ZMQ8-F1-model_v1.pdb.gz</td>\n",
       "      <td>443</td>\n",
       "      <td>LMR1</td>\n",
       "      <td>apoptosis-associated tyrosine kinase</td>\n",
       "      <td>AATK</td>\n",
       "      <td>Human</td>\n",
       "      <td>1</td>\n",
       "      <td>AF-Q6ZMQ8-F1</td>\n",
       "    </tr>\n",
       "    <tr>\n",
       "      <th>2</th>\n",
       "      <td>P00519</td>\n",
       "      <td>AF-P00519-F1-model_v1.pdb.gz</td>\n",
       "      <td>392</td>\n",
       "      <td>ABL1</td>\n",
       "      <td>ABL proto-oncogene 1, non-receptor tyrosine ki...</td>\n",
       "      <td>ABL1</td>\n",
       "      <td>Human</td>\n",
       "      <td>1</td>\n",
       "      <td>AF-P00519-F1</td>\n",
       "    </tr>\n",
       "    <tr>\n",
       "      <th>3</th>\n",
       "      <td>P42684</td>\n",
       "      <td>AF-P42684-F1-model_v1.pdb.gz</td>\n",
       "      <td>393</td>\n",
       "      <td>ABL2</td>\n",
       "      <td>ABL proto-oncogene 2, non-receptor tyrosine ki...</td>\n",
       "      <td>ABL2</td>\n",
       "      <td>Human</td>\n",
       "      <td>1</td>\n",
       "      <td>AF-P42684-F1</td>\n",
       "    </tr>\n",
       "    <tr>\n",
       "      <th>4</th>\n",
       "      <td>Q04771</td>\n",
       "      <td>AF-Q04771-F1-model_v1.pdb.gz</td>\n",
       "      <td>516</td>\n",
       "      <td>ALK2</td>\n",
       "      <td>activin A receptor type I</td>\n",
       "      <td>ACVR1</td>\n",
       "      <td>Human</td>\n",
       "      <td>1</td>\n",
       "      <td>AF-Q04771-F1</td>\n",
       "    </tr>\n",
       "    <tr>\n",
       "      <th>...</th>\n",
       "      <td>...</td>\n",
       "      <td>...</td>\n",
       "      <td>...</td>\n",
       "      <td>...</td>\n",
       "      <td>...</td>\n",
       "      <td>...</td>\n",
       "      <td>...</td>\n",
       "      <td>...</td>\n",
       "      <td>...</td>\n",
       "    </tr>\n",
       "    <tr>\n",
       "      <th>550</th>\n",
       "      <td>Q9Y3S1</td>\n",
       "      <td>AF-Q9Y3S1-F1-model_v1.pdb.gz</td>\n",
       "      <td>339</td>\n",
       "      <td>Wnk2</td>\n",
       "      <td>WNK lysine deficient protein kinase 2</td>\n",
       "      <td>WNK2</td>\n",
       "      <td>Human</td>\n",
       "      <td>1</td>\n",
       "      <td>AF-Q9Y3S1-F1</td>\n",
       "    </tr>\n",
       "    <tr>\n",
       "      <th>551</th>\n",
       "      <td>Q9BYP7</td>\n",
       "      <td>AF-Q9BYP7-F1-model_v1.pdb.gz</td>\n",
       "      <td>338</td>\n",
       "      <td>Wnk3</td>\n",
       "      <td>WNK lysine deficient protein kinase 3</td>\n",
       "      <td>WNK3</td>\n",
       "      <td>Human</td>\n",
       "      <td>1</td>\n",
       "      <td>AF-Q9BYP7-F1</td>\n",
       "    </tr>\n",
       "    <tr>\n",
       "      <th>552</th>\n",
       "      <td>Q96J92</td>\n",
       "      <td>AF-Q96J92-F1-model_v1.pdb.gz</td>\n",
       "      <td>337</td>\n",
       "      <td>Wnk4</td>\n",
       "      <td>WNK lysine deficient protein kinase 4</td>\n",
       "      <td>WNK4</td>\n",
       "      <td>Human</td>\n",
       "      <td>1</td>\n",
       "      <td>AF-Q96J92-F1</td>\n",
       "    </tr>\n",
       "    <tr>\n",
       "      <th>553</th>\n",
       "      <td>P07947</td>\n",
       "      <td>AF-P07947-F1-model_v1.pdb.gz</td>\n",
       "      <td>463</td>\n",
       "      <td>YES</td>\n",
       "      <td>YES proto-oncogene 1, Src family tyrosine kinase</td>\n",
       "      <td>YES1</td>\n",
       "      <td>Human</td>\n",
       "      <td>1</td>\n",
       "      <td>AF-P07947-F1</td>\n",
       "    </tr>\n",
       "    <tr>\n",
       "      <th>554</th>\n",
       "      <td>P43403</td>\n",
       "      <td>AF-P43403-F1-model_v1.pdb.gz</td>\n",
       "      <td>471</td>\n",
       "      <td>ZAP70</td>\n",
       "      <td>zeta chain of T cell receptor associated prote...</td>\n",
       "      <td>ZAP70</td>\n",
       "      <td>Human</td>\n",
       "      <td>1</td>\n",
       "      <td>AF-P43403-F1</td>\n",
       "    </tr>\n",
       "  </tbody>\n",
       "</table>\n",
       "<p>555 rows × 9 columns</p>\n",
       "</div>"
      ],
      "text/plain": [
       "    kinase.uniprot             structure.af_file  kinase.klifs_id  \\\n",
       "0           Q2M2I8  AF-Q2M2I8-F1-model_v1.pdb.gz              277   \n",
       "1           Q6ZMQ8  AF-Q6ZMQ8-F1-model_v1.pdb.gz              443   \n",
       "2           P00519  AF-P00519-F1-model_v1.pdb.gz              392   \n",
       "3           P42684  AF-P42684-F1-model_v1.pdb.gz              393   \n",
       "4           Q04771  AF-Q04771-F1-model_v1.pdb.gz              516   \n",
       "..             ...                           ...              ...   \n",
       "550         Q9Y3S1  AF-Q9Y3S1-F1-model_v1.pdb.gz              339   \n",
       "551         Q9BYP7  AF-Q9BYP7-F1-model_v1.pdb.gz              338   \n",
       "552         Q96J92  AF-Q96J92-F1-model_v1.pdb.gz              337   \n",
       "553         P07947  AF-P07947-F1-model_v1.pdb.gz              463   \n",
       "554         P43403  AF-P43403-F1-model_v1.pdb.gz              471   \n",
       "\n",
       "    kinase.klifs_name                                   kinase.full_name  \\\n",
       "0                AAK1                            AP2 associated kinase 1   \n",
       "1                LMR1               apoptosis-associated tyrosine kinase   \n",
       "2                ABL1  ABL proto-oncogene 1, non-receptor tyrosine ki...   \n",
       "3                ABL2  ABL proto-oncogene 2, non-receptor tyrosine ki...   \n",
       "4                ALK2                          activin A receptor type I   \n",
       "..                ...                                                ...   \n",
       "550              Wnk2              WNK lysine deficient protein kinase 2   \n",
       "551              Wnk3              WNK lysine deficient protein kinase 3   \n",
       "552              Wnk4              WNK lysine deficient protein kinase 4   \n",
       "553               YES   YES proto-oncogene 1, Src family tyrosine kinase   \n",
       "554             ZAP70  zeta chain of T cell receptor associated prote...   \n",
       "\n",
       "    kinase.gene_name species.klifs  n_models structure.af_name  \n",
       "0               AAK1         Human         1      AF-Q2M2I8-F1  \n",
       "1               AATK         Human         1      AF-Q6ZMQ8-F1  \n",
       "2               ABL1         Human         1      AF-P00519-F1  \n",
       "3               ABL2         Human         1      AF-P42684-F1  \n",
       "4              ACVR1         Human         1      AF-Q04771-F1  \n",
       "..               ...           ...       ...               ...  \n",
       "550             WNK2         Human         1      AF-Q9Y3S1-F1  \n",
       "551             WNK3         Human         1      AF-Q9BYP7-F1  \n",
       "552             WNK4         Human         1      AF-Q96J92-F1  \n",
       "553             YES1         Human         1      AF-P07947-F1  \n",
       "554            ZAP70         Human         1      AF-P43403-F1  \n",
       "\n",
       "[555 rows x 9 columns]"
      ]
     },
     "execution_count": 5,
     "metadata": {},
     "output_type": "execute_result"
    }
   ],
   "source": [
    "af_kinases = pd.read_csv(AF_KLIFS_METADATA_PATH)\n",
    "af_kinases[\"structure.af_name\"] = af_kinases[\"structure.af_file\"].str.split(\"-model\")\n",
    "af_kinases[\"structure.af_name\"] = af_kinases[\"structure.af_name\"].apply(lambda x: x[0])\n",
    "af_kinases"
   ]
  },
  {
   "cell_type": "markdown",
   "id": "31fe092a-d27f-4550-9c93-453ecb922c69",
   "metadata": {},
   "source": [
    "## Load kinase sequences (AF/UniProt)"
   ]
  },
  {
   "cell_type": "code",
   "execution_count": 6,
   "id": "87ada65d-0f0c-4ee4-8ffa-1f4877710f9f",
   "metadata": {},
   "outputs": [
    {
     "name": "stdout",
     "output_type": "stream",
     "text": [
      "AFDB:AF-Q54E14-F1\n",
      "AF-Q54E14-F1\n",
      "AFDB:AF-Q54E14-F1 Uncharacterized protein\n",
      "MADDHSTELQLNHTDNNTTNTNNTSTTSTTKNKSAKIDTPKKQTPTNQLSLNKGLDNQLDIIAPPSITRPLSFLEKKQ\n",
      "78\n"
     ]
    }
   ],
   "source": [
    "# Try out SeqIO module\n",
    "for record in SeqIO.parse(SEQUENCES_PATH, \"fasta\"):\n",
    "    if \"AF-Q54E14-F1\" in record.id:\n",
    "        print(record.id)\n",
    "        print(record.id[5:])\n",
    "        print(record.description)\n",
    "        print(record.seq)\n",
    "        print(len(record.seq))"
   ]
  },
  {
   "cell_type": "code",
   "execution_count": 7,
   "id": "3dbcb6cd-4a21-405f-92de-3929effb5987",
   "metadata": {},
   "outputs": [
    {
     "name": "stdout",
     "output_type": "stream",
     "text": [
      "CPU times: user 5.75 s, sys: 33.3 ms, total: 5.79 s\n",
      "Wall time: 5.77 s\n"
     ]
    }
   ],
   "source": [
    "%%time\n",
    "kinase_sequences = []\n",
    "for record in SeqIO.parse(SEQUENCES_PATH, \"fasta\"):\n",
    "    if record.id.split(\"-\")[1] in af_kinases[\"kinase.uniprot\"].to_list():\n",
    "        kinase_sequences.append([record.id, str(record.seq)])\n",
    "kinase_sequences = pd.DataFrame(kinase_sequences, columns=[\"af.id\", \"uniprot.sequence\"])"
   ]
  },
  {
   "cell_type": "code",
   "execution_count": 8,
   "id": "8adc8419-878c-4c76-8691-ae07606796bd",
   "metadata": {},
   "outputs": [],
   "source": [
    "kinase_sequences[\"uniprot.id\"] = kinase_sequences[\"af.id\"].str.split(\"-\") \n",
    "uniprot_ids = kinase_sequences[\"uniprot.id\"].apply(lambda x: x[1])\n",
    "af_models = kinase_sequences[\"uniprot.id\"].apply(lambda x: x[2])\n",
    "kinase_sequences[\"uniprot.id\"] = uniprot_ids\n",
    "kinase_sequences[\"af.model\"] = af_models\n",
    "kinase_sequences[\"uniprot.sequence_length\"] = kinase_sequences[\"uniprot.sequence\"].apply(len)\n",
    "kinase_sequences = kinase_sequences.sort_values(\"uniprot.sequence_length\", ascending=False)"
   ]
  },
  {
   "cell_type": "markdown",
   "id": "ece950e6-81c3-4a7e-877a-de7ef0d411a7",
   "metadata": {},
   "source": [
    "### Are models > F1 included in sequence file? No."
   ]
  },
  {
   "cell_type": "code",
   "execution_count": 9,
   "id": "0bb5b348-dbea-4dec-ac90-703f6f25ed2b",
   "metadata": {},
   "outputs": [
    {
     "data": {
      "text/plain": [
       "array(['F1'], dtype=object)"
      ]
     },
     "execution_count": 9,
     "metadata": {},
     "output_type": "execute_result"
    }
   ],
   "source": [
    "kinase_sequences[\"af.model\"].unique()"
   ]
  },
  {
   "cell_type": "code",
   "execution_count": 16,
   "id": "e886137a-0991-446f-9d5b-3f12cc8c7b23",
   "metadata": {},
   "outputs": [
    {
     "data": {
      "text/plain": [
       "<AxesSubplot:ylabel='Frequency'>"
      ]
     },
     "execution_count": 16,
     "metadata": {},
     "output_type": "execute_result"
    },
    {
     "data": {
      "image/png": "[encoded data removed]",
      "text/plain": [
       "<Figure size 432x288 with 1 Axes>"
      ]
     },
     "metadata": {
      "needs_background": "light"
     },
     "output_type": "display_data"
    }
   ],
   "source": [
    "kinase_sequences[\"uniprot.sequence_length\"].plot(kind=\"hist\")"
   ]
  },
  {
   "cell_type": "markdown",
   "id": "6fe33249-6232-42fb-bef6-af7b1ea8f736",
   "metadata": {},
   "source": [
    "> We predicted structures for the UniProt human reference proteome (one representative sequence per gene), with an upper length limit of 2700 residues.\n",
    "\n",
    "From AlphaFold DB paper: https://www.nature.com/articles/s41586-021-03828-1"
   ]
  },
  {
   "cell_type": "markdown",
   "id": "78ceb076-1d47-4b0f-91ae-67318eabd7f1",
   "metadata": {},
   "source": [
    "## Get sequence length for UniProt IDs with multiple models"
   ]
  },
  {
   "cell_type": "code",
   "execution_count": 10,
   "id": "cba8b20b-1967-4518-bd4e-d00ff1676da8",
   "metadata": {},
   "outputs": [],
   "source": [
    "af_kinases = pd.merge(\n",
    "    af_kinases.rename(columns={\"kinase.uniprot\": \"uniprot.id\"}), \n",
    "    kinase_sequences, \n",
    "    on=\"uniprot.id\", \n",
    "    how=\"left\"\n",
    ")\n",
    "af_kinases = af_kinases[[\"uniprot.id\", \"uniprot.sequence_length\", \"n_models\"]].sort_values(\"n_models\", ascending=False)"
   ]
  },
  {
   "cell_type": "markdown",
   "id": "0293b730-dac5-4cc2-9a16-5486e85b95f4",
   "metadata": {},
   "source": [
    "Now match AF structures with multiple models and their sequence length!"
   ]
  },
  {
   "cell_type": "code",
   "execution_count": 29,
   "id": "5b8428c8-a161-41be-8ec7-071fdbd6cad9",
   "metadata": {},
   "outputs": [
    {
     "data": {
      "text/html": [
       "<div>\n",
       "<style scoped>\n",
       "    .dataframe tbody tr th:only-of-type {\n",
       "        vertical-align: middle;\n",
       "    }\n",
       "\n",
       "    .dataframe tbody tr th {\n",
       "        vertical-align: top;\n",
       "    }\n",
       "\n",
       "    .dataframe thead th {\n",
       "        text-align: right;\n",
       "    }\n",
       "</style>\n",
       "<table border=\"1\" class=\"dataframe\">\n",
       "  <thead>\n",
       "    <tr style=\"text-align: right;\">\n",
       "      <th></th>\n",
       "      <th>uniprot.id</th>\n",
       "      <th>uniprot.sequence_length</th>\n",
       "      <th>n_models</th>\n",
       "    </tr>\n",
       "  </thead>\n",
       "  <tbody>\n",
       "    <tr>\n",
       "      <th>534</th>\n",
       "      <td>Q8WZ42</td>\n",
       "      <td>NaN</td>\n",
       "      <td>166</td>\n",
       "    </tr>\n",
       "    <tr>\n",
       "      <th>322</th>\n",
       "      <td>Q5VST9</td>\n",
       "      <td>NaN</td>\n",
       "      <td>34</td>\n",
       "    </tr>\n",
       "    <tr>\n",
       "      <th>321</th>\n",
       "      <td>Q5VST9</td>\n",
       "      <td>NaN</td>\n",
       "      <td>34</td>\n",
       "    </tr>\n",
       "    <tr>\n",
       "      <th>525</th>\n",
       "      <td>Q9Y4A5</td>\n",
       "      <td>NaN</td>\n",
       "      <td>14</td>\n",
       "    </tr>\n",
       "    <tr>\n",
       "      <th>458</th>\n",
       "      <td>Q96Q15</td>\n",
       "      <td>NaN</td>\n",
       "      <td>13</td>\n",
       "    </tr>\n",
       "    <tr>\n",
       "      <th>460</th>\n",
       "      <td>Q15772</td>\n",
       "      <td>NaN</td>\n",
       "      <td>11</td>\n",
       "    </tr>\n",
       "    <tr>\n",
       "      <th>461</th>\n",
       "      <td>Q15772</td>\n",
       "      <td>NaN</td>\n",
       "      <td>11</td>\n",
       "    </tr>\n",
       "    <tr>\n",
       "      <th>522</th>\n",
       "      <td>O75962</td>\n",
       "      <td>NaN</td>\n",
       "      <td>10</td>\n",
       "    </tr>\n",
       "    <tr>\n",
       "      <th>24</th>\n",
       "      <td>Q13315</td>\n",
       "      <td>NaN</td>\n",
       "      <td>10</td>\n",
       "    </tr>\n",
       "    <tr>\n",
       "      <th>207</th>\n",
       "      <td>O60229</td>\n",
       "      <td>NaN</td>\n",
       "      <td>9</td>\n",
       "    </tr>\n",
       "  </tbody>\n",
       "</table>\n",
       "</div>"
      ],
      "text/plain": [
       "    uniprot.id  uniprot.sequence_length  n_models\n",
       "534     Q8WZ42                      NaN       166\n",
       "322     Q5VST9                      NaN        34\n",
       "321     Q5VST9                      NaN        34\n",
       "525     Q9Y4A5                      NaN        14\n",
       "458     Q96Q15                      NaN        13\n",
       "460     Q15772                      NaN        11\n",
       "461     Q15772                      NaN        11\n",
       "522     O75962                      NaN        10\n",
       "24      Q13315                      NaN        10\n",
       "207     O60229                      NaN         9"
      ]
     },
     "execution_count": 29,
     "metadata": {},
     "output_type": "execute_result"
    }
   ],
   "source": [
    "af_kinases_multiple_modules = af_kinases[af_kinases[\"n_models\"] > 1].copy()\n",
    "af_kinases_multiple_modules"
   ]
  },
  {
   "cell_type": "markdown",
   "id": "7fea83d9-4e55-44e5-9487-87725ce67e11",
   "metadata": {},
   "source": [
    "All proteins with > 2700 residues (AF cutoff, thus not included in their sequence file, thus `NaN`) contain multiple models. Get their sequence length from UniProt directly."
   ]
  },
  {
   "cell_type": "code",
   "execution_count": 21,
   "id": "58e23163-58d1-44d8-a780-1943d6f565a4",
   "metadata": {},
   "outputs": [],
   "source": [
    "def sequence_for_uniprot_id(uniprot_id):\n",
    "    \"\"\"\n",
    "    Returns the FASTA sequence of a given Uniprot ID using\n",
    "    the UniProt URL-based API\n",
    "\n",
    "    Parameters\n",
    "    ----------\n",
    "    uniprot_id : str\n",
    "\n",
    "    Returns\n",
    "    -------\n",
    "    Bio.SeqIO.SeqRecord\n",
    "    \"\"\"\n",
    "    #                                                  ⬇ this is key part!\n",
    "    r = requests.get(f\"https://www.uniprot.org/uniprot/{uniprot_id}.fasta\")\n",
    "    r.raise_for_status()\n",
    "\n",
    "    with NamedTemporaryFile(suffix=\".fasta\", mode=\"w\", delete=False) as tmp:\n",
    "        tmp.write(r.text)\n",
    "\n",
    "    sequence = SeqIO.read(tmp.name, format=\"fasta\")\n",
    "    os.remove(tmp.name)\n",
    "\n",
    "    return sequence"
   ]
  },
  {
   "cell_type": "code",
   "execution_count": 30,
   "id": "940186d3-07af-4ac0-9c01-2eddbd8a3c86",
   "metadata": {},
   "outputs": [
    {
     "data": {
      "text/html": [
       "<div>\n",
       "<style scoped>\n",
       "    .dataframe tbody tr th:only-of-type {\n",
       "        vertical-align: middle;\n",
       "    }\n",
       "\n",
       "    .dataframe tbody tr th {\n",
       "        vertical-align: top;\n",
       "    }\n",
       "\n",
       "    .dataframe thead th {\n",
       "        text-align: right;\n",
       "    }\n",
       "</style>\n",
       "<table border=\"1\" class=\"dataframe\">\n",
       "  <thead>\n",
       "    <tr style=\"text-align: right;\">\n",
       "      <th></th>\n",
       "      <th>uniprot.id</th>\n",
       "      <th>uniprot.sequence_length</th>\n",
       "      <th>n_models</th>\n",
       "    </tr>\n",
       "  </thead>\n",
       "  <tbody>\n",
       "    <tr>\n",
       "      <th>534</th>\n",
       "      <td>Q8WZ42</td>\n",
       "      <td>34350</td>\n",
       "      <td>166</td>\n",
       "    </tr>\n",
       "    <tr>\n",
       "      <th>322</th>\n",
       "      <td>Q5VST9</td>\n",
       "      <td>7968</td>\n",
       "      <td>34</td>\n",
       "    </tr>\n",
       "    <tr>\n",
       "      <th>321</th>\n",
       "      <td>Q5VST9</td>\n",
       "      <td>7968</td>\n",
       "      <td>34</td>\n",
       "    </tr>\n",
       "    <tr>\n",
       "      <th>525</th>\n",
       "      <td>Q9Y4A5</td>\n",
       "      <td>3859</td>\n",
       "      <td>14</td>\n",
       "    </tr>\n",
       "    <tr>\n",
       "      <th>458</th>\n",
       "      <td>Q96Q15</td>\n",
       "      <td>3661</td>\n",
       "      <td>13</td>\n",
       "    </tr>\n",
       "    <tr>\n",
       "      <th>460</th>\n",
       "      <td>Q15772</td>\n",
       "      <td>3267</td>\n",
       "      <td>11</td>\n",
       "    </tr>\n",
       "    <tr>\n",
       "      <th>461</th>\n",
       "      <td>Q15772</td>\n",
       "      <td>3267</td>\n",
       "      <td>11</td>\n",
       "    </tr>\n",
       "    <tr>\n",
       "      <th>522</th>\n",
       "      <td>O75962</td>\n",
       "      <td>3097</td>\n",
       "      <td>10</td>\n",
       "    </tr>\n",
       "    <tr>\n",
       "      <th>24</th>\n",
       "      <td>Q13315</td>\n",
       "      <td>3056</td>\n",
       "      <td>10</td>\n",
       "    </tr>\n",
       "    <tr>\n",
       "      <th>207</th>\n",
       "      <td>O60229</td>\n",
       "      <td>2986</td>\n",
       "      <td>9</td>\n",
       "    </tr>\n",
       "  </tbody>\n",
       "</table>\n",
       "</div>"
      ],
      "text/plain": [
       "    uniprot.id  uniprot.sequence_length  n_models\n",
       "534     Q8WZ42                    34350       166\n",
       "322     Q5VST9                     7968        34\n",
       "321     Q5VST9                     7968        34\n",
       "525     Q9Y4A5                     3859        14\n",
       "458     Q96Q15                     3661        13\n",
       "460     Q15772                     3267        11\n",
       "461     Q15772                     3267        11\n",
       "522     O75962                     3097        10\n",
       "24      Q13315                     3056        10\n",
       "207     O60229                     2986         9"
      ]
     },
     "execution_count": 30,
     "metadata": {},
     "output_type": "execute_result"
    }
   ],
   "source": [
    "af_kinases_multiple_modules[\"uniprot.sequence_length\"] = af_kinases_multiple_modules[\"uniprot.id\"].apply(\n",
    "    lambda x: len(sequence_for_uniprot_id(x))\n",
    ")\n",
    "af_kinases_multiple_modules"
   ]
  },
  {
   "cell_type": "markdown",
   "id": "25dec49e-42a7-435a-bda8-c01b07ca34fa",
   "metadata": {},
   "source": [
    "Conclusion: All kinase with multiple models are kinases with >2700 residues (AF cutoff). "
   ]
  }
 ],
 "metadata": {
  "kernelspec": {
   "display_name": "Python 3",
   "language": "python",
   "name": "python3"
  },
  "language_info": {
   "codemirror_mode": {
    "name": "ipython",
    "version": 3
   },
   "file_extension": ".py",
   "mimetype": "text/x-python",
   "name": "python",
   "nbconvert_exporter": "python",
   "pygments_lexer": "ipython3",
   "version": "3.9.5"
  },
  "widgets": {
   "application/vnd.jupyter.widget-state+json": {
    "state": {},
    "version_major": 2,
    "version_minor": 0
   }
  }
 },
 "nbformat": 4,
 "nbformat_minor": 5
}
