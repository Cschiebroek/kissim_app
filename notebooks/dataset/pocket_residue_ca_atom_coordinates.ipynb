{
 "cells": [
  {
   "cell_type": "markdown",
   "metadata": {},
   "source": [
    "# Extract pocket residue CA atom coordinates"
   ]
  },
  {
   "cell_type": "code",
   "execution_count": null,
   "metadata": {},
   "outputs": [],
   "source": [
    "%load_ext autoreload\n",
    "%autoreload 2"
   ]
  },
  {
   "cell_type": "code",
   "execution_count": 2,
   "metadata": {},
   "outputs": [
    {
     "data": {
      "application/vnd.jupyter.widget-view+json": {
       "model_id": "751865447caf417aa9787c72e1c18f24",
       "version_major": 2,
       "version_minor": 0
      },
      "text/plain": []
     },
     "metadata": {},
     "output_type": "display_data"
    }
   ],
   "source": [
    "from pathlib import Path\n",
    "\n",
    "import pandas as pd\n",
    "from opencadd.databases.klifs import setup_local\n",
    "\n",
    "from kissim.io import PocketDataFrame\n",
    "from kissim.encoding import FingerprintGenerator"
   ]
  },
  {
   "cell_type": "code",
   "execution_count": 3,
   "metadata": {},
   "outputs": [],
   "source": [
    "HERE = Path(_dh[-1])\n",
    "DATA = HERE / \"../../data/\"\n",
    "RESULTS = HERE / \"../../results/\""
   ]
  },
  {
   "cell_type": "code",
   "execution_count": 4,
   "metadata": {},
   "outputs": [],
   "source": [
    "try:\n",
    "    LOCAL = setup_local(DATA / \"external/20210114_KLIFS_HUMAN\")\n",
    "except FileNotFoundError:\n",
    "    # Use this KLIFS dataset for CI\n",
    "    LOCAL = setup_local(DATA / \"external/20201223_KLIFS_HUMAN_ABL2\")"
   ]
  },
  {
   "cell_type": "markdown",
   "metadata": {},
   "source": [
    "## Load structure KLIFS IDs of interest\n",
    "\n",
    "Let's load our pre-calculated fingerprint saved in a _json_ file as `FingerprintGenerator` object."
   ]
  },
  {
   "cell_type": "code",
   "execution_count": 5,
   "metadata": {},
   "outputs": [
    {
     "name": "stdout",
     "output_type": "stream",
     "text": [
      "Number of structures: 4944\n"
     ]
    }
   ],
   "source": [
    "structure_klifs_ids = pd.read_csv(DATA / \"processed/structure_klifs_ids.txt\", squeeze=True, header=None).to_list()\n",
    "print(f\"Number of structures: {len(structure_klifs_ids)}\")"
   ]
  },
  {
   "cell_type": "markdown",
   "metadata": {},
   "source": [
    "## Extract pocket residue CA atom coordinates"
   ]
  },
  {
   "cell_type": "code",
   "execution_count": 6,
   "metadata": {},
   "outputs": [],
   "source": [
    "def pocket_residue_ca_atom_coordinates(structure_klifs_ids, klifs_session):\n",
    "\n",
    "    coordinates = []\n",
    "\n",
    "    for structure_klifs_id in structure_klifs_ids:\n",
    "        pocket = PocketDataFrame.from_structure_klifs_id(structure_klifs_id, klifs_session)\n",
    "        if pocket is not None:\n",
    "            ca_atoms = pocket.residues.dropna().merge(pocket.ca_atoms, how=\"left\", on=[\"residue.id\"])\n",
    "            ca_atoms[\"structure.klifs_id\"] = structure_klifs_id\n",
    "            ca_atoms = ca_atoms.set_index([\"structure.klifs_id\", \"residue.ix\"], )[[\"atom.x\", \"atom.y\", \"atom.z\"]]\n",
    "            coordinates.append(ca_atoms)\n",
    "        #else:\n",
    "            #print(f\"{structure_klifs_id}: Pocket is None.\")\n",
    "\n",
    "    coordinates = pd.concat(coordinates)\n",
    "    return coordinates"
   ]
  },
  {
   "cell_type": "code",
   "execution_count": 7,
   "metadata": {},
   "outputs": [
    {
     "name": "stderr",
     "output_type": "stream",
     "text": [
      "10437: Structure KLIFS ID unknown to local session. (ValueError: Input values yield no results.)\n",
      "6655: Structure KLIFS ID unknown to local session. (ValueError: Input values yield no results.)\n",
      "1987: Structure KLIFS ID unknown to local session. (ValueError: Input values yield no results.)\n",
      "7362: Structure KLIFS ID unknown to local session. (ValueError: Input values yield no results.)\n",
      "5489: Structure KLIFS ID unknown to local session. (ValueError: Input values yield no results.)\n",
      "5458: Structure KLIFS ID unknown to local session. (ValueError: Input values yield no results.)\n",
      "10737: Structure KLIFS ID unknown to local session. (ValueError: Input values yield no results.)\n",
      "1940: Structure KLIFS ID unknown to local session. (ValueError: Input values yield no results.)\n",
      "3544: Structure KLIFS ID unknown to local session. (ValueError: Input values yield no results.)\n",
      "13041: Local complex.pdb or pocket.pdb file missing: /home/dominique/Documents/GitHub/kissim_app/notebooks/dataset/../../data/external/20210114_KLIFS_HUMAN/HUMAN/GPRK5/6pjx_altB_chainA/complex.pdb\n",
      "8272: Structure KLIFS ID unknown to local session. (ValueError: Input values yield no results.)\n",
      "6772: Structure KLIFS ID unknown to local session. (ValueError: Input values yield no results.)\n",
      "7962: Structure KLIFS ID unknown to local session. (ValueError: Input values yield no results.)\n",
      "10564: Structure KLIFS ID unknown to local session. (ValueError: Input values yield no results.)\n",
      "6313: Structure KLIFS ID unknown to local session. (ValueError: Input values yield no results.)\n",
      "7418: Structure KLIFS ID unknown to local session. (ValueError: Input values yield no results.)\n",
      "9494: Structure KLIFS ID unknown to local session. (ValueError: Input values yield no results.)\n",
      "7143: Structure KLIFS ID unknown to local session. (ValueError: Input values yield no results.)\n"
     ]
    },
    {
     "name": "stdout",
     "output_type": "stream",
     "text": [
      "CPU times: user 14min 29s, sys: 804 ms, total: 14min 30s\n",
      "Wall time: 14min 30s\n"
     ]
    }
   ],
   "source": [
    "%time coordinates = pocket_residue_ca_atom_coordinates(structure_klifs_ids, LOCAL)"
   ]
  },
  {
   "cell_type": "markdown",
   "metadata": {},
   "source": [
    "## Save coordinates"
   ]
  },
  {
   "cell_type": "code",
   "execution_count": 8,
   "metadata": {},
   "outputs": [],
   "source": [
    "coordinates.to_csv(DATA / \"processed/pocket_residue_ca_atom_coordinates.csv.gz\", compression=\"gzip\")"
   ]
  },
  {
   "cell_type": "markdown",
   "metadata": {},
   "source": [
    "## Load coordinates"
   ]
  },
  {
   "cell_type": "code",
   "execution_count": 9,
   "metadata": {},
   "outputs": [
    {
     "data": {
      "text/html": [
       "<div>\n",
       "<style scoped>\n",
       "    .dataframe tbody tr th:only-of-type {\n",
       "        vertical-align: middle;\n",
       "    }\n",
       "\n",
       "    .dataframe tbody tr th {\n",
       "        vertical-align: top;\n",
       "    }\n",
       "\n",
       "    .dataframe thead th {\n",
       "        text-align: right;\n",
       "    }\n",
       "</style>\n",
       "<table border=\"1\" class=\"dataframe\">\n",
       "  <thead>\n",
       "    <tr style=\"text-align: right;\">\n",
       "      <th></th>\n",
       "      <th></th>\n",
       "      <th>atom.x</th>\n",
       "      <th>atom.y</th>\n",
       "      <th>atom.z</th>\n",
       "    </tr>\n",
       "    <tr>\n",
       "      <th>structure.klifs_id</th>\n",
       "      <th>residue.ix</th>\n",
       "      <th></th>\n",
       "      <th></th>\n",
       "      <th></th>\n",
       "    </tr>\n",
       "  </thead>\n",
       "  <tbody>\n",
       "    <tr>\n",
       "      <th rowspan=\"5\" valign=\"top\">3835</th>\n",
       "      <th>1</th>\n",
       "      <td>6.056</td>\n",
       "      <td>14.974</td>\n",
       "      <td>51.863</td>\n",
       "    </tr>\n",
       "    <tr>\n",
       "      <th>2</th>\n",
       "      <td>6.268</td>\n",
       "      <td>13.247</td>\n",
       "      <td>48.488</td>\n",
       "    </tr>\n",
       "    <tr>\n",
       "      <th>3</th>\n",
       "      <td>2.954</td>\n",
       "      <td>13.926</td>\n",
       "      <td>46.613</td>\n",
       "    </tr>\n",
       "    <tr>\n",
       "      <th>4</th>\n",
       "      <td>3.490</td>\n",
       "      <td>11.680</td>\n",
       "      <td>43.584</td>\n",
       "    </tr>\n",
       "    <tr>\n",
       "      <th>5</th>\n",
       "      <td>6.190</td>\n",
       "      <td>10.086</td>\n",
       "      <td>41.438</td>\n",
       "    </tr>\n",
       "    <tr>\n",
       "      <th>...</th>\n",
       "      <th>...</th>\n",
       "      <td>...</td>\n",
       "      <td>...</td>\n",
       "      <td>...</td>\n",
       "    </tr>\n",
       "    <tr>\n",
       "      <th rowspan=\"5\" valign=\"top\">7219</th>\n",
       "      <th>81</th>\n",
       "      <td>2.003</td>\n",
       "      <td>19.768</td>\n",
       "      <td>33.851</td>\n",
       "    </tr>\n",
       "    <tr>\n",
       "      <th>82</th>\n",
       "      <td>3.749</td>\n",
       "      <td>21.637</td>\n",
       "      <td>31.096</td>\n",
       "    </tr>\n",
       "    <tr>\n",
       "      <th>83</th>\n",
       "      <td>6.670</td>\n",
       "      <td>19.352</td>\n",
       "      <td>30.231</td>\n",
       "    </tr>\n",
       "    <tr>\n",
       "      <th>84</th>\n",
       "      <td>5.273</td>\n",
       "      <td>17.350</td>\n",
       "      <td>27.325</td>\n",
       "    </tr>\n",
       "    <tr>\n",
       "      <th>85</th>\n",
       "      <td>3.514</td>\n",
       "      <td>20.317</td>\n",
       "      <td>25.770</td>\n",
       "    </tr>\n",
       "  </tbody>\n",
       "</table>\n",
       "<p>412183 rows × 3 columns</p>\n",
       "</div>"
      ],
      "text/plain": [
       "                               atom.x  atom.y  atom.z\n",
       "structure.klifs_id residue.ix                        \n",
       "3835               1            6.056  14.974  51.863\n",
       "                   2            6.268  13.247  48.488\n",
       "                   3            2.954  13.926  46.613\n",
       "                   4            3.490  11.680  43.584\n",
       "                   5            6.190  10.086  41.438\n",
       "...                               ...     ...     ...\n",
       "7219               81           2.003  19.768  33.851\n",
       "                   82           3.749  21.637  31.096\n",
       "                   83           6.670  19.352  30.231\n",
       "                   84           5.273  17.350  27.325\n",
       "                   85           3.514  20.317  25.770\n",
       "\n",
       "[412183 rows x 3 columns]"
      ]
     },
     "execution_count": 9,
     "metadata": {},
     "output_type": "execute_result"
    }
   ],
   "source": [
    "coordinates = pd.read_csv(DATA / \"processed/pocket_residue_ca_atom_coordinates.csv.gz\", header=0, index_col=[0, 1])\n",
    "coordinates"
   ]
  },
  {
   "cell_type": "code",
   "execution_count": 10,
   "metadata": {},
   "outputs": [
    {
     "name": "stdout",
     "output_type": "stream",
     "text": [
      "Number of structures: 4926\n"
     ]
    }
   ],
   "source": [
    "print(f\"Number of structures: {len(coordinates.index.get_level_values('structure.klifs_id').unique())}\")"
   ]
  }
 ],
 "metadata": {
  "kernelspec": {
   "display_name": "Python 3",
   "language": "python",
   "name": "python3"
  },
  "language_info": {
   "codemirror_mode": {
    "name": "ipython",
    "version": 3
   },
   "file_extension": ".py",
   "mimetype": "text/x-python",
   "name": "python",
   "nbconvert_exporter": "python",
   "pygments_lexer": "ipython3",
   "version": "3.8.6"
  }
 },
 "nbformat": 4,
 "nbformat_minor": 4
}
