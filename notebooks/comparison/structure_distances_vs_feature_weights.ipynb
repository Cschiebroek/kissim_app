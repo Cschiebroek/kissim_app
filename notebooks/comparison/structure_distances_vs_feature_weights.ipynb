{
 "cells": [
  {
   "cell_type": "markdown",
   "id": "42072601",
   "metadata": {},
   "source": [
    "# Fingerprint distances distribution\n",
    "\n",
    "In this notebook, we investigate the ranges of fingerprint distances for different feature weighting schemes.\n",
    "Feature weighting schemes are denoted as follows: \n",
    "\n",
    "_\\<physicochemical\\>\\<distances\\>\\<moments\\>_\n",
    "\n",
    "- $100$: Include only bits for physicochemical features (_physicochemical_)\n",
    "- $010$: Include only bits for spatial distances features (_distances_)\n",
    "- $001$: Include only bits for moments of spatial distances features (_moments_)\n",
    "- $110$: Include only bits for physicochemical and distances (1:1)\n",
    "- $101$: Include only bits for physicochemical and moments (1:1)\n",
    "- $011$: Include only bits for distances and moments (1:1)\n",
    "- $111$: Include all bits equally weighted by physicochemical, distances, and moments\n",
    "- $15$: Include all bits equally by bit"
   ]
  },
  {
   "cell_type": "code",
   "execution_count": 1,
   "id": "05e4b9a3",
   "metadata": {},
   "outputs": [],
   "source": [
    "%load_ext autoreload\n",
    "%autoreload 2"
   ]
  },
  {
   "cell_type": "code",
   "execution_count": 2,
   "id": "7112e162",
   "metadata": {},
   "outputs": [
    {
     "data": {
      "application/vnd.jupyter.widget-view+json": {
       "model_id": "87943d5c3ef04930a797bdc517d64d9a",
       "version_major": 2,
       "version_minor": 0
      },
      "text/plain": []
     },
     "metadata": {},
     "output_type": "display_data"
    }
   ],
   "source": [
    "from pathlib import Path\n",
    "\n",
    "import pandas as pd\n",
    "import matplotlib.pyplot as plt\n",
    "\n",
    "from kissim.comparison import FingerprintDistanceGenerator"
   ]
  },
  {
   "cell_type": "code",
   "execution_count": 3,
   "id": "589c0216",
   "metadata": {},
   "outputs": [],
   "source": [
    "HERE = Path(_dh[-1])  # noqa: F821\n",
    "DATA = HERE / \"../../results/\""
   ]
  },
  {
   "cell_type": "code",
   "execution_count": 4,
   "id": "5f31d488",
   "metadata": {},
   "outputs": [],
   "source": [
    "plt.style.use(\"seaborn\")"
   ]
  },
  {
   "cell_type": "code",
   "execution_count": 5,
   "id": "9756ffc2",
   "metadata": {},
   "outputs": [
    {
     "name": "stdout",
     "output_type": "stream",
     "text": [
      "fingerprint_distances_100.csv - Number of comparisons: 12081070\n",
      "fingerprint_distances_101.csv - Number of comparisons: 12081070\n",
      "fingerprint_distances_001.csv - Number of comparisons: 12081070\n",
      "fingerprint_distances_110.csv - Number of comparisons: 12081070\n",
      "fingerprint_distances_101.csv - Number of comparisons: 12081070\n",
      "fingerprint_distances_011.csv - Number of comparisons: 12081070\n",
      "fingerprint_distances_111.csv - Number of comparisons: 12081070\n",
      "fingerprint_distances_15.csv - Number of comparisons: 12081070\n",
      "CPU times: user 45.2 s, sys: 4.79 s, total: 50 s\n",
      "Wall time: 52.1 s\n"
     ]
    }
   ],
   "source": [
    "%%time\n",
    "\n",
    "weights = [\"100\", \"101\", \"001\", \"110\", \"101\", \"011\", \"111\", \"15\"]\n",
    "distances = {}\n",
    "for weight in weights:\n",
    "    file = f\"fingerprint_distances_{weight}.csv\"\n",
    "    fingerprint_distance_generator = FingerprintDistanceGenerator.from_csv(DATA / file)\n",
    "    dist_df = fingerprint_distance_generator.data\n",
    "    print(f\"{file} - Number of comparisons: {len(dist_df)}\")\n",
    "    distances[weight] = dist_df[\"distance\"]"
   ]
  },
  {
   "cell_type": "code",
   "execution_count": 6,
   "id": "80d67f60",
   "metadata": {},
   "outputs": [
    {
     "data": {
      "image/png": "[encoded data removed]",
      "text/plain": [
       "<Figure size 576x396 with 1 Axes>"
      ]
     },
     "metadata": {},
     "output_type": "display_data"
    }
   ],
   "source": [
    "fig, ax = plt.subplots(1, 1)\n",
    "pd.DataFrame(distances).plot(\n",
    "    kind=\"box\",\n",
    "    ax=ax,\n",
    "    title=f\"Distance distributions for {distances['111'].shape[0]} pairwise comparisons\",\n",
    ")\n",
    "ax.set_xlabel(\"Feature weighting scheme\")\n",
    "ax.set_ylabel(\"Fingerprint distance\");"
   ]
  }
 ],
 "metadata": {
  "kernelspec": {
   "display_name": "Python 3",
   "language": "python",
   "name": "python3"
  },
  "language_info": {
   "codemirror_mode": {
    "name": "ipython",
    "version": 3
   },
   "file_extension": ".py",
   "mimetype": "text/x-python",
   "name": "python",
   "nbconvert_exporter": "python",
   "pygments_lexer": "ipython3",
   "version": "3.9.5"
  }
 },
 "nbformat": 4,
 "nbformat_minor": 5
}
