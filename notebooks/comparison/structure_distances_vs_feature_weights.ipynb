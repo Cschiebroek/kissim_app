{
 "cells": [
  {
   "cell_type": "markdown",
   "id": "42072601",
   "metadata": {},
   "source": [
    "# Fingerprint distances distribution\n",
    "\n",
    "In this notebook, we investigate the ranges of fingerprint distances for different feature weighting schemes.\n",
    "Feature weighting schemes are denoted as follows: \n",
    "\n",
    "_\\<physicochemical\\>\\<distances\\>\\<moments\\>_\n",
    "\n",
    "- $100$: Include only bits for physicochemical features (_physicochemical_)\n",
    "- $010$: Include only bits for spatial distances features (_distances_)\n",
    "- $001$: Include only bits for moments of spatial distances features (_moments_)\n",
    "- $110$: Include only bits for physicochemical and distances (1:1)\n",
    "- $101$: Include only bits for physicochemical and moments (1:1)\n",
    "- $011$: Include only bits for distances and moments (1:1)\n",
    "- $111$: Include all bits equally weighted by physicochemical, distances, and moments\n",
    "- $15*1$: Include all bits equally by bit\n",
    "\n",
    "__Note__: This notebook will take up to 8 GB of memory."
   ]
  },
  {
   "cell_type": "code",
   "execution_count": null,
   "id": "05e4b9a3",
   "metadata": {},
   "outputs": [],
   "source": [
    "%load_ext autoreload\n",
    "%autoreload 2"
   ]
  },
  {
   "cell_type": "code",
   "execution_count": null,
   "id": "7112e162",
   "metadata": {},
   "outputs": [],
   "source": [
    "from pathlib import Path\n",
    "\n",
    "import pandas as pd\n",
    "import matplotlib.pyplot as plt\n",
    "\n",
    "from kissim.comparison import FingerprintDistanceGenerator"
   ]
  },
  {
   "cell_type": "code",
   "execution_count": null,
   "id": "589c0216",
   "metadata": {},
   "outputs": [],
   "source": [
    "HERE = Path(_dh[-1])  # noqa: F821\n",
    "DATA = HERE / \"../../results/\""
   ]
  },
  {
   "cell_type": "code",
   "execution_count": null,
   "id": "5f31d488",
   "metadata": {},
   "outputs": [],
   "source": [
    "plt.style.use(\"seaborn\")"
   ]
  },
  {
   "cell_type": "code",
   "execution_count": null,
   "id": "f5c10a0f",
   "metadata": {},
   "outputs": [],
   "source": [
    "fingerprint_distances_files_dict = {\n",
    "    \"100\": \"fingerprint_distances_125-125-125-125-125-125-125-125-0-0-0-0-0-0-0.csv\",\n",
    "    \"010\": \"fingerprint_distances_0-0-0-0-0-0-0-0-250-250-250-250-0-0-0.csv\",\n",
    "    \"001\": \"fingerprint_distances_0-0-0-0-0-0-0-0-0-0-0-0-333-333-333.csv\",\n",
    "    \"110\": \"fingerprint_distances_62-62-62-62-62-62-62-62-125-125-125-125-0-0-0.csv\",\n",
    "    \"101\": \"fingerprint_distances_62-62-62-62-62-62-62-62-0-0-0-0-166-166-166.csv\",\n",
    "    \"011\": \"fingerprint_distances_0-0-0-0-0-0-0-0-125-125-125-125-166-166-166.csv\",\n",
    "    \"111\": \"fingerprint_distances_41-41-41-41-41-41-41-41-83-83-83-83-111-111-111.csv\",\n",
    "    \"15*1\": \"fingerprint_distances_66-66-66-66-66-66-66-66-66-66-66-66-66-66-66.csv\",\n",
    "}"
   ]
  },
  {
   "cell_type": "code",
   "execution_count": null,
   "id": "9756ffc2",
   "metadata": {},
   "outputs": [],
   "source": [
    "distances = {}\n",
    "for weights_tag, file in fingerprint_distances_files_dict.items():\n",
    "    print(file)\n",
    "    print(f\"Feature weights tag: {weights_tag}\")\n",
    "    fingerprint_distance_generator = FingerprintDistanceGenerator.from_json(DATA / file)\n",
    "    dist_df = fingerprint_distance_generator.data\n",
    "    print(f\"Number of comparisons: {len(dist_df)}\")\n",
    "    dist_df = dist_df[\n",
    "        ~dist_df.apply(\n",
    "            lambda x: (x[\"structure1\"] in [59, 7083]) or (x[\"structure2\"] in [59, 7083]), axis=1\n",
    "        )\n",
    "    ]\n",
    "    print(f\"Number of comparisons: {len(dist_df)}\")\n",
    "    distances[weights_tag] = dist_df[\"distance\"]"
   ]
  },
  {
   "cell_type": "code",
   "execution_count": null,
   "id": "80d67f60",
   "metadata": {},
   "outputs": [],
   "source": [
    "fig, ax = plt.subplots(1, 1)\n",
    "pd.DataFrame(distances).plot(\n",
    "    kind=\"box\",\n",
    "    ax=ax,\n",
    "    title=f\"Distance distributions for {distances['111'].shape[0]} pairwise comparisons\",\n",
    ")\n",
    "ax.set_xlabel(\"Feature weighting scheme\")\n",
    "ax.set_ylabel(\"Fingerprint distance\");"
   ]
  },
  {
   "cell_type": "code",
   "execution_count": null,
   "id": "b9c9b3c1",
   "metadata": {},
   "outputs": [],
   "source": [
    "fig.savefig(\"results/feature_weighting_schemes.png\", dpi=300)"
   ]
  },
  {
   "cell_type": "code",
   "execution_count": null,
   "id": "a54a22b0",
   "metadata": {},
   "outputs": [],
   "source": []
  }
 ],
 "metadata": {
  "kernelspec": {
   "display_name": "Python 3",
   "language": "python",
   "name": "python3"
  },
  "language_info": {
   "codemirror_mode": {
    "name": "ipython",
    "version": 3
   },
   "file_extension": ".py",
   "mimetype": "text/x-python",
   "name": "python",
   "nbconvert_exporter": "python",
   "pygments_lexer": "ipython3",
   "version": "3.8.6"
  }
 },
 "nbformat": 4,
 "nbformat_minor": 5
}
