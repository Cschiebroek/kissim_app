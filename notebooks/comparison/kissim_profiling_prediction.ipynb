{
 "cells": [
  {
   "cell_type": "markdown",
   "metadata": {},
   "source": [
    "# Predict ligand profiling using `kissim`"
   ]
  },
  {
   "cell_type": "markdown",
   "metadata": {},
   "source": [
    "## Aim of this notebook\n",
    "\n",
    "In order to asses the predictive power of `kissim`, we here choose a ligand-centric evaluation. We will compare if `kissim` can predict on- and off-targets determined in ligand profiling studies.\n",
    "\n",
    "__Data__\n",
    "\n",
    "- __Ligand-kinase profiling__: Karaman dataset downloaded from KinMap\n",
    "- __Kinase-kinase profiling__: `kissim` dataset (kinase similarities)\n",
    "- __Kinase names__: KinMap kinase names (maps kinase synonyms to main kinase names used in KinMap)\n",
    "- __Ligand names__: PKIDB ligand names (maps ligand synonyms to main ligand names defined in PKIDB)\n",
    "\n",
    "__Method__\n",
    "\n",
    "- Prepare datasets\n",
    "  - PDKIDB dataset: Ligand names\n",
    "  - KinMap dataset: Kinase names\n",
    "  - Karaman dataset: Ligand-kinase profiling data downloaded from KinMap (keep only ligands whose name can be cast to PKIDB name)\n",
    "  - `kissim` dataset: Kinase-kinase profiling data (keep only kinases whose name can be cast to KinMap name)\n",
    "  - Define ligands' on-targets as listed in PKIDB (keep only on-targets whose name can be cast to KinMap name)\n",
    "- Merge datasets into \"ligand dataset\" per ligand; keep \"ligand dataset\" if enough coverage\n",
    "  - \"Ligand dataset\" consists of\n",
    "    - Ligand profiling data (Karaman et al. activities for ligand)\n",
    "    - Kinase similarity data (`kissim` distances for ligand's on-target)\n",
    "  - Coverage of a \"ligand dataset\" is high enough if the number of targets that fullfil the following conditions is greater than `MIN_N_TARGETS`:\n",
    "    - Target is active w.r.t. to the ligand (in Karaman dataset; `KD_CUTOFF` defines activity)\n",
    "    - Target is structurally covered in `kissim`\n",
    "  - Some ligands have multiple on-targets; set up \"ligand dataset\" per ligand/on-target pair each\n",
    "- Calculate `kissim` performance; measured using an enrichment factor within the top x% of ranked `kissim` results ($EF{_x\\%}$)\n",
    "  - Kinase is defined as active if Karaman et. al profiling data reports $K_d$ <= `KD_CUTOFF`\n",
    "  - $EF{_x\\%}$ is the ratio between _observed_ active kinases and the _theoretical maximum_ of active kinases in the top x% of ranked `kissim` results"
   ]
  },
  {
   "cell_type": "code",
   "execution_count": null,
   "metadata": {},
   "outputs": [],
   "source": [
    "%load_ext autoreload\n",
    "%autoreload 2"
   ]
  },
  {
   "cell_type": "code",
   "execution_count": null,
   "metadata": {},
   "outputs": [],
   "source": [
    "from pathlib import Path\n",
    "\n",
    "import numpy as np\n",
    "import pandas as pd\n",
    "import matplotlib.pyplot as plt\n",
    "import seaborn as sns\n",
    "from IPython.display import display, HTML, Markdown\n",
    "\n",
    "from src.data import ligands, kinases, profiling, distances, targets\n",
    "from src.evaluation import ranks"
   ]
  },
  {
   "cell_type": "code",
   "execution_count": null,
   "metadata": {},
   "outputs": [],
   "source": [
    "plt.style.use(\"seaborn\")"
   ]
  },
  {
   "cell_type": "code",
   "execution_count": null,
   "metadata": {},
   "outputs": [],
   "source": [
    "HERE = Path(_dh[-1])  # noqa: F821\n",
    "DATA = HERE / \"../../data\"\n",
    "RESULTS = HERE / \"../../results\""
   ]
  },
  {
   "cell_type": "code",
   "execution_count": null,
   "metadata": {},
   "outputs": [],
   "source": [
    "KD_CUTOFF = 100\n",
    "MIN_N_TARGETS = 3"
   ]
  },
  {
   "cell_type": "markdown",
   "metadata": {},
   "source": [
    "## Prepare datasets\n",
    "\n",
    "We want to compare on- and off-targets seen in (1) the Karaman kinase-ligand profiling dataset and (2) the `kissim` kinase-kinase profiling dataset. Kinase names and ligand names must be homogenized; we will use kinase names from KinMap and ligand names from the PKIDB."
   ]
  },
  {
   "cell_type": "markdown",
   "metadata": {},
   "source": [
    "### Karaman dataset: Kinase-ligand profiling data\n",
    "\n",
    "__Note__: Filters out ligands whose names cannot be mapped onto PKIDB ligand names."
   ]
  },
  {
   "cell_type": "markdown",
   "metadata": {},
   "source": [
    "#### Load full dataset (not needed)"
   ]
  },
  {
   "cell_type": "code",
   "execution_count": null,
   "metadata": {},
   "outputs": [],
   "source": [
    "karaman_df = profiling.karaman()\n",
    "print(f\"Number of kinases: {karaman_df.shape[0]}\")\n",
    "print(f\"Number of ligands: {karaman_df.shape[1]}\")\n",
    "karaman_df.head()"
   ]
  },
  {
   "cell_type": "markdown",
   "metadata": {},
   "source": [
    "#### Load dataset with FDA-approved PKIDB ligands only"
   ]
  },
  {
   "cell_type": "code",
   "execution_count": null,
   "metadata": {},
   "outputs": [],
   "source": [
    "karaman_df = profiling.karaman(pkidb_ligands=True, fda_approved=True)\n",
    "print(f\"Number of kinases: {karaman_df.shape[0]}\")\n",
    "print(f\"Number of ligands: {karaman_df.shape[1]}\")\n",
    "karaman_df.head()"
   ]
  },
  {
   "cell_type": "code",
   "execution_count": null,
   "metadata": {},
   "outputs": [],
   "source": [
    "karaman_df.notna().sum()"
   ]
  },
  {
   "cell_type": "markdown",
   "metadata": {},
   "source": [
    "### `kissim` dataset: Kinase-kinase profiling data\n",
    "\n",
    "__Note__: Filters out kinases whose names cannot be mapped to KinMap kinase names."
   ]
  },
  {
   "cell_type": "code",
   "execution_count": null,
   "metadata": {},
   "outputs": [],
   "source": [
    "distances_path = RESULTS / \"../results/20210324/fingerprint_distances_41-41-41-41-41-41-41-41-83-83-83-83-111-111-111.json\""
   ]
  },
  {
   "cell_type": "markdown",
   "metadata": {},
   "source": [
    "#### Load full dataset (not needed)"
   ]
  },
  {
   "cell_type": "code",
   "execution_count": null,
   "metadata": {},
   "outputs": [],
   "source": [
    "kissim_df = distances.kissim(distances_path, structure_kinase_mapping_by=\"minimum\", kinmap_kinases=False)\n",
    "print(f\"Kinase distance matrix shape: {kissim_df.shape}\")"
   ]
  },
  {
   "cell_type": "markdown",
   "metadata": {},
   "source": [
    "#### Load dataset with KinMap kinases only"
   ]
  },
  {
   "cell_type": "code",
   "execution_count": null,
   "metadata": {},
   "outputs": [],
   "source": [
    "kissim_df = distances.kissim(distances_path, structure_kinase_mapping_by=\"minimum\", kinmap_kinases=True)\n",
    "print(f\"Kinase distance matrix shape: {kissim_df.shape}\")\n",
    "kissim_df.iloc[:5, :5]"
   ]
  },
  {
   "cell_type": "markdown",
   "metadata": {},
   "source": [
    "### Ligands' on-targets (PKIDB dataset)\n",
    "\n",
    "__Note__: Filters out ligands whose targets are not available in PKIDB."
   ]
  },
  {
   "cell_type": "code",
   "execution_count": null,
   "metadata": {
    "tags": []
   },
   "outputs": [],
   "source": [
    "pd.set_option(\"max_colwidth\", 100)\n",
    "ligand_targets = targets._pkidb_ligands_to_targets(karaman_df.columns, fda_approved=False)\n",
    "ligand_targets"
   ]
  },
  {
   "cell_type": "markdown",
   "metadata": {},
   "source": [
    "Ligand targets listed in the DrugBank or PKIDB are including reported on- and off-targets. For the purpose of this notebook, we would like to identify the intended targets (on-targets) only. This seems to be a not-so-easy task and involves a manual assignment based on literature search.\n",
    "\n",
    "We will assign main on-targets manually based on the following table including\n",
    "- Main on-targets reported in literature\n",
    "- Availability of profiling data (with <= 100nM activity) for a given ligand-kinase combo in the Karaman profiling dataset \n",
    "- Use KinMap kinase names (since we are using the Karaman dataset provided by KinMap)\n",
    "- For multitargeted ligands define multiple targets\n",
    "\n",
    "| Approved kinase inhibitor                            | Intended kinase target (\\* in Karaman profiling dataset <= 100nM) |\n",
    "|------------------------------------------------------|---------------------------------------------------------|\n",
    "| [Erlotinib](https://go.drugbank.com/drugs/DB00530)   | EGFR\\* |\n",
    "| [Gefitinib](https://go.drugbank.com/drugs/DB00317)   | EGFR\\* |\n",
    "| [Lapatinib](https://go.drugbank.com/drugs/DB01259)   | EGFR\\*, ERBB2\\* |\n",
    "| [Tofacitinib](https://go.drugbank.com/drugs/DB08895) | JAK1, JAK2, JAK3 |\n",
    "| [Vandetanib](https://go.drugbank.com/drugs/DB05294)  | VEGFR2, EGFR, RET; [see paper](https://www.ema.europa.eu/en/documents/assessment-report/caprelsa-epar-public-assessment-report_en.pdf) |\n",
    "| [Imatinib](https://go.drugbank.com/drugs/DB00619)    | multitargeted inhibitor - TK: ABL1\\*, KIT\\*, PDGFRa\\*; [see paper](https://www.hindawi.com/journals/cherp/2014/357027/) |\n",
    "| [Sunitinib](https://go.drugbank.com/drugs/DB01268)   | multitargeted inhibitor - TK: VEGFR1/2, PDFGRa/b, KIT, FLT2, RET, CSF1R; [see paper](https://link.springer.com/article/10.2165/11318860-000000000-00000) |\n",
    "| [Dasatinib](https://go.drugbank.com/drugs/DB01254)   | multitargeted inhibitor - TK: ABL1 (BCRABL), SRC, Eph\\_ (Ephrins), \\_GFR (GFR); see DrugBank Identification > Description |\n",
    "| [Sorafenib](https://go.drugbank.com/drugs/DB00398)   | multitargeted inhibitor - TK/TKL (Raf/Mek/Erk pathways): RAF\\_ (Raf) \\[TKL\\], PDFGR\\_ (PDFG), VEGF2/3, KIT; see DrugBank Identification > Description |"
   ]
  },
  {
   "cell_type": "markdown",
   "metadata": {},
   "source": [
    "Full ligand-kinase list:"
   ]
  },
  {
   "cell_type": "code",
   "execution_count": null,
   "metadata": {},
   "outputs": [],
   "source": [
    "ligand_targets_list = ligand_targets[[\"ligand.input\", \"targets.kinmap\"]]\n",
    "ligand_targets_list = ligand_targets_list.to_numpy().tolist()\n",
    "ligand_targets_list"
   ]
  },
  {
   "cell_type": "markdown",
   "metadata": {},
   "source": [
    "## Merge datasets into \"ligand datasets\"\n",
    "\n",
    "We will merge now profiling (Karaman et al.) and kinase similarity (`kissim`) information into one dataset per ligand (ligand dataset). \n",
    "\n",
    "We will only keep ligand datasets if we like the coverage of active kinases covered by `kissim` (Karaman et al.)"
   ]
  },
  {
   "cell_type": "code",
   "execution_count": null,
   "metadata": {
    "tags": []
   },
   "outputs": [],
   "source": [
    "for ligand_name, target_list in ligand_targets_list:\n",
    "    for kinase_name in target_list:\n",
    "        ranks.profiling_vs_similarity_dataset(\n",
    "            kinase_name,\n",
    "            kissim_df,\n",
    "            \"kissim\",\n",
    "            ligand_name,\n",
    "            karaman_df,\n",
    "            \"karaman\",\n",
    "        ).head(5)"
   ]
  },
  {
   "cell_type": "code",
   "execution_count": null,
   "metadata": {},
   "outputs": [],
   "source": [
    "ranks.profiling_vs_similarity_dataset(\n",
    "    \"EGFR\",\n",
    "    kissim_df,\n",
    "    \"kissim\",\n",
    "    \"Erlotinib\",\n",
    "    karaman_df,\n",
    "    \"karaman\",\n",
    ")"
   ]
  },
  {
   "cell_type": "code",
   "execution_count": null,
   "metadata": {},
   "outputs": [],
   "source": [
    "def create_ligand_dataset(karaman_df, kissim_df, ligand_name, kinase_name, kd_cutoff):\n",
    "    \n",
    "    ligand_dataset = pd.DataFrame(\n",
    "        {\n",
    "            \"kinase.kinmap_name\": karaman_df[ligand_name].index.to_list(),\n",
    "            \"activity.kd_nm\": karaman_df[ligand_name].to_list()\n",
    "        }\n",
    "    )\n",
    "    # Sort by Kd and set activity rank accordingly\n",
    "    #ligand_dataset = ligand_dataset.sort_values(by=\"activity.kd_nm\").reset_index(drop=True)\n",
    "    #ligand_dataset[\"activity.rank\"] = ligand_dataset.index + 1\n",
    "    ligand_dataset[\"activity.rank\"] = ligand_dataset[\"activity.kd_nm\"].rank()\n",
    "    # Define active kinases\n",
    "    ligand_dataset[\"activity.active\"] = ligand_dataset[\"activity.kd_nm\"] <= kd_cutoff\n",
    "    # Add kissim data\n",
    "    ligand_dataset[\"kissim.distance\"] = [\n",
    "        kissim_distance_by_kinase_name(kissim_df, kinase_name, kinase_name_query) for kinase_name_query in ligand_dataset[\"kinase.kinmap_name\"]\n",
    "    ]\n",
    "    ligand_dataset[\"kissim.rank\"] = ligand_dataset[\"kissim.distance\"].rank()\n",
    "    \n",
    "    return ligand_dataset"
   ]
  },
  {
   "cell_type": "markdown",
   "metadata": {},
   "source": [
    "### Example ligand dataset"
   ]
  },
  {
   "cell_type": "code",
   "execution_count": null,
   "metadata": {},
   "outputs": [],
   "source": [
    "example_ligand_dataset = create_ligand_dataset(karaman_df, kissim_df, \"Erlotinib\", \"EGFR\", KD_CUTOFF)\n",
    "example_ligand_dataset"
   ]
  },
  {
   "cell_type": "markdown",
   "metadata": {},
   "source": [
    "Now, before we can use this ligand dataset for anything, we need to decide if it is good enough to be used for an analysis. What is good enough?\n",
    "Use a ligand dataset only if the number of targets that fullfil the following conditions is greater than `MIN_N_TARGETS`:\n",
    "\n",
    "- target is active w.r.t. to the ligand (in Karaman dataset; `KD_CUTOFF` defines activity)\n",
    "- target is structurally covered in `kissim`"
   ]
  },
  {
   "cell_type": "code",
   "execution_count": null,
   "metadata": {},
   "outputs": [],
   "source": [
    "example_ligand_dataset[\n",
    "    (example_ligand_dataset[\"activity.active\"]) & (example_ligand_dataset[\"kissim.distance\"].notna())\n",
    "]"
   ]
  },
  {
   "cell_type": "markdown",
   "metadata": {},
   "source": [
    "### Select ligand datasets with enough coverage\n",
    "\n",
    "Iterate over all proposed ligand-target pairs and keep only those that meet the conditions described above."
   ]
  },
  {
   "cell_type": "code",
   "execution_count": null,
   "metadata": {},
   "outputs": [],
   "source": [
    "ligand_targets_list_selected = []\n",
    "\n",
    "for ligand_name, kinase_name in ligand_targets_list:\n",
    "    display(Markdown(f\"#### {ligand_name} / {kinase_name}\"))\n",
    "    example_ligand_dataset = create_ligand_dataset(karaman_df, kissim_df, ligand_name, kinase_name, KD_CUTOFF)\n",
    "    a = example_ligand_dataset[\n",
    "        (example_ligand_dataset[\"activity.active\"]) & (example_ligand_dataset[\"kissim.distance\"].notna())\n",
    "    ]\n",
    "    if a.shape[0] > MIN_N_TARGETS:\n",
    "        display(Markdown(\"Include ligand dataset: YES\"))\n",
    "        ligand_targets_list_selected.append([ligand_name, kinase_name])\n",
    "    else:\n",
    "        display(Markdown(\"Include ligand dataset: NO\"))\n",
    "    display(HTML(a.to_html()))"
   ]
  },
  {
   "cell_type": "markdown",
   "metadata": {},
   "source": [
    "#### Selected ligand datasets\n",
    "\n",
    "Include the following ligand-target pairs for our ligand datasets:"
   ]
  },
  {
   "cell_type": "code",
   "execution_count": null,
   "metadata": {},
   "outputs": [],
   "source": [
    "ligand_targets_list_selected"
   ]
  },
  {
   "cell_type": "markdown",
   "metadata": {},
   "source": [
    "## Calculate `kissim` performance\n",
    "\n",
    "How do we assess the performance of `kissim` based on our merged Karaman-`kissim` datasets (ligand datasets)?\n",
    "\n",
    "Enrichment factor \n",
    "\n",
    "$EF_{x\\%} = \\frac{a}{b}$\n",
    "\n",
    "- $a$: Ratio of active targets in `kissim`'s top x% ranks\n",
    "- $b$: Ratio of active targets in all `kissim` ranks"
   ]
  },
  {
   "cell_type": "code",
   "execution_count": null,
   "metadata": {},
   "outputs": [],
   "source": [
    "def enrichment(ligand_dataset, cutoff_percentage=10):\n",
    "    \n",
    "    kinases_total = ligand_dataset.dropna(subset=[\"kissim.rank\"]).sort_values(\"kissim.distance\")[1:]\n",
    "    n_kinases_total = kinases_total.shape[0]\n",
    "    \n",
    "    n_kinases_top_x = int(n_kinases_total * cutoff_percentage / 100.0)\n",
    "    kinases_top_x = kinases_total.head(n_kinases_top_x)\n",
    "    \n",
    "    n_active_kinases_total = kinases_total[\"activity.active\"].sum()\n",
    "    n_active_kinases_top_x = kinases_top_x[\"activity.active\"].sum()\n",
    "    \n",
    "    ratio_active_kinases_identified = n_active_kinases_top_x / n_active_kinases_total\n",
    "    ratio_ranked_data = n_kinases_top_x / n_kinases_total\n",
    "    \n",
    "    return ratio_active_kinases_identified, ratio_ranked_data"
   ]
  },
  {
   "cell_type": "code",
   "execution_count": null,
   "metadata": {},
   "outputs": [],
   "source": [
    "def enrichment_optimal(ligand_dataset):\n",
    "\n",
    "    n_kinases = ligand_dataset.dropna(subset=[\"kissim.rank\"]).shape[0]\n",
    "    n_active_kinases = ligand_dataset.dropna(subset=[\"kissim.rank\"])[\"activity.active\"].sum()\n",
    "\n",
    "    return n_active_kinases / n_kinases"
   ]
  },
  {
   "cell_type": "code",
   "execution_count": null,
   "metadata": {},
   "outputs": [],
   "source": [
    "def enrichment_factor(ligand_dataset, cutoff_percentage=10):\n",
    "    \n",
    "    ratio_active_kinases_identified, ratio_ranked_data = enrichment(ligand_dataset, cutoff_percentage)\n",
    "    ef = ratio_active_kinases_identified * ratio_ranked_data\n",
    "    return ef"
   ]
  },
  {
   "cell_type": "markdown",
   "metadata": {},
   "source": [
    "### Test performance"
   ]
  },
  {
   "cell_type": "code",
   "execution_count": null,
   "metadata": {},
   "outputs": [],
   "source": [
    "performances = []\n",
    "enrichment_data_list = []\n",
    "\n",
    "for ligand_name, kinase_name in ligand_targets_list_selected:\n",
    "    \n",
    "    ligand_dataset = create_ligand_dataset(karaman_df, kissim_df, ligand_name, kinase_name, KD_CUTOFF)\n",
    "    n_actives = ligand_dataset[ligand_dataset[\"activity.active\"]].shape[0]\n",
    "    \n",
    "    display(Markdown(f\"#### {ligand_name} / {kinase_name}\"))\n",
    "    \n",
    "    ef_5 = enrichment_factor(ligand_dataset, 5)\n",
    "    ef_10 = enrichment_factor(ligand_dataset, 10)\n",
    "    ef_20 = enrichment_factor(ligand_dataset, 20)\n",
    "    \n",
    "    enrichment_data = [enrichment(ligand_dataset, i) for i in range(0, 101, 1)]\n",
    "    enrichment_data_list.append([ligand_name, kinase_name, enrichment_data])\n",
    "    display(Markdown(f\"EF5% = {ef_5}\"))\n",
    "    display(Markdown(f\"EF10% = {ef_10}\"))\n",
    "    display(Markdown(f\"EF20% = {ef_20}\"))\n",
    "    \n",
    "    n_profiling_ranks = ligand_dataset[\"activity.rank\"].notna().sum()\n",
    "    n_kissim_ranks = ligand_dataset[\"kissim.rank\"].notna().sum()\n",
    "    a = ligand_dataset[ligand_dataset[\"activity.active\"]].sort_values(\"activity.kd_nm\")\n",
    "    b = ligand_dataset.dropna(subset=[\"kissim.distance\"]).sort_values(\"kissim.distance\")\n",
    "    n_top_kissim_kinases = 20\n",
    "    \n",
    "    display(Markdown(f\"Show active kinases on {ligand_name} and their `kissim` ranks (in total {n_kissim_ranks} ranks):\"))\n",
    "    display(HTML(a.to_html()))\n",
    "    display(Markdown(f\"Show most similar kinases to {kinase_name} (top {n_top_kissim_kinases} `kissim` ranks) and their profiling ranks (in total {n_profiling_ranks}):\"))\n",
    "    display(HTML(b.head(n_top_kissim_kinases).to_html()))\n",
    "    \n",
    "    performances.append([ligand_name, kinase_name, ef_5, ef_10, ef_20, n_actives])"
   ]
  },
  {
   "cell_type": "markdown",
   "metadata": {},
   "source": [
    "### Summarize performance"
   ]
  },
  {
   "cell_type": "code",
   "execution_count": null,
   "metadata": {},
   "outputs": [],
   "source": [
    "cm = sns.light_palette(\"blue\", as_cmap=True)"
   ]
  },
  {
   "cell_type": "code",
   "execution_count": null,
   "metadata": {},
   "outputs": [],
   "source": [
    "performances_df = pd.DataFrame(performances, columns=[\"ligand\", \"kinase\", \"EF5%\", \"EF10%\", \"EF20%\", \"#actives\"])\n",
    "performances_df = performances_df.set_index([\"ligand\", \"kinase\"]).round(2)\n",
    "performances_df.sort_values(\"#actives\").style.background_gradient(cmap=cm, subset=[\"EF5%\", \"EF10%\", \"EF20%\"])"
   ]
  },
  {
   "cell_type": "code",
   "execution_count": null,
   "metadata": {},
   "outputs": [],
   "source": [
    "performances_df[[\"EF5%\", \"EF10%\", \"EF20%\"]].transpose().plot(legend=False)"
   ]
  },
  {
   "cell_type": "code",
   "execution_count": null,
   "metadata": {},
   "outputs": [],
   "source": [
    "performances_df[[\"EF5%\", \"EF10%\", \"EF20%\"]].mean()"
   ]
  },
  {
   "cell_type": "code",
   "execution_count": null,
   "metadata": {},
   "outputs": [],
   "source": [
    "enrichment_data = pd.DataFrame(enrichment_data_list, columns=[\"ligand\", \"kinase\", \"data\"]).explode(\"data\")\n",
    "enrichment_data[\"x\"] = enrichment_data[\"data\"].apply(lambda x: x[1])\n",
    "enrichment_data[\"y\"] = enrichment_data[\"data\"].apply(lambda x: x[0])\n",
    "enrichment_data = enrichment_data.drop(\"data\", axis=1)\n",
    "enrichment_data"
   ]
  },
  {
   "cell_type": "code",
   "execution_count": null,
   "metadata": {},
   "outputs": [],
   "source": [
    "data = {}\n",
    "for ligand_name, data1 in enrichment_data.groupby(\"ligand\"):\n",
    "    data[ligand_name] = []\n",
    "    for kinase_name, data2 in data1.groupby(\"kinase\"):\n",
    "        data_tmp = data2.set_index(\"x\")[\"y\"]\n",
    "        data_tmp.name = kinase_name\n",
    "        data[ligand_name].append(data_tmp)\n",
    "    data[ligand_name] = pd.concat(data[ligand_name], axis=1)\n",
    "\n",
    "for ligand_name, df in data.items():\n",
    "    # Experimental curves\n",
    "    ax = data[ligand_name].plot(title=ligand_name, ylim=(0, 1.01), xlim=(-0.01, 1))\n",
    "    # Optimal curve for ligand\n",
    "    ligand_dataset = create_ligand_dataset(karaman_df, kissim_df, ligand_name, kinase_name, KD_CUTOFF)\n",
    "    ax.plot([0, enrichment_optimal(ligand_dataset), 1], [0, 1, 1], \"--\", color=\"k\")\n",
    "    # Cosmetics\n",
    "    ax.set_xlabel(\"% ranked kissim dataset\")\n",
    "    ax.set_ylabel(\"% true active kinases identified\")\n",
    "    ax.set_aspect(1.0 / ax.get_data_ratio(), adjustable=\"box\")"
   ]
  },
  {
   "cell_type": "markdown",
   "metadata": {},
   "source": [
    "## Appendix"
   ]
  },
  {
   "cell_type": "raw",
   "metadata": {},
   "source": [
    "def venn_two_sets(set1, set2, name1, name2):\n",
    "    set1 = set(set1)\n",
    "    set2 = set(set2)\n",
    "    venn2(\n",
    "        subsets=(len(set1 - set2), len(set2 - set1), len(set1 & set2)), \n",
    "        set_labels = (name1, name2))"
   ]
  },
  {
   "cell_type": "code",
   "execution_count": null,
   "metadata": {},
   "outputs": [],
   "source": []
  }
 ],
 "metadata": {
  "kernelspec": {
   "display_name": "Python 3",
   "language": "python",
   "name": "python3"
  },
  "language_info": {
   "codemirror_mode": {
    "name": "ipython",
    "version": 3
   },
   "file_extension": ".py",
   "mimetype": "text/x-python",
   "name": "python",
   "nbconvert_exporter": "python",
   "pygments_lexer": "ipython3",
   "version": "3.8.6"
  }
 },
 "nbformat": 4,
 "nbformat_minor": 4
}
