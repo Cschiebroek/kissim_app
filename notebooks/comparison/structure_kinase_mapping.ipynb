{
 "cells": [
  {
   "cell_type": "markdown",
   "metadata": {},
   "source": [
    "# Fingerprint distances between structures for the same kinase\n",
    "\n",
    "In this notebook, we investigate the ranges of fingerprint distances for each kinase pair."
   ]
  },
  {
   "cell_type": "code",
   "execution_count": null,
   "metadata": {},
   "outputs": [],
   "source": [
    "%load_ext autoreload\n",
    "%autoreload 2"
   ]
  },
  {
   "cell_type": "code",
   "execution_count": 2,
   "metadata": {},
   "outputs": [
    {
     "data": {
      "application/vnd.jupyter.widget-view+json": {
       "model_id": "5043e6810c8644838f638d8aa0cc81d7",
       "version_major": 2,
       "version_minor": 0
      },
      "text/plain": []
     },
     "metadata": {},
     "output_type": "display_data"
    }
   ],
   "source": [
    "from pathlib import Path\n",
    "\n",
    "import numpy as np\n",
    "import pandas as pd\n",
    "import matplotlib.pyplot as plt\n",
    "import seaborn as sns\n",
    "from opencadd.databases.klifs import setup_local\n",
    "\n",
    "from kissim.comparison import FingerprintDistanceGenerator\n",
    "from kissim.encoding import FingerprintGenerator"
   ]
  },
  {
   "cell_type": "code",
   "execution_count": 3,
   "metadata": {},
   "outputs": [],
   "source": [
    "HERE = Path(_dh[-1])  # noqa: F821\n",
    "DATA = HERE / \"../../results/20210324/\""
   ]
  },
  {
   "cell_type": "code",
   "execution_count": 4,
   "metadata": {},
   "outputs": [],
   "source": [
    "plt.style.use(\"seaborn\")"
   ]
  },
  {
   "cell_type": "code",
   "execution_count": 5,
   "metadata": {},
   "outputs": [],
   "source": [
    "%matplotlib inline"
   ]
  },
  {
   "cell_type": "code",
   "execution_count": 6,
   "metadata": {},
   "outputs": [],
   "source": [
    "COVERAGE_CUTOFF = 0.8"
   ]
  },
  {
   "cell_type": "markdown",
   "metadata": {},
   "source": [
    "## Load structural metadata"
   ]
  },
  {
   "cell_type": "code",
   "execution_count": 7,
   "metadata": {},
   "outputs": [],
   "source": [
    "klifs_session = setup_local(HERE / \"../../data/external/20210114_KLIFS_HUMAN/\")\n",
    "structures = klifs_session.structures.all_structures()"
   ]
  },
  {
   "cell_type": "markdown",
   "metadata": {},
   "source": [
    "## Load fingerprint distances"
   ]
  },
  {
   "cell_type": "code",
   "execution_count": 8,
   "metadata": {},
   "outputs": [],
   "source": [
    "fingerprint_distance_file = DATA / \"fingerprint_distances_41-41-41-41-41-41-41-41-83-83-83-83-111-111-111.json\""
   ]
  },
  {
   "cell_type": "code",
   "execution_count": 9,
   "metadata": {},
   "outputs": [],
   "source": [
    "fingerprint_distance_generator = FingerprintDistanceGenerator.from_json(fingerprint_distance_file)"
   ]
  },
  {
   "cell_type": "code",
   "execution_count": 10,
   "metadata": {},
   "outputs": [
    {
     "name": "stdout",
     "output_type": "stream",
     "text": [
      "Number of kinases: 293\n",
      "Number of structures: 4918\n"
     ]
    }
   ],
   "source": [
    "print(f\"Number of kinases: {len(fingerprint_distance_generator.kinase_ids)}\")\n",
    "print(f\"Number of structures: {len(fingerprint_distance_generator.structure_ids)}\")"
   ]
  },
  {
   "cell_type": "code",
   "execution_count": 11,
   "metadata": {},
   "outputs": [],
   "source": [
    "structure_distances = fingerprint_distance_generator.data"
   ]
  },
  {
   "cell_type": "markdown",
   "metadata": {},
   "source": [
    "### Remove unwanted structures"
   ]
  },
  {
   "cell_type": "code",
   "execution_count": 12,
   "metadata": {},
   "outputs": [],
   "source": [
    "# Remove code after when using latest data\n",
    "structure_distances = structure_distances[\n",
    "        ~structure_distances.apply(\n",
    "        lambda x: (x[\"structure1\"] in [59, 7083]) or (x[\"structure2\"] in [59, 7083]), \n",
    "        axis=1\n",
    "    )\n",
    "]"
   ]
  },
  {
   "cell_type": "markdown",
   "metadata": {},
   "source": [
    "### Sort fingerprint/kinase pairs (alphabetically)"
   ]
  },
  {
   "cell_type": "code",
   "execution_count": 13,
   "metadata": {},
   "outputs": [
    {
     "name": "stdout",
     "output_type": "stream",
     "text": [
      "CPU times: user 1min 11s, sys: 1.24 s, total: 1min 13s\n",
      "Wall time: 1min 13s\n",
      "CPU times: user 1min 8s, sys: 976 ms, total: 1min 9s\n",
      "Wall time: 1min 9s\n"
     ]
    },
    {
     "data": {
      "text/html": [
       "<div>\n",
       "<style scoped>\n",
       "    .dataframe tbody tr th:only-of-type {\n",
       "        vertical-align: middle;\n",
       "    }\n",
       "\n",
       "    .dataframe tbody tr th {\n",
       "        vertical-align: top;\n",
       "    }\n",
       "\n",
       "    .dataframe thead th {\n",
       "        text-align: right;\n",
       "    }\n",
       "</style>\n",
       "<table border=\"1\" class=\"dataframe\">\n",
       "  <thead>\n",
       "    <tr style=\"text-align: right;\">\n",
       "      <th></th>\n",
       "      <th>structure1</th>\n",
       "      <th>structure2</th>\n",
       "      <th>kinase1</th>\n",
       "      <th>kinase2</th>\n",
       "      <th>distance</th>\n",
       "      <th>coverage</th>\n",
       "    </tr>\n",
       "  </thead>\n",
       "  <tbody>\n",
       "    <tr>\n",
       "      <th>0</th>\n",
       "      <td>3835</td>\n",
       "      <td>6679</td>\n",
       "      <td>AAK1</td>\n",
       "      <td>AAK1</td>\n",
       "      <td>0.053726</td>\n",
       "      <td>0.995417</td>\n",
       "    </tr>\n",
       "    <tr>\n",
       "      <th>1</th>\n",
       "      <td>3835</td>\n",
       "      <td>7156</td>\n",
       "      <td>AAK1</td>\n",
       "      <td>AAK1</td>\n",
       "      <td>0.066557</td>\n",
       "      <td>0.994583</td>\n",
       "    </tr>\n",
       "    <tr>\n",
       "      <th>2</th>\n",
       "      <td>1104</td>\n",
       "      <td>3835</td>\n",
       "      <td>AAK1</td>\n",
       "      <td>ABL1</td>\n",
       "      <td>0.251198</td>\n",
       "      <td>0.994167</td>\n",
       "    </tr>\n",
       "    <tr>\n",
       "      <th>3</th>\n",
       "      <td>1065</td>\n",
       "      <td>3835</td>\n",
       "      <td>AAK1</td>\n",
       "      <td>ABL1</td>\n",
       "      <td>0.264613</td>\n",
       "      <td>0.994167</td>\n",
       "    </tr>\n",
       "    <tr>\n",
       "      <th>4</th>\n",
       "      <td>1090</td>\n",
       "      <td>3835</td>\n",
       "      <td>AAK1</td>\n",
       "      <td>ABL1</td>\n",
       "      <td>0.233935</td>\n",
       "      <td>0.994167</td>\n",
       "    </tr>\n",
       "  </tbody>\n",
       "</table>\n",
       "</div>"
      ],
      "text/plain": [
       "   structure1  structure2 kinase1 kinase2  distance  coverage\n",
       "0        3835        6679    AAK1    AAK1  0.053726  0.995417\n",
       "1        3835        7156    AAK1    AAK1  0.066557  0.994583\n",
       "2        1104        3835    AAK1    ABL1  0.251198  0.994167\n",
       "3        1065        3835    AAK1    ABL1  0.264613  0.994167\n",
       "4        1090        3835    AAK1    ABL1  0.233935  0.994167"
      ]
     },
     "execution_count": 13,
     "metadata": {},
     "output_type": "execute_result"
    }
   ],
   "source": [
    "# Takes 2 minutes\n",
    "%time structure_distances[\"structure_pair\"] = structure_distances[[\"structure1\", \"structure2\"]].apply(list, axis=1).apply(sorted)\n",
    "%time structure_distances[\"kinase_pair\"] = structure_distances[[\"kinase1\", \"kinase2\"]].apply(list, axis=1).apply(sorted)\n",
    "\n",
    "structure_distances[\"structure1\"] = [i[0] for i in structure_distances[\"structure_pair\"]]\n",
    "structure_distances[\"structure2\"] = [i[1] for i in structure_distances[\"structure_pair\"]]\n",
    "structure_distances[\"kinase1\"] = [i[0] for i in structure_distances[\"kinase_pair\"]]\n",
    "structure_distances[\"kinase2\"] = [i[1] for i in structure_distances[\"kinase_pair\"]]\n",
    "structure_distances = structure_distances.drop([\"structure_pair\", \"kinase_pair\"], axis=1)\n",
    "structure_distances.head()"
   ]
  },
  {
   "cell_type": "markdown",
   "metadata": {},
   "source": [
    "### Add DFG conformation"
   ]
  },
  {
   "cell_type": "code",
   "execution_count": 14,
   "metadata": {},
   "outputs": [
    {
     "name": "stdout",
     "output_type": "stream",
     "text": [
      "CPU times: user 29.7 s, sys: 168 ms, total: 29.9 s\n",
      "Wall time: 29.9 s\n",
      "CPU times: user 31 s, sys: 196 ms, total: 31.2 s\n",
      "Wall time: 31.2 s\n"
     ]
    }
   ],
   "source": [
    "dfg = structures.set_index(\"structure.klifs_id\")[\"structure.dfg\"]\n",
    "%time structure_distances[\"dfg1\"] = structure_distances[\"structure1\"].apply(lambda x: dfg[x])\n",
    "%time structure_distances[\"dfg2\"] = structure_distances[\"structure2\"].apply(lambda x: dfg[x])"
   ]
  },
  {
   "cell_type": "markdown",
   "metadata": {},
   "source": [
    "### Filter distances by coverage cutoff"
   ]
  },
  {
   "cell_type": "code",
   "execution_count": 15,
   "metadata": {},
   "outputs": [
    {
     "data": {
      "text/html": [
       "<div>\n",
       "<style scoped>\n",
       "    .dataframe tbody tr th:only-of-type {\n",
       "        vertical-align: middle;\n",
       "    }\n",
       "\n",
       "    .dataframe tbody tr th {\n",
       "        vertical-align: top;\n",
       "    }\n",
       "\n",
       "    .dataframe thead th {\n",
       "        text-align: right;\n",
       "    }\n",
       "</style>\n",
       "<table border=\"1\" class=\"dataframe\">\n",
       "  <thead>\n",
       "    <tr style=\"text-align: right;\">\n",
       "      <th></th>\n",
       "      <th>structure1</th>\n",
       "      <th>structure2</th>\n",
       "      <th>kinase1</th>\n",
       "      <th>kinase2</th>\n",
       "      <th>distance</th>\n",
       "      <th>coverage</th>\n",
       "      <th>dfg1</th>\n",
       "      <th>dfg2</th>\n",
       "      <th>distance_filtered</th>\n",
       "    </tr>\n",
       "  </thead>\n",
       "  <tbody>\n",
       "    <tr>\n",
       "      <th>0</th>\n",
       "      <td>3835</td>\n",
       "      <td>6679</td>\n",
       "      <td>AAK1</td>\n",
       "      <td>AAK1</td>\n",
       "      <td>0.053726</td>\n",
       "      <td>0.995417</td>\n",
       "      <td>in</td>\n",
       "      <td>in</td>\n",
       "      <td>0.053726</td>\n",
       "    </tr>\n",
       "    <tr>\n",
       "      <th>1</th>\n",
       "      <td>3835</td>\n",
       "      <td>7156</td>\n",
       "      <td>AAK1</td>\n",
       "      <td>AAK1</td>\n",
       "      <td>0.066557</td>\n",
       "      <td>0.994583</td>\n",
       "      <td>in</td>\n",
       "      <td>in</td>\n",
       "      <td>0.066557</td>\n",
       "    </tr>\n",
       "    <tr>\n",
       "      <th>2</th>\n",
       "      <td>1104</td>\n",
       "      <td>3835</td>\n",
       "      <td>AAK1</td>\n",
       "      <td>ABL1</td>\n",
       "      <td>0.251198</td>\n",
       "      <td>0.994167</td>\n",
       "      <td>out-like</td>\n",
       "      <td>in</td>\n",
       "      <td>0.251198</td>\n",
       "    </tr>\n",
       "    <tr>\n",
       "      <th>3</th>\n",
       "      <td>1065</td>\n",
       "      <td>3835</td>\n",
       "      <td>AAK1</td>\n",
       "      <td>ABL1</td>\n",
       "      <td>0.264613</td>\n",
       "      <td>0.994167</td>\n",
       "      <td>out</td>\n",
       "      <td>in</td>\n",
       "      <td>0.264613</td>\n",
       "    </tr>\n",
       "    <tr>\n",
       "      <th>4</th>\n",
       "      <td>1090</td>\n",
       "      <td>3835</td>\n",
       "      <td>AAK1</td>\n",
       "      <td>ABL1</td>\n",
       "      <td>0.233935</td>\n",
       "      <td>0.994167</td>\n",
       "      <td>in</td>\n",
       "      <td>in</td>\n",
       "      <td>0.233935</td>\n",
       "    </tr>\n",
       "  </tbody>\n",
       "</table>\n",
       "</div>"
      ],
      "text/plain": [
       "   structure1  structure2 kinase1 kinase2  distance  coverage      dfg1 dfg2  \\\n",
       "0        3835        6679    AAK1    AAK1  0.053726  0.995417        in   in   \n",
       "1        3835        7156    AAK1    AAK1  0.066557  0.994583        in   in   \n",
       "2        1104        3835    AAK1    ABL1  0.251198  0.994167  out-like   in   \n",
       "3        1065        3835    AAK1    ABL1  0.264613  0.994167       out   in   \n",
       "4        1090        3835    AAK1    ABL1  0.233935  0.994167        in   in   \n",
       "\n",
       "   distance_filtered  \n",
       "0           0.053726  \n",
       "1           0.066557  \n",
       "2           0.251198  \n",
       "3           0.264613  \n",
       "4           0.233935  "
      ]
     },
     "execution_count": 15,
     "metadata": {},
     "output_type": "execute_result"
    }
   ],
   "source": [
    "structure_distances[\"distance_filtered\"] = np.where(\n",
    "    structure_distances[\"coverage\"].values < COVERAGE_CUTOFF, np.nan, structure_distances[\"distance\"].values\n",
    ")\n",
    "structure_distances.head()"
   ]
  },
  {
   "cell_type": "code",
   "execution_count": 16,
   "metadata": {},
   "outputs": [],
   "source": [
    "structure_distances_filtered = structure_distances[structure_distances[\"distance_filtered\"].notna()]"
   ]
  },
  {
   "cell_type": "code",
   "execution_count": 17,
   "metadata": {},
   "outputs": [
    {
     "name": "stdout",
     "output_type": "stream",
     "text": [
      "Structure pairs: 12081070\n",
      "Structure pairs not-NaN: 11851916\n"
     ]
    }
   ],
   "source": [
    "print(f\"Structure pairs: {structure_distances.shape[0]}\")\n",
    "print(f\"Structure pairs not-NaN: {structure_distances_filtered.shape[0]}\")"
   ]
  },
  {
   "cell_type": "markdown",
   "metadata": {},
   "source": [
    "## Structure distances"
   ]
  },
  {
   "cell_type": "markdown",
   "metadata": {},
   "source": [
    "### Structure distance distributions for different subsets\n",
    "\n",
    "- All structure distances\n",
    "- Structure distances between the same kinases\n",
    "- Structure distances between different kinases"
   ]
  },
  {
   "cell_type": "markdown",
   "metadata": {},
   "source": [
    "#### Without coverage cutoff"
   ]
  },
  {
   "cell_type": "code",
   "execution_count": 18,
   "metadata": {},
   "outputs": [],
   "source": [
    "structure_distances_df = pd.DataFrame(\n",
    "    {\n",
    "        \"all\": structure_distances[\"distance\"],\n",
    "        \"intra-kinase\": structure_distances[\n",
    "            structure_distances[\"kinase1\"] == structure_distances[\"kinase2\"]\n",
    "        ][\"distance\"],\n",
    "        \"inter-kinase\": structure_distances[\n",
    "            ~(structure_distances[\"kinase1\"] == structure_distances[\"kinase2\"])\n",
    "        ][\"distance\"]\n",
    "    }\n",
    ")"
   ]
  },
  {
   "cell_type": "code",
   "execution_count": 19,
   "metadata": {},
   "outputs": [
    {
     "data": {
      "text/plain": [
       "all             12081070\n",
       "intra-kinase      246276\n",
       "inter-kinase    11834794\n",
       "dtype: int64"
      ]
     },
     "execution_count": 19,
     "metadata": {},
     "output_type": "execute_result"
    }
   ],
   "source": [
    "structure_distances_df.notna().sum()"
   ]
  },
  {
   "cell_type": "code",
   "execution_count": 20,
   "metadata": {},
   "outputs": [
    {
     "data": {
      "image/png": "[encoded data removed]",
      "text/plain": [
       "<Figure size 432x288 with 1 Axes>"
      ]
     },
     "metadata": {
      "needs_background": "light"
     },
     "output_type": "display_data"
    }
   ],
   "source": [
    "structure_distances_df.plot(kind=\"box\");"
   ]
  },
  {
   "cell_type": "code",
   "execution_count": 21,
   "metadata": {},
   "outputs": [
    {
     "data": {
      "text/html": [
       "<div>\n",
       "<style scoped>\n",
       "    .dataframe tbody tr th:only-of-type {\n",
       "        vertical-align: middle;\n",
       "    }\n",
       "\n",
       "    .dataframe tbody tr th {\n",
       "        vertical-align: top;\n",
       "    }\n",
       "\n",
       "    .dataframe thead th {\n",
       "        text-align: right;\n",
       "    }\n",
       "</style>\n",
       "<table border=\"1\" class=\"dataframe\">\n",
       "  <thead>\n",
       "    <tr style=\"text-align: right;\">\n",
       "      <th></th>\n",
       "      <th>all</th>\n",
       "      <th>intra-kinase</th>\n",
       "      <th>inter-kinase</th>\n",
       "    </tr>\n",
       "  </thead>\n",
       "  <tbody>\n",
       "    <tr>\n",
       "      <th>count</th>\n",
       "      <td>1.208107e+07</td>\n",
       "      <td>246276.000000</td>\n",
       "      <td>1.183479e+07</td>\n",
       "    </tr>\n",
       "    <tr>\n",
       "      <th>mean</th>\n",
       "      <td>2.388859e-01</td>\n",
       "      <td>0.089753</td>\n",
       "      <td>2.419893e-01</td>\n",
       "    </tr>\n",
       "    <tr>\n",
       "      <th>std</th>\n",
       "      <td>7.692140e-02</td>\n",
       "      <td>0.056100</td>\n",
       "      <td>7.417608e-02</td>\n",
       "    </tr>\n",
       "    <tr>\n",
       "      <th>min</th>\n",
       "      <td>0.000000e+00</td>\n",
       "      <td>0.000000</td>\n",
       "      <td>2.624518e-02</td>\n",
       "    </tr>\n",
       "    <tr>\n",
       "      <th>25%</th>\n",
       "      <td>1.931432e-01</td>\n",
       "      <td>0.046435</td>\n",
       "      <td>1.951009e-01</td>\n",
       "    </tr>\n",
       "    <tr>\n",
       "      <th>50%</th>\n",
       "      <td>2.235989e-01</td>\n",
       "      <td>0.069840</td>\n",
       "      <td>2.248342e-01</td>\n",
       "    </tr>\n",
       "    <tr>\n",
       "      <th>75%</th>\n",
       "      <td>2.671089e-01</td>\n",
       "      <td>0.132246</td>\n",
       "      <td>2.685162e-01</td>\n",
       "    </tr>\n",
       "    <tr>\n",
       "      <th>max</th>\n",
       "      <td>1.626587e+00</td>\n",
       "      <td>0.419469</td>\n",
       "      <td>1.626587e+00</td>\n",
       "    </tr>\n",
       "  </tbody>\n",
       "</table>\n",
       "</div>"
      ],
      "text/plain": [
       "                all   intra-kinase  inter-kinase\n",
       "count  1.208107e+07  246276.000000  1.183479e+07\n",
       "mean   2.388859e-01       0.089753  2.419893e-01\n",
       "std    7.692140e-02       0.056100  7.417608e-02\n",
       "min    0.000000e+00       0.000000  2.624518e-02\n",
       "25%    1.931432e-01       0.046435  1.951009e-01\n",
       "50%    2.235989e-01       0.069840  2.248342e-01\n",
       "75%    2.671089e-01       0.132246  2.685162e-01\n",
       "max    1.626587e+00       0.419469  1.626587e+00"
      ]
     },
     "execution_count": 21,
     "metadata": {},
     "output_type": "execute_result"
    }
   ],
   "source": [
    "structure_distances_df.describe()"
   ]
  },
  {
   "cell_type": "markdown",
   "metadata": {},
   "source": [
    "#### With coverage cutoff"
   ]
  },
  {
   "cell_type": "code",
   "execution_count": 22,
   "metadata": {},
   "outputs": [],
   "source": [
    "structure_distances_filtered_df = pd.DataFrame(\n",
    "    {\n",
    "        \"all\": structure_distances_filtered[\"distance\"],\n",
    "        \"intra-kinase\": structure_distances_filtered[\n",
    "            structure_distances_filtered[\"kinase1\"] == structure_distances_filtered[\"kinase2\"]\n",
    "        ][\"distance\"],\n",
    "        \"inter-kinase\": structure_distances_filtered[\n",
    "            ~(structure_distances_filtered[\"kinase1\"] == structure_distances_filtered[\"kinase2\"])\n",
    "        ][\"distance\"]\n",
    "    }\n",
    ")"
   ]
  },
  {
   "cell_type": "code",
   "execution_count": 23,
   "metadata": {},
   "outputs": [
    {
     "data": {
      "text/plain": [
       "all             11851916\n",
       "intra-kinase      244509\n",
       "inter-kinase    11607407\n",
       "dtype: int64"
      ]
     },
     "execution_count": 23,
     "metadata": {},
     "output_type": "execute_result"
    }
   ],
   "source": [
    "structure_distances_filtered_df.notna().sum()"
   ]
  },
  {
   "cell_type": "code",
   "execution_count": 24,
   "metadata": {},
   "outputs": [
    {
     "data": {
      "image/png": "[encoded data removed]",
      "text/plain": [
       "<Figure size 432x288 with 1 Axes>"
      ]
     },
     "metadata": {
      "needs_background": "light"
     },
     "output_type": "display_data"
    }
   ],
   "source": [
    "fig, axes = plt.subplots(1, 1)\n",
    "structure_distances_filtered_df.plot(kind=\"box\", ax=axes);\n",
    "axes.set_ylabel(f\"Fingerprint distances ({COVERAGE_CUTOFF} cutoff)\");"
   ]
  },
  {
   "cell_type": "code",
   "execution_count": 25,
   "metadata": {},
   "outputs": [
    {
     "data": {
      "text/html": [
       "<div>\n",
       "<style scoped>\n",
       "    .dataframe tbody tr th:only-of-type {\n",
       "        vertical-align: middle;\n",
       "    }\n",
       "\n",
       "    .dataframe tbody tr th {\n",
       "        vertical-align: top;\n",
       "    }\n",
       "\n",
       "    .dataframe thead th {\n",
       "        text-align: right;\n",
       "    }\n",
       "</style>\n",
       "<table border=\"1\" class=\"dataframe\">\n",
       "  <thead>\n",
       "    <tr style=\"text-align: right;\">\n",
       "      <th></th>\n",
       "      <th>all</th>\n",
       "      <th>intra-kinase</th>\n",
       "      <th>inter-kinase</th>\n",
       "    </tr>\n",
       "  </thead>\n",
       "  <tbody>\n",
       "    <tr>\n",
       "      <th>count</th>\n",
       "      <td>1.185192e+07</td>\n",
       "      <td>244509.000000</td>\n",
       "      <td>1.160741e+07</td>\n",
       "    </tr>\n",
       "    <tr>\n",
       "      <th>mean</th>\n",
       "      <td>2.370296e-01</td>\n",
       "      <td>0.089543</td>\n",
       "      <td>2.401364e-01</td>\n",
       "    </tr>\n",
       "    <tr>\n",
       "      <th>std</th>\n",
       "      <td>7.170763e-02</td>\n",
       "      <td>0.055991</td>\n",
       "      <td>6.867605e-02</td>\n",
       "    </tr>\n",
       "    <tr>\n",
       "      <th>min</th>\n",
       "      <td>0.000000e+00</td>\n",
       "      <td>0.000000</td>\n",
       "      <td>2.624518e-02</td>\n",
       "    </tr>\n",
       "    <tr>\n",
       "      <th>25%</th>\n",
       "      <td>1.927443e-01</td>\n",
       "      <td>0.046332</td>\n",
       "      <td>1.947127e-01</td>\n",
       "    </tr>\n",
       "    <tr>\n",
       "      <th>50%</th>\n",
       "      <td>2.229435e-01</td>\n",
       "      <td>0.069633</td>\n",
       "      <td>2.241750e-01</td>\n",
       "    </tr>\n",
       "    <tr>\n",
       "      <th>75%</th>\n",
       "      <td>2.654165e-01</td>\n",
       "      <td>0.131997</td>\n",
       "      <td>2.667881e-01</td>\n",
       "    </tr>\n",
       "    <tr>\n",
       "      <th>max</th>\n",
       "      <td>7.574618e-01</td>\n",
       "      <td>0.419469</td>\n",
       "      <td>7.574618e-01</td>\n",
       "    </tr>\n",
       "  </tbody>\n",
       "</table>\n",
       "</div>"
      ],
      "text/plain": [
       "                all   intra-kinase  inter-kinase\n",
       "count  1.185192e+07  244509.000000  1.160741e+07\n",
       "mean   2.370296e-01       0.089543  2.401364e-01\n",
       "std    7.170763e-02       0.055991  6.867605e-02\n",
       "min    0.000000e+00       0.000000  2.624518e-02\n",
       "25%    1.927443e-01       0.046332  1.947127e-01\n",
       "50%    2.229435e-01       0.069633  2.241750e-01\n",
       "75%    2.654165e-01       0.131997  2.667881e-01\n",
       "max    7.574618e-01       0.419469  7.574618e-01"
      ]
     },
     "execution_count": 25,
     "metadata": {},
     "output_type": "execute_result"
    }
   ],
   "source": [
    "structure_distances_filtered_df.describe()"
   ]
  },
  {
   "cell_type": "markdown",
   "metadata": {},
   "source": [
    "### Per kinase distributions\n",
    "\n",
    "How robust are structure distances within kinase pairs?"
   ]
  },
  {
   "cell_type": "markdown",
   "metadata": {},
   "source": [
    "#### All kinase pairs"
   ]
  },
  {
   "cell_type": "code",
   "execution_count": 26,
   "metadata": {},
   "outputs": [],
   "source": [
    "data = structure_distances_filtered[[\"kinase1\", \"kinase2\", \"distance\"]].groupby([\"kinase1\", \"kinase2\"])"
   ]
  },
  {
   "cell_type": "code",
   "execution_count": 27,
   "metadata": {},
   "outputs": [
    {
     "data": {
      "image/png": "[encoded data removed]",
      "text/plain": [
       "<Figure size 360x720 with 3 Axes>"
      ]
     },
     "metadata": {
      "needs_background": "light"
     },
     "output_type": "display_data"
    }
   ],
   "source": [
    "fig, axes = plt.subplots(3, 1, figsize=(5, 10))\n",
    "# Size\n",
    "data.size().plot(ax=axes[0], kind=\"hist\", logy=True, style=\".\", bins=100)\n",
    "axes[0].set_xlabel(\"Number of structure pairs / kinase pair\")\n",
    "axes[0].set_ylabel(\"Frequency (log scale!)\")\n",
    "# Mean\n",
    "data.mean().squeeze().plot(ax=axes[1], kind=\"hist\", style=\".\", bins=100)\n",
    "axes[1].set_xlabel(\"Distance mean within structure pairs / kinase pair\")\n",
    "# Std\n",
    "data.std().squeeze().plot(ax=axes[2], kind=\"hist\", logy=False, style=\".\", bins=100)\n",
    "axes[2].set_xlabel(\"Distance std within structure pairs / kinase pair\");"
   ]
  },
  {
   "cell_type": "code",
   "execution_count": 28,
   "metadata": {},
   "outputs": [
    {
     "name": "stdout",
     "output_type": "stream",
     "text": [
      "size == 1:  1809\n",
      "size < 5:  7312\n",
      "size < 10:  12061\n",
      "size < 100:  29137\n",
      "size < 1000:  38505\n",
      "size < 10000:  40556\n",
      "size:  40695\n"
     ]
    }
   ],
   "source": [
    "print(\"size == 1: \", data.size()[data.size() == 1].shape[0])\n",
    "print(\"size < 5: \", data.size()[data.size() < 5].shape[0])\n",
    "print(\"size < 10: \", data.size()[data.size() < 10].shape[0])\n",
    "print(\"size < 100: \", data.size()[data.size() < 100].shape[0])\n",
    "print(\"size < 1000: \", data.size()[data.size() < 1000].shape[0])\n",
    "print(\"size < 10000: \", data.size()[data.size() < 10000].shape[0])\n",
    "print(\"size: \", data.size().shape[0])"
   ]
  },
  {
   "cell_type": "code",
   "execution_count": 29,
   "metadata": {},
   "outputs": [
    {
     "data": {
      "text/html": [
       "<div>\n",
       "<style scoped>\n",
       "    .dataframe tbody tr th:only-of-type {\n",
       "        vertical-align: middle;\n",
       "    }\n",
       "\n",
       "    .dataframe tbody tr th {\n",
       "        vertical-align: top;\n",
       "    }\n",
       "\n",
       "    .dataframe thead th {\n",
       "        text-align: right;\n",
       "    }\n",
       "</style>\n",
       "<table border=\"1\" class=\"dataframe\">\n",
       "  <thead>\n",
       "    <tr style=\"text-align: right;\">\n",
       "      <th></th>\n",
       "      <th>distance</th>\n",
       "    </tr>\n",
       "  </thead>\n",
       "  <tbody>\n",
       "    <tr>\n",
       "      <th>count</th>\n",
       "      <td>40695.000000</td>\n",
       "    </tr>\n",
       "    <tr>\n",
       "      <th>mean</th>\n",
       "      <td>0.254595</td>\n",
       "    </tr>\n",
       "    <tr>\n",
       "      <th>std</th>\n",
       "      <td>0.076776</td>\n",
       "    </tr>\n",
       "    <tr>\n",
       "      <th>min</th>\n",
       "      <td>0.013667</td>\n",
       "    </tr>\n",
       "    <tr>\n",
       "      <th>25%</th>\n",
       "      <td>0.203749</td>\n",
       "    </tr>\n",
       "    <tr>\n",
       "      <th>50%</th>\n",
       "      <td>0.236724</td>\n",
       "    </tr>\n",
       "    <tr>\n",
       "      <th>75%</th>\n",
       "      <td>0.288148</td>\n",
       "    </tr>\n",
       "    <tr>\n",
       "      <th>max</th>\n",
       "      <td>0.678254</td>\n",
       "    </tr>\n",
       "  </tbody>\n",
       "</table>\n",
       "</div>"
      ],
      "text/plain": [
       "           distance\n",
       "count  40695.000000\n",
       "mean       0.254595\n",
       "std        0.076776\n",
       "min        0.013667\n",
       "25%        0.203749\n",
       "50%        0.236724\n",
       "75%        0.288148\n",
       "max        0.678254"
      ]
     },
     "execution_count": 29,
     "metadata": {},
     "output_type": "execute_result"
    }
   ],
   "source": [
    "data.mean().describe()"
   ]
  },
  {
   "cell_type": "code",
   "execution_count": 30,
   "metadata": {},
   "outputs": [
    {
     "data": {
      "text/html": [
       "<div>\n",
       "<style scoped>\n",
       "    .dataframe tbody tr th:only-of-type {\n",
       "        vertical-align: middle;\n",
       "    }\n",
       "\n",
       "    .dataframe tbody tr th {\n",
       "        vertical-align: top;\n",
       "    }\n",
       "\n",
       "    .dataframe thead th {\n",
       "        text-align: right;\n",
       "    }\n",
       "</style>\n",
       "<table border=\"1\" class=\"dataframe\">\n",
       "  <thead>\n",
       "    <tr style=\"text-align: right;\">\n",
       "      <th></th>\n",
       "      <th>distance</th>\n",
       "    </tr>\n",
       "  </thead>\n",
       "  <tbody>\n",
       "    <tr>\n",
       "      <th>count</th>\n",
       "      <td>38886.000000</td>\n",
       "    </tr>\n",
       "    <tr>\n",
       "      <th>mean</th>\n",
       "      <td>0.024682</td>\n",
       "    </tr>\n",
       "    <tr>\n",
       "      <th>std</th>\n",
       "      <td>0.020206</td>\n",
       "    </tr>\n",
       "    <tr>\n",
       "      <th>min</th>\n",
       "      <td>0.000004</td>\n",
       "    </tr>\n",
       "    <tr>\n",
       "      <th>25%</th>\n",
       "      <td>0.010802</td>\n",
       "    </tr>\n",
       "    <tr>\n",
       "      <th>50%</th>\n",
       "      <td>0.018944</td>\n",
       "    </tr>\n",
       "    <tr>\n",
       "      <th>75%</th>\n",
       "      <td>0.032899</td>\n",
       "    </tr>\n",
       "    <tr>\n",
       "      <th>max</th>\n",
       "      <td>0.170672</td>\n",
       "    </tr>\n",
       "  </tbody>\n",
       "</table>\n",
       "</div>"
      ],
      "text/plain": [
       "           distance\n",
       "count  38886.000000\n",
       "mean       0.024682\n",
       "std        0.020206\n",
       "min        0.000004\n",
       "25%        0.010802\n",
       "50%        0.018944\n",
       "75%        0.032899\n",
       "max        0.170672"
      ]
     },
     "execution_count": 30,
     "metadata": {},
     "output_type": "execute_result"
    }
   ],
   "source": [
    "data.std().describe()"
   ]
  },
  {
   "cell_type": "markdown",
   "metadata": {},
   "source": [
    "#### Most frequent kinase pairs (all conformations)"
   ]
  },
  {
   "cell_type": "code",
   "execution_count": 31,
   "metadata": {},
   "outputs": [],
   "source": [
    "data = structure_distances_filtered.groupby([\"kinase1\", \"kinase2\"])"
   ]
  },
  {
   "cell_type": "code",
   "execution_count": 32,
   "metadata": {},
   "outputs": [
    {
     "data": {
      "image/png": "[encoded data removed]",
      "text/plain": [
       "<Figure size 720x360 with 1 Axes>"
      ]
     },
     "metadata": {
      "needs_background": "light"
     },
     "output_type": "display_data"
    }
   ],
   "source": [
    "ntop = 30\n",
    "index = data.size().sort_values(ascending=False).head(ntop).index\n",
    "top_pair_distances = {pair: data.get_group(pair)[\"distance\"] for pair in index}\n",
    "top_pair_distances = pd.DataFrame(top_pair_distances)\n",
    "fig, axes = plt.subplots(1, 1, figsize=(10,5))\n",
    "top_pair_distances.plot(kind=\"box\", ax=axes, rot=90)\n",
    "axes.set_title(\"Structure pair distances for most frequent kinase pairs\");"
   ]
  },
  {
   "cell_type": "code",
   "execution_count": 33,
   "metadata": {},
   "outputs": [],
   "source": [
    "data_min = data.min()"
   ]
  },
  {
   "cell_type": "code",
   "execution_count": 34,
   "metadata": {},
   "outputs": [
    {
     "name": "stdout",
     "output_type": "stream",
     "text": [
      "Minimum pair has same conformations\n",
      "91.3724044722939\n"
     ]
    }
   ],
   "source": [
    "print(\"Minimum pair has same conformations\")\n",
    "print(data_min[data_min[\"dfg1\"] == data_min[\"dfg2\"]].shape[0] / data_min.shape[0] * 100)"
   ]
  },
  {
   "cell_type": "code",
   "execution_count": 35,
   "metadata": {},
   "outputs": [
    {
     "name": "stdout",
     "output_type": "stream",
     "text": [
      "Minimum pair has different conformations\n",
      "8.627595527706108\n"
     ]
    }
   ],
   "source": [
    "print(\"Minimum pair has different conformations\")\n",
    "print(data_min[data_min[\"dfg1\"] != data_min[\"dfg2\"]].shape[0] / data_min.shape[0] * 100)"
   ]
  },
  {
   "cell_type": "markdown",
   "metadata": {},
   "source": [
    "#### Most frequent kinase pairs (DFG-in conformations only)"
   ]
  },
  {
   "cell_type": "code",
   "execution_count": 36,
   "metadata": {},
   "outputs": [
    {
     "data": {
      "text/plain": [
       "((11851916, 9), (8904825, 9))"
      ]
     },
     "execution_count": 36,
     "metadata": {},
     "output_type": "execute_result"
    }
   ],
   "source": [
    "structure_distances_filtered_dfgin = structure_distances_filtered[\n",
    "    (structure_distances_filtered[\"dfg1\"] == \"in\") & (structure_distances_filtered[\"dfg2\"] == \"in\")\n",
    "]\n",
    "structure_distances_filtered.shape, structure_distances_filtered_dfgin.shape"
   ]
  },
  {
   "cell_type": "code",
   "execution_count": 37,
   "metadata": {},
   "outputs": [],
   "source": [
    "data = structure_distances_filtered_dfgin.groupby([\"kinase1\", \"kinase2\"])"
   ]
  },
  {
   "cell_type": "code",
   "execution_count": 38,
   "metadata": {},
   "outputs": [
    {
     "data": {
      "image/png": "[encoded data removed]",
      "text/plain": [
       "<Figure size 720x360 with 1 Axes>"
      ]
     },
     "metadata": {
      "needs_background": "light"
     },
     "output_type": "display_data"
    }
   ],
   "source": [
    "ntop = 30\n",
    "index = data.size().sort_values(ascending=False).head(ntop).index\n",
    "top_pair_distances = {pair: data.get_group(pair)[\"distance\"] for pair in index}\n",
    "top_pair_distances = pd.DataFrame(top_pair_distances)\n",
    "fig, axes = plt.subplots(1, 1, figsize=(10,5))\n",
    "top_pair_distances.plot(kind=\"box\", ax=axes, rot=90)\n",
    "axes.set_title(\"Structure pair distances for most frequent kinase pairs\");"
   ]
  },
  {
   "cell_type": "markdown",
   "metadata": {},
   "source": [
    "## Structure > kinase distances (median)"
   ]
  },
  {
   "cell_type": "code",
   "execution_count": 39,
   "metadata": {},
   "outputs": [
    {
     "data": {
      "text/html": [
       "<div>\n",
       "<style scoped>\n",
       "    .dataframe tbody tr th:only-of-type {\n",
       "        vertical-align: middle;\n",
       "    }\n",
       "\n",
       "    .dataframe tbody tr th {\n",
       "        vertical-align: top;\n",
       "    }\n",
       "\n",
       "    .dataframe thead th {\n",
       "        text-align: right;\n",
       "    }\n",
       "</style>\n",
       "<table border=\"1\" class=\"dataframe\">\n",
       "  <thead>\n",
       "    <tr style=\"text-align: right;\">\n",
       "      <th></th>\n",
       "      <th>kinase1</th>\n",
       "      <th>kinase2</th>\n",
       "      <th>structure1</th>\n",
       "      <th>structure2</th>\n",
       "      <th>distance</th>\n",
       "      <th>coverage</th>\n",
       "      <th>distance_filtered</th>\n",
       "    </tr>\n",
       "  </thead>\n",
       "  <tbody>\n",
       "    <tr>\n",
       "      <th>0</th>\n",
       "      <td>AAK1</td>\n",
       "      <td>AAK1</td>\n",
       "      <td>3835.0</td>\n",
       "      <td>7156.0</td>\n",
       "      <td>0.053726</td>\n",
       "      <td>0.995417</td>\n",
       "      <td>0.053726</td>\n",
       "    </tr>\n",
       "    <tr>\n",
       "      <th>1</th>\n",
       "      <td>AAK1</td>\n",
       "      <td>ABL1</td>\n",
       "      <td>1085.0</td>\n",
       "      <td>6679.0</td>\n",
       "      <td>0.243864</td>\n",
       "      <td>0.994167</td>\n",
       "      <td>0.243864</td>\n",
       "    </tr>\n",
       "    <tr>\n",
       "      <th>2</th>\n",
       "      <td>AAK1</td>\n",
       "      <td>ABL2</td>\n",
       "      <td>115.0</td>\n",
       "      <td>6679.0</td>\n",
       "      <td>0.244769</td>\n",
       "      <td>0.993750</td>\n",
       "      <td>0.244769</td>\n",
       "    </tr>\n",
       "    <tr>\n",
       "      <th>3</th>\n",
       "      <td>AAK1</td>\n",
       "      <td>ACK</td>\n",
       "      <td>3406.5</td>\n",
       "      <td>6679.0</td>\n",
       "      <td>0.231447</td>\n",
       "      <td>0.993750</td>\n",
       "      <td>0.229447</td>\n",
       "    </tr>\n",
       "    <tr>\n",
       "      <th>4</th>\n",
       "      <td>AAK1</td>\n",
       "      <td>ACTR2</td>\n",
       "      <td>2679.0</td>\n",
       "      <td>6679.0</td>\n",
       "      <td>0.239062</td>\n",
       "      <td>0.994167</td>\n",
       "      <td>0.239062</td>\n",
       "    </tr>\n",
       "  </tbody>\n",
       "</table>\n",
       "</div>"
      ],
      "text/plain": [
       "  kinase1 kinase2  structure1  structure2  distance  coverage  \\\n",
       "0    AAK1    AAK1      3835.0      7156.0  0.053726  0.995417   \n",
       "1    AAK1    ABL1      1085.0      6679.0  0.243864  0.994167   \n",
       "2    AAK1    ABL2       115.0      6679.0  0.244769  0.993750   \n",
       "3    AAK1     ACK      3406.5      6679.0  0.231447  0.993750   \n",
       "4    AAK1   ACTR2      2679.0      6679.0  0.239062  0.994167   \n",
       "\n",
       "   distance_filtered  \n",
       "0           0.053726  \n",
       "1           0.243864  \n",
       "2           0.244769  \n",
       "3           0.229447  \n",
       "4           0.239062  "
      ]
     },
     "execution_count": 39,
     "metadata": {},
     "output_type": "execute_result"
    }
   ],
   "source": [
    "kinase_distances = structure_distances.groupby([\"kinase1\", \"kinase2\"]).median().reset_index()\n",
    "kinase_distances.head()"
   ]
  },
  {
   "cell_type": "code",
   "execution_count": 40,
   "metadata": {},
   "outputs": [],
   "source": [
    "kinase_distances_filtered = kinase_distances[kinase_distances[\"distance_filtered\"].notna()]"
   ]
  },
  {
   "cell_type": "code",
   "execution_count": 41,
   "metadata": {},
   "outputs": [
    {
     "name": "stdout",
     "output_type": "stream",
     "text": [
      "Kinase pairs: 42717\n",
      "Kinase pairs not-NaN: 40695\n"
     ]
    }
   ],
   "source": [
    "print(f\"Kinase pairs: {kinase_distances.shape[0]}\")\n",
    "print(f\"Kinase pairs not-NaN: {kinase_distances_filtered.shape[0]}\")"
   ]
  },
  {
   "cell_type": "markdown",
   "metadata": {},
   "source": [
    "## Kinase matrix"
   ]
  },
  {
   "cell_type": "markdown",
   "metadata": {},
   "source": [
    "### All distances"
   ]
  },
  {
   "cell_type": "code",
   "execution_count": 42,
   "metadata": {},
   "outputs": [
    {
     "data": {
      "image/png": "[encoded data removed]",
      "text/plain": [
       "<Figure size 720x288 with 4 Axes>"
      ]
     },
     "metadata": {
      "needs_background": "light"
     },
     "output_type": "display_data"
    }
   ],
   "source": [
    "fig, axes = plt.subplots(1, 2, figsize=(10,4), sharey=True)\n",
    "kinase_matrix = kinase_distances.pivot(\"kinase1\", \"kinase2\", \"distance\")\n",
    "sns.heatmap(kinase_matrix, cmap=\"Blues\", ax=axes[0])\n",
    "axes[0].set_title(\"All distances\")\n",
    "kinase_matrix = kinase_distances.pivot(\"kinase1\", \"kinase2\", \"distance_filtered\")\n",
    "sns.heatmap(kinase_matrix, cmap=\"Blues\", ax=axes[1])\n",
    "axes[1].set_title(\"Only distances for pairs matching coverage cutoff\");"
   ]
  },
  {
   "cell_type": "code",
   "execution_count": 43,
   "metadata": {},
   "outputs": [],
   "source": [
    "def n_pairs(n):\n",
    "    return int((n**2 - n) / 2 + n) "
   ]
  },
  {
   "cell_type": "code",
   "execution_count": 44,
   "metadata": {},
   "outputs": [
    {
     "data": {
      "text/html": [
       "<div>\n",
       "<style scoped>\n",
       "    .dataframe tbody tr th:only-of-type {\n",
       "        vertical-align: middle;\n",
       "    }\n",
       "\n",
       "    .dataframe tbody tr th {\n",
       "        vertical-align: top;\n",
       "    }\n",
       "\n",
       "    .dataframe thead th {\n",
       "        text-align: right;\n",
       "    }\n",
       "</style>\n",
       "<table border=\"1\" class=\"dataframe\">\n",
       "  <thead>\n",
       "    <tr style=\"text-align: right;\">\n",
       "      <th></th>\n",
       "      <th>All distances</th>\n",
       "      <th>Only distances matching cutoff</th>\n",
       "    </tr>\n",
       "  </thead>\n",
       "  <tbody>\n",
       "    <tr>\n",
       "      <th>Number of structures</th>\n",
       "      <td>4916</td>\n",
       "      <td>4877</td>\n",
       "    </tr>\n",
       "    <tr>\n",
       "      <th>Number of structure pairs (theory)</th>\n",
       "      <td>12085986</td>\n",
       "      <td>11895003</td>\n",
       "    </tr>\n",
       "    <tr>\n",
       "      <th>Number of structure pairs (experimental)</th>\n",
       "      <td>12081070</td>\n",
       "      <td>11851916</td>\n",
       "    </tr>\n",
       "    <tr>\n",
       "      <th>Number of kinases</th>\n",
       "      <td>292</td>\n",
       "      <td>285</td>\n",
       "    </tr>\n",
       "    <tr>\n",
       "      <th>Number of kinase pairs (theory)</th>\n",
       "      <td>42778</td>\n",
       "      <td>40755</td>\n",
       "    </tr>\n",
       "    <tr>\n",
       "      <th>Number of kinase pairs (experimental)</th>\n",
       "      <td>42717</td>\n",
       "      <td>40695</td>\n",
       "    </tr>\n",
       "  </tbody>\n",
       "</table>\n",
       "</div>"
      ],
      "text/plain": [
       "                                          All distances  \\\n",
       "Number of structures                               4916   \n",
       "Number of structure pairs (theory)             12085986   \n",
       "Number of structure pairs (experimental)       12081070   \n",
       "Number of kinases                                   292   \n",
       "Number of kinase pairs (theory)                   42778   \n",
       "Number of kinase pairs (experimental)             42717   \n",
       "\n",
       "                                          Only distances matching cutoff  \n",
       "Number of structures                                                4877  \n",
       "Number of structure pairs (theory)                              11895003  \n",
       "Number of structure pairs (experimental)                        11851916  \n",
       "Number of kinases                                                    285  \n",
       "Number of kinase pairs (theory)                                    40755  \n",
       "Number of kinase pairs (experimental)                              40695  "
      ]
     },
     "execution_count": 44,
     "metadata": {},
     "output_type": "execute_result"
    }
   ],
   "source": [
    "n_structures = pd.concat([structure_distances['structure1'], structure_distances['structure2']]).unique().shape[0]\n",
    "n_kinases = pd.concat([structure_distances['kinase1'], structure_distances['kinase2']]).unique().shape[0]\n",
    "n_structures_filtered = pd.concat([structure_distances_filtered['structure1'], structure_distances_filtered['structure2']]).unique().shape[0]\n",
    "n_kinases_filtered = pd.concat([structure_distances_filtered['kinase1'], structure_distances_filtered['kinase2']]).unique().shape[0]\n",
    " \n",
    "\n",
    "table = {\n",
    "    \"All distances\": [\n",
    "        n_structures,\n",
    "        n_pairs(n_structures),\n",
    "        structure_distances.shape[0], \n",
    "        n_kinases,\n",
    "        n_pairs(n_kinases),\n",
    "        kinase_distances.shape[0],\n",
    "    ],\n",
    "    \"Only distances matching cutoff\": [\n",
    "        n_structures_filtered,\n",
    "        n_pairs(n_structures_filtered),\n",
    "        structure_distances_filtered.shape[0],\n",
    "        n_kinases_filtered,\n",
    "        n_pairs(n_kinases_filtered),\n",
    "        kinase_distances_filtered.shape[0],\n",
    "    ]\n",
    "}\n",
    "table = pd.DataFrame(\n",
    "    table,\n",
    "    index=[\n",
    "        \"Number of structures\",\n",
    "        \"Number of structure pairs (theory)\",\n",
    "        \"Number of structure pairs (experimental)\",\n",
    "        \"Number of kinases\",\n",
    "        \"Number of kinase pairs (theory)\",\n",
    "        \"Number of kinase pairs (experimental)\",\n",
    "    ]\n",
    ")\n",
    "table"
   ]
  },
  {
   "cell_type": "markdown",
   "metadata": {},
   "source": [
    "## Dual kinases paper dataset\n",
    "\n",
    "https://www.mdpi.com/1420-3049/26/3/629"
   ]
  },
  {
   "cell_type": "code",
   "execution_count": 45,
   "metadata": {},
   "outputs": [],
   "source": [
    "from itertools import combinations_with_replacement"
   ]
  },
  {
   "cell_type": "code",
   "execution_count": 46,
   "metadata": {},
   "outputs": [],
   "source": [
    "KINASES_KLIFS_TO_PAPER = {\n",
    "    'EGFR': 'EGFR',\n",
    "    'ErbB2': 'ErbB2',\n",
    "    'KDR': 'VEGFR2',\n",
    "    'p110a': 'PI3K',\n",
    "    'BRAF': 'BRAF',\n",
    "    'CDK2': 'CDK2',\n",
    "    'LCK': 'LCK',\n",
    "    'MET': 'MET',\n",
    "    'p38a': 'p38a',\n",
    "}"
   ]
  },
  {
   "cell_type": "code",
   "execution_count": 47,
   "metadata": {},
   "outputs": [
    {
     "name": "stdout",
     "output_type": "stream",
     "text": [
      "['EGFR', 'ErbB2', 'KDR', 'p110a', 'BRAF', 'CDK2', 'LCK', 'MET', 'p38a']\n"
     ]
    }
   ],
   "source": [
    "example_kinases = list(KINASES_KLIFS_TO_PAPER.keys())\n",
    "print(example_kinases)\n",
    "example_kinase_pairs = [i for i in combinations_with_replacement(example_kinases, 2)]"
   ]
  },
  {
   "cell_type": "code",
   "execution_count": 48,
   "metadata": {},
   "outputs": [],
   "source": [
    "example_kinase_distances = kinase_distances_filtered[\n",
    "    kinase_distances_filtered.apply(lambda x: (x[\"kinase1\"], x[\"kinase2\"]) in example_kinase_pairs, axis=1)\n",
    "]"
   ]
  },
  {
   "cell_type": "code",
   "execution_count": 49,
   "metadata": {},
   "outputs": [
    {
     "data": {
      "text/plain": [
       "(35, 7)"
      ]
     },
     "execution_count": 49,
     "metadata": {},
     "output_type": "execute_result"
    }
   ],
   "source": [
    "example_kinase_distances.shape"
   ]
  },
  {
   "cell_type": "code",
   "execution_count": 50,
   "metadata": {},
   "outputs": [
    {
     "data": {
      "text/html": [
       "<div>\n",
       "<style scoped>\n",
       "    .dataframe tbody tr th:only-of-type {\n",
       "        vertical-align: middle;\n",
       "    }\n",
       "\n",
       "    .dataframe tbody tr th {\n",
       "        vertical-align: top;\n",
       "    }\n",
       "\n",
       "    .dataframe thead th {\n",
       "        text-align: right;\n",
       "    }\n",
       "</style>\n",
       "<table border=\"1\" class=\"dataframe\">\n",
       "  <thead>\n",
       "    <tr style=\"text-align: right;\">\n",
       "      <th>kinase2</th>\n",
       "      <th>EGFR</th>\n",
       "      <th>ErbB2</th>\n",
       "      <th>KDR</th>\n",
       "      <th>p110a</th>\n",
       "      <th>BRAF</th>\n",
       "      <th>CDK2</th>\n",
       "      <th>LCK</th>\n",
       "      <th>MET</th>\n",
       "      <th>p38a</th>\n",
       "    </tr>\n",
       "    <tr>\n",
       "      <th>kinase1</th>\n",
       "      <th></th>\n",
       "      <th></th>\n",
       "      <th></th>\n",
       "      <th></th>\n",
       "      <th></th>\n",
       "      <th></th>\n",
       "      <th></th>\n",
       "      <th></th>\n",
       "      <th></th>\n",
       "    </tr>\n",
       "  </thead>\n",
       "  <tbody>\n",
       "    <tr>\n",
       "      <th>EGFR</th>\n",
       "      <td>0.09559</td>\n",
       "      <td>0.175204</td>\n",
       "      <td>0.179958</td>\n",
       "      <td>0.367720</td>\n",
       "      <td>NaN</td>\n",
       "      <td>NaN</td>\n",
       "      <td>0.162322</td>\n",
       "      <td>0.213161</td>\n",
       "      <td>0.227858</td>\n",
       "    </tr>\n",
       "    <tr>\n",
       "      <th>ErbB2</th>\n",
       "      <td>NaN</td>\n",
       "      <td>0.171325</td>\n",
       "      <td>0.238566</td>\n",
       "      <td>0.345473</td>\n",
       "      <td>NaN</td>\n",
       "      <td>NaN</td>\n",
       "      <td>0.243790</td>\n",
       "      <td>0.232069</td>\n",
       "      <td>0.280568</td>\n",
       "    </tr>\n",
       "    <tr>\n",
       "      <th>KDR</th>\n",
       "      <td>NaN</td>\n",
       "      <td>NaN</td>\n",
       "      <td>0.073128</td>\n",
       "      <td>0.374093</td>\n",
       "      <td>NaN</td>\n",
       "      <td>NaN</td>\n",
       "      <td>0.171769</td>\n",
       "      <td>0.203195</td>\n",
       "      <td>0.214081</td>\n",
       "    </tr>\n",
       "    <tr>\n",
       "      <th>p110a</th>\n",
       "      <td>NaN</td>\n",
       "      <td>NaN</td>\n",
       "      <td>NaN</td>\n",
       "      <td>0.053996</td>\n",
       "      <td>NaN</td>\n",
       "      <td>NaN</td>\n",
       "      <td>NaN</td>\n",
       "      <td>NaN</td>\n",
       "      <td>0.376979</td>\n",
       "    </tr>\n",
       "    <tr>\n",
       "      <th>BRAF</th>\n",
       "      <td>NaN</td>\n",
       "      <td>NaN</td>\n",
       "      <td>NaN</td>\n",
       "      <td>NaN</td>\n",
       "      <td>0.130854</td>\n",
       "      <td>0.255630</td>\n",
       "      <td>0.233121</td>\n",
       "      <td>0.242547</td>\n",
       "      <td>0.264635</td>\n",
       "    </tr>\n",
       "    <tr>\n",
       "      <th>CDK2</th>\n",
       "      <td>NaN</td>\n",
       "      <td>NaN</td>\n",
       "      <td>NaN</td>\n",
       "      <td>NaN</td>\n",
       "      <td>NaN</td>\n",
       "      <td>0.071505</td>\n",
       "      <td>0.228544</td>\n",
       "      <td>0.234183</td>\n",
       "      <td>0.215778</td>\n",
       "    </tr>\n",
       "    <tr>\n",
       "      <th>LCK</th>\n",
       "      <td>NaN</td>\n",
       "      <td>NaN</td>\n",
       "      <td>NaN</td>\n",
       "      <td>NaN</td>\n",
       "      <td>NaN</td>\n",
       "      <td>NaN</td>\n",
       "      <td>0.045253</td>\n",
       "      <td>0.211339</td>\n",
       "      <td>0.215140</td>\n",
       "    </tr>\n",
       "    <tr>\n",
       "      <th>MET</th>\n",
       "      <td>NaN</td>\n",
       "      <td>NaN</td>\n",
       "      <td>NaN</td>\n",
       "      <td>NaN</td>\n",
       "      <td>NaN</td>\n",
       "      <td>NaN</td>\n",
       "      <td>NaN</td>\n",
       "      <td>0.116751</td>\n",
       "      <td>0.257243</td>\n",
       "    </tr>\n",
       "    <tr>\n",
       "      <th>p38a</th>\n",
       "      <td>NaN</td>\n",
       "      <td>NaN</td>\n",
       "      <td>NaN</td>\n",
       "      <td>NaN</td>\n",
       "      <td>NaN</td>\n",
       "      <td>NaN</td>\n",
       "      <td>NaN</td>\n",
       "      <td>NaN</td>\n",
       "      <td>0.114204</td>\n",
       "    </tr>\n",
       "  </tbody>\n",
       "</table>\n",
       "</div>"
      ],
      "text/plain": [
       "kinase2     EGFR     ErbB2       KDR     p110a      BRAF      CDK2       LCK  \\\n",
       "kinase1                                                                        \n",
       "EGFR     0.09559  0.175204  0.179958  0.367720       NaN       NaN  0.162322   \n",
       "ErbB2        NaN  0.171325  0.238566  0.345473       NaN       NaN  0.243790   \n",
       "KDR          NaN       NaN  0.073128  0.374093       NaN       NaN  0.171769   \n",
       "p110a        NaN       NaN       NaN  0.053996       NaN       NaN       NaN   \n",
       "BRAF         NaN       NaN       NaN       NaN  0.130854  0.255630  0.233121   \n",
       "CDK2         NaN       NaN       NaN       NaN       NaN  0.071505  0.228544   \n",
       "LCK          NaN       NaN       NaN       NaN       NaN       NaN  0.045253   \n",
       "MET          NaN       NaN       NaN       NaN       NaN       NaN       NaN   \n",
       "p38a         NaN       NaN       NaN       NaN       NaN       NaN       NaN   \n",
       "\n",
       "kinase2       MET      p38a  \n",
       "kinase1                      \n",
       "EGFR     0.213161  0.227858  \n",
       "ErbB2    0.232069  0.280568  \n",
       "KDR      0.203195  0.214081  \n",
       "p110a         NaN  0.376979  \n",
       "BRAF     0.242547  0.264635  \n",
       "CDK2     0.234183  0.215778  \n",
       "LCK      0.211339  0.215140  \n",
       "MET      0.116751  0.257243  \n",
       "p38a          NaN  0.114204  "
      ]
     },
     "execution_count": 50,
     "metadata": {},
     "output_type": "execute_result"
    }
   ],
   "source": [
    "example_kinase_matrix = example_kinase_distances.pivot(\"kinase1\", \"kinase2\", \"distance\")\n",
    "example_kinase_matrix = example_kinase_matrix.loc[example_kinases, example_kinases]\n",
    "example_kinase_matrix"
   ]
  },
  {
   "cell_type": "code",
   "execution_count": 51,
   "metadata": {},
   "outputs": [
    {
     "data": {
      "text/html": [
       "<div>\n",
       "<style scoped>\n",
       "    .dataframe tbody tr th:only-of-type {\n",
       "        vertical-align: middle;\n",
       "    }\n",
       "\n",
       "    .dataframe tbody tr th {\n",
       "        vertical-align: top;\n",
       "    }\n",
       "\n",
       "    .dataframe thead th {\n",
       "        text-align: right;\n",
       "    }\n",
       "</style>\n",
       "<table border=\"1\" class=\"dataframe\">\n",
       "  <thead>\n",
       "    <tr style=\"text-align: right;\">\n",
       "      <th></th>\n",
       "      <th>EGFR</th>\n",
       "      <th>ErbB2</th>\n",
       "      <th>VEGFR2</th>\n",
       "      <th>PI3K</th>\n",
       "      <th>BRAF</th>\n",
       "      <th>CDK2</th>\n",
       "      <th>LCK</th>\n",
       "      <th>MET</th>\n",
       "      <th>p38a</th>\n",
       "    </tr>\n",
       "  </thead>\n",
       "  <tbody>\n",
       "    <tr>\n",
       "      <th>EGFR</th>\n",
       "      <td>0.09559</td>\n",
       "      <td>0.175204</td>\n",
       "      <td>0.179958</td>\n",
       "      <td>0.367720</td>\n",
       "      <td>NaN</td>\n",
       "      <td>NaN</td>\n",
       "      <td>0.162322</td>\n",
       "      <td>0.213161</td>\n",
       "      <td>0.227858</td>\n",
       "    </tr>\n",
       "    <tr>\n",
       "      <th>ErbB2</th>\n",
       "      <td>NaN</td>\n",
       "      <td>0.171325</td>\n",
       "      <td>0.238566</td>\n",
       "      <td>0.345473</td>\n",
       "      <td>NaN</td>\n",
       "      <td>NaN</td>\n",
       "      <td>0.243790</td>\n",
       "      <td>0.232069</td>\n",
       "      <td>0.280568</td>\n",
       "    </tr>\n",
       "    <tr>\n",
       "      <th>VEGFR2</th>\n",
       "      <td>NaN</td>\n",
       "      <td>NaN</td>\n",
       "      <td>0.073128</td>\n",
       "      <td>0.374093</td>\n",
       "      <td>NaN</td>\n",
       "      <td>NaN</td>\n",
       "      <td>0.171769</td>\n",
       "      <td>0.203195</td>\n",
       "      <td>0.214081</td>\n",
       "    </tr>\n",
       "    <tr>\n",
       "      <th>PI3K</th>\n",
       "      <td>NaN</td>\n",
       "      <td>NaN</td>\n",
       "      <td>NaN</td>\n",
       "      <td>0.053996</td>\n",
       "      <td>NaN</td>\n",
       "      <td>NaN</td>\n",
       "      <td>NaN</td>\n",
       "      <td>NaN</td>\n",
       "      <td>0.376979</td>\n",
       "    </tr>\n",
       "    <tr>\n",
       "      <th>BRAF</th>\n",
       "      <td>NaN</td>\n",
       "      <td>NaN</td>\n",
       "      <td>NaN</td>\n",
       "      <td>NaN</td>\n",
       "      <td>0.130854</td>\n",
       "      <td>0.255630</td>\n",
       "      <td>0.233121</td>\n",
       "      <td>0.242547</td>\n",
       "      <td>0.264635</td>\n",
       "    </tr>\n",
       "    <tr>\n",
       "      <th>CDK2</th>\n",
       "      <td>NaN</td>\n",
       "      <td>NaN</td>\n",
       "      <td>NaN</td>\n",
       "      <td>NaN</td>\n",
       "      <td>NaN</td>\n",
       "      <td>0.071505</td>\n",
       "      <td>0.228544</td>\n",
       "      <td>0.234183</td>\n",
       "      <td>0.215778</td>\n",
       "    </tr>\n",
       "    <tr>\n",
       "      <th>LCK</th>\n",
       "      <td>NaN</td>\n",
       "      <td>NaN</td>\n",
       "      <td>NaN</td>\n",
       "      <td>NaN</td>\n",
       "      <td>NaN</td>\n",
       "      <td>NaN</td>\n",
       "      <td>0.045253</td>\n",
       "      <td>0.211339</td>\n",
       "      <td>0.215140</td>\n",
       "    </tr>\n",
       "    <tr>\n",
       "      <th>MET</th>\n",
       "      <td>NaN</td>\n",
       "      <td>NaN</td>\n",
       "      <td>NaN</td>\n",
       "      <td>NaN</td>\n",
       "      <td>NaN</td>\n",
       "      <td>NaN</td>\n",
       "      <td>NaN</td>\n",
       "      <td>0.116751</td>\n",
       "      <td>0.257243</td>\n",
       "    </tr>\n",
       "    <tr>\n",
       "      <th>p38a</th>\n",
       "      <td>NaN</td>\n",
       "      <td>NaN</td>\n",
       "      <td>NaN</td>\n",
       "      <td>NaN</td>\n",
       "      <td>NaN</td>\n",
       "      <td>NaN</td>\n",
       "      <td>NaN</td>\n",
       "      <td>NaN</td>\n",
       "      <td>0.114204</td>\n",
       "    </tr>\n",
       "  </tbody>\n",
       "</table>\n",
       "</div>"
      ],
      "text/plain": [
       "           EGFR     ErbB2    VEGFR2      PI3K      BRAF      CDK2       LCK  \\\n",
       "EGFR    0.09559  0.175204  0.179958  0.367720       NaN       NaN  0.162322   \n",
       "ErbB2       NaN  0.171325  0.238566  0.345473       NaN       NaN  0.243790   \n",
       "VEGFR2      NaN       NaN  0.073128  0.374093       NaN       NaN  0.171769   \n",
       "PI3K        NaN       NaN       NaN  0.053996       NaN       NaN       NaN   \n",
       "BRAF        NaN       NaN       NaN       NaN  0.130854  0.255630  0.233121   \n",
       "CDK2        NaN       NaN       NaN       NaN       NaN  0.071505  0.228544   \n",
       "LCK         NaN       NaN       NaN       NaN       NaN       NaN  0.045253   \n",
       "MET         NaN       NaN       NaN       NaN       NaN       NaN       NaN   \n",
       "p38a        NaN       NaN       NaN       NaN       NaN       NaN       NaN   \n",
       "\n",
       "             MET      p38a  \n",
       "EGFR    0.213161  0.227858  \n",
       "ErbB2   0.232069  0.280568  \n",
       "VEGFR2  0.203195  0.214081  \n",
       "PI3K         NaN  0.376979  \n",
       "BRAF    0.242547  0.264635  \n",
       "CDK2    0.234183  0.215778  \n",
       "LCK     0.211339  0.215140  \n",
       "MET     0.116751  0.257243  \n",
       "p38a         NaN  0.114204  "
      ]
     },
     "execution_count": 51,
     "metadata": {},
     "output_type": "execute_result"
    }
   ],
   "source": [
    "example_kinase_matrix.columns = [KINASES_KLIFS_TO_PAPER[i] for i in example_kinase_matrix.columns]\n",
    "example_kinase_matrix.index = [KINASES_KLIFS_TO_PAPER[i] for i in example_kinase_matrix.index]\n",
    "example_kinase_matrix"
   ]
  },
  {
   "cell_type": "code",
   "execution_count": 52,
   "metadata": {},
   "outputs": [
    {
     "data": {
      "image/png": "[encoded data removed]",
      "text/plain": [
       "<Figure size 432x288 with 2 Axes>"
      ]
     },
     "metadata": {
      "needs_background": "light"
     },
     "output_type": "display_data"
    }
   ],
   "source": [
    "sns.heatmap(\n",
    "    example_kinase_matrix, \n",
    "    linewidths=0, \n",
    "    annot=True, \n",
    "    square=True, cbar_kws={'label': 'KiSSim kinase distances'}, \n",
    "    cmap='viridis', \n",
    ")\n",
    "plt.show()"
   ]
  },
  {
   "cell_type": "markdown",
   "metadata": {},
   "source": [
    "Compare to paper (shows similarities; not distances; __so think values inverse__):\n",
    "\n",
    "![](https://www.mdpi.com/molecules/molecules-26-00629/article_deploy/html/images/molecules-26-00629-g002.png)\n",
    "\n",
    "Figure 2. Heat maps of pairwise kinase similarities for the different measures used in this work: (A) ligand profile similarity (LigProfSim); (B) pocket sequence similarity (PocSeqSim); (C) interaction fingerprint similarity (IFPSim); (D) pocket structure similarity (PocStrucSim); and (E) docking rank similarity (DockRankSim) based on the lead-like subset of ZINC. Note that docking was only performed for the five kinases of Profiles 1–4, thus the remaining entries remain empty (white) in the matrix."
   ]
  },
  {
   "cell_type": "code",
   "execution_count": null,
   "metadata": {},
   "outputs": [],
   "source": []
  }
 ],
 "metadata": {
  "kernelspec": {
   "display_name": "Python 3",
   "language": "python",
   "name": "python3"
  },
  "language_info": {
   "codemirror_mode": {
    "name": "ipython",
    "version": 3
   },
   "file_extension": ".py",
   "mimetype": "text/x-python",
   "name": "python",
   "nbconvert_exporter": "python",
   "pygments_lexer": "ipython3",
   "version": "3.8.6"
  }
 },
 "nbformat": 4,
 "nbformat_minor": 4
}
