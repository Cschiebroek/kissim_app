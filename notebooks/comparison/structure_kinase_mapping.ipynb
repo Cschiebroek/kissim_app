{
 "cells": [
  {
   "cell_type": "markdown",
   "metadata": {},
   "source": [
    "# Fingerprint distances between structures for the same kinase\n",
    "\n",
    "In this notebook, we investigate the ranges of fingerprint distances for each kinase pair."
   ]
  },
  {
   "cell_type": "code",
   "execution_count": 1,
   "metadata": {},
   "outputs": [],
   "source": [
    "%load_ext autoreload\n",
    "%autoreload 2"
   ]
  },
  {
   "cell_type": "code",
   "execution_count": 2,
   "metadata": {},
   "outputs": [
    {
     "data": {
      "application/vnd.jupyter.widget-view+json": {
       "model_id": "28473abe06cf488d8c4146adc77598b1",
       "version_major": 2,
       "version_minor": 0
      },
      "text/plain": []
     },
     "metadata": {},
     "output_type": "display_data"
    }
   ],
   "source": [
    "from pathlib import Path\n",
    "\n",
    "import numpy as np\n",
    "import pandas as pd\n",
    "import matplotlib.pyplot as plt\n",
    "import seaborn as sns\n",
    "from opencadd.databases.klifs import setup_remote\n",
    "\n",
    "from kissim.comparison import FingerprintDistanceGenerator"
   ]
  },
  {
   "cell_type": "code",
   "execution_count": 3,
   "metadata": {},
   "outputs": [],
   "source": [
    "HERE = Path(_dh[-1])  # noqa: F821\n",
    "DATA = HERE / \"../../results/\""
   ]
  },
  {
   "cell_type": "code",
   "execution_count": 4,
   "metadata": {},
   "outputs": [],
   "source": [
    "plt.style.use(\"seaborn\")"
   ]
  },
  {
   "cell_type": "code",
   "execution_count": 5,
   "metadata": {},
   "outputs": [],
   "source": [
    "%matplotlib inline"
   ]
  },
  {
   "cell_type": "code",
   "execution_count": 6,
   "metadata": {},
   "outputs": [],
   "source": [
    "COVERAGE_CUTOFF = 0.8"
   ]
  },
  {
   "cell_type": "markdown",
   "metadata": {},
   "source": [
    "## Load structural metadata"
   ]
  },
  {
   "cell_type": "code",
   "execution_count": 7,
   "metadata": {},
   "outputs": [],
   "source": [
    "klifs_session = setup_remote()\n",
    "structures = klifs_session.structures.all_structures()"
   ]
  },
  {
   "cell_type": "markdown",
   "metadata": {},
   "source": [
    "## Load fingerprint distances"
   ]
  },
  {
   "cell_type": "code",
   "execution_count": 8,
   "metadata": {},
   "outputs": [],
   "source": [
    "fingerprint_distance_file = DATA / \"fingerprint_distances.csv\""
   ]
  },
  {
   "cell_type": "code",
   "execution_count": 9,
   "metadata": {},
   "outputs": [],
   "source": [
    "fingerprint_distance_generator = FingerprintDistanceGenerator.from_csv(fingerprint_distance_file)"
   ]
  },
  {
   "cell_type": "code",
   "execution_count": 10,
   "metadata": {},
   "outputs": [
    {
     "name": "stdout",
     "output_type": "stream",
     "text": [
      "Number of kinases: 292\n",
      "Number of structures: 4916\n"
     ]
    }
   ],
   "source": [
    "print(f\"Number of kinases: {len(fingerprint_distance_generator.kinase_ids)}\")\n",
    "print(f\"Number of structures: {len(fingerprint_distance_generator.structure_ids)}\")"
   ]
  },
  {
   "cell_type": "code",
   "execution_count": 11,
   "metadata": {},
   "outputs": [
    {
     "data": {
      "text/html": [
       "<div>\n",
       "<style scoped>\n",
       "    .dataframe tbody tr th:only-of-type {\n",
       "        vertical-align: middle;\n",
       "    }\n",
       "\n",
       "    .dataframe tbody tr th {\n",
       "        vertical-align: top;\n",
       "    }\n",
       "\n",
       "    .dataframe thead th {\n",
       "        text-align: right;\n",
       "    }\n",
       "</style>\n",
       "<table border=\"1\" class=\"dataframe\">\n",
       "  <thead>\n",
       "    <tr style=\"text-align: right;\">\n",
       "      <th></th>\n",
       "      <th>structure.1</th>\n",
       "      <th>structure.2</th>\n",
       "      <th>kinase.1</th>\n",
       "      <th>kinase.2</th>\n",
       "      <th>distance</th>\n",
       "      <th>bit_coverage</th>\n",
       "    </tr>\n",
       "  </thead>\n",
       "  <tbody>\n",
       "    <tr>\n",
       "      <th>0</th>\n",
       "      <td>3835</td>\n",
       "      <td>6679</td>\n",
       "      <td>AAK1</td>\n",
       "      <td>AAK1</td>\n",
       "      <td>0.051608</td>\n",
       "      <td>0.992667</td>\n",
       "    </tr>\n",
       "    <tr>\n",
       "      <th>1</th>\n",
       "      <td>3835</td>\n",
       "      <td>7156</td>\n",
       "      <td>AAK1</td>\n",
       "      <td>AAK1</td>\n",
       "      <td>0.059276</td>\n",
       "      <td>0.991333</td>\n",
       "    </tr>\n",
       "    <tr>\n",
       "      <th>2</th>\n",
       "      <td>3835</td>\n",
       "      <td>1104</td>\n",
       "      <td>AAK1</td>\n",
       "      <td>ABL1</td>\n",
       "      <td>0.275259</td>\n",
       "      <td>0.990667</td>\n",
       "    </tr>\n",
       "    <tr>\n",
       "      <th>3</th>\n",
       "      <td>3835</td>\n",
       "      <td>1065</td>\n",
       "      <td>AAK1</td>\n",
       "      <td>ABL1</td>\n",
       "      <td>0.284854</td>\n",
       "      <td>0.990667</td>\n",
       "    </tr>\n",
       "    <tr>\n",
       "      <th>4</th>\n",
       "      <td>3835</td>\n",
       "      <td>1090</td>\n",
       "      <td>AAK1</td>\n",
       "      <td>ABL1</td>\n",
       "      <td>0.262851</td>\n",
       "      <td>0.990667</td>\n",
       "    </tr>\n",
       "  </tbody>\n",
       "</table>\n",
       "</div>"
      ],
      "text/plain": [
       "   structure.1  structure.2 kinase.1 kinase.2  distance  bit_coverage\n",
       "0         3835         6679     AAK1     AAK1  0.051608      0.992667\n",
       "1         3835         7156     AAK1     AAK1  0.059276      0.991333\n",
       "2         3835         1104     AAK1     ABL1  0.275259      0.990667\n",
       "3         3835         1065     AAK1     ABL1  0.284854      0.990667\n",
       "4         3835         1090     AAK1     ABL1  0.262851      0.990667"
      ]
     },
     "execution_count": 11,
     "metadata": {},
     "output_type": "execute_result"
    }
   ],
   "source": [
    "structure_distances = fingerprint_distance_generator.data\n",
    "structure_distances.head()"
   ]
  },
  {
   "cell_type": "markdown",
   "metadata": {},
   "source": [
    "### Add DFG conformation"
   ]
  },
  {
   "cell_type": "code",
   "execution_count": 12,
   "metadata": {},
   "outputs": [
    {
     "name": "stdout",
     "output_type": "stream",
     "text": [
      "CPU times: user 1min 13s, sys: 351 ms, total: 1min 13s\n",
      "Wall time: 1min 13s\n"
     ]
    }
   ],
   "source": [
    "%%time\n",
    "dfg = structures.set_index(\"structure.klifs_id\")[\"structure.dfg\"]\n",
    "structure_distances[\"dfg.1\"] = structure_distances[\"structure.1\"].apply(lambda x: dfg[x])\n",
    "structure_distances[\"dfg.2\"] = structure_distances[\"structure.2\"].apply(lambda x: dfg[x])"
   ]
  },
  {
   "cell_type": "markdown",
   "metadata": {},
   "source": [
    "### Filter distances by coverage cutoff"
   ]
  },
  {
   "cell_type": "code",
   "execution_count": 13,
   "metadata": {},
   "outputs": [
    {
     "data": {
      "text/html": [
       "<div>\n",
       "<style scoped>\n",
       "    .dataframe tbody tr th:only-of-type {\n",
       "        vertical-align: middle;\n",
       "    }\n",
       "\n",
       "    .dataframe tbody tr th {\n",
       "        vertical-align: top;\n",
       "    }\n",
       "\n",
       "    .dataframe thead th {\n",
       "        text-align: right;\n",
       "    }\n",
       "</style>\n",
       "<table border=\"1\" class=\"dataframe\">\n",
       "  <thead>\n",
       "    <tr style=\"text-align: right;\">\n",
       "      <th></th>\n",
       "      <th>structure.1</th>\n",
       "      <th>structure.2</th>\n",
       "      <th>kinase.1</th>\n",
       "      <th>kinase.2</th>\n",
       "      <th>distance</th>\n",
       "      <th>bit_coverage</th>\n",
       "      <th>dfg.1</th>\n",
       "      <th>dfg.2</th>\n",
       "      <th>distance_filtered</th>\n",
       "    </tr>\n",
       "  </thead>\n",
       "  <tbody>\n",
       "    <tr>\n",
       "      <th>0</th>\n",
       "      <td>3835</td>\n",
       "      <td>6679</td>\n",
       "      <td>AAK1</td>\n",
       "      <td>AAK1</td>\n",
       "      <td>0.051608</td>\n",
       "      <td>0.992667</td>\n",
       "      <td>in</td>\n",
       "      <td>in</td>\n",
       "      <td>0.051608</td>\n",
       "    </tr>\n",
       "    <tr>\n",
       "      <th>1</th>\n",
       "      <td>3835</td>\n",
       "      <td>7156</td>\n",
       "      <td>AAK1</td>\n",
       "      <td>AAK1</td>\n",
       "      <td>0.059276</td>\n",
       "      <td>0.991333</td>\n",
       "      <td>in</td>\n",
       "      <td>in</td>\n",
       "      <td>0.059276</td>\n",
       "    </tr>\n",
       "    <tr>\n",
       "      <th>2</th>\n",
       "      <td>3835</td>\n",
       "      <td>1104</td>\n",
       "      <td>AAK1</td>\n",
       "      <td>ABL1</td>\n",
       "      <td>0.275259</td>\n",
       "      <td>0.990667</td>\n",
       "      <td>in</td>\n",
       "      <td>out-like</td>\n",
       "      <td>0.275259</td>\n",
       "    </tr>\n",
       "    <tr>\n",
       "      <th>3</th>\n",
       "      <td>3835</td>\n",
       "      <td>1065</td>\n",
       "      <td>AAK1</td>\n",
       "      <td>ABL1</td>\n",
       "      <td>0.284854</td>\n",
       "      <td>0.990667</td>\n",
       "      <td>in</td>\n",
       "      <td>out</td>\n",
       "      <td>0.284854</td>\n",
       "    </tr>\n",
       "    <tr>\n",
       "      <th>4</th>\n",
       "      <td>3835</td>\n",
       "      <td>1090</td>\n",
       "      <td>AAK1</td>\n",
       "      <td>ABL1</td>\n",
       "      <td>0.262851</td>\n",
       "      <td>0.990667</td>\n",
       "      <td>in</td>\n",
       "      <td>in</td>\n",
       "      <td>0.262851</td>\n",
       "    </tr>\n",
       "  </tbody>\n",
       "</table>\n",
       "</div>"
      ],
      "text/plain": [
       "   structure.1  structure.2 kinase.1 kinase.2  distance  bit_coverage dfg.1  \\\n",
       "0         3835         6679     AAK1     AAK1  0.051608      0.992667    in   \n",
       "1         3835         7156     AAK1     AAK1  0.059276      0.991333    in   \n",
       "2         3835         1104     AAK1     ABL1  0.275259      0.990667    in   \n",
       "3         3835         1065     AAK1     ABL1  0.284854      0.990667    in   \n",
       "4         3835         1090     AAK1     ABL1  0.262851      0.990667    in   \n",
       "\n",
       "      dfg.2  distance_filtered  \n",
       "0        in           0.051608  \n",
       "1        in           0.059276  \n",
       "2  out-like           0.275259  \n",
       "3       out           0.284854  \n",
       "4        in           0.262851  "
      ]
     },
     "execution_count": 13,
     "metadata": {},
     "output_type": "execute_result"
    }
   ],
   "source": [
    "structure_distances[\"distance_filtered\"] = np.where(\n",
    "    structure_distances[\"bit_coverage\"].values < COVERAGE_CUTOFF,\n",
    "    np.nan,\n",
    "    structure_distances[\"distance\"].values,\n",
    ")\n",
    "structure_distances.head()"
   ]
  },
  {
   "cell_type": "code",
   "execution_count": 14,
   "metadata": {},
   "outputs": [],
   "source": [
    "structure_distances_filtered = structure_distances[\n",
    "    structure_distances[\"distance_filtered\"].notna()\n",
    "]"
   ]
  },
  {
   "cell_type": "code",
   "execution_count": 15,
   "metadata": {},
   "outputs": [
    {
     "name": "stdout",
     "output_type": "stream",
     "text": [
      "Structure pairs: 12081070\n",
      "Structure pairs not-NaN: 11964546\n"
     ]
    }
   ],
   "source": [
    "print(f\"Structure pairs: {structure_distances.shape[0]}\")\n",
    "print(f\"Structure pairs not-NaN: {structure_distances_filtered.shape[0]}\")"
   ]
  },
  {
   "cell_type": "markdown",
   "metadata": {},
   "source": [
    "## Structure distances"
   ]
  },
  {
   "cell_type": "markdown",
   "metadata": {},
   "source": [
    "### Structure distance distributions for different subsets\n",
    "\n",
    "- All structure distances\n",
    "- Structure distances between the same kinases\n",
    "- Structure distances between different kinases"
   ]
  },
  {
   "cell_type": "markdown",
   "metadata": {},
   "source": [
    "#### Without coverage cutoff"
   ]
  },
  {
   "cell_type": "code",
   "execution_count": 16,
   "metadata": {},
   "outputs": [],
   "source": [
    "structure_distances_df = pd.DataFrame(\n",
    "    {\n",
    "        \"all\": structure_distances[\"distance\"],\n",
    "        \"intra-kinase\": structure_distances[\n",
    "            structure_distances[\"kinase.1\"] == structure_distances[\"kinase.2\"]\n",
    "        ][\"distance\"],\n",
    "        \"inter-kinase\": structure_distances[\n",
    "            ~(structure_distances[\"kinase.1\"] == structure_distances[\"kinase.2\"])\n",
    "        ][\"distance\"],\n",
    "    }\n",
    ")"
   ]
  },
  {
   "cell_type": "code",
   "execution_count": 17,
   "metadata": {},
   "outputs": [
    {
     "data": {
      "text/plain": [
       "all             12081070\n",
       "intra-kinase      246276\n",
       "inter-kinase    11834794\n",
       "dtype: int64"
      ]
     },
     "execution_count": 17,
     "metadata": {},
     "output_type": "execute_result"
    }
   ],
   "source": [
    "structure_distances_df.notna().sum()"
   ]
  },
  {
   "cell_type": "code",
   "execution_count": 18,
   "metadata": {},
   "outputs": [
    {
     "data": {
      "image/png": "[encoded data removed]",
      "text/plain": [
       "<Figure size 432x288 with 1 Axes>"
      ]
     },
     "metadata": {
      "needs_background": "light"
     },
     "output_type": "display_data"
    }
   ],
   "source": [
    "structure_distances_df.plot(kind=\"box\");"
   ]
  },
  {
   "cell_type": "code",
   "execution_count": 19,
   "metadata": {},
   "outputs": [
    {
     "data": {
      "text/html": [
       "<div>\n",
       "<style scoped>\n",
       "    .dataframe tbody tr th:only-of-type {\n",
       "        vertical-align: middle;\n",
       "    }\n",
       "\n",
       "    .dataframe tbody tr th {\n",
       "        vertical-align: top;\n",
       "    }\n",
       "\n",
       "    .dataframe thead th {\n",
       "        text-align: right;\n",
       "    }\n",
       "</style>\n",
       "<table border=\"1\" class=\"dataframe\">\n",
       "  <thead>\n",
       "    <tr style=\"text-align: right;\">\n",
       "      <th></th>\n",
       "      <th>all</th>\n",
       "      <th>intra-kinase</th>\n",
       "      <th>inter-kinase</th>\n",
       "    </tr>\n",
       "  </thead>\n",
       "  <tbody>\n",
       "    <tr>\n",
       "      <th>count</th>\n",
       "      <td>1.208107e+07</td>\n",
       "      <td>246276.000000</td>\n",
       "      <td>1.183479e+07</td>\n",
       "    </tr>\n",
       "    <tr>\n",
       "      <th>mean</th>\n",
       "      <td>2.602043e-01</td>\n",
       "      <td>0.076376</td>\n",
       "      <td>2.640297e-01</td>\n",
       "    </tr>\n",
       "    <tr>\n",
       "      <th>std</th>\n",
       "      <td>6.641477e-02</td>\n",
       "      <td>0.041927</td>\n",
       "      <td>6.122325e-02</td>\n",
       "    </tr>\n",
       "    <tr>\n",
       "      <th>min</th>\n",
       "      <td>0.000000e+00</td>\n",
       "      <td>0.000000</td>\n",
       "      <td>2.750373e-02</td>\n",
       "    </tr>\n",
       "    <tr>\n",
       "      <th>25%</th>\n",
       "      <td>2.248570e-01</td>\n",
       "      <td>0.043636</td>\n",
       "      <td>2.266979e-01</td>\n",
       "    </tr>\n",
       "    <tr>\n",
       "      <th>50%</th>\n",
       "      <td>2.513172e-01</td>\n",
       "      <td>0.062312</td>\n",
       "      <td>2.523743e-01</td>\n",
       "    </tr>\n",
       "    <tr>\n",
       "      <th>75%</th>\n",
       "      <td>2.842624e-01</td>\n",
       "      <td>0.109751</td>\n",
       "      <td>2.852527e-01</td>\n",
       "    </tr>\n",
       "    <tr>\n",
       "      <th>max</th>\n",
       "      <td>1.170402e+00</td>\n",
       "      <td>0.402767</td>\n",
       "      <td>1.170402e+00</td>\n",
       "    </tr>\n",
       "  </tbody>\n",
       "</table>\n",
       "</div>"
      ],
      "text/plain": [
       "                all   intra-kinase  inter-kinase\n",
       "count  1.208107e+07  246276.000000  1.183479e+07\n",
       "mean   2.602043e-01       0.076376  2.640297e-01\n",
       "std    6.641477e-02       0.041927  6.122325e-02\n",
       "min    0.000000e+00       0.000000  2.750373e-02\n",
       "25%    2.248570e-01       0.043636  2.266979e-01\n",
       "50%    2.513172e-01       0.062312  2.523743e-01\n",
       "75%    2.842624e-01       0.109751  2.852527e-01\n",
       "max    1.170402e+00       0.402767  1.170402e+00"
      ]
     },
     "execution_count": 19,
     "metadata": {},
     "output_type": "execute_result"
    }
   ],
   "source": [
    "structure_distances_df.describe()"
   ]
  },
  {
   "cell_type": "markdown",
   "metadata": {},
   "source": [
    "#### With coverage cutoff"
   ]
  },
  {
   "cell_type": "code",
   "execution_count": 20,
   "metadata": {},
   "outputs": [],
   "source": [
    "structure_distances_filtered_df = pd.DataFrame(\n",
    "    {\n",
    "        \"all\": structure_distances_filtered[\"distance\"],\n",
    "        \"intra-kinase\": structure_distances_filtered[\n",
    "            structure_distances_filtered[\"kinase.1\"] == structure_distances_filtered[\"kinase.2\"]\n",
    "        ][\"distance\"],\n",
    "        \"inter-kinase\": structure_distances_filtered[\n",
    "            ~(structure_distances_filtered[\"kinase.1\"] == structure_distances_filtered[\"kinase.2\"])\n",
    "        ][\"distance\"],\n",
    "    }\n",
    ")"
   ]
  },
  {
   "cell_type": "code",
   "execution_count": 21,
   "metadata": {},
   "outputs": [
    {
     "data": {
      "text/plain": [
       "all             11964546\n",
       "intra-kinase      245711\n",
       "inter-kinase    11718835\n",
       "dtype: int64"
      ]
     },
     "execution_count": 21,
     "metadata": {},
     "output_type": "execute_result"
    }
   ],
   "source": [
    "structure_distances_filtered_df.notna().sum()"
   ]
  },
  {
   "cell_type": "code",
   "execution_count": 22,
   "metadata": {},
   "outputs": [
    {
     "data": {
      "image/png": "[encoded data removed]",
      "text/plain": [
       "<Figure size 432x288 with 1 Axes>"
      ]
     },
     "metadata": {
      "needs_background": "light"
     },
     "output_type": "display_data"
    }
   ],
   "source": [
    "fig, axes = plt.subplots(1, 1)\n",
    "structure_distances_filtered_df.plot(kind=\"box\", ax=axes)\n",
    "axes.set_ylabel(f\"Fingerprint distances ({COVERAGE_CUTOFF} cutoff)\");"
   ]
  },
  {
   "cell_type": "code",
   "execution_count": 23,
   "metadata": {},
   "outputs": [
    {
     "data": {
      "text/html": [
       "<div>\n",
       "<style scoped>\n",
       "    .dataframe tbody tr th:only-of-type {\n",
       "        vertical-align: middle;\n",
       "    }\n",
       "\n",
       "    .dataframe tbody tr th {\n",
       "        vertical-align: top;\n",
       "    }\n",
       "\n",
       "    .dataframe thead th {\n",
       "        text-align: right;\n",
       "    }\n",
       "</style>\n",
       "<table border=\"1\" class=\"dataframe\">\n",
       "  <thead>\n",
       "    <tr style=\"text-align: right;\">\n",
       "      <th></th>\n",
       "      <th>all</th>\n",
       "      <th>intra-kinase</th>\n",
       "      <th>inter-kinase</th>\n",
       "    </tr>\n",
       "  </thead>\n",
       "  <tbody>\n",
       "    <tr>\n",
       "      <th>count</th>\n",
       "      <td>1.196455e+07</td>\n",
       "      <td>245711.000000</td>\n",
       "      <td>1.171884e+07</td>\n",
       "    </tr>\n",
       "    <tr>\n",
       "      <th>mean</th>\n",
       "      <td>2.591149e-01</td>\n",
       "      <td>0.076273</td>\n",
       "      <td>2.629486e-01</td>\n",
       "    </tr>\n",
       "    <tr>\n",
       "      <th>std</th>\n",
       "      <td>6.416281e-02</td>\n",
       "      <td>0.041891</td>\n",
       "      <td>5.874299e-02</td>\n",
       "    </tr>\n",
       "    <tr>\n",
       "      <th>min</th>\n",
       "      <td>0.000000e+00</td>\n",
       "      <td>0.000000</td>\n",
       "      <td>2.750373e-02</td>\n",
       "    </tr>\n",
       "    <tr>\n",
       "      <th>25%</th>\n",
       "      <td>2.246006e-01</td>\n",
       "      <td>0.043598</td>\n",
       "      <td>2.264521e-01</td>\n",
       "    </tr>\n",
       "    <tr>\n",
       "      <th>50%</th>\n",
       "      <td>2.509275e-01</td>\n",
       "      <td>0.062209</td>\n",
       "      <td>2.519808e-01</td>\n",
       "    </tr>\n",
       "    <tr>\n",
       "      <th>75%</th>\n",
       "      <td>2.833567e-01</td>\n",
       "      <td>0.109519</td>\n",
       "      <td>2.843347e-01</td>\n",
       "    </tr>\n",
       "    <tr>\n",
       "      <th>max</th>\n",
       "      <td>6.492761e-01</td>\n",
       "      <td>0.402767</td>\n",
       "      <td>6.492761e-01</td>\n",
       "    </tr>\n",
       "  </tbody>\n",
       "</table>\n",
       "</div>"
      ],
      "text/plain": [
       "                all   intra-kinase  inter-kinase\n",
       "count  1.196455e+07  245711.000000  1.171884e+07\n",
       "mean   2.591149e-01       0.076273  2.629486e-01\n",
       "std    6.416281e-02       0.041891  5.874299e-02\n",
       "min    0.000000e+00       0.000000  2.750373e-02\n",
       "25%    2.246006e-01       0.043598  2.264521e-01\n",
       "50%    2.509275e-01       0.062209  2.519808e-01\n",
       "75%    2.833567e-01       0.109519  2.843347e-01\n",
       "max    6.492761e-01       0.402767  6.492761e-01"
      ]
     },
     "execution_count": 23,
     "metadata": {},
     "output_type": "execute_result"
    }
   ],
   "source": [
    "structure_distances_filtered_df.describe()"
   ]
  },
  {
   "cell_type": "markdown",
   "metadata": {},
   "source": [
    "### Per kinase distributions\n",
    "\n",
    "How robust are structure distances within kinase pairs?"
   ]
  },
  {
   "cell_type": "markdown",
   "metadata": {},
   "source": [
    "#### All kinase pairs"
   ]
  },
  {
   "cell_type": "code",
   "execution_count": 24,
   "metadata": {},
   "outputs": [],
   "source": [
    "data = structure_distances_filtered[[\"kinase.1\", \"kinase.2\", \"distance\"]].groupby(\n",
    "    [\"kinase.1\", \"kinase.2\"]\n",
    ")"
   ]
  },
  {
   "cell_type": "code",
   "execution_count": 25,
   "metadata": {},
   "outputs": [
    {
     "data": {
      "image/png": "[encoded data removed]",
      "text/plain": [
       "<Figure size 360x720 with 3 Axes>"
      ]
     },
     "metadata": {
      "needs_background": "light"
     },
     "output_type": "display_data"
    }
   ],
   "source": [
    "fig, axes = plt.subplots(3, 1, figsize=(5, 10))\n",
    "# Size\n",
    "data.size().plot(ax=axes[0], kind=\"hist\", logy=True, style=\".\", bins=100)\n",
    "axes[0].set_xlabel(\"Number of structure pairs / kinase pair\")\n",
    "axes[0].set_ylabel(\"Frequency (log scale!)\")\n",
    "# Mean\n",
    "data.mean().squeeze().plot(ax=axes[1], kind=\"hist\", style=\".\", bins=100)\n",
    "axes[1].set_xlabel(\"Distance mean within structure pairs / kinase pair\")\n",
    "# Std\n",
    "data.std().squeeze().plot(ax=axes[2], kind=\"hist\", logy=False, style=\".\", bins=100)\n",
    "axes[2].set_xlabel(\"Distance std within structure pairs / kinase pair\");"
   ]
  },
  {
   "cell_type": "code",
   "execution_count": 26,
   "metadata": {},
   "outputs": [
    {
     "name": "stdout",
     "output_type": "stream",
     "text": [
      "size == 1:  1809\n",
      "size < 5:  7516\n",
      "size < 10:  12389\n",
      "size < 100:  29840\n",
      "size < 1000:  39301\n",
      "size < 10000:  41367\n",
      "size:  41507\n"
     ]
    }
   ],
   "source": [
    "print(\"size == 1: \", data.size()[data.size() == 1].shape[0])\n",
    "print(\"size < 5: \", data.size()[data.size() < 5].shape[0])\n",
    "print(\"size < 10: \", data.size()[data.size() < 10].shape[0])\n",
    "print(\"size < 100: \", data.size()[data.size() < 100].shape[0])\n",
    "print(\"size < 1000: \", data.size()[data.size() < 1000].shape[0])\n",
    "print(\"size < 10000: \", data.size()[data.size() < 10000].shape[0])\n",
    "print(\"size: \", data.size().shape[0])"
   ]
  },
  {
   "cell_type": "code",
   "execution_count": 27,
   "metadata": {},
   "outputs": [
    {
     "data": {
      "text/html": [
       "<div>\n",
       "<style scoped>\n",
       "    .dataframe tbody tr th:only-of-type {\n",
       "        vertical-align: middle;\n",
       "    }\n",
       "\n",
       "    .dataframe tbody tr th {\n",
       "        vertical-align: top;\n",
       "    }\n",
       "\n",
       "    .dataframe thead th {\n",
       "        text-align: right;\n",
       "    }\n",
       "</style>\n",
       "<table border=\"1\" class=\"dataframe\">\n",
       "  <thead>\n",
       "    <tr style=\"text-align: right;\">\n",
       "      <th></th>\n",
       "      <th>distance</th>\n",
       "    </tr>\n",
       "  </thead>\n",
       "  <tbody>\n",
       "    <tr>\n",
       "      <th>count</th>\n",
       "      <td>41507.000000</td>\n",
       "    </tr>\n",
       "    <tr>\n",
       "      <th>mean</th>\n",
       "      <td>0.275824</td>\n",
       "    </tr>\n",
       "    <tr>\n",
       "      <th>std</th>\n",
       "      <td>0.067315</td>\n",
       "    </tr>\n",
       "    <tr>\n",
       "      <th>min</th>\n",
       "      <td>0.013405</td>\n",
       "    </tr>\n",
       "    <tr>\n",
       "      <th>25%</th>\n",
       "      <td>0.234260</td>\n",
       "    </tr>\n",
       "    <tr>\n",
       "      <th>50%</th>\n",
       "      <td>0.262906</td>\n",
       "    </tr>\n",
       "    <tr>\n",
       "      <th>75%</th>\n",
       "      <td>0.303612</td>\n",
       "    </tr>\n",
       "    <tr>\n",
       "      <th>max</th>\n",
       "      <td>0.621157</td>\n",
       "    </tr>\n",
       "  </tbody>\n",
       "</table>\n",
       "</div>"
      ],
      "text/plain": [
       "           distance\n",
       "count  41507.000000\n",
       "mean       0.275824\n",
       "std        0.067315\n",
       "min        0.013405\n",
       "25%        0.234260\n",
       "50%        0.262906\n",
       "75%        0.303612\n",
       "max        0.621157"
      ]
     },
     "execution_count": 27,
     "metadata": {},
     "output_type": "execute_result"
    }
   ],
   "source": [
    "data.mean().describe()"
   ]
  },
  {
   "cell_type": "code",
   "execution_count": 28,
   "metadata": {},
   "outputs": [
    {
     "data": {
      "text/html": [
       "<div>\n",
       "<style scoped>\n",
       "    .dataframe tbody tr th:only-of-type {\n",
       "        vertical-align: middle;\n",
       "    }\n",
       "\n",
       "    .dataframe tbody tr th {\n",
       "        vertical-align: top;\n",
       "    }\n",
       "\n",
       "    .dataframe thead th {\n",
       "        text-align: right;\n",
       "    }\n",
       "</style>\n",
       "<table border=\"1\" class=\"dataframe\">\n",
       "  <thead>\n",
       "    <tr style=\"text-align: right;\">\n",
       "      <th></th>\n",
       "      <th>distance</th>\n",
       "    </tr>\n",
       "  </thead>\n",
       "  <tbody>\n",
       "    <tr>\n",
       "      <th>count</th>\n",
       "      <td>3.969800e+04</td>\n",
       "    </tr>\n",
       "    <tr>\n",
       "      <th>mean</th>\n",
       "      <td>1.728075e-02</td>\n",
       "    </tr>\n",
       "    <tr>\n",
       "      <th>std</th>\n",
       "      <td>1.350195e-02</td>\n",
       "    </tr>\n",
       "    <tr>\n",
       "      <th>min</th>\n",
       "      <td>3.961060e-07</td>\n",
       "    </tr>\n",
       "    <tr>\n",
       "      <th>25%</th>\n",
       "      <td>7.875723e-03</td>\n",
       "    </tr>\n",
       "    <tr>\n",
       "      <th>50%</th>\n",
       "      <td>1.361693e-02</td>\n",
       "    </tr>\n",
       "    <tr>\n",
       "      <th>75%</th>\n",
       "      <td>2.288679e-02</td>\n",
       "    </tr>\n",
       "    <tr>\n",
       "      <th>max</th>\n",
       "      <td>1.128298e-01</td>\n",
       "    </tr>\n",
       "  </tbody>\n",
       "</table>\n",
       "</div>"
      ],
      "text/plain": [
       "           distance\n",
       "count  3.969800e+04\n",
       "mean   1.728075e-02\n",
       "std    1.350195e-02\n",
       "min    3.961060e-07\n",
       "25%    7.875723e-03\n",
       "50%    1.361693e-02\n",
       "75%    2.288679e-02\n",
       "max    1.128298e-01"
      ]
     },
     "execution_count": 28,
     "metadata": {},
     "output_type": "execute_result"
    }
   ],
   "source": [
    "data.std().describe()"
   ]
  },
  {
   "cell_type": "markdown",
   "metadata": {},
   "source": [
    "#### Most frequent kinase pairs (all conformations)"
   ]
  },
  {
   "cell_type": "code",
   "execution_count": 29,
   "metadata": {},
   "outputs": [],
   "source": [
    "data = structure_distances_filtered.groupby([\"kinase.1\", \"kinase.2\"])"
   ]
  },
  {
   "cell_type": "code",
   "execution_count": 30,
   "metadata": {},
   "outputs": [
    {
     "data": {
      "image/png": "[encoded data removed]",
      "text/plain": [
       "<Figure size 720x360 with 1 Axes>"
      ]
     },
     "metadata": {
      "needs_background": "light"
     },
     "output_type": "display_data"
    }
   ],
   "source": [
    "ntop = 30\n",
    "index = data.size().sort_values(ascending=False).head(ntop).index\n",
    "top_pair_distances = {pair: data.get_group(pair)[\"distance\"] for pair in index}\n",
    "top_pair_distances = pd.DataFrame(top_pair_distances)\n",
    "fig, axes = plt.subplots(1, 1, figsize=(10, 5))\n",
    "top_pair_distances.plot(kind=\"box\", ax=axes, rot=90)\n",
    "axes.set_title(\"Structure pair distances for most frequent kinase pairs\");"
   ]
  },
  {
   "cell_type": "code",
   "execution_count": 31,
   "metadata": {},
   "outputs": [],
   "source": [
    "data_min = data.min()"
   ]
  },
  {
   "cell_type": "code",
   "execution_count": 32,
   "metadata": {},
   "outputs": [
    {
     "name": "stdout",
     "output_type": "stream",
     "text": [
      "Minimum pair has same conformations\n",
      "84.37853855976101\n"
     ]
    }
   ],
   "source": [
    "print(\"Minimum pair has same conformations\")\n",
    "print(data_min[data_min[\"dfg.1\"] == data_min[\"dfg.2\"]].shape[0] / data_min.shape[0] * 100)"
   ]
  },
  {
   "cell_type": "code",
   "execution_count": 33,
   "metadata": {},
   "outputs": [
    {
     "name": "stdout",
     "output_type": "stream",
     "text": [
      "Minimum pair has different conformations\n",
      "15.621461440238996\n"
     ]
    }
   ],
   "source": [
    "print(\"Minimum pair has different conformations\")\n",
    "print(data_min[data_min[\"dfg.1\"] != data_min[\"dfg.2\"]].shape[0] / data_min.shape[0] * 100)"
   ]
  },
  {
   "cell_type": "markdown",
   "metadata": {},
   "source": [
    "#### Most frequent kinase pairs (DFG-in conformations only)"
   ]
  },
  {
   "cell_type": "code",
   "execution_count": 34,
   "metadata": {},
   "outputs": [
    {
     "data": {
      "text/plain": [
       "((11964546, 9), (8846155, 9))"
      ]
     },
     "execution_count": 34,
     "metadata": {},
     "output_type": "execute_result"
    }
   ],
   "source": [
    "structure_distances_filtered_dfgin = structure_distances_filtered[\n",
    "    (structure_distances_filtered[\"dfg.1\"] == \"in\")\n",
    "    & (structure_distances_filtered[\"dfg.2\"] == \"in\")\n",
    "]\n",
    "structure_distances_filtered.shape, structure_distances_filtered_dfgin.shape"
   ]
  },
  {
   "cell_type": "code",
   "execution_count": 35,
   "metadata": {},
   "outputs": [],
   "source": [
    "data = structure_distances_filtered_dfgin.groupby([\"kinase.1\", \"kinase.2\"])"
   ]
  },
  {
   "cell_type": "code",
   "execution_count": 36,
   "metadata": {},
   "outputs": [
    {
     "data": {
      "image/png": "[encoded data removed]",
      "text/plain": [
       "<Figure size 720x360 with 1 Axes>"
      ]
     },
     "metadata": {
      "needs_background": "light"
     },
     "output_type": "display_data"
    }
   ],
   "source": [
    "ntop = 30\n",
    "index = data.size().sort_values(ascending=False).head(ntop).index\n",
    "top_pair_distances = {pair: data.get_group(pair)[\"distance\"] for pair in index}\n",
    "top_pair_distances = pd.DataFrame(top_pair_distances)\n",
    "fig, axes = plt.subplots(1, 1, figsize=(10, 5))\n",
    "top_pair_distances.plot(kind=\"box\", ax=axes, rot=90)\n",
    "axes.set_title(\"Structure pair distances for most frequent kinase pairs\");"
   ]
  },
  {
   "cell_type": "markdown",
   "metadata": {},
   "source": [
    "## Structure > kinase distances (median)"
   ]
  },
  {
   "cell_type": "code",
   "execution_count": 37,
   "metadata": {},
   "outputs": [
    {
     "data": {
      "text/html": [
       "<div>\n",
       "<style scoped>\n",
       "    .dataframe tbody tr th:only-of-type {\n",
       "        vertical-align: middle;\n",
       "    }\n",
       "\n",
       "    .dataframe tbody tr th {\n",
       "        vertical-align: top;\n",
       "    }\n",
       "\n",
       "    .dataframe thead th {\n",
       "        text-align: right;\n",
       "    }\n",
       "</style>\n",
       "<table border=\"1\" class=\"dataframe\">\n",
       "  <thead>\n",
       "    <tr style=\"text-align: right;\">\n",
       "      <th></th>\n",
       "      <th>kinase.1</th>\n",
       "      <th>kinase.2</th>\n",
       "      <th>structure.1</th>\n",
       "      <th>structure.2</th>\n",
       "      <th>distance</th>\n",
       "      <th>bit_coverage</th>\n",
       "      <th>distance_filtered</th>\n",
       "    </tr>\n",
       "  </thead>\n",
       "  <tbody>\n",
       "    <tr>\n",
       "      <th>0</th>\n",
       "      <td>AAK1</td>\n",
       "      <td>AAK1</td>\n",
       "      <td>3835.0</td>\n",
       "      <td>7156.0</td>\n",
       "      <td>0.051608</td>\n",
       "      <td>0.992667</td>\n",
       "      <td>0.051608</td>\n",
       "    </tr>\n",
       "    <tr>\n",
       "      <th>1</th>\n",
       "      <td>AAK1</td>\n",
       "      <td>ABL1</td>\n",
       "      <td>6679.0</td>\n",
       "      <td>1085.0</td>\n",
       "      <td>0.269687</td>\n",
       "      <td>0.990667</td>\n",
       "      <td>0.269687</td>\n",
       "    </tr>\n",
       "    <tr>\n",
       "      <th>2</th>\n",
       "      <td>AAK1</td>\n",
       "      <td>ABL2</td>\n",
       "      <td>6679.0</td>\n",
       "      <td>115.0</td>\n",
       "      <td>0.273110</td>\n",
       "      <td>0.990000</td>\n",
       "      <td>0.273110</td>\n",
       "    </tr>\n",
       "    <tr>\n",
       "      <th>3</th>\n",
       "      <td>AAK1</td>\n",
       "      <td>ACK</td>\n",
       "      <td>6679.0</td>\n",
       "      <td>3406.5</td>\n",
       "      <td>0.261100</td>\n",
       "      <td>0.990000</td>\n",
       "      <td>0.261100</td>\n",
       "    </tr>\n",
       "    <tr>\n",
       "      <th>4</th>\n",
       "      <td>AAK1</td>\n",
       "      <td>ACTR2</td>\n",
       "      <td>6679.0</td>\n",
       "      <td>2679.0</td>\n",
       "      <td>0.269498</td>\n",
       "      <td>0.990667</td>\n",
       "      <td>0.269498</td>\n",
       "    </tr>\n",
       "  </tbody>\n",
       "</table>\n",
       "</div>"
      ],
      "text/plain": [
       "  kinase.1 kinase.2  structure.1  structure.2  distance  bit_coverage  \\\n",
       "0     AAK1     AAK1       3835.0       7156.0  0.051608      0.992667   \n",
       "1     AAK1     ABL1       6679.0       1085.0  0.269687      0.990667   \n",
       "2     AAK1     ABL2       6679.0        115.0  0.273110      0.990000   \n",
       "3     AAK1      ACK       6679.0       3406.5  0.261100      0.990000   \n",
       "4     AAK1    ACTR2       6679.0       2679.0  0.269498      0.990667   \n",
       "\n",
       "   distance_filtered  \n",
       "0           0.051608  \n",
       "1           0.269687  \n",
       "2           0.273110  \n",
       "3           0.261100  \n",
       "4           0.269498  "
      ]
     },
     "execution_count": 37,
     "metadata": {},
     "output_type": "execute_result"
    }
   ],
   "source": [
    "kinase_distances = structure_distances.groupby([\"kinase.1\", \"kinase.2\"]).median().reset_index()\n",
    "kinase_distances.head()"
   ]
  },
  {
   "cell_type": "code",
   "execution_count": 38,
   "metadata": {},
   "outputs": [],
   "source": [
    "kinase_distances_filtered = kinase_distances[kinase_distances[\"distance_filtered\"].notna()]"
   ]
  },
  {
   "cell_type": "code",
   "execution_count": 39,
   "metadata": {},
   "outputs": [
    {
     "name": "stdout",
     "output_type": "stream",
     "text": [
      "Kinase pairs: 42717\n",
      "Kinase pairs not-NaN: 41507\n"
     ]
    }
   ],
   "source": [
    "print(f\"Kinase pairs: {kinase_distances.shape[0]}\")\n",
    "print(f\"Kinase pairs not-NaN: {kinase_distances_filtered.shape[0]}\")"
   ]
  },
  {
   "cell_type": "markdown",
   "metadata": {},
   "source": [
    "## Kinase matrix"
   ]
  },
  {
   "cell_type": "markdown",
   "metadata": {},
   "source": [
    "### All distances"
   ]
  },
  {
   "cell_type": "code",
   "execution_count": 40,
   "metadata": {},
   "outputs": [
    {
     "data": {
      "image/png": "[encoded data removed]",
      "text/plain": [
       "<Figure size 720x288 with 4 Axes>"
      ]
     },
     "metadata": {
      "needs_background": "light"
     },
     "output_type": "display_data"
    }
   ],
   "source": [
    "fig, axes = plt.subplots(1, 2, figsize=(10, 4), sharey=True)\n",
    "kinase_matrix = kinase_distances.pivot(\"kinase.1\", \"kinase.2\", \"distance\")\n",
    "sns.heatmap(kinase_matrix, cmap=\"Blues\", ax=axes[0])\n",
    "axes[0].set_title(\"All distances\")\n",
    "kinase_matrix = kinase_distances.pivot(\"kinase.1\", \"kinase.2\", \"distance_filtered\")\n",
    "sns.heatmap(kinase_matrix, cmap=\"Blues\", ax=axes[1])\n",
    "axes[1].set_title(\"Only distances for pairs matching coverage cutoff\");"
   ]
  },
  {
   "cell_type": "code",
   "execution_count": 41,
   "metadata": {},
   "outputs": [],
   "source": [
    "def n_pairs(n):\n",
    "    return int((n ** 2 - n) / 2 + n)"
   ]
  },
  {
   "cell_type": "code",
   "execution_count": 42,
   "metadata": {},
   "outputs": [
    {
     "data": {
      "text/html": [
       "<div>\n",
       "<style scoped>\n",
       "    .dataframe tbody tr th:only-of-type {\n",
       "        vertical-align: middle;\n",
       "    }\n",
       "\n",
       "    .dataframe tbody tr th {\n",
       "        vertical-align: top;\n",
       "    }\n",
       "\n",
       "    .dataframe thead th {\n",
       "        text-align: right;\n",
       "    }\n",
       "</style>\n",
       "<table border=\"1\" class=\"dataframe\">\n",
       "  <thead>\n",
       "    <tr style=\"text-align: right;\">\n",
       "      <th></th>\n",
       "      <th>All distances</th>\n",
       "      <th>Only distances matching cutoff</th>\n",
       "    </tr>\n",
       "  </thead>\n",
       "  <tbody>\n",
       "    <tr>\n",
       "      <th>Number of structures</th>\n",
       "      <td>4916</td>\n",
       "      <td>4897</td>\n",
       "    </tr>\n",
       "    <tr>\n",
       "      <th>Number of structure pairs (theory)</th>\n",
       "      <td>12085986</td>\n",
       "      <td>11992753</td>\n",
       "    </tr>\n",
       "    <tr>\n",
       "      <th>Number of structure pairs (experimental)</th>\n",
       "      <td>12081070</td>\n",
       "      <td>11964546</td>\n",
       "    </tr>\n",
       "    <tr>\n",
       "      <th>Number of kinases</th>\n",
       "      <td>292</td>\n",
       "      <td>288</td>\n",
       "    </tr>\n",
       "    <tr>\n",
       "      <th>Number of kinase pairs (theory)</th>\n",
       "      <td>42778</td>\n",
       "      <td>41616</td>\n",
       "    </tr>\n",
       "    <tr>\n",
       "      <th>Number of kinase pairs (experimental)</th>\n",
       "      <td>42717</td>\n",
       "      <td>41507</td>\n",
       "    </tr>\n",
       "  </tbody>\n",
       "</table>\n",
       "</div>"
      ],
      "text/plain": [
       "                                          All distances  \\\n",
       "Number of structures                               4916   \n",
       "Number of structure pairs (theory)             12085986   \n",
       "Number of structure pairs (experimental)       12081070   \n",
       "Number of kinases                                   292   \n",
       "Number of kinase pairs (theory)                   42778   \n",
       "Number of kinase pairs (experimental)             42717   \n",
       "\n",
       "                                          Only distances matching cutoff  \n",
       "Number of structures                                                4897  \n",
       "Number of structure pairs (theory)                              11992753  \n",
       "Number of structure pairs (experimental)                        11964546  \n",
       "Number of kinases                                                    288  \n",
       "Number of kinase pairs (theory)                                    41616  \n",
       "Number of kinase pairs (experimental)                              41507  "
      ]
     },
     "execution_count": 42,
     "metadata": {},
     "output_type": "execute_result"
    }
   ],
   "source": [
    "n_structures = (\n",
    "    pd.concat([structure_distances[\"structure.1\"], structure_distances[\"structure.2\"]])\n",
    "    .unique()\n",
    "    .shape[0]\n",
    ")\n",
    "n_kinases = (\n",
    "    pd.concat([structure_distances[\"kinase.1\"], structure_distances[\"kinase.2\"]]).unique().shape[0]\n",
    ")\n",
    "n_structures_filtered = (\n",
    "    pd.concat(\n",
    "        [structure_distances_filtered[\"structure.1\"], structure_distances_filtered[\"structure.2\"]]\n",
    "    )\n",
    "    .unique()\n",
    "    .shape[0]\n",
    ")\n",
    "n_kinases_filtered = (\n",
    "    pd.concat([structure_distances_filtered[\"kinase.1\"], structure_distances_filtered[\"kinase.2\"]])\n",
    "    .unique()\n",
    "    .shape[0]\n",
    ")\n",
    "\n",
    "\n",
    "table = {\n",
    "    \"All distances\": [\n",
    "        n_structures,\n",
    "        n_pairs(n_structures),\n",
    "        structure_distances.shape[0],\n",
    "        n_kinases,\n",
    "        n_pairs(n_kinases),\n",
    "        kinase_distances.shape[0],\n",
    "    ],\n",
    "    \"Only distances matching cutoff\": [\n",
    "        n_structures_filtered,\n",
    "        n_pairs(n_structures_filtered),\n",
    "        structure_distances_filtered.shape[0],\n",
    "        n_kinases_filtered,\n",
    "        n_pairs(n_kinases_filtered),\n",
    "        kinase_distances_filtered.shape[0],\n",
    "    ],\n",
    "}\n",
    "table = pd.DataFrame(\n",
    "    table,\n",
    "    index=[\n",
    "        \"Number of structures\",\n",
    "        \"Number of structure pairs (theory)\",\n",
    "        \"Number of structure pairs (experimental)\",\n",
    "        \"Number of kinases\",\n",
    "        \"Number of kinase pairs (theory)\",\n",
    "        \"Number of kinase pairs (experimental)\",\n",
    "    ],\n",
    ")\n",
    "table"
   ]
  },
  {
   "cell_type": "markdown",
   "metadata": {},
   "source": [
    "## Dual kinases paper dataset\n",
    "\n",
    "https://www.mdpi.com/1420-3049/26/3/629"
   ]
  },
  {
   "cell_type": "code",
   "execution_count": 43,
   "metadata": {},
   "outputs": [],
   "source": [
    "from itertools import combinations_with_replacement"
   ]
  },
  {
   "cell_type": "code",
   "execution_count": 44,
   "metadata": {},
   "outputs": [],
   "source": [
    "KINASES_KLIFS_TO_PAPER = {\n",
    "    \"EGFR\": \"EGFR\",\n",
    "    \"ErbB2\": \"ErbB2\",\n",
    "    \"KDR\": \"VEGFR2\",\n",
    "    \"p110a\": \"PI3K\",\n",
    "    \"BRAF\": \"BRAF\",\n",
    "    \"CDK2\": \"CDK2\",\n",
    "    \"LCK\": \"LCK\",\n",
    "    \"MET\": \"MET\",\n",
    "    \"p38a\": \"p38a\",\n",
    "}"
   ]
  },
  {
   "cell_type": "code",
   "execution_count": 45,
   "metadata": {},
   "outputs": [
    {
     "name": "stdout",
     "output_type": "stream",
     "text": [
      "['EGFR', 'ErbB2', 'KDR', 'p110a', 'BRAF', 'CDK2', 'LCK', 'MET', 'p38a']\n"
     ]
    }
   ],
   "source": [
    "example_kinases = list(KINASES_KLIFS_TO_PAPER.keys())\n",
    "print(example_kinases)\n",
    "example_kinase_pairs = [i for i in combinations_with_replacement(example_kinases, 2)]"
   ]
  },
  {
   "cell_type": "code",
   "execution_count": 46,
   "metadata": {},
   "outputs": [],
   "source": [
    "example_kinase_distances = kinase_distances_filtered[\n",
    "    kinase_distances_filtered.apply(\n",
    "        lambda x: (x[\"kinase.1\"], x[\"kinase.2\"]) in example_kinase_pairs, axis=1\n",
    "    )\n",
    "]"
   ]
  },
  {
   "cell_type": "code",
   "execution_count": 47,
   "metadata": {},
   "outputs": [
    {
     "data": {
      "text/plain": [
       "(35, 7)"
      ]
     },
     "execution_count": 47,
     "metadata": {},
     "output_type": "execute_result"
    }
   ],
   "source": [
    "example_kinase_distances.shape"
   ]
  },
  {
   "cell_type": "code",
   "execution_count": 48,
   "metadata": {},
   "outputs": [
    {
     "data": {
      "text/html": [
       "<div>\n",
       "<style scoped>\n",
       "    .dataframe tbody tr th:only-of-type {\n",
       "        vertical-align: middle;\n",
       "    }\n",
       "\n",
       "    .dataframe tbody tr th {\n",
       "        vertical-align: top;\n",
       "    }\n",
       "\n",
       "    .dataframe thead th {\n",
       "        text-align: right;\n",
       "    }\n",
       "</style>\n",
       "<table border=\"1\" class=\"dataframe\">\n",
       "  <thead>\n",
       "    <tr style=\"text-align: right;\">\n",
       "      <th>kinase.2</th>\n",
       "      <th>EGFR</th>\n",
       "      <th>ErbB2</th>\n",
       "      <th>KDR</th>\n",
       "      <th>p110a</th>\n",
       "      <th>BRAF</th>\n",
       "      <th>CDK2</th>\n",
       "      <th>LCK</th>\n",
       "      <th>MET</th>\n",
       "      <th>p38a</th>\n",
       "    </tr>\n",
       "    <tr>\n",
       "      <th>kinase.1</th>\n",
       "      <th></th>\n",
       "      <th></th>\n",
       "      <th></th>\n",
       "      <th></th>\n",
       "      <th></th>\n",
       "      <th></th>\n",
       "      <th></th>\n",
       "      <th></th>\n",
       "      <th></th>\n",
       "    </tr>\n",
       "  </thead>\n",
       "  <tbody>\n",
       "    <tr>\n",
       "      <th>EGFR</th>\n",
       "      <td>0.085393</td>\n",
       "      <td>0.152305</td>\n",
       "      <td>0.198817</td>\n",
       "      <td>0.390376</td>\n",
       "      <td>NaN</td>\n",
       "      <td>NaN</td>\n",
       "      <td>0.200213</td>\n",
       "      <td>0.234168</td>\n",
       "      <td>0.260284</td>\n",
       "    </tr>\n",
       "    <tr>\n",
       "      <th>ErbB2</th>\n",
       "      <td>NaN</td>\n",
       "      <td>0.131087</td>\n",
       "      <td>0.242638</td>\n",
       "      <td>0.382840</td>\n",
       "      <td>NaN</td>\n",
       "      <td>NaN</td>\n",
       "      <td>0.258612</td>\n",
       "      <td>0.245468</td>\n",
       "      <td>0.286683</td>\n",
       "    </tr>\n",
       "    <tr>\n",
       "      <th>KDR</th>\n",
       "      <td>NaN</td>\n",
       "      <td>NaN</td>\n",
       "      <td>0.063191</td>\n",
       "      <td>0.396491</td>\n",
       "      <td>NaN</td>\n",
       "      <td>NaN</td>\n",
       "      <td>0.203631</td>\n",
       "      <td>0.206863</td>\n",
       "      <td>0.240895</td>\n",
       "    </tr>\n",
       "    <tr>\n",
       "      <th>p110a</th>\n",
       "      <td>NaN</td>\n",
       "      <td>NaN</td>\n",
       "      <td>NaN</td>\n",
       "      <td>0.051344</td>\n",
       "      <td>NaN</td>\n",
       "      <td>NaN</td>\n",
       "      <td>NaN</td>\n",
       "      <td>NaN</td>\n",
       "      <td>0.396006</td>\n",
       "    </tr>\n",
       "    <tr>\n",
       "      <th>BRAF</th>\n",
       "      <td>NaN</td>\n",
       "      <td>NaN</td>\n",
       "      <td>NaN</td>\n",
       "      <td>NaN</td>\n",
       "      <td>0.105909</td>\n",
       "      <td>0.264240</td>\n",
       "      <td>0.247116</td>\n",
       "      <td>0.262823</td>\n",
       "      <td>0.275735</td>\n",
       "    </tr>\n",
       "    <tr>\n",
       "      <th>CDK2</th>\n",
       "      <td>NaN</td>\n",
       "      <td>NaN</td>\n",
       "      <td>NaN</td>\n",
       "      <td>NaN</td>\n",
       "      <td>NaN</td>\n",
       "      <td>0.065616</td>\n",
       "      <td>0.250620</td>\n",
       "      <td>0.245666</td>\n",
       "      <td>0.234746</td>\n",
       "    </tr>\n",
       "    <tr>\n",
       "      <th>LCK</th>\n",
       "      <td>NaN</td>\n",
       "      <td>NaN</td>\n",
       "      <td>NaN</td>\n",
       "      <td>NaN</td>\n",
       "      <td>NaN</td>\n",
       "      <td>NaN</td>\n",
       "      <td>0.038409</td>\n",
       "      <td>0.238275</td>\n",
       "      <td>0.250528</td>\n",
       "    </tr>\n",
       "    <tr>\n",
       "      <th>MET</th>\n",
       "      <td>NaN</td>\n",
       "      <td>NaN</td>\n",
       "      <td>NaN</td>\n",
       "      <td>NaN</td>\n",
       "      <td>NaN</td>\n",
       "      <td>NaN</td>\n",
       "      <td>NaN</td>\n",
       "      <td>0.095704</td>\n",
       "      <td>0.277871</td>\n",
       "    </tr>\n",
       "    <tr>\n",
       "      <th>p38a</th>\n",
       "      <td>NaN</td>\n",
       "      <td>NaN</td>\n",
       "      <td>NaN</td>\n",
       "      <td>NaN</td>\n",
       "      <td>NaN</td>\n",
       "      <td>NaN</td>\n",
       "      <td>NaN</td>\n",
       "      <td>NaN</td>\n",
       "      <td>0.095770</td>\n",
       "    </tr>\n",
       "  </tbody>\n",
       "</table>\n",
       "</div>"
      ],
      "text/plain": [
       "kinase.2      EGFR     ErbB2       KDR     p110a      BRAF      CDK2  \\\n",
       "kinase.1                                                               \n",
       "EGFR      0.085393  0.152305  0.198817  0.390376       NaN       NaN   \n",
       "ErbB2          NaN  0.131087  0.242638  0.382840       NaN       NaN   \n",
       "KDR            NaN       NaN  0.063191  0.396491       NaN       NaN   \n",
       "p110a          NaN       NaN       NaN  0.051344       NaN       NaN   \n",
       "BRAF           NaN       NaN       NaN       NaN  0.105909  0.264240   \n",
       "CDK2           NaN       NaN       NaN       NaN       NaN  0.065616   \n",
       "LCK            NaN       NaN       NaN       NaN       NaN       NaN   \n",
       "MET            NaN       NaN       NaN       NaN       NaN       NaN   \n",
       "p38a           NaN       NaN       NaN       NaN       NaN       NaN   \n",
       "\n",
       "kinase.2       LCK       MET      p38a  \n",
       "kinase.1                                \n",
       "EGFR      0.200213  0.234168  0.260284  \n",
       "ErbB2     0.258612  0.245468  0.286683  \n",
       "KDR       0.203631  0.206863  0.240895  \n",
       "p110a          NaN       NaN  0.396006  \n",
       "BRAF      0.247116  0.262823  0.275735  \n",
       "CDK2      0.250620  0.245666  0.234746  \n",
       "LCK       0.038409  0.238275  0.250528  \n",
       "MET            NaN  0.095704  0.277871  \n",
       "p38a           NaN       NaN  0.095770  "
      ]
     },
     "execution_count": 48,
     "metadata": {},
     "output_type": "execute_result"
    }
   ],
   "source": [
    "example_kinase_matrix = example_kinase_distances.pivot(\"kinase.1\", \"kinase.2\", \"distance\")\n",
    "example_kinase_matrix = example_kinase_matrix.loc[example_kinases, example_kinases]\n",
    "example_kinase_matrix"
   ]
  },
  {
   "cell_type": "code",
   "execution_count": 49,
   "metadata": {},
   "outputs": [
    {
     "data": {
      "text/html": [
       "<div>\n",
       "<style scoped>\n",
       "    .dataframe tbody tr th:only-of-type {\n",
       "        vertical-align: middle;\n",
       "    }\n",
       "\n",
       "    .dataframe tbody tr th {\n",
       "        vertical-align: top;\n",
       "    }\n",
       "\n",
       "    .dataframe thead th {\n",
       "        text-align: right;\n",
       "    }\n",
       "</style>\n",
       "<table border=\"1\" class=\"dataframe\">\n",
       "  <thead>\n",
       "    <tr style=\"text-align: right;\">\n",
       "      <th></th>\n",
       "      <th>EGFR</th>\n",
       "      <th>ErbB2</th>\n",
       "      <th>VEGFR2</th>\n",
       "      <th>PI3K</th>\n",
       "      <th>BRAF</th>\n",
       "      <th>CDK2</th>\n",
       "      <th>LCK</th>\n",
       "      <th>MET</th>\n",
       "      <th>p38a</th>\n",
       "    </tr>\n",
       "  </thead>\n",
       "  <tbody>\n",
       "    <tr>\n",
       "      <th>EGFR</th>\n",
       "      <td>0.085393</td>\n",
       "      <td>0.152305</td>\n",
       "      <td>0.198817</td>\n",
       "      <td>0.390376</td>\n",
       "      <td>NaN</td>\n",
       "      <td>NaN</td>\n",
       "      <td>0.200213</td>\n",
       "      <td>0.234168</td>\n",
       "      <td>0.260284</td>\n",
       "    </tr>\n",
       "    <tr>\n",
       "      <th>ErbB2</th>\n",
       "      <td>NaN</td>\n",
       "      <td>0.131087</td>\n",
       "      <td>0.242638</td>\n",
       "      <td>0.382840</td>\n",
       "      <td>NaN</td>\n",
       "      <td>NaN</td>\n",
       "      <td>0.258612</td>\n",
       "      <td>0.245468</td>\n",
       "      <td>0.286683</td>\n",
       "    </tr>\n",
       "    <tr>\n",
       "      <th>VEGFR2</th>\n",
       "      <td>NaN</td>\n",
       "      <td>NaN</td>\n",
       "      <td>0.063191</td>\n",
       "      <td>0.396491</td>\n",
       "      <td>NaN</td>\n",
       "      <td>NaN</td>\n",
       "      <td>0.203631</td>\n",
       "      <td>0.206863</td>\n",
       "      <td>0.240895</td>\n",
       "    </tr>\n",
       "    <tr>\n",
       "      <th>PI3K</th>\n",
       "      <td>NaN</td>\n",
       "      <td>NaN</td>\n",
       "      <td>NaN</td>\n",
       "      <td>0.051344</td>\n",
       "      <td>NaN</td>\n",
       "      <td>NaN</td>\n",
       "      <td>NaN</td>\n",
       "      <td>NaN</td>\n",
       "      <td>0.396006</td>\n",
       "    </tr>\n",
       "    <tr>\n",
       "      <th>BRAF</th>\n",
       "      <td>NaN</td>\n",
       "      <td>NaN</td>\n",
       "      <td>NaN</td>\n",
       "      <td>NaN</td>\n",
       "      <td>0.105909</td>\n",
       "      <td>0.264240</td>\n",
       "      <td>0.247116</td>\n",
       "      <td>0.262823</td>\n",
       "      <td>0.275735</td>\n",
       "    </tr>\n",
       "    <tr>\n",
       "      <th>CDK2</th>\n",
       "      <td>NaN</td>\n",
       "      <td>NaN</td>\n",
       "      <td>NaN</td>\n",
       "      <td>NaN</td>\n",
       "      <td>NaN</td>\n",
       "      <td>0.065616</td>\n",
       "      <td>0.250620</td>\n",
       "      <td>0.245666</td>\n",
       "      <td>0.234746</td>\n",
       "    </tr>\n",
       "    <tr>\n",
       "      <th>LCK</th>\n",
       "      <td>NaN</td>\n",
       "      <td>NaN</td>\n",
       "      <td>NaN</td>\n",
       "      <td>NaN</td>\n",
       "      <td>NaN</td>\n",
       "      <td>NaN</td>\n",
       "      <td>0.038409</td>\n",
       "      <td>0.238275</td>\n",
       "      <td>0.250528</td>\n",
       "    </tr>\n",
       "    <tr>\n",
       "      <th>MET</th>\n",
       "      <td>NaN</td>\n",
       "      <td>NaN</td>\n",
       "      <td>NaN</td>\n",
       "      <td>NaN</td>\n",
       "      <td>NaN</td>\n",
       "      <td>NaN</td>\n",
       "      <td>NaN</td>\n",
       "      <td>0.095704</td>\n",
       "      <td>0.277871</td>\n",
       "    </tr>\n",
       "    <tr>\n",
       "      <th>p38a</th>\n",
       "      <td>NaN</td>\n",
       "      <td>NaN</td>\n",
       "      <td>NaN</td>\n",
       "      <td>NaN</td>\n",
       "      <td>NaN</td>\n",
       "      <td>NaN</td>\n",
       "      <td>NaN</td>\n",
       "      <td>NaN</td>\n",
       "      <td>0.095770</td>\n",
       "    </tr>\n",
       "  </tbody>\n",
       "</table>\n",
       "</div>"
      ],
      "text/plain": [
       "            EGFR     ErbB2    VEGFR2      PI3K      BRAF      CDK2       LCK  \\\n",
       "EGFR    0.085393  0.152305  0.198817  0.390376       NaN       NaN  0.200213   \n",
       "ErbB2        NaN  0.131087  0.242638  0.382840       NaN       NaN  0.258612   \n",
       "VEGFR2       NaN       NaN  0.063191  0.396491       NaN       NaN  0.203631   \n",
       "PI3K         NaN       NaN       NaN  0.051344       NaN       NaN       NaN   \n",
       "BRAF         NaN       NaN       NaN       NaN  0.105909  0.264240  0.247116   \n",
       "CDK2         NaN       NaN       NaN       NaN       NaN  0.065616  0.250620   \n",
       "LCK          NaN       NaN       NaN       NaN       NaN       NaN  0.038409   \n",
       "MET          NaN       NaN       NaN       NaN       NaN       NaN       NaN   \n",
       "p38a         NaN       NaN       NaN       NaN       NaN       NaN       NaN   \n",
       "\n",
       "             MET      p38a  \n",
       "EGFR    0.234168  0.260284  \n",
       "ErbB2   0.245468  0.286683  \n",
       "VEGFR2  0.206863  0.240895  \n",
       "PI3K         NaN  0.396006  \n",
       "BRAF    0.262823  0.275735  \n",
       "CDK2    0.245666  0.234746  \n",
       "LCK     0.238275  0.250528  \n",
       "MET     0.095704  0.277871  \n",
       "p38a         NaN  0.095770  "
      ]
     },
     "execution_count": 49,
     "metadata": {},
     "output_type": "execute_result"
    }
   ],
   "source": [
    "example_kinase_matrix.columns = [KINASES_KLIFS_TO_PAPER[i] for i in example_kinase_matrix.columns]\n",
    "example_kinase_matrix.index = [KINASES_KLIFS_TO_PAPER[i] for i in example_kinase_matrix.index]\n",
    "example_kinase_matrix"
   ]
  },
  {
   "cell_type": "code",
   "execution_count": 50,
   "metadata": {},
   "outputs": [
    {
     "data": {
      "image/png": "[encoded data removed]",
      "text/plain": [
       "<Figure size 432x288 with 2 Axes>"
      ]
     },
     "metadata": {
      "needs_background": "light"
     },
     "output_type": "display_data"
    }
   ],
   "source": [
    "sns.heatmap(\n",
    "    example_kinase_matrix,\n",
    "    linewidths=0,\n",
    "    annot=True,\n",
    "    square=True,\n",
    "    cbar_kws={\"label\": \"KiSSim kinase distances\"},\n",
    "    cmap=\"viridis\",\n",
    ")\n",
    "plt.show()"
   ]
  },
  {
   "cell_type": "markdown",
   "metadata": {},
   "source": [
    "Compare to paper (shows similarities; not distances; __so think values inverse__):\n",
    "\n",
    "![](https://www.mdpi.com/molecules/molecules-26-00629/article_deploy/html/images/molecules-26-00629-g002.png)\n",
    "\n",
    "Figure 2. Heat maps of pairwise kinase similarities for the different measures used in this work: (A) ligand profile similarity (LigProfSim); (B) pocket sequence similarity (PocSeqSim); (C) interaction fingerprint similarity (IFPSim); (D) pocket structure similarity (PocStrucSim); and (E) docking rank similarity (DockRankSim) based on the lead-like subset of ZINC. Note that docking was only performed for the five kinases of Profiles 1–4, thus the remaining entries remain empty (white) in the matrix."
   ]
  },
  {
   "cell_type": "code",
   "execution_count": null,
   "metadata": {},
   "outputs": [],
   "source": []
  }
 ],
 "metadata": {
  "kernelspec": {
   "display_name": "Python 3",
   "language": "python",
   "name": "python3"
  },
  "language_info": {
   "codemirror_mode": {
    "name": "ipython",
    "version": 3
   },
   "file_extension": ".py",
   "mimetype": "text/x-python",
   "name": "python",
   "nbconvert_exporter": "python",
   "pygments_lexer": "ipython3",
   "version": "3.9.5"
  }
 },
 "nbformat": 4,
 "nbformat_minor": 4
}
