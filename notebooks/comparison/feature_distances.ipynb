{
 "cells": [
  {
   "cell_type": "markdown",
   "metadata": {},
   "source": [
    "# Feature distances"
   ]
  },
  {
   "cell_type": "code",
   "execution_count": 1,
   "metadata": {},
   "outputs": [
    {
     "data": {
      "application/vnd.jupyter.widget-view+json": {
       "model_id": "40eeafd7b9fd49328c0ddad638afa649",
       "version_major": 2,
       "version_minor": 0
      },
      "text/plain": []
     },
     "metadata": {},
     "output_type": "display_data"
    }
   ],
   "source": [
    "from pathlib import Path\n",
    "\n",
    "import pandas as pd\n",
    "import matplotlib.pyplot as plt\n",
    "\n",
    "from kissim.comparison import FeatureDistancesGenerator"
   ]
  },
  {
   "cell_type": "code",
   "execution_count": 2,
   "metadata": {},
   "outputs": [],
   "source": [
    "HERE = Path(_dh[-1])  # noqa: F821\n",
    "RESULTS = HERE / \"../../results/\""
   ]
  },
  {
   "cell_type": "code",
   "execution_count": 3,
   "metadata": {},
   "outputs": [],
   "source": [
    "plt.style.use(\"seaborn\")"
   ]
  },
  {
   "cell_type": "markdown",
   "metadata": {},
   "source": [
    "## Load feature distances"
   ]
  },
  {
   "cell_type": "code",
   "execution_count": 4,
   "metadata": {},
   "outputs": [
    {
     "name": "stdout",
     "output_type": "stream",
     "text": [
      "12081070\n",
      "CPU times: user 34.2 s, sys: 1.84 s, total: 36 s\n",
      "Wall time: 39.2 s\n"
     ]
    }
   ],
   "source": [
    "%%time\n",
    "feature_distances_generator = FeatureDistancesGenerator.from_csv(RESULTS / \"feature_distances.csv\")\n",
    "print(len(feature_distances_generator.data))"
   ]
  },
  {
   "cell_type": "code",
   "execution_count": 5,
   "metadata": {},
   "outputs": [],
   "source": [
    "columns = [f\"d{i}\" for i in range(1, len(feature_distances_generator.distances[0]) + 1)]\n",
    "distances = pd.DataFrame(feature_distances_generator.distances, columns=columns)"
   ]
  },
  {
   "cell_type": "markdown",
   "metadata": {},
   "source": [
    "## Feature distribution"
   ]
  },
  {
   "cell_type": "code",
   "execution_count": 6,
   "metadata": {},
   "outputs": [
    {
     "data": {
      "image/png": "[encoded data removed]",
      "text/plain": [
       "<Figure size 576x396 with 1 Axes>"
      ]
     },
     "metadata": {},
     "output_type": "display_data"
    }
   ],
   "source": [
    "distances.plot(kind=\"box\", whis=[1, 99]);"
   ]
  },
  {
   "cell_type": "code",
   "execution_count": 7,
   "metadata": {},
   "outputs": [
    {
     "data": {
      "text/plain": [
       "d1          0\n",
       "d2          0\n",
       "d3          0\n",
       "d4          0\n",
       "d5          0\n",
       "d6          0\n",
       "d7          0\n",
       "d8          0\n",
       "d9      44199\n",
       "d10    297985\n",
       "d11     44199\n",
       "d12         0\n",
       "d13         0\n",
       "d14         0\n",
       "d15         0\n",
       "dtype: int64"
      ]
     },
     "execution_count": 7,
     "metadata": {},
     "output_type": "execute_result"
    }
   ],
   "source": [
    "distances.isna().sum()"
   ]
  },
  {
   "cell_type": "code",
   "execution_count": 8,
   "metadata": {},
   "outputs": [
    {
     "data": {
      "text/plain": [
       "0    11749128\n",
       "1      287473\n",
       "2       34497\n",
       "3        9972\n",
       "dtype: int64"
      ]
     },
     "execution_count": 8,
     "metadata": {},
     "output_type": "execute_result"
    }
   ],
   "source": [
    "distances[[\"d9\", \"d10\", \"d11\"]].isna().sum(axis=1).value_counts()"
   ]
  },
  {
   "cell_type": "markdown",
   "metadata": {},
   "source": [
    "## Feature weighting"
   ]
  },
  {
   "cell_type": "code",
   "execution_count": 9,
   "metadata": {},
   "outputs": [],
   "source": [
    "weights_dict = {\n",
    "    \"100\": [1.0 / 8] * 8 + [0] * 4 + [0] * 3,\n",
    "    \"010\": [0] * 8 + [1.0 / 4] * 4 + [0] * 3,\n",
    "    \"001\": [0] * 8 + [0] * 4 + [1.0 / 3] * 3,\n",
    "    \"110\": [0.5 / 8] * 8 + [0.5 / 4] * 4 + [0] * 3,\n",
    "    \"101\": [0.5 / 8] * 8 + [0] * 4 + [0.5 / 3] * 3,\n",
    "    \"011\": [0] * 8 + [0.5 / 4] * 4 + [0.5 / 3] * 3,\n",
    "    \"111\": [1.0 / 3 / 8] * 8 + [1.0 / 3 / 4] * 4 + [1.0 / 3 / 3] * 3,\n",
    "    \"15\": [1 / 15] * 15,\n",
    "}"
   ]
  },
  {
   "cell_type": "code",
   "execution_count": 10,
   "metadata": {},
   "outputs": [],
   "source": [
    "weighted_distances_dict = {}\n",
    "\n",
    "for weights_name, weights in weights_dict.items():\n",
    "    weighted_distances = (\n",
    "        weights[0] * distances[\"d1\"]\n",
    "        + weights[1] * distances[\"d2\"]\n",
    "        + weights[2] * distances[\"d3\"]\n",
    "        + weights[3] * distances[\"d4\"]\n",
    "        + weights[4] * distances[\"d5\"]\n",
    "        + weights[5] * distances[\"d6\"]\n",
    "        + weights[6] * distances[\"d7\"]\n",
    "        + weights[7] * distances[\"d8\"]\n",
    "        + weights[8] * distances[\"d9\"]\n",
    "        + weights[9] * distances[\"d10\"]\n",
    "        + weights[10] * distances[\"d11\"]\n",
    "        + weights[11] * distances[\"d12\"]\n",
    "        + weights[12] * distances[\"d13\"]\n",
    "        + weights[13] * distances[\"d14\"]\n",
    "        + weights[14] * distances[\"d15\"]\n",
    "    )\n",
    "    weighted_distances_dict[weights_name] = weighted_distances\n",
    "\n",
    "weighted_distances_df = pd.DataFrame(weighted_distances_dict)"
   ]
  },
  {
   "cell_type": "code",
   "execution_count": 11,
   "metadata": {},
   "outputs": [
    {
     "data": {
      "text/plain": [
       "(12081070, 8)"
      ]
     },
     "execution_count": 11,
     "metadata": {},
     "output_type": "execute_result"
    }
   ],
   "source": [
    "weighted_distances_df.shape"
   ]
  },
  {
   "cell_type": "code",
   "execution_count": 12,
   "metadata": {},
   "outputs": [
    {
     "data": {
      "image/png": "[encoded data removed]",
      "text/plain": [
       "<Figure size 576x396 with 1 Axes>"
      ]
     },
     "metadata": {},
     "output_type": "display_data"
    }
   ],
   "source": [
    "weighted_distances_df.plot(kind=\"box\", whis=[1, 99]);"
   ]
  }
 ],
 "metadata": {
  "kernelspec": {
   "display_name": "Python 3",
   "language": "python",
   "name": "python3"
  },
  "language_info": {
   "codemirror_mode": {
    "name": "ipython",
    "version": 3
   },
   "file_extension": ".py",
   "mimetype": "text/x-python",
   "name": "python",
   "nbconvert_exporter": "python",
   "pygments_lexer": "ipython3",
   "version": "3.8.6"
  }
 },
 "nbformat": 4,
 "nbformat_minor": 4
}
