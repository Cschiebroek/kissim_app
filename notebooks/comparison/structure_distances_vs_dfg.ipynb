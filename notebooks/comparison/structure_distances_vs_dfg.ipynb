{
 "cells": [
  {
   "cell_type": "markdown",
   "metadata": {},
   "source": [
    "# Can fingerprint distances discriminate DFG conformations?\n",
    "\n",
    "The `kissim` fingerprint encodes the pocket residues' spatial distance to four centers&mdash;the pocket centroid, hinge region, DFG region and front pocket&mdash;and should therefore discriminate between two structures in different conformations; when we compare two structures in *different* conformations the fingerprint distance should be higher than for two structures in *similar* conformations.\n",
    "\n",
    "Let's check if this is true using DFG conformations from KLIFS. Plot distribution of fingerprint distances grouped by in/in, out/out, and in/out pairs.\n",
    "\n",
    "- Use fingerprint distances for structure pairs between all kinases\n",
    "- Use fingerprint distances for structure pairs between the same kinase"
   ]
  },
  {
   "cell_type": "code",
   "execution_count": 1,
   "metadata": {},
   "outputs": [],
   "source": [
    "%load_ext autoreload\n",
    "%autoreload 2"
   ]
  },
  {
   "cell_type": "code",
   "execution_count": 2,
   "metadata": {},
   "outputs": [
    {
     "data": {
      "application/vnd.jupyter.widget-view+json": {
       "model_id": "f74d5fb5fce94e70823027eedb5c886d",
       "version_major": 2,
       "version_minor": 0
      },
      "text/plain": []
     },
     "metadata": {},
     "output_type": "display_data"
    }
   ],
   "source": [
    "from pathlib import Path\n",
    "\n",
    "import pandas as pd\n",
    "import matplotlib.pyplot as plt\n",
    "from IPython.display import display, Markdown\n",
    "from opencadd.databases.klifs import setup_remote\n",
    "from kissim.comparison import FingerprintDistanceGenerator\n",
    "\n",
    "from src.definitions import COVERAGE_CUTOFF"
   ]
  },
  {
   "cell_type": "code",
   "execution_count": 3,
   "metadata": {},
   "outputs": [],
   "source": [
    "HERE = Path(_dh[-1])  # noqa: F821\n",
    "DATA = HERE / \"../../results/\""
   ]
  },
  {
   "cell_type": "code",
   "execution_count": 4,
   "metadata": {},
   "outputs": [],
   "source": [
    "plt.style.use(\"seaborn\")"
   ]
  },
  {
   "cell_type": "markdown",
   "metadata": {},
   "source": [
    "## Load fingerprint distances with sufficient coverage\n",
    "\n",
    "Choose fingerprint distances that are based on spatial distances only (**weighting scheme: 010**) and that are based on a sufficient pairwise fingerprint bit coverage (default: `COVERAGE_CUTOFF`)."
   ]
  },
  {
   "cell_type": "code",
   "execution_count": 5,
   "metadata": {},
   "outputs": [
    {
     "data": {
      "text/plain": [
       "0.8"
      ]
     },
     "execution_count": 5,
     "metadata": {},
     "output_type": "execute_result"
    }
   ],
   "source": [
    "COVERAGE_CUTOFF"
   ]
  },
  {
   "cell_type": "code",
   "execution_count": 6,
   "metadata": {},
   "outputs": [
    {
     "name": "stdout",
     "output_type": "stream",
     "text": [
      "Number of kinases: 292\n",
      "Number of structures: 5222\n",
      "Number of structure pairs: 13632031\n",
      "Number of structure pairs: 13236869\n"
     ]
    },
    {
     "data": {
      "text/html": [
       "<div>\n",
       "<style scoped>\n",
       "    .dataframe tbody tr th:only-of-type {\n",
       "        vertical-align: middle;\n",
       "    }\n",
       "\n",
       "    .dataframe tbody tr th {\n",
       "        vertical-align: top;\n",
       "    }\n",
       "\n",
       "    .dataframe thead th {\n",
       "        text-align: right;\n",
       "    }\n",
       "</style>\n",
       "<table border=\"1\" class=\"dataframe\">\n",
       "  <thead>\n",
       "    <tr style=\"text-align: right;\">\n",
       "      <th></th>\n",
       "      <th>structure.1</th>\n",
       "      <th>structure.2</th>\n",
       "      <th>kinase.1</th>\n",
       "      <th>kinase.2</th>\n",
       "      <th>distance</th>\n",
       "      <th>bit_coverage</th>\n",
       "    </tr>\n",
       "  </thead>\n",
       "  <tbody>\n",
       "    <tr>\n",
       "      <th>0</th>\n",
       "      <td>3833</td>\n",
       "      <td>6679</td>\n",
       "      <td>AAK1</td>\n",
       "      <td>AAK1</td>\n",
       "      <td>0.053907</td>\n",
       "      <td>1.0</td>\n",
       "    </tr>\n",
       "    <tr>\n",
       "      <th>1</th>\n",
       "      <td>3833</td>\n",
       "      <td>7156</td>\n",
       "      <td>AAK1</td>\n",
       "      <td>AAK1</td>\n",
       "      <td>0.065987</td>\n",
       "      <td>1.0</td>\n",
       "    </tr>\n",
       "    <tr>\n",
       "      <th>2</th>\n",
       "      <td>3833</td>\n",
       "      <td>1086</td>\n",
       "      <td>AAK1</td>\n",
       "      <td>ABL1</td>\n",
       "      <td>0.140360</td>\n",
       "      <td>1.0</td>\n",
       "    </tr>\n",
       "    <tr>\n",
       "      <th>3</th>\n",
       "      <td>3833</td>\n",
       "      <td>1054</td>\n",
       "      <td>AAK1</td>\n",
       "      <td>ABL1</td>\n",
       "      <td>0.149352</td>\n",
       "      <td>1.0</td>\n",
       "    </tr>\n",
       "    <tr>\n",
       "      <th>4</th>\n",
       "      <td>3833</td>\n",
       "      <td>1090</td>\n",
       "      <td>AAK1</td>\n",
       "      <td>ABL1</td>\n",
       "      <td>0.126901</td>\n",
       "      <td>1.0</td>\n",
       "    </tr>\n",
       "  </tbody>\n",
       "</table>\n",
       "</div>"
      ],
      "text/plain": [
       "   structure.1  structure.2 kinase.1 kinase.2  distance  bit_coverage\n",
       "0         3833         6679     AAK1     AAK1  0.053907           1.0\n",
       "1         3833         7156     AAK1     AAK1  0.065987           1.0\n",
       "2         3833         1086     AAK1     ABL1  0.140360           1.0\n",
       "3         3833         1054     AAK1     ABL1  0.149352           1.0\n",
       "4         3833         1090     AAK1     ABL1  0.126901           1.0"
      ]
     },
     "execution_count": 6,
     "metadata": {},
     "output_type": "execute_result"
    }
   ],
   "source": [
    "# Set path\n",
    "fingerprint_distance_file = DATA / \"fingerprint_distances_010.csv\"\n",
    "# Load data\n",
    "fingerprint_distance_generator = FingerprintDistanceGenerator.from_csv(fingerprint_distance_file)\n",
    "print(f\"Number of kinases: {len(fingerprint_distance_generator.kinase_ids)}\")\n",
    "print(f\"Number of structures: {len(fingerprint_distance_generator.structure_ids)}\")\n",
    "structure_distances = fingerprint_distance_generator.data\n",
    "print(f\"Number of structure pairs: {structure_distances.shape[0]}\")\n",
    "structure_distances = structure_distances[\n",
    "    structure_distances[\"bit_coverage\"] >= COVERAGE_CUTOFF\n",
    "].reset_index(drop=True)\n",
    "print(f\"Number of structure pairs: {structure_distances.shape[0]}\")\n",
    "structure_distances.head()"
   ]
  },
  {
   "cell_type": "markdown",
   "metadata": {},
   "source": [
    "## Add DFG conformation\n",
    "\n",
    "Add DFG conformation from KLIFS to each structure pair."
   ]
  },
  {
   "cell_type": "code",
   "execution_count": 7,
   "metadata": {},
   "outputs": [
    {
     "name": "stdout",
     "output_type": "stream",
     "text": [
      "CPU times: user 1min 24s, sys: 435 ms, total: 1min 24s\n",
      "Wall time: 1min 27s\n"
     ]
    },
    {
     "data": {
      "text/html": [
       "<div>\n",
       "<style scoped>\n",
       "    .dataframe tbody tr th:only-of-type {\n",
       "        vertical-align: middle;\n",
       "    }\n",
       "\n",
       "    .dataframe tbody tr th {\n",
       "        vertical-align: top;\n",
       "    }\n",
       "\n",
       "    .dataframe thead th {\n",
       "        text-align: right;\n",
       "    }\n",
       "</style>\n",
       "<table border=\"1\" class=\"dataframe\">\n",
       "  <thead>\n",
       "    <tr style=\"text-align: right;\">\n",
       "      <th></th>\n",
       "      <th>structure.1</th>\n",
       "      <th>structure.2</th>\n",
       "      <th>kinase.1</th>\n",
       "      <th>kinase.2</th>\n",
       "      <th>distance</th>\n",
       "      <th>bit_coverage</th>\n",
       "      <th>dfg.1</th>\n",
       "      <th>dfg.2</th>\n",
       "    </tr>\n",
       "  </thead>\n",
       "  <tbody>\n",
       "    <tr>\n",
       "      <th>0</th>\n",
       "      <td>3833</td>\n",
       "      <td>6679</td>\n",
       "      <td>AAK1</td>\n",
       "      <td>AAK1</td>\n",
       "      <td>0.053907</td>\n",
       "      <td>1.0</td>\n",
       "      <td>in</td>\n",
       "      <td>in</td>\n",
       "    </tr>\n",
       "    <tr>\n",
       "      <th>1</th>\n",
       "      <td>3833</td>\n",
       "      <td>7156</td>\n",
       "      <td>AAK1</td>\n",
       "      <td>AAK1</td>\n",
       "      <td>0.065987</td>\n",
       "      <td>1.0</td>\n",
       "      <td>in</td>\n",
       "      <td>in</td>\n",
       "    </tr>\n",
       "    <tr>\n",
       "      <th>2</th>\n",
       "      <td>3833</td>\n",
       "      <td>1086</td>\n",
       "      <td>AAK1</td>\n",
       "      <td>ABL1</td>\n",
       "      <td>0.140360</td>\n",
       "      <td>1.0</td>\n",
       "      <td>in</td>\n",
       "      <td>out-like</td>\n",
       "    </tr>\n",
       "    <tr>\n",
       "      <th>3</th>\n",
       "      <td>3833</td>\n",
       "      <td>1054</td>\n",
       "      <td>AAK1</td>\n",
       "      <td>ABL1</td>\n",
       "      <td>0.149352</td>\n",
       "      <td>1.0</td>\n",
       "      <td>in</td>\n",
       "      <td>out</td>\n",
       "    </tr>\n",
       "    <tr>\n",
       "      <th>4</th>\n",
       "      <td>3833</td>\n",
       "      <td>1090</td>\n",
       "      <td>AAK1</td>\n",
       "      <td>ABL1</td>\n",
       "      <td>0.126901</td>\n",
       "      <td>1.0</td>\n",
       "      <td>in</td>\n",
       "      <td>in</td>\n",
       "    </tr>\n",
       "  </tbody>\n",
       "</table>\n",
       "</div>"
      ],
      "text/plain": [
       "   structure.1  structure.2 kinase.1 kinase.2  distance  bit_coverage dfg.1  \\\n",
       "0         3833         6679     AAK1     AAK1  0.053907           1.0    in   \n",
       "1         3833         7156     AAK1     AAK1  0.065987           1.0    in   \n",
       "2         3833         1086     AAK1     ABL1  0.140360           1.0    in   \n",
       "3         3833         1054     AAK1     ABL1  0.149352           1.0    in   \n",
       "4         3833         1090     AAK1     ABL1  0.126901           1.0    in   \n",
       "\n",
       "      dfg.2  \n",
       "0        in  \n",
       "1        in  \n",
       "2  out-like  \n",
       "3       out  \n",
       "4        in  "
      ]
     },
     "execution_count": 7,
     "metadata": {},
     "output_type": "execute_result"
    }
   ],
   "source": [
    "%%time\n",
    "klifs_session = setup_remote()\n",
    "structures = klifs_session.structures.all_structures()\n",
    "dfg = structures.set_index(\"structure.klifs_id\")[\"structure.dfg\"]\n",
    "structure_distances[\"dfg.1\"] = structure_distances[\"structure.1\"].apply(lambda x: dfg[x])\n",
    "structure_distances[\"dfg.2\"] = structure_distances[\"structure.2\"].apply(lambda x: dfg[x])\n",
    "structure_distances.head()"
   ]
  },
  {
   "cell_type": "markdown",
   "metadata": {},
   "source": [
    "## Plot DFG conformation pairs\n",
    "\n",
    "Group the structure pairs by DFG conformation pairs&mdash;in/in, out/out, in/out&mdash;and plot their fingerprint distance distributions."
   ]
  },
  {
   "cell_type": "code",
   "execution_count": 8,
   "metadata": {},
   "outputs": [],
   "source": [
    "def structure_distances_by_dfg_conformation_pairs(structure_distances):\n",
    "    \"\"\"Distances for all, in/in, out/out, and in/out structure pairs.\"\"\"\n",
    "\n",
    "    dfg_all = structure_distances[\"distance\"]\n",
    "    dfg_in_in = structure_distances[\n",
    "        (structure_distances[\"dfg.1\"] == \"in\") & (structure_distances[\"dfg.2\"] == \"in\")\n",
    "    ][\"distance\"]\n",
    "    dfg_out_out = structure_distances[\n",
    "        (structure_distances[\"dfg.1\"] == \"out\") & (structure_distances[\"dfg.2\"] == \"out\")\n",
    "    ][\"distance\"]\n",
    "    dfg_in_out = structure_distances[\n",
    "        ((structure_distances[\"dfg.1\"] == \"in\") & (structure_distances[\"dfg.2\"] == \"out\"))\n",
    "        | ((structure_distances[\"dfg.1\"] == \"out\") & (structure_distances[\"dfg.2\"] == \"in\"))\n",
    "    ][\"distance\"]\n",
    "\n",
    "    structure_distances_dfg = pd.DataFrame(\n",
    "        {\"all\": dfg_all, \"in/in\": dfg_in_in, \"out/out\": dfg_out_out, \"in/out\": dfg_in_out}\n",
    "    )\n",
    "    structure_distances_dfg = pd.DataFrame(structure_distances_dfg)\n",
    "\n",
    "    return structure_distances_dfg"
   ]
  },
  {
   "cell_type": "code",
   "execution_count": 9,
   "metadata": {},
   "outputs": [],
   "source": [
    "def plot_structure_distances_by_dfg_conformation_pairs(structure_distances):\n",
    "    \"\"\"Plot distribution of structure distances per DFG conformation pair.\"\"\"\n",
    "\n",
    "    # Data\n",
    "    structure_distances_dfg = structure_distances_by_dfg_conformation_pairs(structure_distances)\n",
    "    print(\"Number of structure pairs per conformation pair:\")\n",
    "    print(structure_distances_dfg.notna().sum())\n",
    "\n",
    "    # Boxplot\n",
    "    structure_distances_dfg.plot(\n",
    "        kind=\"box\", title=\"Conformation dependent structure pair distances\"\n",
    "    )\n",
    "    plt.show()\n",
    "\n",
    "    # Stats\n",
    "    display(structure_distances_dfg.describe())"
   ]
  },
  {
   "cell_type": "markdown",
   "metadata": {},
   "source": [
    "### All structures\n",
    "\n",
    "Use fingerprint distances for structure pairs between all kinases."
   ]
  },
  {
   "cell_type": "code",
   "execution_count": 10,
   "metadata": {},
   "outputs": [
    {
     "name": "stdout",
     "output_type": "stream",
     "text": [
      "Number of structure pairs per conformation pair:\n",
      "all        13236869\n",
      "in/in       9889372\n",
      "out/out      103124\n",
      "in/out      2023285\n",
      "dtype: int64\n"
     ]
    },
    {
     "data": {
      "image/png": "[encoded data removed]",
      "text/plain": [
       "<Figure size 576x396 with 1 Axes>"
      ]
     },
     "metadata": {},
     "output_type": "display_data"
    },
    {
     "data": {
      "text/html": [
       "<div>\n",
       "<style scoped>\n",
       "    .dataframe tbody tr th:only-of-type {\n",
       "        vertical-align: middle;\n",
       "    }\n",
       "\n",
       "    .dataframe tbody tr th {\n",
       "        vertical-align: top;\n",
       "    }\n",
       "\n",
       "    .dataframe thead th {\n",
       "        text-align: right;\n",
       "    }\n",
       "</style>\n",
       "<table border=\"1\" class=\"dataframe\">\n",
       "  <thead>\n",
       "    <tr style=\"text-align: right;\">\n",
       "      <th></th>\n",
       "      <th>all</th>\n",
       "      <th>in/in</th>\n",
       "      <th>out/out</th>\n",
       "      <th>in/out</th>\n",
       "    </tr>\n",
       "  </thead>\n",
       "  <tbody>\n",
       "    <tr>\n",
       "      <th>count</th>\n",
       "      <td>1.323687e+07</td>\n",
       "      <td>9.889372e+06</td>\n",
       "      <td>103124.000000</td>\n",
       "      <td>2.023285e+06</td>\n",
       "    </tr>\n",
       "    <tr>\n",
       "      <th>mean</th>\n",
       "      <td>1.523262e-01</td>\n",
       "      <td>1.495868e-01</td>\n",
       "      <td>0.136420</td>\n",
       "      <td>1.604700e-01</td>\n",
       "    </tr>\n",
       "    <tr>\n",
       "      <th>std</th>\n",
       "      <td>5.115911e-02</td>\n",
       "      <td>5.164462e-02</td>\n",
       "      <td>0.054687</td>\n",
       "      <td>4.748242e-02</td>\n",
       "    </tr>\n",
       "    <tr>\n",
       "      <th>min</th>\n",
       "      <td>0.000000e+00</td>\n",
       "      <td>0.000000e+00</td>\n",
       "      <td>0.000000</td>\n",
       "      <td>1.784707e-02</td>\n",
       "    </tr>\n",
       "    <tr>\n",
       "      <th>25%</th>\n",
       "      <td>1.171413e-01</td>\n",
       "      <td>1.129086e-01</td>\n",
       "      <td>0.104026</td>\n",
       "      <td>1.280362e-01</td>\n",
       "    </tr>\n",
       "    <tr>\n",
       "      <th>50%</th>\n",
       "      <td>1.471836e-01</td>\n",
       "      <td>1.451464e-01</td>\n",
       "      <td>0.124712</td>\n",
       "      <td>1.519613e-01</td>\n",
       "    </tr>\n",
       "    <tr>\n",
       "      <th>75%</th>\n",
       "      <td>1.798548e-01</td>\n",
       "      <td>1.787767e-01</td>\n",
       "      <td>0.158204</td>\n",
       "      <td>1.820236e-01</td>\n",
       "    </tr>\n",
       "    <tr>\n",
       "      <th>max</th>\n",
       "      <td>5.353785e-01</td>\n",
       "      <td>5.353785e-01</td>\n",
       "      <td>0.422093</td>\n",
       "      <td>4.958527e-01</td>\n",
       "    </tr>\n",
       "  </tbody>\n",
       "</table>\n",
       "</div>"
      ],
      "text/plain": [
       "                all         in/in        out/out        in/out\n",
       "count  1.323687e+07  9.889372e+06  103124.000000  2.023285e+06\n",
       "mean   1.523262e-01  1.495868e-01       0.136420  1.604700e-01\n",
       "std    5.115911e-02  5.164462e-02       0.054687  4.748242e-02\n",
       "min    0.000000e+00  0.000000e+00       0.000000  1.784707e-02\n",
       "25%    1.171413e-01  1.129086e-01       0.104026  1.280362e-01\n",
       "50%    1.471836e-01  1.451464e-01       0.124712  1.519613e-01\n",
       "75%    1.798548e-01  1.787767e-01       0.158204  1.820236e-01\n",
       "max    5.353785e-01  5.353785e-01       0.422093  4.958527e-01"
      ]
     },
     "metadata": {},
     "output_type": "display_data"
    }
   ],
   "source": [
    "plot_structure_distances_by_dfg_conformation_pairs(structure_distances)"
   ]
  },
  {
   "cell_type": "markdown",
   "metadata": {},
   "source": [
    "<div class=\"alert alert-block alert-info\">\n",
    "\n",
    "When including all kinases at the same time, the distribution of fingerprint distances is similar for structure pairs with the same DFG conformations (in/in and out/out) and different DFG conformations (in/out). \n",
    "    \n",
    "The fingerprint seems not to discriminate DFG-conformations on a kinome-wide level, maybe because the encoded spatial information is not restricted to only DFG conformation features. We may see a disciminative effect when comparing structures for a single kinase.\n",
    "\n",
    "</div>"
   ]
  },
  {
   "cell_type": "markdown",
   "metadata": {},
   "source": [
    "### Structures for one kinase\n",
    "\n",
    "Use fingerprint distances for structure pairs between the same kinase; use only kinases that have a sufficient number of structures in DFG-in and DFG-out conformations (default: 10). "
   ]
  },
  {
   "cell_type": "code",
   "execution_count": 11,
   "metadata": {},
   "outputs": [],
   "source": [
    "def kinases_with_high_dfg_in_out_coverage(structure_distances, dfg_structure_coverage_cutoff=10):\n",
    "    \"\"\"Given a dataset, get kinases with a threshold DFG in/out coverage.\"\"\"\n",
    "\n",
    "    # Get structure KLIFS IDs in our dataset\n",
    "    structure_klifs_ids = (\n",
    "        pd.concat(\n",
    "            [\n",
    "                structure_distances[\"structure.1\"].drop_duplicates(),\n",
    "                structure_distances[\"structure.2\"].drop_duplicates(),\n",
    "            ]\n",
    "        )\n",
    "        .drop_duplicates()\n",
    "        .to_list()\n",
    "    )\n",
    "    print(f\"Number of structures: {len(structure_klifs_ids)}\")\n",
    "\n",
    "    # Get structural metadata\n",
    "    klifs_session = setup_remote()\n",
    "    structures = klifs_session.structures.all_structures()\n",
    "    structures = structures[structures[\"structure.klifs_id\"].isin(structure_klifs_ids)]\n",
    "\n",
    "    # Count number of structures per kinase and conformation\n",
    "    dfg_by_kinase = structures.groupby(\"kinase.klifs_name\").apply(\n",
    "        lambda x: x[\"structure.dfg\"].value_counts()\n",
    "    )\n",
    "    dfg_by_kinase = dfg_by_kinase.reset_index()\n",
    "    dfg_by_kinase.columns = [\"kinase\", \"dfg\", \"n_structures\"]\n",
    "\n",
    "    # Keep only in/out rows\n",
    "    dfg_by_kinase = dfg_by_kinase[(dfg_by_kinase[\"dfg\"] == \"in\") | (dfg_by_kinase[\"dfg\"] == \"out\")]\n",
    "\n",
    "    # Keep only rows with at least xxx structures\n",
    "    dfg_by_kinase = dfg_by_kinase[dfg_by_kinase[\"n_structures\"] >= dfg_structure_coverage_cutoff]\n",
    "\n",
    "    # Keep only kinases with both in/out conformations\n",
    "    n_conformations_by_kinase = dfg_by_kinase.groupby(\"kinase\").size()\n",
    "    dfg_by_kinase = dfg_by_kinase[\n",
    "        dfg_by_kinase[\"kinase\"].isin(\n",
    "            n_conformations_by_kinase[n_conformations_by_kinase == 2].index\n",
    "        )\n",
    "    ]\n",
    "\n",
    "    return dfg_by_kinase.set_index([\"kinase\", \"dfg\"])"
   ]
  },
  {
   "cell_type": "code",
   "execution_count": 12,
   "metadata": {},
   "outputs": [
    {
     "name": "stdout",
     "output_type": "stream",
     "text": [
      "Number of structures: 5147\n"
     ]
    },
    {
     "data": {
      "text/html": [
       "<div>\n",
       "<style scoped>\n",
       "    .dataframe tbody tr th:only-of-type {\n",
       "        vertical-align: middle;\n",
       "    }\n",
       "\n",
       "    .dataframe tbody tr th {\n",
       "        vertical-align: top;\n",
       "    }\n",
       "\n",
       "    .dataframe thead th {\n",
       "        text-align: right;\n",
       "    }\n",
       "</style>\n",
       "<table border=\"1\" class=\"dataframe\">\n",
       "  <thead>\n",
       "    <tr style=\"text-align: right;\">\n",
       "      <th></th>\n",
       "      <th></th>\n",
       "      <th>n_structures</th>\n",
       "    </tr>\n",
       "    <tr>\n",
       "      <th>kinase</th>\n",
       "      <th>dfg</th>\n",
       "      <th></th>\n",
       "    </tr>\n",
       "  </thead>\n",
       "  <tbody>\n",
       "    <tr>\n",
       "      <th rowspan=\"2\" valign=\"top\">BRAF</th>\n",
       "      <th>in</th>\n",
       "      <td>59</td>\n",
       "    </tr>\n",
       "    <tr>\n",
       "      <th>out</th>\n",
       "      <td>33</td>\n",
       "    </tr>\n",
       "    <tr>\n",
       "      <th rowspan=\"2\" valign=\"top\">CDK8</th>\n",
       "      <th>in</th>\n",
       "      <td>21</td>\n",
       "    </tr>\n",
       "    <tr>\n",
       "      <th>out</th>\n",
       "      <td>10</td>\n",
       "    </tr>\n",
       "    <tr>\n",
       "      <th rowspan=\"2\" valign=\"top\">EphA2</th>\n",
       "      <th>in</th>\n",
       "      <td>39</td>\n",
       "    </tr>\n",
       "    <tr>\n",
       "      <th>out</th>\n",
       "      <td>17</td>\n",
       "    </tr>\n",
       "    <tr>\n",
       "      <th rowspan=\"2\" valign=\"top\">MET</th>\n",
       "      <th>in</th>\n",
       "      <td>54</td>\n",
       "    </tr>\n",
       "    <tr>\n",
       "      <th>out</th>\n",
       "      <td>16</td>\n",
       "    </tr>\n",
       "    <tr>\n",
       "      <th rowspan=\"2\" valign=\"top\">p38a</th>\n",
       "      <th>in</th>\n",
       "      <td>127</td>\n",
       "    </tr>\n",
       "    <tr>\n",
       "      <th>out</th>\n",
       "      <td>73</td>\n",
       "    </tr>\n",
       "  </tbody>\n",
       "</table>\n",
       "</div>"
      ],
      "text/plain": [
       "            n_structures\n",
       "kinase dfg              \n",
       "BRAF   in             59\n",
       "       out            33\n",
       "CDK8   in             21\n",
       "       out            10\n",
       "EphA2  in             39\n",
       "       out            17\n",
       "MET    in             54\n",
       "       out            16\n",
       "p38a   in            127\n",
       "       out            73"
      ]
     },
     "execution_count": 12,
     "metadata": {},
     "output_type": "execute_result"
    }
   ],
   "source": [
    "dfg_by_kinase = kinases_with_high_dfg_in_out_coverage(\n",
    "    structure_distances, dfg_structure_coverage_cutoff=10\n",
    ")\n",
    "dfg_by_kinase"
   ]
  },
  {
   "cell_type": "code",
   "execution_count": 13,
   "metadata": {},
   "outputs": [
    {
     "data": {
      "text/markdown": [
       "#### BRAF"
      ],
      "text/plain": [
       "<IPython.core.display.Markdown object>"
      ]
     },
     "metadata": {},
     "output_type": "display_data"
    },
    {
     "name": "stdout",
     "output_type": "stream",
     "text": [
      "Number of DFG-in structures: 59\n",
      "Number of DFG-out structures: 33\n",
      "Percentage of DFG-in: 64.13%\n",
      "Number of structure pairs per conformation pair:\n",
      "all        4186\n",
      "in/in      1711\n",
      "out/out     528\n",
      "in/out     1947\n",
      "dtype: int64\n"
     ]
    },
    {
     "data": {
      "image/png": "[encoded data removed]",
      "text/plain": [
       "<Figure size 576x396 with 1 Axes>"
      ]
     },
     "metadata": {},
     "output_type": "display_data"
    },
    {
     "data": {
      "text/html": [
       "<div>\n",
       "<style scoped>\n",
       "    .dataframe tbody tr th:only-of-type {\n",
       "        vertical-align: middle;\n",
       "    }\n",
       "\n",
       "    .dataframe tbody tr th {\n",
       "        vertical-align: top;\n",
       "    }\n",
       "\n",
       "    .dataframe thead th {\n",
       "        text-align: right;\n",
       "    }\n",
       "</style>\n",
       "<table border=\"1\" class=\"dataframe\">\n",
       "  <thead>\n",
       "    <tr style=\"text-align: right;\">\n",
       "      <th></th>\n",
       "      <th>all</th>\n",
       "      <th>in/in</th>\n",
       "      <th>out/out</th>\n",
       "      <th>in/out</th>\n",
       "    </tr>\n",
       "  </thead>\n",
       "  <tbody>\n",
       "    <tr>\n",
       "      <th>count</th>\n",
       "      <td>4186.000000</td>\n",
       "      <td>1711.000000</td>\n",
       "      <td>528.000000</td>\n",
       "      <td>1947.000000</td>\n",
       "    </tr>\n",
       "    <tr>\n",
       "      <th>mean</th>\n",
       "      <td>0.115217</td>\n",
       "      <td>0.100434</td>\n",
       "      <td>0.066160</td>\n",
       "      <td>0.141511</td>\n",
       "    </tr>\n",
       "    <tr>\n",
       "      <th>std</th>\n",
       "      <td>0.044041</td>\n",
       "      <td>0.041935</td>\n",
       "      <td>0.030018</td>\n",
       "      <td>0.029071</td>\n",
       "    </tr>\n",
       "    <tr>\n",
       "      <th>min</th>\n",
       "      <td>0.000000</td>\n",
       "      <td>0.000000</td>\n",
       "      <td>0.020245</td>\n",
       "      <td>0.062493</td>\n",
       "    </tr>\n",
       "    <tr>\n",
       "      <th>25%</th>\n",
       "      <td>0.087432</td>\n",
       "      <td>0.082326</td>\n",
       "      <td>0.039570</td>\n",
       "      <td>0.123676</td>\n",
       "    </tr>\n",
       "    <tr>\n",
       "      <th>50%</th>\n",
       "      <td>0.122221</td>\n",
       "      <td>0.101930</td>\n",
       "      <td>0.060000</td>\n",
       "      <td>0.140936</td>\n",
       "    </tr>\n",
       "    <tr>\n",
       "      <th>75%</th>\n",
       "      <td>0.149824</td>\n",
       "      <td>0.137323</td>\n",
       "      <td>0.088355</td>\n",
       "      <td>0.167770</td>\n",
       "    </tr>\n",
       "    <tr>\n",
       "      <th>max</th>\n",
       "      <td>0.195575</td>\n",
       "      <td>0.171852</td>\n",
       "      <td>0.158807</td>\n",
       "      <td>0.195575</td>\n",
       "    </tr>\n",
       "  </tbody>\n",
       "</table>\n",
       "</div>"
      ],
      "text/plain": [
       "               all        in/in     out/out       in/out\n",
       "count  4186.000000  1711.000000  528.000000  1947.000000\n",
       "mean      0.115217     0.100434    0.066160     0.141511\n",
       "std       0.044041     0.041935    0.030018     0.029071\n",
       "min       0.000000     0.000000    0.020245     0.062493\n",
       "25%       0.087432     0.082326    0.039570     0.123676\n",
       "50%       0.122221     0.101930    0.060000     0.140936\n",
       "75%       0.149824     0.137323    0.088355     0.167770\n",
       "max       0.195575     0.171852    0.158807     0.195575"
      ]
     },
     "metadata": {},
     "output_type": "display_data"
    },
    {
     "data": {
      "text/markdown": [
       "#### CDK8"
      ],
      "text/plain": [
       "<IPython.core.display.Markdown object>"
      ]
     },
     "metadata": {},
     "output_type": "display_data"
    },
    {
     "name": "stdout",
     "output_type": "stream",
     "text": [
      "Number of DFG-in structures: 21\n",
      "Number of DFG-out structures: 10\n",
      "Percentage of DFG-in: 67.74%\n",
      "Number of structure pairs per conformation pair:\n",
      "all        465\n",
      "in/in      210\n",
      "out/out     45\n",
      "in/out     210\n",
      "dtype: int64\n"
     ]
    },
    {
     "data": {
      "image/png": "[encoded data removed]",
      "text/plain": [
       "<Figure size 576x396 with 1 Axes>"
      ]
     },
     "metadata": {},
     "output_type": "display_data"
    },
    {
     "data": {
      "text/html": [
       "<div>\n",
       "<style scoped>\n",
       "    .dataframe tbody tr th:only-of-type {\n",
       "        vertical-align: middle;\n",
       "    }\n",
       "\n",
       "    .dataframe tbody tr th {\n",
       "        vertical-align: top;\n",
       "    }\n",
       "\n",
       "    .dataframe thead th {\n",
       "        text-align: right;\n",
       "    }\n",
       "</style>\n",
       "<table border=\"1\" class=\"dataframe\">\n",
       "  <thead>\n",
       "    <tr style=\"text-align: right;\">\n",
       "      <th></th>\n",
       "      <th>all</th>\n",
       "      <th>in/in</th>\n",
       "      <th>out/out</th>\n",
       "      <th>in/out</th>\n",
       "    </tr>\n",
       "  </thead>\n",
       "  <tbody>\n",
       "    <tr>\n",
       "      <th>count</th>\n",
       "      <td>465.000000</td>\n",
       "      <td>210.000000</td>\n",
       "      <td>45.000000</td>\n",
       "      <td>210.000000</td>\n",
       "    </tr>\n",
       "    <tr>\n",
       "      <th>mean</th>\n",
       "      <td>0.060389</td>\n",
       "      <td>0.043474</td>\n",
       "      <td>0.055098</td>\n",
       "      <td>0.078438</td>\n",
       "    </tr>\n",
       "    <tr>\n",
       "      <th>std</th>\n",
       "      <td>0.025646</td>\n",
       "      <td>0.016153</td>\n",
       "      <td>0.029844</td>\n",
       "      <td>0.019773</td>\n",
       "    </tr>\n",
       "    <tr>\n",
       "      <th>min</th>\n",
       "      <td>0.000000</td>\n",
       "      <td>0.000000</td>\n",
       "      <td>0.015340</td>\n",
       "      <td>0.037885</td>\n",
       "    </tr>\n",
       "    <tr>\n",
       "      <th>25%</th>\n",
       "      <td>0.040096</td>\n",
       "      <td>0.029215</td>\n",
       "      <td>0.028138</td>\n",
       "      <td>0.066106</td>\n",
       "    </tr>\n",
       "    <tr>\n",
       "      <th>50%</th>\n",
       "      <td>0.059706</td>\n",
       "      <td>0.042049</td>\n",
       "      <td>0.054649</td>\n",
       "      <td>0.078363</td>\n",
       "    </tr>\n",
       "    <tr>\n",
       "      <th>75%</th>\n",
       "      <td>0.078025</td>\n",
       "      <td>0.058398</td>\n",
       "      <td>0.073398</td>\n",
       "      <td>0.088176</td>\n",
       "    </tr>\n",
       "    <tr>\n",
       "      <th>max</th>\n",
       "      <td>0.128357</td>\n",
       "      <td>0.076345</td>\n",
       "      <td>0.118087</td>\n",
       "      <td>0.128357</td>\n",
       "    </tr>\n",
       "  </tbody>\n",
       "</table>\n",
       "</div>"
      ],
      "text/plain": [
       "              all       in/in    out/out      in/out\n",
       "count  465.000000  210.000000  45.000000  210.000000\n",
       "mean     0.060389    0.043474   0.055098    0.078438\n",
       "std      0.025646    0.016153   0.029844    0.019773\n",
       "min      0.000000    0.000000   0.015340    0.037885\n",
       "25%      0.040096    0.029215   0.028138    0.066106\n",
       "50%      0.059706    0.042049   0.054649    0.078363\n",
       "75%      0.078025    0.058398   0.073398    0.088176\n",
       "max      0.128357    0.076345   0.118087    0.128357"
      ]
     },
     "metadata": {},
     "output_type": "display_data"
    },
    {
     "data": {
      "text/markdown": [
       "#### EphA2"
      ],
      "text/plain": [
       "<IPython.core.display.Markdown object>"
      ]
     },
     "metadata": {},
     "output_type": "display_data"
    },
    {
     "name": "stdout",
     "output_type": "stream",
     "text": [
      "Number of DFG-in structures: 39\n",
      "Number of DFG-out structures: 17\n",
      "Percentage of DFG-in: 69.64%\n",
      "Number of structure pairs per conformation pair:\n",
      "all        1540\n",
      "in/in       741\n",
      "out/out     136\n",
      "in/out      663\n",
      "dtype: int64\n"
     ]
    },
    {
     "data": {
      "image/png": "[encoded data removed]",
      "text/plain": [
       "<Figure size 576x396 with 1 Axes>"
      ]
     },
     "metadata": {},
     "output_type": "display_data"
    },
    {
     "data": {
      "text/html": [
       "<div>\n",
       "<style scoped>\n",
       "    .dataframe tbody tr th:only-of-type {\n",
       "        vertical-align: middle;\n",
       "    }\n",
       "\n",
       "    .dataframe tbody tr th {\n",
       "        vertical-align: top;\n",
       "    }\n",
       "\n",
       "    .dataframe thead th {\n",
       "        text-align: right;\n",
       "    }\n",
       "</style>\n",
       "<table border=\"1\" class=\"dataframe\">\n",
       "  <thead>\n",
       "    <tr style=\"text-align: right;\">\n",
       "      <th></th>\n",
       "      <th>all</th>\n",
       "      <th>in/in</th>\n",
       "      <th>out/out</th>\n",
       "      <th>in/out</th>\n",
       "    </tr>\n",
       "  </thead>\n",
       "  <tbody>\n",
       "    <tr>\n",
       "      <th>count</th>\n",
       "      <td>1540.000000</td>\n",
       "      <td>741.000000</td>\n",
       "      <td>136.000000</td>\n",
       "      <td>663.000000</td>\n",
       "    </tr>\n",
       "    <tr>\n",
       "      <th>mean</th>\n",
       "      <td>0.083082</td>\n",
       "      <td>0.066447</td>\n",
       "      <td>0.042226</td>\n",
       "      <td>0.110054</td>\n",
       "    </tr>\n",
       "    <tr>\n",
       "      <th>std</th>\n",
       "      <td>0.038612</td>\n",
       "      <td>0.036639</td>\n",
       "      <td>0.032650</td>\n",
       "      <td>0.019149</td>\n",
       "    </tr>\n",
       "    <tr>\n",
       "      <th>min</th>\n",
       "      <td>0.005165</td>\n",
       "      <td>0.005165</td>\n",
       "      <td>0.006354</td>\n",
       "      <td>0.057455</td>\n",
       "    </tr>\n",
       "    <tr>\n",
       "      <th>25%</th>\n",
       "      <td>0.049248</td>\n",
       "      <td>0.039641</td>\n",
       "      <td>0.019124</td>\n",
       "      <td>0.099028</td>\n",
       "    </tr>\n",
       "    <tr>\n",
       "      <th>50%</th>\n",
       "      <td>0.095837</td>\n",
       "      <td>0.058000</td>\n",
       "      <td>0.026719</td>\n",
       "      <td>0.109181</td>\n",
       "    </tr>\n",
       "    <tr>\n",
       "      <th>75%</th>\n",
       "      <td>0.109741</td>\n",
       "      <td>0.097042</td>\n",
       "      <td>0.046460</td>\n",
       "      <td>0.117977</td>\n",
       "    </tr>\n",
       "    <tr>\n",
       "      <th>max</th>\n",
       "      <td>0.196033</td>\n",
       "      <td>0.163264</td>\n",
       "      <td>0.109037</td>\n",
       "      <td>0.196033</td>\n",
       "    </tr>\n",
       "  </tbody>\n",
       "</table>\n",
       "</div>"
      ],
      "text/plain": [
       "               all       in/in     out/out      in/out\n",
       "count  1540.000000  741.000000  136.000000  663.000000\n",
       "mean      0.083082    0.066447    0.042226    0.110054\n",
       "std       0.038612    0.036639    0.032650    0.019149\n",
       "min       0.005165    0.005165    0.006354    0.057455\n",
       "25%       0.049248    0.039641    0.019124    0.099028\n",
       "50%       0.095837    0.058000    0.026719    0.109181\n",
       "75%       0.109741    0.097042    0.046460    0.117977\n",
       "max       0.196033    0.163264    0.109037    0.196033"
      ]
     },
     "metadata": {},
     "output_type": "display_data"
    },
    {
     "data": {
      "text/markdown": [
       "#### MET"
      ],
      "text/plain": [
       "<IPython.core.display.Markdown object>"
      ]
     },
     "metadata": {},
     "output_type": "display_data"
    },
    {
     "name": "stdout",
     "output_type": "stream",
     "text": [
      "Number of DFG-in structures: 54\n",
      "Number of DFG-out structures: 16\n",
      "Percentage of DFG-in: 77.14%\n",
      "Number of structure pairs per conformation pair:\n",
      "all        2556\n",
      "in/in      1431\n",
      "out/out     120\n",
      "in/out      864\n",
      "dtype: int64\n"
     ]
    },
    {
     "data": {
      "image/png": "[encoded data removed]",
      "text/plain": [
       "<Figure size 576x396 with 1 Axes>"
      ]
     },
     "metadata": {},
     "output_type": "display_data"
    },
    {
     "data": {
      "text/html": [
       "<div>\n",
       "<style scoped>\n",
       "    .dataframe tbody tr th:only-of-type {\n",
       "        vertical-align: middle;\n",
       "    }\n",
       "\n",
       "    .dataframe tbody tr th {\n",
       "        vertical-align: top;\n",
       "    }\n",
       "\n",
       "    .dataframe thead th {\n",
       "        text-align: right;\n",
       "    }\n",
       "</style>\n",
       "<table border=\"1\" class=\"dataframe\">\n",
       "  <thead>\n",
       "    <tr style=\"text-align: right;\">\n",
       "      <th></th>\n",
       "      <th>all</th>\n",
       "      <th>in/in</th>\n",
       "      <th>out/out</th>\n",
       "      <th>in/out</th>\n",
       "    </tr>\n",
       "  </thead>\n",
       "  <tbody>\n",
       "    <tr>\n",
       "      <th>count</th>\n",
       "      <td>2556.000000</td>\n",
       "      <td>1431.000000</td>\n",
       "      <td>120.000000</td>\n",
       "      <td>864.000000</td>\n",
       "    </tr>\n",
       "    <tr>\n",
       "      <th>mean</th>\n",
       "      <td>0.110627</td>\n",
       "      <td>0.092511</td>\n",
       "      <td>0.092190</td>\n",
       "      <td>0.143637</td>\n",
       "    </tr>\n",
       "    <tr>\n",
       "      <th>std</th>\n",
       "      <td>0.050592</td>\n",
       "      <td>0.052888</td>\n",
       "      <td>0.051869</td>\n",
       "      <td>0.026834</td>\n",
       "    </tr>\n",
       "    <tr>\n",
       "      <th>min</th>\n",
       "      <td>0.006791</td>\n",
       "      <td>0.006791</td>\n",
       "      <td>0.015164</td>\n",
       "      <td>0.059057</td>\n",
       "    </tr>\n",
       "    <tr>\n",
       "      <th>25%</th>\n",
       "      <td>0.071118</td>\n",
       "      <td>0.046667</td>\n",
       "      <td>0.059204</td>\n",
       "      <td>0.125556</td>\n",
       "    </tr>\n",
       "    <tr>\n",
       "      <th>50%</th>\n",
       "      <td>0.112933</td>\n",
       "      <td>0.079357</td>\n",
       "      <td>0.073624</td>\n",
       "      <td>0.141221</td>\n",
       "    </tr>\n",
       "    <tr>\n",
       "      <th>75%</th>\n",
       "      <td>0.147541</td>\n",
       "      <td>0.120362</td>\n",
       "      <td>0.110035</td>\n",
       "      <td>0.158845</td>\n",
       "    </tr>\n",
       "    <tr>\n",
       "      <th>max</th>\n",
       "      <td>0.257240</td>\n",
       "      <td>0.257240</td>\n",
       "      <td>0.223748</td>\n",
       "      <td>0.252115</td>\n",
       "    </tr>\n",
       "  </tbody>\n",
       "</table>\n",
       "</div>"
      ],
      "text/plain": [
       "               all        in/in     out/out      in/out\n",
       "count  2556.000000  1431.000000  120.000000  864.000000\n",
       "mean      0.110627     0.092511    0.092190    0.143637\n",
       "std       0.050592     0.052888    0.051869    0.026834\n",
       "min       0.006791     0.006791    0.015164    0.059057\n",
       "25%       0.071118     0.046667    0.059204    0.125556\n",
       "50%       0.112933     0.079357    0.073624    0.141221\n",
       "75%       0.147541     0.120362    0.110035    0.158845\n",
       "max       0.257240     0.257240    0.223748    0.252115"
      ]
     },
     "metadata": {},
     "output_type": "display_data"
    },
    {
     "data": {
      "text/markdown": [
       "#### p38a"
      ],
      "text/plain": [
       "<IPython.core.display.Markdown object>"
      ]
     },
     "metadata": {},
     "output_type": "display_data"
    },
    {
     "name": "stdout",
     "output_type": "stream",
     "text": [
      "Number of DFG-in structures: 127\n",
      "Number of DFG-out structures: 73\n",
      "Percentage of DFG-in: 63.5%\n",
      "Number of structure pairs per conformation pair:\n",
      "all        28920\n",
      "in/in       8001\n",
      "out/out     2628\n",
      "in/out      9271\n",
      "dtype: int64\n"
     ]
    },
    {
     "data": {
      "image/png": "[encoded data removed]",
      "text/plain": [
       "<Figure size 576x396 with 1 Axes>"
      ]
     },
     "metadata": {},
     "output_type": "display_data"
    },
    {
     "data": {
      "text/html": [
       "<div>\n",
       "<style scoped>\n",
       "    .dataframe tbody tr th:only-of-type {\n",
       "        vertical-align: middle;\n",
       "    }\n",
       "\n",
       "    .dataframe tbody tr th {\n",
       "        vertical-align: top;\n",
       "    }\n",
       "\n",
       "    .dataframe thead th {\n",
       "        text-align: right;\n",
       "    }\n",
       "</style>\n",
       "<table border=\"1\" class=\"dataframe\">\n",
       "  <thead>\n",
       "    <tr style=\"text-align: right;\">\n",
       "      <th></th>\n",
       "      <th>all</th>\n",
       "      <th>in/in</th>\n",
       "      <th>out/out</th>\n",
       "      <th>in/out</th>\n",
       "    </tr>\n",
       "  </thead>\n",
       "  <tbody>\n",
       "    <tr>\n",
       "      <th>count</th>\n",
       "      <td>28920.000000</td>\n",
       "      <td>8001.000000</td>\n",
       "      <td>2628.000000</td>\n",
       "      <td>9271.000000</td>\n",
       "    </tr>\n",
       "    <tr>\n",
       "      <th>mean</th>\n",
       "      <td>0.104406</td>\n",
       "      <td>0.091855</td>\n",
       "      <td>0.085887</td>\n",
       "      <td>0.114500</td>\n",
       "    </tr>\n",
       "    <tr>\n",
       "      <th>std</th>\n",
       "      <td>0.036447</td>\n",
       "      <td>0.032911</td>\n",
       "      <td>0.032152</td>\n",
       "      <td>0.032063</td>\n",
       "    </tr>\n",
       "    <tr>\n",
       "      <th>min</th>\n",
       "      <td>0.000000</td>\n",
       "      <td>0.011152</td>\n",
       "      <td>0.000000</td>\n",
       "      <td>0.028474</td>\n",
       "    </tr>\n",
       "    <tr>\n",
       "      <th>25%</th>\n",
       "      <td>0.076579</td>\n",
       "      <td>0.066259</td>\n",
       "      <td>0.063702</td>\n",
       "      <td>0.089615</td>\n",
       "    </tr>\n",
       "    <tr>\n",
       "      <th>50%</th>\n",
       "      <td>0.101820</td>\n",
       "      <td>0.089599</td>\n",
       "      <td>0.081348</td>\n",
       "      <td>0.110915</td>\n",
       "    </tr>\n",
       "    <tr>\n",
       "      <th>75%</th>\n",
       "      <td>0.129816</td>\n",
       "      <td>0.115203</td>\n",
       "      <td>0.106921</td>\n",
       "      <td>0.140108</td>\n",
       "    </tr>\n",
       "    <tr>\n",
       "      <th>max</th>\n",
       "      <td>0.263928</td>\n",
       "      <td>0.240757</td>\n",
       "      <td>0.200164</td>\n",
       "      <td>0.252040</td>\n",
       "    </tr>\n",
       "  </tbody>\n",
       "</table>\n",
       "</div>"
      ],
      "text/plain": [
       "                all        in/in      out/out       in/out\n",
       "count  28920.000000  8001.000000  2628.000000  9271.000000\n",
       "mean       0.104406     0.091855     0.085887     0.114500\n",
       "std        0.036447     0.032911     0.032152     0.032063\n",
       "min        0.000000     0.011152     0.000000     0.028474\n",
       "25%        0.076579     0.066259     0.063702     0.089615\n",
       "50%        0.101820     0.089599     0.081348     0.110915\n",
       "75%        0.129816     0.115203     0.106921     0.140108\n",
       "max        0.263928     0.240757     0.200164     0.252040"
      ]
     },
     "metadata": {},
     "output_type": "display_data"
    }
   ],
   "source": [
    "for kinase, dfg in dfg_by_kinase.reset_index().groupby(\"kinase\"):\n",
    "    display(Markdown(f\"#### {kinase}\"))\n",
    "    dfg = dfg.set_index(\"dfg\")\n",
    "    n_dfg_in = dfg.loc[\"in\", \"n_structures\"]\n",
    "    n_dfg_out = dfg.loc[\"out\", \"n_structures\"]\n",
    "    print(f\"Number of DFG-in structures: {n_dfg_in}\")\n",
    "    print(f\"Number of DFG-out structures: {n_dfg_out}\")\n",
    "    dfg_in_percentage = round(n_dfg_in / (n_dfg_in + n_dfg_out) * 100, 2)\n",
    "    print(f\"Percentage of DFG-in: {dfg_in_percentage}%\")\n",
    "    structure_distances_by_kinase = structure_distances[\n",
    "        (structure_distances[\"kinase.1\"] == kinase) & (structure_distances[\"kinase.2\"] == kinase)\n",
    "    ].reset_index(drop=True)\n",
    "    plot_structure_distances_by_dfg_conformation_pairs(structure_distances_by_kinase)"
   ]
  },
  {
   "cell_type": "markdown",
   "metadata": {},
   "source": [
    "<div class=\"alert alert-block alert-info\">\n",
    "\n",
    "We compare here only fingerprint distances for pairs of structures that describe the same kinase. We observe two interesting shifts:\n",
    "    \n",
    "1. The distribution for out/out pairs is overall lower than for in/in pairs. Potential explanations: definitions for DFG-out are stricter than for DFG-in; \"real\" diversity of DFG-out structures could be still unknown due to the lower number of structures for DFG-out than for DFG-in. \n",
    "2. The distribution of different DFG conformations (in/out) is overall higher than for equal DFG conformations (in/in and out/out). The fingerprint can discriminate DFG conformations of the same kinase.\n",
    "\n",
    "</div>"
   ]
  }
 ],
 "metadata": {
  "kernelspec": {
   "display_name": "Python 3",
   "language": "python",
   "name": "python3"
  },
  "language_info": {
   "codemirror_mode": {
    "name": "ipython",
    "version": 3
   },
   "file_extension": ".py",
   "mimetype": "text/x-python",
   "name": "python",
   "nbconvert_exporter": "python",
   "pygments_lexer": "ipython3",
   "version": "3.9.5"
  },
  "widgets": {
   "application/vnd.jupyter.widget-state+json": {
    "state": {
     "0c6b48e483b74126a05535aaecf126ed": {
      "model_module": "@jupyter-widgets/base",
      "model_module_version": "1.2.0",
      "model_name": "LayoutModel",
      "state": {}
     },
     "f74d5fb5fce94e70823027eedb5c886d": {
      "model_module": "nglview-js-widgets",
      "model_module_version": "3.0.1",
      "model_name": "ColormakerRegistryModel",
      "state": {
       "_msg_ar": [],
       "_msg_q": [],
       "_ready": true,
       "layout": "IPY_MODEL_0c6b48e483b74126a05535aaecf126ed"
      }
     }
    },
    "version_major": 2,
    "version_minor": 0
   }
  }
 },
 "nbformat": 4,
 "nbformat_minor": 4
}
