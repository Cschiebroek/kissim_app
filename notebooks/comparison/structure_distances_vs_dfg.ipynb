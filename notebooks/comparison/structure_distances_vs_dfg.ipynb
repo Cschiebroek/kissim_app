{
 "cells": [
  {
   "cell_type": "markdown",
   "metadata": {},
   "source": [
    "# Influence of DFG conformation on structure distances"
   ]
  },
  {
   "cell_type": "code",
   "execution_count": null,
   "metadata": {},
   "outputs": [],
   "source": [
    "%load_ext autoreload\n",
    "%autoreload 2"
   ]
  },
  {
   "cell_type": "code",
   "execution_count": 2,
   "metadata": {},
   "outputs": [
    {
     "data": {
      "application/vnd.jupyter.widget-view+json": {
       "model_id": "780cd525b4c547ee9190add18b6661cd",
       "version_major": 2,
       "version_minor": 0
      },
      "text/plain": []
     },
     "metadata": {},
     "output_type": "display_data"
    }
   ],
   "source": [
    "from pathlib import Path\n",
    "\n",
    "import numpy as np\n",
    "import pandas as pd\n",
    "import matplotlib.pyplot as plt\n",
    "from opencadd.databases.klifs import setup_local\n",
    "\n",
    "from kissim.comparison import FingerprintDistanceGenerator"
   ]
  },
  {
   "cell_type": "code",
   "execution_count": 3,
   "metadata": {},
   "outputs": [],
   "source": [
    "HERE = Path(_dh[-1])  # noqa: F821\n",
    "DATA = HERE / \"../../results/20210324/\""
   ]
  },
  {
   "cell_type": "code",
   "execution_count": 4,
   "metadata": {},
   "outputs": [],
   "source": [
    "plt.style.use(\"seaborn\")"
   ]
  },
  {
   "cell_type": "code",
   "execution_count": 5,
   "metadata": {},
   "outputs": [],
   "source": [
    "%matplotlib inline"
   ]
  },
  {
   "cell_type": "code",
   "execution_count": 6,
   "metadata": {},
   "outputs": [],
   "source": [
    "COVERAGE_CUTOFF = 0.8"
   ]
  },
  {
   "cell_type": "markdown",
   "metadata": {},
   "source": [
    "## Load structural metadata"
   ]
  },
  {
   "cell_type": "code",
   "execution_count": 7,
   "metadata": {},
   "outputs": [],
   "source": [
    "klifs_session = setup_local(HERE / \"../../data/external/20210114_KLIFS_HUMAN/\")\n",
    "structures = klifs_session.structures.all_structures()"
   ]
  },
  {
   "cell_type": "markdown",
   "metadata": {},
   "source": [
    "## Load fingerprint distances"
   ]
  },
  {
   "cell_type": "code",
   "execution_count": 8,
   "metadata": {},
   "outputs": [],
   "source": [
    "fingerprint_distance_file = (\n",
    "    DATA / \"fingerprint_distances_41-41-41-41-41-41-41-41-83-83-83-83-111-111-111.json\"\n",
    ")"
   ]
  },
  {
   "cell_type": "code",
   "execution_count": 9,
   "metadata": {},
   "outputs": [],
   "source": [
    "fingerprint_distance_generator = FingerprintDistanceGenerator.from_json(fingerprint_distance_file)"
   ]
  },
  {
   "cell_type": "code",
   "execution_count": 10,
   "metadata": {},
   "outputs": [
    {
     "name": "stdout",
     "output_type": "stream",
     "text": [
      "Number of kinases: 293\n",
      "Number of structures: 4918\n"
     ]
    }
   ],
   "source": [
    "print(f\"Number of kinases: {len(fingerprint_distance_generator.kinase_ids)}\")\n",
    "print(f\"Number of structures: {len(fingerprint_distance_generator.structure_ids)}\")"
   ]
  },
  {
   "cell_type": "code",
   "execution_count": 11,
   "metadata": {},
   "outputs": [],
   "source": [
    "structure_distances = fingerprint_distance_generator.data"
   ]
  },
  {
   "cell_type": "markdown",
   "metadata": {},
   "source": [
    "### Remove unwanted structures"
   ]
  },
  {
   "cell_type": "code",
   "execution_count": 12,
   "metadata": {},
   "outputs": [],
   "source": [
    "# Remove code after when using latest data\n",
    "structure_distances = structure_distances[\n",
    "    ~structure_distances.apply(\n",
    "        lambda x: (x[\"structure1\"] in [59, 7083]) or (x[\"structure2\"] in [59, 7083]), axis=1\n",
    "    )\n",
    "]"
   ]
  },
  {
   "cell_type": "markdown",
   "metadata": {},
   "source": [
    "### Sort fingerprint/kinase pairs (alphabetically)"
   ]
  },
  {
   "cell_type": "code",
   "execution_count": 14,
   "metadata": {},
   "outputs": [
    {
     "name": "stdout",
     "output_type": "stream",
     "text": [
      "CPU times: user 1min 13s, sys: 1.34 s, total: 1min 15s\n",
      "Wall time: 1min 15s\n",
      "CPU times: user 1min 8s, sys: 1.09 s, total: 1min 9s\n",
      "Wall time: 1min 9s\n"
     ]
    },
    {
     "data": {
      "text/html": [
       "<div>\n",
       "<style scoped>\n",
       "    .dataframe tbody tr th:only-of-type {\n",
       "        vertical-align: middle;\n",
       "    }\n",
       "\n",
       "    .dataframe tbody tr th {\n",
       "        vertical-align: top;\n",
       "    }\n",
       "\n",
       "    .dataframe thead th {\n",
       "        text-align: right;\n",
       "    }\n",
       "</style>\n",
       "<table border=\"1\" class=\"dataframe\">\n",
       "  <thead>\n",
       "    <tr style=\"text-align: right;\">\n",
       "      <th></th>\n",
       "      <th>structure1</th>\n",
       "      <th>structure2</th>\n",
       "      <th>kinase1</th>\n",
       "      <th>kinase2</th>\n",
       "      <th>distance</th>\n",
       "      <th>coverage</th>\n",
       "    </tr>\n",
       "  </thead>\n",
       "  <tbody>\n",
       "    <tr>\n",
       "      <th>0</th>\n",
       "      <td>3835</td>\n",
       "      <td>6679</td>\n",
       "      <td>AAK1</td>\n",
       "      <td>AAK1</td>\n",
       "      <td>0.053726</td>\n",
       "      <td>0.995417</td>\n",
       "    </tr>\n",
       "    <tr>\n",
       "      <th>1</th>\n",
       "      <td>3835</td>\n",
       "      <td>7156</td>\n",
       "      <td>AAK1</td>\n",
       "      <td>AAK1</td>\n",
       "      <td>0.066557</td>\n",
       "      <td>0.994583</td>\n",
       "    </tr>\n",
       "    <tr>\n",
       "      <th>2</th>\n",
       "      <td>1104</td>\n",
       "      <td>3835</td>\n",
       "      <td>AAK1</td>\n",
       "      <td>ABL1</td>\n",
       "      <td>0.251198</td>\n",
       "      <td>0.994167</td>\n",
       "    </tr>\n",
       "    <tr>\n",
       "      <th>3</th>\n",
       "      <td>1065</td>\n",
       "      <td>3835</td>\n",
       "      <td>AAK1</td>\n",
       "      <td>ABL1</td>\n",
       "      <td>0.264613</td>\n",
       "      <td>0.994167</td>\n",
       "    </tr>\n",
       "    <tr>\n",
       "      <th>4</th>\n",
       "      <td>1090</td>\n",
       "      <td>3835</td>\n",
       "      <td>AAK1</td>\n",
       "      <td>ABL1</td>\n",
       "      <td>0.233935</td>\n",
       "      <td>0.994167</td>\n",
       "    </tr>\n",
       "  </tbody>\n",
       "</table>\n",
       "</div>"
      ],
      "text/plain": [
       "   structure1  structure2 kinase1 kinase2  distance  coverage\n",
       "0        3835        6679    AAK1    AAK1  0.053726  0.995417\n",
       "1        3835        7156    AAK1    AAK1  0.066557  0.994583\n",
       "2        1104        3835    AAK1    ABL1  0.251198  0.994167\n",
       "3        1065        3835    AAK1    ABL1  0.264613  0.994167\n",
       "4        1090        3835    AAK1    ABL1  0.233935  0.994167"
      ]
     },
     "execution_count": 14,
     "metadata": {},
     "output_type": "execute_result"
    }
   ],
   "source": [
    "# Takes 2 minutes\n",
    "%%time\n",
    "\n",
    "structure_distances[\"structure_pair\"] = (\n",
    "    structure_distances[[\"structure1\", \"structure2\"]].apply(list, axis=1).apply(sorted)\n",
    ")\n",
    "structure_distances[\"kinase_pair\"] = (\n",
    "    structure_distances[[\"kinase1\", \"kinase2\"]].apply(list, axis=1).apply(sorted)\n",
    ")\n",
    "\n",
    "structure_distances[\"structure1\"] = [i[0] for i in structure_distances[\"structure_pair\"]]\n",
    "structure_distances[\"structure2\"] = [i[1] for i in structure_distances[\"structure_pair\"]]\n",
    "structure_distances[\"kinase1\"] = [i[0] for i in structure_distances[\"kinase_pair\"]]\n",
    "structure_distances[\"kinase2\"] = [i[1] for i in structure_distances[\"kinase_pair\"]]\n",
    "structure_distances = structure_distances.drop([\"structure_pair\", \"kinase_pair\"], axis=1)\n",
    "structure_distances.head()"
   ]
  },
  {
   "cell_type": "markdown",
   "metadata": {},
   "source": [
    "### Filter distances by coverage cutoff"
   ]
  },
  {
   "cell_type": "code",
   "execution_count": 15,
   "metadata": {},
   "outputs": [
    {
     "data": {
      "text/html": [
       "<div>\n",
       "<style scoped>\n",
       "    .dataframe tbody tr th:only-of-type {\n",
       "        vertical-align: middle;\n",
       "    }\n",
       "\n",
       "    .dataframe tbody tr th {\n",
       "        vertical-align: top;\n",
       "    }\n",
       "\n",
       "    .dataframe thead th {\n",
       "        text-align: right;\n",
       "    }\n",
       "</style>\n",
       "<table border=\"1\" class=\"dataframe\">\n",
       "  <thead>\n",
       "    <tr style=\"text-align: right;\">\n",
       "      <th></th>\n",
       "      <th>structure1</th>\n",
       "      <th>structure2</th>\n",
       "      <th>kinase1</th>\n",
       "      <th>kinase2</th>\n",
       "      <th>distance</th>\n",
       "      <th>coverage</th>\n",
       "      <th>distance_filtered</th>\n",
       "    </tr>\n",
       "  </thead>\n",
       "  <tbody>\n",
       "    <tr>\n",
       "      <th>0</th>\n",
       "      <td>3835</td>\n",
       "      <td>6679</td>\n",
       "      <td>AAK1</td>\n",
       "      <td>AAK1</td>\n",
       "      <td>0.053726</td>\n",
       "      <td>0.995417</td>\n",
       "      <td>0.053726</td>\n",
       "    </tr>\n",
       "    <tr>\n",
       "      <th>1</th>\n",
       "      <td>3835</td>\n",
       "      <td>7156</td>\n",
       "      <td>AAK1</td>\n",
       "      <td>AAK1</td>\n",
       "      <td>0.066557</td>\n",
       "      <td>0.994583</td>\n",
       "      <td>0.066557</td>\n",
       "    </tr>\n",
       "    <tr>\n",
       "      <th>2</th>\n",
       "      <td>1104</td>\n",
       "      <td>3835</td>\n",
       "      <td>AAK1</td>\n",
       "      <td>ABL1</td>\n",
       "      <td>0.251198</td>\n",
       "      <td>0.994167</td>\n",
       "      <td>0.251198</td>\n",
       "    </tr>\n",
       "    <tr>\n",
       "      <th>3</th>\n",
       "      <td>1065</td>\n",
       "      <td>3835</td>\n",
       "      <td>AAK1</td>\n",
       "      <td>ABL1</td>\n",
       "      <td>0.264613</td>\n",
       "      <td>0.994167</td>\n",
       "      <td>0.264613</td>\n",
       "    </tr>\n",
       "    <tr>\n",
       "      <th>4</th>\n",
       "      <td>1090</td>\n",
       "      <td>3835</td>\n",
       "      <td>AAK1</td>\n",
       "      <td>ABL1</td>\n",
       "      <td>0.233935</td>\n",
       "      <td>0.994167</td>\n",
       "      <td>0.233935</td>\n",
       "    </tr>\n",
       "  </tbody>\n",
       "</table>\n",
       "</div>"
      ],
      "text/plain": [
       "   structure1  structure2 kinase1 kinase2  distance  coverage  \\\n",
       "0        3835        6679    AAK1    AAK1  0.053726  0.995417   \n",
       "1        3835        7156    AAK1    AAK1  0.066557  0.994583   \n",
       "2        1104        3835    AAK1    ABL1  0.251198  0.994167   \n",
       "3        1065        3835    AAK1    ABL1  0.264613  0.994167   \n",
       "4        1090        3835    AAK1    ABL1  0.233935  0.994167   \n",
       "\n",
       "   distance_filtered  \n",
       "0           0.053726  \n",
       "1           0.066557  \n",
       "2           0.251198  \n",
       "3           0.264613  \n",
       "4           0.233935  "
      ]
     },
     "execution_count": 15,
     "metadata": {},
     "output_type": "execute_result"
    }
   ],
   "source": [
    "structure_distances[\"distance_filtered\"] = np.where(\n",
    "    structure_distances[\"coverage\"].values < COVERAGE_CUTOFF,\n",
    "    np.nan,\n",
    "    structure_distances[\"distance\"].values,\n",
    ")\n",
    "structure_distances.head()"
   ]
  },
  {
   "cell_type": "code",
   "execution_count": 16,
   "metadata": {},
   "outputs": [
    {
     "name": "stdout",
     "output_type": "stream",
     "text": [
      "Structure pairs: 12081070\n",
      "Structure pairs not-NaN: 11851916\n"
     ]
    }
   ],
   "source": [
    "print(f\"Structure pairs: {structure_distances.shape[0]}\")\n",
    "structure_distances = structure_distances[structure_distances[\"distance_filtered\"].notna()]\n",
    "print(f\"Structure pairs not-NaN: {structure_distances.shape[0]}\")"
   ]
  },
  {
   "cell_type": "markdown",
   "metadata": {},
   "source": [
    "## DFG conformation"
   ]
  },
  {
   "cell_type": "markdown",
   "metadata": {},
   "source": [
    "### Plot DFG-in vs. DFG-out"
   ]
  },
  {
   "cell_type": "code",
   "execution_count": 17,
   "metadata": {},
   "outputs": [
    {
     "name": "stdout",
     "output_type": "stream",
     "text": [
      "CPU times: user 29.4 s, sys: 216 ms, total: 29.6 s\n",
      "Wall time: 29.6 s\n",
      "CPU times: user 29 s, sys: 208 ms, total: 29.2 s\n",
      "Wall time: 29.2 s\n"
     ]
    }
   ],
   "source": [
    "%%time\n",
    "\n",
    "dfg = structures.set_index(\"structure.klifs_id\")[\"structure.dfg\"]\n",
    "structure_distances[\"dfg1\"] = structure_distances[\"structure1\"].apply(lambda x: dfg[x])\n",
    "structure_distances[\"dfg2\"] = structure_distances[\"structure2\"].apply(lambda x: dfg[x])"
   ]
  },
  {
   "cell_type": "code",
   "execution_count": 18,
   "metadata": {},
   "outputs": [
    {
     "data": {
      "text/html": [
       "<div>\n",
       "<style scoped>\n",
       "    .dataframe tbody tr th:only-of-type {\n",
       "        vertical-align: middle;\n",
       "    }\n",
       "\n",
       "    .dataframe tbody tr th {\n",
       "        vertical-align: top;\n",
       "    }\n",
       "\n",
       "    .dataframe thead th {\n",
       "        text-align: right;\n",
       "    }\n",
       "</style>\n",
       "<table border=\"1\" class=\"dataframe\">\n",
       "  <thead>\n",
       "    <tr style=\"text-align: right;\">\n",
       "      <th></th>\n",
       "      <th>structure1</th>\n",
       "      <th>structure2</th>\n",
       "      <th>kinase1</th>\n",
       "      <th>kinase2</th>\n",
       "      <th>distance</th>\n",
       "      <th>coverage</th>\n",
       "      <th>distance_filtered</th>\n",
       "      <th>dfg1</th>\n",
       "      <th>dfg2</th>\n",
       "    </tr>\n",
       "  </thead>\n",
       "  <tbody>\n",
       "    <tr>\n",
       "      <th>0</th>\n",
       "      <td>3835</td>\n",
       "      <td>6679</td>\n",
       "      <td>AAK1</td>\n",
       "      <td>AAK1</td>\n",
       "      <td>0.053726</td>\n",
       "      <td>0.995417</td>\n",
       "      <td>0.053726</td>\n",
       "      <td>in</td>\n",
       "      <td>in</td>\n",
       "    </tr>\n",
       "    <tr>\n",
       "      <th>1</th>\n",
       "      <td>3835</td>\n",
       "      <td>7156</td>\n",
       "      <td>AAK1</td>\n",
       "      <td>AAK1</td>\n",
       "      <td>0.066557</td>\n",
       "      <td>0.994583</td>\n",
       "      <td>0.066557</td>\n",
       "      <td>in</td>\n",
       "      <td>in</td>\n",
       "    </tr>\n",
       "    <tr>\n",
       "      <th>2</th>\n",
       "      <td>1104</td>\n",
       "      <td>3835</td>\n",
       "      <td>AAK1</td>\n",
       "      <td>ABL1</td>\n",
       "      <td>0.251198</td>\n",
       "      <td>0.994167</td>\n",
       "      <td>0.251198</td>\n",
       "      <td>out-like</td>\n",
       "      <td>in</td>\n",
       "    </tr>\n",
       "    <tr>\n",
       "      <th>3</th>\n",
       "      <td>1065</td>\n",
       "      <td>3835</td>\n",
       "      <td>AAK1</td>\n",
       "      <td>ABL1</td>\n",
       "      <td>0.264613</td>\n",
       "      <td>0.994167</td>\n",
       "      <td>0.264613</td>\n",
       "      <td>out</td>\n",
       "      <td>in</td>\n",
       "    </tr>\n",
       "    <tr>\n",
       "      <th>4</th>\n",
       "      <td>1090</td>\n",
       "      <td>3835</td>\n",
       "      <td>AAK1</td>\n",
       "      <td>ABL1</td>\n",
       "      <td>0.233935</td>\n",
       "      <td>0.994167</td>\n",
       "      <td>0.233935</td>\n",
       "      <td>in</td>\n",
       "      <td>in</td>\n",
       "    </tr>\n",
       "  </tbody>\n",
       "</table>\n",
       "</div>"
      ],
      "text/plain": [
       "   structure1  structure2 kinase1 kinase2  distance  coverage  \\\n",
       "0        3835        6679    AAK1    AAK1  0.053726  0.995417   \n",
       "1        3835        7156    AAK1    AAK1  0.066557  0.994583   \n",
       "2        1104        3835    AAK1    ABL1  0.251198  0.994167   \n",
       "3        1065        3835    AAK1    ABL1  0.264613  0.994167   \n",
       "4        1090        3835    AAK1    ABL1  0.233935  0.994167   \n",
       "\n",
       "   distance_filtered      dfg1 dfg2  \n",
       "0           0.053726        in   in  \n",
       "1           0.066557        in   in  \n",
       "2           0.251198  out-like   in  \n",
       "3           0.264613       out   in  \n",
       "4           0.233935        in   in  "
      ]
     },
     "execution_count": 18,
     "metadata": {},
     "output_type": "execute_result"
    }
   ],
   "source": [
    "structure_distances.head()"
   ]
  },
  {
   "cell_type": "code",
   "execution_count": 30,
   "metadata": {},
   "outputs": [
    {
     "data": {
      "text/plain": [
       "0           True\n",
       "1           True\n",
       "4           True\n",
       "6           True\n",
       "9           True\n",
       "            ... \n",
       "12090898    True\n",
       "12090899    True\n",
       "12090900    True\n",
       "12090901    True\n",
       "12090902    True\n",
       "Name: distance_filtered, Length: 8904825, dtype: bool"
      ]
     },
     "execution_count": 30,
     "metadata": {},
     "output_type": "execute_result"
    }
   ],
   "source": [
    "structure_distances[(structure_distances[\"dfg1\"] == \"in\") & (structure_distances[\"dfg2\"] == \"in\")][\n",
    "    \"distance_filtered\"\n",
    "].notna()"
   ]
  },
  {
   "cell_type": "code",
   "execution_count": 48,
   "metadata": {},
   "outputs": [],
   "source": [
    "structure_distances_dfg = {\n",
    "    \"all\": structure_distances[\"distance_filtered\"],\n",
    "    \"in/in\": structure_distances[\n",
    "        (structure_distances[\"dfg1\"] == \"in\") & (structure_distances[\"dfg2\"] == \"in\")\n",
    "    ][\"distance_filtered\"],\n",
    "    \"out/out\": structure_distances[\n",
    "        (structure_distances[\"dfg1\"] == \"out\") & (structure_distances[\"dfg2\"] == \"out\")\n",
    "    ][\"distance_filtered\"],\n",
    "    \"in/out\": structure_distances[\n",
    "        ((structure_distances[\"dfg1\"] == \"in\") & (structure_distances[\"dfg2\"] == \"out\"))\n",
    "        | ((structure_distances[\"dfg1\"] == \"out\") & (structure_distances[\"dfg2\"] == \"in\"))\n",
    "    ][\"distance_filtered\"],\n",
    "}\n",
    "structure_distances_dfg = pd.DataFrame(structure_distances_dfg)"
   ]
  },
  {
   "cell_type": "code",
   "execution_count": 49,
   "metadata": {},
   "outputs": [
    {
     "data": {
      "text/plain": [
       "all        11851916\n",
       "in/in       8904825\n",
       "out/out       79401\n",
       "in/out      1683225\n",
       "dtype: int64"
      ]
     },
     "execution_count": 49,
     "metadata": {},
     "output_type": "execute_result"
    }
   ],
   "source": [
    "structure_distances_dfg.notna().sum()"
   ]
  },
  {
   "cell_type": "code",
   "execution_count": 50,
   "metadata": {},
   "outputs": [
    {
     "data": {
      "text/html": [
       "<div>\n",
       "<style scoped>\n",
       "    .dataframe tbody tr th:only-of-type {\n",
       "        vertical-align: middle;\n",
       "    }\n",
       "\n",
       "    .dataframe tbody tr th {\n",
       "        vertical-align: top;\n",
       "    }\n",
       "\n",
       "    .dataframe thead th {\n",
       "        text-align: right;\n",
       "    }\n",
       "</style>\n",
       "<table border=\"1\" class=\"dataframe\">\n",
       "  <thead>\n",
       "    <tr style=\"text-align: right;\">\n",
       "      <th></th>\n",
       "      <th>all</th>\n",
       "      <th>in/in</th>\n",
       "      <th>out/out</th>\n",
       "      <th>in/out</th>\n",
       "    </tr>\n",
       "  </thead>\n",
       "  <tbody>\n",
       "    <tr>\n",
       "      <th>count</th>\n",
       "      <td>1.185192e+07</td>\n",
       "      <td>8.904825e+06</td>\n",
       "      <td>79401.000000</td>\n",
       "      <td>1.683225e+06</td>\n",
       "    </tr>\n",
       "    <tr>\n",
       "      <th>mean</th>\n",
       "      <td>2.370296e-01</td>\n",
       "      <td>2.337824e-01</td>\n",
       "      <td>0.217745</td>\n",
       "      <td>2.409129e-01</td>\n",
       "    </tr>\n",
       "    <tr>\n",
       "      <th>std</th>\n",
       "      <td>7.170763e-02</td>\n",
       "      <td>7.177577e-02</td>\n",
       "      <td>0.072763</td>\n",
       "      <td>6.442875e-02</td>\n",
       "    </tr>\n",
       "    <tr>\n",
       "      <th>min</th>\n",
       "      <td>0.000000e+00</td>\n",
       "      <td>0.000000e+00</td>\n",
       "      <td>0.000000</td>\n",
       "      <td>1.553719e-02</td>\n",
       "    </tr>\n",
       "    <tr>\n",
       "      <th>25%</th>\n",
       "      <td>1.927443e-01</td>\n",
       "      <td>1.898313e-01</td>\n",
       "      <td>0.173344</td>\n",
       "      <td>1.995625e-01</td>\n",
       "    </tr>\n",
       "    <tr>\n",
       "      <th>50%</th>\n",
       "      <td>2.229435e-01</td>\n",
       "      <td>2.202187e-01</td>\n",
       "      <td>0.212018</td>\n",
       "      <td>2.271131e-01</td>\n",
       "    </tr>\n",
       "    <tr>\n",
       "      <th>75%</th>\n",
       "      <td>2.654165e-01</td>\n",
       "      <td>2.617071e-01</td>\n",
       "      <td>0.251953</td>\n",
       "      <td>2.685352e-01</td>\n",
       "    </tr>\n",
       "    <tr>\n",
       "      <th>max</th>\n",
       "      <td>7.574618e-01</td>\n",
       "      <td>7.444462e-01</td>\n",
       "      <td>0.606648</td>\n",
       "      <td>7.556599e-01</td>\n",
       "    </tr>\n",
       "  </tbody>\n",
       "</table>\n",
       "</div>"
      ],
      "text/plain": [
       "                all         in/in       out/out        in/out\n",
       "count  1.185192e+07  8.904825e+06  79401.000000  1.683225e+06\n",
       "mean   2.370296e-01  2.337824e-01      0.217745  2.409129e-01\n",
       "std    7.170763e-02  7.177577e-02      0.072763  6.442875e-02\n",
       "min    0.000000e+00  0.000000e+00      0.000000  1.553719e-02\n",
       "25%    1.927443e-01  1.898313e-01      0.173344  1.995625e-01\n",
       "50%    2.229435e-01  2.202187e-01      0.212018  2.271131e-01\n",
       "75%    2.654165e-01  2.617071e-01      0.251953  2.685352e-01\n",
       "max    7.574618e-01  7.444462e-01      0.606648  7.556599e-01"
      ]
     },
     "execution_count": 50,
     "metadata": {},
     "output_type": "execute_result"
    }
   ],
   "source": [
    "structure_distances_dfg.describe()"
   ]
  },
  {
   "cell_type": "code",
   "execution_count": 51,
   "metadata": {},
   "outputs": [
    {
     "data": {
      "image/png": "[encoded data removed]",
      "text/plain": [
       "<Figure size 432x288 with 1 Axes>"
      ]
     },
     "metadata": {
      "needs_background": "light"
     },
     "output_type": "display_data"
    }
   ],
   "source": [
    "structure_distances_dfg.plot(kind=\"box\", title=\"Conformation dependent structure pair distances\");"
   ]
  }
 ],
 "metadata": {
  "kernelspec": {
   "display_name": "Python 3",
   "language": "python",
   "name": "python3"
  },
  "language_info": {
   "codemirror_mode": {
    "name": "ipython",
    "version": 3
   },
   "file_extension": ".py",
   "mimetype": "text/x-python",
   "name": "python",
   "nbconvert_exporter": "python",
   "pygments_lexer": "ipython3",
   "version": "3.8.6"
  }
 },
 "nbformat": 4,
 "nbformat_minor": 4
}
