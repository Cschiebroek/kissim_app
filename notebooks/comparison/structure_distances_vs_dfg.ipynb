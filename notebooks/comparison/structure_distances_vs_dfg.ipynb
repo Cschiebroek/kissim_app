{
 "cells": [
  {
   "cell_type": "markdown",
   "metadata": {},
   "source": [
    "# Can fingerprint distances discriminate DFG conformations?\n",
    "\n",
    "The `kissim` fingerprint encodes the pocket residues' spatial distance to four centers&mdash;the pocket centroid, hinge region, DFG region and front pocket&mdash;and should therefore discriminate between two structures in different conformations; when we compare two structures in *different* conformations the fingerprint distance should be higher than for two structures in *similar* conformations.\n",
    "\n",
    "Let's check if this is true using DFG conformations from KLIFS. Plot distribution of fingerprint distances grouped by in/in, out/out, and in/out pairs.\n",
    "\n",
    "- Use fingerprint distances for structure pairs between all kinases\n",
    "- Use fingerprint distances for structure pairs between the same kinase"
   ]
  },
  {
   "cell_type": "code",
   "execution_count": 1,
   "metadata": {},
   "outputs": [],
   "source": [
    "%load_ext autoreload\n",
    "%autoreload 2"
   ]
  },
  {
   "cell_type": "code",
   "execution_count": 2,
   "metadata": {},
   "outputs": [
    {
     "data": {
      "application/vnd.jupyter.widget-view+json": {
       "model_id": "bd0eed98315c4609bccf279e27dd085d",
       "version_major": 2,
       "version_minor": 0
      },
      "text/plain": []
     },
     "metadata": {},
     "output_type": "display_data"
    }
   ],
   "source": [
    "from pathlib import Path\n",
    "\n",
    "import numpy as np\n",
    "import pandas as pd\n",
    "import matplotlib.pyplot as plt\n",
    "from IPython.display import display, Markdown\n",
    "from opencadd.databases.klifs import setup_remote\n",
    "from kissim.comparison import FingerprintDistanceGenerator\n",
    "\n",
    "from src.definitions import COVERAGE_CUTOFF"
   ]
  },
  {
   "cell_type": "code",
   "execution_count": 3,
   "metadata": {},
   "outputs": [],
   "source": [
    "HERE = Path(_dh[-1])  # noqa: F821\n",
    "DATA = HERE / \"../../results/\""
   ]
  },
  {
   "cell_type": "code",
   "execution_count": 4,
   "metadata": {},
   "outputs": [],
   "source": [
    "plt.style.use(\"seaborn\")"
   ]
  },
  {
   "cell_type": "markdown",
   "metadata": {},
   "source": [
    "## Load fingerprint distances with sufficient coverage\n",
    "\n",
    "Choose fingerprint distances that are based on spatial distances only (weighting scheme: 010) and that are based on a sufficient pairwise fingerprint bit coverage (default: `COVERAGE_CUTOFF`)."
   ]
  },
  {
   "cell_type": "code",
   "execution_count": 5,
   "metadata": {},
   "outputs": [
    {
     "data": {
      "text/plain": [
       "0.8"
      ]
     },
     "execution_count": 5,
     "metadata": {},
     "output_type": "execute_result"
    }
   ],
   "source": [
    "COVERAGE_CUTOFF"
   ]
  },
  {
   "cell_type": "code",
   "execution_count": 6,
   "metadata": {},
   "outputs": [
    {
     "name": "stdout",
     "output_type": "stream",
     "text": [
      "Number of kinases: 292\n",
      "Number of structures: 4916\n",
      "Number of structure pairs: 12081070\n",
      "Number of structure pairs: 11733382\n"
     ]
    },
    {
     "data": {
      "text/html": [
       "<div>\n",
       "<style scoped>\n",
       "    .dataframe tbody tr th:only-of-type {\n",
       "        vertical-align: middle;\n",
       "    }\n",
       "\n",
       "    .dataframe tbody tr th {\n",
       "        vertical-align: top;\n",
       "    }\n",
       "\n",
       "    .dataframe thead th {\n",
       "        text-align: right;\n",
       "    }\n",
       "</style>\n",
       "<table border=\"1\" class=\"dataframe\">\n",
       "  <thead>\n",
       "    <tr style=\"text-align: right;\">\n",
       "      <th></th>\n",
       "      <th>structure.1</th>\n",
       "      <th>structure.2</th>\n",
       "      <th>kinase.1</th>\n",
       "      <th>kinase.2</th>\n",
       "      <th>distance</th>\n",
       "      <th>bit_coverage</th>\n",
       "    </tr>\n",
       "  </thead>\n",
       "  <tbody>\n",
       "    <tr>\n",
       "      <th>0</th>\n",
       "      <td>3835</td>\n",
       "      <td>6679</td>\n",
       "      <td>AAK1</td>\n",
       "      <td>AAK1</td>\n",
       "      <td>0.053935</td>\n",
       "      <td>1.0</td>\n",
       "    </tr>\n",
       "    <tr>\n",
       "      <th>1</th>\n",
       "      <td>3835</td>\n",
       "      <td>7156</td>\n",
       "      <td>AAK1</td>\n",
       "      <td>AAK1</td>\n",
       "      <td>0.065967</td>\n",
       "      <td>1.0</td>\n",
       "    </tr>\n",
       "    <tr>\n",
       "      <th>2</th>\n",
       "      <td>3835</td>\n",
       "      <td>1104</td>\n",
       "      <td>AAK1</td>\n",
       "      <td>ABL1</td>\n",
       "      <td>0.146598</td>\n",
       "      <td>1.0</td>\n",
       "    </tr>\n",
       "    <tr>\n",
       "      <th>3</th>\n",
       "      <td>3835</td>\n",
       "      <td>1065</td>\n",
       "      <td>AAK1</td>\n",
       "      <td>ABL1</td>\n",
       "      <td>0.150158</td>\n",
       "      <td>1.0</td>\n",
       "    </tr>\n",
       "    <tr>\n",
       "      <th>4</th>\n",
       "      <td>3835</td>\n",
       "      <td>1090</td>\n",
       "      <td>AAK1</td>\n",
       "      <td>ABL1</td>\n",
       "      <td>0.126940</td>\n",
       "      <td>1.0</td>\n",
       "    </tr>\n",
       "  </tbody>\n",
       "</table>\n",
       "</div>"
      ],
      "text/plain": [
       "   structure.1  structure.2 kinase.1 kinase.2  distance  bit_coverage\n",
       "0         3835         6679     AAK1     AAK1  0.053935           1.0\n",
       "1         3835         7156     AAK1     AAK1  0.065967           1.0\n",
       "2         3835         1104     AAK1     ABL1  0.146598           1.0\n",
       "3         3835         1065     AAK1     ABL1  0.150158           1.0\n",
       "4         3835         1090     AAK1     ABL1  0.126940           1.0"
      ]
     },
     "execution_count": 6,
     "metadata": {},
     "output_type": "execute_result"
    }
   ],
   "source": [
    "# Set path\n",
    "fingerprint_distance_file = DATA / \"fingerprint_distances_010.csv\"\n",
    "# Load data\n",
    "fingerprint_distance_generator = FingerprintDistanceGenerator.from_csv(fingerprint_distance_file)\n",
    "print(f\"Number of kinases: {len(fingerprint_distance_generator.kinase_ids)}\")\n",
    "print(f\"Number of structures: {len(fingerprint_distance_generator.structure_ids)}\")\n",
    "structure_distances = fingerprint_distance_generator.data\n",
    "print(f\"Number of structure pairs: {structure_distances.shape[0]}\")\n",
    "structure_distances = structure_distances[structure_distances[\"bit_coverage\"] >= COVERAGE_CUTOFF].reset_index(drop=True)\n",
    "print(f\"Number of structure pairs: {structure_distances.shape[0]}\")\n",
    "structure_distances.head()"
   ]
  },
  {
   "cell_type": "markdown",
   "metadata": {},
   "source": [
    "## Add DFG conformation\n",
    "\n",
    "Add DFG conformation from KLIFS to each structure pair."
   ]
  },
  {
   "cell_type": "code",
   "execution_count": 7,
   "metadata": {},
   "outputs": [
    {
     "name": "stdout",
     "output_type": "stream",
     "text": [
      "CPU times: user 1min 11s, sys: 477 ms, total: 1min 11s\n",
      "Wall time: 1min 13s\n"
     ]
    },
    {
     "data": {
      "text/html": [
       "<div>\n",
       "<style scoped>\n",
       "    .dataframe tbody tr th:only-of-type {\n",
       "        vertical-align: middle;\n",
       "    }\n",
       "\n",
       "    .dataframe tbody tr th {\n",
       "        vertical-align: top;\n",
       "    }\n",
       "\n",
       "    .dataframe thead th {\n",
       "        text-align: right;\n",
       "    }\n",
       "</style>\n",
       "<table border=\"1\" class=\"dataframe\">\n",
       "  <thead>\n",
       "    <tr style=\"text-align: right;\">\n",
       "      <th></th>\n",
       "      <th>structure.1</th>\n",
       "      <th>structure.2</th>\n",
       "      <th>kinase.1</th>\n",
       "      <th>kinase.2</th>\n",
       "      <th>distance</th>\n",
       "      <th>bit_coverage</th>\n",
       "      <th>dfg.1</th>\n",
       "      <th>dfg.2</th>\n",
       "    </tr>\n",
       "  </thead>\n",
       "  <tbody>\n",
       "    <tr>\n",
       "      <th>0</th>\n",
       "      <td>3835</td>\n",
       "      <td>6679</td>\n",
       "      <td>AAK1</td>\n",
       "      <td>AAK1</td>\n",
       "      <td>0.053935</td>\n",
       "      <td>1.0</td>\n",
       "      <td>in</td>\n",
       "      <td>in</td>\n",
       "    </tr>\n",
       "    <tr>\n",
       "      <th>1</th>\n",
       "      <td>3835</td>\n",
       "      <td>7156</td>\n",
       "      <td>AAK1</td>\n",
       "      <td>AAK1</td>\n",
       "      <td>0.065967</td>\n",
       "      <td>1.0</td>\n",
       "      <td>in</td>\n",
       "      <td>in</td>\n",
       "    </tr>\n",
       "    <tr>\n",
       "      <th>2</th>\n",
       "      <td>3835</td>\n",
       "      <td>1104</td>\n",
       "      <td>AAK1</td>\n",
       "      <td>ABL1</td>\n",
       "      <td>0.146598</td>\n",
       "      <td>1.0</td>\n",
       "      <td>in</td>\n",
       "      <td>out-like</td>\n",
       "    </tr>\n",
       "    <tr>\n",
       "      <th>3</th>\n",
       "      <td>3835</td>\n",
       "      <td>1065</td>\n",
       "      <td>AAK1</td>\n",
       "      <td>ABL1</td>\n",
       "      <td>0.150158</td>\n",
       "      <td>1.0</td>\n",
       "      <td>in</td>\n",
       "      <td>out</td>\n",
       "    </tr>\n",
       "    <tr>\n",
       "      <th>4</th>\n",
       "      <td>3835</td>\n",
       "      <td>1090</td>\n",
       "      <td>AAK1</td>\n",
       "      <td>ABL1</td>\n",
       "      <td>0.126940</td>\n",
       "      <td>1.0</td>\n",
       "      <td>in</td>\n",
       "      <td>in</td>\n",
       "    </tr>\n",
       "  </tbody>\n",
       "</table>\n",
       "</div>"
      ],
      "text/plain": [
       "   structure.1  structure.2 kinase.1 kinase.2  distance  bit_coverage dfg.1  \\\n",
       "0         3835         6679     AAK1     AAK1  0.053935           1.0    in   \n",
       "1         3835         7156     AAK1     AAK1  0.065967           1.0    in   \n",
       "2         3835         1104     AAK1     ABL1  0.146598           1.0    in   \n",
       "3         3835         1065     AAK1     ABL1  0.150158           1.0    in   \n",
       "4         3835         1090     AAK1     ABL1  0.126940           1.0    in   \n",
       "\n",
       "      dfg.2  \n",
       "0        in  \n",
       "1        in  \n",
       "2  out-like  \n",
       "3       out  \n",
       "4        in  "
      ]
     },
     "execution_count": 7,
     "metadata": {},
     "output_type": "execute_result"
    }
   ],
   "source": [
    "%%time\n",
    "klifs_session = setup_remote()\n",
    "structures = klifs_session.structures.all_structures()\n",
    "dfg = structures.set_index(\"structure.klifs_id\")[\"structure.dfg\"]\n",
    "structure_distances[\"dfg.1\"] = structure_distances[\"structure.1\"].apply(lambda x: dfg[x])\n",
    "structure_distances[\"dfg.2\"] = structure_distances[\"structure.2\"].apply(lambda x: dfg[x])\n",
    "structure_distances.head()"
   ]
  },
  {
   "cell_type": "markdown",
   "metadata": {},
   "source": [
    "## Plot DFG conformation pairs\n",
    "\n",
    "Group the structure pairs by DFG conformation pairs&mdash;in/in, out/out, in/out&mdash;and plot their fingerprint distance distributions."
   ]
  },
  {
   "cell_type": "code",
   "execution_count": 8,
   "metadata": {},
   "outputs": [],
   "source": [
    "def structure_distances_by_dfg_conformation_pairs(structure_distances):\n",
    "    \"\"\"Distances for all, in/in, out/out, and in/out structure pairs.\"\"\"\n",
    "    \n",
    "    dfg_all = structure_distances[\"distance\"]\n",
    "    dfg_in_in = structure_distances[\n",
    "        (structure_distances[\"dfg.1\"] == \"in\") \n",
    "        & (structure_distances[\"dfg.2\"] == \"in\")\n",
    "    ][\"distance\"]\n",
    "    dfg_out_out = structure_distances[\n",
    "        (structure_distances[\"dfg.1\"] == \"out\") \n",
    "        & (structure_distances[\"dfg.2\"] == \"out\")\n",
    "    ][\"distance\"]\n",
    "    dfg_in_out = structure_distances[\n",
    "        (\n",
    "            (structure_distances[\"dfg.1\"] == \"in\") \n",
    "            & (structure_distances[\"dfg.2\"] == \"out\")\n",
    "        )\n",
    "        | (\n",
    "            (structure_distances[\"dfg.1\"] == \"out\") \n",
    "            & (structure_distances[\"dfg.2\"] == \"in\")\n",
    "        )\n",
    "    ][\"distance\"]\n",
    "    \n",
    "    structure_distances_dfg = pd.DataFrame(\n",
    "        {\n",
    "            \"all\": dfg_all, \"in/in\": dfg_in_in, \"out/out\": dfg_out_out, \"in/out\": dfg_in_out\n",
    "        }\n",
    "    )\n",
    "    structure_distances_dfg = pd.DataFrame(structure_distances_dfg)\n",
    "    \n",
    "    return structure_distances_dfg"
   ]
  },
  {
   "cell_type": "code",
   "execution_count": 9,
   "metadata": {},
   "outputs": [],
   "source": [
    "def plot_structure_distances_by_dfg_conformation_pairs(structure_distances):\n",
    "    \"\"\"Plot distribution of structure distances per DFG conformation pair.\"\"\"\n",
    "    \n",
    "    # Data\n",
    "    structure_distances_dfg = structure_distances_by_dfg_conformation_pairs(structure_distances)\n",
    "    print(\"Number of structure pairs per conformation pair:\")\n",
    "    print(structure_distances_dfg.notna().sum())\n",
    "    \n",
    "    # Boxplot\n",
    "    structure_distances_dfg.plot(kind=\"box\", title=\"Conformation dependent structure pair distances\")\n",
    "    plt.show()\n",
    "    \n",
    "    # Stats\n",
    "    display(structure_distances_dfg.describe())"
   ]
  },
  {
   "cell_type": "markdown",
   "metadata": {},
   "source": [
    "### All structures\n",
    "\n",
    "Use fingerprint distances for structure pairs between all kinases."
   ]
  },
  {
   "cell_type": "code",
   "execution_count": 10,
   "metadata": {},
   "outputs": [
    {
     "name": "stdout",
     "output_type": "stream",
     "text": [
      "Number of structure pairs per conformation pair:\n",
      "all        11733382\n",
      "in/in       8674987\n",
      "out/out       99967\n",
      "in/out      1865839\n",
      "dtype: int64\n"
     ]
    },
    {
     "data": {
      "image/png": "[encoded data removed]",
      "text/plain": [
       "<Figure size 576x396 with 1 Axes>"
      ]
     },
     "metadata": {},
     "output_type": "display_data"
    },
    {
     "data": {
      "text/html": [
       "<div>\n",
       "<style scoped>\n",
       "    .dataframe tbody tr th:only-of-type {\n",
       "        vertical-align: middle;\n",
       "    }\n",
       "\n",
       "    .dataframe tbody tr th {\n",
       "        vertical-align: top;\n",
       "    }\n",
       "\n",
       "    .dataframe thead th {\n",
       "        text-align: right;\n",
       "    }\n",
       "</style>\n",
       "<table border=\"1\" class=\"dataframe\">\n",
       "  <thead>\n",
       "    <tr style=\"text-align: right;\">\n",
       "      <th></th>\n",
       "      <th>all</th>\n",
       "      <th>in/in</th>\n",
       "      <th>out/out</th>\n",
       "      <th>in/out</th>\n",
       "    </tr>\n",
       "  </thead>\n",
       "  <tbody>\n",
       "    <tr>\n",
       "      <th>count</th>\n",
       "      <td>1.173338e+07</td>\n",
       "      <td>8.674987e+06</td>\n",
       "      <td>99967.000000</td>\n",
       "      <td>1.865839e+06</td>\n",
       "    </tr>\n",
       "    <tr>\n",
       "      <th>mean</th>\n",
       "      <td>1.518736e-01</td>\n",
       "      <td>1.489599e-01</td>\n",
       "      <td>0.137750</td>\n",
       "      <td>1.607469e-01</td>\n",
       "    </tr>\n",
       "    <tr>\n",
       "      <th>std</th>\n",
       "      <td>5.115106e-02</td>\n",
       "      <td>5.185786e-02</td>\n",
       "      <td>0.055707</td>\n",
       "      <td>4.802140e-02</td>\n",
       "    </tr>\n",
       "    <tr>\n",
       "      <th>min</th>\n",
       "      <td>0.000000e+00</td>\n",
       "      <td>0.000000e+00</td>\n",
       "      <td>0.000000</td>\n",
       "      <td>1.784707e-02</td>\n",
       "    </tr>\n",
       "    <tr>\n",
       "      <th>25%</th>\n",
       "      <td>1.166886e-01</td>\n",
       "      <td>1.121125e-01</td>\n",
       "      <td>0.104420</td>\n",
       "      <td>1.280648e-01</td>\n",
       "    </tr>\n",
       "    <tr>\n",
       "      <th>50%</th>\n",
       "      <td>1.466822e-01</td>\n",
       "      <td>1.444314e-01</td>\n",
       "      <td>0.125542</td>\n",
       "      <td>1.517770e-01</td>\n",
       "    </tr>\n",
       "    <tr>\n",
       "      <th>75%</th>\n",
       "      <td>1.793193e-01</td>\n",
       "      <td>1.780976e-01</td>\n",
       "      <td>0.159610</td>\n",
       "      <td>1.822587e-01</td>\n",
       "    </tr>\n",
       "    <tr>\n",
       "      <th>max</th>\n",
       "      <td>5.353785e-01</td>\n",
       "      <td>5.353785e-01</td>\n",
       "      <td>0.422093</td>\n",
       "      <td>4.958527e-01</td>\n",
       "    </tr>\n",
       "  </tbody>\n",
       "</table>\n",
       "</div>"
      ],
      "text/plain": [
       "                all         in/in       out/out        in/out\n",
       "count  1.173338e+07  8.674987e+06  99967.000000  1.865839e+06\n",
       "mean   1.518736e-01  1.489599e-01      0.137750  1.607469e-01\n",
       "std    5.115106e-02  5.185786e-02      0.055707  4.802140e-02\n",
       "min    0.000000e+00  0.000000e+00      0.000000  1.784707e-02\n",
       "25%    1.166886e-01  1.121125e-01      0.104420  1.280648e-01\n",
       "50%    1.466822e-01  1.444314e-01      0.125542  1.517770e-01\n",
       "75%    1.793193e-01  1.780976e-01      0.159610  1.822587e-01\n",
       "max    5.353785e-01  5.353785e-01      0.422093  4.958527e-01"
      ]
     },
     "metadata": {},
     "output_type": "display_data"
    }
   ],
   "source": [
    "plot_structure_distances_by_dfg_conformation_pairs(structure_distances)"
   ]
  },
  {
   "cell_type": "markdown",
   "metadata": {},
   "source": [
    "<div class=\"alert alert-block alert-info\">\n",
    "\n",
    "When including all kinases at the same time, the distribution of fingerprint distances is similar for structure pairs with the same DFG conformations (in/in and out/out) and different DFG conformations (in/out). \n",
    "    \n",
    "The fingerprint seems not to discriminate DFG-conformations on a kinome-wide level, maybe because the encoded spatial information is not restricted to only DFG conformation features. We may see a disciminative effect when comparing structures for a single kinase.\n",
    "\n",
    "</div>"
   ]
  },
  {
   "cell_type": "markdown",
   "metadata": {},
   "source": [
    "### Structures for one kinase\n",
    "\n",
    "Use fingerprint distances for structure pairs between the same kinase; use only kinases that have a sufficient number of structures in DFG-in and DFG-out conformations (default: 10). "
   ]
  },
  {
   "cell_type": "code",
   "execution_count": 11,
   "metadata": {},
   "outputs": [],
   "source": [
    "def kinases_with_high_dfg_in_out_coverage(structure_distances, dfg_structure_coverage_cutoff=10):\n",
    "    \"\"\"Given a dataset, get kinases with a threshold DFG in/out coverage.\"\"\"\n",
    "    \n",
    "    # Get structure KLIFS IDs in our dataset\n",
    "    structure_klifs_ids = pd.concat(\n",
    "        [\n",
    "            structure_distances[\"structure.1\"].drop_duplicates(), \n",
    "            structure_distances[\"structure.2\"].drop_duplicates()\n",
    "        ]\n",
    "    ).drop_duplicates().to_list()\n",
    "    print(f\"Number of structures: {len(structure_klifs_ids)}\")\n",
    "    \n",
    "    # Get structural metadata\n",
    "    klifs_session = setup_remote()\n",
    "    structures = klifs_session.structures.all_structures()\n",
    "    structures = structures[structures[\"structure.klifs_id\"].isin(structure_klifs_ids)]\n",
    "    \n",
    "    # Count number of structures per kinase and conformation\n",
    "    dfg_by_kinase = structures.groupby(\"kinase.klifs_name\").apply(lambda x: x[\"structure.dfg\"].value_counts())\n",
    "    dfg_by_kinase = dfg_by_kinase.reset_index()\n",
    "    dfg_by_kinase.columns = [\"kinase\", \"dfg\", \"n_structures\"]\n",
    "    \n",
    "    # Keep only in/out rows\n",
    "    dfg_by_kinase = dfg_by_kinase[(dfg_by_kinase[\"dfg\"] == \"in\") | (dfg_by_kinase[\"dfg\"] == \"out\")]\n",
    "    \n",
    "    # Keep only rows with at least xxx structures\n",
    "    dfg_by_kinase = dfg_by_kinase[dfg_by_kinase[\"n_structures\"] >= dfg_structure_coverage_cutoff]\n",
    "    \n",
    "    # Keep only kinases with both in/out conformations\n",
    "    n_conformations_by_kinase = dfg_by_kinase.groupby(\"kinase\").size()\n",
    "    dfg_by_kinase = dfg_by_kinase[dfg_by_kinase[\"kinase\"].isin(n_conformations_by_kinase[n_conformations_by_kinase == 2].index)]\n",
    "    \n",
    "    return dfg_by_kinase.set_index([\"kinase\", \"dfg\"])"
   ]
  },
  {
   "cell_type": "code",
   "execution_count": 12,
   "metadata": {},
   "outputs": [
    {
     "name": "stdout",
     "output_type": "stream",
     "text": [
      "Number of structures: 4846\n"
     ]
    },
    {
     "data": {
      "text/html": [
       "<div>\n",
       "<style scoped>\n",
       "    .dataframe tbody tr th:only-of-type {\n",
       "        vertical-align: middle;\n",
       "    }\n",
       "\n",
       "    .dataframe tbody tr th {\n",
       "        vertical-align: top;\n",
       "    }\n",
       "\n",
       "    .dataframe thead th {\n",
       "        text-align: right;\n",
       "    }\n",
       "</style>\n",
       "<table border=\"1\" class=\"dataframe\">\n",
       "  <thead>\n",
       "    <tr style=\"text-align: right;\">\n",
       "      <th></th>\n",
       "      <th></th>\n",
       "      <th>n_structures</th>\n",
       "    </tr>\n",
       "    <tr>\n",
       "      <th>kinase</th>\n",
       "      <th>dfg</th>\n",
       "      <th></th>\n",
       "    </tr>\n",
       "  </thead>\n",
       "  <tbody>\n",
       "    <tr>\n",
       "      <th rowspan=\"2\" valign=\"top\">BRAF</th>\n",
       "      <th>in</th>\n",
       "      <td>52</td>\n",
       "    </tr>\n",
       "    <tr>\n",
       "      <th>out</th>\n",
       "      <td>29</td>\n",
       "    </tr>\n",
       "    <tr>\n",
       "      <th rowspan=\"2\" valign=\"top\">EGFR</th>\n",
       "      <th>in</th>\n",
       "      <td>144</td>\n",
       "    </tr>\n",
       "    <tr>\n",
       "      <th>out</th>\n",
       "      <td>10</td>\n",
       "    </tr>\n",
       "    <tr>\n",
       "      <th rowspan=\"2\" valign=\"top\">EphA2</th>\n",
       "      <th>in</th>\n",
       "      <td>36</td>\n",
       "    </tr>\n",
       "    <tr>\n",
       "      <th>out</th>\n",
       "      <td>17</td>\n",
       "    </tr>\n",
       "    <tr>\n",
       "      <th rowspan=\"2\" valign=\"top\">MET</th>\n",
       "      <th>in</th>\n",
       "      <td>49</td>\n",
       "    </tr>\n",
       "    <tr>\n",
       "      <th>out</th>\n",
       "      <td>16</td>\n",
       "    </tr>\n",
       "    <tr>\n",
       "      <th rowspan=\"2\" valign=\"top\">p38a</th>\n",
       "      <th>in</th>\n",
       "      <td>127</td>\n",
       "    </tr>\n",
       "    <tr>\n",
       "      <th>out</th>\n",
       "      <td>74</td>\n",
       "    </tr>\n",
       "  </tbody>\n",
       "</table>\n",
       "</div>"
      ],
      "text/plain": [
       "            n_structures\n",
       "kinase dfg              \n",
       "BRAF   in             52\n",
       "       out            29\n",
       "EGFR   in            144\n",
       "       out            10\n",
       "EphA2  in             36\n",
       "       out            17\n",
       "MET    in             49\n",
       "       out            16\n",
       "p38a   in            127\n",
       "       out            74"
      ]
     },
     "execution_count": 12,
     "metadata": {},
     "output_type": "execute_result"
    }
   ],
   "source": [
    "dfg_by_kinase = kinases_with_high_dfg_in_out_coverage(structure_distances, dfg_structure_coverage_cutoff=10)\n",
    "dfg_by_kinase"
   ]
  },
  {
   "cell_type": "code",
   "execution_count": 13,
   "metadata": {},
   "outputs": [
    {
     "data": {
      "text/markdown": [
       "#### BRAF"
      ],
      "text/plain": [
       "<IPython.core.display.Markdown object>"
      ]
     },
     "metadata": {},
     "output_type": "display_data"
    },
    {
     "name": "stdout",
     "output_type": "stream",
     "text": [
      "Number of DFG-in structures: 52\n",
      "Number of DFG-out structures: 29\n",
      "Percentage of DFG-in: 64.2%\n",
      "Number of structure pairs per conformation pair:\n",
      "all        3240\n",
      "in/in      1326\n",
      "out/out     406\n",
      "in/out     1508\n",
      "dtype: int64\n"
     ]
    },
    {
     "data": {
      "image/png": "[encoded data removed]",
      "text/plain": [
       "<Figure size 576x396 with 1 Axes>"
      ]
     },
     "metadata": {},
     "output_type": "display_data"
    },
    {
     "data": {
      "text/html": [
       "<div>\n",
       "<style scoped>\n",
       "    .dataframe tbody tr th:only-of-type {\n",
       "        vertical-align: middle;\n",
       "    }\n",
       "\n",
       "    .dataframe tbody tr th {\n",
       "        vertical-align: top;\n",
       "    }\n",
       "\n",
       "    .dataframe thead th {\n",
       "        text-align: right;\n",
       "    }\n",
       "</style>\n",
       "<table border=\"1\" class=\"dataframe\">\n",
       "  <thead>\n",
       "    <tr style=\"text-align: right;\">\n",
       "      <th></th>\n",
       "      <th>all</th>\n",
       "      <th>in/in</th>\n",
       "      <th>out/out</th>\n",
       "      <th>in/out</th>\n",
       "    </tr>\n",
       "  </thead>\n",
       "  <tbody>\n",
       "    <tr>\n",
       "      <th>count</th>\n",
       "      <td>3240.000000</td>\n",
       "      <td>1326.000000</td>\n",
       "      <td>406.000000</td>\n",
       "      <td>1508.000000</td>\n",
       "    </tr>\n",
       "    <tr>\n",
       "      <th>mean</th>\n",
       "      <td>0.114400</td>\n",
       "      <td>0.102131</td>\n",
       "      <td>0.069350</td>\n",
       "      <td>0.137317</td>\n",
       "    </tr>\n",
       "    <tr>\n",
       "      <th>std</th>\n",
       "      <td>0.041485</td>\n",
       "      <td>0.039575</td>\n",
       "      <td>0.031290</td>\n",
       "      <td>0.029225</td>\n",
       "    </tr>\n",
       "    <tr>\n",
       "      <th>min</th>\n",
       "      <td>0.006776</td>\n",
       "      <td>0.006776</td>\n",
       "      <td>0.017509</td>\n",
       "      <td>0.062493</td>\n",
       "    </tr>\n",
       "    <tr>\n",
       "      <th>25%</th>\n",
       "      <td>0.088342</td>\n",
       "      <td>0.081921</td>\n",
       "      <td>0.040331</td>\n",
       "      <td>0.119979</td>\n",
       "    </tr>\n",
       "    <tr>\n",
       "      <th>50%</th>\n",
       "      <td>0.119931</td>\n",
       "      <td>0.105342</td>\n",
       "      <td>0.063570</td>\n",
       "      <td>0.135387</td>\n",
       "    </tr>\n",
       "    <tr>\n",
       "      <th>75%</th>\n",
       "      <td>0.145842</td>\n",
       "      <td>0.137047</td>\n",
       "      <td>0.097643</td>\n",
       "      <td>0.163447</td>\n",
       "    </tr>\n",
       "    <tr>\n",
       "      <th>max</th>\n",
       "      <td>0.195835</td>\n",
       "      <td>0.171465</td>\n",
       "      <td>0.139937</td>\n",
       "      <td>0.195835</td>\n",
       "    </tr>\n",
       "  </tbody>\n",
       "</table>\n",
       "</div>"
      ],
      "text/plain": [
       "               all        in/in     out/out       in/out\n",
       "count  3240.000000  1326.000000  406.000000  1508.000000\n",
       "mean      0.114400     0.102131    0.069350     0.137317\n",
       "std       0.041485     0.039575    0.031290     0.029225\n",
       "min       0.006776     0.006776    0.017509     0.062493\n",
       "25%       0.088342     0.081921    0.040331     0.119979\n",
       "50%       0.119931     0.105342    0.063570     0.135387\n",
       "75%       0.145842     0.137047    0.097643     0.163447\n",
       "max       0.195835     0.171465    0.139937     0.195835"
      ]
     },
     "metadata": {},
     "output_type": "display_data"
    },
    {
     "data": {
      "text/markdown": [
       "#### EGFR"
      ],
      "text/plain": [
       "<IPython.core.display.Markdown object>"
      ]
     },
     "metadata": {},
     "output_type": "display_data"
    },
    {
     "name": "stdout",
     "output_type": "stream",
     "text": [
      "Number of DFG-in structures: 144\n",
      "Number of DFG-out structures: 10\n",
      "Percentage of DFG-in: 93.51%\n",
      "Number of structure pairs per conformation pair:\n",
      "all        12720\n",
      "in/in      10296\n",
      "out/out       45\n",
      "in/out      1440\n",
      "dtype: int64\n"
     ]
    },
    {
     "data": {
      "image/png": "[encoded data removed]",
      "text/plain": [
       "<Figure size 576x396 with 1 Axes>"
      ]
     },
     "metadata": {},
     "output_type": "display_data"
    },
    {
     "data": {
      "text/html": [
       "<div>\n",
       "<style scoped>\n",
       "    .dataframe tbody tr th:only-of-type {\n",
       "        vertical-align: middle;\n",
       "    }\n",
       "\n",
       "    .dataframe tbody tr th {\n",
       "        vertical-align: top;\n",
       "    }\n",
       "\n",
       "    .dataframe thead th {\n",
       "        text-align: right;\n",
       "    }\n",
       "</style>\n",
       "<table border=\"1\" class=\"dataframe\">\n",
       "  <thead>\n",
       "    <tr style=\"text-align: right;\">\n",
       "      <th></th>\n",
       "      <th>all</th>\n",
       "      <th>in/in</th>\n",
       "      <th>out/out</th>\n",
       "      <th>in/out</th>\n",
       "    </tr>\n",
       "  </thead>\n",
       "  <tbody>\n",
       "    <tr>\n",
       "      <th>count</th>\n",
       "      <td>12720.000000</td>\n",
       "      <td>10296.000000</td>\n",
       "      <td>45.000000</td>\n",
       "      <td>1440.000000</td>\n",
       "    </tr>\n",
       "    <tr>\n",
       "      <th>mean</th>\n",
       "      <td>0.112897</td>\n",
       "      <td>0.105605</td>\n",
       "      <td>0.068989</td>\n",
       "      <td>0.142613</td>\n",
       "    </tr>\n",
       "    <tr>\n",
       "      <th>std</th>\n",
       "      <td>0.054063</td>\n",
       "      <td>0.054532</td>\n",
       "      <td>0.045126</td>\n",
       "      <td>0.040115</td>\n",
       "    </tr>\n",
       "    <tr>\n",
       "      <th>min</th>\n",
       "      <td>0.006090</td>\n",
       "      <td>0.006090</td>\n",
       "      <td>0.006781</td>\n",
       "      <td>0.048179</td>\n",
       "    </tr>\n",
       "    <tr>\n",
       "      <th>25%</th>\n",
       "      <td>0.059780</td>\n",
       "      <td>0.054421</td>\n",
       "      <td>0.023394</td>\n",
       "      <td>0.097384</td>\n",
       "    </tr>\n",
       "    <tr>\n",
       "      <th>50%</th>\n",
       "      <td>0.117316</td>\n",
       "      <td>0.089239</td>\n",
       "      <td>0.051204</td>\n",
       "      <td>0.155302</td>\n",
       "    </tr>\n",
       "    <tr>\n",
       "      <th>75%</th>\n",
       "      <td>0.162900</td>\n",
       "      <td>0.159669</td>\n",
       "      <td>0.115118</td>\n",
       "      <td>0.176492</td>\n",
       "    </tr>\n",
       "    <tr>\n",
       "      <th>max</th>\n",
       "      <td>0.253772</td>\n",
       "      <td>0.242165</td>\n",
       "      <td>0.125830</td>\n",
       "      <td>0.253772</td>\n",
       "    </tr>\n",
       "  </tbody>\n",
       "</table>\n",
       "</div>"
      ],
      "text/plain": [
       "                all         in/in    out/out       in/out\n",
       "count  12720.000000  10296.000000  45.000000  1440.000000\n",
       "mean       0.112897      0.105605   0.068989     0.142613\n",
       "std        0.054063      0.054532   0.045126     0.040115\n",
       "min        0.006090      0.006090   0.006781     0.048179\n",
       "25%        0.059780      0.054421   0.023394     0.097384\n",
       "50%        0.117316      0.089239   0.051204     0.155302\n",
       "75%        0.162900      0.159669   0.115118     0.176492\n",
       "max        0.253772      0.242165   0.125830     0.253772"
      ]
     },
     "metadata": {},
     "output_type": "display_data"
    },
    {
     "data": {
      "text/markdown": [
       "#### EphA2"
      ],
      "text/plain": [
       "<IPython.core.display.Markdown object>"
      ]
     },
     "metadata": {},
     "output_type": "display_data"
    },
    {
     "name": "stdout",
     "output_type": "stream",
     "text": [
      "Number of DFG-in structures: 36\n",
      "Number of DFG-out structures: 17\n",
      "Percentage of DFG-in: 67.92%\n",
      "Number of structure pairs per conformation pair:\n",
      "all        1378\n",
      "in/in       630\n",
      "out/out     136\n",
      "in/out      612\n",
      "dtype: int64\n"
     ]
    },
    {
     "data": {
      "image/png": "[encoded data removed]",
      "text/plain": [
       "<Figure size 576x396 with 1 Axes>"
      ]
     },
     "metadata": {},
     "output_type": "display_data"
    },
    {
     "data": {
      "text/html": [
       "<div>\n",
       "<style scoped>\n",
       "    .dataframe tbody tr th:only-of-type {\n",
       "        vertical-align: middle;\n",
       "    }\n",
       "\n",
       "    .dataframe tbody tr th {\n",
       "        vertical-align: top;\n",
       "    }\n",
       "\n",
       "    .dataframe thead th {\n",
       "        text-align: right;\n",
       "    }\n",
       "</style>\n",
       "<table border=\"1\" class=\"dataframe\">\n",
       "  <thead>\n",
       "    <tr style=\"text-align: right;\">\n",
       "      <th></th>\n",
       "      <th>all</th>\n",
       "      <th>in/in</th>\n",
       "      <th>out/out</th>\n",
       "      <th>in/out</th>\n",
       "    </tr>\n",
       "  </thead>\n",
       "  <tbody>\n",
       "    <tr>\n",
       "      <th>count</th>\n",
       "      <td>1378.000000</td>\n",
       "      <td>630.000000</td>\n",
       "      <td>136.000000</td>\n",
       "      <td>612.000000</td>\n",
       "    </tr>\n",
       "    <tr>\n",
       "      <th>mean</th>\n",
       "      <td>0.081709</td>\n",
       "      <td>0.063346</td>\n",
       "      <td>0.042226</td>\n",
       "      <td>0.109387</td>\n",
       "    </tr>\n",
       "    <tr>\n",
       "      <th>std</th>\n",
       "      <td>0.039527</td>\n",
       "      <td>0.037389</td>\n",
       "      <td>0.032650</td>\n",
       "      <td>0.019606</td>\n",
       "    </tr>\n",
       "    <tr>\n",
       "      <th>min</th>\n",
       "      <td>0.005165</td>\n",
       "      <td>0.005165</td>\n",
       "      <td>0.006354</td>\n",
       "      <td>0.057455</td>\n",
       "    </tr>\n",
       "    <tr>\n",
       "      <th>25%</th>\n",
       "      <td>0.046306</td>\n",
       "      <td>0.037473</td>\n",
       "      <td>0.019107</td>\n",
       "      <td>0.097730</td>\n",
       "    </tr>\n",
       "    <tr>\n",
       "      <th>50%</th>\n",
       "      <td>0.093450</td>\n",
       "      <td>0.054697</td>\n",
       "      <td>0.026715</td>\n",
       "      <td>0.108559</td>\n",
       "    </tr>\n",
       "    <tr>\n",
       "      <th>75%</th>\n",
       "      <td>0.109744</td>\n",
       "      <td>0.093213</td>\n",
       "      <td>0.046466</td>\n",
       "      <td>0.117293</td>\n",
       "    </tr>\n",
       "    <tr>\n",
       "      <th>max</th>\n",
       "      <td>0.196033</td>\n",
       "      <td>0.163264</td>\n",
       "      <td>0.109037</td>\n",
       "      <td>0.196033</td>\n",
       "    </tr>\n",
       "  </tbody>\n",
       "</table>\n",
       "</div>"
      ],
      "text/plain": [
       "               all       in/in     out/out      in/out\n",
       "count  1378.000000  630.000000  136.000000  612.000000\n",
       "mean      0.081709    0.063346    0.042226    0.109387\n",
       "std       0.039527    0.037389    0.032650    0.019606\n",
       "min       0.005165    0.005165    0.006354    0.057455\n",
       "25%       0.046306    0.037473    0.019107    0.097730\n",
       "50%       0.093450    0.054697    0.026715    0.108559\n",
       "75%       0.109744    0.093213    0.046466    0.117293\n",
       "max       0.196033    0.163264    0.109037    0.196033"
      ]
     },
     "metadata": {},
     "output_type": "display_data"
    },
    {
     "data": {
      "text/markdown": [
       "#### MET"
      ],
      "text/plain": [
       "<IPython.core.display.Markdown object>"
      ]
     },
     "metadata": {},
     "output_type": "display_data"
    },
    {
     "name": "stdout",
     "output_type": "stream",
     "text": [
      "Number of DFG-in structures: 49\n",
      "Number of DFG-out structures: 16\n",
      "Percentage of DFG-in: 75.38%\n",
      "Number of structure pairs per conformation pair:\n",
      "all        2211\n",
      "in/in      1176\n",
      "out/out     120\n",
      "in/out      784\n",
      "dtype: int64\n"
     ]
    },
    {
     "data": {
      "image/png": "[encoded data removed]",
      "text/plain": [
       "<Figure size 576x396 with 1 Axes>"
      ]
     },
     "metadata": {},
     "output_type": "display_data"
    },
    {
     "data": {
      "text/html": [
       "<div>\n",
       "<style scoped>\n",
       "    .dataframe tbody tr th:only-of-type {\n",
       "        vertical-align: middle;\n",
       "    }\n",
       "\n",
       "    .dataframe tbody tr th {\n",
       "        vertical-align: top;\n",
       "    }\n",
       "\n",
       "    .dataframe thead th {\n",
       "        text-align: right;\n",
       "    }\n",
       "</style>\n",
       "<table border=\"1\" class=\"dataframe\">\n",
       "  <thead>\n",
       "    <tr style=\"text-align: right;\">\n",
       "      <th></th>\n",
       "      <th>all</th>\n",
       "      <th>in/in</th>\n",
       "      <th>out/out</th>\n",
       "      <th>in/out</th>\n",
       "    </tr>\n",
       "  </thead>\n",
       "  <tbody>\n",
       "    <tr>\n",
       "      <th>count</th>\n",
       "      <td>2211.000000</td>\n",
       "      <td>1176.000000</td>\n",
       "      <td>120.000000</td>\n",
       "      <td>784.000000</td>\n",
       "    </tr>\n",
       "    <tr>\n",
       "      <th>mean</th>\n",
       "      <td>0.107308</td>\n",
       "      <td>0.086336</td>\n",
       "      <td>0.092182</td>\n",
       "      <td>0.140695</td>\n",
       "    </tr>\n",
       "    <tr>\n",
       "      <th>std</th>\n",
       "      <td>0.050339</td>\n",
       "      <td>0.052761</td>\n",
       "      <td>0.051939</td>\n",
       "      <td>0.023963</td>\n",
       "    </tr>\n",
       "    <tr>\n",
       "      <th>min</th>\n",
       "      <td>0.006791</td>\n",
       "      <td>0.006791</td>\n",
       "      <td>0.015207</td>\n",
       "      <td>0.059057</td>\n",
       "    </tr>\n",
       "    <tr>\n",
       "      <th>25%</th>\n",
       "      <td>0.069174</td>\n",
       "      <td>0.042446</td>\n",
       "      <td>0.059070</td>\n",
       "      <td>0.124800</td>\n",
       "    </tr>\n",
       "    <tr>\n",
       "      <th>50%</th>\n",
       "      <td>0.110559</td>\n",
       "      <td>0.073395</td>\n",
       "      <td>0.073624</td>\n",
       "      <td>0.140042</td>\n",
       "    </tr>\n",
       "    <tr>\n",
       "      <th>75%</th>\n",
       "      <td>0.147206</td>\n",
       "      <td>0.112501</td>\n",
       "      <td>0.110035</td>\n",
       "      <td>0.156143</td>\n",
       "    </tr>\n",
       "    <tr>\n",
       "      <th>max</th>\n",
       "      <td>0.252115</td>\n",
       "      <td>0.229456</td>\n",
       "      <td>0.223748</td>\n",
       "      <td>0.252115</td>\n",
       "    </tr>\n",
       "  </tbody>\n",
       "</table>\n",
       "</div>"
      ],
      "text/plain": [
       "               all        in/in     out/out      in/out\n",
       "count  2211.000000  1176.000000  120.000000  784.000000\n",
       "mean      0.107308     0.086336    0.092182    0.140695\n",
       "std       0.050339     0.052761    0.051939    0.023963\n",
       "min       0.006791     0.006791    0.015207    0.059057\n",
       "25%       0.069174     0.042446    0.059070    0.124800\n",
       "50%       0.110559     0.073395    0.073624    0.140042\n",
       "75%       0.147206     0.112501    0.110035    0.156143\n",
       "max       0.252115     0.229456    0.223748    0.252115"
      ]
     },
     "metadata": {},
     "output_type": "display_data"
    },
    {
     "data": {
      "text/markdown": [
       "#### p38a"
      ],
      "text/plain": [
       "<IPython.core.display.Markdown object>"
      ]
     },
     "metadata": {},
     "output_type": "display_data"
    },
    {
     "name": "stdout",
     "output_type": "stream",
     "text": [
      "Number of DFG-in structures: 127\n",
      "Number of DFG-out structures: 74\n",
      "Percentage of DFG-in: 63.18%\n",
      "Number of structure pairs per conformation pair:\n",
      "all        28920\n",
      "in/in       8001\n",
      "out/out     2701\n",
      "in/out      9398\n",
      "dtype: int64\n"
     ]
    },
    {
     "data": {
      "image/png": "[encoded data removed]",
      "text/plain": [
       "<Figure size 576x396 with 1 Axes>"
      ]
     },
     "metadata": {},
     "output_type": "display_data"
    },
    {
     "data": {
      "text/html": [
       "<div>\n",
       "<style scoped>\n",
       "    .dataframe tbody tr th:only-of-type {\n",
       "        vertical-align: middle;\n",
       "    }\n",
       "\n",
       "    .dataframe tbody tr th {\n",
       "        vertical-align: top;\n",
       "    }\n",
       "\n",
       "    .dataframe thead th {\n",
       "        text-align: right;\n",
       "    }\n",
       "</style>\n",
       "<table border=\"1\" class=\"dataframe\">\n",
       "  <thead>\n",
       "    <tr style=\"text-align: right;\">\n",
       "      <th></th>\n",
       "      <th>all</th>\n",
       "      <th>in/in</th>\n",
       "      <th>out/out</th>\n",
       "      <th>in/out</th>\n",
       "    </tr>\n",
       "  </thead>\n",
       "  <tbody>\n",
       "    <tr>\n",
       "      <th>count</th>\n",
       "      <td>28920.000000</td>\n",
       "      <td>8001.000000</td>\n",
       "      <td>2701.000000</td>\n",
       "      <td>9398.000000</td>\n",
       "    </tr>\n",
       "    <tr>\n",
       "      <th>mean</th>\n",
       "      <td>0.104478</td>\n",
       "      <td>0.091817</td>\n",
       "      <td>0.086538</td>\n",
       "      <td>0.115213</td>\n",
       "    </tr>\n",
       "    <tr>\n",
       "      <th>std</th>\n",
       "      <td>0.036459</td>\n",
       "      <td>0.032808</td>\n",
       "      <td>0.032475</td>\n",
       "      <td>0.032484</td>\n",
       "    </tr>\n",
       "    <tr>\n",
       "      <th>min</th>\n",
       "      <td>0.000000</td>\n",
       "      <td>0.011152</td>\n",
       "      <td>0.000000</td>\n",
       "      <td>0.028474</td>\n",
       "    </tr>\n",
       "    <tr>\n",
       "      <th>25%</th>\n",
       "      <td>0.076598</td>\n",
       "      <td>0.066430</td>\n",
       "      <td>0.063984</td>\n",
       "      <td>0.089868</td>\n",
       "    </tr>\n",
       "    <tr>\n",
       "      <th>50%</th>\n",
       "      <td>0.101966</td>\n",
       "      <td>0.089829</td>\n",
       "      <td>0.081929</td>\n",
       "      <td>0.111808</td>\n",
       "    </tr>\n",
       "    <tr>\n",
       "      <th>75%</th>\n",
       "      <td>0.129760</td>\n",
       "      <td>0.114976</td>\n",
       "      <td>0.107962</td>\n",
       "      <td>0.141183</td>\n",
       "    </tr>\n",
       "    <tr>\n",
       "      <th>max</th>\n",
       "      <td>0.263483</td>\n",
       "      <td>0.240757</td>\n",
       "      <td>0.200164</td>\n",
       "      <td>0.252040</td>\n",
       "    </tr>\n",
       "  </tbody>\n",
       "</table>\n",
       "</div>"
      ],
      "text/plain": [
       "                all        in/in      out/out       in/out\n",
       "count  28920.000000  8001.000000  2701.000000  9398.000000\n",
       "mean       0.104478     0.091817     0.086538     0.115213\n",
       "std        0.036459     0.032808     0.032475     0.032484\n",
       "min        0.000000     0.011152     0.000000     0.028474\n",
       "25%        0.076598     0.066430     0.063984     0.089868\n",
       "50%        0.101966     0.089829     0.081929     0.111808\n",
       "75%        0.129760     0.114976     0.107962     0.141183\n",
       "max        0.263483     0.240757     0.200164     0.252040"
      ]
     },
     "metadata": {},
     "output_type": "display_data"
    }
   ],
   "source": [
    "for kinase, dfg in dfg_by_kinase.reset_index().groupby(\"kinase\"):\n",
    "    display(Markdown(f\"#### {kinase}\"))\n",
    "    dfg = dfg.set_index(\"dfg\")\n",
    "    n_dfg_in = dfg.loc['in', 'n_structures']\n",
    "    n_dfg_out = dfg.loc['out', 'n_structures']\n",
    "    print(f\"Number of DFG-in structures: {n_dfg_in}\")\n",
    "    print(f\"Number of DFG-out structures: {n_dfg_out}\")\n",
    "    dfg_in_percentage = round(n_dfg_in / (n_dfg_in + n_dfg_out) * 100, 2)\n",
    "    print(f\"Percentage of DFG-in: {dfg_in_percentage}%\")\n",
    "    structure_distances_by_kinase = structure_distances[\n",
    "        (structure_distances[\"kinase.1\"] == kinase) & (structure_distances[\"kinase.2\"] == kinase)\n",
    "    ].reset_index(drop=True)\n",
    "    plot_structure_distances_by_dfg_conformation_pairs(structure_distances_by_kinase)"
   ]
  },
  {
   "cell_type": "markdown",
   "metadata": {},
   "source": [
    "<div class=\"alert alert-block alert-info\">\n",
    "\n",
    "We compare here only fingerprint distances for pairs of structures that describe the same kinase. We observe two interesting shifts:\n",
    "    \n",
    "1. The distribution for out/out pairs is overall lower than for in/in pairs. Potential explanations: definitions for DFG-out are stricter than for DFG-in; \"real\" diversity of DFG-out structures could be still unknown due to the lower number of structures for DFG-out than for DFG-in. \n",
    "2. The distribution of different DFG conformations (in/out) is overall higher than for equal DFG conformations (in/in and out/out). The fingerprint can discriminate DFG conformations of the same kinase.\n",
    "\n",
    "</div>"
   ]
  }
 ],
 "metadata": {
  "kernelspec": {
   "display_name": "Python 3",
   "language": "python",
   "name": "python3"
  },
  "language_info": {
   "codemirror_mode": {
    "name": "ipython",
    "version": 3
   },
   "file_extension": ".py",
   "mimetype": "text/x-python",
   "name": "python",
   "nbconvert_exporter": "python",
   "pygments_lexer": "ipython3",
   "version": "3.9.5"
  }
 },
 "nbformat": 4,
 "nbformat_minor": 4
}
