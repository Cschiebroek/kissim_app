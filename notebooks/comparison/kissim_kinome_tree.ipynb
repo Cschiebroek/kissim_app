{
 "cells": [
  {
   "cell_type": "markdown",
   "id": "ed1bfd7f-fcc5-4826-8b58-ba5b9b7d1cfc",
   "metadata": {},
   "source": [
    "# `kissim`-based kinome tree\n",
    "\n",
    "We generate `kissim`-based kinome trees based on three different kinase matrices:\n",
    "\n",
    "- Kinase matrix based on all structures/fingerprints (**DFG-in and DFG-out**)\n",
    "- Kinase matrix based on structure/fingerprints in **DFG-in** conformation only\n",
    "- Kinase matrix based on structure/fingerprints in **DFG-out** conformation only\n",
    "\n",
    "Check which kinases are covered by the DFG-in *and* the DFG-out `kissim` trees. "
   ]
  },
  {
   "cell_type": "code",
   "execution_count": 1,
   "id": "8e7be8f9-3870-4a9e-a98d-87c126ff805d",
   "metadata": {},
   "outputs": [],
   "source": [
    "%load_ext autoreload\n",
    "%autoreload 2"
   ]
  },
  {
   "cell_type": "code",
   "execution_count": 2,
   "id": "c4d83688-b45e-4c31-b499-eed6742075a9",
   "metadata": {},
   "outputs": [
    {
     "data": {
      "application/vnd.jupyter.widget-view+json": {
       "model_id": "748c3307c6ba4c4a9ec6a8555372d21f",
       "version_major": 2,
       "version_minor": 0
      },
      "text/plain": []
     },
     "metadata": {},
     "output_type": "display_data"
    }
   ],
   "source": [
    "from pathlib import Path\n",
    "\n",
    "import pandas as pd\n",
    "from matplotlib_venn import venn2\n",
    "from opencadd.databases.klifs import setup_remote\n",
    "\n",
    "from kissim.comparison import FingerprintDistanceGenerator\n",
    "from kissim.comparison import matrix, tree"
   ]
  },
  {
   "cell_type": "code",
   "execution_count": 3,
   "id": "8634edc4-3f64-454e-ba37-7837516b8cb3",
   "metadata": {},
   "outputs": [],
   "source": [
    "# Set path to this notebook\n",
    "HERE = Path(_dh[-1])  # noqa: F821\n",
    "RESULTS = HERE / \"../../results\""
   ]
  },
  {
   "cell_type": "code",
   "execution_count": 4,
   "id": "11646782-4c9b-4142-bdb2-fa74724e6385",
   "metadata": {},
   "outputs": [],
   "source": [
    "# Set up KLIFS session\n",
    "KLIFS_SESSION = setup_remote()"
   ]
  },
  {
   "cell_type": "code",
   "execution_count": 5,
   "id": "a552806b-19e1-4968-b250-e8bd7ac0602a",
   "metadata": {},
   "outputs": [],
   "source": [
    "# Set bit coverage between fingerprint pairs\n",
    "COVERAGE_MIN = 0.8"
   ]
  },
  {
   "cell_type": "markdown",
   "id": "27cf1d4a-9144-493b-8b60-f282dcdf4931",
   "metadata": {},
   "source": [
    "## Load fingerprint distances (all conformations)"
   ]
  },
  {
   "cell_type": "code",
   "execution_count": 6,
   "id": "599c4b1c-c694-488b-9653-fde0867e6ce4",
   "metadata": {},
   "outputs": [
    {
     "name": "stdout",
     "output_type": "stream",
     "text": [
      "CPU times: user 6.64 s, sys: 738 ms, total: 7.38 s\n",
      "Wall time: 7.99 s\n"
     ]
    }
   ],
   "source": [
    "%%time\n",
    "\n",
    "fingerprint_distances = FingerprintDistanceGenerator.from_csv(\n",
    "    RESULTS / \"fingerprint_distances.csv\"\n",
    ")"
   ]
  },
  {
   "cell_type": "markdown",
   "id": "cd98fbc8-dbfe-4c63-9cb7-df1cac517ce5",
   "metadata": {},
   "source": [
    "## Fetch DFG conformation"
   ]
  },
  {
   "cell_type": "code",
   "execution_count": 7,
   "id": "689ba977-ff28-4a05-8ff5-e5c7785fb6a3",
   "metadata": {},
   "outputs": [],
   "source": [
    "def dfg(structure_klifs_id1, structure_klifs_id2, structure_klifs_id_to_dfg_dict):\n",
    "    \"\"\"\n",
    "    Return DFG conformation for structure pair if they have the same conformation.\n",
    "\n",
    "    Parameters\n",
    "    ----------\n",
    "    structure_klifs_id1 : int\n",
    "        Structure KLIFS ID.\n",
    "    structure_klifs_id2 : int\n",
    "        Structure KLIFS ID.\n",
    "    structure_klifs_id_to_dfg_dict : dict\n",
    "        DFG conformations (values) for structure KLIFS IDs (keys).\n",
    "\n",
    "    Returns\n",
    "    -------\n",
    "    str or None\n",
    "        DFG conformation if input structure pair has the same conformation, else None.\n",
    "    \"\"\"\n",
    "    dfg1 = structure_klifs_id_to_dfg_dict[structure_klifs_id1]\n",
    "    dfg2 = structure_klifs_id_to_dfg_dict[structure_klifs_id2]\n",
    "    if dfg1 == dfg2:\n",
    "        return dfg1\n",
    "    else:\n",
    "        return None"
   ]
  },
  {
   "cell_type": "code",
   "execution_count": 8,
   "id": "ac552421-f16c-48a1-8959-8a3a13362c5b",
   "metadata": {},
   "outputs": [
    {
     "name": "stdout",
     "output_type": "stream",
     "text": [
      "Number of structures: 5222\n",
      "CPU times: user 1min 47s, sys: 1.47 s, total: 1min 49s\n",
      "Wall time: 1min 50s\n"
     ]
    },
    {
     "data": {
      "text/html": [
       "<div>\n",
       "<style scoped>\n",
       "    .dataframe tbody tr th:only-of-type {\n",
       "        vertical-align: middle;\n",
       "    }\n",
       "\n",
       "    .dataframe tbody tr th {\n",
       "        vertical-align: top;\n",
       "    }\n",
       "\n",
       "    .dataframe thead th {\n",
       "        text-align: right;\n",
       "    }\n",
       "</style>\n",
       "<table border=\"1\" class=\"dataframe\">\n",
       "  <thead>\n",
       "    <tr style=\"text-align: right;\">\n",
       "      <th></th>\n",
       "      <th>structure.1</th>\n",
       "      <th>structure.2</th>\n",
       "      <th>kinase.1</th>\n",
       "      <th>kinase.2</th>\n",
       "      <th>distance</th>\n",
       "      <th>bit_coverage</th>\n",
       "      <th>dfg</th>\n",
       "    </tr>\n",
       "  </thead>\n",
       "  <tbody>\n",
       "    <tr>\n",
       "      <th>0</th>\n",
       "      <td>3833</td>\n",
       "      <td>6679</td>\n",
       "      <td>AAK1</td>\n",
       "      <td>AAK1</td>\n",
       "      <td>0.051595</td>\n",
       "      <td>0.992667</td>\n",
       "      <td>in</td>\n",
       "    </tr>\n",
       "    <tr>\n",
       "      <th>1</th>\n",
       "      <td>3833</td>\n",
       "      <td>7156</td>\n",
       "      <td>AAK1</td>\n",
       "      <td>AAK1</td>\n",
       "      <td>0.057489</td>\n",
       "      <td>0.991333</td>\n",
       "      <td>in</td>\n",
       "    </tr>\n",
       "    <tr>\n",
       "      <th>2</th>\n",
       "      <td>3833</td>\n",
       "      <td>1086</td>\n",
       "      <td>AAK1</td>\n",
       "      <td>ABL1</td>\n",
       "      <td>0.271736</td>\n",
       "      <td>0.990667</td>\n",
       "      <td>None</td>\n",
       "    </tr>\n",
       "    <tr>\n",
       "      <th>3</th>\n",
       "      <td>3833</td>\n",
       "      <td>1054</td>\n",
       "      <td>AAK1</td>\n",
       "      <td>ABL1</td>\n",
       "      <td>0.290077</td>\n",
       "      <td>0.990667</td>\n",
       "      <td>None</td>\n",
       "    </tr>\n",
       "    <tr>\n",
       "      <th>4</th>\n",
       "      <td>3833</td>\n",
       "      <td>1090</td>\n",
       "      <td>AAK1</td>\n",
       "      <td>ABL1</td>\n",
       "      <td>0.266234</td>\n",
       "      <td>0.990667</td>\n",
       "      <td>in</td>\n",
       "    </tr>\n",
       "  </tbody>\n",
       "</table>\n",
       "</div>"
      ],
      "text/plain": [
       "   structure.1  structure.2 kinase.1 kinase.2  distance  bit_coverage   dfg\n",
       "0         3833         6679     AAK1     AAK1  0.051595      0.992667    in\n",
       "1         3833         7156     AAK1     AAK1  0.057489      0.991333    in\n",
       "2         3833         1086     AAK1     ABL1  0.271736      0.990667  None\n",
       "3         3833         1054     AAK1     ABL1  0.290077      0.990667  None\n",
       "4         3833         1090     AAK1     ABL1  0.266234      0.990667    in"
      ]
     },
     "execution_count": 8,
     "metadata": {},
     "output_type": "execute_result"
    }
   ],
   "source": [
    "%%time\n",
    "\n",
    "# List structure KLIFS IDs\n",
    "structure_klifs_ids = pd.concat(\n",
    "    [fingerprint_distances.data[\"structure.1\"], fingerprint_distances.data[\"structure.2\"]]\n",
    ")\n",
    "structure_klifs_ids = structure_klifs_ids.unique().tolist()\n",
    "print(f\"Number of structures: {len(structure_klifs_ids)}\")\n",
    "\n",
    "# Create a ID-to-DFG dictionary\n",
    "structures = KLIFS_SESSION.structures.by_structure_klifs_id(structure_klifs_ids)\n",
    "structure_klifs_id_to_dfg_dict = (\n",
    "    structures[[\"structure.klifs_id\", \"structure.dfg\"]]\n",
    "    .set_index(\"structure.klifs_id\")\n",
    "    .to_dict()[\"structure.dfg\"]\n",
    ")\n",
    "\n",
    "# Add DFG conformation of structure pairs (if structure pair has same conformation)\n",
    "dfg_conformations = fingerprint_distances.data.apply(\n",
    "    lambda x: dfg(x[\"structure.1\"], x[\"structure.2\"], structure_klifs_id_to_dfg_dict), axis=1\n",
    ")\n",
    "fingerprint_distances.data[\"dfg\"] = dfg_conformations\n",
    "fingerprint_distances.data.head()"
   ]
  },
  {
   "cell_type": "markdown",
   "id": "65c9924e-e38e-4bb1-a308-5c212a95934e",
   "metadata": {},
   "source": [
    "## Generate trees"
   ]
  },
  {
   "cell_type": "code",
   "execution_count": 9,
   "id": "c8c44256-c3a4-437a-a9af-fdbedb3492f2",
   "metadata": {},
   "outputs": [],
   "source": [
    "def generate_dfg_trees(structure_distances, dfg, coverage_min):\n",
    "    \"\"\"\n",
    "    Generate kinome trees based on structure pairs filtered by DFG conformation and bit coverage.\n",
    "\n",
    "    Parameters\n",
    "    ----------\n",
    "    structure_distances : pandas.DataFrame\n",
    "        Distances and bit coverages per structure pair.\n",
    "    dfg : str\n",
    "        DFG conformation \"in\" or \"out\".\n",
    "    coverage_min : float\n",
    "        Minimal bit coverage a structure pair must have to be included.\n",
    "    \"\"\"\n",
    "\n",
    "    if dfg in [\"in\", \"out\"]:\n",
    "        structure_distances = structure_distances[structure_distances[\"dfg\"] == dfg]\n",
    "\n",
    "    print(f\"Number of structures: {len(structure_distances)}\")\n",
    "    kinase_distance_matrix = matrix.kinase_distance_matrix(\n",
    "        structure_distances,\n",
    "        by=\"minimum\",\n",
    "        fill_diagonal=True,\n",
    "        coverage_min=coverage_min,\n",
    "    )\n",
    "    print(f\"Kinase matrix dimensions: {kinase_distance_matrix.shape}\")\n",
    "\n",
    "    tree.from_distance_matrix(\n",
    "        kinase_distance_matrix,\n",
    "        RESULTS / f\"tree_dfg_{dfg}.tree\",\n",
    "        RESULTS / f\"tree_annotation_dfg_{dfg}.csv\",\n",
    "    )\n",
    "\n",
    "    return kinase_distance_matrix.columns.to_list()"
   ]
  },
  {
   "cell_type": "markdown",
   "id": "9fcb8eae-ead6-41cf-a408-0a6e296b8761",
   "metadata": {},
   "source": [
    "### All conformations"
   ]
  },
  {
   "cell_type": "code",
   "execution_count": 10,
   "id": "9ce221ef-d56a-4d9b-9d53-71c92ed9acea",
   "metadata": {},
   "outputs": [
    {
     "name": "stdout",
     "output_type": "stream",
     "text": [
      "Number of structures: 13632031\n",
      "Kinase matrix dimensions: (288, 288)\n",
      "288\n"
     ]
    }
   ],
   "source": [
    "kinases_all = generate_dfg_trees(fingerprint_distances.data, \"all\", COVERAGE_MIN)\n",
    "print(len(kinases_all))"
   ]
  },
  {
   "cell_type": "markdown",
   "id": "71061470-d0cd-4d0d-86ec-d219ae0fa361",
   "metadata": {},
   "source": [
    "### DFG-in conformations"
   ]
  },
  {
   "cell_type": "code",
   "execution_count": 11,
   "id": "862adf27-7afc-4b87-bb1b-06a02764c174",
   "metadata": {},
   "outputs": [
    {
     "name": "stdout",
     "output_type": "stream",
     "text": [
      "Number of structures: 10140756\n",
      "Kinase matrix dimensions: (266, 266)\n",
      "266\n"
     ]
    }
   ],
   "source": [
    "kinases_in = generate_dfg_trees(fingerprint_distances.data, \"in\", COVERAGE_MIN)\n",
    "print(len(kinases_in))"
   ]
  },
  {
   "cell_type": "markdown",
   "id": "5aab46c4-ed20-423c-a001-8b33ec56ae42",
   "metadata": {},
   "source": [
    "### DFG-out conformations"
   ]
  },
  {
   "cell_type": "code",
   "execution_count": 12,
   "id": "835d27c9-265e-4007-b892-747a319f2a25",
   "metadata": {},
   "outputs": [
    {
     "name": "stdout",
     "output_type": "stream",
     "text": [
      "Number of structures: 105111\n",
      "Kinase matrix dimensions: (70, 70)\n",
      "70\n"
     ]
    }
   ],
   "source": [
    "kinases_out = generate_dfg_trees(fingerprint_distances.data, \"out\", COVERAGE_MIN)\n",
    "print(len(kinases_out))"
   ]
  },
  {
   "cell_type": "markdown",
   "id": "e179704c-b916-49f0-8ed3-52a536d4b2f3",
   "metadata": {},
   "source": [
    "## Intersection of kinases covered by both the DFG-in and DFG-out tree"
   ]
  },
  {
   "cell_type": "code",
   "execution_count": 13,
   "id": "77f8b3db-90e0-4d53-a84e-a8165fe930c0",
   "metadata": {},
   "outputs": [
    {
     "data": {
      "text/plain": [
       "<matplotlib_venn._common.VennDiagram at 0x7fbae46a3b20>"
      ]
     },
     "execution_count": 13,
     "metadata": {},
     "output_type": "execute_result"
    },
    {
     "data": {
      "image/png": "[encoded data removed]",
      "text/plain": [
       "<Figure size 432x288 with 1 Axes>"
      ]
     },
     "metadata": {},
     "output_type": "display_data"
    }
   ],
   "source": [
    "venn2([set(kinases_in), set(kinases_out)], set_labels=(\"DFG-in structures\", \"DFG-out structures\"))"
   ]
  },
  {
   "cell_type": "code",
   "execution_count": 14,
   "id": "8b94d5d2-61d8-47a0-acb3-36b4889bf655",
   "metadata": {},
   "outputs": [
    {
     "data": {
      "text/plain": [
       "{'ABL1',\n",
       " 'ABL2',\n",
       " 'ACK',\n",
       " 'AKT1',\n",
       " 'AKT2',\n",
       " 'ALK',\n",
       " 'AMPKa2',\n",
       " 'AurA',\n",
       " 'BRAF',\n",
       " 'CDK2',\n",
       " 'CDK6',\n",
       " 'CDK8',\n",
       " 'CK1e',\n",
       " 'EGFR',\n",
       " 'EphA2',\n",
       " 'EphA3',\n",
       " 'EphA7',\n",
       " 'EphB4',\n",
       " 'FAK',\n",
       " 'FGFR1',\n",
       " 'FGFR4',\n",
       " 'FMS',\n",
       " 'HGK',\n",
       " 'IGF1R',\n",
       " 'INSR',\n",
       " 'IRAK4',\n",
       " 'JAK2',\n",
       " 'JNK2',\n",
       " 'KDR',\n",
       " 'KIT',\n",
       " 'LCK',\n",
       " 'LOK',\n",
       " 'MAP2K1',\n",
       " 'MAP2K7',\n",
       " 'MELK',\n",
       " 'MER',\n",
       " 'MET',\n",
       " 'MNK2',\n",
       " 'NEK2',\n",
       " 'NEK7',\n",
       " 'PAK1',\n",
       " 'PDGFRa',\n",
       " 'PDK1',\n",
       " 'PEK',\n",
       " 'PRP4',\n",
       " 'PYK2',\n",
       " 'RIPK2',\n",
       " 'STLK5',\n",
       " 'SYK',\n",
       " 'TAK1',\n",
       " 'TIE2',\n",
       " 'TRKA',\n",
       " 'TRKB',\n",
       " 'ULK3',\n",
       " 'p38a',\n",
       " 'p38b',\n",
       " 'p38d'}"
      ]
     },
     "execution_count": 14,
     "metadata": {},
     "output_type": "execute_result"
    }
   ],
   "source": [
    "# Intersecting kinases\n",
    "set(kinases_in) & set(kinases_out)"
   ]
  }
 ],
 "metadata": {
  "kernelspec": {
   "display_name": "Python 3",
   "language": "python",
   "name": "python3"
  },
  "language_info": {
   "codemirror_mode": {
    "name": "ipython",
    "version": 3
   },
   "file_extension": ".py",
   "mimetype": "text/x-python",
   "name": "python",
   "nbconvert_exporter": "python",
   "pygments_lexer": "ipython3",
   "version": "3.9.5"
  },
  "widgets": {
   "application/vnd.jupyter.widget-state+json": {
    "state": {
     "443f0a293562470ca765ec6586d7db20": {
      "model_module": "@jupyter-widgets/base",
      "model_module_version": "1.2.0",
      "model_name": "LayoutModel",
      "state": {}
     },
     "748c3307c6ba4c4a9ec6a8555372d21f": {
      "model_module": "nglview-js-widgets",
      "model_module_version": "3.0.1",
      "model_name": "ColormakerRegistryModel",
      "state": {
       "_msg_ar": [],
       "_msg_q": [],
       "_ready": true,
       "layout": "IPY_MODEL_443f0a293562470ca765ec6586d7db20"
      }
     }
    },
    "version_major": 2,
    "version_minor": 0
   }
  }
 },
 "nbformat": 4,
 "nbformat_minor": 5
}
