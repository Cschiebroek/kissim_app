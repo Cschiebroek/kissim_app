{
 "cells": [
  {
   "cell_type": "markdown",
   "metadata": {},
   "source": [
    "# Fingerprint distances between structures for the same kinase\n",
    "\n",
    "In this notebook, we investigate the ranges of fingerprint distances for each kinase pair."
   ]
  },
  {
   "cell_type": "code",
   "execution_count": 1,
   "metadata": {},
   "outputs": [],
   "source": [
    "%load_ext autoreload\n",
    "%autoreload 2"
   ]
  },
  {
   "cell_type": "code",
   "execution_count": 2,
   "metadata": {},
   "outputs": [
    {
     "data": {
      "application/vnd.jupyter.widget-view+json": {
       "model_id": "e3938393a4e545869074c8390aa234a7",
       "version_major": 2,
       "version_minor": 0
      },
      "text/plain": []
     },
     "metadata": {},
     "output_type": "display_data"
    }
   ],
   "source": [
    "from pathlib import Path\n",
    "\n",
    "import numpy as np\n",
    "import pandas as pd\n",
    "import matplotlib.pyplot as plt\n",
    "import seaborn as sns\n",
    "\n",
    "from kissim.comparison import FingerprintDistanceGenerator\n",
    "from kissim.encoding import FingerprintGenerator"
   ]
  },
  {
   "cell_type": "code",
   "execution_count": 3,
   "metadata": {},
   "outputs": [],
   "source": [
    "HERE = Path(_dh[-1])  # noqa: F821\n",
    "DATA = HERE / \"../../results/20210324/\""
   ]
  },
  {
   "cell_type": "code",
   "execution_count": 4,
   "metadata": {},
   "outputs": [],
   "source": [
    "plt.style.use(\"seaborn\")"
   ]
  },
  {
   "cell_type": "code",
   "execution_count": 5,
   "metadata": {},
   "outputs": [],
   "source": [
    "%matplotlib inline"
   ]
  },
  {
   "cell_type": "code",
   "execution_count": 6,
   "metadata": {},
   "outputs": [],
   "source": [
    "COVERAGE_CUTOFF = 0.75"
   ]
  },
  {
   "cell_type": "markdown",
   "metadata": {},
   "source": [
    "## Load fingerprints"
   ]
  },
  {
   "cell_type": "code",
   "execution_count": 7,
   "metadata": {},
   "outputs": [],
   "source": [
    "fingerprints = FingerprintGenerator.from_json(DATA / \"fingerprints_clean.json\")"
   ]
  },
  {
   "cell_type": "code",
   "execution_count": 8,
   "metadata": {},
   "outputs": [],
   "source": [
    "fingerprint_bits = [fingerprint.values_array(True, True, True) for _, fingerprint in fingerprints.data.items()]\n",
    "fingerprint_bits = pd.DataFrame(fingerprint_bits)"
   ]
  },
  {
   "cell_type": "code",
   "execution_count": 9,
   "metadata": {},
   "outputs": [
    {
     "data": {
      "text/plain": [
       "(4916, 1032)"
      ]
     },
     "execution_count": 9,
     "metadata": {},
     "output_type": "execute_result"
    }
   ],
   "source": [
    "fingerprint_bits.shape"
   ]
  },
  {
   "cell_type": "markdown",
   "metadata": {},
   "source": [
    "### Fingerprint bit coverage"
   ]
  },
  {
   "cell_type": "code",
   "execution_count": 10,
   "metadata": {},
   "outputs": [],
   "source": [
    "fingerprint_coverage = 100 - fingerprint_bits.isna().sum(axis=1) / fingerprint_bits.shape[0] * 100\n",
    "fingerprint_coverage = fingerprint_coverage.sort_values(ascending=False)\n",
    "fingerprint_coverage.name = \"Fingerprint coverage\""
   ]
  },
  {
   "cell_type": "code",
   "execution_count": 11,
   "metadata": {},
   "outputs": [
    {
     "data": {
      "text/plain": [
       "<AxesSubplot:>"
      ]
     },
     "execution_count": 11,
     "metadata": {},
     "output_type": "execute_result"
    },
    {
     "data": {
      "image/png": "[encoded data removed]",
      "text/plain": [
       "<Figure size 432x288 with 1 Axes>"
      ]
     },
     "metadata": {
      "needs_background": "light"
     },
     "output_type": "display_data"
    }
   ],
   "source": [
    "fingerprint_coverage.plot(kind=\"box\")"
   ]
  },
  {
   "cell_type": "code",
   "execution_count": 12,
   "metadata": {},
   "outputs": [
    {
     "data": {
      "text/plain": [
       "count    4916.000000\n",
       "mean       99.504838\n",
       "std         0.631407\n",
       "min        88.628967\n",
       "25%        99.389748\n",
       "50%        99.674532\n",
       "75%        99.837266\n",
       "max        99.938975\n",
       "Name: Fingerprint coverage, dtype: float64"
      ]
     },
     "execution_count": 12,
     "metadata": {},
     "output_type": "execute_result"
    }
   ],
   "source": [
    "fingerprint_coverage.describe()"
   ]
  },
  {
   "cell_type": "markdown",
   "metadata": {},
   "source": [
    "## Load fingerprint distances"
   ]
  },
  {
   "cell_type": "code",
   "execution_count": 13,
   "metadata": {},
   "outputs": [],
   "source": [
    "fingerprint_distance_file = DATA / \"fingerprint_distances_41-41-41-41-41-41-41-41-83-83-83-83-111-111-111.json\""
   ]
  },
  {
   "cell_type": "code",
   "execution_count": 14,
   "metadata": {},
   "outputs": [],
   "source": [
    "fingerprint_distance_generator = FingerprintDistanceGenerator.from_json(fingerprint_distance_file)"
   ]
  },
  {
   "cell_type": "code",
   "execution_count": 15,
   "metadata": {},
   "outputs": [
    {
     "name": "stdout",
     "output_type": "stream",
     "text": [
      "Number of kinases: 293\n",
      "Number of structures: 4918\n"
     ]
    }
   ],
   "source": [
    "print(f\"Number of kinases: {len(fingerprint_distance_generator.kinase_ids)}\")\n",
    "print(f\"Number of structures: {len(fingerprint_distance_generator.structure_ids)}\")"
   ]
  },
  {
   "cell_type": "code",
   "execution_count": 16,
   "metadata": {},
   "outputs": [],
   "source": [
    "structure_distances = fingerprint_distance_generator.data"
   ]
  },
  {
   "cell_type": "markdown",
   "metadata": {},
   "source": [
    "### Remove unwanted structures"
   ]
  },
  {
   "cell_type": "code",
   "execution_count": 17,
   "metadata": {},
   "outputs": [],
   "source": [
    "# Remove code after when using latest data\n",
    "structure_distances = structure_distances[\n",
    "        ~structure_distances.apply(\n",
    "        lambda x: (x[\"structure1\"] in [59, 7083]) or (x[\"structure2\"] in [59, 7083]), \n",
    "        axis=1\n",
    "    )\n",
    "]"
   ]
  },
  {
   "cell_type": "markdown",
   "metadata": {},
   "source": [
    "### Sort fingerprint/kinase pairs (alphabetically)"
   ]
  },
  {
   "cell_type": "code",
   "execution_count": 18,
   "metadata": {},
   "outputs": [
    {
     "name": "stdout",
     "output_type": "stream",
     "text": [
      "CPU times: user 1min 14s, sys: 1.24 s, total: 1min 15s\n",
      "Wall time: 1min 15s\n",
      "CPU times: user 1min 10s, sys: 1.08 s, total: 1min 11s\n",
      "Wall time: 1min 11s\n"
     ]
    },
    {
     "data": {
      "text/html": [
       "<div>\n",
       "<style scoped>\n",
       "    .dataframe tbody tr th:only-of-type {\n",
       "        vertical-align: middle;\n",
       "    }\n",
       "\n",
       "    .dataframe tbody tr th {\n",
       "        vertical-align: top;\n",
       "    }\n",
       "\n",
       "    .dataframe thead th {\n",
       "        text-align: right;\n",
       "    }\n",
       "</style>\n",
       "<table border=\"1\" class=\"dataframe\">\n",
       "  <thead>\n",
       "    <tr style=\"text-align: right;\">\n",
       "      <th></th>\n",
       "      <th>structure1</th>\n",
       "      <th>structure2</th>\n",
       "      <th>kinase1</th>\n",
       "      <th>kinase2</th>\n",
       "      <th>distance</th>\n",
       "      <th>coverage</th>\n",
       "    </tr>\n",
       "  </thead>\n",
       "  <tbody>\n",
       "    <tr>\n",
       "      <th>0</th>\n",
       "      <td>3835</td>\n",
       "      <td>6679</td>\n",
       "      <td>AAK1</td>\n",
       "      <td>AAK1</td>\n",
       "      <td>0.053726</td>\n",
       "      <td>0.995417</td>\n",
       "    </tr>\n",
       "    <tr>\n",
       "      <th>1</th>\n",
       "      <td>3835</td>\n",
       "      <td>7156</td>\n",
       "      <td>AAK1</td>\n",
       "      <td>AAK1</td>\n",
       "      <td>0.066557</td>\n",
       "      <td>0.994583</td>\n",
       "    </tr>\n",
       "    <tr>\n",
       "      <th>2</th>\n",
       "      <td>1104</td>\n",
       "      <td>3835</td>\n",
       "      <td>AAK1</td>\n",
       "      <td>ABL1</td>\n",
       "      <td>0.251198</td>\n",
       "      <td>0.994167</td>\n",
       "    </tr>\n",
       "    <tr>\n",
       "      <th>3</th>\n",
       "      <td>1065</td>\n",
       "      <td>3835</td>\n",
       "      <td>AAK1</td>\n",
       "      <td>ABL1</td>\n",
       "      <td>0.264613</td>\n",
       "      <td>0.994167</td>\n",
       "    </tr>\n",
       "    <tr>\n",
       "      <th>4</th>\n",
       "      <td>1090</td>\n",
       "      <td>3835</td>\n",
       "      <td>AAK1</td>\n",
       "      <td>ABL1</td>\n",
       "      <td>0.233935</td>\n",
       "      <td>0.994167</td>\n",
       "    </tr>\n",
       "  </tbody>\n",
       "</table>\n",
       "</div>"
      ],
      "text/plain": [
       "   structure1  structure2 kinase1 kinase2  distance  coverage\n",
       "0        3835        6679    AAK1    AAK1  0.053726  0.995417\n",
       "1        3835        7156    AAK1    AAK1  0.066557  0.994583\n",
       "2        1104        3835    AAK1    ABL1  0.251198  0.994167\n",
       "3        1065        3835    AAK1    ABL1  0.264613  0.994167\n",
       "4        1090        3835    AAK1    ABL1  0.233935  0.994167"
      ]
     },
     "execution_count": 18,
     "metadata": {},
     "output_type": "execute_result"
    }
   ],
   "source": [
    "# Takes 2 minutes\n",
    "%time structure_distances[\"structure_pair\"] = structure_distances[[\"structure1\", \"structure2\"]].apply(list, axis=1).apply(sorted)\n",
    "%time structure_distances[\"kinase_pair\"] = structure_distances[[\"kinase1\", \"kinase2\"]].apply(list, axis=1).apply(sorted)\n",
    "\n",
    "structure_distances[\"structure1\"] = [i[0] for i in structure_distances[\"structure_pair\"]]\n",
    "structure_distances[\"structure2\"] = [i[1] for i in structure_distances[\"structure_pair\"]]\n",
    "structure_distances[\"kinase1\"] = [i[0] for i in structure_distances[\"kinase_pair\"]]\n",
    "structure_distances[\"kinase2\"] = [i[1] for i in structure_distances[\"kinase_pair\"]]\n",
    "structure_distances = structure_distances.drop([\"structure_pair\", \"kinase_pair\"], axis=1)\n",
    "structure_distances.head()"
   ]
  },
  {
   "cell_type": "markdown",
   "metadata": {},
   "source": [
    "## Fingerprint pair coverage"
   ]
  },
  {
   "cell_type": "markdown",
   "metadata": {},
   "source": [
    "### Coverage between fingerprint pairs"
   ]
  },
  {
   "cell_type": "code",
   "execution_count": 19,
   "metadata": {},
   "outputs": [],
   "source": [
    "COVERAGE_CUTOFF=0.8"
   ]
  },
  {
   "cell_type": "code",
   "execution_count": 20,
   "metadata": {},
   "outputs": [
    {
     "data": {
      "text/plain": [
       "[<matplotlib.lines.Line2D at 0x7fef601abca0>]"
      ]
     },
     "execution_count": 20,
     "metadata": {},
     "output_type": "execute_result"
    },
    {
     "data": {
      "image/png": "[encoded data removed]",
      "text/plain": [
       "<Figure size 432x288 with 1 Axes>"
      ]
     },
     "metadata": {
      "needs_background": "light"
     },
     "output_type": "display_data"
    }
   ],
   "source": [
    "fig, ax = plt.subplots(1, 1)\n",
    "structure_distances[\"coverage\"].plot(\n",
    "    kind=\"hist\", title=f\"All coverages (# {structure_distances.shape[0]})\", bins=np.arange(0, 1.05, 0.01), xlim=(0, 1), logy=True\n",
    ");\n",
    "ax.plot([COVERAGE_CUTOFF, COVERAGE_CUTOFF], [0, 1000000], color=\"cyan\")"
   ]
  },
  {
   "cell_type": "markdown",
   "metadata": {},
   "source": [
    "We might want to filter out some fingerprint pairs because the coverage is super low."
   ]
  },
  {
   "cell_type": "code",
   "execution_count": 21,
   "metadata": {},
   "outputs": [
    {
     "data": {
      "text/plain": [
       "count    1.208107e+07\n",
       "mean     9.706215e-01\n",
       "std      4.487129e-02\n",
       "min      2.500000e-01\n",
       "25%      9.641667e-01\n",
       "50%      9.841667e-01\n",
       "75%      9.904167e-01\n",
       "max      9.983333e-01\n",
       "Name: coverage, dtype: float64"
      ]
     },
     "execution_count": 21,
     "metadata": {},
     "output_type": "execute_result"
    }
   ],
   "source": [
    "structure_distances[\"coverage\"].describe()"
   ]
  },
  {
   "cell_type": "markdown",
   "metadata": {},
   "source": [
    "### Filter distances by coverage cutoff"
   ]
  },
  {
   "cell_type": "code",
   "execution_count": 22,
   "metadata": {},
   "outputs": [
    {
     "data": {
      "text/html": [
       "<div>\n",
       "<style scoped>\n",
       "    .dataframe tbody tr th:only-of-type {\n",
       "        vertical-align: middle;\n",
       "    }\n",
       "\n",
       "    .dataframe tbody tr th {\n",
       "        vertical-align: top;\n",
       "    }\n",
       "\n",
       "    .dataframe thead th {\n",
       "        text-align: right;\n",
       "    }\n",
       "</style>\n",
       "<table border=\"1\" class=\"dataframe\">\n",
       "  <thead>\n",
       "    <tr style=\"text-align: right;\">\n",
       "      <th></th>\n",
       "      <th>structure1</th>\n",
       "      <th>structure2</th>\n",
       "      <th>kinase1</th>\n",
       "      <th>kinase2</th>\n",
       "      <th>distance</th>\n",
       "      <th>coverage</th>\n",
       "      <th>distance_filtered</th>\n",
       "    </tr>\n",
       "  </thead>\n",
       "  <tbody>\n",
       "    <tr>\n",
       "      <th>0</th>\n",
       "      <td>3835</td>\n",
       "      <td>6679</td>\n",
       "      <td>AAK1</td>\n",
       "      <td>AAK1</td>\n",
       "      <td>0.053726</td>\n",
       "      <td>0.995417</td>\n",
       "      <td>0.053726</td>\n",
       "    </tr>\n",
       "    <tr>\n",
       "      <th>1</th>\n",
       "      <td>3835</td>\n",
       "      <td>7156</td>\n",
       "      <td>AAK1</td>\n",
       "      <td>AAK1</td>\n",
       "      <td>0.066557</td>\n",
       "      <td>0.994583</td>\n",
       "      <td>0.066557</td>\n",
       "    </tr>\n",
       "    <tr>\n",
       "      <th>2</th>\n",
       "      <td>1104</td>\n",
       "      <td>3835</td>\n",
       "      <td>AAK1</td>\n",
       "      <td>ABL1</td>\n",
       "      <td>0.251198</td>\n",
       "      <td>0.994167</td>\n",
       "      <td>0.251198</td>\n",
       "    </tr>\n",
       "    <tr>\n",
       "      <th>3</th>\n",
       "      <td>1065</td>\n",
       "      <td>3835</td>\n",
       "      <td>AAK1</td>\n",
       "      <td>ABL1</td>\n",
       "      <td>0.264613</td>\n",
       "      <td>0.994167</td>\n",
       "      <td>0.264613</td>\n",
       "    </tr>\n",
       "    <tr>\n",
       "      <th>4</th>\n",
       "      <td>1090</td>\n",
       "      <td>3835</td>\n",
       "      <td>AAK1</td>\n",
       "      <td>ABL1</td>\n",
       "      <td>0.233935</td>\n",
       "      <td>0.994167</td>\n",
       "      <td>0.233935</td>\n",
       "    </tr>\n",
       "  </tbody>\n",
       "</table>\n",
       "</div>"
      ],
      "text/plain": [
       "   structure1  structure2 kinase1 kinase2  distance  coverage  \\\n",
       "0        3835        6679    AAK1    AAK1  0.053726  0.995417   \n",
       "1        3835        7156    AAK1    AAK1  0.066557  0.994583   \n",
       "2        1104        3835    AAK1    ABL1  0.251198  0.994167   \n",
       "3        1065        3835    AAK1    ABL1  0.264613  0.994167   \n",
       "4        1090        3835    AAK1    ABL1  0.233935  0.994167   \n",
       "\n",
       "   distance_filtered  \n",
       "0           0.053726  \n",
       "1           0.066557  \n",
       "2           0.251198  \n",
       "3           0.264613  \n",
       "4           0.233935  "
      ]
     },
     "execution_count": 22,
     "metadata": {},
     "output_type": "execute_result"
    }
   ],
   "source": [
    "structure_distances[\"distance_filtered\"] = np.where(\n",
    "    structure_distances[\"coverage\"].values < COVERAGE_CUTOFF, np.nan, structure_distances[\"distance\"].values\n",
    ")\n",
    "structure_distances.head()"
   ]
  },
  {
   "cell_type": "code",
   "execution_count": 23,
   "metadata": {},
   "outputs": [],
   "source": [
    "structure_distances_filtered = structure_distances[structure_distances[\"distance_filtered\"].notna()]"
   ]
  },
  {
   "cell_type": "code",
   "execution_count": 24,
   "metadata": {},
   "outputs": [
    {
     "name": "stdout",
     "output_type": "stream",
     "text": [
      "Structure pairs: 12081070\n",
      "Structure pairs not-NaN: 11851916\n"
     ]
    }
   ],
   "source": [
    "print(f\"Structure pairs: {structure_distances.shape[0]}\")\n",
    "print(f\"Structure pairs not-NaN: {structure_distances_filtered.shape[0]}\")"
   ]
  },
  {
   "cell_type": "markdown",
   "metadata": {},
   "source": [
    "### Number of kinases/structures (pairs)"
   ]
  },
  {
   "cell_type": "code",
   "execution_count": 26,
   "metadata": {},
   "outputs": [],
   "source": [
    "def n_pairs(n):\n",
    "    return int((n**2 - n) / 2 + n) "
   ]
  },
  {
   "cell_type": "code",
   "execution_count": 28,
   "metadata": {},
   "outputs": [
    {
     "data": {
      "text/html": [
       "<div>\n",
       "<style scoped>\n",
       "    .dataframe tbody tr th:only-of-type {\n",
       "        vertical-align: middle;\n",
       "    }\n",
       "\n",
       "    .dataframe tbody tr th {\n",
       "        vertical-align: top;\n",
       "    }\n",
       "\n",
       "    .dataframe thead th {\n",
       "        text-align: right;\n",
       "    }\n",
       "</style>\n",
       "<table border=\"1\" class=\"dataframe\">\n",
       "  <thead>\n",
       "    <tr style=\"text-align: right;\">\n",
       "      <th></th>\n",
       "      <th>All distances</th>\n",
       "      <th>Only distances matching cutoff</th>\n",
       "    </tr>\n",
       "  </thead>\n",
       "  <tbody>\n",
       "    <tr>\n",
       "      <th>Number of structures</th>\n",
       "      <td>4916</td>\n",
       "      <td>4877</td>\n",
       "    </tr>\n",
       "    <tr>\n",
       "      <th>Number of structure pairs (theory)</th>\n",
       "      <td>12085986</td>\n",
       "      <td>11895003</td>\n",
       "    </tr>\n",
       "    <tr>\n",
       "      <th>Number of structure pairs (experimental)</th>\n",
       "      <td>12081070</td>\n",
       "      <td>11851916</td>\n",
       "    </tr>\n",
       "    <tr>\n",
       "      <th>Number of kinases</th>\n",
       "      <td>292</td>\n",
       "      <td>285</td>\n",
       "    </tr>\n",
       "    <tr>\n",
       "      <th>Number of kinase pairs (theory)</th>\n",
       "      <td>42778</td>\n",
       "      <td>40755</td>\n",
       "    </tr>\n",
       "    <tr>\n",
       "      <th>Number of kinase pairs (experimental)</th>\n",
       "      <td>42717</td>\n",
       "      <td>40695</td>\n",
       "    </tr>\n",
       "  </tbody>\n",
       "</table>\n",
       "</div>"
      ],
      "text/plain": [
       "                                          All distances  \\\n",
       "Number of structures                               4916   \n",
       "Number of structure pairs (theory)             12085986   \n",
       "Number of structure pairs (experimental)       12081070   \n",
       "Number of kinases                                   292   \n",
       "Number of kinase pairs (theory)                   42778   \n",
       "Number of kinase pairs (experimental)             42717   \n",
       "\n",
       "                                          Only distances matching cutoff  \n",
       "Number of structures                                                4877  \n",
       "Number of structure pairs (theory)                              11895003  \n",
       "Number of structure pairs (experimental)                        11851916  \n",
       "Number of kinases                                                    285  \n",
       "Number of kinase pairs (theory)                                    40755  \n",
       "Number of kinase pairs (experimental)                              40695  "
      ]
     },
     "execution_count": 28,
     "metadata": {},
     "output_type": "execute_result"
    }
   ],
   "source": [
    "n_structures = pd.concat([structure_distances['structure1'], structure_distances['structure2']]).unique().shape[0]\n",
    "n_kinases = pd.concat([structure_distances['kinase1'], structure_distances['kinase2']]).unique().shape[0]\n",
    "n_structures_filtered = pd.concat([structure_distances_filtered['structure1'], structure_distances_filtered['structure2']]).unique().shape[0]\n",
    "n_kinases_filtered = pd.concat([structure_distances_filtered['kinase1'], structure_distances_filtered['kinase2']]).unique().shape[0]\n",
    " \n",
    "\n",
    "table = {\n",
    "    \"All distances\": [\n",
    "        n_structures,\n",
    "        n_pairs(n_structures),\n",
    "        structure_distances.shape[0], \n",
    "        n_kinases,\n",
    "        n_pairs(n_kinases),\n",
    "        structure_distances.groupby([\"kinase1\", \"kinase2\"]).size().shape[0],\n",
    "    ],\n",
    "    \"Only distances matching cutoff\": [\n",
    "        n_structures_filtered,\n",
    "        n_pairs(n_structures_filtered),\n",
    "        structure_distances_filtered.shape[0],\n",
    "        n_kinases_filtered,\n",
    "        n_pairs(n_kinases_filtered),\n",
    "        structure_distances_filtered.groupby([\"kinase1\", \"kinase2\"]).size().shape[0],\n",
    "    ]\n",
    "}\n",
    "table = pd.DataFrame(\n",
    "    table,\n",
    "    index=[\n",
    "        \"Number of structures\",\n",
    "        \"Number of structure pairs (theory)\",\n",
    "        \"Number of structure pairs (experimental)\",\n",
    "        \"Number of kinases\",\n",
    "        \"Number of kinase pairs (theory)\",\n",
    "        \"Number of kinase pairs (experimental)\",\n",
    "    ]\n",
    ")\n",
    "table"
   ]
  }
 ],
 "metadata": {
  "kernelspec": {
   "display_name": "Python 3",
   "language": "python",
   "name": "python3"
  },
  "language_info": {
   "codemirror_mode": {
    "name": "ipython",
    "version": 3
   },
   "file_extension": ".py",
   "mimetype": "text/x-python",
   "name": "python",
   "nbconvert_exporter": "python",
   "pygments_lexer": "ipython3",
   "version": "3.8.6"
  }
 },
 "nbformat": 4,
 "nbformat_minor": 4
}
