{
 "cells": [
  {
   "cell_type": "markdown",
   "metadata": {},
   "source": [
    "# Loading `kissim` results\n",
    "\n",
    "This is a short notebook showing how to load the `kissim` output JSON files as Python objects.\n",
    "\n",
    "- `fingerprint.json`: Fingerprints for all successfully encoded structures\n",
    "- `fingerprint_clean.json`: Fingerprints dataset without outlier structures\n",
    "- `feature_distances.json`: Feature distances between all fingerprint pairs\n",
    "- `fingerprint_distances.json`: Fingerprint distances between all fingerprint pairs\n",
    "\n",
    "Take up to 20 GB of memory."
   ]
  },
  {
   "cell_type": "code",
   "execution_count": null,
   "metadata": {},
   "outputs": [],
   "source": [
    "from pathlib import Path\n",
    "\n",
    "import pandas as pd\n",
    "from kissim.encoding import FingerprintGenerator\n",
    "from kissim.comparison import FeatureDistancesGenerator, FingerprintDistanceGenerator"
   ]
  },
  {
   "cell_type": "code",
   "execution_count": null,
   "metadata": {},
   "outputs": [],
   "source": [
    "HERE = Path(_dh[-1])  # noqa: F821\n",
    "RESULTS = HERE / \"../results/\""
   ]
  },
  {
   "cell_type": "markdown",
   "metadata": {},
   "source": [
    "## Load fingerprints"
   ]
  },
  {
   "cell_type": "markdown",
   "metadata": {},
   "source": [
    "### Without outlier filtering"
   ]
  },
  {
   "cell_type": "code",
   "execution_count": null,
   "metadata": {},
   "outputs": [],
   "source": [
    "%%time\n",
    "fingerprints = FingerprintGenerator.from_json(RESULTS / \"fingerprints.json\")\n",
    "len(fingerprints.data)"
   ]
  },
  {
   "cell_type": "markdown",
   "metadata": {},
   "source": [
    "### With outlier filtering"
   ]
  },
  {
   "cell_type": "code",
   "execution_count": null,
   "metadata": {},
   "outputs": [],
   "source": [
    "%%time\n",
    "fingerprints = FingerprintGenerator.from_json(RESULTS / \"fingerprints_clean.json\")\n",
    "len(fingerprints.data)"
   ]
  },
  {
   "cell_type": "markdown",
   "metadata": {},
   "source": [
    "## Load feature distances"
   ]
  },
  {
   "cell_type": "code",
   "execution_count": null,
   "metadata": {},
   "outputs": [],
   "source": [
    "%%time\n",
    "feature_distances = FeatureDistancesGenerator.from_json(RESULTS / \"feature_distances.json\")"
   ]
  },
  {
   "cell_type": "code",
   "execution_count": null,
   "metadata": {},
   "outputs": [],
   "source": [
    "len(feature_distances.data)"
   ]
  },
  {
   "cell_type": "code",
   "execution_count": null,
   "metadata": {},
   "outputs": [],
   "source": [
    "columns = feature_distances.data[0].data[\"feature_name\"].to_list()\n",
    "columns = [\"structure_id1\", \"structure_id2\"] + columns\n",
    "print(*columns)"
   ]
  },
  {
   "cell_type": "code",
   "execution_count": null,
   "metadata": {},
   "outputs": [],
   "source": [
    "%%time\n",
    "fd_data = [fd.data[\"distance\"] for fd in feature_distances.data]"
   ]
  },
  {
   "cell_type": "code",
   "execution_count": null,
   "metadata": {},
   "outputs": [],
   "source": [
    "columns = [\"structure_id1\", \"structure_id2\"] + feature_distances.data[0].data[\n",
    "    \"feature_name\"\n",
    "].to_list()\n",
    "fd_data = pd.DataFrame(fd_data, columns=columns)"
   ]
  },
  {
   "cell_type": "code",
   "execution_count": null,
   "metadata": {},
   "outputs": [],
   "source": [
    "%%time\n",
    "fd_data = [\n",
    "    [fd.structure_pair_ids[0], fd.structure_pair_ids[1]] + fd.data[\"distance\"].to_list()\n",
    "    for fd in feature_distances.data\n",
    "]\n",
    "columns = [\"structure_id1\", \"structure_id2\"] + feature_distances.data[0].data[\n",
    "    \"feature_name\"\n",
    "].to_list()\n",
    "fd_data = pd.DataFrame(fd_data, columns=columns)"
   ]
  },
  {
   "cell_type": "code",
   "execution_count": null,
   "metadata": {},
   "outputs": [],
   "source": [
    "fd_data.to_csv()"
   ]
  },
  {
   "cell_type": "markdown",
   "metadata": {},
   "source": [
    "## Load fingerprint distances"
   ]
  },
  {
   "cell_type": "code",
   "execution_count": null,
   "metadata": {},
   "outputs": [],
   "source": [
    "%%time\n",
    "fingerprint_distances = FingerprintDistanceGenerator.from_json(\n",
    "    RESULTS / \"fingerprint_distances.json\"\n",
    ")"
   ]
  },
  {
   "cell_type": "code",
   "execution_count": null,
   "metadata": {},
   "outputs": [],
   "source": [
    "len(feature_distances.data)"
   ]
  }
 ],
 "metadata": {
  "kernelspec": {
   "display_name": "Python 3",
   "language": "python",
   "name": "python3"
  },
  "language_info": {
   "codemirror_mode": {
    "name": "ipython",
    "version": 3
   },
   "file_extension": ".py",
   "mimetype": "text/x-python",
   "name": "python",
   "nbconvert_exporter": "python",
   "pygments_lexer": "ipython3",
   "version": "3.8.6"
  }
 },
 "nbformat": 4,
 "nbformat_minor": 4
}
