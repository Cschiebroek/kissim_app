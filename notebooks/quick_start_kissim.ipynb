{
 "cells": [
  {
   "cell_type": "markdown",
   "metadata": {},
   "source": [
    "# Loading `kissim` results\n",
    "\n",
    "This is a short notebook showing how to load the `kissim` output JSON files as Python objects.\n",
    "\n",
    "- `fingerprint.json`: Fingerprints for all successfully encoded structures\n",
    "- `fingerprint_clean.json`: Fingerprints dataset without outlier structures\n",
    "- `feature_distances.json`: Feature distances between all fingerprint pairs\n",
    "- `fingerprint_distances.json`: Fingerprint distances between all fingerprint pairs\n",
    "\n",
    "Take up to 20 GB of memory."
   ]
  },
  {
   "cell_type": "code",
   "execution_count": null,
   "metadata": {},
   "outputs": [],
   "source": [
    "from pathlib import Path\n",
    "\n",
    "import pandas as pd\n",
    "from kissim.encoding import FingerprintGenerator\n",
    "from kissim.comparison import FeatureDistancesGenerator, FingerprintDistanceGenerator"
   ]
  },
  {
   "cell_type": "code",
   "execution_count": null,
   "metadata": {},
   "outputs": [],
   "source": [
    "HERE = Path(_dh[-1])  # noqa: F821\n",
    "RESULTS = HERE / \"../results/\""
   ]
  },
  {
   "cell_type": "markdown",
   "metadata": {},
   "source": [
    "## Load fingerprints"
   ]
  },
  {
   "cell_type": "markdown",
   "metadata": {},
   "source": [
    "### Without outlier filtering"
   ]
  },
  {
   "cell_type": "code",
   "execution_count": null,
   "metadata": {},
   "outputs": [],
   "source": [
    "%%time\n",
    "fingerprints = FingerprintGenerator.from_json(RESULTS / \"fingerprints.json\")\n",
    "len(fingerprints.data)"
   ]
  },
  {
   "cell_type": "markdown",
   "metadata": {},
   "source": [
    "### With outlier filtering"
   ]
  },
  {
   "cell_type": "code",
   "execution_count": null,
   "metadata": {},
   "outputs": [],
   "source": [
    "%%time\n",
    "fingerprints = FingerprintGenerator.from_json(RESULTS / \"fingerprints_clean.json\")\n",
    "len(fingerprints.data)"
   ]
  },
  {
   "cell_type": "markdown",
   "metadata": {},
   "source": [
    "## Load feature distances"
   ]
  },
  {
   "cell_type": "code",
   "execution_count": null,
   "metadata": {
    "tags": []
   },
   "outputs": [],
   "source": [
    "%%time\n",
    "feature_distances = FeatureDistancesGenerator.from_json(RESULTS / \"feature_distances.json\")\n",
    "len(feature_distances.data)"
   ]
  },
  {
   "cell_type": "markdown",
   "metadata": {},
   "source": [
    "## Load fingerprint distances"
   ]
  },
  {
   "cell_type": "code",
   "execution_count": null,
   "metadata": {},
   "outputs": [],
   "source": [
    "%%time\n",
    "fingerprint_distances = FingerprintDistanceGenerator.from_json(\n",
    "    RESULTS / \"fingerprint_distances.json\"\n",
    ")\n",
    "len(fingerprint_distances.data)"
   ]
  }
 ],
 "metadata": {
  "kernelspec": {
   "display_name": "Python 3",
   "language": "python",
   "name": "python3"
  },
  "language_info": {
   "codemirror_mode": {
    "name": "ipython",
    "version": 3
   },
   "file_extension": ".py",
   "mimetype": "text/x-python",
   "name": "python",
   "nbconvert_exporter": "python",
   "pygments_lexer": "ipython3",
   "version": "3.8.6"
  }
 },
 "nbformat": 4,
 "nbformat_minor": 4
}
