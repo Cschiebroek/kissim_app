{
 "cells": [
  {
   "cell_type": "markdown",
   "metadata": {},
   "source": [
    "# Min-max cutoffs for continuous (=spatial) features\n",
    "\n",
    "Define the min-max cutoffs for the min-max normalization of continuous features such as the distances and moments features: Use the floor/ceiling values of the minimum/maximum values of the distances w.r.t. to each subpocket center."
   ]
  },
  {
   "cell_type": "code",
   "execution_count": 1,
   "metadata": {},
   "outputs": [
    {
     "data": {
      "application/vnd.jupyter.widget-view+json": {
       "model_id": "1806977ae87a4f198f2075ca8a11f67c",
       "version_major": 2,
       "version_minor": 0
      },
      "text/plain": []
     },
     "metadata": {},
     "output_type": "display_data"
    }
   ],
   "source": [
    "import json\n",
    "from pathlib import Path\n",
    "\n",
    "import numpy as np\n",
    "import pandas as pd\n",
    "\n",
    "from kissim.encoding import FingerprintGenerator"
   ]
  },
  {
   "cell_type": "code",
   "execution_count": 2,
   "metadata": {},
   "outputs": [],
   "source": [
    "HERE = Path(_dh[-1])\n",
    "RESULTS = HERE / \"../../results/\""
   ]
  },
  {
   "cell_type": "markdown",
   "metadata": {},
   "source": [
    "## Load fingerprints"
   ]
  },
  {
   "cell_type": "code",
   "execution_count": 3,
   "metadata": {},
   "outputs": [
    {
     "name": "stdout",
     "output_type": "stream",
     "text": [
      "Number of fingerprints: 4916\n"
     ]
    }
   ],
   "source": [
    "fingerprint_generator = FingerprintGenerator.from_json(RESULTS / \"fingerprints_clean.json\")\n",
    "print(f\"Number of fingerprints: {len(fingerprint_generator.data)}\")\n",
    "# NBVAL_CHECK_OUTPUT"
   ]
  },
  {
   "cell_type": "markdown",
   "metadata": {},
   "source": [
    "## Distances features"
   ]
  },
  {
   "cell_type": "code",
   "execution_count": 4,
   "metadata": {},
   "outputs": [
    {
     "data": {
      "text/html": [
       "<div>\n",
       "<style scoped>\n",
       "    .dataframe tbody tr th:only-of-type {\n",
       "        vertical-align: middle;\n",
       "    }\n",
       "\n",
       "    .dataframe tbody tr th {\n",
       "        vertical-align: top;\n",
       "    }\n",
       "\n",
       "    .dataframe thead th {\n",
       "        text-align: right;\n",
       "    }\n",
       "</style>\n",
       "<table border=\"1\" class=\"dataframe\">\n",
       "  <thead>\n",
       "    <tr style=\"text-align: right;\">\n",
       "      <th></th>\n",
       "      <th></th>\n",
       "      <th>hinge_region</th>\n",
       "      <th>dfg_region</th>\n",
       "      <th>front_pocket</th>\n",
       "      <th>center</th>\n",
       "    </tr>\n",
       "    <tr>\n",
       "      <th>structure_klifs_id</th>\n",
       "      <th>residue_ix</th>\n",
       "      <th></th>\n",
       "      <th></th>\n",
       "      <th></th>\n",
       "      <th></th>\n",
       "    </tr>\n",
       "  </thead>\n",
       "  <tbody>\n",
       "    <tr>\n",
       "      <th rowspan=\"5\" valign=\"top\">3835</th>\n",
       "      <th>1</th>\n",
       "      <td>12.798095</td>\n",
       "      <td>19.079805</td>\n",
       "      <td>14.099948</td>\n",
       "      <td>17.262426</td>\n",
       "    </tr>\n",
       "    <tr>\n",
       "      <th>2</th>\n",
       "      <td>11.640075</td>\n",
       "      <td>16.481350</td>\n",
       "      <td>11.632327</td>\n",
       "      <td>15.175342</td>\n",
       "    </tr>\n",
       "    <tr>\n",
       "      <th>3</th>\n",
       "      <td>9.240445</td>\n",
       "      <td>15.125156</td>\n",
       "      <td>8.279718</td>\n",
       "      <td>12.447825</td>\n",
       "    </tr>\n",
       "    <tr>\n",
       "      <th>4</th>\n",
       "      <td>10.344351</td>\n",
       "      <td>13.665039</td>\n",
       "      <td>7.234169</td>\n",
       "      <td>11.853809</td>\n",
       "    </tr>\n",
       "    <tr>\n",
       "      <th>5</th>\n",
       "      <td>12.414604</td>\n",
       "      <td>12.788149</td>\n",
       "      <td>9.114764</td>\n",
       "      <td>12.903294</td>\n",
       "    </tr>\n",
       "    <tr>\n",
       "      <th>...</th>\n",
       "      <th>...</th>\n",
       "      <td>...</td>\n",
       "      <td>...</td>\n",
       "      <td>...</td>\n",
       "      <td>...</td>\n",
       "    </tr>\n",
       "    <tr>\n",
       "      <th rowspan=\"5\" valign=\"top\">7219</th>\n",
       "      <th>81</th>\n",
       "      <td>8.892165</td>\n",
       "      <td>7.109349</td>\n",
       "      <td>6.723064</td>\n",
       "      <td>3.793342</td>\n",
       "    </tr>\n",
       "    <tr>\n",
       "      <th>82</th>\n",
       "      <td>11.366709</td>\n",
       "      <td>6.088001</td>\n",
       "      <td>10.422721</td>\n",
       "      <td>6.788561</td>\n",
       "    </tr>\n",
       "    <tr>\n",
       "      <th>83</th>\n",
       "      <td>13.247789</td>\n",
       "      <td>5.919116</td>\n",
       "      <td>11.564625</td>\n",
       "      <td>9.319808</td>\n",
       "    </tr>\n",
       "    <tr>\n",
       "      <th>84</th>\n",
       "      <td>16.129894</td>\n",
       "      <td>9.708284</td>\n",
       "      <td>13.088131</td>\n",
       "      <td>11.473628</td>\n",
       "    </tr>\n",
       "    <tr>\n",
       "      <th>85</th>\n",
       "      <td>16.746517</td>\n",
       "      <td>10.580341</td>\n",
       "      <td>14.536907</td>\n",
       "      <td>11.731262</td>\n",
       "    </tr>\n",
       "  </tbody>\n",
       "</table>\n",
       "<p>417860 rows × 4 columns</p>\n",
       "</div>"
      ],
      "text/plain": [
       "                               hinge_region  dfg_region  front_pocket  \\\n",
       "structure_klifs_id residue_ix                                           \n",
       "3835               1              12.798095   19.079805     14.099948   \n",
       "                   2              11.640075   16.481350     11.632327   \n",
       "                   3               9.240445   15.125156      8.279718   \n",
       "                   4              10.344351   13.665039      7.234169   \n",
       "                   5              12.414604   12.788149      9.114764   \n",
       "...                                     ...         ...           ...   \n",
       "7219               81              8.892165    7.109349      6.723064   \n",
       "                   82             11.366709    6.088001     10.422721   \n",
       "                   83             13.247789    5.919116     11.564625   \n",
       "                   84             16.129894    9.708284     13.088131   \n",
       "                   85             16.746517   10.580341     14.536907   \n",
       "\n",
       "                                  center  \n",
       "structure_klifs_id residue_ix             \n",
       "3835               1           17.262426  \n",
       "                   2           15.175342  \n",
       "                   3           12.447825  \n",
       "                   4           11.853809  \n",
       "                   5           12.903294  \n",
       "...                                  ...  \n",
       "7219               81           3.793342  \n",
       "                   82           6.788561  \n",
       "                   83           9.319808  \n",
       "                   84          11.473628  \n",
       "                   85          11.731262  \n",
       "\n",
       "[417860 rows x 4 columns]"
      ]
     },
     "execution_count": 4,
     "metadata": {},
     "output_type": "execute_result"
    }
   ],
   "source": [
    "features_d = fingerprint_generator.distances_exploded()\n",
    "features_d"
   ]
  },
  {
   "cell_type": "code",
   "execution_count": 5,
   "metadata": {},
   "outputs": [
    {
     "data": {
      "text/html": [
       "<div>\n",
       "<style scoped>\n",
       "    .dataframe tbody tr th:only-of-type {\n",
       "        vertical-align: middle;\n",
       "    }\n",
       "\n",
       "    .dataframe tbody tr th {\n",
       "        vertical-align: top;\n",
       "    }\n",
       "\n",
       "    .dataframe thead th {\n",
       "        text-align: right;\n",
       "    }\n",
       "</style>\n",
       "<table border=\"1\" class=\"dataframe\">\n",
       "  <thead>\n",
       "    <tr style=\"text-align: right;\">\n",
       "      <th></th>\n",
       "      <th>hinge_region</th>\n",
       "      <th>dfg_region</th>\n",
       "      <th>front_pocket</th>\n",
       "      <th>center</th>\n",
       "    </tr>\n",
       "  </thead>\n",
       "  <tbody>\n",
       "    <tr>\n",
       "      <th>count</th>\n",
       "      <td>410664.000000</td>\n",
       "      <td>406451.000000</td>\n",
       "      <td>410681.000000</td>\n",
       "      <td>411290.000000</td>\n",
       "    </tr>\n",
       "    <tr>\n",
       "      <th>mean</th>\n",
       "      <td>12.871981</td>\n",
       "      <td>13.576839</td>\n",
       "      <td>13.032085</td>\n",
       "      <td>12.003979</td>\n",
       "    </tr>\n",
       "    <tr>\n",
       "      <th>std</th>\n",
       "      <td>4.564724</td>\n",
       "      <td>4.861037</td>\n",
       "      <td>4.278035</td>\n",
       "      <td>3.481250</td>\n",
       "    </tr>\n",
       "    <tr>\n",
       "      <th>min</th>\n",
       "      <td>2.689810</td>\n",
       "      <td>0.873535</td>\n",
       "      <td>1.355564</td>\n",
       "      <td>1.001008</td>\n",
       "    </tr>\n",
       "    <tr>\n",
       "      <th>0.1%</th>\n",
       "      <td>3.702853</td>\n",
       "      <td>3.576234</td>\n",
       "      <td>4.513442</td>\n",
       "      <td>2.312039</td>\n",
       "    </tr>\n",
       "    <tr>\n",
       "      <th>1%</th>\n",
       "      <td>4.112844</td>\n",
       "      <td>4.659211</td>\n",
       "      <td>5.452539</td>\n",
       "      <td>3.050403</td>\n",
       "    </tr>\n",
       "    <tr>\n",
       "      <th>50%</th>\n",
       "      <td>12.554697</td>\n",
       "      <td>13.297532</td>\n",
       "      <td>12.457080</td>\n",
       "      <td>12.020114</td>\n",
       "    </tr>\n",
       "    <tr>\n",
       "      <th>99%</th>\n",
       "      <td>23.062770</td>\n",
       "      <td>26.716240</td>\n",
       "      <td>23.409007</td>\n",
       "      <td>21.176027</td>\n",
       "    </tr>\n",
       "    <tr>\n",
       "      <th>99.9%</th>\n",
       "      <td>25.056192</td>\n",
       "      <td>29.279455</td>\n",
       "      <td>25.563321</td>\n",
       "      <td>23.517292</td>\n",
       "    </tr>\n",
       "    <tr>\n",
       "      <th>max</th>\n",
       "      <td>30.791023</td>\n",
       "      <td>33.760345</td>\n",
       "      <td>32.931515</td>\n",
       "      <td>28.318304</td>\n",
       "    </tr>\n",
       "  </tbody>\n",
       "</table>\n",
       "</div>"
      ],
      "text/plain": [
       "        hinge_region     dfg_region   front_pocket         center\n",
       "count  410664.000000  406451.000000  410681.000000  411290.000000\n",
       "mean       12.871981      13.576839      13.032085      12.003979\n",
       "std         4.564724       4.861037       4.278035       3.481250\n",
       "min         2.689810       0.873535       1.355564       1.001008\n",
       "0.1%        3.702853       3.576234       4.513442       2.312039\n",
       "1%          4.112844       4.659211       5.452539       3.050403\n",
       "50%        12.554697      13.297532      12.457080      12.020114\n",
       "99%        23.062770      26.716240      23.409007      21.176027\n",
       "99.9%      25.056192      29.279455      25.563321      23.517292\n",
       "max        30.791023      33.760345      32.931515      28.318304"
      ]
     },
     "execution_count": 5,
     "metadata": {},
     "output_type": "execute_result"
    }
   ],
   "source": [
    "features_d_stats = features_d.describe(percentiles=[0.001, 0.01, 0.99, 0.999])\n",
    "features_d_stats"
   ]
  },
  {
   "cell_type": "code",
   "execution_count": 6,
   "metadata": {},
   "outputs": [
    {
     "data": {
      "text/html": [
       "<div>\n",
       "<style scoped>\n",
       "    .dataframe tbody tr th:only-of-type {\n",
       "        vertical-align: middle;\n",
       "    }\n",
       "\n",
       "    .dataframe tbody tr th {\n",
       "        vertical-align: top;\n",
       "    }\n",
       "\n",
       "    .dataframe thead th {\n",
       "        text-align: right;\n",
       "    }\n",
       "</style>\n",
       "<table border=\"1\" class=\"dataframe\">\n",
       "  <thead>\n",
       "    <tr style=\"text-align: right;\">\n",
       "      <th></th>\n",
       "      <th>hinge_region</th>\n",
       "      <th>dfg_region</th>\n",
       "      <th>front_pocket</th>\n",
       "      <th>center</th>\n",
       "    </tr>\n",
       "  </thead>\n",
       "  <tbody>\n",
       "    <tr>\n",
       "      <th>min</th>\n",
       "      <td>2.689810</td>\n",
       "      <td>0.873535</td>\n",
       "      <td>1.355564</td>\n",
       "      <td>1.001008</td>\n",
       "    </tr>\n",
       "    <tr>\n",
       "      <th>max</th>\n",
       "      <td>30.791023</td>\n",
       "      <td>33.760345</td>\n",
       "      <td>32.931515</td>\n",
       "      <td>28.318304</td>\n",
       "    </tr>\n",
       "  </tbody>\n",
       "</table>\n",
       "</div>"
      ],
      "text/plain": [
       "     hinge_region  dfg_region  front_pocket     center\n",
       "min      2.689810    0.873535      1.355564   1.001008\n",
       "max     30.791023   33.760345     32.931515  28.318304"
      ]
     },
     "execution_count": 6,
     "metadata": {},
     "output_type": "execute_result"
    }
   ],
   "source": [
    "features_d_stats.loc[[\"min\", \"max\"], :]"
   ]
  },
  {
   "cell_type": "code",
   "execution_count": 7,
   "metadata": {},
   "outputs": [
    {
     "data": {
      "text/html": [
       "<div>\n",
       "<style scoped>\n",
       "    .dataframe tbody tr th:only-of-type {\n",
       "        vertical-align: middle;\n",
       "    }\n",
       "\n",
       "    .dataframe tbody tr th {\n",
       "        vertical-align: top;\n",
       "    }\n",
       "\n",
       "    .dataframe thead th {\n",
       "        text-align: right;\n",
       "    }\n",
       "</style>\n",
       "<table border=\"1\" class=\"dataframe\">\n",
       "  <thead>\n",
       "    <tr style=\"text-align: right;\">\n",
       "      <th></th>\n",
       "      <th>hinge_region</th>\n",
       "      <th>dfg_region</th>\n",
       "      <th>front_pocket</th>\n",
       "      <th>center</th>\n",
       "    </tr>\n",
       "  </thead>\n",
       "  <tbody>\n",
       "    <tr>\n",
       "      <th>min</th>\n",
       "      <td>2.0</td>\n",
       "      <td>0.0</td>\n",
       "      <td>1.0</td>\n",
       "      <td>1.0</td>\n",
       "    </tr>\n",
       "    <tr>\n",
       "      <th>max</th>\n",
       "      <td>31.0</td>\n",
       "      <td>34.0</td>\n",
       "      <td>33.0</td>\n",
       "      <td>29.0</td>\n",
       "    </tr>\n",
       "  </tbody>\n",
       "</table>\n",
       "</div>"
      ],
      "text/plain": [
       "     hinge_region  dfg_region  front_pocket  center\n",
       "min           2.0         0.0           1.0     1.0\n",
       "max          31.0        34.0          33.0    29.0"
      ]
     },
     "execution_count": 7,
     "metadata": {},
     "output_type": "execute_result"
    }
   ],
   "source": [
    "distance_cutoff = pd.concat(\n",
    "    [np.floor(features_d_stats.loc[\"min\", :]), np.ceil(features_d_stats.loc[\"max\", :])], axis=1\n",
    ").transpose()\n",
    "distance_cutoff"
   ]
  },
  {
   "cell_type": "markdown",
   "metadata": {},
   "source": [
    "Format as dictionary as needed for `kissim`: \n",
    "https://github.com/volkamerlab/kissim/blob/master/kissim/definitions.py"
   ]
  },
  {
   "cell_type": "code",
   "execution_count": 8,
   "metadata": {},
   "outputs": [
    {
     "data": {
      "text/plain": [
       "{'hinge_region': (2.0, 31.0),\n",
       " 'dfg_region': (0.0, 34.0),\n",
       " 'front_pocket': (1.0, 33.0),\n",
       " 'center': (1.0, 29.0)}"
      ]
     },
     "execution_count": 8,
     "metadata": {},
     "output_type": "execute_result"
    }
   ],
   "source": [
    "{subpocket_name: tuple(values) for subpocket_name, values in distance_cutoff.items()}"
   ]
  },
  {
   "cell_type": "markdown",
   "metadata": {},
   "source": [
    "## Moments features"
   ]
  },
  {
   "cell_type": "code",
   "execution_count": 9,
   "metadata": {},
   "outputs": [],
   "source": [
    "features_m = fingerprint_generator.moments_exploded()\n",
    "features_m = features_m.stack().unstack(level=1).reset_index(drop=True)"
   ]
  },
  {
   "cell_type": "code",
   "execution_count": 10,
   "metadata": {},
   "outputs": [
    {
     "data": {
      "text/html": [
       "<div>\n",
       "<style scoped>\n",
       "    .dataframe tbody tr th:only-of-type {\n",
       "        vertical-align: middle;\n",
       "    }\n",
       "\n",
       "    .dataframe tbody tr th {\n",
       "        vertical-align: top;\n",
       "    }\n",
       "\n",
       "    .dataframe thead th {\n",
       "        text-align: right;\n",
       "    }\n",
       "</style>\n",
       "<table border=\"1\" class=\"dataframe\">\n",
       "  <thead>\n",
       "    <tr style=\"text-align: right;\">\n",
       "      <th>moment</th>\n",
       "      <th>1</th>\n",
       "      <th>2</th>\n",
       "      <th>3</th>\n",
       "    </tr>\n",
       "  </thead>\n",
       "  <tbody>\n",
       "    <tr>\n",
       "      <th>count</th>\n",
       "      <td>19585.000000</td>\n",
       "      <td>19585.000000</td>\n",
       "      <td>19585.000000</td>\n",
       "    </tr>\n",
       "    <tr>\n",
       "      <th>mean</th>\n",
       "      <td>12.869594</td>\n",
       "      <td>4.281653</td>\n",
       "      <td>2.777692</td>\n",
       "    </tr>\n",
       "    <tr>\n",
       "      <th>std</th>\n",
       "      <td>0.618134</td>\n",
       "      <td>0.557168</td>\n",
       "      <td>1.066930</td>\n",
       "    </tr>\n",
       "    <tr>\n",
       "      <th>min</th>\n",
       "      <td>11.311548</td>\n",
       "      <td>2.838044</td>\n",
       "      <td>-2.546785</td>\n",
       "    </tr>\n",
       "    <tr>\n",
       "      <th>0.1%</th>\n",
       "      <td>11.563720</td>\n",
       "      <td>3.035773</td>\n",
       "      <td>-2.101982</td>\n",
       "    </tr>\n",
       "    <tr>\n",
       "      <th>1%</th>\n",
       "      <td>11.681274</td>\n",
       "      <td>3.260454</td>\n",
       "      <td>-1.694259</td>\n",
       "    </tr>\n",
       "    <tr>\n",
       "      <th>50%</th>\n",
       "      <td>12.920924</td>\n",
       "      <td>4.419078</td>\n",
       "      <td>2.882199</td>\n",
       "    </tr>\n",
       "    <tr>\n",
       "      <th>99%</th>\n",
       "      <td>14.185183</td>\n",
       "      <td>5.282933</td>\n",
       "      <td>4.704321</td>\n",
       "    </tr>\n",
       "    <tr>\n",
       "      <th>99.9%</th>\n",
       "      <td>14.834405</td>\n",
       "      <td>5.554950</td>\n",
       "      <td>5.637431</td>\n",
       "    </tr>\n",
       "    <tr>\n",
       "      <th>max</th>\n",
       "      <td>16.848968</td>\n",
       "      <td>6.377253</td>\n",
       "      <td>6.178007</td>\n",
       "    </tr>\n",
       "  </tbody>\n",
       "</table>\n",
       "</div>"
      ],
      "text/plain": [
       "moment             1             2             3\n",
       "count   19585.000000  19585.000000  19585.000000\n",
       "mean       12.869594      4.281653      2.777692\n",
       "std         0.618134      0.557168      1.066930\n",
       "min        11.311548      2.838044     -2.546785\n",
       "0.1%       11.563720      3.035773     -2.101982\n",
       "1%         11.681274      3.260454     -1.694259\n",
       "50%        12.920924      4.419078      2.882199\n",
       "99%        14.185183      5.282933      4.704321\n",
       "99.9%      14.834405      5.554950      5.637431\n",
       "max        16.848968      6.377253      6.178007"
      ]
     },
     "execution_count": 10,
     "metadata": {},
     "output_type": "execute_result"
    }
   ],
   "source": [
    "features_m_stats = features_m.describe(percentiles=[0.001, 0.01, 0.99, 0.999])\n",
    "features_m_stats"
   ]
  },
  {
   "cell_type": "code",
   "execution_count": 11,
   "metadata": {},
   "outputs": [
    {
     "data": {
      "text/html": [
       "<div>\n",
       "<style scoped>\n",
       "    .dataframe tbody tr th:only-of-type {\n",
       "        vertical-align: middle;\n",
       "    }\n",
       "\n",
       "    .dataframe tbody tr th {\n",
       "        vertical-align: top;\n",
       "    }\n",
       "\n",
       "    .dataframe thead th {\n",
       "        text-align: right;\n",
       "    }\n",
       "</style>\n",
       "<table border=\"1\" class=\"dataframe\">\n",
       "  <thead>\n",
       "    <tr style=\"text-align: right;\">\n",
       "      <th>moment</th>\n",
       "      <th>1</th>\n",
       "      <th>2</th>\n",
       "      <th>3</th>\n",
       "    </tr>\n",
       "  </thead>\n",
       "  <tbody>\n",
       "    <tr>\n",
       "      <th>min</th>\n",
       "      <td>11.0</td>\n",
       "      <td>2.0</td>\n",
       "      <td>-3.0</td>\n",
       "    </tr>\n",
       "    <tr>\n",
       "      <th>max</th>\n",
       "      <td>17.0</td>\n",
       "      <td>7.0</td>\n",
       "      <td>7.0</td>\n",
       "    </tr>\n",
       "  </tbody>\n",
       "</table>\n",
       "</div>"
      ],
      "text/plain": [
       "moment     1    2    3\n",
       "min     11.0  2.0 -3.0\n",
       "max     17.0  7.0  7.0"
      ]
     },
     "execution_count": 11,
     "metadata": {},
     "output_type": "execute_result"
    }
   ],
   "source": [
    "moment_cutoff = pd.concat(\n",
    "    [np.floor(features_m_stats.loc[\"min\", :]), np.ceil(features_m_stats.loc[\"max\", :])], axis=1\n",
    ").transpose()\n",
    "moment_cutoff"
   ]
  },
  {
   "cell_type": "markdown",
   "metadata": {},
   "source": [
    "Format as dictionary as needed for `kissim`: \n",
    "https://github.com/volkamerlab/kissim/blob/master/kissim/definitions.py"
   ]
  },
  {
   "cell_type": "code",
   "execution_count": 12,
   "metadata": {},
   "outputs": [
    {
     "data": {
      "text/plain": [
       "{1: (11.0, 17.0), 2: (2.0, 7.0), 3: (-3.0, 7.0)}"
      ]
     },
     "execution_count": 12,
     "metadata": {},
     "output_type": "execute_result"
    }
   ],
   "source": [
    "{subpocket_name: tuple(values) for subpocket_name, values in moment_cutoff.items()}"
   ]
  }
 ],
 "metadata": {
  "kernelspec": {
   "display_name": "Python 3",
   "language": "python",
   "name": "python3"
  },
  "language_info": {
   "codemirror_mode": {
    "name": "ipython",
    "version": 3
   },
   "file_extension": ".py",
   "mimetype": "text/x-python",
   "name": "python",
   "nbconvert_exporter": "python",
   "pygments_lexer": "ipython3",
   "version": "3.8.6"
  }
 },
 "nbformat": 4,
 "nbformat_minor": 4
}
