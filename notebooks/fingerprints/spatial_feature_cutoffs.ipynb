{
 "cells": [
  {
   "cell_type": "markdown",
   "metadata": {},
   "source": [
    "# Min-max cutoffs for continuous (=spatial) features\n",
    "\n",
    "Define the min-max cutoffs for the min-max normalization of continuous features such as the distances and moments features."
   ]
  },
  {
   "cell_type": "code",
   "execution_count": 1,
   "metadata": {},
   "outputs": [
    {
     "data": {
      "application/vnd.jupyter.widget-view+json": {
       "model_id": "5964151cc00942fcb91a548c34097344",
       "version_major": 2,
       "version_minor": 0
      },
      "text/plain": []
     },
     "metadata": {},
     "output_type": "display_data"
    }
   ],
   "source": [
    "import json\n",
    "from pathlib import Path\n",
    "\n",
    "import pandas as pd\n",
    "\n",
    "from kissim.encoding import FingerprintGenerator"
   ]
  },
  {
   "cell_type": "code",
   "execution_count": 2,
   "metadata": {},
   "outputs": [],
   "source": [
    "HERE = Path(_dh[-1])\n",
    "RESULTS = HERE / \"../../results/\""
   ]
  },
  {
   "cell_type": "markdown",
   "metadata": {},
   "source": [
    "## Load fingerprints"
   ]
  },
  {
   "cell_type": "code",
   "execution_count": 3,
   "metadata": {},
   "outputs": [
    {
     "name": "stdout",
     "output_type": "stream",
     "text": [
      "Number of fingerprints: 4918\n"
     ]
    }
   ],
   "source": [
    "fingerprint_generator = FingerprintGenerator.from_json(RESULTS / \"fingerprints.json\")\n",
    "print(f\"Number of fingerprints: {len(fingerprint_generator.data)}\")"
   ]
  },
  {
   "cell_type": "markdown",
   "metadata": {},
   "source": [
    "## Distances features"
   ]
  },
  {
   "cell_type": "code",
   "execution_count": 4,
   "metadata": {},
   "outputs": [
    {
     "data": {
      "text/html": [
       "<div>\n",
       "<style scoped>\n",
       "    .dataframe tbody tr th:only-of-type {\n",
       "        vertical-align: middle;\n",
       "    }\n",
       "\n",
       "    .dataframe tbody tr th {\n",
       "        vertical-align: top;\n",
       "    }\n",
       "\n",
       "    .dataframe thead th {\n",
       "        text-align: right;\n",
       "    }\n",
       "</style>\n",
       "<table border=\"1\" class=\"dataframe\">\n",
       "  <thead>\n",
       "    <tr style=\"text-align: right;\">\n",
       "      <th></th>\n",
       "      <th></th>\n",
       "      <th>hinge_region</th>\n",
       "      <th>dfg_region</th>\n",
       "      <th>front_pocket</th>\n",
       "      <th>center</th>\n",
       "    </tr>\n",
       "    <tr>\n",
       "      <th>structure_klifs_id</th>\n",
       "      <th>residue_ix</th>\n",
       "      <th></th>\n",
       "      <th></th>\n",
       "      <th></th>\n",
       "      <th></th>\n",
       "    </tr>\n",
       "  </thead>\n",
       "  <tbody>\n",
       "    <tr>\n",
       "      <th rowspan=\"5\" valign=\"top\">3835</th>\n",
       "      <th>1</th>\n",
       "      <td>12.798095</td>\n",
       "      <td>19.079805</td>\n",
       "      <td>14.099948</td>\n",
       "      <td>17.262426</td>\n",
       "    </tr>\n",
       "    <tr>\n",
       "      <th>2</th>\n",
       "      <td>11.640075</td>\n",
       "      <td>16.481350</td>\n",
       "      <td>11.632327</td>\n",
       "      <td>15.175342</td>\n",
       "    </tr>\n",
       "    <tr>\n",
       "      <th>3</th>\n",
       "      <td>9.240445</td>\n",
       "      <td>15.125156</td>\n",
       "      <td>8.279718</td>\n",
       "      <td>12.447825</td>\n",
       "    </tr>\n",
       "    <tr>\n",
       "      <th>4</th>\n",
       "      <td>10.344351</td>\n",
       "      <td>13.665039</td>\n",
       "      <td>7.234169</td>\n",
       "      <td>11.853809</td>\n",
       "    </tr>\n",
       "    <tr>\n",
       "      <th>5</th>\n",
       "      <td>12.414604</td>\n",
       "      <td>12.788149</td>\n",
       "      <td>9.114764</td>\n",
       "      <td>12.903294</td>\n",
       "    </tr>\n",
       "    <tr>\n",
       "      <th>...</th>\n",
       "      <th>...</th>\n",
       "      <td>...</td>\n",
       "      <td>...</td>\n",
       "      <td>...</td>\n",
       "      <td>...</td>\n",
       "    </tr>\n",
       "    <tr>\n",
       "      <th rowspan=\"5\" valign=\"top\">7219</th>\n",
       "      <th>81</th>\n",
       "      <td>8.892165</td>\n",
       "      <td>7.109349</td>\n",
       "      <td>6.723064</td>\n",
       "      <td>3.793342</td>\n",
       "    </tr>\n",
       "    <tr>\n",
       "      <th>82</th>\n",
       "      <td>11.366709</td>\n",
       "      <td>6.088001</td>\n",
       "      <td>10.422721</td>\n",
       "      <td>6.788561</td>\n",
       "    </tr>\n",
       "    <tr>\n",
       "      <th>83</th>\n",
       "      <td>13.247789</td>\n",
       "      <td>5.919116</td>\n",
       "      <td>11.564625</td>\n",
       "      <td>9.319808</td>\n",
       "    </tr>\n",
       "    <tr>\n",
       "      <th>84</th>\n",
       "      <td>16.129894</td>\n",
       "      <td>9.708284</td>\n",
       "      <td>13.088131</td>\n",
       "      <td>11.473628</td>\n",
       "    </tr>\n",
       "    <tr>\n",
       "      <th>85</th>\n",
       "      <td>16.746517</td>\n",
       "      <td>10.580341</td>\n",
       "      <td>14.536907</td>\n",
       "      <td>11.731262</td>\n",
       "    </tr>\n",
       "  </tbody>\n",
       "</table>\n",
       "<p>418030 rows × 4 columns</p>\n",
       "</div>"
      ],
      "text/plain": [
       "                               hinge_region  dfg_region  front_pocket  \\\n",
       "structure_klifs_id residue_ix                                           \n",
       "3835               1              12.798095   19.079805     14.099948   \n",
       "                   2              11.640075   16.481350     11.632327   \n",
       "                   3               9.240445   15.125156      8.279718   \n",
       "                   4              10.344351   13.665039      7.234169   \n",
       "                   5              12.414604   12.788149      9.114764   \n",
       "...                                     ...         ...           ...   \n",
       "7219               81              8.892165    7.109349      6.723064   \n",
       "                   82             11.366709    6.088001     10.422721   \n",
       "                   83             13.247789    5.919116     11.564625   \n",
       "                   84             16.129894    9.708284     13.088131   \n",
       "                   85             16.746517   10.580341     14.536907   \n",
       "\n",
       "                                  center  \n",
       "structure_klifs_id residue_ix             \n",
       "3835               1           17.262426  \n",
       "                   2           15.175342  \n",
       "                   3           12.447825  \n",
       "                   4           11.853809  \n",
       "                   5           12.903294  \n",
       "...                                  ...  \n",
       "7219               81           3.793342  \n",
       "                   82           6.788561  \n",
       "                   83           9.319808  \n",
       "                   84          11.473628  \n",
       "                   85          11.731262  \n",
       "\n",
       "[418030 rows x 4 columns]"
      ]
     },
     "execution_count": 4,
     "metadata": {},
     "output_type": "execute_result"
    }
   ],
   "source": [
    "features_d = fingerprint_generator.distances_exploded\n",
    "features_d"
   ]
  },
  {
   "cell_type": "code",
   "execution_count": 5,
   "metadata": {},
   "outputs": [
    {
     "data": {
      "text/html": [
       "<div>\n",
       "<style scoped>\n",
       "    .dataframe tbody tr th:only-of-type {\n",
       "        vertical-align: middle;\n",
       "    }\n",
       "\n",
       "    .dataframe tbody tr th {\n",
       "        vertical-align: top;\n",
       "    }\n",
       "\n",
       "    .dataframe thead th {\n",
       "        text-align: right;\n",
       "    }\n",
       "</style>\n",
       "<table border=\"1\" class=\"dataframe\">\n",
       "  <thead>\n",
       "    <tr style=\"text-align: right;\">\n",
       "      <th></th>\n",
       "      <th>hinge_region</th>\n",
       "      <th>dfg_region</th>\n",
       "      <th>front_pocket</th>\n",
       "      <th>center</th>\n",
       "    </tr>\n",
       "  </thead>\n",
       "  <tbody>\n",
       "    <tr>\n",
       "      <th>count</th>\n",
       "      <td>410834.000000</td>\n",
       "      <td>406621.000000</td>\n",
       "      <td>410851.000000</td>\n",
       "      <td>411460.000000</td>\n",
       "    </tr>\n",
       "    <tr>\n",
       "      <th>mean</th>\n",
       "      <td>12.874321</td>\n",
       "      <td>13.579542</td>\n",
       "      <td>13.035534</td>\n",
       "      <td>12.006524</td>\n",
       "    </tr>\n",
       "    <tr>\n",
       "      <th>std</th>\n",
       "      <td>4.570431</td>\n",
       "      <td>4.867160</td>\n",
       "      <td>4.282973</td>\n",
       "      <td>3.489024</td>\n",
       "    </tr>\n",
       "    <tr>\n",
       "      <th>min</th>\n",
       "      <td>2.689810</td>\n",
       "      <td>0.873535</td>\n",
       "      <td>1.355564</td>\n",
       "      <td>0.890513</td>\n",
       "    </tr>\n",
       "    <tr>\n",
       "      <th>1%</th>\n",
       "      <td>4.112916</td>\n",
       "      <td>4.659289</td>\n",
       "      <td>5.452664</td>\n",
       "      <td>3.050446</td>\n",
       "    </tr>\n",
       "    <tr>\n",
       "      <th>50%</th>\n",
       "      <td>12.555706</td>\n",
       "      <td>13.298841</td>\n",
       "      <td>12.458632</td>\n",
       "      <td>12.020822</td>\n",
       "    </tr>\n",
       "    <tr>\n",
       "      <th>99%</th>\n",
       "      <td>23.066009</td>\n",
       "      <td>26.731355</td>\n",
       "      <td>23.417850</td>\n",
       "      <td>21.188289</td>\n",
       "    </tr>\n",
       "    <tr>\n",
       "      <th>max</th>\n",
       "      <td>48.509457</td>\n",
       "      <td>50.127373</td>\n",
       "      <td>40.766365</td>\n",
       "      <td>47.974854</td>\n",
       "    </tr>\n",
       "  </tbody>\n",
       "</table>\n",
       "</div>"
      ],
      "text/plain": [
       "        hinge_region     dfg_region   front_pocket         center\n",
       "count  410834.000000  406621.000000  410851.000000  411460.000000\n",
       "mean       12.874321      13.579542      13.035534      12.006524\n",
       "std         4.570431       4.867160       4.282973       3.489024\n",
       "min         2.689810       0.873535       1.355564       0.890513\n",
       "1%          4.112916       4.659289       5.452664       3.050446\n",
       "50%        12.555706      13.298841      12.458632      12.020822\n",
       "99%        23.066009      26.731355      23.417850      21.188289\n",
       "max        48.509457      50.127373      40.766365      47.974854"
      ]
     },
     "execution_count": 5,
     "metadata": {},
     "output_type": "execute_result"
    }
   ],
   "source": [
    "features_d_stats = features_d.describe(percentiles=[.01, .99])\n",
    "features_d_stats"
   ]
  },
  {
   "cell_type": "code",
   "execution_count": 6,
   "metadata": {},
   "outputs": [
    {
     "data": {
      "text/plain": [
       "{'hinge_region': (4.11, 23.07),\n",
       " 'dfg_region': (4.66, 26.73),\n",
       " 'front_pocket': (5.45, 23.42),\n",
       " 'center': (3.05, 21.19)}"
      ]
     },
     "execution_count": 6,
     "metadata": {},
     "output_type": "execute_result"
    }
   ],
   "source": [
    "distance_cutoff = features_d_stats.loc[[\"1%\", \"99%\"], :].apply(lambda x: round(x, 2)).to_dict()\n",
    "distance_cutoff = {key: tuple(value.values()) for key, value in distance_cutoff.items()}\n",
    "distance_cutoff"
   ]
  },
  {
   "cell_type": "markdown",
   "metadata": {},
   "source": [
    "## Moments features"
   ]
  },
  {
   "cell_type": "code",
   "execution_count": 7,
   "metadata": {},
   "outputs": [],
   "source": [
    "features_m = fingerprint_generator.moments_exploded\n",
    "features_m = features_m.stack().unstack(level=1).reset_index(drop=True)"
   ]
  },
  {
   "cell_type": "code",
   "execution_count": 8,
   "metadata": {},
   "outputs": [
    {
     "data": {
      "text/html": [
       "<div>\n",
       "<style scoped>\n",
       "    .dataframe tbody tr th:only-of-type {\n",
       "        vertical-align: middle;\n",
       "    }\n",
       "\n",
       "    .dataframe tbody tr th {\n",
       "        vertical-align: top;\n",
       "    }\n",
       "\n",
       "    .dataframe thead th {\n",
       "        text-align: right;\n",
       "    }\n",
       "</style>\n",
       "<table border=\"1\" class=\"dataframe\">\n",
       "  <thead>\n",
       "    <tr style=\"text-align: right;\">\n",
       "      <th>moment</th>\n",
       "      <th>1</th>\n",
       "      <th>2</th>\n",
       "      <th>3</th>\n",
       "    </tr>\n",
       "  </thead>\n",
       "  <tbody>\n",
       "    <tr>\n",
       "      <th>count</th>\n",
       "      <td>19593.000000</td>\n",
       "      <td>19593.000000</td>\n",
       "      <td>19593.000000</td>\n",
       "    </tr>\n",
       "    <tr>\n",
       "      <th>mean</th>\n",
       "      <td>12.872311</td>\n",
       "      <td>4.283828</td>\n",
       "      <td>2.780600</td>\n",
       "    </tr>\n",
       "    <tr>\n",
       "      <th>std</th>\n",
       "      <td>0.634072</td>\n",
       "      <td>0.568510</td>\n",
       "      <td>1.078366</td>\n",
       "    </tr>\n",
       "    <tr>\n",
       "      <th>min</th>\n",
       "      <td>11.311548</td>\n",
       "      <td>2.838044</td>\n",
       "      <td>-2.546785</td>\n",
       "    </tr>\n",
       "    <tr>\n",
       "      <th>1%</th>\n",
       "      <td>11.681335</td>\n",
       "      <td>3.260458</td>\n",
       "      <td>-1.694082</td>\n",
       "    </tr>\n",
       "    <tr>\n",
       "      <th>50%</th>\n",
       "      <td>12.921171</td>\n",
       "      <td>4.419284</td>\n",
       "      <td>2.882389</td>\n",
       "    </tr>\n",
       "    <tr>\n",
       "      <th>99%</th>\n",
       "      <td>14.194312</td>\n",
       "      <td>5.290567</td>\n",
       "      <td>4.721426</td>\n",
       "    </tr>\n",
       "    <tr>\n",
       "      <th>max</th>\n",
       "      <td>23.591284</td>\n",
       "      <td>11.646229</td>\n",
       "      <td>12.970084</td>\n",
       "    </tr>\n",
       "  </tbody>\n",
       "</table>\n",
       "</div>"
      ],
      "text/plain": [
       "moment             1             2             3\n",
       "count   19593.000000  19593.000000  19593.000000\n",
       "mean       12.872311      4.283828      2.780600\n",
       "std         0.634072      0.568510      1.078366\n",
       "min        11.311548      2.838044     -2.546785\n",
       "1%         11.681335      3.260458     -1.694082\n",
       "50%        12.921171      4.419284      2.882389\n",
       "99%        14.194312      5.290567      4.721426\n",
       "max        23.591284     11.646229     12.970084"
      ]
     },
     "execution_count": 8,
     "metadata": {},
     "output_type": "execute_result"
    }
   ],
   "source": [
    "features_m_stats = features_m.describe(percentiles=[.01, .99])\n",
    "features_m_stats"
   ]
  },
  {
   "cell_type": "code",
   "execution_count": 9,
   "metadata": {},
   "outputs": [
    {
     "data": {
      "text/plain": [
       "{1: (11.68, 14.19), 2: (3.26, 5.29), 3: (-1.69, 4.72)}"
      ]
     },
     "execution_count": 9,
     "metadata": {},
     "output_type": "execute_result"
    }
   ],
   "source": [
    "distance_cutoff = features_m_stats.loc[[\"1%\", \"99%\"], :].apply(lambda x: round(x, 2)).to_dict()\n",
    "distance_cutoff = {key: tuple(value.values()) for key, value in distance_cutoff.items()}\n",
    "distance_cutoff"
   ]
  }
 ],
 "metadata": {
  "kernelspec": {
   "display_name": "Python 3",
   "language": "python",
   "name": "python3"
  },
  "language_info": {
   "codemirror_mode": {
    "name": "ipython",
    "version": 3
   },
   "file_extension": ".py",
   "mimetype": "text/x-python",
   "name": "python",
   "nbconvert_exporter": "python",
   "pygments_lexer": "ipython3",
   "version": "3.8.6"
  }
 },
 "nbformat": 4,
 "nbformat_minor": 4
}
