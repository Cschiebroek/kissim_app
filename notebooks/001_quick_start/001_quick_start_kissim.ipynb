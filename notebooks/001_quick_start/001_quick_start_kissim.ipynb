{
 "cells": [
  {
   "cell_type": "markdown",
   "metadata": {},
   "source": [
    "# Loading `kissim` results\n",
    "\n",
    "This is a short notebook showing how to load the `kissim` output files as Python objects.\n",
    "\n",
    "- `fingerprint.json`: Fingerprints for all successfully encoded structures\n",
    "- `fingerprint_clean.json`: Fingerprints dataset without outlier structures\n",
    "- `feature_distances.csv.bz2`: Feature distances between all fingerprint pairs\n",
    "- `fingerprint_distances.csv.bz2`: Fingerprint distances between all fingerprint pairs"
   ]
  },
  {
   "cell_type": "code",
   "execution_count": 1,
   "metadata": {},
   "outputs": [
    {
     "data": {
      "application/vnd.jupyter.widget-view+json": {
       "model_id": "f9957ffb06114100893b935427ef02a5",
       "version_major": 2,
       "version_minor": 0
      },
      "text/plain": []
     },
     "metadata": {},
     "output_type": "display_data"
    }
   ],
   "source": [
    "from pathlib import Path\n",
    "\n",
    "from kissim.encoding import FingerprintGenerator\n",
    "from kissim.comparison import FeatureDistancesGenerator, FingerprintDistanceGenerator\n",
    "\n",
    "from src.paths import PATH_RESULTS"
   ]
  },
  {
   "cell_type": "code",
   "execution_count": 2,
   "metadata": {},
   "outputs": [
    {
     "data": {
      "text/plain": [
       "PosixPath('/home/dominique/Documents/GitHub/kissim_app/src/../results/all')"
      ]
     },
     "execution_count": 2,
     "metadata": {},
     "output_type": "execute_result"
    }
   ],
   "source": [
    "HERE = Path(_dh[-1])  # noqa: F821\n",
    "RESULTS = PATH_RESULTS / \"all\"\n",
    "RESULTS"
   ]
  },
  {
   "cell_type": "markdown",
   "metadata": {},
   "source": [
    "## Load fingerprints"
   ]
  },
  {
   "cell_type": "markdown",
   "metadata": {},
   "source": [
    "### Without outlier filtering"
   ]
  },
  {
   "cell_type": "code",
   "execution_count": 3,
   "metadata": {},
   "outputs": [
    {
     "name": "stdout",
     "output_type": "stream",
     "text": [
      "CPU times: user 1.1 s, sys: 125 ms, total: 1.22 s\n",
      "Wall time: 1.27 s\n"
     ]
    },
    {
     "data": {
      "text/plain": [
       "4681"
      ]
     },
     "execution_count": 3,
     "metadata": {},
     "output_type": "execute_result"
    }
   ],
   "source": [
    "%%time\n",
    "fingerprints = FingerprintGenerator.from_json(RESULTS / \"fingerprints.json\")\n",
    "len(fingerprints.data)"
   ]
  },
  {
   "cell_type": "markdown",
   "metadata": {},
   "source": [
    "### With outlier filtering"
   ]
  },
  {
   "cell_type": "code",
   "execution_count": 4,
   "metadata": {},
   "outputs": [
    {
     "name": "stdout",
     "output_type": "stream",
     "text": [
      "CPU times: user 1.4 s, sys: 84.5 ms, total: 1.49 s\n",
      "Wall time: 1.48 s\n"
     ]
    },
    {
     "data": {
      "text/plain": [
       "4681"
      ]
     },
     "execution_count": 4,
     "metadata": {},
     "output_type": "execute_result"
    }
   ],
   "source": [
    "%%time\n",
    "fingerprints = FingerprintGenerator.from_json(RESULTS / \"fingerprints_clean.json\")\n",
    "len(fingerprints.data)"
   ]
  },
  {
   "cell_type": "markdown",
   "metadata": {},
   "source": [
    "## Load feature distances"
   ]
  },
  {
   "cell_type": "code",
   "execution_count": 5,
   "metadata": {
    "tags": []
   },
   "outputs": [
    {
     "name": "stdout",
     "output_type": "stream",
     "text": [
      "CPU times: user 2min 17s, sys: 1.3 s, total: 2min 18s\n",
      "Wall time: 2min 18s\n"
     ]
    },
    {
     "data": {
      "text/plain": [
       "10953540"
      ]
     },
     "execution_count": 5,
     "metadata": {},
     "output_type": "execute_result"
    }
   ],
   "source": [
    "%%time\n",
    "feature_distances = FeatureDistancesGenerator.from_csv(RESULTS / \"feature_distances.csv.bz2\")\n",
    "len(feature_distances.data)"
   ]
  },
  {
   "cell_type": "markdown",
   "metadata": {},
   "source": [
    "## Load fingerprint distances"
   ]
  },
  {
   "cell_type": "code",
   "execution_count": 6,
   "metadata": {
    "tags": []
   },
   "outputs": [
    {
     "name": "stdout",
     "output_type": "stream",
     "text": [
      "CPU times: user 20.4 s, sys: 32 ms, total: 20.4 s\n",
      "Wall time: 20.4 s\n"
     ]
    },
    {
     "data": {
      "text/plain": [
       "10953540"
      ]
     },
     "execution_count": 6,
     "metadata": {},
     "output_type": "execute_result"
    }
   ],
   "source": [
    "%%time\n",
    "fingerprint_distances = FingerprintDistanceGenerator.from_csv(\n",
    "    RESULTS / \"fingerprint_distances.csv.bz2\"\n",
    ")\n",
    "len(fingerprint_distances.data)"
   ]
  },
  {
   "cell_type": "markdown",
   "metadata": {},
   "source": [
    "## Stats on all `kissim` datasets"
   ]
  },
  {
   "cell_type": "code",
   "execution_count": 7,
   "metadata": {},
   "outputs": [],
   "source": [
    "import numpy as np\n",
    "import pandas as pd"
   ]
  },
  {
   "cell_type": "code",
   "execution_count": 8,
   "metadata": {},
   "outputs": [
    {
     "name": "stdout",
     "output_type": "stream",
     "text": [
      "all\n",
      "dfg_in\n",
      "dfg_out\n"
     ]
    },
    {
     "data": {
      "text/html": [
       "<div>\n",
       "<style scoped>\n",
       "    .dataframe tbody tr th:only-of-type {\n",
       "        vertical-align: middle;\n",
       "    }\n",
       "\n",
       "    .dataframe tbody tr th {\n",
       "        vertical-align: top;\n",
       "    }\n",
       "\n",
       "    .dataframe thead th {\n",
       "        text-align: right;\n",
       "    }\n",
       "</style>\n",
       "<table border=\"1\" class=\"dataframe\">\n",
       "  <thead>\n",
       "    <tr style=\"text-align: right;\">\n",
       "      <th></th>\n",
       "      <th>all</th>\n",
       "      <th>dfg_in</th>\n",
       "      <th>dfg_out</th>\n",
       "    </tr>\n",
       "  </thead>\n",
       "  <tbody>\n",
       "    <tr>\n",
       "      <th>Number of structures</th>\n",
       "      <td>4681</td>\n",
       "      <td>4112</td>\n",
       "      <td>406</td>\n",
       "    </tr>\n",
       "    <tr>\n",
       "      <th>Number of kinases</th>\n",
       "      <td>279</td>\n",
       "      <td>257</td>\n",
       "      <td>71</td>\n",
       "    </tr>\n",
       "    <tr>\n",
       "      <th>Number of structure pairs w/o self-comparison</th>\n",
       "      <td>10953540</td>\n",
       "      <td>8452216</td>\n",
       "      <td>82215</td>\n",
       "    </tr>\n",
       "    <tr>\n",
       "      <th>Number of structure pairs w/o self-comparison (theory)</th>\n",
       "      <td>10953540</td>\n",
       "      <td>8452216</td>\n",
       "      <td>82215</td>\n",
       "    </tr>\n",
       "    <tr>\n",
       "      <th>Number of kinase pairs w/o self-comparison</th>\n",
       "      <td>38781</td>\n",
       "      <td>32896</td>\n",
       "      <td>2485</td>\n",
       "    </tr>\n",
       "    <tr>\n",
       "      <th>Number of kinase pairs w/o self-comparison (theory)</th>\n",
       "      <td>38781</td>\n",
       "      <td>32896</td>\n",
       "      <td>2485</td>\n",
       "    </tr>\n",
       "  </tbody>\n",
       "</table>\n",
       "</div>"
      ],
      "text/plain": [
       "                                                         all   dfg_in  dfg_out\n",
       "Number of structures                                    4681     4112      406\n",
       "Number of kinases                                        279      257       71\n",
       "Number of structure pairs w/o self-comparison       10953540  8452216    82215\n",
       "Number of structure pairs w/o self-comparison (...  10953540  8452216    82215\n",
       "Number of kinase pairs w/o self-comparison             38781    32896     2485\n",
       "Number of kinase pairs w/o self-comparison (the...     38781    32896     2485"
      ]
     },
     "execution_count": 8,
     "metadata": {},
     "output_type": "execute_result"
    }
   ],
   "source": [
    "dataset_types = [\"all\", \"dfg_in\", \"dfg_out\"]\n",
    "stats = {}\n",
    "\n",
    "for dataset_type in dataset_types:\n",
    "    \n",
    "    print(dataset_type)\n",
    "    stats[dataset_type] = {}\n",
    "\n",
    "    # Set path to data folder\n",
    "    RESULTS = PATH_RESULTS / dataset_type\n",
    "    \n",
    "    # Load distances\n",
    "    fingerprint_distances = FingerprintDistanceGenerator.from_csv(\n",
    "        RESULTS / \"fingerprint_distances.csv.bz2\"\n",
    "    )\n",
    "    n_structures = len(fingerprint_distances.structure_ids)\n",
    "    stats[dataset_type][\"Number of structures\"] = n_structures\n",
    "    n_kinases = len(fingerprint_distances.kinase_ids)\n",
    "    stats[dataset_type][\"Number of kinases\"] = n_kinases\n",
    "    stats[dataset_type][\"Number of structure pairs w/o self-comparison\"] = len(fingerprint_distances.data)\n",
    "    stats[dataset_type][\"Number of structure pairs w/o self-comparison (theory)\"] = int(\n",
    "        (n_structures * n_structures - n_structures) / 2\n",
    "    )\n",
    "    # Sort kinase pairs alphabetically and remove self-comparison\n",
    "    kinase_pairs = fingerprint_distances.data[[\"kinase.1\", \"kinase.2\"]].copy()\n",
    "    kinase_pairs[[\"kinase.1\", \"kinase.2\"]] = np.sort(kinase_pairs[[\"kinase.1\", \"kinase.2\"]], axis=1)\n",
    "    kinase_pairs = kinase_pairs.drop_duplicates()\n",
    "    kinase_pairs = kinase_pairs[kinase_pairs[\"kinase.1\"] != kinase_pairs[\"kinase.2\"]]\n",
    "    stats[dataset_type][\"Number of kinase pairs w/o self-comparison\"] = len(kinase_pairs)\n",
    "    stats[dataset_type][\"Number of kinase pairs w/o self-comparison (theory)\"] = int(\n",
    "        (n_kinases * n_kinases - n_kinases) / 2\n",
    "    )\n",
    "\n",
    "pd.DataFrame(stats)"
   ]
  },
  {
   "cell_type": "code",
   "execution_count": null,
   "metadata": {},
   "outputs": [],
   "source": []
  }
 ],
 "metadata": {
  "kernelspec": {
   "display_name": "Python 3 (ipykernel)",
   "language": "python",
   "name": "python3"
  },
  "language_info": {
   "codemirror_mode": {
    "name": "ipython",
    "version": 3
   },
   "file_extension": ".py",
   "mimetype": "text/x-python",
   "name": "python",
   "nbconvert_exporter": "python",
   "pygments_lexer": "ipython3",
   "version": "3.9.7"
  },
  "widgets": {
   "application/vnd.jupyter.widget-state+json": {
    "state": {},
    "version_major": 2,
    "version_minor": 0
   }
  }
 },
 "nbformat": 4,
 "nbformat_minor": 4
}
