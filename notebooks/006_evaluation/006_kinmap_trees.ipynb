{
 "cells": [
  {
   "cell_type": "markdown",
   "metadata": {},
   "source": [
    "# Ligand-based validation mapped on KinMap tree\n",
    "\n",
    "Check if we can retrieve on-/off-targets for a selected ligand (as reported by Karaman et al.) solely based on the structurally most similar kinases to respective main target of that ligand.\n",
    "\n",
    "1. Select ligands to investigate: Erlotinib and Imatinib (target ligands).\n",
    "2. Get target of Erlotinib and Imatinib: EGFR and ABL1 (target kinases).\n",
    "3. Find top20 and top30 similar kinases to target kinase.\n",
    "4. Save these top kinases in KinMap format for visualization using the KinMap website."
   ]
  },
  {
   "cell_type": "code",
   "execution_count": 1,
   "metadata": {},
   "outputs": [],
   "source": [
    "%load_ext autoreload\n",
    "%autoreload 2"
   ]
  },
  {
   "cell_type": "code",
   "execution_count": 2,
   "metadata": {},
   "outputs": [
    {
     "data": {
      "application/vnd.jupyter.widget-view+json": {
       "model_id": "0da5727aca2c41c1b220b6baf4b5f5c3",
       "version_major": 2,
       "version_minor": 0
      },
      "text/plain": []
     },
     "metadata": {},
     "output_type": "display_data"
    }
   ],
   "source": [
    "from pathlib import Path\n",
    "\n",
    "import numpy as np\n",
    "import pandas as pd\n",
    "import matplotlib.pyplot as plt\n",
    "from kissim.comparison import FingerprintDistanceGenerator\n",
    "\n",
    "from src.paths import PATH_RESULTS"
   ]
  },
  {
   "cell_type": "code",
   "execution_count": 3,
   "metadata": {},
   "outputs": [],
   "source": [
    "HERE = Path(_dh[-1])  # noqa: F821\n",
    "DATA = HERE / \"../../data/\"\n",
    "RESULTS = PATH_RESULTS / \"dfg_in\""
   ]
  },
  {
   "cell_type": "markdown",
   "metadata": {},
   "source": [
    "## Load kinase names from KinMap"
   ]
  },
  {
   "cell_type": "code",
   "execution_count": 4,
   "metadata": {},
   "outputs": [
    {
     "data": {
      "text/html": [
       "<div>\n",
       "<style scoped>\n",
       "    .dataframe tbody tr th:only-of-type {\n",
       "        vertical-align: middle;\n",
       "    }\n",
       "\n",
       "    .dataframe tbody tr th {\n",
       "        vertical-align: top;\n",
       "    }\n",
       "\n",
       "    .dataframe thead th {\n",
       "        text-align: right;\n",
       "    }\n",
       "</style>\n",
       "<table border=\"1\" class=\"dataframe\">\n",
       "  <thead>\n",
       "    <tr style=\"text-align: right;\">\n",
       "      <th></th>\n",
       "      <th>xName</th>\n",
       "      <th>Manning Name</th>\n",
       "      <th>HGNC Name</th>\n",
       "      <th>Kinase Name</th>\n",
       "      <th>Group</th>\n",
       "      <th>Family</th>\n",
       "      <th>SubFamily</th>\n",
       "      <th>UniprotID</th>\n",
       "    </tr>\n",
       "  </thead>\n",
       "  <tbody>\n",
       "    <tr>\n",
       "      <th>0</th>\n",
       "      <td>ABL1</td>\n",
       "      <td>ABL</td>\n",
       "      <td>ABL1</td>\n",
       "      <td>Tyrosine-protein kinase ABL1</td>\n",
       "      <td>TK</td>\n",
       "      <td>Abl</td>\n",
       "      <td>NaN</td>\n",
       "      <td>P00519</td>\n",
       "    </tr>\n",
       "    <tr>\n",
       "      <th>1</th>\n",
       "      <td>ACK</td>\n",
       "      <td>ACK</td>\n",
       "      <td>TNK2</td>\n",
       "      <td>Activated CDC42 kinase 1</td>\n",
       "      <td>TK</td>\n",
       "      <td>Ack</td>\n",
       "      <td>NaN</td>\n",
       "      <td>Q07912</td>\n",
       "    </tr>\n",
       "    <tr>\n",
       "      <th>2</th>\n",
       "      <td>ACTR2</td>\n",
       "      <td>ACTR2</td>\n",
       "      <td>ACVR2A</td>\n",
       "      <td>Activin receptor type-2A</td>\n",
       "      <td>TKL</td>\n",
       "      <td>STKR</td>\n",
       "      <td>STKR2</td>\n",
       "      <td>P27037</td>\n",
       "    </tr>\n",
       "    <tr>\n",
       "      <th>3</th>\n",
       "      <td>ACTR2B</td>\n",
       "      <td>ACTR2B</td>\n",
       "      <td>ACVR2B</td>\n",
       "      <td>Activin receptor type-2B</td>\n",
       "      <td>TKL</td>\n",
       "      <td>STKR</td>\n",
       "      <td>STKR2</td>\n",
       "      <td>Q13705</td>\n",
       "    </tr>\n",
       "    <tr>\n",
       "      <th>4</th>\n",
       "      <td>ADCK4</td>\n",
       "      <td>ADCK4</td>\n",
       "      <td>ADCK4</td>\n",
       "      <td>Uncharacterized aarF domain-containing protein...</td>\n",
       "      <td>Atypical</td>\n",
       "      <td>ABC1</td>\n",
       "      <td>ABC1-A</td>\n",
       "      <td>Q96D53</td>\n",
       "    </tr>\n",
       "  </tbody>\n",
       "</table>\n",
       "</div>"
      ],
      "text/plain": [
       "    xName Manning Name HGNC Name  \\\n",
       "0    ABL1          ABL      ABL1   \n",
       "1     ACK          ACK      TNK2   \n",
       "2   ACTR2        ACTR2    ACVR2A   \n",
       "3  ACTR2B       ACTR2B    ACVR2B   \n",
       "4   ADCK4        ADCK4     ADCK4   \n",
       "\n",
       "                                         Kinase Name     Group Family  \\\n",
       "0                       Tyrosine-protein kinase ABL1        TK    Abl   \n",
       "1                           Activated CDC42 kinase 1        TK    Ack   \n",
       "2                           Activin receptor type-2A       TKL   STKR   \n",
       "3                           Activin receptor type-2B       TKL   STKR   \n",
       "4  Uncharacterized aarF domain-containing protein...  Atypical   ABC1   \n",
       "\n",
       "  SubFamily UniprotID  \n",
       "0       NaN    P00519  \n",
       "1       NaN    Q07912  \n",
       "2     STKR2    P27037  \n",
       "3     STKR2    Q13705  \n",
       "4    ABC1-A    Q96D53  "
      ]
     },
     "execution_count": 4,
     "metadata": {},
     "output_type": "execute_result"
    }
   ],
   "source": [
    "kinase_names_mapping = pd.read_csv(\n",
    "    \"https://raw.githubusercontent.com/openkinome/kinodata/master/data/KinHubKinaseList.csv\"\n",
    ")\n",
    "kinase_names_mapping.head()"
   ]
  },
  {
   "cell_type": "markdown",
   "metadata": {},
   "source": [
    "## Load kinase matrix"
   ]
  },
  {
   "cell_type": "code",
   "execution_count": 5,
   "metadata": {},
   "outputs": [],
   "source": [
    "fingerprint_distance_generator_path = RESULTS / \"fingerprint_distances_111.csv.bz2\"\n",
    "fingerprint_distance_generator = FingerprintDistanceGenerator.from_csv(\n",
    "    fingerprint_distance_generator_path\n",
    ")"
   ]
  },
  {
   "cell_type": "code",
   "execution_count": 6,
   "metadata": {},
   "outputs": [],
   "source": [
    "kinase_matrix = fingerprint_distance_generator.kinase_distance_matrix(\"minimum\")"
   ]
  },
  {
   "cell_type": "code",
   "execution_count": 7,
   "metadata": {},
   "outputs": [],
   "source": [
    "def update_kinase_name(kinase_name, kinase_names_mapping):\n",
    "    kinase_name = kinase_name.replace(\"-\", \"_\")\n",
    "    if kinase_names_mapping[\"xName\"].isin([kinase_name]).any():\n",
    "        return kinase_name\n",
    "    else:\n",
    "        kinase_name_kinmap = kinase_names_mapping[\n",
    "            (kinase_names_mapping[\"Manning\\xa0Name\"] == kinase_name)\n",
    "            | (kinase_names_mapping[\"HGNC\\xa0Name\"] == kinase_name)\n",
    "        ]\n",
    "        if len(kinase_name_kinmap) == 0:\n",
    "            print(f\"Not in KinMap: {kinase_name}\")\n",
    "            return \"unknown\"\n",
    "        elif len(kinase_name_kinmap) == 1:\n",
    "            return kinase_name_kinmap.squeeze()[\"xName\"]\n",
    "        else:\n",
    "            print(f\"Ambiguous kinase name: {kinase_name}\")\n",
    "            return \"unknown\""
   ]
  },
  {
   "cell_type": "code",
   "execution_count": 8,
   "metadata": {},
   "outputs": [
    {
     "name": "stdout",
     "output_type": "stream",
     "text": [
      "Not in KinMap: PI4K2A\n",
      "Not in KinMap: PI4KB\n",
      "Not in KinMap: PIK3C3\n",
      "Not in KinMap: p110a\n",
      "Not in KinMap: p110d\n",
      "Not in KinMap: p110g\n"
     ]
    }
   ],
   "source": [
    "kinase_matrix.index = [\n",
    "    update_kinase_name(kinase_name, kinase_names_mapping) for kinase_name in kinase_matrix.index\n",
    "]"
   ]
  },
  {
   "cell_type": "code",
   "execution_count": 9,
   "metadata": {},
   "outputs": [
    {
     "name": "stdout",
     "output_type": "stream",
     "text": [
      "Not in KinMap: PI4K2A\n",
      "Not in KinMap: PI4KB\n",
      "Not in KinMap: PIK3C3\n",
      "Not in KinMap: p110a\n",
      "Not in KinMap: p110d\n",
      "Not in KinMap: p110g\n"
     ]
    }
   ],
   "source": [
    "kinase_matrix.columns = [\n",
    "    update_kinase_name(kinase_name, kinase_names_mapping) for kinase_name in kinase_matrix.columns\n",
    "]"
   ]
  },
  {
   "cell_type": "code",
   "execution_count": 10,
   "metadata": {},
   "outputs": [
    {
     "data": {
      "text/plain": [
       "(257, 257)"
      ]
     },
     "execution_count": 10,
     "metadata": {},
     "output_type": "execute_result"
    }
   ],
   "source": [
    "kinase_matrix.shape"
   ]
  },
  {
   "cell_type": "code",
   "execution_count": 11,
   "metadata": {},
   "outputs": [
    {
     "data": {
      "text/plain": [
       "(251, 251)"
      ]
     },
     "execution_count": 11,
     "metadata": {},
     "output_type": "execute_result"
    }
   ],
   "source": [
    "kinase_matrix = kinase_matrix.drop(\"unknown\", axis=0).drop(\"unknown\", axis=1)\n",
    "kinase_matrix.shape"
   ]
  },
  {
   "cell_type": "markdown",
   "metadata": {},
   "source": [
    "## KinMap functions"
   ]
  },
  {
   "cell_type": "markdown",
   "metadata": {},
   "source": [
    "### Set KinMap size for `kissim` kinase data"
   ]
  },
  {
   "cell_type": "code",
   "execution_count": 12,
   "metadata": {},
   "outputs": [
    {
     "data": {
      "image/png": "[encoded data removed]",
      "text/plain": [
       "<Figure size 576x396 with 1 Axes>"
      ]
     },
     "metadata": {},
     "output_type": "display_data"
    }
   ],
   "source": [
    "def kinmap_size(x):\n",
    "    if x > 1:\n",
    "        return 10\n",
    "    else:\n",
    "        return int(10 + (1 - x) * 40)\n",
    "\n",
    "\n",
    "dummy_distances = np.arange(0, 2, 0.1)\n",
    "plt.plot(dummy_distances, [kinmap_size(i) for i in dummy_distances]);"
   ]
  },
  {
   "cell_type": "markdown",
   "metadata": {},
   "source": [
    "### Get KinMap data\n",
    "\n",
    "- All `kissim` kinases with available distances to target kinase (plot as grey pentagon with fixed size)\n",
    "- Top N `kissim` kinases (plot as blue pentagon; size depending on distance)\n",
    "- Profiling data (plot as cyan circles; size depending on bioactivity)\n",
    "- Merge the 3 datasets and sort by shape size (so that KinMap does not hiding small stuff behind big stuff)"
   ]
  },
  {
   "cell_type": "code",
   "execution_count": 13,
   "metadata": {},
   "outputs": [],
   "source": [
    "def kissim_kinases_all(kinase_matrix, target_kinase):\n",
    "\n",
    "    all_kinases = kinase_matrix[target_kinase].dropna().index.to_list()\n",
    "    all_kinases = pd.DataFrame(all_kinases, columns=[\"xName\"])\n",
    "    all_kinases[\"size\"] = 50\n",
    "    all_kinases[\"shape\"] = \"pentagon\"\n",
    "    all_kinases[\"fill\"] = \"Silver\"\n",
    "    all_kinases[\"stroke\"] = \"LightGrey\"\n",
    "\n",
    "    return all_kinases"
   ]
  },
  {
   "cell_type": "code",
   "execution_count": 14,
   "metadata": {},
   "outputs": [],
   "source": [
    "def kissim_kinases_top_n(kinase_matrix, target_kinase, top_n):\n",
    "\n",
    "    top_kinases = kinase_matrix[target_kinase].dropna().sort_values(ascending=True)[:top_n]\n",
    "    top_kinases.name = \"size\"\n",
    "    top_kinases.index.name = \"xName\"\n",
    "    top_kinases = top_kinases.reset_index()\n",
    "    top_kinases[\"size\"] = top_kinases[\"size\"].apply(kinmap_size)\n",
    "    top_kinases[\"shape\"] = \"pentagon\"\n",
    "    top_kinases[\"fill\"] = \"RoyalBlue\"\n",
    "    top_kinases[\"stroke\"] = \"LightGrey\"\n",
    "\n",
    "    return top_kinases"
   ]
  },
  {
   "cell_type": "code",
   "execution_count": 15,
   "metadata": {},
   "outputs": [],
   "source": [
    "def profiling(target_kinase, target_ligand):\n",
    "    \"\"\"\n",
    "    Read profiling data that has been downloaded from KinMap.\n",
    "    - Go to http://www.kinhub.org/kinmap/index.html\n",
    "    - Data Source: Profiling, Data type: Karaman et al., 2008\n",
    "    - Choose target ligand & Add source\n",
    "    - Change Fill: Cyan\n",
    "    - Size/Max: 35\n",
    "    \"\"\"\n",
    "\n",
    "    return pd.read_csv(\n",
    "        DATA / f\"external/profiling/KinMap/kinmap_{target_kinase}_{target_ligand}_karaman.csv\"\n",
    "    )"
   ]
  },
  {
   "cell_type": "code",
   "execution_count": 16,
   "metadata": {},
   "outputs": [],
   "source": [
    "def kinmap_df(kinase_matrix, target_kinase, top_n, target_ligand, output_path=None):\n",
    "\n",
    "    all_kinases = kissim_kinases_all(kinase_matrix, target_kinase)\n",
    "    top_kinases = kissim_kinases_top_n(kinase_matrix, target_kinase, top_n)\n",
    "    profiled_kinases = profiling(target_kinase, target_ligand)\n",
    "\n",
    "    kinmap = pd.concat([all_kinases, top_kinases, profiled_kinases])\n",
    "    kinmap = kinmap.sort_values(\"size\", ascending=False)\n",
    "\n",
    "    if output_path is not None:\n",
    "        kinmap.to_csv(\n",
    "            Path(output_path) / f\"kinmap_{target_kinase}_{target_ligand}_kissim_top{top_n}.csv\",\n",
    "            index=False,\n",
    "        )\n",
    "\n",
    "    return kinmap"
   ]
  },
  {
   "cell_type": "code",
   "execution_count": 17,
   "metadata": {},
   "outputs": [],
   "source": [
    "def main(kinase_matrix, target_kinase, target_ligand, output_path):\n",
    "\n",
    "    # Generate KinMap file format\n",
    "    kinmap_df(kinase_matrix, target_kinase, 20, target_ligand, output_path)\n",
    "    kinmap_df(kinase_matrix, target_kinase, 30, target_ligand, output_path)\n",
    "    kinmap_df(kinase_matrix, target_kinase, 50, target_ligand, output_path)"
   ]
  },
  {
   "cell_type": "markdown",
   "metadata": {},
   "source": [
    "## Generate KinMap upload files"
   ]
  },
  {
   "cell_type": "markdown",
   "metadata": {},
   "source": [
    "### Off-targets for ABL1 (Imatinib)"
   ]
  },
  {
   "cell_type": "code",
   "execution_count": 18,
   "metadata": {},
   "outputs": [],
   "source": [
    "target_kinase = \"ABL1\"\n",
    "target_ligand = \"imatinib\"\n",
    "\n",
    "main(kinase_matrix, target_kinase, target_ligand, RESULTS)\n",
    "# NBVAL_SKIP"
   ]
  },
  {
   "cell_type": "markdown",
   "metadata": {},
   "source": [
    "### Off-targets for EGFR (Erlotinib)"
   ]
  },
  {
   "cell_type": "code",
   "execution_count": 19,
   "metadata": {},
   "outputs": [],
   "source": [
    "target_kinase = \"EGFR\"\n",
    "target_ligand = \"erlotinib\"\n",
    "\n",
    "main(kinase_matrix, target_kinase, target_ligand, RESULTS)"
   ]
  },
  {
   "cell_type": "markdown",
   "metadata": {},
   "source": [
    "### Off-targets for EGFR (Gefitinib)"
   ]
  },
  {
   "cell_type": "code",
   "execution_count": 20,
   "metadata": {},
   "outputs": [],
   "source": [
    "target_kinase = \"EGFR\"\n",
    "target_ligand = \"gefitinib\"\n",
    "\n",
    "main(kinase_matrix, target_kinase, target_ligand, RESULTS)"
   ]
  },
  {
   "cell_type": "markdown",
   "metadata": {},
   "source": [
    "## Generate KinMap tree"
   ]
  },
  {
   "cell_type": "markdown",
   "metadata": {},
   "source": [
    "__Manually__ upload CSV file to KinMap and download as SVG. Convert to PNG using the `results/kinmap/svg_to_png.sh` script."
   ]
  }
 ],
 "metadata": {
  "kernelspec": {
   "display_name": "Python 3 (ipykernel)",
   "language": "python",
   "name": "python3"
  },
  "language_info": {
   "codemirror_mode": {
    "name": "ipython",
    "version": 3
   },
   "file_extension": ".py",
   "mimetype": "text/x-python",
   "name": "python",
   "nbconvert_exporter": "python",
   "pygments_lexer": "ipython3",
   "version": "3.9.7"
  },
  "widgets": {
   "application/vnd.jupyter.widget-state+json": {
    "state": {},
    "version_major": 2,
    "version_minor": 0
   }
  }
 },
 "nbformat": 4,
 "nbformat_minor": 4
}
