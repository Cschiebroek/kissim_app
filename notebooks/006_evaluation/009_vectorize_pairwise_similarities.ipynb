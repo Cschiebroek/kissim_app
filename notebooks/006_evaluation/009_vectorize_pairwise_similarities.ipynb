{
 "cells": [
  {
   "cell_type": "markdown",
   "id": "a05661f8-380c-4f7f-b8ff-939989eebc19",
   "metadata": {},
   "source": [
    "# Demo: Vectorize pairwise similarities\n",
    "\n",
    "Demo on \"How to vectorize pairwise (dis)similarity metrics\"\n",
    "\n",
    "> A straightforward pattern for vectorizing metrics like L1 distance and Intersection over Union for all pairs of points.\n",
    "\n",
    "Taken from: https://towardsdatascience.com/how-to-vectorize-pairwise-dis-similarity-metrics-5d522715fb4e"
   ]
  },
  {
   "cell_type": "code",
   "execution_count": 1,
   "id": "daa590d4-027a-45c4-a6c1-94e55a90b9bc",
   "metadata": {},
   "outputs": [],
   "source": [
    "import numpy as np"
   ]
  },
  {
   "cell_type": "code",
   "execution_count": 2,
   "id": "38b331a8-24a1-4c3f-9536-18c5e1c74a72",
   "metadata": {},
   "outputs": [
    {
     "data": {
      "text/plain": [
       "array([[ 0,  0,  0, 10,  1],\n",
       "       [ 0,  1,  0,  0,  1],\n",
       "       [ 1,  1,  0, 20,  1],\n",
       "       [ 1,  0,  0,  1,  1]])"
      ]
     },
     "execution_count": 2,
     "metadata": {},
     "output_type": "execute_result"
    }
   ],
   "source": [
    "X = np.array([[0, 0, 0, 10, 1], [0, 1, 0, 0, 1], [1, 1, 0, 20, 1], [1, 0, 0, 1, 1]])\n",
    "X"
   ]
  },
  {
   "cell_type": "code",
   "execution_count": 3,
   "id": "b62889d8-e8d8-4e1b-9110-6840fbef02dc",
   "metadata": {},
   "outputs": [
    {
     "data": {
      "text/plain": [
       "(4, 1, 5)"
      ]
     },
     "execution_count": 3,
     "metadata": {},
     "output_type": "execute_result"
    }
   ],
   "source": [
    "X[:, None, :].shape"
   ]
  },
  {
   "cell_type": "markdown",
   "id": "a977ee94-dffe-4862-94dd-2d8df85d84d3",
   "metadata": {},
   "source": [
    "## Experiment 1\n",
    "\n",
    "Manhattan distance between pairs of 5-dimensional points."
   ]
  },
  {
   "cell_type": "markdown",
   "id": "c0a32a2a-33ba-4644-b4dd-dc391984fbf2",
   "metadata": {},
   "source": [
    "### Expand"
   ]
  },
  {
   "cell_type": "code",
   "execution_count": 4,
   "id": "60b071b7-0e69-44b8-a30a-6b5d9146817a",
   "metadata": {},
   "outputs": [
    {
     "data": {
      "text/plain": [
       "(4, 4, 5)"
      ]
     },
     "execution_count": 4,
     "metadata": {},
     "output_type": "execute_result"
    }
   ],
   "source": [
    "deltas = X[:, None, :] - X[None, :, :]\n",
    "deltas.shape"
   ]
  },
  {
   "cell_type": "code",
   "execution_count": 5,
   "id": "efc2159c-5af2-4a91-bc1d-19453fd33150",
   "metadata": {},
   "outputs": [
    {
     "data": {
      "text/plain": [
       "array([[[  0,   0,   0,   0,   0],\n",
       "        [  0,  -1,   0,  10,   0],\n",
       "        [ -1,  -1,   0, -10,   0],\n",
       "        [ -1,   0,   0,   9,   0]],\n",
       "\n",
       "       [[  0,   1,   0, -10,   0],\n",
       "        [  0,   0,   0,   0,   0],\n",
       "        [ -1,   0,   0, -20,   0],\n",
       "        [ -1,   1,   0,  -1,   0]],\n",
       "\n",
       "       [[  1,   1,   0,  10,   0],\n",
       "        [  1,   0,   0,  20,   0],\n",
       "        [  0,   0,   0,   0,   0],\n",
       "        [  0,   1,   0,  19,   0]],\n",
       "\n",
       "       [[  1,   0,   0,  -9,   0],\n",
       "        [  1,  -1,   0,   1,   0],\n",
       "        [  0,  -1,   0, -19,   0],\n",
       "        [  0,   0,   0,   0,   0]]])"
      ]
     },
     "execution_count": 5,
     "metadata": {},
     "output_type": "execute_result"
    }
   ],
   "source": [
    "deltas"
   ]
  },
  {
   "cell_type": "markdown",
   "id": "c8468709-7138-4232-8217-a100cd2f68bf",
   "metadata": {},
   "source": [
    "### Reduce"
   ]
  },
  {
   "cell_type": "code",
   "execution_count": 6,
   "id": "74e19d77-b825-46c0-a56b-165658b433e9",
   "metadata": {},
   "outputs": [
    {
     "data": {
      "text/plain": [
       "array([[ 0, 11, 12, 10],\n",
       "       [11,  0, 21,  3],\n",
       "       [12, 21,  0, 20],\n",
       "       [10,  3, 20,  0]])"
      ]
     },
     "execution_count": 6,
     "metadata": {},
     "output_type": "execute_result"
    }
   ],
   "source": [
    "abs_deltas = np.abs(deltas)\n",
    "abs_deltas.sum(axis=-1)"
   ]
  },
  {
   "cell_type": "markdown",
   "id": "202acdc6-93bc-45fd-9a2d-bcdd7b66a0ba",
   "metadata": {},
   "source": [
    "## Experiment 2\n",
    "\n",
    "Sum of identical positions in pairwise 5-dimensional points."
   ]
  },
  {
   "cell_type": "markdown",
   "id": "e66dacd1-3f78-490e-adba-b40db8534ec3",
   "metadata": {},
   "source": [
    "### Expand"
   ]
  },
  {
   "cell_type": "code",
   "execution_count": 7,
   "id": "93ba7ea6-2925-43e3-bcb8-c31fd4a754b5",
   "metadata": {},
   "outputs": [
    {
     "data": {
      "text/plain": [
       "array([[[ True,  True,  True,  True,  True],\n",
       "        [ True, False,  True, False,  True],\n",
       "        [False, False,  True, False,  True],\n",
       "        [False,  True,  True, False,  True]],\n",
       "\n",
       "       [[ True, False,  True, False,  True],\n",
       "        [ True,  True,  True,  True,  True],\n",
       "        [False,  True,  True, False,  True],\n",
       "        [False, False,  True, False,  True]],\n",
       "\n",
       "       [[False, False,  True, False,  True],\n",
       "        [False,  True,  True, False,  True],\n",
       "        [ True,  True,  True,  True,  True],\n",
       "        [ True, False,  True, False,  True]],\n",
       "\n",
       "       [[False,  True,  True, False,  True],\n",
       "        [False, False,  True, False,  True],\n",
       "        [ True, False,  True, False,  True],\n",
       "        [ True,  True,  True,  True,  True]]])"
      ]
     },
     "execution_count": 7,
     "metadata": {},
     "output_type": "execute_result"
    }
   ],
   "source": [
    "identity = X[:, None, :] == X[None, :, :]\n",
    "identity"
   ]
  },
  {
   "cell_type": "markdown",
   "id": "ab0eab87-1882-4adb-9d8a-bcc6cb1c89ba",
   "metadata": {},
   "source": [
    "### Reduce"
   ]
  },
  {
   "cell_type": "code",
   "execution_count": 8,
   "id": "7533e0da-44e9-4e76-b18a-395ec9187731",
   "metadata": {
    "tags": []
   },
   "outputs": [
    {
     "data": {
      "text/plain": [
       "array([[5, 3, 2, 3],\n",
       "       [3, 5, 3, 2],\n",
       "       [2, 3, 5, 3],\n",
       "       [3, 2, 3, 5]])"
      ]
     },
     "execution_count": 8,
     "metadata": {},
     "output_type": "execute_result"
    }
   ],
   "source": [
    "identity.sum(axis=-1)"
   ]
  }
 ],
 "metadata": {
  "kernelspec": {
   "display_name": "Python 3 (ipykernel)",
   "language": "python",
   "name": "python3"
  },
  "language_info": {
   "codemirror_mode": {
    "name": "ipython",
    "version": 3
   },
   "file_extension": ".py",
   "mimetype": "text/x-python",
   "name": "python",
   "nbconvert_exporter": "python",
   "pygments_lexer": "ipython3",
   "version": "3.9.7"
  },
  "widgets": {
   "application/vnd.jupyter.widget-state+json": {
    "state": {},
    "version_major": 2,
    "version_minor": 0
   }
  }
 },
 "nbformat": 4,
 "nbformat_minor": 5
}
