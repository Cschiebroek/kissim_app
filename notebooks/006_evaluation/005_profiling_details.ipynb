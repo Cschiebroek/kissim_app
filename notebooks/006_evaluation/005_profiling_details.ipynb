{
 "cells": [
  {
   "cell_type": "markdown",
   "id": "8b4c53dc-1c3b-448f-a561-28fa2a7ba023",
   "metadata": {},
   "source": [
    "# Predict ligand profiling using `kissim` - detailed inspection\n",
    "\n",
    "Let's take a closer look at an example kinase-ligand pair. \n",
    "\n",
    "- What are measured on- and off-targets?\n",
    "- How does bioactivity data correlate with `kissim` ranks?\n",
    "- Is the kinase an easy target (a) because underlying structures are co-crystallized with the same ligands or (b) because detected off-targets are very close (kinase group, family)? \n",
    "- Is the kinase a difficult target (a) because the tested ligand is a type II ligand although most structures bind type I ligands or (b) because we only have a low structural coverage for the kinase?"
   ]
  },
  {
   "cell_type": "code",
   "execution_count": 1,
   "id": "f56ef6f7-d7c8-4cce-9e66-8bb92fb81b4b",
   "metadata": {},
   "outputs": [],
   "source": [
    "%load_ext autoreload\n",
    "%autoreload 2"
   ]
  },
  {
   "cell_type": "code",
   "execution_count": 2,
   "id": "f6902a2e-9e81-4d15-84fe-78c611bf377f",
   "metadata": {},
   "outputs": [
    {
     "data": {
      "application/vnd.jupyter.widget-view+json": {
       "model_id": "fa673c713c4545a9828ffc3b03226c39",
       "version_major": 2,
       "version_minor": 0
      },
      "text/plain": []
     },
     "metadata": {},
     "output_type": "display_data"
    }
   ],
   "source": [
    "import pandas as pd\n",
    "import matplotlib.pyplot as plt\n",
    "from opencadd.databases import klifs\n",
    "from kissim.comparison import FingerprintDistanceGenerator\n",
    "\n",
    "from src import data, evaluation\n",
    "from src.paths import PATH_RESULTS"
   ]
  },
  {
   "cell_type": "code",
   "execution_count": 3,
   "id": "ba20a064-4d63-4ec2-9ca2-b8d7bcaeb175",
   "metadata": {},
   "outputs": [],
   "source": [
    "plt.style.use(\"seaborn\")"
   ]
  },
  {
   "cell_type": "code",
   "execution_count": 4,
   "id": "632c5141-e241-410f-a850-427c822930cf",
   "metadata": {},
   "outputs": [],
   "source": [
    "klifs_session = klifs.setup_remote()"
   ]
  },
  {
   "cell_type": "markdown",
   "id": "9b360444-e03b-435a-bd44-e7afc2d6b6a1",
   "metadata": {},
   "source": [
    "## Define parameters"
   ]
  },
  {
   "cell_type": "code",
   "execution_count": 5,
   "id": "60e75fca-eccf-4fa0-97bd-7e9a5d255c77",
   "metadata": {},
   "outputs": [],
   "source": [
    "# The only global that can be changed in this notebook\n",
    "LIGAND_PROFILING_METHOD = \"karaman-davis\""
   ]
  },
  {
   "cell_type": "code",
   "execution_count": 6,
   "id": "6922b092-5432-4e52-8d2b-4bea36639677",
   "metadata": {},
   "outputs": [],
   "source": [
    "KINASE_DISTANCES_METHOD = \"kissim\"\n",
    "KINASE_ACTIVITY_CUTOFF = 100\n",
    "KINASE_ACTIVITY_MAX = True\n",
    "MIN_N_SHARED_KINASES = 10\n",
    "MIN_N_SHARED_ACTIVE_KINASES = 3"
   ]
  },
  {
   "cell_type": "code",
   "execution_count": 7,
   "id": "c03d5ba4-c34b-4dd6-a54a-14e51533cd1d",
   "metadata": {},
   "outputs": [],
   "source": [
    "LIGAND_EXAMPLE = \"Erlotinib\"\n",
    "KINASE_EXAMPLE = \"EGFR\""
   ]
  },
  {
   "cell_type": "markdown",
   "id": "435df06f-3cd6-4894-9738-ccbe1ee1a652",
   "metadata": {},
   "source": [
    "## Load data"
   ]
  },
  {
   "cell_type": "markdown",
   "id": "4b1a2a56-c3e0-4fc5-adc4-c9421fcd49fc",
   "metadata": {},
   "source": [
    "### Generate evaluation data"
   ]
  },
  {
   "cell_type": "code",
   "execution_count": 8,
   "id": "ba0224e7-f290-4673-9b9e-dbbfe473d564",
   "metadata": {},
   "outputs": [
    {
     "name": "stderr",
     "output_type": "stream",
     "text": [
      "Changed ligand names (unknown names may be discarded - see function docstring):\n",
      "           ligand.input            ligand.pkidb\n",
      "0         Staurosporine  unknown (not in PKIDB)\n",
      "1           JNJ-7706621  unknown (not in PKIDB)\n",
      "2              MLN-8054  unknown (not in PKIDB)\n",
      "3               PKC-412             Midostaurin\n",
      "4              SU-14813  unknown (not in PKIDB)\n",
      "5             SB-202190  unknown (not in PKIDB)\n",
      "6             CP-724714  unknown (not in PKIDB)\n",
      "7        VX-680/MK-0457  unknown (not in PKIDB)\n",
      "9   Roscovitine/CYC-202  unknown (not in PKIDB)\n",
      "10            SB-203580  unknown (not in PKIDB)\n",
      "12            CP-690550             Tofacitinib\n",
      "14              GW-2580  unknown (not in PKIDB)\n",
      "16            GW-786034  unknown (not in PKIDB)\n",
      "18               VX-745            Neflamapimod\n",
      "19            SB-431542  unknown (not in PKIDB)\n",
      "20              ZD-6474              Vandetanib\n",
      "22         Flavopiridol  unknown (not in PKIDB)\n",
      "24              MLN-518              Tandutinib\n",
      "25            LY-333531           Ruboxistaurin\n",
      "26              CI-1033              Canertinib\n",
      "27              EKB-569               Pelitinib\n",
      "28               PI-103  unknown (not in PKIDB)\n",
      "29              PTK-787               Vatalanib\n",
      "Changed ligand names (unknown names may be discarded - see function docstring):\n",
      "         ligand.input            ligand.pkidb\n",
      "0           TG-101348              Fedratinib\n",
      "1           SB-203580  unknown (not in PKIDB)\n",
      "3    CHIR-265/RAF-265  unknown (not in PKIDB)\n",
      "4        AZD-1152HQPA  unknown (not in PKIDB)\n",
      "5            MLN-8054  unknown (not in PKIDB)\n",
      "..                ...                     ...\n",
      "67          LY-333531           Ruboxistaurin\n",
      "68            CI-1033              Canertinib\n",
      "69  AZD-6244/ARRY-886  unknown (not in PKIDB)\n",
      "70             PI-103  unknown (not in PKIDB)\n",
      "71           AZD-2171               Cediranib\n",
      "\n",
      "[61 rows x 2 columns]\n"
     ]
    },
    {
     "name": "stdout",
     "output_type": "stream",
     "text": [
      "No measurements                                                                 8964\n",
      "One measurement                                                                 2298\n",
      "Two identical measurements                                                       710\n",
      "Two measurements <= or > cutoff 100; keep lower value                             23\n",
      "One measurement <=, one > cutoff 100 but difference <= 100; keep lower value       1\n",
      "One measurement <=, one > cutoff 100 but difference > 100; remove values           6\n",
      "dtype: int64\n"
     ]
    }
   ],
   "source": [
    "evaluator = evaluation.LigandVsKinaseEvaluator(\n",
    "    [[LIGAND_EXAMPLE, KINASE_EXAMPLE]],\n",
    "    LIGAND_PROFILING_METHOD,\n",
    "    KINASE_DISTANCES_METHOD,\n",
    "    KINASE_ACTIVITY_CUTOFF,\n",
    "    KINASE_ACTIVITY_MAX,\n",
    "    MIN_N_SHARED_KINASES,\n",
    "    MIN_N_SHARED_ACTIVE_KINASES,\n",
    "    kinmap_kinases=False,\n",
    ")"
   ]
  },
  {
   "cell_type": "markdown",
   "id": "ba5225e9-67e0-447c-b136-2c850aa538f0",
   "metadata": {},
   "source": [
    "#### Ligand-kinase data"
   ]
  },
  {
   "cell_type": "code",
   "execution_count": 9,
   "id": "9e77ab9e-17b4-4b15-88ef-96d09ed865a1",
   "metadata": {},
   "outputs": [],
   "source": [
    "ligand_kinase_data = evaluator.data_dict[LIGAND_EXAMPLE][KINASE_EXAMPLE]\n",
    "ligand_kinase_data = ligand_kinase_data.data.sort_values([f\"{LIGAND_PROFILING_METHOD}.measure\"])"
   ]
  },
  {
   "cell_type": "markdown",
   "id": "d6694ece-937a-4f14-ac33-6eff5eafbf8d",
   "metadata": {},
   "source": [
    "#### ROC curves"
   ]
  },
  {
   "cell_type": "code",
   "execution_count": 10,
   "id": "68fd0920-a395-42a0-b7ba-581a2d4f43bd",
   "metadata": {},
   "outputs": [
    {
     "data": {
      "text/plain": [
       "{'Erlotinib-EGFR': 0.6413043478260869}"
      ]
     },
     "execution_count": 10,
     "metadata": {},
     "output_type": "execute_result"
    },
    {
     "data": {
      "image/png": "[encoded data removed]",
      "text/plain": [
       "<Figure size 1440x360 with 4 Axes>"
      ]
     },
     "metadata": {},
     "output_type": "display_data"
    }
   ],
   "source": [
    "evaluator.plot_roc_curves()"
   ]
  },
  {
   "cell_type": "markdown",
   "id": "10fffb3d-4dc0-4de8-ad00-b622a7b4e08b",
   "metadata": {},
   "source": [
    "### Fingerprint distances"
   ]
  },
  {
   "cell_type": "code",
   "execution_count": 11,
   "id": "fa57ac1b-9e88-48dd-9576-9bf377bcd180",
   "metadata": {},
   "outputs": [],
   "source": [
    "fingerprint_distances_path = PATH_RESULTS / \"dfg_in/fingerprint_distances.csv.bz2\"\n",
    "fingerprint_distances = FingerprintDistanceGenerator.from_csv(fingerprint_distances_path)"
   ]
  },
  {
   "cell_type": "markdown",
   "id": "ec99c506-e3fb-4a9b-93d8-605a16a08a04",
   "metadata": {},
   "source": [
    "## Inspect results"
   ]
  },
  {
   "cell_type": "markdown",
   "id": "4702e9fa-58c6-40dd-a60d-961e4cfec282",
   "metadata": {},
   "source": [
    "### Highly active kinases > on/off-targets"
   ]
  },
  {
   "cell_type": "code",
   "execution_count": 12,
   "id": "5ffb6478-128c-4222-8735-b88f6ee5f78b",
   "metadata": {},
   "outputs": [],
   "source": [
    "KINASE_ACTIVITY_CUTOFF_STRICT = 30"
   ]
  },
  {
   "cell_type": "code",
   "execution_count": 13,
   "id": "4a0457c5-9cbc-462c-8a63-fdda93cf6880",
   "metadata": {},
   "outputs": [
    {
     "data": {
      "text/html": [
       "<div>\n",
       "<style scoped>\n",
       "    .dataframe tbody tr th:only-of-type {\n",
       "        vertical-align: middle;\n",
       "    }\n",
       "\n",
       "    .dataframe tbody tr th {\n",
       "        vertical-align: top;\n",
       "    }\n",
       "\n",
       "    .dataframe thead th {\n",
       "        text-align: right;\n",
       "    }\n",
       "</style>\n",
       "<table border=\"1\" class=\"dataframe\">\n",
       "  <thead>\n",
       "    <tr style=\"text-align: right;\">\n",
       "      <th></th>\n",
       "      <th>karaman-davis.measure</th>\n",
       "      <th>karaman-davis.active</th>\n",
       "      <th>karaman-davis.rank1</th>\n",
       "      <th>karaman-davis.rank2</th>\n",
       "      <th>kissim.measure</th>\n",
       "      <th>kissim.rank1</th>\n",
       "      <th>kissim.rank2</th>\n",
       "    </tr>\n",
       "    <tr>\n",
       "      <th>kinase</th>\n",
       "      <th></th>\n",
       "      <th></th>\n",
       "      <th></th>\n",
       "      <th></th>\n",
       "      <th></th>\n",
       "      <th></th>\n",
       "      <th></th>\n",
       "    </tr>\n",
       "  </thead>\n",
       "  <tbody>\n",
       "    <tr>\n",
       "      <th>EGFR</th>\n",
       "      <td>0.67</td>\n",
       "      <td>True</td>\n",
       "      <td>1.0</td>\n",
       "      <td>1.0</td>\n",
       "      <td>0.000000</td>\n",
       "      <td>1.0</td>\n",
       "      <td>1.0</td>\n",
       "    </tr>\n",
       "    <tr>\n",
       "      <th>GAK</th>\n",
       "      <td>3.10</td>\n",
       "      <td>True</td>\n",
       "      <td>2.0</td>\n",
       "      <td>2.0</td>\n",
       "      <td>0.103189</td>\n",
       "      <td>183.0</td>\n",
       "      <td>44.0</td>\n",
       "    </tr>\n",
       "    <tr>\n",
       "      <th>LOK</th>\n",
       "      <td>19.00</td>\n",
       "      <td>True</td>\n",
       "      <td>3.0</td>\n",
       "      <td>3.0</td>\n",
       "      <td>0.071240</td>\n",
       "      <td>27.0</td>\n",
       "      <td>11.0</td>\n",
       "    </tr>\n",
       "    <tr>\n",
       "      <th>SLK</th>\n",
       "      <td>26.00</td>\n",
       "      <td>True</td>\n",
       "      <td>5.0</td>\n",
       "      <td>4.0</td>\n",
       "      <td>0.076408</td>\n",
       "      <td>44.0</td>\n",
       "      <td>20.0</td>\n",
       "    </tr>\n",
       "  </tbody>\n",
       "</table>\n",
       "</div>"
      ],
      "text/plain": [
       "        karaman-davis.measure  karaman-davis.active  karaman-davis.rank1  \\\n",
       "kinase                                                                     \n",
       "EGFR                     0.67                  True                  1.0   \n",
       "GAK                      3.10                  True                  2.0   \n",
       "LOK                     19.00                  True                  3.0   \n",
       "SLK                     26.00                  True                  5.0   \n",
       "\n",
       "        karaman-davis.rank2  kissim.measure  kissim.rank1  kissim.rank2  \n",
       "kinase                                                                   \n",
       "EGFR                    1.0        0.000000           1.0           1.0  \n",
       "GAK                     2.0        0.103189         183.0          44.0  \n",
       "LOK                     3.0        0.071240          27.0          11.0  \n",
       "SLK                     4.0        0.076408          44.0          20.0  "
      ]
     },
     "execution_count": 13,
     "metadata": {},
     "output_type": "execute_result"
    }
   ],
   "source": [
    "ligand_kinase_data_active = ligand_kinase_data[\n",
    "    ligand_kinase_data[f\"{LIGAND_PROFILING_METHOD}.measure\"] < KINASE_ACTIVITY_CUTOFF_STRICT\n",
    "]\n",
    "ligand_kinase_data_active"
   ]
  },
  {
   "cell_type": "code",
   "execution_count": 14,
   "id": "4fed5373-dba8-4cd6-bc78-8aa3cbcb66b7",
   "metadata": {},
   "outputs": [
    {
     "name": "stdout",
     "output_type": "stream",
     "text": [
      "Selected on-target: EGFR\n",
      "Selected off-targets: ['GAK', 'LOK', 'SLK']\n"
     ]
    }
   ],
   "source": [
    "on_target = ligand_kinase_data_active.index[0]\n",
    "off_targets = ligand_kinase_data_active.index[1:].to_list()\n",
    "print(f\"Selected on-target: {on_target}\")\n",
    "print(f\"Selected off-targets: {off_targets}\")"
   ]
  },
  {
   "cell_type": "markdown",
   "id": "522163bf-68a4-4338-8578-bc280dde76ed",
   "metadata": {},
   "source": [
    "### Bioactivities vs. `kissim` performance"
   ]
  },
  {
   "cell_type": "code",
   "execution_count": 15,
   "id": "a454d4f7-bb21-4963-a0b9-25824353bcf3",
   "metadata": {},
   "outputs": [
    {
     "data": {
      "image/png": "[encoded data removed]",
      "text/plain": [
       "<Figure size 576x396 with 1 Axes>"
      ]
     },
     "metadata": {},
     "output_type": "display_data"
    }
   ],
   "source": [
    "kinase_distances = ligand_kinase_data[f\"{KINASE_DISTANCES_METHOD}.measure\"]\n",
    "ligand_profiling = ligand_kinase_data[f\"{LIGAND_PROFILING_METHOD}.measure\"]\n",
    "\n",
    "\n",
    "_, ax = plt.subplots(1, 1)\n",
    "ax.plot(kinase_distances, ligand_profiling, \".\")\n",
    "ax.set_xlabel(f\"{KINASE_DISTANCES_METHOD} distances between EGFR and kinases in dataset\")\n",
    "ax.set_ylabel(f\"{LIGAND_PROFILING_METHOD} bioactivities for kinases in dataset\");"
   ]
  },
  {
   "cell_type": "markdown",
   "id": "ef852530-9344-489c-afe5-c0881c490bba",
   "metadata": {},
   "source": [
    "### Easy targets in profiling dataset?\n",
    "\n",
    "- Are detected off-targets co-crystallized with query ligand?\n",
    "- Are detected off-targets anyways very close?"
   ]
  },
  {
   "cell_type": "code",
   "execution_count": 16,
   "id": "d825873d-dfd2-496a-a7ae-5df4ee51cad8",
   "metadata": {},
   "outputs": [
    {
     "name": "stderr",
     "output_type": "stream",
     "text": [
      "IOStream.flush timed out\n",
      "IOStream.flush timed out\n",
      "IOStream.flush timed out\n"
     ]
    }
   ],
   "source": [
    "off_kinases_structures = []\n",
    "\n",
    "for off_target in off_targets:\n",
    "    kinase_dist_df = fingerprint_distances.kinase_distances()\n",
    "    kinase_dist_df = kinase_dist_df.reset_index()\n",
    "    kinase_dist_df = kinase_dist_df[\n",
    "        ((kinase_dist_df[\"kinase.1\"] == on_target) & (kinase_dist_df[\"kinase.2\"] == off_target))\n",
    "        | ((kinase_dist_df[\"kinase.1\"] == off_target) & (kinase_dist_df[\"kinase.2\"] == on_target))\n",
    "    ]\n",
    "\n",
    "    # Structure 1\n",
    "    structure_klifs_id = kinase_dist_df[\"structure.1\"].to_list()\n",
    "    ligand = klifs_session.structures.by_structure_klifs_id(structure_klifs_id)[\n",
    "        \"ligand.expo_id\"\n",
    "    ].to_list()\n",
    "    kinase_dist_df[\"structure.1.ligand.expo_id\"] = ligand\n",
    "    # Structure 2\n",
    "    structure_klifs_id = kinase_dist_df[\"structure.2\"].to_list()\n",
    "    ligand = klifs_session.structures.by_structure_klifs_id(structure_klifs_id)[\n",
    "        \"ligand.expo_id\"\n",
    "    ].to_list()\n",
    "    kinase_dist_df[\"structure.2.ligand.expo_id\"] = ligand\n",
    "\n",
    "    # Kinase 1\n",
    "    kinase_name = kinase_dist_df[\"kinase.1\"].to_list()\n",
    "    kinase = klifs_session.kinases.by_kinase_name(kinase_name, species=\"Human\")\n",
    "    kinase_dist_df[\"kinase.1.group\"] = kinase[\"kinase.group\"].to_list()[0]\n",
    "    kinase_dist_df[\"kinase.1.family\"] = kinase[\"kinase.family\"].to_list()[0]\n",
    "    # Kinase 2\n",
    "    kinase_name = kinase_dist_df[\"kinase.2\"].to_list()\n",
    "    kinase = klifs_session.kinases.by_kinase_name(kinase_name, species=\"Human\")\n",
    "    kinase_dist_df[\"kinase.2.group\"] = kinase[\"kinase.group\"].to_list()[0]\n",
    "    kinase_dist_df[\"kinase.2.family\"] = kinase[\"kinase.family\"].to_list()[0]\n",
    "\n",
    "    off_kinases_structures.append(kinase_dist_df)\n",
    "\n",
    "off_kinases_structures = pd.concat(off_kinases_structures)"
   ]
  },
  {
   "cell_type": "code",
   "execution_count": 17,
   "id": "3606fdb3-d39a-4d77-9e7f-7f33e5c406ad",
   "metadata": {},
   "outputs": [
    {
     "data": {
      "text/html": [
       "<div>\n",
       "<style scoped>\n",
       "    .dataframe tbody tr th:only-of-type {\n",
       "        vertical-align: middle;\n",
       "    }\n",
       "\n",
       "    .dataframe tbody tr th {\n",
       "        vertical-align: top;\n",
       "    }\n",
       "\n",
       "    .dataframe thead th {\n",
       "        text-align: right;\n",
       "    }\n",
       "</style>\n",
       "<table border=\"1\" class=\"dataframe\">\n",
       "  <thead>\n",
       "    <tr style=\"text-align: right;\">\n",
       "      <th></th>\n",
       "      <th>kinase.1</th>\n",
       "      <th>kinase.2</th>\n",
       "      <th>structure.1</th>\n",
       "      <th>structure.2</th>\n",
       "      <th>distance</th>\n",
       "      <th>bit_coverage</th>\n",
       "      <th>structure.1.ligand.expo_id</th>\n",
       "      <th>structure.2.ligand.expo_id</th>\n",
       "      <th>kinase.1.group</th>\n",
       "      <th>kinase.1.family</th>\n",
       "      <th>kinase.2.group</th>\n",
       "      <th>kinase.2.family</th>\n",
       "    </tr>\n",
       "  </thead>\n",
       "  <tbody>\n",
       "    <tr>\n",
       "      <th>4490</th>\n",
       "      <td>EGFR</td>\n",
       "      <td>GAK</td>\n",
       "      <td>10329</td>\n",
       "      <td>12159</td>\n",
       "      <td>0.103189</td>\n",
       "      <td>0.985333</td>\n",
       "      <td>IRE</td>\n",
       "      <td>C6O</td>\n",
       "      <td>TK</td>\n",
       "      <td>EGFR</td>\n",
       "      <td>Other</td>\n",
       "      <td>NAK</td>\n",
       "    </tr>\n",
       "    <tr>\n",
       "      <th>9494</th>\n",
       "      <td>EGFR</td>\n",
       "      <td>LOK</td>\n",
       "      <td>6201</td>\n",
       "      <td>10651</td>\n",
       "      <td>0.071240</td>\n",
       "      <td>0.975333</td>\n",
       "      <td>4YV</td>\n",
       "      <td>R70</td>\n",
       "      <td>TK</td>\n",
       "      <td>EGFR</td>\n",
       "      <td>STE</td>\n",
       "      <td>STE20</td>\n",
       "    </tr>\n",
       "    <tr>\n",
       "      <th>9534</th>\n",
       "      <td>EGFR</td>\n",
       "      <td>SLK</td>\n",
       "      <td>10625</td>\n",
       "      <td>12175</td>\n",
       "      <td>0.076408</td>\n",
       "      <td>0.990667</td>\n",
       "      <td>GUQ</td>\n",
       "      <td>YY3</td>\n",
       "      <td>TK</td>\n",
       "      <td>EGFR</td>\n",
       "      <td>STE</td>\n",
       "      <td>STE20</td>\n",
       "    </tr>\n",
       "  </tbody>\n",
       "</table>\n",
       "</div>"
      ],
      "text/plain": [
       "     kinase.1 kinase.2  structure.1  structure.2  distance  bit_coverage  \\\n",
       "4490     EGFR      GAK        10329        12159  0.103189      0.985333   \n",
       "9494     EGFR      LOK         6201        10651  0.071240      0.975333   \n",
       "9534     EGFR      SLK        10625        12175  0.076408      0.990667   \n",
       "\n",
       "     structure.1.ligand.expo_id structure.2.ligand.expo_id kinase.1.group  \\\n",
       "4490                        IRE                        C6O             TK   \n",
       "9494                        4YV                        R70             TK   \n",
       "9534                        GUQ                        YY3             TK   \n",
       "\n",
       "     kinase.1.family kinase.2.group kinase.2.family  \n",
       "4490            EGFR          Other             NAK  \n",
       "9494            EGFR            STE           STE20  \n",
       "9534            EGFR            STE           STE20  "
      ]
     },
     "execution_count": 17,
     "metadata": {},
     "output_type": "execute_result"
    }
   ],
   "source": [
    "off_kinases_structures"
   ]
  },
  {
   "cell_type": "code",
   "execution_count": 18,
   "id": "97a78187-5b9f-4bfb-930c-06e54c52143b",
   "metadata": {},
   "outputs": [
    {
     "data": {
      "text/html": [
       "<div>\n",
       "<style scoped>\n",
       "    .dataframe tbody tr th:only-of-type {\n",
       "        vertical-align: middle;\n",
       "    }\n",
       "\n",
       "    .dataframe tbody tr th {\n",
       "        vertical-align: top;\n",
       "    }\n",
       "\n",
       "    .dataframe thead th {\n",
       "        text-align: right;\n",
       "    }\n",
       "</style>\n",
       "<table border=\"1\" class=\"dataframe\">\n",
       "  <thead>\n",
       "    <tr style=\"text-align: right;\">\n",
       "      <th></th>\n",
       "      <th>expo_id</th>\n",
       "      <th>name in PKIDB</th>\n",
       "    </tr>\n",
       "  </thead>\n",
       "  <tbody>\n",
       "    <tr>\n",
       "      <th>0</th>\n",
       "      <td>IRE</td>\n",
       "      <td>Gefitinib</td>\n",
       "    </tr>\n",
       "    <tr>\n",
       "      <th>1</th>\n",
       "      <td>4YV</td>\n",
       "      <td>unknown</td>\n",
       "    </tr>\n",
       "    <tr>\n",
       "      <th>2</th>\n",
       "      <td>GUQ</td>\n",
       "      <td>unknown</td>\n",
       "    </tr>\n",
       "    <tr>\n",
       "      <th>3</th>\n",
       "      <td>C6O</td>\n",
       "      <td>unknown</td>\n",
       "    </tr>\n",
       "    <tr>\n",
       "      <th>4</th>\n",
       "      <td>R70</td>\n",
       "      <td>unknown</td>\n",
       "    </tr>\n",
       "    <tr>\n",
       "      <th>5</th>\n",
       "      <td>YY3</td>\n",
       "      <td>Osimertinib</td>\n",
       "    </tr>\n",
       "  </tbody>\n",
       "</table>\n",
       "</div>"
      ],
      "text/plain": [
       "  expo_id name in PKIDB\n",
       "0     IRE     Gefitinib\n",
       "1     4YV       unknown\n",
       "2     GUQ       unknown\n",
       "3     C6O       unknown\n",
       "4     R70       unknown\n",
       "5     YY3   Osimertinib"
      ]
     },
     "execution_count": 18,
     "metadata": {},
     "output_type": "execute_result"
    }
   ],
   "source": [
    "# Get co-crystallized ligand expo IDs\n",
    "co_crystallized_ligand_expo_ids = (\n",
    "    off_kinases_structures[[\"structure.1.ligand.expo_id\", \"structure.2.ligand.expo_id\"]]\n",
    "    .unstack()\n",
    "    .unique()\n",
    "    .tolist()\n",
    ")\n",
    "\n",
    "# Map expo IDs to ligand names\n",
    "co_crystallized_ligands = []\n",
    "pkidb = data.ligands.pkidb()\n",
    "for id_ in co_crystallized_ligand_expo_ids:\n",
    "    ligand_name = pkidb[pkidb[\"lig_pdbID\"] == id_][\"ID\"]\n",
    "    if len(ligand_name) == 0:\n",
    "        co_crystallized_ligands.append([id_, \"unknown\"])\n",
    "    else:\n",
    "        co_crystallized_ligands.append([id_, ligand_name.iloc[0]])\n",
    "pd.DataFrame(co_crystallized_ligands, columns=[\"expo_id\", \"name in PKIDB\"])"
   ]
  },
  {
   "cell_type": "markdown",
   "id": "ecfb5c4a-831e-4b1a-a822-29394e9b5aca",
   "metadata": {},
   "source": [
    "### Difficult targets in profiling dataset?\n",
    "\n",
    "- Do type II ligands perform worse than type I ligands (because there is less structural information available for type II)?\n",
    "- Does low kinase coverage lead to worse performance?"
   ]
  },
  {
   "cell_type": "markdown",
   "id": "a6c0898e-c48a-46a2-b0ff-f225cda05818",
   "metadata": {},
   "source": [
    "#### Do type II ligands perform worse than type I ligands?"
   ]
  },
  {
   "cell_type": "code",
   "execution_count": 19,
   "id": "4a77af43-1c15-4bc4-b0fa-0ee535830d3c",
   "metadata": {},
   "outputs": [
    {
     "data": {
      "text/plain": [
       "ID\n",
       "Erlotinib    1.5\n",
       "Name: Type, dtype: object"
      ]
     },
     "execution_count": 19,
     "metadata": {},
     "output_type": "execute_result"
    }
   ],
   "source": [
    "pkidb = data.ligands.pkidb()\n",
    "pkidb.set_index(\"ID\")[\"Type\"][list(evaluator.data_dict.keys())]"
   ]
  },
  {
   "cell_type": "markdown",
   "id": "5539f12d-c663-4fe1-a1b0-ab085fb1ef2a",
   "metadata": {},
   "source": [
    "#### Does low kinase coverage lead to worse performance?"
   ]
  },
  {
   "cell_type": "code",
   "execution_count": 20,
   "id": "31813ed5-1eab-44f1-a9c2-27007063c6c6",
   "metadata": {
    "tags": []
   },
   "outputs": [
    {
     "data": {
      "text/html": [
       "<div>\n",
       "<style scoped>\n",
       "    .dataframe tbody tr th:only-of-type {\n",
       "        vertical-align: middle;\n",
       "    }\n",
       "\n",
       "    .dataframe tbody tr th {\n",
       "        vertical-align: top;\n",
       "    }\n",
       "\n",
       "    .dataframe thead th {\n",
       "        text-align: right;\n",
       "    }\n",
       "</style>\n",
       "<table border=\"1\" class=\"dataframe\">\n",
       "  <thead>\n",
       "    <tr style=\"text-align: right;\">\n",
       "      <th></th>\n",
       "      <th>coverage</th>\n",
       "      <th>distance</th>\n",
       "    </tr>\n",
       "    <tr>\n",
       "      <th>EGFR to</th>\n",
       "      <th></th>\n",
       "      <th></th>\n",
       "    </tr>\n",
       "  </thead>\n",
       "  <tbody>\n",
       "    <tr>\n",
       "      <th>GAK</th>\n",
       "      <td>894</td>\n",
       "      <td>0.103189</td>\n",
       "    </tr>\n",
       "    <tr>\n",
       "      <th>LOK</th>\n",
       "      <td>745</td>\n",
       "      <td>0.071240</td>\n",
       "    </tr>\n",
       "    <tr>\n",
       "      <th>SLK</th>\n",
       "      <td>745</td>\n",
       "      <td>0.076408</td>\n",
       "    </tr>\n",
       "  </tbody>\n",
       "</table>\n",
       "</div>"
      ],
      "text/plain": [
       "         coverage  distance\n",
       "EGFR to                    \n",
       "GAK           894  0.103189\n",
       "LOK           745  0.071240\n",
       "SLK           745  0.076408"
      ]
     },
     "execution_count": 20,
     "metadata": {},
     "output_type": "execute_result"
    }
   ],
   "source": [
    "# Kinase pairs coverages\n",
    "kinase_matrix_size = fingerprint_distances.kinase_distance_matrix(by=\"size\")\n",
    "kinase_matrix_size = kinase_matrix_size.loc[on_target, off_targets]\n",
    "# Kinase pair distances\n",
    "kinase_matrix_min = fingerprint_distances.kinase_distance_matrix()\n",
    "kinase_matrix_min = kinase_matrix_min.loc[on_target, off_targets]\n",
    "# Merge data\n",
    "kinase_coverage = pd.concat([kinase_matrix_size, kinase_matrix_min], axis=1)\n",
    "kinase_coverage.columns = [\"coverage\", \"distance\"]\n",
    "kinase_coverage.index.name = f\"{on_target} to\"\n",
    "kinase_coverage"
   ]
  }
 ],
 "metadata": {
  "kernelspec": {
   "display_name": "Python 3 (ipykernel)",
   "language": "python",
   "name": "python3"
  },
  "language_info": {
   "codemirror_mode": {
    "name": "ipython",
    "version": 3
   },
   "file_extension": ".py",
   "mimetype": "text/x-python",
   "name": "python",
   "nbconvert_exporter": "python",
   "pygments_lexer": "ipython3",
   "version": "3.9.7"
  },
  "widgets": {
   "application/vnd.jupyter.widget-state+json": {
    "state": {},
    "version_major": 2,
    "version_minor": 0
   }
  }
 },
 "nbformat": 4,
 "nbformat_minor": 5
}
