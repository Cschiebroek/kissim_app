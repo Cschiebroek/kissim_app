{
 "cells": [
  {
   "cell_type": "markdown",
   "id": "6b205d04-da14-49eb-9ee2-a82d622ceef4",
   "metadata": {},
   "source": [
    "# Performance summary over different `kissim` setups\n",
    "\n",
    "Summarize performance of different `kissim` setups:\n",
    "\n",
    "- Profiling vs. `kissim` AUCs: How well does `kissim` reflect profiling data?\n",
    "- Phylogenetic `kissim` tree: How well do selected on- and off-targets cluster together?\n",
    "- Top `kissim` ranks: How high do selected on- and off-targets rank in `kissim`?\n",
    "\n",
    "DFG-in conformations only!"
   ]
  },
  {
   "cell_type": "code",
   "execution_count": 1,
   "id": "e5880b78-8570-424a-b628-d3aeaf1f58a1",
   "metadata": {
    "execution": {
     "iopub.execute_input": "2021-09-16T19:46:26.655100Z",
     "iopub.status.busy": "2021-09-16T19:46:26.654791Z",
     "iopub.status.idle": "2021-09-16T19:46:27.781389Z",
     "shell.execute_reply": "2021-09-16T19:46:27.781635Z"
    }
   },
   "outputs": [
    {
     "data": {
      "application/vnd.jupyter.widget-view+json": {
       "model_id": "e2a09aa82bd44cb6a5c680cd3ac385f1",
       "version_major": 2,
       "version_minor": 0
      },
      "text/plain": []
     },
     "metadata": {},
     "output_type": "display_data"
    }
   ],
   "source": [
    "from pathlib import Path\n",
    "\n",
    "import pandas as pd\n",
    "import seaborn as sns\n",
    "from Bio import Phylo\n",
    "\n",
    "from src.paths import PATH_RESULTS"
   ]
  },
  {
   "cell_type": "code",
   "execution_count": 2,
   "id": "81aed0b4-b94e-40a9-8055-9b2f8021801c",
   "metadata": {
    "execution": {
     "iopub.execute_input": "2021-09-16T19:46:27.784843Z",
     "iopub.status.busy": "2021-09-16T19:46:27.784536Z",
     "iopub.status.idle": "2021-09-16T19:46:27.786011Z",
     "shell.execute_reply": "2021-09-16T19:46:27.785735Z"
    }
   },
   "outputs": [],
   "source": [
    "cm = sns.light_palette(\"blue\", as_cmap=True)"
   ]
  },
  {
   "cell_type": "code",
   "execution_count": 3,
   "id": "b098dd62-c9b0-4d95-b73c-5ce05100613e",
   "metadata": {
    "execution": {
     "iopub.execute_input": "2021-09-16T19:46:27.788170Z",
     "iopub.status.busy": "2021-09-16T19:46:27.787873Z",
     "iopub.status.idle": "2021-09-16T19:46:27.789532Z",
     "shell.execute_reply": "2021-09-16T19:46:27.789280Z"
    }
   },
   "outputs": [],
   "source": [
    "HERE = Path(_dh[-1])  # noqa: F821\n",
    "RESULTS = PATH_RESULTS"
   ]
  },
  {
   "cell_type": "markdown",
   "id": "08d0b280-5a2a-4c5c-a6f0-f7ff55d3e290",
   "metadata": {},
   "source": [
    "## `kissim` setups"
   ]
  },
  {
   "cell_type": "code",
   "execution_count": 4,
   "id": "cc6ffc9d-bc95-4c50-a479-542184af75a0",
   "metadata": {
    "execution": {
     "iopub.execute_input": "2021-09-16T19:46:27.791803Z",
     "iopub.status.busy": "2021-09-16T19:46:27.791505Z",
     "iopub.status.idle": "2021-09-16T19:46:27.793170Z",
     "shell.execute_reply": "2021-09-16T19:46:27.792926Z"
    }
   },
   "outputs": [],
   "source": [
    "DATA_SUBSET = [\n",
    "    \"dfg_in\",\n",
    "]\n",
    "WEIGHTING_SCHEMES = [\"15\", \"110\", \"101\", \"100\"]\n",
    "CLUSTERING_METHODS = [\"ward\", \"average\", \"weighted\"]"
   ]
  },
  {
   "cell_type": "code",
   "execution_count": 5,
   "id": "b062664e-49b6-4c88-9045-9fa81fd65ebb",
   "metadata": {
    "execution": {
     "iopub.execute_input": "2021-09-16T19:46:27.795969Z",
     "iopub.status.busy": "2021-09-16T19:46:27.795660Z",
     "iopub.status.idle": "2021-09-16T19:46:27.797304Z",
     "shell.execute_reply": "2021-09-16T19:46:27.797001Z"
    }
   },
   "outputs": [],
   "source": [
    "ON_OFF_PAIRS = [\n",
    "    [\"EGFR\", [\"SLK\", \"LOK\", \"GAK\"]],  # Erlotinib\n",
    "    [\"SLK\", [\"LOK\"]],  # Erlotinib\n",
    "    [\"DRAK2\", [\"CaMKK2\"]],\n",
    "    [\"ABL2\", [\"AurA\"]],  # VX-680/MK-0457\n",
    "    [\"ABL1\", [\"GAK\"]],  # Dasatinib\n",
    "    [\"GAK\", [\"DAPK3\"]],  # Inrebic\n",
    "    [\"AurC\", [\"KIT\"]],  # Inlyta\n",
    "    [\"KIT\", [\"AMPKa2\", \"FMS\"]],  # JNJ-28312141\n",
    "    [\"ABL1\", [\"BMPR1B\"]],  # PD-173955\n",
    "]"
   ]
  },
  {
   "cell_type": "markdown",
   "id": "0c7bf156-8eca-4ada-876b-8f1010e39907",
   "metadata": {},
   "source": [
    "## Profiling vs. `kissim` AUCs"
   ]
  },
  {
   "cell_type": "code",
   "execution_count": 6,
   "id": "faf34dd5-2a89-4cae-b196-1531351cc9ff",
   "metadata": {
    "execution": {
     "iopub.execute_input": "2021-09-16T19:46:27.801597Z",
     "iopub.status.busy": "2021-09-16T19:46:27.801280Z",
     "iopub.status.idle": "2021-09-16T19:46:27.909843Z",
     "shell.execute_reply": "2021-09-16T19:46:27.910144Z"
    }
   },
   "outputs": [
    {
     "ename": "FileNotFoundError",
     "evalue": "[Errno 2] No such file or directory: '/home/dominique/Documents/GitHub/kissim_app/src/../results/dfg_in/auc.csv'",
     "output_type": "error",
     "traceback": [
      "\u001b[0;31m---------------------------------------------------------------------------\u001b[0m",
      "\u001b[0;31mFileNotFoundError\u001b[0m                         Traceback (most recent call last)",
      "\u001b[0;32m/tmp/ipykernel_1617/1138067130.py\u001b[0m in \u001b[0;36m<module>\u001b[0;34m\u001b[0m\n\u001b[1;32m      5\u001b[0m \u001b[0;32mfor\u001b[0m \u001b[0mdata_subset\u001b[0m \u001b[0;32min\u001b[0m \u001b[0mDATA_SUBSET\u001b[0m\u001b[0;34m:\u001b[0m\u001b[0;34m\u001b[0m\u001b[0;34m\u001b[0m\u001b[0m\n\u001b[1;32m      6\u001b[0m     \u001b[0mpath\u001b[0m \u001b[0;34m=\u001b[0m \u001b[0mRESULTS\u001b[0m \u001b[0;34m/\u001b[0m \u001b[0mdata_subset\u001b[0m\u001b[0;34m\u001b[0m\u001b[0;34m\u001b[0m\u001b[0m\n\u001b[0;32m----> 7\u001b[0;31m     \u001b[0mauc_df\u001b[0m \u001b[0;34m=\u001b[0m \u001b[0mpd\u001b[0m\u001b[0;34m.\u001b[0m\u001b[0mread_csv\u001b[0m\u001b[0;34m(\u001b[0m\u001b[0mpath\u001b[0m \u001b[0;34m/\u001b[0m \u001b[0;34m\"auc.csv\"\u001b[0m\u001b[0;34m)\u001b[0m\u001b[0;34m\u001b[0m\u001b[0;34m\u001b[0m\u001b[0m\n\u001b[0m\u001b[1;32m      8\u001b[0m     \u001b[0mauc_dfs\u001b[0m\u001b[0;34m[\u001b[0m\u001b[0mdata_subset\u001b[0m\u001b[0;34m]\u001b[0m \u001b[0;34m=\u001b[0m \u001b[0mauc_df\u001b[0m\u001b[0;34m[\u001b[0m\u001b[0;34m[\u001b[0m\u001b[0;34m\"15\"\u001b[0m\u001b[0;34m,\u001b[0m \u001b[0;34m\"100\"\u001b[0m\u001b[0;34m,\u001b[0m \u001b[0;34m\"110\"\u001b[0m\u001b[0;34m,\u001b[0m \u001b[0;34m\"101\"\u001b[0m\u001b[0;34m,\u001b[0m \u001b[0;34m\"111\"\u001b[0m\u001b[0;34m]\u001b[0m\u001b[0;34m]\u001b[0m\u001b[0;34m\u001b[0m\u001b[0;34m\u001b[0m\u001b[0m\n\u001b[1;32m      9\u001b[0m \u001b[0;34m\u001b[0m\u001b[0m\n",
      "\u001b[0;32m~/.local/miniconda/envs/kissim-app-dev/lib/python3.9/site-packages/pandas/util/_decorators.py\u001b[0m in \u001b[0;36mwrapper\u001b[0;34m(*args, **kwargs)\u001b[0m\n\u001b[1;32m    309\u001b[0m                     \u001b[0mstacklevel\u001b[0m\u001b[0;34m=\u001b[0m\u001b[0mstacklevel\u001b[0m\u001b[0;34m,\u001b[0m\u001b[0;34m\u001b[0m\u001b[0;34m\u001b[0m\u001b[0m\n\u001b[1;32m    310\u001b[0m                 )\n\u001b[0;32m--> 311\u001b[0;31m             \u001b[0;32mreturn\u001b[0m \u001b[0mfunc\u001b[0m\u001b[0;34m(\u001b[0m\u001b[0;34m*\u001b[0m\u001b[0margs\u001b[0m\u001b[0;34m,\u001b[0m \u001b[0;34m**\u001b[0m\u001b[0mkwargs\u001b[0m\u001b[0;34m)\u001b[0m\u001b[0;34m\u001b[0m\u001b[0;34m\u001b[0m\u001b[0m\n\u001b[0m\u001b[1;32m    312\u001b[0m \u001b[0;34m\u001b[0m\u001b[0m\n\u001b[1;32m    313\u001b[0m         \u001b[0;32mreturn\u001b[0m \u001b[0mwrapper\u001b[0m\u001b[0;34m\u001b[0m\u001b[0;34m\u001b[0m\u001b[0m\n",
      "\u001b[0;32m~/.local/miniconda/envs/kissim-app-dev/lib/python3.9/site-packages/pandas/io/parsers/readers.py\u001b[0m in \u001b[0;36mread_csv\u001b[0;34m(filepath_or_buffer, sep, delimiter, header, names, index_col, usecols, squeeze, prefix, mangle_dupe_cols, dtype, engine, converters, true_values, false_values, skipinitialspace, skiprows, skipfooter, nrows, na_values, keep_default_na, na_filter, verbose, skip_blank_lines, parse_dates, infer_datetime_format, keep_date_col, date_parser, dayfirst, cache_dates, iterator, chunksize, compression, thousands, decimal, lineterminator, quotechar, quoting, doublequote, escapechar, comment, encoding, encoding_errors, dialect, error_bad_lines, warn_bad_lines, on_bad_lines, delim_whitespace, low_memory, memory_map, float_precision, storage_options)\u001b[0m\n\u001b[1;32m    584\u001b[0m     \u001b[0mkwds\u001b[0m\u001b[0;34m.\u001b[0m\u001b[0mupdate\u001b[0m\u001b[0;34m(\u001b[0m\u001b[0mkwds_defaults\u001b[0m\u001b[0;34m)\u001b[0m\u001b[0;34m\u001b[0m\u001b[0;34m\u001b[0m\u001b[0m\n\u001b[1;32m    585\u001b[0m \u001b[0;34m\u001b[0m\u001b[0m\n\u001b[0;32m--> 586\u001b[0;31m     \u001b[0;32mreturn\u001b[0m \u001b[0m_read\u001b[0m\u001b[0;34m(\u001b[0m\u001b[0mfilepath_or_buffer\u001b[0m\u001b[0;34m,\u001b[0m \u001b[0mkwds\u001b[0m\u001b[0;34m)\u001b[0m\u001b[0;34m\u001b[0m\u001b[0;34m\u001b[0m\u001b[0m\n\u001b[0m\u001b[1;32m    587\u001b[0m \u001b[0;34m\u001b[0m\u001b[0m\n\u001b[1;32m    588\u001b[0m \u001b[0;34m\u001b[0m\u001b[0m\n",
      "\u001b[0;32m~/.local/miniconda/envs/kissim-app-dev/lib/python3.9/site-packages/pandas/io/parsers/readers.py\u001b[0m in \u001b[0;36m_read\u001b[0;34m(filepath_or_buffer, kwds)\u001b[0m\n\u001b[1;32m    480\u001b[0m \u001b[0;34m\u001b[0m\u001b[0m\n\u001b[1;32m    481\u001b[0m     \u001b[0;31m# Create the parser.\u001b[0m\u001b[0;34m\u001b[0m\u001b[0;34m\u001b[0m\u001b[0m\n\u001b[0;32m--> 482\u001b[0;31m     \u001b[0mparser\u001b[0m \u001b[0;34m=\u001b[0m \u001b[0mTextFileReader\u001b[0m\u001b[0;34m(\u001b[0m\u001b[0mfilepath_or_buffer\u001b[0m\u001b[0;34m,\u001b[0m \u001b[0;34m**\u001b[0m\u001b[0mkwds\u001b[0m\u001b[0;34m)\u001b[0m\u001b[0;34m\u001b[0m\u001b[0;34m\u001b[0m\u001b[0m\n\u001b[0m\u001b[1;32m    483\u001b[0m \u001b[0;34m\u001b[0m\u001b[0m\n\u001b[1;32m    484\u001b[0m     \u001b[0;32mif\u001b[0m \u001b[0mchunksize\u001b[0m \u001b[0;32mor\u001b[0m \u001b[0miterator\u001b[0m\u001b[0;34m:\u001b[0m\u001b[0;34m\u001b[0m\u001b[0;34m\u001b[0m\u001b[0m\n",
      "\u001b[0;32m~/.local/miniconda/envs/kissim-app-dev/lib/python3.9/site-packages/pandas/io/parsers/readers.py\u001b[0m in \u001b[0;36m__init__\u001b[0;34m(self, f, engine, **kwds)\u001b[0m\n\u001b[1;32m    809\u001b[0m             \u001b[0mself\u001b[0m\u001b[0;34m.\u001b[0m\u001b[0moptions\u001b[0m\u001b[0;34m[\u001b[0m\u001b[0;34m\"has_index_names\"\u001b[0m\u001b[0;34m]\u001b[0m \u001b[0;34m=\u001b[0m \u001b[0mkwds\u001b[0m\u001b[0;34m[\u001b[0m\u001b[0;34m\"has_index_names\"\u001b[0m\u001b[0;34m]\u001b[0m\u001b[0;34m\u001b[0m\u001b[0;34m\u001b[0m\u001b[0m\n\u001b[1;32m    810\u001b[0m \u001b[0;34m\u001b[0m\u001b[0m\n\u001b[0;32m--> 811\u001b[0;31m         \u001b[0mself\u001b[0m\u001b[0;34m.\u001b[0m\u001b[0m_engine\u001b[0m \u001b[0;34m=\u001b[0m \u001b[0mself\u001b[0m\u001b[0;34m.\u001b[0m\u001b[0m_make_engine\u001b[0m\u001b[0;34m(\u001b[0m\u001b[0mself\u001b[0m\u001b[0;34m.\u001b[0m\u001b[0mengine\u001b[0m\u001b[0;34m)\u001b[0m\u001b[0;34m\u001b[0m\u001b[0;34m\u001b[0m\u001b[0m\n\u001b[0m\u001b[1;32m    812\u001b[0m \u001b[0;34m\u001b[0m\u001b[0m\n\u001b[1;32m    813\u001b[0m     \u001b[0;32mdef\u001b[0m \u001b[0mclose\u001b[0m\u001b[0;34m(\u001b[0m\u001b[0mself\u001b[0m\u001b[0;34m)\u001b[0m\u001b[0;34m:\u001b[0m\u001b[0;34m\u001b[0m\u001b[0;34m\u001b[0m\u001b[0m\n",
      "\u001b[0;32m~/.local/miniconda/envs/kissim-app-dev/lib/python3.9/site-packages/pandas/io/parsers/readers.py\u001b[0m in \u001b[0;36m_make_engine\u001b[0;34m(self, engine)\u001b[0m\n\u001b[1;32m   1038\u001b[0m             )\n\u001b[1;32m   1039\u001b[0m         \u001b[0;31m# error: Too many arguments for \"ParserBase\"\u001b[0m\u001b[0;34m\u001b[0m\u001b[0;34m\u001b[0m\u001b[0m\n\u001b[0;32m-> 1040\u001b[0;31m         \u001b[0;32mreturn\u001b[0m \u001b[0mmapping\u001b[0m\u001b[0;34m[\u001b[0m\u001b[0mengine\u001b[0m\u001b[0;34m]\u001b[0m\u001b[0;34m(\u001b[0m\u001b[0mself\u001b[0m\u001b[0;34m.\u001b[0m\u001b[0mf\u001b[0m\u001b[0;34m,\u001b[0m \u001b[0;34m**\u001b[0m\u001b[0mself\u001b[0m\u001b[0;34m.\u001b[0m\u001b[0moptions\u001b[0m\u001b[0;34m)\u001b[0m  \u001b[0;31m# type: ignore[call-arg]\u001b[0m\u001b[0;34m\u001b[0m\u001b[0;34m\u001b[0m\u001b[0m\n\u001b[0m\u001b[1;32m   1041\u001b[0m \u001b[0;34m\u001b[0m\u001b[0m\n\u001b[1;32m   1042\u001b[0m     \u001b[0;32mdef\u001b[0m \u001b[0m_failover_to_python\u001b[0m\u001b[0;34m(\u001b[0m\u001b[0mself\u001b[0m\u001b[0;34m)\u001b[0m\u001b[0;34m:\u001b[0m\u001b[0;34m\u001b[0m\u001b[0;34m\u001b[0m\u001b[0m\n",
      "\u001b[0;32m~/.local/miniconda/envs/kissim-app-dev/lib/python3.9/site-packages/pandas/io/parsers/c_parser_wrapper.py\u001b[0m in \u001b[0;36m__init__\u001b[0;34m(self, src, **kwds)\u001b[0m\n\u001b[1;32m     49\u001b[0m \u001b[0;34m\u001b[0m\u001b[0m\n\u001b[1;32m     50\u001b[0m         \u001b[0;31m# open handles\u001b[0m\u001b[0;34m\u001b[0m\u001b[0;34m\u001b[0m\u001b[0m\n\u001b[0;32m---> 51\u001b[0;31m         \u001b[0mself\u001b[0m\u001b[0;34m.\u001b[0m\u001b[0m_open_handles\u001b[0m\u001b[0;34m(\u001b[0m\u001b[0msrc\u001b[0m\u001b[0;34m,\u001b[0m \u001b[0mkwds\u001b[0m\u001b[0;34m)\u001b[0m\u001b[0;34m\u001b[0m\u001b[0;34m\u001b[0m\u001b[0m\n\u001b[0m\u001b[1;32m     52\u001b[0m         \u001b[0;32massert\u001b[0m \u001b[0mself\u001b[0m\u001b[0;34m.\u001b[0m\u001b[0mhandles\u001b[0m \u001b[0;32mis\u001b[0m \u001b[0;32mnot\u001b[0m \u001b[0;32mNone\u001b[0m\u001b[0;34m\u001b[0m\u001b[0;34m\u001b[0m\u001b[0m\n\u001b[1;32m     53\u001b[0m \u001b[0;34m\u001b[0m\u001b[0m\n",
      "\u001b[0;32m~/.local/miniconda/envs/kissim-app-dev/lib/python3.9/site-packages/pandas/io/parsers/base_parser.py\u001b[0m in \u001b[0;36m_open_handles\u001b[0;34m(self, src, kwds)\u001b[0m\n\u001b[1;32m    220\u001b[0m         \u001b[0mLet\u001b[0m \u001b[0mthe\u001b[0m \u001b[0mreaders\u001b[0m \u001b[0mopen\u001b[0m \u001b[0mIOHandles\u001b[0m \u001b[0mafter\u001b[0m \u001b[0mthey\u001b[0m \u001b[0mare\u001b[0m \u001b[0mdone\u001b[0m \u001b[0;32mwith\u001b[0m \u001b[0mtheir\u001b[0m \u001b[0mpotential\u001b[0m \u001b[0mraises\u001b[0m\u001b[0;34m.\u001b[0m\u001b[0;34m\u001b[0m\u001b[0;34m\u001b[0m\u001b[0m\n\u001b[1;32m    221\u001b[0m         \"\"\"\n\u001b[0;32m--> 222\u001b[0;31m         self.handles = get_handle(\n\u001b[0m\u001b[1;32m    223\u001b[0m             \u001b[0msrc\u001b[0m\u001b[0;34m,\u001b[0m\u001b[0;34m\u001b[0m\u001b[0;34m\u001b[0m\u001b[0m\n\u001b[1;32m    224\u001b[0m             \u001b[0;34m\"r\"\u001b[0m\u001b[0;34m,\u001b[0m\u001b[0;34m\u001b[0m\u001b[0;34m\u001b[0m\u001b[0m\n",
      "\u001b[0;32m~/.local/miniconda/envs/kissim-app-dev/lib/python3.9/site-packages/pandas/io/common.py\u001b[0m in \u001b[0;36mget_handle\u001b[0;34m(path_or_buf, mode, encoding, compression, memory_map, is_text, errors, storage_options)\u001b[0m\n\u001b[1;32m    700\u001b[0m         \u001b[0;32mif\u001b[0m \u001b[0mioargs\u001b[0m\u001b[0;34m.\u001b[0m\u001b[0mencoding\u001b[0m \u001b[0;32mand\u001b[0m \u001b[0;34m\"b\"\u001b[0m \u001b[0;32mnot\u001b[0m \u001b[0;32min\u001b[0m \u001b[0mioargs\u001b[0m\u001b[0;34m.\u001b[0m\u001b[0mmode\u001b[0m\u001b[0;34m:\u001b[0m\u001b[0;34m\u001b[0m\u001b[0;34m\u001b[0m\u001b[0m\n\u001b[1;32m    701\u001b[0m             \u001b[0;31m# Encoding\u001b[0m\u001b[0;34m\u001b[0m\u001b[0;34m\u001b[0m\u001b[0m\n\u001b[0;32m--> 702\u001b[0;31m             handle = open(\n\u001b[0m\u001b[1;32m    703\u001b[0m                 \u001b[0mhandle\u001b[0m\u001b[0;34m,\u001b[0m\u001b[0;34m\u001b[0m\u001b[0;34m\u001b[0m\u001b[0m\n\u001b[1;32m    704\u001b[0m                 \u001b[0mioargs\u001b[0m\u001b[0;34m.\u001b[0m\u001b[0mmode\u001b[0m\u001b[0;34m,\u001b[0m\u001b[0;34m\u001b[0m\u001b[0;34m\u001b[0m\u001b[0m\n",
      "\u001b[0;31mFileNotFoundError\u001b[0m: [Errno 2] No such file or directory: '/home/dominique/Documents/GitHub/kissim_app/src/../results/dfg_in/auc.csv'"
     ]
    }
   ],
   "source": [
    "auc_dfs = {}\n",
    "mean_df = []\n",
    "median_df = []\n",
    "std_df = []\n",
    "for data_subset in DATA_SUBSET:\n",
    "    path = RESULTS / data_subset\n",
    "    auc_df = pd.read_csv(path / \"auc.csv\")\n",
    "    auc_dfs[data_subset] = auc_df[[\"15\", \"100\", \"110\", \"101\", \"111\"]]\n",
    "\n",
    "    mean = auc_dfs[data_subset].describe().loc[\"mean\", :]\n",
    "    mean.name = data_subset\n",
    "    mean_df.append(mean)\n",
    "\n",
    "    median = auc_dfs[data_subset].describe().loc[\"50%\", :]\n",
    "    median.name = data_subset\n",
    "    median_df.append(median)\n",
    "\n",
    "    std = auc_dfs[data_subset].describe().loc[\"std\", :]\n",
    "    std.name = data_subset\n",
    "    std_df.append(std)\n",
    "mean_df = pd.concat(mean_df, axis=1)\n",
    "median_df = pd.concat(median_df, axis=1)\n",
    "std_df = pd.concat(std_df, axis=1)"
   ]
  },
  {
   "cell_type": "markdown",
   "id": "6c88e552-26eb-400f-98dc-adbe5451d424",
   "metadata": {},
   "source": [
    "### Mean"
   ]
  },
  {
   "cell_type": "code",
   "execution_count": 7,
   "id": "78c7a77c-a375-4a29-9eba-6f09255e4817",
   "metadata": {
    "execution": {
     "iopub.execute_input": "2021-09-16T19:46:27.915757Z",
     "iopub.status.busy": "2021-09-16T19:46:27.915431Z",
     "iopub.status.idle": "2021-09-16T19:46:27.917075Z",
     "shell.execute_reply": "2021-09-16T19:46:27.917335Z"
    }
   },
   "outputs": [
    {
     "ename": "AttributeError",
     "evalue": "'list' object has no attribute 'style'",
     "output_type": "error",
     "traceback": [
      "\u001b[0;31m---------------------------------------------------------------------------\u001b[0m",
      "\u001b[0;31mAttributeError\u001b[0m                            Traceback (most recent call last)",
      "\u001b[0;32m/tmp/ipykernel_1617/3318872849.py\u001b[0m in \u001b[0;36m<module>\u001b[0;34m\u001b[0m\n\u001b[0;32m----> 1\u001b[0;31m \u001b[0mmean_df\u001b[0m\u001b[0;34m.\u001b[0m\u001b[0mstyle\u001b[0m\u001b[0;34m.\u001b[0m\u001b[0mbackground_gradient\u001b[0m\u001b[0;34m(\u001b[0m\u001b[0mcmap\u001b[0m\u001b[0;34m=\u001b[0m\u001b[0mcm\u001b[0m\u001b[0;34m,\u001b[0m \u001b[0maxis\u001b[0m\u001b[0;34m=\u001b[0m\u001b[0;32mNone\u001b[0m\u001b[0;34m)\u001b[0m\u001b[0;34m\u001b[0m\u001b[0;34m\u001b[0m\u001b[0m\n\u001b[0m",
      "\u001b[0;31mAttributeError\u001b[0m: 'list' object has no attribute 'style'"
     ]
    }
   ],
   "source": [
    "mean_df.style.background_gradient(cmap=cm, axis=None)"
   ]
  },
  {
   "cell_type": "code",
   "execution_count": 8,
   "id": "9a6dd559-1975-4c23-967b-51146a1d1f2b",
   "metadata": {
    "execution": {
     "iopub.execute_input": "2021-09-16T19:46:27.922320Z",
     "iopub.status.busy": "2021-09-16T19:46:27.918570Z",
     "iopub.status.idle": "2021-09-16T19:46:27.924246Z",
     "shell.execute_reply": "2021-09-16T19:46:27.924496Z"
    }
   },
   "outputs": [
    {
     "ename": "AttributeError",
     "evalue": "'list' object has no attribute 'style'",
     "output_type": "error",
     "traceback": [
      "\u001b[0;31m---------------------------------------------------------------------------\u001b[0m",
      "\u001b[0;31mAttributeError\u001b[0m                            Traceback (most recent call last)",
      "\u001b[0;32m/tmp/ipykernel_1617/2431764262.py\u001b[0m in \u001b[0;36m<module>\u001b[0;34m\u001b[0m\n\u001b[0;32m----> 1\u001b[0;31m \u001b[0mmean_df\u001b[0m\u001b[0;34m.\u001b[0m\u001b[0mstyle\u001b[0m\u001b[0;34m.\u001b[0m\u001b[0mhighlight_max\u001b[0m\u001b[0;34m(\u001b[0m\u001b[0maxis\u001b[0m\u001b[0;34m=\u001b[0m\u001b[0;32mNone\u001b[0m\u001b[0;34m,\u001b[0m \u001b[0mcolor\u001b[0m\u001b[0;34m=\u001b[0m\u001b[0;34m\"yellow\"\u001b[0m\u001b[0;34m)\u001b[0m\u001b[0;34m\u001b[0m\u001b[0;34m\u001b[0m\u001b[0m\n\u001b[0m",
      "\u001b[0;31mAttributeError\u001b[0m: 'list' object has no attribute 'style'"
     ]
    }
   ],
   "source": [
    "mean_df.style.highlight_max(axis=None, color=\"yellow\")"
   ]
  },
  {
   "cell_type": "code",
   "execution_count": 9,
   "id": "4d85b24d-9189-4ada-acc2-0b3c06d42a23",
   "metadata": {
    "execution": {
     "iopub.execute_input": "2021-09-16T19:46:27.929636Z",
     "iopub.status.busy": "2021-09-16T19:46:27.929300Z",
     "iopub.status.idle": "2021-09-16T19:46:27.931047Z",
     "shell.execute_reply": "2021-09-16T19:46:27.931291Z"
    }
   },
   "outputs": [
    {
     "ename": "AttributeError",
     "evalue": "'list' object has no attribute 'style'",
     "output_type": "error",
     "traceback": [
      "\u001b[0;31m---------------------------------------------------------------------------\u001b[0m",
      "\u001b[0;31mAttributeError\u001b[0m                            Traceback (most recent call last)",
      "\u001b[0;32m/tmp/ipykernel_1617/1514330113.py\u001b[0m in \u001b[0;36m<module>\u001b[0;34m\u001b[0m\n\u001b[0;32m----> 1\u001b[0;31m \u001b[0mmean_df\u001b[0m\u001b[0;34m.\u001b[0m\u001b[0mstyle\u001b[0m\u001b[0;34m.\u001b[0m\u001b[0mhighlight_max\u001b[0m\u001b[0;34m(\u001b[0m\u001b[0maxis\u001b[0m\u001b[0;34m=\u001b[0m\u001b[0;36m0\u001b[0m\u001b[0;34m,\u001b[0m \u001b[0mcolor\u001b[0m\u001b[0;34m=\u001b[0m\u001b[0;34m\"yellow\"\u001b[0m\u001b[0;34m)\u001b[0m\u001b[0;34m\u001b[0m\u001b[0;34m\u001b[0m\u001b[0m\n\u001b[0m",
      "\u001b[0;31mAttributeError\u001b[0m: 'list' object has no attribute 'style'"
     ]
    }
   ],
   "source": [
    "mean_df.style.highlight_max(axis=0, color=\"yellow\")"
   ]
  },
  {
   "cell_type": "code",
   "execution_count": 10,
   "id": "96a16baa-56cb-4ca9-9437-0ea14db1683e",
   "metadata": {
    "execution": {
     "iopub.execute_input": "2021-09-16T19:46:27.936304Z",
     "iopub.status.busy": "2021-09-16T19:46:27.935990Z",
     "iopub.status.idle": "2021-09-16T19:46:27.937770Z",
     "shell.execute_reply": "2021-09-16T19:46:27.938032Z"
    }
   },
   "outputs": [
    {
     "ename": "AttributeError",
     "evalue": "'list' object has no attribute 'style'",
     "output_type": "error",
     "traceback": [
      "\u001b[0;31m---------------------------------------------------------------------------\u001b[0m",
      "\u001b[0;31mAttributeError\u001b[0m                            Traceback (most recent call last)",
      "\u001b[0;32m/tmp/ipykernel_1617/1438990425.py\u001b[0m in \u001b[0;36m<module>\u001b[0;34m\u001b[0m\n\u001b[0;32m----> 1\u001b[0;31m \u001b[0mmean_df\u001b[0m\u001b[0;34m.\u001b[0m\u001b[0mstyle\u001b[0m\u001b[0;34m.\u001b[0m\u001b[0mhighlight_max\u001b[0m\u001b[0;34m(\u001b[0m\u001b[0maxis\u001b[0m\u001b[0;34m=\u001b[0m\u001b[0;36m1\u001b[0m\u001b[0;34m,\u001b[0m \u001b[0mcolor\u001b[0m\u001b[0;34m=\u001b[0m\u001b[0;34m\"yellow\"\u001b[0m\u001b[0;34m)\u001b[0m\u001b[0;34m\u001b[0m\u001b[0;34m\u001b[0m\u001b[0m\n\u001b[0m",
      "\u001b[0;31mAttributeError\u001b[0m: 'list' object has no attribute 'style'"
     ]
    }
   ],
   "source": [
    "mean_df.style.highlight_max(axis=1, color=\"yellow\")"
   ]
  },
  {
   "cell_type": "markdown",
   "id": "f17b8948-d921-4f90-ad8d-1232197743ae",
   "metadata": {},
   "source": [
    "### Median"
   ]
  },
  {
   "cell_type": "code",
   "execution_count": 11,
   "id": "0c611d42-d06d-4d8b-9ef5-cf117a7e53eb",
   "metadata": {
    "execution": {
     "iopub.execute_input": "2021-09-16T19:46:27.943043Z",
     "iopub.status.busy": "2021-09-16T19:46:27.942674Z",
     "iopub.status.idle": "2021-09-16T19:46:27.944679Z",
     "shell.execute_reply": "2021-09-16T19:46:27.944947Z"
    }
   },
   "outputs": [
    {
     "ename": "AttributeError",
     "evalue": "'list' object has no attribute 'style'",
     "output_type": "error",
     "traceback": [
      "\u001b[0;31m---------------------------------------------------------------------------\u001b[0m",
      "\u001b[0;31mAttributeError\u001b[0m                            Traceback (most recent call last)",
      "\u001b[0;32m/tmp/ipykernel_1617/4175603910.py\u001b[0m in \u001b[0;36m<module>\u001b[0;34m\u001b[0m\n\u001b[0;32m----> 1\u001b[0;31m \u001b[0mmedian_df\u001b[0m\u001b[0;34m.\u001b[0m\u001b[0mstyle\u001b[0m\u001b[0;34m.\u001b[0m\u001b[0mbackground_gradient\u001b[0m\u001b[0;34m(\u001b[0m\u001b[0mcmap\u001b[0m\u001b[0;34m=\u001b[0m\u001b[0mcm\u001b[0m\u001b[0;34m,\u001b[0m \u001b[0maxis\u001b[0m\u001b[0;34m=\u001b[0m\u001b[0;32mNone\u001b[0m\u001b[0;34m)\u001b[0m\u001b[0;34m\u001b[0m\u001b[0;34m\u001b[0m\u001b[0m\n\u001b[0m",
      "\u001b[0;31mAttributeError\u001b[0m: 'list' object has no attribute 'style'"
     ]
    }
   ],
   "source": [
    "median_df.style.background_gradient(cmap=cm, axis=None)"
   ]
  },
  {
   "cell_type": "code",
   "execution_count": 12,
   "id": "0a89df56-f130-44f2-9dea-7dad30e4560b",
   "metadata": {
    "execution": {
     "iopub.execute_input": "2021-09-16T19:46:27.950087Z",
     "iopub.status.busy": "2021-09-16T19:46:27.949776Z",
     "iopub.status.idle": "2021-09-16T19:46:27.951855Z",
     "shell.execute_reply": "2021-09-16T19:46:27.951537Z"
    }
   },
   "outputs": [
    {
     "ename": "AttributeError",
     "evalue": "'list' object has no attribute 'style'",
     "output_type": "error",
     "traceback": [
      "\u001b[0;31m---------------------------------------------------------------------------\u001b[0m",
      "\u001b[0;31mAttributeError\u001b[0m                            Traceback (most recent call last)",
      "\u001b[0;32m/tmp/ipykernel_1617/1349246908.py\u001b[0m in \u001b[0;36m<module>\u001b[0;34m\u001b[0m\n\u001b[0;32m----> 1\u001b[0;31m \u001b[0mmedian_df\u001b[0m\u001b[0;34m.\u001b[0m\u001b[0mstyle\u001b[0m\u001b[0;34m.\u001b[0m\u001b[0mhighlight_max\u001b[0m\u001b[0;34m(\u001b[0m\u001b[0maxis\u001b[0m\u001b[0;34m=\u001b[0m\u001b[0;32mNone\u001b[0m\u001b[0;34m,\u001b[0m \u001b[0mcolor\u001b[0m\u001b[0;34m=\u001b[0m\u001b[0;34m\"yellow\"\u001b[0m\u001b[0;34m)\u001b[0m\u001b[0;34m\u001b[0m\u001b[0;34m\u001b[0m\u001b[0m\n\u001b[0m",
      "\u001b[0;31mAttributeError\u001b[0m: 'list' object has no attribute 'style'"
     ]
    }
   ],
   "source": [
    "median_df.style.highlight_max(axis=None, color=\"yellow\")"
   ]
  },
  {
   "cell_type": "code",
   "execution_count": 13,
   "id": "c0d0c735-6829-4b11-9933-5dc2ba498d41",
   "metadata": {
    "execution": {
     "iopub.execute_input": "2021-09-16T19:46:27.956754Z",
     "iopub.status.busy": "2021-09-16T19:46:27.956442Z",
     "iopub.status.idle": "2021-09-16T19:46:27.958633Z",
     "shell.execute_reply": "2021-09-16T19:46:27.958375Z"
    }
   },
   "outputs": [
    {
     "ename": "AttributeError",
     "evalue": "'list' object has no attribute 'style'",
     "output_type": "error",
     "traceback": [
      "\u001b[0;31m---------------------------------------------------------------------------\u001b[0m",
      "\u001b[0;31mAttributeError\u001b[0m                            Traceback (most recent call last)",
      "\u001b[0;32m/tmp/ipykernel_1617/400921398.py\u001b[0m in \u001b[0;36m<module>\u001b[0;34m\u001b[0m\n\u001b[0;32m----> 1\u001b[0;31m \u001b[0mmedian_df\u001b[0m\u001b[0;34m.\u001b[0m\u001b[0mstyle\u001b[0m\u001b[0;34m.\u001b[0m\u001b[0mhighlight_max\u001b[0m\u001b[0;34m(\u001b[0m\u001b[0maxis\u001b[0m\u001b[0;34m=\u001b[0m\u001b[0;36m1\u001b[0m\u001b[0;34m,\u001b[0m \u001b[0mcolor\u001b[0m\u001b[0;34m=\u001b[0m\u001b[0;34m\"yellow\"\u001b[0m\u001b[0;34m)\u001b[0m\u001b[0;34m\u001b[0m\u001b[0;34m\u001b[0m\u001b[0m\n\u001b[0m",
      "\u001b[0;31mAttributeError\u001b[0m: 'list' object has no attribute 'style'"
     ]
    }
   ],
   "source": [
    "median_df.style.highlight_max(axis=1, color=\"yellow\")"
   ]
  },
  {
   "cell_type": "markdown",
   "id": "071b241e-405f-47a4-808a-443ea32671e6",
   "metadata": {},
   "source": [
    "### Standard deviation"
   ]
  },
  {
   "cell_type": "code",
   "execution_count": 14,
   "id": "166f8e3d-b7f6-4dc1-acea-84e00ea7fccf",
   "metadata": {
    "execution": {
     "iopub.execute_input": "2021-09-16T19:46:27.963608Z",
     "iopub.status.busy": "2021-09-16T19:46:27.963294Z",
     "iopub.status.idle": "2021-09-16T19:46:27.964965Z",
     "shell.execute_reply": "2021-09-16T19:46:27.965220Z"
    }
   },
   "outputs": [
    {
     "ename": "AttributeError",
     "evalue": "'list' object has no attribute 'style'",
     "output_type": "error",
     "traceback": [
      "\u001b[0;31m---------------------------------------------------------------------------\u001b[0m",
      "\u001b[0;31mAttributeError\u001b[0m                            Traceback (most recent call last)",
      "\u001b[0;32m/tmp/ipykernel_1617/617792035.py\u001b[0m in \u001b[0;36m<module>\u001b[0;34m\u001b[0m\n\u001b[0;32m----> 1\u001b[0;31m \u001b[0mstd_df\u001b[0m\u001b[0;34m.\u001b[0m\u001b[0mstyle\u001b[0m\u001b[0;34m.\u001b[0m\u001b[0mbackground_gradient\u001b[0m\u001b[0;34m(\u001b[0m\u001b[0mcmap\u001b[0m\u001b[0;34m=\u001b[0m\u001b[0mcm\u001b[0m\u001b[0;34m,\u001b[0m \u001b[0maxis\u001b[0m\u001b[0;34m=\u001b[0m\u001b[0;32mNone\u001b[0m\u001b[0;34m)\u001b[0m\u001b[0;34m\u001b[0m\u001b[0;34m\u001b[0m\u001b[0m\n\u001b[0m",
      "\u001b[0;31mAttributeError\u001b[0m: 'list' object has no attribute 'style'"
     ]
    }
   ],
   "source": [
    "std_df.style.background_gradient(cmap=cm, axis=None)"
   ]
  },
  {
   "cell_type": "code",
   "execution_count": 15,
   "id": "2bd00dd3-29ae-4199-9b56-e272f01624fa",
   "metadata": {
    "execution": {
     "iopub.execute_input": "2021-09-16T19:46:27.970233Z",
     "iopub.status.busy": "2021-09-16T19:46:27.969914Z",
     "iopub.status.idle": "2021-09-16T19:46:27.971730Z",
     "shell.execute_reply": "2021-09-16T19:46:27.971977Z"
    }
   },
   "outputs": [
    {
     "ename": "AttributeError",
     "evalue": "'list' object has no attribute 'style'",
     "output_type": "error",
     "traceback": [
      "\u001b[0;31m---------------------------------------------------------------------------\u001b[0m",
      "\u001b[0;31mAttributeError\u001b[0m                            Traceback (most recent call last)",
      "\u001b[0;32m/tmp/ipykernel_1617/166844580.py\u001b[0m in \u001b[0;36m<module>\u001b[0;34m\u001b[0m\n\u001b[0;32m----> 1\u001b[0;31m \u001b[0mstd_df\u001b[0m\u001b[0;34m.\u001b[0m\u001b[0mstyle\u001b[0m\u001b[0;34m.\u001b[0m\u001b[0mhighlight_max\u001b[0m\u001b[0;34m(\u001b[0m\u001b[0maxis\u001b[0m\u001b[0;34m=\u001b[0m\u001b[0;32mNone\u001b[0m\u001b[0;34m,\u001b[0m \u001b[0mcolor\u001b[0m\u001b[0;34m=\u001b[0m\u001b[0;34m\"yellow\"\u001b[0m\u001b[0;34m)\u001b[0m\u001b[0;34m\u001b[0m\u001b[0;34m\u001b[0m\u001b[0m\n\u001b[0m",
      "\u001b[0;31mAttributeError\u001b[0m: 'list' object has no attribute 'style'"
     ]
    }
   ],
   "source": [
    "std_df.style.highlight_max(axis=None, color=\"yellow\")"
   ]
  },
  {
   "cell_type": "code",
   "execution_count": 16,
   "id": "917c6c7b-d03b-482b-9f93-ee1537631193",
   "metadata": {
    "execution": {
     "iopub.execute_input": "2021-09-16T19:46:27.976847Z",
     "iopub.status.busy": "2021-09-16T19:46:27.976539Z",
     "iopub.status.idle": "2021-09-16T19:46:27.978329Z",
     "shell.execute_reply": "2021-09-16T19:46:27.978662Z"
    }
   },
   "outputs": [
    {
     "ename": "AttributeError",
     "evalue": "'list' object has no attribute 'style'",
     "output_type": "error",
     "traceback": [
      "\u001b[0;31m---------------------------------------------------------------------------\u001b[0m",
      "\u001b[0;31mAttributeError\u001b[0m                            Traceback (most recent call last)",
      "\u001b[0;32m/tmp/ipykernel_1617/2316884390.py\u001b[0m in \u001b[0;36m<module>\u001b[0;34m\u001b[0m\n\u001b[0;32m----> 1\u001b[0;31m \u001b[0mstd_df\u001b[0m\u001b[0;34m.\u001b[0m\u001b[0mstyle\u001b[0m\u001b[0;34m.\u001b[0m\u001b[0mhighlight_max\u001b[0m\u001b[0;34m(\u001b[0m\u001b[0maxis\u001b[0m\u001b[0;34m=\u001b[0m\u001b[0;36m0\u001b[0m\u001b[0;34m,\u001b[0m \u001b[0mcolor\u001b[0m\u001b[0;34m=\u001b[0m\u001b[0;34m\"yellow\"\u001b[0m\u001b[0;34m)\u001b[0m\u001b[0;34m\u001b[0m\u001b[0;34m\u001b[0m\u001b[0m\n\u001b[0m",
      "\u001b[0;31mAttributeError\u001b[0m: 'list' object has no attribute 'style'"
     ]
    }
   ],
   "source": [
    "std_df.style.highlight_max(axis=0, color=\"yellow\")"
   ]
  },
  {
   "cell_type": "code",
   "execution_count": 17,
   "id": "0026e51e-a7b4-4e8b-8bf7-b64285da5888",
   "metadata": {
    "execution": {
     "iopub.execute_input": "2021-09-16T19:46:27.983851Z",
     "iopub.status.busy": "2021-09-16T19:46:27.983520Z",
     "iopub.status.idle": "2021-09-16T19:46:27.985162Z",
     "shell.execute_reply": "2021-09-16T19:46:27.985412Z"
    }
   },
   "outputs": [
    {
     "ename": "AttributeError",
     "evalue": "'list' object has no attribute 'style'",
     "output_type": "error",
     "traceback": [
      "\u001b[0;31m---------------------------------------------------------------------------\u001b[0m",
      "\u001b[0;31mAttributeError\u001b[0m                            Traceback (most recent call last)",
      "\u001b[0;32m/tmp/ipykernel_1617/4002676685.py\u001b[0m in \u001b[0;36m<module>\u001b[0;34m\u001b[0m\n\u001b[0;32m----> 1\u001b[0;31m \u001b[0mstd_df\u001b[0m\u001b[0;34m.\u001b[0m\u001b[0mstyle\u001b[0m\u001b[0;34m.\u001b[0m\u001b[0mhighlight_max\u001b[0m\u001b[0;34m(\u001b[0m\u001b[0maxis\u001b[0m\u001b[0;34m=\u001b[0m\u001b[0;36m1\u001b[0m\u001b[0;34m,\u001b[0m \u001b[0mcolor\u001b[0m\u001b[0;34m=\u001b[0m\u001b[0;34m\"yellow\"\u001b[0m\u001b[0;34m)\u001b[0m\u001b[0;34m\u001b[0m\u001b[0;34m\u001b[0m\u001b[0m\n\u001b[0m",
      "\u001b[0;31mAttributeError\u001b[0m: 'list' object has no attribute 'style'"
     ]
    }
   ],
   "source": [
    "std_df.style.highlight_max(axis=1, color=\"yellow\")"
   ]
  },
  {
   "cell_type": "markdown",
   "id": "b10d210b-57d5-4ba3-a622-4e9cab3460c4",
   "metadata": {},
   "source": [
    "## Top `kissim` ranks"
   ]
  },
  {
   "cell_type": "code",
   "execution_count": 18,
   "id": "b0e629fe-c15e-4c4b-9c67-42fdd5ddae09",
   "metadata": {
    "execution": {
     "iopub.execute_input": "2021-09-16T19:46:27.988480Z",
     "iopub.status.busy": "2021-09-16T19:46:27.988169Z",
     "iopub.status.idle": "2021-09-16T19:46:27.989643Z",
     "shell.execute_reply": "2021-09-16T19:46:27.989882Z"
    }
   },
   "outputs": [],
   "source": [
    "def get_ranks(distance_matrix, rank_from, rank_to):\n",
    "    \"\"\"\n",
    "    Get ranks for all kinases w.r.t. to a query kinase.\n",
    "    \"\"\"\n",
    "\n",
    "    ranks = pd.concat(\n",
    "        [\n",
    "            distance_matrix[rank_from].sort_values(),\n",
    "            distance_matrix[rank_from].sort_values().rank(),\n",
    "        ],\n",
    "        axis=1,\n",
    "    )\n",
    "    ranks.columns = [\"distance\", \"rank\"]\n",
    "    if rank_to is not None:\n",
    "        ranks = ranks.loc[rank_to, :]\n",
    "    pair_names = [f\"{rank_from}-{rank_to}\" for i in rank_to]\n",
    "    return ranks, pair_names"
   ]
  },
  {
   "cell_type": "code",
   "execution_count": 19,
   "id": "e605b42d-c3ea-4b8f-8a2d-e26c87e95d4b",
   "metadata": {
    "execution": {
     "iopub.execute_input": "2021-09-16T19:46:27.992956Z",
     "iopub.status.busy": "2021-09-16T19:46:27.992644Z",
     "iopub.status.idle": "2021-09-16T19:46:28.089953Z",
     "shell.execute_reply": "2021-09-16T19:46:28.090190Z"
    }
   },
   "outputs": [
    {
     "name": "stdout",
     "output_type": "stream",
     "text": [
      "CPU times: user 91.3 ms, sys: 3.7 ms, total: 95 ms\n",
      "Wall time: 95.7 ms\n"
     ]
    }
   ],
   "source": [
    "%%time\n",
    "\n",
    "results_list = []\n",
    "\n",
    "for data_subset in DATA_SUBSET:\n",
    "    for weighting in WEIGHTING_SCHEMES:\n",
    "        results = []\n",
    "        columns = []\n",
    "        results.extend([data_subset, weighting])\n",
    "\n",
    "        kinase_matrix_path = RESULTS / f\"{data_subset}/fingerprint_distances_to_kinase_matrix.csv\"\n",
    "        kinase_matrix = pd.read_csv(kinase_matrix_path, index_col=0)\n",
    "\n",
    "        for pair in ON_OFF_PAIRS:\n",
    "            ranks, pair_names = get_ranks(kinase_matrix, pair[0], pair[1])\n",
    "            results.extend(ranks[\"rank\"].to_list())\n",
    "\n",
    "        results_list.append(results)"
   ]
  },
  {
   "cell_type": "code",
   "execution_count": 20,
   "id": "1035b73a-0cf4-4b53-b073-ff65923f41cf",
   "metadata": {
    "execution": {
     "iopub.execute_input": "2021-09-16T19:46:28.094958Z",
     "iopub.status.busy": "2021-09-16T19:46:28.094640Z",
     "iopub.status.idle": "2021-09-16T19:46:28.096118Z",
     "shell.execute_reply": "2021-09-16T19:46:28.096377Z"
    }
   },
   "outputs": [],
   "source": [
    "matrix_ranks_df = pd.DataFrame(\n",
    "    results_list,\n",
    "    columns=[\"subset\", \"weighting\"] + [f\"{i[0]}-{j}\" for i in ON_OFF_PAIRS for j in i[1]],\n",
    ")\n",
    "matrix_ranks_df = matrix_ranks_df.set_index([\"subset\", \"weighting\"])\n",
    "cm = sns.light_palette(\"blue\", as_cmap=True, reverse=True)"
   ]
  },
  {
   "cell_type": "code",
   "execution_count": 21,
   "id": "ad3ab800-6cc2-4ebd-8fe7-1544386c750b",
   "metadata": {
    "execution": {
     "iopub.execute_input": "2021-09-16T19:46:28.098751Z",
     "iopub.status.busy": "2021-09-16T19:46:28.098441Z",
     "iopub.status.idle": "2021-09-16T19:46:28.148465Z",
     "shell.execute_reply": "2021-09-16T19:46:28.148211Z"
    }
   },
   "outputs": [
    {
     "data": {
      "text/html": [
       "<style type=\"text/css\">\n",
       "#T_bac95_row0_col3, #T_bac95_row0_col4, #T_bac95_row0_col7, #T_bac95_row0_col10, #T_bac95_row1_col3, #T_bac95_row1_col4, #T_bac95_row1_col7, #T_bac95_row1_col10, #T_bac95_row2_col3, #T_bac95_row2_col4, #T_bac95_row2_col7, #T_bac95_row2_col10, #T_bac95_row3_col3, #T_bac95_row3_col4, #T_bac95_row3_col7, #T_bac95_row3_col10 {\n",
       "  background-color: yellow;\n",
       "}\n",
       "</style>\n",
       "<table id=\"T_bac95_\">\n",
       "  <thead>\n",
       "    <tr>\n",
       "      <th class=\"blank\" >&nbsp;</th>\n",
       "      <th class=\"blank level0\" >&nbsp;</th>\n",
       "      <th class=\"col_heading level0 col0\" >EGFR-SLK</th>\n",
       "      <th class=\"col_heading level0 col1\" >EGFR-LOK</th>\n",
       "      <th class=\"col_heading level0 col2\" >EGFR-GAK</th>\n",
       "      <th class=\"col_heading level0 col3\" >SLK-LOK</th>\n",
       "      <th class=\"col_heading level0 col4\" >DRAK2-CaMKK2</th>\n",
       "      <th class=\"col_heading level0 col5\" >ABL2-AurA</th>\n",
       "      <th class=\"col_heading level0 col6\" >ABL1-GAK</th>\n",
       "      <th class=\"col_heading level0 col7\" >GAK-DAPK3</th>\n",
       "      <th class=\"col_heading level0 col8\" >AurC-KIT</th>\n",
       "      <th class=\"col_heading level0 col9\" >KIT-AMPKa2</th>\n",
       "      <th class=\"col_heading level0 col10\" >KIT-FMS</th>\n",
       "      <th class=\"col_heading level0 col11\" >ABL1-BMPR1B</th>\n",
       "    </tr>\n",
       "    <tr>\n",
       "      <th class=\"index_name level0\" >subset</th>\n",
       "      <th class=\"index_name level1\" >weighting</th>\n",
       "      <th class=\"blank col0\" >&nbsp;</th>\n",
       "      <th class=\"blank col1\" >&nbsp;</th>\n",
       "      <th class=\"blank col2\" >&nbsp;</th>\n",
       "      <th class=\"blank col3\" >&nbsp;</th>\n",
       "      <th class=\"blank col4\" >&nbsp;</th>\n",
       "      <th class=\"blank col5\" >&nbsp;</th>\n",
       "      <th class=\"blank col6\" >&nbsp;</th>\n",
       "      <th class=\"blank col7\" >&nbsp;</th>\n",
       "      <th class=\"blank col8\" >&nbsp;</th>\n",
       "      <th class=\"blank col9\" >&nbsp;</th>\n",
       "      <th class=\"blank col10\" >&nbsp;</th>\n",
       "      <th class=\"blank col11\" >&nbsp;</th>\n",
       "    </tr>\n",
       "  </thead>\n",
       "  <tbody>\n",
       "    <tr>\n",
       "      <th id=\"T_bac95_level0_row0\" class=\"row_heading level0 row0\" rowspan=\"4\">dfg_in</th>\n",
       "      <th id=\"T_bac95_level1_row0\" class=\"row_heading level1 row0\" >15</th>\n",
       "      <td id=\"T_bac95_row0_col0\" class=\"data row0 col0\" >44.000000</td>\n",
       "      <td id=\"T_bac95_row0_col1\" class=\"data row0 col1\" >27.000000</td>\n",
       "      <td id=\"T_bac95_row0_col2\" class=\"data row0 col2\" >183.000000</td>\n",
       "      <td id=\"T_bac95_row0_col3\" class=\"data row0 col3\" >2.000000</td>\n",
       "      <td id=\"T_bac95_row0_col4\" class=\"data row0 col4\" >5.000000</td>\n",
       "      <td id=\"T_bac95_row0_col5\" class=\"data row0 col5\" >87.000000</td>\n",
       "      <td id=\"T_bac95_row0_col6\" class=\"data row0 col6\" >126.000000</td>\n",
       "      <td id=\"T_bac95_row0_col7\" class=\"data row0 col7\" >11.000000</td>\n",
       "      <td id=\"T_bac95_row0_col8\" class=\"data row0 col8\" >127.000000</td>\n",
       "      <td id=\"T_bac95_row0_col9\" class=\"data row0 col9\" >74.000000</td>\n",
       "      <td id=\"T_bac95_row0_col10\" class=\"data row0 col10\" >2.000000</td>\n",
       "      <td id=\"T_bac95_row0_col11\" class=\"data row0 col11\" >220.000000</td>\n",
       "    </tr>\n",
       "    <tr>\n",
       "      <th id=\"T_bac95_level1_row1\" class=\"row_heading level1 row1\" >110</th>\n",
       "      <td id=\"T_bac95_row1_col0\" class=\"data row1 col0\" >44.000000</td>\n",
       "      <td id=\"T_bac95_row1_col1\" class=\"data row1 col1\" >27.000000</td>\n",
       "      <td id=\"T_bac95_row1_col2\" class=\"data row1 col2\" >183.000000</td>\n",
       "      <td id=\"T_bac95_row1_col3\" class=\"data row1 col3\" >2.000000</td>\n",
       "      <td id=\"T_bac95_row1_col4\" class=\"data row1 col4\" >5.000000</td>\n",
       "      <td id=\"T_bac95_row1_col5\" class=\"data row1 col5\" >87.000000</td>\n",
       "      <td id=\"T_bac95_row1_col6\" class=\"data row1 col6\" >126.000000</td>\n",
       "      <td id=\"T_bac95_row1_col7\" class=\"data row1 col7\" >11.000000</td>\n",
       "      <td id=\"T_bac95_row1_col8\" class=\"data row1 col8\" >127.000000</td>\n",
       "      <td id=\"T_bac95_row1_col9\" class=\"data row1 col9\" >74.000000</td>\n",
       "      <td id=\"T_bac95_row1_col10\" class=\"data row1 col10\" >2.000000</td>\n",
       "      <td id=\"T_bac95_row1_col11\" class=\"data row1 col11\" >220.000000</td>\n",
       "    </tr>\n",
       "    <tr>\n",
       "      <th id=\"T_bac95_level1_row2\" class=\"row_heading level1 row2\" >101</th>\n",
       "      <td id=\"T_bac95_row2_col0\" class=\"data row2 col0\" >44.000000</td>\n",
       "      <td id=\"T_bac95_row2_col1\" class=\"data row2 col1\" >27.000000</td>\n",
       "      <td id=\"T_bac95_row2_col2\" class=\"data row2 col2\" >183.000000</td>\n",
       "      <td id=\"T_bac95_row2_col3\" class=\"data row2 col3\" >2.000000</td>\n",
       "      <td id=\"T_bac95_row2_col4\" class=\"data row2 col4\" >5.000000</td>\n",
       "      <td id=\"T_bac95_row2_col5\" class=\"data row2 col5\" >87.000000</td>\n",
       "      <td id=\"T_bac95_row2_col6\" class=\"data row2 col6\" >126.000000</td>\n",
       "      <td id=\"T_bac95_row2_col7\" class=\"data row2 col7\" >11.000000</td>\n",
       "      <td id=\"T_bac95_row2_col8\" class=\"data row2 col8\" >127.000000</td>\n",
       "      <td id=\"T_bac95_row2_col9\" class=\"data row2 col9\" >74.000000</td>\n",
       "      <td id=\"T_bac95_row2_col10\" class=\"data row2 col10\" >2.000000</td>\n",
       "      <td id=\"T_bac95_row2_col11\" class=\"data row2 col11\" >220.000000</td>\n",
       "    </tr>\n",
       "    <tr>\n",
       "      <th id=\"T_bac95_level1_row3\" class=\"row_heading level1 row3\" >100</th>\n",
       "      <td id=\"T_bac95_row3_col0\" class=\"data row3 col0\" >44.000000</td>\n",
       "      <td id=\"T_bac95_row3_col1\" class=\"data row3 col1\" >27.000000</td>\n",
       "      <td id=\"T_bac95_row3_col2\" class=\"data row3 col2\" >183.000000</td>\n",
       "      <td id=\"T_bac95_row3_col3\" class=\"data row3 col3\" >2.000000</td>\n",
       "      <td id=\"T_bac95_row3_col4\" class=\"data row3 col4\" >5.000000</td>\n",
       "      <td id=\"T_bac95_row3_col5\" class=\"data row3 col5\" >87.000000</td>\n",
       "      <td id=\"T_bac95_row3_col6\" class=\"data row3 col6\" >126.000000</td>\n",
       "      <td id=\"T_bac95_row3_col7\" class=\"data row3 col7\" >11.000000</td>\n",
       "      <td id=\"T_bac95_row3_col8\" class=\"data row3 col8\" >127.000000</td>\n",
       "      <td id=\"T_bac95_row3_col9\" class=\"data row3 col9\" >74.000000</td>\n",
       "      <td id=\"T_bac95_row3_col10\" class=\"data row3 col10\" >2.000000</td>\n",
       "      <td id=\"T_bac95_row3_col11\" class=\"data row3 col11\" >220.000000</td>\n",
       "    </tr>\n",
       "  </tbody>\n",
       "</table>\n"
      ],
      "text/plain": [
       "<pandas.io.formats.style.Styler at 0x7fd5781d3640>"
      ]
     },
     "execution_count": 21,
     "metadata": {},
     "output_type": "execute_result"
    }
   ],
   "source": [
    "matrix_ranks_df.style.applymap(lambda x: \"background-color : yellow\" if x < 25 else \"\")"
   ]
  },
  {
   "cell_type": "code",
   "execution_count": 22,
   "id": "6a6a5c9a-a229-498b-812d-3ffb7b264565",
   "metadata": {
    "execution": {
     "iopub.execute_input": "2021-09-16T19:46:28.162281Z",
     "iopub.status.busy": "2021-09-16T19:46:28.161813Z",
     "iopub.status.idle": "2021-09-16T19:46:28.163903Z",
     "shell.execute_reply": "2021-09-16T19:46:28.163638Z"
    }
   },
   "outputs": [
    {
     "data": {
      "text/html": [
       "<style type=\"text/css\">\n",
       "#T_1ac33_row0_col0, #T_1ac33_row1_col0, #T_1ac33_row2_col0, #T_1ac33_row3_col0 {\n",
       "  background-color: #2e2efd;\n",
       "  color: #f1f1f1;\n",
       "}\n",
       "#T_1ac33_row0_col1, #T_1ac33_row1_col1, #T_1ac33_row2_col1, #T_1ac33_row3_col1 {\n",
       "  background-color: #1b1bfe;\n",
       "  color: #f1f1f1;\n",
       "}\n",
       "#T_1ac33_row0_col2, #T_1ac33_row1_col2, #T_1ac33_row2_col2, #T_1ac33_row3_col2 {\n",
       "  background-color: #c8c8f5;\n",
       "  color: #000000;\n",
       "}\n",
       "#T_1ac33_row0_col3, #T_1ac33_row0_col10, #T_1ac33_row1_col3, #T_1ac33_row1_col10, #T_1ac33_row2_col3, #T_1ac33_row2_col10, #T_1ac33_row3_col3, #T_1ac33_row3_col10 {\n",
       "  background-color: #0000ff;\n",
       "  color: #f1f1f1;\n",
       "}\n",
       "#T_1ac33_row0_col4, #T_1ac33_row1_col4, #T_1ac33_row2_col4, #T_1ac33_row3_col4 {\n",
       "  background-color: #0303ff;\n",
       "  color: #f1f1f1;\n",
       "}\n",
       "#T_1ac33_row0_col5, #T_1ac33_row1_col5, #T_1ac33_row2_col5, #T_1ac33_row3_col5 {\n",
       "  background-color: #5d5dfa;\n",
       "  color: #f1f1f1;\n",
       "}\n",
       "#T_1ac33_row0_col6, #T_1ac33_row1_col6, #T_1ac33_row2_col6, #T_1ac33_row3_col6 {\n",
       "  background-color: #8989f8;\n",
       "  color: #f1f1f1;\n",
       "}\n",
       "#T_1ac33_row0_col7, #T_1ac33_row1_col7, #T_1ac33_row2_col7, #T_1ac33_row3_col7 {\n",
       "  background-color: #0909ff;\n",
       "  color: #f1f1f1;\n",
       "}\n",
       "#T_1ac33_row0_col8, #T_1ac33_row1_col8, #T_1ac33_row2_col8, #T_1ac33_row3_col8 {\n",
       "  background-color: #8a8af8;\n",
       "  color: #f1f1f1;\n",
       "}\n",
       "#T_1ac33_row0_col9, #T_1ac33_row1_col9, #T_1ac33_row2_col9, #T_1ac33_row3_col9 {\n",
       "  background-color: #4f4ffb;\n",
       "  color: #f1f1f1;\n",
       "}\n",
       "#T_1ac33_row0_col11, #T_1ac33_row1_col11, #T_1ac33_row2_col11, #T_1ac33_row3_col11 {\n",
       "  background-color: #f0f0f3;\n",
       "  color: #000000;\n",
       "}\n",
       "</style>\n",
       "<table id=\"T_1ac33_\">\n",
       "  <thead>\n",
       "    <tr>\n",
       "      <th class=\"blank\" >&nbsp;</th>\n",
       "      <th class=\"blank level0\" >&nbsp;</th>\n",
       "      <th class=\"col_heading level0 col0\" >EGFR-SLK</th>\n",
       "      <th class=\"col_heading level0 col1\" >EGFR-LOK</th>\n",
       "      <th class=\"col_heading level0 col2\" >EGFR-GAK</th>\n",
       "      <th class=\"col_heading level0 col3\" >SLK-LOK</th>\n",
       "      <th class=\"col_heading level0 col4\" >DRAK2-CaMKK2</th>\n",
       "      <th class=\"col_heading level0 col5\" >ABL2-AurA</th>\n",
       "      <th class=\"col_heading level0 col6\" >ABL1-GAK</th>\n",
       "      <th class=\"col_heading level0 col7\" >GAK-DAPK3</th>\n",
       "      <th class=\"col_heading level0 col8\" >AurC-KIT</th>\n",
       "      <th class=\"col_heading level0 col9\" >KIT-AMPKa2</th>\n",
       "      <th class=\"col_heading level0 col10\" >KIT-FMS</th>\n",
       "      <th class=\"col_heading level0 col11\" >ABL1-BMPR1B</th>\n",
       "    </tr>\n",
       "    <tr>\n",
       "      <th class=\"index_name level0\" >subset</th>\n",
       "      <th class=\"index_name level1\" >weighting</th>\n",
       "      <th class=\"blank col0\" >&nbsp;</th>\n",
       "      <th class=\"blank col1\" >&nbsp;</th>\n",
       "      <th class=\"blank col2\" >&nbsp;</th>\n",
       "      <th class=\"blank col3\" >&nbsp;</th>\n",
       "      <th class=\"blank col4\" >&nbsp;</th>\n",
       "      <th class=\"blank col5\" >&nbsp;</th>\n",
       "      <th class=\"blank col6\" >&nbsp;</th>\n",
       "      <th class=\"blank col7\" >&nbsp;</th>\n",
       "      <th class=\"blank col8\" >&nbsp;</th>\n",
       "      <th class=\"blank col9\" >&nbsp;</th>\n",
       "      <th class=\"blank col10\" >&nbsp;</th>\n",
       "      <th class=\"blank col11\" >&nbsp;</th>\n",
       "    </tr>\n",
       "  </thead>\n",
       "  <tbody>\n",
       "    <tr>\n",
       "      <th id=\"T_1ac33_level0_row0\" class=\"row_heading level0 row0\" rowspan=\"4\">dfg_in</th>\n",
       "      <th id=\"T_1ac33_level1_row0\" class=\"row_heading level1 row0\" >15</th>\n",
       "      <td id=\"T_1ac33_row0_col0\" class=\"data row0 col0\" >44.000000</td>\n",
       "      <td id=\"T_1ac33_row0_col1\" class=\"data row0 col1\" >27.000000</td>\n",
       "      <td id=\"T_1ac33_row0_col2\" class=\"data row0 col2\" >183.000000</td>\n",
       "      <td id=\"T_1ac33_row0_col3\" class=\"data row0 col3\" >2.000000</td>\n",
       "      <td id=\"T_1ac33_row0_col4\" class=\"data row0 col4\" >5.000000</td>\n",
       "      <td id=\"T_1ac33_row0_col5\" class=\"data row0 col5\" >87.000000</td>\n",
       "      <td id=\"T_1ac33_row0_col6\" class=\"data row0 col6\" >126.000000</td>\n",
       "      <td id=\"T_1ac33_row0_col7\" class=\"data row0 col7\" >11.000000</td>\n",
       "      <td id=\"T_1ac33_row0_col8\" class=\"data row0 col8\" >127.000000</td>\n",
       "      <td id=\"T_1ac33_row0_col9\" class=\"data row0 col9\" >74.000000</td>\n",
       "      <td id=\"T_1ac33_row0_col10\" class=\"data row0 col10\" >2.000000</td>\n",
       "      <td id=\"T_1ac33_row0_col11\" class=\"data row0 col11\" >220.000000</td>\n",
       "    </tr>\n",
       "    <tr>\n",
       "      <th id=\"T_1ac33_level1_row1\" class=\"row_heading level1 row1\" >110</th>\n",
       "      <td id=\"T_1ac33_row1_col0\" class=\"data row1 col0\" >44.000000</td>\n",
       "      <td id=\"T_1ac33_row1_col1\" class=\"data row1 col1\" >27.000000</td>\n",
       "      <td id=\"T_1ac33_row1_col2\" class=\"data row1 col2\" >183.000000</td>\n",
       "      <td id=\"T_1ac33_row1_col3\" class=\"data row1 col3\" >2.000000</td>\n",
       "      <td id=\"T_1ac33_row1_col4\" class=\"data row1 col4\" >5.000000</td>\n",
       "      <td id=\"T_1ac33_row1_col5\" class=\"data row1 col5\" >87.000000</td>\n",
       "      <td id=\"T_1ac33_row1_col6\" class=\"data row1 col6\" >126.000000</td>\n",
       "      <td id=\"T_1ac33_row1_col7\" class=\"data row1 col7\" >11.000000</td>\n",
       "      <td id=\"T_1ac33_row1_col8\" class=\"data row1 col8\" >127.000000</td>\n",
       "      <td id=\"T_1ac33_row1_col9\" class=\"data row1 col9\" >74.000000</td>\n",
       "      <td id=\"T_1ac33_row1_col10\" class=\"data row1 col10\" >2.000000</td>\n",
       "      <td id=\"T_1ac33_row1_col11\" class=\"data row1 col11\" >220.000000</td>\n",
       "    </tr>\n",
       "    <tr>\n",
       "      <th id=\"T_1ac33_level1_row2\" class=\"row_heading level1 row2\" >101</th>\n",
       "      <td id=\"T_1ac33_row2_col0\" class=\"data row2 col0\" >44.000000</td>\n",
       "      <td id=\"T_1ac33_row2_col1\" class=\"data row2 col1\" >27.000000</td>\n",
       "      <td id=\"T_1ac33_row2_col2\" class=\"data row2 col2\" >183.000000</td>\n",
       "      <td id=\"T_1ac33_row2_col3\" class=\"data row2 col3\" >2.000000</td>\n",
       "      <td id=\"T_1ac33_row2_col4\" class=\"data row2 col4\" >5.000000</td>\n",
       "      <td id=\"T_1ac33_row2_col5\" class=\"data row2 col5\" >87.000000</td>\n",
       "      <td id=\"T_1ac33_row2_col6\" class=\"data row2 col6\" >126.000000</td>\n",
       "      <td id=\"T_1ac33_row2_col7\" class=\"data row2 col7\" >11.000000</td>\n",
       "      <td id=\"T_1ac33_row2_col8\" class=\"data row2 col8\" >127.000000</td>\n",
       "      <td id=\"T_1ac33_row2_col9\" class=\"data row2 col9\" >74.000000</td>\n",
       "      <td id=\"T_1ac33_row2_col10\" class=\"data row2 col10\" >2.000000</td>\n",
       "      <td id=\"T_1ac33_row2_col11\" class=\"data row2 col11\" >220.000000</td>\n",
       "    </tr>\n",
       "    <tr>\n",
       "      <th id=\"T_1ac33_level1_row3\" class=\"row_heading level1 row3\" >100</th>\n",
       "      <td id=\"T_1ac33_row3_col0\" class=\"data row3 col0\" >44.000000</td>\n",
       "      <td id=\"T_1ac33_row3_col1\" class=\"data row3 col1\" >27.000000</td>\n",
       "      <td id=\"T_1ac33_row3_col2\" class=\"data row3 col2\" >183.000000</td>\n",
       "      <td id=\"T_1ac33_row3_col3\" class=\"data row3 col3\" >2.000000</td>\n",
       "      <td id=\"T_1ac33_row3_col4\" class=\"data row3 col4\" >5.000000</td>\n",
       "      <td id=\"T_1ac33_row3_col5\" class=\"data row3 col5\" >87.000000</td>\n",
       "      <td id=\"T_1ac33_row3_col6\" class=\"data row3 col6\" >126.000000</td>\n",
       "      <td id=\"T_1ac33_row3_col7\" class=\"data row3 col7\" >11.000000</td>\n",
       "      <td id=\"T_1ac33_row3_col8\" class=\"data row3 col8\" >127.000000</td>\n",
       "      <td id=\"T_1ac33_row3_col9\" class=\"data row3 col9\" >74.000000</td>\n",
       "      <td id=\"T_1ac33_row3_col10\" class=\"data row3 col10\" >2.000000</td>\n",
       "      <td id=\"T_1ac33_row3_col11\" class=\"data row3 col11\" >220.000000</td>\n",
       "    </tr>\n",
       "  </tbody>\n",
       "</table>\n"
      ],
      "text/plain": [
       "<pandas.io.formats.style.Styler at 0x7fd577f802e0>"
      ]
     },
     "execution_count": 22,
     "metadata": {},
     "output_type": "execute_result"
    }
   ],
   "source": [
    "matrix_ranks_df.style.background_gradient(cmap=cm, axis=None)"
   ]
  },
  {
   "cell_type": "markdown",
   "id": "343c1742-d677-4312-be60-549a08cae7f9",
   "metadata": {},
   "source": [
    "## Ranks"
   ]
  },
  {
   "cell_type": "code",
   "execution_count": 23,
   "id": "333c3251-9830-4648-a2c5-c5aa755c671d",
   "metadata": {
    "execution": {
     "iopub.execute_input": "2021-09-16T19:46:28.166208Z",
     "iopub.status.busy": "2021-09-16T19:46:28.165909Z",
     "iopub.status.idle": "2021-09-16T19:46:28.167260Z",
     "shell.execute_reply": "2021-09-16T19:46:28.167489Z"
    }
   },
   "outputs": [],
   "source": [
    "from kissim.comparison import FingerprintDistanceGenerator\n",
    "from src.definitions import COVERAGE_CUTOFF"
   ]
  },
  {
   "cell_type": "code",
   "execution_count": 24,
   "id": "0e5b8dad-922a-4710-93c2-ddd7abaf27de",
   "metadata": {
    "execution": {
     "iopub.execute_input": "2021-09-16T19:46:28.170074Z",
     "iopub.status.busy": "2021-09-16T19:46:28.169774Z",
     "iopub.status.idle": "2021-09-16T19:46:32.554724Z",
     "shell.execute_reply": "2021-09-16T19:46:32.554456Z"
    }
   },
   "outputs": [],
   "source": [
    "fingerprint_distances = FingerprintDistanceGenerator.from_csv(\n",
    "    RESULTS / f\"{DATA_SUBSET[0]}/fingerprint_distances.csv\"\n",
    ")"
   ]
  },
  {
   "cell_type": "code",
   "execution_count": 25,
   "id": "c2de57d1-7368-448b-a7f1-6e3c1865f2e6",
   "metadata": {
    "execution": {
     "iopub.execute_input": "2021-09-16T19:46:32.557130Z",
     "iopub.status.busy": "2021-09-16T19:46:32.556828Z",
     "iopub.status.idle": "2021-09-16T19:46:50.059595Z",
     "shell.execute_reply": "2021-09-16T19:46:50.059849Z"
    }
   },
   "outputs": [],
   "source": [
    "kinase_matrix = fingerprint_distances.kinase_distance_matrix(coverage_min=COVERAGE_CUTOFF)"
   ]
  },
  {
   "cell_type": "code",
   "execution_count": 26,
   "id": "5f491692-b86d-468e-913b-0e6e7f950253",
   "metadata": {
    "execution": {
     "iopub.execute_input": "2021-09-16T19:46:50.063714Z",
     "iopub.status.busy": "2021-09-16T19:46:50.063406Z",
     "iopub.status.idle": "2021-09-16T19:46:50.067857Z",
     "shell.execute_reply": "2021-09-16T19:46:50.068090Z"
    }
   },
   "outputs": [
    {
     "data": {
      "text/html": [
       "<div>\n",
       "<style scoped>\n",
       "    .dataframe tbody tr th:only-of-type {\n",
       "        vertical-align: middle;\n",
       "    }\n",
       "\n",
       "    .dataframe tbody tr th {\n",
       "        vertical-align: top;\n",
       "    }\n",
       "\n",
       "    .dataframe thead th {\n",
       "        text-align: right;\n",
       "    }\n",
       "</style>\n",
       "<table border=\"1\" class=\"dataframe\">\n",
       "  <thead>\n",
       "    <tr style=\"text-align: right;\">\n",
       "      <th>kinase.2</th>\n",
       "      <th>EGFR</th>\n",
       "    </tr>\n",
       "    <tr>\n",
       "      <th>kinase.1</th>\n",
       "      <th></th>\n",
       "    </tr>\n",
       "  </thead>\n",
       "  <tbody>\n",
       "    <tr>\n",
       "      <th>AAK1</th>\n",
       "      <td>0.111434</td>\n",
       "    </tr>\n",
       "    <tr>\n",
       "      <th>ABL1</th>\n",
       "      <td>0.063537</td>\n",
       "    </tr>\n",
       "    <tr>\n",
       "      <th>ABL2</th>\n",
       "      <td>0.067081</td>\n",
       "    </tr>\n",
       "    <tr>\n",
       "      <th>ACK</th>\n",
       "      <td>0.066619</td>\n",
       "    </tr>\n",
       "    <tr>\n",
       "      <th>ACTR2</th>\n",
       "      <td>0.121684</td>\n",
       "    </tr>\n",
       "    <tr>\n",
       "      <th>...</th>\n",
       "      <td>...</td>\n",
       "    </tr>\n",
       "    <tr>\n",
       "      <th>p38a</th>\n",
       "      <td>0.091348</td>\n",
       "    </tr>\n",
       "    <tr>\n",
       "      <th>p38b</th>\n",
       "      <td>0.095911</td>\n",
       "    </tr>\n",
       "    <tr>\n",
       "      <th>p38d</th>\n",
       "      <td>0.101236</td>\n",
       "    </tr>\n",
       "    <tr>\n",
       "      <th>p38g</th>\n",
       "      <td>0.094483</td>\n",
       "    </tr>\n",
       "    <tr>\n",
       "      <th>p70S6K</th>\n",
       "      <td>0.093458</td>\n",
       "    </tr>\n",
       "  </tbody>\n",
       "</table>\n",
       "<p>257 rows × 1 columns</p>\n",
       "</div>"
      ],
      "text/plain": [
       "kinase.2      EGFR\n",
       "kinase.1          \n",
       "AAK1      0.111434\n",
       "ABL1      0.063537\n",
       "ABL2      0.067081\n",
       "ACK       0.066619\n",
       "ACTR2     0.121684\n",
       "...            ...\n",
       "p38a      0.091348\n",
       "p38b      0.095911\n",
       "p38d      0.101236\n",
       "p38g      0.094483\n",
       "p70S6K    0.093458\n",
       "\n",
       "[257 rows x 1 columns]"
      ]
     },
     "execution_count": 26,
     "metadata": {},
     "output_type": "execute_result"
    }
   ],
   "source": [
    "kinase_matrix[[\"EGFR\"]]"
   ]
  },
  {
   "cell_type": "code",
   "execution_count": 27,
   "id": "8ff5fe5c-3fa0-4c87-a18e-2d26084cce58",
   "metadata": {
    "execution": {
     "iopub.execute_input": "2021-09-16T19:46:50.070374Z",
     "iopub.status.busy": "2021-09-16T19:46:50.070070Z",
     "iopub.status.idle": "2021-09-16T19:46:50.071397Z",
     "shell.execute_reply": "2021-09-16T19:46:50.071628Z"
    }
   },
   "outputs": [],
   "source": [
    "from opencadd.databases.klifs import setup_remote"
   ]
  },
  {
   "cell_type": "code",
   "execution_count": 28,
   "id": "23743e1f-7061-4173-a7fd-835f46f35c32",
   "metadata": {
    "execution": {
     "iopub.execute_input": "2021-09-16T19:46:50.078986Z",
     "iopub.status.busy": "2021-09-16T19:46:50.078674Z",
     "iopub.status.idle": "2021-09-16T19:46:50.374343Z",
     "shell.execute_reply": "2021-09-16T19:46:50.373959Z"
    }
   },
   "outputs": [],
   "source": [
    "klifs_session = setup_remote()\n",
    "\n",
    "kinase_names = kinase_matrix[\"EGFR\"].index.to_list()\n",
    "kinase_groups = klifs_session.kinases.by_kinase_name(kinase_names, species=\"Human\")[\n",
    "    [\"kinase.klifs_name\", \"kinase.group\"]\n",
    "]\n",
    "kinase_groups = kinase_groups.set_index(\"kinase.klifs_name\").squeeze()\n",
    "\n",
    "kinase_ranks = kinase_matrix[\"EGFR\"]\n",
    "kinase_ranks.name = \"ranks\"\n",
    "kinase_ranks.index.name = \"kinase.klifs_name\"\n",
    "\n",
    "kinase_ranks = pd.merge(\n",
    "    kinase_groups, kinase_ranks, left_index=True, right_index=True\n",
    ").reset_index()"
   ]
  },
  {
   "cell_type": "code",
   "execution_count": 29,
   "id": "32f4e94f-6fca-4921-bede-6ba7164ca0e0",
   "metadata": {
    "execution": {
     "iopub.execute_input": "2021-09-16T19:46:50.383575Z",
     "iopub.status.busy": "2021-09-16T19:46:50.383113Z",
     "iopub.status.idle": "2021-09-16T19:46:50.385238Z",
     "shell.execute_reply": "2021-09-16T19:46:50.384943Z"
    }
   },
   "outputs": [
    {
     "data": {
      "text/html": [
       "<div>\n",
       "<style scoped>\n",
       "    .dataframe tbody tr th:only-of-type {\n",
       "        vertical-align: middle;\n",
       "    }\n",
       "\n",
       "    .dataframe tbody tr th {\n",
       "        vertical-align: top;\n",
       "    }\n",
       "\n",
       "    .dataframe thead th {\n",
       "        text-align: right;\n",
       "    }\n",
       "</style>\n",
       "<table border=\"1\" class=\"dataframe\">\n",
       "  <thead>\n",
       "    <tr style=\"text-align: right;\">\n",
       "      <th></th>\n",
       "      <th>kinase.klifs_name</th>\n",
       "      <th>kinase.group</th>\n",
       "      <th>ranks</th>\n",
       "    </tr>\n",
       "  </thead>\n",
       "  <tbody>\n",
       "    <tr>\n",
       "      <th>86</th>\n",
       "      <td>EGFR</td>\n",
       "      <td>TK</td>\n",
       "      <td>0.000000</td>\n",
       "    </tr>\n",
       "    <tr>\n",
       "      <th>76</th>\n",
       "      <td>ErbB4</td>\n",
       "      <td>TK</td>\n",
       "      <td>0.024878</td>\n",
       "    </tr>\n",
       "    <tr>\n",
       "      <th>88</th>\n",
       "      <td>ErbB2</td>\n",
       "      <td>TK</td>\n",
       "      <td>0.039648</td>\n",
       "    </tr>\n",
       "    <tr>\n",
       "      <th>89</th>\n",
       "      <td>ErbB3</td>\n",
       "      <td>TK</td>\n",
       "      <td>0.046541</td>\n",
       "    </tr>\n",
       "    <tr>\n",
       "      <th>126</th>\n",
       "      <td>SYK</td>\n",
       "      <td>TK</td>\n",
       "      <td>0.053504</td>\n",
       "    </tr>\n",
       "    <tr>\n",
       "      <th>92</th>\n",
       "      <td>FGFR4</td>\n",
       "      <td>TK</td>\n",
       "      <td>0.061678</td>\n",
       "    </tr>\n",
       "    <tr>\n",
       "      <th>183</th>\n",
       "      <td>BTK</td>\n",
       "      <td>TK</td>\n",
       "      <td>0.062406</td>\n",
       "    </tr>\n",
       "    <tr>\n",
       "      <th>166</th>\n",
       "      <td>ABL1</td>\n",
       "      <td>TK</td>\n",
       "      <td>0.063537</td>\n",
       "    </tr>\n",
       "    <tr>\n",
       "      <th>115</th>\n",
       "      <td>RET</td>\n",
       "      <td>TK</td>\n",
       "      <td>0.064704</td>\n",
       "    </tr>\n",
       "    <tr>\n",
       "      <th>190</th>\n",
       "      <td>IGF1R</td>\n",
       "      <td>TK</td>\n",
       "      <td>0.065141</td>\n",
       "    </tr>\n",
       "    <tr>\n",
       "      <th>120</th>\n",
       "      <td>ITK</td>\n",
       "      <td>TK</td>\n",
       "      <td>0.065798</td>\n",
       "    </tr>\n",
       "    <tr>\n",
       "      <th>93</th>\n",
       "      <td>INSR</td>\n",
       "      <td>TK</td>\n",
       "      <td>0.065843</td>\n",
       "    </tr>\n",
       "    <tr>\n",
       "      <th>217</th>\n",
       "      <td>ALK</td>\n",
       "      <td>TK</td>\n",
       "      <td>0.066320</td>\n",
       "    </tr>\n",
       "    <tr>\n",
       "      <th>117</th>\n",
       "      <td>ACK</td>\n",
       "      <td>TK</td>\n",
       "      <td>0.066619</td>\n",
       "    </tr>\n",
       "    <tr>\n",
       "      <th>156</th>\n",
       "      <td>ZAP70</td>\n",
       "      <td>TK</td>\n",
       "      <td>0.066839</td>\n",
       "    </tr>\n",
       "    <tr>\n",
       "      <th>174</th>\n",
       "      <td>EphB1</td>\n",
       "      <td>TK</td>\n",
       "      <td>0.067006</td>\n",
       "    </tr>\n",
       "    <tr>\n",
       "      <th>167</th>\n",
       "      <td>ABL2</td>\n",
       "      <td>TK</td>\n",
       "      <td>0.067081</td>\n",
       "    </tr>\n",
       "    <tr>\n",
       "      <th>90</th>\n",
       "      <td>FGFR2</td>\n",
       "      <td>TK</td>\n",
       "      <td>0.067322</td>\n",
       "    </tr>\n",
       "    <tr>\n",
       "      <th>109</th>\n",
       "      <td>KDR</td>\n",
       "      <td>TK</td>\n",
       "      <td>0.068191</td>\n",
       "    </tr>\n",
       "    <tr>\n",
       "      <th>91</th>\n",
       "      <td>FGFR3</td>\n",
       "      <td>TK</td>\n",
       "      <td>0.069535</td>\n",
       "    </tr>\n",
       "    <tr>\n",
       "      <th>236</th>\n",
       "      <td>ROS</td>\n",
       "      <td>TK</td>\n",
       "      <td>0.069887</td>\n",
       "    </tr>\n",
       "    <tr>\n",
       "      <th>204</th>\n",
       "      <td>RON</td>\n",
       "      <td>TK</td>\n",
       "      <td>0.069893</td>\n",
       "    </tr>\n",
       "    <tr>\n",
       "      <th>127</th>\n",
       "      <td>TIE2</td>\n",
       "      <td>TK</td>\n",
       "      <td>0.069939</td>\n",
       "    </tr>\n",
       "    <tr>\n",
       "      <th>77</th>\n",
       "      <td>FGFR1</td>\n",
       "      <td>TK</td>\n",
       "      <td>0.070023</td>\n",
       "    </tr>\n",
       "    <tr>\n",
       "      <th>73</th>\n",
       "      <td>EphA3</td>\n",
       "      <td>TK</td>\n",
       "      <td>0.070260</td>\n",
       "    </tr>\n",
       "    <tr>\n",
       "      <th>187</th>\n",
       "      <td>EphA2</td>\n",
       "      <td>TK</td>\n",
       "      <td>0.070303</td>\n",
       "    </tr>\n",
       "    <tr>\n",
       "      <th>220</th>\n",
       "      <td>LOK</td>\n",
       "      <td>STE</td>\n",
       "      <td>0.071240</td>\n",
       "    </tr>\n",
       "    <tr>\n",
       "      <th>135</th>\n",
       "      <td>FAK</td>\n",
       "      <td>TK</td>\n",
       "      <td>0.071315</td>\n",
       "    </tr>\n",
       "    <tr>\n",
       "      <th>143</th>\n",
       "      <td>FES</td>\n",
       "      <td>TK</td>\n",
       "      <td>0.071861</td>\n",
       "    </tr>\n",
       "    <tr>\n",
       "      <th>145</th>\n",
       "      <td>HCK</td>\n",
       "      <td>TK</td>\n",
       "      <td>0.072395</td>\n",
       "    </tr>\n",
       "    <tr>\n",
       "      <th>98</th>\n",
       "      <td>MER</td>\n",
       "      <td>TK</td>\n",
       "      <td>0.073024</td>\n",
       "    </tr>\n",
       "    <tr>\n",
       "      <th>94</th>\n",
       "      <td>JAK3</td>\n",
       "      <td>TK</td>\n",
       "      <td>0.073378</td>\n",
       "    </tr>\n",
       "    <tr>\n",
       "      <th>105</th>\n",
       "      <td>FMS</td>\n",
       "      <td>TK</td>\n",
       "      <td>0.073398</td>\n",
       "    </tr>\n",
       "    <tr>\n",
       "      <th>136</th>\n",
       "      <td>BRK</td>\n",
       "      <td>TK</td>\n",
       "      <td>0.073439</td>\n",
       "    </tr>\n",
       "    <tr>\n",
       "      <th>191</th>\n",
       "      <td>KIT</td>\n",
       "      <td>TK</td>\n",
       "      <td>0.073804</td>\n",
       "    </tr>\n",
       "    <tr>\n",
       "      <th>147</th>\n",
       "      <td>LYN</td>\n",
       "      <td>TK</td>\n",
       "      <td>0.073851</td>\n",
       "    </tr>\n",
       "    <tr>\n",
       "      <th>146</th>\n",
       "      <td>JAK2</td>\n",
       "      <td>TK</td>\n",
       "      <td>0.074075</td>\n",
       "    </tr>\n",
       "    <tr>\n",
       "      <th>189</th>\n",
       "      <td>EphB4</td>\n",
       "      <td>TK</td>\n",
       "      <td>0.074081</td>\n",
       "    </tr>\n",
       "    <tr>\n",
       "      <th>75</th>\n",
       "      <td>EphB2</td>\n",
       "      <td>TK</td>\n",
       "      <td>0.075161</td>\n",
       "    </tr>\n",
       "    <tr>\n",
       "      <th>87</th>\n",
       "      <td>EphA7</td>\n",
       "      <td>TK</td>\n",
       "      <td>0.075370</td>\n",
       "    </tr>\n",
       "    <tr>\n",
       "      <th>211</th>\n",
       "      <td>LCK</td>\n",
       "      <td>TK</td>\n",
       "      <td>0.075684</td>\n",
       "    </tr>\n",
       "    <tr>\n",
       "      <th>194</th>\n",
       "      <td>MET</td>\n",
       "      <td>TK</td>\n",
       "      <td>0.076089</td>\n",
       "    </tr>\n",
       "    <tr>\n",
       "      <th>108</th>\n",
       "      <td>JAK1</td>\n",
       "      <td>TK</td>\n",
       "      <td>0.076308</td>\n",
       "    </tr>\n",
       "    <tr>\n",
       "      <th>140</th>\n",
       "      <td>SLK</td>\n",
       "      <td>STE</td>\n",
       "      <td>0.076408</td>\n",
       "    </tr>\n",
       "    <tr>\n",
       "      <th>177</th>\n",
       "      <td>SRC</td>\n",
       "      <td>TK</td>\n",
       "      <td>0.076984</td>\n",
       "    </tr>\n",
       "    <tr>\n",
       "      <th>114</th>\n",
       "      <td>PYK2</td>\n",
       "      <td>TK</td>\n",
       "      <td>0.077229</td>\n",
       "    </tr>\n",
       "    <tr>\n",
       "      <th>74</th>\n",
       "      <td>EphA5</td>\n",
       "      <td>TK</td>\n",
       "      <td>0.077300</td>\n",
       "    </tr>\n",
       "    <tr>\n",
       "      <th>144</th>\n",
       "      <td>GSK3B</td>\n",
       "      <td>CMGC</td>\n",
       "      <td>0.077366</td>\n",
       "    </tr>\n",
       "    <tr>\n",
       "      <th>103</th>\n",
       "      <td>AXL</td>\n",
       "      <td>TK</td>\n",
       "      <td>0.077769</td>\n",
       "    </tr>\n",
       "    <tr>\n",
       "      <th>152</th>\n",
       "      <td>MST1</td>\n",
       "      <td>STE</td>\n",
       "      <td>0.078574</td>\n",
       "    </tr>\n",
       "  </tbody>\n",
       "</table>\n",
       "</div>"
      ],
      "text/plain": [
       "    kinase.klifs_name kinase.group     ranks\n",
       "86               EGFR           TK  0.000000\n",
       "76              ErbB4           TK  0.024878\n",
       "88              ErbB2           TK  0.039648\n",
       "89              ErbB3           TK  0.046541\n",
       "126               SYK           TK  0.053504\n",
       "92              FGFR4           TK  0.061678\n",
       "183               BTK           TK  0.062406\n",
       "166              ABL1           TK  0.063537\n",
       "115               RET           TK  0.064704\n",
       "190             IGF1R           TK  0.065141\n",
       "120               ITK           TK  0.065798\n",
       "93               INSR           TK  0.065843\n",
       "217               ALK           TK  0.066320\n",
       "117               ACK           TK  0.066619\n",
       "156             ZAP70           TK  0.066839\n",
       "174             EphB1           TK  0.067006\n",
       "167              ABL2           TK  0.067081\n",
       "90              FGFR2           TK  0.067322\n",
       "109               KDR           TK  0.068191\n",
       "91              FGFR3           TK  0.069535\n",
       "236               ROS           TK  0.069887\n",
       "204               RON           TK  0.069893\n",
       "127              TIE2           TK  0.069939\n",
       "77              FGFR1           TK  0.070023\n",
       "73              EphA3           TK  0.070260\n",
       "187             EphA2           TK  0.070303\n",
       "220               LOK          STE  0.071240\n",
       "135               FAK           TK  0.071315\n",
       "143               FES           TK  0.071861\n",
       "145               HCK           TK  0.072395\n",
       "98                MER           TK  0.073024\n",
       "94               JAK3           TK  0.073378\n",
       "105               FMS           TK  0.073398\n",
       "136               BRK           TK  0.073439\n",
       "191               KIT           TK  0.073804\n",
       "147               LYN           TK  0.073851\n",
       "146              JAK2           TK  0.074075\n",
       "189             EphB4           TK  0.074081\n",
       "75              EphB2           TK  0.075161\n",
       "87              EphA7           TK  0.075370\n",
       "211               LCK           TK  0.075684\n",
       "194               MET           TK  0.076089\n",
       "108              JAK1           TK  0.076308\n",
       "140               SLK          STE  0.076408\n",
       "177               SRC           TK  0.076984\n",
       "114              PYK2           TK  0.077229\n",
       "74              EphA5           TK  0.077300\n",
       "144             GSK3B         CMGC  0.077366\n",
       "103               AXL           TK  0.077769\n",
       "152              MST1          STE  0.078574"
      ]
     },
     "execution_count": 29,
     "metadata": {},
     "output_type": "execute_result"
    }
   ],
   "source": [
    "kinase_ranks.sort_values(\"ranks\").head(50)"
   ]
  },
  {
   "cell_type": "markdown",
   "id": "83f8f4b1-f92e-4933-9cdf-3b915dc38b37",
   "metadata": {},
   "source": [
    "## Phylogenetic `kissim` tree"
   ]
  },
  {
   "cell_type": "code",
   "execution_count": 30,
   "id": "64f299b2-fe64-4197-8c0d-3e36667ece73",
   "metadata": {
    "execution": {
     "iopub.execute_input": "2021-09-16T19:46:50.387694Z",
     "iopub.status.busy": "2021-09-16T19:46:50.387353Z",
     "iopub.status.idle": "2021-09-16T19:46:50.388913Z",
     "shell.execute_reply": "2021-09-16T19:46:50.388652Z"
    }
   },
   "outputs": [],
   "source": [
    "import itertools\n",
    "import numpy as np"
   ]
  },
  {
   "cell_type": "code",
   "execution_count": 31,
   "id": "c38b9adc-d18c-4db3-aeb3-85dc75795043",
   "metadata": {
    "execution": {
     "iopub.execute_input": "2021-09-16T19:46:50.392025Z",
     "iopub.status.busy": "2021-09-16T19:46:50.391721Z",
     "iopub.status.idle": "2021-09-16T19:46:50.393014Z",
     "shell.execute_reply": "2021-09-16T19:46:50.393265Z"
    }
   },
   "outputs": [],
   "source": [
    "def pairs_to_symmetric_matrix(pairs):\n",
    "    \"\"\"\n",
    "    Create symmetric matrix with diagonal of 0.0 from pair combinations.\n",
    "    \"\"\"\n",
    "\n",
    "    pairs1 = pd.DataFrame(pairs)\n",
    "    pairs2 = pairs1[[1, 0, 2]]\n",
    "    pairs2.columns = [0, 1, 2]\n",
    "    pairs_all = pd.concat([pairs1, pairs2])\n",
    "    matrix = pairs_all.pivot(index=0, columns=1, values=2)\n",
    "    np.fill_diagonal(matrix.values, 0.0)\n",
    "    symmetic_matrix = pd.DataFrame(matrix.values, columns=matrix.columns, index=matrix.index)\n",
    "    return symmetic_matrix"
   ]
  },
  {
   "cell_type": "code",
   "execution_count": 32,
   "id": "2930c7e5-208c-491a-ab8f-1015879be925",
   "metadata": {
    "execution": {
     "iopub.execute_input": "2021-09-16T19:46:50.396533Z",
     "iopub.status.busy": "2021-09-16T19:46:50.396221Z",
     "iopub.status.idle": "2021-09-16T19:46:50.397780Z",
     "shell.execute_reply": "2021-09-16T19:46:50.397472Z"
    }
   },
   "outputs": [],
   "source": [
    "def get_tree_distance_matrix(tree):\n",
    "    \"\"\"\n",
    "    Get a matrix of all-against-all kinase distances in the kinase tree.\n",
    "    \"\"\"\n",
    "\n",
    "    kinases = [clade.name for clade in tree.get_terminals()]\n",
    "    kinase_pairs = itertools.combinations(kinases, 2)\n",
    "\n",
    "    kinase_pairs_tree_distances = []\n",
    "\n",
    "    for kinase1, kinase2 in kinase_pairs:\n",
    "        kinase_pairs_tree_distances.append([kinase1, kinase2, tree.distance(kinase1, kinase2)])\n",
    "\n",
    "    tree_distance_matrix = pairs_to_symmetric_matrix(kinase_pairs_tree_distances)\n",
    "\n",
    "    return tree_distance_matrix"
   ]
  },
  {
   "cell_type": "code",
   "execution_count": 33,
   "id": "bb645b90-6601-48b9-9d5d-2244435c080e",
   "metadata": {
    "execution": {
     "iopub.execute_input": "2021-09-16T19:46:50.407526Z",
     "iopub.status.busy": "2021-09-16T19:46:50.400610Z",
     "iopub.status.idle": "2021-09-16T19:48:49.051571Z",
     "shell.execute_reply": "2021-09-16T19:48:49.051829Z"
    },
    "tags": []
   },
   "outputs": [
    {
     "name": "stdout",
     "output_type": "stream",
     "text": [
      "dfg_in\n",
      "CPU times: user 1min 58s, sys: 18.8 ms, total: 1min 58s\n",
      "Wall time: 1min 58s\n"
     ]
    }
   ],
   "source": [
    "%%time\n",
    "\n",
    "results_list = []\n",
    "\n",
    "for data_subset in DATA_SUBSET:\n",
    "    print(data_subset)\n",
    "    for weighting in WEIGHTING_SCHEMES:\n",
    "        for cmethod in CLUSTERING_METHODS:\n",
    "            results = []\n",
    "            results.extend([data_subset, weighting, cmethod])\n",
    "\n",
    "            tree_path = RESULTS / f\"{data_subset}/trees/tree_0.8_{weighting}_{cmethod}.tree\"\n",
    "            kissim_tree = Phylo.read(tree_path, \"newick\")\n",
    "            tree_distance_matrix = get_tree_distance_matrix(kissim_tree)\n",
    "\n",
    "            for pair in ON_OFF_PAIRS:\n",
    "                ranks, pair_names = get_ranks(tree_distance_matrix, pair[0], pair[1])\n",
    "                results.extend(ranks[\"rank\"].to_list())\n",
    "\n",
    "            results_list.append(results)"
   ]
  },
  {
   "cell_type": "code",
   "execution_count": 34,
   "id": "54debcf9-861b-4825-b29f-6fbd2966ba94",
   "metadata": {
    "execution": {
     "iopub.execute_input": "2021-09-16T19:48:49.057099Z",
     "iopub.status.busy": "2021-09-16T19:48:49.056313Z",
     "iopub.status.idle": "2021-09-16T19:48:49.058502Z",
     "shell.execute_reply": "2021-09-16T19:48:49.058760Z"
    }
   },
   "outputs": [],
   "source": [
    "tree_ranks_df = pd.DataFrame(\n",
    "    results_list,\n",
    "    columns=[\"subset\", \"weighting\", \"cmethod\"]\n",
    "    + [f\"{i[0]}-{j}\" for i in ON_OFF_PAIRS for j in i[1]],\n",
    ")\n",
    "tree_ranks_df = tree_ranks_df.set_index([\"subset\", \"weighting\", \"cmethod\"])\n",
    "cm = sns.light_palette(\"blue\", as_cmap=True, reverse=True)"
   ]
  },
  {
   "cell_type": "code",
   "execution_count": 35,
   "id": "989158fe-c3c4-4c78-9041-9a46965bab12",
   "metadata": {
    "execution": {
     "iopub.execute_input": "2021-09-16T19:48:49.072158Z",
     "iopub.status.busy": "2021-09-16T19:48:49.071780Z",
     "iopub.status.idle": "2021-09-16T19:48:49.073822Z",
     "shell.execute_reply": "2021-09-16T19:48:49.073553Z"
    }
   },
   "outputs": [
    {
     "data": {
      "text/html": [
       "<style type=\"text/css\">\n",
       "#T_9fc2a_row0_col3, #T_9fc2a_row0_col4, #T_9fc2a_row0_col10, #T_9fc2a_row1_col3, #T_9fc2a_row1_col4, #T_9fc2a_row1_col10, #T_9fc2a_row2_col3, #T_9fc2a_row2_col4, #T_9fc2a_row2_col10, #T_9fc2a_row3_col3, #T_9fc2a_row3_col4, #T_9fc2a_row3_col10, #T_9fc2a_row4_col3, #T_9fc2a_row4_col4, #T_9fc2a_row4_col10, #T_9fc2a_row5_col3, #T_9fc2a_row5_col4, #T_9fc2a_row5_col10, #T_9fc2a_row6_col3, #T_9fc2a_row6_col4, #T_9fc2a_row6_col10, #T_9fc2a_row7_col3, #T_9fc2a_row7_col4, #T_9fc2a_row7_col10, #T_9fc2a_row8_col3, #T_9fc2a_row8_col4, #T_9fc2a_row8_col10, #T_9fc2a_row9_col3, #T_9fc2a_row9_col4, #T_9fc2a_row9_col10, #T_9fc2a_row10_col3, #T_9fc2a_row10_col4, #T_9fc2a_row10_col10, #T_9fc2a_row11_col3, #T_9fc2a_row11_col4, #T_9fc2a_row11_col10 {\n",
       "  background-color: yellow;\n",
       "}\n",
       "</style>\n",
       "<table id=\"T_9fc2a_\">\n",
       "  <thead>\n",
       "    <tr>\n",
       "      <th class=\"blank\" >&nbsp;</th>\n",
       "      <th class=\"blank\" >&nbsp;</th>\n",
       "      <th class=\"blank level0\" >&nbsp;</th>\n",
       "      <th class=\"col_heading level0 col0\" >EGFR-SLK</th>\n",
       "      <th class=\"col_heading level0 col1\" >EGFR-LOK</th>\n",
       "      <th class=\"col_heading level0 col2\" >EGFR-GAK</th>\n",
       "      <th class=\"col_heading level0 col3\" >SLK-LOK</th>\n",
       "      <th class=\"col_heading level0 col4\" >DRAK2-CaMKK2</th>\n",
       "      <th class=\"col_heading level0 col5\" >ABL2-AurA</th>\n",
       "      <th class=\"col_heading level0 col6\" >ABL1-GAK</th>\n",
       "      <th class=\"col_heading level0 col7\" >GAK-DAPK3</th>\n",
       "      <th class=\"col_heading level0 col8\" >AurC-KIT</th>\n",
       "      <th class=\"col_heading level0 col9\" >KIT-AMPKa2</th>\n",
       "      <th class=\"col_heading level0 col10\" >KIT-FMS</th>\n",
       "      <th class=\"col_heading level0 col11\" >ABL1-BMPR1B</th>\n",
       "    </tr>\n",
       "    <tr>\n",
       "      <th class=\"index_name level0\" >subset</th>\n",
       "      <th class=\"index_name level1\" >weighting</th>\n",
       "      <th class=\"index_name level2\" >cmethod</th>\n",
       "      <th class=\"blank col0\" >&nbsp;</th>\n",
       "      <th class=\"blank col1\" >&nbsp;</th>\n",
       "      <th class=\"blank col2\" >&nbsp;</th>\n",
       "      <th class=\"blank col3\" >&nbsp;</th>\n",
       "      <th class=\"blank col4\" >&nbsp;</th>\n",
       "      <th class=\"blank col5\" >&nbsp;</th>\n",
       "      <th class=\"blank col6\" >&nbsp;</th>\n",
       "      <th class=\"blank col7\" >&nbsp;</th>\n",
       "      <th class=\"blank col8\" >&nbsp;</th>\n",
       "      <th class=\"blank col9\" >&nbsp;</th>\n",
       "      <th class=\"blank col10\" >&nbsp;</th>\n",
       "      <th class=\"blank col11\" >&nbsp;</th>\n",
       "    </tr>\n",
       "  </thead>\n",
       "  <tbody>\n",
       "    <tr>\n",
       "      <th id=\"T_9fc2a_level0_row0\" class=\"row_heading level0 row0\" rowspan=\"12\">dfg_in</th>\n",
       "      <th id=\"T_9fc2a_level1_row0\" class=\"row_heading level1 row0\" rowspan=\"3\">15</th>\n",
       "      <th id=\"T_9fc2a_level2_row0\" class=\"row_heading level2 row0\" >ward</th>\n",
       "      <td id=\"T_9fc2a_row0_col0\" class=\"data row0 col0\" >185.000000</td>\n",
       "      <td id=\"T_9fc2a_row0_col1\" class=\"data row0 col1\" >185.000000</td>\n",
       "      <td id=\"T_9fc2a_row0_col2\" class=\"data row0 col2\" >128.000000</td>\n",
       "      <td id=\"T_9fc2a_row0_col3\" class=\"data row0 col3\" >2.000000</td>\n",
       "      <td id=\"T_9fc2a_row0_col4\" class=\"data row0 col4\" >10.500000</td>\n",
       "      <td id=\"T_9fc2a_row0_col5\" class=\"data row0 col5\" >112.000000</td>\n",
       "      <td id=\"T_9fc2a_row0_col6\" class=\"data row0 col6\" >112.000000</td>\n",
       "      <td id=\"T_9fc2a_row0_col7\" class=\"data row0 col7\" >146.000000</td>\n",
       "      <td id=\"T_9fc2a_row0_col8\" class=\"data row0 col8\" >206.000000</td>\n",
       "      <td id=\"T_9fc2a_row0_col9\" class=\"data row0 col9\" >103.000000</td>\n",
       "      <td id=\"T_9fc2a_row0_col10\" class=\"data row0 col10\" >2.000000</td>\n",
       "      <td id=\"T_9fc2a_row0_col11\" class=\"data row0 col11\" >73.000000</td>\n",
       "    </tr>\n",
       "    <tr>\n",
       "      <th id=\"T_9fc2a_level2_row1\" class=\"row_heading level2 row1\" >average</th>\n",
       "      <td id=\"T_9fc2a_row1_col0\" class=\"data row1 col0\" >105.000000</td>\n",
       "      <td id=\"T_9fc2a_row1_col1\" class=\"data row1 col1\" >105.000000</td>\n",
       "      <td id=\"T_9fc2a_row1_col2\" class=\"data row1 col2\" >183.000000</td>\n",
       "      <td id=\"T_9fc2a_row1_col3\" class=\"data row1 col3\" >2.000000</td>\n",
       "      <td id=\"T_9fc2a_row1_col4\" class=\"data row1 col4\" >12.000000</td>\n",
       "      <td id=\"T_9fc2a_row1_col5\" class=\"data row1 col5\" >110.500000</td>\n",
       "      <td id=\"T_9fc2a_row1_col6\" class=\"data row1 col6\" >183.500000</td>\n",
       "      <td id=\"T_9fc2a_row1_col7\" class=\"data row1 col7\" >155.000000</td>\n",
       "      <td id=\"T_9fc2a_row1_col8\" class=\"data row1 col8\" >137.000000</td>\n",
       "      <td id=\"T_9fc2a_row1_col9\" class=\"data row1 col9\" >139.000000</td>\n",
       "      <td id=\"T_9fc2a_row1_col10\" class=\"data row1 col10\" >2.000000</td>\n",
       "      <td id=\"T_9fc2a_row1_col11\" class=\"data row1 col11\" >226.000000</td>\n",
       "    </tr>\n",
       "    <tr>\n",
       "      <th id=\"T_9fc2a_level2_row2\" class=\"row_heading level2 row2\" >weighted</th>\n",
       "      <td id=\"T_9fc2a_row2_col0\" class=\"data row2 col0\" >139.000000</td>\n",
       "      <td id=\"T_9fc2a_row2_col1\" class=\"data row2 col1\" >139.000000</td>\n",
       "      <td id=\"T_9fc2a_row2_col2\" class=\"data row2 col2\" >53.000000</td>\n",
       "      <td id=\"T_9fc2a_row2_col3\" class=\"data row2 col3\" >2.000000</td>\n",
       "      <td id=\"T_9fc2a_row2_col4\" class=\"data row2 col4\" >11.000000</td>\n",
       "      <td id=\"T_9fc2a_row2_col5\" class=\"data row2 col5\" >101.000000</td>\n",
       "      <td id=\"T_9fc2a_row2_col6\" class=\"data row2 col6\" >53.000000</td>\n",
       "      <td id=\"T_9fc2a_row2_col7\" class=\"data row2 col7\" >64.000000</td>\n",
       "      <td id=\"T_9fc2a_row2_col8\" class=\"data row2 col8\" >123.500000</td>\n",
       "      <td id=\"T_9fc2a_row2_col9\" class=\"data row2 col9\" >139.000000</td>\n",
       "      <td id=\"T_9fc2a_row2_col10\" class=\"data row2 col10\" >2.000000</td>\n",
       "      <td id=\"T_9fc2a_row2_col11\" class=\"data row2 col11\" >212.000000</td>\n",
       "    </tr>\n",
       "    <tr>\n",
       "      <th id=\"T_9fc2a_level1_row3\" class=\"row_heading level1 row3\" rowspan=\"3\">110</th>\n",
       "      <th id=\"T_9fc2a_level2_row3\" class=\"row_heading level2 row3\" >ward</th>\n",
       "      <td id=\"T_9fc2a_row3_col0\" class=\"data row3 col0\" >163.500000</td>\n",
       "      <td id=\"T_9fc2a_row3_col1\" class=\"data row3 col1\" >163.500000</td>\n",
       "      <td id=\"T_9fc2a_row3_col2\" class=\"data row3 col2\" >163.500000</td>\n",
       "      <td id=\"T_9fc2a_row3_col3\" class=\"data row3 col3\" >2.000000</td>\n",
       "      <td id=\"T_9fc2a_row3_col4\" class=\"data row3 col4\" >16.500000</td>\n",
       "      <td id=\"T_9fc2a_row3_col5\" class=\"data row3 col5\" >112.000000</td>\n",
       "      <td id=\"T_9fc2a_row3_col6\" class=\"data row3 col6\" >136.500000</td>\n",
       "      <td id=\"T_9fc2a_row3_col7\" class=\"data row3 col7\" >156.000000</td>\n",
       "      <td id=\"T_9fc2a_row3_col8\" class=\"data row3 col8\" >215.500000</td>\n",
       "      <td id=\"T_9fc2a_row3_col9\" class=\"data row3 col9\" >226.500000</td>\n",
       "      <td id=\"T_9fc2a_row3_col10\" class=\"data row3 col10\" >2.000000</td>\n",
       "      <td id=\"T_9fc2a_row3_col11\" class=\"data row3 col11\" >123.000000</td>\n",
       "    </tr>\n",
       "    <tr>\n",
       "      <th id=\"T_9fc2a_level2_row4\" class=\"row_heading level2 row4\" >average</th>\n",
       "      <td id=\"T_9fc2a_row4_col0\" class=\"data row4 col0\" >114.000000</td>\n",
       "      <td id=\"T_9fc2a_row4_col1\" class=\"data row4 col1\" >114.000000</td>\n",
       "      <td id=\"T_9fc2a_row4_col2\" class=\"data row4 col2\" >168.500000</td>\n",
       "      <td id=\"T_9fc2a_row4_col3\" class=\"data row4 col3\" >2.000000</td>\n",
       "      <td id=\"T_9fc2a_row4_col4\" class=\"data row4 col4\" >12.000000</td>\n",
       "      <td id=\"T_9fc2a_row4_col5\" class=\"data row4 col5\" >73.500000</td>\n",
       "      <td id=\"T_9fc2a_row4_col6\" class=\"data row4 col6\" >168.500000</td>\n",
       "      <td id=\"T_9fc2a_row4_col7\" class=\"data row4 col7\" >127.000000</td>\n",
       "      <td id=\"T_9fc2a_row4_col8\" class=\"data row4 col8\" >148.000000</td>\n",
       "      <td id=\"T_9fc2a_row4_col9\" class=\"data row4 col9\" >73.500000</td>\n",
       "      <td id=\"T_9fc2a_row4_col10\" class=\"data row4 col10\" >2.000000</td>\n",
       "      <td id=\"T_9fc2a_row4_col11\" class=\"data row4 col11\" >225.000000</td>\n",
       "    </tr>\n",
       "    <tr>\n",
       "      <th id=\"T_9fc2a_level2_row5\" class=\"row_heading level2 row5\" >weighted</th>\n",
       "      <td id=\"T_9fc2a_row5_col0\" class=\"data row5 col0\" >54.000000</td>\n",
       "      <td id=\"T_9fc2a_row5_col1\" class=\"data row5 col1\" >54.000000</td>\n",
       "      <td id=\"T_9fc2a_row5_col2\" class=\"data row5 col2\" >128.000000</td>\n",
       "      <td id=\"T_9fc2a_row5_col3\" class=\"data row5 col3\" >2.000000</td>\n",
       "      <td id=\"T_9fc2a_row5_col4\" class=\"data row5 col4\" >18.000000</td>\n",
       "      <td id=\"T_9fc2a_row5_col5\" class=\"data row5 col5\" >92.500000</td>\n",
       "      <td id=\"T_9fc2a_row5_col6\" class=\"data row5 col6\" >131.500000</td>\n",
       "      <td id=\"T_9fc2a_row5_col7\" class=\"data row5 col7\" >39.500000</td>\n",
       "      <td id=\"T_9fc2a_row5_col8\" class=\"data row5 col8\" >157.500000</td>\n",
       "      <td id=\"T_9fc2a_row5_col9\" class=\"data row5 col9\" >75.500000</td>\n",
       "      <td id=\"T_9fc2a_row5_col10\" class=\"data row5 col10\" >2.000000</td>\n",
       "      <td id=\"T_9fc2a_row5_col11\" class=\"data row5 col11\" >203.500000</td>\n",
       "    </tr>\n",
       "    <tr>\n",
       "      <th id=\"T_9fc2a_level1_row6\" class=\"row_heading level1 row6\" rowspan=\"3\">101</th>\n",
       "      <th id=\"T_9fc2a_level2_row6\" class=\"row_heading level2 row6\" >ward</th>\n",
       "      <td id=\"T_9fc2a_row6_col0\" class=\"data row6 col0\" >205.500000</td>\n",
       "      <td id=\"T_9fc2a_row6_col1\" class=\"data row6 col1\" >205.500000</td>\n",
       "      <td id=\"T_9fc2a_row6_col2\" class=\"data row6 col2\" >112.500000</td>\n",
       "      <td id=\"T_9fc2a_row6_col3\" class=\"data row6 col3\" >2.000000</td>\n",
       "      <td id=\"T_9fc2a_row6_col4\" class=\"data row6 col4\" >14.000000</td>\n",
       "      <td id=\"T_9fc2a_row6_col5\" class=\"data row6 col5\" >151.000000</td>\n",
       "      <td id=\"T_9fc2a_row6_col6\" class=\"data row6 col6\" >112.500000</td>\n",
       "      <td id=\"T_9fc2a_row6_col7\" class=\"data row6 col7\" >49.500000</td>\n",
       "      <td id=\"T_9fc2a_row6_col8\" class=\"data row6 col8\" >206.500000</td>\n",
       "      <td id=\"T_9fc2a_row6_col9\" class=\"data row6 col9\" >100.000000</td>\n",
       "      <td id=\"T_9fc2a_row6_col10\" class=\"data row6 col10\" >2.000000</td>\n",
       "      <td id=\"T_9fc2a_row6_col11\" class=\"data row6 col11\" >234.000000</td>\n",
       "    </tr>\n",
       "    <tr>\n",
       "      <th id=\"T_9fc2a_level2_row7\" class=\"row_heading level2 row7\" >average</th>\n",
       "      <td id=\"T_9fc2a_row7_col0\" class=\"data row7 col0\" >148.500000</td>\n",
       "      <td id=\"T_9fc2a_row7_col1\" class=\"data row7 col1\" >148.500000</td>\n",
       "      <td id=\"T_9fc2a_row7_col2\" class=\"data row7 col2\" >210.000000</td>\n",
       "      <td id=\"T_9fc2a_row7_col3\" class=\"data row7 col3\" >2.000000</td>\n",
       "      <td id=\"T_9fc2a_row7_col4\" class=\"data row7 col4\" >2.000000</td>\n",
       "      <td id=\"T_9fc2a_row7_col5\" class=\"data row7 col5\" >83.500000</td>\n",
       "      <td id=\"T_9fc2a_row7_col6\" class=\"data row7 col6\" >214.000000</td>\n",
       "      <td id=\"T_9fc2a_row7_col7\" class=\"data row7 col7\" >78.500000</td>\n",
       "      <td id=\"T_9fc2a_row7_col8\" class=\"data row7 col8\" >133.500000</td>\n",
       "      <td id=\"T_9fc2a_row7_col9\" class=\"data row7 col9\" >54.000000</td>\n",
       "      <td id=\"T_9fc2a_row7_col10\" class=\"data row7 col10\" >2.000000</td>\n",
       "      <td id=\"T_9fc2a_row7_col11\" class=\"data row7 col11\" >236.000000</td>\n",
       "    </tr>\n",
       "    <tr>\n",
       "      <th id=\"T_9fc2a_level2_row8\" class=\"row_heading level2 row8\" >weighted</th>\n",
       "      <td id=\"T_9fc2a_row8_col0\" class=\"data row8 col0\" >136.000000</td>\n",
       "      <td id=\"T_9fc2a_row8_col1\" class=\"data row8 col1\" >136.000000</td>\n",
       "      <td id=\"T_9fc2a_row8_col2\" class=\"data row8 col2\" >219.000000</td>\n",
       "      <td id=\"T_9fc2a_row8_col3\" class=\"data row8 col3\" >2.000000</td>\n",
       "      <td id=\"T_9fc2a_row8_col4\" class=\"data row8 col4\" >2.000000</td>\n",
       "      <td id=\"T_9fc2a_row8_col5\" class=\"data row8 col5\" >98.000000</td>\n",
       "      <td id=\"T_9fc2a_row8_col6\" class=\"data row8 col6\" >218.000000</td>\n",
       "      <td id=\"T_9fc2a_row8_col7\" class=\"data row8 col7\" >27.000000</td>\n",
       "      <td id=\"T_9fc2a_row8_col8\" class=\"data row8 col8\" >107.000000</td>\n",
       "      <td id=\"T_9fc2a_row8_col9\" class=\"data row8 col9\" >58.000000</td>\n",
       "      <td id=\"T_9fc2a_row8_col10\" class=\"data row8 col10\" >2.000000</td>\n",
       "      <td id=\"T_9fc2a_row8_col11\" class=\"data row8 col11\" >234.000000</td>\n",
       "    </tr>\n",
       "    <tr>\n",
       "      <th id=\"T_9fc2a_level1_row9\" class=\"row_heading level1 row9\" rowspan=\"3\">100</th>\n",
       "      <th id=\"T_9fc2a_level2_row9\" class=\"row_heading level2 row9\" >ward</th>\n",
       "      <td id=\"T_9fc2a_row9_col0\" class=\"data row9 col0\" >176.500000</td>\n",
       "      <td id=\"T_9fc2a_row9_col1\" class=\"data row9 col1\" >176.500000</td>\n",
       "      <td id=\"T_9fc2a_row9_col2\" class=\"data row9 col2\" >55.500000</td>\n",
       "      <td id=\"T_9fc2a_row9_col3\" class=\"data row9 col3\" >2.000000</td>\n",
       "      <td id=\"T_9fc2a_row9_col4\" class=\"data row9 col4\" >17.500000</td>\n",
       "      <td id=\"T_9fc2a_row9_col5\" class=\"data row9 col5\" >241.500000</td>\n",
       "      <td id=\"T_9fc2a_row9_col6\" class=\"data row9 col6\" >55.500000</td>\n",
       "      <td id=\"T_9fc2a_row9_col7\" class=\"data row9 col7\" >133.000000</td>\n",
       "      <td id=\"T_9fc2a_row9_col8\" class=\"data row9 col8\" >242.500000</td>\n",
       "      <td id=\"T_9fc2a_row9_col9\" class=\"data row9 col9\" >110.500000</td>\n",
       "      <td id=\"T_9fc2a_row9_col10\" class=\"data row9 col10\" >2.000000</td>\n",
       "      <td id=\"T_9fc2a_row9_col11\" class=\"data row9 col11\" >176.500000</td>\n",
       "    </tr>\n",
       "    <tr>\n",
       "      <th id=\"T_9fc2a_level2_row10\" class=\"row_heading level2 row10\" >average</th>\n",
       "      <td id=\"T_9fc2a_row10_col0\" class=\"data row10 col0\" >122.000000</td>\n",
       "      <td id=\"T_9fc2a_row10_col1\" class=\"data row10 col1\" >122.000000</td>\n",
       "      <td id=\"T_9fc2a_row10_col2\" class=\"data row10 col2\" >168.000000</td>\n",
       "      <td id=\"T_9fc2a_row10_col3\" class=\"data row10 col3\" >2.000000</td>\n",
       "      <td id=\"T_9fc2a_row10_col4\" class=\"data row10 col4\" >11.000000</td>\n",
       "      <td id=\"T_9fc2a_row10_col5\" class=\"data row10 col5\" >125.500000</td>\n",
       "      <td id=\"T_9fc2a_row10_col6\" class=\"data row10 col6\" >168.000000</td>\n",
       "      <td id=\"T_9fc2a_row10_col7\" class=\"data row10 col7\" >46.500000</td>\n",
       "      <td id=\"T_9fc2a_row10_col8\" class=\"data row10 col8\" >140.500000</td>\n",
       "      <td id=\"T_9fc2a_row10_col9\" class=\"data row10 col9\" >101.500000</td>\n",
       "      <td id=\"T_9fc2a_row10_col10\" class=\"data row10 col10\" >2.000000</td>\n",
       "      <td id=\"T_9fc2a_row10_col11\" class=\"data row10 col11\" >228.500000</td>\n",
       "    </tr>\n",
       "    <tr>\n",
       "      <th id=\"T_9fc2a_level2_row11\" class=\"row_heading level2 row11\" >weighted</th>\n",
       "      <td id=\"T_9fc2a_row11_col0\" class=\"data row11 col0\" >60.500000</td>\n",
       "      <td id=\"T_9fc2a_row11_col1\" class=\"data row11 col1\" >60.500000</td>\n",
       "      <td id=\"T_9fc2a_row11_col2\" class=\"data row11 col2\" >154.000000</td>\n",
       "      <td id=\"T_9fc2a_row11_col3\" class=\"data row11 col3\" >2.000000</td>\n",
       "      <td id=\"T_9fc2a_row11_col4\" class=\"data row11 col4\" >14.500000</td>\n",
       "      <td id=\"T_9fc2a_row11_col5\" class=\"data row11 col5\" >131.500000</td>\n",
       "      <td id=\"T_9fc2a_row11_col6\" class=\"data row11 col6\" >157.500000</td>\n",
       "      <td id=\"T_9fc2a_row11_col7\" class=\"data row11 col7\" >39.000000</td>\n",
       "      <td id=\"T_9fc2a_row11_col8\" class=\"data row11 col8\" >180.500000</td>\n",
       "      <td id=\"T_9fc2a_row11_col9\" class=\"data row11 col9\" >131.500000</td>\n",
       "      <td id=\"T_9fc2a_row11_col10\" class=\"data row11 col10\" >2.000000</td>\n",
       "      <td id=\"T_9fc2a_row11_col11\" class=\"data row11 col11\" >213.000000</td>\n",
       "    </tr>\n",
       "  </tbody>\n",
       "</table>\n"
      ],
      "text/plain": [
       "<pandas.io.formats.style.Styler at 0x7fd577fba250>"
      ]
     },
     "execution_count": 35,
     "metadata": {},
     "output_type": "execute_result"
    }
   ],
   "source": [
    "tree_ranks_df.style.applymap(lambda x: \"background-color : yellow\" if x < 25 else \"\")"
   ]
  },
  {
   "cell_type": "code",
   "execution_count": 36,
   "id": "a6ae04aa-3fee-4355-84f7-db4177be47bb",
   "metadata": {
    "execution": {
     "iopub.execute_input": "2021-09-16T19:48:49.090535Z",
     "iopub.status.busy": "2021-09-16T19:48:49.090172Z",
     "iopub.status.idle": "2021-09-16T19:48:49.092024Z",
     "shell.execute_reply": "2021-09-16T19:48:49.091769Z"
    }
   },
   "outputs": [
    {
     "data": {
      "text/html": [
       "<style type=\"text/css\">\n",
       "#T_8b435_row0_col0, #T_8b435_row0_col1, #T_8b435_row0_col5, #T_8b435_row0_col8, #T_8b435_row1_col2, #T_8b435_row1_col4, #T_8b435_row1_col6, #T_8b435_row1_col7, #T_8b435_row1_col9, #T_8b435_row1_col11, #T_8b435_row2_col9 {\n",
       "  background-color: #f0f0f3;\n",
       "  color: #000000;\n",
       "}\n",
       "#T_8b435_row0_col2 {\n",
       "  background-color: #8b8bf8;\n",
       "  color: #f1f1f1;\n",
       "}\n",
       "#T_8b435_row0_col3, #T_8b435_row0_col4, #T_8b435_row0_col9, #T_8b435_row0_col10, #T_8b435_row0_col11, #T_8b435_row1_col0, #T_8b435_row1_col1, #T_8b435_row1_col3, #T_8b435_row1_col10, #T_8b435_row2_col2, #T_8b435_row2_col3, #T_8b435_row2_col5, #T_8b435_row2_col6, #T_8b435_row2_col7, #T_8b435_row2_col8, #T_8b435_row2_col10 {\n",
       "  background-color: #0000ff;\n",
       "  color: #f1f1f1;\n",
       "}\n",
       "#T_8b435_row0_col6 {\n",
       "  background-color: #6c6cf9;\n",
       "  color: #f1f1f1;\n",
       "}\n",
       "#T_8b435_row0_col7 {\n",
       "  background-color: #d9d9f4;\n",
       "  color: #000000;\n",
       "}\n",
       "#T_8b435_row1_col5 {\n",
       "  background-color: #d0d0f4;\n",
       "  color: #000000;\n",
       "}\n",
       "#T_8b435_row1_col8 {\n",
       "  background-color: #2727fd;\n",
       "  color: #f1f1f1;\n",
       "}\n",
       "#T_8b435_row2_col0, #T_8b435_row2_col1 {\n",
       "  background-color: #6666fa;\n",
       "  color: #f1f1f1;\n",
       "}\n",
       "#T_8b435_row2_col4 {\n",
       "  background-color: #5050fb;\n",
       "  color: #f1f1f1;\n",
       "}\n",
       "#T_8b435_row2_col11 {\n",
       "  background-color: #dbdbf4;\n",
       "  color: #000000;\n",
       "}\n",
       "</style>\n",
       "<table id=\"T_8b435_\">\n",
       "  <thead>\n",
       "    <tr>\n",
       "      <th class=\"blank\" >&nbsp;</th>\n",
       "      <th class=\"blank\" >&nbsp;</th>\n",
       "      <th class=\"blank level0\" >&nbsp;</th>\n",
       "      <th class=\"col_heading level0 col0\" >EGFR-SLK</th>\n",
       "      <th class=\"col_heading level0 col1\" >EGFR-LOK</th>\n",
       "      <th class=\"col_heading level0 col2\" >EGFR-GAK</th>\n",
       "      <th class=\"col_heading level0 col3\" >SLK-LOK</th>\n",
       "      <th class=\"col_heading level0 col4\" >DRAK2-CaMKK2</th>\n",
       "      <th class=\"col_heading level0 col5\" >ABL2-AurA</th>\n",
       "      <th class=\"col_heading level0 col6\" >ABL1-GAK</th>\n",
       "      <th class=\"col_heading level0 col7\" >GAK-DAPK3</th>\n",
       "      <th class=\"col_heading level0 col8\" >AurC-KIT</th>\n",
       "      <th class=\"col_heading level0 col9\" >KIT-AMPKa2</th>\n",
       "      <th class=\"col_heading level0 col10\" >KIT-FMS</th>\n",
       "      <th class=\"col_heading level0 col11\" >ABL1-BMPR1B</th>\n",
       "    </tr>\n",
       "    <tr>\n",
       "      <th class=\"index_name level0\" >subset</th>\n",
       "      <th class=\"index_name level1\" >weighting</th>\n",
       "      <th class=\"index_name level2\" >cmethod</th>\n",
       "      <th class=\"blank col0\" >&nbsp;</th>\n",
       "      <th class=\"blank col1\" >&nbsp;</th>\n",
       "      <th class=\"blank col2\" >&nbsp;</th>\n",
       "      <th class=\"blank col3\" >&nbsp;</th>\n",
       "      <th class=\"blank col4\" >&nbsp;</th>\n",
       "      <th class=\"blank col5\" >&nbsp;</th>\n",
       "      <th class=\"blank col6\" >&nbsp;</th>\n",
       "      <th class=\"blank col7\" >&nbsp;</th>\n",
       "      <th class=\"blank col8\" >&nbsp;</th>\n",
       "      <th class=\"blank col9\" >&nbsp;</th>\n",
       "      <th class=\"blank col10\" >&nbsp;</th>\n",
       "      <th class=\"blank col11\" >&nbsp;</th>\n",
       "    </tr>\n",
       "  </thead>\n",
       "  <tbody>\n",
       "    <tr>\n",
       "      <th id=\"T_8b435_level0_row0\" class=\"row_heading level0 row0\" rowspan=\"3\">dfg_in</th>\n",
       "      <th id=\"T_8b435_level1_row0\" class=\"row_heading level1 row0\" rowspan=\"3\">15</th>\n",
       "      <th id=\"T_8b435_level2_row0\" class=\"row_heading level2 row0\" >ward</th>\n",
       "      <td id=\"T_8b435_row0_col0\" class=\"data row0 col0\" >185.000000</td>\n",
       "      <td id=\"T_8b435_row0_col1\" class=\"data row0 col1\" >185.000000</td>\n",
       "      <td id=\"T_8b435_row0_col2\" class=\"data row0 col2\" >128.000000</td>\n",
       "      <td id=\"T_8b435_row0_col3\" class=\"data row0 col3\" >2.000000</td>\n",
       "      <td id=\"T_8b435_row0_col4\" class=\"data row0 col4\" >10.500000</td>\n",
       "      <td id=\"T_8b435_row0_col5\" class=\"data row0 col5\" >112.000000</td>\n",
       "      <td id=\"T_8b435_row0_col6\" class=\"data row0 col6\" >112.000000</td>\n",
       "      <td id=\"T_8b435_row0_col7\" class=\"data row0 col7\" >146.000000</td>\n",
       "      <td id=\"T_8b435_row0_col8\" class=\"data row0 col8\" >206.000000</td>\n",
       "      <td id=\"T_8b435_row0_col9\" class=\"data row0 col9\" >103.000000</td>\n",
       "      <td id=\"T_8b435_row0_col10\" class=\"data row0 col10\" >2.000000</td>\n",
       "      <td id=\"T_8b435_row0_col11\" class=\"data row0 col11\" >73.000000</td>\n",
       "    </tr>\n",
       "    <tr>\n",
       "      <th id=\"T_8b435_level2_row1\" class=\"row_heading level2 row1\" >average</th>\n",
       "      <td id=\"T_8b435_row1_col0\" class=\"data row1 col0\" >105.000000</td>\n",
       "      <td id=\"T_8b435_row1_col1\" class=\"data row1 col1\" >105.000000</td>\n",
       "      <td id=\"T_8b435_row1_col2\" class=\"data row1 col2\" >183.000000</td>\n",
       "      <td id=\"T_8b435_row1_col3\" class=\"data row1 col3\" >2.000000</td>\n",
       "      <td id=\"T_8b435_row1_col4\" class=\"data row1 col4\" >12.000000</td>\n",
       "      <td id=\"T_8b435_row1_col5\" class=\"data row1 col5\" >110.500000</td>\n",
       "      <td id=\"T_8b435_row1_col6\" class=\"data row1 col6\" >183.500000</td>\n",
       "      <td id=\"T_8b435_row1_col7\" class=\"data row1 col7\" >155.000000</td>\n",
       "      <td id=\"T_8b435_row1_col8\" class=\"data row1 col8\" >137.000000</td>\n",
       "      <td id=\"T_8b435_row1_col9\" class=\"data row1 col9\" >139.000000</td>\n",
       "      <td id=\"T_8b435_row1_col10\" class=\"data row1 col10\" >2.000000</td>\n",
       "      <td id=\"T_8b435_row1_col11\" class=\"data row1 col11\" >226.000000</td>\n",
       "    </tr>\n",
       "    <tr>\n",
       "      <th id=\"T_8b435_level2_row2\" class=\"row_heading level2 row2\" >weighted</th>\n",
       "      <td id=\"T_8b435_row2_col0\" class=\"data row2 col0\" >139.000000</td>\n",
       "      <td id=\"T_8b435_row2_col1\" class=\"data row2 col1\" >139.000000</td>\n",
       "      <td id=\"T_8b435_row2_col2\" class=\"data row2 col2\" >53.000000</td>\n",
       "      <td id=\"T_8b435_row2_col3\" class=\"data row2 col3\" >2.000000</td>\n",
       "      <td id=\"T_8b435_row2_col4\" class=\"data row2 col4\" >11.000000</td>\n",
       "      <td id=\"T_8b435_row2_col5\" class=\"data row2 col5\" >101.000000</td>\n",
       "      <td id=\"T_8b435_row2_col6\" class=\"data row2 col6\" >53.000000</td>\n",
       "      <td id=\"T_8b435_row2_col7\" class=\"data row2 col7\" >64.000000</td>\n",
       "      <td id=\"T_8b435_row2_col8\" class=\"data row2 col8\" >123.500000</td>\n",
       "      <td id=\"T_8b435_row2_col9\" class=\"data row2 col9\" >139.000000</td>\n",
       "      <td id=\"T_8b435_row2_col10\" class=\"data row2 col10\" >2.000000</td>\n",
       "      <td id=\"T_8b435_row2_col11\" class=\"data row2 col11\" >212.000000</td>\n",
       "    </tr>\n",
       "  </tbody>\n",
       "</table>\n"
      ],
      "text/plain": [
       "<pandas.io.formats.style.Styler at 0x7fd573c2c4f0>"
      ]
     },
     "execution_count": 36,
     "metadata": {},
     "output_type": "execute_result"
    }
   ],
   "source": [
    "tree_ranks_df.loc[:, \"15\", :].style.background_gradient(cmap=cm, axis=0)"
   ]
  }
 ],
 "metadata": {
  "kernelspec": {
   "display_name": "Python 3",
   "language": "python",
   "name": "python3"
  },
  "language_info": {
   "codemirror_mode": {
    "name": "ipython",
    "version": 3
   },
   "file_extension": ".py",
   "mimetype": "text/x-python",
   "name": "python",
   "nbconvert_exporter": "python",
   "pygments_lexer": "ipython3",
   "version": "3.9.7"
  },
  "widgets": {
   "application/vnd.jupyter.widget-state+json": {
    "state": {
     "e2a09aa82bd44cb6a5c680cd3ac385f1": {
      "model_module": "nglview-js-widgets",
      "model_module_version": "3.0.1",
      "model_name": "ColormakerRegistryModel",
      "state": {
       "_dom_classes": [],
       "_model_module": "nglview-js-widgets",
       "_model_module_version": "3.0.1",
       "_model_name": "ColormakerRegistryModel",
       "_msg_ar": [],
       "_msg_q": [],
       "_ready": false,
       "_view_count": null,
       "_view_module": "nglview-js-widgets",
       "_view_module_version": "3.0.1",
       "_view_name": "ColormakerRegistryView",
       "layout": "IPY_MODEL_f167c9558445461ab409f2d8e03ec6a8"
      }
     },
     "f167c9558445461ab409f2d8e03ec6a8": {
      "model_module": "@jupyter-widgets/base",
      "model_module_version": "1.2.0",
      "model_name": "LayoutModel",
      "state": {
       "_model_module": "@jupyter-widgets/base",
       "_model_module_version": "1.2.0",
       "_model_name": "LayoutModel",
       "_view_count": null,
       "_view_module": "@jupyter-widgets/base",
       "_view_module_version": "1.2.0",
       "_view_name": "LayoutView",
       "align_content": null,
       "align_items": null,
       "align_self": null,
       "border": null,
       "bottom": null,
       "display": null,
       "flex": null,
       "flex_flow": null,
       "grid_area": null,
       "grid_auto_columns": null,
       "grid_auto_flow": null,
       "grid_auto_rows": null,
       "grid_column": null,
       "grid_gap": null,
       "grid_row": null,
       "grid_template_areas": null,
       "grid_template_columns": null,
       "grid_template_rows": null,
       "height": null,
       "justify_content": null,
       "justify_items": null,
       "left": null,
       "margin": null,
       "max_height": null,
       "max_width": null,
       "min_height": null,
       "min_width": null,
       "object_fit": null,
       "object_position": null,
       "order": null,
       "overflow": null,
       "overflow_x": null,
       "overflow_y": null,
       "padding": null,
       "right": null,
       "top": null,
       "visibility": null,
       "width": null
      }
     }
    },
    "version_major": 2,
    "version_minor": 0
   }
  }
 },
 "nbformat": 4,
 "nbformat_minor": 5
}
