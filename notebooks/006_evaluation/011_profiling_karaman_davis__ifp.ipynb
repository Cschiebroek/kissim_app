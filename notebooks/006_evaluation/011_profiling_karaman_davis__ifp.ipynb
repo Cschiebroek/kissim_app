{
 "cells": [
  {
   "cell_type": "markdown",
   "metadata": {},
   "source": [
    "# Predict ligand profiling using IFPs (pooled Karaman and Davis dataset)\n",
    "\n",
    "In order to assess the predictive power of `kissim`, we here choose a ligand-centric evaluation. \n",
    "We will compare if `kissim` can predict on- and off-targets determined in ligand profiling studies.\n",
    "\n",
    "- Kinase-kinase distance dataset (use KinMap kinase names): Select kinases from profiling dataset by query ligand\n",
    "- Kinase-ligand profiling dataset (use KinMap kinase names and PKIDB ligand names): Select kinases from distances dataset by the ligand's on-target\n",
    "- Merge both datasets and keep only kinases that have measurements in both datasets\n",
    "- Rank kinases by distances\n",
    "- Calculuate enrichment factors and enrichment plots\n",
    "- Calculate ROC curves"
   ]
  },
  {
   "cell_type": "code",
   "execution_count": 1,
   "metadata": {
    "execution": {
     "iopub.execute_input": "2021-09-16T19:49:23.435182Z",
     "iopub.status.busy": "2021-09-16T19:49:23.433717Z",
     "iopub.status.idle": "2021-09-16T19:49:23.455220Z",
     "shell.execute_reply": "2021-09-16T19:49:23.455693Z"
    }
   },
   "outputs": [],
   "source": [
    "%load_ext autoreload\n",
    "%autoreload 2"
   ]
  },
  {
   "cell_type": "code",
   "execution_count": 2,
   "metadata": {
    "execution": {
     "iopub.execute_input": "2021-09-16T19:49:23.459835Z",
     "iopub.status.busy": "2021-09-16T19:49:23.459260Z",
     "iopub.status.idle": "2021-09-16T19:49:24.576520Z",
     "shell.execute_reply": "2021-09-16T19:49:24.576199Z"
    }
   },
   "outputs": [
    {
     "data": {
      "application/vnd.jupyter.widget-view+json": {
       "model_id": "147de25ad9a24a29a08e9cf505550da5",
       "version_major": 2,
       "version_minor": 0
      },
      "text/plain": []
     },
     "metadata": {},
     "output_type": "display_data"
    }
   ],
   "source": [
    "from pathlib import Path\n",
    "\n",
    "import numpy as np\n",
    "import pandas as pd\n",
    "import matplotlib.pyplot as plt\n",
    "from IPython.display import display, Markdown, HTML\n",
    "\n",
    "from src import data, evaluation"
   ]
  },
  {
   "cell_type": "code",
   "execution_count": 3,
   "metadata": {
    "execution": {
     "iopub.execute_input": "2021-09-16T19:49:24.579747Z",
     "iopub.status.busy": "2021-09-16T19:49:24.579266Z",
     "iopub.status.idle": "2021-09-16T19:49:24.591285Z",
     "shell.execute_reply": "2021-09-16T19:49:24.591016Z"
    }
   },
   "outputs": [],
   "source": [
    "HERE = Path(_dh[-1])  # noqa: F821"
   ]
  },
  {
   "cell_type": "code",
   "execution_count": 4,
   "metadata": {
    "execution": {
     "iopub.execute_input": "2021-09-16T19:49:24.593754Z",
     "iopub.status.busy": "2021-09-16T19:49:24.593277Z",
     "iopub.status.idle": "2021-09-16T19:49:24.604607Z",
     "shell.execute_reply": "2021-09-16T19:49:24.604859Z"
    }
   },
   "outputs": [],
   "source": [
    "plt.style.use(\"seaborn\")"
   ]
  },
  {
   "cell_type": "markdown",
   "metadata": {},
   "source": [
    "## Define parameters"
   ]
  },
  {
   "cell_type": "code",
   "execution_count": 5,
   "metadata": {
    "execution": {
     "iopub.execute_input": "2021-09-16T19:49:24.607075Z",
     "iopub.status.busy": "2021-09-16T19:49:24.606604Z",
     "iopub.status.idle": "2021-09-16T19:49:24.617686Z",
     "shell.execute_reply": "2021-09-16T19:49:24.617925Z"
    }
   },
   "outputs": [],
   "source": [
    "# The only global that can be changed in this notebook\n",
    "LIGAND_PROFILING_METHOD = \"karaman-davis\""
   ]
  },
  {
   "cell_type": "code",
   "execution_count": 6,
   "metadata": {
    "execution": {
     "iopub.execute_input": "2021-09-16T19:49:24.620376Z",
     "iopub.status.busy": "2021-09-16T19:49:24.619846Z",
     "iopub.status.idle": "2021-09-16T19:49:24.630980Z",
     "shell.execute_reply": "2021-09-16T19:49:24.631218Z"
    }
   },
   "outputs": [],
   "source": [
    "KINASE_DISTANCES_METHOD = \"klifs-pocket-ifp\"\n",
    "KINASE_ACTIVITY_CUTOFF = 100\n",
    "KINASE_ACTIVITY_MAX = True\n",
    "MIN_N_SHARED_KINASES = 10\n",
    "MIN_N_SHARED_ACTIVE_KINASES = 3"
   ]
  },
  {
   "cell_type": "markdown",
   "metadata": {},
   "source": [
    "## Kinase-kinase distances dataset\n",
    "\n",
    "__Criteria__: \n",
    "\n",
    "- Filters out kinases whose names cannot be mapped to KinMap kinase names."
   ]
  },
  {
   "cell_type": "code",
   "execution_count": 7,
   "metadata": {
    "execution": {
     "iopub.execute_input": "2021-09-16T19:49:24.634003Z",
     "iopub.status.busy": "2021-09-16T19:49:24.633500Z",
     "iopub.status.idle": "2021-09-16T19:49:31.772858Z",
     "shell.execute_reply": "2021-09-16T19:49:31.772538Z"
    }
   },
   "outputs": [
    {
     "name": "stdout",
     "output_type": "stream",
     "text": [
      "       structure.klifs_id                            interaction.fingerprint\n",
      "0                       1  0000000000000010000000000000000000000000000000...\n",
      "1                       3  0000000000000010000000000000000000000000000000...\n",
      "2                       5  0000000000000010000000000000000000000000000000...\n",
      "3                       6  0000000000000010000001000000000000000000000000...\n",
      "4                       7  0000000000000010001001000000000000000000000000...\n",
      "...                   ...                                                ...\n",
      "10515               13847  0000000000000010000000000000000000000000000000...\n",
      "10516               13848  0000000000000010000000000000000000000000000000...\n",
      "10517               13849  0000000000000010000001000000000000010000000000...\n",
      "10518               13850  0000000000000010000001000000100000000000000000...\n",
      "10519               13853  0000000000000010000001000000100000010000000000...\n",
      "\n",
      "[10520 rows x 2 columns]\n"
     ]
    },
    {
     "ename": "KeyError",
     "evalue": "'interaction.fingerprint'",
     "output_type": "error",
     "traceback": [
      "\u001b[0;31m---------------------------------------------------------------------------\u001b[0m",
      "\u001b[0;31mKeyError\u001b[0m                                  Traceback (most recent call last)",
      "\u001b[0;32m~/.local/miniconda/envs/kissim-app-dev/lib/python3.9/site-packages/pandas/core/indexes/base.py\u001b[0m in \u001b[0;36mget_loc\u001b[0;34m(self, key, method, tolerance)\u001b[0m\n\u001b[1;32m   3360\u001b[0m             \u001b[0;32mtry\u001b[0m\u001b[0;34m:\u001b[0m\u001b[0;34m\u001b[0m\u001b[0;34m\u001b[0m\u001b[0m\n\u001b[0;32m-> 3361\u001b[0;31m                 \u001b[0;32mreturn\u001b[0m \u001b[0mself\u001b[0m\u001b[0;34m.\u001b[0m\u001b[0m_engine\u001b[0m\u001b[0;34m.\u001b[0m\u001b[0mget_loc\u001b[0m\u001b[0;34m(\u001b[0m\u001b[0mcasted_key\u001b[0m\u001b[0;34m)\u001b[0m\u001b[0;34m\u001b[0m\u001b[0;34m\u001b[0m\u001b[0m\n\u001b[0m\u001b[1;32m   3362\u001b[0m             \u001b[0;32mexcept\u001b[0m \u001b[0mKeyError\u001b[0m \u001b[0;32mas\u001b[0m \u001b[0merr\u001b[0m\u001b[0;34m:\u001b[0m\u001b[0;34m\u001b[0m\u001b[0;34m\u001b[0m\u001b[0m\n",
      "\u001b[0;32m~/.local/miniconda/envs/kissim-app-dev/lib/python3.9/site-packages/pandas/_libs/index.pyx\u001b[0m in \u001b[0;36mpandas._libs.index.IndexEngine.get_loc\u001b[0;34m()\u001b[0m\n",
      "\u001b[0;32m~/.local/miniconda/envs/kissim-app-dev/lib/python3.9/site-packages/pandas/_libs/index.pyx\u001b[0m in \u001b[0;36mpandas._libs.index.IndexEngine.get_loc\u001b[0;34m()\u001b[0m\n",
      "\u001b[0;32mpandas/_libs/hashtable_class_helper.pxi\u001b[0m in \u001b[0;36mpandas._libs.hashtable.PyObjectHashTable.get_item\u001b[0;34m()\u001b[0m\n",
      "\u001b[0;32mpandas/_libs/hashtable_class_helper.pxi\u001b[0m in \u001b[0;36mpandas._libs.hashtable.PyObjectHashTable.get_item\u001b[0;34m()\u001b[0m\n",
      "\u001b[0;31mKeyError\u001b[0m: 'interaction.fingerprint'",
      "\nThe above exception was the direct cause of the following exception:\n",
      "\u001b[0;31mKeyError\u001b[0m                                  Traceback (most recent call last)",
      "\u001b[0;32m/tmp/ipykernel_1805/3175358702.py\u001b[0m in \u001b[0;36m<module>\u001b[0;34m\u001b[0m\n\u001b[1;32m      1\u001b[0m \u001b[0;31m# Full dataset (reported only, not further used)\u001b[0m\u001b[0;34m\u001b[0m\u001b[0;34m\u001b[0m\u001b[0m\n\u001b[0;32m----> 2\u001b[0;31m kinase_df = data.distances.load(\n\u001b[0m\u001b[1;32m      3\u001b[0m     \u001b[0mKINASE_DISTANCES_METHOD\u001b[0m\u001b[0;34m,\u001b[0m \u001b[0mstructure_kinase_mapping_by\u001b[0m\u001b[0;34m=\u001b[0m\u001b[0;34m\"minimum\"\u001b[0m\u001b[0;34m,\u001b[0m \u001b[0mkinmap_kinases\u001b[0m\u001b[0;34m=\u001b[0m\u001b[0;32mFalse\u001b[0m\u001b[0;34m\u001b[0m\u001b[0;34m\u001b[0m\u001b[0m\n\u001b[1;32m      4\u001b[0m )\n\u001b[1;32m      5\u001b[0m \u001b[0mprint\u001b[0m\u001b[0;34m(\u001b[0m\u001b[0;34mf\"Kinase distance matrix shape: {kinase_df.shape}\"\u001b[0m\u001b[0;34m)\u001b[0m\u001b[0;34m\u001b[0m\u001b[0;34m\u001b[0m\u001b[0m\n",
      "\u001b[0;32m~/Documents/GitHub/kissim_app/src/data/distances.py\u001b[0m in \u001b[0;36mload\u001b[0;34m(dataset_name, structure_kinase_mapping_by, kinmap_kinases, distances_path, coverage_min)\u001b[0m\n\u001b[1;32m     62\u001b[0m         \u001b[0;32mreturn\u001b[0m \u001b[0mklifs_pocket_sequence\u001b[0m\u001b[0;34m(\u001b[0m\u001b[0mkinmap_kinases\u001b[0m\u001b[0;34m=\u001b[0m\u001b[0mkinmap_kinases\u001b[0m\u001b[0;34m)\u001b[0m\u001b[0;34m\u001b[0m\u001b[0;34m\u001b[0m\u001b[0m\n\u001b[1;32m     63\u001b[0m     \u001b[0;32melif\u001b[0m \u001b[0mdataset_name\u001b[0m \u001b[0;34m==\u001b[0m \u001b[0;34m\"klifs-pocket-ifp\"\u001b[0m\u001b[0;34m:\u001b[0m\u001b[0;34m\u001b[0m\u001b[0;34m\u001b[0m\u001b[0m\n\u001b[0;32m---> 64\u001b[0;31m         \u001b[0;32mreturn\u001b[0m \u001b[0mklifs_pocket_ifp\u001b[0m\u001b[0;34m(\u001b[0m\u001b[0mkinmap_kinases\u001b[0m\u001b[0;34m=\u001b[0m\u001b[0mkinmap_kinases\u001b[0m\u001b[0;34m)\u001b[0m\u001b[0;34m\u001b[0m\u001b[0;34m\u001b[0m\u001b[0m\n\u001b[0m\u001b[1;32m     65\u001b[0m     \u001b[0;32melse\u001b[0m\u001b[0;34m:\u001b[0m\u001b[0;34m\u001b[0m\u001b[0;34m\u001b[0m\u001b[0m\n\u001b[1;32m     66\u001b[0m         raise KeyError(\n",
      "\u001b[0;32m~/Documents/GitHub/kissim_app/src/data/distances.py\u001b[0m in \u001b[0;36mklifs_pocket_ifp\u001b[0;34m(structure_klifs_ids, dfg, metric, kinmap_kinases)\u001b[0m\n\u001b[1;32m    193\u001b[0m     \u001b[0;31m# Generate list of lists\u001b[0m\u001b[0;34m\u001b[0m\u001b[0;34m\u001b[0m\u001b[0m\n\u001b[1;32m    194\u001b[0m     ifps_list_of_lists = (\n\u001b[0;32m--> 195\u001b[0;31m         \u001b[0mifps\u001b[0m\u001b[0;34m[\u001b[0m\u001b[0;34m\"interaction.fingerprint\"\u001b[0m\u001b[0;34m]\u001b[0m\u001b[0;34m\u001b[0m\u001b[0;34m\u001b[0m\u001b[0m\n\u001b[0m\u001b[1;32m    196\u001b[0m         \u001b[0;34m.\u001b[0m\u001b[0mapply\u001b[0m\u001b[0;34m(\u001b[0m\u001b[0mlist\u001b[0m\u001b[0;34m)\u001b[0m\u001b[0;34m\u001b[0m\u001b[0;34m\u001b[0m\u001b[0m\n\u001b[1;32m    197\u001b[0m         \u001b[0;34m.\u001b[0m\u001b[0mapply\u001b[0m\u001b[0;34m(\u001b[0m\u001b[0;32mlambda\u001b[0m \u001b[0mx\u001b[0m\u001b[0;34m:\u001b[0m \u001b[0;34m[\u001b[0m\u001b[0;32mTrue\u001b[0m \u001b[0;32mif\u001b[0m \u001b[0mi\u001b[0m \u001b[0;34m==\u001b[0m \u001b[0;34m\"1\"\u001b[0m \u001b[0;32melse\u001b[0m \u001b[0;32mFalse\u001b[0m \u001b[0;32mfor\u001b[0m \u001b[0mi\u001b[0m \u001b[0;32min\u001b[0m \u001b[0mx\u001b[0m\u001b[0;34m]\u001b[0m\u001b[0;34m)\u001b[0m\u001b[0;34m\u001b[0m\u001b[0;34m\u001b[0m\u001b[0m\n",
      "\u001b[0;32m~/.local/miniconda/envs/kissim-app-dev/lib/python3.9/site-packages/pandas/core/frame.py\u001b[0m in \u001b[0;36m__getitem__\u001b[0;34m(self, key)\u001b[0m\n\u001b[1;32m   3456\u001b[0m             \u001b[0;32mif\u001b[0m \u001b[0mself\u001b[0m\u001b[0;34m.\u001b[0m\u001b[0mcolumns\u001b[0m\u001b[0;34m.\u001b[0m\u001b[0mnlevels\u001b[0m \u001b[0;34m>\u001b[0m \u001b[0;36m1\u001b[0m\u001b[0;34m:\u001b[0m\u001b[0;34m\u001b[0m\u001b[0;34m\u001b[0m\u001b[0m\n\u001b[1;32m   3457\u001b[0m                 \u001b[0;32mreturn\u001b[0m \u001b[0mself\u001b[0m\u001b[0;34m.\u001b[0m\u001b[0m_getitem_multilevel\u001b[0m\u001b[0;34m(\u001b[0m\u001b[0mkey\u001b[0m\u001b[0;34m)\u001b[0m\u001b[0;34m\u001b[0m\u001b[0;34m\u001b[0m\u001b[0m\n\u001b[0;32m-> 3458\u001b[0;31m             \u001b[0mindexer\u001b[0m \u001b[0;34m=\u001b[0m \u001b[0mself\u001b[0m\u001b[0;34m.\u001b[0m\u001b[0mcolumns\u001b[0m\u001b[0;34m.\u001b[0m\u001b[0mget_loc\u001b[0m\u001b[0;34m(\u001b[0m\u001b[0mkey\u001b[0m\u001b[0;34m)\u001b[0m\u001b[0;34m\u001b[0m\u001b[0;34m\u001b[0m\u001b[0m\n\u001b[0m\u001b[1;32m   3459\u001b[0m             \u001b[0;32mif\u001b[0m \u001b[0mis_integer\u001b[0m\u001b[0;34m(\u001b[0m\u001b[0mindexer\u001b[0m\u001b[0;34m)\u001b[0m\u001b[0;34m:\u001b[0m\u001b[0;34m\u001b[0m\u001b[0;34m\u001b[0m\u001b[0m\n\u001b[1;32m   3460\u001b[0m                 \u001b[0mindexer\u001b[0m \u001b[0;34m=\u001b[0m \u001b[0;34m[\u001b[0m\u001b[0mindexer\u001b[0m\u001b[0;34m]\u001b[0m\u001b[0;34m\u001b[0m\u001b[0;34m\u001b[0m\u001b[0m\n",
      "\u001b[0;32m~/.local/miniconda/envs/kissim-app-dev/lib/python3.9/site-packages/pandas/core/indexes/base.py\u001b[0m in \u001b[0;36mget_loc\u001b[0;34m(self, key, method, tolerance)\u001b[0m\n\u001b[1;32m   3361\u001b[0m                 \u001b[0;32mreturn\u001b[0m \u001b[0mself\u001b[0m\u001b[0;34m.\u001b[0m\u001b[0m_engine\u001b[0m\u001b[0;34m.\u001b[0m\u001b[0mget_loc\u001b[0m\u001b[0;34m(\u001b[0m\u001b[0mcasted_key\u001b[0m\u001b[0;34m)\u001b[0m\u001b[0;34m\u001b[0m\u001b[0;34m\u001b[0m\u001b[0m\n\u001b[1;32m   3362\u001b[0m             \u001b[0;32mexcept\u001b[0m \u001b[0mKeyError\u001b[0m \u001b[0;32mas\u001b[0m \u001b[0merr\u001b[0m\u001b[0;34m:\u001b[0m\u001b[0;34m\u001b[0m\u001b[0;34m\u001b[0m\u001b[0m\n\u001b[0;32m-> 3363\u001b[0;31m                 \u001b[0;32mraise\u001b[0m \u001b[0mKeyError\u001b[0m\u001b[0;34m(\u001b[0m\u001b[0mkey\u001b[0m\u001b[0;34m)\u001b[0m \u001b[0;32mfrom\u001b[0m \u001b[0merr\u001b[0m\u001b[0;34m\u001b[0m\u001b[0;34m\u001b[0m\u001b[0m\n\u001b[0m\u001b[1;32m   3364\u001b[0m \u001b[0;34m\u001b[0m\u001b[0m\n\u001b[1;32m   3365\u001b[0m         \u001b[0;32mif\u001b[0m \u001b[0mis_scalar\u001b[0m\u001b[0;34m(\u001b[0m\u001b[0mkey\u001b[0m\u001b[0;34m)\u001b[0m \u001b[0;32mand\u001b[0m \u001b[0misna\u001b[0m\u001b[0;34m(\u001b[0m\u001b[0mkey\u001b[0m\u001b[0;34m)\u001b[0m \u001b[0;32mand\u001b[0m \u001b[0;32mnot\u001b[0m \u001b[0mself\u001b[0m\u001b[0;34m.\u001b[0m\u001b[0mhasnans\u001b[0m\u001b[0;34m:\u001b[0m\u001b[0;34m\u001b[0m\u001b[0;34m\u001b[0m\u001b[0m\n",
      "\u001b[0;31mKeyError\u001b[0m: 'interaction.fingerprint'"
     ]
    }
   ],
   "source": [
    "# Full dataset (reported only, not further used)\n",
    "kinase_df = data.distances.load(\n",
    "    KINASE_DISTANCES_METHOD, structure_kinase_mapping_by=\"minimum\", kinmap_kinases=False\n",
    ")\n",
    "print(f\"Kinase distance matrix shape: {kinase_df.shape}\")"
   ]
  },
  {
   "cell_type": "code",
   "execution_count": 8,
   "metadata": {
    "execution": {
     "iopub.execute_input": "2021-09-16T19:49:31.775414Z",
     "iopub.status.busy": "2021-09-16T19:49:31.774941Z",
     "iopub.status.idle": "2021-09-16T19:49:38.563133Z",
     "shell.execute_reply": "2021-09-16T19:49:38.562812Z"
    }
   },
   "outputs": [
    {
     "name": "stdout",
     "output_type": "stream",
     "text": [
      "       structure.klifs_id                            interaction.fingerprint\n",
      "0                       1  0000000000000010000000000000000000000000000000...\n",
      "1                       3  0000000000000010000000000000000000000000000000...\n",
      "2                       5  0000000000000010000000000000000000000000000000...\n",
      "3                       6  0000000000000010000001000000000000000000000000...\n",
      "4                       7  0000000000000010001001000000000000000000000000...\n",
      "...                   ...                                                ...\n",
      "10515               13847  0000000000000010000000000000000000000000000000...\n",
      "10516               13848  0000000000000010000000000000000000000000000000...\n",
      "10517               13849  0000000000000010000001000000000000010000000000...\n",
      "10518               13850  0000000000000010000001000000100000000000000000...\n",
      "10519               13853  0000000000000010000001000000100000010000000000...\n",
      "\n",
      "[10520 rows x 2 columns]\n"
     ]
    },
    {
     "ename": "KeyError",
     "evalue": "'interaction.fingerprint'",
     "output_type": "error",
     "traceback": [
      "\u001b[0;31m---------------------------------------------------------------------------\u001b[0m",
      "\u001b[0;31mKeyError\u001b[0m                                  Traceback (most recent call last)",
      "\u001b[0;32m~/.local/miniconda/envs/kissim-app-dev/lib/python3.9/site-packages/pandas/core/indexes/base.py\u001b[0m in \u001b[0;36mget_loc\u001b[0;34m(self, key, method, tolerance)\u001b[0m\n\u001b[1;32m   3360\u001b[0m             \u001b[0;32mtry\u001b[0m\u001b[0;34m:\u001b[0m\u001b[0;34m\u001b[0m\u001b[0;34m\u001b[0m\u001b[0m\n\u001b[0;32m-> 3361\u001b[0;31m                 \u001b[0;32mreturn\u001b[0m \u001b[0mself\u001b[0m\u001b[0;34m.\u001b[0m\u001b[0m_engine\u001b[0m\u001b[0;34m.\u001b[0m\u001b[0mget_loc\u001b[0m\u001b[0;34m(\u001b[0m\u001b[0mcasted_key\u001b[0m\u001b[0;34m)\u001b[0m\u001b[0;34m\u001b[0m\u001b[0;34m\u001b[0m\u001b[0m\n\u001b[0m\u001b[1;32m   3362\u001b[0m             \u001b[0;32mexcept\u001b[0m \u001b[0mKeyError\u001b[0m \u001b[0;32mas\u001b[0m \u001b[0merr\u001b[0m\u001b[0;34m:\u001b[0m\u001b[0;34m\u001b[0m\u001b[0;34m\u001b[0m\u001b[0m\n",
      "\u001b[0;32m~/.local/miniconda/envs/kissim-app-dev/lib/python3.9/site-packages/pandas/_libs/index.pyx\u001b[0m in \u001b[0;36mpandas._libs.index.IndexEngine.get_loc\u001b[0;34m()\u001b[0m\n",
      "\u001b[0;32m~/.local/miniconda/envs/kissim-app-dev/lib/python3.9/site-packages/pandas/_libs/index.pyx\u001b[0m in \u001b[0;36mpandas._libs.index.IndexEngine.get_loc\u001b[0;34m()\u001b[0m\n",
      "\u001b[0;32mpandas/_libs/hashtable_class_helper.pxi\u001b[0m in \u001b[0;36mpandas._libs.hashtable.PyObjectHashTable.get_item\u001b[0;34m()\u001b[0m\n",
      "\u001b[0;32mpandas/_libs/hashtable_class_helper.pxi\u001b[0m in \u001b[0;36mpandas._libs.hashtable.PyObjectHashTable.get_item\u001b[0;34m()\u001b[0m\n",
      "\u001b[0;31mKeyError\u001b[0m: 'interaction.fingerprint'",
      "\nThe above exception was the direct cause of the following exception:\n",
      "\u001b[0;31mKeyError\u001b[0m                                  Traceback (most recent call last)",
      "\u001b[0;32m/tmp/ipykernel_1805/1509262569.py\u001b[0m in \u001b[0;36m<module>\u001b[0;34m\u001b[0m\n\u001b[1;32m      1\u001b[0m \u001b[0;31m# Reduced dataset\u001b[0m\u001b[0;34m\u001b[0m\u001b[0;34m\u001b[0m\u001b[0m\n\u001b[0;32m----> 2\u001b[0;31m kinase_df = data.distances.load(\n\u001b[0m\u001b[1;32m      3\u001b[0m     \u001b[0mKINASE_DISTANCES_METHOD\u001b[0m\u001b[0;34m,\u001b[0m \u001b[0mstructure_kinase_mapping_by\u001b[0m\u001b[0;34m=\u001b[0m\u001b[0;34m\"minimum\"\u001b[0m\u001b[0;34m,\u001b[0m \u001b[0mkinmap_kinases\u001b[0m\u001b[0;34m=\u001b[0m\u001b[0;32mTrue\u001b[0m\u001b[0;34m\u001b[0m\u001b[0;34m\u001b[0m\u001b[0m\n\u001b[1;32m      4\u001b[0m )\n\u001b[1;32m      5\u001b[0m \u001b[0mprint\u001b[0m\u001b[0;34m(\u001b[0m\u001b[0;34mf\"Kinase distance matrix shape: {kinase_df.shape}\"\u001b[0m\u001b[0;34m)\u001b[0m\u001b[0;34m\u001b[0m\u001b[0;34m\u001b[0m\u001b[0m\n",
      "\u001b[0;32m~/Documents/GitHub/kissim_app/src/data/distances.py\u001b[0m in \u001b[0;36mload\u001b[0;34m(dataset_name, structure_kinase_mapping_by, kinmap_kinases, distances_path, coverage_min)\u001b[0m\n\u001b[1;32m     62\u001b[0m         \u001b[0;32mreturn\u001b[0m \u001b[0mklifs_pocket_sequence\u001b[0m\u001b[0;34m(\u001b[0m\u001b[0mkinmap_kinases\u001b[0m\u001b[0;34m=\u001b[0m\u001b[0mkinmap_kinases\u001b[0m\u001b[0;34m)\u001b[0m\u001b[0;34m\u001b[0m\u001b[0;34m\u001b[0m\u001b[0m\n\u001b[1;32m     63\u001b[0m     \u001b[0;32melif\u001b[0m \u001b[0mdataset_name\u001b[0m \u001b[0;34m==\u001b[0m \u001b[0;34m\"klifs-pocket-ifp\"\u001b[0m\u001b[0;34m:\u001b[0m\u001b[0;34m\u001b[0m\u001b[0;34m\u001b[0m\u001b[0m\n\u001b[0;32m---> 64\u001b[0;31m         \u001b[0;32mreturn\u001b[0m \u001b[0mklifs_pocket_ifp\u001b[0m\u001b[0;34m(\u001b[0m\u001b[0mkinmap_kinases\u001b[0m\u001b[0;34m=\u001b[0m\u001b[0mkinmap_kinases\u001b[0m\u001b[0;34m)\u001b[0m\u001b[0;34m\u001b[0m\u001b[0;34m\u001b[0m\u001b[0m\n\u001b[0m\u001b[1;32m     65\u001b[0m     \u001b[0;32melse\u001b[0m\u001b[0;34m:\u001b[0m\u001b[0;34m\u001b[0m\u001b[0;34m\u001b[0m\u001b[0m\n\u001b[1;32m     66\u001b[0m         raise KeyError(\n",
      "\u001b[0;32m~/Documents/GitHub/kissim_app/src/data/distances.py\u001b[0m in \u001b[0;36mklifs_pocket_ifp\u001b[0;34m(structure_klifs_ids, dfg, metric, kinmap_kinases)\u001b[0m\n\u001b[1;32m    193\u001b[0m     \u001b[0;31m# Generate list of lists\u001b[0m\u001b[0;34m\u001b[0m\u001b[0;34m\u001b[0m\u001b[0m\n\u001b[1;32m    194\u001b[0m     ifps_list_of_lists = (\n\u001b[0;32m--> 195\u001b[0;31m         \u001b[0mifps\u001b[0m\u001b[0;34m[\u001b[0m\u001b[0;34m\"interaction.fingerprint\"\u001b[0m\u001b[0;34m]\u001b[0m\u001b[0;34m\u001b[0m\u001b[0;34m\u001b[0m\u001b[0m\n\u001b[0m\u001b[1;32m    196\u001b[0m         \u001b[0;34m.\u001b[0m\u001b[0mapply\u001b[0m\u001b[0;34m(\u001b[0m\u001b[0mlist\u001b[0m\u001b[0;34m)\u001b[0m\u001b[0;34m\u001b[0m\u001b[0;34m\u001b[0m\u001b[0m\n\u001b[1;32m    197\u001b[0m         \u001b[0;34m.\u001b[0m\u001b[0mapply\u001b[0m\u001b[0;34m(\u001b[0m\u001b[0;32mlambda\u001b[0m \u001b[0mx\u001b[0m\u001b[0;34m:\u001b[0m \u001b[0;34m[\u001b[0m\u001b[0;32mTrue\u001b[0m \u001b[0;32mif\u001b[0m \u001b[0mi\u001b[0m \u001b[0;34m==\u001b[0m \u001b[0;34m\"1\"\u001b[0m \u001b[0;32melse\u001b[0m \u001b[0;32mFalse\u001b[0m \u001b[0;32mfor\u001b[0m \u001b[0mi\u001b[0m \u001b[0;32min\u001b[0m \u001b[0mx\u001b[0m\u001b[0;34m]\u001b[0m\u001b[0;34m)\u001b[0m\u001b[0;34m\u001b[0m\u001b[0;34m\u001b[0m\u001b[0m\n",
      "\u001b[0;32m~/.local/miniconda/envs/kissim-app-dev/lib/python3.9/site-packages/pandas/core/frame.py\u001b[0m in \u001b[0;36m__getitem__\u001b[0;34m(self, key)\u001b[0m\n\u001b[1;32m   3456\u001b[0m             \u001b[0;32mif\u001b[0m \u001b[0mself\u001b[0m\u001b[0;34m.\u001b[0m\u001b[0mcolumns\u001b[0m\u001b[0;34m.\u001b[0m\u001b[0mnlevels\u001b[0m \u001b[0;34m>\u001b[0m \u001b[0;36m1\u001b[0m\u001b[0;34m:\u001b[0m\u001b[0;34m\u001b[0m\u001b[0;34m\u001b[0m\u001b[0m\n\u001b[1;32m   3457\u001b[0m                 \u001b[0;32mreturn\u001b[0m \u001b[0mself\u001b[0m\u001b[0;34m.\u001b[0m\u001b[0m_getitem_multilevel\u001b[0m\u001b[0;34m(\u001b[0m\u001b[0mkey\u001b[0m\u001b[0;34m)\u001b[0m\u001b[0;34m\u001b[0m\u001b[0;34m\u001b[0m\u001b[0m\n\u001b[0;32m-> 3458\u001b[0;31m             \u001b[0mindexer\u001b[0m \u001b[0;34m=\u001b[0m \u001b[0mself\u001b[0m\u001b[0;34m.\u001b[0m\u001b[0mcolumns\u001b[0m\u001b[0;34m.\u001b[0m\u001b[0mget_loc\u001b[0m\u001b[0;34m(\u001b[0m\u001b[0mkey\u001b[0m\u001b[0;34m)\u001b[0m\u001b[0;34m\u001b[0m\u001b[0;34m\u001b[0m\u001b[0m\n\u001b[0m\u001b[1;32m   3459\u001b[0m             \u001b[0;32mif\u001b[0m \u001b[0mis_integer\u001b[0m\u001b[0;34m(\u001b[0m\u001b[0mindexer\u001b[0m\u001b[0;34m)\u001b[0m\u001b[0;34m:\u001b[0m\u001b[0;34m\u001b[0m\u001b[0;34m\u001b[0m\u001b[0m\n\u001b[1;32m   3460\u001b[0m                 \u001b[0mindexer\u001b[0m \u001b[0;34m=\u001b[0m \u001b[0;34m[\u001b[0m\u001b[0mindexer\u001b[0m\u001b[0;34m]\u001b[0m\u001b[0;34m\u001b[0m\u001b[0;34m\u001b[0m\u001b[0m\n",
      "\u001b[0;32m~/.local/miniconda/envs/kissim-app-dev/lib/python3.9/site-packages/pandas/core/indexes/base.py\u001b[0m in \u001b[0;36mget_loc\u001b[0;34m(self, key, method, tolerance)\u001b[0m\n\u001b[1;32m   3361\u001b[0m                 \u001b[0;32mreturn\u001b[0m \u001b[0mself\u001b[0m\u001b[0;34m.\u001b[0m\u001b[0m_engine\u001b[0m\u001b[0;34m.\u001b[0m\u001b[0mget_loc\u001b[0m\u001b[0;34m(\u001b[0m\u001b[0mcasted_key\u001b[0m\u001b[0;34m)\u001b[0m\u001b[0;34m\u001b[0m\u001b[0;34m\u001b[0m\u001b[0m\n\u001b[1;32m   3362\u001b[0m             \u001b[0;32mexcept\u001b[0m \u001b[0mKeyError\u001b[0m \u001b[0;32mas\u001b[0m \u001b[0merr\u001b[0m\u001b[0;34m:\u001b[0m\u001b[0;34m\u001b[0m\u001b[0;34m\u001b[0m\u001b[0m\n\u001b[0;32m-> 3363\u001b[0;31m                 \u001b[0;32mraise\u001b[0m \u001b[0mKeyError\u001b[0m\u001b[0;34m(\u001b[0m\u001b[0mkey\u001b[0m\u001b[0;34m)\u001b[0m \u001b[0;32mfrom\u001b[0m \u001b[0merr\u001b[0m\u001b[0;34m\u001b[0m\u001b[0;34m\u001b[0m\u001b[0m\n\u001b[0m\u001b[1;32m   3364\u001b[0m \u001b[0;34m\u001b[0m\u001b[0m\n\u001b[1;32m   3365\u001b[0m         \u001b[0;32mif\u001b[0m \u001b[0mis_scalar\u001b[0m\u001b[0;34m(\u001b[0m\u001b[0mkey\u001b[0m\u001b[0;34m)\u001b[0m \u001b[0;32mand\u001b[0m \u001b[0misna\u001b[0m\u001b[0;34m(\u001b[0m\u001b[0mkey\u001b[0m\u001b[0;34m)\u001b[0m \u001b[0;32mand\u001b[0m \u001b[0;32mnot\u001b[0m \u001b[0mself\u001b[0m\u001b[0;34m.\u001b[0m\u001b[0mhasnans\u001b[0m\u001b[0;34m:\u001b[0m\u001b[0;34m\u001b[0m\u001b[0;34m\u001b[0m\u001b[0m\n",
      "\u001b[0;31mKeyError\u001b[0m: 'interaction.fingerprint'"
     ]
    }
   ],
   "source": [
    "# Reduced dataset\n",
    "kinase_df = data.distances.load(\n",
    "    KINASE_DISTANCES_METHOD, structure_kinase_mapping_by=\"minimum\", kinmap_kinases=True\n",
    ")\n",
    "print(f\"Kinase distance matrix shape: {kinase_df.shape}\")\n",
    "kinase_df.iloc[:5, :5]"
   ]
  },
  {
   "cell_type": "markdown",
   "metadata": {},
   "source": [
    "## Kinase-ligand profiling dataset\n",
    "\n",
    "__Criteria__:\n",
    "\n",
    "- Load dataset with FDA-approved PKIDB ligands only.\n",
    "- Filters out ligands whose names cannot be mapped onto PKIDB ligand names."
   ]
  },
  {
   "cell_type": "code",
   "execution_count": 9,
   "metadata": {
    "execution": {
     "iopub.execute_input": "2021-09-16T19:49:38.565837Z",
     "iopub.status.busy": "2021-09-16T19:49:38.565366Z",
     "iopub.status.idle": "2021-09-16T19:49:38.794280Z",
     "shell.execute_reply": "2021-09-16T19:49:38.793956Z"
    }
   },
   "outputs": [
    {
     "name": "stdout",
     "output_type": "stream",
     "text": [
      "Number of kinases (full dataset): 353\n",
      "Number of ligands (full dataset): 80\n"
     ]
    }
   ],
   "source": [
    "# Full dataset (reported only, not further used)\n",
    "profiling_df = data.profiling.load(LIGAND_PROFILING_METHOD)\n",
    "print(f\"Number of kinases (full dataset): {profiling_df.shape[0]}\")\n",
    "print(f\"Number of ligands (full dataset): {profiling_df.shape[1]}\")"
   ]
  },
  {
   "cell_type": "code",
   "execution_count": 10,
   "metadata": {
    "execution": {
     "iopub.execute_input": "2021-09-16T19:49:38.797050Z",
     "iopub.status.busy": "2021-09-16T19:49:38.796571Z",
     "iopub.status.idle": "2021-09-16T19:49:39.295613Z",
     "shell.execute_reply": "2021-09-16T19:49:39.295298Z"
    }
   },
   "outputs": [
    {
     "name": "stderr",
     "output_type": "stream",
     "text": [
      "Changed ligand names (unknown names may be discarded - see function docstring):\n",
      "           ligand.input            ligand.pkidb\n",
      "0         Staurosporine  unknown (not in PKIDB)\n",
      "1           JNJ-7706621  unknown (not in PKIDB)\n",
      "2              MLN-8054  unknown (not in PKIDB)\n",
      "3               PKC-412             Midostaurin\n",
      "4              SU-14813  unknown (not in PKIDB)\n",
      "5             SB-202190  unknown (not in PKIDB)\n",
      "6             CP-724714  unknown (not in PKIDB)\n",
      "7        VX-680/MK-0457  unknown (not in PKIDB)\n",
      "9   Roscovitine/CYC-202  unknown (not in PKIDB)\n",
      "10            SB-203580  unknown (not in PKIDB)\n",
      "12            CP-690550             Tofacitinib\n",
      "14              GW-2580  unknown (not in PKIDB)\n",
      "16            GW-786034  unknown (not in PKIDB)\n",
      "18               VX-745            Neflamapimod\n",
      "19            SB-431542  unknown (not in PKIDB)\n",
      "20              ZD-6474              Vandetanib\n",
      "22         Flavopiridol  unknown (not in PKIDB)\n",
      "24              MLN-518              Tandutinib\n",
      "25            LY-333531           Ruboxistaurin\n",
      "26              CI-1033              Canertinib\n",
      "27              EKB-569               Pelitinib\n",
      "28               PI-103  unknown (not in PKIDB)\n",
      "29              PTK-787               Vatalanib\n",
      "Changed ligand names (unknown names may be discarded - see function docstring):\n",
      "         ligand.input            ligand.pkidb\n",
      "0           TG-101348              Fedratinib\n",
      "1           SB-203580  unknown (not in PKIDB)\n",
      "3    CHIR-265/RAF-265  unknown (not in PKIDB)\n",
      "4        AZD-1152HQPA  unknown (not in PKIDB)\n",
      "5            MLN-8054  unknown (not in PKIDB)\n",
      "..                ...                     ...\n",
      "67          LY-333531           Ruboxistaurin\n",
      "68            CI-1033              Canertinib\n",
      "69  AZD-6244/ARRY-886  unknown (not in PKIDB)\n",
      "70             PI-103  unknown (not in PKIDB)\n",
      "71           AZD-2171               Cediranib\n",
      "\n",
      "[61 rows x 2 columns]\n"
     ]
    },
    {
     "name": "stdout",
     "output_type": "stream",
     "text": [
      "Number of kinases (FDA-approved PKIDB ligands only): 353\n",
      "Number of ligands (FDA-approved PKIDB ligands only): 34\n"
     ]
    },
    {
     "data": {
      "text/html": [
       "<div>\n",
       "<style scoped>\n",
       "    .dataframe tbody tr th:only-of-type {\n",
       "        vertical-align: middle;\n",
       "    }\n",
       "\n",
       "    .dataframe tbody tr th {\n",
       "        vertical-align: top;\n",
       "    }\n",
       "\n",
       "    .dataframe thead th {\n",
       "        text-align: right;\n",
       "    }\n",
       "</style>\n",
       "<table border=\"1\" class=\"dataframe\">\n",
       "  <thead>\n",
       "    <tr style=\"text-align: right;\">\n",
       "      <th></th>\n",
       "      <th>Midostaurin</th>\n",
       "      <th>Dasatinib</th>\n",
       "      <th>Gefitinib</th>\n",
       "      <th>Tofacitinib</th>\n",
       "      <th>Imatinib</th>\n",
       "      <th>Lapatinib</th>\n",
       "      <th>Sorafenib</th>\n",
       "      <th>Neflamapimod</th>\n",
       "      <th>Vandetanib</th>\n",
       "      <th>Sunitinib</th>\n",
       "      <th>...</th>\n",
       "      <th>Crizotinib</th>\n",
       "      <th>Motesanib</th>\n",
       "      <th>Doramapimod</th>\n",
       "      <th>Enzastaurin</th>\n",
       "      <th>Lestaurtinib</th>\n",
       "      <th>Pazopanib</th>\n",
       "      <th>Pictilisib</th>\n",
       "      <th>Bosutinib</th>\n",
       "      <th>Afatinib</th>\n",
       "      <th>Cediranib</th>\n",
       "    </tr>\n",
       "  </thead>\n",
       "  <tbody>\n",
       "    <tr>\n",
       "      <th>AAK1</th>\n",
       "      <td>48.0</td>\n",
       "      <td>NaN</td>\n",
       "      <td>NaN</td>\n",
       "      <td>NaN</td>\n",
       "      <td>NaN</td>\n",
       "      <td>NaN</td>\n",
       "      <td>NaN</td>\n",
       "      <td>NaN</td>\n",
       "      <td>NaN</td>\n",
       "      <td>11.0</td>\n",
       "      <td>...</td>\n",
       "      <td>2300.0</td>\n",
       "      <td>NaN</td>\n",
       "      <td>NaN</td>\n",
       "      <td>2700.0</td>\n",
       "      <td>3.1</td>\n",
       "      <td>2900.0</td>\n",
       "      <td>9100.0</td>\n",
       "      <td>2300.000</td>\n",
       "      <td>NaN</td>\n",
       "      <td>NaN</td>\n",
       "    </tr>\n",
       "    <tr>\n",
       "      <th>ABL1</th>\n",
       "      <td>NaN</td>\n",
       "      <td>0.046</td>\n",
       "      <td>480.0</td>\n",
       "      <td>NaN</td>\n",
       "      <td>12.0</td>\n",
       "      <td>NaN</td>\n",
       "      <td>680.0</td>\n",
       "      <td>730.0</td>\n",
       "      <td>16.0</td>\n",
       "      <td>150.0</td>\n",
       "      <td>...</td>\n",
       "      <td>110.0</td>\n",
       "      <td>6700.0</td>\n",
       "      <td>NaN</td>\n",
       "      <td>NaN</td>\n",
       "      <td>1000.0</td>\n",
       "      <td>650.0</td>\n",
       "      <td>NaN</td>\n",
       "      <td>0.057</td>\n",
       "      <td>570.0</td>\n",
       "      <td>78.0</td>\n",
       "    </tr>\n",
       "    <tr>\n",
       "      <th>ABL2</th>\n",
       "      <td>NaN</td>\n",
       "      <td>0.170</td>\n",
       "      <td>1600.0</td>\n",
       "      <td>NaN</td>\n",
       "      <td>10.0</td>\n",
       "      <td>NaN</td>\n",
       "      <td>2900.0</td>\n",
       "      <td>1900.0</td>\n",
       "      <td>69.0</td>\n",
       "      <td>1000.0</td>\n",
       "      <td>...</td>\n",
       "      <td>460.0</td>\n",
       "      <td>4500.0</td>\n",
       "      <td>1300.0</td>\n",
       "      <td>NaN</td>\n",
       "      <td>6500.0</td>\n",
       "      <td>3000.0</td>\n",
       "      <td>NaN</td>\n",
       "      <td>1.500</td>\n",
       "      <td>NaN</td>\n",
       "      <td>730.0</td>\n",
       "    </tr>\n",
       "    <tr>\n",
       "      <th>ACK</th>\n",
       "      <td>120.0</td>\n",
       "      <td>5.600</td>\n",
       "      <td>NaN</td>\n",
       "      <td>NaN</td>\n",
       "      <td>NaN</td>\n",
       "      <td>NaN</td>\n",
       "      <td>NaN</td>\n",
       "      <td>NaN</td>\n",
       "      <td>NaN</td>\n",
       "      <td>8900.0</td>\n",
       "      <td>...</td>\n",
       "      <td>760.0</td>\n",
       "      <td>NaN</td>\n",
       "      <td>NaN</td>\n",
       "      <td>NaN</td>\n",
       "      <td>6.6</td>\n",
       "      <td>NaN</td>\n",
       "      <td>NaN</td>\n",
       "      <td>29.000</td>\n",
       "      <td>NaN</td>\n",
       "      <td>NaN</td>\n",
       "    </tr>\n",
       "    <tr>\n",
       "      <th>ACTR2</th>\n",
       "      <td>NaN</td>\n",
       "      <td>210.000</td>\n",
       "      <td>NaN</td>\n",
       "      <td>NaN</td>\n",
       "      <td>NaN</td>\n",
       "      <td>NaN</td>\n",
       "      <td>NaN</td>\n",
       "      <td>NaN</td>\n",
       "      <td>NaN</td>\n",
       "      <td>NaN</td>\n",
       "      <td>...</td>\n",
       "      <td>NaN</td>\n",
       "      <td>NaN</td>\n",
       "      <td>NaN</td>\n",
       "      <td>NaN</td>\n",
       "      <td>2500.0</td>\n",
       "      <td>NaN</td>\n",
       "      <td>NaN</td>\n",
       "      <td>NaN</td>\n",
       "      <td>NaN</td>\n",
       "      <td>NaN</td>\n",
       "    </tr>\n",
       "  </tbody>\n",
       "</table>\n",
       "<p>5 rows × 34 columns</p>\n",
       "</div>"
      ],
      "text/plain": [
       "       Midostaurin  Dasatinib  Gefitinib  Tofacitinib  Imatinib  Lapatinib  \\\n",
       "AAK1          48.0        NaN        NaN          NaN       NaN        NaN   \n",
       "ABL1           NaN      0.046      480.0          NaN      12.0        NaN   \n",
       "ABL2           NaN      0.170     1600.0          NaN      10.0        NaN   \n",
       "ACK          120.0      5.600        NaN          NaN       NaN        NaN   \n",
       "ACTR2          NaN    210.000        NaN          NaN       NaN        NaN   \n",
       "\n",
       "       Sorafenib  Neflamapimod  Vandetanib  Sunitinib  ...  Crizotinib  \\\n",
       "AAK1         NaN           NaN         NaN       11.0  ...      2300.0   \n",
       "ABL1       680.0         730.0        16.0      150.0  ...       110.0   \n",
       "ABL2      2900.0        1900.0        69.0     1000.0  ...       460.0   \n",
       "ACK          NaN           NaN         NaN     8900.0  ...       760.0   \n",
       "ACTR2        NaN           NaN         NaN        NaN  ...         NaN   \n",
       "\n",
       "       Motesanib  Doramapimod  Enzastaurin  Lestaurtinib  Pazopanib  \\\n",
       "AAK1         NaN          NaN       2700.0           3.1     2900.0   \n",
       "ABL1      6700.0          NaN          NaN        1000.0      650.0   \n",
       "ABL2      4500.0       1300.0          NaN        6500.0     3000.0   \n",
       "ACK          NaN          NaN          NaN           6.6        NaN   \n",
       "ACTR2        NaN          NaN          NaN        2500.0        NaN   \n",
       "\n",
       "       Pictilisib  Bosutinib  Afatinib  Cediranib  \n",
       "AAK1       9100.0   2300.000       NaN        NaN  \n",
       "ABL1          NaN      0.057     570.0       78.0  \n",
       "ABL2          NaN      1.500       NaN      730.0  \n",
       "ACK           NaN     29.000       NaN        NaN  \n",
       "ACTR2         NaN        NaN       NaN        NaN  \n",
       "\n",
       "[5 rows x 34 columns]"
      ]
     },
     "execution_count": 10,
     "metadata": {},
     "output_type": "execute_result"
    }
   ],
   "source": [
    "# Reduced dataset\n",
    "profiling_df = data.profiling.load(LIGAND_PROFILING_METHOD, pkidb_ligands=True, fda_approved=True)\n",
    "print(f\"Number of kinases (FDA-approved PKIDB ligands only): {profiling_df.shape[0]}\")\n",
    "print(f\"Number of ligands (FDA-approved PKIDB ligands only): {profiling_df.shape[1]}\")\n",
    "profiling_df.head()"
   ]
  },
  {
   "cell_type": "code",
   "execution_count": 11,
   "metadata": {
    "execution": {
     "iopub.execute_input": "2021-09-16T19:49:39.298319Z",
     "iopub.status.busy": "2021-09-16T19:49:39.297837Z",
     "iopub.status.idle": "2021-09-16T19:49:39.524153Z",
     "shell.execute_reply": "2021-09-16T19:49:39.523880Z"
    }
   },
   "outputs": [
    {
     "data": {
      "image/png": "[encoded data removed]",
      "text/plain": [
       "<Figure size 576x396 with 1 Axes>"
      ]
     },
     "metadata": {},
     "output_type": "display_data"
    }
   ],
   "source": [
    "profiling_df.count().sort_values().plot(kind=\"barh\");"
   ]
  },
  {
   "cell_type": "markdown",
   "metadata": {},
   "source": [
    "## Ligands' on-targets dataset\n",
    "\n",
    "__Criteria__: \n",
    "\n",
    "- Filters out ligands that are not available in the PKIDB or have no targets in the PKIDB.\n",
    "- Filters out targets whose names cannot be mapped onto KinMap names"
   ]
  },
  {
   "cell_type": "code",
   "execution_count": 12,
   "metadata": {
    "execution": {
     "iopub.execute_input": "2021-09-16T19:49:39.526563Z",
     "iopub.status.busy": "2021-09-16T19:49:39.526230Z",
     "iopub.status.idle": "2021-09-16T19:49:40.114103Z",
     "shell.execute_reply": "2021-09-16T19:49:40.114368Z"
    },
    "tags": []
   },
   "outputs": [
    {
     "name": "stderr",
     "output_type": "stream",
     "text": [
      "Changed kinase names (unknown names may be discarded - see function docstring):\n",
      "    kinase.input            kinase.kinmap\n",
      "0            nan  unknown (not in KinMap)\n",
      "3          EPHA2                    EphA2\n",
      "5           YES1                      YES\n",
      "7         PDGFRB                   PDGFRb\n",
      "17         NTRK1                     TRKA\n",
      "18         CSF1R                      FMS\n",
      "19        PDGFRA                   PDGFRa\n",
      "22        PDGFRB                   PDGFRb\n",
      "24         ERBB2                    ErbB2\n",
      "30        PDGFRB                   PDGFRb\n",
      "35        MAPK14                     p38a\n",
      "36         VEGFA  unknown (not in KinMap)\n",
      "38          PTK6                      BRK\n",
      "39           TEK                     TIE2\n",
      "41        PDGFRB                   PDGFRb\n",
      "47         CSF1R                      FMS\n",
      "48        PDGFRA                   PDGFRa\n",
      "50         NR1I2  unknown (not in KinMap)\n",
      "52         PDGFD  unknown (not in KinMap)\n",
      "53           nan  unknown (not in KinMap)\n",
      "56         ERBB2                    ErbB2\n",
      "69         CSF1R                      FMS\n",
      "72         CSF1R                      FMS\n",
      "74         ERBB2                    ErbB2\n",
      "77        PDGFRA                   PDGFRa\n",
      "78        PDGFRB                   PDGFRb\n",
      "88        PDGFRA                   PDGFRa\n",
      "89        PDGFRB                   PDGFRb\n",
      "92        MAPK14                     p38a\n",
      "93           nan  unknown (not in KinMap)\n",
      "98        PDGFRA                   PDGFRa\n",
      "99        PDGFRB                   PDGFRb\n",
      "104       PIK3CA  unknown (not in KinMap)\n",
      "105       PIK3CB  unknown (not in KinMap)\n",
      "106       PIK3CD  unknown (not in KinMap)\n",
      "107       PIK3CG  unknown (not in KinMap)\n",
      "117       CAMK2G                   CaMK2g\n",
      "119        ERBB2                    ErbB2\n",
      "120        ERBB4                    ErbB4\n"
     ]
    },
    {
     "data": {
      "text/html": [
       "<div>\n",
       "<style scoped>\n",
       "    .dataframe tbody tr th:only-of-type {\n",
       "        vertical-align: middle;\n",
       "    }\n",
       "\n",
       "    .dataframe tbody tr th {\n",
       "        vertical-align: top;\n",
       "    }\n",
       "\n",
       "    .dataframe thead th {\n",
       "        text-align: right;\n",
       "    }\n",
       "</style>\n",
       "<table border=\"1\" class=\"dataframe\">\n",
       "  <thead>\n",
       "    <tr style=\"text-align: right;\">\n",
       "      <th></th>\n",
       "      <th>ligand.input</th>\n",
       "      <th>targets.pkidb</th>\n",
       "      <th>targets.kinmap</th>\n",
       "    </tr>\n",
       "  </thead>\n",
       "  <tbody>\n",
       "    <tr>\n",
       "      <th>0</th>\n",
       "      <td>Lestaurtinib</td>\n",
       "      <td>[FLT3]</td>\n",
       "      <td>[FLT3]</td>\n",
       "    </tr>\n",
       "    <tr>\n",
       "      <th>1</th>\n",
       "      <td>Tandutinib</td>\n",
       "      <td>[FLT3]</td>\n",
       "      <td>[FLT3]</td>\n",
       "    </tr>\n",
       "    <tr>\n",
       "      <th>2</th>\n",
       "      <td>Brivanib</td>\n",
       "      <td>[KDR]</td>\n",
       "      <td>[KDR]</td>\n",
       "    </tr>\n",
       "    <tr>\n",
       "      <th>3</th>\n",
       "      <td>Canertinib</td>\n",
       "      <td>[EGFR]</td>\n",
       "      <td>[EGFR]</td>\n",
       "    </tr>\n",
       "    <tr>\n",
       "      <th>4</th>\n",
       "      <td>Cediranib</td>\n",
       "      <td>[KDR]</td>\n",
       "      <td>[KDR]</td>\n",
       "    </tr>\n",
       "    <tr>\n",
       "      <th>5</th>\n",
       "      <td>Doramapimod</td>\n",
       "      <td>[MAPK14]</td>\n",
       "      <td>[p38a]</td>\n",
       "    </tr>\n",
       "    <tr>\n",
       "      <th>6</th>\n",
       "      <td>Erlotinib</td>\n",
       "      <td>[EGFR]</td>\n",
       "      <td>[EGFR]</td>\n",
       "    </tr>\n",
       "    <tr>\n",
       "      <th>7</th>\n",
       "      <td>Gefitinib</td>\n",
       "      <td>[EGFR]</td>\n",
       "      <td>[EGFR]</td>\n",
       "    </tr>\n",
       "    <tr>\n",
       "      <th>8</th>\n",
       "      <td>Neflamapimod</td>\n",
       "      <td>[MAPK14]</td>\n",
       "      <td>[p38a]</td>\n",
       "    </tr>\n",
       "    <tr>\n",
       "      <th>9</th>\n",
       "      <td>Crizotinib</td>\n",
       "      <td>[ALK, MET]</td>\n",
       "      <td>[ALK, MET]</td>\n",
       "    </tr>\n",
       "    <tr>\n",
       "      <th>10</th>\n",
       "      <td>Pelitinib</td>\n",
       "      <td>[EGFR, ERBB2]</td>\n",
       "      <td>[EGFR, ErbB2]</td>\n",
       "    </tr>\n",
       "    <tr>\n",
       "      <th>11</th>\n",
       "      <td>Nilotinib</td>\n",
       "      <td>[ABL1, KIT]</td>\n",
       "      <td>[ABL1, KIT]</td>\n",
       "    </tr>\n",
       "    <tr>\n",
       "      <th>12</th>\n",
       "      <td>Neratinib</td>\n",
       "      <td>[ERBB2, EGFR]</td>\n",
       "      <td>[ErbB2, EGFR]</td>\n",
       "    </tr>\n",
       "    <tr>\n",
       "      <th>13</th>\n",
       "      <td>Lapatinib</td>\n",
       "      <td>[EGFR, ERBB2]</td>\n",
       "      <td>[EGFR, ErbB2]</td>\n",
       "    </tr>\n",
       "    <tr>\n",
       "      <th>14</th>\n",
       "      <td>Quizartinib</td>\n",
       "      <td>[FLT3, CSF1R, KIT]</td>\n",
       "      <td>[FLT3, FMS, KIT]</td>\n",
       "    </tr>\n",
       "    <tr>\n",
       "      <th>15</th>\n",
       "      <td>Afatinib</td>\n",
       "      <td>[EGFR, ERBB2, ERBB4]</td>\n",
       "      <td>[EGFR, ErbB2, ErbB4]</td>\n",
       "    </tr>\n",
       "    <tr>\n",
       "      <th>16</th>\n",
       "      <td>Fedratinib</td>\n",
       "      <td>[JAK2, FLT3, BRD4]</td>\n",
       "      <td>[JAK2, FLT3, BRD4]</td>\n",
       "    </tr>\n",
       "    <tr>\n",
       "      <th>17</th>\n",
       "      <td>Axitinib</td>\n",
       "      <td>[FLT1, KDR, FLT4]</td>\n",
       "      <td>[FLT1, KDR, FLT4]</td>\n",
       "    </tr>\n",
       "    <tr>\n",
       "      <th>18</th>\n",
       "      <td>Linifanib</td>\n",
       "      <td>[FLT3, CSF1R, KDR]</td>\n",
       "      <td>[FLT3, FMS, KDR]</td>\n",
       "    </tr>\n",
       "    <tr>\n",
       "      <th>19</th>\n",
       "      <td>Vatalanib</td>\n",
       "      <td>[FLT1, KDR, FLT4]</td>\n",
       "      <td>[FLT1, KDR, FLT4]</td>\n",
       "    </tr>\n",
       "    <tr>\n",
       "      <th>20</th>\n",
       "      <td>Vandetanib</td>\n",
       "      <td>[EGFR, PTK6, TEK, RET]</td>\n",
       "      <td>[EGFR, BRK, TIE2, RET]</td>\n",
       "    </tr>\n",
       "    <tr>\n",
       "      <th>21</th>\n",
       "      <td>Tofacitinib</td>\n",
       "      <td>[JAK1, JAK2, JAK3, TYK2]</td>\n",
       "      <td>[JAK1, JAK2, JAK3, TYK2]</td>\n",
       "    </tr>\n",
       "    <tr>\n",
       "      <th>22</th>\n",
       "      <td>Masitinib</td>\n",
       "      <td>[KIT, PDGFRA, PDGFRB, FGFR1, FGFR2, FGFR3]</td>\n",
       "      <td>[KIT, PDGFRa, PDGFRb, FGFR1, FGFR2, FGFR3]</td>\n",
       "    </tr>\n",
       "    <tr>\n",
       "      <th>23</th>\n",
       "      <td>Motesanib</td>\n",
       "      <td>[FLT1, KDR, FLT4, PDGFRA, PDGFRB, KIT, RET]</td>\n",
       "      <td>[FLT1, KDR, FLT4, PDGFRa, PDGFRb, KIT, RET]</td>\n",
       "    </tr>\n",
       "    <tr>\n",
       "      <th>24</th>\n",
       "      <td>Imatinib</td>\n",
       "      <td>[KIT, RET, NTRK1, CSF1R, PDGFRA, DDR1, ABL1, PDGFRB]</td>\n",
       "      <td>[KIT, RET, TRKA, FMS, PDGFRa, DDR1, ABL1, PDGFRb]</td>\n",
       "    </tr>\n",
       "    <tr>\n",
       "      <th>25</th>\n",
       "      <td>Sunitinib</td>\n",
       "      <td>[PDGFRB, FLT1, KIT, KDR, FLT4, FLT3, CSF1R, PDGFRA]</td>\n",
       "      <td>[PDGFRb, FLT1, KIT, KDR, FLT4, FLT3, FMS, PDGFRa]</td>\n",
       "    </tr>\n",
       "    <tr>\n",
       "      <th>26</th>\n",
       "      <td>Pazopanib</td>\n",
       "      <td>[FLT1, KDR, FLT4, PDGFRA, PDGFRB, KIT, FGFR3, ITK, FGFR1]</td>\n",
       "      <td>[FLT1, KDR, FLT4, PDGFRa, PDGFRb, KIT, FGFR3, ITK, FGFR1]</td>\n",
       "    </tr>\n",
       "    <tr>\n",
       "      <th>27</th>\n",
       "      <td>Dasatinib</td>\n",
       "      <td>[ABL1, SRC, EPHA2, LCK, YES1, KIT, PDGFRB, ABL2, FYN]</td>\n",
       "      <td>[ABL1, SRC, EphA2, LCK, YES, KIT, PDGFRb, ABL2, FYN]</td>\n",
       "    </tr>\n",
       "    <tr>\n",
       "      <th>28</th>\n",
       "      <td>Bosutinib</td>\n",
       "      <td>[BCR, ABL1, LYN, HCK, SRC, CDK2, MAP2K1, MAP2K2, MAP3K2, CAMK2G]</td>\n",
       "      <td>[BCR, ABL1, LYN, HCK, SRC, CDK2, MAP2K1, MAP2K2, MAP3K2, CaMK2g]</td>\n",
       "    </tr>\n",
       "    <tr>\n",
       "      <th>29</th>\n",
       "      <td>Sorafenib</td>\n",
       "      <td>[BRAF, RAF1, FLT4, KDR, FLT3, PDGFRB, KIT, FGFR1, RET, FLT1]</td>\n",
       "      <td>[BRAF, RAF1, FLT4, KDR, FLT3, PDGFRb, KIT, FGFR1, RET, FLT1]</td>\n",
       "    </tr>\n",
       "  </tbody>\n",
       "</table>\n",
       "</div>"
      ],
      "text/plain": [
       "    ligand.input  \\\n",
       "0   Lestaurtinib   \n",
       "1     Tandutinib   \n",
       "2       Brivanib   \n",
       "3     Canertinib   \n",
       "4      Cediranib   \n",
       "5    Doramapimod   \n",
       "6      Erlotinib   \n",
       "7      Gefitinib   \n",
       "8   Neflamapimod   \n",
       "9     Crizotinib   \n",
       "10     Pelitinib   \n",
       "11     Nilotinib   \n",
       "12     Neratinib   \n",
       "13     Lapatinib   \n",
       "14   Quizartinib   \n",
       "15      Afatinib   \n",
       "16    Fedratinib   \n",
       "17      Axitinib   \n",
       "18     Linifanib   \n",
       "19     Vatalanib   \n",
       "20    Vandetanib   \n",
       "21   Tofacitinib   \n",
       "22     Masitinib   \n",
       "23     Motesanib   \n",
       "24      Imatinib   \n",
       "25     Sunitinib   \n",
       "26     Pazopanib   \n",
       "27     Dasatinib   \n",
       "28     Bosutinib   \n",
       "29     Sorafenib   \n",
       "\n",
       "                                                       targets.pkidb  \\\n",
       "0                                                             [FLT3]   \n",
       "1                                                             [FLT3]   \n",
       "2                                                              [KDR]   \n",
       "3                                                             [EGFR]   \n",
       "4                                                              [KDR]   \n",
       "5                                                           [MAPK14]   \n",
       "6                                                             [EGFR]   \n",
       "7                                                             [EGFR]   \n",
       "8                                                           [MAPK14]   \n",
       "9                                                         [ALK, MET]   \n",
       "10                                                     [EGFR, ERBB2]   \n",
       "11                                                       [ABL1, KIT]   \n",
       "12                                                     [ERBB2, EGFR]   \n",
       "13                                                     [EGFR, ERBB2]   \n",
       "14                                                [FLT3, CSF1R, KIT]   \n",
       "15                                              [EGFR, ERBB2, ERBB4]   \n",
       "16                                                [JAK2, FLT3, BRD4]   \n",
       "17                                                 [FLT1, KDR, FLT4]   \n",
       "18                                                [FLT3, CSF1R, KDR]   \n",
       "19                                                 [FLT1, KDR, FLT4]   \n",
       "20                                            [EGFR, PTK6, TEK, RET]   \n",
       "21                                          [JAK1, JAK2, JAK3, TYK2]   \n",
       "22                        [KIT, PDGFRA, PDGFRB, FGFR1, FGFR2, FGFR3]   \n",
       "23                       [FLT1, KDR, FLT4, PDGFRA, PDGFRB, KIT, RET]   \n",
       "24              [KIT, RET, NTRK1, CSF1R, PDGFRA, DDR1, ABL1, PDGFRB]   \n",
       "25               [PDGFRB, FLT1, KIT, KDR, FLT4, FLT3, CSF1R, PDGFRA]   \n",
       "26         [FLT1, KDR, FLT4, PDGFRA, PDGFRB, KIT, FGFR3, ITK, FGFR1]   \n",
       "27             [ABL1, SRC, EPHA2, LCK, YES1, KIT, PDGFRB, ABL2, FYN]   \n",
       "28  [BCR, ABL1, LYN, HCK, SRC, CDK2, MAP2K1, MAP2K2, MAP3K2, CAMK2G]   \n",
       "29      [BRAF, RAF1, FLT4, KDR, FLT3, PDGFRB, KIT, FGFR1, RET, FLT1]   \n",
       "\n",
       "                                                      targets.kinmap  \n",
       "0                                                             [FLT3]  \n",
       "1                                                             [FLT3]  \n",
       "2                                                              [KDR]  \n",
       "3                                                             [EGFR]  \n",
       "4                                                              [KDR]  \n",
       "5                                                             [p38a]  \n",
       "6                                                             [EGFR]  \n",
       "7                                                             [EGFR]  \n",
       "8                                                             [p38a]  \n",
       "9                                                         [ALK, MET]  \n",
       "10                                                     [EGFR, ErbB2]  \n",
       "11                                                       [ABL1, KIT]  \n",
       "12                                                     [ErbB2, EGFR]  \n",
       "13                                                     [EGFR, ErbB2]  \n",
       "14                                                  [FLT3, FMS, KIT]  \n",
       "15                                              [EGFR, ErbB2, ErbB4]  \n",
       "16                                                [JAK2, FLT3, BRD4]  \n",
       "17                                                 [FLT1, KDR, FLT4]  \n",
       "18                                                  [FLT3, FMS, KDR]  \n",
       "19                                                 [FLT1, KDR, FLT4]  \n",
       "20                                            [EGFR, BRK, TIE2, RET]  \n",
       "21                                          [JAK1, JAK2, JAK3, TYK2]  \n",
       "22                        [KIT, PDGFRa, PDGFRb, FGFR1, FGFR2, FGFR3]  \n",
       "23                       [FLT1, KDR, FLT4, PDGFRa, PDGFRb, KIT, RET]  \n",
       "24                 [KIT, RET, TRKA, FMS, PDGFRa, DDR1, ABL1, PDGFRb]  \n",
       "25                 [PDGFRb, FLT1, KIT, KDR, FLT4, FLT3, FMS, PDGFRa]  \n",
       "26         [FLT1, KDR, FLT4, PDGFRa, PDGFRb, KIT, FGFR3, ITK, FGFR1]  \n",
       "27              [ABL1, SRC, EphA2, LCK, YES, KIT, PDGFRb, ABL2, FYN]  \n",
       "28  [BCR, ABL1, LYN, HCK, SRC, CDK2, MAP2K1, MAP2K2, MAP3K2, CaMK2g]  \n",
       "29      [BRAF, RAF1, FLT4, KDR, FLT3, PDGFRb, KIT, FGFR1, RET, FLT1]  "
      ]
     },
     "execution_count": 12,
     "metadata": {},
     "output_type": "execute_result"
    }
   ],
   "source": [
    "pd.set_option(\"max_colwidth\", 100)\n",
    "ligand_names = profiling_df.columns\n",
    "ligand_targets = data.targets.pkidb(ligand_names, fda_approved=False)\n",
    "ligand_targets"
   ]
  },
  {
   "cell_type": "markdown",
   "metadata": {},
   "source": [
    "### Ligand-kinase datasets\n",
    "\n",
    "We merge now profiling and kinase similarity information into one dataset per ligand-kinase pair (_ligand-kinase dataset_). \n",
    "\n",
    "We only keep ligand-kinase pairs that\n",
    "- have a minimum of `MIN_N_SHARED_KINASES` shared kinases\n",
    "- have a minimum of `MIN_N_SHARED_ACTIVE_KINASES` shared active kinases, while activity is defined <= `KINASE_ACTIVITY_CUTOFF`"
   ]
  },
  {
   "cell_type": "markdown",
   "metadata": {},
   "source": [
    "Select ligand-kinase pairs with enough coverage."
   ]
  },
  {
   "cell_type": "code",
   "execution_count": 13,
   "metadata": {
    "execution": {
     "iopub.execute_input": "2021-09-16T19:49:40.116883Z",
     "iopub.status.busy": "2021-09-16T19:49:40.116422Z",
     "iopub.status.idle": "2021-09-16T19:49:40.130109Z",
     "shell.execute_reply": "2021-09-16T19:49:40.129779Z"
    },
    "tags": []
   },
   "outputs": [],
   "source": [
    "ligand_kinase_pairs = (\n",
    "    ligand_targets[[\"ligand.input\", \"targets.kinmap\"]]\n",
    "    .explode(\"targets.kinmap\")\n",
    "    .to_numpy()\n",
    "    .tolist()\n",
    ")"
   ]
  },
  {
   "cell_type": "markdown",
   "metadata": {},
   "source": [
    "## Evaluation metrics"
   ]
  },
  {
   "cell_type": "code",
   "execution_count": 14,
   "metadata": {
    "execution": {
     "iopub.execute_input": "2021-09-16T19:49:40.132725Z",
     "iopub.status.busy": "2021-09-16T19:49:40.132251Z",
     "iopub.status.idle": "2021-09-16T19:49:47.930254Z",
     "shell.execute_reply": "2021-09-16T19:49:47.929932Z"
    },
    "tags": []
   },
   "outputs": [
    {
     "name": "stderr",
     "output_type": "stream",
     "text": [
      "Changed ligand names (unknown names may be discarded - see function docstring):\n",
      "           ligand.input            ligand.pkidb\n",
      "0         Staurosporine  unknown (not in PKIDB)\n",
      "1           JNJ-7706621  unknown (not in PKIDB)\n",
      "2              MLN-8054  unknown (not in PKIDB)\n",
      "3               PKC-412             Midostaurin\n",
      "4              SU-14813  unknown (not in PKIDB)\n",
      "5             SB-202190  unknown (not in PKIDB)\n",
      "6             CP-724714  unknown (not in PKIDB)\n",
      "7        VX-680/MK-0457  unknown (not in PKIDB)\n",
      "9   Roscovitine/CYC-202  unknown (not in PKIDB)\n",
      "10            SB-203580  unknown (not in PKIDB)\n",
      "12            CP-690550             Tofacitinib\n",
      "14              GW-2580  unknown (not in PKIDB)\n",
      "16            GW-786034  unknown (not in PKIDB)\n",
      "18               VX-745            Neflamapimod\n",
      "19            SB-431542  unknown (not in PKIDB)\n",
      "20              ZD-6474              Vandetanib\n",
      "22         Flavopiridol  unknown (not in PKIDB)\n",
      "24              MLN-518              Tandutinib\n",
      "25            LY-333531           Ruboxistaurin\n",
      "26              CI-1033              Canertinib\n",
      "27              EKB-569               Pelitinib\n",
      "28               PI-103  unknown (not in PKIDB)\n",
      "29              PTK-787               Vatalanib\n",
      "Changed ligand names (unknown names may be discarded - see function docstring):\n",
      "         ligand.input            ligand.pkidb\n",
      "0           TG-101348              Fedratinib\n",
      "1           SB-203580  unknown (not in PKIDB)\n",
      "3    CHIR-265/RAF-265  unknown (not in PKIDB)\n",
      "4        AZD-1152HQPA  unknown (not in PKIDB)\n",
      "5            MLN-8054  unknown (not in PKIDB)\n",
      "..                ...                     ...\n",
      "67          LY-333531           Ruboxistaurin\n",
      "68            CI-1033              Canertinib\n",
      "69  AZD-6244/ARRY-886  unknown (not in PKIDB)\n",
      "70             PI-103  unknown (not in PKIDB)\n",
      "71           AZD-2171               Cediranib\n",
      "\n",
      "[61 rows x 2 columns]\n"
     ]
    },
    {
     "name": "stdout",
     "output_type": "stream",
     "text": [
      "       structure.klifs_id  \\\n",
      "0                       1   \n",
      "1                       3   \n",
      "2                       5   \n",
      "3                       6   \n",
      "4                       7   \n",
      "...                   ...   \n",
      "10515               13847   \n",
      "10516               13848   \n",
      "10517               13849   \n",
      "10518               13850   \n",
      "10519               13853   \n",
      "\n",
      "                                                                                   interaction.fingerprint  \n",
      "0      000000000000001000000000000000000000000000000000000000000000000000000010000000000000000000000000...  \n",
      "1      000000000000001000000000000000000000000000000000000000000000000000000010000000000000000000000000...  \n",
      "2      000000000000001000000000000000000000000000000000000000000000000000000010000000000000000000000000...  \n",
      "3      000000000000001000000100000000000000000000000000000000000000000000000010000000000000000000000000...  \n",
      "4      000000000000001000100100000000000000000000000000000000000000000000000010000000000000000000000000...  \n",
      "...                                                                                                    ...  \n",
      "10515  000000000000001000000000000000000000000000000000000000000000000000000010000000000000000000000000...  \n",
      "10516  000000000000001000000000000000000000000000000000000000000000000000000010000000000000000000000000...  \n",
      "10517  000000000000001000000100000000000001000000000000000000000000000000000010000000000000000000000000...  \n",
      "10518  000000000000001000000100000010000000000000000000000000000000000000000010000000000000000000000000...  \n",
      "10519  000000000000001000000100000010000001000000000000000000001000000000000010000000000000000000000000...  \n",
      "\n",
      "[10520 rows x 2 columns]\n"
     ]
    },
    {
     "ename": "KeyError",
     "evalue": "'interaction.fingerprint'",
     "output_type": "error",
     "traceback": [
      "\u001b[0;31m---------------------------------------------------------------------------\u001b[0m",
      "\u001b[0;31mKeyError\u001b[0m                                  Traceback (most recent call last)",
      "\u001b[0;32m~/.local/miniconda/envs/kissim-app-dev/lib/python3.9/site-packages/pandas/core/indexes/base.py\u001b[0m in \u001b[0;36mget_loc\u001b[0;34m(self, key, method, tolerance)\u001b[0m\n\u001b[1;32m   3360\u001b[0m             \u001b[0;32mtry\u001b[0m\u001b[0;34m:\u001b[0m\u001b[0;34m\u001b[0m\u001b[0;34m\u001b[0m\u001b[0m\n\u001b[0;32m-> 3361\u001b[0;31m                 \u001b[0;32mreturn\u001b[0m \u001b[0mself\u001b[0m\u001b[0;34m.\u001b[0m\u001b[0m_engine\u001b[0m\u001b[0;34m.\u001b[0m\u001b[0mget_loc\u001b[0m\u001b[0;34m(\u001b[0m\u001b[0mcasted_key\u001b[0m\u001b[0;34m)\u001b[0m\u001b[0;34m\u001b[0m\u001b[0;34m\u001b[0m\u001b[0m\n\u001b[0m\u001b[1;32m   3362\u001b[0m             \u001b[0;32mexcept\u001b[0m \u001b[0mKeyError\u001b[0m \u001b[0;32mas\u001b[0m \u001b[0merr\u001b[0m\u001b[0;34m:\u001b[0m\u001b[0;34m\u001b[0m\u001b[0;34m\u001b[0m\u001b[0m\n",
      "\u001b[0;32m~/.local/miniconda/envs/kissim-app-dev/lib/python3.9/site-packages/pandas/_libs/index.pyx\u001b[0m in \u001b[0;36mpandas._libs.index.IndexEngine.get_loc\u001b[0;34m()\u001b[0m\n",
      "\u001b[0;32m~/.local/miniconda/envs/kissim-app-dev/lib/python3.9/site-packages/pandas/_libs/index.pyx\u001b[0m in \u001b[0;36mpandas._libs.index.IndexEngine.get_loc\u001b[0;34m()\u001b[0m\n",
      "\u001b[0;32mpandas/_libs/hashtable_class_helper.pxi\u001b[0m in \u001b[0;36mpandas._libs.hashtable.PyObjectHashTable.get_item\u001b[0;34m()\u001b[0m\n",
      "\u001b[0;32mpandas/_libs/hashtable_class_helper.pxi\u001b[0m in \u001b[0;36mpandas._libs.hashtable.PyObjectHashTable.get_item\u001b[0;34m()\u001b[0m\n",
      "\u001b[0;31mKeyError\u001b[0m: 'interaction.fingerprint'",
      "\nThe above exception was the direct cause of the following exception:\n",
      "\u001b[0;31mKeyError\u001b[0m                                  Traceback (most recent call last)",
      "\u001b[0;32m/tmp/ipykernel_1805/3413324346.py\u001b[0m in \u001b[0;36m<module>\u001b[0;34m\u001b[0m\n\u001b[0;32m----> 1\u001b[0;31m evaluator = evaluation.LigandVsKinaseEvaluator(\n\u001b[0m\u001b[1;32m      2\u001b[0m     \u001b[0mligand_kinase_pairs\u001b[0m\u001b[0;34m,\u001b[0m\u001b[0;34m\u001b[0m\u001b[0;34m\u001b[0m\u001b[0m\n\u001b[1;32m      3\u001b[0m     \u001b[0mLIGAND_PROFILING_METHOD\u001b[0m\u001b[0;34m,\u001b[0m\u001b[0;34m\u001b[0m\u001b[0;34m\u001b[0m\u001b[0m\n\u001b[1;32m      4\u001b[0m     \u001b[0mKINASE_DISTANCES_METHOD\u001b[0m\u001b[0;34m,\u001b[0m\u001b[0;34m\u001b[0m\u001b[0;34m\u001b[0m\u001b[0m\n\u001b[1;32m      5\u001b[0m     \u001b[0mKINASE_ACTIVITY_CUTOFF\u001b[0m\u001b[0;34m,\u001b[0m\u001b[0;34m\u001b[0m\u001b[0;34m\u001b[0m\u001b[0m\n",
      "\u001b[0;32m~/Documents/GitHub/kissim_app/src/evaluation/ligand_vs_kinase_evaluator.py\u001b[0m in \u001b[0;36m__init__\u001b[0;34m(self, ligand_kinase_pairs, ligand_kinase_method, kinase_kinase_method, kinase_activity_cutoff, kinase_activity_max, min_n_shared_kinases, min_n_shared_active_kinases, pkidb_ligands, fda_approved, kinmap_kinases, kinase_kinase_path)\u001b[0m\n\u001b[1;32m     90\u001b[0m \u001b[0;34m\u001b[0m\u001b[0m\n\u001b[1;32m     91\u001b[0m         \u001b[0;31m# Get ligand-kinase and kinase-kinase matrices\u001b[0m\u001b[0;34m\u001b[0m\u001b[0;34m\u001b[0m\u001b[0m\n\u001b[0;32m---> 92\u001b[0;31m         ligand_kinase_matrix, kinase_kinase_matrix = self._load_datasets(\n\u001b[0m\u001b[1;32m     93\u001b[0m             \u001b[0mligand_kinase_method\u001b[0m\u001b[0;34m,\u001b[0m\u001b[0;34m\u001b[0m\u001b[0;34m\u001b[0m\u001b[0m\n\u001b[1;32m     94\u001b[0m             \u001b[0mkinase_kinase_method\u001b[0m\u001b[0;34m,\u001b[0m\u001b[0;34m\u001b[0m\u001b[0;34m\u001b[0m\u001b[0m\n",
      "\u001b[0;32m~/Documents/GitHub/kissim_app/src/evaluation/ligand_vs_kinase_evaluator.py\u001b[0m in \u001b[0;36m_load_datasets\u001b[0;34m(self, ligand_kinase_method, kinase_kinase_method, pkidb_ligands, fda_approved, kinmap_kinases, kinase_kinase_path)\u001b[0m\n\u001b[1;32m    153\u001b[0m         )\n\u001b[1;32m    154\u001b[0m \u001b[0;34m\u001b[0m\u001b[0m\n\u001b[0;32m--> 155\u001b[0;31m         kinase_kinase_matrix = data.distances.load(\n\u001b[0m\u001b[1;32m    156\u001b[0m             \u001b[0mkinase_kinase_method\u001b[0m\u001b[0;34m,\u001b[0m\u001b[0;34m\u001b[0m\u001b[0;34m\u001b[0m\u001b[0m\n\u001b[1;32m    157\u001b[0m             \u001b[0mkinmap_kinases\u001b[0m\u001b[0;34m=\u001b[0m\u001b[0mkinmap_kinases\u001b[0m\u001b[0;34m,\u001b[0m\u001b[0;34m\u001b[0m\u001b[0;34m\u001b[0m\u001b[0m\n",
      "\u001b[0;32m~/Documents/GitHub/kissim_app/src/data/distances.py\u001b[0m in \u001b[0;36mload\u001b[0;34m(dataset_name, structure_kinase_mapping_by, kinmap_kinases, distances_path, coverage_min)\u001b[0m\n\u001b[1;32m     62\u001b[0m         \u001b[0;32mreturn\u001b[0m \u001b[0mklifs_pocket_sequence\u001b[0m\u001b[0;34m(\u001b[0m\u001b[0mkinmap_kinases\u001b[0m\u001b[0;34m=\u001b[0m\u001b[0mkinmap_kinases\u001b[0m\u001b[0;34m)\u001b[0m\u001b[0;34m\u001b[0m\u001b[0;34m\u001b[0m\u001b[0m\n\u001b[1;32m     63\u001b[0m     \u001b[0;32melif\u001b[0m \u001b[0mdataset_name\u001b[0m \u001b[0;34m==\u001b[0m \u001b[0;34m\"klifs-pocket-ifp\"\u001b[0m\u001b[0;34m:\u001b[0m\u001b[0;34m\u001b[0m\u001b[0;34m\u001b[0m\u001b[0m\n\u001b[0;32m---> 64\u001b[0;31m         \u001b[0;32mreturn\u001b[0m \u001b[0mklifs_pocket_ifp\u001b[0m\u001b[0;34m(\u001b[0m\u001b[0mkinmap_kinases\u001b[0m\u001b[0;34m=\u001b[0m\u001b[0mkinmap_kinases\u001b[0m\u001b[0;34m)\u001b[0m\u001b[0;34m\u001b[0m\u001b[0;34m\u001b[0m\u001b[0m\n\u001b[0m\u001b[1;32m     65\u001b[0m     \u001b[0;32melse\u001b[0m\u001b[0;34m:\u001b[0m\u001b[0;34m\u001b[0m\u001b[0;34m\u001b[0m\u001b[0m\n\u001b[1;32m     66\u001b[0m         raise KeyError(\n",
      "\u001b[0;32m~/Documents/GitHub/kissim_app/src/data/distances.py\u001b[0m in \u001b[0;36mklifs_pocket_ifp\u001b[0;34m(structure_klifs_ids, dfg, metric, kinmap_kinases)\u001b[0m\n\u001b[1;32m    193\u001b[0m     \u001b[0;31m# Generate list of lists\u001b[0m\u001b[0;34m\u001b[0m\u001b[0;34m\u001b[0m\u001b[0m\n\u001b[1;32m    194\u001b[0m     ifps_list_of_lists = (\n\u001b[0;32m--> 195\u001b[0;31m         \u001b[0mifps\u001b[0m\u001b[0;34m[\u001b[0m\u001b[0;34m\"interaction.fingerprint\"\u001b[0m\u001b[0;34m]\u001b[0m\u001b[0;34m\u001b[0m\u001b[0;34m\u001b[0m\u001b[0m\n\u001b[0m\u001b[1;32m    196\u001b[0m         \u001b[0;34m.\u001b[0m\u001b[0mapply\u001b[0m\u001b[0;34m(\u001b[0m\u001b[0mlist\u001b[0m\u001b[0;34m)\u001b[0m\u001b[0;34m\u001b[0m\u001b[0;34m\u001b[0m\u001b[0m\n\u001b[1;32m    197\u001b[0m         \u001b[0;34m.\u001b[0m\u001b[0mapply\u001b[0m\u001b[0;34m(\u001b[0m\u001b[0;32mlambda\u001b[0m \u001b[0mx\u001b[0m\u001b[0;34m:\u001b[0m \u001b[0;34m[\u001b[0m\u001b[0;32mTrue\u001b[0m \u001b[0;32mif\u001b[0m \u001b[0mi\u001b[0m \u001b[0;34m==\u001b[0m \u001b[0;34m\"1\"\u001b[0m \u001b[0;32melse\u001b[0m \u001b[0;32mFalse\u001b[0m \u001b[0;32mfor\u001b[0m \u001b[0mi\u001b[0m \u001b[0;32min\u001b[0m \u001b[0mx\u001b[0m\u001b[0;34m]\u001b[0m\u001b[0;34m)\u001b[0m\u001b[0;34m\u001b[0m\u001b[0;34m\u001b[0m\u001b[0m\n",
      "\u001b[0;32m~/.local/miniconda/envs/kissim-app-dev/lib/python3.9/site-packages/pandas/core/frame.py\u001b[0m in \u001b[0;36m__getitem__\u001b[0;34m(self, key)\u001b[0m\n\u001b[1;32m   3456\u001b[0m             \u001b[0;32mif\u001b[0m \u001b[0mself\u001b[0m\u001b[0;34m.\u001b[0m\u001b[0mcolumns\u001b[0m\u001b[0;34m.\u001b[0m\u001b[0mnlevels\u001b[0m \u001b[0;34m>\u001b[0m \u001b[0;36m1\u001b[0m\u001b[0;34m:\u001b[0m\u001b[0;34m\u001b[0m\u001b[0;34m\u001b[0m\u001b[0m\n\u001b[1;32m   3457\u001b[0m                 \u001b[0;32mreturn\u001b[0m \u001b[0mself\u001b[0m\u001b[0;34m.\u001b[0m\u001b[0m_getitem_multilevel\u001b[0m\u001b[0;34m(\u001b[0m\u001b[0mkey\u001b[0m\u001b[0;34m)\u001b[0m\u001b[0;34m\u001b[0m\u001b[0;34m\u001b[0m\u001b[0m\n\u001b[0;32m-> 3458\u001b[0;31m             \u001b[0mindexer\u001b[0m \u001b[0;34m=\u001b[0m \u001b[0mself\u001b[0m\u001b[0;34m.\u001b[0m\u001b[0mcolumns\u001b[0m\u001b[0;34m.\u001b[0m\u001b[0mget_loc\u001b[0m\u001b[0;34m(\u001b[0m\u001b[0mkey\u001b[0m\u001b[0;34m)\u001b[0m\u001b[0;34m\u001b[0m\u001b[0;34m\u001b[0m\u001b[0m\n\u001b[0m\u001b[1;32m   3459\u001b[0m             \u001b[0;32mif\u001b[0m \u001b[0mis_integer\u001b[0m\u001b[0;34m(\u001b[0m\u001b[0mindexer\u001b[0m\u001b[0;34m)\u001b[0m\u001b[0;34m:\u001b[0m\u001b[0;34m\u001b[0m\u001b[0;34m\u001b[0m\u001b[0m\n\u001b[1;32m   3460\u001b[0m                 \u001b[0mindexer\u001b[0m \u001b[0;34m=\u001b[0m \u001b[0;34m[\u001b[0m\u001b[0mindexer\u001b[0m\u001b[0;34m]\u001b[0m\u001b[0;34m\u001b[0m\u001b[0;34m\u001b[0m\u001b[0m\n",
      "\u001b[0;32m~/.local/miniconda/envs/kissim-app-dev/lib/python3.9/site-packages/pandas/core/indexes/base.py\u001b[0m in \u001b[0;36mget_loc\u001b[0;34m(self, key, method, tolerance)\u001b[0m\n\u001b[1;32m   3361\u001b[0m                 \u001b[0;32mreturn\u001b[0m \u001b[0mself\u001b[0m\u001b[0;34m.\u001b[0m\u001b[0m_engine\u001b[0m\u001b[0;34m.\u001b[0m\u001b[0mget_loc\u001b[0m\u001b[0;34m(\u001b[0m\u001b[0mcasted_key\u001b[0m\u001b[0;34m)\u001b[0m\u001b[0;34m\u001b[0m\u001b[0;34m\u001b[0m\u001b[0m\n\u001b[1;32m   3362\u001b[0m             \u001b[0;32mexcept\u001b[0m \u001b[0mKeyError\u001b[0m \u001b[0;32mas\u001b[0m \u001b[0merr\u001b[0m\u001b[0;34m:\u001b[0m\u001b[0;34m\u001b[0m\u001b[0;34m\u001b[0m\u001b[0m\n\u001b[0;32m-> 3363\u001b[0;31m                 \u001b[0;32mraise\u001b[0m \u001b[0mKeyError\u001b[0m\u001b[0;34m(\u001b[0m\u001b[0mkey\u001b[0m\u001b[0;34m)\u001b[0m \u001b[0;32mfrom\u001b[0m \u001b[0merr\u001b[0m\u001b[0;34m\u001b[0m\u001b[0;34m\u001b[0m\u001b[0m\n\u001b[0m\u001b[1;32m   3364\u001b[0m \u001b[0;34m\u001b[0m\u001b[0m\n\u001b[1;32m   3365\u001b[0m         \u001b[0;32mif\u001b[0m \u001b[0mis_scalar\u001b[0m\u001b[0;34m(\u001b[0m\u001b[0mkey\u001b[0m\u001b[0;34m)\u001b[0m \u001b[0;32mand\u001b[0m \u001b[0misna\u001b[0m\u001b[0;34m(\u001b[0m\u001b[0mkey\u001b[0m\u001b[0;34m)\u001b[0m \u001b[0;32mand\u001b[0m \u001b[0;32mnot\u001b[0m \u001b[0mself\u001b[0m\u001b[0;34m.\u001b[0m\u001b[0mhasnans\u001b[0m\u001b[0;34m:\u001b[0m\u001b[0;34m\u001b[0m\u001b[0;34m\u001b[0m\u001b[0m\n",
      "\u001b[0;31mKeyError\u001b[0m: 'interaction.fingerprint'"
     ]
    }
   ],
   "source": [
    "evaluator = evaluation.LigandVsKinaseEvaluator(\n",
    "    ligand_kinase_pairs,\n",
    "    LIGAND_PROFILING_METHOD,\n",
    "    KINASE_DISTANCES_METHOD,\n",
    "    KINASE_ACTIVITY_CUTOFF,\n",
    "    KINASE_ACTIVITY_MAX,\n",
    "    MIN_N_SHARED_KINASES,\n",
    "    MIN_N_SHARED_ACTIVE_KINASES,\n",
    ")"
   ]
  },
  {
   "cell_type": "code",
   "execution_count": 15,
   "metadata": {
    "execution": {
     "iopub.execute_input": "2021-09-16T19:49:47.932809Z",
     "iopub.status.busy": "2021-09-16T19:49:47.932339Z",
     "iopub.status.idle": "2021-09-16T19:49:47.947095Z",
     "shell.execute_reply": "2021-09-16T19:49:47.946772Z"
    }
   },
   "outputs": [
    {
     "ename": "NameError",
     "evalue": "name 'evaluator' is not defined",
     "output_type": "error",
     "traceback": [
      "\u001b[0;31m---------------------------------------------------------------------------\u001b[0m",
      "\u001b[0;31mNameError\u001b[0m                                 Traceback (most recent call last)",
      "\u001b[0;32m/tmp/ipykernel_1805/424230143.py\u001b[0m in \u001b[0;36m<module>\u001b[0;34m\u001b[0m\n\u001b[0;32m----> 1\u001b[0;31m \u001b[0mprint\u001b[0m\u001b[0;34m(\u001b[0m\u001b[0;34mf\"Number of pairs: {len(evaluator.ligand_kinase_pairs)}\"\u001b[0m\u001b[0;34m)\u001b[0m\u001b[0;34m\u001b[0m\u001b[0;34m\u001b[0m\u001b[0m\n\u001b[0m\u001b[1;32m      2\u001b[0m \u001b[0mprint\u001b[0m\u001b[0;34m(\u001b[0m\u001b[0;34mf\"Number of ligands: {len(set([i[0] for i in evaluator.ligand_kinase_pairs]))}\"\u001b[0m\u001b[0;34m)\u001b[0m\u001b[0;34m\u001b[0m\u001b[0;34m\u001b[0m\u001b[0m\n",
      "\u001b[0;31mNameError\u001b[0m: name 'evaluator' is not defined"
     ]
    }
   ],
   "source": [
    "print(f\"Number of pairs: {len(evaluator.ligand_kinase_pairs)}\")\n",
    "print(f\"Number of ligands: {len(set([i[0] for i in evaluator.ligand_kinase_pairs]))}\")"
   ]
  },
  {
   "cell_type": "markdown",
   "metadata": {},
   "source": [
    "### Ligand types"
   ]
  },
  {
   "cell_type": "code",
   "execution_count": 16,
   "metadata": {
    "execution": {
     "iopub.execute_input": "2021-09-16T19:49:47.949774Z",
     "iopub.status.busy": "2021-09-16T19:49:47.949306Z",
     "iopub.status.idle": "2021-09-16T19:49:48.119849Z",
     "shell.execute_reply": "2021-09-16T19:49:48.119561Z"
    }
   },
   "outputs": [
    {
     "ename": "NameError",
     "evalue": "name 'evaluator' is not defined",
     "output_type": "error",
     "traceback": [
      "\u001b[0;31m---------------------------------------------------------------------------\u001b[0m",
      "\u001b[0;31mNameError\u001b[0m                                 Traceback (most recent call last)",
      "\u001b[0;32m/tmp/ipykernel_1805/2691268311.py\u001b[0m in \u001b[0;36m<module>\u001b[0;34m\u001b[0m\n\u001b[1;32m      1\u001b[0m \u001b[0mpkidb\u001b[0m \u001b[0;34m=\u001b[0m \u001b[0mdata\u001b[0m\u001b[0;34m.\u001b[0m\u001b[0mligands\u001b[0m\u001b[0;34m.\u001b[0m\u001b[0mpkidb\u001b[0m\u001b[0;34m(\u001b[0m\u001b[0;34m)\u001b[0m\u001b[0;34m\u001b[0m\u001b[0;34m\u001b[0m\u001b[0m\n\u001b[0;32m----> 2\u001b[0;31m \u001b[0mligands\u001b[0m \u001b[0;34m=\u001b[0m \u001b[0mpkidb\u001b[0m\u001b[0;34m.\u001b[0m\u001b[0mset_index\u001b[0m\u001b[0;34m(\u001b[0m\u001b[0;34m\"ID\"\u001b[0m\u001b[0;34m)\u001b[0m\u001b[0;34m[\u001b[0m\u001b[0;34m\"Type\"\u001b[0m\u001b[0;34m]\u001b[0m\u001b[0;34m[\u001b[0m\u001b[0mlist\u001b[0m\u001b[0;34m(\u001b[0m\u001b[0mevaluator\u001b[0m\u001b[0;34m.\u001b[0m\u001b[0mdata_dict\u001b[0m\u001b[0;34m.\u001b[0m\u001b[0mkeys\u001b[0m\u001b[0;34m(\u001b[0m\u001b[0;34m)\u001b[0m\u001b[0;34m)\u001b[0m\u001b[0;34m]\u001b[0m\u001b[0;34m.\u001b[0m\u001b[0mreset_index\u001b[0m\u001b[0;34m(\u001b[0m\u001b[0;34m)\u001b[0m\u001b[0;34m\u001b[0m\u001b[0;34m\u001b[0m\u001b[0m\n\u001b[0m\u001b[1;32m      3\u001b[0m \u001b[0mligands\u001b[0m\u001b[0;34m\u001b[0m\u001b[0;34m\u001b[0m\u001b[0m\n",
      "\u001b[0;31mNameError\u001b[0m: name 'evaluator' is not defined"
     ]
    }
   ],
   "source": [
    "pkidb = data.ligands.pkidb()\n",
    "ligands = pkidb.set_index(\"ID\")[\"Type\"][list(evaluator.data_dict.keys())].reset_index()\n",
    "ligands"
   ]
  },
  {
   "cell_type": "markdown",
   "metadata": {},
   "source": [
    "### Enrichment\n",
    "\n",
    "#### Enrichment factor \n",
    "\n",
    "An enrichment factor is calculated as follows:\n",
    "\n",
    "$EF_{x\\%} = \\frac{\\frac{n_s}{n}}{\\frac{N_s}{N}}$\n",
    "\n",
    "with\n",
    "\n",
    "- $N$   : Number of kinases in total\n",
    "- $N_s$ : Number of kinases in top x% of ranked kinases\n",
    "- $n$   : Number of active kinases in total\n",
    "- $n_s$ : Number of active kinases in top x% of ranked kinases"
   ]
  },
  {
   "cell_type": "code",
   "execution_count": 17,
   "metadata": {
    "execution": {
     "iopub.execute_input": "2021-09-16T19:49:48.122162Z",
     "iopub.status.busy": "2021-09-16T19:49:48.121689Z",
     "iopub.status.idle": "2021-09-16T19:49:48.135726Z",
     "shell.execute_reply": "2021-09-16T19:49:48.135985Z"
    },
    "tags": []
   },
   "outputs": [
    {
     "ename": "NameError",
     "evalue": "name 'evaluator' is not defined",
     "output_type": "error",
     "traceback": [
      "\u001b[0;31m---------------------------------------------------------------------------\u001b[0m",
      "\u001b[0;31mNameError\u001b[0m                                 Traceback (most recent call last)",
      "\u001b[0;32m/tmp/ipykernel_1805/3916502472.py\u001b[0m in \u001b[0;36m<module>\u001b[0;34m\u001b[0m\n\u001b[0;32m----> 1\u001b[0;31m \u001b[0mevaluator\u001b[0m\u001b[0;34m.\u001b[0m\u001b[0mplot_enrichment_factors\u001b[0m\u001b[0;34m(\u001b[0m\u001b[0;34m)\u001b[0m\u001b[0;34m\u001b[0m\u001b[0;34m\u001b[0m\u001b[0m\n\u001b[0m",
      "\u001b[0;31mNameError\u001b[0m: name 'evaluator' is not defined"
     ]
    }
   ],
   "source": [
    "evaluator.plot_enrichment_factors()"
   ]
  },
  {
   "cell_type": "markdown",
   "metadata": {},
   "source": [
    "#### Enrichment plots\n",
    "\n",
    "For an enrichment plot, the x and y values are calculated as follows:\n",
    "\n",
    "$x = \\frac{N_s}{N}$, $y = \\frac{n_s}{n}$\n",
    "\n",
    "with\n",
    "\n",
    "- $N$   : Number of kinases in total\n",
    "- $N_s$ : Number of kinases in top x% of ranked kinases\n",
    "- $n$   : Number of active kinases in total\n",
    "- $n_s$ : Number of active kinases in top x% of ranked kinases"
   ]
  },
  {
   "cell_type": "code",
   "execution_count": 18,
   "metadata": {
    "execution": {
     "iopub.execute_input": "2021-09-16T19:49:48.138317Z",
     "iopub.status.busy": "2021-09-16T19:49:48.137843Z",
     "iopub.status.idle": "2021-09-16T19:49:48.151639Z",
     "shell.execute_reply": "2021-09-16T19:49:48.151896Z"
    }
   },
   "outputs": [
    {
     "ename": "NameError",
     "evalue": "name 'evaluator' is not defined",
     "output_type": "error",
     "traceback": [
      "\u001b[0;31m---------------------------------------------------------------------------\u001b[0m",
      "\u001b[0;31mNameError\u001b[0m                                 Traceback (most recent call last)",
      "\u001b[0;32m/tmp/ipykernel_1805/3582247735.py\u001b[0m in \u001b[0;36m<module>\u001b[0;34m\u001b[0m\n\u001b[0;32m----> 1\u001b[0;31m \u001b[0mevaluator\u001b[0m\u001b[0;34m.\u001b[0m\u001b[0mplot_enrichment\u001b[0m\u001b[0;34m(\u001b[0m\u001b[0;34m)\u001b[0m\u001b[0;34m\u001b[0m\u001b[0;34m\u001b[0m\u001b[0m\n\u001b[0m",
      "\u001b[0;31mNameError\u001b[0m: name 'evaluator' is not defined"
     ]
    }
   ],
   "source": [
    "evaluator.plot_enrichment()"
   ]
  },
  {
   "cell_type": "markdown",
   "metadata": {},
   "source": [
    "### ROC curves\n",
    "\n",
    "- $TPR = \\frac{TP}{P} = \\frac{TP}{TP + FN}$\n",
    "- $FPR = \\frac{FP}{N} = \\frac{FP}{FP + TN}$"
   ]
  },
  {
   "cell_type": "code",
   "execution_count": 19,
   "metadata": {
    "execution": {
     "iopub.execute_input": "2021-09-16T19:49:48.154189Z",
     "iopub.status.busy": "2021-09-16T19:49:48.153719Z",
     "iopub.status.idle": "2021-09-16T19:49:48.167690Z",
     "shell.execute_reply": "2021-09-16T19:49:48.167952Z"
    }
   },
   "outputs": [
    {
     "ename": "NameError",
     "evalue": "name 'evaluator' is not defined",
     "output_type": "error",
     "traceback": [
      "\u001b[0;31m---------------------------------------------------------------------------\u001b[0m",
      "\u001b[0;31mNameError\u001b[0m                                 Traceback (most recent call last)",
      "\u001b[0;32m/tmp/ipykernel_1805/424807070.py\u001b[0m in \u001b[0;36m<module>\u001b[0;34m\u001b[0m\n\u001b[0;32m----> 1\u001b[0;31m auc_list = evaluator.plot_roc_curves(\n\u001b[0m\u001b[1;32m      2\u001b[0m     \u001b[0mHERE\u001b[0m \u001b[0;34m/\u001b[0m \u001b[0;34m\"../../notebooks/figures/figX_profiling_roc_dfg_in_ifp.pdf\"\u001b[0m\u001b[0;34m\u001b[0m\u001b[0;34m\u001b[0m\u001b[0m\n\u001b[1;32m      3\u001b[0m );\n",
      "\u001b[0;31mNameError\u001b[0m: name 'evaluator' is not defined"
     ]
    }
   ],
   "source": [
    "auc_list = evaluator.plot_roc_curves(\n",
    "    HERE / \"../../notebooks/figures/figX_profiling_roc_dfg_in_ifp.pdf\"\n",
    ");"
   ]
  },
  {
   "cell_type": "code",
   "execution_count": 20,
   "metadata": {
    "execution": {
     "iopub.execute_input": "2021-09-16T19:49:48.170232Z",
     "iopub.status.busy": "2021-09-16T19:49:48.169763Z",
     "iopub.status.idle": "2021-09-16T19:49:48.183600Z",
     "shell.execute_reply": "2021-09-16T19:49:48.183861Z"
    }
   },
   "outputs": [
    {
     "ename": "NameError",
     "evalue": "name 'auc_list' is not defined",
     "output_type": "error",
     "traceback": [
      "\u001b[0;31m---------------------------------------------------------------------------\u001b[0m",
      "\u001b[0;31mNameError\u001b[0m                                 Traceback (most recent call last)",
      "\u001b[0;32m/tmp/ipykernel_1805/3749076348.py\u001b[0m in \u001b[0;36m<module>\u001b[0;34m\u001b[0m\n\u001b[0;32m----> 1\u001b[0;31m \u001b[0mprint\u001b[0m\u001b[0;34m(\u001b[0m\u001b[0;34mf\"Number of pairs: {len(auc_list)}\"\u001b[0m\u001b[0;34m)\u001b[0m\u001b[0;34m\u001b[0m\u001b[0;34m\u001b[0m\u001b[0m\n\u001b[0m",
      "\u001b[0;31mNameError\u001b[0m: name 'auc_list' is not defined"
     ]
    }
   ],
   "source": [
    "print(f\"Number of pairs: {len(auc_list)}\")"
   ]
  },
  {
   "cell_type": "code",
   "execution_count": 21,
   "metadata": {
    "execution": {
     "iopub.execute_input": "2021-09-16T19:49:48.186240Z",
     "iopub.status.busy": "2021-09-16T19:49:48.185769Z",
     "iopub.status.idle": "2021-09-16T19:49:48.199598Z",
     "shell.execute_reply": "2021-09-16T19:49:48.199862Z"
    }
   },
   "outputs": [
    {
     "ename": "NameError",
     "evalue": "name 'auc_list' is not defined",
     "output_type": "error",
     "traceback": [
      "\u001b[0;31m---------------------------------------------------------------------------\u001b[0m",
      "\u001b[0;31mNameError\u001b[0m                                 Traceback (most recent call last)",
      "\u001b[0;32m/tmp/ipykernel_1805/883245573.py\u001b[0m in \u001b[0;36m<module>\u001b[0;34m\u001b[0m\n\u001b[0;32m----> 1\u001b[0;31m \u001b[0mnp\u001b[0m\u001b[0;34m.\u001b[0m\u001b[0mmean\u001b[0m\u001b[0;34m(\u001b[0m\u001b[0mauc_list\u001b[0m\u001b[0;34m)\u001b[0m\u001b[0;34m\u001b[0m\u001b[0;34m\u001b[0m\u001b[0m\n\u001b[0m",
      "\u001b[0;31mNameError\u001b[0m: name 'auc_list' is not defined"
     ]
    }
   ],
   "source": [
    "np.mean(auc_list)"
   ]
  },
  {
   "cell_type": "code",
   "execution_count": 22,
   "metadata": {
    "execution": {
     "iopub.execute_input": "2021-09-16T19:49:48.202129Z",
     "iopub.status.busy": "2021-09-16T19:49:48.201656Z",
     "iopub.status.idle": "2021-09-16T19:49:48.215430Z",
     "shell.execute_reply": "2021-09-16T19:49:48.215690Z"
    }
   },
   "outputs": [
    {
     "ename": "NameError",
     "evalue": "name 'auc_list' is not defined",
     "output_type": "error",
     "traceback": [
      "\u001b[0;31m---------------------------------------------------------------------------\u001b[0m",
      "\u001b[0;31mNameError\u001b[0m                                 Traceback (most recent call last)",
      "\u001b[0;32m/tmp/ipykernel_1805/1780208225.py\u001b[0m in \u001b[0;36m<module>\u001b[0;34m\u001b[0m\n\u001b[0;32m----> 1\u001b[0;31m \u001b[0mnp\u001b[0m\u001b[0;34m.\u001b[0m\u001b[0mstd\u001b[0m\u001b[0;34m(\u001b[0m\u001b[0mauc_list\u001b[0m\u001b[0;34m)\u001b[0m\u001b[0;34m\u001b[0m\u001b[0;34m\u001b[0m\u001b[0m\n\u001b[0m",
      "\u001b[0;31mNameError\u001b[0m: name 'auc_list' is not defined"
     ]
    }
   ],
   "source": [
    "np.std(auc_list)"
   ]
  },
  {
   "cell_type": "markdown",
   "metadata": {},
   "source": [
    "#### Selected ligand ROC curves"
   ]
  },
  {
   "cell_type": "code",
   "execution_count": 23,
   "metadata": {
    "execution": {
     "iopub.execute_input": "2021-09-16T19:49:48.218025Z",
     "iopub.status.busy": "2021-09-16T19:49:48.217554Z",
     "iopub.status.idle": "2021-09-16T19:49:48.228822Z",
     "shell.execute_reply": "2021-09-16T19:49:48.229076Z"
    }
   },
   "outputs": [],
   "source": [
    "selected_ligands = [\"Erlotinib\", \"Imatinib\", \"Bosutinib\", \"Doramapimod\"]"
   ]
  },
  {
   "cell_type": "code",
   "execution_count": 24,
   "metadata": {
    "execution": {
     "iopub.execute_input": "2021-09-16T19:49:48.231774Z",
     "iopub.status.busy": "2021-09-16T19:49:48.231292Z",
     "iopub.status.idle": "2021-09-16T19:49:48.244918Z",
     "shell.execute_reply": "2021-09-16T19:49:48.245175Z"
    }
   },
   "outputs": [],
   "source": [
    "# Select pairs based on selected ligands (in given order!!)\n",
    "# Looks a bit complicated but necessary to keep ligand order!\n",
    "ligand_kinase_pairs_df = pd.DataFrame(ligand_kinase_pairs, columns=[\"ligand\", \"kinase\"])\n",
    "ligand_kinase_pairs_selected = []\n",
    "for selected_ligand in selected_ligands:\n",
    "    ligand_kinase_pairs_selected.append(\n",
    "        ligand_kinase_pairs_df.groupby(\"ligand\").get_group(selected_ligand)\n",
    "    )\n",
    "ligand_kinase_pairs_selected = pd.concat(ligand_kinase_pairs_selected).values.tolist()"
   ]
  },
  {
   "cell_type": "code",
   "execution_count": 25,
   "metadata": {
    "execution": {
     "iopub.execute_input": "2021-09-16T19:49:48.247611Z",
     "iopub.status.busy": "2021-09-16T19:49:48.247135Z",
     "iopub.status.idle": "2021-09-16T19:49:55.643685Z",
     "shell.execute_reply": "2021-09-16T19:49:55.643371Z"
    }
   },
   "outputs": [
    {
     "name": "stderr",
     "output_type": "stream",
     "text": [
      "Changed ligand names (unknown names may be discarded - see function docstring):\n",
      "           ligand.input            ligand.pkidb\n",
      "0         Staurosporine  unknown (not in PKIDB)\n",
      "1           JNJ-7706621  unknown (not in PKIDB)\n",
      "2              MLN-8054  unknown (not in PKIDB)\n",
      "3               PKC-412             Midostaurin\n",
      "4              SU-14813  unknown (not in PKIDB)\n",
      "5             SB-202190  unknown (not in PKIDB)\n",
      "6             CP-724714  unknown (not in PKIDB)\n",
      "7        VX-680/MK-0457  unknown (not in PKIDB)\n",
      "9   Roscovitine/CYC-202  unknown (not in PKIDB)\n",
      "10            SB-203580  unknown (not in PKIDB)\n",
      "12            CP-690550             Tofacitinib\n",
      "14              GW-2580  unknown (not in PKIDB)\n",
      "16            GW-786034  unknown (not in PKIDB)\n",
      "18               VX-745            Neflamapimod\n",
      "19            SB-431542  unknown (not in PKIDB)\n",
      "20              ZD-6474              Vandetanib\n",
      "22         Flavopiridol  unknown (not in PKIDB)\n",
      "24              MLN-518              Tandutinib\n",
      "25            LY-333531           Ruboxistaurin\n",
      "26              CI-1033              Canertinib\n",
      "27              EKB-569               Pelitinib\n",
      "28               PI-103  unknown (not in PKIDB)\n",
      "29              PTK-787               Vatalanib\n",
      "Changed ligand names (unknown names may be discarded - see function docstring):\n",
      "         ligand.input            ligand.pkidb\n",
      "0           TG-101348              Fedratinib\n",
      "1           SB-203580  unknown (not in PKIDB)\n",
      "3    CHIR-265/RAF-265  unknown (not in PKIDB)\n",
      "4        AZD-1152HQPA  unknown (not in PKIDB)\n",
      "5            MLN-8054  unknown (not in PKIDB)\n",
      "..                ...                     ...\n",
      "67          LY-333531           Ruboxistaurin\n",
      "68            CI-1033              Canertinib\n",
      "69  AZD-6244/ARRY-886  unknown (not in PKIDB)\n",
      "70             PI-103  unknown (not in PKIDB)\n",
      "71           AZD-2171               Cediranib\n",
      "\n",
      "[61 rows x 2 columns]\n"
     ]
    },
    {
     "name": "stdout",
     "output_type": "stream",
     "text": [
      "       structure.klifs_id  \\\n",
      "0                       1   \n",
      "1                       3   \n",
      "2                       5   \n",
      "3                       6   \n",
      "4                       7   \n",
      "...                   ...   \n",
      "10515               13847   \n",
      "10516               13848   \n",
      "10517               13849   \n",
      "10518               13850   \n",
      "10519               13853   \n",
      "\n",
      "                                                                                   interaction.fingerprint  \n",
      "0      000000000000001000000000000000000000000000000000000000000000000000000010000000000000000000000000...  \n",
      "1      000000000000001000000000000000000000000000000000000000000000000000000010000000000000000000000000...  \n",
      "2      000000000000001000000000000000000000000000000000000000000000000000000010000000000000000000000000...  \n",
      "3      000000000000001000000100000000000000000000000000000000000000000000000010000000000000000000000000...  \n",
      "4      000000000000001000100100000000000000000000000000000000000000000000000010000000000000000000000000...  \n",
      "...                                                                                                    ...  \n",
      "10515  000000000000001000000000000000000000000000000000000000000000000000000010000000000000000000000000...  \n",
      "10516  000000000000001000000000000000000000000000000000000000000000000000000010000000000000000000000000...  \n",
      "10517  000000000000001000000100000000000001000000000000000000000000000000000010000000000000000000000000...  \n",
      "10518  000000000000001000000100000010000000000000000000000000000000000000000010000000000000000000000000...  \n",
      "10519  000000000000001000000100000010000001000000000000000000001000000000000010000000000000000000000000...  \n",
      "\n",
      "[10520 rows x 2 columns]\n"
     ]
    },
    {
     "ename": "KeyError",
     "evalue": "'interaction.fingerprint'",
     "output_type": "error",
     "traceback": [
      "\u001b[0;31m---------------------------------------------------------------------------\u001b[0m",
      "\u001b[0;31mKeyError\u001b[0m                                  Traceback (most recent call last)",
      "\u001b[0;32m~/.local/miniconda/envs/kissim-app-dev/lib/python3.9/site-packages/pandas/core/indexes/base.py\u001b[0m in \u001b[0;36mget_loc\u001b[0;34m(self, key, method, tolerance)\u001b[0m\n\u001b[1;32m   3360\u001b[0m             \u001b[0;32mtry\u001b[0m\u001b[0;34m:\u001b[0m\u001b[0;34m\u001b[0m\u001b[0;34m\u001b[0m\u001b[0m\n\u001b[0;32m-> 3361\u001b[0;31m                 \u001b[0;32mreturn\u001b[0m \u001b[0mself\u001b[0m\u001b[0;34m.\u001b[0m\u001b[0m_engine\u001b[0m\u001b[0;34m.\u001b[0m\u001b[0mget_loc\u001b[0m\u001b[0;34m(\u001b[0m\u001b[0mcasted_key\u001b[0m\u001b[0;34m)\u001b[0m\u001b[0;34m\u001b[0m\u001b[0;34m\u001b[0m\u001b[0m\n\u001b[0m\u001b[1;32m   3362\u001b[0m             \u001b[0;32mexcept\u001b[0m \u001b[0mKeyError\u001b[0m \u001b[0;32mas\u001b[0m \u001b[0merr\u001b[0m\u001b[0;34m:\u001b[0m\u001b[0;34m\u001b[0m\u001b[0;34m\u001b[0m\u001b[0m\n",
      "\u001b[0;32m~/.local/miniconda/envs/kissim-app-dev/lib/python3.9/site-packages/pandas/_libs/index.pyx\u001b[0m in \u001b[0;36mpandas._libs.index.IndexEngine.get_loc\u001b[0;34m()\u001b[0m\n",
      "\u001b[0;32m~/.local/miniconda/envs/kissim-app-dev/lib/python3.9/site-packages/pandas/_libs/index.pyx\u001b[0m in \u001b[0;36mpandas._libs.index.IndexEngine.get_loc\u001b[0;34m()\u001b[0m\n",
      "\u001b[0;32mpandas/_libs/hashtable_class_helper.pxi\u001b[0m in \u001b[0;36mpandas._libs.hashtable.PyObjectHashTable.get_item\u001b[0;34m()\u001b[0m\n",
      "\u001b[0;32mpandas/_libs/hashtable_class_helper.pxi\u001b[0m in \u001b[0;36mpandas._libs.hashtable.PyObjectHashTable.get_item\u001b[0;34m()\u001b[0m\n",
      "\u001b[0;31mKeyError\u001b[0m: 'interaction.fingerprint'",
      "\nThe above exception was the direct cause of the following exception:\n",
      "\u001b[0;31mKeyError\u001b[0m                                  Traceback (most recent call last)",
      "\u001b[0;32m/tmp/ipykernel_1805/1617534146.py\u001b[0m in \u001b[0;36m<module>\u001b[0;34m\u001b[0m\n\u001b[0;32m----> 1\u001b[0;31m evaluator_selected = evaluation.LigandVsKinaseEvaluator(\n\u001b[0m\u001b[1;32m      2\u001b[0m     \u001b[0mligand_kinase_pairs_selected\u001b[0m\u001b[0;34m,\u001b[0m\u001b[0;34m\u001b[0m\u001b[0;34m\u001b[0m\u001b[0m\n\u001b[1;32m      3\u001b[0m     \u001b[0mLIGAND_PROFILING_METHOD\u001b[0m\u001b[0;34m,\u001b[0m\u001b[0;34m\u001b[0m\u001b[0;34m\u001b[0m\u001b[0m\n\u001b[1;32m      4\u001b[0m     \u001b[0mKINASE_DISTANCES_METHOD\u001b[0m\u001b[0;34m,\u001b[0m\u001b[0;34m\u001b[0m\u001b[0;34m\u001b[0m\u001b[0m\n\u001b[1;32m      5\u001b[0m     \u001b[0mKINASE_ACTIVITY_CUTOFF\u001b[0m\u001b[0;34m,\u001b[0m\u001b[0;34m\u001b[0m\u001b[0;34m\u001b[0m\u001b[0m\n",
      "\u001b[0;32m~/Documents/GitHub/kissim_app/src/evaluation/ligand_vs_kinase_evaluator.py\u001b[0m in \u001b[0;36m__init__\u001b[0;34m(self, ligand_kinase_pairs, ligand_kinase_method, kinase_kinase_method, kinase_activity_cutoff, kinase_activity_max, min_n_shared_kinases, min_n_shared_active_kinases, pkidb_ligands, fda_approved, kinmap_kinases, kinase_kinase_path)\u001b[0m\n\u001b[1;32m     90\u001b[0m \u001b[0;34m\u001b[0m\u001b[0m\n\u001b[1;32m     91\u001b[0m         \u001b[0;31m# Get ligand-kinase and kinase-kinase matrices\u001b[0m\u001b[0;34m\u001b[0m\u001b[0;34m\u001b[0m\u001b[0m\n\u001b[0;32m---> 92\u001b[0;31m         ligand_kinase_matrix, kinase_kinase_matrix = self._load_datasets(\n\u001b[0m\u001b[1;32m     93\u001b[0m             \u001b[0mligand_kinase_method\u001b[0m\u001b[0;34m,\u001b[0m\u001b[0;34m\u001b[0m\u001b[0;34m\u001b[0m\u001b[0m\n\u001b[1;32m     94\u001b[0m             \u001b[0mkinase_kinase_method\u001b[0m\u001b[0;34m,\u001b[0m\u001b[0;34m\u001b[0m\u001b[0;34m\u001b[0m\u001b[0m\n",
      "\u001b[0;32m~/Documents/GitHub/kissim_app/src/evaluation/ligand_vs_kinase_evaluator.py\u001b[0m in \u001b[0;36m_load_datasets\u001b[0;34m(self, ligand_kinase_method, kinase_kinase_method, pkidb_ligands, fda_approved, kinmap_kinases, kinase_kinase_path)\u001b[0m\n\u001b[1;32m    153\u001b[0m         )\n\u001b[1;32m    154\u001b[0m \u001b[0;34m\u001b[0m\u001b[0m\n\u001b[0;32m--> 155\u001b[0;31m         kinase_kinase_matrix = data.distances.load(\n\u001b[0m\u001b[1;32m    156\u001b[0m             \u001b[0mkinase_kinase_method\u001b[0m\u001b[0;34m,\u001b[0m\u001b[0;34m\u001b[0m\u001b[0;34m\u001b[0m\u001b[0m\n\u001b[1;32m    157\u001b[0m             \u001b[0mkinmap_kinases\u001b[0m\u001b[0;34m=\u001b[0m\u001b[0mkinmap_kinases\u001b[0m\u001b[0;34m,\u001b[0m\u001b[0;34m\u001b[0m\u001b[0;34m\u001b[0m\u001b[0m\n",
      "\u001b[0;32m~/Documents/GitHub/kissim_app/src/data/distances.py\u001b[0m in \u001b[0;36mload\u001b[0;34m(dataset_name, structure_kinase_mapping_by, kinmap_kinases, distances_path, coverage_min)\u001b[0m\n\u001b[1;32m     62\u001b[0m         \u001b[0;32mreturn\u001b[0m \u001b[0mklifs_pocket_sequence\u001b[0m\u001b[0;34m(\u001b[0m\u001b[0mkinmap_kinases\u001b[0m\u001b[0;34m=\u001b[0m\u001b[0mkinmap_kinases\u001b[0m\u001b[0;34m)\u001b[0m\u001b[0;34m\u001b[0m\u001b[0;34m\u001b[0m\u001b[0m\n\u001b[1;32m     63\u001b[0m     \u001b[0;32melif\u001b[0m \u001b[0mdataset_name\u001b[0m \u001b[0;34m==\u001b[0m \u001b[0;34m\"klifs-pocket-ifp\"\u001b[0m\u001b[0;34m:\u001b[0m\u001b[0;34m\u001b[0m\u001b[0;34m\u001b[0m\u001b[0m\n\u001b[0;32m---> 64\u001b[0;31m         \u001b[0;32mreturn\u001b[0m \u001b[0mklifs_pocket_ifp\u001b[0m\u001b[0;34m(\u001b[0m\u001b[0mkinmap_kinases\u001b[0m\u001b[0;34m=\u001b[0m\u001b[0mkinmap_kinases\u001b[0m\u001b[0;34m)\u001b[0m\u001b[0;34m\u001b[0m\u001b[0;34m\u001b[0m\u001b[0m\n\u001b[0m\u001b[1;32m     65\u001b[0m     \u001b[0;32melse\u001b[0m\u001b[0;34m:\u001b[0m\u001b[0;34m\u001b[0m\u001b[0;34m\u001b[0m\u001b[0m\n\u001b[1;32m     66\u001b[0m         raise KeyError(\n",
      "\u001b[0;32m~/Documents/GitHub/kissim_app/src/data/distances.py\u001b[0m in \u001b[0;36mklifs_pocket_ifp\u001b[0;34m(structure_klifs_ids, dfg, metric, kinmap_kinases)\u001b[0m\n\u001b[1;32m    193\u001b[0m     \u001b[0;31m# Generate list of lists\u001b[0m\u001b[0;34m\u001b[0m\u001b[0;34m\u001b[0m\u001b[0m\n\u001b[1;32m    194\u001b[0m     ifps_list_of_lists = (\n\u001b[0;32m--> 195\u001b[0;31m         \u001b[0mifps\u001b[0m\u001b[0;34m[\u001b[0m\u001b[0;34m\"interaction.fingerprint\"\u001b[0m\u001b[0;34m]\u001b[0m\u001b[0;34m\u001b[0m\u001b[0;34m\u001b[0m\u001b[0m\n\u001b[0m\u001b[1;32m    196\u001b[0m         \u001b[0;34m.\u001b[0m\u001b[0mapply\u001b[0m\u001b[0;34m(\u001b[0m\u001b[0mlist\u001b[0m\u001b[0;34m)\u001b[0m\u001b[0;34m\u001b[0m\u001b[0;34m\u001b[0m\u001b[0m\n\u001b[1;32m    197\u001b[0m         \u001b[0;34m.\u001b[0m\u001b[0mapply\u001b[0m\u001b[0;34m(\u001b[0m\u001b[0;32mlambda\u001b[0m \u001b[0mx\u001b[0m\u001b[0;34m:\u001b[0m \u001b[0;34m[\u001b[0m\u001b[0;32mTrue\u001b[0m \u001b[0;32mif\u001b[0m \u001b[0mi\u001b[0m \u001b[0;34m==\u001b[0m \u001b[0;34m\"1\"\u001b[0m \u001b[0;32melse\u001b[0m \u001b[0;32mFalse\u001b[0m \u001b[0;32mfor\u001b[0m \u001b[0mi\u001b[0m \u001b[0;32min\u001b[0m \u001b[0mx\u001b[0m\u001b[0;34m]\u001b[0m\u001b[0;34m)\u001b[0m\u001b[0;34m\u001b[0m\u001b[0;34m\u001b[0m\u001b[0m\n",
      "\u001b[0;32m~/.local/miniconda/envs/kissim-app-dev/lib/python3.9/site-packages/pandas/core/frame.py\u001b[0m in \u001b[0;36m__getitem__\u001b[0;34m(self, key)\u001b[0m\n\u001b[1;32m   3456\u001b[0m             \u001b[0;32mif\u001b[0m \u001b[0mself\u001b[0m\u001b[0;34m.\u001b[0m\u001b[0mcolumns\u001b[0m\u001b[0;34m.\u001b[0m\u001b[0mnlevels\u001b[0m \u001b[0;34m>\u001b[0m \u001b[0;36m1\u001b[0m\u001b[0;34m:\u001b[0m\u001b[0;34m\u001b[0m\u001b[0;34m\u001b[0m\u001b[0m\n\u001b[1;32m   3457\u001b[0m                 \u001b[0;32mreturn\u001b[0m \u001b[0mself\u001b[0m\u001b[0;34m.\u001b[0m\u001b[0m_getitem_multilevel\u001b[0m\u001b[0;34m(\u001b[0m\u001b[0mkey\u001b[0m\u001b[0;34m)\u001b[0m\u001b[0;34m\u001b[0m\u001b[0;34m\u001b[0m\u001b[0m\n\u001b[0;32m-> 3458\u001b[0;31m             \u001b[0mindexer\u001b[0m \u001b[0;34m=\u001b[0m \u001b[0mself\u001b[0m\u001b[0;34m.\u001b[0m\u001b[0mcolumns\u001b[0m\u001b[0;34m.\u001b[0m\u001b[0mget_loc\u001b[0m\u001b[0;34m(\u001b[0m\u001b[0mkey\u001b[0m\u001b[0;34m)\u001b[0m\u001b[0;34m\u001b[0m\u001b[0;34m\u001b[0m\u001b[0m\n\u001b[0m\u001b[1;32m   3459\u001b[0m             \u001b[0;32mif\u001b[0m \u001b[0mis_integer\u001b[0m\u001b[0;34m(\u001b[0m\u001b[0mindexer\u001b[0m\u001b[0;34m)\u001b[0m\u001b[0;34m:\u001b[0m\u001b[0;34m\u001b[0m\u001b[0;34m\u001b[0m\u001b[0m\n\u001b[1;32m   3460\u001b[0m                 \u001b[0mindexer\u001b[0m \u001b[0;34m=\u001b[0m \u001b[0;34m[\u001b[0m\u001b[0mindexer\u001b[0m\u001b[0;34m]\u001b[0m\u001b[0;34m\u001b[0m\u001b[0;34m\u001b[0m\u001b[0m\n",
      "\u001b[0;32m~/.local/miniconda/envs/kissim-app-dev/lib/python3.9/site-packages/pandas/core/indexes/base.py\u001b[0m in \u001b[0;36mget_loc\u001b[0;34m(self, key, method, tolerance)\u001b[0m\n\u001b[1;32m   3361\u001b[0m                 \u001b[0;32mreturn\u001b[0m \u001b[0mself\u001b[0m\u001b[0;34m.\u001b[0m\u001b[0m_engine\u001b[0m\u001b[0;34m.\u001b[0m\u001b[0mget_loc\u001b[0m\u001b[0;34m(\u001b[0m\u001b[0mcasted_key\u001b[0m\u001b[0;34m)\u001b[0m\u001b[0;34m\u001b[0m\u001b[0;34m\u001b[0m\u001b[0m\n\u001b[1;32m   3362\u001b[0m             \u001b[0;32mexcept\u001b[0m \u001b[0mKeyError\u001b[0m \u001b[0;32mas\u001b[0m \u001b[0merr\u001b[0m\u001b[0;34m:\u001b[0m\u001b[0;34m\u001b[0m\u001b[0;34m\u001b[0m\u001b[0m\n\u001b[0;32m-> 3363\u001b[0;31m                 \u001b[0;32mraise\u001b[0m \u001b[0mKeyError\u001b[0m\u001b[0;34m(\u001b[0m\u001b[0mkey\u001b[0m\u001b[0;34m)\u001b[0m \u001b[0;32mfrom\u001b[0m \u001b[0merr\u001b[0m\u001b[0;34m\u001b[0m\u001b[0;34m\u001b[0m\u001b[0m\n\u001b[0m\u001b[1;32m   3364\u001b[0m \u001b[0;34m\u001b[0m\u001b[0m\n\u001b[1;32m   3365\u001b[0m         \u001b[0;32mif\u001b[0m \u001b[0mis_scalar\u001b[0m\u001b[0;34m(\u001b[0m\u001b[0mkey\u001b[0m\u001b[0;34m)\u001b[0m \u001b[0;32mand\u001b[0m \u001b[0misna\u001b[0m\u001b[0;34m(\u001b[0m\u001b[0mkey\u001b[0m\u001b[0;34m)\u001b[0m \u001b[0;32mand\u001b[0m \u001b[0;32mnot\u001b[0m \u001b[0mself\u001b[0m\u001b[0;34m.\u001b[0m\u001b[0mhasnans\u001b[0m\u001b[0;34m:\u001b[0m\u001b[0;34m\u001b[0m\u001b[0;34m\u001b[0m\u001b[0m\n",
      "\u001b[0;31mKeyError\u001b[0m: 'interaction.fingerprint'"
     ]
    }
   ],
   "source": [
    "evaluator_selected = evaluation.LigandVsKinaseEvaluator(\n",
    "    ligand_kinase_pairs_selected,\n",
    "    LIGAND_PROFILING_METHOD,\n",
    "    KINASE_DISTANCES_METHOD,\n",
    "    KINASE_ACTIVITY_CUTOFF,\n",
    "    KINASE_ACTIVITY_MAX,\n",
    "    MIN_N_SHARED_KINASES,\n",
    "    MIN_N_SHARED_ACTIVE_KINASES,\n",
    ")"
   ]
  },
  {
   "cell_type": "code",
   "execution_count": 26,
   "metadata": {
    "execution": {
     "iopub.execute_input": "2021-09-16T19:49:55.646153Z",
     "iopub.status.busy": "2021-09-16T19:49:55.645679Z",
     "iopub.status.idle": "2021-09-16T19:49:55.659810Z",
     "shell.execute_reply": "2021-09-16T19:49:55.660076Z"
    }
   },
   "outputs": [
    {
     "ename": "NameError",
     "evalue": "name 'evaluator_selected' is not defined",
     "output_type": "error",
     "traceback": [
      "\u001b[0;31m---------------------------------------------------------------------------\u001b[0m",
      "\u001b[0;31mNameError\u001b[0m                                 Traceback (most recent call last)",
      "\u001b[0;32m/tmp/ipykernel_1805/1378386099.py\u001b[0m in \u001b[0;36m<module>\u001b[0;34m\u001b[0m\n\u001b[0;32m----> 1\u001b[0;31m evaluator_selected.plot_roc_curves(\n\u001b[0m\u001b[1;32m      2\u001b[0m     \u001b[0mHERE\u001b[0m \u001b[0;34m/\u001b[0m \u001b[0;34m\"../../notebooks/figures/fig7_profiling_roc_dfg_in_selected_ifp.pdf\"\u001b[0m\u001b[0;34m\u001b[0m\u001b[0;34m\u001b[0m\u001b[0m\n\u001b[1;32m      3\u001b[0m );\n",
      "\u001b[0;31mNameError\u001b[0m: name 'evaluator_selected' is not defined"
     ]
    }
   ],
   "source": [
    "evaluator_selected.plot_roc_curves(\n",
    "    HERE / \"../../notebooks/figures/fig7_profiling_roc_dfg_in_selected_ifp.pdf\"\n",
    ");"
   ]
  },
  {
   "cell_type": "markdown",
   "metadata": {},
   "source": [
    "### In detail: Look at ranks!"
   ]
  },
  {
   "cell_type": "code",
   "execution_count": 27,
   "metadata": {
    "execution": {
     "iopub.execute_input": "2021-09-16T19:49:55.662815Z",
     "iopub.status.busy": "2021-09-16T19:49:55.662340Z",
     "iopub.status.idle": "2021-09-16T19:49:55.673124Z",
     "shell.execute_reply": "2021-09-16T19:49:55.673376Z"
    }
   },
   "outputs": [],
   "source": [
    "from opencadd.databases.klifs import setup_remote"
   ]
  },
  {
   "cell_type": "code",
   "execution_count": 28,
   "metadata": {
    "execution": {
     "iopub.execute_input": "2021-09-16T19:49:55.676680Z",
     "iopub.status.busy": "2021-09-16T19:49:55.676203Z",
     "iopub.status.idle": "2021-09-16T19:49:55.687183Z",
     "shell.execute_reply": "2021-09-16T19:49:55.687437Z"
    }
   },
   "outputs": [],
   "source": [
    "def show_ranking(evaluator, kinase, ligand):\n",
    "    session = setup_remote()\n",
    "    ranking = evaluator.data_dict[ligand][kinase].data\n",
    "    kinase_groups = session.kinases.by_kinase_name(ranking.index.to_list(), species=\"Human\")[\n",
    "        [\"kinase.klifs_name\", \"kinase.group\"]\n",
    "    ].set_index(\"kinase.klifs_name\")\n",
    "    ranking = pd.merge(ranking, kinase_groups, left_index=True, right_index=True)\n",
    "    return ranking"
   ]
  },
  {
   "cell_type": "code",
   "execution_count": 29,
   "metadata": {
    "execution": {
     "iopub.execute_input": "2021-09-16T19:49:55.689555Z",
     "iopub.status.busy": "2021-09-16T19:49:55.689251Z",
     "iopub.status.idle": "2021-09-16T19:49:55.700650Z",
     "shell.execute_reply": "2021-09-16T19:49:55.700340Z"
    }
   },
   "outputs": [],
   "source": [
    "pairs = [\n",
    "    [\"EGFR\", \"Erlotinib\"],\n",
    "    [\"ABL1\", \"Imatinib\"],\n",
    "    [\"ABL1\", \"Bosutinib\"],\n",
    "    [\"p38a\", \"Doramapimod\"],\n",
    "]"
   ]
  },
  {
   "cell_type": "code",
   "execution_count": 30,
   "metadata": {
    "execution": {
     "iopub.execute_input": "2021-09-16T19:49:55.702767Z",
     "iopub.status.busy": "2021-09-16T19:49:55.702469Z",
     "iopub.status.idle": "2021-09-16T19:49:55.716758Z",
     "shell.execute_reply": "2021-09-16T19:49:55.716447Z"
    }
   },
   "outputs": [
    {
     "ename": "NameError",
     "evalue": "name 'evaluator' is not defined",
     "output_type": "error",
     "traceback": [
      "\u001b[0;31m---------------------------------------------------------------------------\u001b[0m",
      "\u001b[0;31mNameError\u001b[0m                                 Traceback (most recent call last)",
      "\u001b[0;32m/tmp/ipykernel_1805/3081136060.py\u001b[0m in \u001b[0;36m<module>\u001b[0;34m\u001b[0m\n\u001b[0;32m----> 1\u001b[0;31m \u001b[0mshow_ranking\u001b[0m\u001b[0;34m(\u001b[0m\u001b[0mevaluator\u001b[0m\u001b[0;34m,\u001b[0m \u001b[0;34m\"EGFR\"\u001b[0m\u001b[0;34m,\u001b[0m \u001b[0;34m\"Erlotinib\"\u001b[0m\u001b[0;34m)\u001b[0m\u001b[0;34m\u001b[0m\u001b[0;34m\u001b[0m\u001b[0m\n\u001b[0m",
      "\u001b[0;31mNameError\u001b[0m: name 'evaluator' is not defined"
     ]
    }
   ],
   "source": [
    "show_ranking(evaluator, \"EGFR\", \"Erlotinib\")"
   ]
  },
  {
   "cell_type": "code",
   "execution_count": 31,
   "metadata": {
    "execution": {
     "iopub.execute_input": "2021-09-16T19:49:55.719096Z",
     "iopub.status.busy": "2021-09-16T19:49:55.718798Z",
     "iopub.status.idle": "2021-09-16T19:49:55.734171Z",
     "shell.execute_reply": "2021-09-16T19:49:55.733852Z"
    }
   },
   "outputs": [
    {
     "data": {
      "text/markdown": [
       "#### Erlotinib"
      ],
      "text/plain": [
       "<IPython.core.display.Markdown object>"
      ]
     },
     "metadata": {},
     "output_type": "display_data"
    },
    {
     "ename": "NameError",
     "evalue": "name 'evaluator_selected' is not defined",
     "output_type": "error",
     "traceback": [
      "\u001b[0;31m---------------------------------------------------------------------------\u001b[0m",
      "\u001b[0;31mNameError\u001b[0m                                 Traceback (most recent call last)",
      "\u001b[0;32m/tmp/ipykernel_1805/2889584176.py\u001b[0m in \u001b[0;36m<module>\u001b[0;34m\u001b[0m\n\u001b[1;32m      1\u001b[0m \u001b[0;32mfor\u001b[0m \u001b[0mkinase\u001b[0m\u001b[0;34m,\u001b[0m \u001b[0mligand\u001b[0m \u001b[0;32min\u001b[0m \u001b[0mpairs\u001b[0m\u001b[0;34m:\u001b[0m\u001b[0;34m\u001b[0m\u001b[0;34m\u001b[0m\u001b[0m\n\u001b[1;32m      2\u001b[0m     \u001b[0mdisplay\u001b[0m\u001b[0;34m(\u001b[0m\u001b[0mMarkdown\u001b[0m\u001b[0;34m(\u001b[0m\u001b[0;34mf\"#### {ligand}\"\u001b[0m\u001b[0;34m)\u001b[0m\u001b[0;34m)\u001b[0m\u001b[0;34m\u001b[0m\u001b[0;34m\u001b[0m\u001b[0m\n\u001b[0;32m----> 3\u001b[0;31m     \u001b[0mranks\u001b[0m \u001b[0;34m=\u001b[0m \u001b[0mshow_ranking\u001b[0m\u001b[0;34m(\u001b[0m\u001b[0mevaluator_selected\u001b[0m\u001b[0;34m,\u001b[0m \u001b[0mkinase\u001b[0m\u001b[0;34m,\u001b[0m \u001b[0mligand\u001b[0m\u001b[0;34m)\u001b[0m\u001b[0;34m\u001b[0m\u001b[0;34m\u001b[0m\u001b[0m\n\u001b[0m\u001b[1;32m      4\u001b[0m     \u001b[0mdisplay\u001b[0m\u001b[0;34m(\u001b[0m\u001b[0mHTML\u001b[0m\u001b[0;34m(\u001b[0m\u001b[0mranks\u001b[0m\u001b[0;34m.\u001b[0m\u001b[0mto_html\u001b[0m\u001b[0;34m(\u001b[0m\u001b[0;34m)\u001b[0m\u001b[0;34m)\u001b[0m\u001b[0;34m)\u001b[0m\u001b[0;34m\u001b[0m\u001b[0;34m\u001b[0m\u001b[0m\n\u001b[1;32m      5\u001b[0m     \u001b[0mdisplay\u001b[0m\u001b[0;34m(\u001b[0m\u001b[0mHTML\u001b[0m\u001b[0;34m(\u001b[0m\u001b[0mranks\u001b[0m\u001b[0;34m[\u001b[0m\u001b[0mranks\u001b[0m\u001b[0;34m[\u001b[0m\u001b[0;34m\"karaman-davis.active\"\u001b[0m\u001b[0;34m]\u001b[0m\u001b[0;34m]\u001b[0m\u001b[0;34m.\u001b[0m\u001b[0mto_html\u001b[0m\u001b[0;34m(\u001b[0m\u001b[0;34m)\u001b[0m\u001b[0;34m)\u001b[0m\u001b[0;34m)\u001b[0m\u001b[0;34m\u001b[0m\u001b[0;34m\u001b[0m\u001b[0m\n",
      "\u001b[0;31mNameError\u001b[0m: name 'evaluator_selected' is not defined"
     ]
    }
   ],
   "source": [
    "for kinase, ligand in pairs:\n",
    "    display(Markdown(f\"#### {ligand}\"))\n",
    "    ranks = show_ranking(evaluator_selected, kinase, ligand)\n",
    "    display(HTML(ranks.to_html()))\n",
    "    display(HTML(ranks[ranks[\"karaman-davis.active\"]].to_html()))"
   ]
  },
  {
   "cell_type": "code",
   "execution_count": null,
   "metadata": {},
   "outputs": [],
   "source": []
  }
 ],
 "metadata": {
  "kernelspec": {
   "display_name": "Python 3",
   "language": "python",
   "name": "python3"
  },
  "language_info": {
   "codemirror_mode": {
    "name": "ipython",
    "version": 3
   },
   "file_extension": ".py",
   "mimetype": "text/x-python",
   "name": "python",
   "nbconvert_exporter": "python",
   "pygments_lexer": "ipython3",
   "version": "3.9.7"
  },
  "widgets": {
   "application/vnd.jupyter.widget-state+json": {
    "state": {
     "147de25ad9a24a29a08e9cf505550da5": {
      "model_module": "nglview-js-widgets",
      "model_module_version": "3.0.1",
      "model_name": "ColormakerRegistryModel",
      "state": {
       "_dom_classes": [],
       "_model_module": "nglview-js-widgets",
       "_model_module_version": "3.0.1",
       "_model_name": "ColormakerRegistryModel",
       "_msg_ar": [],
       "_msg_q": [],
       "_ready": false,
       "_view_count": null,
       "_view_module": "nglview-js-widgets",
       "_view_module_version": "3.0.1",
       "_view_name": "ColormakerRegistryView",
       "layout": "IPY_MODEL_d01e2da28cdb4176aa0a43c818d260e9"
      }
     },
     "d01e2da28cdb4176aa0a43c818d260e9": {
      "model_module": "@jupyter-widgets/base",
      "model_module_version": "1.2.0",
      "model_name": "LayoutModel",
      "state": {
       "_model_module": "@jupyter-widgets/base",
       "_model_module_version": "1.2.0",
       "_model_name": "LayoutModel",
       "_view_count": null,
       "_view_module": "@jupyter-widgets/base",
       "_view_module_version": "1.2.0",
       "_view_name": "LayoutView",
       "align_content": null,
       "align_items": null,
       "align_self": null,
       "border": null,
       "bottom": null,
       "display": null,
       "flex": null,
       "flex_flow": null,
       "grid_area": null,
       "grid_auto_columns": null,
       "grid_auto_flow": null,
       "grid_auto_rows": null,
       "grid_column": null,
       "grid_gap": null,
       "grid_row": null,
       "grid_template_areas": null,
       "grid_template_columns": null,
       "grid_template_rows": null,
       "height": null,
       "justify_content": null,
       "justify_items": null,
       "left": null,
       "margin": null,
       "max_height": null,
       "max_width": null,
       "min_height": null,
       "min_width": null,
       "object_fit": null,
       "object_position": null,
       "order": null,
       "overflow": null,
       "overflow_x": null,
       "overflow_y": null,
       "padding": null,
       "right": null,
       "top": null,
       "visibility": null,
       "width": null
      }
     }
    },
    "version_major": 2,
    "version_minor": 0
   }
  }
 },
 "nbformat": 4,
 "nbformat_minor": 4
}
