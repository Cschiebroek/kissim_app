{
 "cells": [
  {
   "cell_type": "markdown",
   "id": "96d46683-155d-418e-a24a-caed0d808eb6",
   "metadata": {},
   "source": [
    "# Compare different similarity methods\n",
    "\n",
    "- Pocket structure similarity (`kissim`)\n",
    "- Pocket sequence identity (KLIFS seq)\n",
    "- Interaction similarity (KLIFS IFP)\n",
    "- Compare matrices!"
   ]
  },
  {
   "cell_type": "markdown",
   "id": "6467aaf5-8adf-4f91-87bf-a43a5a11db0b",
   "metadata": {},
   "source": [
    "Resources:\n",
    "\n",
    "- [SciPy: Jaccard distance](https://docs.scipy.org/doc/scipy/reference/generated/scipy.spatial.distance.jaccard.html#scipy.spatial.distance.jaccard)\n",
    "- [Scikit-Learn: Pairwise distances](https://scikit-learn.org/stable/modules/generated/sklearn.metrics.pairwise_distances.html)"
   ]
  },
  {
   "cell_type": "code",
   "execution_count": 1,
   "id": "48dafe25-26b8-46bc-8e73-00f97811bf34",
   "metadata": {
    "execution": {
     "iopub.execute_input": "2021-09-16T19:48:51.269897Z",
     "iopub.status.busy": "2021-09-16T19:48:51.269521Z",
     "iopub.status.idle": "2021-09-16T19:48:51.277616Z",
     "shell.execute_reply": "2021-09-16T19:48:51.277265Z"
    }
   },
   "outputs": [],
   "source": [
    "%load_ext autoreload\n",
    "%autoreload 2"
   ]
  },
  {
   "cell_type": "code",
   "execution_count": 2,
   "id": "42a4d777-4646-4ddb-87be-2bf084133fc7",
   "metadata": {
    "execution": {
     "iopub.execute_input": "2021-09-16T19:48:51.280289Z",
     "iopub.status.busy": "2021-09-16T19:48:51.279955Z",
     "iopub.status.idle": "2021-09-16T19:48:52.364025Z",
     "shell.execute_reply": "2021-09-16T19:48:52.363067Z"
    },
    "tags": []
   },
   "outputs": [
    {
     "data": {
      "application/vnd.jupyter.widget-view+json": {
       "model_id": "e3dfcc43962e47d3a273c49fc36b16c9",
       "version_major": 2,
       "version_minor": 0
      },
      "text/plain": []
     },
     "metadata": {},
     "output_type": "display_data"
    }
   ],
   "source": [
    "from pathlib import Path\n",
    "\n",
    "import numpy as np\n",
    "import pandas as pd\n",
    "import scipy\n",
    "import seaborn as sns\n",
    "from opencadd.databases import klifs\n",
    "\n",
    "import src\n",
    "from src.paths import PATH_DATA, PATH_RESULTS"
   ]
  },
  {
   "cell_type": "code",
   "execution_count": 3,
   "id": "b16cad31-0a89-4490-a31d-6fa12d6f0499",
   "metadata": {
    "execution": {
     "iopub.execute_input": "2021-09-16T19:48:52.369322Z",
     "iopub.status.busy": "2021-09-16T19:48:52.368579Z",
     "iopub.status.idle": "2021-09-16T19:48:52.387105Z",
     "shell.execute_reply": "2021-09-16T19:48:52.387431Z"
    }
   },
   "outputs": [],
   "source": [
    "HERE = Path(_dh[-1])  # noqa: F821\n",
    "DATA = PATH_DATA\n",
    "RESULTS = PATH_RESULTS"
   ]
  },
  {
   "cell_type": "code",
   "execution_count": 4,
   "id": "b127bb53-6d5e-4d28-b92a-f6d5568c7614",
   "metadata": {
    "execution": {
     "iopub.execute_input": "2021-09-16T19:48:52.390070Z",
     "iopub.status.busy": "2021-09-16T19:48:52.389735Z",
     "iopub.status.idle": "2021-09-16T19:48:52.401334Z",
     "shell.execute_reply": "2021-09-16T19:48:52.401571Z"
    }
   },
   "outputs": [],
   "source": [
    "klifs_session = klifs.setup_remote()"
   ]
  },
  {
   "cell_type": "code",
   "execution_count": 5,
   "id": "ec317796-7405-4422-ab52-4934d2a3ab59",
   "metadata": {
    "execution": {
     "iopub.execute_input": "2021-09-16T19:48:52.404103Z",
     "iopub.status.busy": "2021-09-16T19:48:52.403799Z",
     "iopub.status.idle": "2021-09-16T19:48:52.415302Z",
     "shell.execute_reply": "2021-09-16T19:48:52.415033Z"
    }
   },
   "outputs": [],
   "source": [
    "def min_max_normalize_df(df):\n",
    "    df = (df - df.min().min()) / (df.max().max() - df.min().min())\n",
    "    return df"
   ]
  },
  {
   "cell_type": "markdown",
   "id": "0e786496-7b17-43ca-8833-6ac90e534be1",
   "metadata": {},
   "source": [
    "## Pocket structure similarity: `kissim`"
   ]
  },
  {
   "cell_type": "markdown",
   "id": "8847d8e6-fae4-49f0-9b16-eb4dca97d92b",
   "metadata": {},
   "source": [
    "### Kinase matrix"
   ]
  },
  {
   "cell_type": "code",
   "execution_count": 6,
   "id": "b33f1a1d-a866-4ca6-a4c7-db3263462b7b",
   "metadata": {
    "execution": {
     "iopub.execute_input": "2021-09-16T19:48:52.417660Z",
     "iopub.status.busy": "2021-09-16T19:48:52.417363Z",
     "iopub.status.idle": "2021-09-16T19:49:14.073956Z",
     "shell.execute_reply": "2021-09-16T19:49:14.074190Z"
    }
   },
   "outputs": [
    {
     "name": "stdout",
     "output_type": "stream",
     "text": [
      "CPU times: user 20 s, sys: 1.66 s, total: 21.7 s\n",
      "Wall time: 21.6 s\n"
     ]
    }
   ],
   "source": [
    "%%time\n",
    "kissim_matrix = src.data.distances.kissim()"
   ]
  },
  {
   "cell_type": "markdown",
   "id": "083cc50f-1639-4538-baaf-fd35c7909d03",
   "metadata": {},
   "source": [
    "### Get kinases and structure KLIFS IDs from `kissim` dataset"
   ]
  },
  {
   "cell_type": "markdown",
   "id": "d4721f0d-e149-4f9c-bf52-ca2ef43a42c0",
   "metadata": {},
   "source": [
    "#### Kinase names"
   ]
  },
  {
   "cell_type": "code",
   "execution_count": 7,
   "id": "09686333-a047-4f5e-858a-d96e0f5aeba8",
   "metadata": {
    "execution": {
     "iopub.execute_input": "2021-09-16T19:49:14.076627Z",
     "iopub.status.busy": "2021-09-16T19:49:14.076311Z",
     "iopub.status.idle": "2021-09-16T19:49:14.087654Z",
     "shell.execute_reply": "2021-09-16T19:49:14.087884Z"
    }
   },
   "outputs": [
    {
     "name": "stdout",
     "output_type": "stream",
     "text": [
      "Number of kinase names: 257\n"
     ]
    }
   ],
   "source": [
    "kinase_names = kissim_matrix.columns.to_list()\n",
    "print(f\"Number of kinase names: {len(kinase_names)}\")"
   ]
  },
  {
   "cell_type": "markdown",
   "id": "649723ee-0897-4cbf-af64-dab875e74975",
   "metadata": {},
   "source": [
    "#### Kinase KLIFS IDs"
   ]
  },
  {
   "cell_type": "code",
   "execution_count": 8,
   "id": "a3b1afb5-ecff-4d23-9387-36ff3bd85534",
   "metadata": {
    "execution": {
     "iopub.execute_input": "2021-09-16T19:49:14.090363Z",
     "iopub.status.busy": "2021-09-16T19:49:14.090054Z",
     "iopub.status.idle": "2021-09-16T19:49:14.414369Z",
     "shell.execute_reply": "2021-09-16T19:49:14.414703Z"
    }
   },
   "outputs": [
    {
     "name": "stdout",
     "output_type": "stream",
     "text": [
      "Number of kinase KLIFS IDs: 257\n"
     ]
    }
   ],
   "source": [
    "kinases = klifs_session.kinases.by_kinase_name(kinase_names, species=\"Human\")\n",
    "# Make sure the DataFrame is ordered by kinase names in list\n",
    "kinases = kinases.set_index(\"kinase.klifs_name\").loc[kinase_names].reset_index()\n",
    "kinase_klifs_ids = kinases[\"kinase.klifs_id\"].to_list()\n",
    "print(f\"Number of kinase KLIFS IDs: {len(kinase_klifs_ids)}\")"
   ]
  },
  {
   "cell_type": "markdown",
   "id": "a44d7bd4-566b-4f70-94d6-06d25064b8a3",
   "metadata": {},
   "source": [
    "#### Structure KLIFS IDs"
   ]
  },
  {
   "cell_type": "code",
   "execution_count": 9,
   "id": "95991184-75ea-4f42-aa73-32b2ee495a80",
   "metadata": {
    "execution": {
     "iopub.execute_input": "2021-09-16T19:49:14.417723Z",
     "iopub.status.busy": "2021-09-16T19:49:14.417298Z",
     "iopub.status.idle": "2021-09-16T19:49:17.220960Z",
     "shell.execute_reply": "2021-09-16T19:49:17.221193Z"
    },
    "tags": []
   },
   "outputs": [
    {
     "name": "stdout",
     "output_type": "stream",
     "text": [
      "Number of structure KLIFS IDs: 11468\n"
     ]
    }
   ],
   "source": [
    "structures = klifs_session.structures.by_kinase_klifs_id(kinase_klifs_ids)\n",
    "structure_klifs_ids = structures[\"structure.klifs_id\"].to_list()\n",
    "print(f\"Number of structure KLIFS IDs: {len(structure_klifs_ids)}\")"
   ]
  },
  {
   "cell_type": "markdown",
   "id": "3a27ce72-320f-4991-b972-34f33ac8173d",
   "metadata": {},
   "source": [
    "## Pocket sequence identity: KLIFS sequence\n",
    "\n",
    "Settings:\n",
    "\n",
    "- Keep full pocket sequences only (can contain gaps)\n",
    "- Sequence identity!\n",
    "- Matrix values: distances (not similarities)\n",
    "- Min-max normalization"
   ]
  },
  {
   "cell_type": "markdown",
   "id": "fcce0b7d-19c6-436d-bf7c-3c16e4a9d023",
   "metadata": {},
   "source": [
    "### Kinase matrix"
   ]
  },
  {
   "cell_type": "code",
   "execution_count": 10,
   "id": "3b0c78bb-a5f3-4d26-b2a7-b6df6a8ac91e",
   "metadata": {
    "execution": {
     "iopub.execute_input": "2021-09-16T19:49:17.223593Z",
     "iopub.status.busy": "2021-09-16T19:49:17.223299Z",
     "iopub.status.idle": "2021-09-16T19:49:17.754093Z",
     "shell.execute_reply": "2021-09-16T19:49:17.754343Z"
    }
   },
   "outputs": [
    {
     "name": "stdout",
     "output_type": "stream",
     "text": [
      "CPU times: user 374 ms, sys: 4.1 ms, total: 378 ms\n",
      "Wall time: 519 ms\n"
     ]
    }
   ],
   "source": [
    "%%time\n",
    "seq_matrix = src.data.distances.klifs_pocket_sequence()"
   ]
  },
  {
   "cell_type": "markdown",
   "id": "c8c55cc8-6178-4d6c-afbe-2c18a06bac58",
   "metadata": {},
   "source": [
    "## Interaction similarity: KLIFS IFP\n",
    "\n",
    "Settings:\n",
    "\n",
    "- Use structures in DFG-in only\n",
    "- Use Jaccard distance\n",
    "- Matrix values: distances (not similarities)\n",
    "- Min-max normalization"
   ]
  },
  {
   "cell_type": "markdown",
   "id": "7a36258a-bb2d-461e-88e6-c3ed962726dc",
   "metadata": {},
   "source": [
    "### Kinase matrix"
   ]
  },
  {
   "cell_type": "code",
   "execution_count": 11,
   "id": "6f6c6e8e-df71-4ee1-a92e-3b8a8d53c6e2",
   "metadata": {
    "execution": {
     "iopub.execute_input": "2021-09-16T19:49:17.756683Z",
     "iopub.status.busy": "2021-09-16T19:49:17.756387Z",
     "iopub.status.idle": "2021-09-16T19:49:22.083986Z",
     "shell.execute_reply": "2021-09-16T19:49:22.084219Z"
    }
   },
   "outputs": [
    {
     "ename": "KeyError",
     "evalue": "'interaction.fingerprint'",
     "output_type": "error",
     "traceback": [
      "\u001b[0;31m---------------------------------------------------------------------------\u001b[0m",
      "\u001b[0;31mKeyError\u001b[0m                                  Traceback (most recent call last)",
      "\u001b[0;32m~/.local/miniconda/envs/kissim-app-dev/lib/python3.9/site-packages/pandas/core/indexes/base.py\u001b[0m in \u001b[0;36mget_loc\u001b[0;34m(self, key, method, tolerance)\u001b[0m\n\u001b[1;32m   3360\u001b[0m             \u001b[0;32mtry\u001b[0m\u001b[0;34m:\u001b[0m\u001b[0;34m\u001b[0m\u001b[0;34m\u001b[0m\u001b[0m\n\u001b[0;32m-> 3361\u001b[0;31m                 \u001b[0;32mreturn\u001b[0m \u001b[0mself\u001b[0m\u001b[0;34m.\u001b[0m\u001b[0m_engine\u001b[0m\u001b[0;34m.\u001b[0m\u001b[0mget_loc\u001b[0m\u001b[0;34m(\u001b[0m\u001b[0mcasted_key\u001b[0m\u001b[0;34m)\u001b[0m\u001b[0;34m\u001b[0m\u001b[0;34m\u001b[0m\u001b[0m\n\u001b[0m\u001b[1;32m   3362\u001b[0m             \u001b[0;32mexcept\u001b[0m \u001b[0mKeyError\u001b[0m \u001b[0;32mas\u001b[0m \u001b[0merr\u001b[0m\u001b[0;34m:\u001b[0m\u001b[0;34m\u001b[0m\u001b[0;34m\u001b[0m\u001b[0m\n",
      "\u001b[0;32m~/.local/miniconda/envs/kissim-app-dev/lib/python3.9/site-packages/pandas/_libs/index.pyx\u001b[0m in \u001b[0;36mpandas._libs.index.IndexEngine.get_loc\u001b[0;34m()\u001b[0m\n",
      "\u001b[0;32m~/.local/miniconda/envs/kissim-app-dev/lib/python3.9/site-packages/pandas/_libs/index.pyx\u001b[0m in \u001b[0;36mpandas._libs.index.IndexEngine.get_loc\u001b[0;34m()\u001b[0m\n",
      "\u001b[0;32mpandas/_libs/hashtable_class_helper.pxi\u001b[0m in \u001b[0;36mpandas._libs.hashtable.PyObjectHashTable.get_item\u001b[0;34m()\u001b[0m\n",
      "\u001b[0;32mpandas/_libs/hashtable_class_helper.pxi\u001b[0m in \u001b[0;36mpandas._libs.hashtable.PyObjectHashTable.get_item\u001b[0;34m()\u001b[0m\n",
      "\u001b[0;31mKeyError\u001b[0m: 'interaction.fingerprint'",
      "\nThe above exception was the direct cause of the following exception:\n",
      "\u001b[0;31mKeyError\u001b[0m                                  Traceback (most recent call last)",
      "\u001b[0;32m<timed exec>\u001b[0m in \u001b[0;36m<module>\u001b[0;34m\u001b[0m\n",
      "\u001b[0;32m~/Documents/GitHub/kissim_app/src/data/distances.py\u001b[0m in \u001b[0;36mklifs_pocket_ifp\u001b[0;34m(structure_klifs_ids, dfg, metric, kinmap_kinases)\u001b[0m\n\u001b[1;32m    193\u001b[0m     \u001b[0;31m# Generate list of lists\u001b[0m\u001b[0;34m\u001b[0m\u001b[0;34m\u001b[0m\u001b[0m\n\u001b[1;32m    194\u001b[0m     ifps_list_of_lists = (\n\u001b[0;32m--> 195\u001b[0;31m         \u001b[0mifps\u001b[0m\u001b[0;34m[\u001b[0m\u001b[0;34m\"interaction.fingerprint\"\u001b[0m\u001b[0;34m]\u001b[0m\u001b[0;34m\u001b[0m\u001b[0;34m\u001b[0m\u001b[0m\n\u001b[0m\u001b[1;32m    196\u001b[0m         \u001b[0;34m.\u001b[0m\u001b[0mapply\u001b[0m\u001b[0;34m(\u001b[0m\u001b[0mlist\u001b[0m\u001b[0;34m)\u001b[0m\u001b[0;34m\u001b[0m\u001b[0;34m\u001b[0m\u001b[0m\n\u001b[1;32m    197\u001b[0m         \u001b[0;34m.\u001b[0m\u001b[0mapply\u001b[0m\u001b[0;34m(\u001b[0m\u001b[0;32mlambda\u001b[0m \u001b[0mx\u001b[0m\u001b[0;34m:\u001b[0m \u001b[0;34m[\u001b[0m\u001b[0;32mTrue\u001b[0m \u001b[0;32mif\u001b[0m \u001b[0mi\u001b[0m \u001b[0;34m==\u001b[0m \u001b[0;34m\"1\"\u001b[0m \u001b[0;32melse\u001b[0m \u001b[0;32mFalse\u001b[0m \u001b[0;32mfor\u001b[0m \u001b[0mi\u001b[0m \u001b[0;32min\u001b[0m \u001b[0mx\u001b[0m\u001b[0;34m]\u001b[0m\u001b[0;34m)\u001b[0m\u001b[0;34m\u001b[0m\u001b[0;34m\u001b[0m\u001b[0m\n",
      "\u001b[0;32m~/.local/miniconda/envs/kissim-app-dev/lib/python3.9/site-packages/pandas/core/frame.py\u001b[0m in \u001b[0;36m__getitem__\u001b[0;34m(self, key)\u001b[0m\n\u001b[1;32m   3456\u001b[0m             \u001b[0;32mif\u001b[0m \u001b[0mself\u001b[0m\u001b[0;34m.\u001b[0m\u001b[0mcolumns\u001b[0m\u001b[0;34m.\u001b[0m\u001b[0mnlevels\u001b[0m \u001b[0;34m>\u001b[0m \u001b[0;36m1\u001b[0m\u001b[0;34m:\u001b[0m\u001b[0;34m\u001b[0m\u001b[0;34m\u001b[0m\u001b[0m\n\u001b[1;32m   3457\u001b[0m                 \u001b[0;32mreturn\u001b[0m \u001b[0mself\u001b[0m\u001b[0;34m.\u001b[0m\u001b[0m_getitem_multilevel\u001b[0m\u001b[0;34m(\u001b[0m\u001b[0mkey\u001b[0m\u001b[0;34m)\u001b[0m\u001b[0;34m\u001b[0m\u001b[0;34m\u001b[0m\u001b[0m\n\u001b[0;32m-> 3458\u001b[0;31m             \u001b[0mindexer\u001b[0m \u001b[0;34m=\u001b[0m \u001b[0mself\u001b[0m\u001b[0;34m.\u001b[0m\u001b[0mcolumns\u001b[0m\u001b[0;34m.\u001b[0m\u001b[0mget_loc\u001b[0m\u001b[0;34m(\u001b[0m\u001b[0mkey\u001b[0m\u001b[0;34m)\u001b[0m\u001b[0;34m\u001b[0m\u001b[0;34m\u001b[0m\u001b[0m\n\u001b[0m\u001b[1;32m   3459\u001b[0m             \u001b[0;32mif\u001b[0m \u001b[0mis_integer\u001b[0m\u001b[0;34m(\u001b[0m\u001b[0mindexer\u001b[0m\u001b[0;34m)\u001b[0m\u001b[0;34m:\u001b[0m\u001b[0;34m\u001b[0m\u001b[0;34m\u001b[0m\u001b[0m\n\u001b[1;32m   3460\u001b[0m                 \u001b[0mindexer\u001b[0m \u001b[0;34m=\u001b[0m \u001b[0;34m[\u001b[0m\u001b[0mindexer\u001b[0m\u001b[0;34m]\u001b[0m\u001b[0;34m\u001b[0m\u001b[0;34m\u001b[0m\u001b[0m\n",
      "\u001b[0;32m~/.local/miniconda/envs/kissim-app-dev/lib/python3.9/site-packages/pandas/core/indexes/base.py\u001b[0m in \u001b[0;36mget_loc\u001b[0;34m(self, key, method, tolerance)\u001b[0m\n\u001b[1;32m   3361\u001b[0m                 \u001b[0;32mreturn\u001b[0m \u001b[0mself\u001b[0m\u001b[0;34m.\u001b[0m\u001b[0m_engine\u001b[0m\u001b[0;34m.\u001b[0m\u001b[0mget_loc\u001b[0m\u001b[0;34m(\u001b[0m\u001b[0mcasted_key\u001b[0m\u001b[0;34m)\u001b[0m\u001b[0;34m\u001b[0m\u001b[0;34m\u001b[0m\u001b[0m\n\u001b[1;32m   3362\u001b[0m             \u001b[0;32mexcept\u001b[0m \u001b[0mKeyError\u001b[0m \u001b[0;32mas\u001b[0m \u001b[0merr\u001b[0m\u001b[0;34m:\u001b[0m\u001b[0;34m\u001b[0m\u001b[0;34m\u001b[0m\u001b[0m\n\u001b[0;32m-> 3363\u001b[0;31m                 \u001b[0;32mraise\u001b[0m \u001b[0mKeyError\u001b[0m\u001b[0;34m(\u001b[0m\u001b[0mkey\u001b[0m\u001b[0;34m)\u001b[0m \u001b[0;32mfrom\u001b[0m \u001b[0merr\u001b[0m\u001b[0;34m\u001b[0m\u001b[0;34m\u001b[0m\u001b[0m\n\u001b[0m\u001b[1;32m   3364\u001b[0m \u001b[0;34m\u001b[0m\u001b[0m\n\u001b[1;32m   3365\u001b[0m         \u001b[0;32mif\u001b[0m \u001b[0mis_scalar\u001b[0m\u001b[0;34m(\u001b[0m\u001b[0mkey\u001b[0m\u001b[0;34m)\u001b[0m \u001b[0;32mand\u001b[0m \u001b[0misna\u001b[0m\u001b[0;34m(\u001b[0m\u001b[0mkey\u001b[0m\u001b[0;34m)\u001b[0m \u001b[0;32mand\u001b[0m \u001b[0;32mnot\u001b[0m \u001b[0mself\u001b[0m\u001b[0;34m.\u001b[0m\u001b[0mhasnans\u001b[0m\u001b[0;34m:\u001b[0m\u001b[0;34m\u001b[0m\u001b[0;34m\u001b[0m\u001b[0m\n",
      "\u001b[0;31mKeyError\u001b[0m: 'interaction.fingerprint'"
     ]
    }
   ],
   "source": [
    "%%time\n",
    "ifp_matrix = src.data.distances.klifs_pocket_ifp(structure_klifs_ids)"
   ]
  },
  {
   "cell_type": "markdown",
   "id": "4d7a9821-0fde-4104-8a89-9665b9194695",
   "metadata": {},
   "source": [
    "## Compare matrices"
   ]
  },
  {
   "cell_type": "markdown",
   "id": "fdb4969e-890b-4825-a9e1-34143a8223fe",
   "metadata": {},
   "source": [
    "### Shared kinases"
   ]
  },
  {
   "cell_type": "code",
   "execution_count": 12,
   "id": "425a2ad1-2126-4fe9-9cac-a47f733fac0d",
   "metadata": {
    "execution": {
     "iopub.execute_input": "2021-09-16T19:49:22.086611Z",
     "iopub.status.busy": "2021-09-16T19:49:22.086298Z",
     "iopub.status.idle": "2021-09-16T19:49:22.103739Z",
     "shell.execute_reply": "2021-09-16T19:49:22.103982Z"
    }
   },
   "outputs": [
    {
     "ename": "NameError",
     "evalue": "name 'ifp_matrix' is not defined",
     "output_type": "error",
     "traceback": [
      "\u001b[0;31m---------------------------------------------------------------------------\u001b[0m",
      "\u001b[0;31mNameError\u001b[0m                                 Traceback (most recent call last)",
      "\u001b[0;32m/tmp/ipykernel_1745/3932849749.py\u001b[0m in \u001b[0;36m<module>\u001b[0;34m\u001b[0m\n\u001b[0;32m----> 1\u001b[0;31m \u001b[0mkissim_matrix\u001b[0m\u001b[0;34m.\u001b[0m\u001b[0mshape\u001b[0m\u001b[0;34m,\u001b[0m \u001b[0mseq_matrix\u001b[0m\u001b[0;34m.\u001b[0m\u001b[0mshape\u001b[0m\u001b[0;34m,\u001b[0m \u001b[0mifp_matrix\u001b[0m\u001b[0;34m.\u001b[0m\u001b[0mshape\u001b[0m\u001b[0;34m\u001b[0m\u001b[0;34m\u001b[0m\u001b[0m\n\u001b[0m",
      "\u001b[0;31mNameError\u001b[0m: name 'ifp_matrix' is not defined"
     ]
    }
   ],
   "source": [
    "kissim_matrix.shape, seq_matrix.shape, ifp_matrix.shape"
   ]
  },
  {
   "cell_type": "code",
   "execution_count": 13,
   "id": "fddb2c65-d982-413d-9e3d-a9cad83ecf22",
   "metadata": {
    "execution": {
     "iopub.execute_input": "2021-09-16T19:49:22.106449Z",
     "iopub.status.busy": "2021-09-16T19:49:22.106116Z",
     "iopub.status.idle": "2021-09-16T19:49:22.120541Z",
     "shell.execute_reply": "2021-09-16T19:49:22.120848Z"
    }
   },
   "outputs": [
    {
     "ename": "NameError",
     "evalue": "name 'ifp_matrix' is not defined",
     "output_type": "error",
     "traceback": [
      "\u001b[0;31m---------------------------------------------------------------------------\u001b[0m",
      "\u001b[0;31mNameError\u001b[0m                                 Traceback (most recent call last)",
      "\u001b[0;32m/tmp/ipykernel_1745/1644958150.py\u001b[0m in \u001b[0;36m<module>\u001b[0;34m\u001b[0m\n\u001b[1;32m      1\u001b[0m \u001b[0mkinase_names_selected\u001b[0m \u001b[0;34m=\u001b[0m \u001b[0mset\u001b[0m\u001b[0;34m(\u001b[0m\u001b[0mkissim_matrix\u001b[0m\u001b[0;34m.\u001b[0m\u001b[0mcolumns\u001b[0m\u001b[0;34m.\u001b[0m\u001b[0mto_list\u001b[0m\u001b[0;34m(\u001b[0m\u001b[0;34m)\u001b[0m\u001b[0;34m)\u001b[0m \u001b[0;34m&\u001b[0m \u001b[0mset\u001b[0m\u001b[0;34m(\u001b[0m\u001b[0mseq_matrix\u001b[0m\u001b[0;34m.\u001b[0m\u001b[0mcolumns\u001b[0m\u001b[0;34m.\u001b[0m\u001b[0mto_list\u001b[0m\u001b[0;34m(\u001b[0m\u001b[0;34m)\u001b[0m\u001b[0;34m)\u001b[0m\u001b[0;34m\u001b[0m\u001b[0;34m\u001b[0m\u001b[0m\n\u001b[0;32m----> 2\u001b[0;31m \u001b[0mkinase_names_selected\u001b[0m \u001b[0;34m=\u001b[0m \u001b[0mkinase_names_selected\u001b[0m \u001b[0;34m&\u001b[0m \u001b[0mset\u001b[0m\u001b[0;34m(\u001b[0m\u001b[0mifp_matrix\u001b[0m\u001b[0;34m.\u001b[0m\u001b[0mcolumns\u001b[0m\u001b[0;34m.\u001b[0m\u001b[0mto_list\u001b[0m\u001b[0;34m(\u001b[0m\u001b[0;34m)\u001b[0m\u001b[0;34m)\u001b[0m\u001b[0;34m\u001b[0m\u001b[0;34m\u001b[0m\u001b[0m\n\u001b[0m\u001b[1;32m      3\u001b[0m \u001b[0mkinase_names_selected\u001b[0m \u001b[0;34m=\u001b[0m \u001b[0msorted\u001b[0m\u001b[0;34m(\u001b[0m\u001b[0mkinase_names_selected\u001b[0m\u001b[0;34m)\u001b[0m\u001b[0;34m\u001b[0m\u001b[0;34m\u001b[0m\u001b[0m\n\u001b[1;32m      4\u001b[0m \u001b[0mprint\u001b[0m\u001b[0;34m(\u001b[0m\u001b[0;34mf\"Number of shared kinases: {len(kinase_names_selected)}\"\u001b[0m\u001b[0;34m)\u001b[0m\u001b[0;34m\u001b[0m\u001b[0;34m\u001b[0m\u001b[0m\n",
      "\u001b[0;31mNameError\u001b[0m: name 'ifp_matrix' is not defined"
     ]
    }
   ],
   "source": [
    "kinase_names_selected = set(kissim_matrix.columns.to_list()) & set(seq_matrix.columns.to_list())\n",
    "kinase_names_selected = kinase_names_selected & set(ifp_matrix.columns.to_list())\n",
    "kinase_names_selected = sorted(kinase_names_selected)\n",
    "print(f\"Number of shared kinases: {len(kinase_names_selected)}\")"
   ]
  },
  {
   "cell_type": "markdown",
   "id": "0f45eaa1-b985-4004-87be-45dfaa3641e4",
   "metadata": {},
   "source": [
    "### Shared kinase distance matrix"
   ]
  },
  {
   "cell_type": "code",
   "execution_count": 14,
   "id": "ae203ad3-5683-4922-97c9-4fe3d295cf5d",
   "metadata": {
    "execution": {
     "iopub.execute_input": "2021-09-16T19:49:22.123702Z",
     "iopub.status.busy": "2021-09-16T19:49:22.123398Z",
     "iopub.status.idle": "2021-09-16T19:49:22.140376Z",
     "shell.execute_reply": "2021-09-16T19:49:22.140104Z"
    }
   },
   "outputs": [
    {
     "ename": "NameError",
     "evalue": "name 'ifp_matrix' is not defined",
     "output_type": "error",
     "traceback": [
      "\u001b[0;31m---------------------------------------------------------------------------\u001b[0m",
      "\u001b[0;31mNameError\u001b[0m                                 Traceback (most recent call last)",
      "\u001b[0;32m/tmp/ipykernel_1745/2970942311.py\u001b[0m in \u001b[0;36m<module>\u001b[0;34m\u001b[0m\n\u001b[1;32m      1\u001b[0m \u001b[0mkissim_matrix_shared\u001b[0m \u001b[0;34m=\u001b[0m \u001b[0mkissim_matrix\u001b[0m\u001b[0;34m.\u001b[0m\u001b[0mloc\u001b[0m\u001b[0;34m[\u001b[0m\u001b[0mkinase_names_selected\u001b[0m\u001b[0;34m,\u001b[0m \u001b[0mkinase_names_selected\u001b[0m\u001b[0;34m]\u001b[0m\u001b[0;34m\u001b[0m\u001b[0;34m\u001b[0m\u001b[0m\n\u001b[1;32m      2\u001b[0m \u001b[0mseq_matrix_shared\u001b[0m \u001b[0;34m=\u001b[0m \u001b[0mseq_matrix\u001b[0m\u001b[0;34m.\u001b[0m\u001b[0mloc\u001b[0m\u001b[0;34m[\u001b[0m\u001b[0mkinase_names_selected\u001b[0m\u001b[0;34m,\u001b[0m \u001b[0mkinase_names_selected\u001b[0m\u001b[0;34m]\u001b[0m\u001b[0;34m\u001b[0m\u001b[0;34m\u001b[0m\u001b[0m\n\u001b[0;32m----> 3\u001b[0;31m \u001b[0mifp_matrix_shared\u001b[0m \u001b[0;34m=\u001b[0m \u001b[0mifp_matrix\u001b[0m\u001b[0;34m.\u001b[0m\u001b[0mloc\u001b[0m\u001b[0;34m[\u001b[0m\u001b[0mkinase_names_selected\u001b[0m\u001b[0;34m,\u001b[0m \u001b[0mkinase_names_selected\u001b[0m\u001b[0;34m]\u001b[0m\u001b[0;34m\u001b[0m\u001b[0;34m\u001b[0m\u001b[0m\n\u001b[0m\u001b[1;32m      4\u001b[0m \u001b[0;34m\u001b[0m\u001b[0m\n\u001b[1;32m      5\u001b[0m \u001b[0mprint\u001b[0m\u001b[0;34m(\u001b[0m\u001b[0;34m\"KiSSim\"\u001b[0m\u001b[0;34m,\u001b[0m \u001b[0mkissim_matrix_shared\u001b[0m\u001b[0;34m.\u001b[0m\u001b[0mmin\u001b[0m\u001b[0;34m(\u001b[0m\u001b[0;34m)\u001b[0m\u001b[0;34m.\u001b[0m\u001b[0mmin\u001b[0m\u001b[0;34m(\u001b[0m\u001b[0;34m)\u001b[0m\u001b[0;34m,\u001b[0m \u001b[0mkissim_matrix_shared\u001b[0m\u001b[0;34m.\u001b[0m\u001b[0mmax\u001b[0m\u001b[0;34m(\u001b[0m\u001b[0;34m)\u001b[0m\u001b[0;34m.\u001b[0m\u001b[0mmax\u001b[0m\u001b[0;34m(\u001b[0m\u001b[0;34m)\u001b[0m\u001b[0;34m)\u001b[0m\u001b[0;34m\u001b[0m\u001b[0;34m\u001b[0m\u001b[0m\n",
      "\u001b[0;31mNameError\u001b[0m: name 'ifp_matrix' is not defined"
     ]
    }
   ],
   "source": [
    "kissim_matrix_shared = kissim_matrix.loc[kinase_names_selected, kinase_names_selected]\n",
    "seq_matrix_shared = seq_matrix.loc[kinase_names_selected, kinase_names_selected]\n",
    "ifp_matrix_shared = ifp_matrix.loc[kinase_names_selected, kinase_names_selected]\n",
    "\n",
    "print(\"KiSSim\", kissim_matrix_shared.min().min(), kissim_matrix_shared.max().max())\n",
    "print(\"Seq   \", seq_matrix_shared.min().min(), seq_matrix_shared.max().max())\n",
    "print(\"IFP   \", ifp_matrix_shared.min().min(), ifp_matrix_shared.max().max())"
   ]
  },
  {
   "cell_type": "markdown",
   "id": "24181215-f67e-44fc-a74c-9bd4b1a4eceb",
   "metadata": {},
   "source": [
    "### Shared normalized kinase distance matrix"
   ]
  },
  {
   "cell_type": "code",
   "execution_count": 15,
   "id": "48500d43-7741-4660-a096-2b5c054b1759",
   "metadata": {
    "execution": {
     "iopub.execute_input": "2021-09-16T19:49:22.143131Z",
     "iopub.status.busy": "2021-09-16T19:49:22.142827Z",
     "iopub.status.idle": "2021-09-16T19:49:22.162117Z",
     "shell.execute_reply": "2021-09-16T19:49:22.162375Z"
    }
   },
   "outputs": [
    {
     "ename": "NameError",
     "evalue": "name 'ifp_matrix_shared' is not defined",
     "output_type": "error",
     "traceback": [
      "\u001b[0;31m---------------------------------------------------------------------------\u001b[0m",
      "\u001b[0;31mNameError\u001b[0m                                 Traceback (most recent call last)",
      "\u001b[0;32m/tmp/ipykernel_1745/2383987489.py\u001b[0m in \u001b[0;36m<module>\u001b[0;34m\u001b[0m\n\u001b[1;32m      1\u001b[0m \u001b[0mkissim_matrix_shared_normalized\u001b[0m \u001b[0;34m=\u001b[0m \u001b[0mmin_max_normalize_df\u001b[0m\u001b[0;34m(\u001b[0m\u001b[0mkissim_matrix_shared\u001b[0m\u001b[0;34m)\u001b[0m\u001b[0;34m\u001b[0m\u001b[0;34m\u001b[0m\u001b[0m\n\u001b[1;32m      2\u001b[0m \u001b[0mseq_matrix_shared_normalized\u001b[0m \u001b[0;34m=\u001b[0m \u001b[0mmin_max_normalize_df\u001b[0m\u001b[0;34m(\u001b[0m\u001b[0mseq_matrix_shared\u001b[0m\u001b[0;34m)\u001b[0m\u001b[0;34m\u001b[0m\u001b[0;34m\u001b[0m\u001b[0m\n\u001b[0;32m----> 3\u001b[0;31m \u001b[0mifp_matrix_shared_normalized\u001b[0m \u001b[0;34m=\u001b[0m \u001b[0mmin_max_normalize_df\u001b[0m\u001b[0;34m(\u001b[0m\u001b[0mifp_matrix_shared\u001b[0m\u001b[0;34m)\u001b[0m\u001b[0;34m\u001b[0m\u001b[0;34m\u001b[0m\u001b[0m\n\u001b[0m\u001b[1;32m      4\u001b[0m \u001b[0;34m\u001b[0m\u001b[0m\n\u001b[1;32m      5\u001b[0m print(\n",
      "\u001b[0;31mNameError\u001b[0m: name 'ifp_matrix_shared' is not defined"
     ]
    }
   ],
   "source": [
    "kissim_matrix_shared_normalized = min_max_normalize_df(kissim_matrix_shared)\n",
    "seq_matrix_shared_normalized = min_max_normalize_df(seq_matrix_shared)\n",
    "ifp_matrix_shared_normalized = min_max_normalize_df(ifp_matrix_shared)\n",
    "\n",
    "print(\n",
    "    \"KiSSim\",\n",
    "    kissim_matrix_shared_normalized.min().min(),\n",
    "    kissim_matrix_shared_normalized.max().max(),\n",
    ")\n",
    "print(\"Seq   \", seq_matrix_shared_normalized.min().min(), seq_matrix_shared_normalized.max().max())\n",
    "print(\"IFP   \", ifp_matrix_shared_normalized.min().min(), ifp_matrix_shared_normalized.max().max())"
   ]
  },
  {
   "cell_type": "markdown",
   "id": "692fa10b-1887-4ccb-aa5d-4bd1f6fd9919",
   "metadata": {},
   "source": [
    "### Shared kinase pair distances"
   ]
  },
  {
   "cell_type": "code",
   "execution_count": 16,
   "id": "8a549213-30ad-4049-b605-4abbb22348e5",
   "metadata": {
    "execution": {
     "iopub.execute_input": "2021-09-16T19:49:22.165239Z",
     "iopub.status.busy": "2021-09-16T19:49:22.164933Z",
     "iopub.status.idle": "2021-09-16T19:49:22.180291Z",
     "shell.execute_reply": "2021-09-16T19:49:22.180022Z"
    }
   },
   "outputs": [
    {
     "ename": "NameError",
     "evalue": "name 'ifp_matrix_shared_normalized' is not defined",
     "output_type": "error",
     "traceback": [
      "\u001b[0;31m---------------------------------------------------------------------------\u001b[0m",
      "\u001b[0;31mNameError\u001b[0m                                 Traceback (most recent call last)",
      "\u001b[0;32m/tmp/ipykernel_1745/2405761647.py\u001b[0m in \u001b[0;36m<module>\u001b[0;34m\u001b[0m\n\u001b[1;32m      5\u001b[0m     \u001b[0mnp\u001b[0m\u001b[0;34m.\u001b[0m\u001b[0mtril_indices\u001b[0m\u001b[0;34m(\u001b[0m\u001b[0mseq_matrix_shared_normalized\u001b[0m\u001b[0;34m.\u001b[0m\u001b[0mto_numpy\u001b[0m\u001b[0;34m(\u001b[0m\u001b[0;34m)\u001b[0m\u001b[0;34m.\u001b[0m\u001b[0mshape\u001b[0m\u001b[0;34m[\u001b[0m\u001b[0;36m0\u001b[0m\u001b[0;34m]\u001b[0m\u001b[0;34m,\u001b[0m \u001b[0;34m-\u001b[0m\u001b[0;36m1\u001b[0m\u001b[0;34m)\u001b[0m\u001b[0;34m\u001b[0m\u001b[0;34m\u001b[0m\u001b[0m\n\u001b[1;32m      6\u001b[0m ]\n\u001b[0;32m----> 7\u001b[0;31m ifp_pairs = ifp_matrix_shared_normalized.to_numpy()[\n\u001b[0m\u001b[1;32m      8\u001b[0m     \u001b[0mnp\u001b[0m\u001b[0;34m.\u001b[0m\u001b[0mtril_indices\u001b[0m\u001b[0;34m(\u001b[0m\u001b[0mifp_matrix_shared_normalized\u001b[0m\u001b[0;34m.\u001b[0m\u001b[0mto_numpy\u001b[0m\u001b[0;34m(\u001b[0m\u001b[0;34m)\u001b[0m\u001b[0;34m.\u001b[0m\u001b[0mshape\u001b[0m\u001b[0;34m[\u001b[0m\u001b[0;36m0\u001b[0m\u001b[0;34m]\u001b[0m\u001b[0;34m,\u001b[0m \u001b[0;34m-\u001b[0m\u001b[0;36m1\u001b[0m\u001b[0;34m)\u001b[0m\u001b[0;34m\u001b[0m\u001b[0;34m\u001b[0m\u001b[0m\n\u001b[1;32m      9\u001b[0m ]\n",
      "\u001b[0;31mNameError\u001b[0m: name 'ifp_matrix_shared_normalized' is not defined"
     ]
    }
   ],
   "source": [
    "kissim_pairs = kissim_matrix_shared_normalized.to_numpy()[\n",
    "    np.tril_indices(kissim_matrix_shared_normalized.to_numpy().shape[0], -1)\n",
    "]\n",
    "seq_pairs = seq_matrix_shared_normalized.to_numpy()[\n",
    "    np.tril_indices(seq_matrix_shared_normalized.to_numpy().shape[0], -1)\n",
    "]\n",
    "ifp_pairs = ifp_matrix_shared_normalized.to_numpy()[\n",
    "    np.tril_indices(ifp_matrix_shared_normalized.to_numpy().shape[0], -1)\n",
    "]\n",
    "\n",
    "pair_distances_df = pd.DataFrame(\n",
    "    {\"KiSSim\": kissim_pairs, \"KLIFS pocket sequence\": seq_pairs, \"KLIFS pocket IFP\": ifp_pairs}\n",
    ")\n",
    "pair_distances_df.head()"
   ]
  },
  {
   "cell_type": "markdown",
   "id": "47ddca40-c08b-49e8-ae90-7cb638523c3f",
   "metadata": {},
   "source": [
    "### Plot distributions\n",
    "\n",
    "- https://seaborn.pydata.org/tutorial/distributions.html\n",
    "- https://seaborn.pydata.org/generated/seaborn.pairplot.html"
   ]
  },
  {
   "cell_type": "code",
   "execution_count": 17,
   "id": "4ebb8aea-bea9-481c-9e45-d138ce82d6bf",
   "metadata": {
    "execution": {
     "iopub.execute_input": "2021-09-16T19:49:22.183002Z",
     "iopub.status.busy": "2021-09-16T19:49:22.182696Z",
     "iopub.status.idle": "2021-09-16T19:49:22.193812Z",
     "shell.execute_reply": "2021-09-16T19:49:22.194046Z"
    }
   },
   "outputs": [],
   "source": [
    "def annotate(x, y, ax):\n",
    "    \"\"\"\n",
    "    Annotate axes with correlation coefficient.\n",
    "    https://docs.scipy.org/doc/scipy/reference/generated/scipy.stats.pearsonr.html\n",
    "    \"\"\"\n",
    "    r, p = scipy.stats.pearsonr(x, y)\n",
    "    ax.text(0.05, 0.95, f\"r={round(r, 2)}\", transform=ax.transAxes)"
   ]
  },
  {
   "cell_type": "code",
   "execution_count": 18,
   "id": "516ce15f-c5c7-49f3-a6ca-f7a83218fa24",
   "metadata": {
    "execution": {
     "iopub.execute_input": "2021-09-16T19:49:22.197603Z",
     "iopub.status.busy": "2021-09-16T19:49:22.197289Z",
     "iopub.status.idle": "2021-09-16T19:49:22.211351Z",
     "shell.execute_reply": "2021-09-16T19:49:22.211616Z"
    }
   },
   "outputs": [
    {
     "ename": "NameError",
     "evalue": "name 'pair_distances_df' is not defined",
     "output_type": "error",
     "traceback": [
      "\u001b[0;31m---------------------------------------------------------------------------\u001b[0m",
      "\u001b[0;31mNameError\u001b[0m                                 Traceback (most recent call last)",
      "\u001b[0;32m/tmp/ipykernel_1745/97479422.py\u001b[0m in \u001b[0;36m<module>\u001b[0;34m\u001b[0m\n\u001b[0;32m----> 1\u001b[0;31m \u001b[0mg\u001b[0m \u001b[0;34m=\u001b[0m \u001b[0msns\u001b[0m\u001b[0;34m.\u001b[0m\u001b[0mPairGrid\u001b[0m\u001b[0;34m(\u001b[0m\u001b[0mpair_distances_df\u001b[0m\u001b[0;34m)\u001b[0m\u001b[0;34m\u001b[0m\u001b[0;34m\u001b[0m\u001b[0m\n\u001b[0m\u001b[1;32m      2\u001b[0m \u001b[0;31m# Turn off grid\u001b[0m\u001b[0;34m\u001b[0m\u001b[0;34m\u001b[0m\u001b[0m\n\u001b[1;32m      3\u001b[0m \u001b[0;32mfor\u001b[0m \u001b[0maxes\u001b[0m \u001b[0;32min\u001b[0m \u001b[0mg\u001b[0m\u001b[0;34m.\u001b[0m\u001b[0maxes\u001b[0m\u001b[0;34m:\u001b[0m\u001b[0;34m\u001b[0m\u001b[0;34m\u001b[0m\u001b[0m\n\u001b[1;32m      4\u001b[0m     \u001b[0;32mfor\u001b[0m \u001b[0max\u001b[0m \u001b[0;32min\u001b[0m \u001b[0maxes\u001b[0m\u001b[0;34m:\u001b[0m\u001b[0;34m\u001b[0m\u001b[0;34m\u001b[0m\u001b[0m\n\u001b[1;32m      5\u001b[0m         \u001b[0max\u001b[0m\u001b[0;34m.\u001b[0m\u001b[0mgrid\u001b[0m\u001b[0;34m(\u001b[0m\u001b[0;32mFalse\u001b[0m\u001b[0;34m)\u001b[0m\u001b[0;34m\u001b[0m\u001b[0;34m\u001b[0m\u001b[0m\n",
      "\u001b[0;31mNameError\u001b[0m: name 'pair_distances_df' is not defined"
     ]
    }
   ],
   "source": [
    "g = sns.PairGrid(pair_distances_df)\n",
    "# Turn off grid\n",
    "for axes in g.axes:\n",
    "    for ax in axes:\n",
    "        ax.grid(False)\n",
    "\n",
    "g.map_upper(sns.regplot, scatter_kws={\"s\": 1}, ci=95)\n",
    "g.map_lower(sns.kdeplot, fill=True)\n",
    "g.map_diag(sns.histplot, kde=True)\n",
    "\n",
    "# Annotate\n",
    "tmp = pair_distances_df[[\"KiSSim\", \"KLIFS pocket sequence\"]].dropna()\n",
    "annotate(tmp[\"KiSSim\"], tmp[\"KLIFS pocket sequence\"], g.axes[0][1])\n",
    "tmp = pair_distances_df[[\"KiSSim\", \"KLIFS pocket IFP\"]].dropna()\n",
    "annotate(tmp[\"KiSSim\"], tmp[\"KLIFS pocket IFP\"], g.axes[0][2])\n",
    "tmp = pair_distances_df[[\"KLIFS pocket sequence\", \"KLIFS pocket IFP\"]].dropna()\n",
    "annotate(tmp[\"KLIFS pocket sequence\"], tmp[\"KLIFS pocket IFP\"], g.axes[1][2])\n",
    "\n",
    "g.savefig(HERE / \"../../notebooks/figures/figX_method_comparison_pairplots.pdf\")"
   ]
  },
  {
   "cell_type": "code",
   "execution_count": null,
   "id": "2efb777f-2c76-4437-9ae8-a8405230e4d0",
   "metadata": {},
   "outputs": [],
   "source": []
  }
 ],
 "metadata": {
  "kernelspec": {
   "display_name": "Python 3",
   "language": "python",
   "name": "python3"
  },
  "language_info": {
   "codemirror_mode": {
    "name": "ipython",
    "version": 3
   },
   "file_extension": ".py",
   "mimetype": "text/x-python",
   "name": "python",
   "nbconvert_exporter": "python",
   "pygments_lexer": "ipython3",
   "version": "3.9.7"
  },
  "widgets": {
   "application/vnd.jupyter.widget-state+json": {
    "state": {
     "ce237e6d99b94c87baf18e0785390565": {
      "model_module": "@jupyter-widgets/base",
      "model_module_version": "1.2.0",
      "model_name": "LayoutModel",
      "state": {
       "_model_module": "@jupyter-widgets/base",
       "_model_module_version": "1.2.0",
       "_model_name": "LayoutModel",
       "_view_count": null,
       "_view_module": "@jupyter-widgets/base",
       "_view_module_version": "1.2.0",
       "_view_name": "LayoutView",
       "align_content": null,
       "align_items": null,
       "align_self": null,
       "border": null,
       "bottom": null,
       "display": null,
       "flex": null,
       "flex_flow": null,
       "grid_area": null,
       "grid_auto_columns": null,
       "grid_auto_flow": null,
       "grid_auto_rows": null,
       "grid_column": null,
       "grid_gap": null,
       "grid_row": null,
       "grid_template_areas": null,
       "grid_template_columns": null,
       "grid_template_rows": null,
       "height": null,
       "justify_content": null,
       "justify_items": null,
       "left": null,
       "margin": null,
       "max_height": null,
       "max_width": null,
       "min_height": null,
       "min_width": null,
       "object_fit": null,
       "object_position": null,
       "order": null,
       "overflow": null,
       "overflow_x": null,
       "overflow_y": null,
       "padding": null,
       "right": null,
       "top": null,
       "visibility": null,
       "width": null
      }
     },
     "e3dfcc43962e47d3a273c49fc36b16c9": {
      "model_module": "nglview-js-widgets",
      "model_module_version": "3.0.1",
      "model_name": "ColormakerRegistryModel",
      "state": {
       "_dom_classes": [],
       "_model_module": "nglview-js-widgets",
       "_model_module_version": "3.0.1",
       "_model_name": "ColormakerRegistryModel",
       "_msg_ar": [],
       "_msg_q": [],
       "_ready": false,
       "_view_count": null,
       "_view_module": "nglview-js-widgets",
       "_view_module_version": "3.0.1",
       "_view_name": "ColormakerRegistryView",
       "layout": "IPY_MODEL_ce237e6d99b94c87baf18e0785390565"
      }
     }
    },
    "version_major": 2,
    "version_minor": 0
   }
  }
 },
 "nbformat": 4,
 "nbformat_minor": 5
}
