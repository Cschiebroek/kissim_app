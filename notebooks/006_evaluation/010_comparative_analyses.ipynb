{
 "cells": [
  {
   "cell_type": "markdown",
   "id": "96d46683-155d-418e-a24a-caed0d808eb6",
   "metadata": {},
   "source": [
    "# Compare different similarity methods\n",
    "\n",
    "- Pocket structure similarity (`kissim`)\n",
    "- Pocket sequence identity (KLIFS seq)\n",
    "- Interaction similarity (KLIFS IFP)\n",
    "- Compare matrices!"
   ]
  },
  {
   "cell_type": "markdown",
   "id": "6467aaf5-8adf-4f91-87bf-a43a5a11db0b",
   "metadata": {},
   "source": [
    "Resources:\n",
    "\n",
    "- [SciPy: Jaccard distance](https://docs.scipy.org/doc/scipy/reference/generated/scipy.spatial.distance.jaccard.html#scipy.spatial.distance.jaccard)\n",
    "- [Scikit-Learn: Pairwise distances](https://scikit-learn.org/stable/modules/generated/sklearn.metrics.pairwise_distances.html)"
   ]
  },
  {
   "cell_type": "code",
   "execution_count": 1,
   "id": "48dafe25-26b8-46bc-8e73-00f97811bf34",
   "metadata": {},
   "outputs": [],
   "source": [
    "%load_ext autoreload\n",
    "%autoreload 2"
   ]
  },
  {
   "cell_type": "code",
   "execution_count": 2,
   "id": "42a4d777-4646-4ddb-87be-2bf084133fc7",
   "metadata": {
    "tags": []
   },
   "outputs": [
    {
     "data": {
      "application/vnd.jupyter.widget-view+json": {
       "model_id": "07e99a9707294378926b225d03006d40",
       "version_major": 2,
       "version_minor": 0
      },
      "text/plain": []
     },
     "metadata": {},
     "output_type": "display_data"
    }
   ],
   "source": [
    "from pathlib import Path\n",
    "\n",
    "import numpy as np\n",
    "import pandas as pd\n",
    "import scipy\n",
    "import seaborn as sns\n",
    "from opencadd.databases import klifs\n",
    "\n",
    "import src\n",
    "from src.paths import PATH_DATA, PATH_RESULTS\n",
    "from src.utils import check_distance_matrix"
   ]
  },
  {
   "cell_type": "code",
   "execution_count": 3,
   "id": "b16cad31-0a89-4490-a31d-6fa12d6f0499",
   "metadata": {},
   "outputs": [],
   "source": [
    "HERE = Path(_dh[-1])  # noqa: F821\n",
    "DATA = PATH_DATA\n",
    "RESULTS = PATH_RESULTS"
   ]
  },
  {
   "cell_type": "code",
   "execution_count": 4,
   "id": "b127bb53-6d5e-4d28-b92a-f6d5568c7614",
   "metadata": {},
   "outputs": [],
   "source": [
    "klifs_session = klifs.setup_remote()"
   ]
  },
  {
   "cell_type": "code",
   "execution_count": 5,
   "id": "ec317796-7405-4422-ab52-4934d2a3ab59",
   "metadata": {},
   "outputs": [],
   "source": [
    "def min_max_normalize_df(df):\n",
    "    df = (df - df.min().min()) / (df.max().max() - df.min().min())\n",
    "    return df"
   ]
  },
  {
   "cell_type": "markdown",
   "id": "0e786496-7b17-43ca-8833-6ac90e534be1",
   "metadata": {},
   "source": [
    "## Pocket structure similarity: `kissim`"
   ]
  },
  {
   "cell_type": "markdown",
   "id": "8847d8e6-fae4-49f0-9b16-eb4dca97d92b",
   "metadata": {},
   "source": [
    "### Kinase matrix"
   ]
  },
  {
   "cell_type": "code",
   "execution_count": 6,
   "id": "b33f1a1d-a866-4ca6-a4c7-db3263462b7b",
   "metadata": {},
   "outputs": [
    {
     "name": "stdout",
     "output_type": "stream",
     "text": [
      "CPU times: user 34.2 s, sys: 1.54 s, total: 35.8 s\n",
      "Wall time: 35.8 s\n"
     ]
    }
   ],
   "source": [
    "%%time\n",
    "kissim_matrix = src.data.distances.kissim()"
   ]
  },
  {
   "cell_type": "markdown",
   "id": "083cc50f-1639-4538-baaf-fd35c7909d03",
   "metadata": {},
   "source": [
    "### Get kinases and structure KLIFS IDs from `kissim` dataset"
   ]
  },
  {
   "cell_type": "markdown",
   "id": "d4721f0d-e149-4f9c-bf52-ca2ef43a42c0",
   "metadata": {},
   "source": [
    "#### Kinase names"
   ]
  },
  {
   "cell_type": "code",
   "execution_count": 7,
   "id": "09686333-a047-4f5e-858a-d96e0f5aeba8",
   "metadata": {},
   "outputs": [
    {
     "name": "stdout",
     "output_type": "stream",
     "text": [
      "Number of kinase names: 257\n"
     ]
    }
   ],
   "source": [
    "kinase_names = kissim_matrix.columns.to_list()\n",
    "print(f\"Number of kinase names: {len(kinase_names)}\")"
   ]
  },
  {
   "cell_type": "markdown",
   "id": "649723ee-0897-4cbf-af64-dab875e74975",
   "metadata": {},
   "source": [
    "#### Kinase KLIFS IDs"
   ]
  },
  {
   "cell_type": "code",
   "execution_count": 8,
   "id": "a3b1afb5-ecff-4d23-9387-36ff3bd85534",
   "metadata": {},
   "outputs": [
    {
     "name": "stdout",
     "output_type": "stream",
     "text": [
      "Number of kinase KLIFS IDs: 257\n"
     ]
    }
   ],
   "source": [
    "kinases = klifs_session.kinases.by_kinase_name(kinase_names, species=\"Human\")\n",
    "# Make sure the DataFrame is ordered by kinase names in list\n",
    "kinases = kinases.set_index(\"kinase.klifs_name\").loc[kinase_names].reset_index()\n",
    "kinase_klifs_ids = kinases[\"kinase.klifs_id\"].to_list()\n",
    "print(f\"Number of kinase KLIFS IDs: {len(kinase_klifs_ids)}\")"
   ]
  },
  {
   "cell_type": "markdown",
   "id": "a44d7bd4-566b-4f70-94d6-06d25064b8a3",
   "metadata": {},
   "source": [
    "#### Structure KLIFS IDs"
   ]
  },
  {
   "cell_type": "code",
   "execution_count": 9,
   "id": "95991184-75ea-4f42-aa73-32b2ee495a80",
   "metadata": {
    "tags": []
   },
   "outputs": [
    {
     "name": "stdout",
     "output_type": "stream",
     "text": [
      "Number of structure KLIFS IDs: 11519\n"
     ]
    }
   ],
   "source": [
    "structures = klifs_session.structures.by_kinase_klifs_id(kinase_klifs_ids)\n",
    "structure_klifs_ids = structures[\"structure.klifs_id\"].to_list()\n",
    "print(f\"Number of structure KLIFS IDs: {len(structure_klifs_ids)}\")"
   ]
  },
  {
   "cell_type": "markdown",
   "id": "3a27ce72-320f-4991-b972-34f33ac8173d",
   "metadata": {},
   "source": [
    "## Pocket sequence identity: KLIFS sequence\n",
    "\n",
    "Settings:\n",
    "\n",
    "- Keep full pocket sequences only (can contain gaps)\n",
    "- Sequence identity!\n",
    "- Matrix values: distances (not similarities)\n",
    "- Min-max normalization"
   ]
  },
  {
   "cell_type": "markdown",
   "id": "fcce0b7d-19c6-436d-bf7c-3c16e4a9d023",
   "metadata": {},
   "source": [
    "### Kinase matrix"
   ]
  },
  {
   "cell_type": "code",
   "execution_count": 10,
   "id": "3b0c78bb-a5f3-4d26-b2a7-b6df6a8ac91e",
   "metadata": {},
   "outputs": [
    {
     "name": "stdout",
     "output_type": "stream",
     "text": [
      "CPU times: user 357 ms, sys: 39 µs, total: 357 ms\n",
      "Wall time: 519 ms\n"
     ]
    }
   ],
   "source": [
    "%%time\n",
    "seq_matrix = src.data.distances.klifs_pocket_sequence()"
   ]
  },
  {
   "cell_type": "markdown",
   "id": "c8c55cc8-6178-4d6c-afbe-2c18a06bac58",
   "metadata": {},
   "source": [
    "## Interaction similarity: KLIFS IFP\n",
    "\n",
    "Settings:\n",
    "\n",
    "- Use structures in DFG-in only\n",
    "- Use Jaccard distance\n",
    "- Matrix values: distances (not similarities)\n",
    "- Min-max normalization"
   ]
  },
  {
   "cell_type": "markdown",
   "id": "7a36258a-bb2d-461e-88e6-c3ed962726dc",
   "metadata": {},
   "source": [
    "### Kinase matrix"
   ]
  },
  {
   "cell_type": "code",
   "execution_count": 11,
   "id": "6f6c6e8e-df71-4ee1-a92e-3b8a8d53c6e2",
   "metadata": {},
   "outputs": [
    {
     "name": "stdout",
     "output_type": "stream",
     "text": [
      "CPU times: user 16.4 s, sys: 881 ms, total: 17.3 s\n",
      "Wall time: 20.3 s\n"
     ]
    }
   ],
   "source": [
    "%%time\n",
    "ifp_matrix = src.data.distances.klifs_pocket_ifp(structure_klifs_ids)"
   ]
  },
  {
   "cell_type": "markdown",
   "id": "6b1f63d0-d9f6-4cc5-9b1b-39c01e5e7518",
   "metadata": {},
   "source": [
    "## Pocket structure similarity: SiteAlign\n",
    "\n",
    "Settings:\n",
    "\n",
    "- Use structures in DFG-in only\n",
    "- SiteAlign encoding and comparison\n",
    "- Matrix values: distances"
   ]
  },
  {
   "cell_type": "markdown",
   "id": "ceb9ac7e-0f3a-4cad-85d9-e3cde3beee5f",
   "metadata": {},
   "source": [
    "### Kinase matrix"
   ]
  },
  {
   "cell_type": "code",
   "execution_count": 12,
   "id": "d71d4514-0207-4686-bd0c-d209c7671250",
   "metadata": {},
   "outputs": [
    {
     "name": "stdout",
     "output_type": "stream",
     "text": [
      "CPU times: user 10.7 ms, sys: 140 µs, total: 10.8 ms\n",
      "Wall time: 10.3 ms\n"
     ]
    }
   ],
   "source": [
    "%%time\n",
    "sitealign_matrix = src.data.distances.sitealign_pocket_structure()"
   ]
  },
  {
   "cell_type": "markdown",
   "id": "4d7a9821-0fde-4104-8a89-9665b9194695",
   "metadata": {
    "tags": []
   },
   "source": [
    "## Compare matrices"
   ]
  },
  {
   "cell_type": "markdown",
   "id": "afd8d9aa-2219-49a3-b6d2-78d551b56fa8",
   "metadata": {},
   "source": [
    "### Distance matrix conditions"
   ]
  },
  {
   "cell_type": "code",
   "execution_count": 13,
   "id": "1a218d95-3a9a-42c0-b2ce-0d06c0f848ea",
   "metadata": {},
   "outputs": [
    {
     "name": "stdout",
     "output_type": "stream",
     "text": [
      "(257, 257)\n",
      "(237, 237)\n",
      "Matrix 2D and square?:        True\n",
      "Matrix positive?:             True\n",
      "Matrix diagonale 0?:          True\n",
      "Matrix symmetric?:            True\n",
      "Triangular inequality?:       True\n"
     ]
    }
   ],
   "source": [
    "# If matrix contains NaN values, remove!\n",
    "print(kissim_matrix.shape)\n",
    "indices = kissim_matrix.dropna(axis=0).index.to_list()\n",
    "columns = kissim_matrix.dropna(axis=1).columns.to_list()\n",
    "if not indices == columns:\n",
    "    raise IndexError(\"KiSSim matrix rows/columns must be the same.\")\n",
    "kissim_matrix = kissim_matrix.loc[indices, columns]\n",
    "print(kissim_matrix.shape)\n",
    "\n",
    "check_distance_matrix(kissim_matrix.values)"
   ]
  },
  {
   "cell_type": "code",
   "execution_count": 14,
   "id": "f4b5544f-f16f-48dd-8747-83d198c51cc4",
   "metadata": {},
   "outputs": [
    {
     "name": "stdout",
     "output_type": "stream",
     "text": [
      "Matrix 2D and square?:        True\n",
      "Matrix positive?:             True\n",
      "Matrix diagonale 0?:          True\n",
      "Matrix symmetric?:            True\n",
      "Triangular inequality?:       True\n"
     ]
    }
   ],
   "source": [
    "check_distance_matrix(seq_matrix.values)"
   ]
  },
  {
   "cell_type": "code",
   "execution_count": 15,
   "id": "082bcb4d-ebab-4fe1-8a6d-166f9fd28b4b",
   "metadata": {},
   "outputs": [
    {
     "name": "stdout",
     "output_type": "stream",
     "text": [
      "Matrix 2D and square?:        True\n",
      "Matrix positive?:             True\n",
      "Matrix diagonale 0?:          True\n",
      "Matrix symmetric?:            True\n",
      "Triangular inequality?:       False\n"
     ]
    }
   ],
   "source": [
    "check_distance_matrix(ifp_matrix.values)"
   ]
  },
  {
   "cell_type": "code",
   "execution_count": 16,
   "id": "d12433cc-3d4c-4847-8875-ba9ff12885d6",
   "metadata": {},
   "outputs": [
    {
     "name": "stdout",
     "output_type": "stream",
     "text": [
      "Matrix 2D and square?:        True\n",
      "Matrix positive?:             True\n",
      "Matrix diagonale 0?:          True\n",
      "Matrix symmetric?:            True\n",
      "Triangular inequality?:       True\n"
     ]
    }
   ],
   "source": [
    "check_distance_matrix(sitealign_matrix.values)"
   ]
  },
  {
   "cell_type": "markdown",
   "id": "fdb4969e-890b-4825-a9e1-34143a8223fe",
   "metadata": {},
   "source": [
    "### Shared kinases"
   ]
  },
  {
   "cell_type": "code",
   "execution_count": 17,
   "id": "425a2ad1-2126-4fe9-9cac-a47f733fac0d",
   "metadata": {},
   "outputs": [
    {
     "data": {
      "text/plain": [
       "((237, 237), (521, 521), (242, 242), (256, 256))"
      ]
     },
     "execution_count": 17,
     "metadata": {},
     "output_type": "execute_result"
    }
   ],
   "source": [
    "kissim_matrix.shape, seq_matrix.shape, ifp_matrix.shape, sitealign_matrix.shape"
   ]
  },
  {
   "cell_type": "code",
   "execution_count": 18,
   "id": "fddb2c65-d982-413d-9e3d-a9cad83ecf22",
   "metadata": {},
   "outputs": [
    {
     "name": "stdout",
     "output_type": "stream",
     "text": [
      "Number of shared kinases: 223\n"
     ]
    }
   ],
   "source": [
    "kinase_names_selected = set(kissim_matrix.columns.to_list()) & set(seq_matrix.columns.to_list())\n",
    "kinase_names_selected = kinase_names_selected & set(ifp_matrix.columns.to_list())\n",
    "kinase_names_selected = kinase_names_selected & set(sitealign_matrix.columns.to_list())\n",
    "kinase_names_selected = sorted(kinase_names_selected)\n",
    "print(f\"Number of shared kinases: {len(kinase_names_selected)}\")"
   ]
  },
  {
   "cell_type": "markdown",
   "id": "0f45eaa1-b985-4004-87be-45dfaa3641e4",
   "metadata": {},
   "source": [
    "### Shared kinase distance matrix"
   ]
  },
  {
   "cell_type": "code",
   "execution_count": 19,
   "id": "ae203ad3-5683-4922-97c9-4fe3d295cf5d",
   "metadata": {},
   "outputs": [
    {
     "name": "stdout",
     "output_type": "stream",
     "text": [
      "KiSSim     0.0 0.1803713833698385\n",
      "Seq        0.0 0.9176470588235294\n",
      "IFP        0.0 0.875\n",
      "SiteAlign  0.0 0.4789\n"
     ]
    }
   ],
   "source": [
    "kissim_matrix_shared = kissim_matrix.loc[kinase_names_selected, kinase_names_selected]\n",
    "seq_matrix_shared = seq_matrix.loc[kinase_names_selected, kinase_names_selected]\n",
    "ifp_matrix_shared = ifp_matrix.loc[kinase_names_selected, kinase_names_selected]\n",
    "sitealign_matrix_shared = sitealign_matrix.loc[kinase_names_selected, kinase_names_selected]\n",
    "\n",
    "print(\"KiSSim    \", kissim_matrix_shared.min().min(), kissim_matrix_shared.max().max())\n",
    "print(\"Seq       \", seq_matrix_shared.min().min(), seq_matrix_shared.max().max())\n",
    "print(\"IFP       \", ifp_matrix_shared.min().min(), ifp_matrix_shared.max().max())\n",
    "print(\"SiteAlign \", sitealign_matrix_shared.min().min(), sitealign_matrix_shared.max().max())"
   ]
  },
  {
   "cell_type": "markdown",
   "id": "24181215-f67e-44fc-a74c-9bd4b1a4eceb",
   "metadata": {},
   "source": [
    "### Shared normalized kinase distance matrix"
   ]
  },
  {
   "cell_type": "code",
   "execution_count": 20,
   "id": "48500d43-7741-4660-a096-2b5c054b1759",
   "metadata": {},
   "outputs": [
    {
     "name": "stdout",
     "output_type": "stream",
     "text": [
      "KiSSim     0.0 1.0\n",
      "Seq        0.0 1.0\n",
      "IFP        0.0 1.0\n",
      "SiteAlign  0.0 1.0\n"
     ]
    }
   ],
   "source": [
    "kissim_matrix_shared_normalized = min_max_normalize_df(kissim_matrix_shared)\n",
    "seq_matrix_shared_normalized = min_max_normalize_df(seq_matrix_shared)\n",
    "ifp_matrix_shared_normalized = min_max_normalize_df(ifp_matrix_shared)\n",
    "sitealign_matrix_shared_normalized = min_max_normalize_df(sitealign_matrix_shared)\n",
    "\n",
    "print(\n",
    "    \"KiSSim    \",\n",
    "    kissim_matrix_shared_normalized.min().min(),\n",
    "    kissim_matrix_shared_normalized.max().max(),\n",
    ")\n",
    "print(\n",
    "    \"Seq       \",\n",
    "    seq_matrix_shared_normalized.min().min(),\n",
    "    seq_matrix_shared_normalized.max().max(),\n",
    ")\n",
    "print(\n",
    "    \"IFP       \",\n",
    "    ifp_matrix_shared_normalized.min().min(),\n",
    "    ifp_matrix_shared_normalized.max().max(),\n",
    ")\n",
    "print(\n",
    "    \"SiteAlign \",\n",
    "    sitealign_matrix_shared_normalized.min().min(),\n",
    "    sitealign_matrix_shared_normalized.max().max(),\n",
    ")"
   ]
  },
  {
   "cell_type": "markdown",
   "id": "692fa10b-1887-4ccb-aa5d-4bd1f6fd9919",
   "metadata": {},
   "source": [
    "### Shared kinase pair distances"
   ]
  },
  {
   "cell_type": "code",
   "execution_count": 21,
   "id": "8a549213-30ad-4049-b605-4abbb22348e5",
   "metadata": {},
   "outputs": [
    {
     "data": {
      "text/html": [
       "<div>\n",
       "<style scoped>\n",
       "    .dataframe tbody tr th:only-of-type {\n",
       "        vertical-align: middle;\n",
       "    }\n",
       "\n",
       "    .dataframe tbody tr th {\n",
       "        vertical-align: top;\n",
       "    }\n",
       "\n",
       "    .dataframe thead th {\n",
       "        text-align: right;\n",
       "    }\n",
       "</style>\n",
       "<table border=\"1\" class=\"dataframe\">\n",
       "  <thead>\n",
       "    <tr style=\"text-align: right;\">\n",
       "      <th></th>\n",
       "      <th>KiSSim</th>\n",
       "      <th>KLIFS pocket sequence</th>\n",
       "      <th>KLIFS pocket IFP</th>\n",
       "      <th>SiteAlign pocket structure</th>\n",
       "    </tr>\n",
       "  </thead>\n",
       "  <tbody>\n",
       "    <tr>\n",
       "      <th>0</th>\n",
       "      <td>0.593896</td>\n",
       "      <td>0.794872</td>\n",
       "      <td>0.300752</td>\n",
       "      <td>0.487785</td>\n",
       "    </tr>\n",
       "    <tr>\n",
       "      <th>1</th>\n",
       "      <td>0.619421</td>\n",
       "      <td>0.807692</td>\n",
       "      <td>0.571429</td>\n",
       "      <td>0.579871</td>\n",
       "    </tr>\n",
       "    <tr>\n",
       "      <th>2</th>\n",
       "      <td>0.063432</td>\n",
       "      <td>0.051282</td>\n",
       "      <td>0.049689</td>\n",
       "      <td>0.071205</td>\n",
       "    </tr>\n",
       "    <tr>\n",
       "      <th>3</th>\n",
       "      <td>0.604030</td>\n",
       "      <td>0.782051</td>\n",
       "      <td>0.428571</td>\n",
       "      <td>0.517853</td>\n",
       "    </tr>\n",
       "    <tr>\n",
       "      <th>4</th>\n",
       "      <td>0.365915</td>\n",
       "      <td>0.500000</td>\n",
       "      <td>0.285714</td>\n",
       "      <td>0.349551</td>\n",
       "    </tr>\n",
       "  </tbody>\n",
       "</table>\n",
       "</div>"
      ],
      "text/plain": [
       "     KiSSim  KLIFS pocket sequence  KLIFS pocket IFP  \\\n",
       "0  0.593896               0.794872          0.300752   \n",
       "1  0.619421               0.807692          0.571429   \n",
       "2  0.063432               0.051282          0.049689   \n",
       "3  0.604030               0.782051          0.428571   \n",
       "4  0.365915               0.500000          0.285714   \n",
       "\n",
       "   SiteAlign pocket structure  \n",
       "0                    0.487785  \n",
       "1                    0.579871  \n",
       "2                    0.071205  \n",
       "3                    0.517853  \n",
       "4                    0.349551  "
      ]
     },
     "execution_count": 21,
     "metadata": {},
     "output_type": "execute_result"
    }
   ],
   "source": [
    "kissim_pairs = kissim_matrix_shared_normalized.to_numpy()[\n",
    "    np.tril_indices(kissim_matrix_shared_normalized.to_numpy().shape[0], -1)\n",
    "]\n",
    "seq_pairs = seq_matrix_shared_normalized.to_numpy()[\n",
    "    np.tril_indices(seq_matrix_shared_normalized.to_numpy().shape[0], -1)\n",
    "]\n",
    "ifp_pairs = ifp_matrix_shared_normalized.to_numpy()[\n",
    "    np.tril_indices(ifp_matrix_shared_normalized.to_numpy().shape[0], -1)\n",
    "]\n",
    "sitealign_pairs = sitealign_matrix_shared_normalized.to_numpy()[\n",
    "    np.tril_indices(sitealign_matrix_shared_normalized.to_numpy().shape[0], -1)\n",
    "]\n",
    "\n",
    "pair_distances_df = pd.DataFrame(\n",
    "    {\n",
    "        \"KiSSim\": kissim_pairs,\n",
    "        \"KLIFS pocket sequence\": seq_pairs,\n",
    "        \"KLIFS pocket IFP\": ifp_pairs,\n",
    "        \"SiteAlign pocket structure\": sitealign_pairs,\n",
    "    }\n",
    ")\n",
    "pair_distances_df.head()"
   ]
  },
  {
   "cell_type": "markdown",
   "id": "47ddca40-c08b-49e8-ae90-7cb638523c3f",
   "metadata": {},
   "source": [
    "### Plot distributions\n",
    "\n",
    "- https://seaborn.pydata.org/tutorial/distributions.html\n",
    "- https://seaborn.pydata.org/generated/seaborn.pairplot.html"
   ]
  },
  {
   "cell_type": "code",
   "execution_count": 22,
   "id": "4ebb8aea-bea9-481c-9e45-d138ce82d6bf",
   "metadata": {},
   "outputs": [],
   "source": [
    "def annotate(x, y, ax):\n",
    "    \"\"\"\n",
    "    Annotate axes with correlation coefficient.\n",
    "    https://docs.scipy.org/doc/scipy/reference/generated/scipy.stats.pearsonr.html\n",
    "    \"\"\"\n",
    "    r, p = scipy.stats.pearsonr(x, y)\n",
    "    ax.text(0.05, 0.95, f\"r={round(r, 2)}\", transform=ax.transAxes)"
   ]
  },
  {
   "cell_type": "code",
   "execution_count": 23,
   "id": "516ce15f-c5c7-49f3-a6ca-f7a83218fa24",
   "metadata": {},
   "outputs": [
    {
     "name": "stdout",
     "output_type": "stream",
     "text": [
      "CPU times: user 1min 50s, sys: 1.66 s, total: 1min 51s\n",
      "Wall time: 1min 48s\n"
     ]
    },
    {
     "data": {
      "image/png": "[encoded data removed]",
      "text/plain": [
       "<Figure size 720x720 with 20 Axes>"
      ]
     },
     "metadata": {},
     "output_type": "display_data"
    }
   ],
   "source": [
    "%%time\n",
    "\n",
    "g = sns.PairGrid(pair_distances_df)\n",
    "# Turn off grid\n",
    "for axes in g.axes:\n",
    "    for ax in axes:\n",
    "        ax.grid(False)\n",
    "\n",
    "g.map_upper(sns.regplot, scatter_kws={\"s\": 1}, ci=95)\n",
    "g.map_lower(sns.kdeplot, fill=True)\n",
    "g.map_diag(sns.histplot, kde=True)\n",
    "\n",
    "# Annotate\n",
    "\n",
    "# First row\n",
    "tmp = pair_distances_df[[\"KiSSim\", \"KLIFS pocket sequence\"]].dropna()\n",
    "annotate(tmp[\"KiSSim\"], tmp[\"KLIFS pocket sequence\"], g.axes[0][1])\n",
    "tmp = pair_distances_df[[\"KiSSim\", \"KLIFS pocket IFP\"]].dropna()\n",
    "annotate(tmp[\"KiSSim\"], tmp[\"KLIFS pocket IFP\"], g.axes[0][2])\n",
    "tmp = pair_distances_df[[\"KiSSim\", \"SiteAlign pocket structure\"]].dropna()\n",
    "annotate(tmp[\"KiSSim\"], tmp[\"SiteAlign pocket structure\"], g.axes[0][3])\n",
    "\n",
    "# Second row\n",
    "tmp = pair_distances_df[[\"KLIFS pocket sequence\", \"KLIFS pocket IFP\"]].dropna()\n",
    "annotate(tmp[\"KLIFS pocket sequence\"], tmp[\"KLIFS pocket IFP\"], g.axes[1][2])\n",
    "tmp = pair_distances_df[[\"KLIFS pocket sequence\", \"SiteAlign pocket structure\"]].dropna()\n",
    "annotate(tmp[\"KLIFS pocket sequence\"], tmp[\"SiteAlign pocket structure\"], g.axes[1][3])\n",
    "\n",
    "# Third row\n",
    "tmp = pair_distances_df[[\"KLIFS pocket IFP\", \"SiteAlign pocket structure\"]].dropna()\n",
    "annotate(tmp[\"KLIFS pocket IFP\"], tmp[\"SiteAlign pocket structure\"], g.axes[2][3])\n",
    "\n",
    "g.savefig(HERE / \"../../notebooks/figures/method_comparison_pairplots.pdf\")"
   ]
  },
  {
   "cell_type": "code",
   "execution_count": null,
   "id": "2efb777f-2c76-4437-9ae8-a8405230e4d0",
   "metadata": {},
   "outputs": [],
   "source": []
  }
 ],
 "metadata": {
  "kernelspec": {
   "display_name": "Python 3 (ipykernel)",
   "language": "python",
   "name": "python3"
  },
  "language_info": {
   "codemirror_mode": {
    "name": "ipython",
    "version": 3
   },
   "file_extension": ".py",
   "mimetype": "text/x-python",
   "name": "python",
   "nbconvert_exporter": "python",
   "pygments_lexer": "ipython3",
   "version": "3.9.7"
  },
  "widgets": {
   "application/vnd.jupyter.widget-state+json": {
    "state": {
     "07e99a9707294378926b225d03006d40": {
      "model_module": "nglview-js-widgets",
      "model_module_version": "3.0.1",
      "model_name": "ColormakerRegistryModel",
      "state": {
       "_msg_ar": [],
       "_msg_q": [],
       "_ready": true,
       "layout": "IPY_MODEL_9f6fc01741bc43fab87f3690b8405994"
      }
     },
     "9f6fc01741bc43fab87f3690b8405994": {
      "model_module": "@jupyter-widgets/base",
      "model_module_version": "1.2.0",
      "model_name": "LayoutModel",
      "state": {}
     }
    },
    "version_major": 2,
    "version_minor": 0
   }
  }
 },
 "nbformat": 4,
 "nbformat_minor": 5
}
