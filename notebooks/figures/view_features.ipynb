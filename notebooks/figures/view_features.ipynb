{
 "cells": [
  {
   "cell_type": "markdown",
   "id": "921f4e33-5a94-440f-865b-3c912bd788b7",
   "metadata": {},
   "source": [
    "# NGLview-based `kissim` figures"
   ]
  },
  {
   "cell_type": "code",
   "execution_count": null,
   "id": "b13c7c3d-53ce-4085-bd38-fbebae43fc94",
   "metadata": {},
   "outputs": [],
   "source": [
    "%load_ext autoreload\n",
    "%autoreload 2"
   ]
  },
  {
   "cell_type": "markdown",
   "id": "35276e0e-ebfb-4edd-8d36-210f03e226a1",
   "metadata": {},
   "source": [
    "## Side chain orientation\n",
    "\n",
    "- Example KLIFS structure: https://klifs.net/details.php?structure_id=783\n",
    "- Use DFG-Phe to demonstrate side chain orientation: KLIFS numbering 82"
   ]
  },
  {
   "cell_type": "code",
   "execution_count": null,
   "id": "1788d88a-e533-448e-868f-edf1992b9ccf",
   "metadata": {},
   "outputs": [],
   "source": [
    "STRUCTURE_KLIFS_ID = 783\n",
    "RESIDUE_KLIFS_ID = 82\n",
    "RESIDUE_NAME = \"PHE\""
   ]
  },
  {
   "cell_type": "code",
   "execution_count": null,
   "id": "ff754c01-14e1-4ccd-b9c4-9fc70e10e43c",
   "metadata": {},
   "outputs": [],
   "source": [
    "from opencadd.databases.klifs import setup_remote\n",
    "\n",
    "klifs_session = setup_remote()\n",
    "pocket = klifs_session.pockets.by_structure_klifs_id(STRUCTURE_KLIFS_ID)\n",
    "residue_id = pocket[pocket[\"residue.klifs_id\"] == RESIDUE_KLIFS_ID][\"residue.id\"].squeeze()\n",
    "print(f\"PDB residue number: {residue_id}\")"
   ]
  },
  {
   "cell_type": "code",
   "execution_count": null,
   "id": "64cc688c-aeb6-4b92-a22f-b0121515515d",
   "metadata": {},
   "outputs": [],
   "source": [
    "from opencadd.structure.pocket import PocketKlifs\n",
    "from kissim.definitions import SIDE_CHAIN_REPRESENTATIVE\n",
    "\n",
    "# Pocket\n",
    "pocket = PocketKlifs.from_structure_klifs_id(783)\n",
    "\n",
    "# Pocket center\n",
    "pocket_center = pocket.center.tolist()\n",
    "# Side chain representative\n",
    "sc_representative_name = SIDE_CHAIN_REPRESENTATIVE[RESIDUE_NAME]\n",
    "sc_representative = pocket.data[\n",
    "    (pocket.data[\"residue.id\"] == int(residue_id))\n",
    "    & (pocket.data[\"atom.name\"] == sc_representative_name)\n",
    "]\n",
    "sc_representative = sc_representative[[\"atom.x\", \"atom.y\", \"atom.z\"]].squeeze().to_list()\n",
    "# CA atoms\n",
    "ca_atom = pocket.data[(pocket.data[\"residue.id\"] == 856) & (pocket.data[\"atom.name\"] == \"CA\")]\n",
    "ca_atom = ca_atom[[\"atom.x\", \"atom.y\", \"atom.z\"]].squeeze().to_list()"
   ]
  },
  {
   "cell_type": "code",
   "execution_count": null,
   "id": "9f32d516-4ace-4fa0-a3b0-7b672fcbd6c7",
   "metadata": {},
   "outputs": [],
   "source": [
    "from opencadd.structure.pocket import PocketViewer\n",
    "\n",
    "v = PocketViewer()\n",
    "v.add_pocket(pocket)\n",
    "view = v.viewer\n",
    "view.add_representation(\"licorice\", selection=\"856\")\n",
    "view.add_representation(\"cartoon\", selection=\"854-858\", opacity=1.0)\n",
    "view.shape.add_sphere(pocket_center, [0.6, 0, 0], 0.5)\n",
    "view.shape.add_sphere(sc_representative, [0.39, 0.58, 0.93], 0.5)\n",
    "view.shape.add_sphere(ca_atom, [0.0, 0.6, 0.0], 0.5)\n",
    "view.display(gui=True)"
   ]
  },
  {
   "cell_type": "code",
   "execution_count": null,
   "id": "3c551024-f3f6-4e73-bb36-cad524fd4ff7",
   "metadata": {},
   "outputs": [],
   "source": [
    "view.download_image(\"sco.png\", factor=4, transparent=True, trim=True)"
   ]
  },
  {
   "cell_type": "markdown",
   "id": "c55c0d50-65de-49a0-97ce-0087b1cd2f37",
   "metadata": {},
   "source": [
    "## Subpocket centers"
   ]
  },
  {
   "cell_type": "code",
   "execution_count": null,
   "id": "c1135dbe-3edf-4ecc-96a8-3a51c63327fc",
   "metadata": {},
   "outputs": [],
   "source": [
    "from kissim.definitions import SUBPOCKETS\n",
    "from opencadd.structure.pocket import PocketKlifs\n",
    "\n",
    "pocket = PocketKlifs.from_structure_klifs_id(STRUCTURE_KLIFS_ID, SUBPOCKETS)"
   ]
  },
  {
   "cell_type": "code",
   "execution_count": null,
   "id": "cd3f96ff-1972-4905-808f-a47fa516fdac",
   "metadata": {},
   "outputs": [],
   "source": [
    "from opencadd.structure.pocket import PocketViewer\n",
    "\n",
    "v = PocketViewer()\n",
    "v.add_pocket(pocket, show_regions=False, sphere_opacity=0.9)\n",
    "view = v.viewer\n",
    "view.display(gui=True)"
   ]
  },
  {
   "cell_type": "code",
   "execution_count": null,
   "id": "bd6f24e7-e1fa-4bd1-8c5b-64d8adbd5b72",
   "metadata": {},
   "outputs": [],
   "source": [
    "view.download_image(\"subpockets.png\", factor=4, transparent=True, trim=True)"
   ]
  },
  {
   "cell_type": "code",
   "execution_count": null,
   "id": "232ef09c-d50c-4e3e-862d-dbf3114c0509",
   "metadata": {},
   "outputs": [],
   "source": [
    "view.download_image(\"subpockets_dfg.png\", factor=4, transparent=True, trim=True)"
   ]
  },
  {
   "cell_type": "markdown",
   "id": "a2e51dcc-566c-4cb9-b7c9-311d9805246e",
   "metadata": {},
   "source": [
    "## Kinase pocket"
   ]
  },
  {
   "cell_type": "code",
   "execution_count": null,
   "id": "ffc4f9d8-1cd5-4eee-a7be-b25ae4b78b45",
   "metadata": {},
   "outputs": [],
   "source": [
    "from opencadd.structure.pocket import PocketViewer\n",
    "\n",
    "v = PocketViewer()\n",
    "v.add_pocket(\n",
    "    pocket,\n",
    "    show_pocket_center=False,\n",
    "    show_subpockets=False,\n",
    "    show_anchor_residues=False,\n",
    "    show_regions=True,\n",
    ")\n",
    "view = v.viewer\n",
    "view.display(gui=True)"
   ]
  },
  {
   "cell_type": "code",
   "execution_count": null,
   "id": "b7bcb48d-c205-4892-b4a0-8dcfbea0bd8a",
   "metadata": {},
   "outputs": [],
   "source": [
    "view.download_image(\"pocket_regions.png\", factor=4, transparent=True, trim=True)"
   ]
  }
 ],
 "metadata": {
  "kernelspec": {
   "display_name": "Python 3",
   "language": "python",
   "name": "python3"
  },
  "language_info": {
   "codemirror_mode": {
    "name": "ipython",
    "version": 3
   },
   "file_extension": ".py",
   "mimetype": "text/x-python",
   "name": "python",
   "nbconvert_exporter": "python",
   "pygments_lexer": "ipython3",
   "version": "3.9.5"
  },
  "widgets": {
   "application/vnd.jupyter.widget-state+json": {
    "state": {},
    "version_major": 2,
    "version_minor": 0
   }
  }
 },
 "nbformat": 4,
 "nbformat_minor": 5
}
