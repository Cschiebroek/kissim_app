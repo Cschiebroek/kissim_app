{
 "cells": [
  {
   "cell_type": "markdown",
   "metadata": {},
   "source": [
    "# Fingerprint distances between structures for the same kinase\n",
    "\n",
    "We investigate the ranges of fingerprint distances for each kinase pair:\n",
    "\n",
    "- Compare the fingerprint distance distribution for intra-kinase pairs and inter-kinase pairs\n",
    "- For the kinase pairs with highest structure pair coverage, show the range of fingerprint distances (consider minimum or median for structure-to-kinase mapping)\n",
    "- Generate `kissim` kinase matrix for kinase subset investigated in the paper [\"Analyzing Kinase Similarity in Small Molecule and Protein Structural Space to Explore the Limits of Multi-Target Screening\"](https://www.mdpi.com/1420-3049/26/3/629)"
   ]
  },
  {
   "cell_type": "code",
   "execution_count": 1,
   "metadata": {},
   "outputs": [],
   "source": [
    "%load_ext autoreload\n",
    "%autoreload 2"
   ]
  },
  {
   "cell_type": "code",
   "execution_count": 2,
   "metadata": {},
   "outputs": [
    {
     "data": {
      "application/vnd.jupyter.widget-view+json": {
       "model_id": "15e68dd2c84843fbaaa1666821123799",
       "version_major": 2,
       "version_minor": 0
      },
      "text/plain": []
     },
     "metadata": {},
     "output_type": "display_data"
    }
   ],
   "source": [
    "from pathlib import Path\n",
    "\n",
    "import numpy as np\n",
    "import pandas as pd\n",
    "import matplotlib.pyplot as plt\n",
    "import seaborn as sns\n",
    "from scipy.stats import ttest_ind\n",
    "from opencadd.databases.klifs import setup_remote\n",
    "from kissim.comparison import FingerprintDistanceGenerator\n",
    "\n",
    "from src.paths import PATH_RESULTS"
   ]
  },
  {
   "cell_type": "code",
   "execution_count": 3,
   "metadata": {},
   "outputs": [],
   "source": [
    "HERE = Path(_dh[-1])  # noqa: F821\n",
    "DATA = PATH_RESULTS / \"all\""
   ]
  },
  {
   "cell_type": "code",
   "execution_count": 4,
   "metadata": {},
   "outputs": [],
   "source": [
    "plt.style.use(\"seaborn\")"
   ]
  },
  {
   "cell_type": "code",
   "execution_count": 5,
   "metadata": {},
   "outputs": [],
   "source": [
    "%matplotlib inline"
   ]
  },
  {
   "cell_type": "code",
   "execution_count": 6,
   "metadata": {},
   "outputs": [],
   "source": [
    "COVERAGE_CUTOFF = 0.8"
   ]
  },
  {
   "cell_type": "markdown",
   "metadata": {},
   "source": [
    "## Load structural metadata"
   ]
  },
  {
   "cell_type": "code",
   "execution_count": 7,
   "metadata": {},
   "outputs": [],
   "source": [
    "klifs_session = setup_remote()\n",
    "structures = klifs_session.structures.all_structures()"
   ]
  },
  {
   "cell_type": "markdown",
   "metadata": {},
   "source": [
    "## Load fingerprint distances"
   ]
  },
  {
   "cell_type": "code",
   "execution_count": 8,
   "metadata": {},
   "outputs": [
    {
     "name": "stdout",
     "output_type": "stream",
     "text": [
      "Number of kinases: 279\n",
      "Number of structures: 4681\n"
     ]
    },
    {
     "data": {
      "text/html": [
       "<div>\n",
       "<style scoped>\n",
       "    .dataframe tbody tr th:only-of-type {\n",
       "        vertical-align: middle;\n",
       "    }\n",
       "\n",
       "    .dataframe tbody tr th {\n",
       "        vertical-align: top;\n",
       "    }\n",
       "\n",
       "    .dataframe thead th {\n",
       "        text-align: right;\n",
       "    }\n",
       "</style>\n",
       "<table border=\"1\" class=\"dataframe\">\n",
       "  <thead>\n",
       "    <tr style=\"text-align: right;\">\n",
       "      <th></th>\n",
       "      <th>structure.1</th>\n",
       "      <th>structure.2</th>\n",
       "      <th>kinase.1</th>\n",
       "      <th>kinase.2</th>\n",
       "      <th>distance</th>\n",
       "      <th>bit_coverage</th>\n",
       "    </tr>\n",
       "  </thead>\n",
       "  <tbody>\n",
       "    <tr>\n",
       "      <th>0</th>\n",
       "      <td>1</td>\n",
       "      <td>4</td>\n",
       "      <td>EphA7</td>\n",
       "      <td>EphA7</td>\n",
       "      <td>0.011780</td>\n",
       "      <td>0.961333</td>\n",
       "    </tr>\n",
       "    <tr>\n",
       "      <th>1</th>\n",
       "      <td>1</td>\n",
       "      <td>8</td>\n",
       "      <td>EphA7</td>\n",
       "      <td>ITK</td>\n",
       "      <td>0.067187</td>\n",
       "      <td>0.946000</td>\n",
       "    </tr>\n",
       "    <tr>\n",
       "      <th>2</th>\n",
       "      <td>1</td>\n",
       "      <td>9</td>\n",
       "      <td>EphA7</td>\n",
       "      <td>ITK</td>\n",
       "      <td>0.095289</td>\n",
       "      <td>0.961333</td>\n",
       "    </tr>\n",
       "    <tr>\n",
       "      <th>3</th>\n",
       "      <td>1</td>\n",
       "      <td>11</td>\n",
       "      <td>EphA7</td>\n",
       "      <td>ITK</td>\n",
       "      <td>0.073468</td>\n",
       "      <td>0.961333</td>\n",
       "    </tr>\n",
       "    <tr>\n",
       "      <th>4</th>\n",
       "      <td>1</td>\n",
       "      <td>12</td>\n",
       "      <td>EphA7</td>\n",
       "      <td>ITK</td>\n",
       "      <td>0.067586</td>\n",
       "      <td>0.946000</td>\n",
       "    </tr>\n",
       "  </tbody>\n",
       "</table>\n",
       "</div>"
      ],
      "text/plain": [
       "   structure.1  structure.2 kinase.1 kinase.2  distance  bit_coverage\n",
       "0            1            4    EphA7    EphA7  0.011780      0.961333\n",
       "1            1            8    EphA7      ITK  0.067187      0.946000\n",
       "2            1            9    EphA7      ITK  0.095289      0.961333\n",
       "3            1           11    EphA7      ITK  0.073468      0.961333\n",
       "4            1           12    EphA7      ITK  0.067586      0.946000"
      ]
     },
     "execution_count": 8,
     "metadata": {},
     "output_type": "execute_result"
    }
   ],
   "source": [
    "fingerprint_distance_file = DATA / \"fingerprint_distances.csv.bz2\"\n",
    "fingerprint_distance_generator = FingerprintDistanceGenerator.from_csv(fingerprint_distance_file)\n",
    "print(f\"Number of kinases: {len(fingerprint_distance_generator.kinase_ids)}\")\n",
    "print(f\"Number of structures: {len(fingerprint_distance_generator.structure_ids)}\")\n",
    "structure_distances = fingerprint_distance_generator.data\n",
    "structure_distances.head()"
   ]
  },
  {
   "cell_type": "markdown",
   "metadata": {},
   "source": [
    "### Add DFG conformation"
   ]
  },
  {
   "cell_type": "code",
   "execution_count": 9,
   "metadata": {},
   "outputs": [],
   "source": [
    "def get_dfg(dfg, structure_klifs_id):\n",
    "    try:\n",
    "        return dfg[structure_klifs_id]\n",
    "    except KeyError:\n",
    "        return None"
   ]
  },
  {
   "cell_type": "code",
   "execution_count": 10,
   "metadata": {},
   "outputs": [
    {
     "name": "stdout",
     "output_type": "stream",
     "text": [
      "CPU times: user 56.8 s, sys: 450 ms, total: 57.2 s\n",
      "Wall time: 57.8 s\n"
     ]
    }
   ],
   "source": [
    "%%time\n",
    "dfg = structures.set_index(\"structure.klifs_id\")[\"structure.dfg\"]\n",
    "structure_distances[\"dfg.1\"] = structure_distances[\"structure.1\"].apply(lambda x: get_dfg(dfg, x))\n",
    "structure_distances[\"dfg.2\"] = structure_distances[\"structure.2\"].apply(lambda x: get_dfg(dfg, x))"
   ]
  },
  {
   "cell_type": "markdown",
   "metadata": {},
   "source": [
    "### Filter distances by coverage cutoff"
   ]
  },
  {
   "cell_type": "markdown",
   "metadata": {},
   "source": [
    "#### All conformation pairs"
   ]
  },
  {
   "cell_type": "code",
   "execution_count": 11,
   "metadata": {},
   "outputs": [
    {
     "name": "stdout",
     "output_type": "stream",
     "text": [
      "Structure pairs: 10953540\n",
      "Structure pairs not-NaN: 10948918\n"
     ]
    }
   ],
   "source": [
    "structure_distances[\"distance_filtered\"] = np.where(\n",
    "    structure_distances[\"bit_coverage\"].values < COVERAGE_CUTOFF,\n",
    "    np.nan,\n",
    "    structure_distances[\"distance\"].values,\n",
    ")\n",
    "structure_distances_filtered = structure_distances[\n",
    "    structure_distances[\"distance_filtered\"].notna()\n",
    "]\n",
    "print(f\"Structure pairs: {structure_distances.shape[0]}\")\n",
    "print(f\"Structure pairs not-NaN: {structure_distances_filtered.shape[0]}\")"
   ]
  },
  {
   "cell_type": "markdown",
   "metadata": {},
   "source": [
    "#### DFG-in conformation pairs"
   ]
  },
  {
   "cell_type": "code",
   "execution_count": 12,
   "metadata": {},
   "outputs": [
    {
     "name": "stdout",
     "output_type": "stream",
     "text": [
      "CPU times: user 2min 37s, sys: 4.38 s, total: 2min 41s\n",
      "Wall time: 2min 43s\n"
     ]
    }
   ],
   "source": [
    "%%time\n",
    "# Select DFG-in only\n",
    "\n",
    "# Without coverage cutoff\n",
    "structure_distances_in_in = structure_distances[\n",
    "    structure_distances.apply(lambda x: x[\"dfg.1\"] == x[\"dfg.2\"] == \"in\", axis=1)\n",
    "]\n",
    "# With coverage cutoff\n",
    "structure_distances_filtered_in_in = structure_distances_filtered[\n",
    "    structure_distances_filtered.apply(lambda x: x[\"dfg.1\"] == x[\"dfg.2\"] == \"in\", axis=1)\n",
    "]"
   ]
  },
  {
   "cell_type": "code",
   "execution_count": 13,
   "metadata": {},
   "outputs": [
    {
     "name": "stdout",
     "output_type": "stream",
     "text": [
      "Structure pairs: 8394753\n",
      "Structure pairs not-NaN: 8392424\n"
     ]
    }
   ],
   "source": [
    "print(f\"Structure pairs: {structure_distances_in_in.shape[0]}\")\n",
    "print(f\"Structure pairs not-NaN: {structure_distances_filtered_in_in.shape[0]}\")"
   ]
  },
  {
   "cell_type": "markdown",
   "metadata": {},
   "source": [
    "## Structure distances"
   ]
  },
  {
   "cell_type": "markdown",
   "metadata": {},
   "source": [
    "### Structure distance distributions for different kinase subsets\n",
    "\n",
    "- DFG-in pairs only!!!\n",
    "- With cutoff!!!\n",
    "- All structure distances\n",
    "- Structure distances between the same kinases\n",
    "- Structure distances between different kinases"
   ]
  },
  {
   "cell_type": "code",
   "execution_count": 14,
   "metadata": {},
   "outputs": [
    {
     "data": {
      "text/html": [
       "<div>\n",
       "<style scoped>\n",
       "    .dataframe tbody tr th:only-of-type {\n",
       "        vertical-align: middle;\n",
       "    }\n",
       "\n",
       "    .dataframe tbody tr th {\n",
       "        vertical-align: top;\n",
       "    }\n",
       "\n",
       "    .dataframe thead th {\n",
       "        text-align: right;\n",
       "    }\n",
       "</style>\n",
       "<table border=\"1\" class=\"dataframe\">\n",
       "  <thead>\n",
       "    <tr style=\"text-align: right;\">\n",
       "      <th></th>\n",
       "      <th>structure.1</th>\n",
       "      <th>structure.2</th>\n",
       "      <th>distance</th>\n",
       "      <th>bit_coverage</th>\n",
       "      <th>distance_filtered</th>\n",
       "    </tr>\n",
       "  </thead>\n",
       "  <tbody>\n",
       "    <tr>\n",
       "      <th>count</th>\n",
       "      <td>8392424.00</td>\n",
       "      <td>8392424.00</td>\n",
       "      <td>8392424.00</td>\n",
       "      <td>8392424.00</td>\n",
       "      <td>8392424.00</td>\n",
       "    </tr>\n",
       "    <tr>\n",
       "      <th>mean</th>\n",
       "      <td>4088.29</td>\n",
       "      <td>8711.49</td>\n",
       "      <td>0.11</td>\n",
       "      <td>0.97</td>\n",
       "      <td>0.11</td>\n",
       "    </tr>\n",
       "    <tr>\n",
       "      <th>std</th>\n",
       "      <td>3002.41</td>\n",
       "      <td>3584.07</td>\n",
       "      <td>0.02</td>\n",
       "      <td>0.02</td>\n",
       "      <td>0.02</td>\n",
       "    </tr>\n",
       "    <tr>\n",
       "      <th>min</th>\n",
       "      <td>4.00</td>\n",
       "      <td>8.00</td>\n",
       "      <td>0.00</td>\n",
       "      <td>0.80</td>\n",
       "      <td>0.00</td>\n",
       "    </tr>\n",
       "    <tr>\n",
       "      <th>25%</th>\n",
       "      <td>1794.00</td>\n",
       "      <td>5596.00</td>\n",
       "      <td>0.10</td>\n",
       "      <td>0.96</td>\n",
       "      <td>0.10</td>\n",
       "    </tr>\n",
       "    <tr>\n",
       "      <th>50%</th>\n",
       "      <td>3416.00</td>\n",
       "      <td>9222.00</td>\n",
       "      <td>0.11</td>\n",
       "      <td>0.98</td>\n",
       "      <td>0.11</td>\n",
       "    </tr>\n",
       "    <tr>\n",
       "      <th>75%</th>\n",
       "      <td>5594.00</td>\n",
       "      <td>11943.00</td>\n",
       "      <td>0.12</td>\n",
       "      <td>0.99</td>\n",
       "      <td>0.12</td>\n",
       "    </tr>\n",
       "    <tr>\n",
       "      <th>max</th>\n",
       "      <td>13863.00</td>\n",
       "      <td>13864.00</td>\n",
       "      <td>0.24</td>\n",
       "      <td>1.00</td>\n",
       "      <td>0.24</td>\n",
       "    </tr>\n",
       "  </tbody>\n",
       "</table>\n",
       "</div>"
      ],
      "text/plain": [
       "       structure.1  structure.2    distance  bit_coverage  distance_filtered\n",
       "count   8392424.00   8392424.00  8392424.00    8392424.00         8392424.00\n",
       "mean       4088.29      8711.49        0.11          0.97               0.11\n",
       "std        3002.41      3584.07        0.02          0.02               0.02\n",
       "min           4.00         8.00        0.00          0.80               0.00\n",
       "25%        1794.00      5596.00        0.10          0.96               0.10\n",
       "50%        3416.00      9222.00        0.11          0.98               0.11\n",
       "75%        5594.00     11943.00        0.12          0.99               0.12\n",
       "max       13863.00     13864.00        0.24          1.00               0.24"
      ]
     },
     "execution_count": 14,
     "metadata": {},
     "output_type": "execute_result"
    }
   ],
   "source": [
    "structure_distances_filtered_in_in.describe().round(2)"
   ]
  },
  {
   "cell_type": "code",
   "execution_count": 15,
   "metadata": {},
   "outputs": [],
   "source": [
    "structure_distances_filtered_in_in_df = pd.DataFrame(\n",
    "    {\n",
    "        \"all\": structure_distances_filtered_in_in[\"distance\"],\n",
    "        \"intra-kinase\": structure_distances_filtered_in_in[\n",
    "            structure_distances_filtered_in_in[\"kinase.1\"]\n",
    "            == structure_distances_filtered_in_in[\"kinase.2\"]\n",
    "        ][\"distance\"],\n",
    "        \"inter-kinase\": structure_distances_filtered_in_in[\n",
    "            structure_distances_filtered_in_in[\"kinase.1\"]\n",
    "            != structure_distances_filtered_in_in[\"kinase.2\"]\n",
    "        ][\"distance\"],\n",
    "    }\n",
    ")"
   ]
  },
  {
   "cell_type": "code",
   "execution_count": 16,
   "metadata": {},
   "outputs": [
    {
     "data": {
      "text/plain": [
       "all             8392424\n",
       "intra-kinase     198444\n",
       "inter-kinase    8193980\n",
       "dtype: int64"
      ]
     },
     "execution_count": 16,
     "metadata": {},
     "output_type": "execute_result"
    }
   ],
   "source": [
    "structure_distances_filtered_in_in_df.notna().sum()"
   ]
  },
  {
   "cell_type": "code",
   "execution_count": 17,
   "metadata": {},
   "outputs": [
    {
     "data": {
      "text/html": [
       "<div>\n",
       "<style scoped>\n",
       "    .dataframe tbody tr th:only-of-type {\n",
       "        vertical-align: middle;\n",
       "    }\n",
       "\n",
       "    .dataframe tbody tr th {\n",
       "        vertical-align: top;\n",
       "    }\n",
       "\n",
       "    .dataframe thead th {\n",
       "        text-align: right;\n",
       "    }\n",
       "</style>\n",
       "<table border=\"1\" class=\"dataframe\">\n",
       "  <thead>\n",
       "    <tr style=\"text-align: right;\">\n",
       "      <th></th>\n",
       "      <th>all</th>\n",
       "      <th>intra-kinase</th>\n",
       "      <th>inter-kinase</th>\n",
       "    </tr>\n",
       "  </thead>\n",
       "  <tbody>\n",
       "    <tr>\n",
       "      <th>count</th>\n",
       "      <td>8.392424e+06</td>\n",
       "      <td>198444.000000</td>\n",
       "      <td>8.193980e+06</td>\n",
       "    </tr>\n",
       "    <tr>\n",
       "      <th>mean</th>\n",
       "      <td>1.071551e-01</td>\n",
       "      <td>0.021376</td>\n",
       "      <td>1.092325e-01</td>\n",
       "    </tr>\n",
       "    <tr>\n",
       "      <th>std</th>\n",
       "      <td>2.461468e-02</td>\n",
       "      <td>0.010799</td>\n",
       "      <td>2.086189e-02</td>\n",
       "    </tr>\n",
       "    <tr>\n",
       "      <th>min</th>\n",
       "      <td>0.000000e+00</td>\n",
       "      <td>0.000000</td>\n",
       "      <td>1.028263e-02</td>\n",
       "    </tr>\n",
       "    <tr>\n",
       "      <th>25%</th>\n",
       "      <td>9.589025e-02</td>\n",
       "      <td>0.013727</td>\n",
       "      <td>9.674975e-02</td>\n",
       "    </tr>\n",
       "    <tr>\n",
       "      <th>50%</th>\n",
       "      <td>1.061716e-01</td>\n",
       "      <td>0.018027</td>\n",
       "      <td>1.066175e-01</td>\n",
       "    </tr>\n",
       "    <tr>\n",
       "      <th>75%</th>\n",
       "      <td>1.174134e-01</td>\n",
       "      <td>0.029000</td>\n",
       "      <td>1.177663e-01</td>\n",
       "    </tr>\n",
       "    <tr>\n",
       "      <th>max</th>\n",
       "      <td>2.394582e-01</td>\n",
       "      <td>0.191790</td>\n",
       "      <td>2.394582e-01</td>\n",
       "    </tr>\n",
       "  </tbody>\n",
       "</table>\n",
       "</div>"
      ],
      "text/plain": [
       "                all   intra-kinase  inter-kinase\n",
       "count  8.392424e+06  198444.000000  8.193980e+06\n",
       "mean   1.071551e-01       0.021376  1.092325e-01\n",
       "std    2.461468e-02       0.010799  2.086189e-02\n",
       "min    0.000000e+00       0.000000  1.028263e-02\n",
       "25%    9.589025e-02       0.013727  9.674975e-02\n",
       "50%    1.061716e-01       0.018027  1.066175e-01\n",
       "75%    1.174134e-01       0.029000  1.177663e-01\n",
       "max    2.394582e-01       0.191790  2.394582e-01"
      ]
     },
     "execution_count": 17,
     "metadata": {},
     "output_type": "execute_result"
    }
   ],
   "source": [
    "structure_distances_filtered_in_in_df.describe()"
   ]
  },
  {
   "cell_type": "code",
   "execution_count": 18,
   "metadata": {},
   "outputs": [
    {
     "data": {
      "image/png": "[encoded data removed]",
      "text/plain": [
       "<Figure size 239.76x239.76 with 1 Axes>"
      ]
     },
     "metadata": {
      "needs_background": "light"
     },
     "output_type": "display_data"
    }
   ],
   "source": [
    "fig, ax = plt.subplots(1, 1, figsize=(3.33, 3.33))\n",
    "structure_distances_filtered_in_in_df.plot(kind=\"box\", ax=ax)\n",
    "ax.set_xlabel(\"Type of kinase pairs (DFG-in only)\")\n",
    "ax.set_ylabel(\"Fingerprint distances\")\n",
    "fig.savefig(HERE / \"../figures/kissim_discriminates_kinases.png\", dpi=300, bbox_inches=\"tight\")"
   ]
  },
  {
   "cell_type": "markdown",
   "metadata": {},
   "source": [
    "Statistical testing\n",
    "\n",
    "- https://machinelearningmastery.com/statistical-hypothesis-tests-in-python-cheat-sheet/\n",
    "- https://docs.scipy.org/doc/scipy/reference/generated/scipy.stats.ttest_ind.html"
   ]
  },
  {
   "cell_type": "code",
   "execution_count": 19,
   "metadata": {},
   "outputs": [
    {
     "name": "stdout",
     "output_type": "stream",
     "text": [
      "Means are 0.02137642244505349 and 0.1092325241779726\n",
      "Variances are 0.00011662378761071522 and 0.0004352182603930038\n",
      "\n",
      "Test assumes equal variance: True\n",
      "stat=-1869.962, p=0.0\n",
      "Probably different distributions\n",
      "\n",
      "Test assumes equal variance: False\n",
      "stat=-3470.634, p=0.0\n",
      "Probably different distributions\n"
     ]
    }
   ],
   "source": [
    "# NBVAL_SKIP\n",
    "data1 = structure_distances_filtered_in_in_df[\"intra-kinase\"].to_list()\n",
    "data2 = structure_distances_filtered_in_in_df[\"inter-kinase\"].to_list()\n",
    "\n",
    "mean1 = structure_distances_filtered_in_in_df[\"intra-kinase\"].mean()\n",
    "mean2 = structure_distances_filtered_in_in_df[\"inter-kinase\"].mean()\n",
    "print(f\"Means are {mean1} and {mean2}\")\n",
    "var1 = structure_distances_filtered_in_in_df[\"intra-kinase\"].var()\n",
    "var2 = structure_distances_filtered_in_in_df[\"inter-kinase\"].var()\n",
    "print(f\"Variances are {var1} and {var2}\")\n",
    "\n",
    "for equal_var in [True, False]:\n",
    "\n",
    "    print(f\"\\nTest assumes equal variance: {equal_var}\")\n",
    "    stat, p = ttest_ind(data1, data2, nan_policy=\"omit\", equal_var=equal_var)\n",
    "    print(f\"stat={round(stat, 3)}, p={round(p, 3)}\")\n",
    "    if p > 0.05:\n",
    "        print(\"Probably the same distribution\")\n",
    "    else:\n",
    "        print(\"Probably different distributions\")"
   ]
  },
  {
   "cell_type": "markdown",
   "metadata": {},
   "source": [
    "### Per kinase distributions\n",
    "\n",
    "How robust are structure distances within kinase pairs?"
   ]
  },
  {
   "cell_type": "code",
   "execution_count": 20,
   "metadata": {},
   "outputs": [],
   "source": [
    "data = structure_distances_filtered_in_in[[\"kinase.1\", \"kinase.2\", \"distance\"]].copy()\n",
    "data[[\"kinase.1\", \"kinase.2\"]] = np.sort(data[[\"kinase.1\", \"kinase.2\"]], axis=1)"
   ]
  },
  {
   "cell_type": "markdown",
   "metadata": {},
   "source": [
    "#### All kinase pairs"
   ]
  },
  {
   "cell_type": "code",
   "execution_count": 21,
   "metadata": {},
   "outputs": [],
   "source": [
    "data_grouped_by_kinase_pairs = data.groupby([\"kinase.1\", \"kinase.2\"])"
   ]
  },
  {
   "cell_type": "code",
   "execution_count": 22,
   "metadata": {},
   "outputs": [
    {
     "data": {
      "image/png": "[encoded data removed]",
      "text/plain": [
       "<Figure size 360x720 with 3 Axes>"
      ]
     },
     "metadata": {
      "needs_background": "light"
     },
     "output_type": "display_data"
    }
   ],
   "source": [
    "fig, axes = plt.subplots(3, 1, figsize=(5, 10))\n",
    "# Size\n",
    "data_grouped_by_kinase_pairs.size().plot(ax=axes[0], kind=\"hist\", logy=True, style=\".\", bins=100)\n",
    "axes[0].set_xlabel(\"Number of structure pairs / kinase pair\")\n",
    "axes[0].set_ylabel(\"Frequency (log scale!)\")\n",
    "# Mean\n",
    "data_grouped_by_kinase_pairs.mean().squeeze().plot(ax=axes[1], kind=\"hist\", style=\".\", bins=100)\n",
    "axes[1].set_xlabel(\"Distance mean within structure pairs / kinase pair\")\n",
    "# Std\n",
    "data_grouped_by_kinase_pairs.std().squeeze().plot(\n",
    "    ax=axes[2], kind=\"hist\", logy=False, style=\".\", bins=100\n",
    ")\n",
    "axes[2].set_xlabel(\"Distance std within structure pairs / kinase pair\");"
   ]
  },
  {
   "cell_type": "code",
   "execution_count": 23,
   "metadata": {},
   "outputs": [
    {
     "name": "stdout",
     "output_type": "stream",
     "text": [
      "Number of kinase pairs with <= 1 structure pairs              1868\n",
      "Number of kinase pairs with <= 5 structure pairs              7681\n",
      "Number of kinase pairs with <= 10 structure pairs            11476\n",
      "Number of kinase pairs with <= 100 structure pairs           24448\n",
      "Number of kinase pairs with <= 1000 structure pairs          31251\n",
      "Number of kinase pairs with <= 10000 structure pairs         32720\n",
      "Number of kinase pairs with <= 100000 structure pairs        32816\n",
      "Number of kinase pairs                                       32816\n"
     ]
    }
   ],
   "source": [
    "for i in [1, 5, 10, 100, 1000, 10000, 100000]:\n",
    "    size = data_grouped_by_kinase_pairs.size()\n",
    "    n_structure_pairs_per_kinase_pair = size[size <= i].shape[0]\n",
    "    info = f\"Number of kinase pairs with <= {i} structure pairs\"\n",
    "    print(f\"{info : <60}{n_structure_pairs_per_kinase_pair : >6}\")\n",
    "print(f\"{'Number of kinase pairs' : <60}{size.shape[0]: 6}\")"
   ]
  },
  {
   "cell_type": "code",
   "execution_count": 24,
   "metadata": {},
   "outputs": [
    {
     "data": {
      "text/html": [
       "<div>\n",
       "<style scoped>\n",
       "    .dataframe tbody tr th:only-of-type {\n",
       "        vertical-align: middle;\n",
       "    }\n",
       "\n",
       "    .dataframe tbody tr th {\n",
       "        vertical-align: top;\n",
       "    }\n",
       "\n",
       "    .dataframe thead th {\n",
       "        text-align: right;\n",
       "    }\n",
       "</style>\n",
       "<table border=\"1\" class=\"dataframe\">\n",
       "  <thead>\n",
       "    <tr style=\"text-align: right;\">\n",
       "      <th></th>\n",
       "      <th>distance</th>\n",
       "    </tr>\n",
       "  </thead>\n",
       "  <tbody>\n",
       "    <tr>\n",
       "      <th>count</th>\n",
       "      <td>32816.000000</td>\n",
       "    </tr>\n",
       "    <tr>\n",
       "      <th>mean</th>\n",
       "      <td>0.113385</td>\n",
       "    </tr>\n",
       "    <tr>\n",
       "      <th>std</th>\n",
       "      <td>0.023543</td>\n",
       "    </tr>\n",
       "    <tr>\n",
       "      <th>min</th>\n",
       "      <td>0.002720</td>\n",
       "    </tr>\n",
       "    <tr>\n",
       "      <th>25%</th>\n",
       "      <td>0.100357</td>\n",
       "    </tr>\n",
       "    <tr>\n",
       "      <th>50%</th>\n",
       "      <td>0.110804</td>\n",
       "    </tr>\n",
       "    <tr>\n",
       "      <th>75%</th>\n",
       "      <td>0.124129</td>\n",
       "    </tr>\n",
       "    <tr>\n",
       "      <th>max</th>\n",
       "      <td>0.225433</td>\n",
       "    </tr>\n",
       "  </tbody>\n",
       "</table>\n",
       "</div>"
      ],
      "text/plain": [
       "           distance\n",
       "count  32816.000000\n",
       "mean       0.113385\n",
       "std        0.023543\n",
       "min        0.002720\n",
       "25%        0.100357\n",
       "50%        0.110804\n",
       "75%        0.124129\n",
       "max        0.225433"
      ]
     },
     "execution_count": 24,
     "metadata": {},
     "output_type": "execute_result"
    }
   ],
   "source": [
    "data_grouped_by_kinase_pairs.mean().describe()"
   ]
  },
  {
   "cell_type": "code",
   "execution_count": 25,
   "metadata": {},
   "outputs": [
    {
     "data": {
      "text/html": [
       "<div>\n",
       "<style scoped>\n",
       "    .dataframe tbody tr th:only-of-type {\n",
       "        vertical-align: middle;\n",
       "    }\n",
       "\n",
       "    .dataframe tbody tr th {\n",
       "        vertical-align: top;\n",
       "    }\n",
       "\n",
       "    .dataframe thead th {\n",
       "        text-align: right;\n",
       "    }\n",
       "</style>\n",
       "<table border=\"1\" class=\"dataframe\">\n",
       "  <thead>\n",
       "    <tr style=\"text-align: right;\">\n",
       "      <th></th>\n",
       "      <th>distance</th>\n",
       "    </tr>\n",
       "  </thead>\n",
       "  <tbody>\n",
       "    <tr>\n",
       "      <th>count</th>\n",
       "      <td>30948.000000</td>\n",
       "    </tr>\n",
       "    <tr>\n",
       "      <th>mean</th>\n",
       "      <td>0.003885</td>\n",
       "    </tr>\n",
       "    <tr>\n",
       "      <th>std</th>\n",
       "      <td>0.002242</td>\n",
       "    </tr>\n",
       "    <tr>\n",
       "      <th>min</th>\n",
       "      <td>0.000001</td>\n",
       "    </tr>\n",
       "    <tr>\n",
       "      <th>25%</th>\n",
       "      <td>0.002325</td>\n",
       "    </tr>\n",
       "    <tr>\n",
       "      <th>50%</th>\n",
       "      <td>0.003404</td>\n",
       "    </tr>\n",
       "    <tr>\n",
       "      <th>75%</th>\n",
       "      <td>0.004925</td>\n",
       "    </tr>\n",
       "    <tr>\n",
       "      <th>max</th>\n",
       "      <td>0.020475</td>\n",
       "    </tr>\n",
       "  </tbody>\n",
       "</table>\n",
       "</div>"
      ],
      "text/plain": [
       "           distance\n",
       "count  30948.000000\n",
       "mean       0.003885\n",
       "std        0.002242\n",
       "min        0.000001\n",
       "25%        0.002325\n",
       "50%        0.003404\n",
       "75%        0.004925\n",
       "max        0.020475"
      ]
     },
     "execution_count": 25,
     "metadata": {},
     "output_type": "execute_result"
    }
   ],
   "source": [
    "data_grouped_by_kinase_pairs.std().describe()"
   ]
  },
  {
   "cell_type": "markdown",
   "metadata": {},
   "source": [
    "#### Most frequent kinase pairs (DFG-in conformations only)"
   ]
  },
  {
   "cell_type": "code",
   "execution_count": 26,
   "metadata": {},
   "outputs": [
    {
     "data": {
      "text/plain": [
       "<AxesSubplot:>"
      ]
     },
     "execution_count": 26,
     "metadata": {},
     "output_type": "execute_result"
    },
    {
     "data": {
      "image/png": "[encoded data removed]",
      "text/plain": [
       "<Figure size 432x288 with 1 Axes>"
      ]
     },
     "metadata": {
      "needs_background": "light"
     },
     "output_type": "display_data"
    }
   ],
   "source": [
    "data_grouped_by_kinase_pairs[\"distance\"].std().plot(kind=\"box\")"
   ]
  },
  {
   "cell_type": "code",
   "execution_count": 27,
   "metadata": {},
   "outputs": [],
   "source": [
    "ntop = 30"
   ]
  },
  {
   "cell_type": "code",
   "execution_count": 28,
   "metadata": {},
   "outputs": [
    {
     "data": {
      "text/plain": [
       "kinase.1  kinase.2\n",
       "CDK2      CDK2        83845\n",
       "          CK2a1       79130\n",
       "          PIM1        69290\n",
       "          EGFR        60626\n",
       "          CHK1        47133\n",
       "          p38a        45510\n",
       "AurA      CDK2        41410\n",
       "CDK2      Erk2        41000\n",
       "          p110g       38540\n",
       "          JAK2        34030\n",
       "CK2a1     PIM1        32617\n",
       "BTK       CDK2        30750\n",
       "CDK2      SYK         30340\n",
       "ALK2      CDK2        29930\n",
       "CK2a1     EGFR        28341\n",
       "CDK2      TTK         28290\n",
       "          DYRK1A      27470\n",
       "          GSK3B       26650\n",
       "EGFR      PIM1        25011\n",
       "CDK2      PDK1        23370\n",
       "          DAPK1       22960\n",
       "          IRAK4       22960\n",
       "          MET         22140\n",
       "CHK1      CK2a1       22002\n",
       "CDK2      FGFR1       21730\n",
       "CK2a1     p38a        21423\n",
       "CDK2      JNK3        21320\n",
       "ALK       CDK2        20090\n",
       "AurA      CK2a1       19493\n",
       "CHK1      PIM1        19435\n",
       "dtype: int64"
      ]
     },
     "execution_count": 28,
     "metadata": {},
     "output_type": "execute_result"
    }
   ],
   "source": [
    "data_grouped_by_kinase_pairs.size().sort_values(ascending=False).head(ntop)"
   ]
  },
  {
   "cell_type": "code",
   "execution_count": 29,
   "metadata": {},
   "outputs": [
    {
     "data": {
      "image/png": "[encoded data removed]",
      "text/plain": [
       "<Figure size 432x288 with 1 Axes>"
      ]
     },
     "metadata": {
      "needs_background": "light"
     },
     "output_type": "display_data"
    }
   ],
   "source": [
    "index = data_grouped_by_kinase_pairs.size().sort_values(ascending=False).head(ntop).index\n",
    "top_pair_distances = {\n",
    "    pair: data_grouped_by_kinase_pairs.get_group(pair)[\"distance\"] for pair in index\n",
    "}\n",
    "top_pair_distances = pd.DataFrame(top_pair_distances)\n",
    "fig, axes = plt.subplots(1, 1)\n",
    "top_pair_distances.plot(kind=\"box\", ax=axes, rot=90)\n",
    "axes.set_title(\"Structure pair distances for most frequent kinase pairs\")\n",
    "fig.savefig(\n",
    "    HERE / f\"../../notebooks/figures/structure_distances_per_kinase_pair_top{ntop}.pdf\",\n",
    "    bbox_inches=\"tight\",\n",
    ")"
   ]
  },
  {
   "cell_type": "markdown",
   "metadata": {},
   "source": [
    "#### Overall statistics"
   ]
  },
  {
   "cell_type": "code",
   "execution_count": 30,
   "metadata": {},
   "outputs": [],
   "source": [
    "def n_pairs(n):\n",
    "    return int((n ** 2 - n) / 2 + n)"
   ]
  },
  {
   "cell_type": "code",
   "execution_count": 31,
   "metadata": {},
   "outputs": [],
   "source": [
    "structure_distances = structure_distances_in_in\n",
    "structure_distances_filtered = structure_distances_filtered_in_in\n",
    "\n",
    "n_structures = (\n",
    "    pd.concat([structure_distances[\"structure.1\"], structure_distances[\"structure.2\"]])\n",
    "    .unique()\n",
    "    .shape[0]\n",
    ")\n",
    "n_kinases = (\n",
    "    pd.concat([structure_distances[\"kinase.1\"], structure_distances[\"kinase.2\"]]).unique().shape[0]\n",
    ")"
   ]
  },
  {
   "cell_type": "code",
   "execution_count": 32,
   "metadata": {},
   "outputs": [],
   "source": [
    "n_structures_filtered = (\n",
    "    pd.concat(\n",
    "        [structure_distances_filtered[\"structure.1\"], structure_distances_filtered[\"structure.2\"]]\n",
    "    )\n",
    "    .unique()\n",
    "    .shape[0]\n",
    ")\n",
    "n_kinases_filtered = (\n",
    "    pd.concat([structure_distances_filtered[\"kinase.1\"], structure_distances_filtered[\"kinase.2\"]])\n",
    "    .unique()\n",
    "    .shape[0]\n",
    ")"
   ]
  },
  {
   "cell_type": "code",
   "execution_count": 33,
   "metadata": {},
   "outputs": [],
   "source": [
    "def get_n_kinase_pairs(structure_distances):\n",
    "    return (\n",
    "        pd.DataFrame(np.sort(structure_distances[[\"kinase.1\", \"kinase.2\"]], axis=1))\n",
    "        .drop_duplicates()\n",
    "        .shape[0]\n",
    "    )\n",
    "\n",
    "\n",
    "n_kinase_pairs = get_n_kinase_pairs(structure_distances)\n",
    "n_kinase_pairs_filtered = get_n_kinase_pairs(structure_distances_filtered)"
   ]
  },
  {
   "cell_type": "code",
   "execution_count": 34,
   "metadata": {},
   "outputs": [
    {
     "data": {
      "text/html": [
       "<div>\n",
       "<style scoped>\n",
       "    .dataframe tbody tr th:only-of-type {\n",
       "        vertical-align: middle;\n",
       "    }\n",
       "\n",
       "    .dataframe tbody tr th {\n",
       "        vertical-align: top;\n",
       "    }\n",
       "\n",
       "    .dataframe thead th {\n",
       "        text-align: right;\n",
       "    }\n",
       "</style>\n",
       "<table border=\"1\" class=\"dataframe\">\n",
       "  <thead>\n",
       "    <tr style=\"text-align: right;\">\n",
       "      <th></th>\n",
       "      <th>All distances</th>\n",
       "      <th>Only distances matching cutoff</th>\n",
       "    </tr>\n",
       "  </thead>\n",
       "  <tbody>\n",
       "    <tr>\n",
       "      <th>Number of structures</th>\n",
       "      <td>4098</td>\n",
       "      <td>4098</td>\n",
       "    </tr>\n",
       "    <tr>\n",
       "      <th>Number of structure pairs (theory)</th>\n",
       "      <td>8398851</td>\n",
       "      <td>8398851</td>\n",
       "    </tr>\n",
       "    <tr>\n",
       "      <th>Number of structure pairs (experimental)</th>\n",
       "      <td>8394753</td>\n",
       "      <td>8392424</td>\n",
       "    </tr>\n",
       "    <tr>\n",
       "      <th>Number of kinases</th>\n",
       "      <td>256</td>\n",
       "      <td>256</td>\n",
       "    </tr>\n",
       "    <tr>\n",
       "      <th>Number of kinase pairs (theory)</th>\n",
       "      <td>32896</td>\n",
       "      <td>32896</td>\n",
       "    </tr>\n",
       "    <tr>\n",
       "      <th>Number of kinase pairs (experimental)</th>\n",
       "      <td>32835</td>\n",
       "      <td>32816</td>\n",
       "    </tr>\n",
       "  </tbody>\n",
       "</table>\n",
       "</div>"
      ],
      "text/plain": [
       "                                          All distances  \\\n",
       "Number of structures                               4098   \n",
       "Number of structure pairs (theory)              8398851   \n",
       "Number of structure pairs (experimental)        8394753   \n",
       "Number of kinases                                   256   \n",
       "Number of kinase pairs (theory)                   32896   \n",
       "Number of kinase pairs (experimental)             32835   \n",
       "\n",
       "                                          Only distances matching cutoff  \n",
       "Number of structures                                                4098  \n",
       "Number of structure pairs (theory)                               8398851  \n",
       "Number of structure pairs (experimental)                         8392424  \n",
       "Number of kinases                                                    256  \n",
       "Number of kinase pairs (theory)                                    32896  \n",
       "Number of kinase pairs (experimental)                              32816  "
      ]
     },
     "execution_count": 34,
     "metadata": {},
     "output_type": "execute_result"
    }
   ],
   "source": [
    "table = {\n",
    "    \"All distances\": [\n",
    "        n_structures,\n",
    "        n_pairs(n_structures),\n",
    "        structure_distances.shape[0],\n",
    "        n_kinases,\n",
    "        n_pairs(n_kinases),\n",
    "        n_kinase_pairs,\n",
    "    ],\n",
    "    \"Only distances matching cutoff\": [\n",
    "        n_structures_filtered,\n",
    "        n_pairs(n_structures_filtered),\n",
    "        structure_distances_filtered.shape[0],\n",
    "        n_kinases_filtered,\n",
    "        n_pairs(n_kinases_filtered),\n",
    "        n_kinase_pairs_filtered,\n",
    "    ],\n",
    "}\n",
    "table = pd.DataFrame(\n",
    "    table,\n",
    "    index=[\n",
    "        \"Number of structures\",\n",
    "        \"Number of structure pairs (theory)\",\n",
    "        \"Number of structure pairs (experimental)\",\n",
    "        \"Number of kinases\",\n",
    "        \"Number of kinase pairs (theory)\",\n",
    "        \"Number of kinase pairs (experimental)\",\n",
    "    ],\n",
    ")\n",
    "table"
   ]
  },
  {
   "cell_type": "markdown",
   "metadata": {},
   "source": [
    "## Dual kinases paper dataset\n",
    "\n",
    "https://www.mdpi.com/1420-3049/26/3/629"
   ]
  },
  {
   "cell_type": "code",
   "execution_count": 35,
   "metadata": {},
   "outputs": [],
   "source": [
    "KINASES_KLIFS_TO_PAPER = {\n",
    "    \"EGFR\": \"EGFR\",\n",
    "    \"ErbB2\": \"ErbB2\",\n",
    "    \"KDR\": \"VEGFR2\",\n",
    "    \"p110a\": \"PI3K\",\n",
    "    \"BRAF\": \"BRAF\",\n",
    "    \"CDK2\": \"CDK2\",\n",
    "    \"LCK\": \"LCK\",\n",
    "    \"MET\": \"MET\",\n",
    "    \"p38a\": \"p38a\",\n",
    "}"
   ]
  },
  {
   "cell_type": "code",
   "execution_count": 36,
   "metadata": {},
   "outputs": [
    {
     "data": {
      "text/html": [
       "<div>\n",
       "<style scoped>\n",
       "    .dataframe tbody tr th:only-of-type {\n",
       "        vertical-align: middle;\n",
       "    }\n",
       "\n",
       "    .dataframe tbody tr th {\n",
       "        vertical-align: top;\n",
       "    }\n",
       "\n",
       "    .dataframe thead th {\n",
       "        text-align: right;\n",
       "    }\n",
       "</style>\n",
       "<table border=\"1\" class=\"dataframe\">\n",
       "  <thead>\n",
       "    <tr style=\"text-align: right;\">\n",
       "      <th>kinase.2</th>\n",
       "      <th>EGFR</th>\n",
       "      <th>ErbB2</th>\n",
       "      <th>VEGFR2</th>\n",
       "      <th>PI3K</th>\n",
       "      <th>BRAF</th>\n",
       "      <th>CDK2</th>\n",
       "      <th>LCK</th>\n",
       "      <th>MET</th>\n",
       "      <th>p38a</th>\n",
       "    </tr>\n",
       "    <tr>\n",
       "      <th>kinase.1</th>\n",
       "      <th></th>\n",
       "      <th></th>\n",
       "      <th></th>\n",
       "      <th></th>\n",
       "      <th></th>\n",
       "      <th></th>\n",
       "      <th></th>\n",
       "      <th></th>\n",
       "      <th></th>\n",
       "    </tr>\n",
       "  </thead>\n",
       "  <tbody>\n",
       "    <tr>\n",
       "      <th>EGFR</th>\n",
       "      <td>0.000000</td>\n",
       "      <td>0.039648</td>\n",
       "      <td>0.068053</td>\n",
       "      <td>0.142969</td>\n",
       "      <td>0.092932</td>\n",
       "      <td>0.080826</td>\n",
       "      <td>0.075684</td>\n",
       "      <td>0.076089</td>\n",
       "      <td>0.091348</td>\n",
       "    </tr>\n",
       "    <tr>\n",
       "      <th>ErbB2</th>\n",
       "      <td>0.039648</td>\n",
       "      <td>0.000000</td>\n",
       "      <td>0.083884</td>\n",
       "      <td>0.161669</td>\n",
       "      <td>0.098179</td>\n",
       "      <td>0.088320</td>\n",
       "      <td>0.098872</td>\n",
       "      <td>0.086752</td>\n",
       "      <td>0.099634</td>\n",
       "    </tr>\n",
       "    <tr>\n",
       "      <th>KDR</th>\n",
       "      <td>0.068053</td>\n",
       "      <td>0.083884</td>\n",
       "      <td>0.000000</td>\n",
       "      <td>0.150364</td>\n",
       "      <td>0.085402</td>\n",
       "      <td>0.083035</td>\n",
       "      <td>0.078523</td>\n",
       "      <td>0.062961</td>\n",
       "      <td>0.083357</td>\n",
       "    </tr>\n",
       "    <tr>\n",
       "      <th>p110a</th>\n",
       "      <td>0.142969</td>\n",
       "      <td>0.161669</td>\n",
       "      <td>0.150364</td>\n",
       "      <td>0.000000</td>\n",
       "      <td>0.130396</td>\n",
       "      <td>0.143338</td>\n",
       "      <td>0.144332</td>\n",
       "      <td>0.152306</td>\n",
       "      <td>0.141210</td>\n",
       "    </tr>\n",
       "    <tr>\n",
       "      <th>BRAF</th>\n",
       "      <td>0.092932</td>\n",
       "      <td>0.098179</td>\n",
       "      <td>0.085402</td>\n",
       "      <td>0.130396</td>\n",
       "      <td>0.000000</td>\n",
       "      <td>0.078493</td>\n",
       "      <td>0.088816</td>\n",
       "      <td>0.091530</td>\n",
       "      <td>0.097344</td>\n",
       "    </tr>\n",
       "    <tr>\n",
       "      <th>CDK2</th>\n",
       "      <td>0.080826</td>\n",
       "      <td>0.088320</td>\n",
       "      <td>0.083035</td>\n",
       "      <td>0.143338</td>\n",
       "      <td>0.078493</td>\n",
       "      <td>0.000000</td>\n",
       "      <td>0.077310</td>\n",
       "      <td>0.077652</td>\n",
       "      <td>0.075778</td>\n",
       "    </tr>\n",
       "    <tr>\n",
       "      <th>LCK</th>\n",
       "      <td>0.075684</td>\n",
       "      <td>0.098872</td>\n",
       "      <td>0.078523</td>\n",
       "      <td>0.144332</td>\n",
       "      <td>0.088816</td>\n",
       "      <td>0.077310</td>\n",
       "      <td>0.000000</td>\n",
       "      <td>0.081988</td>\n",
       "      <td>0.093458</td>\n",
       "    </tr>\n",
       "    <tr>\n",
       "      <th>MET</th>\n",
       "      <td>0.076089</td>\n",
       "      <td>0.086752</td>\n",
       "      <td>0.062961</td>\n",
       "      <td>0.152306</td>\n",
       "      <td>0.091530</td>\n",
       "      <td>0.077652</td>\n",
       "      <td>0.081988</td>\n",
       "      <td>0.000000</td>\n",
       "      <td>0.099564</td>\n",
       "    </tr>\n",
       "    <tr>\n",
       "      <th>p38a</th>\n",
       "      <td>0.091348</td>\n",
       "      <td>0.099634</td>\n",
       "      <td>0.083357</td>\n",
       "      <td>0.141210</td>\n",
       "      <td>0.097344</td>\n",
       "      <td>0.075778</td>\n",
       "      <td>0.093458</td>\n",
       "      <td>0.099564</td>\n",
       "      <td>0.000000</td>\n",
       "    </tr>\n",
       "  </tbody>\n",
       "</table>\n",
       "</div>"
      ],
      "text/plain": [
       "kinase.2      EGFR     ErbB2    VEGFR2      PI3K      BRAF      CDK2  \\\n",
       "kinase.1                                                               \n",
       "EGFR      0.000000  0.039648  0.068053  0.142969  0.092932  0.080826   \n",
       "ErbB2     0.039648  0.000000  0.083884  0.161669  0.098179  0.088320   \n",
       "KDR       0.068053  0.083884  0.000000  0.150364  0.085402  0.083035   \n",
       "p110a     0.142969  0.161669  0.150364  0.000000  0.130396  0.143338   \n",
       "BRAF      0.092932  0.098179  0.085402  0.130396  0.000000  0.078493   \n",
       "CDK2      0.080826  0.088320  0.083035  0.143338  0.078493  0.000000   \n",
       "LCK       0.075684  0.098872  0.078523  0.144332  0.088816  0.077310   \n",
       "MET       0.076089  0.086752  0.062961  0.152306  0.091530  0.077652   \n",
       "p38a      0.091348  0.099634  0.083357  0.141210  0.097344  0.075778   \n",
       "\n",
       "kinase.2       LCK       MET      p38a  \n",
       "kinase.1                                \n",
       "EGFR      0.075684  0.076089  0.091348  \n",
       "ErbB2     0.098872  0.086752  0.099634  \n",
       "KDR       0.078523  0.062961  0.083357  \n",
       "p110a     0.144332  0.152306  0.141210  \n",
       "BRAF      0.088816  0.091530  0.097344  \n",
       "CDK2      0.077310  0.077652  0.075778  \n",
       "LCK       0.000000  0.081988  0.093458  \n",
       "MET       0.081988  0.000000  0.099564  \n",
       "p38a      0.093458  0.099564  0.000000  "
      ]
     },
     "execution_count": 36,
     "metadata": {},
     "output_type": "execute_result"
    }
   ],
   "source": [
    "# All kinases\n",
    "kinase_matrix = fingerprint_distance_generator.kinase_distance_matrix(coverage_min=COVERAGE_CUTOFF)\n",
    "# Select kinases from paper\n",
    "example_kinase_matrix = kinase_matrix.loc[\n",
    "    KINASES_KLIFS_TO_PAPER.keys(), KINASES_KLIFS_TO_PAPER.keys()\n",
    "]\n",
    "# Rename kinases to paper kinase names\n",
    "example_kinase_matrix = example_kinase_matrix.rename(columns=KINASES_KLIFS_TO_PAPER)\n",
    "example_kinase_matrix"
   ]
  },
  {
   "cell_type": "code",
   "execution_count": 37,
   "metadata": {},
   "outputs": [
    {
     "data": {
      "image/png": "[encoded data removed]",
      "text/plain": [
       "<Figure size 432x288 with 2 Axes>"
      ]
     },
     "metadata": {
      "needs_background": "light"
     },
     "output_type": "display_data"
    }
   ],
   "source": [
    "# Use similarities instead of distances\n",
    "sns.heatmap(\n",
    "    1 - example_kinase_matrix,\n",
    "    linewidths=0,\n",
    "    annot=True,\n",
    "    square=True,\n",
    "    cbar_kws={\"label\": \"KiSSim kinase similarities\"},\n",
    "    cmap=\"viridis\",\n",
    ")\n",
    "plt.show()"
   ]
  },
  {
   "cell_type": "markdown",
   "metadata": {},
   "source": [
    "Compare to paper (shows similarities; not distances; __so think values inverse__):\n",
    "\n",
    "![](https://www.mdpi.com/molecules/molecules-26-00629/article_deploy/html/images/molecules-26-00629-g002.png)\n",
    "\n",
    "Figure 2. Heat maps of pairwise kinase similarities for the different measures used in this work: (A) ligand profile similarity (LigProfSim); (B) pocket sequence similarity (PocSeqSim); (C) interaction fingerprint similarity (IFPSim); (D) pocket structure similarity (PocStrucSim); and (E) docking rank similarity (DockRankSim) based on the lead-like subset of ZINC. Note that docking was only performed for the five kinases of Profiles 1–4, thus the remaining entries remain empty (white) in the matrix."
   ]
  },
  {
   "cell_type": "code",
   "execution_count": null,
   "metadata": {},
   "outputs": [],
   "source": []
  }
 ],
 "metadata": {
  "kernelspec": {
   "display_name": "Python 3 (ipykernel)",
   "language": "python",
   "name": "python3"
  },
  "language_info": {
   "codemirror_mode": {
    "name": "ipython",
    "version": 3
   },
   "file_extension": ".py",
   "mimetype": "text/x-python",
   "name": "python",
   "nbconvert_exporter": "python",
   "pygments_lexer": "ipython3",
   "version": "3.9.7"
  },
  "widgets": {
   "application/vnd.jupyter.widget-state+json": {
    "state": {},
    "version_major": 2,
    "version_minor": 0
   }
  }
 },
 "nbformat": 4,
 "nbformat_minor": 4
}
