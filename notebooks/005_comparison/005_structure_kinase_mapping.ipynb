{
 "cells": [
  {
   "cell_type": "markdown",
   "metadata": {},
   "source": [
    "# Fingerprint distances between structures for the same kinase\n",
    "\n",
    "We investigate the ranges of fingerprint distances for each kinase pair:\n",
    "\n",
    "- Compare the fingerprint distance distribution for intra-kinase pairs and inter-kinase pairs\n",
    "- For the kinase pairs with highest structure pair coverage, show the range of fingerprint distances (consider minimum or median for structure-to-kinase mapping)\n",
    "- Generate `kissim` kinase matrix for kinase subset investigated in the paper [\"Analyzing Kinase Similarity in Small Molecule and Protein Structural Space to Explore the Limits of Multi-Target Screening\"](https://www.mdpi.com/1420-3049/26/3/629)"
   ]
  },
  {
   "cell_type": "code",
   "execution_count": 1,
   "metadata": {
    "execution": {
     "iopub.execute_input": "2021-09-16T19:13:06.956284Z",
     "iopub.status.busy": "2021-09-16T19:13:06.955951Z",
     "iopub.status.idle": "2021-09-16T19:13:06.963857Z",
     "shell.execute_reply": "2021-09-16T19:13:06.964138Z"
    }
   },
   "outputs": [],
   "source": [
    "%load_ext autoreload\n",
    "%autoreload 2"
   ]
  },
  {
   "cell_type": "code",
   "execution_count": 2,
   "metadata": {
    "execution": {
     "iopub.execute_input": "2021-09-16T19:13:06.966729Z",
     "iopub.status.busy": "2021-09-16T19:13:06.966399Z",
     "iopub.status.idle": "2021-09-16T19:13:08.038567Z",
     "shell.execute_reply": "2021-09-16T19:13:08.038284Z"
    }
   },
   "outputs": [
    {
     "data": {
      "application/vnd.jupyter.widget-view+json": {
       "model_id": "2cc25e4caafa4bffbc27a7bd8f3e9cc5",
       "version_major": 2,
       "version_minor": 0
      },
      "text/plain": []
     },
     "metadata": {},
     "output_type": "display_data"
    }
   ],
   "source": [
    "from pathlib import Path\n",
    "\n",
    "import numpy as np\n",
    "import pandas as pd\n",
    "import matplotlib.pyplot as plt\n",
    "import seaborn as sns\n",
    "from opencadd.databases.klifs import setup_remote\n",
    "\n",
    "from kissim.comparison import FingerprintDistanceGenerator"
   ]
  },
  {
   "cell_type": "code",
   "execution_count": 3,
   "metadata": {
    "execution": {
     "iopub.execute_input": "2021-09-16T19:13:08.040972Z",
     "iopub.status.busy": "2021-09-16T19:13:08.040664Z",
     "iopub.status.idle": "2021-09-16T19:13:08.054650Z",
     "shell.execute_reply": "2021-09-16T19:13:08.053712Z"
    }
   },
   "outputs": [],
   "source": [
    "HERE = Path(_dh[-1])  # noqa: F821\n",
    "DATA = HERE / \"../../results/all\""
   ]
  },
  {
   "cell_type": "code",
   "execution_count": 4,
   "metadata": {
    "execution": {
     "iopub.execute_input": "2021-09-16T19:13:08.059335Z",
     "iopub.status.busy": "2021-09-16T19:13:08.058626Z",
     "iopub.status.idle": "2021-09-16T19:13:08.075080Z",
     "shell.execute_reply": "2021-09-16T19:13:08.075413Z"
    }
   },
   "outputs": [],
   "source": [
    "plt.style.use(\"seaborn\")"
   ]
  },
  {
   "cell_type": "code",
   "execution_count": 5,
   "metadata": {
    "execution": {
     "iopub.execute_input": "2021-09-16T19:13:08.077992Z",
     "iopub.status.busy": "2021-09-16T19:13:08.077642Z",
     "iopub.status.idle": "2021-09-16T19:13:08.089745Z",
     "shell.execute_reply": "2021-09-16T19:13:08.090010Z"
    }
   },
   "outputs": [],
   "source": [
    "%matplotlib inline"
   ]
  },
  {
   "cell_type": "code",
   "execution_count": 6,
   "metadata": {
    "execution": {
     "iopub.execute_input": "2021-09-16T19:13:08.092055Z",
     "iopub.status.busy": "2021-09-16T19:13:08.091752Z",
     "iopub.status.idle": "2021-09-16T19:13:08.104685Z",
     "shell.execute_reply": "2021-09-16T19:13:08.103774Z"
    }
   },
   "outputs": [],
   "source": [
    "COVERAGE_CUTOFF = 0.8"
   ]
  },
  {
   "cell_type": "markdown",
   "metadata": {},
   "source": [
    "## Load structural metadata"
   ]
  },
  {
   "cell_type": "code",
   "execution_count": 7,
   "metadata": {
    "execution": {
     "iopub.execute_input": "2021-09-16T19:13:08.109199Z",
     "iopub.status.busy": "2021-09-16T19:13:08.108541Z",
     "iopub.status.idle": "2021-09-16T19:13:11.215807Z",
     "shell.execute_reply": "2021-09-16T19:13:11.216070Z"
    }
   },
   "outputs": [],
   "source": [
    "klifs_session = setup_remote()\n",
    "structures = klifs_session.structures.all_structures()"
   ]
  },
  {
   "cell_type": "markdown",
   "metadata": {},
   "source": [
    "## Load fingerprint distances"
   ]
  },
  {
   "cell_type": "code",
   "execution_count": 8,
   "metadata": {
    "execution": {
     "iopub.execute_input": "2021-09-16T19:13:11.218285Z",
     "iopub.status.busy": "2021-09-16T19:13:11.217963Z",
     "iopub.status.idle": "2021-09-16T19:13:11.228930Z",
     "shell.execute_reply": "2021-09-16T19:13:11.228654Z"
    }
   },
   "outputs": [],
   "source": [
    "fingerprint_distance_file = DATA / \"fingerprint_distances.csv\""
   ]
  },
  {
   "cell_type": "code",
   "execution_count": 9,
   "metadata": {
    "execution": {
     "iopub.execute_input": "2021-09-16T19:13:11.231096Z",
     "iopub.status.busy": "2021-09-16T19:13:11.230791Z",
     "iopub.status.idle": "2021-09-16T19:13:16.631985Z",
     "shell.execute_reply": "2021-09-16T19:13:16.632230Z"
    }
   },
   "outputs": [],
   "source": [
    "fingerprint_distance_generator = FingerprintDistanceGenerator.from_csv(fingerprint_distance_file)"
   ]
  },
  {
   "cell_type": "code",
   "execution_count": 10,
   "metadata": {
    "execution": {
     "iopub.execute_input": "2021-09-16T19:13:16.634658Z",
     "iopub.status.busy": "2021-09-16T19:13:16.634349Z",
     "iopub.status.idle": "2021-09-16T19:13:16.648697Z",
     "shell.execute_reply": "2021-09-16T19:13:16.648383Z"
    }
   },
   "outputs": [
    {
     "name": "stdout",
     "output_type": "stream",
     "text": [
      "Number of kinases: 279\n",
      "Number of structures: 4681\n"
     ]
    }
   ],
   "source": [
    "print(f\"Number of kinases: {len(fingerprint_distance_generator.kinase_ids)}\")\n",
    "print(f\"Number of structures: {len(fingerprint_distance_generator.structure_ids)}\")"
   ]
  },
  {
   "cell_type": "code",
   "execution_count": 11,
   "metadata": {
    "execution": {
     "iopub.execute_input": "2021-09-16T19:13:16.650739Z",
     "iopub.status.busy": "2021-09-16T19:13:16.650436Z",
     "iopub.status.idle": "2021-09-16T19:13:16.666578Z",
     "shell.execute_reply": "2021-09-16T19:13:16.666828Z"
    }
   },
   "outputs": [
    {
     "data": {
      "text/html": [
       "<div>\n",
       "<style scoped>\n",
       "    .dataframe tbody tr th:only-of-type {\n",
       "        vertical-align: middle;\n",
       "    }\n",
       "\n",
       "    .dataframe tbody tr th {\n",
       "        vertical-align: top;\n",
       "    }\n",
       "\n",
       "    .dataframe thead th {\n",
       "        text-align: right;\n",
       "    }\n",
       "</style>\n",
       "<table border=\"1\" class=\"dataframe\">\n",
       "  <thead>\n",
       "    <tr style=\"text-align: right;\">\n",
       "      <th></th>\n",
       "      <th>structure.1</th>\n",
       "      <th>structure.2</th>\n",
       "      <th>kinase.1</th>\n",
       "      <th>kinase.2</th>\n",
       "      <th>distance</th>\n",
       "      <th>bit_coverage</th>\n",
       "    </tr>\n",
       "  </thead>\n",
       "  <tbody>\n",
       "    <tr>\n",
       "      <th>0</th>\n",
       "      <td>1</td>\n",
       "      <td>4</td>\n",
       "      <td>EphA7</td>\n",
       "      <td>EphA7</td>\n",
       "      <td>0.011780</td>\n",
       "      <td>0.961333</td>\n",
       "    </tr>\n",
       "    <tr>\n",
       "      <th>1</th>\n",
       "      <td>1</td>\n",
       "      <td>8</td>\n",
       "      <td>EphA7</td>\n",
       "      <td>ITK</td>\n",
       "      <td>0.067187</td>\n",
       "      <td>0.946000</td>\n",
       "    </tr>\n",
       "    <tr>\n",
       "      <th>2</th>\n",
       "      <td>1</td>\n",
       "      <td>9</td>\n",
       "      <td>EphA7</td>\n",
       "      <td>ITK</td>\n",
       "      <td>0.095289</td>\n",
       "      <td>0.961333</td>\n",
       "    </tr>\n",
       "    <tr>\n",
       "      <th>3</th>\n",
       "      <td>1</td>\n",
       "      <td>11</td>\n",
       "      <td>EphA7</td>\n",
       "      <td>ITK</td>\n",
       "      <td>0.073468</td>\n",
       "      <td>0.961333</td>\n",
       "    </tr>\n",
       "    <tr>\n",
       "      <th>4</th>\n",
       "      <td>1</td>\n",
       "      <td>12</td>\n",
       "      <td>EphA7</td>\n",
       "      <td>ITK</td>\n",
       "      <td>0.067586</td>\n",
       "      <td>0.946000</td>\n",
       "    </tr>\n",
       "  </tbody>\n",
       "</table>\n",
       "</div>"
      ],
      "text/plain": [
       "   structure.1  structure.2 kinase.1 kinase.2  distance  bit_coverage\n",
       "0            1            4    EphA7    EphA7  0.011780      0.961333\n",
       "1            1            8    EphA7      ITK  0.067187      0.946000\n",
       "2            1            9    EphA7      ITK  0.095289      0.961333\n",
       "3            1           11    EphA7      ITK  0.073468      0.961333\n",
       "4            1           12    EphA7      ITK  0.067586      0.946000"
      ]
     },
     "execution_count": 11,
     "metadata": {},
     "output_type": "execute_result"
    }
   ],
   "source": [
    "structure_distances = fingerprint_distance_generator.data\n",
    "structure_distances.head()"
   ]
  },
  {
   "cell_type": "markdown",
   "metadata": {},
   "source": [
    "### Add DFG conformation"
   ]
  },
  {
   "cell_type": "code",
   "execution_count": 12,
   "metadata": {
    "execution": {
     "iopub.execute_input": "2021-09-16T19:13:16.669092Z",
     "iopub.status.busy": "2021-09-16T19:13:16.668786Z",
     "iopub.status.idle": "2021-09-16T19:13:16.679798Z",
     "shell.execute_reply": "2021-09-16T19:13:16.679478Z"
    }
   },
   "outputs": [],
   "source": [
    "def get_dfg(dfg, structure_klifs_id):\n",
    "    try:\n",
    "        return dfg[structure_klifs_id] \n",
    "    except KeyError:\n",
    "        return None"
   ]
  },
  {
   "cell_type": "code",
   "execution_count": 13,
   "metadata": {
    "execution": {
     "iopub.execute_input": "2021-09-16T19:13:16.682286Z",
     "iopub.status.busy": "2021-09-16T19:13:16.681971Z",
     "iopub.status.idle": "2021-09-16T19:14:12.503259Z",
     "shell.execute_reply": "2021-09-16T19:14:12.502918Z"
    }
   },
   "outputs": [
    {
     "name": "stdout",
     "output_type": "stream",
     "text": [
      "CPU times: user 55.5 s, sys: 279 ms, total: 55.8 s\n",
      "Wall time: 55.8 s\n"
     ]
    }
   ],
   "source": [
    "%%time\n",
    "dfg = structures.set_index(\"structure.klifs_id\")[\"structure.dfg\"]\n",
    "structure_distances[\"dfg.1\"] = structure_distances[\"structure.1\"].apply(lambda x: get_dfg(dfg, x))\n",
    "structure_distances[\"dfg.2\"] = structure_distances[\"structure.2\"].apply(lambda x: get_dfg(dfg, x))"
   ]
  },
  {
   "cell_type": "markdown",
   "metadata": {},
   "source": [
    "### Filter distances by coverage cutoff"
   ]
  },
  {
   "cell_type": "markdown",
   "metadata": {},
   "source": [
    "#### All conformation pairs"
   ]
  },
  {
   "cell_type": "code",
   "execution_count": 14,
   "metadata": {
    "execution": {
     "iopub.execute_input": "2021-09-16T19:14:12.505896Z",
     "iopub.status.busy": "2021-09-16T19:14:12.505568Z",
     "iopub.status.idle": "2021-09-16T19:14:12.553455Z",
     "shell.execute_reply": "2021-09-16T19:14:12.553115Z"
    }
   },
   "outputs": [
    {
     "data": {
      "text/html": [
       "<div>\n",
       "<style scoped>\n",
       "    .dataframe tbody tr th:only-of-type {\n",
       "        vertical-align: middle;\n",
       "    }\n",
       "\n",
       "    .dataframe tbody tr th {\n",
       "        vertical-align: top;\n",
       "    }\n",
       "\n",
       "    .dataframe thead th {\n",
       "        text-align: right;\n",
       "    }\n",
       "</style>\n",
       "<table border=\"1\" class=\"dataframe\">\n",
       "  <thead>\n",
       "    <tr style=\"text-align: right;\">\n",
       "      <th></th>\n",
       "      <th>structure.1</th>\n",
       "      <th>structure.2</th>\n",
       "      <th>kinase.1</th>\n",
       "      <th>kinase.2</th>\n",
       "      <th>distance</th>\n",
       "      <th>bit_coverage</th>\n",
       "      <th>dfg.1</th>\n",
       "      <th>dfg.2</th>\n",
       "      <th>distance_filtered</th>\n",
       "    </tr>\n",
       "  </thead>\n",
       "  <tbody>\n",
       "    <tr>\n",
       "      <th>0</th>\n",
       "      <td>1</td>\n",
       "      <td>4</td>\n",
       "      <td>EphA7</td>\n",
       "      <td>EphA7</td>\n",
       "      <td>0.011780</td>\n",
       "      <td>0.961333</td>\n",
       "      <td>out</td>\n",
       "      <td>in</td>\n",
       "      <td>0.011780</td>\n",
       "    </tr>\n",
       "    <tr>\n",
       "      <th>1</th>\n",
       "      <td>1</td>\n",
       "      <td>8</td>\n",
       "      <td>EphA7</td>\n",
       "      <td>ITK</td>\n",
       "      <td>0.067187</td>\n",
       "      <td>0.946000</td>\n",
       "      <td>out</td>\n",
       "      <td>in</td>\n",
       "      <td>0.067187</td>\n",
       "    </tr>\n",
       "    <tr>\n",
       "      <th>2</th>\n",
       "      <td>1</td>\n",
       "      <td>9</td>\n",
       "      <td>EphA7</td>\n",
       "      <td>ITK</td>\n",
       "      <td>0.095289</td>\n",
       "      <td>0.961333</td>\n",
       "      <td>out</td>\n",
       "      <td>in</td>\n",
       "      <td>0.095289</td>\n",
       "    </tr>\n",
       "    <tr>\n",
       "      <th>3</th>\n",
       "      <td>1</td>\n",
       "      <td>11</td>\n",
       "      <td>EphA7</td>\n",
       "      <td>ITK</td>\n",
       "      <td>0.073468</td>\n",
       "      <td>0.961333</td>\n",
       "      <td>out</td>\n",
       "      <td>in</td>\n",
       "      <td>0.073468</td>\n",
       "    </tr>\n",
       "    <tr>\n",
       "      <th>4</th>\n",
       "      <td>1</td>\n",
       "      <td>12</td>\n",
       "      <td>EphA7</td>\n",
       "      <td>ITK</td>\n",
       "      <td>0.067586</td>\n",
       "      <td>0.946000</td>\n",
       "      <td>out</td>\n",
       "      <td>in</td>\n",
       "      <td>0.067586</td>\n",
       "    </tr>\n",
       "  </tbody>\n",
       "</table>\n",
       "</div>"
      ],
      "text/plain": [
       "   structure.1  structure.2 kinase.1 kinase.2  distance  bit_coverage dfg.1  \\\n",
       "0            1            4    EphA7    EphA7  0.011780      0.961333   out   \n",
       "1            1            8    EphA7      ITK  0.067187      0.946000   out   \n",
       "2            1            9    EphA7      ITK  0.095289      0.961333   out   \n",
       "3            1           11    EphA7      ITK  0.073468      0.961333   out   \n",
       "4            1           12    EphA7      ITK  0.067586      0.946000   out   \n",
       "\n",
       "  dfg.2  distance_filtered  \n",
       "0    in           0.011780  \n",
       "1    in           0.067187  \n",
       "2    in           0.095289  \n",
       "3    in           0.073468  \n",
       "4    in           0.067586  "
      ]
     },
     "execution_count": 14,
     "metadata": {},
     "output_type": "execute_result"
    }
   ],
   "source": [
    "structure_distances[\"distance_filtered\"] = np.where(\n",
    "    structure_distances[\"bit_coverage\"].values < COVERAGE_CUTOFF,\n",
    "    np.nan,\n",
    "    structure_distances[\"distance\"].values,\n",
    ")\n",
    "structure_distances.head()"
   ]
  },
  {
   "cell_type": "code",
   "execution_count": 15,
   "metadata": {
    "execution": {
     "iopub.execute_input": "2021-09-16T19:14:12.555750Z",
     "iopub.status.busy": "2021-09-16T19:14:12.555420Z",
     "iopub.status.idle": "2021-09-16T19:14:13.566313Z",
     "shell.execute_reply": "2021-09-16T19:14:13.565987Z"
    }
   },
   "outputs": [],
   "source": [
    "structure_distances_filtered = structure_distances[\n",
    "    structure_distances[\"distance_filtered\"].notna()\n",
    "]"
   ]
  },
  {
   "cell_type": "code",
   "execution_count": 16,
   "metadata": {
    "execution": {
     "iopub.execute_input": "2021-09-16T19:14:13.568393Z",
     "iopub.status.busy": "2021-09-16T19:14:13.568086Z",
     "iopub.status.idle": "2021-09-16T19:14:13.578990Z",
     "shell.execute_reply": "2021-09-16T19:14:13.579229Z"
    }
   },
   "outputs": [
    {
     "name": "stdout",
     "output_type": "stream",
     "text": [
      "Structure pairs: 10953540\n",
      "Structure pairs not-NaN: 10948918\n"
     ]
    }
   ],
   "source": [
    "print(f\"Structure pairs: {structure_distances.shape[0]}\")\n",
    "print(f\"Structure pairs not-NaN: {structure_distances_filtered.shape[0]}\")"
   ]
  },
  {
   "cell_type": "markdown",
   "metadata": {},
   "source": [
    "#### DFG-in conformation pairs"
   ]
  },
  {
   "cell_type": "code",
   "execution_count": 17,
   "metadata": {
    "execution": {
     "iopub.execute_input": "2021-09-16T19:14:13.581208Z",
     "iopub.status.busy": "2021-09-16T19:14:13.580900Z",
     "iopub.status.idle": "2021-09-16T19:16:49.953500Z",
     "shell.execute_reply": "2021-09-16T19:16:49.953210Z"
    }
   },
   "outputs": [
    {
     "name": "stdout",
     "output_type": "stream",
     "text": [
      "CPU times: user 2min 33s, sys: 2.45 s, total: 2min 36s\n",
      "Wall time: 2min 36s\n"
     ]
    }
   ],
   "source": [
    "%%time\n",
    "# Select DFG-in only\n",
    "\n",
    "# Without coverage cutoff\n",
    "structure_distances_in_in = structure_distances[\n",
    "    structure_distances.apply(lambda x: x[\"dfg.1\"] == x[\"dfg.2\"] == \"in\", axis=1)\n",
    "]\n",
    "# With coverage cutoff\n",
    "structure_distances_filtered_in_in = structure_distances_filtered[\n",
    "    structure_distances_filtered.apply(lambda x: x[\"dfg.1\"] == x[\"dfg.2\"] == \"in\", axis=1)\n",
    "]"
   ]
  },
  {
   "cell_type": "code",
   "execution_count": 18,
   "metadata": {
    "execution": {
     "iopub.execute_input": "2021-09-16T19:16:49.955752Z",
     "iopub.status.busy": "2021-09-16T19:16:49.955450Z",
     "iopub.status.idle": "2021-09-16T19:16:49.966019Z",
     "shell.execute_reply": "2021-09-16T19:16:49.966272Z"
    }
   },
   "outputs": [
    {
     "name": "stdout",
     "output_type": "stream",
     "text": [
      "Structure pairs: 8374278\n",
      "Structure pairs not-NaN: 8371955\n"
     ]
    }
   ],
   "source": [
    "print(f\"Structure pairs: {structure_distances_in_in.shape[0]}\")\n",
    "print(f\"Structure pairs not-NaN: {structure_distances_filtered_in_in.shape[0]}\")"
   ]
  },
  {
   "cell_type": "markdown",
   "metadata": {},
   "source": [
    "## Structure distances"
   ]
  },
  {
   "cell_type": "markdown",
   "metadata": {},
   "source": [
    "### Structure distance distributions for different kinase subsets\n",
    "\n",
    "- DFG-in pairs only!!!\n",
    "- With cutoff!!!\n",
    "- All structure distances\n",
    "- Structure distances between the same kinases\n",
    "- Structure distances between different kinases"
   ]
  },
  {
   "cell_type": "code",
   "execution_count": 19,
   "metadata": {
    "execution": {
     "iopub.execute_input": "2021-09-16T19:16:49.968408Z",
     "iopub.status.busy": "2021-09-16T19:16:49.968107Z",
     "iopub.status.idle": "2021-09-16T19:16:50.073681Z",
     "shell.execute_reply": "2021-09-16T19:16:50.073942Z"
    }
   },
   "outputs": [
    {
     "ename": "NameError",
     "evalue": "name 'structure_distances_df' is not defined",
     "output_type": "error",
     "traceback": [
      "\u001b[0;31m---------------------------------------------------------------------------\u001b[0m",
      "\u001b[0;31mNameError\u001b[0m                                 Traceback (most recent call last)",
      "\u001b[0;32m/tmp/ipykernel_30895/1230133005.py\u001b[0m in \u001b[0;36m<module>\u001b[0;34m\u001b[0m\n\u001b[0;32m----> 1\u001b[0;31m \u001b[0mstructure_distances_df\u001b[0m\u001b[0;34m.\u001b[0m\u001b[0mnotna\u001b[0m\u001b[0;34m(\u001b[0m\u001b[0;34m)\u001b[0m\u001b[0;34m.\u001b[0m\u001b[0msum\u001b[0m\u001b[0;34m(\u001b[0m\u001b[0;34m)\u001b[0m\u001b[0;34m\u001b[0m\u001b[0;34m\u001b[0m\u001b[0m\n\u001b[0m",
      "\u001b[0;31mNameError\u001b[0m: name 'structure_distances_df' is not defined"
     ]
    }
   ],
   "source": [
    "structure_distances_df.notna().sum()"
   ]
  },
  {
   "cell_type": "code",
   "execution_count": 20,
   "metadata": {
    "execution": {
     "iopub.execute_input": "2021-09-16T19:16:50.076451Z",
     "iopub.status.busy": "2021-09-16T19:16:50.076148Z",
     "iopub.status.idle": "2021-09-16T19:16:50.190037Z",
     "shell.execute_reply": "2021-09-16T19:16:50.190342Z"
    }
   },
   "outputs": [
    {
     "ename": "NameError",
     "evalue": "name 'structure_distances_df' is not defined",
     "output_type": "error",
     "traceback": [
      "\u001b[0;31m---------------------------------------------------------------------------\u001b[0m",
      "\u001b[0;31mNameError\u001b[0m                                 Traceback (most recent call last)",
      "\u001b[0;32m/tmp/ipykernel_30895/3609906318.py\u001b[0m in \u001b[0;36m<module>\u001b[0;34m\u001b[0m\n\u001b[1;32m      1\u001b[0m \u001b[0mfig\u001b[0m\u001b[0;34m,\u001b[0m \u001b[0max\u001b[0m \u001b[0;34m=\u001b[0m \u001b[0mplt\u001b[0m\u001b[0;34m.\u001b[0m\u001b[0msubplots\u001b[0m\u001b[0;34m(\u001b[0m\u001b[0;36m1\u001b[0m\u001b[0;34m,\u001b[0m \u001b[0;36m1\u001b[0m\u001b[0;34m)\u001b[0m\u001b[0;34m\u001b[0m\u001b[0;34m\u001b[0m\u001b[0m\n\u001b[0;32m----> 2\u001b[0;31m \u001b[0mstructure_distances_df\u001b[0m\u001b[0;34m.\u001b[0m\u001b[0mplot\u001b[0m\u001b[0;34m(\u001b[0m\u001b[0mkind\u001b[0m\u001b[0;34m=\u001b[0m\u001b[0;34m\"box\"\u001b[0m\u001b[0;34m,\u001b[0m \u001b[0max\u001b[0m\u001b[0;34m=\u001b[0m\u001b[0max\u001b[0m\u001b[0;34m)\u001b[0m\u001b[0;34m\u001b[0m\u001b[0;34m\u001b[0m\u001b[0m\n\u001b[0m\u001b[1;32m      3\u001b[0m \u001b[0max\u001b[0m\u001b[0;34m.\u001b[0m\u001b[0mset_xlabel\u001b[0m\u001b[0;34m(\u001b[0m\u001b[0;34m\"Type of kinase pairs\"\u001b[0m\u001b[0;34m)\u001b[0m\u001b[0;34m\u001b[0m\u001b[0;34m\u001b[0m\u001b[0m\n\u001b[1;32m      4\u001b[0m \u001b[0max\u001b[0m\u001b[0;34m.\u001b[0m\u001b[0mset_ylabel\u001b[0m\u001b[0;34m(\u001b[0m\u001b[0;34m\"Structure pair distances (DFG-in only)\"\u001b[0m\u001b[0;34m)\u001b[0m\u001b[0;34m\u001b[0m\u001b[0;34m\u001b[0m\u001b[0m\n\u001b[1;32m      5\u001b[0m fig.savefig(\n",
      "\u001b[0;31mNameError\u001b[0m: name 'structure_distances_df' is not defined"
     ]
    },
    {
     "data": {
      "image/png": "[encoded data removed]",
      "text/plain": [
       "<Figure size 432x288 with 1 Axes>"
      ]
     },
     "metadata": {
      "needs_background": "light"
     },
     "output_type": "display_data"
    }
   ],
   "source": [
    "fig, ax = plt.subplots(1, 1)\n",
    "structure_distances_df.plot(kind=\"box\", ax=ax)\n",
    "ax.set_xlabel(\"Type of kinase pairs\")\n",
    "ax.set_ylabel(\"Structure pair distances (DFG-in only)\")\n",
    "fig.savefig(\n",
    "    HERE / \"../../notebooks/figures/kissim_discriminating_kinases.png\",\n",
    "    dpi=300,\n",
    "    bbox_inches=\"tight\",\n",
    ")"
   ]
  },
  {
   "cell_type": "code",
   "execution_count": 21,
   "metadata": {
    "execution": {
     "iopub.execute_input": "2021-09-16T19:16:50.192409Z",
     "iopub.status.busy": "2021-09-16T19:16:50.192115Z",
     "iopub.status.idle": "2021-09-16T19:16:50.205858Z",
     "shell.execute_reply": "2021-09-16T19:16:50.205590Z"
    }
   },
   "outputs": [
    {
     "ename": "NameError",
     "evalue": "name 'structure_distances_df' is not defined",
     "output_type": "error",
     "traceback": [
      "\u001b[0;31m---------------------------------------------------------------------------\u001b[0m",
      "\u001b[0;31mNameError\u001b[0m                                 Traceback (most recent call last)",
      "\u001b[0;32m/tmp/ipykernel_30895/3624173212.py\u001b[0m in \u001b[0;36m<module>\u001b[0;34m\u001b[0m\n\u001b[0;32m----> 1\u001b[0;31m \u001b[0mstructure_distances_df\u001b[0m\u001b[0;34m.\u001b[0m\u001b[0mdescribe\u001b[0m\u001b[0;34m(\u001b[0m\u001b[0;34m)\u001b[0m\u001b[0;34m\u001b[0m\u001b[0;34m\u001b[0m\u001b[0m\n\u001b[0m",
      "\u001b[0;31mNameError\u001b[0m: name 'structure_distances_df' is not defined"
     ]
    }
   ],
   "source": [
    "structure_distances_df.describe()"
   ]
  },
  {
   "cell_type": "code",
   "execution_count": 22,
   "metadata": {
    "execution": {
     "iopub.execute_input": "2021-09-16T19:16:50.208233Z",
     "iopub.status.busy": "2021-09-16T19:16:50.207928Z",
     "iopub.status.idle": "2021-09-16T19:16:52.374682Z",
     "shell.execute_reply": "2021-09-16T19:16:52.374401Z"
    }
   },
   "outputs": [],
   "source": [
    "structure_distances_filtered_in_in_df = pd.DataFrame(\n",
    "    {\n",
    "        \"all\": structure_distances_filtered_in_in[\"distance\"],\n",
    "        \"intra-kinase\": structure_distances_filtered_in_in[\n",
    "            structure_distances_filtered_in_in[\"kinase.1\"] == structure_distances_filtered_in_in[\"kinase.2\"]\n",
    "        ][\"distance\"],\n",
    "        \"inter-kinase\": structure_distances_filtered_in_in[\n",
    "            structure_distances_filtered_in_in[\"kinase.1\"] != structure_distances_filtered_in_in[\"kinase.2\"]\n",
    "        ][\"distance\"],\n",
    "    }\n",
    ")"
   ]
  },
  {
   "cell_type": "code",
   "execution_count": 23,
   "metadata": {
    "execution": {
     "iopub.execute_input": "2021-09-16T19:16:52.376984Z",
     "iopub.status.busy": "2021-09-16T19:16:52.376689Z",
     "iopub.status.idle": "2021-09-16T19:16:52.421752Z",
     "shell.execute_reply": "2021-09-16T19:16:52.421484Z"
    }
   },
   "outputs": [
    {
     "data": {
      "text/plain": [
       "all             8371955\n",
       "intra-kinase     198339\n",
       "inter-kinase    8173616\n",
       "dtype: int64"
      ]
     },
     "execution_count": 23,
     "metadata": {},
     "output_type": "execute_result"
    }
   ],
   "source": [
    "structure_distances_filtered_in_in_df.notna().sum()"
   ]
  },
  {
   "cell_type": "code",
   "execution_count": 24,
   "metadata": {
    "execution": {
     "iopub.execute_input": "2021-09-16T19:16:52.424299Z",
     "iopub.status.busy": "2021-09-16T19:16:52.423993Z",
     "iopub.status.idle": "2021-09-16T19:16:57.645199Z",
     "shell.execute_reply": "2021-09-16T19:16:57.645449Z"
    }
   },
   "outputs": [
    {
     "data": {
      "image/png": "[encoded data removed]",
      "text/plain": [
       "<Figure size 432x288 with 1 Axes>"
      ]
     },
     "metadata": {
      "needs_background": "light"
     },
     "output_type": "display_data"
    }
   ],
   "source": [
    "fig, axes = plt.subplots(1, 1)\n",
    "structure_distances_filtered_in_in_df.plot(kind=\"box\", ax=axes)\n",
    "axes.set_ylabel(f\"Fingerprint distances ({COVERAGE_CUTOFF} cutoff)\")\n",
    "fig.savefig(HERE / \"../../notebooks/figures/kissim_discriminates_kinases.png\", dpi=300)"
   ]
  },
  {
   "cell_type": "code",
   "execution_count": 25,
   "metadata": {
    "execution": {
     "iopub.execute_input": "2021-09-16T19:16:57.647859Z",
     "iopub.status.busy": "2021-09-16T19:16:57.647554Z",
     "iopub.status.idle": "2021-09-16T19:16:58.365533Z",
     "shell.execute_reply": "2021-09-16T19:16:58.365260Z"
    }
   },
   "outputs": [
    {
     "data": {
      "text/html": [
       "<div>\n",
       "<style scoped>\n",
       "    .dataframe tbody tr th:only-of-type {\n",
       "        vertical-align: middle;\n",
       "    }\n",
       "\n",
       "    .dataframe tbody tr th {\n",
       "        vertical-align: top;\n",
       "    }\n",
       "\n",
       "    .dataframe thead th {\n",
       "        text-align: right;\n",
       "    }\n",
       "</style>\n",
       "<table border=\"1\" class=\"dataframe\">\n",
       "  <thead>\n",
       "    <tr style=\"text-align: right;\">\n",
       "      <th></th>\n",
       "      <th>all</th>\n",
       "      <th>intra-kinase</th>\n",
       "      <th>inter-kinase</th>\n",
       "    </tr>\n",
       "  </thead>\n",
       "  <tbody>\n",
       "    <tr>\n",
       "      <th>count</th>\n",
       "      <td>8.371955e+06</td>\n",
       "      <td>198339.000000</td>\n",
       "      <td>8.173616e+06</td>\n",
       "    </tr>\n",
       "    <tr>\n",
       "      <th>mean</th>\n",
       "      <td>1.070813e-01</td>\n",
       "      <td>0.021379</td>\n",
       "      <td>1.091610e-01</td>\n",
       "    </tr>\n",
       "    <tr>\n",
       "      <th>std</th>\n",
       "      <td>2.456204e-02</td>\n",
       "      <td>0.010801</td>\n",
       "      <td>2.079774e-02</td>\n",
       "    </tr>\n",
       "    <tr>\n",
       "      <th>min</th>\n",
       "      <td>0.000000e+00</td>\n",
       "      <td>0.000000</td>\n",
       "      <td>1.028263e-02</td>\n",
       "    </tr>\n",
       "    <tr>\n",
       "      <th>25%</th>\n",
       "      <td>9.586968e-02</td>\n",
       "      <td>0.013727</td>\n",
       "      <td>9.672978e-02</td>\n",
       "    </tr>\n",
       "    <tr>\n",
       "      <th>50%</th>\n",
       "      <td>1.061391e-01</td>\n",
       "      <td>0.018029</td>\n",
       "      <td>1.065845e-01</td>\n",
       "    </tr>\n",
       "    <tr>\n",
       "      <th>75%</th>\n",
       "      <td>1.173430e-01</td>\n",
       "      <td>0.029011</td>\n",
       "      <td>1.176966e-01</td>\n",
       "    </tr>\n",
       "    <tr>\n",
       "      <th>max</th>\n",
       "      <td>2.394582e-01</td>\n",
       "      <td>0.191790</td>\n",
       "      <td>2.394582e-01</td>\n",
       "    </tr>\n",
       "  </tbody>\n",
       "</table>\n",
       "</div>"
      ],
      "text/plain": [
       "                all   intra-kinase  inter-kinase\n",
       "count  8.371955e+06  198339.000000  8.173616e+06\n",
       "mean   1.070813e-01       0.021379  1.091610e-01\n",
       "std    2.456204e-02       0.010801  2.079774e-02\n",
       "min    0.000000e+00       0.000000  1.028263e-02\n",
       "25%    9.586968e-02       0.013727  9.672978e-02\n",
       "50%    1.061391e-01       0.018029  1.065845e-01\n",
       "75%    1.173430e-01       0.029011  1.176966e-01\n",
       "max    2.394582e-01       0.191790  2.394582e-01"
      ]
     },
     "execution_count": 25,
     "metadata": {},
     "output_type": "execute_result"
    }
   ],
   "source": [
    "structure_distances_filtered_in_in_df.describe()"
   ]
  },
  {
   "cell_type": "markdown",
   "metadata": {},
   "source": [
    "### Per kinase distributions\n",
    "\n",
    "How robust are structure distances within kinase pairs?"
   ]
  },
  {
   "cell_type": "markdown",
   "metadata": {},
   "source": [
    "#### All kinase pairs"
   ]
  },
  {
   "cell_type": "code",
   "execution_count": 26,
   "metadata": {
    "execution": {
     "iopub.execute_input": "2021-09-16T19:16:58.368055Z",
     "iopub.status.busy": "2021-09-16T19:16:58.367750Z",
     "iopub.status.idle": "2021-09-16T19:16:58.496168Z",
     "shell.execute_reply": "2021-09-16T19:16:58.495889Z"
    }
   },
   "outputs": [],
   "source": [
    "data = structure_distances_filtered[[\"kinase.1\", \"kinase.2\", \"distance\"]].groupby(\n",
    "    [\"kinase.1\", \"kinase.2\"]\n",
    ")"
   ]
  },
  {
   "cell_type": "code",
   "execution_count": 27,
   "metadata": {
    "execution": {
     "iopub.execute_input": "2021-09-16T19:16:58.499587Z",
     "iopub.status.busy": "2021-09-16T19:16:58.499277Z",
     "iopub.status.idle": "2021-09-16T19:17:00.508232Z",
     "shell.execute_reply": "2021-09-16T19:17:00.507949Z"
    }
   },
   "outputs": [
    {
     "data": {
      "image/png": "[encoded data removed]",
      "text/plain": [
       "<Figure size 360x720 with 3 Axes>"
      ]
     },
     "metadata": {
      "needs_background": "light"
     },
     "output_type": "display_data"
    }
   ],
   "source": [
    "fig, axes = plt.subplots(3, 1, figsize=(5, 10))\n",
    "# Size\n",
    "data.size().plot(ax=axes[0], kind=\"hist\", logy=True, style=\".\", bins=100)\n",
    "axes[0].set_xlabel(\"Number of structure pairs / kinase pair\")\n",
    "axes[0].set_ylabel(\"Frequency (log scale!)\")\n",
    "# Mean\n",
    "data.mean().squeeze().plot(ax=axes[1], kind=\"hist\", style=\".\", bins=100)\n",
    "axes[1].set_xlabel(\"Distance mean within structure pairs / kinase pair\")\n",
    "# Std\n",
    "data.std().squeeze().plot(ax=axes[2], kind=\"hist\", logy=False, style=\".\", bins=100)\n",
    "axes[2].set_xlabel(\"Distance std within structure pairs / kinase pair\");"
   ]
  },
  {
   "cell_type": "code",
   "execution_count": 28,
   "metadata": {
    "execution": {
     "iopub.execute_input": "2021-09-16T19:17:00.511600Z",
     "iopub.status.busy": "2021-09-16T19:17:00.511291Z",
     "iopub.status.idle": "2021-09-16T19:17:01.033021Z",
     "shell.execute_reply": "2021-09-16T19:17:01.032710Z"
    }
   },
   "outputs": [
    {
     "name": "stdout",
     "output_type": "stream",
     "text": [
      "size == 1:  4024\n",
      "size < 5:  15186\n",
      "size < 10:  23272\n",
      "size < 100:  49370\n",
      "size < 1000:  60516\n",
      "size < 10000:  62468\n",
      "size:  62560\n"
     ]
    }
   ],
   "source": [
    "print(\"size == 1: \", data.size()[data.size() == 1].shape[0])\n",
    "print(\"size < 5: \", data.size()[data.size() < 5].shape[0])\n",
    "print(\"size < 10: \", data.size()[data.size() < 10].shape[0])\n",
    "print(\"size < 100: \", data.size()[data.size() < 100].shape[0])\n",
    "print(\"size < 1000: \", data.size()[data.size() < 1000].shape[0])\n",
    "print(\"size < 10000: \", data.size()[data.size() < 10000].shape[0])\n",
    "print(\"size: \", data.size().shape[0])"
   ]
  },
  {
   "cell_type": "code",
   "execution_count": 29,
   "metadata": {
    "execution": {
     "iopub.execute_input": "2021-09-16T19:17:01.035235Z",
     "iopub.status.busy": "2021-09-16T19:17:01.034933Z",
     "iopub.status.idle": "2021-09-16T19:17:01.095648Z",
     "shell.execute_reply": "2021-09-16T19:17:01.095360Z"
    }
   },
   "outputs": [
    {
     "data": {
      "text/html": [
       "<div>\n",
       "<style scoped>\n",
       "    .dataframe tbody tr th:only-of-type {\n",
       "        vertical-align: middle;\n",
       "    }\n",
       "\n",
       "    .dataframe tbody tr th {\n",
       "        vertical-align: top;\n",
       "    }\n",
       "\n",
       "    .dataframe thead th {\n",
       "        text-align: right;\n",
       "    }\n",
       "</style>\n",
       "<table border=\"1\" class=\"dataframe\">\n",
       "  <thead>\n",
       "    <tr style=\"text-align: right;\">\n",
       "      <th></th>\n",
       "      <th>distance</th>\n",
       "    </tr>\n",
       "  </thead>\n",
       "  <tbody>\n",
       "    <tr>\n",
       "      <th>count</th>\n",
       "      <td>62560.000000</td>\n",
       "    </tr>\n",
       "    <tr>\n",
       "      <th>mean</th>\n",
       "      <td>0.113549</td>\n",
       "    </tr>\n",
       "    <tr>\n",
       "      <th>std</th>\n",
       "      <td>0.022761</td>\n",
       "    </tr>\n",
       "    <tr>\n",
       "      <th>min</th>\n",
       "      <td>0.006864</td>\n",
       "    </tr>\n",
       "    <tr>\n",
       "      <th>25%</th>\n",
       "      <td>0.100695</td>\n",
       "    </tr>\n",
       "    <tr>\n",
       "      <th>50%</th>\n",
       "      <td>0.111052</td>\n",
       "    </tr>\n",
       "    <tr>\n",
       "      <th>75%</th>\n",
       "      <td>0.123832</td>\n",
       "    </tr>\n",
       "    <tr>\n",
       "      <th>max</th>\n",
       "      <td>0.225433</td>\n",
       "    </tr>\n",
       "  </tbody>\n",
       "</table>\n",
       "</div>"
      ],
      "text/plain": [
       "           distance\n",
       "count  62560.000000\n",
       "mean       0.113549\n",
       "std        0.022761\n",
       "min        0.006864\n",
       "25%        0.100695\n",
       "50%        0.111052\n",
       "75%        0.123832\n",
       "max        0.225433"
      ]
     },
     "execution_count": 29,
     "metadata": {},
     "output_type": "execute_result"
    }
   ],
   "source": [
    "data.mean().describe()"
   ]
  },
  {
   "cell_type": "code",
   "execution_count": 30,
   "metadata": {
    "execution": {
     "iopub.execute_input": "2021-09-16T19:17:01.097835Z",
     "iopub.status.busy": "2021-09-16T19:17:01.097533Z",
     "iopub.status.idle": "2021-09-16T19:17:01.172969Z",
     "shell.execute_reply": "2021-09-16T19:17:01.172699Z"
    }
   },
   "outputs": [
    {
     "data": {
      "text/html": [
       "<div>\n",
       "<style scoped>\n",
       "    .dataframe tbody tr th:only-of-type {\n",
       "        vertical-align: middle;\n",
       "    }\n",
       "\n",
       "    .dataframe tbody tr th {\n",
       "        vertical-align: top;\n",
       "    }\n",
       "\n",
       "    .dataframe thead th {\n",
       "        text-align: right;\n",
       "    }\n",
       "</style>\n",
       "<table border=\"1\" class=\"dataframe\">\n",
       "  <thead>\n",
       "    <tr style=\"text-align: right;\">\n",
       "      <th></th>\n",
       "      <th>distance</th>\n",
       "    </tr>\n",
       "  </thead>\n",
       "  <tbody>\n",
       "    <tr>\n",
       "      <th>count</th>\n",
       "      <td>58536.000000</td>\n",
       "    </tr>\n",
       "    <tr>\n",
       "      <th>mean</th>\n",
       "      <td>0.004115</td>\n",
       "    </tr>\n",
       "    <tr>\n",
       "      <th>std</th>\n",
       "      <td>0.002725</td>\n",
       "    </tr>\n",
       "    <tr>\n",
       "      <th>min</th>\n",
       "      <td>0.000001</td>\n",
       "    </tr>\n",
       "    <tr>\n",
       "      <th>25%</th>\n",
       "      <td>0.002362</td>\n",
       "    </tr>\n",
       "    <tr>\n",
       "      <th>50%</th>\n",
       "      <td>0.003489</td>\n",
       "    </tr>\n",
       "    <tr>\n",
       "      <th>75%</th>\n",
       "      <td>0.005145</td>\n",
       "    </tr>\n",
       "    <tr>\n",
       "      <th>max</th>\n",
       "      <td>0.037247</td>\n",
       "    </tr>\n",
       "  </tbody>\n",
       "</table>\n",
       "</div>"
      ],
      "text/plain": [
       "           distance\n",
       "count  58536.000000\n",
       "mean       0.004115\n",
       "std        0.002725\n",
       "min        0.000001\n",
       "25%        0.002362\n",
       "50%        0.003489\n",
       "75%        0.005145\n",
       "max        0.037247"
      ]
     },
     "execution_count": 30,
     "metadata": {},
     "output_type": "execute_result"
    }
   ],
   "source": [
    "data.std().describe()"
   ]
  },
  {
   "cell_type": "markdown",
   "metadata": {},
   "source": [
    "#### Most frequent kinase pairs (all conformations)"
   ]
  },
  {
   "cell_type": "code",
   "execution_count": 31,
   "metadata": {
    "execution": {
     "iopub.execute_input": "2021-09-16T19:17:01.175461Z",
     "iopub.status.busy": "2021-09-16T19:17:01.175164Z",
     "iopub.status.idle": "2021-09-16T19:17:01.217669Z",
     "shell.execute_reply": "2021-09-16T19:17:01.217250Z"
    }
   },
   "outputs": [],
   "source": [
    "data = structure_distances_filtered.groupby([\"kinase.1\", \"kinase.2\"])"
   ]
  },
  {
   "cell_type": "code",
   "execution_count": 32,
   "metadata": {
    "execution": {
     "iopub.execute_input": "2021-09-16T19:17:01.220674Z",
     "iopub.status.busy": "2021-09-16T19:17:01.220371Z",
     "iopub.status.idle": "2021-09-16T19:17:03.640860Z",
     "shell.execute_reply": "2021-09-16T19:17:03.640589Z"
    }
   },
   "outputs": [
    {
     "data": {
      "image/png": "[encoded data removed]",
      "text/plain": [
       "<Figure size 720x360 with 1 Axes>"
      ]
     },
     "metadata": {
      "needs_background": "light"
     },
     "output_type": "display_data"
    }
   ],
   "source": [
    "ntop = 30\n",
    "index = data.size().sort_values(ascending=False).head(ntop).index\n",
    "top_pair_distances = {pair: data.get_group(pair)[\"distance\"] for pair in index}\n",
    "top_pair_distances = pd.DataFrame(top_pair_distances)\n",
    "fig, axes = plt.subplots(1, 1, figsize=(10, 5))\n",
    "top_pair_distances.plot(kind=\"box\", ax=axes, rot=90)\n",
    "axes.set_title(\"Structure pair distances for most frequent kinase pairs\");"
   ]
  },
  {
   "cell_type": "code",
   "execution_count": 33,
   "metadata": {
    "execution": {
     "iopub.execute_input": "2021-09-16T19:17:03.643411Z",
     "iopub.status.busy": "2021-09-16T19:17:03.642938Z",
     "iopub.status.idle": "2021-09-16T19:17:06.385735Z",
     "shell.execute_reply": "2021-09-16T19:17:06.385988Z"
    }
   },
   "outputs": [
    {
     "name": "stderr",
     "output_type": "stream",
     "text": [
      "/tmp/ipykernel_30895/812266529.py:1: FutureWarning: Dropping invalid columns in DataFrameGroupBy.min is deprecated. In a future version, a TypeError will be raised. Before calling .min, select only columns which should be valid for the function.\n",
      "  data_min = data.min()\n"
     ]
    }
   ],
   "source": [
    "data_min = data.min()"
   ]
  },
  {
   "cell_type": "markdown",
   "metadata": {},
   "source": [
    "#### Most frequent kinase pairs (DFG-in conformations only)"
   ]
  },
  {
   "cell_type": "code",
   "execution_count": 34,
   "metadata": {
    "execution": {
     "iopub.execute_input": "2021-09-16T19:17:06.388807Z",
     "iopub.status.busy": "2021-09-16T19:17:06.388300Z",
     "iopub.status.idle": "2021-09-16T19:17:06.449060Z",
     "shell.execute_reply": "2021-09-16T19:17:06.448781Z"
    }
   },
   "outputs": [],
   "source": [
    "data = structure_distances_filtered_in_in.groupby([\"kinase.1\", \"kinase.2\"])"
   ]
  },
  {
   "cell_type": "code",
   "execution_count": 35,
   "metadata": {
    "execution": {
     "iopub.execute_input": "2021-09-16T19:17:06.451701Z",
     "iopub.status.busy": "2021-09-16T19:17:06.451242Z",
     "iopub.status.idle": "2021-09-16T19:17:07.400100Z",
     "shell.execute_reply": "2021-09-16T19:17:07.400359Z"
    }
   },
   "outputs": [
    {
     "data": {
      "text/plain": [
       "<AxesSubplot:>"
      ]
     },
     "execution_count": 35,
     "metadata": {},
     "output_type": "execute_result"
    },
    {
     "data": {
      "image/png": "[encoded data removed]",
      "text/plain": [
       "<Figure size 432x288 with 1 Axes>"
      ]
     },
     "metadata": {
      "needs_background": "light"
     },
     "output_type": "display_data"
    }
   ],
   "source": [
    "data[\"distance\"].std().plot(kind=\"box\")"
   ]
  },
  {
   "cell_type": "code",
   "execution_count": 36,
   "metadata": {
    "execution": {
     "iopub.execute_input": "2021-09-16T19:17:07.403294Z",
     "iopub.status.busy": "2021-09-16T19:17:07.402943Z",
     "iopub.status.idle": "2021-09-16T19:17:09.001935Z",
     "shell.execute_reply": "2021-09-16T19:17:09.002186Z"
    }
   },
   "outputs": [
    {
     "data": {
      "image/png": "[encoded data removed]",
      "text/plain": [
       "<Figure size 432x288 with 1 Axes>"
      ]
     },
     "metadata": {
      "needs_background": "light"
     },
     "output_type": "display_data"
    }
   ],
   "source": [
    "ntop = 30\n",
    "index = data.size().sort_values(ascending=False).head(ntop).index\n",
    "top_pair_distances = {pair: data.get_group(pair)[\"distance\"] for pair in index}\n",
    "top_pair_distances = pd.DataFrame(top_pair_distances)\n",
    "fig, axes = plt.subplots(1, 1)\n",
    "top_pair_distances.plot(kind=\"box\", ax=axes, rot=90)\n",
    "axes.set_title(\"Structure pair distances for most frequent kinase pairs\")\n",
    "fig.savefig(\n",
    "    HERE / f\"../../notebooks/figures/figX_structure_distances_per_kinase_pair_top{ntop}.pdf\",\n",
    "    bbox_inches=\"tight\",\n",
    ")"
   ]
  },
  {
   "cell_type": "markdown",
   "metadata": {},
   "source": [
    "## Kinase matrix"
   ]
  },
  {
   "cell_type": "markdown",
   "metadata": {},
   "source": [
    "### All distances"
   ]
  },
  {
   "cell_type": "code",
   "execution_count": 37,
   "metadata": {
    "execution": {
     "iopub.execute_input": "2021-09-16T19:17:09.005285Z",
     "iopub.status.busy": "2021-09-16T19:17:09.004901Z",
     "iopub.status.idle": "2021-09-16T19:17:09.124581Z",
     "shell.execute_reply": "2021-09-16T19:17:09.124261Z"
    }
   },
   "outputs": [
    {
     "ename": "NameError",
     "evalue": "name 'kinase_distances' is not defined",
     "output_type": "error",
     "traceback": [
      "\u001b[0;31m---------------------------------------------------------------------------\u001b[0m",
      "\u001b[0;31mNameError\u001b[0m                                 Traceback (most recent call last)",
      "\u001b[0;32m/tmp/ipykernel_30895/740744184.py\u001b[0m in \u001b[0;36m<module>\u001b[0;34m\u001b[0m\n\u001b[1;32m      1\u001b[0m \u001b[0mfig\u001b[0m\u001b[0;34m,\u001b[0m \u001b[0maxes\u001b[0m \u001b[0;34m=\u001b[0m \u001b[0mplt\u001b[0m\u001b[0;34m.\u001b[0m\u001b[0msubplots\u001b[0m\u001b[0;34m(\u001b[0m\u001b[0;36m1\u001b[0m\u001b[0;34m,\u001b[0m \u001b[0;36m2\u001b[0m\u001b[0;34m,\u001b[0m \u001b[0mfigsize\u001b[0m\u001b[0;34m=\u001b[0m\u001b[0;34m(\u001b[0m\u001b[0;36m10\u001b[0m\u001b[0;34m,\u001b[0m \u001b[0;36m4\u001b[0m\u001b[0;34m)\u001b[0m\u001b[0;34m,\u001b[0m \u001b[0msharey\u001b[0m\u001b[0;34m=\u001b[0m\u001b[0;32mTrue\u001b[0m\u001b[0;34m)\u001b[0m\u001b[0;34m\u001b[0m\u001b[0;34m\u001b[0m\u001b[0m\n\u001b[0;32m----> 2\u001b[0;31m \u001b[0mkinase_matrix\u001b[0m \u001b[0;34m=\u001b[0m \u001b[0mkinase_distances\u001b[0m\u001b[0;34m.\u001b[0m\u001b[0mpivot\u001b[0m\u001b[0;34m(\u001b[0m\u001b[0;34m\"kinase.1\"\u001b[0m\u001b[0;34m,\u001b[0m \u001b[0;34m\"kinase.2\"\u001b[0m\u001b[0;34m,\u001b[0m \u001b[0;34m\"distance\"\u001b[0m\u001b[0;34m)\u001b[0m\u001b[0;34m\u001b[0m\u001b[0;34m\u001b[0m\u001b[0m\n\u001b[0m\u001b[1;32m      3\u001b[0m \u001b[0msns\u001b[0m\u001b[0;34m.\u001b[0m\u001b[0mheatmap\u001b[0m\u001b[0;34m(\u001b[0m\u001b[0mkinase_matrix\u001b[0m\u001b[0;34m,\u001b[0m \u001b[0mcmap\u001b[0m\u001b[0;34m=\u001b[0m\u001b[0;34m\"Blues\"\u001b[0m\u001b[0;34m,\u001b[0m \u001b[0max\u001b[0m\u001b[0;34m=\u001b[0m\u001b[0maxes\u001b[0m\u001b[0;34m[\u001b[0m\u001b[0;36m0\u001b[0m\u001b[0;34m]\u001b[0m\u001b[0;34m)\u001b[0m\u001b[0;34m\u001b[0m\u001b[0;34m\u001b[0m\u001b[0m\n\u001b[1;32m      4\u001b[0m \u001b[0maxes\u001b[0m\u001b[0;34m[\u001b[0m\u001b[0;36m0\u001b[0m\u001b[0;34m]\u001b[0m\u001b[0;34m.\u001b[0m\u001b[0mset_title\u001b[0m\u001b[0;34m(\u001b[0m\u001b[0;34m\"All distances\"\u001b[0m\u001b[0;34m)\u001b[0m\u001b[0;34m\u001b[0m\u001b[0;34m\u001b[0m\u001b[0m\n\u001b[1;32m      5\u001b[0m \u001b[0mkinase_matrix\u001b[0m \u001b[0;34m=\u001b[0m \u001b[0mkinase_distances\u001b[0m\u001b[0;34m.\u001b[0m\u001b[0mpivot\u001b[0m\u001b[0;34m(\u001b[0m\u001b[0;34m\"kinase.1\"\u001b[0m\u001b[0;34m,\u001b[0m \u001b[0;34m\"kinase.2\"\u001b[0m\u001b[0;34m,\u001b[0m \u001b[0;34m\"distance_filtered\"\u001b[0m\u001b[0;34m)\u001b[0m\u001b[0;34m\u001b[0m\u001b[0;34m\u001b[0m\u001b[0m\n",
      "\u001b[0;31mNameError\u001b[0m: name 'kinase_distances' is not defined"
     ]
    },
    {
     "data": {
      "image/png": "[encoded data removed]",
      "text/plain": [
       "<Figure size 720x288 with 2 Axes>"
      ]
     },
     "metadata": {
      "needs_background": "light"
     },
     "output_type": "display_data"
    }
   ],
   "source": [
    "fig, axes = plt.subplots(1, 2, figsize=(10, 4), sharey=True)\n",
    "kinase_matrix = kinase_distances.pivot(\"kinase.1\", \"kinase.2\", \"distance\")\n",
    "sns.heatmap(kinase_matrix, cmap=\"Blues\", ax=axes[0])\n",
    "axes[0].set_title(\"All distances\")\n",
    "kinase_matrix = kinase_distances.pivot(\"kinase.1\", \"kinase.2\", \"distance_filtered\")\n",
    "sns.heatmap(kinase_matrix, cmap=\"Blues\", ax=axes[1])\n",
    "axes[1].set_title(\"Only distances for pairs matching coverage cutoff\");"
   ]
  },
  {
   "cell_type": "code",
   "execution_count": 38,
   "metadata": {
    "execution": {
     "iopub.execute_input": "2021-09-16T19:17:09.126938Z",
     "iopub.status.busy": "2021-09-16T19:17:09.126638Z",
     "iopub.status.idle": "2021-09-16T19:17:09.137153Z",
     "shell.execute_reply": "2021-09-16T19:17:09.137400Z"
    }
   },
   "outputs": [],
   "source": [
    "def n_pairs(n):\n",
    "    return int((n ** 2 - n) / 2 + n)"
   ]
  },
  {
   "cell_type": "code",
   "execution_count": 39,
   "metadata": {
    "execution": {
     "iopub.execute_input": "2021-09-16T19:17:09.141185Z",
     "iopub.status.busy": "2021-09-16T19:17:09.140872Z",
     "iopub.status.idle": "2021-09-16T19:17:11.316320Z",
     "shell.execute_reply": "2021-09-16T19:17:11.316001Z"
    }
   },
   "outputs": [
    {
     "ename": "NameError",
     "evalue": "name 'kinase_distances' is not defined",
     "output_type": "error",
     "traceback": [
      "\u001b[0;31m---------------------------------------------------------------------------\u001b[0m",
      "\u001b[0;31mNameError\u001b[0m                                 Traceback (most recent call last)",
      "\u001b[0;32m/tmp/ipykernel_30895/982683625.py\u001b[0m in \u001b[0;36m<module>\u001b[0;34m\u001b[0m\n\u001b[1;32m     28\u001b[0m         \u001b[0mn_kinases\u001b[0m\u001b[0;34m,\u001b[0m\u001b[0;34m\u001b[0m\u001b[0;34m\u001b[0m\u001b[0m\n\u001b[1;32m     29\u001b[0m         \u001b[0mn_pairs\u001b[0m\u001b[0;34m(\u001b[0m\u001b[0mn_kinases\u001b[0m\u001b[0;34m)\u001b[0m\u001b[0;34m,\u001b[0m\u001b[0;34m\u001b[0m\u001b[0;34m\u001b[0m\u001b[0m\n\u001b[0;32m---> 30\u001b[0;31m         \u001b[0mkinase_distances\u001b[0m\u001b[0;34m.\u001b[0m\u001b[0mshape\u001b[0m\u001b[0;34m[\u001b[0m\u001b[0;36m0\u001b[0m\u001b[0;34m]\u001b[0m\u001b[0;34m,\u001b[0m\u001b[0;34m\u001b[0m\u001b[0;34m\u001b[0m\u001b[0m\n\u001b[0m\u001b[1;32m     31\u001b[0m     ],\n\u001b[1;32m     32\u001b[0m     \"Only distances matching cutoff\": [\n",
      "\u001b[0;31mNameError\u001b[0m: name 'kinase_distances' is not defined"
     ]
    }
   ],
   "source": [
    "n_structures = (\n",
    "    pd.concat([structure_distances[\"structure.1\"], structure_distances[\"structure.2\"]])\n",
    "    .unique()\n",
    "    .shape[0]\n",
    ")\n",
    "n_kinases = (\n",
    "    pd.concat([structure_distances[\"kinase.1\"], structure_distances[\"kinase.2\"]]).unique().shape[0]\n",
    ")\n",
    "n_structures_filtered = (\n",
    "    pd.concat(\n",
    "        [structure_distances_filtered[\"structure.1\"], structure_distances_filtered[\"structure.2\"]]\n",
    "    )\n",
    "    .unique()\n",
    "    .shape[0]\n",
    ")\n",
    "n_kinases_filtered = (\n",
    "    pd.concat([structure_distances_filtered[\"kinase.1\"], structure_distances_filtered[\"kinase.2\"]])\n",
    "    .unique()\n",
    "    .shape[0]\n",
    ")\n",
    "\n",
    "\n",
    "table = {\n",
    "    \"All distances\": [\n",
    "        n_structures,\n",
    "        n_pairs(n_structures),\n",
    "        structure_distances.shape[0],\n",
    "        n_kinases,\n",
    "        n_pairs(n_kinases),\n",
    "        kinase_distances.shape[0],\n",
    "    ],\n",
    "    \"Only distances matching cutoff\": [\n",
    "        n_structures_filtered,\n",
    "        n_pairs(n_structures_filtered),\n",
    "        structure_distances_filtered.shape[0],\n",
    "        n_kinases_filtered,\n",
    "        n_pairs(n_kinases_filtered),\n",
    "        kinase_distances_filtered.shape[0],\n",
    "    ],\n",
    "}\n",
    "table = pd.DataFrame(\n",
    "    table,\n",
    "    index=[\n",
    "        \"Number of structures\",\n",
    "        \"Number of structure pairs (theory)\",\n",
    "        \"Number of structure pairs (experimental)\",\n",
    "        \"Number of kinases\",\n",
    "        \"Number of kinase pairs (theory)\",\n",
    "        \"Number of kinase pairs (experimental)\",\n",
    "    ],\n",
    ")\n",
    "table"
   ]
  },
  {
   "cell_type": "markdown",
   "metadata": {},
   "source": [
    "## Dual kinases paper dataset\n",
    "\n",
    "https://www.mdpi.com/1420-3049/26/3/629"
   ]
  },
  {
   "cell_type": "code",
   "execution_count": 40,
   "metadata": {
    "execution": {
     "iopub.execute_input": "2021-09-16T19:17:11.318566Z",
     "iopub.status.busy": "2021-09-16T19:17:11.318270Z",
     "iopub.status.idle": "2021-09-16T19:17:11.328652Z",
     "shell.execute_reply": "2021-09-16T19:17:11.328908Z"
    }
   },
   "outputs": [],
   "source": [
    "from itertools import combinations_with_replacement"
   ]
  },
  {
   "cell_type": "code",
   "execution_count": 41,
   "metadata": {
    "execution": {
     "iopub.execute_input": "2021-09-16T19:17:11.331405Z",
     "iopub.status.busy": "2021-09-16T19:17:11.331103Z",
     "iopub.status.idle": "2021-09-16T19:17:11.341319Z",
     "shell.execute_reply": "2021-09-16T19:17:11.341576Z"
    }
   },
   "outputs": [],
   "source": [
    "KINASES_KLIFS_TO_PAPER = {\n",
    "    \"EGFR\": \"EGFR\",\n",
    "    \"ErbB2\": \"ErbB2\",\n",
    "    \"KDR\": \"VEGFR2\",\n",
    "    \"p110a\": \"PI3K\",\n",
    "    \"BRAF\": \"BRAF\",\n",
    "    \"CDK2\": \"CDK2\",\n",
    "    \"LCK\": \"LCK\",\n",
    "    \"MET\": \"MET\",\n",
    "    \"p38a\": \"p38a\",\n",
    "}"
   ]
  },
  {
   "cell_type": "code",
   "execution_count": 42,
   "metadata": {
    "execution": {
     "iopub.execute_input": "2021-09-16T19:17:11.343883Z",
     "iopub.status.busy": "2021-09-16T19:17:11.343582Z",
     "iopub.status.idle": "2021-09-16T19:17:33.338315Z",
     "shell.execute_reply": "2021-09-16T19:17:33.337947Z"
    }
   },
   "outputs": [
    {
     "data": {
      "text/html": [
       "<div>\n",
       "<style scoped>\n",
       "    .dataframe tbody tr th:only-of-type {\n",
       "        vertical-align: middle;\n",
       "    }\n",
       "\n",
       "    .dataframe tbody tr th {\n",
       "        vertical-align: top;\n",
       "    }\n",
       "\n",
       "    .dataframe thead th {\n",
       "        text-align: right;\n",
       "    }\n",
       "</style>\n",
       "<table border=\"1\" class=\"dataframe\">\n",
       "  <thead>\n",
       "    <tr style=\"text-align: right;\">\n",
       "      <th>kinase.2</th>\n",
       "      <th>EGFR</th>\n",
       "      <th>ErbB2</th>\n",
       "      <th>VEGFR2</th>\n",
       "      <th>PI3K</th>\n",
       "      <th>BRAF</th>\n",
       "      <th>CDK2</th>\n",
       "      <th>LCK</th>\n",
       "      <th>MET</th>\n",
       "      <th>p38a</th>\n",
       "    </tr>\n",
       "    <tr>\n",
       "      <th>kinase.1</th>\n",
       "      <th></th>\n",
       "      <th></th>\n",
       "      <th></th>\n",
       "      <th></th>\n",
       "      <th></th>\n",
       "      <th></th>\n",
       "      <th></th>\n",
       "      <th></th>\n",
       "      <th></th>\n",
       "    </tr>\n",
       "  </thead>\n",
       "  <tbody>\n",
       "    <tr>\n",
       "      <th>EGFR</th>\n",
       "      <td>0.000000</td>\n",
       "      <td>0.039648</td>\n",
       "      <td>0.068053</td>\n",
       "      <td>0.142969</td>\n",
       "      <td>0.092932</td>\n",
       "      <td>0.080826</td>\n",
       "      <td>0.075684</td>\n",
       "      <td>0.076089</td>\n",
       "      <td>0.091348</td>\n",
       "    </tr>\n",
       "    <tr>\n",
       "      <th>ErbB2</th>\n",
       "      <td>0.039648</td>\n",
       "      <td>0.000000</td>\n",
       "      <td>0.083884</td>\n",
       "      <td>0.161669</td>\n",
       "      <td>0.098179</td>\n",
       "      <td>0.088320</td>\n",
       "      <td>0.098872</td>\n",
       "      <td>0.086752</td>\n",
       "      <td>0.099634</td>\n",
       "    </tr>\n",
       "    <tr>\n",
       "      <th>KDR</th>\n",
       "      <td>0.068053</td>\n",
       "      <td>0.083884</td>\n",
       "      <td>0.000000</td>\n",
       "      <td>0.150364</td>\n",
       "      <td>0.085402</td>\n",
       "      <td>0.083035</td>\n",
       "      <td>0.078523</td>\n",
       "      <td>0.062961</td>\n",
       "      <td>0.083357</td>\n",
       "    </tr>\n",
       "    <tr>\n",
       "      <th>p110a</th>\n",
       "      <td>0.142969</td>\n",
       "      <td>0.161669</td>\n",
       "      <td>0.150364</td>\n",
       "      <td>0.000000</td>\n",
       "      <td>0.130396</td>\n",
       "      <td>0.143338</td>\n",
       "      <td>0.144332</td>\n",
       "      <td>0.152306</td>\n",
       "      <td>0.141210</td>\n",
       "    </tr>\n",
       "    <tr>\n",
       "      <th>BRAF</th>\n",
       "      <td>0.092932</td>\n",
       "      <td>0.098179</td>\n",
       "      <td>0.085402</td>\n",
       "      <td>0.130396</td>\n",
       "      <td>0.000000</td>\n",
       "      <td>0.078493</td>\n",
       "      <td>0.088816</td>\n",
       "      <td>0.091530</td>\n",
       "      <td>0.097344</td>\n",
       "    </tr>\n",
       "    <tr>\n",
       "      <th>CDK2</th>\n",
       "      <td>0.080826</td>\n",
       "      <td>0.088320</td>\n",
       "      <td>0.083035</td>\n",
       "      <td>0.143338</td>\n",
       "      <td>0.078493</td>\n",
       "      <td>0.000000</td>\n",
       "      <td>0.077310</td>\n",
       "      <td>0.077652</td>\n",
       "      <td>0.075778</td>\n",
       "    </tr>\n",
       "    <tr>\n",
       "      <th>LCK</th>\n",
       "      <td>0.075684</td>\n",
       "      <td>0.098872</td>\n",
       "      <td>0.078523</td>\n",
       "      <td>0.144332</td>\n",
       "      <td>0.088816</td>\n",
       "      <td>0.077310</td>\n",
       "      <td>0.000000</td>\n",
       "      <td>0.081988</td>\n",
       "      <td>0.093458</td>\n",
       "    </tr>\n",
       "    <tr>\n",
       "      <th>MET</th>\n",
       "      <td>0.076089</td>\n",
       "      <td>0.086752</td>\n",
       "      <td>0.062961</td>\n",
       "      <td>0.152306</td>\n",
       "      <td>0.091530</td>\n",
       "      <td>0.077652</td>\n",
       "      <td>0.081988</td>\n",
       "      <td>0.000000</td>\n",
       "      <td>0.099564</td>\n",
       "    </tr>\n",
       "    <tr>\n",
       "      <th>p38a</th>\n",
       "      <td>0.091348</td>\n",
       "      <td>0.099634</td>\n",
       "      <td>0.083357</td>\n",
       "      <td>0.141210</td>\n",
       "      <td>0.097344</td>\n",
       "      <td>0.075778</td>\n",
       "      <td>0.093458</td>\n",
       "      <td>0.099564</td>\n",
       "      <td>0.000000</td>\n",
       "    </tr>\n",
       "  </tbody>\n",
       "</table>\n",
       "</div>"
      ],
      "text/plain": [
       "kinase.2      EGFR     ErbB2    VEGFR2      PI3K      BRAF      CDK2  \\\n",
       "kinase.1                                                               \n",
       "EGFR      0.000000  0.039648  0.068053  0.142969  0.092932  0.080826   \n",
       "ErbB2     0.039648  0.000000  0.083884  0.161669  0.098179  0.088320   \n",
       "KDR       0.068053  0.083884  0.000000  0.150364  0.085402  0.083035   \n",
       "p110a     0.142969  0.161669  0.150364  0.000000  0.130396  0.143338   \n",
       "BRAF      0.092932  0.098179  0.085402  0.130396  0.000000  0.078493   \n",
       "CDK2      0.080826  0.088320  0.083035  0.143338  0.078493  0.000000   \n",
       "LCK       0.075684  0.098872  0.078523  0.144332  0.088816  0.077310   \n",
       "MET       0.076089  0.086752  0.062961  0.152306  0.091530  0.077652   \n",
       "p38a      0.091348  0.099634  0.083357  0.141210  0.097344  0.075778   \n",
       "\n",
       "kinase.2       LCK       MET      p38a  \n",
       "kinase.1                                \n",
       "EGFR      0.075684  0.076089  0.091348  \n",
       "ErbB2     0.098872  0.086752  0.099634  \n",
       "KDR       0.078523  0.062961  0.083357  \n",
       "p110a     0.144332  0.152306  0.141210  \n",
       "BRAF      0.088816  0.091530  0.097344  \n",
       "CDK2      0.077310  0.077652  0.075778  \n",
       "LCK       0.000000  0.081988  0.093458  \n",
       "MET       0.081988  0.000000  0.099564  \n",
       "p38a      0.093458  0.099564  0.000000  "
      ]
     },
     "execution_count": 42,
     "metadata": {},
     "output_type": "execute_result"
    }
   ],
   "source": [
    "# All kinases\n",
    "kinase_matrix = fingerprint_distance_generator.kinase_distance_matrix(coverage_min=COVERAGE_CUTOFF)\n",
    "# Select kinases from paper\n",
    "example_kinase_matrix = kinase_matrix.loc[KINASES_KLIFS_TO_PAPER.keys(), KINASES_KLIFS_TO_PAPER.keys()]\n",
    "# Rename kinases to paper kinase names\n",
    "example_kinase_matrix = example_kinase_matrix.rename(columns=KINASES_KLIFS_TO_PAPER)\n",
    "example_kinase_matrix"
   ]
  },
  {
   "cell_type": "code",
   "execution_count": 43,
   "metadata": {
    "execution": {
     "iopub.execute_input": "2021-09-16T19:17:33.340808Z",
     "iopub.status.busy": "2021-09-16T19:17:33.340496Z",
     "iopub.status.idle": "2021-09-16T19:17:33.629279Z",
     "shell.execute_reply": "2021-09-16T19:17:33.628969Z"
    }
   },
   "outputs": [
    {
     "data": {
      "image/png": "[encoded data removed]",
      "text/plain": [
       "<Figure size 432x288 with 2 Axes>"
      ]
     },
     "metadata": {
      "needs_background": "light"
     },
     "output_type": "display_data"
    }
   ],
   "source": [
    "# Use similarities instead of distances\n",
    "sns.heatmap(\n",
    "    1 - example_kinase_matrix,\n",
    "    linewidths=0,\n",
    "    annot=True,\n",
    "    square=True,\n",
    "    cbar_kws={\"label\": \"KiSSim kinase similarities\"},\n",
    "    cmap=\"viridis\",\n",
    ")\n",
    "plt.show()"
   ]
  },
  {
   "cell_type": "markdown",
   "metadata": {},
   "source": [
    "Compare to paper (shows similarities; not distances; __so think values inverse__):\n",
    "\n",
    "![](https://www.mdpi.com/molecules/molecules-26-00629/article_deploy/html/images/molecules-26-00629-g002.png)\n",
    "\n",
    "Figure 2. Heat maps of pairwise kinase similarities for the different measures used in this work: (A) ligand profile similarity (LigProfSim); (B) pocket sequence similarity (PocSeqSim); (C) interaction fingerprint similarity (IFPSim); (D) pocket structure similarity (PocStrucSim); and (E) docking rank similarity (DockRankSim) based on the lead-like subset of ZINC. Note that docking was only performed for the five kinases of Profiles 1–4, thus the remaining entries remain empty (white) in the matrix."
   ]
  },
  {
   "cell_type": "code",
   "execution_count": null,
   "metadata": {},
   "outputs": [],
   "source": []
  }
 ],
 "metadata": {
  "kernelspec": {
   "display_name": "Python 3 (ipykernel)",
   "language": "python",
   "name": "python3"
  },
  "language_info": {
   "codemirror_mode": {
    "name": "ipython",
    "version": 3
   },
   "file_extension": ".py",
   "mimetype": "text/x-python",
   "name": "python",
   "nbconvert_exporter": "python",
   "pygments_lexer": "ipython3",
   "version": "3.9.7"
  },
  "widgets": {
   "application/vnd.jupyter.widget-state+json": {
    "state": {
     "2cc25e4caafa4bffbc27a7bd8f3e9cc5": {
      "model_module": "nglview-js-widgets",
      "model_module_version": "3.0.1",
      "model_name": "ColormakerRegistryModel",
      "state": {
       "_dom_classes": [],
       "_model_module": "nglview-js-widgets",
       "_model_module_version": "3.0.1",
       "_model_name": "ColormakerRegistryModel",
       "_msg_ar": [],
       "_msg_q": [],
       "_ready": false,
       "_view_count": null,
       "_view_module": "nglview-js-widgets",
       "_view_module_version": "3.0.1",
       "_view_name": "ColormakerRegistryView",
       "layout": "IPY_MODEL_608f2588f4c54312ae5df2baca445dec"
      }
     },
     "608f2588f4c54312ae5df2baca445dec": {
      "model_module": "@jupyter-widgets/base",
      "model_module_version": "1.2.0",
      "model_name": "LayoutModel",
      "state": {
       "_model_module": "@jupyter-widgets/base",
       "_model_module_version": "1.2.0",
       "_model_name": "LayoutModel",
       "_view_count": null,
       "_view_module": "@jupyter-widgets/base",
       "_view_module_version": "1.2.0",
       "_view_name": "LayoutView",
       "align_content": null,
       "align_items": null,
       "align_self": null,
       "border": null,
       "bottom": null,
       "display": null,
       "flex": null,
       "flex_flow": null,
       "grid_area": null,
       "grid_auto_columns": null,
       "grid_auto_flow": null,
       "grid_auto_rows": null,
       "grid_column": null,
       "grid_gap": null,
       "grid_row": null,
       "grid_template_areas": null,
       "grid_template_columns": null,
       "grid_template_rows": null,
       "height": null,
       "justify_content": null,
       "justify_items": null,
       "left": null,
       "margin": null,
       "max_height": null,
       "max_width": null,
       "min_height": null,
       "min_width": null,
       "object_fit": null,
       "object_position": null,
       "order": null,
       "overflow": null,
       "overflow_x": null,
       "overflow_y": null,
       "padding": null,
       "right": null,
       "top": null,
       "visibility": null,
       "width": null
      }
     }
    },
    "version_major": 2,
    "version_minor": 0
   }
  }
 },
 "nbformat": 4,
 "nbformat_minor": 4
}
