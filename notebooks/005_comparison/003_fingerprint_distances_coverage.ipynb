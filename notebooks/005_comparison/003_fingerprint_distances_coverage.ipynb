{
 "cells": [
  {
   "cell_type": "markdown",
   "metadata": {},
   "source": [
    "# Fingerprint pair bit coverages\n",
    "\n",
    "We investigate the bit coverage of the fingerprint pairs in the `kissim` dataset.\n",
    "\n",
    "List the following numbers based on (a) all distances and (b) only distances matching a given bit coverage cutoff\n",
    "- Number of structures\n",
    "- Number of structure pairs (theory)\n",
    "- Number of structure pairs (experimental)\n",
    "- Number of kinases\n",
    "- Number of kinase pairs (theory)\n",
    "- Number of kinase pairs (experimental)"
   ]
  },
  {
   "cell_type": "code",
   "execution_count": 1,
   "metadata": {},
   "outputs": [],
   "source": [
    "%load_ext autoreload\n",
    "%autoreload 2"
   ]
  },
  {
   "cell_type": "code",
   "execution_count": 2,
   "metadata": {},
   "outputs": [
    {
     "data": {
      "application/vnd.jupyter.widget-view+json": {
       "model_id": "73b626b842b9423ca31039c1cc2b022b",
       "version_major": 2,
       "version_minor": 0
      },
      "text/plain": []
     },
     "metadata": {},
     "output_type": "display_data"
    }
   ],
   "source": [
    "from pathlib import Path\n",
    "\n",
    "import numpy as np\n",
    "import pandas as pd\n",
    "import matplotlib.pyplot as plt\n",
    "\n",
    "from kissim.comparison import FingerprintDistanceGenerator\n",
    "from kissim.encoding import FingerprintGenerator"
   ]
  },
  {
   "cell_type": "code",
   "execution_count": 3,
   "metadata": {},
   "outputs": [],
   "source": [
    "HERE = Path(_dh[-1])  # noqa: F821\n",
    "RESULTS = HERE / \"../../results/dfg_in\""
   ]
  },
  {
   "cell_type": "code",
   "execution_count": 4,
   "metadata": {},
   "outputs": [],
   "source": [
    "plt.style.use(\"seaborn\")"
   ]
  },
  {
   "cell_type": "code",
   "execution_count": 5,
   "metadata": {},
   "outputs": [],
   "source": [
    "%matplotlib inline"
   ]
  },
  {
   "cell_type": "code",
   "execution_count": 6,
   "metadata": {},
   "outputs": [],
   "source": [
    "COVERAGE_CUTOFF = 0.75"
   ]
  },
  {
   "cell_type": "markdown",
   "metadata": {},
   "source": [
    "## Load fingerprints"
   ]
  },
  {
   "cell_type": "code",
   "execution_count": 7,
   "metadata": {},
   "outputs": [],
   "source": [
    "fingerprints = FingerprintGenerator.from_json(RESULTS / \"fingerprints_clean.json\")"
   ]
  },
  {
   "cell_type": "code",
   "execution_count": 8,
   "metadata": {},
   "outputs": [],
   "source": [
    "fingerprint_bits = [\n",
    "    fingerprint.values_array(True, True, True) for _, fingerprint in fingerprints.data.items()\n",
    "]\n",
    "fingerprint_bits = pd.DataFrame(fingerprint_bits)"
   ]
  },
  {
   "cell_type": "code",
   "execution_count": 9,
   "metadata": {},
   "outputs": [
    {
     "data": {
      "text/plain": [
       "(4055, 1032)"
      ]
     },
     "execution_count": 9,
     "metadata": {},
     "output_type": "execute_result"
    }
   ],
   "source": [
    "fingerprint_bits.shape"
   ]
  },
  {
   "cell_type": "markdown",
   "metadata": {},
   "source": [
    "### Fingerprint bit coverage"
   ]
  },
  {
   "cell_type": "code",
   "execution_count": 10,
   "metadata": {},
   "outputs": [],
   "source": [
    "fingerprint_coverage = 100 - fingerprint_bits.isna().sum(axis=1) / fingerprint_bits.shape[0] * 100\n",
    "fingerprint_coverage = fingerprint_coverage.sort_values(ascending=False)\n",
    "fingerprint_coverage.name = \"Fingerprint coverage\""
   ]
  },
  {
   "cell_type": "code",
   "execution_count": 11,
   "metadata": {},
   "outputs": [
    {
     "data": {
      "text/plain": [
       "<AxesSubplot:>"
      ]
     },
     "execution_count": 11,
     "metadata": {},
     "output_type": "execute_result"
    },
    {
     "data": {
      "image/png": "[encoded data removed]",
      "text/plain": [
       "<Figure size 432x288 with 1 Axes>"
      ]
     },
     "metadata": {
      "needs_background": "light"
     },
     "output_type": "display_data"
    }
   ],
   "source": [
    "fingerprint_coverage.plot(kind=\"box\")"
   ]
  },
  {
   "cell_type": "code",
   "execution_count": 12,
   "metadata": {},
   "outputs": [
    {
     "data": {
      "text/plain": [
       "count    4055.000000\n",
       "mean       99.504890\n",
       "std         0.455379\n",
       "min        95.758323\n",
       "25%        99.408138\n",
       "50%        99.605425\n",
       "75%        99.802713\n",
       "max        99.901356\n",
       "Name: Fingerprint coverage, dtype: float64"
      ]
     },
     "execution_count": 12,
     "metadata": {},
     "output_type": "execute_result"
    }
   ],
   "source": [
    "fingerprint_coverage.describe()"
   ]
  },
  {
   "cell_type": "markdown",
   "metadata": {},
   "source": [
    "## Load fingerprint distances"
   ]
  },
  {
   "cell_type": "code",
   "execution_count": 13,
   "metadata": {},
   "outputs": [],
   "source": [
    "fingerprint_distance_file = RESULTS / \"fingerprint_distances.csv\""
   ]
  },
  {
   "cell_type": "code",
   "execution_count": 14,
   "metadata": {},
   "outputs": [],
   "source": [
    "fingerprint_distance_generator = FingerprintDistanceGenerator.from_csv(fingerprint_distance_file)"
   ]
  },
  {
   "cell_type": "code",
   "execution_count": 15,
   "metadata": {},
   "outputs": [
    {
     "name": "stdout",
     "output_type": "stream",
     "text": [
      "Number of kinases: 257\n",
      "Number of structures: 4055\n"
     ]
    }
   ],
   "source": [
    "print(f\"Number of kinases: {len(fingerprint_distance_generator.kinase_ids)}\")\n",
    "print(f\"Number of structures: {len(fingerprint_distance_generator.structure_ids)}\")"
   ]
  },
  {
   "cell_type": "code",
   "execution_count": 16,
   "metadata": {},
   "outputs": [],
   "source": [
    "structure_distances = fingerprint_distance_generator.data"
   ]
  },
  {
   "cell_type": "markdown",
   "metadata": {},
   "source": [
    "### Sort fingerprint/kinase pairs (alphabetically)"
   ]
  },
  {
   "cell_type": "code",
   "execution_count": 17,
   "metadata": {},
   "outputs": [
    {
     "name": "stdout",
     "output_type": "stream",
     "text": [
      "CPU times: user 1min 47s, sys: 1.9 s, total: 1min 49s\n",
      "Wall time: 1min 49s\n"
     ]
    },
    {
     "data": {
      "text/html": [
       "<div>\n",
       "<style scoped>\n",
       "    .dataframe tbody tr th:only-of-type {\n",
       "        vertical-align: middle;\n",
       "    }\n",
       "\n",
       "    .dataframe tbody tr th {\n",
       "        vertical-align: top;\n",
       "    }\n",
       "\n",
       "    .dataframe thead th {\n",
       "        text-align: right;\n",
       "    }\n",
       "</style>\n",
       "<table border=\"1\" class=\"dataframe\">\n",
       "  <thead>\n",
       "    <tr style=\"text-align: right;\">\n",
       "      <th></th>\n",
       "      <th>structure.1</th>\n",
       "      <th>structure.2</th>\n",
       "      <th>kinase.1</th>\n",
       "      <th>kinase.2</th>\n",
       "      <th>distance</th>\n",
       "      <th>bit_coverage</th>\n",
       "    </tr>\n",
       "  </thead>\n",
       "  <tbody>\n",
       "    <tr>\n",
       "      <th>0</th>\n",
       "      <td>2</td>\n",
       "      <td>7</td>\n",
       "      <td>EphA7</td>\n",
       "      <td>ITK</td>\n",
       "      <td>0.066628</td>\n",
       "      <td>0.984000</td>\n",
       "    </tr>\n",
       "    <tr>\n",
       "      <th>1</th>\n",
       "      <td>2</td>\n",
       "      <td>8</td>\n",
       "      <td>EphA7</td>\n",
       "      <td>ITK</td>\n",
       "      <td>0.065828</td>\n",
       "      <td>0.954000</td>\n",
       "    </tr>\n",
       "    <tr>\n",
       "      <th>2</th>\n",
       "      <td>2</td>\n",
       "      <td>9</td>\n",
       "      <td>EphA7</td>\n",
       "      <td>ITK</td>\n",
       "      <td>0.097455</td>\n",
       "      <td>0.985333</td>\n",
       "    </tr>\n",
       "    <tr>\n",
       "      <th>3</th>\n",
       "      <td>2</td>\n",
       "      <td>11</td>\n",
       "      <td>EphA7</td>\n",
       "      <td>ITK</td>\n",
       "      <td>0.077680</td>\n",
       "      <td>0.977333</td>\n",
       "    </tr>\n",
       "    <tr>\n",
       "      <th>4</th>\n",
       "      <td>2</td>\n",
       "      <td>12</td>\n",
       "      <td>EphA7</td>\n",
       "      <td>ITK</td>\n",
       "      <td>0.067287</td>\n",
       "      <td>0.962000</td>\n",
       "    </tr>\n",
       "  </tbody>\n",
       "</table>\n",
       "</div>"
      ],
      "text/plain": [
       "   structure.1  structure.2 kinase.1 kinase.2  distance  bit_coverage\n",
       "0            2            7    EphA7      ITK  0.066628      0.984000\n",
       "1            2            8    EphA7      ITK  0.065828      0.954000\n",
       "2            2            9    EphA7      ITK  0.097455      0.985333\n",
       "3            2           11    EphA7      ITK  0.077680      0.977333\n",
       "4            2           12    EphA7      ITK  0.067287      0.962000"
      ]
     },
     "execution_count": 17,
     "metadata": {},
     "output_type": "execute_result"
    }
   ],
   "source": [
    "%%time\n",
    "\n",
    "structure_distances[\"structure_pair\"] = (\n",
    "    structure_distances[[\"structure.1\", \"structure.2\"]].apply(list, axis=1).apply(sorted)\n",
    ")\n",
    "structure_distances[\"kinase_pair\"] = (\n",
    "    structure_distances[[\"kinase.1\", \"kinase.2\"]].apply(list, axis=1).apply(sorted)\n",
    ")\n",
    "\n",
    "structure_distances[\"structure.1\"] = [i[0] for i in structure_distances[\"structure_pair\"]]\n",
    "structure_distances[\"structure.2\"] = [i[1] for i in structure_distances[\"structure_pair\"]]\n",
    "structure_distances[\"kinase.1\"] = [i[0] for i in structure_distances[\"kinase_pair\"]]\n",
    "structure_distances[\"kinase.2\"] = [i[1] for i in structure_distances[\"kinase_pair\"]]\n",
    "structure_distances = structure_distances.drop([\"structure_pair\", \"kinase_pair\"], axis=1)\n",
    "structure_distances.head()"
   ]
  },
  {
   "cell_type": "markdown",
   "metadata": {},
   "source": [
    "## Fingerprint pair coverage"
   ]
  },
  {
   "cell_type": "markdown",
   "metadata": {},
   "source": [
    "### Coverage between fingerprint pairs"
   ]
  },
  {
   "cell_type": "code",
   "execution_count": 18,
   "metadata": {},
   "outputs": [],
   "source": [
    "COVERAGE_CUTOFF = 0.8"
   ]
  },
  {
   "cell_type": "code",
   "execution_count": 19,
   "metadata": {},
   "outputs": [
    {
     "data": {
      "text/plain": [
       "[<matplotlib.lines.Line2D at 0x7f31dd82acd0>]"
      ]
     },
     "execution_count": 19,
     "metadata": {},
     "output_type": "execute_result"
    },
    {
     "data": {
      "image/png": "[encoded data removed]",
      "text/plain": [
       "<Figure size 432x288 with 1 Axes>"
      ]
     },
     "metadata": {
      "needs_background": "light"
     },
     "output_type": "display_data"
    }
   ],
   "source": [
    "fig, ax = plt.subplots(1, 1)\n",
    "structure_distances[\"bit_coverage\"].plot(\n",
    "    kind=\"hist\",\n",
    "    title=f\"All coverages (# {structure_distances.shape[0]})\",\n",
    "    bins=np.arange(0, 1.05, 0.01),\n",
    "    xlim=(0, 1),\n",
    "    logy=True,\n",
    ")\n",
    "ax.plot([COVERAGE_CUTOFF, COVERAGE_CUTOFF], [0, 1000000], color=\"cyan\")"
   ]
  },
  {
   "cell_type": "markdown",
   "metadata": {},
   "source": [
    "We might want to filter out some fingerprint pairs because the coverage is super low."
   ]
  },
  {
   "cell_type": "code",
   "execution_count": 20,
   "metadata": {},
   "outputs": [
    {
     "data": {
      "text/plain": [
       "count    8.219485e+06\n",
       "mean     9.726928e-01\n",
       "std      2.373198e-02\n",
       "min      7.466667e-01\n",
       "25%      9.613333e-01\n",
       "50%      9.826667e-01\n",
       "75%      9.873333e-01\n",
       "max      9.966667e-01\n",
       "Name: bit_coverage, dtype: float64"
      ]
     },
     "execution_count": 20,
     "metadata": {},
     "output_type": "execute_result"
    }
   ],
   "source": [
    "structure_distances[\"bit_coverage\"].describe()"
   ]
  },
  {
   "cell_type": "markdown",
   "metadata": {},
   "source": [
    "### Filter distances by coverage cutoff"
   ]
  },
  {
   "cell_type": "code",
   "execution_count": 21,
   "metadata": {},
   "outputs": [
    {
     "data": {
      "text/html": [
       "<div>\n",
       "<style scoped>\n",
       "    .dataframe tbody tr th:only-of-type {\n",
       "        vertical-align: middle;\n",
       "    }\n",
       "\n",
       "    .dataframe tbody tr th {\n",
       "        vertical-align: top;\n",
       "    }\n",
       "\n",
       "    .dataframe thead th {\n",
       "        text-align: right;\n",
       "    }\n",
       "</style>\n",
       "<table border=\"1\" class=\"dataframe\">\n",
       "  <thead>\n",
       "    <tr style=\"text-align: right;\">\n",
       "      <th></th>\n",
       "      <th>structure.1</th>\n",
       "      <th>structure.2</th>\n",
       "      <th>kinase.1</th>\n",
       "      <th>kinase.2</th>\n",
       "      <th>distance</th>\n",
       "      <th>bit_coverage</th>\n",
       "      <th>distance_filtered</th>\n",
       "    </tr>\n",
       "  </thead>\n",
       "  <tbody>\n",
       "    <tr>\n",
       "      <th>0</th>\n",
       "      <td>2</td>\n",
       "      <td>7</td>\n",
       "      <td>EphA7</td>\n",
       "      <td>ITK</td>\n",
       "      <td>0.066628</td>\n",
       "      <td>0.984000</td>\n",
       "      <td>0.066628</td>\n",
       "    </tr>\n",
       "    <tr>\n",
       "      <th>1</th>\n",
       "      <td>2</td>\n",
       "      <td>8</td>\n",
       "      <td>EphA7</td>\n",
       "      <td>ITK</td>\n",
       "      <td>0.065828</td>\n",
       "      <td>0.954000</td>\n",
       "      <td>0.065828</td>\n",
       "    </tr>\n",
       "    <tr>\n",
       "      <th>2</th>\n",
       "      <td>2</td>\n",
       "      <td>9</td>\n",
       "      <td>EphA7</td>\n",
       "      <td>ITK</td>\n",
       "      <td>0.097455</td>\n",
       "      <td>0.985333</td>\n",
       "      <td>0.097455</td>\n",
       "    </tr>\n",
       "    <tr>\n",
       "      <th>3</th>\n",
       "      <td>2</td>\n",
       "      <td>11</td>\n",
       "      <td>EphA7</td>\n",
       "      <td>ITK</td>\n",
       "      <td>0.077680</td>\n",
       "      <td>0.977333</td>\n",
       "      <td>0.077680</td>\n",
       "    </tr>\n",
       "    <tr>\n",
       "      <th>4</th>\n",
       "      <td>2</td>\n",
       "      <td>12</td>\n",
       "      <td>EphA7</td>\n",
       "      <td>ITK</td>\n",
       "      <td>0.067287</td>\n",
       "      <td>0.962000</td>\n",
       "      <td>0.067287</td>\n",
       "    </tr>\n",
       "  </tbody>\n",
       "</table>\n",
       "</div>"
      ],
      "text/plain": [
       "   structure.1  structure.2 kinase.1 kinase.2  distance  bit_coverage  \\\n",
       "0            2            7    EphA7      ITK  0.066628      0.984000   \n",
       "1            2            8    EphA7      ITK  0.065828      0.954000   \n",
       "2            2            9    EphA7      ITK  0.097455      0.985333   \n",
       "3            2           11    EphA7      ITK  0.077680      0.977333   \n",
       "4            2           12    EphA7      ITK  0.067287      0.962000   \n",
       "\n",
       "   distance_filtered  \n",
       "0           0.066628  \n",
       "1           0.065828  \n",
       "2           0.097455  \n",
       "3           0.077680  \n",
       "4           0.067287  "
      ]
     },
     "execution_count": 21,
     "metadata": {},
     "output_type": "execute_result"
    }
   ],
   "source": [
    "structure_distances[\"distance_filtered\"] = np.where(\n",
    "    structure_distances[\"bit_coverage\"].values < COVERAGE_CUTOFF,\n",
    "    np.nan,\n",
    "    structure_distances[\"distance\"].values,\n",
    ")\n",
    "structure_distances.head()"
   ]
  },
  {
   "cell_type": "code",
   "execution_count": 22,
   "metadata": {},
   "outputs": [],
   "source": [
    "structure_distances_filtered = structure_distances[\n",
    "    structure_distances[\"distance_filtered\"].notna()\n",
    "]"
   ]
  },
  {
   "cell_type": "code",
   "execution_count": 23,
   "metadata": {},
   "outputs": [
    {
     "name": "stdout",
     "output_type": "stream",
     "text": [
      "Structure pairs: 8219485\n",
      "Structure pairs not-NaN: 8217114\n"
     ]
    }
   ],
   "source": [
    "print(f\"Structure pairs: {structure_distances.shape[0]}\")\n",
    "print(f\"Structure pairs not-NaN: {structure_distances_filtered.shape[0]}\")"
   ]
  },
  {
   "cell_type": "markdown",
   "metadata": {},
   "source": [
    "### Number of kinases/structures (pairs)"
   ]
  },
  {
   "cell_type": "code",
   "execution_count": 24,
   "metadata": {},
   "outputs": [],
   "source": [
    "def n_pairs(n):\n",
    "    return int((n ** 2 - n) / 2 + n)"
   ]
  },
  {
   "cell_type": "code",
   "execution_count": 25,
   "metadata": {},
   "outputs": [
    {
     "data": {
      "text/html": [
       "<div>\n",
       "<style scoped>\n",
       "    .dataframe tbody tr th:only-of-type {\n",
       "        vertical-align: middle;\n",
       "    }\n",
       "\n",
       "    .dataframe tbody tr th {\n",
       "        vertical-align: top;\n",
       "    }\n",
       "\n",
       "    .dataframe thead th {\n",
       "        text-align: right;\n",
       "    }\n",
       "</style>\n",
       "<table border=\"1\" class=\"dataframe\">\n",
       "  <thead>\n",
       "    <tr style=\"text-align: right;\">\n",
       "      <th></th>\n",
       "      <th>All distances</th>\n",
       "      <th>Only distances matching cutoff</th>\n",
       "    </tr>\n",
       "  </thead>\n",
       "  <tbody>\n",
       "    <tr>\n",
       "      <th>Number of structures</th>\n",
       "      <td>4055</td>\n",
       "      <td>4055</td>\n",
       "    </tr>\n",
       "    <tr>\n",
       "      <th>Number of structure pairs (theory)</th>\n",
       "      <td>8223540</td>\n",
       "      <td>8223540</td>\n",
       "    </tr>\n",
       "    <tr>\n",
       "      <th>Number of structure pairs (experimental)</th>\n",
       "      <td>8219485</td>\n",
       "      <td>8217114</td>\n",
       "    </tr>\n",
       "    <tr>\n",
       "      <th>Number of kinases</th>\n",
       "      <td>257</td>\n",
       "      <td>257</td>\n",
       "    </tr>\n",
       "    <tr>\n",
       "      <th>Number of kinase pairs (theory)</th>\n",
       "      <td>33153</td>\n",
       "      <td>33153</td>\n",
       "    </tr>\n",
       "    <tr>\n",
       "      <th>Number of kinase pairs (experimental)</th>\n",
       "      <td>33087</td>\n",
       "      <td>33068</td>\n",
       "    </tr>\n",
       "  </tbody>\n",
       "</table>\n",
       "</div>"
      ],
      "text/plain": [
       "                                          All distances  \\\n",
       "Number of structures                               4055   \n",
       "Number of structure pairs (theory)              8223540   \n",
       "Number of structure pairs (experimental)        8219485   \n",
       "Number of kinases                                   257   \n",
       "Number of kinase pairs (theory)                   33153   \n",
       "Number of kinase pairs (experimental)             33087   \n",
       "\n",
       "                                          Only distances matching cutoff  \n",
       "Number of structures                                                4055  \n",
       "Number of structure pairs (theory)                               8223540  \n",
       "Number of structure pairs (experimental)                         8217114  \n",
       "Number of kinases                                                    257  \n",
       "Number of kinase pairs (theory)                                    33153  \n",
       "Number of kinase pairs (experimental)                              33068  "
      ]
     },
     "execution_count": 25,
     "metadata": {},
     "output_type": "execute_result"
    }
   ],
   "source": [
    "n_structures = (\n",
    "    pd.concat([structure_distances[\"structure.1\"], structure_distances[\"structure.2\"]])\n",
    "    .unique()\n",
    "    .shape[0]\n",
    ")\n",
    "n_kinases = (\n",
    "    pd.concat([structure_distances[\"kinase.1\"], structure_distances[\"kinase.2\"]]).unique().shape[0]\n",
    ")\n",
    "n_structures_filtered = (\n",
    "    pd.concat(\n",
    "        [structure_distances_filtered[\"structure.1\"], structure_distances_filtered[\"structure.2\"]]\n",
    "    )\n",
    "    .unique()\n",
    "    .shape[0]\n",
    ")\n",
    "n_kinases_filtered = (\n",
    "    pd.concat([structure_distances_filtered[\"kinase.1\"], structure_distances_filtered[\"kinase.2\"]])\n",
    "    .unique()\n",
    "    .shape[0]\n",
    ")\n",
    "\n",
    "\n",
    "table = {\n",
    "    \"All distances\": [\n",
    "        n_structures,\n",
    "        n_pairs(n_structures),\n",
    "        structure_distances.shape[0],\n",
    "        n_kinases,\n",
    "        n_pairs(n_kinases),\n",
    "        structure_distances.groupby([\"kinase.1\", \"kinase.2\"]).size().shape[0],\n",
    "    ],\n",
    "    \"Only distances matching cutoff\": [\n",
    "        n_structures_filtered,\n",
    "        n_pairs(n_structures_filtered),\n",
    "        structure_distances_filtered.shape[0],\n",
    "        n_kinases_filtered,\n",
    "        n_pairs(n_kinases_filtered),\n",
    "        structure_distances_filtered.groupby([\"kinase.1\", \"kinase.2\"]).size().shape[0],\n",
    "    ],\n",
    "}\n",
    "table = pd.DataFrame(\n",
    "    table,\n",
    "    index=[\n",
    "        \"Number of structures\",\n",
    "        \"Number of structure pairs (theory)\",\n",
    "        \"Number of structure pairs (experimental)\",\n",
    "        \"Number of kinases\",\n",
    "        \"Number of kinase pairs (theory)\",\n",
    "        \"Number of kinase pairs (experimental)\",\n",
    "    ],\n",
    ")\n",
    "table"
   ]
  },
  {
   "cell_type": "markdown",
   "metadata": {},
   "source": [
    "## Structure/kinase fingerprint/pairs counts"
   ]
  },
  {
   "cell_type": "code",
   "execution_count": 30,
   "metadata": {},
   "outputs": [
    {
     "name": "stdout",
     "output_type": "stream",
     "text": [
      "all\n",
      "dfg_in\n",
      "dfg_out\n"
     ]
    }
   ],
   "source": [
    "stats = {}\n",
    "coverage_min = 0.8\n",
    "for subset in [\"all\", \"dfg_in\", \"dfg_out\"]:\n",
    "    print(subset)\n",
    "    fingerprint_distance_generator = FingerprintDistanceGenerator.from_csv(\n",
    "        HERE / f\"../../results/{subset}/fingerprint_distances.csv\"\n",
    "    )\n",
    "    n_kinases = len(fingerprint_distance_generator.kinase_ids)\n",
    "    n_structures = len(fingerprint_distance_generator.structure_ids)\n",
    "    n_kinases_pairs = len(fingerprint_distance_generator.kinase_distance_matrix())\n",
    "    n_structure_pairs = len(fingerprint_distance_generator.data)\n",
    "    n_kinase_pairs_cutoff = len(\n",
    "        fingerprint_distance_generator.kinase_distance_matrix(coverage_min=coverage_min)\n",
    "    )\n",
    "    n_structure_pairs_cutoff = len(\n",
    "        fingerprint_distance_generator.data[\n",
    "            fingerprint_distance_generator.data[\"bit_coverage\"] >= coverage_min\n",
    "        ]\n",
    "    )\n",
    "    stats[subset] = [\n",
    "        n_kinases,\n",
    "        n_structures,\n",
    "        n_kinases_pairs,\n",
    "        n_structure_pairs,\n",
    "        n_kinase_pairs_cutoff,\n",
    "        n_structure_pairs_cutoff,\n",
    "    ]"
   ]
  },
  {
   "cell_type": "code",
   "execution_count": 35,
   "metadata": {},
   "outputs": [],
   "source": [
    "stats = pd.DataFrame(\n",
    "    stats,\n",
    "    index=[\n",
    "        \"Number of kinases\",\n",
    "        \"Number of structures\",\n",
    "        \"Number of kinase pairs\",\n",
    "        \"Number of structure pairs\",\n",
    "        \"Number of kinase pairs*\",\n",
    "        \"Number of structure pairs*\",\n",
    "    ],\n",
    ")"
   ]
  },
  {
   "cell_type": "code",
   "execution_count": 40,
   "metadata": {},
   "outputs": [],
   "source": [
    "stats.iloc[[1, 0, 5, 4], :].to_csv(HERE / \"../../notebooks/figures/kissim_dataset.csv\")"
   ]
  },
  {
   "cell_type": "code",
   "execution_count": 42,
   "metadata": {},
   "outputs": [
    {
     "data": {
      "text/html": [
       "<div>\n",
       "<style scoped>\n",
       "    .dataframe tbody tr th:only-of-type {\n",
       "        vertical-align: middle;\n",
       "    }\n",
       "\n",
       "    .dataframe tbody tr th {\n",
       "        vertical-align: top;\n",
       "    }\n",
       "\n",
       "    .dataframe thead th {\n",
       "        text-align: right;\n",
       "    }\n",
       "</style>\n",
       "<table border=\"1\" class=\"dataframe\">\n",
       "  <thead>\n",
       "    <tr style=\"text-align: right;\">\n",
       "      <th></th>\n",
       "      <th>all</th>\n",
       "      <th>dfg_in</th>\n",
       "      <th>dfg_out</th>\n",
       "    </tr>\n",
       "  </thead>\n",
       "  <tbody>\n",
       "    <tr>\n",
       "      <th>Number of structures</th>\n",
       "      <td>4623</td>\n",
       "      <td>4055</td>\n",
       "      <td>405</td>\n",
       "    </tr>\n",
       "    <tr>\n",
       "      <th>Number of kinases</th>\n",
       "      <td>279</td>\n",
       "      <td>257</td>\n",
       "      <td>71</td>\n",
       "    </tr>\n",
       "    <tr>\n",
       "      <th>Number of structure pairs*</th>\n",
       "      <td>10679055</td>\n",
       "      <td>8217114</td>\n",
       "      <td>81810</td>\n",
       "    </tr>\n",
       "    <tr>\n",
       "      <th>Number of kinase pairs*</th>\n",
       "      <td>279</td>\n",
       "      <td>257</td>\n",
       "      <td>71</td>\n",
       "    </tr>\n",
       "  </tbody>\n",
       "</table>\n",
       "</div>"
      ],
      "text/plain": [
       "                                 all   dfg_in  dfg_out\n",
       "Number of structures            4623     4055      405\n",
       "Number of kinases                279      257       71\n",
       "Number of structure pairs*  10679055  8217114    81810\n",
       "Number of kinase pairs*          279      257       71"
      ]
     },
     "execution_count": 42,
     "metadata": {},
     "output_type": "execute_result"
    }
   ],
   "source": [
    "stats.iloc[[1, 0, 5, 4], :]"
   ]
  }
 ],
 "metadata": {
  "kernelspec": {
   "display_name": "Python 3",
   "language": "python",
   "name": "python3"
  },
  "language_info": {
   "codemirror_mode": {
    "name": "ipython",
    "version": 3
   },
   "file_extension": ".py",
   "mimetype": "text/x-python",
   "name": "python",
   "nbconvert_exporter": "python",
   "pygments_lexer": "ipython3",
   "version": "3.9.5"
  },
  "widgets": {
   "application/vnd.jupyter.widget-state+json": {
    "state": {
     "73b626b842b9423ca31039c1cc2b022b": {
      "model_module": "nglview-js-widgets",
      "model_module_version": "3.0.1",
      "model_name": "ColormakerRegistryModel",
      "state": {
       "_msg_ar": [],
       "_msg_q": [],
       "_ready": true,
       "layout": "IPY_MODEL_a8fcf693c4db40d7b23486a8d149a93d"
      }
     },
     "a8fcf693c4db40d7b23486a8d149a93d": {
      "model_module": "@jupyter-widgets/base",
      "model_module_version": "1.2.0",
      "model_name": "LayoutModel",
      "state": {}
     }
    },
    "version_major": 2,
    "version_minor": 0
   }
  }
 },
 "nbformat": 4,
 "nbformat_minor": 4
}
