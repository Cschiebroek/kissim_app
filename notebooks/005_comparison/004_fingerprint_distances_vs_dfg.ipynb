{
 "cells": [
  {
   "cell_type": "markdown",
   "metadata": {},
   "source": [
    "# Can fingerprint distances discriminate DFG conformations?\n",
    "\n",
    "The `kissim` fingerprint encodes the pocket residues' spatial distance to four centers&mdash;the pocket centroid, hinge region, DFG region and front pocket&mdash;and should therefore discriminate between two structures in different conformations; when we compare two structures in *different* conformations the fingerprint distance should be higher than for two structures in *similar* conformations.\n",
    "\n",
    "Let's check if this is true using DFG conformations from KLIFS. Plot distribution of fingerprint distances grouped by in/in, out/out, and in/out pairs.\n",
    "\n",
    "- Use fingerprint distances for structure pairs between all kinases\n",
    "- Use fingerprint distances for structure pairs between the same kinase"
   ]
  },
  {
   "cell_type": "code",
   "execution_count": 1,
   "metadata": {},
   "outputs": [],
   "source": [
    "%load_ext autoreload\n",
    "%autoreload 2"
   ]
  },
  {
   "cell_type": "code",
   "execution_count": 2,
   "metadata": {},
   "outputs": [
    {
     "data": {
      "application/vnd.jupyter.widget-view+json": {
       "model_id": "011e95082a1a438080a9424da9f3430a",
       "version_major": 2,
       "version_minor": 0
      },
      "text/plain": []
     },
     "metadata": {},
     "output_type": "display_data"
    }
   ],
   "source": [
    "from pathlib import Path\n",
    "\n",
    "import pandas as pd\n",
    "import matplotlib.pyplot as plt\n",
    "from IPython.display import display, Markdown\n",
    "from opencadd.databases.klifs import setup_remote\n",
    "from kissim.comparison import FingerprintDistanceGenerator\n",
    "\n",
    "from src.definitions import COVERAGE_CUTOFF"
   ]
  },
  {
   "cell_type": "code",
   "execution_count": 3,
   "metadata": {},
   "outputs": [],
   "source": [
    "HERE = Path(_dh[-1])  # noqa: F821\n",
    "DATA = HERE / \"../../results/all\""
   ]
  },
  {
   "cell_type": "code",
   "execution_count": 4,
   "metadata": {},
   "outputs": [],
   "source": [
    "plt.style.use(\"seaborn\")"
   ]
  },
  {
   "cell_type": "markdown",
   "metadata": {},
   "source": [
    "## Load fingerprint distances with sufficient coverage\n",
    "\n",
    "Choose fingerprint distances that are based on spatial distances only (**weighting scheme: 010**) and that are based on a sufficient pairwise fingerprint bit coverage (default: `COVERAGE_CUTOFF`)."
   ]
  },
  {
   "cell_type": "code",
   "execution_count": 5,
   "metadata": {},
   "outputs": [
    {
     "data": {
      "text/plain": [
       "0.8"
      ]
     },
     "execution_count": 5,
     "metadata": {},
     "output_type": "execute_result"
    }
   ],
   "source": [
    "COVERAGE_CUTOFF"
   ]
  },
  {
   "cell_type": "code",
   "execution_count": 6,
   "metadata": {},
   "outputs": [
    {
     "name": "stdout",
     "output_type": "stream",
     "text": [
      "Number of kinases: 279\n",
      "Number of structures: 4623\n",
      "Number of structure pairs: 10683753\n",
      "Number of structure pairs: 10531755\n"
     ]
    },
    {
     "data": {
      "text/html": [
       "<div>\n",
       "<style scoped>\n",
       "    .dataframe tbody tr th:only-of-type {\n",
       "        vertical-align: middle;\n",
       "    }\n",
       "\n",
       "    .dataframe tbody tr th {\n",
       "        vertical-align: top;\n",
       "    }\n",
       "\n",
       "    .dataframe thead th {\n",
       "        text-align: right;\n",
       "    }\n",
       "</style>\n",
       "<table border=\"1\" class=\"dataframe\">\n",
       "  <thead>\n",
       "    <tr style=\"text-align: right;\">\n",
       "      <th></th>\n",
       "      <th>structure.1</th>\n",
       "      <th>structure.2</th>\n",
       "      <th>kinase.1</th>\n",
       "      <th>kinase.2</th>\n",
       "      <th>distance</th>\n",
       "      <th>bit_coverage</th>\n",
       "    </tr>\n",
       "  </thead>\n",
       "  <tbody>\n",
       "    <tr>\n",
       "      <th>0</th>\n",
       "      <td>1</td>\n",
       "      <td>2</td>\n",
       "      <td>EphA7</td>\n",
       "      <td>EphA7</td>\n",
       "      <td>0.005340</td>\n",
       "      <td>0.96</td>\n",
       "    </tr>\n",
       "    <tr>\n",
       "      <th>1</th>\n",
       "      <td>1</td>\n",
       "      <td>7</td>\n",
       "      <td>EphA7</td>\n",
       "      <td>ITK</td>\n",
       "      <td>0.010538</td>\n",
       "      <td>0.96</td>\n",
       "    </tr>\n",
       "    <tr>\n",
       "      <th>2</th>\n",
       "      <td>1</td>\n",
       "      <td>8</td>\n",
       "      <td>EphA7</td>\n",
       "      <td>ITK</td>\n",
       "      <td>0.011114</td>\n",
       "      <td>0.94</td>\n",
       "    </tr>\n",
       "    <tr>\n",
       "      <th>3</th>\n",
       "      <td>1</td>\n",
       "      <td>9</td>\n",
       "      <td>EphA7</td>\n",
       "      <td>ITK</td>\n",
       "      <td>0.020569</td>\n",
       "      <td>0.96</td>\n",
       "    </tr>\n",
       "    <tr>\n",
       "      <th>4</th>\n",
       "      <td>1</td>\n",
       "      <td>11</td>\n",
       "      <td>EphA7</td>\n",
       "      <td>ITK</td>\n",
       "      <td>0.012521</td>\n",
       "      <td>0.96</td>\n",
       "    </tr>\n",
       "  </tbody>\n",
       "</table>\n",
       "</div>"
      ],
      "text/plain": [
       "   structure.1  structure.2 kinase.1 kinase.2  distance  bit_coverage\n",
       "0            1            2    EphA7    EphA7  0.005340          0.96\n",
       "1            1            7    EphA7      ITK  0.010538          0.96\n",
       "2            1            8    EphA7      ITK  0.011114          0.94\n",
       "3            1            9    EphA7      ITK  0.020569          0.96\n",
       "4            1           11    EphA7      ITK  0.012521          0.96"
      ]
     },
     "execution_count": 6,
     "metadata": {},
     "output_type": "execute_result"
    }
   ],
   "source": [
    "# Set path\n",
    "fingerprint_distance_file = DATA / \"fingerprint_distances_010.csv\"\n",
    "# Load data\n",
    "fingerprint_distance_generator = FingerprintDistanceGenerator.from_csv(fingerprint_distance_file)\n",
    "print(f\"Number of kinases: {len(fingerprint_distance_generator.kinase_ids)}\")\n",
    "print(f\"Number of structures: {len(fingerprint_distance_generator.structure_ids)}\")\n",
    "structure_distances = fingerprint_distance_generator.data\n",
    "print(f\"Number of structure pairs: {structure_distances.shape[0]}\")\n",
    "structure_distances = structure_distances[\n",
    "    structure_distances[\"bit_coverage\"] >= COVERAGE_CUTOFF\n",
    "].reset_index(drop=True)\n",
    "print(f\"Number of structure pairs: {structure_distances.shape[0]}\")\n",
    "structure_distances.head()"
   ]
  },
  {
   "cell_type": "markdown",
   "metadata": {},
   "source": [
    "## Add DFG conformation\n",
    "\n",
    "Add DFG conformation from KLIFS to each structure pair."
   ]
  },
  {
   "cell_type": "code",
   "execution_count": 7,
   "metadata": {},
   "outputs": [
    {
     "name": "stdout",
     "output_type": "stream",
     "text": [
      "CPU times: user 1min 3s, sys: 468 ms, total: 1min 3s\n",
      "Wall time: 1min 5s\n"
     ]
    },
    {
     "data": {
      "text/html": [
       "<div>\n",
       "<style scoped>\n",
       "    .dataframe tbody tr th:only-of-type {\n",
       "        vertical-align: middle;\n",
       "    }\n",
       "\n",
       "    .dataframe tbody tr th {\n",
       "        vertical-align: top;\n",
       "    }\n",
       "\n",
       "    .dataframe thead th {\n",
       "        text-align: right;\n",
       "    }\n",
       "</style>\n",
       "<table border=\"1\" class=\"dataframe\">\n",
       "  <thead>\n",
       "    <tr style=\"text-align: right;\">\n",
       "      <th></th>\n",
       "      <th>structure.1</th>\n",
       "      <th>structure.2</th>\n",
       "      <th>kinase.1</th>\n",
       "      <th>kinase.2</th>\n",
       "      <th>distance</th>\n",
       "      <th>bit_coverage</th>\n",
       "      <th>dfg.1</th>\n",
       "      <th>dfg.2</th>\n",
       "    </tr>\n",
       "  </thead>\n",
       "  <tbody>\n",
       "    <tr>\n",
       "      <th>0</th>\n",
       "      <td>1</td>\n",
       "      <td>2</td>\n",
       "      <td>EphA7</td>\n",
       "      <td>EphA7</td>\n",
       "      <td>0.005340</td>\n",
       "      <td>0.96</td>\n",
       "      <td>out</td>\n",
       "      <td>in</td>\n",
       "    </tr>\n",
       "    <tr>\n",
       "      <th>1</th>\n",
       "      <td>1</td>\n",
       "      <td>7</td>\n",
       "      <td>EphA7</td>\n",
       "      <td>ITK</td>\n",
       "      <td>0.010538</td>\n",
       "      <td>0.96</td>\n",
       "      <td>out</td>\n",
       "      <td>in</td>\n",
       "    </tr>\n",
       "    <tr>\n",
       "      <th>2</th>\n",
       "      <td>1</td>\n",
       "      <td>8</td>\n",
       "      <td>EphA7</td>\n",
       "      <td>ITK</td>\n",
       "      <td>0.011114</td>\n",
       "      <td>0.94</td>\n",
       "      <td>out</td>\n",
       "      <td>in</td>\n",
       "    </tr>\n",
       "    <tr>\n",
       "      <th>3</th>\n",
       "      <td>1</td>\n",
       "      <td>9</td>\n",
       "      <td>EphA7</td>\n",
       "      <td>ITK</td>\n",
       "      <td>0.020569</td>\n",
       "      <td>0.96</td>\n",
       "      <td>out</td>\n",
       "      <td>in</td>\n",
       "    </tr>\n",
       "    <tr>\n",
       "      <th>4</th>\n",
       "      <td>1</td>\n",
       "      <td>11</td>\n",
       "      <td>EphA7</td>\n",
       "      <td>ITK</td>\n",
       "      <td>0.012521</td>\n",
       "      <td>0.96</td>\n",
       "      <td>out</td>\n",
       "      <td>in</td>\n",
       "    </tr>\n",
       "  </tbody>\n",
       "</table>\n",
       "</div>"
      ],
      "text/plain": [
       "   structure.1  structure.2 kinase.1 kinase.2  distance  bit_coverage dfg.1  \\\n",
       "0            1            2    EphA7    EphA7  0.005340          0.96   out   \n",
       "1            1            7    EphA7      ITK  0.010538          0.96   out   \n",
       "2            1            8    EphA7      ITK  0.011114          0.94   out   \n",
       "3            1            9    EphA7      ITK  0.020569          0.96   out   \n",
       "4            1           11    EphA7      ITK  0.012521          0.96   out   \n",
       "\n",
       "  dfg.2  \n",
       "0    in  \n",
       "1    in  \n",
       "2    in  \n",
       "3    in  \n",
       "4    in  "
      ]
     },
     "execution_count": 7,
     "metadata": {},
     "output_type": "execute_result"
    }
   ],
   "source": [
    "%%time\n",
    "klifs_session = setup_remote()\n",
    "structures = klifs_session.structures.all_structures()\n",
    "dfg = structures.set_index(\"structure.klifs_id\")[\"structure.dfg\"]\n",
    "structure_distances[\"dfg.1\"] = structure_distances[\"structure.1\"].apply(lambda x: dfg[x])\n",
    "structure_distances[\"dfg.2\"] = structure_distances[\"structure.2\"].apply(lambda x: dfg[x])\n",
    "structure_distances.head()"
   ]
  },
  {
   "cell_type": "markdown",
   "metadata": {},
   "source": [
    "## Plot DFG conformation pairs\n",
    "\n",
    "Group the structure pairs by DFG conformation pairs&mdash;in/in, out/out, in/out&mdash;and plot their fingerprint distance distributions."
   ]
  },
  {
   "cell_type": "code",
   "execution_count": 8,
   "metadata": {},
   "outputs": [],
   "source": [
    "def structure_distances_by_dfg_conformation_pairs(structure_distances):\n",
    "    \"\"\"Distances for all, in/in, out/out, and in/out structure pairs.\"\"\"\n",
    "\n",
    "    dfg_in_in = structure_distances[\n",
    "        (structure_distances[\"dfg.1\"] == \"in\") & (structure_distances[\"dfg.2\"] == \"in\")\n",
    "    ][\"distance\"]\n",
    "    dfg_out_out = structure_distances[\n",
    "        (structure_distances[\"dfg.1\"] == \"out\") & (structure_distances[\"dfg.2\"] == \"out\")\n",
    "    ][\"distance\"]\n",
    "    dfg_in_out = structure_distances[\n",
    "        ((structure_distances[\"dfg.1\"] == \"in\") & (structure_distances[\"dfg.2\"] == \"out\"))\n",
    "        | ((structure_distances[\"dfg.1\"] == \"out\") & (structure_distances[\"dfg.2\"] == \"in\"))\n",
    "    ][\"distance\"]\n",
    "\n",
    "    structure_distances_dfg = pd.DataFrame(\n",
    "        {\"in/in\": dfg_in_in, \"out/out\": dfg_out_out, \"in/out\": dfg_in_out}\n",
    "    )\n",
    "    structure_distances_dfg = pd.DataFrame(structure_distances_dfg)\n",
    "\n",
    "    return structure_distances_dfg"
   ]
  },
  {
   "cell_type": "code",
   "execution_count": 9,
   "metadata": {},
   "outputs": [],
   "source": [
    "def plot_structure_distances_by_dfg_conformation_pairs(structure_distances, kinase):\n",
    "    \"\"\"Plot distribution of structure distances per DFG conformation pair.\"\"\"\n",
    "\n",
    "    # Data\n",
    "    structure_distances_dfg = structure_distances_by_dfg_conformation_pairs(structure_distances)\n",
    "    print(\"Number of structure pairs per conformation pair:\")\n",
    "    print(structure_distances_dfg.notna().sum())\n",
    "\n",
    "    # Boxplot\n",
    "    fig, ax = plt.subplots(1, 1, figsize=(8, 6))\n",
    "    structure_distances_dfg.plot(kind=\"box\", ax=ax)\n",
    "    ax.set_xlabel(\"Type of conformation pairs\")\n",
    "    ax.set_ylabel(\"Structure pair distances\")\n",
    "    if kinase is None:\n",
    "        fig.savefig(\n",
    "            HERE / \"../../notebooks/figures/kissim_discriminates_dfg.png\",\n",
    "            dpi=300,\n",
    "            bbox_inches=\"tight\",\n",
    "        )\n",
    "    else:\n",
    "        fig.savefig(\n",
    "            HERE / f\"../../notebooks/figures/kissim_discriminates_dfg_{kinase}.png\",\n",
    "            dpi=300,\n",
    "            bbox_inches=\"tight\",\n",
    "        )\n",
    "\n",
    "    plt.show()\n",
    "\n",
    "    # Stats\n",
    "    display(structure_distances_dfg.describe())"
   ]
  },
  {
   "cell_type": "markdown",
   "metadata": {},
   "source": [
    "### All structures\n",
    "\n",
    "Use fingerprint distances for structure pairs between all kinases."
   ]
  },
  {
   "cell_type": "code",
   "execution_count": 10,
   "metadata": {},
   "outputs": [
    {
     "name": "stdout",
     "output_type": "stream",
     "text": [
      "Number of structure pairs per conformation pair:\n",
      "in/in      8062120\n",
      "out/out      75078\n",
      "in/out     1558208\n",
      "dtype: int64\n"
     ]
    },
    {
     "data": {
      "image/png": "[encoded data removed]",
      "text/plain": [
       "<Figure size 576x432 with 1 Axes>"
      ]
     },
     "metadata": {},
     "output_type": "display_data"
    },
    {
     "data": {
      "text/html": [
       "<div>\n",
       "<style scoped>\n",
       "    .dataframe tbody tr th:only-of-type {\n",
       "        vertical-align: middle;\n",
       "    }\n",
       "\n",
       "    .dataframe tbody tr th {\n",
       "        vertical-align: top;\n",
       "    }\n",
       "\n",
       "    .dataframe thead th {\n",
       "        text-align: right;\n",
       "    }\n",
       "</style>\n",
       "<table border=\"1\" class=\"dataframe\">\n",
       "  <thead>\n",
       "    <tr style=\"text-align: right;\">\n",
       "      <th></th>\n",
       "      <th>in/in</th>\n",
       "      <th>out/out</th>\n",
       "      <th>in/out</th>\n",
       "    </tr>\n",
       "  </thead>\n",
       "  <tbody>\n",
       "    <tr>\n",
       "      <th>count</th>\n",
       "      <td>8.062120e+06</td>\n",
       "      <td>75078.000000</td>\n",
       "      <td>1.558208e+06</td>\n",
       "    </tr>\n",
       "    <tr>\n",
       "      <th>mean</th>\n",
       "      <td>1.498341e-02</td>\n",
       "      <td>0.013541</td>\n",
       "      <td>1.583247e-02</td>\n",
       "    </tr>\n",
       "    <tr>\n",
       "      <th>std</th>\n",
       "      <td>4.988160e-03</td>\n",
       "      <td>0.004448</td>\n",
       "      <td>4.240247e-03</td>\n",
       "    </tr>\n",
       "    <tr>\n",
       "      <th>min</th>\n",
       "      <td>0.000000e+00</td>\n",
       "      <td>0.000000</td>\n",
       "      <td>2.376672e-03</td>\n",
       "    </tr>\n",
       "    <tr>\n",
       "      <th>25%</th>\n",
       "      <td>1.182187e-02</td>\n",
       "      <td>0.010972</td>\n",
       "      <td>1.299185e-02</td>\n",
       "    </tr>\n",
       "    <tr>\n",
       "      <th>50%</th>\n",
       "      <td>1.436762e-02</td>\n",
       "      <td>0.012953</td>\n",
       "      <td>1.513038e-02</td>\n",
       "    </tr>\n",
       "    <tr>\n",
       "      <th>75%</th>\n",
       "      <td>1.703727e-02</td>\n",
       "      <td>0.015426</td>\n",
       "      <td>1.770698e-02</td>\n",
       "    </tr>\n",
       "    <tr>\n",
       "      <th>max</th>\n",
       "      <td>4.359570e-02</td>\n",
       "      <td>0.036208</td>\n",
       "      <td>4.317481e-02</td>\n",
       "    </tr>\n",
       "  </tbody>\n",
       "</table>\n",
       "</div>"
      ],
      "text/plain": [
       "              in/in       out/out        in/out\n",
       "count  8.062120e+06  75078.000000  1.558208e+06\n",
       "mean   1.498341e-02      0.013541  1.583247e-02\n",
       "std    4.988160e-03      0.004448  4.240247e-03\n",
       "min    0.000000e+00      0.000000  2.376672e-03\n",
       "25%    1.182187e-02      0.010972  1.299185e-02\n",
       "50%    1.436762e-02      0.012953  1.513038e-02\n",
       "75%    1.703727e-02      0.015426  1.770698e-02\n",
       "max    4.359570e-02      0.036208  4.317481e-02"
      ]
     },
     "metadata": {},
     "output_type": "display_data"
    }
   ],
   "source": [
    "plot_structure_distances_by_dfg_conformation_pairs(structure_distances, kinase=None)"
   ]
  },
  {
   "cell_type": "markdown",
   "metadata": {},
   "source": [
    "<div class=\"alert alert-block alert-info\">\n",
    "\n",
    "When including all kinases at the same time, the distribution of fingerprint distances is similar for structure pairs with the same DFG conformations (in/in and out/out) and different DFG conformations (in/out). \n",
    "    \n",
    "The fingerprint seems not to discriminate DFG-conformations on a kinome-wide level, maybe because the encoded spatial information is not restricted to only DFG conformation features. We may see a disciminative effect when comparing structures for a single kinase.\n",
    "\n",
    "</div>"
   ]
  },
  {
   "cell_type": "markdown",
   "metadata": {},
   "source": [
    "### Structures for one kinase\n",
    "\n",
    "Use fingerprint distances for structure pairs between the same kinase; use only kinases that have a sufficient number of structures in DFG-in and DFG-out conformations (default: 10). "
   ]
  },
  {
   "cell_type": "code",
   "execution_count": 11,
   "metadata": {},
   "outputs": [],
   "source": [
    "def kinases_with_high_dfg_in_out_coverage(structure_distances, dfg_structure_coverage_cutoff=10):\n",
    "    \"\"\"Given a dataset, get kinases with a threshold DFG in/out coverage.\"\"\"\n",
    "\n",
    "    # Get structure KLIFS IDs in our dataset\n",
    "    structure_klifs_ids = (\n",
    "        pd.concat(\n",
    "            [\n",
    "                structure_distances[\"structure.1\"].drop_duplicates(),\n",
    "                structure_distances[\"structure.2\"].drop_duplicates(),\n",
    "            ]\n",
    "        )\n",
    "        .drop_duplicates()\n",
    "        .to_list()\n",
    "    )\n",
    "    print(f\"Number of structures: {len(structure_klifs_ids)}\")\n",
    "\n",
    "    # Get structural metadata\n",
    "    klifs_session = setup_remote()\n",
    "    structures = klifs_session.structures.all_structures()\n",
    "    structures = structures[structures[\"structure.klifs_id\"].isin(structure_klifs_ids)]\n",
    "\n",
    "    # Count number of structures per kinase and conformation\n",
    "    dfg_by_kinase = structures.groupby(\"kinase.klifs_name\").apply(\n",
    "        lambda x: x[\"structure.dfg\"].value_counts()\n",
    "    )\n",
    "    dfg_by_kinase = dfg_by_kinase.reset_index()\n",
    "    dfg_by_kinase.columns = [\"kinase\", \"dfg\", \"n_structures\"]\n",
    "\n",
    "    # Keep only in/out rows\n",
    "    dfg_by_kinase = dfg_by_kinase[(dfg_by_kinase[\"dfg\"] == \"in\") | (dfg_by_kinase[\"dfg\"] == \"out\")]\n",
    "\n",
    "    # Keep only rows with at least xxx structures\n",
    "    dfg_by_kinase = dfg_by_kinase[dfg_by_kinase[\"n_structures\"] >= dfg_structure_coverage_cutoff]\n",
    "\n",
    "    # Keep only kinases with both in/out conformations\n",
    "    n_conformations_by_kinase = dfg_by_kinase.groupby(\"kinase\").size()\n",
    "    dfg_by_kinase = dfg_by_kinase[\n",
    "        dfg_by_kinase[\"kinase\"].isin(\n",
    "            n_conformations_by_kinase[n_conformations_by_kinase == 2].index\n",
    "        )\n",
    "    ]\n",
    "\n",
    "    return dfg_by_kinase.set_index([\"kinase\", \"dfg\"])"
   ]
  },
  {
   "cell_type": "code",
   "execution_count": 12,
   "metadata": {},
   "outputs": [
    {
     "name": "stdout",
     "output_type": "stream",
     "text": [
      "Number of structures: 4590\n"
     ]
    },
    {
     "data": {
      "text/html": [
       "<div>\n",
       "<style scoped>\n",
       "    .dataframe tbody tr th:only-of-type {\n",
       "        vertical-align: middle;\n",
       "    }\n",
       "\n",
       "    .dataframe tbody tr th {\n",
       "        vertical-align: top;\n",
       "    }\n",
       "\n",
       "    .dataframe thead th {\n",
       "        text-align: right;\n",
       "    }\n",
       "</style>\n",
       "<table border=\"1\" class=\"dataframe\">\n",
       "  <thead>\n",
       "    <tr style=\"text-align: right;\">\n",
       "      <th></th>\n",
       "      <th></th>\n",
       "      <th>n_structures</th>\n",
       "    </tr>\n",
       "    <tr>\n",
       "      <th>kinase</th>\n",
       "      <th>dfg</th>\n",
       "      <th></th>\n",
       "    </tr>\n",
       "  </thead>\n",
       "  <tbody>\n",
       "    <tr>\n",
       "      <th rowspan=\"2\" valign=\"top\">BRAF</th>\n",
       "      <th>in</th>\n",
       "      <td>28</td>\n",
       "    </tr>\n",
       "    <tr>\n",
       "      <th>out</th>\n",
       "      <td>21</td>\n",
       "    </tr>\n",
       "    <tr>\n",
       "      <th rowspan=\"2\" valign=\"top\">CDK8</th>\n",
       "      <th>in</th>\n",
       "      <td>21</td>\n",
       "    </tr>\n",
       "    <tr>\n",
       "      <th>out</th>\n",
       "      <td>10</td>\n",
       "    </tr>\n",
       "    <tr>\n",
       "      <th rowspan=\"2\" valign=\"top\">EphA2</th>\n",
       "      <th>in</th>\n",
       "      <td>37</td>\n",
       "    </tr>\n",
       "    <tr>\n",
       "      <th>out</th>\n",
       "      <td>17</td>\n",
       "    </tr>\n",
       "    <tr>\n",
       "      <th rowspan=\"2\" valign=\"top\">MET</th>\n",
       "      <th>in</th>\n",
       "      <td>53</td>\n",
       "    </tr>\n",
       "    <tr>\n",
       "      <th>out</th>\n",
       "      <td>16</td>\n",
       "    </tr>\n",
       "    <tr>\n",
       "      <th rowspan=\"2\" valign=\"top\">p38a</th>\n",
       "      <th>in</th>\n",
       "      <td>111</td>\n",
       "    </tr>\n",
       "    <tr>\n",
       "      <th>out</th>\n",
       "      <td>57</td>\n",
       "    </tr>\n",
       "  </tbody>\n",
       "</table>\n",
       "</div>"
      ],
      "text/plain": [
       "            n_structures\n",
       "kinase dfg              \n",
       "BRAF   in             28\n",
       "       out            21\n",
       "CDK8   in             21\n",
       "       out            10\n",
       "EphA2  in             37\n",
       "       out            17\n",
       "MET    in             53\n",
       "       out            16\n",
       "p38a   in            111\n",
       "       out            57"
      ]
     },
     "execution_count": 12,
     "metadata": {},
     "output_type": "execute_result"
    }
   ],
   "source": [
    "dfg_by_kinase = kinases_with_high_dfg_in_out_coverage(\n",
    "    structure_distances, dfg_structure_coverage_cutoff=10\n",
    ")\n",
    "dfg_by_kinase"
   ]
  },
  {
   "cell_type": "code",
   "execution_count": 13,
   "metadata": {},
   "outputs": [
    {
     "data": {
      "text/markdown": [
       "#### BRAF"
      ],
      "text/plain": [
       "<IPython.core.display.Markdown object>"
      ]
     },
     "metadata": {},
     "output_type": "display_data"
    },
    {
     "name": "stdout",
     "output_type": "stream",
     "text": [
      "Number of DFG-in structures: 28\n",
      "Number of DFG-out structures: 21\n",
      "Percentage of DFG-in: 57.14%\n",
      "Number of structure pairs per conformation pair:\n",
      "in/in      378\n",
      "out/out    210\n",
      "in/out     588\n",
      "dtype: int64\n"
     ]
    },
    {
     "data": {
      "image/png": "[encoded data removed]",
      "text/plain": [
       "<Figure size 576x432 with 1 Axes>"
      ]
     },
     "metadata": {},
     "output_type": "display_data"
    },
    {
     "data": {
      "text/html": [
       "<div>\n",
       "<style scoped>\n",
       "    .dataframe tbody tr th:only-of-type {\n",
       "        vertical-align: middle;\n",
       "    }\n",
       "\n",
       "    .dataframe tbody tr th {\n",
       "        vertical-align: top;\n",
       "    }\n",
       "\n",
       "    .dataframe thead th {\n",
       "        text-align: right;\n",
       "    }\n",
       "</style>\n",
       "<table border=\"1\" class=\"dataframe\">\n",
       "  <thead>\n",
       "    <tr style=\"text-align: right;\">\n",
       "      <th></th>\n",
       "      <th>in/in</th>\n",
       "      <th>out/out</th>\n",
       "      <th>in/out</th>\n",
       "    </tr>\n",
       "  </thead>\n",
       "  <tbody>\n",
       "    <tr>\n",
       "      <th>count</th>\n",
       "      <td>378.000000</td>\n",
       "      <td>210.000000</td>\n",
       "      <td>588.000000</td>\n",
       "    </tr>\n",
       "    <tr>\n",
       "      <th>mean</th>\n",
       "      <td>0.010162</td>\n",
       "      <td>0.006233</td>\n",
       "      <td>0.012829</td>\n",
       "    </tr>\n",
       "    <tr>\n",
       "      <th>std</th>\n",
       "      <td>0.003254</td>\n",
       "      <td>0.001889</td>\n",
       "      <td>0.003010</td>\n",
       "    </tr>\n",
       "    <tr>\n",
       "      <th>min</th>\n",
       "      <td>0.000350</td>\n",
       "      <td>0.002516</td>\n",
       "      <td>0.006065</td>\n",
       "    </tr>\n",
       "    <tr>\n",
       "      <th>25%</th>\n",
       "      <td>0.008533</td>\n",
       "      <td>0.004775</td>\n",
       "      <td>0.010640</td>\n",
       "    </tr>\n",
       "    <tr>\n",
       "      <th>50%</th>\n",
       "      <td>0.010522</td>\n",
       "      <td>0.005931</td>\n",
       "      <td>0.012167</td>\n",
       "    </tr>\n",
       "    <tr>\n",
       "      <th>75%</th>\n",
       "      <td>0.011997</td>\n",
       "      <td>0.007347</td>\n",
       "      <td>0.015752</td>\n",
       "    </tr>\n",
       "    <tr>\n",
       "      <th>max</th>\n",
       "      <td>0.016167</td>\n",
       "      <td>0.012214</td>\n",
       "      <td>0.019233</td>\n",
       "    </tr>\n",
       "  </tbody>\n",
       "</table>\n",
       "</div>"
      ],
      "text/plain": [
       "            in/in     out/out      in/out\n",
       "count  378.000000  210.000000  588.000000\n",
       "mean     0.010162    0.006233    0.012829\n",
       "std      0.003254    0.001889    0.003010\n",
       "min      0.000350    0.002516    0.006065\n",
       "25%      0.008533    0.004775    0.010640\n",
       "50%      0.010522    0.005931    0.012167\n",
       "75%      0.011997    0.007347    0.015752\n",
       "max      0.016167    0.012214    0.019233"
      ]
     },
     "metadata": {},
     "output_type": "display_data"
    },
    {
     "data": {
      "text/markdown": [
       "#### CDK8"
      ],
      "text/plain": [
       "<IPython.core.display.Markdown object>"
      ]
     },
     "metadata": {},
     "output_type": "display_data"
    },
    {
     "name": "stdout",
     "output_type": "stream",
     "text": [
      "Number of DFG-in structures: 21\n",
      "Number of DFG-out structures: 10\n",
      "Percentage of DFG-in: 67.74%\n",
      "Number of structure pairs per conformation pair:\n",
      "in/in      210\n",
      "out/out     45\n",
      "in/out     210\n",
      "dtype: int64\n"
     ]
    },
    {
     "data": {
      "image/png": "[encoded data removed]",
      "text/plain": [
       "<Figure size 576x432 with 1 Axes>"
      ]
     },
     "metadata": {},
     "output_type": "display_data"
    },
    {
     "data": {
      "text/html": [
       "<div>\n",
       "<style scoped>\n",
       "    .dataframe tbody tr th:only-of-type {\n",
       "        vertical-align: middle;\n",
       "    }\n",
       "\n",
       "    .dataframe tbody tr th {\n",
       "        vertical-align: top;\n",
       "    }\n",
       "\n",
       "    .dataframe thead th {\n",
       "        text-align: right;\n",
       "    }\n",
       "</style>\n",
       "<table border=\"1\" class=\"dataframe\">\n",
       "  <thead>\n",
       "    <tr style=\"text-align: right;\">\n",
       "      <th></th>\n",
       "      <th>in/in</th>\n",
       "      <th>out/out</th>\n",
       "      <th>in/out</th>\n",
       "    </tr>\n",
       "  </thead>\n",
       "  <tbody>\n",
       "    <tr>\n",
       "      <th>count</th>\n",
       "      <td>210.000000</td>\n",
       "      <td>45.000000</td>\n",
       "      <td>210.000000</td>\n",
       "    </tr>\n",
       "    <tr>\n",
       "      <th>mean</th>\n",
       "      <td>0.004792</td>\n",
       "      <td>0.005586</td>\n",
       "      <td>0.007521</td>\n",
       "    </tr>\n",
       "    <tr>\n",
       "      <th>std</th>\n",
       "      <td>0.001733</td>\n",
       "      <td>0.002297</td>\n",
       "      <td>0.001772</td>\n",
       "    </tr>\n",
       "    <tr>\n",
       "      <th>min</th>\n",
       "      <td>0.000012</td>\n",
       "      <td>0.002219</td>\n",
       "      <td>0.004262</td>\n",
       "    </tr>\n",
       "    <tr>\n",
       "      <th>25%</th>\n",
       "      <td>0.003405</td>\n",
       "      <td>0.003392</td>\n",
       "      <td>0.006392</td>\n",
       "    </tr>\n",
       "    <tr>\n",
       "      <th>50%</th>\n",
       "      <td>0.004581</td>\n",
       "      <td>0.005554</td>\n",
       "      <td>0.007103</td>\n",
       "    </tr>\n",
       "    <tr>\n",
       "      <th>75%</th>\n",
       "      <td>0.006191</td>\n",
       "      <td>0.006809</td>\n",
       "      <td>0.008492</td>\n",
       "    </tr>\n",
       "    <tr>\n",
       "      <th>max</th>\n",
       "      <td>0.009593</td>\n",
       "      <td>0.010141</td>\n",
       "      <td>0.013665</td>\n",
       "    </tr>\n",
       "  </tbody>\n",
       "</table>\n",
       "</div>"
      ],
      "text/plain": [
       "            in/in    out/out      in/out\n",
       "count  210.000000  45.000000  210.000000\n",
       "mean     0.004792   0.005586    0.007521\n",
       "std      0.001733   0.002297    0.001772\n",
       "min      0.000012   0.002219    0.004262\n",
       "25%      0.003405   0.003392    0.006392\n",
       "50%      0.004581   0.005554    0.007103\n",
       "75%      0.006191   0.006809    0.008492\n",
       "max      0.009593   0.010141    0.013665"
      ]
     },
     "metadata": {},
     "output_type": "display_data"
    },
    {
     "data": {
      "text/markdown": [
       "#### EphA2"
      ],
      "text/plain": [
       "<IPython.core.display.Markdown object>"
      ]
     },
     "metadata": {},
     "output_type": "display_data"
    },
    {
     "name": "stdout",
     "output_type": "stream",
     "text": [
      "Number of DFG-in structures: 37\n",
      "Number of DFG-out structures: 17\n",
      "Percentage of DFG-in: 68.52%\n",
      "Number of structure pairs per conformation pair:\n",
      "in/in      666\n",
      "out/out    136\n",
      "in/out     629\n",
      "dtype: int64\n"
     ]
    },
    {
     "data": {
      "image/png": "[encoded data removed]",
      "text/plain": [
       "<Figure size 576x432 with 1 Axes>"
      ]
     },
     "metadata": {},
     "output_type": "display_data"
    },
    {
     "data": {
      "text/html": [
       "<div>\n",
       "<style scoped>\n",
       "    .dataframe tbody tr th:only-of-type {\n",
       "        vertical-align: middle;\n",
       "    }\n",
       "\n",
       "    .dataframe tbody tr th {\n",
       "        vertical-align: top;\n",
       "    }\n",
       "\n",
       "    .dataframe thead th {\n",
       "        text-align: right;\n",
       "    }\n",
       "</style>\n",
       "<table border=\"1\" class=\"dataframe\">\n",
       "  <thead>\n",
       "    <tr style=\"text-align: right;\">\n",
       "      <th></th>\n",
       "      <th>in/in</th>\n",
       "      <th>out/out</th>\n",
       "      <th>in/out</th>\n",
       "    </tr>\n",
       "  </thead>\n",
       "  <tbody>\n",
       "    <tr>\n",
       "      <th>count</th>\n",
       "      <td>666.000000</td>\n",
       "      <td>136.000000</td>\n",
       "      <td>629.000000</td>\n",
       "    </tr>\n",
       "    <tr>\n",
       "      <th>mean</th>\n",
       "      <td>0.005425</td>\n",
       "      <td>0.004503</td>\n",
       "      <td>0.010079</td>\n",
       "    </tr>\n",
       "    <tr>\n",
       "      <th>std</th>\n",
       "      <td>0.002358</td>\n",
       "      <td>0.003194</td>\n",
       "      <td>0.001629</td>\n",
       "    </tr>\n",
       "    <tr>\n",
       "      <th>min</th>\n",
       "      <td>0.000642</td>\n",
       "      <td>0.000757</td>\n",
       "      <td>0.005527</td>\n",
       "    </tr>\n",
       "    <tr>\n",
       "      <th>25%</th>\n",
       "      <td>0.004007</td>\n",
       "      <td>0.002220</td>\n",
       "      <td>0.008995</td>\n",
       "    </tr>\n",
       "    <tr>\n",
       "      <th>50%</th>\n",
       "      <td>0.005511</td>\n",
       "      <td>0.002871</td>\n",
       "      <td>0.010340</td>\n",
       "    </tr>\n",
       "    <tr>\n",
       "      <th>75%</th>\n",
       "      <td>0.007597</td>\n",
       "      <td>0.005599</td>\n",
       "      <td>0.011051</td>\n",
       "    </tr>\n",
       "    <tr>\n",
       "      <th>max</th>\n",
       "      <td>0.010063</td>\n",
       "      <td>0.011205</td>\n",
       "      <td>0.014939</td>\n",
       "    </tr>\n",
       "  </tbody>\n",
       "</table>\n",
       "</div>"
      ],
      "text/plain": [
       "            in/in     out/out      in/out\n",
       "count  666.000000  136.000000  629.000000\n",
       "mean     0.005425    0.004503    0.010079\n",
       "std      0.002358    0.003194    0.001629\n",
       "min      0.000642    0.000757    0.005527\n",
       "25%      0.004007    0.002220    0.008995\n",
       "50%      0.005511    0.002871    0.010340\n",
       "75%      0.007597    0.005599    0.011051\n",
       "max      0.010063    0.011205    0.014939"
      ]
     },
     "metadata": {},
     "output_type": "display_data"
    },
    {
     "data": {
      "text/markdown": [
       "#### MET"
      ],
      "text/plain": [
       "<IPython.core.display.Markdown object>"
      ]
     },
     "metadata": {},
     "output_type": "display_data"
    },
    {
     "name": "stdout",
     "output_type": "stream",
     "text": [
      "Number of DFG-in structures: 53\n",
      "Number of DFG-out structures: 16\n",
      "Percentage of DFG-in: 76.81%\n",
      "Number of structure pairs per conformation pair:\n",
      "in/in      1378\n",
      "out/out     120\n",
      "in/out      848\n",
      "dtype: int64\n"
     ]
    },
    {
     "data": {
      "image/png": "[encoded data removed]",
      "text/plain": [
       "<Figure size 576x432 with 1 Axes>"
      ]
     },
     "metadata": {},
     "output_type": "display_data"
    },
    {
     "data": {
      "text/html": [
       "<div>\n",
       "<style scoped>\n",
       "    .dataframe tbody tr th:only-of-type {\n",
       "        vertical-align: middle;\n",
       "    }\n",
       "\n",
       "    .dataframe tbody tr th {\n",
       "        vertical-align: top;\n",
       "    }\n",
       "\n",
       "    .dataframe thead th {\n",
       "        text-align: right;\n",
       "    }\n",
       "</style>\n",
       "<table border=\"1\" class=\"dataframe\">\n",
       "  <thead>\n",
       "    <tr style=\"text-align: right;\">\n",
       "      <th></th>\n",
       "      <th>in/in</th>\n",
       "      <th>out/out</th>\n",
       "      <th>in/out</th>\n",
       "    </tr>\n",
       "  </thead>\n",
       "  <tbody>\n",
       "    <tr>\n",
       "      <th>count</th>\n",
       "      <td>1378.000000</td>\n",
       "      <td>120.000000</td>\n",
       "      <td>848.000000</td>\n",
       "    </tr>\n",
       "    <tr>\n",
       "      <th>mean</th>\n",
       "      <td>0.008549</td>\n",
       "      <td>0.009178</td>\n",
       "      <td>0.012970</td>\n",
       "    </tr>\n",
       "    <tr>\n",
       "      <th>std</th>\n",
       "      <td>0.004085</td>\n",
       "      <td>0.004515</td>\n",
       "      <td>0.002192</td>\n",
       "    </tr>\n",
       "    <tr>\n",
       "      <th>min</th>\n",
       "      <td>0.000898</td>\n",
       "      <td>0.001662</td>\n",
       "      <td>0.005990</td>\n",
       "    </tr>\n",
       "    <tr>\n",
       "      <th>25%</th>\n",
       "      <td>0.005462</td>\n",
       "      <td>0.006070</td>\n",
       "      <td>0.011711</td>\n",
       "    </tr>\n",
       "    <tr>\n",
       "      <th>50%</th>\n",
       "      <td>0.008132</td>\n",
       "      <td>0.008145</td>\n",
       "      <td>0.012985</td>\n",
       "    </tr>\n",
       "    <tr>\n",
       "      <th>75%</th>\n",
       "      <td>0.010944</td>\n",
       "      <td>0.011745</td>\n",
       "      <td>0.013993</td>\n",
       "    </tr>\n",
       "    <tr>\n",
       "      <th>max</th>\n",
       "      <td>0.020950</td>\n",
       "      <td>0.020175</td>\n",
       "      <td>0.022619</td>\n",
       "    </tr>\n",
       "  </tbody>\n",
       "</table>\n",
       "</div>"
      ],
      "text/plain": [
       "             in/in     out/out      in/out\n",
       "count  1378.000000  120.000000  848.000000\n",
       "mean      0.008549    0.009178    0.012970\n",
       "std       0.004085    0.004515    0.002192\n",
       "min       0.000898    0.001662    0.005990\n",
       "25%       0.005462    0.006070    0.011711\n",
       "50%       0.008132    0.008145    0.012985\n",
       "75%       0.010944    0.011745    0.013993\n",
       "max       0.020950    0.020175    0.022619"
      ]
     },
     "metadata": {},
     "output_type": "display_data"
    },
    {
     "data": {
      "text/markdown": [
       "#### p38a"
      ],
      "text/plain": [
       "<IPython.core.display.Markdown object>"
      ]
     },
     "metadata": {},
     "output_type": "display_data"
    },
    {
     "name": "stdout",
     "output_type": "stream",
     "text": [
      "Number of DFG-in structures: 111\n",
      "Number of DFG-out structures: 57\n",
      "Percentage of DFG-in: 66.07%\n",
      "Number of structure pairs per conformation pair:\n",
      "in/in      6105\n",
      "out/out    1596\n",
      "in/out     6327\n",
      "dtype: int64\n"
     ]
    },
    {
     "data": {
      "image/png": "[encoded data removed]",
      "text/plain": [
       "<Figure size 576x432 with 1 Axes>"
      ]
     },
     "metadata": {},
     "output_type": "display_data"
    },
    {
     "data": {
      "text/html": [
       "<div>\n",
       "<style scoped>\n",
       "    .dataframe tbody tr th:only-of-type {\n",
       "        vertical-align: middle;\n",
       "    }\n",
       "\n",
       "    .dataframe tbody tr th {\n",
       "        vertical-align: top;\n",
       "    }\n",
       "\n",
       "    .dataframe thead th {\n",
       "        text-align: right;\n",
       "    }\n",
       "</style>\n",
       "<table border=\"1\" class=\"dataframe\">\n",
       "  <thead>\n",
       "    <tr style=\"text-align: right;\">\n",
       "      <th></th>\n",
       "      <th>in/in</th>\n",
       "      <th>out/out</th>\n",
       "      <th>in/out</th>\n",
       "    </tr>\n",
       "  </thead>\n",
       "  <tbody>\n",
       "    <tr>\n",
       "      <th>count</th>\n",
       "      <td>6105.000000</td>\n",
       "      <td>1596.000000</td>\n",
       "      <td>6327.000000</td>\n",
       "    </tr>\n",
       "    <tr>\n",
       "      <th>mean</th>\n",
       "      <td>0.009728</td>\n",
       "      <td>0.009453</td>\n",
       "      <td>0.011610</td>\n",
       "    </tr>\n",
       "    <tr>\n",
       "      <th>std</th>\n",
       "      <td>0.002929</td>\n",
       "      <td>0.002942</td>\n",
       "      <td>0.002370</td>\n",
       "    </tr>\n",
       "    <tr>\n",
       "      <th>min</th>\n",
       "      <td>0.001470</td>\n",
       "      <td>0.000000</td>\n",
       "      <td>0.004794</td>\n",
       "    </tr>\n",
       "    <tr>\n",
       "      <th>25%</th>\n",
       "      <td>0.007764</td>\n",
       "      <td>0.007789</td>\n",
       "      <td>0.009891</td>\n",
       "    </tr>\n",
       "    <tr>\n",
       "      <th>50%</th>\n",
       "      <td>0.009435</td>\n",
       "      <td>0.009661</td>\n",
       "      <td>0.011546</td>\n",
       "    </tr>\n",
       "    <tr>\n",
       "      <th>75%</th>\n",
       "      <td>0.011448</td>\n",
       "      <td>0.011081</td>\n",
       "      <td>0.013126</td>\n",
       "    </tr>\n",
       "    <tr>\n",
       "      <th>max</th>\n",
       "      <td>0.023598</td>\n",
       "      <td>0.018030</td>\n",
       "      <td>0.020960</td>\n",
       "    </tr>\n",
       "  </tbody>\n",
       "</table>\n",
       "</div>"
      ],
      "text/plain": [
       "             in/in      out/out       in/out\n",
       "count  6105.000000  1596.000000  6327.000000\n",
       "mean      0.009728     0.009453     0.011610\n",
       "std       0.002929     0.002942     0.002370\n",
       "min       0.001470     0.000000     0.004794\n",
       "25%       0.007764     0.007789     0.009891\n",
       "50%       0.009435     0.009661     0.011546\n",
       "75%       0.011448     0.011081     0.013126\n",
       "max       0.023598     0.018030     0.020960"
      ]
     },
     "metadata": {},
     "output_type": "display_data"
    }
   ],
   "source": [
    "for kinase, dfg in dfg_by_kinase.reset_index().groupby(\"kinase\"):\n",
    "    display(Markdown(f\"#### {kinase}\"))\n",
    "    dfg = dfg.set_index(\"dfg\")\n",
    "    n_dfg_in = dfg.loc[\"in\", \"n_structures\"]\n",
    "    n_dfg_out = dfg.loc[\"out\", \"n_structures\"]\n",
    "    print(f\"Number of DFG-in structures: {n_dfg_in}\")\n",
    "    print(f\"Number of DFG-out structures: {n_dfg_out}\")\n",
    "    dfg_in_percentage = round(n_dfg_in / (n_dfg_in + n_dfg_out) * 100, 2)\n",
    "    print(f\"Percentage of DFG-in: {dfg_in_percentage}%\")\n",
    "    structure_distances_by_kinase = structure_distances[\n",
    "        (structure_distances[\"kinase.1\"] == kinase) & (structure_distances[\"kinase.2\"] == kinase)\n",
    "    ].reset_index(drop=True)\n",
    "    plot_structure_distances_by_dfg_conformation_pairs(structure_distances_by_kinase, kinase)"
   ]
  },
  {
   "cell_type": "markdown",
   "metadata": {},
   "source": [
    "<div class=\"alert alert-block alert-info\">\n",
    "\n",
    "We compare here only fingerprint distances for pairs of structures that describe the same kinase. We observe two interesting shifts:\n",
    "    \n",
    "1. The distribution for out/out pairs is overall lower than for in/in pairs. Potential explanations: definitions for DFG-out are stricter than for DFG-in; \"real\" diversity of DFG-out structures could be still unknown due to the lower number of structures for DFG-out than for DFG-in. \n",
    "2. The distribution of different DFG conformations (in/out) is overall higher than for equal DFG conformations (in/in and out/out). The fingerprint can discriminate DFG conformations of the same kinase.\n",
    "\n",
    "</div>"
   ]
  }
 ],
 "metadata": {
  "kernelspec": {
   "display_name": "Python 3",
   "language": "python",
   "name": "python3"
  },
  "language_info": {
   "codemirror_mode": {
    "name": "ipython",
    "version": 3
   },
   "file_extension": ".py",
   "mimetype": "text/x-python",
   "name": "python",
   "nbconvert_exporter": "python",
   "pygments_lexer": "ipython3",
   "version": "3.9.5"
  },
  "widgets": {
   "application/vnd.jupyter.widget-state+json": {
    "state": {
     "011e95082a1a438080a9424da9f3430a": {
      "model_module": "nglview-js-widgets",
      "model_module_version": "3.0.1",
      "model_name": "ColormakerRegistryModel",
      "state": {
       "_msg_ar": [],
       "_msg_q": [],
       "_ready": true,
       "layout": "IPY_MODEL_f5ef04cc821f405684eb40cd7d5e7f65"
      }
     },
     "f5ef04cc821f405684eb40cd7d5e7f65": {
      "model_module": "@jupyter-widgets/base",
      "model_module_version": "1.2.0",
      "model_name": "LayoutModel",
      "state": {}
     }
    },
    "version_major": 2,
    "version_minor": 0
   }
  }
 },
 "nbformat": 4,
 "nbformat_minor": 4
}
