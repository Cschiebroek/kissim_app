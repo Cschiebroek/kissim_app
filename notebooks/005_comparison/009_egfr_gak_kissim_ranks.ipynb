{
 "cells": [
  {
   "cell_type": "markdown",
   "id": "81bbc06c-1650-4dcb-982f-0b778d120bb7",
   "metadata": {},
   "source": [
    "# Closer look at EGFR-GAK KiSSim ranks\n",
    "\n",
    "We see in `006_evaluation/004_profiling_karaman_davis` that GAK is not detected as similar kinase to EGFR although Erlotinib targets both EGFR and GAK (Karaman profiling data).\n",
    "\n",
    "Let's load again our KiSSim kinase matrix and check the ranks of GAK and EGFR when the kinases are sorted by KiSSim-similarity to EGFR and GAK, respectively."
   ]
  },
  {
   "cell_type": "code",
   "execution_count": 1,
   "id": "be217d05-84ea-4809-8f1c-599edb98b553",
   "metadata": {},
   "outputs": [],
   "source": [
    "%load_ext autoreload\n",
    "%autoreload 2"
   ]
  },
  {
   "cell_type": "code",
   "execution_count": 2,
   "id": "a989c774-d6a5-4bb7-90c2-9c24e22e93a0",
   "metadata": {},
   "outputs": [
    {
     "data": {
      "application/vnd.jupyter.widget-view+json": {
       "model_id": "1821bb49a6614e9fade1e062f10f9b7a",
       "version_major": 2,
       "version_minor": 0
      },
      "text/plain": []
     },
     "metadata": {},
     "output_type": "display_data"
    }
   ],
   "source": [
    "from src import data"
   ]
  },
  {
   "cell_type": "markdown",
   "id": "90fd217e-7e72-4b36-8401-94cd84ec4d7d",
   "metadata": {},
   "source": [
    "## KiSSim kinase matrix"
   ]
  },
  {
   "cell_type": "code",
   "execution_count": 3,
   "id": "d5395662-0cf6-4922-b1ca-ef95766d6b7a",
   "metadata": {},
   "outputs": [
    {
     "name": "stdout",
     "output_type": "stream",
     "text": [
      "Kinase distance matrix shape: (257, 257)\n"
     ]
    }
   ],
   "source": [
    "# Full dataset (reported only, not further used)\n",
    "kissim_df = data.distances.kissim(kinmap_kinases=False)\n",
    "print(f\"Kinase distance matrix shape: {kissim_df.shape}\")"
   ]
  },
  {
   "cell_type": "markdown",
   "id": "300c533b-da35-41d4-8505-3878a7c3d74a",
   "metadata": {},
   "source": [
    "In `006_evaluation/004_profiling_karaman_davis`, we only consider a subset of kinases, for which we have profiling data available. Let's get the list of those kinases so that we can consider in the following (a) all kinases and (b) only the subset of kinases."
   ]
  },
  {
   "cell_type": "code",
   "execution_count": 4,
   "id": "9dc86627-d527-439a-abc9-6ab3c38e9f93",
   "metadata": {
    "tags": []
   },
   "outputs": [
    {
     "name": "stdout",
     "output_type": "stream",
     "text": [
      "No measurements                                                                 20611\n",
      "One measurement                                                                  6296\n",
      "Two identical measurements                                                       1291\n",
      "Two measurements <= or > cutoff 100; keep lower value                              30\n",
      "One measurement <=, one > cutoff 100 but difference <= 100; keep lower value        2\n",
      "One measurement <=, one > cutoff 100 but difference > 100; remove values           10\n",
      "dtype: int64\n"
     ]
    }
   ],
   "source": [
    "profiling_df = data.profiling.karaman_davis()\n",
    "kinases_selected = profiling_df[\"Erlotinib\"].dropna().index"
   ]
  },
  {
   "cell_type": "markdown",
   "id": "43e76bdc-d1bb-4724-8625-3d95d9c7e23a",
   "metadata": {},
   "source": [
    "Let's define a small function that lists kinases ranked by their similarity to a query kinase based on KiSSim results."
   ]
  },
  {
   "cell_type": "code",
   "execution_count": 5,
   "id": "5284bebf-1017-44ae-94e7-9f020de8655e",
   "metadata": {},
   "outputs": [],
   "source": [
    "def kissim_ranks_against(kissim_df, kinase):\n",
    "    \"\"\"\n",
    "    Get KiSSim-ranked kinases for query kinase.\n",
    "    \"\"\"\n",
    "    ranks = kissim_df[kinase].sort_values().reset_index()\n",
    "    ranks.columns = [\"kinase\", f\"distance to {kinase}\"]\n",
    "    return ranks"
   ]
  },
  {
   "cell_type": "markdown",
   "id": "0756aa66-06fb-4e87-a55c-4fcc3f966f4b",
   "metadata": {},
   "source": [
    "## Kinases similar to EGFR"
   ]
  },
  {
   "cell_type": "code",
   "execution_count": 6,
   "id": "eb700fba-c9e5-4eaa-9202-d5ff3798a4e8",
   "metadata": {},
   "outputs": [
    {
     "name": "stdout",
     "output_type": "stream",
     "text": [
      "(257, 2)\n"
     ]
    },
    {
     "data": {
      "text/html": [
       "<div>\n",
       "<style scoped>\n",
       "    .dataframe tbody tr th:only-of-type {\n",
       "        vertical-align: middle;\n",
       "    }\n",
       "\n",
       "    .dataframe tbody tr th {\n",
       "        vertical-align: top;\n",
       "    }\n",
       "\n",
       "    .dataframe thead th {\n",
       "        text-align: right;\n",
       "    }\n",
       "</style>\n",
       "<table border=\"1\" class=\"dataframe\">\n",
       "  <thead>\n",
       "    <tr style=\"text-align: right;\">\n",
       "      <th></th>\n",
       "      <th>kinase</th>\n",
       "      <th>distance to EGFR</th>\n",
       "    </tr>\n",
       "  </thead>\n",
       "  <tbody>\n",
       "    <tr>\n",
       "      <th>0</th>\n",
       "      <td>EGFR</td>\n",
       "      <td>0.000000</td>\n",
       "    </tr>\n",
       "    <tr>\n",
       "      <th>1</th>\n",
       "      <td>ErbB4</td>\n",
       "      <td>0.024878</td>\n",
       "    </tr>\n",
       "    <tr>\n",
       "      <th>2</th>\n",
       "      <td>ErbB2</td>\n",
       "      <td>0.039648</td>\n",
       "    </tr>\n",
       "    <tr>\n",
       "      <th>3</th>\n",
       "      <td>ErbB3</td>\n",
       "      <td>0.046541</td>\n",
       "    </tr>\n",
       "    <tr>\n",
       "      <th>4</th>\n",
       "      <td>SYK</td>\n",
       "      <td>0.053504</td>\n",
       "    </tr>\n",
       "  </tbody>\n",
       "</table>\n",
       "</div>"
      ],
      "text/plain": [
       "  kinase  distance to EGFR\n",
       "0   EGFR          0.000000\n",
       "1  ErbB4          0.024878\n",
       "2  ErbB2          0.039648\n",
       "3  ErbB3          0.046541\n",
       "4    SYK          0.053504"
      ]
     },
     "execution_count": 6,
     "metadata": {},
     "output_type": "execute_result"
    }
   ],
   "source": [
    "kissim_ranks_egfr = kissim_ranks_against(kissim_df, \"EGFR\")\n",
    "print(kissim_ranks_egfr.shape)\n",
    "kissim_ranks_egfr.head()"
   ]
  },
  {
   "cell_type": "code",
   "execution_count": 7,
   "id": "1b0c47f8-720b-4377-af3e-a05deba92cc7",
   "metadata": {},
   "outputs": [
    {
     "data": {
      "text/html": [
       "<div>\n",
       "<style scoped>\n",
       "    .dataframe tbody tr th:only-of-type {\n",
       "        vertical-align: middle;\n",
       "    }\n",
       "\n",
       "    .dataframe tbody tr th {\n",
       "        vertical-align: top;\n",
       "    }\n",
       "\n",
       "    .dataframe thead th {\n",
       "        text-align: right;\n",
       "    }\n",
       "</style>\n",
       "<table border=\"1\" class=\"dataframe\">\n",
       "  <thead>\n",
       "    <tr style=\"text-align: right;\">\n",
       "      <th></th>\n",
       "      <th>kinase</th>\n",
       "      <th>distance to EGFR</th>\n",
       "    </tr>\n",
       "  </thead>\n",
       "  <tbody>\n",
       "    <tr>\n",
       "      <th>182</th>\n",
       "      <td>GAK</td>\n",
       "      <td>0.103189</td>\n",
       "    </tr>\n",
       "  </tbody>\n",
       "</table>\n",
       "</div>"
      ],
      "text/plain": [
       "    kinase  distance to EGFR\n",
       "182    GAK          0.103189"
      ]
     },
     "execution_count": 7,
     "metadata": {},
     "output_type": "execute_result"
    }
   ],
   "source": [
    "kissim_ranks_egfr[kissim_ranks_egfr[\"kinase\"] == \"GAK\"]"
   ]
  },
  {
   "cell_type": "markdown",
   "id": "93b224b1-bddb-4c44-b30c-9c7f03ed34c3",
   "metadata": {},
   "source": [
    "GAK is placed on the lower half of KiSSim-ranks sorted by similarity to EGFR."
   ]
  },
  {
   "cell_type": "markdown",
   "id": "35ab0522-cf8c-4bb7-9358-fa90f8860d99",
   "metadata": {},
   "source": [
    "### Subset (kinases with Erlotinib-profiling data)"
   ]
  },
  {
   "cell_type": "code",
   "execution_count": 8,
   "id": "f689a909-d02e-41d5-9ae6-1d06a20cdcca",
   "metadata": {},
   "outputs": [
    {
     "name": "stdout",
     "output_type": "stream",
     "text": [
      "(50, 2)\n"
     ]
    },
    {
     "data": {
      "text/html": [
       "<div>\n",
       "<style scoped>\n",
       "    .dataframe tbody tr th:only-of-type {\n",
       "        vertical-align: middle;\n",
       "    }\n",
       "\n",
       "    .dataframe tbody tr th {\n",
       "        vertical-align: top;\n",
       "    }\n",
       "\n",
       "    .dataframe thead th {\n",
       "        text-align: right;\n",
       "    }\n",
       "</style>\n",
       "<table border=\"1\" class=\"dataframe\">\n",
       "  <thead>\n",
       "    <tr style=\"text-align: right;\">\n",
       "      <th></th>\n",
       "      <th>kinase</th>\n",
       "      <th>distance to EGFR</th>\n",
       "    </tr>\n",
       "  </thead>\n",
       "  <tbody>\n",
       "    <tr>\n",
       "      <th>43</th>\n",
       "      <td>GAK</td>\n",
       "      <td>0.103189</td>\n",
       "    </tr>\n",
       "  </tbody>\n",
       "</table>\n",
       "</div>"
      ],
      "text/plain": [
       "   kinase  distance to EGFR\n",
       "43    GAK          0.103189"
      ]
     },
     "execution_count": 8,
     "metadata": {},
     "output_type": "execute_result"
    }
   ],
   "source": [
    "kissim_ranks_egfr_selected = kissim_ranks_egfr[\n",
    "    kissim_ranks_egfr[\"kinase\"].isin(kinases_selected)\n",
    "].reset_index(drop=True)\n",
    "print(kissim_ranks_egfr_selected.shape)\n",
    "kissim_ranks_egfr_selected[kissim_ranks_egfr_selected[\"kinase\"] == \"GAK\"]"
   ]
  },
  {
   "cell_type": "markdown",
   "id": "b68c25ca-d8b0-4186-ba58-0d6860abdba0",
   "metadata": {
    "tags": []
   },
   "source": [
    "## Kinases similar to GAK"
   ]
  },
  {
   "cell_type": "code",
   "execution_count": 9,
   "id": "c176c93b-0585-427f-a87e-0b8b1950d4d9",
   "metadata": {},
   "outputs": [
    {
     "name": "stdout",
     "output_type": "stream",
     "text": [
      "(257, 2)\n"
     ]
    },
    {
     "data": {
      "text/html": [
       "<div>\n",
       "<style scoped>\n",
       "    .dataframe tbody tr th:only-of-type {\n",
       "        vertical-align: middle;\n",
       "    }\n",
       "\n",
       "    .dataframe tbody tr th {\n",
       "        vertical-align: top;\n",
       "    }\n",
       "\n",
       "    .dataframe thead th {\n",
       "        text-align: right;\n",
       "    }\n",
       "</style>\n",
       "<table border=\"1\" class=\"dataframe\">\n",
       "  <thead>\n",
       "    <tr style=\"text-align: right;\">\n",
       "      <th></th>\n",
       "      <th>kinase</th>\n",
       "      <th>distance to GAK</th>\n",
       "    </tr>\n",
       "  </thead>\n",
       "  <tbody>\n",
       "    <tr>\n",
       "      <th>0</th>\n",
       "      <td>GAK</td>\n",
       "      <td>0.000000</td>\n",
       "    </tr>\n",
       "    <tr>\n",
       "      <th>1</th>\n",
       "      <td>BIKE</td>\n",
       "      <td>0.062587</td>\n",
       "    </tr>\n",
       "    <tr>\n",
       "      <th>2</th>\n",
       "      <td>AAK1</td>\n",
       "      <td>0.063517</td>\n",
       "    </tr>\n",
       "    <tr>\n",
       "      <th>3</th>\n",
       "      <td>DCLK1</td>\n",
       "      <td>0.081385</td>\n",
       "    </tr>\n",
       "    <tr>\n",
       "      <th>4</th>\n",
       "      <td>MSK1-b</td>\n",
       "      <td>0.085052</td>\n",
       "    </tr>\n",
       "  </tbody>\n",
       "</table>\n",
       "</div>"
      ],
      "text/plain": [
       "   kinase  distance to GAK\n",
       "0     GAK         0.000000\n",
       "1    BIKE         0.062587\n",
       "2    AAK1         0.063517\n",
       "3   DCLK1         0.081385\n",
       "4  MSK1-b         0.085052"
      ]
     },
     "execution_count": 9,
     "metadata": {},
     "output_type": "execute_result"
    }
   ],
   "source": [
    "kissim_ranks_gak = kissim_ranks_against(kissim_df, \"GAK\")\n",
    "print(kissim_ranks_gak.shape)\n",
    "kissim_ranks_gak.head()"
   ]
  },
  {
   "cell_type": "code",
   "execution_count": 10,
   "id": "f40dbcf3-aa4f-412e-b648-2e37dd6a15e8",
   "metadata": {},
   "outputs": [
    {
     "data": {
      "text/html": [
       "<div>\n",
       "<style scoped>\n",
       "    .dataframe tbody tr th:only-of-type {\n",
       "        vertical-align: middle;\n",
       "    }\n",
       "\n",
       "    .dataframe tbody tr th {\n",
       "        vertical-align: top;\n",
       "    }\n",
       "\n",
       "    .dataframe thead th {\n",
       "        text-align: right;\n",
       "    }\n",
       "</style>\n",
       "<table border=\"1\" class=\"dataframe\">\n",
       "  <thead>\n",
       "    <tr style=\"text-align: right;\">\n",
       "      <th></th>\n",
       "      <th>kinase</th>\n",
       "      <th>distance to GAK</th>\n",
       "    </tr>\n",
       "  </thead>\n",
       "  <tbody>\n",
       "    <tr>\n",
       "      <th>102</th>\n",
       "      <td>EGFR</td>\n",
       "      <td>0.103189</td>\n",
       "    </tr>\n",
       "  </tbody>\n",
       "</table>\n",
       "</div>"
      ],
      "text/plain": [
       "    kinase  distance to GAK\n",
       "102   EGFR         0.103189"
      ]
     },
     "execution_count": 10,
     "metadata": {},
     "output_type": "execute_result"
    }
   ],
   "source": [
    "kissim_ranks_gak[kissim_ranks_gak[\"kinase\"] == \"EGFR\"]"
   ]
  },
  {
   "cell_type": "markdown",
   "id": "7e60bb97-13e4-40d1-ae46-b6816ac2f670",
   "metadata": {},
   "source": [
    "When we turn the query around, EGFR is placed a bit better w.r.t. to GAK, however, still only on rank ~100/250."
   ]
  },
  {
   "cell_type": "markdown",
   "id": "5140525f-1e70-4e99-baa5-83302969d249",
   "metadata": {},
   "source": [
    "### Subset (kinases with Erlotinib-profiling data)"
   ]
  },
  {
   "cell_type": "code",
   "execution_count": 11,
   "id": "493ce997-00b4-403b-ae77-661986efb1be",
   "metadata": {},
   "outputs": [
    {
     "name": "stdout",
     "output_type": "stream",
     "text": [
      "(50, 2)\n"
     ]
    },
    {
     "data": {
      "text/html": [
       "<div>\n",
       "<style scoped>\n",
       "    .dataframe tbody tr th:only-of-type {\n",
       "        vertical-align: middle;\n",
       "    }\n",
       "\n",
       "    .dataframe tbody tr th {\n",
       "        vertical-align: top;\n",
       "    }\n",
       "\n",
       "    .dataframe thead th {\n",
       "        text-align: right;\n",
       "    }\n",
       "</style>\n",
       "<table border=\"1\" class=\"dataframe\">\n",
       "  <thead>\n",
       "    <tr style=\"text-align: right;\">\n",
       "      <th></th>\n",
       "      <th>kinase</th>\n",
       "      <th>distance to GAK</th>\n",
       "    </tr>\n",
       "  </thead>\n",
       "  <tbody>\n",
       "    <tr>\n",
       "      <th>25</th>\n",
       "      <td>EGFR</td>\n",
       "      <td>0.103189</td>\n",
       "    </tr>\n",
       "  </tbody>\n",
       "</table>\n",
       "</div>"
      ],
      "text/plain": [
       "   kinase  distance to GAK\n",
       "25   EGFR         0.103189"
      ]
     },
     "execution_count": 11,
     "metadata": {},
     "output_type": "execute_result"
    }
   ],
   "source": [
    "kissim_ranks_gak_selected = kissim_ranks_gak[\n",
    "    kissim_ranks_gak[\"kinase\"].isin(kinases_selected)\n",
    "].reset_index(drop=True)\n",
    "print(kissim_ranks_gak_selected.shape)\n",
    "kissim_ranks_gak_selected[kissim_ranks_gak_selected[\"kinase\"] == \"EGFR\"]"
   ]
  }
 ],
 "metadata": {
  "kernelspec": {
   "display_name": "Python 3 (ipykernel)",
   "language": "python",
   "name": "python3"
  },
  "language_info": {
   "codemirror_mode": {
    "name": "ipython",
    "version": 3
   },
   "file_extension": ".py",
   "mimetype": "text/x-python",
   "name": "python",
   "nbconvert_exporter": "python",
   "pygments_lexer": "ipython3",
   "version": "3.9.7"
  }
 },
 "nbformat": 4,
 "nbformat_minor": 5
}
