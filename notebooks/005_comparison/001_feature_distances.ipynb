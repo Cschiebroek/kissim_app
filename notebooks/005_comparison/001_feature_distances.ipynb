{
 "cells": [
  {
   "cell_type": "markdown",
   "metadata": {},
   "source": [
    "# Feature distances\n",
    "\n",
    "We check the per-feature distributions (e.g. size distances or hinge region distances) based on all pairwise fingerprint feature distances. Which features show the most/fewest variations?"
   ]
  },
  {
   "cell_type": "code",
   "execution_count": 1,
   "metadata": {},
   "outputs": [
    {
     "data": {
      "application/vnd.jupyter.widget-view+json": {
       "model_id": "f29aed18d44749329bbb17657f2f3da2",
       "version_major": 2,
       "version_minor": 0
      },
      "text/plain": []
     },
     "metadata": {},
     "output_type": "display_data"
    }
   ],
   "source": [
    "from pathlib import Path\n",
    "\n",
    "import pandas as pd\n",
    "import matplotlib.pyplot as plt\n",
    "from kissim.comparison import FeatureDistancesGenerator"
   ]
  },
  {
   "cell_type": "code",
   "execution_count": 2,
   "metadata": {},
   "outputs": [],
   "source": [
    "HERE = Path(_dh[-1])  # noqa: F821\n",
    "RESULTS = HERE / \"../../results\""
   ]
  },
  {
   "cell_type": "code",
   "execution_count": 3,
   "metadata": {},
   "outputs": [],
   "source": [
    "plt.style.use(\"seaborn\")"
   ]
  },
  {
   "cell_type": "code",
   "execution_count": 4,
   "metadata": {},
   "outputs": [],
   "source": [
    "def plot_feature_distances(dfg_conformation, results_path=RESULTS):\n",
    "    # Load feature distances\n",
    "    feature_distances_generator = FeatureDistancesGenerator.from_csv(\n",
    "        results_path / f\"{dfg_conformation}/feature_distances.csv\"\n",
    "    )\n",
    "    print(\"Number of distances:\", len(feature_distances_generator.data))\n",
    "    columns = [f\"d{i}\" for i in range(1, len(feature_distances_generator.distances[0]) + 1)]\n",
    "    distances = pd.DataFrame(feature_distances_generator.distances, columns=columns)\n",
    "\n",
    "    # Feature distribution\n",
    "    distances.plot(kind=\"box\", whis=[1, 99])"
   ]
  },
  {
   "cell_type": "raw",
   "metadata": {},
   "source": [
    "plot_feature_distances(\"all\")"
   ]
  },
  {
   "cell_type": "code",
   "execution_count": 5,
   "metadata": {},
   "outputs": [
    {
     "name": "stdout",
     "output_type": "stream",
     "text": [
      "Number of distances: 8219485\n"
     ]
    },
    {
     "data": {
      "image/png": "[encoded data removed]",
      "text/plain": [
       "<Figure size 576x396 with 1 Axes>"
      ]
     },
     "metadata": {},
     "output_type": "display_data"
    }
   ],
   "source": [
    "plot_feature_distances(\"dfg_in\")"
   ]
  },
  {
   "cell_type": "code",
   "execution_count": 6,
   "metadata": {},
   "outputs": [
    {
     "name": "stdout",
     "output_type": "stream",
     "text": [
      "Number of distances: 81810\n"
     ]
    },
    {
     "data": {
      "image/png": "[encoded data removed]",
      "text/plain": [
       "<Figure size 576x396 with 1 Axes>"
      ]
     },
     "metadata": {},
     "output_type": "display_data"
    }
   ],
   "source": [
    "plot_feature_distances(\"dfg_out\")"
   ]
  },
  {
   "cell_type": "code",
   "execution_count": 7,
   "metadata": {},
   "outputs": [
    {
     "name": "stdout",
     "output_type": "stream",
     "text": [
      "Number of distances: 8219485\n"
     ]
    }
   ],
   "source": [
    "feature_distances_generator = FeatureDistancesGenerator.from_csv(\n",
    "    RESULTS / \"dfg_in/feature_distances.csv\"\n",
    ")\n",
    "print(\"Number of distances:\", len(feature_distances_generator.data))\n",
    "columns = [f\"d{i}\" for i in range(1, len(feature_distances_generator.distances[0]) + 1)]\n",
    "distances = pd.DataFrame(feature_distances_generator.distances, columns=columns)"
   ]
  },
  {
   "cell_type": "code",
   "execution_count": 8,
   "metadata": {},
   "outputs": [
    {
     "data": {
      "text/html": [
       "<div>\n",
       "<style scoped>\n",
       "    .dataframe tbody tr th:only-of-type {\n",
       "        vertical-align: middle;\n",
       "    }\n",
       "\n",
       "    .dataframe tbody tr th {\n",
       "        vertical-align: top;\n",
       "    }\n",
       "\n",
       "    .dataframe thead th {\n",
       "        text-align: right;\n",
       "    }\n",
       "</style>\n",
       "<table border=\"1\" class=\"dataframe\">\n",
       "  <thead>\n",
       "    <tr style=\"text-align: right;\">\n",
       "      <th></th>\n",
       "      <th>d1</th>\n",
       "      <th>d2</th>\n",
       "      <th>d3</th>\n",
       "      <th>d4</th>\n",
       "      <th>d5</th>\n",
       "      <th>d6</th>\n",
       "      <th>d7</th>\n",
       "      <th>d8</th>\n",
       "      <th>d9</th>\n",
       "      <th>d10</th>\n",
       "      <th>d11</th>\n",
       "      <th>d12</th>\n",
       "      <th>d13</th>\n",
       "      <th>d14</th>\n",
       "      <th>d15</th>\n",
       "    </tr>\n",
       "  </thead>\n",
       "  <tbody>\n",
       "    <tr>\n",
       "      <th>count</th>\n",
       "      <td>8.219485e+06</td>\n",
       "      <td>8.219485e+06</td>\n",
       "      <td>8.219485e+06</td>\n",
       "      <td>8.219485e+06</td>\n",
       "      <td>8.219485e+06</td>\n",
       "      <td>8.219485e+06</td>\n",
       "      <td>8.219485e+06</td>\n",
       "      <td>8.219485e+06</td>\n",
       "      <td>8.219485e+06</td>\n",
       "      <td>8.094276e+06</td>\n",
       "      <td>8.219485e+06</td>\n",
       "      <td>8.219485e+06</td>\n",
       "      <td>8.219485e+06</td>\n",
       "      <td>8.219485e+06</td>\n",
       "      <td>8.219485e+06</td>\n",
       "    </tr>\n",
       "    <tr>\n",
       "      <th>mean</th>\n",
       "      <td>2.168730e-01</td>\n",
       "      <td>1.354547e-01</td>\n",
       "      <td>1.760413e-01</td>\n",
       "      <td>1.168846e-01</td>\n",
       "      <td>1.247766e-01</td>\n",
       "      <td>2.227718e-01</td>\n",
       "      <td>1.406418e-01</td>\n",
       "      <td>2.286759e-01</td>\n",
       "      <td>1.563212e-02</td>\n",
       "      <td>1.576676e-02</td>\n",
       "      <td>1.615822e-02</td>\n",
       "      <td>1.664677e-02</td>\n",
       "      <td>7.400177e-02</td>\n",
       "      <td>6.654928e-02</td>\n",
       "      <td>6.435938e-02</td>\n",
       "    </tr>\n",
       "    <tr>\n",
       "      <th>std</th>\n",
       "      <td>5.773153e-02</td>\n",
       "      <td>3.591351e-02</td>\n",
       "      <td>4.337663e-02</td>\n",
       "      <td>3.007106e-02</td>\n",
       "      <td>4.452676e-02</td>\n",
       "      <td>7.886993e-02</td>\n",
       "      <td>4.313964e-02</td>\n",
       "      <td>5.084053e-02</td>\n",
       "      <td>5.743711e-03</td>\n",
       "      <td>5.431877e-03</td>\n",
       "      <td>5.631473e-03</td>\n",
       "      <td>5.621114e-03</td>\n",
       "      <td>4.143537e-02</td>\n",
       "      <td>3.594922e-02</td>\n",
       "      <td>4.657819e-02</td>\n",
       "    </tr>\n",
       "    <tr>\n",
       "      <th>min</th>\n",
       "      <td>0.000000e+00</td>\n",
       "      <td>0.000000e+00</td>\n",
       "      <td>0.000000e+00</td>\n",
       "      <td>0.000000e+00</td>\n",
       "      <td>0.000000e+00</td>\n",
       "      <td>0.000000e+00</td>\n",
       "      <td>0.000000e+00</td>\n",
       "      <td>0.000000e+00</td>\n",
       "      <td>0.000000e+00</td>\n",
       "      <td>0.000000e+00</td>\n",
       "      <td>0.000000e+00</td>\n",
       "      <td>0.000000e+00</td>\n",
       "      <td>0.000000e+00</td>\n",
       "      <td>0.000000e+00</td>\n",
       "      <td>0.000000e+00</td>\n",
       "    </tr>\n",
       "    <tr>\n",
       "      <th>25%</th>\n",
       "      <td>1.890244e-01</td>\n",
       "      <td>1.193416e-01</td>\n",
       "      <td>1.566265e-01</td>\n",
       "      <td>1.011905e-01</td>\n",
       "      <td>9.638554e-02</td>\n",
       "      <td>1.785714e-01</td>\n",
       "      <td>1.133333e-01</td>\n",
       "      <td>1.951220e-01</td>\n",
       "      <td>1.227545e-02</td>\n",
       "      <td>1.174525e-02</td>\n",
       "      <td>1.259972e-02</td>\n",
       "      <td>1.303073e-02</td>\n",
       "      <td>4.367760e-02</td>\n",
       "      <td>4.111890e-02</td>\n",
       "      <td>3.245589e-02</td>\n",
       "    </tr>\n",
       "    <tr>\n",
       "      <th>50%</th>\n",
       "      <td>2.202381e-01</td>\n",
       "      <td>1.382114e-01</td>\n",
       "      <td>1.785714e-01</td>\n",
       "      <td>1.204819e-01</td>\n",
       "      <td>1.204819e-01</td>\n",
       "      <td>2.142857e-01</td>\n",
       "      <td>1.363636e-01</td>\n",
       "      <td>2.283951e-01</td>\n",
       "      <td>1.452490e-02</td>\n",
       "      <td>1.519432e-02</td>\n",
       "      <td>1.528220e-02</td>\n",
       "      <td>1.592139e-02</td>\n",
       "      <td>6.627360e-02</td>\n",
       "      <td>6.042290e-02</td>\n",
       "      <td>4.858717e-02</td>\n",
       "    </tr>\n",
       "    <tr>\n",
       "      <th>75%</th>\n",
       "      <td>2.500000e-01</td>\n",
       "      <td>1.547619e-01</td>\n",
       "      <td>2.023810e-01</td>\n",
       "      <td>1.352941e-01</td>\n",
       "      <td>1.547619e-01</td>\n",
       "      <td>2.588235e-01</td>\n",
       "      <td>1.621622e-01</td>\n",
       "      <td>2.621951e-01</td>\n",
       "      <td>1.724012e-02</td>\n",
       "      <td>1.944359e-02</td>\n",
       "      <td>1.838449e-02</td>\n",
       "      <td>1.912428e-02</td>\n",
       "      <td>9.582725e-02</td>\n",
       "      <td>8.498806e-02</td>\n",
       "      <td>7.845011e-02</td>\n",
       "    </tr>\n",
       "    <tr>\n",
       "      <th>max</th>\n",
       "      <td>4.382716e-01</td>\n",
       "      <td>2.727273e-01</td>\n",
       "      <td>3.928571e-01</td>\n",
       "      <td>2.261905e-01</td>\n",
       "      <td>3.373494e-01</td>\n",
       "      <td>5.952381e-01</td>\n",
       "      <td>4.453125e-01</td>\n",
       "      <td>5.357143e-01</td>\n",
       "      <td>5.134929e-02</td>\n",
       "      <td>5.646922e-02</td>\n",
       "      <td>4.943257e-02</td>\n",
       "      <td>4.702890e-02</td>\n",
       "      <td>4.665399e-01</td>\n",
       "      <td>4.587400e-01</td>\n",
       "      <td>3.779135e-01</td>\n",
       "    </tr>\n",
       "  </tbody>\n",
       "</table>\n",
       "</div>"
      ],
      "text/plain": [
       "                 d1            d2            d3            d4            d5  \\\n",
       "count  8.219485e+06  8.219485e+06  8.219485e+06  8.219485e+06  8.219485e+06   \n",
       "mean   2.168730e-01  1.354547e-01  1.760413e-01  1.168846e-01  1.247766e-01   \n",
       "std    5.773153e-02  3.591351e-02  4.337663e-02  3.007106e-02  4.452676e-02   \n",
       "min    0.000000e+00  0.000000e+00  0.000000e+00  0.000000e+00  0.000000e+00   \n",
       "25%    1.890244e-01  1.193416e-01  1.566265e-01  1.011905e-01  9.638554e-02   \n",
       "50%    2.202381e-01  1.382114e-01  1.785714e-01  1.204819e-01  1.204819e-01   \n",
       "75%    2.500000e-01  1.547619e-01  2.023810e-01  1.352941e-01  1.547619e-01   \n",
       "max    4.382716e-01  2.727273e-01  3.928571e-01  2.261905e-01  3.373494e-01   \n",
       "\n",
       "                 d6            d7            d8            d9           d10  \\\n",
       "count  8.219485e+06  8.219485e+06  8.219485e+06  8.219485e+06  8.094276e+06   \n",
       "mean   2.227718e-01  1.406418e-01  2.286759e-01  1.563212e-02  1.576676e-02   \n",
       "std    7.886993e-02  4.313964e-02  5.084053e-02  5.743711e-03  5.431877e-03   \n",
       "min    0.000000e+00  0.000000e+00  0.000000e+00  0.000000e+00  0.000000e+00   \n",
       "25%    1.785714e-01  1.133333e-01  1.951220e-01  1.227545e-02  1.174525e-02   \n",
       "50%    2.142857e-01  1.363636e-01  2.283951e-01  1.452490e-02  1.519432e-02   \n",
       "75%    2.588235e-01  1.621622e-01  2.621951e-01  1.724012e-02  1.944359e-02   \n",
       "max    5.952381e-01  4.453125e-01  5.357143e-01  5.134929e-02  5.646922e-02   \n",
       "\n",
       "                d11           d12           d13           d14           d15  \n",
       "count  8.219485e+06  8.219485e+06  8.219485e+06  8.219485e+06  8.219485e+06  \n",
       "mean   1.615822e-02  1.664677e-02  7.400177e-02  6.654928e-02  6.435938e-02  \n",
       "std    5.631473e-03  5.621114e-03  4.143537e-02  3.594922e-02  4.657819e-02  \n",
       "min    0.000000e+00  0.000000e+00  0.000000e+00  0.000000e+00  0.000000e+00  \n",
       "25%    1.259972e-02  1.303073e-02  4.367760e-02  4.111890e-02  3.245589e-02  \n",
       "50%    1.528220e-02  1.592139e-02  6.627360e-02  6.042290e-02  4.858717e-02  \n",
       "75%    1.838449e-02  1.912428e-02  9.582725e-02  8.498806e-02  7.845011e-02  \n",
       "max    4.943257e-02  4.702890e-02  4.665399e-01  4.587400e-01  3.779135e-01  "
      ]
     },
     "execution_count": 8,
     "metadata": {},
     "output_type": "execute_result"
    }
   ],
   "source": [
    "distances.describe()"
   ]
  }
 ],
 "metadata": {
  "kernelspec": {
   "display_name": "Python 3",
   "language": "python",
   "name": "python3"
  },
  "language_info": {
   "codemirror_mode": {
    "name": "ipython",
    "version": 3
   },
   "file_extension": ".py",
   "mimetype": "text/x-python",
   "name": "python",
   "nbconvert_exporter": "python",
   "pygments_lexer": "ipython3",
   "version": "3.9.5"
  },
  "widgets": {
   "application/vnd.jupyter.widget-state+json": {
    "state": {},
    "version_major": 2,
    "version_minor": 0
   }
  }
 },
 "nbformat": 4,
 "nbformat_minor": 4
}
