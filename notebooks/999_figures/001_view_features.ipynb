{
 "cells": [
  {
   "cell_type": "markdown",
   "id": "921f4e33-5a94-440f-865b-3c912bd788b7",
   "metadata": {},
   "source": [
    "# NGLview-based `kissim` figures\n",
    "\n",
    "We collect all NGL-view based `kissim` figures here; applies mostly to the visualization of certain fingerprint features such as the subpockets centers and side chain orientation feature."
   ]
  },
  {
   "cell_type": "code",
   "execution_count": 1,
   "id": "b13c7c3d-53ce-4085-bd38-fbebae43fc94",
   "metadata": {
    "execution": {
     "iopub.execute_input": "2021-09-16T19:50:37.714352Z",
     "iopub.status.busy": "2021-09-16T19:50:37.714025Z",
     "iopub.status.idle": "2021-09-16T19:50:37.721940Z",
     "shell.execute_reply": "2021-09-16T19:50:37.721648Z"
    }
   },
   "outputs": [],
   "source": [
    "%load_ext autoreload\n",
    "%autoreload 2"
   ]
  },
  {
   "cell_type": "markdown",
   "id": "35276e0e-ebfb-4edd-8d36-210f03e226a1",
   "metadata": {},
   "source": [
    "## Side chain orientation\n",
    "\n",
    "- Example KLIFS structure: https://klifs.net/details.php?structure_id=783\n",
    "- Use DFG-Phe to demonstrate side chain orientation: KLIFS numbering 82"
   ]
  },
  {
   "cell_type": "code",
   "execution_count": 2,
   "id": "1788d88a-e533-448e-868f-edf1992b9ccf",
   "metadata": {
    "execution": {
     "iopub.execute_input": "2021-09-16T19:50:37.724238Z",
     "iopub.status.busy": "2021-09-16T19:50:37.723794Z",
     "iopub.status.idle": "2021-09-16T19:50:37.732393Z",
     "shell.execute_reply": "2021-09-16T19:50:37.732864Z"
    }
   },
   "outputs": [],
   "source": [
    "STRUCTURE_KLIFS_ID = 783\n",
    "RESIDUE_KLIFS_ID = 82\n",
    "RESIDUE_NAME = \"PHE\""
   ]
  },
  {
   "cell_type": "code",
   "execution_count": 3,
   "id": "ff754c01-14e1-4ccd-b9c4-9fc70e10e43c",
   "metadata": {
    "execution": {
     "iopub.execute_input": "2021-09-16T19:50:37.736787Z",
     "iopub.status.busy": "2021-09-16T19:50:37.736462Z",
     "iopub.status.idle": "2021-09-16T19:50:38.659590Z",
     "shell.execute_reply": "2021-09-16T19:50:38.659201Z"
    }
   },
   "outputs": [
    {
     "name": "stdout",
     "output_type": "stream",
     "text": [
      "PDB residue number: 856\n"
     ]
    }
   ],
   "source": [
    "from opencadd.databases.klifs import setup_remote\n",
    "\n",
    "klifs_session = setup_remote()\n",
    "pocket = klifs_session.pockets.by_structure_klifs_id(STRUCTURE_KLIFS_ID)\n",
    "residue_id = pocket[pocket[\"residue.klifs_id\"] == RESIDUE_KLIFS_ID][\"residue.id\"].squeeze()\n",
    "print(f\"PDB residue number: {residue_id}\")"
   ]
  },
  {
   "cell_type": "code",
   "execution_count": 4,
   "id": "64cc688c-aeb6-4b92-a22f-b0121515515d",
   "metadata": {
    "execution": {
     "iopub.execute_input": "2021-09-16T19:50:38.664006Z",
     "iopub.status.busy": "2021-09-16T19:50:38.663625Z",
     "iopub.status.idle": "2021-09-16T19:50:39.140110Z",
     "shell.execute_reply": "2021-09-16T19:50:39.139839Z"
    }
   },
   "outputs": [
    {
     "data": {
      "application/vnd.jupyter.widget-view+json": {
       "model_id": "099b89d8d93d497e9e4cea1752930803",
       "version_major": 2,
       "version_minor": 0
      },
      "text/plain": []
     },
     "metadata": {},
     "output_type": "display_data"
    }
   ],
   "source": [
    "from opencadd.structure.pocket import PocketKlifs\n",
    "from kissim.definitions import SIDE_CHAIN_REPRESENTATIVE\n",
    "\n",
    "# Pocket\n",
    "pocket = PocketKlifs.from_structure_klifs_id(783)\n",
    "\n",
    "# Pocket center\n",
    "pocket_center = pocket.center.tolist()\n",
    "# Side chain representative\n",
    "sc_representative_name = SIDE_CHAIN_REPRESENTATIVE[RESIDUE_NAME]\n",
    "sc_representative = pocket.data[\n",
    "    (pocket.data[\"residue.id\"] == int(residue_id))\n",
    "    & (pocket.data[\"atom.name\"] == sc_representative_name)\n",
    "]\n",
    "sc_representative = sc_representative[[\"atom.x\", \"atom.y\", \"atom.z\"]].squeeze().to_list()\n",
    "# CA atoms\n",
    "ca_atom = pocket.data[(pocket.data[\"residue.id\"] == 856) & (pocket.data[\"atom.name\"] == \"CA\")]\n",
    "ca_atom = ca_atom[[\"atom.x\", \"atom.y\", \"atom.z\"]].squeeze().to_list()"
   ]
  },
  {
   "cell_type": "code",
   "execution_count": 5,
   "id": "9f32d516-4ace-4fa0-a3b0-7b672fcbd6c7",
   "metadata": {
    "execution": {
     "iopub.execute_input": "2021-09-16T19:50:39.143358Z",
     "iopub.status.busy": "2021-09-16T19:50:39.143044Z",
     "iopub.status.idle": "2021-09-16T19:50:39.315372Z",
     "shell.execute_reply": "2021-09-16T19:50:39.314849Z"
    }
   },
   "outputs": [
    {
     "data": {
      "application/vnd.jupyter.widget-view+json": {
       "model_id": "cb76df58e2cd41a9a7fdf9936be8ae97",
       "version_major": 2,
       "version_minor": 0
      },
      "text/plain": [
       "ThemeManager()"
      ]
     },
     "metadata": {},
     "output_type": "display_data"
    },
    {
     "data": {
      "application/vnd.jupyter.widget-view+json": {
       "model_id": "8861648eef084c6084d2668192af78f8",
       "version_major": 2,
       "version_minor": 0
      },
      "text/plain": [
       "NGLWidget(gui_style='ngl')"
      ]
     },
     "metadata": {},
     "output_type": "display_data"
    }
   ],
   "source": [
    "from opencadd.structure.pocket import PocketViewer\n",
    "\n",
    "v = PocketViewer()\n",
    "v.add_pocket(pocket)\n",
    "view = v.viewer\n",
    "view.add_representation(\"licorice\", selection=\"856\")\n",
    "view.add_representation(\"cartoon\", selection=\"854-858\", opacity=1.0)\n",
    "view.shape.add_sphere(pocket_center, [0.6, 0, 0], 0.5)\n",
    "view.shape.add_sphere(sc_representative, [0.39, 0.58, 0.93], 0.5)\n",
    "view.shape.add_sphere(ca_atom, [0.0, 0.6, 0.0], 0.5)\n",
    "view.display(gui=True)"
   ]
  },
  {
   "cell_type": "code",
   "execution_count": 6,
   "id": "3c551024-f3f6-4e73-bb36-cad524fd4ff7",
   "metadata": {
    "execution": {
     "iopub.execute_input": "2021-09-16T19:50:39.318914Z",
     "iopub.status.busy": "2021-09-16T19:50:39.318458Z",
     "iopub.status.idle": "2021-09-16T19:50:39.329584Z",
     "shell.execute_reply": "2021-09-16T19:50:39.329226Z"
    }
   },
   "outputs": [],
   "source": [
    "view.download_image(\"sco.png\", factor=4, transparent=True, trim=True)"
   ]
  },
  {
   "cell_type": "markdown",
   "id": "c55c0d50-65de-49a0-97ce-0087b1cd2f37",
   "metadata": {},
   "source": [
    "## Subpocket centers"
   ]
  },
  {
   "cell_type": "code",
   "execution_count": 7,
   "id": "c1135dbe-3edf-4ecc-96a8-3a51c63327fc",
   "metadata": {
    "execution": {
     "iopub.execute_input": "2021-09-16T19:50:39.331861Z",
     "iopub.status.busy": "2021-09-16T19:50:39.331549Z",
     "iopub.status.idle": "2021-09-16T19:50:39.663941Z",
     "shell.execute_reply": "2021-09-16T19:50:39.663644Z"
    }
   },
   "outputs": [],
   "source": [
    "from kissim.definitions import SUBPOCKETS\n",
    "from opencadd.structure.pocket import PocketKlifs\n",
    "\n",
    "pocket = PocketKlifs.from_structure_klifs_id(STRUCTURE_KLIFS_ID, SUBPOCKETS)"
   ]
  },
  {
   "cell_type": "code",
   "execution_count": 8,
   "id": "cd3f96ff-1972-4905-808f-a47fa516fdac",
   "metadata": {
    "execution": {
     "iopub.execute_input": "2021-09-16T19:50:39.666578Z",
     "iopub.status.busy": "2021-09-16T19:50:39.666194Z",
     "iopub.status.idle": "2021-09-16T19:50:39.862822Z",
     "shell.execute_reply": "2021-09-16T19:50:39.863087Z"
    }
   },
   "outputs": [
    {
     "data": {
      "application/vnd.jupyter.widget-view+json": {
       "model_id": "606161b57c384988bbf0fd6e7773557a",
       "version_major": 2,
       "version_minor": 0
      },
      "text/plain": [
       "NGLWidget(gui_style='ngl')"
      ]
     },
     "metadata": {},
     "output_type": "display_data"
    }
   ],
   "source": [
    "from opencadd.structure.pocket import PocketViewer\n",
    "\n",
    "v = PocketViewer()\n",
    "v.add_pocket(pocket, show_regions=False, sphere_opacity=0.9)\n",
    "view = v.viewer\n",
    "view.display(gui=True)"
   ]
  },
  {
   "cell_type": "code",
   "execution_count": 9,
   "id": "bd6f24e7-e1fa-4bd1-8c5b-64d8adbd5b72",
   "metadata": {
    "execution": {
     "iopub.execute_input": "2021-09-16T19:50:39.865447Z",
     "iopub.status.busy": "2021-09-16T19:50:39.865145Z",
     "iopub.status.idle": "2021-09-16T19:50:39.873886Z",
     "shell.execute_reply": "2021-09-16T19:50:39.874134Z"
    }
   },
   "outputs": [],
   "source": [
    "view.download_image(\"subpockets.png\", factor=4, transparent=True, trim=True)"
   ]
  },
  {
   "cell_type": "code",
   "execution_count": 10,
   "id": "232ef09c-d50c-4e3e-862d-dbf3114c0509",
   "metadata": {
    "execution": {
     "iopub.execute_input": "2021-09-16T19:50:39.876383Z",
     "iopub.status.busy": "2021-09-16T19:50:39.876082Z",
     "iopub.status.idle": "2021-09-16T19:50:39.884663Z",
     "shell.execute_reply": "2021-09-16T19:50:39.884913Z"
    }
   },
   "outputs": [],
   "source": [
    "view.download_image(\"subpockets_dfg.png\", factor=4, transparent=True, trim=True)"
   ]
  },
  {
   "cell_type": "markdown",
   "id": "a2e51dcc-566c-4cb9-b7c9-311d9805246e",
   "metadata": {},
   "source": [
    "## Kinase pocket"
   ]
  },
  {
   "cell_type": "code",
   "execution_count": 11,
   "id": "ffc4f9d8-1cd5-4eee-a7be-b25ae4b78b45",
   "metadata": {
    "execution": {
     "iopub.execute_input": "2021-09-16T19:50:39.887313Z",
     "iopub.status.busy": "2021-09-16T19:50:39.887009Z",
     "iopub.status.idle": "2021-09-16T19:50:40.012291Z",
     "shell.execute_reply": "2021-09-16T19:50:40.012525Z"
    }
   },
   "outputs": [
    {
     "data": {
      "application/vnd.jupyter.widget-view+json": {
       "model_id": "49cedaf2296f4c889df0d0afca56b3b4",
       "version_major": 2,
       "version_minor": 0
      },
      "text/plain": [
       "NGLWidget(gui_style='ngl')"
      ]
     },
     "metadata": {},
     "output_type": "display_data"
    }
   ],
   "source": [
    "from opencadd.structure.pocket import PocketViewer\n",
    "\n",
    "v = PocketViewer()\n",
    "v.add_pocket(\n",
    "    pocket,\n",
    "    show_pocket_center=False,\n",
    "    show_subpockets=False,\n",
    "    show_anchor_residues=False,\n",
    "    show_regions=True,\n",
    ")\n",
    "view = v.viewer\n",
    "view.display(gui=True)"
   ]
  },
  {
   "cell_type": "code",
   "execution_count": 12,
   "id": "b7bcb48d-c205-4892-b4a0-8dcfbea0bd8a",
   "metadata": {
    "execution": {
     "iopub.execute_input": "2021-09-16T19:50:40.014911Z",
     "iopub.status.busy": "2021-09-16T19:50:40.014608Z",
     "iopub.status.idle": "2021-09-16T19:50:40.023649Z",
     "shell.execute_reply": "2021-09-16T19:50:40.023386Z"
    }
   },
   "outputs": [],
   "source": [
    "view.download_image(\"pocket_regions.png\", factor=4, transparent=True, trim=True)"
   ]
  }
 ],
 "metadata": {
  "kernelspec": {
   "display_name": "Python 3",
   "language": "python",
   "name": "python3"
  },
  "language_info": {
   "codemirror_mode": {
    "name": "ipython",
    "version": 3
   },
   "file_extension": ".py",
   "mimetype": "text/x-python",
   "name": "python",
   "nbconvert_exporter": "python",
   "pygments_lexer": "ipython3",
   "version": "3.9.7"
  },
  "widgets": {
   "application/vnd.jupyter.widget-state+json": {
    "state": {
     "0373f6360272431a9aeb83b5bf2a49aa": {
      "model_module": "@jupyter-widgets/controls",
      "model_module_version": "1.5.0",
      "model_name": "ButtonStyleModel",
      "state": {
       "_model_module": "@jupyter-widgets/controls",
       "_model_module_version": "1.5.0",
       "_model_name": "ButtonStyleModel",
       "_view_count": null,
       "_view_module": "@jupyter-widgets/base",
       "_view_module_version": "1.2.0",
       "_view_name": "StyleView",
       "button_color": null,
       "font_weight": ""
      }
     },
     "04a7232654d34bc7b7fd282c780cc951": {
      "model_module": "@jupyter-widgets/controls",
      "model_module_version": "1.5.0",
      "model_name": "LinkModel",
      "state": {
       "_model_module": "@jupyter-widgets/controls",
       "_model_module_version": "1.5.0",
       "_model_name": "LinkModel",
       "_view_count": null,
       "_view_module": "@jupyter-widgets/controls",
       "_view_module_version": "1.5.0",
       "_view_name": null,
       "source": [
        "IPY_MODEL_80b34639e656400bb7c48f4719d38b49",
        "value"
       ],
       "target": [
        "IPY_MODEL_0f96e577740e4281ad0397cf5431d183",
        "value"
       ]
      }
     },
     "099b89d8d93d497e9e4cea1752930803": {
      "model_module": "nglview-js-widgets",
      "model_module_version": "3.0.1",
      "model_name": "ColormakerRegistryModel",
      "state": {
       "_dom_classes": [],
       "_model_module": "nglview-js-widgets",
       "_model_module_version": "3.0.1",
       "_model_name": "ColormakerRegistryModel",
       "_msg_ar": [],
       "_msg_q": [],
       "_ready": false,
       "_view_count": null,
       "_view_module": "nglview-js-widgets",
       "_view_module_version": "3.0.1",
       "_view_name": "ColormakerRegistryView",
       "layout": "IPY_MODEL_17c3673e7f1046cb842e7b541649030f"
      }
     },
     "0cbb4ef0e1654c0a88081e007e9992d3": {
      "model_module": "@jupyter-widgets/controls",
      "model_module_version": "1.5.0",
      "model_name": "DescriptionStyleModel",
      "state": {
       "_model_module": "@jupyter-widgets/controls",
       "_model_module_version": "1.5.0",
       "_model_name": "DescriptionStyleModel",
       "_view_count": null,
       "_view_module": "@jupyter-widgets/base",
       "_view_module_version": "1.2.0",
       "_view_name": "StyleView",
       "description_width": ""
      }
     },
     "0ef9b96ff2b540028f94efe11f831d91": {
      "model_module": "@jupyter-widgets/controls",
      "model_module_version": "1.5.0",
      "model_name": "ButtonModel",
      "state": {
       "_dom_classes": [],
       "_model_module": "@jupyter-widgets/controls",
       "_model_module_version": "1.5.0",
       "_model_name": "ButtonModel",
       "_view_count": null,
       "_view_module": "@jupyter-widgets/controls",
       "_view_module_version": "1.5.0",
       "_view_name": "ButtonView",
       "button_style": "",
       "description": "",
       "disabled": false,
       "icon": "compress",
       "layout": "IPY_MODEL_5438c563f4ff47acba49c9b67d4a762b",
       "style": "IPY_MODEL_0373f6360272431a9aeb83b5bf2a49aa",
       "tooltip": ""
      }
     },
     "0f96e577740e4281ad0397cf5431d183": {
      "model_module": "@jupyter-widgets/controls",
      "model_module_version": "1.5.0",
      "model_name": "IntSliderModel",
      "state": {
       "_dom_classes": [],
       "_model_module": "@jupyter-widgets/controls",
       "_model_module_version": "1.5.0",
       "_model_name": "IntSliderModel",
       "_view_count": null,
       "_view_module": "@jupyter-widgets/controls",
       "_view_module_version": "1.5.0",
       "_view_name": "IntSliderView",
       "continuous_update": true,
       "description": "",
       "description_tooltip": null,
       "disabled": false,
       "layout": "IPY_MODEL_6686d0c945fc40f1bf4ae33d1eababc6",
       "max": 0,
       "min": 0,
       "orientation": "horizontal",
       "readout": true,
       "readout_format": "d",
       "step": 1,
       "style": "IPY_MODEL_1a81b3504baa4b92b64215b0dff24a17",
       "value": 0
      }
     },
     "12b452faa9ca4276835168f441689a31": {
      "model_module": "@jupyter-widgets/controls",
      "model_module_version": "1.5.0",
      "model_name": "LinkModel",
      "state": {
       "_model_module": "@jupyter-widgets/controls",
       "_model_module_version": "1.5.0",
       "_model_name": "LinkModel",
       "_view_count": null,
       "_view_module": "@jupyter-widgets/controls",
       "_view_module_version": "1.5.0",
       "_view_name": null,
       "source": [
        "IPY_MODEL_5cb564679855405382df599cea69d824",
        "value"
       ],
       "target": [
        "IPY_MODEL_b1ceaa4116e9439289404409abc09447",
        "value"
       ]
      }
     },
     "14681e5c37ce4832be7494e0f8203d3d": {
      "model_module": "@jupyter-widgets/controls",
      "model_module_version": "1.5.0",
      "model_name": "LinkModel",
      "state": {
       "_model_module": "@jupyter-widgets/controls",
       "_model_module_version": "1.5.0",
       "_model_name": "LinkModel",
       "_view_count": null,
       "_view_module": "@jupyter-widgets/controls",
       "_view_module_version": "1.5.0",
       "_view_name": null,
       "source": [
        "IPY_MODEL_2d19bf6714f347c1a615d9d3ce83c260",
        "value"
       ],
       "target": [
        "IPY_MODEL_91454e7573994c6f8dccf0385108f796",
        "value"
       ]
      }
     },
     "15f0e26b5c074a0ea05ac443b1c9bc45": {
      "model_module": "@jupyter-widgets/controls",
      "model_module_version": "1.5.0",
      "model_name": "SliderStyleModel",
      "state": {
       "_model_module": "@jupyter-widgets/controls",
       "_model_module_version": "1.5.0",
       "_model_name": "SliderStyleModel",
       "_view_count": null,
       "_view_module": "@jupyter-widgets/base",
       "_view_module_version": "1.2.0",
       "_view_name": "StyleView",
       "description_width": "",
       "handle_color": null
      }
     },
     "17c3673e7f1046cb842e7b541649030f": {
      "model_module": "@jupyter-widgets/base",
      "model_module_version": "1.2.0",
      "model_name": "LayoutModel",
      "state": {
       "_model_module": "@jupyter-widgets/base",
       "_model_module_version": "1.2.0",
       "_model_name": "LayoutModel",
       "_view_count": null,
       "_view_module": "@jupyter-widgets/base",
       "_view_module_version": "1.2.0",
       "_view_name": "LayoutView",
       "align_content": null,
       "align_items": null,
       "align_self": null,
       "border": null,
       "bottom": null,
       "display": null,
       "flex": null,
       "flex_flow": null,
       "grid_area": null,
       "grid_auto_columns": null,
       "grid_auto_flow": null,
       "grid_auto_rows": null,
       "grid_column": null,
       "grid_gap": null,
       "grid_row": null,
       "grid_template_areas": null,
       "grid_template_columns": null,
       "grid_template_rows": null,
       "height": null,
       "justify_content": null,
       "justify_items": null,
       "left": null,
       "margin": null,
       "max_height": null,
       "max_width": null,
       "min_height": null,
       "min_width": null,
       "object_fit": null,
       "object_position": null,
       "order": null,
       "overflow": null,
       "overflow_x": null,
       "overflow_y": null,
       "padding": null,
       "right": null,
       "top": null,
       "visibility": null,
       "width": null
      }
     },
     "18290568051f44e8aaab4cb7d6f5ff7e": {
      "model_module": "@jupyter-widgets/controls",
      "model_module_version": "1.5.0",
      "model_name": "LinkModel",
      "state": {
       "_model_module": "@jupyter-widgets/controls",
       "_model_module_version": "1.5.0",
       "_model_name": "LinkModel",
       "_view_count": null,
       "_view_module": "@jupyter-widgets/controls",
       "_view_module_version": "1.5.0",
       "_view_name": null,
       "source": [
        "IPY_MODEL_b1ceaa4116e9439289404409abc09447",
        "max"
       ],
       "target": [
        "IPY_MODEL_49cedaf2296f4c889df0d0afca56b3b4",
        "max_frame"
       ]
      }
     },
     "1a1b5e3389da4a3985c689ce7dc3bd9f": {
      "model_module": "@jupyter-widgets/controls",
      "model_module_version": "1.5.0",
      "model_name": "ButtonModel",
      "state": {
       "_dom_classes": [],
       "_model_module": "@jupyter-widgets/controls",
       "_model_module_version": "1.5.0",
       "_model_name": "ButtonModel",
       "_view_count": null,
       "_view_module": "@jupyter-widgets/controls",
       "_view_module_version": "1.5.0",
       "_view_name": "ButtonView",
       "button_style": "",
       "description": "",
       "disabled": false,
       "icon": "compress",
       "layout": "IPY_MODEL_1d642932eb2040c29095f2b0ab439ae6",
       "style": "IPY_MODEL_864ad299438f472082531430b3ee9214",
       "tooltip": ""
      }
     },
     "1a81b3504baa4b92b64215b0dff24a17": {
      "model_module": "@jupyter-widgets/controls",
      "model_module_version": "1.5.0",
      "model_name": "SliderStyleModel",
      "state": {
       "_model_module": "@jupyter-widgets/controls",
       "_model_module_version": "1.5.0",
       "_model_name": "SliderStyleModel",
       "_view_count": null,
       "_view_module": "@jupyter-widgets/base",
       "_view_module_version": "1.2.0",
       "_view_name": "StyleView",
       "description_width": "",
       "handle_color": null
      }
     },
     "1c2977062fb343e3a4c74a04e9cb2a05": {
      "model_module": "@jupyter-widgets/base",
      "model_module_version": "1.2.0",
      "model_name": "LayoutModel",
      "state": {
       "_model_module": "@jupyter-widgets/base",
       "_model_module_version": "1.2.0",
       "_model_name": "LayoutModel",
       "_view_count": null,
       "_view_module": "@jupyter-widgets/base",
       "_view_module_version": "1.2.0",
       "_view_name": "LayoutView",
       "align_content": null,
       "align_items": null,
       "align_self": null,
       "border": null,
       "bottom": null,
       "display": null,
       "flex": null,
       "flex_flow": null,
       "grid_area": null,
       "grid_auto_columns": null,
       "grid_auto_flow": null,
       "grid_auto_rows": null,
       "grid_column": null,
       "grid_gap": null,
       "grid_row": null,
       "grid_template_areas": null,
       "grid_template_columns": null,
       "grid_template_rows": null,
       "height": null,
       "justify_content": null,
       "justify_items": null,
       "left": null,
       "margin": null,
       "max_height": null,
       "max_width": null,
       "min_height": null,
       "min_width": null,
       "object_fit": null,
       "object_position": null,
       "order": null,
       "overflow": null,
       "overflow_x": null,
       "overflow_y": null,
       "padding": null,
       "right": null,
       "top": null,
       "visibility": null,
       "width": "34px"
      }
     },
     "1d642932eb2040c29095f2b0ab439ae6": {
      "model_module": "@jupyter-widgets/base",
      "model_module_version": "1.2.0",
      "model_name": "LayoutModel",
      "state": {
       "_model_module": "@jupyter-widgets/base",
       "_model_module_version": "1.2.0",
       "_model_name": "LayoutModel",
       "_view_count": null,
       "_view_module": "@jupyter-widgets/base",
       "_view_module_version": "1.2.0",
       "_view_name": "LayoutView",
       "align_content": null,
       "align_items": null,
       "align_self": null,
       "border": null,
       "bottom": null,
       "display": null,
       "flex": null,
       "flex_flow": null,
       "grid_area": null,
       "grid_auto_columns": null,
       "grid_auto_flow": null,
       "grid_auto_rows": null,
       "grid_column": null,
       "grid_gap": null,
       "grid_row": null,
       "grid_template_areas": null,
       "grid_template_columns": null,
       "grid_template_rows": null,
       "height": null,
       "justify_content": null,
       "justify_items": null,
       "left": null,
       "margin": null,
       "max_height": null,
       "max_width": null,
       "min_height": null,
       "min_width": null,
       "object_fit": null,
       "object_position": null,
       "order": null,
       "overflow": null,
       "overflow_x": null,
       "overflow_y": null,
       "padding": null,
       "right": null,
       "top": null,
       "visibility": null,
       "width": "34px"
      }
     },
     "1fadb2668f994355905cfdaeda1aaa27": {
      "model_module": "@jupyter-widgets/controls",
      "model_module_version": "1.5.0",
      "model_name": "SliderStyleModel",
      "state": {
       "_model_module": "@jupyter-widgets/controls",
       "_model_module_version": "1.5.0",
       "_model_name": "SliderStyleModel",
       "_view_count": null,
       "_view_module": "@jupyter-widgets/base",
       "_view_module_version": "1.2.0",
       "_view_name": "StyleView",
       "description_width": "",
       "handle_color": null
      }
     },
     "281bd770daea4577ac94704e068f6c73": {
      "model_module": "@jupyter-widgets/base",
      "model_module_version": "1.2.0",
      "model_name": "LayoutModel",
      "state": {
       "_model_module": "@jupyter-widgets/base",
       "_model_module_version": "1.2.0",
       "_model_name": "LayoutModel",
       "_view_count": null,
       "_view_module": "@jupyter-widgets/base",
       "_view_module_version": "1.2.0",
       "_view_name": "LayoutView",
       "align_content": null,
       "align_items": null,
       "align_self": null,
       "border": null,
       "bottom": null,
       "display": null,
       "flex": null,
       "flex_flow": null,
       "grid_area": null,
       "grid_auto_columns": null,
       "grid_auto_flow": null,
       "grid_auto_rows": null,
       "grid_column": null,
       "grid_gap": null,
       "grid_row": null,
       "grid_template_areas": null,
       "grid_template_columns": null,
       "grid_template_rows": null,
       "height": null,
       "justify_content": null,
       "justify_items": null,
       "left": null,
       "margin": null,
       "max_height": null,
       "max_width": null,
       "min_height": null,
       "min_width": null,
       "object_fit": null,
       "object_position": null,
       "order": null,
       "overflow": null,
       "overflow_x": null,
       "overflow_y": null,
       "padding": null,
       "right": null,
       "top": null,
       "visibility": null,
       "width": null
      }
     },
     "2c18d0154cd24d22a98fb108e673676c": {
      "model_module": "@jupyter-widgets/controls",
      "model_module_version": "1.5.0",
      "model_name": "LinkModel",
      "state": {
       "_model_module": "@jupyter-widgets/controls",
       "_model_module_version": "1.5.0",
       "_model_name": "LinkModel",
       "_view_count": null,
       "_view_module": "@jupyter-widgets/controls",
       "_view_module_version": "1.5.0",
       "_view_name": null,
       "source": [
        "IPY_MODEL_5cb564679855405382df599cea69d824",
        "max"
       ],
       "target": [
        "IPY_MODEL_49cedaf2296f4c889df0d0afca56b3b4",
        "max_frame"
       ]
      }
     },
     "2d19bf6714f347c1a615d9d3ce83c260": {
      "model_module": "@jupyter-widgets/controls",
      "model_module_version": "1.5.0",
      "model_name": "PlayModel",
      "state": {
       "_dom_classes": [],
       "_model_module": "@jupyter-widgets/controls",
       "_model_module_version": "1.5.0",
       "_model_name": "PlayModel",
       "_playing": false,
       "_repeat": false,
       "_view_count": null,
       "_view_module": "@jupyter-widgets/controls",
       "_view_module_version": "1.5.0",
       "_view_name": "PlayView",
       "description": "",
       "description_tooltip": null,
       "disabled": false,
       "interval": 100,
       "layout": "IPY_MODEL_375149391a524efc97ed283af1466afc",
       "max": 0,
       "min": 0,
       "show_repeat": true,
       "step": 1,
       "style": "IPY_MODEL_b1fe272d3d8044fea589ac5e21452427",
       "value": 0
      }
     },
     "375149391a524efc97ed283af1466afc": {
      "model_module": "@jupyter-widgets/base",
      "model_module_version": "1.2.0",
      "model_name": "LayoutModel",
      "state": {
       "_model_module": "@jupyter-widgets/base",
       "_model_module_version": "1.2.0",
       "_model_name": "LayoutModel",
       "_view_count": null,
       "_view_module": "@jupyter-widgets/base",
       "_view_module_version": "1.2.0",
       "_view_name": "LayoutView",
       "align_content": null,
       "align_items": null,
       "align_self": null,
       "border": null,
       "bottom": null,
       "display": null,
       "flex": null,
       "flex_flow": null,
       "grid_area": null,
       "grid_auto_columns": null,
       "grid_auto_flow": null,
       "grid_auto_rows": null,
       "grid_column": null,
       "grid_gap": null,
       "grid_row": null,
       "grid_template_areas": null,
       "grid_template_columns": null,
       "grid_template_rows": null,
       "height": null,
       "justify_content": null,
       "justify_items": null,
       "left": null,
       "margin": null,
       "max_height": null,
       "max_width": null,
       "min_height": null,
       "min_width": null,
       "object_fit": null,
       "object_position": null,
       "order": null,
       "overflow": null,
       "overflow_x": null,
       "overflow_y": null,
       "padding": null,
       "right": null,
       "top": null,
       "visibility": null,
       "width": null
      }
     },
     "3adb36b1fd004e68a14ec308a89409bf": {
      "model_module": "@jupyter-widgets/base",
      "model_module_version": "1.2.0",
      "model_name": "LayoutModel",
      "state": {
       "_model_module": "@jupyter-widgets/base",
       "_model_module_version": "1.2.0",
       "_model_name": "LayoutModel",
       "_view_count": null,
       "_view_module": "@jupyter-widgets/base",
       "_view_module_version": "1.2.0",
       "_view_name": "LayoutView",
       "align_content": null,
       "align_items": null,
       "align_self": null,
       "border": null,
       "bottom": null,
       "display": null,
       "flex": null,
       "flex_flow": null,
       "grid_area": null,
       "grid_auto_columns": null,
       "grid_auto_flow": null,
       "grid_auto_rows": null,
       "grid_column": null,
       "grid_gap": null,
       "grid_row": null,
       "grid_template_areas": null,
       "grid_template_columns": null,
       "grid_template_rows": null,
       "height": null,
       "justify_content": null,
       "justify_items": null,
       "left": null,
       "margin": null,
       "max_height": null,
       "max_width": null,
       "min_height": null,
       "min_width": null,
       "object_fit": null,
       "object_position": null,
       "order": null,
       "overflow": null,
       "overflow_x": null,
       "overflow_y": null,
       "padding": null,
       "right": null,
       "top": null,
       "visibility": null,
       "width": null
      }
     },
     "423c6d877e7c4a66834c97a8a48a2b8e": {
      "model_module": "@jupyter-widgets/controls",
      "model_module_version": "1.5.0",
      "model_name": "LinkModel",
      "state": {
       "_model_module": "@jupyter-widgets/controls",
       "_model_module_version": "1.5.0",
       "_model_name": "LinkModel",
       "_view_count": null,
       "_view_module": "@jupyter-widgets/controls",
       "_view_module_version": "1.5.0",
       "_view_name": null,
       "source": [
        "IPY_MODEL_80b34639e656400bb7c48f4719d38b49",
        "max"
       ],
       "target": [
        "IPY_MODEL_606161b57c384988bbf0fd6e7773557a",
        "max_frame"
       ]
      }
     },
     "43ea8791b3ff4f2ba7b054cf8cfa48f0": {
      "model_module": "@jupyter-widgets/controls",
      "model_module_version": "1.5.0",
      "model_name": "ButtonModel",
      "state": {
       "_dom_classes": [],
       "_model_module": "@jupyter-widgets/controls",
       "_model_module_version": "1.5.0",
       "_model_name": "ButtonModel",
       "_view_count": null,
       "_view_module": "@jupyter-widgets/controls",
       "_view_module_version": "1.5.0",
       "_view_name": "ButtonView",
       "button_style": "",
       "description": "",
       "disabled": false,
       "icon": "compress",
       "layout": "IPY_MODEL_1c2977062fb343e3a4c74a04e9cb2a05",
       "style": "IPY_MODEL_b198f93b7e79402085b66eabe9dd0c8c",
       "tooltip": ""
      }
     },
     "49cedaf2296f4c889df0d0afca56b3b4": {
      "model_module": "nglview-js-widgets",
      "model_module_version": "3.0.1",
      "model_name": "NGLModel",
      "state": {
       "_camera_orientation": [],
       "_camera_str": "orthographic",
       "_dom_classes": [],
       "_gui_theme": null,
       "_ibtn_fullscreen": "IPY_MODEL_0ef9b96ff2b540028f94efe11f831d91",
       "_igui": null,
       "_iplayer": "IPY_MODEL_90918660b6ad4bccbb1c184e7bc1ce34",
       "_model_module": "nglview-js-widgets",
       "_model_module_version": "3.0.1",
       "_model_name": "NGLModel",
       "_ngl_color_dict": {},
       "_ngl_coordinate_resource": {},
       "_ngl_full_stage_parameters": {},
       "_ngl_msg_archive": [
        {
         "args": [
          "1000px",
          "600px"
         ],
         "kwargs": {},
         "methodName": "setSize",
         "reconstruc_color_scheme": false,
         "target": "Widget",
         "type": "call_method"
        },
        {
         "args": [
          {
           "binary": false,
           "data": "HEADER    2ito.A                                                      \nREMARK  99                                                                      \nREMARK  99 MOE v2012.10 (Chemical Computing Group Inc.) Fri Mar  3 16:16:42 2017\nHELIX    1   1 GLU A  709  GLU A  711  5               Generated by MOE    3\nHELIX    2   2 PRO A  753  SER A  768  1               Generated by MOE   16\nHELIX    3   3 LEU A  798  GLU A  804  1               Generated by MOE    7\nHELIX    4   4 SER A  811  ASP A  830  1               Generated by MOE   20\nHELIX    5   5 ALA A  840  ASN A  842  5               Generated by MOE    3\nHELIX    6   6 ILE A  878  TRP A  880  5               Generated by MOE    3\nHELIX    7   7 LEU A  883  HIS A  888  1               Generated by MOE    6\nHELIX    8   8 HIS A  893  MET A  908  1               Generated by MOE   16\nHELIX    9   9 ALA A  920  GLU A  922  5               Generated by MOE    3\nHELIX   10  10 ILE A  923  LYS A  929  1               Generated by MOE    7\nHELIX   11  11 ILE A  941  LYS A  949  1               Generated by MOE    9\nHELIX   12  12 PHE A  961  MET A  971  1               Generated by MOE   11\nHELIX   13  13 PRO A  975  ARG A  977  5               Generated by MOE    3\nHELIX   14  14 ASP A  984  ARG A  986  5               Generated by MOE    3\nHELIX   15  15 ALA A 1013  GLU A 1015  5               Generated by MOE    3\nSHEET    1       LYS A 714  SER A 719                  Generated by MOE\nSHEET    2       GLY A 724  TRP A 731                  Generated by MOE\nSHEET    3       ILE A 740  LEU A 747                  Generated by MOE\nSHEET    4       LEU A 777  GLY A 779                  Generated by MOE\nSHEET    5       ILE A 780  ILE A 780                  Generated by MOE\nSHEET    6       CYS A 781  CYS A 781                  Generated by MOE\nSHEET    7       GLN A 787  GLN A 791                  Generated by MOE\nSHEET    8       LEU A 833  VAL A 834                  Generated by MOE\nSHEET    9       VAL A 843  THR A 847                  Generated by MOE\nSHEET   10       HIS A 850  LYS A 852                  Generated by MOE\nSHEET   11       ILE A 853  ILE A 853                  Generated by MOE\nSHEET   12       LYS A 860  LEU A 861                  Generated by MOE\nCRYST1   10.000   10.000   10.000  90.00  90.00  90.00 P1         \nATOM      1  N   GLY A 696      -0.609  39.507  14.365  1.00  0.00           N1+\nATOM      2  CA  GLY A 696       0.120  38.206  14.276  1.00  0.00           C  \nATOM      3  C   GLY A 696       0.191  37.470  15.605  1.00  0.00           C  \nATOM      4  O   GLY A 696      -0.798  36.866  16.044  1.00  0.00           O  \nATOM      5  N   GLU A 697       1.366  37.502  16.236  1.00  0.00           N  \nATOM      6  CA  GLU A 697       1.525  36.944  17.585  1.00  0.00           C  \nATOM      7  C   GLU A 697       2.033  37.945  18.613  1.00  0.00           C  \nATOM      8  O   GLU A 697       3.091  38.539  18.422  1.00  0.00           O  \nATOM      9  CB  GLU A 697       2.397  35.689  17.577  1.00  0.00           C  \nATOM     10  CG  GLU A 697       1.597  34.409  17.824  1.00  0.00           C  \nATOM     11  CD  GLU A 697       0.741  34.456  19.102  1.00  0.00           C  \nATOM     12  OE1 GLU A 697       0.328  35.569  19.509  1.00  0.00           O  \nATOM     13  OE2 GLU A 697       0.475  33.373  19.696  1.00  0.00           O1-\nATOM     14  N   ALA A 698       1.278  38.113  19.701  1.00  0.00           N  \nATOM     15  CA  ALA A 698       1.584  39.114  20.716  1.00  0.00           C  \nATOM     16  C   ALA A 698       2.791  38.735  21.603  1.00  0.00           C  \nATOM     17  O   ALA A 698       3.056  37.545  21.800  1.00  0.00           O  \nATOM     18  CB  ALA A 698       0.345  39.421  21.562  1.00  0.00           C  \nATOM     19  N   PRO A 699       3.546  39.755  22.088  1.00  0.00           N  \nATOM     20  CA  PRO A 699       4.587  39.713  23.122  1.00  0.00           C  \nATOM     21  C   PRO A 699       4.109  39.129  24.431  1.00  0.00           C  \nATOM     22  O   PRO A 699       3.225  39.687  25.088  1.00  0.00           O  \nATOM     23  CB  PRO A 699       4.878  41.186  23.371  1.00  0.00           C  \nATOM     24  CG  PRO A 699       3.703  41.914  22.766  1.00  0.00           C  \nATOM     25  CD  PRO A 699       3.412  41.122  21.567  1.00  0.00           C  \nATOM     26  N   ASN A 700       4.709  38.021  24.820  1.00  0.00           N  \nATOM     27  CA  ASN A 700       4.296  37.315  26.014  1.00  0.00           C  \nATOM     28  C   ASN A 700       5.002  37.929  27.192  1.00  0.00           C  \nATOM     29  O   ASN A 700       6.155  37.629  27.471  1.00  0.00           O  \nATOM     30  CB  ASN A 700       4.627  35.833  25.869  1.00  0.00           C  \nATOM     31  CG  ASN A 700       4.403  35.046  27.134  1.00  0.00           C  \nATOM     32  OD1 ASN A 700       4.782  33.883  27.186  1.00  0.00           O  \nATOM     33  ND2 ASN A 700       3.790  35.655  28.151  1.00  0.00           N  \nATOM     34  N   GLN A 701       4.291  38.789  27.898  1.00  0.00           N  \nATOM     35  CA  GLN A 701       4.925  39.583  28.937  1.00  0.00           C  \nATOM     36  C   GLN A 701       4.820  39.018  30.342  1.00  0.00           C  \nATOM     37  O   GLN A 701       4.978  39.748  31.315  1.00  0.00           O  \nATOM     38  CB  GLN A 701       4.403  40.998  28.865  1.00  0.00           C  \nATOM     39  CG  GLN A 701       4.518  41.501  27.464  1.00  0.00           C  \nATOM     40  CD  GLN A 701       4.206  42.938  27.355  1.00  0.00           C  \nATOM     41  OE1 GLN A 701       4.979  43.792  27.785  1.00  0.00           O  \nATOM     42  NE2 GLN A 701       3.058  43.234  26.769  1.00  0.00           N  \nATOM     43  N   ALA A 702       4.598  37.717  30.447  1.00  0.00           N  \nATOM     44  CA  ALA A 702       4.562  37.074  31.731  1.00  0.00           C  \nATOM     45  C   ALA A 702       5.813  37.421  32.561  1.00  0.00           C  \nATOM     46  O   ALA A 702       6.924  37.403  32.014  1.00  0.00           O  \nATOM     47  CB  ALA A 702       4.466  35.601  31.523  1.00  0.00           C  \nATOM     48  N   LEU A 703       5.652  37.743  33.853  1.00  0.00           N  \nATOM     49  CA  LEU A 703       6.828  37.906  34.732  1.00  0.00           C  \nATOM     50  C   LEU A 703       7.225  36.572  35.322  1.00  0.00           C  \nATOM     51  O   LEU A 703       6.395  35.877  35.868  1.00  0.00           O  \nATOM     52  CB  LEU A 703       6.624  38.946  35.847  1.00  0.00           C  \nATOM     53  CG  LEU A 703       6.423  40.417  35.406  1.00  0.00           C  \nATOM     54  CD1 LEU A 703       6.052  41.355  36.579  1.00  0.00           C  \nATOM     55  CD2 LEU A 703       7.591  41.032  34.517  1.00  0.00           C  \nATOM     56  N   LEU A 704       8.488  36.195  35.166  1.00  0.00           N  \nATOM     57  CA  LEU A 704       8.994  34.972  35.761  1.00  0.00           C  \nATOM     58  C   LEU A 704       9.699  35.328  37.053  1.00  0.00           C  \nATOM     59  O   LEU A 704      10.673  36.073  37.048  1.00  0.00           O  \nATOM     60  CB  LEU A 704       9.949  34.228  34.819  1.00  0.00           C  \nATOM     61  CG  LEU A 704      10.829  33.173  35.508  1.00  0.00           C  \nATOM     62  CD1 LEU A 704      10.016  31.974  35.972  1.00  0.00           C  \nATOM     63  CD2 LEU A 704      11.961  32.724  34.599  1.00  0.00           C  \nATOM     64  N   ARG A 705       9.210  34.772  38.154  1.00  0.00           N  \nATOM     65  CA  ARG A 705       9.700  35.125  39.470  1.00  0.00           C  \nATOM     66  C   ARG A 705      10.808  34.190  39.960  1.00  0.00           C  \nATOM     67  O   ARG A 705      10.697  32.977  39.904  1.00  0.00           O  \nATOM     68  CB  ARG A 705       8.534  35.134  40.415  1.00  0.00           C  \nATOM     69  CG  ARG A 705       8.537  36.259  41.360  1.00  0.00           C  \nATOM     70  CD  ARG A 705       7.665  35.882  42.526  1.00  0.00           C  \nATOM     71  NE  ARG A 705       8.071  36.521  43.773  1.00  0.00           N  \nATOM     72  CZ  ARG A 705       7.411  37.524  44.340  1.00  0.00           C  \nATOM     73  NH1 ARG A 705       6.312  38.012  43.772  1.00  0.00           N1+\nATOM     74  NH2 ARG A 705       7.856  38.039  45.475  1.00  0.00           N  \nATOM     75  N   ILE A 706      11.900  34.767  40.421  1.00  0.00           N  \nATOM     76  CA  ILE A 706      13.007  33.968  40.904  1.00  0.00           C  \nATOM     77  C   ILE A 706      12.913  33.908  42.413  1.00  0.00           C  \nATOM     78  O   ILE A 706      13.001  34.947  43.056  1.00  0.00           O  \nATOM     79  CB  ILE A 706      14.363  34.583  40.475  1.00  0.00           C  \nATOM     80  CG1 ILE A 706      14.480  34.620  38.944  1.00  0.00           C  \nATOM     81  CG2 ILE A 706      15.537  33.813  41.097  1.00  0.00           C  \nATOM     82  CD1 ILE A 706      14.548  33.254  38.301  1.00  0.00           C  \nATOM     83  N   LEU A 707      12.739  32.720  42.990  1.00  0.00           N  \nATOM     84  CA  LEU A 707      12.608  32.636  44.447  1.00  0.00           C  \nATOM     85  C   LEU A 707      13.859  32.147  45.131  1.00  0.00           C  \nATOM     86  O   LEU A 707      14.437  31.136  44.727  1.00  0.00           O  \nATOM     87  CB  LEU A 707      11.454  31.735  44.866  1.00  0.00           C  \nATOM     88  CG  LEU A 707      10.123  31.790  44.111  1.00  0.00           C  \nATOM     89  CD1 LEU A 707       9.228  30.714  44.667  1.00  0.00           C  \nATOM     90  CD2 LEU A 707       9.456  33.172  44.172  1.00  0.00           C  \nATOM     91  N   LYS A 708      14.265  32.880  46.168  1.00  0.00           N  \nATOM     92  CA  LYS A 708      15.371  32.491  47.033  1.00  0.00           C  \nATOM     93  C   LYS A 708      15.055  31.213  47.770  1.00  0.00           C  \nATOM     94  O   LYS A 708      13.945  31.038  48.263  1.00  0.00           O  \nATOM     95  CB  LYS A 708      15.664  33.577  48.053  1.00  0.00           C  \nATOM     96  CG  LYS A 708      16.928  34.337  47.770  1.00  0.00           C  \nATOM     97  CD  LYS A 708      16.859  35.761  48.300  1.00  0.00           C  \nATOM     98  CE  LYS A 708      15.666  36.488  47.684  1.00  0.00           C  \nATOM     99  NZ  LYS A 708      15.961  37.915  47.393  1.00  0.00           N1+\nATOM    100  N   GLU A 709      16.049  30.337  47.852  1.00  0.00           N  \nATOM    101  CA  GLU A 709      15.915  29.078  48.565  1.00  0.00           C  \nATOM    102  C   GLU A 709      15.580  29.242  50.053  1.00  0.00           C  \nATOM    103  O   GLU A 709      15.089  28.309  50.692  1.00  0.00           O  \nATOM    104  CB  GLU A 709      17.180  28.239  48.426  1.00  0.00           C  \nATOM    105  CG  GLU A 709      16.916  26.763  48.717  1.00  0.00           C  \nATOM    106  CD  GLU A 709      18.119  26.055  49.274  1.00  0.00           C  \nATOM    107  OE1 GLU A 709      18.871  26.677  50.057  1.00  0.00           O  \nATOM    108  OE2 GLU A 709      18.306  24.871  48.932  1.00  0.00           O1-\nATOM    109  N   THR A 710      15.858  30.420  50.601  1.00  0.00           N  \nATOM    110  CA  THR A 710      15.513  30.731  51.991  1.00  0.00           C  \nATOM    111  C   THR A 710      14.005  30.980  52.165  1.00  0.00           C  \nATOM    112  O   THR A 710      13.478  30.822  53.265  1.00  0.00           O  \nATOM    113  CB  THR A 710      16.378  31.930  52.579  1.00  0.00           C  \nATOM    114  OG1 THR A 710      15.893  33.217  52.145  1.00  0.00           O  \nATOM    115  CG2 THR A 710      17.842  31.795  52.163  1.00  0.00           C  \nATOM    116  N   GLU A 711      13.314  31.332  51.075  1.00  0.00           N  \nATOM    117  CA  GLU A 711      11.959  31.903  51.152  1.00  0.00           C  \nATOM    118  C   GLU A 711      10.853  30.921  51.536  1.00  0.00           C  \nATOM    119  O   GLU A 711       9.691  31.314  51.678  1.00  0.00           O  \nATOM    120  CB  GLU A 711      11.597  32.615  49.844  1.00  0.00           C  \nATOM    121  CG  GLU A 711      12.158  34.004  49.707  1.00  0.00           C  \nATOM    122  CD  GLU A 711      11.808  34.631  48.372  1.00  0.00           C  \nATOM    123  OE1 GLU A 711      12.640  34.594  47.438  1.00  0.00           O  \nATOM    124  OE2 GLU A 711      10.683  35.156  48.248  1.00  0.00           O1-\nATOM    125  N   PHE A 712      11.197  29.656  51.720  1.00  0.00           N  \nATOM    126  CA  PHE A 712      10.173  28.682  51.999  1.00  0.00           C  \nATOM    127  C   PHE A 712      10.696  27.382  52.558  1.00  0.00           C  \nATOM    128  O   PHE A 712      11.774  26.929  52.184  1.00  0.00           O  \nATOM    129  CB  PHE A 712       9.382  28.381  50.722  1.00  0.00           C  \nATOM    130  CG  PHE A 712      10.219  27.918  49.590  1.00  0.00           C  \nATOM    131  CD1 PHE A 712      10.684  26.622  49.541  1.00  0.00           C  \nATOM    132  CD2 PHE A 712      10.535  28.777  48.567  1.00  0.00           C  \nATOM    133  CE1 PHE A 712      11.469  26.195  48.493  1.00  0.00           C  \nATOM    134  CE2 PHE A 712      11.313  28.365  47.513  1.00  0.00           C  \nATOM    135  CZ  PHE A 712      11.786  27.073  47.472  1.00  0.00           C  \nATOM    136  N   LYS A 713       9.902  26.770  53.431  1.00  0.00           N  \nATOM    137  CA  LYS A 713      10.172  25.416  53.918  1.00  0.00           C  \nATOM    138  C   LYS A 713       9.477  24.320  53.084  1.00  0.00           C  \nATOM    139  O   LYS A 713       8.278  24.439  52.772  1.00  0.00           O  \nATOM    140  CB  LYS A 713       9.795  25.273  55.403  1.00  0.00           C  \nATOM    141  CG  LYS A 713       8.628  26.126  55.862  1.00  0.00           C  \nATOM    142  CD  LYS A 713       9.101  27.403  56.572  1.00  0.00           C  \nATOM    143  CE  LYS A 713       7.862  28.165  57.119  1.00  0.00           C  \nATOM    144  NZ  LYS A 713       8.097  28.612  58.591  1.00  0.00           N1+\nATOM    145  N   LYS A 714      10.241  23.275  52.714  1.00  0.00           N  \nATOM    146  CA  LYS A 714       9.689  21.943  52.414  1.00  0.00           C  \nATOM    147  C   LYS A 714       9.052  21.364  53.681  1.00  0.00           C  \nATOM    148  O   LYS A 714       9.340  21.809  54.807  1.00  0.00           O  \nATOM    149  CB  LYS A 714      10.761  20.986  51.898  1.00  0.00           C  \nATOM    150  CG  LYS A 714      11.030  21.096  50.408  1.00  0.00           C  \nATOM    151  CD  LYS A 714      12.331  20.369  49.976  1.00  0.00           C  \nATOM    152  CE  LYS A 714      13.112  21.183  48.909  1.00  0.00           C  \nATOM    153  NZ  LYS A 714      14.008  20.327  48.080  1.00  0.00           N1+\nATOM    154  N   ILE A 715       8.185  20.373  53.502  1.00  0.00           N  \nATOM    155  CA  ILE A 715       7.343  19.935  54.611  1.00  0.00           C  \nATOM    156  C   ILE A 715       6.950  18.457  54.573  1.00  0.00           C  \nATOM    157  O   ILE A 715       6.586  17.887  55.607  1.00  0.00           O  \nATOM    158  CB  ILE A 715       6.157  20.965  54.880  1.00  0.00           C  \nATOM    159  CG1 ILE A 715       6.444  21.753  56.164  1.00  0.00           C  \nATOM    160  CG2 ILE A 715       4.782  20.296  54.951  1.00  0.00           C  \nATOM    161  CD1 ILE A 715       5.973  23.170  56.146  1.00  0.00           C  \nATOM    162  N   LYS A 716       7.073  17.834  53.399  1.00  0.00           N  \nATOM    163  CA  LYS A 716       6.693  16.428  53.216  1.00  0.00           C  \nATOM    164  C   LYS A 716       6.718  16.094  51.728  1.00  0.00           C  \nATOM    165  O   LYS A 716       6.393  16.936  50.902  1.00  0.00           O  \nATOM    166  CB  LYS A 716       5.300  16.158  53.843  1.00  0.00           C  \nATOM    167  CG  LYS A 716       4.600  14.836  53.483  1.00  0.00           C  \nATOM    168  CD  LYS A 716       3.294  14.656  54.267  1.00  0.00           C  \nATOM    169  CE  LYS A 716       2.311  13.736  53.539  1.00  0.00           C  \nATOM    170  NZ  LYS A 716       1.330  14.499  52.712  1.00  0.00           N1+\nATOM    171  N   VAL A 717       7.130  14.872  51.395  1.00  0.00           N  \nATOM    172  CA  VAL A 717       7.095  14.378  50.017  1.00  0.00           C  \nATOM    173  C   VAL A 717       5.653  14.135  49.611  1.00  0.00           C  \nATOM    174  O   VAL A 717       4.815  13.847  50.455  1.00  0.00           O  \nATOM    175  CB  VAL A 717       7.937  13.073  49.842  1.00  0.00           C  \nATOM    176  CG1 VAL A 717       7.499  12.255  48.621  1.00  0.00           C  \nATOM    177  CG2 VAL A 717       9.406  13.411  49.739  1.00  0.00           C  \nATOM    178  N   LEU A 718       5.372  14.277  48.321  1.00  0.00           N  \nATOM    179  CA  LEU A 718       4.063  13.984  47.781  1.00  0.00           C  \nATOM    180  C   LEU A 718       4.167  12.928  46.705  1.00  0.00           C  \nATOM    181  O   LEU A 718       3.234  12.150  46.486  1.00  0.00           O  \nATOM    182  CB  LEU A 718       3.441  15.230  47.178  1.00  0.00           C  \nATOM    183  CG  LEU A 718       3.059  16.327  48.142  1.00  0.00           C  \nATOM    184  CD1 LEU A 718       2.686  17.555  47.363  1.00  0.00           C  \nATOM    185  CD2 LEU A 718       1.906  15.867  48.989  1.00  0.00           C  \nATOM    186  N   SER A 719       5.291  12.900  46.009  1.00  0.00           N  \nATOM    187  CA  SER A 719       5.396  11.997  44.900  1.00  0.00           C  \nATOM    188  C   SER A 719       6.826  11.911  44.512  1.00  0.00           C  \nATOM    189  O   SER A 719       7.413  12.904  44.117  1.00  0.00           O  \nATOM    190  CB  SER A 719       4.583  12.528  43.729  1.00  0.00           C  \nATOM    191  OG  SER A 719       3.916  11.462  43.101  1.00  0.00           O  \nATOM    192  N   SER A 720       7.410  10.733  44.646  1.00  0.00           N  \nATOM    193  CA  SER A 720       8.761  10.545  44.140  1.00  0.00           C  \nATOM    194  C   SER A 720       8.756   9.387  43.152  1.00  0.00           C  \nATOM    195  O   SER A 720       7.685   8.961  42.706  1.00  0.00           O  \nATOM    196  CB  SER A 720       9.796  10.389  45.273  1.00  0.00           C  \nATOM    197  OG  SER A 720       9.788   9.096  45.860  1.00  0.00           O  \nATOM    198  N   GLY A 721       9.942   8.887  42.815  1.00  0.00           N  \nATOM    199  CA  GLY A 721      10.103   7.936  41.723  1.00  0.00           C  \nATOM    200  C   GLY A 721       9.980   8.725  40.436  1.00  0.00           C  \nATOM    201  O   GLY A 721      10.649   9.754  40.279  1.00  0.00           O  \nATOM    202  N   ALA A 722       9.105   8.252  39.543  1.00  0.00           N  \nATOM    203  CA  ALA A 722       8.839   8.843  38.201  1.00  0.00           C  \nATOM    204  C   ALA A 722      10.025   9.549  37.478  1.00  0.00           C  \nATOM    205  O   ALA A 722      10.986   8.905  36.994  1.00  0.00           O  \nATOM    206  CB  ALA A 722       7.569   9.765  38.241  1.00  0.00           C  \nATOM    207  N   PHE A 723       9.920  10.878  37.424  1.00  0.00           N  \nATOM    208  CA  PHE A 723      10.913  11.752  36.806  1.00  0.00           C  \nATOM    209  C   PHE A 723      11.261  12.916  37.773  1.00  0.00           C  \nATOM    210  O   PHE A 723      11.742  13.982  37.350  1.00  0.00           O  \nATOM    211  CB  PHE A 723      10.382  12.260  35.442  1.00  0.00           C  \nATOM    212  CG  PHE A 723       9.557  11.222  34.656  1.00  0.00           C  \nATOM    213  CD1 PHE A 723      10.171  10.087  34.075  1.00  0.00           C  \nATOM    214  CD2 PHE A 723       8.167  11.391  34.485  1.00  0.00           C  \nATOM    215  CE1 PHE A 723       9.411   9.132  33.347  1.00  0.00           C  \nATOM    216  CE2 PHE A 723       7.401  10.444  33.753  1.00  0.00           C  \nATOM    217  CZ  PHE A 723       8.026   9.315  33.186  1.00  0.00           C  \nATOM    218  N   GLY A 724      11.014  12.695  39.070  1.00  0.00           N  \nATOM    219  CA  GLY A 724      11.343  13.665  40.128  1.00  0.00           C  \nATOM    220  C   GLY A 724      10.388  13.685  41.322  1.00  0.00           C  \nATOM    221  O   GLY A 724       9.273  13.131  41.255  1.00  0.00           O  \nATOM    222  N   THR A 725      10.844  14.323  42.410  1.00  0.00           N  \nATOM    223  CA  THR A 725      10.036  14.601  43.602  1.00  0.00           C  \nATOM    224  C   THR A 725       9.072  15.755  43.367  1.00  0.00           C  \nATOM    225  O   THR A 725       9.330  16.614  42.533  1.00  0.00           O  \nATOM    226  CB  THR A 725      10.904  15.058  44.783  1.00  0.00           C  \nATOM    227  OG1 THR A 725      12.233  14.576  44.614  1.00  0.00           O  \nATOM    228  CG2 THR A 725      10.343  14.561  46.099  1.00  0.00           C  \nATOM    229  N   VAL A 726       7.970  15.752  44.118  1.00  0.00           N  \nATOM    230  CA  VAL A 726       7.091  16.903  44.303  1.00  0.00           C  \nATOM    231  C   VAL A 726       6.852  16.980  45.797  1.00  0.00           C  \nATOM    232  O   VAL A 726       6.460  15.994  46.379  1.00  0.00           O  \nATOM    233  CB  VAL A 726       5.737  16.717  43.597  1.00  0.00           C  \nATOM    234  CG1 VAL A 726       4.762  17.774  44.056  1.00  0.00           C  \nATOM    235  CG2 VAL A 726       5.901  16.770  42.081  1.00  0.00           C  \nATOM    236  N   TYR A 727       7.107  18.122  46.422  1.00  0.00           N  \nATOM    237  CA  TYR A 727       6.857  18.265  47.858  1.00  0.00           C  \nATOM    238  C   TYR A 727       5.664  19.145  48.165  1.00  0.00           C  \nATOM    239  O   TYR A 727       5.254  19.942  47.351  1.00  0.00           O  \nATOM    240  CB  TYR A 727       8.049  18.873  48.593  1.00  0.00           C  \nATOM    241  CG  TYR A 727       9.363  18.163  48.413  1.00  0.00           C  \nATOM    242  CD1 TYR A 727      10.267  18.583  47.432  1.00  0.00           C  \nATOM    243  CD2 TYR A 727       9.729  17.083  49.222  1.00  0.00           C  \nATOM    244  CE1 TYR A 727      11.507  17.939  47.248  1.00  0.00           C  \nATOM    245  CE2 TYR A 727      10.972  16.433  49.039  1.00  0.00           C  \nATOM    246  CZ  TYR A 727      11.844  16.880  48.052  1.00  0.00           C  \nATOM    247  OH  TYR A 727      13.051  16.285  47.850  1.00  0.00           O  \nATOM    248  N   LYS A 728       5.115  18.985  49.354  1.00  0.00           N  \nATOM    249  CA  LYS A 728       4.239  19.974  49.942  1.00  0.00           C  \nATOM    250  C   LYS A 728       5.186  21.026  50.489  1.00  0.00           C  \nATOM    251  O   LYS A 728       6.344  20.739  50.703  1.00  0.00           O  \nATOM    252  CB  LYS A 728       3.411  19.309  51.054  1.00  0.00           C  \nATOM    253  CG  LYS A 728       2.801  20.229  52.123  1.00  0.00           C  \nATOM    254  CD  LYS A 728       1.550  19.622  52.796  1.00  0.00           C  \nATOM    255  CE  LYS A 728       1.733  18.148  53.181  1.00  0.00           C  \nATOM    256  NZ  LYS A 728       0.537  17.579  53.888  1.00  0.00           N1+\nATOM    257  N   GLY A 729       4.722  22.247  50.696  1.00  0.00           N  \nATOM    258  CA  GLY A 729       5.582  23.261  51.289  1.00  0.00           C  \nATOM    259  C   GLY A 729       4.898  24.566  51.635  1.00  0.00           C  \nATOM    260  O   GLY A 729       3.800  24.854  51.176  1.00  0.00           O  \nATOM    261  N   LEU A 730       5.560  25.365  52.449  1.00  0.00           N  \nATOM    262  CA  LEU A 730       5.088  26.698  52.694  1.00  0.00           C  \nATOM    263  C   LEU A 730       6.009  27.719  52.052  1.00  0.00           C  \nATOM    264  O   LEU A 730       7.173  27.439  51.836  1.00  0.00           O  \nATOM    265  CB  LEU A 730       4.973  26.922  54.185  1.00  0.00           C  \nATOM    266  CG  LEU A 730       3.607  26.490  54.692  1.00  0.00           C  \nATOM    267  CD1 LEU A 730       3.265  27.257  55.949  1.00  0.00           C  \nATOM    268  CD2 LEU A 730       2.563  26.761  53.615  1.00  0.00           C  \nATOM    269  N   TRP A 731       5.488  28.893  51.724  1.00  0.00           N  \nATOM    270  CA  TRP A 731       6.295  29.902  51.049  1.00  0.00           C  \nATOM    271  C   TRP A 731       6.073  31.275  51.652  1.00  0.00           C  \nATOM    272  O   TRP A 731       4.948  31.765  51.696  1.00  0.00           O  \nATOM    273  CB  TRP A 731       6.028  29.927  49.522  1.00  0.00           C  \nATOM    274  CG  TRP A 731       6.770  31.046  48.792  1.00  0.00           C  \nATOM    275  CD1 TRP A 731       8.082  31.386  48.939  1.00  0.00           C  \nATOM    276  CD2 TRP A 731       6.236  31.961  47.826  1.00  0.00           C  \nATOM    277  NE1 TRP A 731       8.396  32.451  48.141  1.00  0.00           N  \nATOM    278  CE2 TRP A 731       7.282  32.827  47.446  1.00  0.00           C  \nATOM    279  CE3 TRP A 731       4.972  32.145  47.255  1.00  0.00           C  \nATOM    280  CZ2 TRP A 731       7.110  33.853  46.520  1.00  0.00           C  \nATOM    281  CZ3 TRP A 731       4.808  33.161  46.319  1.00  0.00           C  \nATOM    282  CH2 TRP A 731       5.872  34.001  45.967  1.00  0.00           C  \nATOM    283  N   ILE A 732       7.141  31.906  52.116  1.00  0.00           N  \nATOM    284  CA  ILE A 732       7.001  33.291  52.519  1.00  0.00           C  \nATOM    285  C   ILE A 732       7.690  34.214  51.504  1.00  0.00           C  \nATOM    286  O   ILE A 732       8.916  34.373  51.538  1.00  0.00           O  \nATOM    287  CB  ILE A 732       7.446  33.577  53.997  1.00  0.00           C  \nATOM    288  CG1 ILE A 732       6.720  32.674  55.007  1.00  0.00           C  \nATOM    289  CG2 ILE A 732       7.126  35.029  54.358  1.00  0.00           C  \nATOM    290  CD1 ILE A 732       7.423  31.415  55.398  1.00  0.00           C  \nATOM    291  N   PRO A 733       6.902  34.829  50.596  1.00  0.00           N  \nATOM    292  CA  PRO A 733       7.461  35.820  49.703  1.00  0.00           C  \nATOM    293  C   PRO A 733       8.018  36.943  50.572  1.00  0.00           C  \nATOM    294  O   PRO A 733       7.313  37.938  50.853  1.00  0.00           O  \nATOM    295  CB  PRO A 733       6.246  36.312  48.909  1.00  0.00           C  \nATOM    296  CG  PRO A 733       5.095  35.986  49.720  1.00  0.00           C  \nATOM    297  CD  PRO A 733       5.457  34.689  50.386  1.00  0.00           C  \nATOM    298  N   GLU A 734       9.271  36.745  51.002  1.00  0.00           N  \nATOM    299  CA  GLU A 734       9.965  37.606  51.960  1.00  0.00           C  \nATOM    300  C   GLU A 734       9.660  39.103  51.785  1.00  0.00           C  \nATOM    301  O   GLU A 734       9.615  39.635  50.653  1.00  0.00           O  \nATOM    302  CB  GLU A 734      11.479  37.364  51.897  1.00  0.00           C  \nATOM    303  CG  GLU A 734      12.152  37.974  50.635  1.00  0.00           C  \nATOM    304  CD  GLU A 734      13.697  37.968  50.669  1.00  0.00           C  \nATOM    305  OE1 GLU A 734      14.311  37.586  51.712  1.00  0.00           O  \nATOM    306  OE2 GLU A 734      14.284  38.358  49.626  1.00  0.00           O1-\nATOM    307  N   GLY A 735       9.453  39.756  52.928  1.00  0.00           N  \nATOM    308  CA  GLY A 735       9.117  41.165  52.972  1.00  0.00           C  \nATOM    309  C   GLY A 735       7.652  41.410  52.685  1.00  0.00           C  \nATOM    310  O   GLY A 735       7.248  42.526  52.327  1.00  0.00           O  \nATOM    311  N   GLU A 736       6.839  40.371  52.830  1.00  0.00           N  \nATOM    312  CA  GLU A 736       5.421  40.571  52.649  1.00  0.00           C  \nATOM    313  C   GLU A 736       4.618  40.009  53.800  1.00  0.00           C  \nATOM    314  O   GLU A 736       3.494  40.429  54.028  1.00  0.00           O  \nATOM    315  CB  GLU A 736       4.947  40.057  51.284  1.00  0.00           C  \nATOM    316  CG  GLU A 736       5.231  41.022  50.105  1.00  0.00           C  \nATOM    317  CD  GLU A 736       4.260  40.828  48.930  1.00  0.00           C  \nATOM    318  OE1 GLU A 736       3.125  41.354  48.990  1.00  0.00           O  \nATOM    319  OE2 GLU A 736       4.627  40.159  47.935  1.00  0.00           O1-\nATOM    320  N   LYS A 737       5.204  39.092  54.552  1.00  0.00           N  \nATOM    321  CA  LYS A 737       4.525  38.533  55.738  1.00  0.00           C  \nATOM    322  C   LYS A 737       3.128  37.899  55.448  1.00  0.00           C  \nATOM    323  O   LYS A 737       2.066  38.354  55.913  1.00  0.00           O  \nATOM    324  CB  LYS A 737       4.543  39.537  56.914  1.00  0.00           C  \nATOM    325  CG  LYS A 737       3.295  40.353  57.149  1.00  0.00           C  \nATOM    326  CD  LYS A 737       2.887  40.177  58.611  1.00  0.00           C  \nATOM    327  CE  LYS A 737       1.653  40.994  59.003  1.00  0.00           C  \nATOM    328  NZ  LYS A 737       0.861  40.257  60.044  1.00  0.00           N1+\nATOM    329  N   VAL A 738       3.192  36.850  54.628  1.00  0.00           N  \nATOM    330  CA  VAL A 738       2.052  36.069  54.157  1.00  0.00           C  \nATOM    331  C   VAL A 738       2.576  34.662  53.876  1.00  0.00           C  \nATOM    332  O   VAL A 738       3.606  34.507  53.210  1.00  0.00           O  \nATOM    333  CB  VAL A 738       1.361  36.651  52.849  1.00  0.00           C  \nATOM    334  CG1 VAL A 738       0.855  38.052  53.062  1.00  0.00           C  \nATOM    335  CG2 VAL A 738       2.281  36.654  51.651  1.00  0.00           C  \nATOM    336  N   LYS A 739       1.902  33.638  54.396  1.00  0.00           N  \nATOM    337  CA  LYS A 739       2.294  32.270  54.083  1.00  0.00           C  \nATOM    338  C   LYS A 739       1.440  31.751  52.932  1.00  0.00           C  \nATOM    339  O   LYS A 739       0.291  32.157  52.789  1.00  0.00           O  \nATOM    340  CB  LYS A 739       2.187  31.375  55.301  1.00  0.00           C  \nATOM    341  CG  LYS A 739       3.095  31.762  56.401  1.00  0.00           C  \nATOM    342  CD  LYS A 739       3.156  30.644  57.385  1.00  0.00           C  \nATOM    343  CE  LYS A 739       3.038  31.162  58.813  1.00  0.00           C  \nATOM    344  NZ  LYS A 739       3.036  29.998  59.757  1.00  0.00           N1+\nATOM    345  N   ILE A 740       2.016  30.878  52.107  1.00  0.00           N  \nATOM    346  CA  ILE A 740       1.383  30.410  50.883  1.00  0.00           C  \nATOM    347  C   ILE A 740       1.644  28.910  50.705  1.00  0.00           C  \nATOM    348  O   ILE A 740       2.765  28.488  50.417  1.00  0.00           O  \nATOM    349  CB  ILE A 740       1.860  31.223  49.630  1.00  0.00           C  \nATOM    350  CG1 ILE A 740       1.620  32.723  49.829  1.00  0.00           C  \nATOM    351  CG2 ILE A 740       1.192  30.739  48.363  1.00  0.00           C  \nATOM    352  CD1 ILE A 740       0.878  33.425  48.716  1.00  0.00           C  \nATOM    353  N   PRO A 741       0.601  28.090  50.901  1.00  0.00           N  \nATOM    354  CA  PRO A 741       0.828  26.672  50.708  1.00  0.00           C  \nATOM    355  C   PRO A 741       1.163  26.437  49.258  1.00  0.00           C  \nATOM    356  O   PRO A 741       0.501  26.956  48.379  1.00  0.00           O  \nATOM    357  CB  PRO A 741      -0.515  26.047  51.098  1.00  0.00           C  \nATOM    358  CG  PRO A 741      -1.198  27.092  51.924  1.00  0.00           C  \nATOM    359  CD  PRO A 741      -0.786  28.374  51.310  1.00  0.00           C  \nATOM    360  N   VAL A 742       2.226  25.693  49.022  1.00  0.00           N  \nATOM    361  CA  VAL A 742       2.713  25.467  47.666  1.00  0.00           C  \nATOM    362  C   VAL A 742       3.089  24.015  47.417  1.00  0.00           C  \nATOM    363  O   VAL A 742       3.337  23.259  48.344  1.00  0.00           O  \nATOM    364  CB  VAL A 742       3.951  26.383  47.316  1.00  0.00           C  \nATOM    365  CG1 VAL A 742       3.597  27.862  47.423  1.00  0.00           C  \nATOM    366  CG2 VAL A 742       5.154  26.061  48.189  1.00  0.00           C  \nATOM    367  N   ALA A 743       3.130  23.644  46.153  1.00  0.00           N  \nATOM    368  CA  ALA A 743       3.827  22.448  45.753  1.00  0.00           C  \nATOM    369  C   ALA A 743       5.103  22.815  44.980  1.00  0.00           C  \nATOM    370  O   ALA A 743       5.212  23.898  44.388  1.00  0.00           O  \nATOM    371  CB  ALA A 743       2.933  21.562  44.947  1.00  0.00           C  \nATOM    372  N   ILE A 744       6.077  21.910  45.036  1.00  0.00           N  \nATOM    373  CA  ILE A 744       7.403  22.148  44.483  1.00  0.00           C  \nATOM    374  C   ILE A 744       7.908  20.919  43.749  1.00  0.00           C  \nATOM    375  O   ILE A 744       8.348  19.969  44.370  1.00  0.00           O  \nATOM    376  CB  ILE A 744       8.444  22.517  45.567  1.00  0.00           C  \nATOM    377  CG1 ILE A 744       7.969  23.693  46.410  1.00  0.00           C  \nATOM    378  CG2 ILE A 744       9.769  22.885  44.916  1.00  0.00           C  \nATOM    379  CD1 ILE A 744       8.288  23.571  47.863  1.00  0.00           C  \nATOM    380  N   LYS A 745       7.838  20.955  42.424  1.00  0.00           N  \nATOM    381  CA  LYS A 745       8.370  19.890  41.599  1.00  0.00           C  \nATOM    382  C   LYS A 745       9.831  20.156  41.406  1.00  0.00           C  \nATOM    383  O   LYS A 745      10.220  21.111  40.750  1.00  0.00           O  \nATOM    384  CB  LYS A 745       7.667  19.790  40.243  1.00  0.00           C  \nATOM    385  CG  LYS A 745       8.375  18.866  39.268  1.00  0.00           C  \nATOM    386  CD  LYS A 745       7.416  17.999  38.527  1.00  0.00           C  \nATOM    387  CE  LYS A 745       6.712  18.780  37.479  1.00  0.00           C  \nATOM    388  NZ  LYS A 745       5.766  17.918  36.737  1.00  0.00           N1+\nATOM    389  N   GLU A 746      10.633  19.301  42.024  1.00  0.00           N  \nATOM    390  CA  GLU A 746      12.081  19.317  41.907  1.00  0.00           C  \nATOM    391  C   GLU A 746      12.445  18.159  41.010  1.00  0.00           C  \nATOM    392  O   GLU A 746      11.908  17.045  41.150  1.00  0.00           O  \nATOM    393  CB  GLU A 746      12.727  19.187  43.292  1.00  0.00           C  \nATOM    394  CG  GLU A 746      14.100  18.551  43.343  1.00  0.00           C  \nATOM    395  CD  GLU A 746      14.831  18.912  44.619  1.00  0.00           C  \nATOM    396  OE1 GLU A 746      14.283  18.666  45.718  1.00  0.00           O  \nATOM    397  OE2 GLU A 746      15.952  19.456  44.527  1.00  0.00           O1-\nATOM    398  N   LEU A 747      13.339  18.452  40.070  1.00  0.00           N  \nATOM    399  CA  LEU A 747      13.803  17.498  39.073  1.00  0.00           C  \nATOM    400  C   LEU A 747      14.743  16.471  39.713  1.00  0.00           C  \nATOM    401  O   LEU A 747      15.461  16.806  40.687  1.00  0.00           O  \nATOM    402  CB  LEU A 747      14.535  18.264  37.972  1.00  0.00           C  \nATOM    403  CG  LEU A 747      14.943  17.515  36.711  1.00  0.00           C  \nATOM    404  CD1 LEU A 747      13.703  16.893  36.039  1.00  0.00           C  \nATOM    405  CD2 LEU A 747      15.706  18.468  35.783  1.00  0.00           C  \nATOM    406  N   ARG A 748      14.733  15.238  39.173  1.00  0.00           N  \nATOM    407  CA  ARG A 748      15.676  14.176  39.586  1.00  0.00           C  \nATOM    408  C   ARG A 748      17.030  14.788  39.989  1.00  0.00           C  \nATOM    409  O   ARG A 748      17.623  15.575  39.223  1.00  0.00           O  \nATOM    410  CB  ARG A 748      15.904  13.123  38.475  1.00  0.00           C  \nATOM    411  CG  ARG A 748      14.662  12.614  37.736  1.00  0.00           C  \nATOM    412  CD  ARG A 748      14.692  11.091  37.561  1.00  0.00           C  \nATOM    413  NE  ARG A 748      13.748  10.402  38.449  1.00  0.00           N  \nATOM    414  CZ  ARG A 748      13.936  10.192  39.754  1.00  0.00           C  \nATOM    415  NH1 ARG A 748      15.037  10.618  40.361  1.00  0.00           N1+\nATOM    416  NH2 ARG A 748      13.015   9.549  40.457  1.00  0.00           N  \nATOM    417  N   GLU A 749      17.500  14.441  41.192  1.00  0.00           N  \nATOM    418  CA  GLU A 749      18.791  14.924  41.711  1.00  0.00           C  \nATOM    419  C   GLU A 749      19.941  14.765  40.683  1.00  0.00           C  \nATOM    420  O   GLU A 749      20.788  15.668  40.539  1.00  0.00           O  \nATOM    421  CB  GLU A 749      19.125  14.237  43.050  1.00  0.00           C  \nATOM    422  CG  GLU A 749      18.065  14.414  44.164  1.00  0.00           C  \nATOM    423  CD  GLU A 749      17.961  15.858  44.683  1.00  0.00           C  \nATOM    424  OE1 GLU A 749      18.005  16.049  45.923  1.00  0.00           O  \nATOM    425  OE2 GLU A 749      17.831  16.802  43.859  1.00  0.00           O1-\nATOM    426  N   ALA A 750      19.953  13.615  39.987  1.00  0.00           N  \nATOM    427  CA  ALA A 750      20.700  13.423  38.730  1.00  0.00           C  \nATOM    428  C   ALA A 750      20.292  14.531  37.733  1.00  0.00           C  \nATOM    429  O   ALA A 750      19.394  14.344  36.899  1.00  0.00           O  \nATOM    430  CB  ALA A 750      20.429  12.007  38.141  1.00  0.00           C  \nATOM    431  N   THR A 751      20.962  15.683  37.852  1.00  0.00           N  \nATOM    432  CA  THR A 751      20.582  16.938  37.187  1.00  0.00           C  \nATOM    433  C   THR A 751      21.280  17.114  35.825  1.00  0.00           C  \nATOM    434  O   THR A 751      21.827  18.184  35.522  1.00  0.00           O  \nATOM    435  CB  THR A 751      20.816  18.155  38.156  1.00  0.00           C  \nATOM    436  OG1 THR A 751      19.985  18.005  39.319  1.00  0.00           O  \nATOM    437  CG2 THR A 751      20.517  19.507  37.489  1.00  0.00           C  \nATOM    438  N   SER A 752      21.240  16.050  35.018  1.00  0.00           N  \nATOM    439  CA  SER A 752      21.724  16.058  33.633  1.00  0.00           C  \nATOM    440  C   SER A 752      21.091  17.213  32.824  1.00  0.00           C  \nATOM    441  O   SER A 752      19.924  17.574  33.077  1.00  0.00           O  \nATOM    442  CB  SER A 752      21.410  14.717  32.959  1.00  0.00           C  \nATOM    443  OG  SER A 752      20.018  14.574  32.723  1.00  0.00           O  \nATOM    444  N   PRO A 753      21.856  17.806  31.864  1.00  0.00           N  \nATOM    445  CA  PRO A 753      21.345  18.903  31.002  1.00  0.00           C  \nATOM    446  C   PRO A 753      20.171  18.496  30.066  1.00  0.00           C  \nATOM    447  O   PRO A 753      19.313  19.338  29.736  1.00  0.00           O  \nATOM    448  CB  PRO A 753      22.584  19.327  30.188  1.00  0.00           C  \nATOM    449  CG  PRO A 753      23.767  18.752  30.934  1.00  0.00           C  \nATOM    450  CD  PRO A 753      23.261  17.481  31.543  1.00  0.00           C  \nATOM    451  N   LYS A 754      20.149  17.222  29.657  1.00  0.00           N  \nATOM    452  CA  LYS A 754      19.037  16.622  28.905  1.00  0.00           C  \nATOM    453  C   LYS A 754      17.659  16.813  29.614  1.00  0.00           C  \nATOM    454  O   LYS A 754      16.614  16.849  28.950  1.00  0.00           O  \nATOM    455  CB  LYS A 754      19.392  15.143  28.558  1.00  0.00           C  \nATOM    456  CG  LYS A 754      18.341  14.181  27.870  1.00  0.00           C  \nATOM    457  CD  LYS A 754      17.209  14.819  26.995  1.00  0.00           C  \nATOM    458  CE  LYS A 754      17.666  15.496  25.693  1.00  0.00           C  \nATOM    459  NZ  LYS A 754      16.563  16.320  25.096  1.00  0.00           N1+\nATOM    460  N   ALA A 755      17.662  16.991  30.940  1.00  0.00           N  \nATOM    461  CA  ALA A 755      16.415  17.158  31.710  1.00  0.00           C  \nATOM    462  C   ALA A 755      16.046  18.609  32.048  1.00  0.00           C  \nATOM    463  O   ALA A 755      14.892  19.006  31.887  1.00  0.00           O  \nATOM    464  CB  ALA A 755      16.460  16.314  32.969  1.00  0.00           C  \nATOM    465  N   ASN A 756      17.024  19.384  32.523  1.00  0.00           N  \nATOM    466  CA  ASN A 756      16.820  20.794  32.879  1.00  0.00           C  \nATOM    467  C   ASN A 756      16.068  21.542  31.805  1.00  0.00           C  \nATOM    468  O   ASN A 756      15.322  22.462  32.108  1.00  0.00           O  \nATOM    469  CB  ASN A 756      18.144  21.528  33.129  1.00  0.00           C  \nATOM    470  CG  ASN A 756      18.813  21.129  34.440  1.00  0.00           C  \nATOM    471  OD1 ASN A 756      18.696  21.832  35.453  1.00  0.00           O  \nATOM    472  ND2 ASN A 756      19.541  20.004  34.419  1.00  0.00           N  \nATOM    473  N   LYS A 757      16.283  21.154  30.552  1.00  0.00           N  \nATOM    474  CA  LYS A 757      15.542  21.733  29.438  1.00  0.00           C  \nATOM    475  C   LYS A 757      14.032  21.534  29.630  1.00  0.00           C  \nATOM    476  O   LYS A 757      13.261  22.492  29.563  1.00  0.00           O  \nATOM    477  CB  LYS A 757      16.042  21.162  28.099  1.00  0.00           C  \nATOM    478  CG  LYS A 757      15.027  21.139  26.933  1.00  0.00           C  \nATOM    479  CD  LYS A 757      14.404  19.731  26.767  1.00  0.00           C  \nATOM    480  CE  LYS A 757      14.002  19.413  25.326  1.00  0.00           C  \nATOM    481  NZ  LYS A 757      12.914  20.298  24.807  1.00  0.00           N1+\nATOM    482  N   GLU A 758      13.634  20.299  29.918  1.00  0.00           N  \nATOM    483  CA  GLU A 758      12.222  19.892  29.899  1.00  0.00           C  \nATOM    484  C   GLU A 758      11.388  20.520  30.998  1.00  0.00           C  \nATOM    485  O   GLU A 758      10.195  20.804  30.819  1.00  0.00           O  \nATOM    486  CB  GLU A 758      12.120  18.376  30.027  1.00  0.00           C  \nATOM    487  CG  GLU A 758      13.287  17.622  29.410  1.00  0.00           C  \nATOM    488  CD  GLU A 758      12.868  16.288  28.835  1.00  0.00           C  \nATOM    489  OE1 GLU A 758      11.634  16.065  28.705  1.00  0.00           O  \nATOM    490  OE2 GLU A 758      13.774  15.476  28.510  1.00  0.00           O1-\nATOM    491  N   ILE A 759      12.027  20.696  32.145  1.00  0.00           N  \nATOM    492  CA  ILE A 759      11.378  21.269  33.288  1.00  0.00           C  \nATOM    493  C   ILE A 759      11.326  22.787  33.130  1.00  0.00           C  \nATOM    494  O   ILE A 759      10.414  23.438  33.631  1.00  0.00           O  \nATOM    495  CB  ILE A 759      12.050  20.792  34.587  1.00  0.00           C  \nATOM    496  CG1 ILE A 759      11.303  21.300  35.820  1.00  0.00           C  \nATOM    497  CG2 ILE A 759      13.499  21.169  34.607  1.00  0.00           C  \nATOM    498  CD1 ILE A 759      11.471  20.435  37.038  1.00  0.00           C  \nATOM    499  N   LEU A 760      12.268  23.353  32.392  1.00  0.00           N  \nATOM    500  CA  LEU A 760      12.215  24.787  32.142  1.00  0.00           C  \nATOM    501  C   LEU A 760      11.134  25.094  31.129  1.00  0.00           C  \nATOM    502  O   LEU A 760      10.501  26.137  31.176  1.00  0.00           O  \nATOM    503  CB  LEU A 760      13.575  25.347  31.728  1.00  0.00           C  \nATOM    504  CG  LEU A 760      14.584  25.527  32.870  1.00  0.00           C  \nATOM    505  CD1 LEU A 760      15.970  25.720  32.327  1.00  0.00           C  \nATOM    506  CD2 LEU A 760      14.223  26.683  33.766  1.00  0.00           C  \nATOM    507  N   ASP A 761      10.899  24.150  30.238  1.00  0.00           N  \nATOM    508  CA  ASP A 761       9.822  24.267  29.287  1.00  0.00           C  \nATOM    509  C   ASP A 761       8.502  24.427  30.009  1.00  0.00           C  \nATOM    510  O   ASP A 761       7.764  25.386  29.749  1.00  0.00           O  \nATOM    511  CB  ASP A 761       9.807  23.042  28.383  1.00  0.00           C  \nATOM    512  CG  ASP A 761      10.793  23.169  27.229  1.00  0.00           C  \nATOM    513  OD1 ASP A 761      10.948  24.308  26.728  1.00  0.00           O  \nATOM    514  OD2 ASP A 761      11.420  22.153  26.820  1.00  0.00           O1-\nATOM    515  N   GLU A 762       8.227  23.496  30.925  1.00  0.00           N  \nATOM    516  CA  GLU A 762       7.062  23.578  31.801  1.00  0.00           C  \nATOM    517  C   GLU A 762       6.955  24.971  32.361  1.00  0.00           C  \nATOM    518  O   GLU A 762       5.992  25.700  32.086  1.00  0.00           O  \nATOM    519  CB  GLU A 762       7.193  22.620  32.974  1.00  0.00           C  \nATOM    520  CG  GLU A 762       6.742  21.226  32.686  1.00  0.00           C  \nATOM    521  CD  GLU A 762       6.297  20.478  33.936  1.00  0.00           C  \nATOM    522  OE1 GLU A 762       7.014  19.534  34.324  1.00  0.00           O  \nATOM    523  OE2 GLU A 762       5.243  20.824  34.525  1.00  0.00           O1-\nATOM    524  N   ALA A 763       7.982  25.326  33.139  1.00  0.00           N  \nATOM    525  CA  ALA A 763       8.087  26.620  33.781  1.00  0.00           C  \nATOM    526  C   ALA A 763       7.699  27.713  32.808  1.00  0.00           C  \nATOM    527  O   ALA A 763       6.871  28.558  33.144  1.00  0.00           O  \nATOM    528  CB  ALA A 763       9.470  26.836  34.300  1.00  0.00           C  \nATOM    529  N   TYR A 764       8.254  27.680  31.600  1.00  0.00           N  \nATOM    530  CA  TYR A 764       7.905  28.697  30.630  1.00  0.00           C  \nATOM    531  C   TYR A 764       6.384  28.768  30.452  1.00  0.00           C  \nATOM    532  O   TYR A 764       5.777  29.828  30.619  1.00  0.00           O  \nATOM    533  CB  TYR A 764       8.631  28.501  29.299  1.00  0.00           C  \nATOM    534  CG  TYR A 764       8.189  29.482  28.226  1.00  0.00           C  \nATOM    535  CD1 TYR A 764       7.087  29.212  27.428  1.00  0.00           C  \nATOM    536  CD2 TYR A 764       8.871  30.671  28.010  1.00  0.00           C  \nATOM    537  CE1 TYR A 764       6.667  30.104  26.449  1.00  0.00           C  \nATOM    538  CE2 TYR A 764       8.459  31.575  27.024  1.00  0.00           C  \nATOM    539  CZ  TYR A 764       7.349  31.287  26.249  1.00  0.00           C  \nATOM    540  OH  TYR A 764       6.895  32.162  25.279  1.00  0.00           O  \nATOM    541  N   VAL A 765       5.765  27.635  30.147  1.00  0.00           N  \nATOM    542  CA  VAL A 765       4.314  27.606  29.931  1.00  0.00           C  \nATOM    543  C   VAL A 765       3.532  27.981  31.218  1.00  0.00           C  \nATOM    544  O   VAL A 765       2.691  28.891  31.224  1.00  0.00           O  \nATOM    545  CB  VAL A 765       3.880  26.241  29.376  1.00  0.00           C  \nATOM    546  CG1 VAL A 765       2.395  26.190  29.203  1.00  0.00           C  \nATOM    547  CG2 VAL A 765       4.548  26.005  28.051  1.00  0.00           C  \nATOM    548  N   MET A 766       3.844  27.288  32.311  1.00  0.00           N  \nATOM    549  CA  MET A 766       3.160  27.484  33.569  1.00  0.00           C  \nATOM    550  C   MET A 766       3.237  28.924  34.001  1.00  0.00           C  \nATOM    551  O   MET A 766       2.329  29.435  34.630  1.00  0.00           O  \nATOM    552  CB  MET A 766       3.799  26.613  34.616  1.00  0.00           C  \nATOM    553  CG  MET A 766       2.784  25.953  35.482  1.00  0.00           C  \nATOM    554  SD  MET A 766       3.419  24.404  36.172  1.00  0.00           S  \nATOM    555  CE  MET A 766       3.286  23.190  34.823  1.00  0.00           C  \nATOM    556  N   ALA A 767       4.341  29.565  33.653  1.00  0.00           N  \nATOM    557  CA  ALA A 767       4.530  30.968  33.898  1.00  0.00           C  \nATOM    558  C   ALA A 767       3.631  31.832  32.971  1.00  0.00           C  \nATOM    559  O   ALA A 767       3.323  33.003  33.261  1.00  0.00           O  \nATOM    560  CB  ALA A 767       5.987  31.311  33.717  1.00  0.00           C  \nATOM    561  N   SER A 768       3.181  31.250  31.866  1.00  0.00           N  \nATOM    562  CA  SER A 768       2.557  32.059  30.824  1.00  0.00           C  \nATOM    563  C   SER A 768       1.063  32.002  30.821  1.00  0.00           C  \nATOM    564  O   SER A 768       0.422  32.688  30.028  1.00  0.00           O  \nATOM    565  CB  SER A 768       3.064  31.650  29.439  1.00  0.00           C  \nATOM    566  OG  SER A 768       4.281  32.301  29.118  1.00  0.00           O  \nATOM    567  N   VAL A 769       0.479  31.213  31.704  1.00  0.00           N  \nATOM    568  CA  VAL A 769      -0.966  31.104  31.735  1.00  0.00           C  \nATOM    569  C   VAL A 769      -1.611  31.753  32.942  1.00  0.00           C  \nATOM    570  O   VAL A 769      -0.967  31.964  33.958  1.00  0.00           O  \nATOM    571  CB  VAL A 769      -1.381  29.657  31.700  1.00  0.00           C  \nATOM    572  CG1 VAL A 769      -0.429  28.879  30.839  1.00  0.00           C  \nATOM    573  CG2 VAL A 769      -1.399  29.106  33.090  1.00  0.00           C  \nATOM    574  N   ASP A 770      -2.896  32.063  32.821  1.00  0.00           N  \nATOM    575  CA  ASP A 770      -3.646  32.676  33.906  1.00  0.00           C  \nATOM    576  C   ASP A 770      -5.137  32.443  33.770  1.00  0.00           C  \nATOM    577  O   ASP A 770      -5.831  33.212  33.122  1.00  0.00           O  \nATOM    578  CB  ASP A 770      -3.373  34.168  33.980  1.00  0.00           C  \nATOM    579  CG  ASP A 770      -3.878  34.781  35.260  1.00  0.00           C  \nATOM    580  OD1 ASP A 770      -4.309  34.024  36.148  1.00  0.00           O  \nATOM    581  OD2 ASP A 770      -3.842  36.016  35.386  1.00  0.00           O1-\nATOM    582  N   ASN A 771      -5.628  31.380  34.392  1.00  0.00           N  \nATOM    583  CA  ASN A 771      -7.037  31.047  34.339  1.00  0.00           C  \nATOM    584  C   ASN A 771      -7.450  30.247  35.552  1.00  0.00           C  \nATOM    585  O   ASN A 771      -6.748  29.340  35.977  1.00  0.00           O  \nATOM    586  CB  ASN A 771      -7.344  30.253  33.080  1.00  0.00           C  \nATOM    587  CG  ASN A 771      -8.815  30.177  32.789  1.00  0.00           C  \nATOM    588  OD1 ASN A 771      -9.471  29.205  33.130  1.00  0.00           O  \nATOM    589  ND2 ASN A 771      -9.343  31.203  32.151  1.00  0.00           N  \nATOM    590  N   PRO A 772      -8.596  30.589  36.110  1.00  0.00           N  \nATOM    591  CA  PRO A 772      -9.101  29.906  37.291  1.00  0.00           C  \nATOM    592  C   PRO A 772      -9.067  28.402  37.152  1.00  0.00           C  \nATOM    593  O   PRO A 772      -9.317  27.699  38.122  1.00  0.00           O  \nATOM    594  CB  PRO A 772     -10.545  30.381  37.364  1.00  0.00           C  \nATOM    595  CG  PRO A 772     -10.532  31.687  36.733  1.00  0.00           C  \nATOM    596  CD  PRO A 772      -9.546  31.596  35.625  1.00  0.00           C  \nATOM    597  N   HIS A 773      -8.770  27.909  35.962  1.00  0.00           N  \nATOM    598  CA  HIS A 773      -8.740  26.475  35.758  1.00  0.00           C  \nATOM    599  C   HIS A 773      -7.492  26.015  35.050  1.00  0.00           C  \nATOM    600  O   HIS A 773      -7.534  25.141  34.204  1.00  0.00           O  \nATOM    601  CB  HIS A 773      -9.975  26.028  35.000  1.00  0.00           C  \nATOM    602  CG  HIS A 773     -11.254  26.433  35.653  1.00  0.00           C  \nATOM    603  ND1 HIS A 773     -11.688  25.887  36.837  1.00  0.00           N  \nATOM    604  CD2 HIS A 773     -12.193  27.334  35.289  1.00  0.00           C  \nATOM    605  CE1 HIS A 773     -12.841  26.431  37.173  1.00  0.00           C  \nATOM    606  NE2 HIS A 773     -13.168  27.317  36.251  1.00  0.00           N  \nATOM    607  N   VAL A 774      -6.373  26.611  35.418  1.00  0.00           N  \nATOM    608  CA  VAL A 774      -5.097  26.272  34.829  1.00  0.00           C  \nATOM    609  C   VAL A 774      -4.033  26.602  35.846  1.00  0.00           C  \nATOM    610  O   VAL A 774      -3.892  27.744  36.260  1.00  0.00           O  \nATOM    611  CB  VAL A 774      -4.861  27.078  33.575  1.00  0.00           C  \nATOM    612  CG1 VAL A 774      -3.482  26.856  33.073  1.00  0.00           C  \nATOM    613  CG2 VAL A 774      -5.856  26.692  32.535  1.00  0.00           C  \nATOM    614  N   CYS A 775      -3.305  25.583  36.271  1.00  0.00           N  \nATOM    615  CA  CYS A 775      -2.273  25.759  37.266  1.00  0.00           C  \nATOM    616  C   CYS A 775      -1.191  26.706  36.799  1.00  0.00           C  \nATOM    617  O   CYS A 775      -0.448  26.403  35.878  1.00  0.00           O  \nATOM    618  CB  CYS A 775      -1.680  24.414  37.659  1.00  0.00           C  \nATOM    619  SG  CYS A 775      -2.672  23.493  38.835  1.00  0.00           S  \nATOM    620  N   ARG A 776      -1.107  27.858  37.451  1.00  0.00           N  \nATOM    621  CA  ARG A 776      -0.102  28.867  37.119  1.00  0.00           C  \nATOM    622  C   ARG A 776       1.146  28.693  37.979  1.00  0.00           C  \nATOM    623  O   ARG A 776       1.067  28.239  39.125  1.00  0.00           O  \nATOM    624  CB  ARG A 776      -0.696  30.263  37.269  1.00  0.00           C  \nATOM    625  CG  ARG A 776       0.216  31.389  36.852  1.00  0.00           C  \nATOM    626  CD  ARG A 776      -0.370  32.730  37.236  1.00  0.00           C  \nATOM    627  NE  ARG A 776       0.632  33.486  37.985  1.00  0.00           N  \nATOM    628  CZ  ARG A 776       0.613  33.713  39.309  1.00  0.00           C  \nATOM    629  NH1 ARG A 776      -0.380  33.265  40.085  1.00  0.00           N1+\nATOM    630  NH2 ARG A 776       1.598  34.408  39.867  1.00  0.00           N  \nATOM    631  N   LEU A 777       2.300  29.033  37.406  1.00  0.00           N  \nATOM    632  CA  LEU A 777       3.591  28.983  38.109  1.00  0.00           C  \nATOM    633  C   LEU A 777       3.764  30.152  39.081  1.00  0.00           C  \nATOM    634  O   LEU A 777       3.560  31.291  38.719  1.00  0.00           O  \nATOM    635  CB  LEU A 777       4.742  28.974  37.102  1.00  0.00           C  \nATOM    636  CG  LEU A 777       6.163  28.911  37.661  1.00  0.00           C  \nATOM    637  CD1 LEU A 777       6.483  27.582  38.312  1.00  0.00           C  \nATOM    638  CD2 LEU A 777       7.119  29.159  36.535  1.00  0.00           C  \nATOM    639  N   LEU A 778       4.125  29.874  40.319  1.00  0.00           N  \nATOM    640  CA  LEU A 778       4.382  30.955  41.237  1.00  0.00           C  \nATOM    641  C   LEU A 778       5.770  31.536  41.040  1.00  0.00           C  \nATOM    642  O   LEU A 778       5.952  32.746  41.114  1.00  0.00           O  \nATOM    643  CB  LEU A 778       4.173  30.532  42.687  1.00  0.00           C  \nATOM    644  CG  LEU A 778       2.689  30.405  43.040  1.00  0.00           C  \nATOM    645  CD1 LEU A 778       2.483  29.663  44.377  1.00  0.00           C  \nATOM    646  CD2 LEU A 778       1.979  31.771  43.018  1.00  0.00           C  \nATOM    647  N   GLY A 779       6.750  30.686  40.776  1.00  0.00           N  \nATOM    648  CA  GLY A 779       8.110  31.140  40.611  1.00  0.00           C  \nATOM    649  C   GLY A 779       9.033  29.966  40.555  1.00  0.00           C  \nATOM    650  O   GLY A 779       8.620  28.840  40.797  1.00  0.00           O  \nATOM    651  N   ILE A 780      10.289  30.204  40.212  1.00  0.00           N  \nATOM    652  CA  ILE A 780      11.247  29.119  40.317  1.00  0.00           C  \nATOM    653  C   ILE A 780      12.447  29.490  41.114  1.00  0.00           C  \nATOM    654  O   ILE A 780      12.663  30.643  41.464  1.00  0.00           O  \nATOM    655  CB  ILE A 780      11.679  28.531  38.978  1.00  0.00           C  \nATOM    656  CG1 ILE A 780      12.558  29.515  38.217  1.00  0.00           C  \nATOM    657  CG2 ILE A 780      10.477  28.075  38.189  1.00  0.00           C  \nATOM    658  CD1 ILE A 780      13.595  28.819  37.407  1.00  0.00           C  \nATOM    659  N   CYS A 781      13.228  28.463  41.374  1.00  0.00           N  \nATOM    660  CA  CYS A 781      14.251  28.506  42.365  1.00  0.00           C  \nATOM    661  C   CYS A 781      15.438  27.780  41.817  1.00  0.00           C  \nATOM    662  O   CYS A 781      15.309  26.660  41.308  1.00  0.00           O  \nATOM    663  CB  CYS A 781      13.766  27.776  43.594  1.00  0.00           C  \nATOM    664  SG  CYS A 781      14.811  28.072  44.970  1.00  0.00           S  \nATOM    665  N   LEU A 782      16.605  28.394  41.946  1.00  0.00           N  \nATOM    666  CA  LEU A 782      17.739  27.934  41.152  1.00  0.00           C  \nATOM    667  C   LEU A 782      18.804  27.048  41.783  1.00  0.00           C  \nATOM    668  O   LEU A 782      19.820  26.814  41.138  1.00  0.00           O  \nATOM    669  CB  LEU A 782      18.389  29.104  40.420  1.00  0.00           C  \nATOM    670  CG  LEU A 782      17.577  29.584  39.221  1.00  0.00           C  \nATOM    671  CD1 LEU A 782      18.112  30.901  38.769  1.00  0.00           C  \nATOM    672  CD2 LEU A 782      17.610  28.579  38.084  1.00  0.00           C  \nATOM    673  N   THR A 783      18.558  26.525  42.989  1.00  0.00           N  \nATOM    674  CA  THR A 783      19.579  25.779  43.756  1.00  0.00           C  \nATOM    675  C   THR A 783      20.656  25.105  42.904  1.00  0.00           C  \nATOM    676  O   THR A 783      21.795  25.594  42.816  1.00  0.00           O  \nATOM    677  CB  THR A 783      18.988  24.672  44.667  1.00  0.00           C  \nATOM    678  OG1 THR A 783      18.472  23.582  43.867  1.00  0.00           O  \nATOM    679  CG2 THR A 783      17.924  25.250  45.596  1.00  0.00           C  \nATOM    680  N   SER A 784      20.305  23.979  42.290  1.00  0.00           N  \nATOM    681  CA  SER A 784      21.298  23.137  41.629  1.00  0.00           C  \nATOM    682  C   SER A 784      20.514  22.278  40.658  1.00  0.00           C  \nATOM    683  O   SER A 784      20.918  22.055  39.497  1.00  0.00           O  \nATOM    684  CB  SER A 784      22.011  22.240  42.649  1.00  0.00           C  \nATOM    685  OG  SER A 784      21.503  22.456  43.955  1.00  0.00           O  \nATOM    686  N   THR A 785      19.396  21.767  41.171  1.00  0.00           N  \nATOM    687  CA  THR A 785      18.325  21.294  40.329  1.00  0.00           C  \nATOM    688  C   THR A 785      17.304  22.423  40.409  1.00  0.00           C  \nATOM    689  O   THR A 785      17.149  23.096  41.453  1.00  0.00           O  \nATOM    690  CB  THR A 785      17.774  19.908  40.799  1.00  0.00           C  \nATOM    691  OG1 THR A 785      17.008  19.278  39.754  1.00  0.00           O  \nATOM    692  CG2 THR A 785      16.964  20.045  42.092  1.00  0.00           C  \nATOM    693  N   VAL A 786      16.658  22.664  39.283  1.00  0.00           N  \nATOM    694  CA  VAL A 786      15.649  23.692  39.200  1.00  0.00           C  \nATOM    695  C   VAL A 786      14.406  23.217  39.994  1.00  0.00           C  \nATOM    696  O   VAL A 786      13.988  22.068  39.883  1.00  0.00           O  \nATOM    697  CB  VAL A 786      15.394  24.069  37.690  1.00  0.00           C  \nATOM    698  CG1 VAL A 786      14.372  25.183  37.535  1.00  0.00           C  \nATOM    699  CG2 VAL A 786      16.697  24.511  37.038  1.00  0.00           C  \nATOM    700  N   GLN A 787      13.873  24.091  40.842  1.00  0.00           N  \nATOM    701  CA  GLN A 787      12.621  23.825  41.533  1.00  0.00           C  \nATOM    702  C   GLN A 787      11.492  24.691  40.993  1.00  0.00           C  \nATOM    703  O   GLN A 787      11.543  25.928  41.081  1.00  0.00           O  \nATOM    704  CB  GLN A 787      12.758  24.081  43.025  1.00  0.00           C  \nATOM    705  CG  GLN A 787      13.552  23.037  43.796  1.00  0.00           C  \nATOM    706  CD  GLN A 787      13.879  23.521  45.211  1.00  0.00           C  \nATOM    707  OE1 GLN A 787      13.441  22.927  46.214  1.00  0.00           O  \nATOM    708  NE2 GLN A 787      14.629  24.629  45.298  1.00  0.00           N  \nATOM    709  N   LEU A 788      10.483  24.027  40.427  1.00  0.00           N  \nATOM    710  CA  LEU A 788       9.200  24.640  40.058  1.00  0.00           C  \nATOM    711  C   LEU A 788       8.293  24.798  41.252  1.00  0.00           C  \nATOM    712  O   LEU A 788       7.951  23.836  41.909  1.00  0.00           O  \nATOM    713  CB  LEU A 788       8.480  23.771  39.038  1.00  0.00           C  \nATOM    714  CG  LEU A 788       8.475  24.266  37.600  1.00  0.00           C  \nATOM    715  CD1 LEU A 788       9.875  24.448  37.071  1.00  0.00           C  \nATOM    716  CD2 LEU A 788       7.688  23.289  36.750  1.00  0.00           C  \nATOM    717  N   ILE A 789       7.900  26.024  41.523  1.00  0.00           N  \nATOM    718  CA  ILE A 789       7.009  26.268  42.641  1.00  0.00           C  \nATOM    719  C   ILE A 789       5.638  26.734  42.154  1.00  0.00           C  \nATOM    720  O   ILE A 789       5.476  27.828  41.644  1.00  0.00           O  \nATOM    721  CB  ILE A 789       7.628  27.231  43.705  1.00  0.00           C  \nATOM    722  CG1 ILE A 789       8.765  26.558  44.473  1.00  0.00           C  \nATOM    723  CG2 ILE A 789       6.609  27.617  44.738  1.00  0.00           C  \nATOM    724  CD1 ILE A 789      10.077  26.541  43.755  1.00  0.00           C  \nATOM    725  N   THR A 790       4.654  25.863  42.307  1.00  0.00           N  \nATOM    726  CA  THR A 790       3.290  26.225  42.021  1.00  0.00           C  \nATOM    727  C   THR A 790       2.432  26.148  43.275  1.00  0.00           C  \nATOM    728  O   THR A 790       2.873  25.649  44.309  1.00  0.00           O  \nATOM    729  CB  THR A 790       2.701  25.280  41.044  1.00  0.00           C  \nATOM    730  OG1 THR A 790       1.377  25.733  40.729  1.00  0.00           O  \nATOM    731  CG2 THR A 790       2.647  23.880  41.658  1.00  0.00           C  \nATOM    732  N   GLN A 791       1.202  26.637  43.161  1.00  0.00           N  \nATOM    733  CA  GLN A 791       0.178  26.578  44.233  1.00  0.00           C  \nATOM    734  C   GLN A 791      -0.211  25.156  44.595  1.00  0.00           C  \nATOM    735  O   GLN A 791      -0.417  24.334  43.702  1.00  0.00           O  \nATOM    736  CB  GLN A 791      -1.079  27.326  43.769  1.00  0.00           C  \nATOM    737  CG  GLN A 791      -2.285  27.256  44.665  1.00  0.00           C  \nATOM    738  CD  GLN A 791      -3.578  27.395  43.858  1.00  0.00           C  \nATOM    739  OE1 GLN A 791      -4.543  28.071  44.287  1.00  0.00           O  \nATOM    740  NE2 GLN A 791      -3.608  26.749  42.669  1.00  0.00           N  \nATOM    741  N   LEU A 792      -0.320  24.888  45.899  1.00  0.00           N  \nATOM    742  CA  LEU A 792      -0.731  23.566  46.441  1.00  0.00           C  \nATOM    743  C   LEU A 792      -2.185  23.154  46.160  1.00  0.00           C  \nATOM    744  O   LEU A 792      -3.126  23.870  46.483  1.00  0.00           O  \nATOM    745  CB  LEU A 792      -0.488  23.516  47.943  1.00  0.00           C  \nATOM    746  CG  LEU A 792      -0.814  22.204  48.618  1.00  0.00           C  \nATOM    747  CD1 LEU A 792       0.071  21.077  48.103  1.00  0.00           C  \nATOM    748  CD2 LEU A 792      -0.606  22.407  50.058  1.00  0.00           C  \nATOM    749  N   MET A 793      -2.336  21.976  45.574  1.00  0.00           N  \nATOM    750  CA  MET A 793      -3.627  21.449  45.193  1.00  0.00           C  \nATOM    751  C   MET A 793      -3.924  20.349  46.180  1.00  0.00           C  \nATOM    752  O   MET A 793      -3.634  19.176  45.926  1.00  0.00           O  \nATOM    753  CB  MET A 793      -3.595  20.927  43.747  1.00  0.00           C  \nATOM    754  CG  MET A 793      -3.338  22.014  42.714  1.00  0.00           C  \nATOM    755  SD  MET A 793      -4.366  23.480  42.994  1.00  0.00           S  \nATOM    756  CE  MET A 793      -5.766  22.839  42.100  1.00  0.00           C  \nATOM    757  N   PRO A 794      -4.514  20.721  47.323  1.00  0.00           N  \nATOM    758  CA  PRO A 794      -4.397  19.875  48.511  1.00  0.00           C  \nATOM    759  C   PRO A 794      -5.030  18.511  48.284  1.00  0.00           C  \nATOM    760  O   PRO A 794      -4.410  17.495  48.569  1.00  0.00           O  \nATOM    761  CB  PRO A 794      -5.131  20.671  49.595  1.00  0.00           C  \nATOM    762  CG  PRO A 794      -5.272  22.064  49.064  1.00  0.00           C  \nATOM    763  CD  PRO A 794      -5.364  21.896  47.570  1.00  0.00           C  \nATOM    764  N   PHE A 795      -6.221  18.496  47.703  1.00  0.00           N  \nATOM    765  CA  PHE A 795      -6.922  17.258  47.413  1.00  0.00           C  \nATOM    766  C   PHE A 795      -6.260  16.358  46.330  1.00  0.00           C  \nATOM    767  O   PHE A 795      -6.742  15.263  46.036  1.00  0.00           O  \nATOM    768  CB  PHE A 795      -8.412  17.555  47.153  1.00  0.00           C  \nATOM    769  CG  PHE A 795      -9.137  18.130  48.370  1.00  0.00           C  \nATOM    770  CD1 PHE A 795      -9.181  19.496  48.594  1.00  0.00           C  \nATOM    771  CD2 PHE A 795      -9.759  17.297  49.290  1.00  0.00           C  \nATOM    772  CE1 PHE A 795      -9.826  20.021  49.732  1.00  0.00           C  \nATOM    773  CE2 PHE A 795     -10.411  17.815  50.414  1.00  0.00           C  \nATOM    774  CZ  PHE A 795     -10.441  19.178  50.638  1.00  0.00           C  \nATOM    775  N   GLY A 796      -5.132  16.784  45.775  1.00  0.00           N  \nATOM    776  CA  GLY A 796      -4.395  15.911  44.865  1.00  0.00           C  \nATOM    777  C   GLY A 796      -5.052  15.813  43.504  1.00  0.00           C  \nATOM    778  O   GLY A 796      -5.918  16.630  43.175  1.00  0.00           O  \nATOM    779  N   CYS A 797      -4.663  14.815  42.707  1.00  0.00           N  \nATOM    780  CA  CYS A 797      -5.136  14.748  41.314  1.00  0.00           C  \nATOM    781  C   CYS A 797      -6.494  14.075  41.177  1.00  0.00           C  \nATOM    782  O   CYS A 797      -6.837  13.215  41.981  1.00  0.00           O  \nATOM    783  CB  CYS A 797      -4.101  14.086  40.410  1.00  0.00           C  \nATOM    784  SG  CYS A 797      -4.185  12.351  40.462  1.00  0.00           S  \nATOM    785  N   LEU A 798      -7.239  14.449  40.145  1.00  0.00           N  \nATOM    786  CA  LEU A 798      -8.656  14.111  40.053  1.00  0.00           C  \nATOM    787  C   LEU A 798      -8.886  12.622  39.951  1.00  0.00           C  \nATOM    788  O   LEU A 798      -9.822  12.103  40.557  1.00  0.00           O  \nATOM    789  CB  LEU A 798      -9.323  14.828  38.868  1.00  0.00           C  \nATOM    790  CG  LEU A 798     -10.854  14.898  38.844  1.00  0.00           C  \nATOM    791  CD1 LEU A 798     -11.383  15.499  40.113  1.00  0.00           C  \nATOM    792  CD2 LEU A 798     -11.344  15.703  37.691  1.00  0.00           C  \nATOM    793  N   LEU A 799      -8.029  11.951  39.178  1.00  0.00           N  \nATOM    794  CA  LEU A 799      -8.058  10.491  39.030  1.00  0.00           C  \nATOM    795  C   LEU A 799      -8.077   9.816  40.399  1.00  0.00           C  \nATOM    796  O   LEU A 799      -9.047   9.163  40.784  1.00  0.00           O  \nATOM    797  CB  LEU A 799      -6.839  10.029  38.227  1.00  0.00           C  \nATOM    798  CG  LEU A 799      -6.795   8.615  37.658  1.00  0.00           C  \nATOM    799  CD1 LEU A 799      -8.168   8.156  37.219  1.00  0.00           C  \nATOM    800  CD2 LEU A 799      -5.811   8.526  36.503  1.00  0.00           C  \nATOM    801  N   ASP A 800      -6.996  10.027  41.135  1.00  0.00           N  \nATOM    802  CA  ASP A 800      -6.865   9.563  42.498  1.00  0.00           C  \nATOM    803  C   ASP A 800      -8.082   9.863  43.359  1.00  0.00           C  \nATOM    804  O   ASP A 800      -8.519   9.016  44.155  1.00  0.00           O  \nATOM    805  CB  ASP A 800      -5.595  10.128  43.121  1.00  0.00           C  \nATOM    806  CG  ASP A 800      -4.386   9.251  42.835  1.00  0.00           C  \nATOM    807  OD1 ASP A 800      -3.237   9.708  43.046  1.00  0.00           O  \nATOM    808  OD2 ASP A 800      -4.572   8.091  42.392  1.00  0.00           O1-\nATOM    809  N   TYR A 801      -8.639  11.055  43.172  1.00  0.00           N  \nATOM    810  CA  TYR A 801      -9.795  11.507  43.928  1.00  0.00           C  \nATOM    811  C   TYR A 801     -11.074  10.715  43.662  1.00  0.00           C  \nATOM    812  O   TYR A 801     -11.749  10.319  44.609  1.00  0.00           O  \nATOM    813  CB  TYR A 801     -10.053  12.975  43.634  1.00  0.00           C  \nATOM    814  CG  TYR A 801     -11.043  13.589  44.563  1.00  0.00           C  \nATOM    815  CD1 TYR A 801     -12.382  13.734  44.199  1.00  0.00           C  \nATOM    816  CD2 TYR A 801     -10.647  14.015  45.809  1.00  0.00           C  \nATOM    817  CE1 TYR A 801     -13.303  14.303  45.073  1.00  0.00           C  \nATOM    818  CE2 TYR A 801     -11.533  14.583  46.678  1.00  0.00           C  \nATOM    819  CZ  TYR A 801     -12.859  14.733  46.317  1.00  0.00           C  \nATOM    820  OH  TYR A 801     -13.713  15.313  47.227  1.00  0.00           O  \nATOM    821  N   VAL A 802     -11.421  10.508  42.391  1.00  0.00           N  \nATOM    822  CA  VAL A 802     -12.703   9.876  42.084  1.00  0.00           C  \nATOM    823  C   VAL A 802     -12.648   8.404  42.365  1.00  0.00           C  \nATOM    824  O   VAL A 802     -13.677   7.799  42.681  1.00  0.00           O  \nATOM    825  CB  VAL A 802     -13.194  10.081  40.641  1.00  0.00           C  \nATOM    826  CG1 VAL A 802     -13.349  11.560  40.343  1.00  0.00           C  \nATOM    827  CG2 VAL A 802     -12.290   9.360  39.632  1.00  0.00           C  \nATOM    828  N   ARG A 803     -11.441   7.847  42.246  1.00  0.00           N  \nATOM    829  CA  ARG A 803     -11.185   6.454  42.572  1.00  0.00           C  \nATOM    830  C   ARG A 803     -11.405   6.232  44.036  1.00  0.00           C  \nATOM    831  O   ARG A 803     -12.016   5.250  44.429  1.00  0.00           O  \nATOM    832  CB  ARG A 803      -9.773   6.084  42.229  1.00  0.00           C  \nATOM    833  CG  ARG A 803      -9.650   5.790  40.805  1.00  0.00           C  \nATOM    834  CD  ARG A 803      -8.248   5.518  40.480  1.00  0.00           C  \nATOM    835  NE  ARG A 803      -8.165   4.809  39.222  1.00  0.00           N  \nATOM    836  CZ  ARG A 803      -7.079   4.768  38.465  1.00  0.00           C  \nATOM    837  NH1 ARG A 803      -5.984   5.412  38.842  1.00  0.00           N1+\nATOM    838  NH2 ARG A 803      -7.077   4.094  37.325  1.00  0.00           N  \nATOM    839  N   GLU A 804     -10.930   7.178  44.833  1.00  0.00           N  \nATOM    840  CA  GLU A 804     -10.925   7.033  46.263  1.00  0.00           C  \nATOM    841  C   GLU A 804     -12.235   7.500  46.923  1.00  0.00           C  \nATOM    842  O   GLU A 804     -12.526   7.098  48.051  1.00  0.00           O  \nATOM    843  CB  GLU A 804      -9.650   7.676  46.838  1.00  0.00           C  \nATOM    844  CG  GLU A 804      -9.780   8.382  48.190  1.00  0.00           C  \nATOM    845  CD  GLU A 804      -9.351   7.533  49.392  1.00  0.00           C  \nATOM    846  OE1 GLU A 804      -9.039   8.144  50.459  1.00  0.00           O  \nATOM    847  OE2 GLU A 804      -9.319   6.276  49.269  1.00  0.00           O1-\nATOM    848  N   HIS A 805     -13.043   8.304  46.225  1.00  0.00           N  \nATOM    849  CA  HIS A 805     -14.334   8.780  46.784  1.00  0.00           C  \nATOM    850  C   HIS A 805     -15.551   8.358  45.953  1.00  0.00           C  \nATOM    851  O   HIS A 805     -16.613   8.990  46.066  1.00  0.00           O  \nATOM    852  CB  HIS A 805     -14.376  10.300  46.922  1.00  0.00           C  \nATOM    853  CG  HIS A 805     -13.403  10.871  47.905  1.00  0.00           C  \nATOM    854  ND1 HIS A 805     -13.785  11.748  48.901  1.00  0.00           N  \nATOM    855  CD2 HIS A 805     -12.058  10.751  48.011  1.00  0.00           C  \nATOM    856  CE1 HIS A 805     -12.723  12.126  49.591  1.00  0.00           C  \nATOM    857  NE2 HIS A 805     -11.664  11.528  49.076  1.00  0.00           N  \nATOM    858  N   LYS A 806     -15.380   7.320  45.121  1.00  0.00           N  \nATOM    859  CA  LYS A 806     -16.456   6.675  44.338  1.00  0.00           C  \nATOM    860  C   LYS A 806     -17.895   6.906  44.802  1.00  0.00           C  \nATOM    861  O   LYS A 806     -18.834   6.883  44.000  1.00  0.00           O  \nATOM    862  CB  LYS A 806     -16.248   5.170  44.353  1.00  0.00           C  \nATOM    863  CG  LYS A 806     -15.816   4.556  43.050  1.00  0.00           C  \nATOM    864  CD  LYS A 806     -15.421   3.084  43.287  1.00  0.00           C  \nATOM    865  CE  LYS A 806     -14.475   2.570  42.213  1.00  0.00           C  \nATOM    866  NZ  LYS A 806     -13.292   1.896  42.826  1.00  0.00           N1+\nATOM    867  N   ASP A 807     -18.063   7.117  46.102  1.00  0.00           N  \nATOM    868  CA  ASP A 807     -19.354   6.963  46.738  1.00  0.00           C  \nATOM    869  C   ASP A 807     -19.949   8.258  47.167  1.00  0.00           C  \nATOM    870  O   ASP A 807     -21.114   8.316  47.532  1.00  0.00           O  \nATOM    871  CB  ASP A 807     -19.197   6.033  47.920  1.00  0.00           C  \nATOM    872  CG  ASP A 807     -18.558   4.727  47.509  1.00  0.00           C  \nATOM    873  OD1 ASP A 807     -19.246   3.914  46.849  1.00  0.00           O  \nATOM    874  OD2 ASP A 807     -17.355   4.530  47.792  1.00  0.00           O1-\nATOM    875  N   ASN A 808     -19.149   9.303  47.115  1.00  0.00           N  \nATOM    876  CA  ASN A 808     -19.646  10.617  47.458  1.00  0.00           C  \nATOM    877  C   ASN A 808     -19.668  11.529  46.259  1.00  0.00           C  \nATOM    878  O   ASN A 808     -19.870  12.739  46.373  1.00  0.00           O  \nATOM    879  CB  ASN A 808     -18.809  11.225  48.579  1.00  0.00           C  \nATOM    880  CG  ASN A 808     -19.502  11.156  49.918  1.00  0.00           C  \nATOM    881  OD1 ASN A 808     -20.012  10.098  50.321  1.00  0.00           O  \nATOM    882  ND2 ASN A 808     -19.529  12.290  50.622  1.00  0.00           N  \nATOM    883  N   ILE A 809     -19.479  10.944  45.094  1.00  0.00           N  \nATOM    884  CA  ILE A 809     -19.438  11.762  43.915  1.00  0.00           C  \nATOM    885  C   ILE A 809     -20.817  11.793  43.245  1.00  0.00           C  \nATOM    886  O   ILE A 809     -21.312  10.777  42.786  1.00  0.00           O  \nATOM    887  CB  ILE A 809     -18.249  11.362  43.014  1.00  0.00           C  \nATOM    888  CG1 ILE A 809     -16.942  11.754  43.712  1.00  0.00           C  \nATOM    889  CG2 ILE A 809     -18.318  12.064  41.687  1.00  0.00           C  \nATOM    890  CD1 ILE A 809     -15.733  11.036  43.204  1.00  0.00           C  \nATOM    891  N   GLY A 810     -21.435  12.976  43.260  1.00  0.00           N  \nATOM    892  CA  GLY A 810     -22.737  13.211  42.645  1.00  0.00           C  \nATOM    893  C   GLY A 810     -22.613  13.720  41.219  1.00  0.00           C  \nATOM    894  O   GLY A 810     -21.520  14.053  40.768  1.00  0.00           O  \nATOM    895  N   SER A 811     -23.727  13.780  40.497  1.00  0.00           N  \nATOM    896  CA  SER A 811     -23.698  14.215  39.109  1.00  0.00           C  \nATOM    897  C   SER A 811     -23.212  15.639  39.030  1.00  0.00           C  \nATOM    898  O   SER A 811     -22.423  15.967  38.155  1.00  0.00           O  \nATOM    899  CB  SER A 811     -25.064  14.082  38.457  1.00  0.00           C  \nATOM    900  OG  SER A 811     -26.078  14.583  39.303  1.00  0.00           O  \nATOM    901  N   GLN A 812     -23.678  16.455  39.975  1.00  0.00           N  \nATOM    902  CA  GLN A 812     -23.306  17.856  40.134  1.00  0.00           C  \nATOM    903  C   GLN A 812     -21.804  18.065  40.091  1.00  0.00           C  \nATOM    904  O   GLN A 812     -21.307  18.990  39.472  1.00  0.00           O  \nATOM    905  CB  GLN A 812     -23.848  18.358  41.478  1.00  0.00           C  \nATOM    906  CG  GLN A 812     -23.908  19.871  41.638  1.00  0.00           C  \nATOM    907  CD  GLN A 812     -24.753  20.532  40.552  1.00  0.00           C  \nATOM    908  OE1 GLN A 812     -25.871  20.991  40.819  1.00  0.00           O  \nATOM    909  NE2 GLN A 812     -24.226  20.574  39.313  1.00  0.00           N  \nATOM    910  N   TYR A 813     -21.082  17.194  40.763  1.00  0.00           N  \nATOM    911  CA  TYR A 813     -19.658  17.292  40.781  1.00  0.00           C  \nATOM    912  C   TYR A 813     -19.003  16.869  39.477  1.00  0.00           C  \nATOM    913  O   TYR A 813     -18.197  17.611  38.907  1.00  0.00           O  \nATOM    914  CB  TYR A 813     -19.128  16.506  41.959  1.00  0.00           C  \nATOM    915  CG  TYR A 813     -19.063  17.397  43.157  1.00  0.00           C  \nATOM    916  CD1 TYR A 813     -18.020  18.321  43.286  1.00  0.00           C  \nATOM    917  CD2 TYR A 813     -20.061  17.382  44.138  1.00  0.00           C  \nATOM    918  CE1 TYR A 813     -17.948  19.180  44.378  1.00  0.00           C  \nATOM    919  CE2 TYR A 813     -19.989  18.249  45.248  1.00  0.00           C  \nATOM    920  CZ  TYR A 813     -18.927  19.143  45.349  1.00  0.00           C  \nATOM    921  OH  TYR A 813     -18.805  20.020  46.405  1.00  0.00           O  \nATOM    922  N   LEU A 814     -19.366  15.684  39.000  1.00  0.00           N  \nATOM    923  CA  LEU A 814     -18.858  15.175  37.770  1.00  0.00           C  \nATOM    924  C   LEU A 814     -19.102  16.145  36.622  1.00  0.00           C  \nATOM    925  O   LEU A 814     -18.189  16.484  35.859  1.00  0.00           O  \nATOM    926  CB  LEU A 814     -19.534  13.864  37.503  1.00  0.00           C  \nATOM    927  CG  LEU A 814     -18.868  12.720  38.239  1.00  0.00           C  \nATOM    928  CD1 LEU A 814     -19.893  11.658  38.382  1.00  0.00           C  \nATOM    929  CD2 LEU A 814     -17.622  12.178  37.512  1.00  0.00           C  \nATOM    930  N   LEU A 815     -20.337  16.613  36.518  1.00  0.00           N  \nATOM    931  CA  LEU A 815     -20.731  17.527  35.451  1.00  0.00           C  \nATOM    932  C   LEU A 815     -20.025  18.857  35.548  1.00  0.00           C  \nATOM    933  O   LEU A 815     -19.709  19.459  34.530  1.00  0.00           O  \nATOM    934  CB  LEU A 815     -22.243  17.747  35.440  1.00  0.00           C  \nATOM    935  CG  LEU A 815     -23.090  16.623  34.862  1.00  0.00           C  \nATOM    936  CD1 LEU A 815     -24.487  17.099  34.685  1.00  0.00           C  \nATOM    937  CD2 LEU A 815     -22.491  16.219  33.522  1.00  0.00           C  \nATOM    938  N   ASN A 816     -19.775  19.310  36.770  1.00  0.00           N  \nATOM    939  CA  ASN A 816     -19.017  20.537  36.997  1.00  0.00           C  \nATOM    940  C   ASN A 816     -17.557  20.491  36.572  1.00  0.00           C  \nATOM    941  O   ASN A 816     -17.053  21.453  35.988  1.00  0.00           O  \nATOM    942  CB  ASN A 816     -19.084  20.926  38.455  1.00  0.00           C  \nATOM    943  CG  ASN A 816     -20.291  21.727  38.767  1.00  0.00           C  \nATOM    944  OD1 ASN A 816     -21.155  21.947  37.907  1.00  0.00           O  \nATOM    945  ND2 ASN A 816     -20.379  22.179  40.020  1.00  0.00           N  \nATOM    946  N   TRP A 817     -16.880  19.393  36.882  1.00  0.00           N  \nATOM    947  CA  TRP A 817     -15.516  19.237  36.470  1.00  0.00           C  \nATOM    948  C   TRP A 817     -15.414  19.205  34.963  1.00  0.00           C  \nATOM    949  O   TRP A 817     -14.473  19.732  34.380  1.00  0.00           O  \nATOM    950  CB  TRP A 817     -14.977  17.961  37.038  1.00  0.00           C  \nATOM    951  CG  TRP A 817     -15.054  17.940  38.477  1.00  0.00           C  \nATOM    952  CD1 TRP A 817     -14.996  19.012  39.317  1.00  0.00           C  \nATOM    953  CD2 TRP A 817     -15.159  16.783  39.302  1.00  0.00           C  \nATOM    954  NE1 TRP A 817     -15.077  18.591  40.628  1.00  0.00           N  \nATOM    955  CE2 TRP A 817     -15.176  17.224  40.646  1.00  0.00           C  \nATOM    956  CE3 TRP A 817     -15.258  15.410  39.040  1.00  0.00           C  \nATOM    957  CZ2 TRP A 817     -15.296  16.348  41.712  1.00  0.00           C  \nATOM    958  CZ3 TRP A 817     -15.372  14.539  40.111  1.00  0.00           C  \nATOM    959  CH2 TRP A 817     -15.388  15.011  41.425  1.00  0.00           C  \nATOM    960  N   CYS A 818     -16.405  18.602  34.331  1.00  0.00           N  \nATOM    961  CA  CYS A 818     -16.502  18.687  32.891  1.00  0.00           C  \nATOM    962  C   CYS A 818     -16.530  20.119  32.403  1.00  0.00           C  \nATOM    963  O   CYS A 818     -15.749  20.505  31.547  1.00  0.00           O  \nATOM    964  CB  CYS A 818     -17.691  17.895  32.398  1.00  0.00           C  \nATOM    965  SG  CYS A 818     -17.287  16.171  32.599  1.00  0.00           S  \nATOM    966  N   VAL A 819     -17.405  20.923  32.967  1.00  0.00           N  \nATOM    967  CA  VAL A 819     -17.371  22.327  32.624  1.00  0.00           C  \nATOM    968  C   VAL A 819     -15.993  22.948  32.912  1.00  0.00           C  \nATOM    969  O   VAL A 819     -15.427  23.647  32.066  1.00  0.00           O  \nATOM    970  CB  VAL A 819     -18.482  23.136  33.330  1.00  0.00           C  \nATOM    971  CG1 VAL A 819     -18.192  24.626  33.237  1.00  0.00           C  \nATOM    972  CG2 VAL A 819     -19.816  22.828  32.703  1.00  0.00           C  \nATOM    973  N   GLN A 820     -15.440  22.703  34.089  1.00  0.00           N  \nATOM    974  CA  GLN A 820     -14.280  23.466  34.460  1.00  0.00           C  \nATOM    975  C   GLN A 820     -13.108  23.080  33.600  1.00  0.00           C  \nATOM    976  O   GLN A 820     -12.328  23.951  33.222  1.00  0.00           O  \nATOM    977  CB  GLN A 820     -13.957  23.323  35.930  1.00  0.00           C  \nATOM    978  CG  GLN A 820     -14.996  23.931  36.851  1.00  0.00           C  \nATOM    979  CD  GLN A 820     -14.714  23.580  38.271  1.00  0.00           C  \nATOM    980  OE1 GLN A 820     -13.562  23.374  38.636  1.00  0.00           O  \nATOM    981  NE2 GLN A 820     -15.755  23.484  39.086  1.00  0.00           N  \nATOM    982  N   ILE A 821     -12.993  21.800  33.251  1.00  0.00           N  \nATOM    983  CA  ILE A 821     -11.913  21.385  32.364  1.00  0.00           C  \nATOM    984  C   ILE A 821     -12.096  21.928  30.927  1.00  0.00           C  \nATOM    985  O   ILE A 821     -11.137  22.389  30.283  1.00  0.00           O  \nATOM    986  CB  ILE A 821     -11.747  19.884  32.324  1.00  0.00           C  \nATOM    987  CG1 ILE A 821     -11.538  19.334  33.743  1.00  0.00           C  \nATOM    988  CG2 ILE A 821     -10.528  19.557  31.510  1.00  0.00           C  \nATOM    989  CD1 ILE A 821     -11.846  17.816  33.963  1.00  0.00           C  \nATOM    990  N   ALA A 822     -13.326  21.887  30.422  1.00  0.00           N  \nATOM    991  CA  ALA A 822     -13.607  22.483  29.127  1.00  0.00           C  \nATOM    992  C   ALA A 822     -13.170  23.941  29.198  1.00  0.00           C  \nATOM    993  O   ALA A 822     -12.467  24.418  28.297  1.00  0.00           O  \nATOM    994  CB  ALA A 822     -15.079  22.333  28.739  1.00  0.00           C  \nATOM    995  N   LYS A 823     -13.514  24.629  30.290  1.00  0.00           N  \nATOM    996  CA  LYS A 823     -13.058  26.001  30.476  1.00  0.00           C  \nATOM    997  C   LYS A 823     -11.538  26.124  30.414  1.00  0.00           C  \nATOM    998  O   LYS A 823     -11.006  26.849  29.571  1.00  0.00           O  \nATOM    999  CB  LYS A 823     -13.596  26.588  31.757  1.00  0.00           C  \nATOM   1000  CG  LYS A 823     -14.942  27.222  31.585  1.00  0.00           C  \nATOM   1001  CD  LYS A 823     -15.481  27.727  32.904  1.00  0.00           C  \nATOM   1002  CE  LYS A 823     -16.790  28.416  32.724  1.00  0.00           C  \nATOM   1003  NZ  LYS A 823     -17.178  28.903  34.036  1.00  0.00           N1+\nATOM   1004  N   GLY A 824     -10.845  25.396  31.285  1.00  0.00           N  \nATOM   1005  CA  GLY A 824      -9.399  25.410  31.277  1.00  0.00           C  \nATOM   1006  C   GLY A 824      -8.866  25.249  29.860  1.00  0.00           C  \nATOM   1007  O   GLY A 824      -8.051  26.056  29.363  1.00  0.00           O  \nATOM   1008  N   MET A 825      -9.360  24.209  29.186  1.00  0.00           N  \nATOM   1009  CA  MET A 825      -8.818  23.822  27.887  1.00  0.00           C  \nATOM   1010  C   MET A 825      -9.125  24.857  26.845  1.00  0.00           C  \nATOM   1011  O   MET A 825      -8.292  25.104  25.986  1.00  0.00           O  \nATOM   1012  CB  MET A 825      -9.344  22.472  27.457  1.00  0.00           C  \nATOM   1013  CG  MET A 825      -8.731  21.344  28.233  1.00  0.00           C  \nATOM   1014  SD  MET A 825      -6.964  21.228  27.991  1.00  0.00           S  \nATOM   1015  CE  MET A 825      -6.840  21.103  26.222  1.00  0.00           C  \nATOM   1016  N   ASN A 826     -10.300  25.470  26.931  1.00  0.00           N  \nATOM   1017  CA  ASN A 826     -10.653  26.502  25.973  1.00  0.00           C  \nATOM   1018  C   ASN A 826      -9.698  27.691  26.045  1.00  0.00           C  \nATOM   1019  O   ASN A 826      -9.239  28.192  25.017  1.00  0.00           O  \nATOM   1020  CB  ASN A 826     -12.073  26.982  26.200  1.00  0.00           C  \nATOM   1021  CG  ASN A 826     -12.456  28.098  25.262  1.00  0.00           C  \nATOM   1022  OD1 ASN A 826     -12.627  27.888  24.070  1.00  0.00           O  \nATOM   1023  ND2 ASN A 826     -12.595  29.287  25.799  1.00  0.00           N  \nATOM   1024  N   TYR A 827      -9.416  28.132  27.273  1.00  0.00           N  \nATOM   1025  CA  TYR A 827      -8.415  29.141  27.524  1.00  0.00           C  \nATOM   1026  C   TYR A 827      -7.153  28.752  26.767  1.00  0.00           C  \nATOM   1027  O   TYR A 827      -6.742  29.462  25.863  1.00  0.00           O  \nATOM   1028  CB  TYR A 827      -8.132  29.267  29.018  1.00  0.00           C  \nATOM   1029  CG  TYR A 827      -7.061  30.277  29.324  1.00  0.00           C  \nATOM   1030  CD1 TYR A 827      -7.367  31.615  29.439  1.00  0.00           C  \nATOM   1031  CD2 TYR A 827      -5.738  29.896  29.481  1.00  0.00           C  \nATOM   1032  CE1 TYR A 827      -6.396  32.539  29.696  1.00  0.00           C  \nATOM   1033  CE2 TYR A 827      -4.761  30.811  29.746  1.00  0.00           C  \nATOM   1034  CZ  TYR A 827      -5.093  32.132  29.845  1.00  0.00           C  \nATOM   1035  OH  TYR A 827      -4.128  33.070  30.122  1.00  0.00           O  \nATOM   1036  N   LEU A 828      -6.562  27.609  27.090  1.00  0.00           N  \nATOM   1037  CA  LEU A 828      -5.315  27.207  26.422  1.00  0.00           C  \nATOM   1038  C   LEU A 828      -5.417  27.333  24.907  1.00  0.00           C  \nATOM   1039  O   LEU A 828      -4.473  27.759  24.265  1.00  0.00           O  \nATOM   1040  CB  LEU A 828      -4.878  25.787  26.809  1.00  0.00           C  \nATOM   1041  CG  LEU A 828      -4.727  25.329  28.265  1.00  0.00           C  \nATOM   1042  CD1 LEU A 828      -3.824  24.119  28.329  1.00  0.00           C  \nATOM   1043  CD2 LEU A 828      -4.134  26.399  29.126  1.00  0.00           C  \nATOM   1044  N   GLU A 829      -6.567  26.963  24.341  1.00  0.00           N  \nATOM   1045  CA  GLU A 829      -6.824  27.172  22.916  1.00  0.00           C  \nATOM   1046  C   GLU A 829      -6.640  28.664  22.560  1.00  0.00           C  \nATOM   1047  O   GLU A 829      -5.759  28.981  21.755  1.00  0.00           O  \nATOM   1048  CB  GLU A 829      -8.180  26.601  22.472  1.00  0.00           C  \nATOM   1049  CG  GLU A 829      -8.314  26.466  20.953  1.00  0.00           C  \nATOM   1050  CD  GLU A 829      -9.555  25.689  20.476  1.00  0.00           C  \nATOM   1051  OE1 GLU A 829      -9.484  25.077  19.390  1.00  0.00           O  \nATOM   1052  OE2 GLU A 829     -10.614  25.672  21.154  1.00  0.00           O1-\nATOM   1053  N   ASP A 830      -7.412  29.568  23.176  1.00  0.00           N  \nATOM   1054  CA  ASP A 830      -7.156  31.005  23.038  1.00  0.00           C  \nATOM   1055  C   ASP A 830      -5.669  31.367  23.082  1.00  0.00           C  \nATOM   1056  O   ASP A 830      -5.189  32.096  22.215  1.00  0.00           O  \nATOM   1057  CB  ASP A 830      -7.864  31.800  24.108  1.00  0.00           C  \nATOM   1058  CG  ASP A 830      -9.354  31.734  23.980  1.00  0.00           C  \nATOM   1059  OD1 ASP A 830     -10.058  31.996  24.990  1.00  0.00           O  \nATOM   1060  OD2 ASP A 830      -9.833  31.419  22.866  1.00  0.00           O1-\nATOM   1061  N   ARG A 831      -4.924  30.871  24.067  1.00  0.00           N  \nATOM   1062  CA  ARG A 831      -3.498  31.151  24.104  1.00  0.00           C  \nATOM   1063  C   ARG A 831      -2.813  30.198  23.173  1.00  0.00           C  \nATOM   1064  O   ARG A 831      -1.762  29.679  23.516  1.00  0.00           O  \nATOM   1065  CB  ARG A 831      -2.920  30.976  25.507  1.00  0.00           C  \nATOM   1066  CG  ARG A 831      -3.740  31.605  26.603  1.00  0.00           C  \nATOM   1067  CD  ARG A 831      -3.315  33.032  26.882  1.00  0.00           C  \nATOM   1068  NE  ARG A 831      -1.983  33.104  27.491  1.00  0.00           N  \nATOM   1069  CZ  ARG A 831      -0.872  33.476  26.853  1.00  0.00           C  \nATOM   1070  NH1 ARG A 831      -0.900  33.827  25.572  1.00  0.00           N1+\nATOM   1071  NH2 ARG A 831       0.280  33.499  27.503  1.00  0.00           N  \nATOM   1072  N   ARG A 832      -3.414  29.930  22.016  1.00  0.00           N  \nATOM   1073  CA  ARG A 832      -2.785  29.099  20.976  1.00  0.00           C  \nATOM   1074  C   ARG A 832      -1.857  27.956  21.463  1.00  0.00           C  \nATOM   1075  O   ARG A 832      -0.764  27.791  20.933  1.00  0.00           O  \nATOM   1076  CB  ARG A 832      -2.031  29.999  19.980  1.00  0.00           C  \nATOM   1077  CG  ARG A 832      -2.549  29.981  18.514  1.00  0.00           C  \nATOM   1078  CD  ARG A 832      -2.674  31.412  17.964  1.00  0.00           C  \nATOM   1079  NE  ARG A 832      -3.792  32.096  18.636  1.00  0.00           N  \nATOM   1080  CZ  ARG A 832      -3.902  33.416  18.817  1.00  0.00           C  \nATOM   1081  NH1 ARG A 832      -2.950  34.243  18.377  1.00  0.00           N1+\nATOM   1082  NH2 ARG A 832      -4.975  33.911  19.444  1.00  0.00           N  \nATOM   1083  N   LEU A 833      -2.303  27.179  22.454  1.00  0.00           N  \nATOM   1084  CA  LEU A 833      -1.504  26.101  23.043  1.00  0.00           C  \nATOM   1085  C   LEU A 833      -2.128  24.744  22.942  1.00  0.00           C  \nATOM   1086  O   LEU A 833      -3.332  24.581  23.098  1.00  0.00           O  \nATOM   1087  CB  LEU A 833      -1.246  26.353  24.513  1.00  0.00           C  \nATOM   1088  CG  LEU A 833       0.029  27.097  24.903  1.00  0.00           C  \nATOM   1089  CD1 LEU A 833      -0.280  27.979  26.109  1.00  0.00           C  \nATOM   1090  CD2 LEU A 833       1.209  26.151  25.193  1.00  0.00           C  \nATOM   1091  N   VAL A 834      -1.289  23.755  22.715  1.00  0.00           N  \nATOM   1092  CA  VAL A 834      -1.744  22.389  22.660  1.00  0.00           C  \nATOM   1093  C   VAL A 834      -1.132  21.709  23.881  1.00  0.00           C  \nATOM   1094  O   VAL A 834       0.013  21.980  24.242  1.00  0.00           O  \nATOM   1095  CB  VAL A 834      -1.386  21.713  21.297  1.00  0.00           C  \nATOM   1096  CG1 VAL A 834      -1.161  20.231  21.454  1.00  0.00           C  \nATOM   1097  CG2 VAL A 834      -2.464  21.985  20.259  1.00  0.00           C  \nATOM   1098  N   HIS A 835      -1.915  20.866  24.545  1.00  0.00           N  \nATOM   1099  CA  HIS A 835      -1.499  20.302  25.805  1.00  0.00           C  \nATOM   1100  C   HIS A 835      -0.795  18.982  25.603  1.00  0.00           C  \nATOM   1101  O   HIS A 835       0.318  18.790  26.098  1.00  0.00           O  \nATOM   1102  CB  HIS A 835      -2.686  20.139  26.722  1.00  0.00           C  \nATOM   1103  CG  HIS A 835      -2.311  19.721  28.104  1.00  0.00           C  \nATOM   1104  ND1 HIS A 835      -1.814  18.470  28.390  1.00  0.00           N  \nATOM   1105  CD2 HIS A 835      -2.362  20.384  29.281  1.00  0.00           C  \nATOM   1106  CE1 HIS A 835      -1.580  18.378  29.685  1.00  0.00           C  \nATOM   1107  NE2 HIS A 835      -1.898  19.527  30.249  1.00  0.00           N  \nATOM   1108  N   ARG A 836      -1.454  18.074  24.870  1.00  0.00           N  \nATOM   1109  CA  ARG A 836      -0.904  16.738  24.494  1.00  0.00           C  \nATOM   1110  C   ARG A 836      -0.868  15.763  25.666  1.00  0.00           C  \nATOM   1111  O   ARG A 836      -0.051  14.846  25.674  1.00  0.00           O  \nATOM   1112  CB  ARG A 836       0.502  16.851  23.867  1.00  0.00           C  \nATOM   1113  CG  ARG A 836       0.514  17.642  22.584  1.00  0.00           C  \nATOM   1114  CD  ARG A 836       1.800  18.400  22.370  1.00  0.00           C  \nATOM   1115  NE  ARG A 836       2.690  17.772  21.383  1.00  0.00           N  \nATOM   1116  CZ  ARG A 836       3.888  17.234  21.634  1.00  0.00           C  \nATOM   1117  NH1 ARG A 836       4.399  17.202  22.869  1.00  0.00           N1+\nATOM   1118  NH2 ARG A 836       4.585  16.720  20.626  1.00  0.00           N  \nATOM   1119  N   ASP A 837      -1.725  15.963  26.664  1.00  0.00           N  \nATOM   1120  CA  ASP A 837      -1.728  15.076  27.805  1.00  0.00           C  \nATOM   1121  C   ASP A 837      -2.791  15.397  28.827  1.00  0.00           C  \nATOM   1122  O   ASP A 837      -2.560  15.308  30.044  1.00  0.00           O  \nATOM   1123  CB  ASP A 837      -0.375  15.046  28.474  1.00  0.00           C  \nATOM   1124  CG  ASP A 837      -0.070  13.693  29.024  1.00  0.00           C  \nATOM   1125  OD1 ASP A 837      -0.774  12.713  28.630  1.00  0.00           O  \nATOM   1126  OD2 ASP A 837       0.849  13.600  29.867  1.00  0.00           O1-\nATOM   1127  N   LEU A 838      -3.957  15.784  28.306  1.00  0.00           N  \nATOM   1128  CA  LEU A 838      -5.159  15.947  29.095  1.00  0.00           C  \nATOM   1129  C   LEU A 838      -5.543  14.560  29.576  1.00  0.00           C  \nATOM   1130  O   LEU A 838      -5.675  13.657  28.783  1.00  0.00           O  \nATOM   1131  CB  LEU A 838      -6.249  16.560  28.226  1.00  0.00           C  \nATOM   1132  CG  LEU A 838      -7.521  17.110  28.872  1.00  0.00           C  \nATOM   1133  CD1 LEU A 838      -7.219  18.071  30.002  1.00  0.00           C  \nATOM   1134  CD2 LEU A 838      -8.380  17.797  27.831  1.00  0.00           C  \nATOM   1135  N   ALA A 839      -5.690  14.392  30.879  1.00  0.00           N  \nATOM   1136  CA  ALA A 839      -5.892  13.095  31.470  1.00  0.00           C  \nATOM   1137  C   ALA A 839      -6.281  13.315  32.898  1.00  0.00           C  \nATOM   1138  O   ALA A 839      -5.767  14.206  33.547  1.00  0.00           O  \nATOM   1139  CB  ALA A 839      -4.619  12.353  31.435  1.00  0.00           C  \nATOM   1140  N   ALA A 840      -7.162  12.484  33.422  1.00  0.00           N  \nATOM   1141  CA  ALA A 840      -7.577  12.642  34.812  1.00  0.00           C  \nATOM   1142  C   ALA A 840      -6.380  12.783  35.757  1.00  0.00           C  \nATOM   1143  O   ALA A 840      -6.472  13.497  36.784  1.00  0.00           O  \nATOM   1144  CB  ALA A 840      -8.472  11.492  35.255  1.00  0.00           C  \nATOM   1145  N   ARG A 841      -5.267  12.117  35.401  1.00  0.00           N  \nATOM   1146  CA  ARG A 841      -4.081  12.069  36.261  1.00  0.00           C  \nATOM   1147  C   ARG A 841      -3.430  13.419  36.275  1.00  0.00           C  \nATOM   1148  O   ARG A 841      -2.707  13.744  37.218  1.00  0.00           O  \nATOM   1149  CB  ARG A 841      -3.095  11.038  35.765  1.00  0.00           C  \nATOM   1150  CG  ARG A 841      -1.974  11.572  34.918  1.00  0.00           C  \nATOM   1151  CD  ARG A 841      -1.236  10.414  34.259  1.00  0.00           C  \nATOM   1152  NE  ARG A 841      -1.860  10.062  32.984  1.00  0.00           N  \nATOM   1153  CZ  ARG A 841      -1.521  10.622  31.826  1.00  0.00           C  \nATOM   1154  NH1 ARG A 841      -0.549  11.549  31.803  1.00  0.00           N1+\nATOM   1155  NH2 ARG A 841      -2.141  10.258  30.702  1.00  0.00           N  \nATOM   1156  N   ASN A 842      -3.728  14.197  35.233  1.00  0.00           N  \nATOM   1157  CA  ASN A 842      -3.223  15.551  35.081  1.00  0.00           C  \nATOM   1158  C   ASN A 842      -4.167  16.714  35.338  1.00  0.00           C  \nATOM   1159  O   ASN A 842      -3.893  17.829  34.930  1.00  0.00           O  \nATOM   1160  CB  ASN A 842      -2.617  15.694  33.713  1.00  0.00           C  \nATOM   1161  CG  ASN A 842      -1.318  14.995  33.620  1.00  0.00           C  \nATOM   1162  OD1 ASN A 842      -0.630  14.773  34.645  1.00  0.00           O  \nATOM   1163  ND2 ASN A 842      -0.943  14.635  32.395  1.00  0.00           N  \nATOM   1164  N   VAL A 843      -5.280  16.453  35.993  1.00  0.00           N  \nATOM   1165  CA  VAL A 843      -6.159  17.515  36.447  1.00  0.00           C  \nATOM   1166  C   VAL A 843      -6.027  17.411  37.937  1.00  0.00           C  \nATOM   1167  O   VAL A 843      -6.128  16.303  38.459  1.00  0.00           O  \nATOM   1168  CB  VAL A 843      -7.650  17.267  36.033  1.00  0.00           C  \nATOM   1169  CG1 VAL A 843      -8.598  18.163  36.814  1.00  0.00           C  \nATOM   1170  CG2 VAL A 843      -7.843  17.466  34.532  1.00  0.00           C  \nATOM   1171  N   LEU A 844      -5.780  18.526  38.622  1.00  0.00           N  \nATOM   1172  CA  LEU A 844      -5.750  18.506  40.087  1.00  0.00           C  \nATOM   1173  C   LEU A 844      -6.880  19.291  40.687  1.00  0.00           C  \nATOM   1174  O   LEU A 844      -7.572  20.031  39.993  1.00  0.00           O  \nATOM   1175  CB  LEU A 844      -4.441  19.029  40.678  1.00  0.00           C  \nATOM   1176  CG  LEU A 844      -3.135  18.666  39.999  1.00  0.00           C  \nATOM   1177  CD1 LEU A 844      -2.187  19.829  40.181  1.00  0.00           C  \nATOM   1178  CD2 LEU A 844      -2.569  17.409  40.575  1.00  0.00           C  \nATOM   1179  N   VAL A 845      -6.991  19.147  42.004  1.00  0.00           N  \nATOM   1180  CA  VAL A 845      -8.145  19.542  42.802  1.00  0.00           C  \nATOM   1181  C   VAL A 845      -7.740  20.588  43.884  1.00  0.00           C  \nATOM   1182  O   VAL A 845      -6.933  20.305  44.788  1.00  0.00           O  \nATOM   1183  CB  VAL A 845      -8.803  18.255  43.408  1.00  0.00           C  \nATOM   1184  CG1 VAL A 845     -10.130  18.561  44.087  1.00  0.00           C  \nATOM   1185  CG2 VAL A 845      -8.952  17.202  42.324  1.00  0.00           C  \nATOM   1186  N   LYS A 846      -8.265  21.805  43.773  1.00  0.00           N  \nATOM   1187  CA  LYS A 846      -8.039  22.807  44.798  1.00  0.00           C  \nATOM   1188  C   LYS A 846      -9.015  22.539  45.916  1.00  0.00           C  \nATOM   1189  O   LYS A 846      -8.613  22.378  47.064  1.00  0.00           O  \nATOM   1190  CB  LYS A 846      -8.273  24.206  44.263  1.00  0.00           C  \nATOM   1191  CG  LYS A 846      -8.248  25.267  45.325  1.00  0.00           C  \nATOM   1192  CD  LYS A 846      -8.839  26.580  44.853  1.00  0.00           C  \nATOM   1193  CE  LYS A 846      -8.168  27.680  45.658  1.00  0.00           C  \nATOM   1194  NZ  LYS A 846      -8.768  29.056  45.589  1.00  0.00           N1+\nATOM   1195  N   THR A 847     -10.303  22.537  45.569  1.00  0.00           N  \nATOM   1196  CA  THR A 847     -11.388  22.074  46.430  1.00  0.00           C  \nATOM   1197  C   THR A 847     -12.122  21.022  45.593  1.00  0.00           C  \nATOM   1198  O   THR A 847     -11.864  20.899  44.390  1.00  0.00           O  \nATOM   1199  CB  THR A 847     -12.384  23.207  46.752  1.00  0.00           C  \nATOM   1200  OG1 THR A 847     -13.201  23.494  45.598  1.00  0.00           O  \nATOM   1201  CG2 THR A 847     -11.655  24.454  47.161  1.00  0.00           C  \nATOM   1202  N   PRO A 848     -13.016  20.233  46.218  1.00  0.00           N  \nATOM   1203  CA  PRO A 848     -13.978  19.450  45.434  1.00  0.00           C  \nATOM   1204  C   PRO A 848     -14.733  20.169  44.312  1.00  0.00           C  \nATOM   1205  O   PRO A 848     -15.085  19.520  43.324  1.00  0.00           O  \nATOM   1206  CB  PRO A 848     -14.924  18.897  46.506  1.00  0.00           C  \nATOM   1207  CG  PRO A 848     -13.983  18.620  47.640  1.00  0.00           C  \nATOM   1208  CD  PRO A 848     -13.122  19.895  47.653  1.00  0.00           C  \nATOM   1209  N   GLN A 849     -14.977  21.467  44.414  1.00  0.00           N  \nATOM   1210  CA  GLN A 849     -15.631  22.127  43.273  1.00  0.00           C  \nATOM   1211  C   GLN A 849     -14.690  23.053  42.527  1.00  0.00           C  \nATOM   1212  O   GLN A 849     -15.112  24.054  41.920  1.00  0.00           O  \nATOM   1213  CB  GLN A 849     -16.915  22.849  43.666  1.00  0.00           C  \nATOM   1214  CG  GLN A 849     -16.718  23.807  44.791  1.00  0.00           C  \nATOM   1215  CD  GLN A 849     -16.816  23.123  46.113  1.00  0.00           C  \nATOM   1216  OE1 GLN A 849     -16.049  22.204  46.435  1.00  0.00           O  \nATOM   1217  NE2 GLN A 849     -17.784  23.556  46.895  1.00  0.00           N  \nATOM   1218  N   HIS A 850     -13.409  22.702  42.566  1.00  0.00           N  \nATOM   1219  CA  HIS A 850     -12.442  23.457  41.837  1.00  0.00           C  \nATOM   1220  C   HIS A 850     -11.339  22.597  41.310  1.00  0.00           C  \nATOM   1221  O   HIS A 850     -10.403  22.290  42.019  1.00  0.00           O  \nATOM   1222  CB  HIS A 850     -11.855  24.537  42.711  1.00  0.00           C  \nATOM   1223  CG  HIS A 850     -11.348  25.692  41.930  1.00  0.00           C  \nATOM   1224  ND1 HIS A 850     -11.906  26.943  42.016  1.00  0.00           N  \nATOM   1225  CD2 HIS A 850     -10.367  25.773  41.001  1.00  0.00           C  \nATOM   1226  CE1 HIS A 850     -11.271  27.758  41.196  1.00  0.00           C  \nATOM   1227  NE2 HIS A 850     -10.331  27.074  40.567  1.00  0.00           N  \nATOM   1228  N   VAL A 851     -11.430  22.223  40.053  1.00  0.00           N  \nATOM   1229  CA  VAL A 851     -10.322  21.537  39.434  1.00  0.00           C  \nATOM   1230  C   VAL A 851      -9.531  22.477  38.504  1.00  0.00           C  \nATOM   1231  O   VAL A 851     -10.098  23.442  37.954  1.00  0.00           O  \nATOM   1232  CB  VAL A 851     -10.798  20.271  38.688  1.00  0.00           C  \nATOM   1233  CG1 VAL A 851     -11.505  19.323  39.646  1.00  0.00           C  \nATOM   1234  CG2 VAL A 851     -11.697  20.631  37.511  1.00  0.00           C  \nATOM   1235  N   LYS A 852      -8.234  22.195  38.332  1.00  0.00           N  \nATOM   1236  CA  LYS A 852      -7.373  22.962  37.433  1.00  0.00           C  \nATOM   1237  C   LYS A 852      -6.564  22.023  36.580  1.00  0.00           C  \nATOM   1238  O   LYS A 852      -6.197  20.946  37.036  1.00  0.00           O  \nATOM   1239  CB  LYS A 852      -6.436  23.854  38.237  1.00  0.00           C  \nATOM   1240  CG  LYS A 852      -7.167  25.007  38.865  1.00  0.00           C  \nATOM   1241  CD  LYS A 852      -6.306  25.802  39.802  1.00  0.00           C  \nATOM   1242  CE  LYS A 852      -7.049  27.034  40.288  1.00  0.00           C  \nATOM   1243  NZ  LYS A 852      -6.088  28.053  40.790  1.00  0.00           N1+\nATOM   1244  N   ILE A 853      -6.285  22.425  35.341  1.00  0.00           N  \nATOM   1245  CA  ILE A 853      -5.460  21.617  34.459  1.00  0.00           C  \nATOM   1246  C   ILE A 853      -3.994  21.884  34.725  1.00  0.00           C  \nATOM   1247  O   ILE A 853      -3.579  23.014  34.930  1.00  0.00           O  \nATOM   1248  CB  ILE A 853      -5.762  21.859  32.982  1.00  0.00           C  \nATOM   1249  CG1 ILE A 853      -7.199  21.506  32.663  1.00  0.00           C  \nATOM   1250  CG2 ILE A 853      -4.906  20.976  32.116  1.00  0.00           C  \nATOM   1251  CD1 ILE A 853      -7.737  22.217  31.466  1.00  0.00           C  \nATOM   1252  N   THR A 854      -3.208  20.824  34.713  1.00  0.00           N  \nATOM   1253  CA  THR A 854      -1.801  20.950  34.981  1.00  0.00           C  \nATOM   1254  C   THR A 854      -0.954  20.060  34.076  1.00  0.00           C  \nATOM   1255  O   THR A 854      -1.439  19.563  33.053  1.00  0.00           O  \nATOM   1256  CB  THR A 854      -1.487  20.695  36.478  1.00  0.00           C  \nATOM   1257  OG1 THR A 854      -0.286  21.395  36.845  1.00  0.00           O  \nATOM   1258  CG2 THR A 854      -1.339  19.195  36.780  1.00  0.00           C  \nATOM   1259  N   ASP A 855       0.320  19.964  34.444  1.00  0.00           N  \nATOM   1260  CA  ASP A 855       1.344  19.214  33.727  1.00  0.00           C  \nATOM   1261  C   ASP A 855       1.547  19.651  32.287  1.00  0.00           C  \nATOM   1262  O   ASP A 855       0.884  19.159  31.381  1.00  0.00           O  \nATOM   1263  CB  ASP A 855       1.151  17.712  33.859  1.00  0.00           C  \nATOM   1264  CG  ASP A 855       1.948  17.128  35.009  1.00  0.00           C  \nATOM   1265  OD1 ASP A 855       3.188  17.062  34.901  1.00  0.00           O  \nATOM   1266  OD2 ASP A 855       1.337  16.735  36.022  1.00  0.00           O1-\nATOM   1267  N   PHE A 856       2.479  20.581  32.090  1.00  0.00           N  \nATOM   1268  CA  PHE A 856       2.771  21.111  30.769  1.00  0.00           C  \nATOM   1269  C   PHE A 856       4.060  20.584  30.157  1.00  0.00           C  \nATOM   1270  O   PHE A 856       4.484  21.053  29.099  1.00  0.00           O  \nATOM   1271  CB  PHE A 856       2.709  22.625  30.790  1.00  0.00           C  \nATOM   1272  CG  PHE A 856       1.374  23.133  31.204  1.00  0.00           C  \nATOM   1273  CD1 PHE A 856       0.311  23.132  30.305  1.00  0.00           C  \nATOM   1274  CD2 PHE A 856       1.152  23.561  32.502  1.00  0.00           C  \nATOM   1275  CE1 PHE A 856      -0.947  23.582  30.691  1.00  0.00           C  \nATOM   1276  CE2 PHE A 856      -0.088  24.014  32.888  1.00  0.00           C  \nATOM   1277  CZ  PHE A 856      -1.141  24.016  31.982  1.00  0.00           C  \nATOM   1278  N   GLY A 857       4.649  19.585  30.809  1.00  0.00           N  \nATOM   1279  CA  GLY A 857       5.795  18.870  30.265  1.00  0.00           C  \nATOM   1280  C   GLY A 857       5.667  18.383  28.826  1.00  0.00           C  \nATOM   1281  O   GLY A 857       6.588  17.768  28.313  1.00  0.00           O  \nATOM   1282  N   LEU A 858       4.546  18.651  28.163  1.00  0.00           N  \nATOM   1283  CA  LEU A 858       4.326  18.121  26.824  1.00  0.00           C  \nATOM   1284  C   LEU A 858       3.716  19.126  25.871  1.00  0.00           C  \nATOM   1285  O   LEU A 858       3.450  18.796  24.730  1.00  0.00           O  \nATOM   1286  CB  LEU A 858       3.420  16.886  26.894  1.00  0.00           C  \nATOM   1287  CG  LEU A 858       3.986  15.456  26.805  1.00  0.00           C  \nATOM   1288  CD1 LEU A 858       3.564  14.607  28.021  1.00  0.00           C  \nATOM   1289  CD2 LEU A 858       3.664  14.743  25.478  1.00  0.00           C  \nATOM   1290  N   ALA A 859       3.506  20.350  26.338  1.00  0.00           N  \nATOM   1291  CA  ALA A 859       2.752  21.348  25.593  1.00  0.00           C  \nATOM   1292  C   ALA A 859       3.461  21.808  24.325  1.00  0.00           C  \nATOM   1293  O   ALA A 859       4.616  21.472  24.116  1.00  0.00           O  \nATOM   1294  CB  ALA A 859       2.446  22.515  26.484  1.00  0.00           C  \nATOM   1295  N   LYS A 860       2.749  22.561  23.481  1.00  0.00           N  \nATOM   1296  CA  LYS A 860       3.272  23.156  22.237  1.00  0.00           C  \nATOM   1297  C   LYS A 860       2.438  24.349  21.806  1.00  0.00           C  \nATOM   1298  O   LYS A 860       1.249  24.398  22.094  1.00  0.00           O  \nATOM   1299  CB  LYS A 860       3.215  22.154  21.078  1.00  0.00           C  \nATOM   1300  CG  LYS A 860       4.348  21.127  20.997  1.00  0.00           C  \nATOM   1301  CD  LYS A 860       5.689  21.766  20.573  1.00  0.00           C  \nATOM   1302  CE  LYS A 860       6.662  21.807  21.787  1.00  0.00           C  \nATOM   1303  NZ  LYS A 860       7.797  22.788  21.596  1.00  0.00           N1+\nATOM   1304  N   LEU A 861       3.062  25.309  21.124  1.00  0.00           N  \nATOM   1305  CA  LEU A 861       2.334  26.249  20.265  1.00  0.00           C  \nATOM   1306  C   LEU A 861       1.880  25.469  19.047  1.00  0.00           C  \nATOM   1307  O   LEU A 861       2.652  24.655  18.532  1.00  0.00           O  \nATOM   1308  CB  LEU A 861       3.241  27.357  19.754  1.00  0.00           C  \nATOM   1309  CG  LEU A 861       3.731  28.515  20.619  1.00  0.00           C  \nATOM   1310  CD1 LEU A 861       4.240  29.651  19.689  1.00  0.00           C  \nATOM   1311  CD2 LEU A 861       2.665  29.026  21.610  1.00  0.00           C  \nATOM   1312  N   LEU A 862       0.659  25.735  18.573  1.00  0.00           N  \nATOM   1313  CA  LEU A 862       0.013  24.951  17.500  1.00  0.00           C  \nATOM   1314  C   LEU A 862       0.685  25.109  16.137  1.00  0.00           C  \nATOM   1315  O   LEU A 862       0.705  26.209  15.575  1.00  0.00           O  \nATOM   1316  CB  LEU A 862      -1.470  25.321  17.387  1.00  0.00           C  \nATOM   1317  CG  LEU A 862      -2.223  24.874  16.134  1.00  0.00           C  \nATOM   1318  CD1 LEU A 862      -2.535  23.399  16.219  1.00  0.00           C  \nATOM   1319  CD2 LEU A 862      -3.485  25.678  15.966  1.00  0.00           C  \nATOM   1320  N   GLY A 863       1.223  24.006  15.606  1.00  0.00           N  \nATOM   1321  CA  GLY A 863       1.883  24.010  14.288  1.00  0.00           C  \nATOM   1322  C   GLY A 863       3.412  23.970  14.264  1.00  0.00           C  \nATOM   1323  O   GLY A 863       4.012  23.684  13.216  1.00  0.00           O  \nATOM   1324  N   ALA A 864       4.044  24.261  15.405  1.00  0.00           N  \nATOM   1325  CA  ALA A 864       5.508  24.190  15.543  1.00  0.00           C  \nATOM   1326  C   ALA A 864       6.000  22.732  15.610  1.00  0.00           C  \nATOM   1327  O   ALA A 864       5.190  21.789  15.591  1.00  0.00           O  \nATOM   1328  CB  ALA A 864       5.973  24.992  16.778  1.00  0.00           C  \nATOM   1329  N   GLU A 865       7.327  22.544  15.657  1.00  0.00           N  \nATOM   1330  CA  GLU A 865       7.868  21.211  15.951  1.00  0.00           C  \nATOM   1331  C   GLU A 865       8.694  21.223  17.234  1.00  0.00           C  \nATOM   1332  O   GLU A 865       9.262  22.258  17.623  1.00  0.00           O  \nATOM   1333  CB  GLU A 865       8.747  20.654  14.806  1.00  0.00           C  \nATOM   1334  CG  GLU A 865       8.137  20.659  13.388  1.00  0.00           C  \nATOM   1335  CD  GLU A 865       8.742  21.857  12.572  1.00  0.00           C  \nATOM   1336  OE1 GLU A 865       9.555  22.689  13.130  1.00  0.00           O  \nATOM   1337  OE2 GLU A 865       8.405  21.949  11.372  1.00  0.00           O1-\nATOM   1338  N   GLU A 866       8.736  20.063  17.887  1.00  0.00           N  \nATOM   1339  CA  GLU A 866       9.815  19.730  18.806  1.00  0.00           C  \nATOM   1340  C   GLU A 866      10.125  18.255  18.616  1.00  0.00           C  \nATOM   1341  O   GLU A 866      11.210  17.908  18.164  1.00  0.00           O  \nATOM   1342  CB  GLU A 866       9.459  20.034  20.268  1.00  0.00           C  \nATOM   1343  CG  GLU A 866      10.672  20.080  21.206  1.00  0.00           C  \nATOM   1344  CD  GLU A 866      11.614  18.895  21.005  1.00  0.00           C  \nATOM   1345  OE1 GLU A 866      12.700  19.086  20.411  1.00  0.00           O  \nATOM   1346  OE2 GLU A 866      11.248  17.763  21.404  1.00  0.00           O1-\nATOM   1347  N   VAL A 876       4.696   8.488  26.105  1.00  0.00           N1+\nATOM   1348  CA  VAL A 876       3.575   8.410  25.168  1.00  0.00           C  \nATOM   1349  C   VAL A 876       2.299   7.801  25.808  1.00  0.00           C  \nATOM   1350  O   VAL A 876       2.218   6.578  26.020  1.00  0.00           O  \nATOM   1351  CB  VAL A 876       3.973   7.674  23.847  1.00  0.00           C  \nATOM   1352  CG1 VAL A 876       4.163   8.687  22.732  1.00  0.00           C  \nATOM   1353  CG2 VAL A 876       5.241   6.768  24.043  1.00  0.00           C  \nATOM   1354  N   PRO A 877       1.300   8.653  26.129  1.00  0.00           N  \nATOM   1355  CA  PRO A 877       0.032   8.142  26.678  1.00  0.00           C  \nATOM   1356  C   PRO A 877      -0.867   7.742  25.510  1.00  0.00           C  \nATOM   1357  O   PRO A 877      -1.656   8.558  25.022  1.00  0.00           O  \nATOM   1358  CB  PRO A 877      -0.528   9.350  27.428  1.00  0.00           C  \nATOM   1359  CG  PRO A 877      -0.010  10.536  26.635  1.00  0.00           C  \nATOM   1360  CD  PRO A 877       1.291  10.121  25.974  1.00  0.00           C  \nATOM   1361  N   ILE A 878      -0.711   6.508  25.044  1.00  0.00           N  \nATOM   1362  CA  ILE A 878      -1.261   6.125  23.752  1.00  0.00           C  \nATOM   1363  C   ILE A 878      -2.776   6.067  23.800  1.00  0.00           C  \nATOM   1364  O   ILE A 878      -3.466   6.499  22.872  1.00  0.00           O  \nATOM   1365  CB  ILE A 878      -0.623   4.806  23.249  1.00  0.00           C  \nATOM   1366  CG1 ILE A 878       0.516   5.120  22.281  1.00  0.00           C  \nATOM   1367  CG2 ILE A 878      -1.627   3.915  22.552  1.00  0.00           C  \nATOM   1368  CD1 ILE A 878       0.070   5.824  21.005  1.00  0.00           C  \nATOM   1369  N   LYS A 879      -3.277   5.570  24.927  1.00  0.00           N  \nATOM   1370  CA  LYS A 879      -4.688   5.289  25.110  1.00  0.00           C  \nATOM   1371  C   LYS A 879      -5.510   6.571  25.273  1.00  0.00           C  \nATOM   1372  O   LYS A 879      -6.732   6.524  25.373  1.00  0.00           O  \nATOM   1373  CB  LYS A 879      -4.862   4.364  26.317  1.00  0.00           C  \nATOM   1374  CG  LYS A 879      -4.146   3.019  26.195  1.00  0.00           C  \nATOM   1375  CD  LYS A 879      -4.300   2.217  27.478  1.00  0.00           C  \nATOM   1376  CE  LYS A 879      -4.452   0.721  27.201  1.00  0.00           C  \nATOM   1377  NZ  LYS A 879      -4.620  -0.144  28.433  1.00  0.00           N1+\nATOM   1378  N   TRP A 880      -4.845   7.718  25.293  1.00  0.00           N  \nATOM   1379  CA  TRP A 880      -5.535   8.985  25.429  1.00  0.00           C  \nATOM   1380  C   TRP A 880      -5.462   9.822  24.144  1.00  0.00           C  \nATOM   1381  O   TRP A 880      -5.919  10.968  24.112  1.00  0.00           O  \nATOM   1382  CB  TRP A 880      -4.932   9.776  26.574  1.00  0.00           C  \nATOM   1383  CG  TRP A 880      -5.401   9.438  27.958  1.00  0.00           C  \nATOM   1384  CD1 TRP A 880      -6.245  10.175  28.718  1.00  0.00           C  \nATOM   1385  CD2 TRP A 880      -4.986   8.335  28.777  1.00  0.00           C  \nATOM   1386  NE1 TRP A 880      -6.403   9.602  29.941  1.00  0.00           N  \nATOM   1387  CE2 TRP A 880      -5.642   8.469  30.009  1.00  0.00           C  \nATOM   1388  CE3 TRP A 880      -4.126   7.243  28.585  1.00  0.00           C  \nATOM   1389  CZ2 TRP A 880      -5.486   7.540  31.057  1.00  0.00           C  \nATOM   1390  CZ3 TRP A 880      -3.968   6.316  29.634  1.00  0.00           C  \nATOM   1391  CH2 TRP A 880      -4.650   6.477  30.851  1.00  0.00           C  \nATOM   1392  N   MET A 881      -4.920   9.236  23.081  1.00  0.00           N  \nATOM   1393  CA  MET A 881      -4.571   9.991  21.883  1.00  0.00           C  \nATOM   1394  C   MET A 881      -5.554   9.864  20.747  1.00  0.00           C  \nATOM   1395  O   MET A 881      -6.046   8.782  20.441  1.00  0.00           O  \nATOM   1396  CB  MET A 881      -3.194   9.564  21.382  1.00  0.00           C  \nATOM   1397  CG  MET A 881      -2.114   9.575  22.462  1.00  0.00           C  \nATOM   1398  SD  MET A 881      -0.411   9.309  21.923  1.00  0.00           S  \nATOM   1399  CE  MET A 881      -0.345  10.209  20.362  1.00  0.00           C  \nATOM   1400  N   ALA A 882      -5.801  10.992  20.103  1.00  0.00           N  \nATOM   1401  CA  ALA A 882      -6.484  11.030  18.829  1.00  0.00           C  \nATOM   1402  C   ALA A 882      -5.766  10.132  17.820  1.00  0.00           C  \nATOM   1403  O   ALA A 882      -4.670   9.654  18.079  1.00  0.00           O  \nATOM   1404  CB  ALA A 882      -6.551  12.464  18.331  1.00  0.00           C  \nATOM   1405  N   LEU A 883      -6.389   9.896  16.670  1.00  0.00           N  \nATOM   1406  CA  LEU A 883      -5.824   9.010  15.653  1.00  0.00           C  \nATOM   1407  C   LEU A 883      -4.685   9.691  14.911  1.00  0.00           C  \nATOM   1408  O   LEU A 883      -3.576   9.149  14.915  1.00  0.00           O  \nATOM   1409  CB  LEU A 883      -6.893   8.522  14.673  1.00  0.00           C  \nATOM   1410  CG  LEU A 883      -6.593   7.182  14.002  1.00  0.00           C  \nATOM   1411  CD1 LEU A 883      -6.727   6.024  14.988  1.00  0.00           C  \nATOM   1412  CD2 LEU A 883      -7.537   6.997  12.840  1.00  0.00           C  \nATOM   1413  N   GLU A 884      -4.937  10.868  14.313  1.00  0.00           N  \nATOM   1414  CA  GLU A 884      -3.883  11.605  13.594  1.00  0.00           C  \nATOM   1415  C   GLU A 884      -2.640  11.721  14.444  1.00  0.00           C  \nATOM   1416  O   GLU A 884      -1.551  11.932  13.938  1.00  0.00           O  \nATOM   1417  CB  GLU A 884      -4.284  13.029  13.199  1.00  0.00           C  \nATOM   1418  CG  GLU A 884      -5.727  13.374  13.342  1.00  0.00           C  \nATOM   1419  CD  GLU A 884      -6.051  13.909  14.717  1.00  0.00           C  \nATOM   1420  OE1 GLU A 884      -5.821  15.128  14.969  1.00  0.00           O  \nATOM   1421  OE2 GLU A 884      -6.539  13.097  15.534  1.00  0.00           O1-\nATOM   1422  N   SER A 885      -2.827  11.614  15.753  1.00  0.00           N  \nATOM   1423  CA  SER A 885      -1.733  11.654  16.695  1.00  0.00           C  \nATOM   1424  C   SER A 885      -0.898  10.388  16.586  1.00  0.00           C  \nATOM   1425  O   SER A 885       0.297  10.450  16.280  1.00  0.00           O  \nATOM   1426  CB  SER A 885      -2.281  11.834  18.099  1.00  0.00           C  \nATOM   1427  OG  SER A 885      -2.977  13.059  18.180  1.00  0.00           O  \nATOM   1428  N   ILE A 886      -1.531   9.237  16.798  1.00  0.00           N  \nATOM   1429  CA  ILE A 886      -0.794   7.964  16.831  1.00  0.00           C  \nATOM   1430  C   ILE A 886      -0.165   7.612  15.477  1.00  0.00           C  \nATOM   1431  O   ILE A 886       0.972   7.160  15.421  1.00  0.00           O  \nATOM   1432  CB  ILE A 886      -1.634   6.769  17.394  1.00  0.00           C  \nATOM   1433  CG1 ILE A 886      -2.513   7.211  18.577  1.00  0.00           C  \nATOM   1434  CG2 ILE A 886      -0.704   5.671  17.858  1.00  0.00           C  \nATOM   1435  CD1 ILE A 886      -3.528   6.187  19.086  1.00  0.00           C  \nATOM   1436  N   LEU A 887      -0.882   7.856  14.392  1.00  0.00           N  \nATOM   1437  CA  LEU A 887      -0.387   7.488  13.075  1.00  0.00           C  \nATOM   1438  C   LEU A 887       0.393   8.573  12.315  1.00  0.00           C  \nATOM   1439  O   LEU A 887       0.959   8.285  11.253  1.00  0.00           O  \nATOM   1440  CB  LEU A 887      -1.546   7.034  12.188  1.00  0.00           C  \nATOM   1441  CG  LEU A 887      -2.641   6.065  12.611  1.00  0.00           C  \nATOM   1442  CD1 LEU A 887      -3.594   6.011  11.441  1.00  0.00           C  \nATOM   1443  CD2 LEU A 887      -2.115   4.673  12.977  1.00  0.00           C  \nATOM   1444  N   HIS A 888       0.401   9.814  12.806  1.00  0.00           N  \nATOM   1445  CA  HIS A 888       0.917  10.947  12.009  1.00  0.00           C  \nATOM   1446  C   HIS A 888       1.502  12.054  12.850  1.00  0.00           C  \nATOM   1447  O   HIS A 888       1.716  13.161  12.353  1.00  0.00           O  \nATOM   1448  CB  HIS A 888      -0.207  11.580  11.179  1.00  0.00           C  \nATOM   1449  CG  HIS A 888      -0.802  10.670  10.157  1.00  0.00           C  \nATOM   1450  ND1 HIS A 888      -1.167   9.370  10.435  1.00  0.00           N  \nATOM   1451  CD2 HIS A 888      -1.124  10.882   8.859  1.00  0.00           C  \nATOM   1452  CE1 HIS A 888      -1.662   8.809   9.350  1.00  0.00           C  \nATOM   1453  NE2 HIS A 888      -1.653   9.707   8.380  1.00  0.00           N  \nATOM   1454  N   ARG A 889       1.704  11.780  14.131  1.00  0.00           N  \nATOM   1455  CA  ARG A 889       2.142  12.794  15.077  1.00  0.00           C  \nATOM   1456  C   ARG A 889       1.484  14.174  14.909  1.00  0.00           C  \nATOM   1457  O   ARG A 889       2.042  15.162  15.346  1.00  0.00           O  \nATOM   1458  CB  ARG A 889       3.667  12.894  15.051  1.00  0.00           C  \nATOM   1459  CG  ARG A 889       4.340  11.597  15.501  1.00  0.00           C  \nATOM   1460  CD  ARG A 889       5.852  11.599  15.235  1.00  0.00           C  \nATOM   1461  NE  ARG A 889       6.522  10.377  15.718  1.00  0.00           N  \nATOM   1462  CZ  ARG A 889       7.789  10.031  15.435  1.00  0.00           C  \nATOM   1463  NH1 ARG A 889       8.560  10.806  14.658  1.00  0.00           N1+\nATOM   1464  NH2 ARG A 889       8.291   8.897  15.928  1.00  0.00           N  \nATOM   1465  N   ILE A 890       0.303  14.238  14.296  1.00  0.00           N  \nATOM   1466  CA  ILE A 890      -0.446  15.497  14.145  1.00  0.00           C  \nATOM   1467  C   ILE A 890      -1.171  15.876  15.443  1.00  0.00           C  \nATOM   1468  O   ILE A 890      -1.790  15.015  16.085  1.00  0.00           O  \nATOM   1469  CB  ILE A 890      -1.491  15.411  13.027  1.00  0.00           C  \nATOM   1470  CG1 ILE A 890      -0.816  15.424  11.668  1.00  0.00           C  \nATOM   1471  CG2 ILE A 890      -2.488  16.556  13.120  1.00  0.00           C  \nATOM   1472  CD1 ILE A 890      -1.614  14.716  10.623  1.00  0.00           C  \nATOM   1473  N   TYR A 891      -1.094  17.160  15.812  1.00  0.00           N  \nATOM   1474  CA  TYR A 891      -1.661  17.670  17.066  1.00  0.00           C  \nATOM   1475  C   TYR A 891      -2.410  18.986  16.909  1.00  0.00           C  \nATOM   1476  O   TYR A 891      -1.821  20.054  16.936  1.00  0.00           O  \nATOM   1477  CB  TYR A 891      -0.568  17.856  18.098  1.00  0.00           C  \nATOM   1478  CG  TYR A 891       0.066  16.568  18.565  1.00  0.00           C  \nATOM   1479  CD1 TYR A 891      -0.258  16.016  19.808  1.00  0.00           C  \nATOM   1480  CD2 TYR A 891       1.010  15.904  17.782  1.00  0.00           C  \nATOM   1481  CE1 TYR A 891       0.331  14.850  20.255  1.00  0.00           C  \nATOM   1482  CE2 TYR A 891       1.600  14.726  18.221  1.00  0.00           C  \nATOM   1483  CZ  TYR A 891       1.252  14.213  19.454  1.00  0.00           C  \nATOM   1484  OH  TYR A 891       1.831  13.051  19.875  1.00  0.00           O  \nATOM   1485  N   THR A 892      -3.719  18.922  16.737  1.00  0.00           N  \nATOM   1486  CA  THR A 892      -4.490  20.146  16.793  1.00  0.00           C  \nATOM   1487  C   THR A 892      -5.102  20.262  18.193  1.00  0.00           C  \nATOM   1488  O   THR A 892      -4.960  19.364  19.013  1.00  0.00           O  \nATOM   1489  CB  THR A 892      -5.497  20.300  15.579  1.00  0.00           C  \nATOM   1490  OG1 THR A 892      -6.574  21.188  15.917  1.00  0.00           O  \nATOM   1491  CG2 THR A 892      -6.056  18.945  15.085  1.00  0.00           C  \nATOM   1492  N   HIS A 893      -5.702  21.407  18.483  1.00  0.00           N  \nATOM   1493  CA  HIS A 893      -6.526  21.557  19.640  1.00  0.00           C  \nATOM   1494  C   HIS A 893      -7.583  20.473  19.538  1.00  0.00           C  \nATOM   1495  O   HIS A 893      -7.957  19.880  20.542  1.00  0.00           O  \nATOM   1496  CB  HIS A 893      -7.209  22.909  19.615  1.00  0.00           C  \nATOM   1497  CG  HIS A 893      -6.273  24.067  19.734  1.00  0.00           C  \nATOM   1498  ND1 HIS A 893      -5.642  24.401  20.912  1.00  0.00           N  \nATOM   1499  CD2 HIS A 893      -5.893  24.994  18.831  1.00  0.00           C  \nATOM   1500  CE1 HIS A 893      -4.888  25.466  20.719  1.00  0.00           C  \nATOM   1501  NE2 HIS A 893      -5.028  25.851  19.467  1.00  0.00           N  \nATOM   1502  N   GLN A 894      -8.062  20.196  18.326  1.00  0.00           N  \nATOM   1503  CA  GLN A 894      -9.074  19.169  18.152  1.00  0.00           C  \nATOM   1504  C   GLN A 894      -8.547  17.786  18.467  1.00  0.00           C  \nATOM   1505  O   GLN A 894      -9.320  16.869  18.647  1.00  0.00           O  \nATOM   1506  CB  GLN A 894      -9.650  19.203  16.759  1.00  0.00           C  \nATOM   1507  CG  GLN A 894     -10.225  20.522  16.433  1.00  0.00           C  \nATOM   1508  CD  GLN A 894     -11.401  20.834  17.306  1.00  0.00           C  \nATOM   1509  OE1 GLN A 894     -11.280  21.547  18.307  1.00  0.00           O  \nATOM   1510  NE2 GLN A 894     -12.556  20.292  16.946  1.00  0.00           N  \nATOM   1511  N   SER A 895      -7.237  17.610  18.547  1.00  0.00           N  \nATOM   1512  CA  SER A 895      -6.741  16.359  19.096  1.00  0.00           C  \nATOM   1513  C   SER A 895      -6.822  16.396  20.637  1.00  0.00           C  \nATOM   1514  O   SER A 895      -6.976  15.353  21.278  1.00  0.00           O  \nATOM   1515  CB  SER A 895      -5.328  16.043  18.601  1.00  0.00           C  \nATOM   1516  OG  SER A 895      -4.348  16.570  19.476  1.00  0.00           O  \nATOM   1517  N   ASP A 896      -6.729  17.588  21.235  1.00  0.00           N  \nATOM   1518  CA  ASP A 896      -6.803  17.701  22.692  1.00  0.00           C  \nATOM   1519  C   ASP A 896      -8.205  17.316  23.111  1.00  0.00           C  \nATOM   1520  O   ASP A 896      -8.414  16.722  24.179  1.00  0.00           O  \nATOM   1521  CB  ASP A 896      -6.502  19.127  23.169  1.00  0.00           C  \nATOM   1522  CG  ASP A 896      -4.992  19.427  23.338  1.00  0.00           C  \nATOM   1523  OD1 ASP A 896      -4.686  20.644  23.478  1.00  0.00           O  \nATOM   1524  OD2 ASP A 896      -4.128  18.495  23.353  1.00  0.00           O1-\nATOM   1525  N   VAL A 897      -9.157  17.644  22.239  1.00  0.00           N  \nATOM   1526  CA  VAL A 897     -10.559  17.350  22.452  1.00  0.00           C  \nATOM   1527  C   VAL A 897     -10.771  15.841  22.640  1.00  0.00           C  \nATOM   1528  O   VAL A 897     -11.477  15.425  23.554  1.00  0.00           O  \nATOM   1529  CB  VAL A 897     -11.365  17.903  21.307  1.00  0.00           C  \nATOM   1530  CG1 VAL A 897     -12.803  17.591  21.469  1.00  0.00           C  \nATOM   1531  CG2 VAL A 897     -11.177  19.386  21.251  1.00  0.00           C  \nATOM   1532  N   TRP A 898     -10.125  15.025  21.811  1.00  0.00           N  \nATOM   1533  CA  TRP A 898     -10.165  13.576  21.973  1.00  0.00           C  \nATOM   1534  C   TRP A 898      -9.758  13.140  23.390  1.00  0.00           C  \nATOM   1535  O   TRP A 898     -10.441  12.345  24.026  1.00  0.00           O  \nATOM   1536  CB  TRP A 898      -9.262  12.925  20.930  1.00  0.00           C  \nATOM   1537  CG  TRP A 898      -9.322  11.390  20.863  1.00  0.00           C  \nATOM   1538  CD1 TRP A 898      -9.015  10.502  21.867  1.00  0.00           C  \nATOM   1539  CD2 TRP A 898      -9.675  10.583  19.718  1.00  0.00           C  \nATOM   1540  NE1 TRP A 898      -9.172   9.202  21.423  1.00  0.00           N  \nATOM   1541  CE2 TRP A 898      -9.568   9.223  20.111  1.00  0.00           C  \nATOM   1542  CE3 TRP A 898     -10.069  10.878  18.399  1.00  0.00           C  \nATOM   1543  CZ2 TRP A 898      -9.849   8.162  19.239  1.00  0.00           C  \nATOM   1544  CZ3 TRP A 898     -10.342   9.819  17.529  1.00  0.00           C  \nATOM   1545  CH2 TRP A 898     -10.234   8.476  17.960  1.00  0.00           C  \nATOM   1546  N   SER A 899      -8.650  13.668  23.893  1.00  0.00           N  \nATOM   1547  CA  SER A 899      -8.215  13.351  25.261  1.00  0.00           C  \nATOM   1548  C   SER A 899      -9.205  13.868  26.291  1.00  0.00           C  \nATOM   1549  O   SER A 899      -9.386  13.246  27.335  1.00  0.00           O  \nATOM   1550  CB  SER A 899      -6.841  13.946  25.551  1.00  0.00           C  \nATOM   1551  OG  SER A 899      -5.933  13.648  24.520  1.00  0.00           O  \nATOM   1552  N   TYR A 900      -9.829  15.009  25.988  1.00  0.00           N  \nATOM   1553  CA  TYR A 900     -10.983  15.484  26.762  1.00  0.00           C  \nATOM   1554  C   TYR A 900     -12.056  14.399  26.947  1.00  0.00           C  \nATOM   1555  O   TYR A 900     -12.427  14.059  28.078  1.00  0.00           O  \nATOM   1556  CB  TYR A 900     -11.616  16.726  26.121  1.00  0.00           C  \nATOM   1557  CG  TYR A 900     -12.685  17.326  27.000  1.00  0.00           C  \nATOM   1558  CD1 TYR A 900     -14.023  16.984  26.826  1.00  0.00           C  \nATOM   1559  CD2 TYR A 900     -12.359  18.198  28.036  1.00  0.00           C  \nATOM   1560  CE1 TYR A 900     -15.019  17.510  27.647  1.00  0.00           C  \nATOM   1561  CE2 TYR A 900     -13.339  18.725  28.860  1.00  0.00           C  \nATOM   1562  CZ  TYR A 900     -14.672  18.374  28.658  1.00  0.00           C  \nATOM   1563  OH  TYR A 900     -15.657  18.887  29.454  1.00  0.00           O  \nATOM   1564  N   GLY A 901     -12.538  13.887  25.811  1.00  0.00           N  \nATOM   1565  CA  GLY A 901     -13.477  12.778  25.760  1.00  0.00           C  \nATOM   1566  C   GLY A 901     -12.989  11.639  26.621  1.00  0.00           C  \nATOM   1567  O   GLY A 901     -13.719  11.101  27.464  1.00  0.00           O  \nATOM   1568  N   VAL A 902     -11.733  11.272  26.440  1.00  0.00           N  \nATOM   1569  CA  VAL A 902     -11.213  10.195  27.235  1.00  0.00           C  \nATOM   1570  C   VAL A 902     -11.242  10.624  28.699  1.00  0.00           C  \nATOM   1571  O   VAL A 902     -11.566   9.837  29.587  1.00  0.00           O  \nATOM   1572  CB  VAL A 902      -9.827   9.779  26.786  1.00  0.00           C  \nATOM   1573  CG1 VAL A 902      -9.372   8.596  27.578  1.00  0.00           C  \nATOM   1574  CG2 VAL A 902      -9.861   9.425  25.329  1.00  0.00           C  \nATOM   1575  N   THR A 903     -10.941  11.886  28.955  1.00  0.00           N  \nATOM   1576  CA  THR A 903     -10.824  12.273  30.338  1.00  0.00           C  \nATOM   1577  C   THR A 903     -12.205  12.218  30.948  1.00  0.00           C  \nATOM   1578  O   THR A 903     -12.348  11.818  32.103  1.00  0.00           O  \nATOM   1579  CB  THR A 903     -10.136  13.630  30.535  1.00  0.00           C  \nATOM   1580  OG1 THR A 903      -8.789  13.530  30.065  1.00  0.00           O  \nATOM   1581  CG2 THR A 903     -10.111  14.006  32.018  1.00  0.00           C  \nATOM   1582  N   VAL A 904     -13.219  12.578  30.164  1.00  0.00           N  \nATOM   1583  CA  VAL A 904     -14.591  12.508  30.660  1.00  0.00           C  \nATOM   1584  C   VAL A 904     -14.867  11.055  31.022  1.00  0.00           C  \nATOM   1585  O   VAL A 904     -15.275  10.755  32.149  1.00  0.00           O  \nATOM   1586  CB  VAL A 904     -15.634  13.071  29.652  1.00  0.00           C  \nATOM   1587  CG1 VAL A 904     -17.032  13.003  30.235  1.00  0.00           C  \nATOM   1588  CG2 VAL A 904     -15.274  14.499  29.285  1.00  0.00           C  \nATOM   1589  N   TRP A 905     -14.574  10.159  30.091  1.00  0.00           N  \nATOM   1590  CA  TRP A 905     -14.795   8.747  30.310  1.00  0.00           C  \nATOM   1591  C   TRP A 905     -14.162   8.245  31.602  1.00  0.00           C  \nATOM   1592  O   TRP A 905     -14.793   7.544  32.347  1.00  0.00           O  \nATOM   1593  CB  TRP A 905     -14.288   7.962  29.111  1.00  0.00           C  \nATOM   1594  CG  TRP A 905     -14.666   6.519  29.136  1.00  0.00           C  \nATOM   1595  CD1 TRP A 905     -15.737   5.941  28.508  1.00  0.00           C  \nATOM   1596  CD2 TRP A 905     -13.981   5.458  29.827  1.00  0.00           C  \nATOM   1597  NE1 TRP A 905     -15.767   4.591  28.771  1.00  0.00           N  \nATOM   1598  CE2 TRP A 905     -14.701   4.266  29.577  1.00  0.00           C  \nATOM   1599  CE3 TRP A 905     -12.829   5.399  30.644  1.00  0.00           C  \nATOM   1600  CZ2 TRP A 905     -14.298   3.018  30.105  1.00  0.00           C  \nATOM   1601  CZ3 TRP A 905     -12.439   4.159  31.176  1.00  0.00           C  \nATOM   1602  CH2 TRP A 905     -13.174   2.993  30.900  1.00  0.00           C  \nATOM   1603  N   GLU A 906     -12.918   8.616  31.868  1.00  0.00           N  \nATOM   1604  CA  GLU A 906     -12.266   8.296  33.148  1.00  0.00           C  \nATOM   1605  C   GLU A 906     -13.117   8.704  34.330  1.00  0.00           C  \nATOM   1606  O   GLU A 906     -13.290   7.949  35.272  1.00  0.00           O  \nATOM   1607  CB  GLU A 906     -10.922   9.015  33.285  1.00  0.00           C  \nATOM   1608  CG  GLU A 906      -9.892   8.590  32.256  1.00  0.00           C  \nATOM   1609  CD  GLU A 906      -8.527   9.249  32.446  1.00  0.00           C  \nATOM   1610  OE1 GLU A 906      -7.848   9.001  33.491  1.00  0.00           O  \nATOM   1611  OE2 GLU A 906      -8.138  10.006  31.515  1.00  0.00           O1-\nATOM   1612  N   LEU A 907     -13.642   9.914  34.284  1.00  0.00           N  \nATOM   1613  CA  LEU A 907     -14.417  10.414  35.378  1.00  0.00           C  \nATOM   1614  C   LEU A 907     -15.725   9.657  35.483  1.00  0.00           C  \nATOM   1615  O   LEU A 907     -16.028   9.085  36.522  1.00  0.00           O  \nATOM   1616  CB  LEU A 907     -14.704  11.889  35.183  1.00  0.00           C  \nATOM   1617  CG  LEU A 907     -13.587  12.909  35.052  1.00  0.00           C  \nATOM   1618  CD1 LEU A 907     -14.310  14.226  34.985  1.00  0.00           C  \nATOM   1619  CD2 LEU A 907     -12.627  12.871  36.222  1.00  0.00           C  \nATOM   1620  N   MET A 908     -16.498   9.654  34.405  1.00  0.00           N  \nATOM   1621  CA  MET A 908     -17.793   8.983  34.412  1.00  0.00           C  \nATOM   1622  C   MET A 908     -17.674   7.542  34.843  1.00  0.00           C  \nATOM   1623  O   MET A 908     -18.629   6.988  35.355  1.00  0.00           O  \nATOM   1624  CB  MET A 908     -18.451   9.027  33.038  1.00  0.00           C  \nATOM   1625  CG  MET A 908     -18.613  10.407  32.517  1.00  0.00           C  \nATOM   1626  SD  MET A 908     -19.675  11.259  33.647  1.00  0.00           S  \nATOM   1627  CE  MET A 908     -19.100  12.931  33.439  1.00  0.00           C  \nATOM   1628  N   THR A 909     -16.520   6.920  34.622  1.00  0.00           N  \nATOM   1629  CA  THR A 909     -16.351   5.538  35.040  1.00  0.00           C  \nATOM   1630  C   THR A 909     -15.559   5.468  36.335  1.00  0.00           C  \nATOM   1631  O   THR A 909     -14.864   4.494  36.593  1.00  0.00           O  \nATOM   1632  CB  THR A 909     -15.645   4.688  33.988  1.00  0.00           C  \nATOM   1633  OG1 THR A 909     -14.312   5.179  33.819  1.00  0.00           O  \nATOM   1634  CG2 THR A 909     -16.398   4.696  32.647  1.00  0.00           C  \nATOM   1635  N   PHE A 910     -15.644   6.522  37.139  1.00  0.00           N  \nATOM   1636  CA  PHE A 910     -15.051   6.546  38.480  1.00  0.00           C  \nATOM   1637  C   PHE A 910     -13.596   6.124  38.519  1.00  0.00           C  \nATOM   1638  O   PHE A 910     -13.136   5.511  39.471  1.00  0.00           O  \nATOM   1639  CB  PHE A 910     -15.918   5.724  39.434  1.00  0.00           C  \nATOM   1640  CG  PHE A 910     -17.267   6.311  39.616  1.00  0.00           C  \nATOM   1641  CD1 PHE A 910     -17.526   7.168  40.688  1.00  0.00           C  \nATOM   1642  CD2 PHE A 910     -18.255   6.096  38.667  1.00  0.00           C  \nATOM   1643  CE1 PHE A 910     -18.775   7.773  40.837  1.00  0.00           C  \nATOM   1644  CE2 PHE A 910     -19.495   6.678  38.809  1.00  0.00           C  \nATOM   1645  CZ  PHE A 910     -19.760   7.523  39.898  1.00  0.00           C  \nATOM   1646  N   GLY A 911     -12.878   6.464  37.462  1.00  0.00           N  \nATOM   1647  CA  GLY A 911     -11.462   6.231  37.411  1.00  0.00           C  \nATOM   1648  C   GLY A 911     -11.096   4.910  36.791  1.00  0.00           C  \nATOM   1649  O   GLY A 911     -10.066   4.367  37.111  1.00  0.00           O  \nATOM   1650  N   SER A 912     -11.909   4.387  35.892  1.00  0.00           N  \nATOM   1651  CA  SER A 912     -11.536   3.136  35.255  1.00  0.00           C  \nATOM   1652  C   SER A 912     -10.356   3.365  34.342  1.00  0.00           C  \nATOM   1653  O   SER A 912     -10.023   4.519  34.066  1.00  0.00           O  \nATOM   1654  CB  SER A 912     -12.696   2.571  34.467  1.00  0.00           C  \nATOM   1655  OG  SER A 912     -13.668   2.077  35.366  1.00  0.00           O  \nATOM   1656  N   LYS A 913      -9.717   2.287  33.888  1.00  0.00           N  \nATOM   1657  CA  LYS A 913      -8.601   2.409  32.956  1.00  0.00           C  \nATOM   1658  C   LYS A 913      -9.096   2.178  31.557  1.00  0.00           C  \nATOM   1659  O   LYS A 913      -9.630   1.119  31.263  1.00  0.00           O  \nATOM   1660  CB  LYS A 913      -7.514   1.393  33.253  1.00  0.00           C  \nATOM   1661  CG  LYS A 913      -7.212   1.236  34.679  1.00  0.00           C  \nATOM   1662  CD  LYS A 913      -5.973   0.436  34.826  1.00  0.00           C  \nATOM   1663  CE  LYS A 913      -5.613   0.340  36.296  1.00  0.00           C  \nATOM   1664  NZ  LYS A 913      -4.184  -0.089  36.513  1.00  0.00           N1+\nATOM   1665  N   PRO A 914      -8.913   3.156  30.674  1.00  0.00           N  \nATOM   1666  CA  PRO A 914      -9.401   2.998  29.300  1.00  0.00           C  \nATOM   1667  C   PRO A 914      -8.708   1.843  28.557  1.00  0.00           C  \nATOM   1668  O   PRO A 914      -7.481   1.719  28.611  1.00  0.00           O  \nATOM   1669  CB  PRO A 914      -9.055   4.339  28.651  1.00  0.00           C  \nATOM   1670  CG  PRO A 914      -7.902   4.859  29.487  1.00  0.00           C  \nATOM   1671  CD  PRO A 914      -8.242   4.447  30.878  1.00  0.00           C  \nATOM   1672  N   TYR A 915      -9.503   1.021  27.872  1.00  0.00           N  \nATOM   1673  CA  TYR A 915      -9.006  -0.129  27.131  1.00  0.00           C  \nATOM   1674  C   TYR A 915      -8.216  -1.076  28.021  1.00  0.00           C  \nATOM   1675  O   TYR A 915      -7.170  -1.605  27.612  1.00  0.00           O  \nATOM   1676  CB  TYR A 915      -8.131   0.310  25.980  1.00  0.00           C  \nATOM   1677  CG  TYR A 915      -8.707   1.426  25.190  1.00  0.00           C  \nATOM   1678  CD1 TYR A 915      -9.711   1.189  24.263  1.00  0.00           C  \nATOM   1679  CD2 TYR A 915      -8.244   2.730  25.354  1.00  0.00           C  \nATOM   1680  CE1 TYR A 915     -10.246   2.221  23.505  1.00  0.00           C  \nATOM   1681  CE2 TYR A 915      -8.772   3.769  24.606  1.00  0.00           C  \nATOM   1682  CZ  TYR A 915      -9.771   3.501  23.683  1.00  0.00           C  \nATOM   1683  OH  TYR A 915     -10.306   4.503  22.942  1.00  0.00           O  \nATOM   1684  N   ASP A 916      -8.725  -1.289  29.234  1.00  0.00           N  \nATOM   1685  CA  ASP A 916      -8.071  -2.129  30.230  1.00  0.00           C  \nATOM   1686  C   ASP A 916      -7.571  -3.463  29.690  1.00  0.00           C  \nATOM   1687  O   ASP A 916      -8.266  -4.136  28.919  1.00  0.00           O  \nATOM   1688  CB  ASP A 916      -9.019  -2.398  31.373  1.00  0.00           C  \nATOM   1689  CG  ASP A 916      -8.295  -2.579  32.663  1.00  0.00           C  \nATOM   1690  OD1 ASP A 916      -8.969  -2.563  33.716  1.00  0.00           O  \nATOM   1691  OD2 ASP A 916      -7.050  -2.712  32.621  1.00  0.00           O1-\nATOM   1692  N   GLY A 917      -6.360  -3.838  30.101  1.00  0.00           N  \nATOM   1693  CA  GLY A 917      -5.705  -5.033  29.570  1.00  0.00           C  \nATOM   1694  C   GLY A 917      -5.118  -4.778  28.188  1.00  0.00           C  \nATOM   1695  O   GLY A 917      -3.884  -4.714  28.033  1.00  0.00           O  \nATOM   1696  N   ILE A 918      -6.013  -4.640  27.196  1.00  0.00           N  \nATOM   1697  CA  ILE A 918      -5.675  -4.342  25.797  1.00  0.00           C  \nATOM   1698  C   ILE A 918      -4.324  -3.645  25.684  1.00  0.00           C  \nATOM   1699  O   ILE A 918      -4.202  -2.488  26.083  1.00  0.00           O  \nATOM   1700  CB  ILE A 918      -6.691  -3.376  25.164  1.00  0.00           C  \nATOM   1701  CG1 ILE A 918      -8.127  -3.671  25.629  1.00  0.00           C  \nATOM   1702  CG2 ILE A 918      -6.484  -3.307  23.645  1.00  0.00           C  \nATOM   1703  CD1 ILE A 918      -8.957  -4.485  24.685  1.00  0.00           C  \nATOM   1704  N   PRO A 919      -3.297  -4.359  25.182  1.00  0.00           N  \nATOM   1705  CA  PRO A 919      -1.961  -3.765  24.912  1.00  0.00           C  \nATOM   1706  C   PRO A 919      -1.938  -2.642  23.850  1.00  0.00           C  \nATOM   1707  O   PRO A 919      -2.671  -2.704  22.847  1.00  0.00           O  \nATOM   1708  CB  PRO A 919      -1.118  -4.977  24.482  1.00  0.00           C  \nATOM   1709  CG  PRO A 919      -1.875  -6.194  25.085  1.00  0.00           C  \nATOM   1710  CD  PRO A 919      -3.315  -5.814  24.921  1.00  0.00           C  \nATOM   1711  N   ALA A 920      -1.081  -1.643  24.085  1.00  0.00           N  \nATOM   1712  CA  ALA A 920      -1.107  -0.374  23.349  1.00  0.00           C  \nATOM   1713  C   ALA A 920      -0.831  -0.442  21.837  1.00  0.00           C  \nATOM   1714  O   ALA A 920      -1.587   0.127  21.055  1.00  0.00           O  \nATOM   1715  CB  ALA A 920      -0.221   0.667  24.029  1.00  0.00           C  \nATOM   1716  N   SER A 921       0.232  -1.121  21.417  1.00  0.00           N  \nATOM   1717  CA  SER A 921       0.528  -1.263  19.979  1.00  0.00           C  \nATOM   1718  C   SER A 921      -0.721  -1.649  19.155  1.00  0.00           C  \nATOM   1719  O   SER A 921      -0.784  -1.435  17.936  1.00  0.00           O  \nATOM   1720  CB  SER A 921       1.652  -2.271  19.774  1.00  0.00           C  \nATOM   1721  OG  SER A 921       1.460  -3.382  20.659  1.00  0.00           O  \nATOM   1722  N   GLU A 922      -1.728  -2.185  19.842  1.00  0.00           N  \nATOM   1723  CA  GLU A 922      -3.004  -2.539  19.211  1.00  0.00           C  \nATOM   1724  C   GLU A 922      -4.065  -1.424  19.120  1.00  0.00           C  \nATOM   1725  O   GLU A 922      -4.997  -1.540  18.310  1.00  0.00           O  \nATOM   1726  CB  GLU A 922      -3.594  -3.773  19.886  1.00  0.00           C  \nATOM   1727  CG  GLU A 922      -3.033  -5.064  19.340  1.00  0.00           C  \nATOM   1728  CD  GLU A 922      -3.073  -6.213  20.345  1.00  0.00           C  \nATOM   1729  OE1 GLU A 922      -3.777  -6.122  21.384  1.00  0.00           O  \nATOM   1730  OE2 GLU A 922      -2.383  -7.226  20.087  1.00  0.00           O1-\nATOM   1731  N   ILE A 923      -3.927  -0.362  19.927  1.00  0.00           N  \nATOM   1732  CA  ILE A 923      -4.913   0.734  19.945  1.00  0.00           C  \nATOM   1733  C   ILE A 923      -5.130   1.371  18.563  1.00  0.00           C  \nATOM   1734  O   ILE A 923      -6.263   1.651  18.184  1.00  0.00           O  \nATOM   1735  CB  ILE A 923      -4.597   1.834  21.001  1.00  0.00           C  \nATOM   1736  CG1 ILE A 923      -4.344   1.241  22.395  1.00  0.00           C  \nATOM   1737  CG2 ILE A 923      -5.699   2.886  21.046  1.00  0.00           C  \nATOM   1738  CD1 ILE A 923      -5.530   0.630  23.085  1.00  0.00           C  \nATOM   1739  N   SER A 924      -4.062   1.573  17.805  1.00  0.00           N  \nATOM   1740  CA  SER A 924      -4.187   2.160  16.470  1.00  0.00           C  \nATOM   1741  C   SER A 924      -5.107   1.319  15.614  1.00  0.00           C  \nATOM   1742  O   SER A 924      -5.733   1.802  14.661  1.00  0.00           O  \nATOM   1743  CB  SER A 924      -2.827   2.187  15.789  1.00  0.00           C  \nATOM   1744  OG  SER A 924      -2.315   0.861  15.675  1.00  0.00           O  \nATOM   1745  N   SER A 925      -5.157   0.042  15.969  1.00  0.00           N  \nATOM   1746  CA  SER A 925      -5.757  -0.977  15.135  1.00  0.00           C  \nATOM   1747  C   SER A 925      -7.249  -1.043  15.384  1.00  0.00           C  \nATOM   1748  O   SER A 925      -8.050  -0.899  14.450  1.00  0.00           O  \nATOM   1749  CB  SER A 925      -5.109  -2.324  15.438  1.00  0.00           C  \nATOM   1750  OG  SER A 925      -5.544  -3.279  14.502  1.00  0.00           O  \nATOM   1751  N   ILE A 926      -7.584  -1.281  16.658  1.00  0.00           N  \nATOM   1752  CA  ILE A 926      -8.934  -1.226  17.196  1.00  0.00           C  \nATOM   1753  C   ILE A 926      -9.609   0.058  16.761  1.00  0.00           C  \nATOM   1754  O   ILE A 926     -10.631   0.028  16.085  1.00  0.00           O  \nATOM   1755  CB  ILE A 926      -8.899  -1.284  18.739  1.00  0.00           C  \nATOM   1756  CG1 ILE A 926      -8.525  -2.694  19.220  1.00  0.00           C  \nATOM   1757  CG2 ILE A 926     -10.215  -0.820  19.331  1.00  0.00           C  \nATOM   1758  CD1 ILE A 926      -8.723  -2.947  20.715  1.00  0.00           C  \nATOM   1759  N   LEU A 927      -9.012   1.186  17.129  1.00  0.00           N  \nATOM   1760  CA  LEU A 927      -9.590   2.483  16.813  1.00  0.00           C  \nATOM   1761  C   LEU A 927      -9.911   2.587  15.344  1.00  0.00           C  \nATOM   1762  O   LEU A 927     -10.888   3.224  14.957  1.00  0.00           O  \nATOM   1763  CB  LEU A 927      -8.656   3.640  17.205  1.00  0.00           C  \nATOM   1764  CG  LEU A 927      -8.511   4.147  18.657  1.00  0.00           C  \nATOM   1765  CD1 LEU A 927      -7.461   5.262  18.709  1.00  0.00           C  \nATOM   1766  CD2 LEU A 927      -9.829   4.625  19.280  1.00  0.00           C  \nATOM   1767  N   GLU A 928      -9.094   1.948  14.523  1.00  0.00           N  \nATOM   1768  CA  GLU A 928      -9.223   2.114  13.087  1.00  0.00           C  \nATOM   1769  C   GLU A 928     -10.335   1.276  12.495  1.00  0.00           C  \nATOM   1770  O   GLU A 928     -10.745   1.506  11.361  1.00  0.00           O  \nATOM   1771  CB  GLU A 928      -7.907   1.826  12.393  1.00  0.00           C  \nATOM   1772  CG  GLU A 928      -7.676   2.767  11.228  1.00  0.00           C  \nATOM   1773  CD  GLU A 928      -6.222   2.842  10.833  1.00  0.00           C  \nATOM   1774  OE1 GLU A 928      -5.370   2.276  11.572  1.00  0.00           O  \nATOM   1775  OE2 GLU A 928      -5.946   3.474   9.782  1.00  0.00           O1-\nATOM   1776  N   LYS A 929     -10.814   0.313  13.277  1.00  0.00           N  \nATOM   1777  CA  LYS A 929     -11.981  -0.497  12.924  1.00  0.00           C  \nATOM   1778  C   LYS A 929     -13.293   0.214  13.257  1.00  0.00           C  \nATOM   1779  O   LYS A 929     -14.367  -0.178  12.774  1.00  0.00           O  \nATOM   1780  CB  LYS A 929     -11.916  -1.854  13.610  1.00  0.00           C  \nATOM   1781  CG  LYS A 929     -10.918  -2.782  12.953  1.00  0.00           C  \nATOM   1782  CD  LYS A 929     -10.483  -3.882  13.898  1.00  0.00           C  \nATOM   1783  CE  LYS A 929      -9.503  -4.824  13.218  1.00  0.00           C  \nATOM   1784  NZ  LYS A 929      -9.259  -5.956  14.148  1.00  0.00           N1+\nATOM   1785  N   GLY A 930     -13.173   1.263  14.075  1.00  0.00           N  \nATOM   1786  CA  GLY A 930     -14.256   2.200  14.350  1.00  0.00           C  \nATOM   1787  C   GLY A 930     -14.810   1.974  15.730  1.00  0.00           C  \nATOM   1788  O   GLY A 930     -15.960   2.334  16.011  1.00  0.00           O  \nATOM   1789  N   GLU A 931     -13.977   1.370  16.577  1.00  0.00           N  \nATOM   1790  CA  GLU A 931     -14.344   0.991  17.933  1.00  0.00           C  \nATOM   1791  C   GLU A 931     -13.896   2.049  18.949  1.00  0.00           C  \nATOM   1792  O   GLU A 931     -12.771   2.548  18.879  1.00  0.00           O  \nATOM   1793  CB  GLU A 931     -13.711  -0.352  18.276  1.00  0.00           C  \nATOM   1794  CG  GLU A 931     -14.383  -1.084  19.436  1.00  0.00           C  \nATOM   1795  CD  GLU A 931     -13.466  -2.119  20.103  1.00  0.00           C  \nATOM   1796  OE1 GLU A 931     -13.091  -1.884  21.280  1.00  0.00           O  \nATOM   1797  OE2 GLU A 931     -13.117  -3.149  19.461  1.00  0.00           O1-\nATOM   1798  N   ARG A 932     -14.782   2.387  19.888  1.00  0.00           N  \nATOM   1799  CA  ARG A 932     -14.501   3.405  20.890  1.00  0.00           C  \nATOM   1800  C   ARG A 932     -14.787   2.816  22.245  1.00  0.00           C  \nATOM   1801  O   ARG A 932     -15.097   1.637  22.354  1.00  0.00           O  \nATOM   1802  CB  ARG A 932     -15.371   4.645  20.680  1.00  0.00           C  \nATOM   1803  CG  ARG A 932     -15.303   5.268  19.309  1.00  0.00           C  \nATOM   1804  CD  ARG A 932     -13.901   5.729  18.980  1.00  0.00           C  \nATOM   1805  NE  ARG A 932     -13.361   5.035  17.803  1.00  0.00           N  \nATOM   1806  CZ  ARG A 932     -13.034   5.625  16.654  1.00  0.00           C  \nATOM   1807  NH1 ARG A 932     -13.183   6.930  16.506  1.00  0.00           N1+\nATOM   1808  NH2 ARG A 932     -12.542   4.909  15.649  1.00  0.00           N  \nATOM   1809  N   LEU A 933     -14.684   3.640  23.280  1.00  0.00           N  \nATOM   1810  CA  LEU A 933     -14.932   3.210  24.644  1.00  0.00           C  \nATOM   1811  C   LEU A 933     -16.441   3.094  24.861  1.00  0.00           C  \nATOM   1812  O   LEU A 933     -17.212   3.860  24.271  1.00  0.00           O  \nATOM   1813  CB  LEU A 933     -14.339   4.228  25.615  1.00  0.00           C  \nATOM   1814  CG  LEU A 933     -12.855   4.587  25.519  1.00  0.00           C  \nATOM   1815  CD1 LEU A 933     -12.629   5.915  26.154  1.00  0.00           C  \nATOM   1816  CD2 LEU A 933     -12.056   3.565  26.253  1.00  0.00           C  \nATOM   1817  N   PRO A 934     -16.864   2.163  25.739  1.00  0.00           N  \nATOM   1818  CA  PRO A 934     -18.270   1.919  26.059  1.00  0.00           C  \nATOM   1819  C   PRO A 934     -18.937   3.070  26.790  1.00  0.00           C  \nATOM   1820  O   PRO A 934     -18.293   3.782  27.564  1.00  0.00           O  \nATOM   1821  CB  PRO A 934     -18.193   0.743  27.033  1.00  0.00           C  \nATOM   1822  CG  PRO A 934     -16.846   0.871  27.680  1.00  0.00           C  \nATOM   1823  CD  PRO A 934     -15.972   1.293  26.533  1.00  0.00           C  \nATOM   1824  N   GLN A 935     -20.234   3.231  26.566  1.00  0.00           N  \nATOM   1825  CA  GLN A 935     -21.040   4.071  27.430  1.00  0.00           C  \nATOM   1826  C   GLN A 935     -20.711   3.655  28.854  1.00  0.00           C  \nATOM   1827  O   GLN A 935     -20.776   2.475  29.151  1.00  0.00           O  \nATOM   1828  CB  GLN A 935     -22.516   3.813  27.135  1.00  0.00           C  \nATOM   1829  CG  GLN A 935     -23.516   4.804  27.730  1.00  0.00           C  \nATOM   1830  CD  GLN A 935     -24.740   5.003  26.818  1.00  0.00           C  \nATOM   1831  OE1 GLN A 935     -24.760   4.572  25.677  1.00  0.00           O  \nATOM   1832  NE2 GLN A 935     -25.744   5.676  27.323  1.00  0.00           N  \nATOM   1833  N   PRO A 936     -20.298   4.598  29.723  1.00  0.00           N  \nATOM   1834  CA  PRO A 936     -20.279   4.247  31.154  1.00  0.00           C  \nATOM   1835  C   PRO A 936     -21.698   4.014  31.649  1.00  0.00           C  \nATOM   1836  O   PRO A 936     -22.640   4.719  31.256  1.00  0.00           O  \nATOM   1837  CB  PRO A 936     -19.693   5.486  31.845  1.00  0.00           C  \nATOM   1838  CG  PRO A 936     -19.050   6.270  30.755  1.00  0.00           C  \nATOM   1839  CD  PRO A 936     -19.820   5.970  29.485  1.00  0.00           C  \nATOM   1840  N   PRO A 937     -21.854   3.023  32.522  1.00  0.00           N  \nATOM   1841  CA  PRO A 937     -23.121   2.652  33.105  1.00  0.00           C  \nATOM   1842  C   PRO A 937     -23.890   3.817  33.729  1.00  0.00           C  \nATOM   1843  O   PRO A 937     -25.055   3.658  34.026  1.00  0.00           O  \nATOM   1844  CB  PRO A 937     -22.712   1.689  34.217  1.00  0.00           C  \nATOM   1845  CG  PRO A 937     -21.245   1.940  34.428  1.00  0.00           C  \nATOM   1846  CD  PRO A 937     -20.766   2.196  33.052  1.00  0.00           C  \nATOM   1847  N   ILE A 938     -23.280   4.967  33.971  1.00  0.00           N  \nATOM   1848  CA  ILE A 938     -24.076   6.019  34.569  1.00  0.00           C  \nATOM   1849  C   ILE A 938     -24.506   7.008  33.531  1.00  0.00           C  \nATOM   1850  O   ILE A 938     -25.314   7.877  33.828  1.00  0.00           O  \nATOM   1851  CB  ILE A 938     -23.424   6.759  35.793  1.00  0.00           C  \nATOM   1852  CG1 ILE A 938     -22.046   7.290  35.461  1.00  0.00           C  \nATOM   1853  CG2 ILE A 938     -23.347   5.878  37.000  1.00  0.00           C  \nATOM   1854  CD1 ILE A 938     -21.782   8.619  36.066  1.00  0.00           C  \nATOM   1855  N   CYS A 939     -23.999   6.879  32.312  1.00  0.00           N  \nATOM   1856  CA  CYS A 939     -24.209   7.944  31.307  1.00  0.00           C  \nATOM   1857  C   CYS A 939     -25.493   7.863  30.481  1.00  0.00           C  \nATOM   1858  O   CYS A 939     -25.705   6.939  29.727  1.00  0.00           O  \nATOM   1859  CB  CYS A 939     -22.984   8.095  30.380  1.00  0.00           C  \nATOM   1860  SG  CYS A 939     -21.494   8.787  31.219  1.00  0.00           S  \nATOM   1861  N   THR A 940     -26.351   8.854  30.595  1.00  0.00           N  \nATOM   1862  CA  THR A 940     -27.412   8.912  29.638  1.00  0.00           C  \nATOM   1863  C   THR A 940     -26.776   8.989  28.269  1.00  0.00           C  \nATOM   1864  O   THR A 940     -25.652   9.474  28.101  1.00  0.00           O  \nATOM   1865  CB  THR A 940     -28.186  10.181  29.757  1.00  0.00           C  \nATOM   1866  OG1 THR A 940     -27.267  11.270  29.716  1.00  0.00           O  \nATOM   1867  CG2 THR A 940     -28.995  10.193  31.035  1.00  0.00           C  \nATOM   1868  N   ILE A 941     -27.517   8.523  27.281  1.00  0.00           N  \nATOM   1869  CA  ILE A 941     -27.190   8.763  25.899  1.00  0.00           C  \nATOM   1870  C   ILE A 941     -26.642  10.196  25.628  1.00  0.00           C  \nATOM   1871  O   ILE A 941     -25.714  10.349  24.846  1.00  0.00           O  \nATOM   1872  CB  ILE A 941     -28.412   8.448  25.020  1.00  0.00           C  \nATOM   1873  CG1 ILE A 941     -27.982   8.019  23.628  1.00  0.00           C  \nATOM   1874  CG2 ILE A 941     -29.331   9.626  24.947  1.00  0.00           C  \nATOM   1875  CD1 ILE A 941     -28.773   8.683  22.548  1.00  0.00           C  \nATOM   1876  N   ASP A 942     -27.174  11.235  26.273  1.00  0.00           N  \nATOM   1877  CA  ASP A 942     -26.755  12.608  25.904  1.00  0.00           C  \nATOM   1878  C   ASP A 942     -25.319  12.932  26.261  1.00  0.00           C  \nATOM   1879  O   ASP A 942     -24.602  13.588  25.483  1.00  0.00           O  \nATOM   1880  CB  ASP A 942     -27.613  13.674  26.547  1.00  0.00           C  \nATOM   1881  CG  ASP A 942     -29.014  13.281  26.632  1.00  0.00           C  \nATOM   1882  OD1 ASP A 942     -29.256  12.128  27.069  1.00  0.00           O  \nATOM   1883  OD2 ASP A 942     -29.858  14.129  26.270  1.00  0.00           O1-\nATOM   1884  N   VAL A 943     -24.927  12.517  27.464  1.00  0.00           N  \nATOM   1885  CA  VAL A 943     -23.547  12.601  27.862  1.00  0.00           C  \nATOM   1886  C   VAL A 943     -22.727  11.700  26.925  1.00  0.00           C  \nATOM   1887  O   VAL A 943     -21.793  12.173  26.236  1.00  0.00           O  \nATOM   1888  CB  VAL A 943     -23.379  12.221  29.317  1.00  0.00           C  \nATOM   1889  CG1 VAL A 943     -21.951  12.067  29.629  1.00  0.00           C  \nATOM   1890  CG2 VAL A 943     -23.925  13.298  30.145  1.00  0.00           C  \nATOM   1891  N   TYR A 944     -23.112  10.426  26.844  1.00  0.00           N  \nATOM   1892  CA  TYR A 944     -22.297   9.489  26.103  1.00  0.00           C  \nATOM   1893  C   TYR A 944     -22.088   9.941  24.691  1.00  0.00           C  \nATOM   1894  O   TYR A 944     -21.058   9.661  24.092  1.00  0.00           O  \nATOM   1895  CB  TYR A 944     -22.872   8.081  26.101  1.00  0.00           C  \nATOM   1896  CG  TYR A 944     -21.962   7.090  25.394  1.00  0.00           C  \nATOM   1897  CD1 TYR A 944     -22.396   6.383  24.288  1.00  0.00           C  \nATOM   1898  CD2 TYR A 944     -20.652   6.901  25.824  1.00  0.00           C  \nATOM   1899  CE1 TYR A 944     -21.562   5.496  23.651  1.00  0.00           C  \nATOM   1900  CE2 TYR A 944     -19.819   6.021  25.196  1.00  0.00           C  \nATOM   1901  CZ  TYR A 944     -20.277   5.315  24.114  1.00  0.00           C  \nATOM   1902  OH  TYR A 944     -19.428   4.442  23.489  1.00  0.00           O  \nATOM   1903  N   MET A 945     -23.074  10.639  24.159  1.00  0.00           N  \nATOM   1904  CA  MET A 945     -23.016  11.072  22.791  1.00  0.00           C  \nATOM   1905  C   MET A 945     -21.889  12.050  22.644  1.00  0.00           C  \nATOM   1906  O   MET A 945     -21.073  11.921  21.751  1.00  0.00           O  \nATOM   1907  CB  MET A 945     -24.311  11.772  22.442  1.00  0.00           C  \nATOM   1908  CG  MET A 945     -24.372  12.251  21.012  1.00  0.00           C  \nATOM   1909  SD  MET A 945     -25.368  11.150  20.005  1.00  0.00           S  \nATOM   1910  CE  MET A 945     -25.405  12.156  18.523  1.00  0.00           C  \nATOM   1911  N   ILE A 946     -21.859  13.021  23.545  1.00  0.00           N  \nATOM   1912  CA  ILE A 946     -20.919  14.109  23.490  1.00  0.00           C  \nATOM   1913  C   ILE A 946     -19.501  13.598  23.584  1.00  0.00           C  \nATOM   1914  O   ILE A 946     -18.630  14.117  22.922  1.00  0.00           O  \nATOM   1915  CB  ILE A 946     -21.255  15.147  24.558  1.00  0.00           C  \nATOM   1916  CG1 ILE A 946     -22.344  16.073  24.001  1.00  0.00           C  \nATOM   1917  CG2 ILE A 946     -20.039  15.974  24.940  1.00  0.00           C  \nATOM   1918  CD1 ILE A 946     -23.588  16.228  24.891  1.00  0.00           C  \nATOM   1919  N   MET A 947     -19.278  12.569  24.397  1.00  0.00           N  \nATOM   1920  CA  MET A 947     -18.011  11.835  24.410  1.00  0.00           C  \nATOM   1921  C   MET A 947     -17.683  11.274  23.037  1.00  0.00           C  \nATOM   1922  O   MET A 947     -16.592  11.440  22.532  1.00  0.00           O  \nATOM   1923  CB  MET A 947     -18.091  10.659  25.383  1.00  0.00           C  \nATOM   1924  CG  MET A 947     -17.817  11.029  26.858  1.00  0.00           C  \nATOM   1925  SD  MET A 947     -17.976   9.576  27.965  1.00  0.00           S  \nATOM   1926  CE  MET A 947     -19.634   9.927  28.570  1.00  0.00           C  \nATOM   1927  N   VAL A 948     -18.639  10.586  22.436  1.00  0.00           N  \nATOM   1928  CA  VAL A 948     -18.409   9.935  21.152  1.00  0.00           C  \nATOM   1929  C   VAL A 948     -18.116  10.979  20.045  1.00  0.00           C  \nATOM   1930  O   VAL A 948     -17.390  10.708  19.084  1.00  0.00           O  \nATOM   1931  CB  VAL A 948     -19.611   8.997  20.776  1.00  0.00           C  \nATOM   1932  CG1 VAL A 948     -19.536   8.532  19.321  1.00  0.00           C  \nATOM   1933  CG2 VAL A 948     -19.681   7.799  21.697  1.00  0.00           C  \nATOM   1934  N   LYS A 949     -18.664  12.173  20.182  1.00  0.00           N  \nATOM   1935  CA  LYS A 949     -18.396  13.200  19.207  1.00  0.00           C  \nATOM   1936  C   LYS A 949     -16.901  13.590  19.132  1.00  0.00           C  \nATOM   1937  O   LYS A 949     -16.425  14.013  18.075  1.00  0.00           O  \nATOM   1938  CB  LYS A 949     -19.293  14.397  19.467  1.00  0.00           C  \nATOM   1939  CG  LYS A 949     -20.703  14.215  18.935  1.00  0.00           C  \nATOM   1940  CD  LYS A 949     -21.625  15.322  19.403  1.00  0.00           C  \nATOM   1941  CE  LYS A 949     -22.583  15.696  18.305  1.00  0.00           C  \nATOM   1942  NZ  LYS A 949     -23.590  16.702  18.735  1.00  0.00           N1+\nATOM   1943  N   CYS A 950     -16.165  13.416  20.234  1.00  0.00           N  \nATOM   1944  CA  CYS A 950     -14.727  13.721  20.300  1.00  0.00           C  \nATOM   1945  C   CYS A 950     -13.899  12.678  19.628  1.00  0.00           C  \nATOM   1946  O   CYS A 950     -12.684  12.806  19.511  1.00  0.00           O  \nATOM   1947  CB  CYS A 950     -14.226  13.740  21.733  1.00  0.00           C  \nATOM   1948  SG  CYS A 950     -15.005  14.927  22.743  1.00  0.00           S  \nATOM   1949  N   TRP A 951     -14.551  11.606  19.235  1.00  0.00           N  \nATOM   1950  CA  TRP A 951     -13.819  10.473  18.728  1.00  0.00           C  \nATOM   1951  C   TRP A 951     -14.082  10.243  17.253  1.00  0.00           C  \nATOM   1952  O   TRP A 951     -13.662   9.233  16.700  1.00  0.00           O  \nATOM   1953  CB  TRP A 951     -14.099   9.244  19.591  1.00  0.00           C  \nATOM   1954  CG  TRP A 951     -13.736   9.474  21.026  1.00  0.00           C  \nATOM   1955  CD1 TRP A 951     -12.752  10.289  21.489  1.00  0.00           C  \nATOM   1956  CD2 TRP A 951     -14.323   8.858  22.179  1.00  0.00           C  \nATOM   1957  NE1 TRP A 951     -12.688  10.228  22.855  1.00  0.00           N  \nATOM   1958  CE2 TRP A 951     -13.638   9.354  23.309  1.00  0.00           C  \nATOM   1959  CE3 TRP A 951     -15.360   7.933  22.365  1.00  0.00           C  \nATOM   1960  CZ2 TRP A 951     -13.955   8.968  24.615  1.00  0.00           C  \nATOM   1961  CZ3 TRP A 951     -15.669   7.527  23.668  1.00  0.00           C  \nATOM   1962  CH2 TRP A 951     -14.976   8.056  24.775  1.00  0.00           C  \nATOM   1963  N   MET A 952     -14.758  11.198  16.624  1.00  0.00           N  \nATOM   1964  CA  MET A 952     -14.876  11.236  15.182  1.00  0.00           C  \nATOM   1965  C   MET A 952     -13.502  11.259  14.513  1.00  0.00           C  \nATOM   1966  O   MET A 952     -12.576  11.864  15.046  1.00  0.00           O  \nATOM   1967  CB  MET A 952     -15.577  12.511  14.786  1.00  0.00           C  \nATOM   1968  CG  MET A 952     -16.661  12.260  13.814  1.00  0.00           C  \nATOM   1969  SD  MET A 952     -18.189  12.368  14.727  1.00  0.00           S  \nATOM   1970  CE  MET A 952     -18.931  13.804  13.923  1.00  0.00           C  \nATOM   1971  N   ILE A 953     -13.387  10.635  13.335  1.00  0.00           N  \nATOM   1972  CA  ILE A 953     -12.124  10.602  12.564  1.00  0.00           C  \nATOM   1973  C   ILE A 953     -11.705  11.970  12.026  1.00  0.00           C  \nATOM   1974  O   ILE A 953     -10.623  12.455  12.335  1.00  0.00           O  \nATOM   1975  CB  ILE A 953     -12.188   9.550  11.427  1.00  0.00           C  \nATOM   1976  CG1 ILE A 953     -11.815   8.191  11.984  1.00  0.00           C  \nATOM   1977  CG2 ILE A 953     -11.253   9.892  10.291  1.00  0.00           C  \nATOM   1978  CD1 ILE A 953     -10.860   8.260  13.171  1.00  0.00           C  \nATOM   1979  N   ASP A 954     -12.569  12.552  11.198  1.00  0.00           N  \nATOM   1980  CA  ASP A 954     -12.453  13.913  10.743  1.00  0.00           C  \nATOM   1981  C   ASP A 954     -12.495  14.800  11.978  1.00  0.00           C  \nATOM   1982  O   ASP A 954     -13.528  14.894  12.654  1.00  0.00           O  \nATOM   1983  CB  ASP A 954     -13.621  14.226   9.813  1.00  0.00           C  \nATOM   1984  CG  ASP A 954     -13.829  15.711   9.617  1.00  0.00           C  \nATOM   1985  OD1 ASP A 954     -14.999  16.141   9.652  1.00  0.00           O  \nATOM   1986  OD2 ASP A 954     -12.835  16.461   9.436  1.00  0.00           O1-\nATOM   1987  N   ALA A 955     -11.369  15.445  12.268  1.00  0.00           N  \nATOM   1988  CA  ALA A 955     -11.180  16.111  13.544  1.00  0.00           C  \nATOM   1989  C   ALA A 955     -11.899  17.464  13.670  1.00  0.00           C  \nATOM   1990  O   ALA A 955     -12.066  17.992  14.771  1.00  0.00           O  \nATOM   1991  CB  ALA A 955      -9.695  16.234  13.852  1.00  0.00           C  \nATOM   1992  N   ASP A 956     -12.334  18.034  12.555  1.00  0.00           N  \nATOM   1993  CA  ASP A 956     -13.119  19.262  12.627  1.00  0.00           C  \nATOM   1994  C   ASP A 956     -14.562  18.887  12.873  1.00  0.00           C  \nATOM   1995  O   ASP A 956     -15.428  19.739  13.057  1.00  0.00           O  \nATOM   1996  CB  ASP A 956     -13.033  20.072  11.330  1.00  0.00           C  \nATOM   1997  CG  ASP A 956     -11.593  20.397  10.912  1.00  0.00           C  \nATOM   1998  OD1 ASP A 956     -11.323  20.294   9.692  1.00  0.00           O  \nATOM   1999  OD2 ASP A 956     -10.744  20.767  11.771  1.00  0.00           O1-\nATOM   2000  N   SER A 957     -14.821  17.594  12.841  1.00  0.00           N  \nATOM   2001  CA  SER A 957     -16.117  17.114  13.211  1.00  0.00           C  \nATOM   2002  C   SER A 957     -16.214  16.881  14.698  1.00  0.00           C  \nATOM   2003  O   SER A 957     -17.308  16.709  15.228  1.00  0.00           O  \nATOM   2004  CB  SER A 957     -16.448  15.841  12.456  1.00  0.00           C  \nATOM   2005  OG  SER A 957     -17.295  16.161  11.362  1.00  0.00           O  \nATOM   2006  N   ARG A 958     -15.075  16.860  15.377  1.00  0.00           N  \nATOM   2007  CA  ARG A 958     -15.086  16.914  16.822  1.00  0.00           C  \nATOM   2008  C   ARG A 958     -15.711  18.229  17.292  1.00  0.00           C  \nATOM   2009  O   ARG A 958     -15.785  19.195  16.535  1.00  0.00           O  \nATOM   2010  CB  ARG A 958     -13.677  16.759  17.344  1.00  0.00           C  \nATOM   2011  CG  ARG A 958     -13.325  15.332  17.610  1.00  0.00           C  \nATOM   2012  CD  ARG A 958     -12.540  14.679  16.511  1.00  0.00           C  \nATOM   2013  NE  ARG A 958     -11.114  14.853  16.737  1.00  0.00           N  \nATOM   2014  CZ  ARG A 958     -10.184  13.946  16.464  1.00  0.00           C  \nATOM   2015  NH1 ARG A 958     -10.518  12.777  15.961  1.00  0.00           N1+\nATOM   2016  NH2 ARG A 958      -8.908  14.206  16.706  1.00  0.00           N  \nATOM   2017  N   PRO A 959     -16.223  18.273  18.521  1.00  0.00           N  \nATOM   2018  CA  PRO A 959     -16.687  19.602  18.922  1.00  0.00           C  \nATOM   2019  C   PRO A 959     -15.553  20.472  19.460  1.00  0.00           C  \nATOM   2020  O   PRO A 959     -14.469  19.973  19.772  1.00  0.00           O  \nATOM   2021  CB  PRO A 959     -17.713  19.304  20.012  1.00  0.00           C  \nATOM   2022  CG  PRO A 959     -17.317  17.938  20.557  1.00  0.00           C  \nATOM   2023  CD  PRO A 959     -16.455  17.242  19.552  1.00  0.00           C  \nATOM   2024  N   LYS A 960     -15.805  21.773  19.554  1.00  0.00           N  \nATOM   2025  CA  LYS A 960     -14.815  22.686  20.114  1.00  0.00           C  \nATOM   2026  C   LYS A 960     -15.035  22.813  21.620  1.00  0.00           C  \nATOM   2027  O   LYS A 960     -16.177  22.741  22.103  1.00  0.00           O  \nATOM   2028  CB  LYS A 960     -14.869  24.075  19.454  1.00  0.00           C  \nATOM   2029  CG  LYS A 960     -15.241  24.153  17.957  1.00  0.00           C  \nATOM   2030  CD  LYS A 960     -14.226  23.514  16.951  1.00  0.00           C  \nATOM   2031  CE  LYS A 960     -12.986  24.379  16.690  1.00  0.00           C  \nATOM   2032  NZ  LYS A 960     -11.991  24.299  17.838  1.00  0.00           N1+\nATOM   2033  N   PHE A 961     -13.939  23.011  22.347  1.00  0.00           N  \nATOM   2034  CA  PHE A 961     -13.987  23.240  23.783  1.00  0.00           C  \nATOM   2035  C   PHE A 961     -14.997  24.311  24.182  1.00  0.00           C  \nATOM   2036  O   PHE A 961     -15.578  24.247  25.270  1.00  0.00           O  \nATOM   2037  CB  PHE A 961     -12.609  23.596  24.326  1.00  0.00           C  \nATOM   2038  CG  PHE A 961     -11.693  22.423  24.453  1.00  0.00           C  \nATOM   2039  CD1 PHE A 961     -12.073  21.298  25.162  1.00  0.00           C  \nATOM   2040  CD2 PHE A 961     -10.436  22.436  23.869  1.00  0.00           C  \nATOM   2041  CE1 PHE A 961     -11.219  20.192  25.270  1.00  0.00           C  \nATOM   2042  CE2 PHE A 961      -9.564  21.335  23.986  1.00  0.00           C  \nATOM   2043  CZ  PHE A 961      -9.956  20.215  24.683  1.00  0.00           C  \nATOM   2044  N   ARG A 962     -15.226  25.283  23.304  1.00  0.00           N  \nATOM   2045  CA  ARG A 962     -16.174  26.339  23.606  1.00  0.00           C  \nATOM   2046  C   ARG A 962     -17.613  25.828  23.650  1.00  0.00           C  \nATOM   2047  O   ARG A 962     -18.397  26.245  24.493  1.00  0.00           O  \nATOM   2048  CB  ARG A 962     -15.999  27.530  22.647  1.00  0.00           C  \nATOM   2049  CG  ARG A 962     -16.782  27.484  21.346  1.00  0.00           C  \nATOM   2050  CD  ARG A 962     -16.812  28.856  20.691  1.00  0.00           C  \nATOM   2051  NE  ARG A 962     -17.879  29.734  21.194  1.00  0.00           N  \nATOM   2052  CZ  ARG A 962     -19.175  29.611  20.881  1.00  0.00           C  \nATOM   2053  NH1 ARG A 962     -20.076  30.472  21.366  1.00  0.00           N1+\nATOM   2054  NH2 ARG A 962     -19.574  28.624  20.082  1.00  0.00           N  \nATOM   2055  N   GLU A 963     -17.942  24.918  22.736  1.00  0.00           N  \nATOM   2056  CA  GLU A 963     -19.256  24.297  22.706  1.00  0.00           C  \nATOM   2057  C   GLU A 963     -19.343  23.294  23.831  1.00  0.00           C  \nATOM   2058  O   GLU A 963     -20.412  23.131  24.458  1.00  0.00           O  \nATOM   2059  CB  GLU A 963     -19.482  23.566  21.398  1.00  0.00           C  \nATOM   2060  CG  GLU A 963     -19.421  24.428  20.167  1.00  0.00           C  \nATOM   2061  CD  GLU A 963     -19.048  23.625  18.905  1.00  0.00           C  \nATOM   2062  OE1 GLU A 963     -18.324  22.580  18.988  1.00  0.00           O  \nATOM   2063  OE2 GLU A 963     -19.483  24.059  17.814  1.00  0.00           O1-\nATOM   2064  N   LEU A 964     -18.225  22.606  24.070  1.00  0.00           N  \nATOM   2065  CA  LEU A 964     -18.131  21.680  25.182  1.00  0.00           C  \nATOM   2066  C   LEU A 964     -18.508  22.330  26.515  1.00  0.00           C  \nATOM   2067  O   LEU A 964     -19.255  21.738  27.321  1.00  0.00           O  \nATOM   2068  CB  LEU A 964     -16.757  21.053  25.229  1.00  0.00           C  \nATOM   2069  CG  LEU A 964     -16.717  19.975  24.161  1.00  0.00           C  \nATOM   2070  CD1 LEU A 964     -15.315  19.569  23.806  1.00  0.00           C  \nATOM   2071  CD2 LEU A 964     -17.492  18.778  24.604  1.00  0.00           C  \nATOM   2072  N   ILE A 965     -18.013  23.548  26.737  1.00  0.00           N  \nATOM   2073  CA  ILE A 965     -18.470  24.348  27.863  1.00  0.00           C  \nATOM   2074  C   ILE A 965     -20.005  24.466  27.818  1.00  0.00           C  \nATOM   2075  O   ILE A 965     -20.677  24.141  28.782  1.00  0.00           O  \nATOM   2076  CB  ILE A 965     -17.786  25.757  27.902  1.00  0.00           C  \nATOM   2077  CG1 ILE A 965     -16.288  25.627  28.204  1.00  0.00           C  \nATOM   2078  CG2 ILE A 965     -18.461  26.684  28.923  1.00  0.00           C  \nATOM   2079  CD1 ILE A 965     -15.448  26.683  27.607  1.00  0.00           C  \nATOM   2080  N   ILE A 966     -20.567  24.878  26.690  1.00  0.00           N  \nATOM   2081  CA  ILE A 966     -22.005  25.124  26.640  1.00  0.00           C  \nATOM   2082  C   ILE A 966     -22.888  23.883  26.943  1.00  0.00           C  \nATOM   2083  O   ILE A 966     -23.711  23.909  27.875  1.00  0.00           O  \nATOM   2084  CB  ILE A 966     -22.404  25.819  25.335  1.00  0.00           C  \nATOM   2085  CG1 ILE A 966     -21.436  26.971  25.076  1.00  0.00           C  \nATOM   2086  CG2 ILE A 966     -23.840  26.312  25.403  1.00  0.00           C  \nATOM   2087  CD1 ILE A 966     -22.034  28.191  24.348  1.00  0.00           C  \nATOM   2088  N   GLU A 967     -22.711  22.803  26.190  1.00  0.00           N  \nATOM   2089  CA  GLU A 967     -23.507  21.606  26.447  1.00  0.00           C  \nATOM   2090  C   GLU A 967     -23.395  21.140  27.895  1.00  0.00           C  \nATOM   2091  O   GLU A 967     -24.381  21.050  28.598  1.00  0.00           O  \nATOM   2092  CB  GLU A 967     -23.137  20.475  25.485  1.00  0.00           C  \nATOM   2093  CG  GLU A 967     -23.388  20.755  23.968  1.00  0.00           C  \nATOM   2094  CD  GLU A 967     -24.662  21.561  23.686  1.00  0.00           C  \nATOM   2095  OE1 GLU A 967     -24.516  22.631  23.069  1.00  0.00           O  \nATOM   2096  OE2 GLU A 967     -25.784  21.157  24.091  1.00  0.00           O1-\nATOM   2097  N   PHE A 968     -22.178  20.892  28.354  1.00  0.00           N  \nATOM   2098  CA  PHE A 968     -21.982  20.423  29.708  1.00  0.00           C  \nATOM   2099  C   PHE A 968     -22.576  21.371  30.688  1.00  0.00           C  \nATOM   2100  O   PHE A 968     -23.192  20.961  31.645  1.00  0.00           O  \nATOM   2101  CB  PHE A 968     -20.510  20.186  30.003  1.00  0.00           C  \nATOM   2102  CG  PHE A 968     -20.068  18.821  29.638  1.00  0.00           C  \nATOM   2103  CD1 PHE A 968     -20.586  17.724  30.291  1.00  0.00           C  \nATOM   2104  CD2 PHE A 968     -19.183  18.615  28.604  1.00  0.00           C  \nATOM   2105  CE1 PHE A 968     -20.211  16.447  29.939  1.00  0.00           C  \nATOM   2106  CE2 PHE A 968     -18.804  17.318  28.245  1.00  0.00           C  \nATOM   2107  CZ  PHE A 968     -19.323  16.243  28.920  1.00  0.00           C  \nATOM   2108  N   SER A 969     -22.410  22.651  30.418  1.00  0.00           N  \nATOM   2109  CA  SER A 969     -22.921  23.671  31.295  1.00  0.00           C  \nATOM   2110  C   SER A 969     -24.426  23.554  31.382  1.00  0.00           C  \nATOM   2111  O   SER A 969     -24.985  23.518  32.484  1.00  0.00           O  \nATOM   2112  CB  SER A 969     -22.518  25.037  30.784  1.00  0.00           C  \nATOM   2113  OG  SER A 969     -22.908  26.042  31.693  1.00  0.00           O  \nATOM   2114  N   LYS A 970     -25.062  23.477  30.209  1.00  0.00           N  \nATOM   2115  CA  LYS A 970     -26.486  23.201  30.102  1.00  0.00           C  \nATOM   2116  C   LYS A 970     -26.810  22.038  31.011  1.00  0.00           C  \nATOM   2117  O   LYS A 970     -27.750  22.086  31.795  1.00  0.00           O  \nATOM   2118  CB  LYS A 970     -26.860  22.778  28.686  1.00  0.00           C  \nATOM   2119  CG  LYS A 970     -27.308  23.856  27.746  1.00  0.00           C  \nATOM   2120  CD  LYS A 970     -27.252  23.299  26.325  1.00  0.00           C  \nATOM   2121  CE  LYS A 970     -27.491  24.360  25.243  1.00  0.00           C  \nATOM   2122  NZ  LYS A 970     -27.248  23.820  23.844  1.00  0.00           N1+\nATOM   2123  N   MET A 971     -26.030  20.975  30.898  1.00  0.00           N  \nATOM   2124  CA  MET A 971     -26.384  19.758  31.581  1.00  0.00           C  \nATOM   2125  C   MET A 971     -26.210  19.899  33.056  1.00  0.00           C  \nATOM   2126  O   MET A 971     -26.987  19.356  33.812  1.00  0.00           O  \nATOM   2127  CB  MET A 971     -25.563  18.608  31.072  1.00  0.00           C  \nATOM   2128  CG  MET A 971     -26.020  18.182  29.730  1.00  0.00           C  \nATOM   2129  SD  MET A 971     -24.952  16.844  29.281  1.00  0.00           S  \nATOM   2130  CE  MET A 971     -25.965  16.208  27.959  1.00  0.00           C  \nATOM   2131  N   ALA A 972     -25.209  20.654  33.484  1.00  0.00           N  \nATOM   2132  CA  ALA A 972     -24.960  20.761  34.901  1.00  0.00           C  \nATOM   2133  C   ALA A 972     -26.034  21.575  35.594  1.00  0.00           C  \nATOM   2134  O   ALA A 972     -26.002  21.697  36.805  1.00  0.00           O  \nATOM   2135  CB  ALA A 972     -23.594  21.313  35.163  1.00  0.00           C  \nATOM   2136  N   ARG A 973     -26.989  22.103  34.829  1.00  0.00           N  \nATOM   2137  CA  ARG A 973     -28.200  22.738  35.380  1.00  0.00           C  \nATOM   2138  C   ARG A 973     -29.267  21.767  35.859  1.00  0.00           C  \nATOM   2139  O   ARG A 973     -30.138  22.124  36.632  1.00  0.00           O  \nATOM   2140  CB  ARG A 973     -28.871  23.602  34.342  1.00  0.00           C  \nATOM   2141  CG  ARG A 973     -28.645  25.003  34.557  1.00  0.00           C  \nATOM   2142  CD  ARG A 973     -29.476  25.831  33.606  1.00  0.00           C  \nATOM   2143  NE  ARG A 973     -28.625  26.939  33.200  1.00  0.00           N  \nATOM   2144  CZ  ARG A 973     -28.309  27.975  33.977  1.00  0.00           C  \nATOM   2145  NH1 ARG A 973     -28.814  28.091  35.206  1.00  0.00           N1+\nATOM   2146  NH2 ARG A 973     -27.493  28.911  33.521  1.00  0.00           N  \nATOM   2147  N   ASP A 974     -29.239  20.552  35.369  1.00  0.00           N  \nATOM   2148  CA  ASP A 974     -30.251  19.619  35.730  1.00  0.00           C  \nATOM   2149  C   ASP A 974     -29.556  18.276  35.783  1.00  0.00           C  \nATOM   2150  O   ASP A 974     -29.824  17.395  34.971  1.00  0.00           O  \nATOM   2151  CB  ASP A 974     -31.314  19.656  34.657  1.00  0.00           C  \nATOM   2152  CG  ASP A 974     -32.604  19.044  35.102  1.00  0.00           C  \nATOM   2153  OD1 ASP A 974     -33.552  19.000  34.278  1.00  0.00           O  \nATOM   2154  OD2 ASP A 974     -32.665  18.596  36.270  1.00  0.00           O1-\nATOM   2155  N   PRO A 975     -28.616  18.124  36.723  1.00  0.00           N  \nATOM   2156  CA  PRO A 975     -27.663  17.026  36.652  1.00  0.00           C  \nATOM   2157  C   PRO A 975     -28.277  15.613  36.620  1.00  0.00           C  \nATOM   2158  O   PRO A 975     -27.801  14.762  35.852  1.00  0.00           O  \nATOM   2159  CB  PRO A 975     -26.808  17.237  37.897  1.00  0.00           C  \nATOM   2160  CG  PRO A 975     -26.937  18.668  38.194  1.00  0.00           C  \nATOM   2161  CD  PRO A 975     -28.363  18.975  37.894  1.00  0.00           C  \nATOM   2162  N   GLN A 976     -29.325  15.360  37.409  1.00  0.00           N  \nATOM   2163  CA  GLN A 976     -29.937  14.008  37.442  1.00  0.00           C  \nATOM   2164  C   GLN A 976     -30.689  13.576  36.180  1.00  0.00           C  \nATOM   2165  O   GLN A 976     -31.145  12.428  36.088  1.00  0.00           O  \nATOM   2166  CB  GLN A 976     -30.853  13.817  38.642  1.00  0.00           C  \nATOM   2167  CG  GLN A 976     -30.155  13.314  39.875  1.00  0.00           C  \nATOM   2168  CD  GLN A 976     -30.230  14.339  40.964  1.00  0.00           C  \nATOM   2169  OE1 GLN A 976     -30.048  15.531  40.701  1.00  0.00           O  \nATOM   2170  NE2 GLN A 976     -30.533  13.904  42.191  1.00  0.00           N  \nATOM   2171  N   ARG A 977     -30.823  14.492  35.230  1.00  0.00           N  \nATOM   2172  CA  ARG A 977     -31.432  14.208  33.962  1.00  0.00           C  \nATOM   2173  C   ARG A 977     -30.377  13.618  33.029  1.00  0.00           C  \nATOM   2174  O   ARG A 977     -30.710  13.068  31.972  1.00  0.00           O  \nATOM   2175  CB  ARG A 977     -32.003  15.499  33.399  1.00  0.00           C  \nATOM   2176  CG  ARG A 977     -32.735  15.349  32.132  1.00  0.00           C  \nATOM   2177  CD  ARG A 977     -33.330  16.632  31.687  1.00  0.00           C  \nATOM   2178  NE  ARG A 977     -33.561  16.572  30.244  1.00  0.00           N  \nATOM   2179  CZ  ARG A 977     -34.334  17.418  29.557  1.00  0.00           C  \nATOM   2180  NH1 ARG A 977     -34.984  18.402  30.186  1.00  0.00           N1+\nATOM   2181  NH2 ARG A 977     -34.465  17.280  28.235  1.00  0.00           N  \nATOM   2182  N   TYR A 978     -29.106  13.706  33.428  1.00  0.00           N  \nATOM   2183  CA  TYR A 978     -28.003  13.410  32.507  1.00  0.00           C  \nATOM   2184  C   TYR A 978     -27.005  12.383  32.983  1.00  0.00           C  \nATOM   2185  O   TYR A 978     -26.336  11.740  32.161  1.00  0.00           O  \nATOM   2186  CB  TYR A 978     -27.293  14.687  32.081  1.00  0.00           C  \nATOM   2187  CG  TYR A 978     -28.236  15.624  31.384  1.00  0.00           C  \nATOM   2188  CD1 TYR A 978     -28.608  16.826  31.970  1.00  0.00           C  \nATOM   2189  CD2 TYR A 978     -28.801  15.285  30.148  1.00  0.00           C  \nATOM   2190  CE1 TYR A 978     -29.488  17.669  31.325  1.00  0.00           C  \nATOM   2191  CE2 TYR A 978     -29.672  16.116  29.512  1.00  0.00           C  \nATOM   2192  CZ  TYR A 978     -30.014  17.296  30.106  1.00  0.00           C  \nATOM   2193  OH  TYR A 978     -30.890  18.122  29.486  1.00  0.00           O  \nATOM   2194  N   LEU A 979     -26.886  12.249  34.303  1.00  0.00           N  \nATOM   2195  CA  LEU A 979     -26.207  11.095  34.884  1.00  0.00           C  \nATOM   2196  C   LEU A 979     -27.124  10.482  35.898  1.00  0.00           C  \nATOM   2197  O   LEU A 979     -27.864  11.179  36.590  1.00  0.00           O  \nATOM   2198  CB  LEU A 979     -24.873  11.462  35.510  1.00  0.00           C  \nATOM   2199  CG  LEU A 979     -23.843  12.115  34.594  1.00  0.00           C  \nATOM   2200  CD1 LEU A 979     -22.652  12.523  35.433  1.00  0.00           C  \nATOM   2201  CD2 LEU A 979     -23.412  11.209  33.433  1.00  0.00           C  \nATOM   2202  N   VAL A 980     -27.107   9.167  35.960  1.00  0.00           N  \nATOM   2203  CA  VAL A 980     -28.023   8.486  36.824  1.00  0.00           C  \nATOM   2204  C   VAL A 980     -27.158   7.794  37.833  1.00  0.00           C  \nATOM   2205  O   VAL A 980     -26.622   6.727  37.549  1.00  0.00           O  \nATOM   2206  CB  VAL A 980     -28.890   7.491  36.052  1.00  0.00           C  \nATOM   2207  CG1 VAL A 980     -30.119   7.212  36.823  1.00  0.00           C  \nATOM   2208  CG2 VAL A 980     -29.285   8.059  34.692  1.00  0.00           C  \nATOM   2209  N   ILE A 981     -26.991   8.427  38.995  1.00  0.00           N  \nATOM   2210  CA  ILE A 981     -26.153   7.864  40.072  1.00  0.00           C  \nATOM   2211  C   ILE A 981     -26.973   7.460  41.316  1.00  0.00           C  \nATOM   2212  O   ILE A 981     -27.805   8.227  41.777  1.00  0.00           O  \nATOM   2213  CB  ILE A 981     -24.998   8.840  40.470  1.00  0.00           C  \nATOM   2214  CG1 ILE A 981     -24.083   9.151  39.263  1.00  0.00           C  \nATOM   2215  CG2 ILE A 981     -24.190   8.277  41.642  1.00  0.00           C  \nATOM   2216  CD1 ILE A 981     -23.219  10.391  39.408  1.00  0.00           C  \nATOM   2217  N   GLN A 982     -26.717   6.258  41.843  1.00  0.00           N  \nATOM   2218  CA  GLN A 982     -27.405   5.667  43.020  1.00  0.00           C  \nATOM   2219  C   GLN A 982     -27.338   6.494  44.311  1.00  0.00           C  \nATOM   2220  O   GLN A 982     -26.258   6.697  44.877  1.00  0.00           O  \nATOM   2221  CB  GLN A 982     -26.817   4.277  43.325  1.00  0.00           C  \nATOM   2222  CG  GLN A 982     -26.980   3.233  42.199  1.00  0.00           C  \nATOM   2223  CD  GLN A 982     -26.226   3.602  40.890  1.00  0.00           C  \nATOM   2224  OE1 GLN A 982     -24.987   3.464  40.794  1.00  0.00           O  \nATOM   2225  NE2 GLN A 982     -26.984   4.059  39.879  1.00  0.00           N  \nATOM   2226  N   GLY A 983     -28.498   6.932  44.796  1.00  0.00           N  \nATOM   2227  CA  GLY A 983     -28.575   7.781  45.994  1.00  0.00           C  \nATOM   2228  C   GLY A 983     -27.840   9.096  45.817  1.00  0.00           C  \nATOM   2229  O   GLY A 983     -27.187   9.598  46.736  1.00  0.00           O  \nATOM   2230  N   ASP A 984     -27.963   9.641  44.616  1.00  0.00           N  \nATOM   2231  CA  ASP A 984     -27.255  10.823  44.182  1.00  0.00           C  \nATOM   2232  C   ASP A 984     -27.475  11.989  45.133  1.00  0.00           C  \nATOM   2233  O   ASP A 984     -26.557  12.380  45.858  1.00  0.00           O  \nATOM   2234  CB  ASP A 984     -27.752  11.196  42.792  1.00  0.00           C  \nATOM   2235  CG  ASP A 984     -26.828  12.139  42.061  1.00  0.00           C  \nATOM   2236  OD1 ASP A 984     -26.954  12.206  40.819  1.00  0.00           O  \nATOM   2237  OD2 ASP A 984     -25.994  12.812  42.697  1.00  0.00           O1-\nATOM   2238  N   GLU A 985     -28.697  12.522  45.130  1.00  0.00           N  \nATOM   2239  CA  GLU A 985     -29.043  13.768  45.835  1.00  0.00           C  \nATOM   2240  C   GLU A 985     -28.698  13.764  47.330  1.00  0.00           C  \nATOM   2241  O   GLU A 985     -28.754  14.824  47.970  1.00  0.00           O  \nATOM   2242  CB  GLU A 985     -30.523  14.134  45.620  1.00  0.00           C  \nATOM   2243  CG  GLU A 985     -31.512  13.206  46.310  1.00  0.00           C  \nATOM   2244  CD  GLU A 985     -31.493  11.787  45.749  1.00  0.00           C  \nATOM   2245  OE1 GLU A 985     -31.080  10.864  46.494  1.00  0.00           O  \nATOM   2246  OE2 GLU A 985     -31.874  11.598  44.563  1.00  0.00           O1-\nATOM   2247  N   ARG A 986     -28.341  12.589  47.874  1.00  0.00           N  \nATOM   2248  CA  ARG A 986     -27.900  12.458  49.289  1.00  0.00           C  \nATOM   2249  C   ARG A 986     -26.363  12.519  49.555  1.00  0.00           C  \nATOM   2250  O   ARG A 986     -25.915  12.157  50.646  1.00  0.00           O  \nATOM   2251  CB  ARG A 986     -28.534  11.216  49.968  1.00  0.00           C  \nATOM   2252  CG  ARG A 986     -27.828   9.864  49.757  1.00  0.00           C  \nATOM   2253  CD  ARG A 986     -28.155   8.915  50.905  1.00  0.00           C  \nATOM   2254  NE  ARG A 986     -28.530   7.576  50.450  1.00  0.00           N  \nATOM   2255  CZ  ARG A 986     -29.758   7.218  50.069  1.00  0.00           C  \nATOM   2256  NH1 ARG A 986     -30.751   8.097  50.061  1.00  0.00           N1+\nATOM   2257  NH2 ARG A 986     -29.995   5.974  49.680  1.00  0.00           N  \nATOM   2258  N   MET A 987     -25.574  12.988  48.577  1.00  0.00           N  \nATOM   2259  CA  MET A 987     -24.095  13.095  48.711  1.00  0.00           C  \nATOM   2260  C   MET A 987     -23.586  14.535  48.968  1.00  0.00           C  \nATOM   2261  O   MET A 987     -24.254  15.522  48.632  1.00  0.00           O  \nATOM   2262  CB  MET A 987     -23.372  12.447  47.502  1.00  0.00           C  \nATOM   2263  CG  MET A 987     -23.602  10.929  47.385  1.00  0.00           C  \nATOM   2264  SD  MET A 987     -23.056  10.100  45.875  1.00  0.00           S  \nATOM   2265  CE  MET A 987     -23.798   8.489  46.124  1.00  0.00           C  \nATOM   2266  N   HIS A 988     -22.412  14.632  49.593  1.00  0.00           N  \nATOM   2267  CA  HIS A 988     -21.699  15.903  49.792  1.00  0.00           C  \nATOM   2268  C   HIS A 988     -20.216  15.593  50.068  1.00  0.00           C  \nATOM   2269  O   HIS A 988     -19.898  14.704  50.866  1.00  0.00           O  \nATOM   2270  CB  HIS A 988     -22.332  16.733  50.928  1.00  0.00           C  \nATOM   2271  N   LEU A 989     -19.311  16.305  49.396  1.00  0.00           N  \nATOM   2272  CA  LEU A 989     -17.880  15.967  49.466  1.00  0.00           C  \nATOM   2273  C   LEU A 989     -17.049  16.788  50.467  1.00  0.00           C  \nATOM   2274  O   LEU A 989     -17.089  18.021  50.490  1.00  0.00           O  \nATOM   2275  CB  LEU A 989     -17.256  15.986  48.065  1.00  0.00           C  \nATOM   2276  CG  LEU A 989     -17.472  14.706  47.248  1.00  0.00           C  \nATOM   2277  CD1 LEU A 989     -17.261  14.965  45.772  1.00  0.00           C  \nATOM   2278  CD2 LEU A 989     -16.582  13.571  47.731  1.00  0.00           C  \nATOM   2279  N   MET A1002      -3.305  18.973  56.604  1.00  0.00           N1+\nATOM   2280  CA  MET A1002      -4.138  20.139  56.315  1.00  0.00           C  \nATOM   2281  C   MET A1002      -3.830  21.360  57.221  1.00  0.00           C  \nATOM   2282  O   MET A1002      -4.673  22.272  57.312  1.00  0.00           O  \nATOM   2283  CB  MET A1002      -5.644  19.789  56.420  1.00  0.00           C  \nATOM   2284  CG  MET A1002      -6.080  18.341  56.023  1.00  0.00           C  \nATOM   2285  SD  MET A1002      -6.021  17.817  54.258  1.00  0.00           S  \nATOM   2286  CE  MET A1002      -7.181  18.916  53.396  1.00  0.00           C  \nATOM   2287  N   ASP A1003      -2.647  21.386  57.874  1.00  0.00           N  \nATOM   2288  CA  ASP A1003      -2.296  22.461  58.877  1.00  0.00           C  \nATOM   2289  C   ASP A1003      -0.860  22.495  59.555  1.00  0.00           C  \nATOM   2290  O   ASP A1003       0.178  22.311  58.878  1.00  0.00           O  \nATOM   2291  CB  ASP A1003      -3.398  22.552  59.968  1.00  0.00           C  \nATOM   2292  CG  ASP A1003      -3.611  21.218  60.718  1.00  0.00           C  \nATOM   2293  OD1 ASP A1003      -3.323  20.138  60.141  1.00  0.00           O  \nATOM   2294  OD2 ASP A1003      -4.061  21.259  61.888  1.00  0.00           O1-\nATOM   2295  N   GLU A1004      -0.850  22.742  60.887  1.00  0.00           N  \nATOM   2296  CA  GLU A1004       0.342  22.990  61.759  1.00  0.00           C  \nATOM   2297  C   GLU A1004       0.690  24.492  61.825  1.00  0.00           C  \nATOM   2298  O   GLU A1004      -0.023  25.315  61.215  1.00  0.00           O  \nATOM   2299  CB  GLU A1004       1.570  22.149  61.363  1.00  0.00           C  \nATOM   2300  N   GLU A1005       1.759  24.838  62.566  1.00  0.00           N  \nATOM   2301  CA  GLU A1005       2.333  26.219  62.617  1.00  0.00           C  \nATOM   2302  C   GLU A1005       1.322  27.337  62.903  1.00  0.00           C  \nATOM   2303  O   GLU A1005       0.369  27.127  63.663  1.00  0.00           O  \nATOM   2304  CB  GLU A1005       3.063  26.549  61.319  1.00  0.00           C  \nATOM   2305  CG  GLU A1005       4.371  25.828  61.136  1.00  0.00           C  \nATOM   2306  CD  GLU A1005       5.041  26.237  59.838  1.00  0.00           C  \nATOM   2307  OE1 GLU A1005       4.573  27.243  59.241  1.00  0.00           O  \nATOM   2308  OE2 GLU A1005       6.025  25.567  59.425  1.00  0.00           O1-\nATOM   2309  N   ASP A1006       1.525  28.509  62.285  1.00  0.00           N  \nATOM   2310  CA  ASP A1006       0.593  29.633  62.439  1.00  0.00           C  \nATOM   2311  C   ASP A1006      -0.728  29.397  61.697  1.00  0.00           C  \nATOM   2312  O   ASP A1006      -1.685  28.860  62.271  1.00  0.00           O  \nATOM   2313  CB  ASP A1006       1.222  30.967  62.008  1.00  0.00           C  \nATOM   2314  CG  ASP A1006       0.431  32.193  62.522  1.00  0.00           C  \nATOM   2315  OD1 ASP A1006      -0.340  32.021  63.523  1.00  0.00           O  \nATOM   2316  OD2 ASP A1006       0.590  33.325  61.951  1.00  0.00           O1-\nATOM   2317  N   MET A1007      -0.777  29.775  60.423  1.00  0.00           N  \nATOM   2318  CA  MET A1007      -2.034  29.783  59.657  1.00  0.00           C  \nATOM   2319  C   MET A1007      -2.866  31.061  59.856  1.00  0.00           C  \nATOM   2320  O   MET A1007      -3.942  31.178  59.286  1.00  0.00           O  \nATOM   2321  CB  MET A1007      -2.883  28.501  59.839  1.00  0.00           C  \nATOM   2322  CG  MET A1007      -2.417  27.318  58.992  1.00  0.00           C  \nATOM   2323  SD  MET A1007      -3.623  25.966  58.792  1.00  0.00           S  \nATOM   2324  CE  MET A1007      -4.586  26.467  57.353  1.00  0.00           C  \nATOM   2325  N   ASP A1008      -2.365  32.019  60.633  1.00  0.00           N  \nATOM   2326  CA  ASP A1008      -2.963  33.361  60.693  1.00  0.00           C  \nATOM   2327  C   ASP A1008      -2.748  34.130  59.414  1.00  0.00           C  \nATOM   2328  O   ASP A1008      -3.573  34.938  59.023  1.00  0.00           O  \nATOM   2329  CB  ASP A1008      -2.329  34.208  61.793  1.00  0.00           C  \nATOM   2330  CG  ASP A1008      -3.132  34.210  63.062  1.00  0.00           C  \nATOM   2331  OD1 ASP A1008      -3.622  33.118  63.436  1.00  0.00           O  \nATOM   2332  OD2 ASP A1008      -3.260  35.297  63.689  1.00  0.00           O1-\nATOM   2333  N   ASP A1009      -1.599  33.914  58.792  1.00  0.00           N  \nATOM   2334  CA  ASP A1009      -1.187  34.725  57.677  1.00  0.00           C  \nATOM   2335  C   ASP A1009      -1.219  33.932  56.402  1.00  0.00           C  \nATOM   2336  O   ASP A1009      -0.792  34.407  55.350  1.00  0.00           O  \nATOM   2337  CB  ASP A1009       0.196  35.267  57.955  1.00  0.00           C  \nATOM   2338  CG  ASP A1009       0.137  36.617  58.597  1.00  0.00           C  \nATOM   2339  OD1 ASP A1009       0.841  36.850  59.599  1.00  0.00           O  \nATOM   2340  OD2 ASP A1009      -0.639  37.452  58.106  1.00  0.00           O1-\nATOM   2341  N   VAL A1010      -1.749  32.717  56.508  1.00  0.00           N  \nATOM   2342  CA  VAL A1010      -1.925  31.843  55.365  1.00  0.00           C  \nATOM   2343  C   VAL A1010      -2.984  32.406  54.420  1.00  0.00           C  \nATOM   2344  O   VAL A1010      -4.091  32.728  54.838  1.00  0.00           O  \nATOM   2345  CB  VAL A1010      -2.294  30.417  55.802  1.00  0.00           C  \nATOM   2346  CG1 VAL A1010      -2.652  29.555  54.599  1.00  0.00           C  \nATOM   2347  CG2 VAL A1010      -1.141  29.786  56.526  1.00  0.00           C  \nATOM   2348  N   VAL A1011      -2.610  32.551  53.153  1.00  0.00           N  \nATOM   2349  CA  VAL A1011      -3.530  32.937  52.110  1.00  0.00           C  \nATOM   2350  C   VAL A1011      -3.320  32.008  50.949  1.00  0.00           C  \nATOM   2351  O   VAL A1011      -2.207  31.588  50.692  1.00  0.00           O  \nATOM   2352  CB  VAL A1011      -3.275  34.351  51.623  1.00  0.00           C  \nATOM   2353  CG1 VAL A1011      -4.318  34.738  50.605  1.00  0.00           C  \nATOM   2354  CG2 VAL A1011      -3.347  35.311  52.771  1.00  0.00           C  \nATOM   2355  N   ASP A1012      -4.394  31.683  50.242  1.00  0.00           N  \nATOM   2356  CA  ASP A1012      -4.282  30.819  49.092  1.00  0.00           C  \nATOM   2357  C   ASP A1012      -3.735  31.619  47.926  1.00  0.00           C  \nATOM   2358  O   ASP A1012      -3.962  32.812  47.833  1.00  0.00           O  \nATOM   2359  CB  ASP A1012      -5.621  30.193  48.749  1.00  0.00           C  \nATOM   2360  CG  ASP A1012      -5.501  29.206  47.627  1.00  0.00           C  \nATOM   2361  OD1 ASP A1012      -5.322  28.002  47.907  1.00  0.00           O  \nATOM   2362  OD2 ASP A1012      -5.516  29.640  46.458  1.00  0.00           O1-\nATOM   2363  N   ALA A1013      -3.008  30.964  47.036  1.00  0.00           N  \nATOM   2364  CA  ALA A1013      -2.261  31.656  45.997  1.00  0.00           C  \nATOM   2365  C   ALA A1013      -3.140  32.401  45.010  1.00  0.00           C  \nATOM   2366  O   ALA A1013      -2.700  33.363  44.401  1.00  0.00           O  \nATOM   2367  CB  ALA A1013      -1.359  30.684  45.283  1.00  0.00           C  \nATOM   2368  N   ASP A1014      -4.381  31.948  44.862  1.00  0.00           N  \nATOM   2369  CA  ASP A1014      -5.367  32.564  43.979  1.00  0.00           C  \nATOM   2370  C   ASP A1014      -5.768  33.949  44.450  1.00  0.00           C  \nATOM   2371  O   ASP A1014      -6.448  34.681  43.737  1.00  0.00           O  \nATOM   2372  CB  ASP A1014      -6.613  31.677  43.878  1.00  0.00           C  \nATOM   2373  CG  ASP A1014      -6.391  30.461  43.005  1.00  0.00           C  \nATOM   2374  OD1 ASP A1014      -5.449  30.484  42.215  1.00  0.00           O  \nATOM   2375  OD2 ASP A1014      -7.139  29.480  43.088  1.00  0.00           O1-\nATOM   2376  N   GLU A1015      -5.356  34.298  45.663  1.00  0.00           N  \nATOM   2377  CA  GLU A1015      -5.614  35.608  46.232  1.00  0.00           C  \nATOM   2378  C   GLU A1015      -4.288  36.338  46.460  1.00  0.00           C  \nATOM   2379  O   GLU A1015      -4.232  37.404  47.082  1.00  0.00           O  \nATOM   2380  CB  GLU A1015      -6.447  35.498  47.513  1.00  0.00           C  \nATOM   2381  CG  GLU A1015      -7.917  35.104  47.303  1.00  0.00           C  \nATOM   2382  CD  GLU A1015      -8.099  33.609  47.065  1.00  0.00           C  \nATOM   2383  OE1 GLU A1015      -8.972  33.232  46.255  1.00  0.00           O  \nATOM   2384  OE2 GLU A1015      -7.358  32.800  47.677  1.00  0.00           O1-\nATOM   2385  N   TYR A1016      -3.222  35.768  45.916  1.00  0.00           N  \nATOM   2386  CA  TYR A1016      -1.944  36.431  45.891  1.00  0.00           C  \nATOM   2387  C   TYR A1016      -1.537  36.804  44.468  1.00  0.00           C  \nATOM   2388  O   TYR A1016      -1.128  35.951  43.681  1.00  0.00           O  \nATOM   2389  CB  TYR A1016      -0.900  35.538  46.529  1.00  0.00           C  \nATOM   2390  CG  TYR A1016       0.464  36.164  46.531  1.00  0.00           C  \nATOM   2391  CD1 TYR A1016       1.445  35.726  45.640  1.00  0.00           C  \nATOM   2392  CD2 TYR A1016       0.778  37.213  47.410  1.00  0.00           C  \nATOM   2393  CE1 TYR A1016       2.709  36.298  45.627  1.00  0.00           C  \nATOM   2394  CE2 TYR A1016       2.046  37.800  47.404  1.00  0.00           C  \nATOM   2395  CZ  TYR A1016       3.009  37.330  46.507  1.00  0.00           C  \nATOM   2396  OH  TYR A1016       4.267  37.881  46.464  1.00  0.00           O  \nATOM   2397  N   LEU A1017      -1.665  38.085  44.140  1.00  0.00           N  \nATOM   2398  CA  LEU A1017      -1.268  38.591  42.814  1.00  0.00           C  \nATOM   2399  C   LEU A1017      -0.432  39.857  42.959  1.00  0.00           C  \nATOM   2400  O   LEU A1017      -0.787  40.770  43.715  1.00  0.00           O  \nATOM   2401  CB  LEU A1017      -2.480  38.902  41.910  1.00  0.00           C  \nATOM   2402  CG  LEU A1017      -3.828  38.189  42.059  1.00  0.00           C  \nATOM   2403  CD1 LEU A1017      -4.928  39.117  41.621  1.00  0.00           C  \nATOM   2404  CD2 LEU A1017      -3.878  36.870  41.306  1.00  0.00           C  \nATOM   2405  N   ILE A1018       0.691  39.890  42.244  1.00  0.00           N  \nATOM   2406  CA  ILE A1018       1.493  41.107  42.048  1.00  0.00           C  \nATOM   2407  C   ILE A1018       1.145  41.525  40.586  1.00  0.00           C  \nATOM   2408  O   ILE A1018       0.736  40.641  39.812  1.00  0.00           O  \nATOM   2409  CB  ILE A1018       3.036  40.823  42.366  1.00  0.00           C  \nATOM   2410  CG1 ILE A1018       3.868  42.140  42.491  1.00  0.00           C  \nATOM   2411  CG2 ILE A1018       3.610  39.729  41.408  1.00  0.00           C  \nATOM   2412  CD1 ILE A1018       5.122  42.093  43.440  1.00  0.00           C  \nATOM   2413  N   PRO A1019       1.235  42.850  40.221  1.00  0.00           N  \nATOM   2414  CA  PRO A1019       0.867  43.296  38.837  1.00  0.00           C  \nATOM   2415  C   PRO A1019       1.556  42.534  37.691  1.00  0.00           C  \nATOM   2416  O   PRO A1019       0.888  42.107  36.735  1.00  0.00           O  \nATOM   2417  CB  PRO A1019       1.256  44.795  38.804  1.00  0.00           C  \nATOM   2418  CG  PRO A1019       2.080  45.040  40.034  1.00  0.00           C  \nATOM   2419  CD  PRO A1019       1.650  44.000  41.056  1.00  0.00           C  \nTER    2420      PRO A1019 \nHETATM 2421  O   HOH A3001      -0.720  32.696  13.423  1.00  0.00           O  \nHETATM 2422  O   HOH A3002       5.456  36.148  21.936  1.00  0.00           O  \nHETATM 2423  O   HOH A3003      10.979  37.893  41.629  1.00  0.00           O  \nHETATM 2424  O   HOH A3004      -1.562  15.740  51.465  1.00  0.00           O  \nHETATM 2425  O   HOH A3005       7.374  10.123  51.869  1.00  0.00           O  \nHETATM 2426  O   HOH A3006       5.391   6.993  45.593  1.00  0.00           O  \nHETATM 2427  O   HOH A3007      -3.811  14.200  49.033  1.00  0.00           O  \nHETATM 2428  O   HOH A3008      -2.469   6.768  45.536  1.00  0.00           O  \nHETATM 2429  O   HOH A3009      -6.708   8.604  48.403  1.00  0.00           O  \nHETATM 2430  O   HOH A3010     -12.228   1.983  39.953  1.00  0.00           O  \nHETATM 2431  O   HOH A3011     -15.810  28.498  36.272  1.00  0.00           O  \nHETATM 2432  O   HOH A3012     -13.030  26.156  21.950  1.00  0.00           O  \nHETATM 2433  O   HOH A3013       0.748  36.084  24.252  1.00  0.00           O  \nHETATM 2434  O   HOH A3014      -3.946   8.070  34.039  1.00  0.00           O  \nHETATM 2435  O   HOH A3015     -14.669  28.481  40.870  1.00  0.00           O  \nHETATM 2436  O   HOH A3016       6.763  24.732  23.882  1.00  0.00           O  \nHETATM 2437  O   HOH A3017       1.068   6.557  29.112  1.00  0.00           O  \nHETATM 2438  O   HOH A3018      -1.453   4.670  27.554  1.00  0.00           O  \nHETATM 2439  O   HOH A3019      -4.078   0.018  39.248  1.00  0.00           O  \nHETATM 2440  O   HOH A3020     -17.037  -0.228  21.460  1.00  0.00           O  \nHETATM 2441  O   HOH A3021     -25.958  15.249  22.543  1.00  0.00           O  \nHETATM 2442  O   HOH A3022     -26.114  15.481  19.413  1.00  0.00           O  \nHETATM 2443  O   HOH A3023     -24.653  17.918  21.126  1.00  0.00           O  \nHETATM 2444  O   HOH A3024     -15.393  11.754  11.200  1.00  0.00           O  \nHETATM 2445  O   HOH A3025      -8.632  14.640  10.757  1.00  0.00           O  \nHETATM 2446  O   HOH A3026     -27.365  18.700  25.840  1.00  0.00           O  \nHETATM 2447  O   HOH A3027     -30.732   5.070  43.920  1.00  0.00           O  \nHETATM 2448  O   HOH A3028     -26.423  17.269  49.640  1.00  0.00           O  \nHETATM 2449  O   HOH A3029     -15.580  17.724  52.631  1.00  0.00           O  \nHETATM 2450  O   HOH A3030       0.141  19.395  61.505  1.00  0.00           O  \nHETATM 2451  O   HOH A3031      -0.830  23.794  65.158  1.00  0.00           O  \nHETATM 2452  O   HOH A3032      -9.087   0.446  38.671  1.00  0.00           O  \nHETATM 2453  O   HOH A3033     -14.200  31.527  35.394  1.00  0.00           O  \nHETATM 2454  O   HOH A3034      -1.662  37.679  38.874  1.00  0.00           O  \nHETATM 2455  CAO IRE A2020       0.199  10.004  44.679  1.00  0.00           C  \nHETATM 2456  CAL IRE A2020       0.217   8.465  44.652  1.00  0.00           C  \nHETATM 2457  OAU IRE A2020       1.301   8.036  43.762  1.00  0.00           O  \nHETATM 2458  CAM IRE A2020       1.098   8.455  42.373  1.00  0.00           C  \nHETATM 2459  CAP IRE A2020       0.952   9.984  42.225  1.00  0.00           C  \nHETATM 2460  NBE IRE A2020       0.122  10.605  43.307  1.00  0.00           N1+\nHETATM 2461  CAN IRE A2020       0.584  12.001  43.444  1.00  0.00           C  \nHETATM 2462  CAJ IRE A2020      -0.502  13.019  43.064  1.00  0.00           C  \nHETATM 2463  CAK IRE A2020       0.113  14.435  42.975  1.00  0.00           C  \nHETATM 2464  OAV IRE A2020       0.112  15.200  44.231  1.00  0.00           O  \nHETATM 2465  CBA IRE A2020      -0.002  16.565  44.108  1.00  0.00           C  \nHETATM 2466  CAZ IRE A2020      -0.785  17.235  45.045  1.00  0.00           C  \nHETATM 2467  CAH IRE A2020      -0.914  18.623  44.949  1.00  0.00           C  \nHETATM 2468  OAT IRE A2020      -1.422  16.504  46.023  1.00  0.00           O  \nHETATM 2469  CAA IRE A2020      -1.429  17.063  47.346  1.00  0.00           C  \nHETATM 2470  CAI IRE A2020       0.659  17.288  43.102  1.00  0.00           C  \nHETATM 2471  C5  IRE A2020       0.529  18.670  43.020  1.00  0.00           C  \nHETATM 2472  C4  IRE A2020      -0.259  19.330  43.943  1.00  0.00           C  \nHETATM 2473  N3  IRE A2020      -0.377  20.664  43.857  1.00  0.00           N  \nHETATM 2474  C2  IRE A2020       0.222  21.371  42.908  1.00  0.00           C  \nHETATM 2475  N1  IRE A2020       0.975  20.775  42.010  1.00  0.00           N  \nHETATM 2476  C6  IRE A2020       1.147  19.439  42.037  1.00  0.00           C  \nHETATM 2477  NAS IRE A2020       1.897  18.866  41.106  1.00  0.00           N  \nHETATM 2478  CAY IRE A2020       2.607  19.576  40.231  1.00  0.00           C  \nHETATM 2479  CAG IRE A2020       3.514  20.520  40.700  1.00  0.00           C  \nHETATM 2480  CAX IRE A2020       4.280  21.255  39.811  1.00  0.00           C  \nHETATM 2481 CL   IRE A2020       5.383  22.414  40.434  1.00  0.00          CL  \nHETATM 2482  CAW IRE A2020       4.158  21.062  38.442  1.00  0.00           C  \nHETATM 2483  FAB IRE A2020       4.920  21.795  37.603  1.00  0.00           F  \nHETATM 2484  CAD IRE A2020       3.253  20.111  37.963  1.00  0.00           C  \nHETATM 2485  CAE IRE A2020       2.480  19.364  38.860  1.00  0.00           C  \nCONECT 2266 2267\nCONECT 2267 2266 2268 2270\nCONECT 2268 2267 2269 2269\nCONECT 2269 2268 2268\nCONECT 2270 2267\nCONECT 2295 2296\nCONECT 2296 2295 2297 2299\nCONECT 2297 2296 2298 2298\nCONECT 2298 2297 2297\nCONECT 2299 2296\nCONECT 2455 2456 2460\nCONECT 2456 2455 2457\nCONECT 2457 2456 2458\nCONECT 2458 2457 2459\nCONECT 2459 2458 2460\nCONECT 2460 2455 2459 2461\nCONECT 2461 2460 2462\nCONECT 2462 2461 2463\nCONECT 2463 2462 2464\nCONECT 2464 2463 2465\nCONECT 2465 2464 2466 2470 2470\nCONECT 2466 2465 2467 2467 2468\nCONECT 2467 2466 2466 2472\nCONECT 2468 2466 2469\nCONECT 2469 2468\nCONECT 2470 2465 2465 2471\nCONECT 2471 2470 2472 2476 2476\nCONECT 2472 2467 2471 2473 2473\nCONECT 2473 2472 2472 2474\nCONECT 2474 2473 2475 2475\nCONECT 2475 2474 2474 2476\nCONECT 2476 2471 2471 2475 2477\nCONECT 2477 2476 2478\nCONECT 2478 2477 2479 2485 2485\nCONECT 2479 2478 2480 2480\nCONECT 2480 2479 2479 2481 2482\nCONECT 2481 2480\nCONECT 2482 2480 2483 2484 2484\nCONECT 2483 2482\nCONECT 2484 2482 2482 2485\nCONECT 2485 2478 2478 2484\nEND\n",
           "type": "blob"
          }
         ],
         "kwargs": {
          "defaultRepresentation": true,
          "ext": "pdb"
         },
         "methodName": "loadFile",
         "reconstruc_color_scheme": false,
         "target": "Stage",
         "type": "call_method"
        },
        {
         "args": [],
         "component_index": 0,
         "kwargs": {},
         "methodName": "removeAllRepresentations",
         "reconstruc_color_scheme": false,
         "target": "compList",
         "type": "call_method"
        },
        {
         "args": [
          "cartoon"
         ],
         "component_index": 0,
         "kwargs": {
          "color": "grey",
          "sele": "protein"
         },
         "methodName": "addRepresentation",
         "reconstruc_color_scheme": false,
         "target": "compList",
         "type": "call_method"
        },
        {
         "args": [],
         "component_index": 0,
         "kwargs": {},
         "methodName": "removeAllRepresentations",
         "reconstruc_color_scheme": false,
         "target": "compList",
         "type": "call_method"
        },
        {
         "args": [
          "cartoon"
         ],
         "component_index": 0,
         "kwargs": {
          "color": [
           [
            "orange",
            "790"
           ],
           [
            "khaki",
            "716"
           ],
           [
            "khaki",
            "717"
           ],
           [
            "khaki",
            "718"
           ],
           [
            "khaki",
            "725"
           ],
           [
            "khaki",
            "726"
           ],
           [
            "khaki",
            "727"
           ],
           [
            "khaki",
            "728"
           ],
           [
            "khaki",
            "742"
           ],
           [
            "khaki",
            "743"
           ],
           [
            "khaki",
            "744"
           ],
           [
            "khaki",
            "745"
           ],
           [
            "khaki",
            "746"
           ],
           [
            "khaki",
            "747"
           ],
           [
            "khaki",
            "777"
           ],
           [
            "khaki",
            "778"
           ],
           [
            "khaki",
            "779"
           ],
           [
            "khaki",
            "780"
           ],
           [
            "khaki",
            "787"
           ],
           [
            "khaki",
            "788"
           ],
           [
            "khaki",
            "789"
           ],
           [
            "khaki",
            "832"
           ],
           [
            "khaki",
            "833"
           ],
           [
            "khaki",
            "834"
           ],
           [
            "khaki",
            "843"
           ],
           [
            "khaki",
            "844"
           ],
           [
            "khaki",
            "845"
           ],
           [
            "khaki",
            "853"
           ],
           [
            "cornflowerblue",
            "858"
           ],
           [
            "cornflowerblue",
            "859"
           ],
           [
            "green",
            "769"
           ],
           [
            "green",
            "770"
           ],
           [
            "green",
            "772"
           ],
           [
            "green",
            "773"
           ],
           [
            "green",
            "774"
           ],
           [
            "green",
            "775"
           ],
           [
            "green",
            "776"
           ],
           [
            "darkorange",
            "835"
           ],
           [
            "darkorange",
            "836"
           ],
           [
            "darkorange",
            "837"
           ],
           [
            "darkorange",
            "838"
           ],
           [
            "darkorange",
            "839"
           ],
           [
            "darkorange",
            "840"
           ],
           [
            "darkorange",
            "841"
           ],
           [
            "darkorange",
            "842"
           ],
           [
            "green",
            "719"
           ],
           [
            "green",
            "720"
           ],
           [
            "green",
            "721"
           ],
           [
            "green",
            "722"
           ],
           [
            "green",
            "723"
           ],
           [
            "green",
            "724"
           ],
           [
            "magenta",
            "791"
           ],
           [
            "magenta",
            "792"
           ],
           [
            "magenta",
            "793"
           ],
           [
            "cyan",
            "794"
           ],
           [
            "cyan",
            "795"
           ],
           [
            "cyan",
            "796"
           ],
           [
            "cyan",
            "797"
           ],
           [
            "cornflowerblue",
            "854"
           ],
           [
            "cornflowerblue",
            "855"
           ],
           [
            "cornflowerblue",
            "856"
           ],
           [
            "cornflowerblue",
            "857"
           ],
           [
            "red",
            "758"
           ],
           [
            "red",
            "759"
           ],
           [
            "red",
            "760"
           ],
           [
            "red",
            "761"
           ],
           [
            "red",
            "762"
           ],
           [
            "red",
            "763"
           ],
           [
            "red",
            "764"
           ],
           [
            "red",
            "765"
           ],
           [
            "red",
            "766"
           ],
           [
            "red",
            "767"
           ],
           [
            "red",
            "768"
           ],
           [
            "red",
            "798"
           ],
           [
            "red",
            "799"
           ],
           [
            "red",
            "800"
           ],
           [
            "red",
            "801"
           ],
           [
            "red",
            "802"
           ],
           [
            "red",
            "803"
           ],
           [
            "red",
            "804"
           ],
           [
            "red",
            "827"
           ],
           [
            "red",
            "828"
           ],
           [
            "red",
            "829"
           ],
           [
            "red",
            "830"
           ],
           [
            "red",
            "831"
           ]
          ],
          "color_label": "user_scheme_regions",
          "sele": "protein"
         },
         "methodName": "addRepresentation",
         "reconstruc_color_scheme": true,
         "target": "compList",
         "type": "call_method"
        }
       ],
       "_ngl_original_stage_parameters": {},
       "_ngl_repr_dict": {},
       "_ngl_serialize": false,
       "_ngl_version": "",
       "_ngl_view_id": [],
       "_player_dict": {},
       "_scene_position": {},
       "_scene_rotation": {},
       "_synced_model_ids": [],
       "_synced_repr_model_ids": [],
       "_view_count": null,
       "_view_height": "",
       "_view_module": "nglview-js-widgets",
       "_view_module_version": "3.0.1",
       "_view_name": "NGLView",
       "_view_width": "",
       "background": "white",
       "frame": 0,
       "gui_style": "ngl",
       "layout": "IPY_MODEL_6872209bbca94fc79c33a4c937acd098",
       "max_frame": 0,
       "n_components": 0,
       "picked": {}
      }
     },
     "53261e0277694348a7f0961a544c1e52": {
      "model_module": "@jupyter-widgets/base",
      "model_module_version": "1.2.0",
      "model_name": "LayoutModel",
      "state": {
       "_model_module": "@jupyter-widgets/base",
       "_model_module_version": "1.2.0",
       "_model_name": "LayoutModel",
       "_view_count": null,
       "_view_module": "@jupyter-widgets/base",
       "_view_module_version": "1.2.0",
       "_view_name": "LayoutView",
       "align_content": null,
       "align_items": null,
       "align_self": null,
       "border": null,
       "bottom": null,
       "display": null,
       "flex": null,
       "flex_flow": null,
       "grid_area": null,
       "grid_auto_columns": null,
       "grid_auto_flow": null,
       "grid_auto_rows": null,
       "grid_column": null,
       "grid_gap": null,
       "grid_row": null,
       "grid_template_areas": null,
       "grid_template_columns": null,
       "grid_template_rows": null,
       "height": null,
       "justify_content": null,
       "justify_items": null,
       "left": null,
       "margin": null,
       "max_height": null,
       "max_width": null,
       "min_height": null,
       "min_width": null,
       "object_fit": null,
       "object_position": null,
       "order": null,
       "overflow": null,
       "overflow_x": null,
       "overflow_y": null,
       "padding": null,
       "right": null,
       "top": null,
       "visibility": null,
       "width": null
      }
     },
     "5438c563f4ff47acba49c9b67d4a762b": {
      "model_module": "@jupyter-widgets/base",
      "model_module_version": "1.2.0",
      "model_name": "LayoutModel",
      "state": {
       "_model_module": "@jupyter-widgets/base",
       "_model_module_version": "1.2.0",
       "_model_name": "LayoutModel",
       "_view_count": null,
       "_view_module": "@jupyter-widgets/base",
       "_view_module_version": "1.2.0",
       "_view_name": "LayoutView",
       "align_content": null,
       "align_items": null,
       "align_self": null,
       "border": null,
       "bottom": null,
       "display": null,
       "flex": null,
       "flex_flow": null,
       "grid_area": null,
       "grid_auto_columns": null,
       "grid_auto_flow": null,
       "grid_auto_rows": null,
       "grid_column": null,
       "grid_gap": null,
       "grid_row": null,
       "grid_template_areas": null,
       "grid_template_columns": null,
       "grid_template_rows": null,
       "height": null,
       "justify_content": null,
       "justify_items": null,
       "left": null,
       "margin": null,
       "max_height": null,
       "max_width": null,
       "min_height": null,
       "min_width": null,
       "object_fit": null,
       "object_position": null,
       "order": null,
       "overflow": null,
       "overflow_x": null,
       "overflow_y": null,
       "padding": null,
       "right": null,
       "top": null,
       "visibility": null,
       "width": "34px"
      }
     },
     "5502c31cc69c42c9af003962aca5993f": {
      "model_module": "@jupyter-widgets/controls",
      "model_module_version": "1.5.0",
      "model_name": "LinkModel",
      "state": {
       "_model_module": "@jupyter-widgets/controls",
       "_model_module_version": "1.5.0",
       "_model_name": "LinkModel",
       "_view_count": null,
       "_view_module": "@jupyter-widgets/controls",
       "_view_module_version": "1.5.0",
       "_view_name": null,
       "source": [
        "IPY_MODEL_2d19bf6714f347c1a615d9d3ce83c260",
        "max"
       ],
       "target": [
        "IPY_MODEL_8861648eef084c6084d2668192af78f8",
        "max_frame"
       ]
      }
     },
     "5cb564679855405382df599cea69d824": {
      "model_module": "@jupyter-widgets/controls",
      "model_module_version": "1.5.0",
      "model_name": "PlayModel",
      "state": {
       "_dom_classes": [],
       "_model_module": "@jupyter-widgets/controls",
       "_model_module_version": "1.5.0",
       "_model_name": "PlayModel",
       "_playing": false,
       "_repeat": false,
       "_view_count": null,
       "_view_module": "@jupyter-widgets/controls",
       "_view_module_version": "1.5.0",
       "_view_name": "PlayView",
       "description": "",
       "description_tooltip": null,
       "disabled": false,
       "interval": 100,
       "layout": "IPY_MODEL_87d4b56c2b204b71bfd7305fc1cf2f03",
       "max": 0,
       "min": 0,
       "show_repeat": true,
       "step": 1,
       "style": "IPY_MODEL_0cbb4ef0e1654c0a88081e007e9992d3",
       "value": 0
      }
     },
     "606161b57c384988bbf0fd6e7773557a": {
      "model_module": "nglview-js-widgets",
      "model_module_version": "3.0.1",
      "model_name": "NGLModel",
      "state": {
       "_camera_orientation": [],
       "_camera_str": "orthographic",
       "_dom_classes": [],
       "_gui_theme": null,
       "_ibtn_fullscreen": "IPY_MODEL_43ea8791b3ff4f2ba7b054cf8cfa48f0",
       "_igui": null,
       "_iplayer": "IPY_MODEL_b74806350a664e95b8329c34353bb3c8",
       "_model_module": "nglview-js-widgets",
       "_model_module_version": "3.0.1",
       "_model_name": "NGLModel",
       "_ngl_color_dict": {},
       "_ngl_coordinate_resource": {},
       "_ngl_full_stage_parameters": {},
       "_ngl_msg_archive": [
        {
         "args": [
          "1000px",
          "600px"
         ],
         "kwargs": {},
         "methodName": "setSize",
         "reconstruc_color_scheme": false,
         "target": "Widget",
         "type": "call_method"
        },
        {
         "args": [
          {
           "binary": false,
           "data": "HEADER    2ito.A                                                      \nREMARK  99                                                                      \nREMARK  99 MOE v2012.10 (Chemical Computing Group Inc.) Fri Mar  3 16:16:42 2017\nHELIX    1   1 GLU A  709  GLU A  711  5               Generated by MOE    3\nHELIX    2   2 PRO A  753  SER A  768  1               Generated by MOE   16\nHELIX    3   3 LEU A  798  GLU A  804  1               Generated by MOE    7\nHELIX    4   4 SER A  811  ASP A  830  1               Generated by MOE   20\nHELIX    5   5 ALA A  840  ASN A  842  5               Generated by MOE    3\nHELIX    6   6 ILE A  878  TRP A  880  5               Generated by MOE    3\nHELIX    7   7 LEU A  883  HIS A  888  1               Generated by MOE    6\nHELIX    8   8 HIS A  893  MET A  908  1               Generated by MOE   16\nHELIX    9   9 ALA A  920  GLU A  922  5               Generated by MOE    3\nHELIX   10  10 ILE A  923  LYS A  929  1               Generated by MOE    7\nHELIX   11  11 ILE A  941  LYS A  949  1               Generated by MOE    9\nHELIX   12  12 PHE A  961  MET A  971  1               Generated by MOE   11\nHELIX   13  13 PRO A  975  ARG A  977  5               Generated by MOE    3\nHELIX   14  14 ASP A  984  ARG A  986  5               Generated by MOE    3\nHELIX   15  15 ALA A 1013  GLU A 1015  5               Generated by MOE    3\nSHEET    1       LYS A 714  SER A 719                  Generated by MOE\nSHEET    2       GLY A 724  TRP A 731                  Generated by MOE\nSHEET    3       ILE A 740  LEU A 747                  Generated by MOE\nSHEET    4       LEU A 777  GLY A 779                  Generated by MOE\nSHEET    5       ILE A 780  ILE A 780                  Generated by MOE\nSHEET    6       CYS A 781  CYS A 781                  Generated by MOE\nSHEET    7       GLN A 787  GLN A 791                  Generated by MOE\nSHEET    8       LEU A 833  VAL A 834                  Generated by MOE\nSHEET    9       VAL A 843  THR A 847                  Generated by MOE\nSHEET   10       HIS A 850  LYS A 852                  Generated by MOE\nSHEET   11       ILE A 853  ILE A 853                  Generated by MOE\nSHEET   12       LYS A 860  LEU A 861                  Generated by MOE\nCRYST1   10.000   10.000   10.000  90.00  90.00  90.00 P1         \nATOM      1  N   GLY A 696      -0.609  39.507  14.365  1.00  0.00           N1+\nATOM      2  CA  GLY A 696       0.120  38.206  14.276  1.00  0.00           C  \nATOM      3  C   GLY A 696       0.191  37.470  15.605  1.00  0.00           C  \nATOM      4  O   GLY A 696      -0.798  36.866  16.044  1.00  0.00           O  \nATOM      5  N   GLU A 697       1.366  37.502  16.236  1.00  0.00           N  \nATOM      6  CA  GLU A 697       1.525  36.944  17.585  1.00  0.00           C  \nATOM      7  C   GLU A 697       2.033  37.945  18.613  1.00  0.00           C  \nATOM      8  O   GLU A 697       3.091  38.539  18.422  1.00  0.00           O  \nATOM      9  CB  GLU A 697       2.397  35.689  17.577  1.00  0.00           C  \nATOM     10  CG  GLU A 697       1.597  34.409  17.824  1.00  0.00           C  \nATOM     11  CD  GLU A 697       0.741  34.456  19.102  1.00  0.00           C  \nATOM     12  OE1 GLU A 697       0.328  35.569  19.509  1.00  0.00           O  \nATOM     13  OE2 GLU A 697       0.475  33.373  19.696  1.00  0.00           O1-\nATOM     14  N   ALA A 698       1.278  38.113  19.701  1.00  0.00           N  \nATOM     15  CA  ALA A 698       1.584  39.114  20.716  1.00  0.00           C  \nATOM     16  C   ALA A 698       2.791  38.735  21.603  1.00  0.00           C  \nATOM     17  O   ALA A 698       3.056  37.545  21.800  1.00  0.00           O  \nATOM     18  CB  ALA A 698       0.345  39.421  21.562  1.00  0.00           C  \nATOM     19  N   PRO A 699       3.546  39.755  22.088  1.00  0.00           N  \nATOM     20  CA  PRO A 699       4.587  39.713  23.122  1.00  0.00           C  \nATOM     21  C   PRO A 699       4.109  39.129  24.431  1.00  0.00           C  \nATOM     22  O   PRO A 699       3.225  39.687  25.088  1.00  0.00           O  \nATOM     23  CB  PRO A 699       4.878  41.186  23.371  1.00  0.00           C  \nATOM     24  CG  PRO A 699       3.703  41.914  22.766  1.00  0.00           C  \nATOM     25  CD  PRO A 699       3.412  41.122  21.567  1.00  0.00           C  \nATOM     26  N   ASN A 700       4.709  38.021  24.820  1.00  0.00           N  \nATOM     27  CA  ASN A 700       4.296  37.315  26.014  1.00  0.00           C  \nATOM     28  C   ASN A 700       5.002  37.929  27.192  1.00  0.00           C  \nATOM     29  O   ASN A 700       6.155  37.629  27.471  1.00  0.00           O  \nATOM     30  CB  ASN A 700       4.627  35.833  25.869  1.00  0.00           C  \nATOM     31  CG  ASN A 700       4.403  35.046  27.134  1.00  0.00           C  \nATOM     32  OD1 ASN A 700       4.782  33.883  27.186  1.00  0.00           O  \nATOM     33  ND2 ASN A 700       3.790  35.655  28.151  1.00  0.00           N  \nATOM     34  N   GLN A 701       4.291  38.789  27.898  1.00  0.00           N  \nATOM     35  CA  GLN A 701       4.925  39.583  28.937  1.00  0.00           C  \nATOM     36  C   GLN A 701       4.820  39.018  30.342  1.00  0.00           C  \nATOM     37  O   GLN A 701       4.978  39.748  31.315  1.00  0.00           O  \nATOM     38  CB  GLN A 701       4.403  40.998  28.865  1.00  0.00           C  \nATOM     39  CG  GLN A 701       4.518  41.501  27.464  1.00  0.00           C  \nATOM     40  CD  GLN A 701       4.206  42.938  27.355  1.00  0.00           C  \nATOM     41  OE1 GLN A 701       4.979  43.792  27.785  1.00  0.00           O  \nATOM     42  NE2 GLN A 701       3.058  43.234  26.769  1.00  0.00           N  \nATOM     43  N   ALA A 702       4.598  37.717  30.447  1.00  0.00           N  \nATOM     44  CA  ALA A 702       4.562  37.074  31.731  1.00  0.00           C  \nATOM     45  C   ALA A 702       5.813  37.421  32.561  1.00  0.00           C  \nATOM     46  O   ALA A 702       6.924  37.403  32.014  1.00  0.00           O  \nATOM     47  CB  ALA A 702       4.466  35.601  31.523  1.00  0.00           C  \nATOM     48  N   LEU A 703       5.652  37.743  33.853  1.00  0.00           N  \nATOM     49  CA  LEU A 703       6.828  37.906  34.732  1.00  0.00           C  \nATOM     50  C   LEU A 703       7.225  36.572  35.322  1.00  0.00           C  \nATOM     51  O   LEU A 703       6.395  35.877  35.868  1.00  0.00           O  \nATOM     52  CB  LEU A 703       6.624  38.946  35.847  1.00  0.00           C  \nATOM     53  CG  LEU A 703       6.423  40.417  35.406  1.00  0.00           C  \nATOM     54  CD1 LEU A 703       6.052  41.355  36.579  1.00  0.00           C  \nATOM     55  CD2 LEU A 703       7.591  41.032  34.517  1.00  0.00           C  \nATOM     56  N   LEU A 704       8.488  36.195  35.166  1.00  0.00           N  \nATOM     57  CA  LEU A 704       8.994  34.972  35.761  1.00  0.00           C  \nATOM     58  C   LEU A 704       9.699  35.328  37.053  1.00  0.00           C  \nATOM     59  O   LEU A 704      10.673  36.073  37.048  1.00  0.00           O  \nATOM     60  CB  LEU A 704       9.949  34.228  34.819  1.00  0.00           C  \nATOM     61  CG  LEU A 704      10.829  33.173  35.508  1.00  0.00           C  \nATOM     62  CD1 LEU A 704      10.016  31.974  35.972  1.00  0.00           C  \nATOM     63  CD2 LEU A 704      11.961  32.724  34.599  1.00  0.00           C  \nATOM     64  N   ARG A 705       9.210  34.772  38.154  1.00  0.00           N  \nATOM     65  CA  ARG A 705       9.700  35.125  39.470  1.00  0.00           C  \nATOM     66  C   ARG A 705      10.808  34.190  39.960  1.00  0.00           C  \nATOM     67  O   ARG A 705      10.697  32.977  39.904  1.00  0.00           O  \nATOM     68  CB  ARG A 705       8.534  35.134  40.415  1.00  0.00           C  \nATOM     69  CG  ARG A 705       8.537  36.259  41.360  1.00  0.00           C  \nATOM     70  CD  ARG A 705       7.665  35.882  42.526  1.00  0.00           C  \nATOM     71  NE  ARG A 705       8.071  36.521  43.773  1.00  0.00           N  \nATOM     72  CZ  ARG A 705       7.411  37.524  44.340  1.00  0.00           C  \nATOM     73  NH1 ARG A 705       6.312  38.012  43.772  1.00  0.00           N1+\nATOM     74  NH2 ARG A 705       7.856  38.039  45.475  1.00  0.00           N  \nATOM     75  N   ILE A 706      11.900  34.767  40.421  1.00  0.00           N  \nATOM     76  CA  ILE A 706      13.007  33.968  40.904  1.00  0.00           C  \nATOM     77  C   ILE A 706      12.913  33.908  42.413  1.00  0.00           C  \nATOM     78  O   ILE A 706      13.001  34.947  43.056  1.00  0.00           O  \nATOM     79  CB  ILE A 706      14.363  34.583  40.475  1.00  0.00           C  \nATOM     80  CG1 ILE A 706      14.480  34.620  38.944  1.00  0.00           C  \nATOM     81  CG2 ILE A 706      15.537  33.813  41.097  1.00  0.00           C  \nATOM     82  CD1 ILE A 706      14.548  33.254  38.301  1.00  0.00           C  \nATOM     83  N   LEU A 707      12.739  32.720  42.990  1.00  0.00           N  \nATOM     84  CA  LEU A 707      12.608  32.636  44.447  1.00  0.00           C  \nATOM     85  C   LEU A 707      13.859  32.147  45.131  1.00  0.00           C  \nATOM     86  O   LEU A 707      14.437  31.136  44.727  1.00  0.00           O  \nATOM     87  CB  LEU A 707      11.454  31.735  44.866  1.00  0.00           C  \nATOM     88  CG  LEU A 707      10.123  31.790  44.111  1.00  0.00           C  \nATOM     89  CD1 LEU A 707       9.228  30.714  44.667  1.00  0.00           C  \nATOM     90  CD2 LEU A 707       9.456  33.172  44.172  1.00  0.00           C  \nATOM     91  N   LYS A 708      14.265  32.880  46.168  1.00  0.00           N  \nATOM     92  CA  LYS A 708      15.371  32.491  47.033  1.00  0.00           C  \nATOM     93  C   LYS A 708      15.055  31.213  47.770  1.00  0.00           C  \nATOM     94  O   LYS A 708      13.945  31.038  48.263  1.00  0.00           O  \nATOM     95  CB  LYS A 708      15.664  33.577  48.053  1.00  0.00           C  \nATOM     96  CG  LYS A 708      16.928  34.337  47.770  1.00  0.00           C  \nATOM     97  CD  LYS A 708      16.859  35.761  48.300  1.00  0.00           C  \nATOM     98  CE  LYS A 708      15.666  36.488  47.684  1.00  0.00           C  \nATOM     99  NZ  LYS A 708      15.961  37.915  47.393  1.00  0.00           N1+\nATOM    100  N   GLU A 709      16.049  30.337  47.852  1.00  0.00           N  \nATOM    101  CA  GLU A 709      15.915  29.078  48.565  1.00  0.00           C  \nATOM    102  C   GLU A 709      15.580  29.242  50.053  1.00  0.00           C  \nATOM    103  O   GLU A 709      15.089  28.309  50.692  1.00  0.00           O  \nATOM    104  CB  GLU A 709      17.180  28.239  48.426  1.00  0.00           C  \nATOM    105  CG  GLU A 709      16.916  26.763  48.717  1.00  0.00           C  \nATOM    106  CD  GLU A 709      18.119  26.055  49.274  1.00  0.00           C  \nATOM    107  OE1 GLU A 709      18.871  26.677  50.057  1.00  0.00           O  \nATOM    108  OE2 GLU A 709      18.306  24.871  48.932  1.00  0.00           O1-\nATOM    109  N   THR A 710      15.858  30.420  50.601  1.00  0.00           N  \nATOM    110  CA  THR A 710      15.513  30.731  51.991  1.00  0.00           C  \nATOM    111  C   THR A 710      14.005  30.980  52.165  1.00  0.00           C  \nATOM    112  O   THR A 710      13.478  30.822  53.265  1.00  0.00           O  \nATOM    113  CB  THR A 710      16.378  31.930  52.579  1.00  0.00           C  \nATOM    114  OG1 THR A 710      15.893  33.217  52.145  1.00  0.00           O  \nATOM    115  CG2 THR A 710      17.842  31.795  52.163  1.00  0.00           C  \nATOM    116  N   GLU A 711      13.314  31.332  51.075  1.00  0.00           N  \nATOM    117  CA  GLU A 711      11.959  31.903  51.152  1.00  0.00           C  \nATOM    118  C   GLU A 711      10.853  30.921  51.536  1.00  0.00           C  \nATOM    119  O   GLU A 711       9.691  31.314  51.678  1.00  0.00           O  \nATOM    120  CB  GLU A 711      11.597  32.615  49.844  1.00  0.00           C  \nATOM    121  CG  GLU A 711      12.158  34.004  49.707  1.00  0.00           C  \nATOM    122  CD  GLU A 711      11.808  34.631  48.372  1.00  0.00           C  \nATOM    123  OE1 GLU A 711      12.640  34.594  47.438  1.00  0.00           O  \nATOM    124  OE2 GLU A 711      10.683  35.156  48.248  1.00  0.00           O1-\nATOM    125  N   PHE A 712      11.197  29.656  51.720  1.00  0.00           N  \nATOM    126  CA  PHE A 712      10.173  28.682  51.999  1.00  0.00           C  \nATOM    127  C   PHE A 712      10.696  27.382  52.558  1.00  0.00           C  \nATOM    128  O   PHE A 712      11.774  26.929  52.184  1.00  0.00           O  \nATOM    129  CB  PHE A 712       9.382  28.381  50.722  1.00  0.00           C  \nATOM    130  CG  PHE A 712      10.219  27.918  49.590  1.00  0.00           C  \nATOM    131  CD1 PHE A 712      10.684  26.622  49.541  1.00  0.00           C  \nATOM    132  CD2 PHE A 712      10.535  28.777  48.567  1.00  0.00           C  \nATOM    133  CE1 PHE A 712      11.469  26.195  48.493  1.00  0.00           C  \nATOM    134  CE2 PHE A 712      11.313  28.365  47.513  1.00  0.00           C  \nATOM    135  CZ  PHE A 712      11.786  27.073  47.472  1.00  0.00           C  \nATOM    136  N   LYS A 713       9.902  26.770  53.431  1.00  0.00           N  \nATOM    137  CA  LYS A 713      10.172  25.416  53.918  1.00  0.00           C  \nATOM    138  C   LYS A 713       9.477  24.320  53.084  1.00  0.00           C  \nATOM    139  O   LYS A 713       8.278  24.439  52.772  1.00  0.00           O  \nATOM    140  CB  LYS A 713       9.795  25.273  55.403  1.00  0.00           C  \nATOM    141  CG  LYS A 713       8.628  26.126  55.862  1.00  0.00           C  \nATOM    142  CD  LYS A 713       9.101  27.403  56.572  1.00  0.00           C  \nATOM    143  CE  LYS A 713       7.862  28.165  57.119  1.00  0.00           C  \nATOM    144  NZ  LYS A 713       8.097  28.612  58.591  1.00  0.00           N1+\nATOM    145  N   LYS A 714      10.241  23.275  52.714  1.00  0.00           N  \nATOM    146  CA  LYS A 714       9.689  21.943  52.414  1.00  0.00           C  \nATOM    147  C   LYS A 714       9.052  21.364  53.681  1.00  0.00           C  \nATOM    148  O   LYS A 714       9.340  21.809  54.807  1.00  0.00           O  \nATOM    149  CB  LYS A 714      10.761  20.986  51.898  1.00  0.00           C  \nATOM    150  CG  LYS A 714      11.030  21.096  50.408  1.00  0.00           C  \nATOM    151  CD  LYS A 714      12.331  20.369  49.976  1.00  0.00           C  \nATOM    152  CE  LYS A 714      13.112  21.183  48.909  1.00  0.00           C  \nATOM    153  NZ  LYS A 714      14.008  20.327  48.080  1.00  0.00           N1+\nATOM    154  N   ILE A 715       8.185  20.373  53.502  1.00  0.00           N  \nATOM    155  CA  ILE A 715       7.343  19.935  54.611  1.00  0.00           C  \nATOM    156  C   ILE A 715       6.950  18.457  54.573  1.00  0.00           C  \nATOM    157  O   ILE A 715       6.586  17.887  55.607  1.00  0.00           O  \nATOM    158  CB  ILE A 715       6.157  20.965  54.880  1.00  0.00           C  \nATOM    159  CG1 ILE A 715       6.444  21.753  56.164  1.00  0.00           C  \nATOM    160  CG2 ILE A 715       4.782  20.296  54.951  1.00  0.00           C  \nATOM    161  CD1 ILE A 715       5.973  23.170  56.146  1.00  0.00           C  \nATOM    162  N   LYS A 716       7.073  17.834  53.399  1.00  0.00           N  \nATOM    163  CA  LYS A 716       6.693  16.428  53.216  1.00  0.00           C  \nATOM    164  C   LYS A 716       6.718  16.094  51.728  1.00  0.00           C  \nATOM    165  O   LYS A 716       6.393  16.936  50.902  1.00  0.00           O  \nATOM    166  CB  LYS A 716       5.300  16.158  53.843  1.00  0.00           C  \nATOM    167  CG  LYS A 716       4.600  14.836  53.483  1.00  0.00           C  \nATOM    168  CD  LYS A 716       3.294  14.656  54.267  1.00  0.00           C  \nATOM    169  CE  LYS A 716       2.311  13.736  53.539  1.00  0.00           C  \nATOM    170  NZ  LYS A 716       1.330  14.499  52.712  1.00  0.00           N1+\nATOM    171  N   VAL A 717       7.130  14.872  51.395  1.00  0.00           N  \nATOM    172  CA  VAL A 717       7.095  14.378  50.017  1.00  0.00           C  \nATOM    173  C   VAL A 717       5.653  14.135  49.611  1.00  0.00           C  \nATOM    174  O   VAL A 717       4.815  13.847  50.455  1.00  0.00           O  \nATOM    175  CB  VAL A 717       7.937  13.073  49.842  1.00  0.00           C  \nATOM    176  CG1 VAL A 717       7.499  12.255  48.621  1.00  0.00           C  \nATOM    177  CG2 VAL A 717       9.406  13.411  49.739  1.00  0.00           C  \nATOM    178  N   LEU A 718       5.372  14.277  48.321  1.00  0.00           N  \nATOM    179  CA  LEU A 718       4.063  13.984  47.781  1.00  0.00           C  \nATOM    180  C   LEU A 718       4.167  12.928  46.705  1.00  0.00           C  \nATOM    181  O   LEU A 718       3.234  12.150  46.486  1.00  0.00           O  \nATOM    182  CB  LEU A 718       3.441  15.230  47.178  1.00  0.00           C  \nATOM    183  CG  LEU A 718       3.059  16.327  48.142  1.00  0.00           C  \nATOM    184  CD1 LEU A 718       2.686  17.555  47.363  1.00  0.00           C  \nATOM    185  CD2 LEU A 718       1.906  15.867  48.989  1.00  0.00           C  \nATOM    186  N   SER A 719       5.291  12.900  46.009  1.00  0.00           N  \nATOM    187  CA  SER A 719       5.396  11.997  44.900  1.00  0.00           C  \nATOM    188  C   SER A 719       6.826  11.911  44.512  1.00  0.00           C  \nATOM    189  O   SER A 719       7.413  12.904  44.117  1.00  0.00           O  \nATOM    190  CB  SER A 719       4.583  12.528  43.729  1.00  0.00           C  \nATOM    191  OG  SER A 719       3.916  11.462  43.101  1.00  0.00           O  \nATOM    192  N   SER A 720       7.410  10.733  44.646  1.00  0.00           N  \nATOM    193  CA  SER A 720       8.761  10.545  44.140  1.00  0.00           C  \nATOM    194  C   SER A 720       8.756   9.387  43.152  1.00  0.00           C  \nATOM    195  O   SER A 720       7.685   8.961  42.706  1.00  0.00           O  \nATOM    196  CB  SER A 720       9.796  10.389  45.273  1.00  0.00           C  \nATOM    197  OG  SER A 720       9.788   9.096  45.860  1.00  0.00           O  \nATOM    198  N   GLY A 721       9.942   8.887  42.815  1.00  0.00           N  \nATOM    199  CA  GLY A 721      10.103   7.936  41.723  1.00  0.00           C  \nATOM    200  C   GLY A 721       9.980   8.725  40.436  1.00  0.00           C  \nATOM    201  O   GLY A 721      10.649   9.754  40.279  1.00  0.00           O  \nATOM    202  N   ALA A 722       9.105   8.252  39.543  1.00  0.00           N  \nATOM    203  CA  ALA A 722       8.839   8.843  38.201  1.00  0.00           C  \nATOM    204  C   ALA A 722      10.025   9.549  37.478  1.00  0.00           C  \nATOM    205  O   ALA A 722      10.986   8.905  36.994  1.00  0.00           O  \nATOM    206  CB  ALA A 722       7.569   9.765  38.241  1.00  0.00           C  \nATOM    207  N   PHE A 723       9.920  10.878  37.424  1.00  0.00           N  \nATOM    208  CA  PHE A 723      10.913  11.752  36.806  1.00  0.00           C  \nATOM    209  C   PHE A 723      11.261  12.916  37.773  1.00  0.00           C  \nATOM    210  O   PHE A 723      11.742  13.982  37.350  1.00  0.00           O  \nATOM    211  CB  PHE A 723      10.382  12.260  35.442  1.00  0.00           C  \nATOM    212  CG  PHE A 723       9.557  11.222  34.656  1.00  0.00           C  \nATOM    213  CD1 PHE A 723      10.171  10.087  34.075  1.00  0.00           C  \nATOM    214  CD2 PHE A 723       8.167  11.391  34.485  1.00  0.00           C  \nATOM    215  CE1 PHE A 723       9.411   9.132  33.347  1.00  0.00           C  \nATOM    216  CE2 PHE A 723       7.401  10.444  33.753  1.00  0.00           C  \nATOM    217  CZ  PHE A 723       8.026   9.315  33.186  1.00  0.00           C  \nATOM    218  N   GLY A 724      11.014  12.695  39.070  1.00  0.00           N  \nATOM    219  CA  GLY A 724      11.343  13.665  40.128  1.00  0.00           C  \nATOM    220  C   GLY A 724      10.388  13.685  41.322  1.00  0.00           C  \nATOM    221  O   GLY A 724       9.273  13.131  41.255  1.00  0.00           O  \nATOM    222  N   THR A 725      10.844  14.323  42.410  1.00  0.00           N  \nATOM    223  CA  THR A 725      10.036  14.601  43.602  1.00  0.00           C  \nATOM    224  C   THR A 725       9.072  15.755  43.367  1.00  0.00           C  \nATOM    225  O   THR A 725       9.330  16.614  42.533  1.00  0.00           O  \nATOM    226  CB  THR A 725      10.904  15.058  44.783  1.00  0.00           C  \nATOM    227  OG1 THR A 725      12.233  14.576  44.614  1.00  0.00           O  \nATOM    228  CG2 THR A 725      10.343  14.561  46.099  1.00  0.00           C  \nATOM    229  N   VAL A 726       7.970  15.752  44.118  1.00  0.00           N  \nATOM    230  CA  VAL A 726       7.091  16.903  44.303  1.00  0.00           C  \nATOM    231  C   VAL A 726       6.852  16.980  45.797  1.00  0.00           C  \nATOM    232  O   VAL A 726       6.460  15.994  46.379  1.00  0.00           O  \nATOM    233  CB  VAL A 726       5.737  16.717  43.597  1.00  0.00           C  \nATOM    234  CG1 VAL A 726       4.762  17.774  44.056  1.00  0.00           C  \nATOM    235  CG2 VAL A 726       5.901  16.770  42.081  1.00  0.00           C  \nATOM    236  N   TYR A 727       7.107  18.122  46.422  1.00  0.00           N  \nATOM    237  CA  TYR A 727       6.857  18.265  47.858  1.00  0.00           C  \nATOM    238  C   TYR A 727       5.664  19.145  48.165  1.00  0.00           C  \nATOM    239  O   TYR A 727       5.254  19.942  47.351  1.00  0.00           O  \nATOM    240  CB  TYR A 727       8.049  18.873  48.593  1.00  0.00           C  \nATOM    241  CG  TYR A 727       9.363  18.163  48.413  1.00  0.00           C  \nATOM    242  CD1 TYR A 727      10.267  18.583  47.432  1.00  0.00           C  \nATOM    243  CD2 TYR A 727       9.729  17.083  49.222  1.00  0.00           C  \nATOM    244  CE1 TYR A 727      11.507  17.939  47.248  1.00  0.00           C  \nATOM    245  CE2 TYR A 727      10.972  16.433  49.039  1.00  0.00           C  \nATOM    246  CZ  TYR A 727      11.844  16.880  48.052  1.00  0.00           C  \nATOM    247  OH  TYR A 727      13.051  16.285  47.850  1.00  0.00           O  \nATOM    248  N   LYS A 728       5.115  18.985  49.354  1.00  0.00           N  \nATOM    249  CA  LYS A 728       4.239  19.974  49.942  1.00  0.00           C  \nATOM    250  C   LYS A 728       5.186  21.026  50.489  1.00  0.00           C  \nATOM    251  O   LYS A 728       6.344  20.739  50.703  1.00  0.00           O  \nATOM    252  CB  LYS A 728       3.411  19.309  51.054  1.00  0.00           C  \nATOM    253  CG  LYS A 728       2.801  20.229  52.123  1.00  0.00           C  \nATOM    254  CD  LYS A 728       1.550  19.622  52.796  1.00  0.00           C  \nATOM    255  CE  LYS A 728       1.733  18.148  53.181  1.00  0.00           C  \nATOM    256  NZ  LYS A 728       0.537  17.579  53.888  1.00  0.00           N1+\nATOM    257  N   GLY A 729       4.722  22.247  50.696  1.00  0.00           N  \nATOM    258  CA  GLY A 729       5.582  23.261  51.289  1.00  0.00           C  \nATOM    259  C   GLY A 729       4.898  24.566  51.635  1.00  0.00           C  \nATOM    260  O   GLY A 729       3.800  24.854  51.176  1.00  0.00           O  \nATOM    261  N   LEU A 730       5.560  25.365  52.449  1.00  0.00           N  \nATOM    262  CA  LEU A 730       5.088  26.698  52.694  1.00  0.00           C  \nATOM    263  C   LEU A 730       6.009  27.719  52.052  1.00  0.00           C  \nATOM    264  O   LEU A 730       7.173  27.439  51.836  1.00  0.00           O  \nATOM    265  CB  LEU A 730       4.973  26.922  54.185  1.00  0.00           C  \nATOM    266  CG  LEU A 730       3.607  26.490  54.692  1.00  0.00           C  \nATOM    267  CD1 LEU A 730       3.265  27.257  55.949  1.00  0.00           C  \nATOM    268  CD2 LEU A 730       2.563  26.761  53.615  1.00  0.00           C  \nATOM    269  N   TRP A 731       5.488  28.893  51.724  1.00  0.00           N  \nATOM    270  CA  TRP A 731       6.295  29.902  51.049  1.00  0.00           C  \nATOM    271  C   TRP A 731       6.073  31.275  51.652  1.00  0.00           C  \nATOM    272  O   TRP A 731       4.948  31.765  51.696  1.00  0.00           O  \nATOM    273  CB  TRP A 731       6.028  29.927  49.522  1.00  0.00           C  \nATOM    274  CG  TRP A 731       6.770  31.046  48.792  1.00  0.00           C  \nATOM    275  CD1 TRP A 731       8.082  31.386  48.939  1.00  0.00           C  \nATOM    276  CD2 TRP A 731       6.236  31.961  47.826  1.00  0.00           C  \nATOM    277  NE1 TRP A 731       8.396  32.451  48.141  1.00  0.00           N  \nATOM    278  CE2 TRP A 731       7.282  32.827  47.446  1.00  0.00           C  \nATOM    279  CE3 TRP A 731       4.972  32.145  47.255  1.00  0.00           C  \nATOM    280  CZ2 TRP A 731       7.110  33.853  46.520  1.00  0.00           C  \nATOM    281  CZ3 TRP A 731       4.808  33.161  46.319  1.00  0.00           C  \nATOM    282  CH2 TRP A 731       5.872  34.001  45.967  1.00  0.00           C  \nATOM    283  N   ILE A 732       7.141  31.906  52.116  1.00  0.00           N  \nATOM    284  CA  ILE A 732       7.001  33.291  52.519  1.00  0.00           C  \nATOM    285  C   ILE A 732       7.690  34.214  51.504  1.00  0.00           C  \nATOM    286  O   ILE A 732       8.916  34.373  51.538  1.00  0.00           O  \nATOM    287  CB  ILE A 732       7.446  33.577  53.997  1.00  0.00           C  \nATOM    288  CG1 ILE A 732       6.720  32.674  55.007  1.00  0.00           C  \nATOM    289  CG2 ILE A 732       7.126  35.029  54.358  1.00  0.00           C  \nATOM    290  CD1 ILE A 732       7.423  31.415  55.398  1.00  0.00           C  \nATOM    291  N   PRO A 733       6.902  34.829  50.596  1.00  0.00           N  \nATOM    292  CA  PRO A 733       7.461  35.820  49.703  1.00  0.00           C  \nATOM    293  C   PRO A 733       8.018  36.943  50.572  1.00  0.00           C  \nATOM    294  O   PRO A 733       7.313  37.938  50.853  1.00  0.00           O  \nATOM    295  CB  PRO A 733       6.246  36.312  48.909  1.00  0.00           C  \nATOM    296  CG  PRO A 733       5.095  35.986  49.720  1.00  0.00           C  \nATOM    297  CD  PRO A 733       5.457  34.689  50.386  1.00  0.00           C  \nATOM    298  N   GLU A 734       9.271  36.745  51.002  1.00  0.00           N  \nATOM    299  CA  GLU A 734       9.965  37.606  51.960  1.00  0.00           C  \nATOM    300  C   GLU A 734       9.660  39.103  51.785  1.00  0.00           C  \nATOM    301  O   GLU A 734       9.615  39.635  50.653  1.00  0.00           O  \nATOM    302  CB  GLU A 734      11.479  37.364  51.897  1.00  0.00           C  \nATOM    303  CG  GLU A 734      12.152  37.974  50.635  1.00  0.00           C  \nATOM    304  CD  GLU A 734      13.697  37.968  50.669  1.00  0.00           C  \nATOM    305  OE1 GLU A 734      14.311  37.586  51.712  1.00  0.00           O  \nATOM    306  OE2 GLU A 734      14.284  38.358  49.626  1.00  0.00           O1-\nATOM    307  N   GLY A 735       9.453  39.756  52.928  1.00  0.00           N  \nATOM    308  CA  GLY A 735       9.117  41.165  52.972  1.00  0.00           C  \nATOM    309  C   GLY A 735       7.652  41.410  52.685  1.00  0.00           C  \nATOM    310  O   GLY A 735       7.248  42.526  52.327  1.00  0.00           O  \nATOM    311  N   GLU A 736       6.839  40.371  52.830  1.00  0.00           N  \nATOM    312  CA  GLU A 736       5.421  40.571  52.649  1.00  0.00           C  \nATOM    313  C   GLU A 736       4.618  40.009  53.800  1.00  0.00           C  \nATOM    314  O   GLU A 736       3.494  40.429  54.028  1.00  0.00           O  \nATOM    315  CB  GLU A 736       4.947  40.057  51.284  1.00  0.00           C  \nATOM    316  CG  GLU A 736       5.231  41.022  50.105  1.00  0.00           C  \nATOM    317  CD  GLU A 736       4.260  40.828  48.930  1.00  0.00           C  \nATOM    318  OE1 GLU A 736       3.125  41.354  48.990  1.00  0.00           O  \nATOM    319  OE2 GLU A 736       4.627  40.159  47.935  1.00  0.00           O1-\nATOM    320  N   LYS A 737       5.204  39.092  54.552  1.00  0.00           N  \nATOM    321  CA  LYS A 737       4.525  38.533  55.738  1.00  0.00           C  \nATOM    322  C   LYS A 737       3.128  37.899  55.448  1.00  0.00           C  \nATOM    323  O   LYS A 737       2.066  38.354  55.913  1.00  0.00           O  \nATOM    324  CB  LYS A 737       4.543  39.537  56.914  1.00  0.00           C  \nATOM    325  CG  LYS A 737       3.295  40.353  57.149  1.00  0.00           C  \nATOM    326  CD  LYS A 737       2.887  40.177  58.611  1.00  0.00           C  \nATOM    327  CE  LYS A 737       1.653  40.994  59.003  1.00  0.00           C  \nATOM    328  NZ  LYS A 737       0.861  40.257  60.044  1.00  0.00           N1+\nATOM    329  N   VAL A 738       3.192  36.850  54.628  1.00  0.00           N  \nATOM    330  CA  VAL A 738       2.052  36.069  54.157  1.00  0.00           C  \nATOM    331  C   VAL A 738       2.576  34.662  53.876  1.00  0.00           C  \nATOM    332  O   VAL A 738       3.606  34.507  53.210  1.00  0.00           O  \nATOM    333  CB  VAL A 738       1.361  36.651  52.849  1.00  0.00           C  \nATOM    334  CG1 VAL A 738       0.855  38.052  53.062  1.00  0.00           C  \nATOM    335  CG2 VAL A 738       2.281  36.654  51.651  1.00  0.00           C  \nATOM    336  N   LYS A 739       1.902  33.638  54.396  1.00  0.00           N  \nATOM    337  CA  LYS A 739       2.294  32.270  54.083  1.00  0.00           C  \nATOM    338  C   LYS A 739       1.440  31.751  52.932  1.00  0.00           C  \nATOM    339  O   LYS A 739       0.291  32.157  52.789  1.00  0.00           O  \nATOM    340  CB  LYS A 739       2.187  31.375  55.301  1.00  0.00           C  \nATOM    341  CG  LYS A 739       3.095  31.762  56.401  1.00  0.00           C  \nATOM    342  CD  LYS A 739       3.156  30.644  57.385  1.00  0.00           C  \nATOM    343  CE  LYS A 739       3.038  31.162  58.813  1.00  0.00           C  \nATOM    344  NZ  LYS A 739       3.036  29.998  59.757  1.00  0.00           N1+\nATOM    345  N   ILE A 740       2.016  30.878  52.107  1.00  0.00           N  \nATOM    346  CA  ILE A 740       1.383  30.410  50.883  1.00  0.00           C  \nATOM    347  C   ILE A 740       1.644  28.910  50.705  1.00  0.00           C  \nATOM    348  O   ILE A 740       2.765  28.488  50.417  1.00  0.00           O  \nATOM    349  CB  ILE A 740       1.860  31.223  49.630  1.00  0.00           C  \nATOM    350  CG1 ILE A 740       1.620  32.723  49.829  1.00  0.00           C  \nATOM    351  CG2 ILE A 740       1.192  30.739  48.363  1.00  0.00           C  \nATOM    352  CD1 ILE A 740       0.878  33.425  48.716  1.00  0.00           C  \nATOM    353  N   PRO A 741       0.601  28.090  50.901  1.00  0.00           N  \nATOM    354  CA  PRO A 741       0.828  26.672  50.708  1.00  0.00           C  \nATOM    355  C   PRO A 741       1.163  26.437  49.258  1.00  0.00           C  \nATOM    356  O   PRO A 741       0.501  26.956  48.379  1.00  0.00           O  \nATOM    357  CB  PRO A 741      -0.515  26.047  51.098  1.00  0.00           C  \nATOM    358  CG  PRO A 741      -1.198  27.092  51.924  1.00  0.00           C  \nATOM    359  CD  PRO A 741      -0.786  28.374  51.310  1.00  0.00           C  \nATOM    360  N   VAL A 742       2.226  25.693  49.022  1.00  0.00           N  \nATOM    361  CA  VAL A 742       2.713  25.467  47.666  1.00  0.00           C  \nATOM    362  C   VAL A 742       3.089  24.015  47.417  1.00  0.00           C  \nATOM    363  O   VAL A 742       3.337  23.259  48.344  1.00  0.00           O  \nATOM    364  CB  VAL A 742       3.951  26.383  47.316  1.00  0.00           C  \nATOM    365  CG1 VAL A 742       3.597  27.862  47.423  1.00  0.00           C  \nATOM    366  CG2 VAL A 742       5.154  26.061  48.189  1.00  0.00           C  \nATOM    367  N   ALA A 743       3.130  23.644  46.153  1.00  0.00           N  \nATOM    368  CA  ALA A 743       3.827  22.448  45.753  1.00  0.00           C  \nATOM    369  C   ALA A 743       5.103  22.815  44.980  1.00  0.00           C  \nATOM    370  O   ALA A 743       5.212  23.898  44.388  1.00  0.00           O  \nATOM    371  CB  ALA A 743       2.933  21.562  44.947  1.00  0.00           C  \nATOM    372  N   ILE A 744       6.077  21.910  45.036  1.00  0.00           N  \nATOM    373  CA  ILE A 744       7.403  22.148  44.483  1.00  0.00           C  \nATOM    374  C   ILE A 744       7.908  20.919  43.749  1.00  0.00           C  \nATOM    375  O   ILE A 744       8.348  19.969  44.370  1.00  0.00           O  \nATOM    376  CB  ILE A 744       8.444  22.517  45.567  1.00  0.00           C  \nATOM    377  CG1 ILE A 744       7.969  23.693  46.410  1.00  0.00           C  \nATOM    378  CG2 ILE A 744       9.769  22.885  44.916  1.00  0.00           C  \nATOM    379  CD1 ILE A 744       8.288  23.571  47.863  1.00  0.00           C  \nATOM    380  N   LYS A 745       7.838  20.955  42.424  1.00  0.00           N  \nATOM    381  CA  LYS A 745       8.370  19.890  41.599  1.00  0.00           C  \nATOM    382  C   LYS A 745       9.831  20.156  41.406  1.00  0.00           C  \nATOM    383  O   LYS A 745      10.220  21.111  40.750  1.00  0.00           O  \nATOM    384  CB  LYS A 745       7.667  19.790  40.243  1.00  0.00           C  \nATOM    385  CG  LYS A 745       8.375  18.866  39.268  1.00  0.00           C  \nATOM    386  CD  LYS A 745       7.416  17.999  38.527  1.00  0.00           C  \nATOM    387  CE  LYS A 745       6.712  18.780  37.479  1.00  0.00           C  \nATOM    388  NZ  LYS A 745       5.766  17.918  36.737  1.00  0.00           N1+\nATOM    389  N   GLU A 746      10.633  19.301  42.024  1.00  0.00           N  \nATOM    390  CA  GLU A 746      12.081  19.317  41.907  1.00  0.00           C  \nATOM    391  C   GLU A 746      12.445  18.159  41.010  1.00  0.00           C  \nATOM    392  O   GLU A 746      11.908  17.045  41.150  1.00  0.00           O  \nATOM    393  CB  GLU A 746      12.727  19.187  43.292  1.00  0.00           C  \nATOM    394  CG  GLU A 746      14.100  18.551  43.343  1.00  0.00           C  \nATOM    395  CD  GLU A 746      14.831  18.912  44.619  1.00  0.00           C  \nATOM    396  OE1 GLU A 746      14.283  18.666  45.718  1.00  0.00           O  \nATOM    397  OE2 GLU A 746      15.952  19.456  44.527  1.00  0.00           O1-\nATOM    398  N   LEU A 747      13.339  18.452  40.070  1.00  0.00           N  \nATOM    399  CA  LEU A 747      13.803  17.498  39.073  1.00  0.00           C  \nATOM    400  C   LEU A 747      14.743  16.471  39.713  1.00  0.00           C  \nATOM    401  O   LEU A 747      15.461  16.806  40.687  1.00  0.00           O  \nATOM    402  CB  LEU A 747      14.535  18.264  37.972  1.00  0.00           C  \nATOM    403  CG  LEU A 747      14.943  17.515  36.711  1.00  0.00           C  \nATOM    404  CD1 LEU A 747      13.703  16.893  36.039  1.00  0.00           C  \nATOM    405  CD2 LEU A 747      15.706  18.468  35.783  1.00  0.00           C  \nATOM    406  N   ARG A 748      14.733  15.238  39.173  1.00  0.00           N  \nATOM    407  CA  ARG A 748      15.676  14.176  39.586  1.00  0.00           C  \nATOM    408  C   ARG A 748      17.030  14.788  39.989  1.00  0.00           C  \nATOM    409  O   ARG A 748      17.623  15.575  39.223  1.00  0.00           O  \nATOM    410  CB  ARG A 748      15.904  13.123  38.475  1.00  0.00           C  \nATOM    411  CG  ARG A 748      14.662  12.614  37.736  1.00  0.00           C  \nATOM    412  CD  ARG A 748      14.692  11.091  37.561  1.00  0.00           C  \nATOM    413  NE  ARG A 748      13.748  10.402  38.449  1.00  0.00           N  \nATOM    414  CZ  ARG A 748      13.936  10.192  39.754  1.00  0.00           C  \nATOM    415  NH1 ARG A 748      15.037  10.618  40.361  1.00  0.00           N1+\nATOM    416  NH2 ARG A 748      13.015   9.549  40.457  1.00  0.00           N  \nATOM    417  N   GLU A 749      17.500  14.441  41.192  1.00  0.00           N  \nATOM    418  CA  GLU A 749      18.791  14.924  41.711  1.00  0.00           C  \nATOM    419  C   GLU A 749      19.941  14.765  40.683  1.00  0.00           C  \nATOM    420  O   GLU A 749      20.788  15.668  40.539  1.00  0.00           O  \nATOM    421  CB  GLU A 749      19.125  14.237  43.050  1.00  0.00           C  \nATOM    422  CG  GLU A 749      18.065  14.414  44.164  1.00  0.00           C  \nATOM    423  CD  GLU A 749      17.961  15.858  44.683  1.00  0.00           C  \nATOM    424  OE1 GLU A 749      18.005  16.049  45.923  1.00  0.00           O  \nATOM    425  OE2 GLU A 749      17.831  16.802  43.859  1.00  0.00           O1-\nATOM    426  N   ALA A 750      19.953  13.615  39.987  1.00  0.00           N  \nATOM    427  CA  ALA A 750      20.700  13.423  38.730  1.00  0.00           C  \nATOM    428  C   ALA A 750      20.292  14.531  37.733  1.00  0.00           C  \nATOM    429  O   ALA A 750      19.394  14.344  36.899  1.00  0.00           O  \nATOM    430  CB  ALA A 750      20.429  12.007  38.141  1.00  0.00           C  \nATOM    431  N   THR A 751      20.962  15.683  37.852  1.00  0.00           N  \nATOM    432  CA  THR A 751      20.582  16.938  37.187  1.00  0.00           C  \nATOM    433  C   THR A 751      21.280  17.114  35.825  1.00  0.00           C  \nATOM    434  O   THR A 751      21.827  18.184  35.522  1.00  0.00           O  \nATOM    435  CB  THR A 751      20.816  18.155  38.156  1.00  0.00           C  \nATOM    436  OG1 THR A 751      19.985  18.005  39.319  1.00  0.00           O  \nATOM    437  CG2 THR A 751      20.517  19.507  37.489  1.00  0.00           C  \nATOM    438  N   SER A 752      21.240  16.050  35.018  1.00  0.00           N  \nATOM    439  CA  SER A 752      21.724  16.058  33.633  1.00  0.00           C  \nATOM    440  C   SER A 752      21.091  17.213  32.824  1.00  0.00           C  \nATOM    441  O   SER A 752      19.924  17.574  33.077  1.00  0.00           O  \nATOM    442  CB  SER A 752      21.410  14.717  32.959  1.00  0.00           C  \nATOM    443  OG  SER A 752      20.018  14.574  32.723  1.00  0.00           O  \nATOM    444  N   PRO A 753      21.856  17.806  31.864  1.00  0.00           N  \nATOM    445  CA  PRO A 753      21.345  18.903  31.002  1.00  0.00           C  \nATOM    446  C   PRO A 753      20.171  18.496  30.066  1.00  0.00           C  \nATOM    447  O   PRO A 753      19.313  19.338  29.736  1.00  0.00           O  \nATOM    448  CB  PRO A 753      22.584  19.327  30.188  1.00  0.00           C  \nATOM    449  CG  PRO A 753      23.767  18.752  30.934  1.00  0.00           C  \nATOM    450  CD  PRO A 753      23.261  17.481  31.543  1.00  0.00           C  \nATOM    451  N   LYS A 754      20.149  17.222  29.657  1.00  0.00           N  \nATOM    452  CA  LYS A 754      19.037  16.622  28.905  1.00  0.00           C  \nATOM    453  C   LYS A 754      17.659  16.813  29.614  1.00  0.00           C  \nATOM    454  O   LYS A 754      16.614  16.849  28.950  1.00  0.00           O  \nATOM    455  CB  LYS A 754      19.392  15.143  28.558  1.00  0.00           C  \nATOM    456  CG  LYS A 754      18.341  14.181  27.870  1.00  0.00           C  \nATOM    457  CD  LYS A 754      17.209  14.819  26.995  1.00  0.00           C  \nATOM    458  CE  LYS A 754      17.666  15.496  25.693  1.00  0.00           C  \nATOM    459  NZ  LYS A 754      16.563  16.320  25.096  1.00  0.00           N1+\nATOM    460  N   ALA A 755      17.662  16.991  30.940  1.00  0.00           N  \nATOM    461  CA  ALA A 755      16.415  17.158  31.710  1.00  0.00           C  \nATOM    462  C   ALA A 755      16.046  18.609  32.048  1.00  0.00           C  \nATOM    463  O   ALA A 755      14.892  19.006  31.887  1.00  0.00           O  \nATOM    464  CB  ALA A 755      16.460  16.314  32.969  1.00  0.00           C  \nATOM    465  N   ASN A 756      17.024  19.384  32.523  1.00  0.00           N  \nATOM    466  CA  ASN A 756      16.820  20.794  32.879  1.00  0.00           C  \nATOM    467  C   ASN A 756      16.068  21.542  31.805  1.00  0.00           C  \nATOM    468  O   ASN A 756      15.322  22.462  32.108  1.00  0.00           O  \nATOM    469  CB  ASN A 756      18.144  21.528  33.129  1.00  0.00           C  \nATOM    470  CG  ASN A 756      18.813  21.129  34.440  1.00  0.00           C  \nATOM    471  OD1 ASN A 756      18.696  21.832  35.453  1.00  0.00           O  \nATOM    472  ND2 ASN A 756      19.541  20.004  34.419  1.00  0.00           N  \nATOM    473  N   LYS A 757      16.283  21.154  30.552  1.00  0.00           N  \nATOM    474  CA  LYS A 757      15.542  21.733  29.438  1.00  0.00           C  \nATOM    475  C   LYS A 757      14.032  21.534  29.630  1.00  0.00           C  \nATOM    476  O   LYS A 757      13.261  22.492  29.563  1.00  0.00           O  \nATOM    477  CB  LYS A 757      16.042  21.162  28.099  1.00  0.00           C  \nATOM    478  CG  LYS A 757      15.027  21.139  26.933  1.00  0.00           C  \nATOM    479  CD  LYS A 757      14.404  19.731  26.767  1.00  0.00           C  \nATOM    480  CE  LYS A 757      14.002  19.413  25.326  1.00  0.00           C  \nATOM    481  NZ  LYS A 757      12.914  20.298  24.807  1.00  0.00           N1+\nATOM    482  N   GLU A 758      13.634  20.299  29.918  1.00  0.00           N  \nATOM    483  CA  GLU A 758      12.222  19.892  29.899  1.00  0.00           C  \nATOM    484  C   GLU A 758      11.388  20.520  30.998  1.00  0.00           C  \nATOM    485  O   GLU A 758      10.195  20.804  30.819  1.00  0.00           O  \nATOM    486  CB  GLU A 758      12.120  18.376  30.027  1.00  0.00           C  \nATOM    487  CG  GLU A 758      13.287  17.622  29.410  1.00  0.00           C  \nATOM    488  CD  GLU A 758      12.868  16.288  28.835  1.00  0.00           C  \nATOM    489  OE1 GLU A 758      11.634  16.065  28.705  1.00  0.00           O  \nATOM    490  OE2 GLU A 758      13.774  15.476  28.510  1.00  0.00           O1-\nATOM    491  N   ILE A 759      12.027  20.696  32.145  1.00  0.00           N  \nATOM    492  CA  ILE A 759      11.378  21.269  33.288  1.00  0.00           C  \nATOM    493  C   ILE A 759      11.326  22.787  33.130  1.00  0.00           C  \nATOM    494  O   ILE A 759      10.414  23.438  33.631  1.00  0.00           O  \nATOM    495  CB  ILE A 759      12.050  20.792  34.587  1.00  0.00           C  \nATOM    496  CG1 ILE A 759      11.303  21.300  35.820  1.00  0.00           C  \nATOM    497  CG2 ILE A 759      13.499  21.169  34.607  1.00  0.00           C  \nATOM    498  CD1 ILE A 759      11.471  20.435  37.038  1.00  0.00           C  \nATOM    499  N   LEU A 760      12.268  23.353  32.392  1.00  0.00           N  \nATOM    500  CA  LEU A 760      12.215  24.787  32.142  1.00  0.00           C  \nATOM    501  C   LEU A 760      11.134  25.094  31.129  1.00  0.00           C  \nATOM    502  O   LEU A 760      10.501  26.137  31.176  1.00  0.00           O  \nATOM    503  CB  LEU A 760      13.575  25.347  31.728  1.00  0.00           C  \nATOM    504  CG  LEU A 760      14.584  25.527  32.870  1.00  0.00           C  \nATOM    505  CD1 LEU A 760      15.970  25.720  32.327  1.00  0.00           C  \nATOM    506  CD2 LEU A 760      14.223  26.683  33.766  1.00  0.00           C  \nATOM    507  N   ASP A 761      10.899  24.150  30.238  1.00  0.00           N  \nATOM    508  CA  ASP A 761       9.822  24.267  29.287  1.00  0.00           C  \nATOM    509  C   ASP A 761       8.502  24.427  30.009  1.00  0.00           C  \nATOM    510  O   ASP A 761       7.764  25.386  29.749  1.00  0.00           O  \nATOM    511  CB  ASP A 761       9.807  23.042  28.383  1.00  0.00           C  \nATOM    512  CG  ASP A 761      10.793  23.169  27.229  1.00  0.00           C  \nATOM    513  OD1 ASP A 761      10.948  24.308  26.728  1.00  0.00           O  \nATOM    514  OD2 ASP A 761      11.420  22.153  26.820  1.00  0.00           O1-\nATOM    515  N   GLU A 762       8.227  23.496  30.925  1.00  0.00           N  \nATOM    516  CA  GLU A 762       7.062  23.578  31.801  1.00  0.00           C  \nATOM    517  C   GLU A 762       6.955  24.971  32.361  1.00  0.00           C  \nATOM    518  O   GLU A 762       5.992  25.700  32.086  1.00  0.00           O  \nATOM    519  CB  GLU A 762       7.193  22.620  32.974  1.00  0.00           C  \nATOM    520  CG  GLU A 762       6.742  21.226  32.686  1.00  0.00           C  \nATOM    521  CD  GLU A 762       6.297  20.478  33.936  1.00  0.00           C  \nATOM    522  OE1 GLU A 762       7.014  19.534  34.324  1.00  0.00           O  \nATOM    523  OE2 GLU A 762       5.243  20.824  34.525  1.00  0.00           O1-\nATOM    524  N   ALA A 763       7.982  25.326  33.139  1.00  0.00           N  \nATOM    525  CA  ALA A 763       8.087  26.620  33.781  1.00  0.00           C  \nATOM    526  C   ALA A 763       7.699  27.713  32.808  1.00  0.00           C  \nATOM    527  O   ALA A 763       6.871  28.558  33.144  1.00  0.00           O  \nATOM    528  CB  ALA A 763       9.470  26.836  34.300  1.00  0.00           C  \nATOM    529  N   TYR A 764       8.254  27.680  31.600  1.00  0.00           N  \nATOM    530  CA  TYR A 764       7.905  28.697  30.630  1.00  0.00           C  \nATOM    531  C   TYR A 764       6.384  28.768  30.452  1.00  0.00           C  \nATOM    532  O   TYR A 764       5.777  29.828  30.619  1.00  0.00           O  \nATOM    533  CB  TYR A 764       8.631  28.501  29.299  1.00  0.00           C  \nATOM    534  CG  TYR A 764       8.189  29.482  28.226  1.00  0.00           C  \nATOM    535  CD1 TYR A 764       7.087  29.212  27.428  1.00  0.00           C  \nATOM    536  CD2 TYR A 764       8.871  30.671  28.010  1.00  0.00           C  \nATOM    537  CE1 TYR A 764       6.667  30.104  26.449  1.00  0.00           C  \nATOM    538  CE2 TYR A 764       8.459  31.575  27.024  1.00  0.00           C  \nATOM    539  CZ  TYR A 764       7.349  31.287  26.249  1.00  0.00           C  \nATOM    540  OH  TYR A 764       6.895  32.162  25.279  1.00  0.00           O  \nATOM    541  N   VAL A 765       5.765  27.635  30.147  1.00  0.00           N  \nATOM    542  CA  VAL A 765       4.314  27.606  29.931  1.00  0.00           C  \nATOM    543  C   VAL A 765       3.532  27.981  31.218  1.00  0.00           C  \nATOM    544  O   VAL A 765       2.691  28.891  31.224  1.00  0.00           O  \nATOM    545  CB  VAL A 765       3.880  26.241  29.376  1.00  0.00           C  \nATOM    546  CG1 VAL A 765       2.395  26.190  29.203  1.00  0.00           C  \nATOM    547  CG2 VAL A 765       4.548  26.005  28.051  1.00  0.00           C  \nATOM    548  N   MET A 766       3.844  27.288  32.311  1.00  0.00           N  \nATOM    549  CA  MET A 766       3.160  27.484  33.569  1.00  0.00           C  \nATOM    550  C   MET A 766       3.237  28.924  34.001  1.00  0.00           C  \nATOM    551  O   MET A 766       2.329  29.435  34.630  1.00  0.00           O  \nATOM    552  CB  MET A 766       3.799  26.613  34.616  1.00  0.00           C  \nATOM    553  CG  MET A 766       2.784  25.953  35.482  1.00  0.00           C  \nATOM    554  SD  MET A 766       3.419  24.404  36.172  1.00  0.00           S  \nATOM    555  CE  MET A 766       3.286  23.190  34.823  1.00  0.00           C  \nATOM    556  N   ALA A 767       4.341  29.565  33.653  1.00  0.00           N  \nATOM    557  CA  ALA A 767       4.530  30.968  33.898  1.00  0.00           C  \nATOM    558  C   ALA A 767       3.631  31.832  32.971  1.00  0.00           C  \nATOM    559  O   ALA A 767       3.323  33.003  33.261  1.00  0.00           O  \nATOM    560  CB  ALA A 767       5.987  31.311  33.717  1.00  0.00           C  \nATOM    561  N   SER A 768       3.181  31.250  31.866  1.00  0.00           N  \nATOM    562  CA  SER A 768       2.557  32.059  30.824  1.00  0.00           C  \nATOM    563  C   SER A 768       1.063  32.002  30.821  1.00  0.00           C  \nATOM    564  O   SER A 768       0.422  32.688  30.028  1.00  0.00           O  \nATOM    565  CB  SER A 768       3.064  31.650  29.439  1.00  0.00           C  \nATOM    566  OG  SER A 768       4.281  32.301  29.118  1.00  0.00           O  \nATOM    567  N   VAL A 769       0.479  31.213  31.704  1.00  0.00           N  \nATOM    568  CA  VAL A 769      -0.966  31.104  31.735  1.00  0.00           C  \nATOM    569  C   VAL A 769      -1.611  31.753  32.942  1.00  0.00           C  \nATOM    570  O   VAL A 769      -0.967  31.964  33.958  1.00  0.00           O  \nATOM    571  CB  VAL A 769      -1.381  29.657  31.700  1.00  0.00           C  \nATOM    572  CG1 VAL A 769      -0.429  28.879  30.839  1.00  0.00           C  \nATOM    573  CG2 VAL A 769      -1.399  29.106  33.090  1.00  0.00           C  \nATOM    574  N   ASP A 770      -2.896  32.063  32.821  1.00  0.00           N  \nATOM    575  CA  ASP A 770      -3.646  32.676  33.906  1.00  0.00           C  \nATOM    576  C   ASP A 770      -5.137  32.443  33.770  1.00  0.00           C  \nATOM    577  O   ASP A 770      -5.831  33.212  33.122  1.00  0.00           O  \nATOM    578  CB  ASP A 770      -3.373  34.168  33.980  1.00  0.00           C  \nATOM    579  CG  ASP A 770      -3.878  34.781  35.260  1.00  0.00           C  \nATOM    580  OD1 ASP A 770      -4.309  34.024  36.148  1.00  0.00           O  \nATOM    581  OD2 ASP A 770      -3.842  36.016  35.386  1.00  0.00           O1-\nATOM    582  N   ASN A 771      -5.628  31.380  34.392  1.00  0.00           N  \nATOM    583  CA  ASN A 771      -7.037  31.047  34.339  1.00  0.00           C  \nATOM    584  C   ASN A 771      -7.450  30.247  35.552  1.00  0.00           C  \nATOM    585  O   ASN A 771      -6.748  29.340  35.977  1.00  0.00           O  \nATOM    586  CB  ASN A 771      -7.344  30.253  33.080  1.00  0.00           C  \nATOM    587  CG  ASN A 771      -8.815  30.177  32.789  1.00  0.00           C  \nATOM    588  OD1 ASN A 771      -9.471  29.205  33.130  1.00  0.00           O  \nATOM    589  ND2 ASN A 771      -9.343  31.203  32.151  1.00  0.00           N  \nATOM    590  N   PRO A 772      -8.596  30.589  36.110  1.00  0.00           N  \nATOM    591  CA  PRO A 772      -9.101  29.906  37.291  1.00  0.00           C  \nATOM    592  C   PRO A 772      -9.067  28.402  37.152  1.00  0.00           C  \nATOM    593  O   PRO A 772      -9.317  27.699  38.122  1.00  0.00           O  \nATOM    594  CB  PRO A 772     -10.545  30.381  37.364  1.00  0.00           C  \nATOM    595  CG  PRO A 772     -10.532  31.687  36.733  1.00  0.00           C  \nATOM    596  CD  PRO A 772      -9.546  31.596  35.625  1.00  0.00           C  \nATOM    597  N   HIS A 773      -8.770  27.909  35.962  1.00  0.00           N  \nATOM    598  CA  HIS A 773      -8.740  26.475  35.758  1.00  0.00           C  \nATOM    599  C   HIS A 773      -7.492  26.015  35.050  1.00  0.00           C  \nATOM    600  O   HIS A 773      -7.534  25.141  34.204  1.00  0.00           O  \nATOM    601  CB  HIS A 773      -9.975  26.028  35.000  1.00  0.00           C  \nATOM    602  CG  HIS A 773     -11.254  26.433  35.653  1.00  0.00           C  \nATOM    603  ND1 HIS A 773     -11.688  25.887  36.837  1.00  0.00           N  \nATOM    604  CD2 HIS A 773     -12.193  27.334  35.289  1.00  0.00           C  \nATOM    605  CE1 HIS A 773     -12.841  26.431  37.173  1.00  0.00           C  \nATOM    606  NE2 HIS A 773     -13.168  27.317  36.251  1.00  0.00           N  \nATOM    607  N   VAL A 774      -6.373  26.611  35.418  1.00  0.00           N  \nATOM    608  CA  VAL A 774      -5.097  26.272  34.829  1.00  0.00           C  \nATOM    609  C   VAL A 774      -4.033  26.602  35.846  1.00  0.00           C  \nATOM    610  O   VAL A 774      -3.892  27.744  36.260  1.00  0.00           O  \nATOM    611  CB  VAL A 774      -4.861  27.078  33.575  1.00  0.00           C  \nATOM    612  CG1 VAL A 774      -3.482  26.856  33.073  1.00  0.00           C  \nATOM    613  CG2 VAL A 774      -5.856  26.692  32.535  1.00  0.00           C  \nATOM    614  N   CYS A 775      -3.305  25.583  36.271  1.00  0.00           N  \nATOM    615  CA  CYS A 775      -2.273  25.759  37.266  1.00  0.00           C  \nATOM    616  C   CYS A 775      -1.191  26.706  36.799  1.00  0.00           C  \nATOM    617  O   CYS A 775      -0.448  26.403  35.878  1.00  0.00           O  \nATOM    618  CB  CYS A 775      -1.680  24.414  37.659  1.00  0.00           C  \nATOM    619  SG  CYS A 775      -2.672  23.493  38.835  1.00  0.00           S  \nATOM    620  N   ARG A 776      -1.107  27.858  37.451  1.00  0.00           N  \nATOM    621  CA  ARG A 776      -0.102  28.867  37.119  1.00  0.00           C  \nATOM    622  C   ARG A 776       1.146  28.693  37.979  1.00  0.00           C  \nATOM    623  O   ARG A 776       1.067  28.239  39.125  1.00  0.00           O  \nATOM    624  CB  ARG A 776      -0.696  30.263  37.269  1.00  0.00           C  \nATOM    625  CG  ARG A 776       0.216  31.389  36.852  1.00  0.00           C  \nATOM    626  CD  ARG A 776      -0.370  32.730  37.236  1.00  0.00           C  \nATOM    627  NE  ARG A 776       0.632  33.486  37.985  1.00  0.00           N  \nATOM    628  CZ  ARG A 776       0.613  33.713  39.309  1.00  0.00           C  \nATOM    629  NH1 ARG A 776      -0.380  33.265  40.085  1.00  0.00           N1+\nATOM    630  NH2 ARG A 776       1.598  34.408  39.867  1.00  0.00           N  \nATOM    631  N   LEU A 777       2.300  29.033  37.406  1.00  0.00           N  \nATOM    632  CA  LEU A 777       3.591  28.983  38.109  1.00  0.00           C  \nATOM    633  C   LEU A 777       3.764  30.152  39.081  1.00  0.00           C  \nATOM    634  O   LEU A 777       3.560  31.291  38.719  1.00  0.00           O  \nATOM    635  CB  LEU A 777       4.742  28.974  37.102  1.00  0.00           C  \nATOM    636  CG  LEU A 777       6.163  28.911  37.661  1.00  0.00           C  \nATOM    637  CD1 LEU A 777       6.483  27.582  38.312  1.00  0.00           C  \nATOM    638  CD2 LEU A 777       7.119  29.159  36.535  1.00  0.00           C  \nATOM    639  N   LEU A 778       4.125  29.874  40.319  1.00  0.00           N  \nATOM    640  CA  LEU A 778       4.382  30.955  41.237  1.00  0.00           C  \nATOM    641  C   LEU A 778       5.770  31.536  41.040  1.00  0.00           C  \nATOM    642  O   LEU A 778       5.952  32.746  41.114  1.00  0.00           O  \nATOM    643  CB  LEU A 778       4.173  30.532  42.687  1.00  0.00           C  \nATOM    644  CG  LEU A 778       2.689  30.405  43.040  1.00  0.00           C  \nATOM    645  CD1 LEU A 778       2.483  29.663  44.377  1.00  0.00           C  \nATOM    646  CD2 LEU A 778       1.979  31.771  43.018  1.00  0.00           C  \nATOM    647  N   GLY A 779       6.750  30.686  40.776  1.00  0.00           N  \nATOM    648  CA  GLY A 779       8.110  31.140  40.611  1.00  0.00           C  \nATOM    649  C   GLY A 779       9.033  29.966  40.555  1.00  0.00           C  \nATOM    650  O   GLY A 779       8.620  28.840  40.797  1.00  0.00           O  \nATOM    651  N   ILE A 780      10.289  30.204  40.212  1.00  0.00           N  \nATOM    652  CA  ILE A 780      11.247  29.119  40.317  1.00  0.00           C  \nATOM    653  C   ILE A 780      12.447  29.490  41.114  1.00  0.00           C  \nATOM    654  O   ILE A 780      12.663  30.643  41.464  1.00  0.00           O  \nATOM    655  CB  ILE A 780      11.679  28.531  38.978  1.00  0.00           C  \nATOM    656  CG1 ILE A 780      12.558  29.515  38.217  1.00  0.00           C  \nATOM    657  CG2 ILE A 780      10.477  28.075  38.189  1.00  0.00           C  \nATOM    658  CD1 ILE A 780      13.595  28.819  37.407  1.00  0.00           C  \nATOM    659  N   CYS A 781      13.228  28.463  41.374  1.00  0.00           N  \nATOM    660  CA  CYS A 781      14.251  28.506  42.365  1.00  0.00           C  \nATOM    661  C   CYS A 781      15.438  27.780  41.817  1.00  0.00           C  \nATOM    662  O   CYS A 781      15.309  26.660  41.308  1.00  0.00           O  \nATOM    663  CB  CYS A 781      13.766  27.776  43.594  1.00  0.00           C  \nATOM    664  SG  CYS A 781      14.811  28.072  44.970  1.00  0.00           S  \nATOM    665  N   LEU A 782      16.605  28.394  41.946  1.00  0.00           N  \nATOM    666  CA  LEU A 782      17.739  27.934  41.152  1.00  0.00           C  \nATOM    667  C   LEU A 782      18.804  27.048  41.783  1.00  0.00           C  \nATOM    668  O   LEU A 782      19.820  26.814  41.138  1.00  0.00           O  \nATOM    669  CB  LEU A 782      18.389  29.104  40.420  1.00  0.00           C  \nATOM    670  CG  LEU A 782      17.577  29.584  39.221  1.00  0.00           C  \nATOM    671  CD1 LEU A 782      18.112  30.901  38.769  1.00  0.00           C  \nATOM    672  CD2 LEU A 782      17.610  28.579  38.084  1.00  0.00           C  \nATOM    673  N   THR A 783      18.558  26.525  42.989  1.00  0.00           N  \nATOM    674  CA  THR A 783      19.579  25.779  43.756  1.00  0.00           C  \nATOM    675  C   THR A 783      20.656  25.105  42.904  1.00  0.00           C  \nATOM    676  O   THR A 783      21.795  25.594  42.816  1.00  0.00           O  \nATOM    677  CB  THR A 783      18.988  24.672  44.667  1.00  0.00           C  \nATOM    678  OG1 THR A 783      18.472  23.582  43.867  1.00  0.00           O  \nATOM    679  CG2 THR A 783      17.924  25.250  45.596  1.00  0.00           C  \nATOM    680  N   SER A 784      20.305  23.979  42.290  1.00  0.00           N  \nATOM    681  CA  SER A 784      21.298  23.137  41.629  1.00  0.00           C  \nATOM    682  C   SER A 784      20.514  22.278  40.658  1.00  0.00           C  \nATOM    683  O   SER A 784      20.918  22.055  39.497  1.00  0.00           O  \nATOM    684  CB  SER A 784      22.011  22.240  42.649  1.00  0.00           C  \nATOM    685  OG  SER A 784      21.503  22.456  43.955  1.00  0.00           O  \nATOM    686  N   THR A 785      19.396  21.767  41.171  1.00  0.00           N  \nATOM    687  CA  THR A 785      18.325  21.294  40.329  1.00  0.00           C  \nATOM    688  C   THR A 785      17.304  22.423  40.409  1.00  0.00           C  \nATOM    689  O   THR A 785      17.149  23.096  41.453  1.00  0.00           O  \nATOM    690  CB  THR A 785      17.774  19.908  40.799  1.00  0.00           C  \nATOM    691  OG1 THR A 785      17.008  19.278  39.754  1.00  0.00           O  \nATOM    692  CG2 THR A 785      16.964  20.045  42.092  1.00  0.00           C  \nATOM    693  N   VAL A 786      16.658  22.664  39.283  1.00  0.00           N  \nATOM    694  CA  VAL A 786      15.649  23.692  39.200  1.00  0.00           C  \nATOM    695  C   VAL A 786      14.406  23.217  39.994  1.00  0.00           C  \nATOM    696  O   VAL A 786      13.988  22.068  39.883  1.00  0.00           O  \nATOM    697  CB  VAL A 786      15.394  24.069  37.690  1.00  0.00           C  \nATOM    698  CG1 VAL A 786      14.372  25.183  37.535  1.00  0.00           C  \nATOM    699  CG2 VAL A 786      16.697  24.511  37.038  1.00  0.00           C  \nATOM    700  N   GLN A 787      13.873  24.091  40.842  1.00  0.00           N  \nATOM    701  CA  GLN A 787      12.621  23.825  41.533  1.00  0.00           C  \nATOM    702  C   GLN A 787      11.492  24.691  40.993  1.00  0.00           C  \nATOM    703  O   GLN A 787      11.543  25.928  41.081  1.00  0.00           O  \nATOM    704  CB  GLN A 787      12.758  24.081  43.025  1.00  0.00           C  \nATOM    705  CG  GLN A 787      13.552  23.037  43.796  1.00  0.00           C  \nATOM    706  CD  GLN A 787      13.879  23.521  45.211  1.00  0.00           C  \nATOM    707  OE1 GLN A 787      13.441  22.927  46.214  1.00  0.00           O  \nATOM    708  NE2 GLN A 787      14.629  24.629  45.298  1.00  0.00           N  \nATOM    709  N   LEU A 788      10.483  24.027  40.427  1.00  0.00           N  \nATOM    710  CA  LEU A 788       9.200  24.640  40.058  1.00  0.00           C  \nATOM    711  C   LEU A 788       8.293  24.798  41.252  1.00  0.00           C  \nATOM    712  O   LEU A 788       7.951  23.836  41.909  1.00  0.00           O  \nATOM    713  CB  LEU A 788       8.480  23.771  39.038  1.00  0.00           C  \nATOM    714  CG  LEU A 788       8.475  24.266  37.600  1.00  0.00           C  \nATOM    715  CD1 LEU A 788       9.875  24.448  37.071  1.00  0.00           C  \nATOM    716  CD2 LEU A 788       7.688  23.289  36.750  1.00  0.00           C  \nATOM    717  N   ILE A 789       7.900  26.024  41.523  1.00  0.00           N  \nATOM    718  CA  ILE A 789       7.009  26.268  42.641  1.00  0.00           C  \nATOM    719  C   ILE A 789       5.638  26.734  42.154  1.00  0.00           C  \nATOM    720  O   ILE A 789       5.476  27.828  41.644  1.00  0.00           O  \nATOM    721  CB  ILE A 789       7.628  27.231  43.705  1.00  0.00           C  \nATOM    722  CG1 ILE A 789       8.765  26.558  44.473  1.00  0.00           C  \nATOM    723  CG2 ILE A 789       6.609  27.617  44.738  1.00  0.00           C  \nATOM    724  CD1 ILE A 789      10.077  26.541  43.755  1.00  0.00           C  \nATOM    725  N   THR A 790       4.654  25.863  42.307  1.00  0.00           N  \nATOM    726  CA  THR A 790       3.290  26.225  42.021  1.00  0.00           C  \nATOM    727  C   THR A 790       2.432  26.148  43.275  1.00  0.00           C  \nATOM    728  O   THR A 790       2.873  25.649  44.309  1.00  0.00           O  \nATOM    729  CB  THR A 790       2.701  25.280  41.044  1.00  0.00           C  \nATOM    730  OG1 THR A 790       1.377  25.733  40.729  1.00  0.00           O  \nATOM    731  CG2 THR A 790       2.647  23.880  41.658  1.00  0.00           C  \nATOM    732  N   GLN A 791       1.202  26.637  43.161  1.00  0.00           N  \nATOM    733  CA  GLN A 791       0.178  26.578  44.233  1.00  0.00           C  \nATOM    734  C   GLN A 791      -0.211  25.156  44.595  1.00  0.00           C  \nATOM    735  O   GLN A 791      -0.417  24.334  43.702  1.00  0.00           O  \nATOM    736  CB  GLN A 791      -1.079  27.326  43.769  1.00  0.00           C  \nATOM    737  CG  GLN A 791      -2.285  27.256  44.665  1.00  0.00           C  \nATOM    738  CD  GLN A 791      -3.578  27.395  43.858  1.00  0.00           C  \nATOM    739  OE1 GLN A 791      -4.543  28.071  44.287  1.00  0.00           O  \nATOM    740  NE2 GLN A 791      -3.608  26.749  42.669  1.00  0.00           N  \nATOM    741  N   LEU A 792      -0.320  24.888  45.899  1.00  0.00           N  \nATOM    742  CA  LEU A 792      -0.731  23.566  46.441  1.00  0.00           C  \nATOM    743  C   LEU A 792      -2.185  23.154  46.160  1.00  0.00           C  \nATOM    744  O   LEU A 792      -3.126  23.870  46.483  1.00  0.00           O  \nATOM    745  CB  LEU A 792      -0.488  23.516  47.943  1.00  0.00           C  \nATOM    746  CG  LEU A 792      -0.814  22.204  48.618  1.00  0.00           C  \nATOM    747  CD1 LEU A 792       0.071  21.077  48.103  1.00  0.00           C  \nATOM    748  CD2 LEU A 792      -0.606  22.407  50.058  1.00  0.00           C  \nATOM    749  N   MET A 793      -2.336  21.976  45.574  1.00  0.00           N  \nATOM    750  CA  MET A 793      -3.627  21.449  45.193  1.00  0.00           C  \nATOM    751  C   MET A 793      -3.924  20.349  46.180  1.00  0.00           C  \nATOM    752  O   MET A 793      -3.634  19.176  45.926  1.00  0.00           O  \nATOM    753  CB  MET A 793      -3.595  20.927  43.747  1.00  0.00           C  \nATOM    754  CG  MET A 793      -3.338  22.014  42.714  1.00  0.00           C  \nATOM    755  SD  MET A 793      -4.366  23.480  42.994  1.00  0.00           S  \nATOM    756  CE  MET A 793      -5.766  22.839  42.100  1.00  0.00           C  \nATOM    757  N   PRO A 794      -4.514  20.721  47.323  1.00  0.00           N  \nATOM    758  CA  PRO A 794      -4.397  19.875  48.511  1.00  0.00           C  \nATOM    759  C   PRO A 794      -5.030  18.511  48.284  1.00  0.00           C  \nATOM    760  O   PRO A 794      -4.410  17.495  48.569  1.00  0.00           O  \nATOM    761  CB  PRO A 794      -5.131  20.671  49.595  1.00  0.00           C  \nATOM    762  CG  PRO A 794      -5.272  22.064  49.064  1.00  0.00           C  \nATOM    763  CD  PRO A 794      -5.364  21.896  47.570  1.00  0.00           C  \nATOM    764  N   PHE A 795      -6.221  18.496  47.703  1.00  0.00           N  \nATOM    765  CA  PHE A 795      -6.922  17.258  47.413  1.00  0.00           C  \nATOM    766  C   PHE A 795      -6.260  16.358  46.330  1.00  0.00           C  \nATOM    767  O   PHE A 795      -6.742  15.263  46.036  1.00  0.00           O  \nATOM    768  CB  PHE A 795      -8.412  17.555  47.153  1.00  0.00           C  \nATOM    769  CG  PHE A 795      -9.137  18.130  48.370  1.00  0.00           C  \nATOM    770  CD1 PHE A 795      -9.181  19.496  48.594  1.00  0.00           C  \nATOM    771  CD2 PHE A 795      -9.759  17.297  49.290  1.00  0.00           C  \nATOM    772  CE1 PHE A 795      -9.826  20.021  49.732  1.00  0.00           C  \nATOM    773  CE2 PHE A 795     -10.411  17.815  50.414  1.00  0.00           C  \nATOM    774  CZ  PHE A 795     -10.441  19.178  50.638  1.00  0.00           C  \nATOM    775  N   GLY A 796      -5.132  16.784  45.775  1.00  0.00           N  \nATOM    776  CA  GLY A 796      -4.395  15.911  44.865  1.00  0.00           C  \nATOM    777  C   GLY A 796      -5.052  15.813  43.504  1.00  0.00           C  \nATOM    778  O   GLY A 796      -5.918  16.630  43.175  1.00  0.00           O  \nATOM    779  N   CYS A 797      -4.663  14.815  42.707  1.00  0.00           N  \nATOM    780  CA  CYS A 797      -5.136  14.748  41.314  1.00  0.00           C  \nATOM    781  C   CYS A 797      -6.494  14.075  41.177  1.00  0.00           C  \nATOM    782  O   CYS A 797      -6.837  13.215  41.981  1.00  0.00           O  \nATOM    783  CB  CYS A 797      -4.101  14.086  40.410  1.00  0.00           C  \nATOM    784  SG  CYS A 797      -4.185  12.351  40.462  1.00  0.00           S  \nATOM    785  N   LEU A 798      -7.239  14.449  40.145  1.00  0.00           N  \nATOM    786  CA  LEU A 798      -8.656  14.111  40.053  1.00  0.00           C  \nATOM    787  C   LEU A 798      -8.886  12.622  39.951  1.00  0.00           C  \nATOM    788  O   LEU A 798      -9.822  12.103  40.557  1.00  0.00           O  \nATOM    789  CB  LEU A 798      -9.323  14.828  38.868  1.00  0.00           C  \nATOM    790  CG  LEU A 798     -10.854  14.898  38.844  1.00  0.00           C  \nATOM    791  CD1 LEU A 798     -11.383  15.499  40.113  1.00  0.00           C  \nATOM    792  CD2 LEU A 798     -11.344  15.703  37.691  1.00  0.00           C  \nATOM    793  N   LEU A 799      -8.029  11.951  39.178  1.00  0.00           N  \nATOM    794  CA  LEU A 799      -8.058  10.491  39.030  1.00  0.00           C  \nATOM    795  C   LEU A 799      -8.077   9.816  40.399  1.00  0.00           C  \nATOM    796  O   LEU A 799      -9.047   9.163  40.784  1.00  0.00           O  \nATOM    797  CB  LEU A 799      -6.839  10.029  38.227  1.00  0.00           C  \nATOM    798  CG  LEU A 799      -6.795   8.615  37.658  1.00  0.00           C  \nATOM    799  CD1 LEU A 799      -8.168   8.156  37.219  1.00  0.00           C  \nATOM    800  CD2 LEU A 799      -5.811   8.526  36.503  1.00  0.00           C  \nATOM    801  N   ASP A 800      -6.996  10.027  41.135  1.00  0.00           N  \nATOM    802  CA  ASP A 800      -6.865   9.563  42.498  1.00  0.00           C  \nATOM    803  C   ASP A 800      -8.082   9.863  43.359  1.00  0.00           C  \nATOM    804  O   ASP A 800      -8.519   9.016  44.155  1.00  0.00           O  \nATOM    805  CB  ASP A 800      -5.595  10.128  43.121  1.00  0.00           C  \nATOM    806  CG  ASP A 800      -4.386   9.251  42.835  1.00  0.00           C  \nATOM    807  OD1 ASP A 800      -3.237   9.708  43.046  1.00  0.00           O  \nATOM    808  OD2 ASP A 800      -4.572   8.091  42.392  1.00  0.00           O1-\nATOM    809  N   TYR A 801      -8.639  11.055  43.172  1.00  0.00           N  \nATOM    810  CA  TYR A 801      -9.795  11.507  43.928  1.00  0.00           C  \nATOM    811  C   TYR A 801     -11.074  10.715  43.662  1.00  0.00           C  \nATOM    812  O   TYR A 801     -11.749  10.319  44.609  1.00  0.00           O  \nATOM    813  CB  TYR A 801     -10.053  12.975  43.634  1.00  0.00           C  \nATOM    814  CG  TYR A 801     -11.043  13.589  44.563  1.00  0.00           C  \nATOM    815  CD1 TYR A 801     -12.382  13.734  44.199  1.00  0.00           C  \nATOM    816  CD2 TYR A 801     -10.647  14.015  45.809  1.00  0.00           C  \nATOM    817  CE1 TYR A 801     -13.303  14.303  45.073  1.00  0.00           C  \nATOM    818  CE2 TYR A 801     -11.533  14.583  46.678  1.00  0.00           C  \nATOM    819  CZ  TYR A 801     -12.859  14.733  46.317  1.00  0.00           C  \nATOM    820  OH  TYR A 801     -13.713  15.313  47.227  1.00  0.00           O  \nATOM    821  N   VAL A 802     -11.421  10.508  42.391  1.00  0.00           N  \nATOM    822  CA  VAL A 802     -12.703   9.876  42.084  1.00  0.00           C  \nATOM    823  C   VAL A 802     -12.648   8.404  42.365  1.00  0.00           C  \nATOM    824  O   VAL A 802     -13.677   7.799  42.681  1.00  0.00           O  \nATOM    825  CB  VAL A 802     -13.194  10.081  40.641  1.00  0.00           C  \nATOM    826  CG1 VAL A 802     -13.349  11.560  40.343  1.00  0.00           C  \nATOM    827  CG2 VAL A 802     -12.290   9.360  39.632  1.00  0.00           C  \nATOM    828  N   ARG A 803     -11.441   7.847  42.246  1.00  0.00           N  \nATOM    829  CA  ARG A 803     -11.185   6.454  42.572  1.00  0.00           C  \nATOM    830  C   ARG A 803     -11.405   6.232  44.036  1.00  0.00           C  \nATOM    831  O   ARG A 803     -12.016   5.250  44.429  1.00  0.00           O  \nATOM    832  CB  ARG A 803      -9.773   6.084  42.229  1.00  0.00           C  \nATOM    833  CG  ARG A 803      -9.650   5.790  40.805  1.00  0.00           C  \nATOM    834  CD  ARG A 803      -8.248   5.518  40.480  1.00  0.00           C  \nATOM    835  NE  ARG A 803      -8.165   4.809  39.222  1.00  0.00           N  \nATOM    836  CZ  ARG A 803      -7.079   4.768  38.465  1.00  0.00           C  \nATOM    837  NH1 ARG A 803      -5.984   5.412  38.842  1.00  0.00           N1+\nATOM    838  NH2 ARG A 803      -7.077   4.094  37.325  1.00  0.00           N  \nATOM    839  N   GLU A 804     -10.930   7.178  44.833  1.00  0.00           N  \nATOM    840  CA  GLU A 804     -10.925   7.033  46.263  1.00  0.00           C  \nATOM    841  C   GLU A 804     -12.235   7.500  46.923  1.00  0.00           C  \nATOM    842  O   GLU A 804     -12.526   7.098  48.051  1.00  0.00           O  \nATOM    843  CB  GLU A 804      -9.650   7.676  46.838  1.00  0.00           C  \nATOM    844  CG  GLU A 804      -9.780   8.382  48.190  1.00  0.00           C  \nATOM    845  CD  GLU A 804      -9.351   7.533  49.392  1.00  0.00           C  \nATOM    846  OE1 GLU A 804      -9.039   8.144  50.459  1.00  0.00           O  \nATOM    847  OE2 GLU A 804      -9.319   6.276  49.269  1.00  0.00           O1-\nATOM    848  N   HIS A 805     -13.043   8.304  46.225  1.00  0.00           N  \nATOM    849  CA  HIS A 805     -14.334   8.780  46.784  1.00  0.00           C  \nATOM    850  C   HIS A 805     -15.551   8.358  45.953  1.00  0.00           C  \nATOM    851  O   HIS A 805     -16.613   8.990  46.066  1.00  0.00           O  \nATOM    852  CB  HIS A 805     -14.376  10.300  46.922  1.00  0.00           C  \nATOM    853  CG  HIS A 805     -13.403  10.871  47.905  1.00  0.00           C  \nATOM    854  ND1 HIS A 805     -13.785  11.748  48.901  1.00  0.00           N  \nATOM    855  CD2 HIS A 805     -12.058  10.751  48.011  1.00  0.00           C  \nATOM    856  CE1 HIS A 805     -12.723  12.126  49.591  1.00  0.00           C  \nATOM    857  NE2 HIS A 805     -11.664  11.528  49.076  1.00  0.00           N  \nATOM    858  N   LYS A 806     -15.380   7.320  45.121  1.00  0.00           N  \nATOM    859  CA  LYS A 806     -16.456   6.675  44.338  1.00  0.00           C  \nATOM    860  C   LYS A 806     -17.895   6.906  44.802  1.00  0.00           C  \nATOM    861  O   LYS A 806     -18.834   6.883  44.000  1.00  0.00           O  \nATOM    862  CB  LYS A 806     -16.248   5.170  44.353  1.00  0.00           C  \nATOM    863  CG  LYS A 806     -15.816   4.556  43.050  1.00  0.00           C  \nATOM    864  CD  LYS A 806     -15.421   3.084  43.287  1.00  0.00           C  \nATOM    865  CE  LYS A 806     -14.475   2.570  42.213  1.00  0.00           C  \nATOM    866  NZ  LYS A 806     -13.292   1.896  42.826  1.00  0.00           N1+\nATOM    867  N   ASP A 807     -18.063   7.117  46.102  1.00  0.00           N  \nATOM    868  CA  ASP A 807     -19.354   6.963  46.738  1.00  0.00           C  \nATOM    869  C   ASP A 807     -19.949   8.258  47.167  1.00  0.00           C  \nATOM    870  O   ASP A 807     -21.114   8.316  47.532  1.00  0.00           O  \nATOM    871  CB  ASP A 807     -19.197   6.033  47.920  1.00  0.00           C  \nATOM    872  CG  ASP A 807     -18.558   4.727  47.509  1.00  0.00           C  \nATOM    873  OD1 ASP A 807     -19.246   3.914  46.849  1.00  0.00           O  \nATOM    874  OD2 ASP A 807     -17.355   4.530  47.792  1.00  0.00           O1-\nATOM    875  N   ASN A 808     -19.149   9.303  47.115  1.00  0.00           N  \nATOM    876  CA  ASN A 808     -19.646  10.617  47.458  1.00  0.00           C  \nATOM    877  C   ASN A 808     -19.668  11.529  46.259  1.00  0.00           C  \nATOM    878  O   ASN A 808     -19.870  12.739  46.373  1.00  0.00           O  \nATOM    879  CB  ASN A 808     -18.809  11.225  48.579  1.00  0.00           C  \nATOM    880  CG  ASN A 808     -19.502  11.156  49.918  1.00  0.00           C  \nATOM    881  OD1 ASN A 808     -20.012  10.098  50.321  1.00  0.00           O  \nATOM    882  ND2 ASN A 808     -19.529  12.290  50.622  1.00  0.00           N  \nATOM    883  N   ILE A 809     -19.479  10.944  45.094  1.00  0.00           N  \nATOM    884  CA  ILE A 809     -19.438  11.762  43.915  1.00  0.00           C  \nATOM    885  C   ILE A 809     -20.817  11.793  43.245  1.00  0.00           C  \nATOM    886  O   ILE A 809     -21.312  10.777  42.786  1.00  0.00           O  \nATOM    887  CB  ILE A 809     -18.249  11.362  43.014  1.00  0.00           C  \nATOM    888  CG1 ILE A 809     -16.942  11.754  43.712  1.00  0.00           C  \nATOM    889  CG2 ILE A 809     -18.318  12.064  41.687  1.00  0.00           C  \nATOM    890  CD1 ILE A 809     -15.733  11.036  43.204  1.00  0.00           C  \nATOM    891  N   GLY A 810     -21.435  12.976  43.260  1.00  0.00           N  \nATOM    892  CA  GLY A 810     -22.737  13.211  42.645  1.00  0.00           C  \nATOM    893  C   GLY A 810     -22.613  13.720  41.219  1.00  0.00           C  \nATOM    894  O   GLY A 810     -21.520  14.053  40.768  1.00  0.00           O  \nATOM    895  N   SER A 811     -23.727  13.780  40.497  1.00  0.00           N  \nATOM    896  CA  SER A 811     -23.698  14.215  39.109  1.00  0.00           C  \nATOM    897  C   SER A 811     -23.212  15.639  39.030  1.00  0.00           C  \nATOM    898  O   SER A 811     -22.423  15.967  38.155  1.00  0.00           O  \nATOM    899  CB  SER A 811     -25.064  14.082  38.457  1.00  0.00           C  \nATOM    900  OG  SER A 811     -26.078  14.583  39.303  1.00  0.00           O  \nATOM    901  N   GLN A 812     -23.678  16.455  39.975  1.00  0.00           N  \nATOM    902  CA  GLN A 812     -23.306  17.856  40.134  1.00  0.00           C  \nATOM    903  C   GLN A 812     -21.804  18.065  40.091  1.00  0.00           C  \nATOM    904  O   GLN A 812     -21.307  18.990  39.472  1.00  0.00           O  \nATOM    905  CB  GLN A 812     -23.848  18.358  41.478  1.00  0.00           C  \nATOM    906  CG  GLN A 812     -23.908  19.871  41.638  1.00  0.00           C  \nATOM    907  CD  GLN A 812     -24.753  20.532  40.552  1.00  0.00           C  \nATOM    908  OE1 GLN A 812     -25.871  20.991  40.819  1.00  0.00           O  \nATOM    909  NE2 GLN A 812     -24.226  20.574  39.313  1.00  0.00           N  \nATOM    910  N   TYR A 813     -21.082  17.194  40.763  1.00  0.00           N  \nATOM    911  CA  TYR A 813     -19.658  17.292  40.781  1.00  0.00           C  \nATOM    912  C   TYR A 813     -19.003  16.869  39.477  1.00  0.00           C  \nATOM    913  O   TYR A 813     -18.197  17.611  38.907  1.00  0.00           O  \nATOM    914  CB  TYR A 813     -19.128  16.506  41.959  1.00  0.00           C  \nATOM    915  CG  TYR A 813     -19.063  17.397  43.157  1.00  0.00           C  \nATOM    916  CD1 TYR A 813     -18.020  18.321  43.286  1.00  0.00           C  \nATOM    917  CD2 TYR A 813     -20.061  17.382  44.138  1.00  0.00           C  \nATOM    918  CE1 TYR A 813     -17.948  19.180  44.378  1.00  0.00           C  \nATOM    919  CE2 TYR A 813     -19.989  18.249  45.248  1.00  0.00           C  \nATOM    920  CZ  TYR A 813     -18.927  19.143  45.349  1.00  0.00           C  \nATOM    921  OH  TYR A 813     -18.805  20.020  46.405  1.00  0.00           O  \nATOM    922  N   LEU A 814     -19.366  15.684  39.000  1.00  0.00           N  \nATOM    923  CA  LEU A 814     -18.858  15.175  37.770  1.00  0.00           C  \nATOM    924  C   LEU A 814     -19.102  16.145  36.622  1.00  0.00           C  \nATOM    925  O   LEU A 814     -18.189  16.484  35.859  1.00  0.00           O  \nATOM    926  CB  LEU A 814     -19.534  13.864  37.503  1.00  0.00           C  \nATOM    927  CG  LEU A 814     -18.868  12.720  38.239  1.00  0.00           C  \nATOM    928  CD1 LEU A 814     -19.893  11.658  38.382  1.00  0.00           C  \nATOM    929  CD2 LEU A 814     -17.622  12.178  37.512  1.00  0.00           C  \nATOM    930  N   LEU A 815     -20.337  16.613  36.518  1.00  0.00           N  \nATOM    931  CA  LEU A 815     -20.731  17.527  35.451  1.00  0.00           C  \nATOM    932  C   LEU A 815     -20.025  18.857  35.548  1.00  0.00           C  \nATOM    933  O   LEU A 815     -19.709  19.459  34.530  1.00  0.00           O  \nATOM    934  CB  LEU A 815     -22.243  17.747  35.440  1.00  0.00           C  \nATOM    935  CG  LEU A 815     -23.090  16.623  34.862  1.00  0.00           C  \nATOM    936  CD1 LEU A 815     -24.487  17.099  34.685  1.00  0.00           C  \nATOM    937  CD2 LEU A 815     -22.491  16.219  33.522  1.00  0.00           C  \nATOM    938  N   ASN A 816     -19.775  19.310  36.770  1.00  0.00           N  \nATOM    939  CA  ASN A 816     -19.017  20.537  36.997  1.00  0.00           C  \nATOM    940  C   ASN A 816     -17.557  20.491  36.572  1.00  0.00           C  \nATOM    941  O   ASN A 816     -17.053  21.453  35.988  1.00  0.00           O  \nATOM    942  CB  ASN A 816     -19.084  20.926  38.455  1.00  0.00           C  \nATOM    943  CG  ASN A 816     -20.291  21.727  38.767  1.00  0.00           C  \nATOM    944  OD1 ASN A 816     -21.155  21.947  37.907  1.00  0.00           O  \nATOM    945  ND2 ASN A 816     -20.379  22.179  40.020  1.00  0.00           N  \nATOM    946  N   TRP A 817     -16.880  19.393  36.882  1.00  0.00           N  \nATOM    947  CA  TRP A 817     -15.516  19.237  36.470  1.00  0.00           C  \nATOM    948  C   TRP A 817     -15.414  19.205  34.963  1.00  0.00           C  \nATOM    949  O   TRP A 817     -14.473  19.732  34.380  1.00  0.00           O  \nATOM    950  CB  TRP A 817     -14.977  17.961  37.038  1.00  0.00           C  \nATOM    951  CG  TRP A 817     -15.054  17.940  38.477  1.00  0.00           C  \nATOM    952  CD1 TRP A 817     -14.996  19.012  39.317  1.00  0.00           C  \nATOM    953  CD2 TRP A 817     -15.159  16.783  39.302  1.00  0.00           C  \nATOM    954  NE1 TRP A 817     -15.077  18.591  40.628  1.00  0.00           N  \nATOM    955  CE2 TRP A 817     -15.176  17.224  40.646  1.00  0.00           C  \nATOM    956  CE3 TRP A 817     -15.258  15.410  39.040  1.00  0.00           C  \nATOM    957  CZ2 TRP A 817     -15.296  16.348  41.712  1.00  0.00           C  \nATOM    958  CZ3 TRP A 817     -15.372  14.539  40.111  1.00  0.00           C  \nATOM    959  CH2 TRP A 817     -15.388  15.011  41.425  1.00  0.00           C  \nATOM    960  N   CYS A 818     -16.405  18.602  34.331  1.00  0.00           N  \nATOM    961  CA  CYS A 818     -16.502  18.687  32.891  1.00  0.00           C  \nATOM    962  C   CYS A 818     -16.530  20.119  32.403  1.00  0.00           C  \nATOM    963  O   CYS A 818     -15.749  20.505  31.547  1.00  0.00           O  \nATOM    964  CB  CYS A 818     -17.691  17.895  32.398  1.00  0.00           C  \nATOM    965  SG  CYS A 818     -17.287  16.171  32.599  1.00  0.00           S  \nATOM    966  N   VAL A 819     -17.405  20.923  32.967  1.00  0.00           N  \nATOM    967  CA  VAL A 819     -17.371  22.327  32.624  1.00  0.00           C  \nATOM    968  C   VAL A 819     -15.993  22.948  32.912  1.00  0.00           C  \nATOM    969  O   VAL A 819     -15.427  23.647  32.066  1.00  0.00           O  \nATOM    970  CB  VAL A 819     -18.482  23.136  33.330  1.00  0.00           C  \nATOM    971  CG1 VAL A 819     -18.192  24.626  33.237  1.00  0.00           C  \nATOM    972  CG2 VAL A 819     -19.816  22.828  32.703  1.00  0.00           C  \nATOM    973  N   GLN A 820     -15.440  22.703  34.089  1.00  0.00           N  \nATOM    974  CA  GLN A 820     -14.280  23.466  34.460  1.00  0.00           C  \nATOM    975  C   GLN A 820     -13.108  23.080  33.600  1.00  0.00           C  \nATOM    976  O   GLN A 820     -12.328  23.951  33.222  1.00  0.00           O  \nATOM    977  CB  GLN A 820     -13.957  23.323  35.930  1.00  0.00           C  \nATOM    978  CG  GLN A 820     -14.996  23.931  36.851  1.00  0.00           C  \nATOM    979  CD  GLN A 820     -14.714  23.580  38.271  1.00  0.00           C  \nATOM    980  OE1 GLN A 820     -13.562  23.374  38.636  1.00  0.00           O  \nATOM    981  NE2 GLN A 820     -15.755  23.484  39.086  1.00  0.00           N  \nATOM    982  N   ILE A 821     -12.993  21.800  33.251  1.00  0.00           N  \nATOM    983  CA  ILE A 821     -11.913  21.385  32.364  1.00  0.00           C  \nATOM    984  C   ILE A 821     -12.096  21.928  30.927  1.00  0.00           C  \nATOM    985  O   ILE A 821     -11.137  22.389  30.283  1.00  0.00           O  \nATOM    986  CB  ILE A 821     -11.747  19.884  32.324  1.00  0.00           C  \nATOM    987  CG1 ILE A 821     -11.538  19.334  33.743  1.00  0.00           C  \nATOM    988  CG2 ILE A 821     -10.528  19.557  31.510  1.00  0.00           C  \nATOM    989  CD1 ILE A 821     -11.846  17.816  33.963  1.00  0.00           C  \nATOM    990  N   ALA A 822     -13.326  21.887  30.422  1.00  0.00           N  \nATOM    991  CA  ALA A 822     -13.607  22.483  29.127  1.00  0.00           C  \nATOM    992  C   ALA A 822     -13.170  23.941  29.198  1.00  0.00           C  \nATOM    993  O   ALA A 822     -12.467  24.418  28.297  1.00  0.00           O  \nATOM    994  CB  ALA A 822     -15.079  22.333  28.739  1.00  0.00           C  \nATOM    995  N   LYS A 823     -13.514  24.629  30.290  1.00  0.00           N  \nATOM    996  CA  LYS A 823     -13.058  26.001  30.476  1.00  0.00           C  \nATOM    997  C   LYS A 823     -11.538  26.124  30.414  1.00  0.00           C  \nATOM    998  O   LYS A 823     -11.006  26.849  29.571  1.00  0.00           O  \nATOM    999  CB  LYS A 823     -13.596  26.588  31.757  1.00  0.00           C  \nATOM   1000  CG  LYS A 823     -14.942  27.222  31.585  1.00  0.00           C  \nATOM   1001  CD  LYS A 823     -15.481  27.727  32.904  1.00  0.00           C  \nATOM   1002  CE  LYS A 823     -16.790  28.416  32.724  1.00  0.00           C  \nATOM   1003  NZ  LYS A 823     -17.178  28.903  34.036  1.00  0.00           N1+\nATOM   1004  N   GLY A 824     -10.845  25.396  31.285  1.00  0.00           N  \nATOM   1005  CA  GLY A 824      -9.399  25.410  31.277  1.00  0.00           C  \nATOM   1006  C   GLY A 824      -8.866  25.249  29.860  1.00  0.00           C  \nATOM   1007  O   GLY A 824      -8.051  26.056  29.363  1.00  0.00           O  \nATOM   1008  N   MET A 825      -9.360  24.209  29.186  1.00  0.00           N  \nATOM   1009  CA  MET A 825      -8.818  23.822  27.887  1.00  0.00           C  \nATOM   1010  C   MET A 825      -9.125  24.857  26.845  1.00  0.00           C  \nATOM   1011  O   MET A 825      -8.292  25.104  25.986  1.00  0.00           O  \nATOM   1012  CB  MET A 825      -9.344  22.472  27.457  1.00  0.00           C  \nATOM   1013  CG  MET A 825      -8.731  21.344  28.233  1.00  0.00           C  \nATOM   1014  SD  MET A 825      -6.964  21.228  27.991  1.00  0.00           S  \nATOM   1015  CE  MET A 825      -6.840  21.103  26.222  1.00  0.00           C  \nATOM   1016  N   ASN A 826     -10.300  25.470  26.931  1.00  0.00           N  \nATOM   1017  CA  ASN A 826     -10.653  26.502  25.973  1.00  0.00           C  \nATOM   1018  C   ASN A 826      -9.698  27.691  26.045  1.00  0.00           C  \nATOM   1019  O   ASN A 826      -9.239  28.192  25.017  1.00  0.00           O  \nATOM   1020  CB  ASN A 826     -12.073  26.982  26.200  1.00  0.00           C  \nATOM   1021  CG  ASN A 826     -12.456  28.098  25.262  1.00  0.00           C  \nATOM   1022  OD1 ASN A 826     -12.627  27.888  24.070  1.00  0.00           O  \nATOM   1023  ND2 ASN A 826     -12.595  29.287  25.799  1.00  0.00           N  \nATOM   1024  N   TYR A 827      -9.416  28.132  27.273  1.00  0.00           N  \nATOM   1025  CA  TYR A 827      -8.415  29.141  27.524  1.00  0.00           C  \nATOM   1026  C   TYR A 827      -7.153  28.752  26.767  1.00  0.00           C  \nATOM   1027  O   TYR A 827      -6.742  29.462  25.863  1.00  0.00           O  \nATOM   1028  CB  TYR A 827      -8.132  29.267  29.018  1.00  0.00           C  \nATOM   1029  CG  TYR A 827      -7.061  30.277  29.324  1.00  0.00           C  \nATOM   1030  CD1 TYR A 827      -7.367  31.615  29.439  1.00  0.00           C  \nATOM   1031  CD2 TYR A 827      -5.738  29.896  29.481  1.00  0.00           C  \nATOM   1032  CE1 TYR A 827      -6.396  32.539  29.696  1.00  0.00           C  \nATOM   1033  CE2 TYR A 827      -4.761  30.811  29.746  1.00  0.00           C  \nATOM   1034  CZ  TYR A 827      -5.093  32.132  29.845  1.00  0.00           C  \nATOM   1035  OH  TYR A 827      -4.128  33.070  30.122  1.00  0.00           O  \nATOM   1036  N   LEU A 828      -6.562  27.609  27.090  1.00  0.00           N  \nATOM   1037  CA  LEU A 828      -5.315  27.207  26.422  1.00  0.00           C  \nATOM   1038  C   LEU A 828      -5.417  27.333  24.907  1.00  0.00           C  \nATOM   1039  O   LEU A 828      -4.473  27.759  24.265  1.00  0.00           O  \nATOM   1040  CB  LEU A 828      -4.878  25.787  26.809  1.00  0.00           C  \nATOM   1041  CG  LEU A 828      -4.727  25.329  28.265  1.00  0.00           C  \nATOM   1042  CD1 LEU A 828      -3.824  24.119  28.329  1.00  0.00           C  \nATOM   1043  CD2 LEU A 828      -4.134  26.399  29.126  1.00  0.00           C  \nATOM   1044  N   GLU A 829      -6.567  26.963  24.341  1.00  0.00           N  \nATOM   1045  CA  GLU A 829      -6.824  27.172  22.916  1.00  0.00           C  \nATOM   1046  C   GLU A 829      -6.640  28.664  22.560  1.00  0.00           C  \nATOM   1047  O   GLU A 829      -5.759  28.981  21.755  1.00  0.00           O  \nATOM   1048  CB  GLU A 829      -8.180  26.601  22.472  1.00  0.00           C  \nATOM   1049  CG  GLU A 829      -8.314  26.466  20.953  1.00  0.00           C  \nATOM   1050  CD  GLU A 829      -9.555  25.689  20.476  1.00  0.00           C  \nATOM   1051  OE1 GLU A 829      -9.484  25.077  19.390  1.00  0.00           O  \nATOM   1052  OE2 GLU A 829     -10.614  25.672  21.154  1.00  0.00           O1-\nATOM   1053  N   ASP A 830      -7.412  29.568  23.176  1.00  0.00           N  \nATOM   1054  CA  ASP A 830      -7.156  31.005  23.038  1.00  0.00           C  \nATOM   1055  C   ASP A 830      -5.669  31.367  23.082  1.00  0.00           C  \nATOM   1056  O   ASP A 830      -5.189  32.096  22.215  1.00  0.00           O  \nATOM   1057  CB  ASP A 830      -7.864  31.800  24.108  1.00  0.00           C  \nATOM   1058  CG  ASP A 830      -9.354  31.734  23.980  1.00  0.00           C  \nATOM   1059  OD1 ASP A 830     -10.058  31.996  24.990  1.00  0.00           O  \nATOM   1060  OD2 ASP A 830      -9.833  31.419  22.866  1.00  0.00           O1-\nATOM   1061  N   ARG A 831      -4.924  30.871  24.067  1.00  0.00           N  \nATOM   1062  CA  ARG A 831      -3.498  31.151  24.104  1.00  0.00           C  \nATOM   1063  C   ARG A 831      -2.813  30.198  23.173  1.00  0.00           C  \nATOM   1064  O   ARG A 831      -1.762  29.679  23.516  1.00  0.00           O  \nATOM   1065  CB  ARG A 831      -2.920  30.976  25.507  1.00  0.00           C  \nATOM   1066  CG  ARG A 831      -3.740  31.605  26.603  1.00  0.00           C  \nATOM   1067  CD  ARG A 831      -3.315  33.032  26.882  1.00  0.00           C  \nATOM   1068  NE  ARG A 831      -1.983  33.104  27.491  1.00  0.00           N  \nATOM   1069  CZ  ARG A 831      -0.872  33.476  26.853  1.00  0.00           C  \nATOM   1070  NH1 ARG A 831      -0.900  33.827  25.572  1.00  0.00           N1+\nATOM   1071  NH2 ARG A 831       0.280  33.499  27.503  1.00  0.00           N  \nATOM   1072  N   ARG A 832      -3.414  29.930  22.016  1.00  0.00           N  \nATOM   1073  CA  ARG A 832      -2.785  29.099  20.976  1.00  0.00           C  \nATOM   1074  C   ARG A 832      -1.857  27.956  21.463  1.00  0.00           C  \nATOM   1075  O   ARG A 832      -0.764  27.791  20.933  1.00  0.00           O  \nATOM   1076  CB  ARG A 832      -2.031  29.999  19.980  1.00  0.00           C  \nATOM   1077  CG  ARG A 832      -2.549  29.981  18.514  1.00  0.00           C  \nATOM   1078  CD  ARG A 832      -2.674  31.412  17.964  1.00  0.00           C  \nATOM   1079  NE  ARG A 832      -3.792  32.096  18.636  1.00  0.00           N  \nATOM   1080  CZ  ARG A 832      -3.902  33.416  18.817  1.00  0.00           C  \nATOM   1081  NH1 ARG A 832      -2.950  34.243  18.377  1.00  0.00           N1+\nATOM   1082  NH2 ARG A 832      -4.975  33.911  19.444  1.00  0.00           N  \nATOM   1083  N   LEU A 833      -2.303  27.179  22.454  1.00  0.00           N  \nATOM   1084  CA  LEU A 833      -1.504  26.101  23.043  1.00  0.00           C  \nATOM   1085  C   LEU A 833      -2.128  24.744  22.942  1.00  0.00           C  \nATOM   1086  O   LEU A 833      -3.332  24.581  23.098  1.00  0.00           O  \nATOM   1087  CB  LEU A 833      -1.246  26.353  24.513  1.00  0.00           C  \nATOM   1088  CG  LEU A 833       0.029  27.097  24.903  1.00  0.00           C  \nATOM   1089  CD1 LEU A 833      -0.280  27.979  26.109  1.00  0.00           C  \nATOM   1090  CD2 LEU A 833       1.209  26.151  25.193  1.00  0.00           C  \nATOM   1091  N   VAL A 834      -1.289  23.755  22.715  1.00  0.00           N  \nATOM   1092  CA  VAL A 834      -1.744  22.389  22.660  1.00  0.00           C  \nATOM   1093  C   VAL A 834      -1.132  21.709  23.881  1.00  0.00           C  \nATOM   1094  O   VAL A 834       0.013  21.980  24.242  1.00  0.00           O  \nATOM   1095  CB  VAL A 834      -1.386  21.713  21.297  1.00  0.00           C  \nATOM   1096  CG1 VAL A 834      -1.161  20.231  21.454  1.00  0.00           C  \nATOM   1097  CG2 VAL A 834      -2.464  21.985  20.259  1.00  0.00           C  \nATOM   1098  N   HIS A 835      -1.915  20.866  24.545  1.00  0.00           N  \nATOM   1099  CA  HIS A 835      -1.499  20.302  25.805  1.00  0.00           C  \nATOM   1100  C   HIS A 835      -0.795  18.982  25.603  1.00  0.00           C  \nATOM   1101  O   HIS A 835       0.318  18.790  26.098  1.00  0.00           O  \nATOM   1102  CB  HIS A 835      -2.686  20.139  26.722  1.00  0.00           C  \nATOM   1103  CG  HIS A 835      -2.311  19.721  28.104  1.00  0.00           C  \nATOM   1104  ND1 HIS A 835      -1.814  18.470  28.390  1.00  0.00           N  \nATOM   1105  CD2 HIS A 835      -2.362  20.384  29.281  1.00  0.00           C  \nATOM   1106  CE1 HIS A 835      -1.580  18.378  29.685  1.00  0.00           C  \nATOM   1107  NE2 HIS A 835      -1.898  19.527  30.249  1.00  0.00           N  \nATOM   1108  N   ARG A 836      -1.454  18.074  24.870  1.00  0.00           N  \nATOM   1109  CA  ARG A 836      -0.904  16.738  24.494  1.00  0.00           C  \nATOM   1110  C   ARG A 836      -0.868  15.763  25.666  1.00  0.00           C  \nATOM   1111  O   ARG A 836      -0.051  14.846  25.674  1.00  0.00           O  \nATOM   1112  CB  ARG A 836       0.502  16.851  23.867  1.00  0.00           C  \nATOM   1113  CG  ARG A 836       0.514  17.642  22.584  1.00  0.00           C  \nATOM   1114  CD  ARG A 836       1.800  18.400  22.370  1.00  0.00           C  \nATOM   1115  NE  ARG A 836       2.690  17.772  21.383  1.00  0.00           N  \nATOM   1116  CZ  ARG A 836       3.888  17.234  21.634  1.00  0.00           C  \nATOM   1117  NH1 ARG A 836       4.399  17.202  22.869  1.00  0.00           N1+\nATOM   1118  NH2 ARG A 836       4.585  16.720  20.626  1.00  0.00           N  \nATOM   1119  N   ASP A 837      -1.725  15.963  26.664  1.00  0.00           N  \nATOM   1120  CA  ASP A 837      -1.728  15.076  27.805  1.00  0.00           C  \nATOM   1121  C   ASP A 837      -2.791  15.397  28.827  1.00  0.00           C  \nATOM   1122  O   ASP A 837      -2.560  15.308  30.044  1.00  0.00           O  \nATOM   1123  CB  ASP A 837      -0.375  15.046  28.474  1.00  0.00           C  \nATOM   1124  CG  ASP A 837      -0.070  13.693  29.024  1.00  0.00           C  \nATOM   1125  OD1 ASP A 837      -0.774  12.713  28.630  1.00  0.00           O  \nATOM   1126  OD2 ASP A 837       0.849  13.600  29.867  1.00  0.00           O1-\nATOM   1127  N   LEU A 838      -3.957  15.784  28.306  1.00  0.00           N  \nATOM   1128  CA  LEU A 838      -5.159  15.947  29.095  1.00  0.00           C  \nATOM   1129  C   LEU A 838      -5.543  14.560  29.576  1.00  0.00           C  \nATOM   1130  O   LEU A 838      -5.675  13.657  28.783  1.00  0.00           O  \nATOM   1131  CB  LEU A 838      -6.249  16.560  28.226  1.00  0.00           C  \nATOM   1132  CG  LEU A 838      -7.521  17.110  28.872  1.00  0.00           C  \nATOM   1133  CD1 LEU A 838      -7.219  18.071  30.002  1.00  0.00           C  \nATOM   1134  CD2 LEU A 838      -8.380  17.797  27.831  1.00  0.00           C  \nATOM   1135  N   ALA A 839      -5.690  14.392  30.879  1.00  0.00           N  \nATOM   1136  CA  ALA A 839      -5.892  13.095  31.470  1.00  0.00           C  \nATOM   1137  C   ALA A 839      -6.281  13.315  32.898  1.00  0.00           C  \nATOM   1138  O   ALA A 839      -5.767  14.206  33.547  1.00  0.00           O  \nATOM   1139  CB  ALA A 839      -4.619  12.353  31.435  1.00  0.00           C  \nATOM   1140  N   ALA A 840      -7.162  12.484  33.422  1.00  0.00           N  \nATOM   1141  CA  ALA A 840      -7.577  12.642  34.812  1.00  0.00           C  \nATOM   1142  C   ALA A 840      -6.380  12.783  35.757  1.00  0.00           C  \nATOM   1143  O   ALA A 840      -6.472  13.497  36.784  1.00  0.00           O  \nATOM   1144  CB  ALA A 840      -8.472  11.492  35.255  1.00  0.00           C  \nATOM   1145  N   ARG A 841      -5.267  12.117  35.401  1.00  0.00           N  \nATOM   1146  CA  ARG A 841      -4.081  12.069  36.261  1.00  0.00           C  \nATOM   1147  C   ARG A 841      -3.430  13.419  36.275  1.00  0.00           C  \nATOM   1148  O   ARG A 841      -2.707  13.744  37.218  1.00  0.00           O  \nATOM   1149  CB  ARG A 841      -3.095  11.038  35.765  1.00  0.00           C  \nATOM   1150  CG  ARG A 841      -1.974  11.572  34.918  1.00  0.00           C  \nATOM   1151  CD  ARG A 841      -1.236  10.414  34.259  1.00  0.00           C  \nATOM   1152  NE  ARG A 841      -1.860  10.062  32.984  1.00  0.00           N  \nATOM   1153  CZ  ARG A 841      -1.521  10.622  31.826  1.00  0.00           C  \nATOM   1154  NH1 ARG A 841      -0.549  11.549  31.803  1.00  0.00           N1+\nATOM   1155  NH2 ARG A 841      -2.141  10.258  30.702  1.00  0.00           N  \nATOM   1156  N   ASN A 842      -3.728  14.197  35.233  1.00  0.00           N  \nATOM   1157  CA  ASN A 842      -3.223  15.551  35.081  1.00  0.00           C  \nATOM   1158  C   ASN A 842      -4.167  16.714  35.338  1.00  0.00           C  \nATOM   1159  O   ASN A 842      -3.893  17.829  34.930  1.00  0.00           O  \nATOM   1160  CB  ASN A 842      -2.617  15.694  33.713  1.00  0.00           C  \nATOM   1161  CG  ASN A 842      -1.318  14.995  33.620  1.00  0.00           C  \nATOM   1162  OD1 ASN A 842      -0.630  14.773  34.645  1.00  0.00           O  \nATOM   1163  ND2 ASN A 842      -0.943  14.635  32.395  1.00  0.00           N  \nATOM   1164  N   VAL A 843      -5.280  16.453  35.993  1.00  0.00           N  \nATOM   1165  CA  VAL A 843      -6.159  17.515  36.447  1.00  0.00           C  \nATOM   1166  C   VAL A 843      -6.027  17.411  37.937  1.00  0.00           C  \nATOM   1167  O   VAL A 843      -6.128  16.303  38.459  1.00  0.00           O  \nATOM   1168  CB  VAL A 843      -7.650  17.267  36.033  1.00  0.00           C  \nATOM   1169  CG1 VAL A 843      -8.598  18.163  36.814  1.00  0.00           C  \nATOM   1170  CG2 VAL A 843      -7.843  17.466  34.532  1.00  0.00           C  \nATOM   1171  N   LEU A 844      -5.780  18.526  38.622  1.00  0.00           N  \nATOM   1172  CA  LEU A 844      -5.750  18.506  40.087  1.00  0.00           C  \nATOM   1173  C   LEU A 844      -6.880  19.291  40.687  1.00  0.00           C  \nATOM   1174  O   LEU A 844      -7.572  20.031  39.993  1.00  0.00           O  \nATOM   1175  CB  LEU A 844      -4.441  19.029  40.678  1.00  0.00           C  \nATOM   1176  CG  LEU A 844      -3.135  18.666  39.999  1.00  0.00           C  \nATOM   1177  CD1 LEU A 844      -2.187  19.829  40.181  1.00  0.00           C  \nATOM   1178  CD2 LEU A 844      -2.569  17.409  40.575  1.00  0.00           C  \nATOM   1179  N   VAL A 845      -6.991  19.147  42.004  1.00  0.00           N  \nATOM   1180  CA  VAL A 845      -8.145  19.542  42.802  1.00  0.00           C  \nATOM   1181  C   VAL A 845      -7.740  20.588  43.884  1.00  0.00           C  \nATOM   1182  O   VAL A 845      -6.933  20.305  44.788  1.00  0.00           O  \nATOM   1183  CB  VAL A 845      -8.803  18.255  43.408  1.00  0.00           C  \nATOM   1184  CG1 VAL A 845     -10.130  18.561  44.087  1.00  0.00           C  \nATOM   1185  CG2 VAL A 845      -8.952  17.202  42.324  1.00  0.00           C  \nATOM   1186  N   LYS A 846      -8.265  21.805  43.773  1.00  0.00           N  \nATOM   1187  CA  LYS A 846      -8.039  22.807  44.798  1.00  0.00           C  \nATOM   1188  C   LYS A 846      -9.015  22.539  45.916  1.00  0.00           C  \nATOM   1189  O   LYS A 846      -8.613  22.378  47.064  1.00  0.00           O  \nATOM   1190  CB  LYS A 846      -8.273  24.206  44.263  1.00  0.00           C  \nATOM   1191  CG  LYS A 846      -8.248  25.267  45.325  1.00  0.00           C  \nATOM   1192  CD  LYS A 846      -8.839  26.580  44.853  1.00  0.00           C  \nATOM   1193  CE  LYS A 846      -8.168  27.680  45.658  1.00  0.00           C  \nATOM   1194  NZ  LYS A 846      -8.768  29.056  45.589  1.00  0.00           N1+\nATOM   1195  N   THR A 847     -10.303  22.537  45.569  1.00  0.00           N  \nATOM   1196  CA  THR A 847     -11.388  22.074  46.430  1.00  0.00           C  \nATOM   1197  C   THR A 847     -12.122  21.022  45.593  1.00  0.00           C  \nATOM   1198  O   THR A 847     -11.864  20.899  44.390  1.00  0.00           O  \nATOM   1199  CB  THR A 847     -12.384  23.207  46.752  1.00  0.00           C  \nATOM   1200  OG1 THR A 847     -13.201  23.494  45.598  1.00  0.00           O  \nATOM   1201  CG2 THR A 847     -11.655  24.454  47.161  1.00  0.00           C  \nATOM   1202  N   PRO A 848     -13.016  20.233  46.218  1.00  0.00           N  \nATOM   1203  CA  PRO A 848     -13.978  19.450  45.434  1.00  0.00           C  \nATOM   1204  C   PRO A 848     -14.733  20.169  44.312  1.00  0.00           C  \nATOM   1205  O   PRO A 848     -15.085  19.520  43.324  1.00  0.00           O  \nATOM   1206  CB  PRO A 848     -14.924  18.897  46.506  1.00  0.00           C  \nATOM   1207  CG  PRO A 848     -13.983  18.620  47.640  1.00  0.00           C  \nATOM   1208  CD  PRO A 848     -13.122  19.895  47.653  1.00  0.00           C  \nATOM   1209  N   GLN A 849     -14.977  21.467  44.414  1.00  0.00           N  \nATOM   1210  CA  GLN A 849     -15.631  22.127  43.273  1.00  0.00           C  \nATOM   1211  C   GLN A 849     -14.690  23.053  42.527  1.00  0.00           C  \nATOM   1212  O   GLN A 849     -15.112  24.054  41.920  1.00  0.00           O  \nATOM   1213  CB  GLN A 849     -16.915  22.849  43.666  1.00  0.00           C  \nATOM   1214  CG  GLN A 849     -16.718  23.807  44.791  1.00  0.00           C  \nATOM   1215  CD  GLN A 849     -16.816  23.123  46.113  1.00  0.00           C  \nATOM   1216  OE1 GLN A 849     -16.049  22.204  46.435  1.00  0.00           O  \nATOM   1217  NE2 GLN A 849     -17.784  23.556  46.895  1.00  0.00           N  \nATOM   1218  N   HIS A 850     -13.409  22.702  42.566  1.00  0.00           N  \nATOM   1219  CA  HIS A 850     -12.442  23.457  41.837  1.00  0.00           C  \nATOM   1220  C   HIS A 850     -11.339  22.597  41.310  1.00  0.00           C  \nATOM   1221  O   HIS A 850     -10.403  22.290  42.019  1.00  0.00           O  \nATOM   1222  CB  HIS A 850     -11.855  24.537  42.711  1.00  0.00           C  \nATOM   1223  CG  HIS A 850     -11.348  25.692  41.930  1.00  0.00           C  \nATOM   1224  ND1 HIS A 850     -11.906  26.943  42.016  1.00  0.00           N  \nATOM   1225  CD2 HIS A 850     -10.367  25.773  41.001  1.00  0.00           C  \nATOM   1226  CE1 HIS A 850     -11.271  27.758  41.196  1.00  0.00           C  \nATOM   1227  NE2 HIS A 850     -10.331  27.074  40.567  1.00  0.00           N  \nATOM   1228  N   VAL A 851     -11.430  22.223  40.053  1.00  0.00           N  \nATOM   1229  CA  VAL A 851     -10.322  21.537  39.434  1.00  0.00           C  \nATOM   1230  C   VAL A 851      -9.531  22.477  38.504  1.00  0.00           C  \nATOM   1231  O   VAL A 851     -10.098  23.442  37.954  1.00  0.00           O  \nATOM   1232  CB  VAL A 851     -10.798  20.271  38.688  1.00  0.00           C  \nATOM   1233  CG1 VAL A 851     -11.505  19.323  39.646  1.00  0.00           C  \nATOM   1234  CG2 VAL A 851     -11.697  20.631  37.511  1.00  0.00           C  \nATOM   1235  N   LYS A 852      -8.234  22.195  38.332  1.00  0.00           N  \nATOM   1236  CA  LYS A 852      -7.373  22.962  37.433  1.00  0.00           C  \nATOM   1237  C   LYS A 852      -6.564  22.023  36.580  1.00  0.00           C  \nATOM   1238  O   LYS A 852      -6.197  20.946  37.036  1.00  0.00           O  \nATOM   1239  CB  LYS A 852      -6.436  23.854  38.237  1.00  0.00           C  \nATOM   1240  CG  LYS A 852      -7.167  25.007  38.865  1.00  0.00           C  \nATOM   1241  CD  LYS A 852      -6.306  25.802  39.802  1.00  0.00           C  \nATOM   1242  CE  LYS A 852      -7.049  27.034  40.288  1.00  0.00           C  \nATOM   1243  NZ  LYS A 852      -6.088  28.053  40.790  1.00  0.00           N1+\nATOM   1244  N   ILE A 853      -6.285  22.425  35.341  1.00  0.00           N  \nATOM   1245  CA  ILE A 853      -5.460  21.617  34.459  1.00  0.00           C  \nATOM   1246  C   ILE A 853      -3.994  21.884  34.725  1.00  0.00           C  \nATOM   1247  O   ILE A 853      -3.579  23.014  34.930  1.00  0.00           O  \nATOM   1248  CB  ILE A 853      -5.762  21.859  32.982  1.00  0.00           C  \nATOM   1249  CG1 ILE A 853      -7.199  21.506  32.663  1.00  0.00           C  \nATOM   1250  CG2 ILE A 853      -4.906  20.976  32.116  1.00  0.00           C  \nATOM   1251  CD1 ILE A 853      -7.737  22.217  31.466  1.00  0.00           C  \nATOM   1252  N   THR A 854      -3.208  20.824  34.713  1.00  0.00           N  \nATOM   1253  CA  THR A 854      -1.801  20.950  34.981  1.00  0.00           C  \nATOM   1254  C   THR A 854      -0.954  20.060  34.076  1.00  0.00           C  \nATOM   1255  O   THR A 854      -1.439  19.563  33.053  1.00  0.00           O  \nATOM   1256  CB  THR A 854      -1.487  20.695  36.478  1.00  0.00           C  \nATOM   1257  OG1 THR A 854      -0.286  21.395  36.845  1.00  0.00           O  \nATOM   1258  CG2 THR A 854      -1.339  19.195  36.780  1.00  0.00           C  \nATOM   1259  N   ASP A 855       0.320  19.964  34.444  1.00  0.00           N  \nATOM   1260  CA  ASP A 855       1.344  19.214  33.727  1.00  0.00           C  \nATOM   1261  C   ASP A 855       1.547  19.651  32.287  1.00  0.00           C  \nATOM   1262  O   ASP A 855       0.884  19.159  31.381  1.00  0.00           O  \nATOM   1263  CB  ASP A 855       1.151  17.712  33.859  1.00  0.00           C  \nATOM   1264  CG  ASP A 855       1.948  17.128  35.009  1.00  0.00           C  \nATOM   1265  OD1 ASP A 855       3.188  17.062  34.901  1.00  0.00           O  \nATOM   1266  OD2 ASP A 855       1.337  16.735  36.022  1.00  0.00           O1-\nATOM   1267  N   PHE A 856       2.479  20.581  32.090  1.00  0.00           N  \nATOM   1268  CA  PHE A 856       2.771  21.111  30.769  1.00  0.00           C  \nATOM   1269  C   PHE A 856       4.060  20.584  30.157  1.00  0.00           C  \nATOM   1270  O   PHE A 856       4.484  21.053  29.099  1.00  0.00           O  \nATOM   1271  CB  PHE A 856       2.709  22.625  30.790  1.00  0.00           C  \nATOM   1272  CG  PHE A 856       1.374  23.133  31.204  1.00  0.00           C  \nATOM   1273  CD1 PHE A 856       0.311  23.132  30.305  1.00  0.00           C  \nATOM   1274  CD2 PHE A 856       1.152  23.561  32.502  1.00  0.00           C  \nATOM   1275  CE1 PHE A 856      -0.947  23.582  30.691  1.00  0.00           C  \nATOM   1276  CE2 PHE A 856      -0.088  24.014  32.888  1.00  0.00           C  \nATOM   1277  CZ  PHE A 856      -1.141  24.016  31.982  1.00  0.00           C  \nATOM   1278  N   GLY A 857       4.649  19.585  30.809  1.00  0.00           N  \nATOM   1279  CA  GLY A 857       5.795  18.870  30.265  1.00  0.00           C  \nATOM   1280  C   GLY A 857       5.667  18.383  28.826  1.00  0.00           C  \nATOM   1281  O   GLY A 857       6.588  17.768  28.313  1.00  0.00           O  \nATOM   1282  N   LEU A 858       4.546  18.651  28.163  1.00  0.00           N  \nATOM   1283  CA  LEU A 858       4.326  18.121  26.824  1.00  0.00           C  \nATOM   1284  C   LEU A 858       3.716  19.126  25.871  1.00  0.00           C  \nATOM   1285  O   LEU A 858       3.450  18.796  24.730  1.00  0.00           O  \nATOM   1286  CB  LEU A 858       3.420  16.886  26.894  1.00  0.00           C  \nATOM   1287  CG  LEU A 858       3.986  15.456  26.805  1.00  0.00           C  \nATOM   1288  CD1 LEU A 858       3.564  14.607  28.021  1.00  0.00           C  \nATOM   1289  CD2 LEU A 858       3.664  14.743  25.478  1.00  0.00           C  \nATOM   1290  N   ALA A 859       3.506  20.350  26.338  1.00  0.00           N  \nATOM   1291  CA  ALA A 859       2.752  21.348  25.593  1.00  0.00           C  \nATOM   1292  C   ALA A 859       3.461  21.808  24.325  1.00  0.00           C  \nATOM   1293  O   ALA A 859       4.616  21.472  24.116  1.00  0.00           O  \nATOM   1294  CB  ALA A 859       2.446  22.515  26.484  1.00  0.00           C  \nATOM   1295  N   LYS A 860       2.749  22.561  23.481  1.00  0.00           N  \nATOM   1296  CA  LYS A 860       3.272  23.156  22.237  1.00  0.00           C  \nATOM   1297  C   LYS A 860       2.438  24.349  21.806  1.00  0.00           C  \nATOM   1298  O   LYS A 860       1.249  24.398  22.094  1.00  0.00           O  \nATOM   1299  CB  LYS A 860       3.215  22.154  21.078  1.00  0.00           C  \nATOM   1300  CG  LYS A 860       4.348  21.127  20.997  1.00  0.00           C  \nATOM   1301  CD  LYS A 860       5.689  21.766  20.573  1.00  0.00           C  \nATOM   1302  CE  LYS A 860       6.662  21.807  21.787  1.00  0.00           C  \nATOM   1303  NZ  LYS A 860       7.797  22.788  21.596  1.00  0.00           N1+\nATOM   1304  N   LEU A 861       3.062  25.309  21.124  1.00  0.00           N  \nATOM   1305  CA  LEU A 861       2.334  26.249  20.265  1.00  0.00           C  \nATOM   1306  C   LEU A 861       1.880  25.469  19.047  1.00  0.00           C  \nATOM   1307  O   LEU A 861       2.652  24.655  18.532  1.00  0.00           O  \nATOM   1308  CB  LEU A 861       3.241  27.357  19.754  1.00  0.00           C  \nATOM   1309  CG  LEU A 861       3.731  28.515  20.619  1.00  0.00           C  \nATOM   1310  CD1 LEU A 861       4.240  29.651  19.689  1.00  0.00           C  \nATOM   1311  CD2 LEU A 861       2.665  29.026  21.610  1.00  0.00           C  \nATOM   1312  N   LEU A 862       0.659  25.735  18.573  1.00  0.00           N  \nATOM   1313  CA  LEU A 862       0.013  24.951  17.500  1.00  0.00           C  \nATOM   1314  C   LEU A 862       0.685  25.109  16.137  1.00  0.00           C  \nATOM   1315  O   LEU A 862       0.705  26.209  15.575  1.00  0.00           O  \nATOM   1316  CB  LEU A 862      -1.470  25.321  17.387  1.00  0.00           C  \nATOM   1317  CG  LEU A 862      -2.223  24.874  16.134  1.00  0.00           C  \nATOM   1318  CD1 LEU A 862      -2.535  23.399  16.219  1.00  0.00           C  \nATOM   1319  CD2 LEU A 862      -3.485  25.678  15.966  1.00  0.00           C  \nATOM   1320  N   GLY A 863       1.223  24.006  15.606  1.00  0.00           N  \nATOM   1321  CA  GLY A 863       1.883  24.010  14.288  1.00  0.00           C  \nATOM   1322  C   GLY A 863       3.412  23.970  14.264  1.00  0.00           C  \nATOM   1323  O   GLY A 863       4.012  23.684  13.216  1.00  0.00           O  \nATOM   1324  N   ALA A 864       4.044  24.261  15.405  1.00  0.00           N  \nATOM   1325  CA  ALA A 864       5.508  24.190  15.543  1.00  0.00           C  \nATOM   1326  C   ALA A 864       6.000  22.732  15.610  1.00  0.00           C  \nATOM   1327  O   ALA A 864       5.190  21.789  15.591  1.00  0.00           O  \nATOM   1328  CB  ALA A 864       5.973  24.992  16.778  1.00  0.00           C  \nATOM   1329  N   GLU A 865       7.327  22.544  15.657  1.00  0.00           N  \nATOM   1330  CA  GLU A 865       7.868  21.211  15.951  1.00  0.00           C  \nATOM   1331  C   GLU A 865       8.694  21.223  17.234  1.00  0.00           C  \nATOM   1332  O   GLU A 865       9.262  22.258  17.623  1.00  0.00           O  \nATOM   1333  CB  GLU A 865       8.747  20.654  14.806  1.00  0.00           C  \nATOM   1334  CG  GLU A 865       8.137  20.659  13.388  1.00  0.00           C  \nATOM   1335  CD  GLU A 865       8.742  21.857  12.572  1.00  0.00           C  \nATOM   1336  OE1 GLU A 865       9.555  22.689  13.130  1.00  0.00           O  \nATOM   1337  OE2 GLU A 865       8.405  21.949  11.372  1.00  0.00           O1-\nATOM   1338  N   GLU A 866       8.736  20.063  17.887  1.00  0.00           N  \nATOM   1339  CA  GLU A 866       9.815  19.730  18.806  1.00  0.00           C  \nATOM   1340  C   GLU A 866      10.125  18.255  18.616  1.00  0.00           C  \nATOM   1341  O   GLU A 866      11.210  17.908  18.164  1.00  0.00           O  \nATOM   1342  CB  GLU A 866       9.459  20.034  20.268  1.00  0.00           C  \nATOM   1343  CG  GLU A 866      10.672  20.080  21.206  1.00  0.00           C  \nATOM   1344  CD  GLU A 866      11.614  18.895  21.005  1.00  0.00           C  \nATOM   1345  OE1 GLU A 866      12.700  19.086  20.411  1.00  0.00           O  \nATOM   1346  OE2 GLU A 866      11.248  17.763  21.404  1.00  0.00           O1-\nATOM   1347  N   VAL A 876       4.696   8.488  26.105  1.00  0.00           N1+\nATOM   1348  CA  VAL A 876       3.575   8.410  25.168  1.00  0.00           C  \nATOM   1349  C   VAL A 876       2.299   7.801  25.808  1.00  0.00           C  \nATOM   1350  O   VAL A 876       2.218   6.578  26.020  1.00  0.00           O  \nATOM   1351  CB  VAL A 876       3.973   7.674  23.847  1.00  0.00           C  \nATOM   1352  CG1 VAL A 876       4.163   8.687  22.732  1.00  0.00           C  \nATOM   1353  CG2 VAL A 876       5.241   6.768  24.043  1.00  0.00           C  \nATOM   1354  N   PRO A 877       1.300   8.653  26.129  1.00  0.00           N  \nATOM   1355  CA  PRO A 877       0.032   8.142  26.678  1.00  0.00           C  \nATOM   1356  C   PRO A 877      -0.867   7.742  25.510  1.00  0.00           C  \nATOM   1357  O   PRO A 877      -1.656   8.558  25.022  1.00  0.00           O  \nATOM   1358  CB  PRO A 877      -0.528   9.350  27.428  1.00  0.00           C  \nATOM   1359  CG  PRO A 877      -0.010  10.536  26.635  1.00  0.00           C  \nATOM   1360  CD  PRO A 877       1.291  10.121  25.974  1.00  0.00           C  \nATOM   1361  N   ILE A 878      -0.711   6.508  25.044  1.00  0.00           N  \nATOM   1362  CA  ILE A 878      -1.261   6.125  23.752  1.00  0.00           C  \nATOM   1363  C   ILE A 878      -2.776   6.067  23.800  1.00  0.00           C  \nATOM   1364  O   ILE A 878      -3.466   6.499  22.872  1.00  0.00           O  \nATOM   1365  CB  ILE A 878      -0.623   4.806  23.249  1.00  0.00           C  \nATOM   1366  CG1 ILE A 878       0.516   5.120  22.281  1.00  0.00           C  \nATOM   1367  CG2 ILE A 878      -1.627   3.915  22.552  1.00  0.00           C  \nATOM   1368  CD1 ILE A 878       0.070   5.824  21.005  1.00  0.00           C  \nATOM   1369  N   LYS A 879      -3.277   5.570  24.927  1.00  0.00           N  \nATOM   1370  CA  LYS A 879      -4.688   5.289  25.110  1.00  0.00           C  \nATOM   1371  C   LYS A 879      -5.510   6.571  25.273  1.00  0.00           C  \nATOM   1372  O   LYS A 879      -6.732   6.524  25.373  1.00  0.00           O  \nATOM   1373  CB  LYS A 879      -4.862   4.364  26.317  1.00  0.00           C  \nATOM   1374  CG  LYS A 879      -4.146   3.019  26.195  1.00  0.00           C  \nATOM   1375  CD  LYS A 879      -4.300   2.217  27.478  1.00  0.00           C  \nATOM   1376  CE  LYS A 879      -4.452   0.721  27.201  1.00  0.00           C  \nATOM   1377  NZ  LYS A 879      -4.620  -0.144  28.433  1.00  0.00           N1+\nATOM   1378  N   TRP A 880      -4.845   7.718  25.293  1.00  0.00           N  \nATOM   1379  CA  TRP A 880      -5.535   8.985  25.429  1.00  0.00           C  \nATOM   1380  C   TRP A 880      -5.462   9.822  24.144  1.00  0.00           C  \nATOM   1381  O   TRP A 880      -5.919  10.968  24.112  1.00  0.00           O  \nATOM   1382  CB  TRP A 880      -4.932   9.776  26.574  1.00  0.00           C  \nATOM   1383  CG  TRP A 880      -5.401   9.438  27.958  1.00  0.00           C  \nATOM   1384  CD1 TRP A 880      -6.245  10.175  28.718  1.00  0.00           C  \nATOM   1385  CD2 TRP A 880      -4.986   8.335  28.777  1.00  0.00           C  \nATOM   1386  NE1 TRP A 880      -6.403   9.602  29.941  1.00  0.00           N  \nATOM   1387  CE2 TRP A 880      -5.642   8.469  30.009  1.00  0.00           C  \nATOM   1388  CE3 TRP A 880      -4.126   7.243  28.585  1.00  0.00           C  \nATOM   1389  CZ2 TRP A 880      -5.486   7.540  31.057  1.00  0.00           C  \nATOM   1390  CZ3 TRP A 880      -3.968   6.316  29.634  1.00  0.00           C  \nATOM   1391  CH2 TRP A 880      -4.650   6.477  30.851  1.00  0.00           C  \nATOM   1392  N   MET A 881      -4.920   9.236  23.081  1.00  0.00           N  \nATOM   1393  CA  MET A 881      -4.571   9.991  21.883  1.00  0.00           C  \nATOM   1394  C   MET A 881      -5.554   9.864  20.747  1.00  0.00           C  \nATOM   1395  O   MET A 881      -6.046   8.782  20.441  1.00  0.00           O  \nATOM   1396  CB  MET A 881      -3.194   9.564  21.382  1.00  0.00           C  \nATOM   1397  CG  MET A 881      -2.114   9.575  22.462  1.00  0.00           C  \nATOM   1398  SD  MET A 881      -0.411   9.309  21.923  1.00  0.00           S  \nATOM   1399  CE  MET A 881      -0.345  10.209  20.362  1.00  0.00           C  \nATOM   1400  N   ALA A 882      -5.801  10.992  20.103  1.00  0.00           N  \nATOM   1401  CA  ALA A 882      -6.484  11.030  18.829  1.00  0.00           C  \nATOM   1402  C   ALA A 882      -5.766  10.132  17.820  1.00  0.00           C  \nATOM   1403  O   ALA A 882      -4.670   9.654  18.079  1.00  0.00           O  \nATOM   1404  CB  ALA A 882      -6.551  12.464  18.331  1.00  0.00           C  \nATOM   1405  N   LEU A 883      -6.389   9.896  16.670  1.00  0.00           N  \nATOM   1406  CA  LEU A 883      -5.824   9.010  15.653  1.00  0.00           C  \nATOM   1407  C   LEU A 883      -4.685   9.691  14.911  1.00  0.00           C  \nATOM   1408  O   LEU A 883      -3.576   9.149  14.915  1.00  0.00           O  \nATOM   1409  CB  LEU A 883      -6.893   8.522  14.673  1.00  0.00           C  \nATOM   1410  CG  LEU A 883      -6.593   7.182  14.002  1.00  0.00           C  \nATOM   1411  CD1 LEU A 883      -6.727   6.024  14.988  1.00  0.00           C  \nATOM   1412  CD2 LEU A 883      -7.537   6.997  12.840  1.00  0.00           C  \nATOM   1413  N   GLU A 884      -4.937  10.868  14.313  1.00  0.00           N  \nATOM   1414  CA  GLU A 884      -3.883  11.605  13.594  1.00  0.00           C  \nATOM   1415  C   GLU A 884      -2.640  11.721  14.444  1.00  0.00           C  \nATOM   1416  O   GLU A 884      -1.551  11.932  13.938  1.00  0.00           O  \nATOM   1417  CB  GLU A 884      -4.284  13.029  13.199  1.00  0.00           C  \nATOM   1418  CG  GLU A 884      -5.727  13.374  13.342  1.00  0.00           C  \nATOM   1419  CD  GLU A 884      -6.051  13.909  14.717  1.00  0.00           C  \nATOM   1420  OE1 GLU A 884      -5.821  15.128  14.969  1.00  0.00           O  \nATOM   1421  OE2 GLU A 884      -6.539  13.097  15.534  1.00  0.00           O1-\nATOM   1422  N   SER A 885      -2.827  11.614  15.753  1.00  0.00           N  \nATOM   1423  CA  SER A 885      -1.733  11.654  16.695  1.00  0.00           C  \nATOM   1424  C   SER A 885      -0.898  10.388  16.586  1.00  0.00           C  \nATOM   1425  O   SER A 885       0.297  10.450  16.280  1.00  0.00           O  \nATOM   1426  CB  SER A 885      -2.281  11.834  18.099  1.00  0.00           C  \nATOM   1427  OG  SER A 885      -2.977  13.059  18.180  1.00  0.00           O  \nATOM   1428  N   ILE A 886      -1.531   9.237  16.798  1.00  0.00           N  \nATOM   1429  CA  ILE A 886      -0.794   7.964  16.831  1.00  0.00           C  \nATOM   1430  C   ILE A 886      -0.165   7.612  15.477  1.00  0.00           C  \nATOM   1431  O   ILE A 886       0.972   7.160  15.421  1.00  0.00           O  \nATOM   1432  CB  ILE A 886      -1.634   6.769  17.394  1.00  0.00           C  \nATOM   1433  CG1 ILE A 886      -2.513   7.211  18.577  1.00  0.00           C  \nATOM   1434  CG2 ILE A 886      -0.704   5.671  17.858  1.00  0.00           C  \nATOM   1435  CD1 ILE A 886      -3.528   6.187  19.086  1.00  0.00           C  \nATOM   1436  N   LEU A 887      -0.882   7.856  14.392  1.00  0.00           N  \nATOM   1437  CA  LEU A 887      -0.387   7.488  13.075  1.00  0.00           C  \nATOM   1438  C   LEU A 887       0.393   8.573  12.315  1.00  0.00           C  \nATOM   1439  O   LEU A 887       0.959   8.285  11.253  1.00  0.00           O  \nATOM   1440  CB  LEU A 887      -1.546   7.034  12.188  1.00  0.00           C  \nATOM   1441  CG  LEU A 887      -2.641   6.065  12.611  1.00  0.00           C  \nATOM   1442  CD1 LEU A 887      -3.594   6.011  11.441  1.00  0.00           C  \nATOM   1443  CD2 LEU A 887      -2.115   4.673  12.977  1.00  0.00           C  \nATOM   1444  N   HIS A 888       0.401   9.814  12.806  1.00  0.00           N  \nATOM   1445  CA  HIS A 888       0.917  10.947  12.009  1.00  0.00           C  \nATOM   1446  C   HIS A 888       1.502  12.054  12.850  1.00  0.00           C  \nATOM   1447  O   HIS A 888       1.716  13.161  12.353  1.00  0.00           O  \nATOM   1448  CB  HIS A 888      -0.207  11.580  11.179  1.00  0.00           C  \nATOM   1449  CG  HIS A 888      -0.802  10.670  10.157  1.00  0.00           C  \nATOM   1450  ND1 HIS A 888      -1.167   9.370  10.435  1.00  0.00           N  \nATOM   1451  CD2 HIS A 888      -1.124  10.882   8.859  1.00  0.00           C  \nATOM   1452  CE1 HIS A 888      -1.662   8.809   9.350  1.00  0.00           C  \nATOM   1453  NE2 HIS A 888      -1.653   9.707   8.380  1.00  0.00           N  \nATOM   1454  N   ARG A 889       1.704  11.780  14.131  1.00  0.00           N  \nATOM   1455  CA  ARG A 889       2.142  12.794  15.077  1.00  0.00           C  \nATOM   1456  C   ARG A 889       1.484  14.174  14.909  1.00  0.00           C  \nATOM   1457  O   ARG A 889       2.042  15.162  15.346  1.00  0.00           O  \nATOM   1458  CB  ARG A 889       3.667  12.894  15.051  1.00  0.00           C  \nATOM   1459  CG  ARG A 889       4.340  11.597  15.501  1.00  0.00           C  \nATOM   1460  CD  ARG A 889       5.852  11.599  15.235  1.00  0.00           C  \nATOM   1461  NE  ARG A 889       6.522  10.377  15.718  1.00  0.00           N  \nATOM   1462  CZ  ARG A 889       7.789  10.031  15.435  1.00  0.00           C  \nATOM   1463  NH1 ARG A 889       8.560  10.806  14.658  1.00  0.00           N1+\nATOM   1464  NH2 ARG A 889       8.291   8.897  15.928  1.00  0.00           N  \nATOM   1465  N   ILE A 890       0.303  14.238  14.296  1.00  0.00           N  \nATOM   1466  CA  ILE A 890      -0.446  15.497  14.145  1.00  0.00           C  \nATOM   1467  C   ILE A 890      -1.171  15.876  15.443  1.00  0.00           C  \nATOM   1468  O   ILE A 890      -1.790  15.015  16.085  1.00  0.00           O  \nATOM   1469  CB  ILE A 890      -1.491  15.411  13.027  1.00  0.00           C  \nATOM   1470  CG1 ILE A 890      -0.816  15.424  11.668  1.00  0.00           C  \nATOM   1471  CG2 ILE A 890      -2.488  16.556  13.120  1.00  0.00           C  \nATOM   1472  CD1 ILE A 890      -1.614  14.716  10.623  1.00  0.00           C  \nATOM   1473  N   TYR A 891      -1.094  17.160  15.812  1.00  0.00           N  \nATOM   1474  CA  TYR A 891      -1.661  17.670  17.066  1.00  0.00           C  \nATOM   1475  C   TYR A 891      -2.410  18.986  16.909  1.00  0.00           C  \nATOM   1476  O   TYR A 891      -1.821  20.054  16.936  1.00  0.00           O  \nATOM   1477  CB  TYR A 891      -0.568  17.856  18.098  1.00  0.00           C  \nATOM   1478  CG  TYR A 891       0.066  16.568  18.565  1.00  0.00           C  \nATOM   1479  CD1 TYR A 891      -0.258  16.016  19.808  1.00  0.00           C  \nATOM   1480  CD2 TYR A 891       1.010  15.904  17.782  1.00  0.00           C  \nATOM   1481  CE1 TYR A 891       0.331  14.850  20.255  1.00  0.00           C  \nATOM   1482  CE2 TYR A 891       1.600  14.726  18.221  1.00  0.00           C  \nATOM   1483  CZ  TYR A 891       1.252  14.213  19.454  1.00  0.00           C  \nATOM   1484  OH  TYR A 891       1.831  13.051  19.875  1.00  0.00           O  \nATOM   1485  N   THR A 892      -3.719  18.922  16.737  1.00  0.00           N  \nATOM   1486  CA  THR A 892      -4.490  20.146  16.793  1.00  0.00           C  \nATOM   1487  C   THR A 892      -5.102  20.262  18.193  1.00  0.00           C  \nATOM   1488  O   THR A 892      -4.960  19.364  19.013  1.00  0.00           O  \nATOM   1489  CB  THR A 892      -5.497  20.300  15.579  1.00  0.00           C  \nATOM   1490  OG1 THR A 892      -6.574  21.188  15.917  1.00  0.00           O  \nATOM   1491  CG2 THR A 892      -6.056  18.945  15.085  1.00  0.00           C  \nATOM   1492  N   HIS A 893      -5.702  21.407  18.483  1.00  0.00           N  \nATOM   1493  CA  HIS A 893      -6.526  21.557  19.640  1.00  0.00           C  \nATOM   1494  C   HIS A 893      -7.583  20.473  19.538  1.00  0.00           C  \nATOM   1495  O   HIS A 893      -7.957  19.880  20.542  1.00  0.00           O  \nATOM   1496  CB  HIS A 893      -7.209  22.909  19.615  1.00  0.00           C  \nATOM   1497  CG  HIS A 893      -6.273  24.067  19.734  1.00  0.00           C  \nATOM   1498  ND1 HIS A 893      -5.642  24.401  20.912  1.00  0.00           N  \nATOM   1499  CD2 HIS A 893      -5.893  24.994  18.831  1.00  0.00           C  \nATOM   1500  CE1 HIS A 893      -4.888  25.466  20.719  1.00  0.00           C  \nATOM   1501  NE2 HIS A 893      -5.028  25.851  19.467  1.00  0.00           N  \nATOM   1502  N   GLN A 894      -8.062  20.196  18.326  1.00  0.00           N  \nATOM   1503  CA  GLN A 894      -9.074  19.169  18.152  1.00  0.00           C  \nATOM   1504  C   GLN A 894      -8.547  17.786  18.467  1.00  0.00           C  \nATOM   1505  O   GLN A 894      -9.320  16.869  18.647  1.00  0.00           O  \nATOM   1506  CB  GLN A 894      -9.650  19.203  16.759  1.00  0.00           C  \nATOM   1507  CG  GLN A 894     -10.225  20.522  16.433  1.00  0.00           C  \nATOM   1508  CD  GLN A 894     -11.401  20.834  17.306  1.00  0.00           C  \nATOM   1509  OE1 GLN A 894     -11.280  21.547  18.307  1.00  0.00           O  \nATOM   1510  NE2 GLN A 894     -12.556  20.292  16.946  1.00  0.00           N  \nATOM   1511  N   SER A 895      -7.237  17.610  18.547  1.00  0.00           N  \nATOM   1512  CA  SER A 895      -6.741  16.359  19.096  1.00  0.00           C  \nATOM   1513  C   SER A 895      -6.822  16.396  20.637  1.00  0.00           C  \nATOM   1514  O   SER A 895      -6.976  15.353  21.278  1.00  0.00           O  \nATOM   1515  CB  SER A 895      -5.328  16.043  18.601  1.00  0.00           C  \nATOM   1516  OG  SER A 895      -4.348  16.570  19.476  1.00  0.00           O  \nATOM   1517  N   ASP A 896      -6.729  17.588  21.235  1.00  0.00           N  \nATOM   1518  CA  ASP A 896      -6.803  17.701  22.692  1.00  0.00           C  \nATOM   1519  C   ASP A 896      -8.205  17.316  23.111  1.00  0.00           C  \nATOM   1520  O   ASP A 896      -8.414  16.722  24.179  1.00  0.00           O  \nATOM   1521  CB  ASP A 896      -6.502  19.127  23.169  1.00  0.00           C  \nATOM   1522  CG  ASP A 896      -4.992  19.427  23.338  1.00  0.00           C  \nATOM   1523  OD1 ASP A 896      -4.686  20.644  23.478  1.00  0.00           O  \nATOM   1524  OD2 ASP A 896      -4.128  18.495  23.353  1.00  0.00           O1-\nATOM   1525  N   VAL A 897      -9.157  17.644  22.239  1.00  0.00           N  \nATOM   1526  CA  VAL A 897     -10.559  17.350  22.452  1.00  0.00           C  \nATOM   1527  C   VAL A 897     -10.771  15.841  22.640  1.00  0.00           C  \nATOM   1528  O   VAL A 897     -11.477  15.425  23.554  1.00  0.00           O  \nATOM   1529  CB  VAL A 897     -11.365  17.903  21.307  1.00  0.00           C  \nATOM   1530  CG1 VAL A 897     -12.803  17.591  21.469  1.00  0.00           C  \nATOM   1531  CG2 VAL A 897     -11.177  19.386  21.251  1.00  0.00           C  \nATOM   1532  N   TRP A 898     -10.125  15.025  21.811  1.00  0.00           N  \nATOM   1533  CA  TRP A 898     -10.165  13.576  21.973  1.00  0.00           C  \nATOM   1534  C   TRP A 898      -9.758  13.140  23.390  1.00  0.00           C  \nATOM   1535  O   TRP A 898     -10.441  12.345  24.026  1.00  0.00           O  \nATOM   1536  CB  TRP A 898      -9.262  12.925  20.930  1.00  0.00           C  \nATOM   1537  CG  TRP A 898      -9.322  11.390  20.863  1.00  0.00           C  \nATOM   1538  CD1 TRP A 898      -9.015  10.502  21.867  1.00  0.00           C  \nATOM   1539  CD2 TRP A 898      -9.675  10.583  19.718  1.00  0.00           C  \nATOM   1540  NE1 TRP A 898      -9.172   9.202  21.423  1.00  0.00           N  \nATOM   1541  CE2 TRP A 898      -9.568   9.223  20.111  1.00  0.00           C  \nATOM   1542  CE3 TRP A 898     -10.069  10.878  18.399  1.00  0.00           C  \nATOM   1543  CZ2 TRP A 898      -9.849   8.162  19.239  1.00  0.00           C  \nATOM   1544  CZ3 TRP A 898     -10.342   9.819  17.529  1.00  0.00           C  \nATOM   1545  CH2 TRP A 898     -10.234   8.476  17.960  1.00  0.00           C  \nATOM   1546  N   SER A 899      -8.650  13.668  23.893  1.00  0.00           N  \nATOM   1547  CA  SER A 899      -8.215  13.351  25.261  1.00  0.00           C  \nATOM   1548  C   SER A 899      -9.205  13.868  26.291  1.00  0.00           C  \nATOM   1549  O   SER A 899      -9.386  13.246  27.335  1.00  0.00           O  \nATOM   1550  CB  SER A 899      -6.841  13.946  25.551  1.00  0.00           C  \nATOM   1551  OG  SER A 899      -5.933  13.648  24.520  1.00  0.00           O  \nATOM   1552  N   TYR A 900      -9.829  15.009  25.988  1.00  0.00           N  \nATOM   1553  CA  TYR A 900     -10.983  15.484  26.762  1.00  0.00           C  \nATOM   1554  C   TYR A 900     -12.056  14.399  26.947  1.00  0.00           C  \nATOM   1555  O   TYR A 900     -12.427  14.059  28.078  1.00  0.00           O  \nATOM   1556  CB  TYR A 900     -11.616  16.726  26.121  1.00  0.00           C  \nATOM   1557  CG  TYR A 900     -12.685  17.326  27.000  1.00  0.00           C  \nATOM   1558  CD1 TYR A 900     -14.023  16.984  26.826  1.00  0.00           C  \nATOM   1559  CD2 TYR A 900     -12.359  18.198  28.036  1.00  0.00           C  \nATOM   1560  CE1 TYR A 900     -15.019  17.510  27.647  1.00  0.00           C  \nATOM   1561  CE2 TYR A 900     -13.339  18.725  28.860  1.00  0.00           C  \nATOM   1562  CZ  TYR A 900     -14.672  18.374  28.658  1.00  0.00           C  \nATOM   1563  OH  TYR A 900     -15.657  18.887  29.454  1.00  0.00           O  \nATOM   1564  N   GLY A 901     -12.538  13.887  25.811  1.00  0.00           N  \nATOM   1565  CA  GLY A 901     -13.477  12.778  25.760  1.00  0.00           C  \nATOM   1566  C   GLY A 901     -12.989  11.639  26.621  1.00  0.00           C  \nATOM   1567  O   GLY A 901     -13.719  11.101  27.464  1.00  0.00           O  \nATOM   1568  N   VAL A 902     -11.733  11.272  26.440  1.00  0.00           N  \nATOM   1569  CA  VAL A 902     -11.213  10.195  27.235  1.00  0.00           C  \nATOM   1570  C   VAL A 902     -11.242  10.624  28.699  1.00  0.00           C  \nATOM   1571  O   VAL A 902     -11.566   9.837  29.587  1.00  0.00           O  \nATOM   1572  CB  VAL A 902      -9.827   9.779  26.786  1.00  0.00           C  \nATOM   1573  CG1 VAL A 902      -9.372   8.596  27.578  1.00  0.00           C  \nATOM   1574  CG2 VAL A 902      -9.861   9.425  25.329  1.00  0.00           C  \nATOM   1575  N   THR A 903     -10.941  11.886  28.955  1.00  0.00           N  \nATOM   1576  CA  THR A 903     -10.824  12.273  30.338  1.00  0.00           C  \nATOM   1577  C   THR A 903     -12.205  12.218  30.948  1.00  0.00           C  \nATOM   1578  O   THR A 903     -12.348  11.818  32.103  1.00  0.00           O  \nATOM   1579  CB  THR A 903     -10.136  13.630  30.535  1.00  0.00           C  \nATOM   1580  OG1 THR A 903      -8.789  13.530  30.065  1.00  0.00           O  \nATOM   1581  CG2 THR A 903     -10.111  14.006  32.018  1.00  0.00           C  \nATOM   1582  N   VAL A 904     -13.219  12.578  30.164  1.00  0.00           N  \nATOM   1583  CA  VAL A 904     -14.591  12.508  30.660  1.00  0.00           C  \nATOM   1584  C   VAL A 904     -14.867  11.055  31.022  1.00  0.00           C  \nATOM   1585  O   VAL A 904     -15.275  10.755  32.149  1.00  0.00           O  \nATOM   1586  CB  VAL A 904     -15.634  13.071  29.652  1.00  0.00           C  \nATOM   1587  CG1 VAL A 904     -17.032  13.003  30.235  1.00  0.00           C  \nATOM   1588  CG2 VAL A 904     -15.274  14.499  29.285  1.00  0.00           C  \nATOM   1589  N   TRP A 905     -14.574  10.159  30.091  1.00  0.00           N  \nATOM   1590  CA  TRP A 905     -14.795   8.747  30.310  1.00  0.00           C  \nATOM   1591  C   TRP A 905     -14.162   8.245  31.602  1.00  0.00           C  \nATOM   1592  O   TRP A 905     -14.793   7.544  32.347  1.00  0.00           O  \nATOM   1593  CB  TRP A 905     -14.288   7.962  29.111  1.00  0.00           C  \nATOM   1594  CG  TRP A 905     -14.666   6.519  29.136  1.00  0.00           C  \nATOM   1595  CD1 TRP A 905     -15.737   5.941  28.508  1.00  0.00           C  \nATOM   1596  CD2 TRP A 905     -13.981   5.458  29.827  1.00  0.00           C  \nATOM   1597  NE1 TRP A 905     -15.767   4.591  28.771  1.00  0.00           N  \nATOM   1598  CE2 TRP A 905     -14.701   4.266  29.577  1.00  0.00           C  \nATOM   1599  CE3 TRP A 905     -12.829   5.399  30.644  1.00  0.00           C  \nATOM   1600  CZ2 TRP A 905     -14.298   3.018  30.105  1.00  0.00           C  \nATOM   1601  CZ3 TRP A 905     -12.439   4.159  31.176  1.00  0.00           C  \nATOM   1602  CH2 TRP A 905     -13.174   2.993  30.900  1.00  0.00           C  \nATOM   1603  N   GLU A 906     -12.918   8.616  31.868  1.00  0.00           N  \nATOM   1604  CA  GLU A 906     -12.266   8.296  33.148  1.00  0.00           C  \nATOM   1605  C   GLU A 906     -13.117   8.704  34.330  1.00  0.00           C  \nATOM   1606  O   GLU A 906     -13.290   7.949  35.272  1.00  0.00           O  \nATOM   1607  CB  GLU A 906     -10.922   9.015  33.285  1.00  0.00           C  \nATOM   1608  CG  GLU A 906      -9.892   8.590  32.256  1.00  0.00           C  \nATOM   1609  CD  GLU A 906      -8.527   9.249  32.446  1.00  0.00           C  \nATOM   1610  OE1 GLU A 906      -7.848   9.001  33.491  1.00  0.00           O  \nATOM   1611  OE2 GLU A 906      -8.138  10.006  31.515  1.00  0.00           O1-\nATOM   1612  N   LEU A 907     -13.642   9.914  34.284  1.00  0.00           N  \nATOM   1613  CA  LEU A 907     -14.417  10.414  35.378  1.00  0.00           C  \nATOM   1614  C   LEU A 907     -15.725   9.657  35.483  1.00  0.00           C  \nATOM   1615  O   LEU A 907     -16.028   9.085  36.522  1.00  0.00           O  \nATOM   1616  CB  LEU A 907     -14.704  11.889  35.183  1.00  0.00           C  \nATOM   1617  CG  LEU A 907     -13.587  12.909  35.052  1.00  0.00           C  \nATOM   1618  CD1 LEU A 907     -14.310  14.226  34.985  1.00  0.00           C  \nATOM   1619  CD2 LEU A 907     -12.627  12.871  36.222  1.00  0.00           C  \nATOM   1620  N   MET A 908     -16.498   9.654  34.405  1.00  0.00           N  \nATOM   1621  CA  MET A 908     -17.793   8.983  34.412  1.00  0.00           C  \nATOM   1622  C   MET A 908     -17.674   7.542  34.843  1.00  0.00           C  \nATOM   1623  O   MET A 908     -18.629   6.988  35.355  1.00  0.00           O  \nATOM   1624  CB  MET A 908     -18.451   9.027  33.038  1.00  0.00           C  \nATOM   1625  CG  MET A 908     -18.613  10.407  32.517  1.00  0.00           C  \nATOM   1626  SD  MET A 908     -19.675  11.259  33.647  1.00  0.00           S  \nATOM   1627  CE  MET A 908     -19.100  12.931  33.439  1.00  0.00           C  \nATOM   1628  N   THR A 909     -16.520   6.920  34.622  1.00  0.00           N  \nATOM   1629  CA  THR A 909     -16.351   5.538  35.040  1.00  0.00           C  \nATOM   1630  C   THR A 909     -15.559   5.468  36.335  1.00  0.00           C  \nATOM   1631  O   THR A 909     -14.864   4.494  36.593  1.00  0.00           O  \nATOM   1632  CB  THR A 909     -15.645   4.688  33.988  1.00  0.00           C  \nATOM   1633  OG1 THR A 909     -14.312   5.179  33.819  1.00  0.00           O  \nATOM   1634  CG2 THR A 909     -16.398   4.696  32.647  1.00  0.00           C  \nATOM   1635  N   PHE A 910     -15.644   6.522  37.139  1.00  0.00           N  \nATOM   1636  CA  PHE A 910     -15.051   6.546  38.480  1.00  0.00           C  \nATOM   1637  C   PHE A 910     -13.596   6.124  38.519  1.00  0.00           C  \nATOM   1638  O   PHE A 910     -13.136   5.511  39.471  1.00  0.00           O  \nATOM   1639  CB  PHE A 910     -15.918   5.724  39.434  1.00  0.00           C  \nATOM   1640  CG  PHE A 910     -17.267   6.311  39.616  1.00  0.00           C  \nATOM   1641  CD1 PHE A 910     -17.526   7.168  40.688  1.00  0.00           C  \nATOM   1642  CD2 PHE A 910     -18.255   6.096  38.667  1.00  0.00           C  \nATOM   1643  CE1 PHE A 910     -18.775   7.773  40.837  1.00  0.00           C  \nATOM   1644  CE2 PHE A 910     -19.495   6.678  38.809  1.00  0.00           C  \nATOM   1645  CZ  PHE A 910     -19.760   7.523  39.898  1.00  0.00           C  \nATOM   1646  N   GLY A 911     -12.878   6.464  37.462  1.00  0.00           N  \nATOM   1647  CA  GLY A 911     -11.462   6.231  37.411  1.00  0.00           C  \nATOM   1648  C   GLY A 911     -11.096   4.910  36.791  1.00  0.00           C  \nATOM   1649  O   GLY A 911     -10.066   4.367  37.111  1.00  0.00           O  \nATOM   1650  N   SER A 912     -11.909   4.387  35.892  1.00  0.00           N  \nATOM   1651  CA  SER A 912     -11.536   3.136  35.255  1.00  0.00           C  \nATOM   1652  C   SER A 912     -10.356   3.365  34.342  1.00  0.00           C  \nATOM   1653  O   SER A 912     -10.023   4.519  34.066  1.00  0.00           O  \nATOM   1654  CB  SER A 912     -12.696   2.571  34.467  1.00  0.00           C  \nATOM   1655  OG  SER A 912     -13.668   2.077  35.366  1.00  0.00           O  \nATOM   1656  N   LYS A 913      -9.717   2.287  33.888  1.00  0.00           N  \nATOM   1657  CA  LYS A 913      -8.601   2.409  32.956  1.00  0.00           C  \nATOM   1658  C   LYS A 913      -9.096   2.178  31.557  1.00  0.00           C  \nATOM   1659  O   LYS A 913      -9.630   1.119  31.263  1.00  0.00           O  \nATOM   1660  CB  LYS A 913      -7.514   1.393  33.253  1.00  0.00           C  \nATOM   1661  CG  LYS A 913      -7.212   1.236  34.679  1.00  0.00           C  \nATOM   1662  CD  LYS A 913      -5.973   0.436  34.826  1.00  0.00           C  \nATOM   1663  CE  LYS A 913      -5.613   0.340  36.296  1.00  0.00           C  \nATOM   1664  NZ  LYS A 913      -4.184  -0.089  36.513  1.00  0.00           N1+\nATOM   1665  N   PRO A 914      -8.913   3.156  30.674  1.00  0.00           N  \nATOM   1666  CA  PRO A 914      -9.401   2.998  29.300  1.00  0.00           C  \nATOM   1667  C   PRO A 914      -8.708   1.843  28.557  1.00  0.00           C  \nATOM   1668  O   PRO A 914      -7.481   1.719  28.611  1.00  0.00           O  \nATOM   1669  CB  PRO A 914      -9.055   4.339  28.651  1.00  0.00           C  \nATOM   1670  CG  PRO A 914      -7.902   4.859  29.487  1.00  0.00           C  \nATOM   1671  CD  PRO A 914      -8.242   4.447  30.878  1.00  0.00           C  \nATOM   1672  N   TYR A 915      -9.503   1.021  27.872  1.00  0.00           N  \nATOM   1673  CA  TYR A 915      -9.006  -0.129  27.131  1.00  0.00           C  \nATOM   1674  C   TYR A 915      -8.216  -1.076  28.021  1.00  0.00           C  \nATOM   1675  O   TYR A 915      -7.170  -1.605  27.612  1.00  0.00           O  \nATOM   1676  CB  TYR A 915      -8.131   0.310  25.980  1.00  0.00           C  \nATOM   1677  CG  TYR A 915      -8.707   1.426  25.190  1.00  0.00           C  \nATOM   1678  CD1 TYR A 915      -9.711   1.189  24.263  1.00  0.00           C  \nATOM   1679  CD2 TYR A 915      -8.244   2.730  25.354  1.00  0.00           C  \nATOM   1680  CE1 TYR A 915     -10.246   2.221  23.505  1.00  0.00           C  \nATOM   1681  CE2 TYR A 915      -8.772   3.769  24.606  1.00  0.00           C  \nATOM   1682  CZ  TYR A 915      -9.771   3.501  23.683  1.00  0.00           C  \nATOM   1683  OH  TYR A 915     -10.306   4.503  22.942  1.00  0.00           O  \nATOM   1684  N   ASP A 916      -8.725  -1.289  29.234  1.00  0.00           N  \nATOM   1685  CA  ASP A 916      -8.071  -2.129  30.230  1.00  0.00           C  \nATOM   1686  C   ASP A 916      -7.571  -3.463  29.690  1.00  0.00           C  \nATOM   1687  O   ASP A 916      -8.266  -4.136  28.919  1.00  0.00           O  \nATOM   1688  CB  ASP A 916      -9.019  -2.398  31.373  1.00  0.00           C  \nATOM   1689  CG  ASP A 916      -8.295  -2.579  32.663  1.00  0.00           C  \nATOM   1690  OD1 ASP A 916      -8.969  -2.563  33.716  1.00  0.00           O  \nATOM   1691  OD2 ASP A 916      -7.050  -2.712  32.621  1.00  0.00           O1-\nATOM   1692  N   GLY A 917      -6.360  -3.838  30.101  1.00  0.00           N  \nATOM   1693  CA  GLY A 917      -5.705  -5.033  29.570  1.00  0.00           C  \nATOM   1694  C   GLY A 917      -5.118  -4.778  28.188  1.00  0.00           C  \nATOM   1695  O   GLY A 917      -3.884  -4.714  28.033  1.00  0.00           O  \nATOM   1696  N   ILE A 918      -6.013  -4.640  27.196  1.00  0.00           N  \nATOM   1697  CA  ILE A 918      -5.675  -4.342  25.797  1.00  0.00           C  \nATOM   1698  C   ILE A 918      -4.324  -3.645  25.684  1.00  0.00           C  \nATOM   1699  O   ILE A 918      -4.202  -2.488  26.083  1.00  0.00           O  \nATOM   1700  CB  ILE A 918      -6.691  -3.376  25.164  1.00  0.00           C  \nATOM   1701  CG1 ILE A 918      -8.127  -3.671  25.629  1.00  0.00           C  \nATOM   1702  CG2 ILE A 918      -6.484  -3.307  23.645  1.00  0.00           C  \nATOM   1703  CD1 ILE A 918      -8.957  -4.485  24.685  1.00  0.00           C  \nATOM   1704  N   PRO A 919      -3.297  -4.359  25.182  1.00  0.00           N  \nATOM   1705  CA  PRO A 919      -1.961  -3.765  24.912  1.00  0.00           C  \nATOM   1706  C   PRO A 919      -1.938  -2.642  23.850  1.00  0.00           C  \nATOM   1707  O   PRO A 919      -2.671  -2.704  22.847  1.00  0.00           O  \nATOM   1708  CB  PRO A 919      -1.118  -4.977  24.482  1.00  0.00           C  \nATOM   1709  CG  PRO A 919      -1.875  -6.194  25.085  1.00  0.00           C  \nATOM   1710  CD  PRO A 919      -3.315  -5.814  24.921  1.00  0.00           C  \nATOM   1711  N   ALA A 920      -1.081  -1.643  24.085  1.00  0.00           N  \nATOM   1712  CA  ALA A 920      -1.107  -0.374  23.349  1.00  0.00           C  \nATOM   1713  C   ALA A 920      -0.831  -0.442  21.837  1.00  0.00           C  \nATOM   1714  O   ALA A 920      -1.587   0.127  21.055  1.00  0.00           O  \nATOM   1715  CB  ALA A 920      -0.221   0.667  24.029  1.00  0.00           C  \nATOM   1716  N   SER A 921       0.232  -1.121  21.417  1.00  0.00           N  \nATOM   1717  CA  SER A 921       0.528  -1.263  19.979  1.00  0.00           C  \nATOM   1718  C   SER A 921      -0.721  -1.649  19.155  1.00  0.00           C  \nATOM   1719  O   SER A 921      -0.784  -1.435  17.936  1.00  0.00           O  \nATOM   1720  CB  SER A 921       1.652  -2.271  19.774  1.00  0.00           C  \nATOM   1721  OG  SER A 921       1.460  -3.382  20.659  1.00  0.00           O  \nATOM   1722  N   GLU A 922      -1.728  -2.185  19.842  1.00  0.00           N  \nATOM   1723  CA  GLU A 922      -3.004  -2.539  19.211  1.00  0.00           C  \nATOM   1724  C   GLU A 922      -4.065  -1.424  19.120  1.00  0.00           C  \nATOM   1725  O   GLU A 922      -4.997  -1.540  18.310  1.00  0.00           O  \nATOM   1726  CB  GLU A 922      -3.594  -3.773  19.886  1.00  0.00           C  \nATOM   1727  CG  GLU A 922      -3.033  -5.064  19.340  1.00  0.00           C  \nATOM   1728  CD  GLU A 922      -3.073  -6.213  20.345  1.00  0.00           C  \nATOM   1729  OE1 GLU A 922      -3.777  -6.122  21.384  1.00  0.00           O  \nATOM   1730  OE2 GLU A 922      -2.383  -7.226  20.087  1.00  0.00           O1-\nATOM   1731  N   ILE A 923      -3.927  -0.362  19.927  1.00  0.00           N  \nATOM   1732  CA  ILE A 923      -4.913   0.734  19.945  1.00  0.00           C  \nATOM   1733  C   ILE A 923      -5.130   1.371  18.563  1.00  0.00           C  \nATOM   1734  O   ILE A 923      -6.263   1.651  18.184  1.00  0.00           O  \nATOM   1735  CB  ILE A 923      -4.597   1.834  21.001  1.00  0.00           C  \nATOM   1736  CG1 ILE A 923      -4.344   1.241  22.395  1.00  0.00           C  \nATOM   1737  CG2 ILE A 923      -5.699   2.886  21.046  1.00  0.00           C  \nATOM   1738  CD1 ILE A 923      -5.530   0.630  23.085  1.00  0.00           C  \nATOM   1739  N   SER A 924      -4.062   1.573  17.805  1.00  0.00           N  \nATOM   1740  CA  SER A 924      -4.187   2.160  16.470  1.00  0.00           C  \nATOM   1741  C   SER A 924      -5.107   1.319  15.614  1.00  0.00           C  \nATOM   1742  O   SER A 924      -5.733   1.802  14.661  1.00  0.00           O  \nATOM   1743  CB  SER A 924      -2.827   2.187  15.789  1.00  0.00           C  \nATOM   1744  OG  SER A 924      -2.315   0.861  15.675  1.00  0.00           O  \nATOM   1745  N   SER A 925      -5.157   0.042  15.969  1.00  0.00           N  \nATOM   1746  CA  SER A 925      -5.757  -0.977  15.135  1.00  0.00           C  \nATOM   1747  C   SER A 925      -7.249  -1.043  15.384  1.00  0.00           C  \nATOM   1748  O   SER A 925      -8.050  -0.899  14.450  1.00  0.00           O  \nATOM   1749  CB  SER A 925      -5.109  -2.324  15.438  1.00  0.00           C  \nATOM   1750  OG  SER A 925      -5.544  -3.279  14.502  1.00  0.00           O  \nATOM   1751  N   ILE A 926      -7.584  -1.281  16.658  1.00  0.00           N  \nATOM   1752  CA  ILE A 926      -8.934  -1.226  17.196  1.00  0.00           C  \nATOM   1753  C   ILE A 926      -9.609   0.058  16.761  1.00  0.00           C  \nATOM   1754  O   ILE A 926     -10.631   0.028  16.085  1.00  0.00           O  \nATOM   1755  CB  ILE A 926      -8.899  -1.284  18.739  1.00  0.00           C  \nATOM   1756  CG1 ILE A 926      -8.525  -2.694  19.220  1.00  0.00           C  \nATOM   1757  CG2 ILE A 926     -10.215  -0.820  19.331  1.00  0.00           C  \nATOM   1758  CD1 ILE A 926      -8.723  -2.947  20.715  1.00  0.00           C  \nATOM   1759  N   LEU A 927      -9.012   1.186  17.129  1.00  0.00           N  \nATOM   1760  CA  LEU A 927      -9.590   2.483  16.813  1.00  0.00           C  \nATOM   1761  C   LEU A 927      -9.911   2.587  15.344  1.00  0.00           C  \nATOM   1762  O   LEU A 927     -10.888   3.224  14.957  1.00  0.00           O  \nATOM   1763  CB  LEU A 927      -8.656   3.640  17.205  1.00  0.00           C  \nATOM   1764  CG  LEU A 927      -8.511   4.147  18.657  1.00  0.00           C  \nATOM   1765  CD1 LEU A 927      -7.461   5.262  18.709  1.00  0.00           C  \nATOM   1766  CD2 LEU A 927      -9.829   4.625  19.280  1.00  0.00           C  \nATOM   1767  N   GLU A 928      -9.094   1.948  14.523  1.00  0.00           N  \nATOM   1768  CA  GLU A 928      -9.223   2.114  13.087  1.00  0.00           C  \nATOM   1769  C   GLU A 928     -10.335   1.276  12.495  1.00  0.00           C  \nATOM   1770  O   GLU A 928     -10.745   1.506  11.361  1.00  0.00           O  \nATOM   1771  CB  GLU A 928      -7.907   1.826  12.393  1.00  0.00           C  \nATOM   1772  CG  GLU A 928      -7.676   2.767  11.228  1.00  0.00           C  \nATOM   1773  CD  GLU A 928      -6.222   2.842  10.833  1.00  0.00           C  \nATOM   1774  OE1 GLU A 928      -5.370   2.276  11.572  1.00  0.00           O  \nATOM   1775  OE2 GLU A 928      -5.946   3.474   9.782  1.00  0.00           O1-\nATOM   1776  N   LYS A 929     -10.814   0.313  13.277  1.00  0.00           N  \nATOM   1777  CA  LYS A 929     -11.981  -0.497  12.924  1.00  0.00           C  \nATOM   1778  C   LYS A 929     -13.293   0.214  13.257  1.00  0.00           C  \nATOM   1779  O   LYS A 929     -14.367  -0.178  12.774  1.00  0.00           O  \nATOM   1780  CB  LYS A 929     -11.916  -1.854  13.610  1.00  0.00           C  \nATOM   1781  CG  LYS A 929     -10.918  -2.782  12.953  1.00  0.00           C  \nATOM   1782  CD  LYS A 929     -10.483  -3.882  13.898  1.00  0.00           C  \nATOM   1783  CE  LYS A 929      -9.503  -4.824  13.218  1.00  0.00           C  \nATOM   1784  NZ  LYS A 929      -9.259  -5.956  14.148  1.00  0.00           N1+\nATOM   1785  N   GLY A 930     -13.173   1.263  14.075  1.00  0.00           N  \nATOM   1786  CA  GLY A 930     -14.256   2.200  14.350  1.00  0.00           C  \nATOM   1787  C   GLY A 930     -14.810   1.974  15.730  1.00  0.00           C  \nATOM   1788  O   GLY A 930     -15.960   2.334  16.011  1.00  0.00           O  \nATOM   1789  N   GLU A 931     -13.977   1.370  16.577  1.00  0.00           N  \nATOM   1790  CA  GLU A 931     -14.344   0.991  17.933  1.00  0.00           C  \nATOM   1791  C   GLU A 931     -13.896   2.049  18.949  1.00  0.00           C  \nATOM   1792  O   GLU A 931     -12.771   2.548  18.879  1.00  0.00           O  \nATOM   1793  CB  GLU A 931     -13.711  -0.352  18.276  1.00  0.00           C  \nATOM   1794  CG  GLU A 931     -14.383  -1.084  19.436  1.00  0.00           C  \nATOM   1795  CD  GLU A 931     -13.466  -2.119  20.103  1.00  0.00           C  \nATOM   1796  OE1 GLU A 931     -13.091  -1.884  21.280  1.00  0.00           O  \nATOM   1797  OE2 GLU A 931     -13.117  -3.149  19.461  1.00  0.00           O1-\nATOM   1798  N   ARG A 932     -14.782   2.387  19.888  1.00  0.00           N  \nATOM   1799  CA  ARG A 932     -14.501   3.405  20.890  1.00  0.00           C  \nATOM   1800  C   ARG A 932     -14.787   2.816  22.245  1.00  0.00           C  \nATOM   1801  O   ARG A 932     -15.097   1.637  22.354  1.00  0.00           O  \nATOM   1802  CB  ARG A 932     -15.371   4.645  20.680  1.00  0.00           C  \nATOM   1803  CG  ARG A 932     -15.303   5.268  19.309  1.00  0.00           C  \nATOM   1804  CD  ARG A 932     -13.901   5.729  18.980  1.00  0.00           C  \nATOM   1805  NE  ARG A 932     -13.361   5.035  17.803  1.00  0.00           N  \nATOM   1806  CZ  ARG A 932     -13.034   5.625  16.654  1.00  0.00           C  \nATOM   1807  NH1 ARG A 932     -13.183   6.930  16.506  1.00  0.00           N1+\nATOM   1808  NH2 ARG A 932     -12.542   4.909  15.649  1.00  0.00           N  \nATOM   1809  N   LEU A 933     -14.684   3.640  23.280  1.00  0.00           N  \nATOM   1810  CA  LEU A 933     -14.932   3.210  24.644  1.00  0.00           C  \nATOM   1811  C   LEU A 933     -16.441   3.094  24.861  1.00  0.00           C  \nATOM   1812  O   LEU A 933     -17.212   3.860  24.271  1.00  0.00           O  \nATOM   1813  CB  LEU A 933     -14.339   4.228  25.615  1.00  0.00           C  \nATOM   1814  CG  LEU A 933     -12.855   4.587  25.519  1.00  0.00           C  \nATOM   1815  CD1 LEU A 933     -12.629   5.915  26.154  1.00  0.00           C  \nATOM   1816  CD2 LEU A 933     -12.056   3.565  26.253  1.00  0.00           C  \nATOM   1817  N   PRO A 934     -16.864   2.163  25.739  1.00  0.00           N  \nATOM   1818  CA  PRO A 934     -18.270   1.919  26.059  1.00  0.00           C  \nATOM   1819  C   PRO A 934     -18.937   3.070  26.790  1.00  0.00           C  \nATOM   1820  O   PRO A 934     -18.293   3.782  27.564  1.00  0.00           O  \nATOM   1821  CB  PRO A 934     -18.193   0.743  27.033  1.00  0.00           C  \nATOM   1822  CG  PRO A 934     -16.846   0.871  27.680  1.00  0.00           C  \nATOM   1823  CD  PRO A 934     -15.972   1.293  26.533  1.00  0.00           C  \nATOM   1824  N   GLN A 935     -20.234   3.231  26.566  1.00  0.00           N  \nATOM   1825  CA  GLN A 935     -21.040   4.071  27.430  1.00  0.00           C  \nATOM   1826  C   GLN A 935     -20.711   3.655  28.854  1.00  0.00           C  \nATOM   1827  O   GLN A 935     -20.776   2.475  29.151  1.00  0.00           O  \nATOM   1828  CB  GLN A 935     -22.516   3.813  27.135  1.00  0.00           C  \nATOM   1829  CG  GLN A 935     -23.516   4.804  27.730  1.00  0.00           C  \nATOM   1830  CD  GLN A 935     -24.740   5.003  26.818  1.00  0.00           C  \nATOM   1831  OE1 GLN A 935     -24.760   4.572  25.677  1.00  0.00           O  \nATOM   1832  NE2 GLN A 935     -25.744   5.676  27.323  1.00  0.00           N  \nATOM   1833  N   PRO A 936     -20.298   4.598  29.723  1.00  0.00           N  \nATOM   1834  CA  PRO A 936     -20.279   4.247  31.154  1.00  0.00           C  \nATOM   1835  C   PRO A 936     -21.698   4.014  31.649  1.00  0.00           C  \nATOM   1836  O   PRO A 936     -22.640   4.719  31.256  1.00  0.00           O  \nATOM   1837  CB  PRO A 936     -19.693   5.486  31.845  1.00  0.00           C  \nATOM   1838  CG  PRO A 936     -19.050   6.270  30.755  1.00  0.00           C  \nATOM   1839  CD  PRO A 936     -19.820   5.970  29.485  1.00  0.00           C  \nATOM   1840  N   PRO A 937     -21.854   3.023  32.522  1.00  0.00           N  \nATOM   1841  CA  PRO A 937     -23.121   2.652  33.105  1.00  0.00           C  \nATOM   1842  C   PRO A 937     -23.890   3.817  33.729  1.00  0.00           C  \nATOM   1843  O   PRO A 937     -25.055   3.658  34.026  1.00  0.00           O  \nATOM   1844  CB  PRO A 937     -22.712   1.689  34.217  1.00  0.00           C  \nATOM   1845  CG  PRO A 937     -21.245   1.940  34.428  1.00  0.00           C  \nATOM   1846  CD  PRO A 937     -20.766   2.196  33.052  1.00  0.00           C  \nATOM   1847  N   ILE A 938     -23.280   4.967  33.971  1.00  0.00           N  \nATOM   1848  CA  ILE A 938     -24.076   6.019  34.569  1.00  0.00           C  \nATOM   1849  C   ILE A 938     -24.506   7.008  33.531  1.00  0.00           C  \nATOM   1850  O   ILE A 938     -25.314   7.877  33.828  1.00  0.00           O  \nATOM   1851  CB  ILE A 938     -23.424   6.759  35.793  1.00  0.00           C  \nATOM   1852  CG1 ILE A 938     -22.046   7.290  35.461  1.00  0.00           C  \nATOM   1853  CG2 ILE A 938     -23.347   5.878  37.000  1.00  0.00           C  \nATOM   1854  CD1 ILE A 938     -21.782   8.619  36.066  1.00  0.00           C  \nATOM   1855  N   CYS A 939     -23.999   6.879  32.312  1.00  0.00           N  \nATOM   1856  CA  CYS A 939     -24.209   7.944  31.307  1.00  0.00           C  \nATOM   1857  C   CYS A 939     -25.493   7.863  30.481  1.00  0.00           C  \nATOM   1858  O   CYS A 939     -25.705   6.939  29.727  1.00  0.00           O  \nATOM   1859  CB  CYS A 939     -22.984   8.095  30.380  1.00  0.00           C  \nATOM   1860  SG  CYS A 939     -21.494   8.787  31.219  1.00  0.00           S  \nATOM   1861  N   THR A 940     -26.351   8.854  30.595  1.00  0.00           N  \nATOM   1862  CA  THR A 940     -27.412   8.912  29.638  1.00  0.00           C  \nATOM   1863  C   THR A 940     -26.776   8.989  28.269  1.00  0.00           C  \nATOM   1864  O   THR A 940     -25.652   9.474  28.101  1.00  0.00           O  \nATOM   1865  CB  THR A 940     -28.186  10.181  29.757  1.00  0.00           C  \nATOM   1866  OG1 THR A 940     -27.267  11.270  29.716  1.00  0.00           O  \nATOM   1867  CG2 THR A 940     -28.995  10.193  31.035  1.00  0.00           C  \nATOM   1868  N   ILE A 941     -27.517   8.523  27.281  1.00  0.00           N  \nATOM   1869  CA  ILE A 941     -27.190   8.763  25.899  1.00  0.00           C  \nATOM   1870  C   ILE A 941     -26.642  10.196  25.628  1.00  0.00           C  \nATOM   1871  O   ILE A 941     -25.714  10.349  24.846  1.00  0.00           O  \nATOM   1872  CB  ILE A 941     -28.412   8.448  25.020  1.00  0.00           C  \nATOM   1873  CG1 ILE A 941     -27.982   8.019  23.628  1.00  0.00           C  \nATOM   1874  CG2 ILE A 941     -29.331   9.626  24.947  1.00  0.00           C  \nATOM   1875  CD1 ILE A 941     -28.773   8.683  22.548  1.00  0.00           C  \nATOM   1876  N   ASP A 942     -27.174  11.235  26.273  1.00  0.00           N  \nATOM   1877  CA  ASP A 942     -26.755  12.608  25.904  1.00  0.00           C  \nATOM   1878  C   ASP A 942     -25.319  12.932  26.261  1.00  0.00           C  \nATOM   1879  O   ASP A 942     -24.602  13.588  25.483  1.00  0.00           O  \nATOM   1880  CB  ASP A 942     -27.613  13.674  26.547  1.00  0.00           C  \nATOM   1881  CG  ASP A 942     -29.014  13.281  26.632  1.00  0.00           C  \nATOM   1882  OD1 ASP A 942     -29.256  12.128  27.069  1.00  0.00           O  \nATOM   1883  OD2 ASP A 942     -29.858  14.129  26.270  1.00  0.00           O1-\nATOM   1884  N   VAL A 943     -24.927  12.517  27.464  1.00  0.00           N  \nATOM   1885  CA  VAL A 943     -23.547  12.601  27.862  1.00  0.00           C  \nATOM   1886  C   VAL A 943     -22.727  11.700  26.925  1.00  0.00           C  \nATOM   1887  O   VAL A 943     -21.793  12.173  26.236  1.00  0.00           O  \nATOM   1888  CB  VAL A 943     -23.379  12.221  29.317  1.00  0.00           C  \nATOM   1889  CG1 VAL A 943     -21.951  12.067  29.629  1.00  0.00           C  \nATOM   1890  CG2 VAL A 943     -23.925  13.298  30.145  1.00  0.00           C  \nATOM   1891  N   TYR A 944     -23.112  10.426  26.844  1.00  0.00           N  \nATOM   1892  CA  TYR A 944     -22.297   9.489  26.103  1.00  0.00           C  \nATOM   1893  C   TYR A 944     -22.088   9.941  24.691  1.00  0.00           C  \nATOM   1894  O   TYR A 944     -21.058   9.661  24.092  1.00  0.00           O  \nATOM   1895  CB  TYR A 944     -22.872   8.081  26.101  1.00  0.00           C  \nATOM   1896  CG  TYR A 944     -21.962   7.090  25.394  1.00  0.00           C  \nATOM   1897  CD1 TYR A 944     -22.396   6.383  24.288  1.00  0.00           C  \nATOM   1898  CD2 TYR A 944     -20.652   6.901  25.824  1.00  0.00           C  \nATOM   1899  CE1 TYR A 944     -21.562   5.496  23.651  1.00  0.00           C  \nATOM   1900  CE2 TYR A 944     -19.819   6.021  25.196  1.00  0.00           C  \nATOM   1901  CZ  TYR A 944     -20.277   5.315  24.114  1.00  0.00           C  \nATOM   1902  OH  TYR A 944     -19.428   4.442  23.489  1.00  0.00           O  \nATOM   1903  N   MET A 945     -23.074  10.639  24.159  1.00  0.00           N  \nATOM   1904  CA  MET A 945     -23.016  11.072  22.791  1.00  0.00           C  \nATOM   1905  C   MET A 945     -21.889  12.050  22.644  1.00  0.00           C  \nATOM   1906  O   MET A 945     -21.073  11.921  21.751  1.00  0.00           O  \nATOM   1907  CB  MET A 945     -24.311  11.772  22.442  1.00  0.00           C  \nATOM   1908  CG  MET A 945     -24.372  12.251  21.012  1.00  0.00           C  \nATOM   1909  SD  MET A 945     -25.368  11.150  20.005  1.00  0.00           S  \nATOM   1910  CE  MET A 945     -25.405  12.156  18.523  1.00  0.00           C  \nATOM   1911  N   ILE A 946     -21.859  13.021  23.545  1.00  0.00           N  \nATOM   1912  CA  ILE A 946     -20.919  14.109  23.490  1.00  0.00           C  \nATOM   1913  C   ILE A 946     -19.501  13.598  23.584  1.00  0.00           C  \nATOM   1914  O   ILE A 946     -18.630  14.117  22.922  1.00  0.00           O  \nATOM   1915  CB  ILE A 946     -21.255  15.147  24.558  1.00  0.00           C  \nATOM   1916  CG1 ILE A 946     -22.344  16.073  24.001  1.00  0.00           C  \nATOM   1917  CG2 ILE A 946     -20.039  15.974  24.940  1.00  0.00           C  \nATOM   1918  CD1 ILE A 946     -23.588  16.228  24.891  1.00  0.00           C  \nATOM   1919  N   MET A 947     -19.278  12.569  24.397  1.00  0.00           N  \nATOM   1920  CA  MET A 947     -18.011  11.835  24.410  1.00  0.00           C  \nATOM   1921  C   MET A 947     -17.683  11.274  23.037  1.00  0.00           C  \nATOM   1922  O   MET A 947     -16.592  11.440  22.532  1.00  0.00           O  \nATOM   1923  CB  MET A 947     -18.091  10.659  25.383  1.00  0.00           C  \nATOM   1924  CG  MET A 947     -17.817  11.029  26.858  1.00  0.00           C  \nATOM   1925  SD  MET A 947     -17.976   9.576  27.965  1.00  0.00           S  \nATOM   1926  CE  MET A 947     -19.634   9.927  28.570  1.00  0.00           C  \nATOM   1927  N   VAL A 948     -18.639  10.586  22.436  1.00  0.00           N  \nATOM   1928  CA  VAL A 948     -18.409   9.935  21.152  1.00  0.00           C  \nATOM   1929  C   VAL A 948     -18.116  10.979  20.045  1.00  0.00           C  \nATOM   1930  O   VAL A 948     -17.390  10.708  19.084  1.00  0.00           O  \nATOM   1931  CB  VAL A 948     -19.611   8.997  20.776  1.00  0.00           C  \nATOM   1932  CG1 VAL A 948     -19.536   8.532  19.321  1.00  0.00           C  \nATOM   1933  CG2 VAL A 948     -19.681   7.799  21.697  1.00  0.00           C  \nATOM   1934  N   LYS A 949     -18.664  12.173  20.182  1.00  0.00           N  \nATOM   1935  CA  LYS A 949     -18.396  13.200  19.207  1.00  0.00           C  \nATOM   1936  C   LYS A 949     -16.901  13.590  19.132  1.00  0.00           C  \nATOM   1937  O   LYS A 949     -16.425  14.013  18.075  1.00  0.00           O  \nATOM   1938  CB  LYS A 949     -19.293  14.397  19.467  1.00  0.00           C  \nATOM   1939  CG  LYS A 949     -20.703  14.215  18.935  1.00  0.00           C  \nATOM   1940  CD  LYS A 949     -21.625  15.322  19.403  1.00  0.00           C  \nATOM   1941  CE  LYS A 949     -22.583  15.696  18.305  1.00  0.00           C  \nATOM   1942  NZ  LYS A 949     -23.590  16.702  18.735  1.00  0.00           N1+\nATOM   1943  N   CYS A 950     -16.165  13.416  20.234  1.00  0.00           N  \nATOM   1944  CA  CYS A 950     -14.727  13.721  20.300  1.00  0.00           C  \nATOM   1945  C   CYS A 950     -13.899  12.678  19.628  1.00  0.00           C  \nATOM   1946  O   CYS A 950     -12.684  12.806  19.511  1.00  0.00           O  \nATOM   1947  CB  CYS A 950     -14.226  13.740  21.733  1.00  0.00           C  \nATOM   1948  SG  CYS A 950     -15.005  14.927  22.743  1.00  0.00           S  \nATOM   1949  N   TRP A 951     -14.551  11.606  19.235  1.00  0.00           N  \nATOM   1950  CA  TRP A 951     -13.819  10.473  18.728  1.00  0.00           C  \nATOM   1951  C   TRP A 951     -14.082  10.243  17.253  1.00  0.00           C  \nATOM   1952  O   TRP A 951     -13.662   9.233  16.700  1.00  0.00           O  \nATOM   1953  CB  TRP A 951     -14.099   9.244  19.591  1.00  0.00           C  \nATOM   1954  CG  TRP A 951     -13.736   9.474  21.026  1.00  0.00           C  \nATOM   1955  CD1 TRP A 951     -12.752  10.289  21.489  1.00  0.00           C  \nATOM   1956  CD2 TRP A 951     -14.323   8.858  22.179  1.00  0.00           C  \nATOM   1957  NE1 TRP A 951     -12.688  10.228  22.855  1.00  0.00           N  \nATOM   1958  CE2 TRP A 951     -13.638   9.354  23.309  1.00  0.00           C  \nATOM   1959  CE3 TRP A 951     -15.360   7.933  22.365  1.00  0.00           C  \nATOM   1960  CZ2 TRP A 951     -13.955   8.968  24.615  1.00  0.00           C  \nATOM   1961  CZ3 TRP A 951     -15.669   7.527  23.668  1.00  0.00           C  \nATOM   1962  CH2 TRP A 951     -14.976   8.056  24.775  1.00  0.00           C  \nATOM   1963  N   MET A 952     -14.758  11.198  16.624  1.00  0.00           N  \nATOM   1964  CA  MET A 952     -14.876  11.236  15.182  1.00  0.00           C  \nATOM   1965  C   MET A 952     -13.502  11.259  14.513  1.00  0.00           C  \nATOM   1966  O   MET A 952     -12.576  11.864  15.046  1.00  0.00           O  \nATOM   1967  CB  MET A 952     -15.577  12.511  14.786  1.00  0.00           C  \nATOM   1968  CG  MET A 952     -16.661  12.260  13.814  1.00  0.00           C  \nATOM   1969  SD  MET A 952     -18.189  12.368  14.727  1.00  0.00           S  \nATOM   1970  CE  MET A 952     -18.931  13.804  13.923  1.00  0.00           C  \nATOM   1971  N   ILE A 953     -13.387  10.635  13.335  1.00  0.00           N  \nATOM   1972  CA  ILE A 953     -12.124  10.602  12.564  1.00  0.00           C  \nATOM   1973  C   ILE A 953     -11.705  11.970  12.026  1.00  0.00           C  \nATOM   1974  O   ILE A 953     -10.623  12.455  12.335  1.00  0.00           O  \nATOM   1975  CB  ILE A 953     -12.188   9.550  11.427  1.00  0.00           C  \nATOM   1976  CG1 ILE A 953     -11.815   8.191  11.984  1.00  0.00           C  \nATOM   1977  CG2 ILE A 953     -11.253   9.892  10.291  1.00  0.00           C  \nATOM   1978  CD1 ILE A 953     -10.860   8.260  13.171  1.00  0.00           C  \nATOM   1979  N   ASP A 954     -12.569  12.552  11.198  1.00  0.00           N  \nATOM   1980  CA  ASP A 954     -12.453  13.913  10.743  1.00  0.00           C  \nATOM   1981  C   ASP A 954     -12.495  14.800  11.978  1.00  0.00           C  \nATOM   1982  O   ASP A 954     -13.528  14.894  12.654  1.00  0.00           O  \nATOM   1983  CB  ASP A 954     -13.621  14.226   9.813  1.00  0.00           C  \nATOM   1984  CG  ASP A 954     -13.829  15.711   9.617  1.00  0.00           C  \nATOM   1985  OD1 ASP A 954     -14.999  16.141   9.652  1.00  0.00           O  \nATOM   1986  OD2 ASP A 954     -12.835  16.461   9.436  1.00  0.00           O1-\nATOM   1987  N   ALA A 955     -11.369  15.445  12.268  1.00  0.00           N  \nATOM   1988  CA  ALA A 955     -11.180  16.111  13.544  1.00  0.00           C  \nATOM   1989  C   ALA A 955     -11.899  17.464  13.670  1.00  0.00           C  \nATOM   1990  O   ALA A 955     -12.066  17.992  14.771  1.00  0.00           O  \nATOM   1991  CB  ALA A 955      -9.695  16.234  13.852  1.00  0.00           C  \nATOM   1992  N   ASP A 956     -12.334  18.034  12.555  1.00  0.00           N  \nATOM   1993  CA  ASP A 956     -13.119  19.262  12.627  1.00  0.00           C  \nATOM   1994  C   ASP A 956     -14.562  18.887  12.873  1.00  0.00           C  \nATOM   1995  O   ASP A 956     -15.428  19.739  13.057  1.00  0.00           O  \nATOM   1996  CB  ASP A 956     -13.033  20.072  11.330  1.00  0.00           C  \nATOM   1997  CG  ASP A 956     -11.593  20.397  10.912  1.00  0.00           C  \nATOM   1998  OD1 ASP A 956     -11.323  20.294   9.692  1.00  0.00           O  \nATOM   1999  OD2 ASP A 956     -10.744  20.767  11.771  1.00  0.00           O1-\nATOM   2000  N   SER A 957     -14.821  17.594  12.841  1.00  0.00           N  \nATOM   2001  CA  SER A 957     -16.117  17.114  13.211  1.00  0.00           C  \nATOM   2002  C   SER A 957     -16.214  16.881  14.698  1.00  0.00           C  \nATOM   2003  O   SER A 957     -17.308  16.709  15.228  1.00  0.00           O  \nATOM   2004  CB  SER A 957     -16.448  15.841  12.456  1.00  0.00           C  \nATOM   2005  OG  SER A 957     -17.295  16.161  11.362  1.00  0.00           O  \nATOM   2006  N   ARG A 958     -15.075  16.860  15.377  1.00  0.00           N  \nATOM   2007  CA  ARG A 958     -15.086  16.914  16.822  1.00  0.00           C  \nATOM   2008  C   ARG A 958     -15.711  18.229  17.292  1.00  0.00           C  \nATOM   2009  O   ARG A 958     -15.785  19.195  16.535  1.00  0.00           O  \nATOM   2010  CB  ARG A 958     -13.677  16.759  17.344  1.00  0.00           C  \nATOM   2011  CG  ARG A 958     -13.325  15.332  17.610  1.00  0.00           C  \nATOM   2012  CD  ARG A 958     -12.540  14.679  16.511  1.00  0.00           C  \nATOM   2013  NE  ARG A 958     -11.114  14.853  16.737  1.00  0.00           N  \nATOM   2014  CZ  ARG A 958     -10.184  13.946  16.464  1.00  0.00           C  \nATOM   2015  NH1 ARG A 958     -10.518  12.777  15.961  1.00  0.00           N1+\nATOM   2016  NH2 ARG A 958      -8.908  14.206  16.706  1.00  0.00           N  \nATOM   2017  N   PRO A 959     -16.223  18.273  18.521  1.00  0.00           N  \nATOM   2018  CA  PRO A 959     -16.687  19.602  18.922  1.00  0.00           C  \nATOM   2019  C   PRO A 959     -15.553  20.472  19.460  1.00  0.00           C  \nATOM   2020  O   PRO A 959     -14.469  19.973  19.772  1.00  0.00           O  \nATOM   2021  CB  PRO A 959     -17.713  19.304  20.012  1.00  0.00           C  \nATOM   2022  CG  PRO A 959     -17.317  17.938  20.557  1.00  0.00           C  \nATOM   2023  CD  PRO A 959     -16.455  17.242  19.552  1.00  0.00           C  \nATOM   2024  N   LYS A 960     -15.805  21.773  19.554  1.00  0.00           N  \nATOM   2025  CA  LYS A 960     -14.815  22.686  20.114  1.00  0.00           C  \nATOM   2026  C   LYS A 960     -15.035  22.813  21.620  1.00  0.00           C  \nATOM   2027  O   LYS A 960     -16.177  22.741  22.103  1.00  0.00           O  \nATOM   2028  CB  LYS A 960     -14.869  24.075  19.454  1.00  0.00           C  \nATOM   2029  CG  LYS A 960     -15.241  24.153  17.957  1.00  0.00           C  \nATOM   2030  CD  LYS A 960     -14.226  23.514  16.951  1.00  0.00           C  \nATOM   2031  CE  LYS A 960     -12.986  24.379  16.690  1.00  0.00           C  \nATOM   2032  NZ  LYS A 960     -11.991  24.299  17.838  1.00  0.00           N1+\nATOM   2033  N   PHE A 961     -13.939  23.011  22.347  1.00  0.00           N  \nATOM   2034  CA  PHE A 961     -13.987  23.240  23.783  1.00  0.00           C  \nATOM   2035  C   PHE A 961     -14.997  24.311  24.182  1.00  0.00           C  \nATOM   2036  O   PHE A 961     -15.578  24.247  25.270  1.00  0.00           O  \nATOM   2037  CB  PHE A 961     -12.609  23.596  24.326  1.00  0.00           C  \nATOM   2038  CG  PHE A 961     -11.693  22.423  24.453  1.00  0.00           C  \nATOM   2039  CD1 PHE A 961     -12.073  21.298  25.162  1.00  0.00           C  \nATOM   2040  CD2 PHE A 961     -10.436  22.436  23.869  1.00  0.00           C  \nATOM   2041  CE1 PHE A 961     -11.219  20.192  25.270  1.00  0.00           C  \nATOM   2042  CE2 PHE A 961      -9.564  21.335  23.986  1.00  0.00           C  \nATOM   2043  CZ  PHE A 961      -9.956  20.215  24.683  1.00  0.00           C  \nATOM   2044  N   ARG A 962     -15.226  25.283  23.304  1.00  0.00           N  \nATOM   2045  CA  ARG A 962     -16.174  26.339  23.606  1.00  0.00           C  \nATOM   2046  C   ARG A 962     -17.613  25.828  23.650  1.00  0.00           C  \nATOM   2047  O   ARG A 962     -18.397  26.245  24.493  1.00  0.00           O  \nATOM   2048  CB  ARG A 962     -15.999  27.530  22.647  1.00  0.00           C  \nATOM   2049  CG  ARG A 962     -16.782  27.484  21.346  1.00  0.00           C  \nATOM   2050  CD  ARG A 962     -16.812  28.856  20.691  1.00  0.00           C  \nATOM   2051  NE  ARG A 962     -17.879  29.734  21.194  1.00  0.00           N  \nATOM   2052  CZ  ARG A 962     -19.175  29.611  20.881  1.00  0.00           C  \nATOM   2053  NH1 ARG A 962     -20.076  30.472  21.366  1.00  0.00           N1+\nATOM   2054  NH2 ARG A 962     -19.574  28.624  20.082  1.00  0.00           N  \nATOM   2055  N   GLU A 963     -17.942  24.918  22.736  1.00  0.00           N  \nATOM   2056  CA  GLU A 963     -19.256  24.297  22.706  1.00  0.00           C  \nATOM   2057  C   GLU A 963     -19.343  23.294  23.831  1.00  0.00           C  \nATOM   2058  O   GLU A 963     -20.412  23.131  24.458  1.00  0.00           O  \nATOM   2059  CB  GLU A 963     -19.482  23.566  21.398  1.00  0.00           C  \nATOM   2060  CG  GLU A 963     -19.421  24.428  20.167  1.00  0.00           C  \nATOM   2061  CD  GLU A 963     -19.048  23.625  18.905  1.00  0.00           C  \nATOM   2062  OE1 GLU A 963     -18.324  22.580  18.988  1.00  0.00           O  \nATOM   2063  OE2 GLU A 963     -19.483  24.059  17.814  1.00  0.00           O1-\nATOM   2064  N   LEU A 964     -18.225  22.606  24.070  1.00  0.00           N  \nATOM   2065  CA  LEU A 964     -18.131  21.680  25.182  1.00  0.00           C  \nATOM   2066  C   LEU A 964     -18.508  22.330  26.515  1.00  0.00           C  \nATOM   2067  O   LEU A 964     -19.255  21.738  27.321  1.00  0.00           O  \nATOM   2068  CB  LEU A 964     -16.757  21.053  25.229  1.00  0.00           C  \nATOM   2069  CG  LEU A 964     -16.717  19.975  24.161  1.00  0.00           C  \nATOM   2070  CD1 LEU A 964     -15.315  19.569  23.806  1.00  0.00           C  \nATOM   2071  CD2 LEU A 964     -17.492  18.778  24.604  1.00  0.00           C  \nATOM   2072  N   ILE A 965     -18.013  23.548  26.737  1.00  0.00           N  \nATOM   2073  CA  ILE A 965     -18.470  24.348  27.863  1.00  0.00           C  \nATOM   2074  C   ILE A 965     -20.005  24.466  27.818  1.00  0.00           C  \nATOM   2075  O   ILE A 965     -20.677  24.141  28.782  1.00  0.00           O  \nATOM   2076  CB  ILE A 965     -17.786  25.757  27.902  1.00  0.00           C  \nATOM   2077  CG1 ILE A 965     -16.288  25.627  28.204  1.00  0.00           C  \nATOM   2078  CG2 ILE A 965     -18.461  26.684  28.923  1.00  0.00           C  \nATOM   2079  CD1 ILE A 965     -15.448  26.683  27.607  1.00  0.00           C  \nATOM   2080  N   ILE A 966     -20.567  24.878  26.690  1.00  0.00           N  \nATOM   2081  CA  ILE A 966     -22.005  25.124  26.640  1.00  0.00           C  \nATOM   2082  C   ILE A 966     -22.888  23.883  26.943  1.00  0.00           C  \nATOM   2083  O   ILE A 966     -23.711  23.909  27.875  1.00  0.00           O  \nATOM   2084  CB  ILE A 966     -22.404  25.819  25.335  1.00  0.00           C  \nATOM   2085  CG1 ILE A 966     -21.436  26.971  25.076  1.00  0.00           C  \nATOM   2086  CG2 ILE A 966     -23.840  26.312  25.403  1.00  0.00           C  \nATOM   2087  CD1 ILE A 966     -22.034  28.191  24.348  1.00  0.00           C  \nATOM   2088  N   GLU A 967     -22.711  22.803  26.190  1.00  0.00           N  \nATOM   2089  CA  GLU A 967     -23.507  21.606  26.447  1.00  0.00           C  \nATOM   2090  C   GLU A 967     -23.395  21.140  27.895  1.00  0.00           C  \nATOM   2091  O   GLU A 967     -24.381  21.050  28.598  1.00  0.00           O  \nATOM   2092  CB  GLU A 967     -23.137  20.475  25.485  1.00  0.00           C  \nATOM   2093  CG  GLU A 967     -23.388  20.755  23.968  1.00  0.00           C  \nATOM   2094  CD  GLU A 967     -24.662  21.561  23.686  1.00  0.00           C  \nATOM   2095  OE1 GLU A 967     -24.516  22.631  23.069  1.00  0.00           O  \nATOM   2096  OE2 GLU A 967     -25.784  21.157  24.091  1.00  0.00           O1-\nATOM   2097  N   PHE A 968     -22.178  20.892  28.354  1.00  0.00           N  \nATOM   2098  CA  PHE A 968     -21.982  20.423  29.708  1.00  0.00           C  \nATOM   2099  C   PHE A 968     -22.576  21.371  30.688  1.00  0.00           C  \nATOM   2100  O   PHE A 968     -23.192  20.961  31.645  1.00  0.00           O  \nATOM   2101  CB  PHE A 968     -20.510  20.186  30.003  1.00  0.00           C  \nATOM   2102  CG  PHE A 968     -20.068  18.821  29.638  1.00  0.00           C  \nATOM   2103  CD1 PHE A 968     -20.586  17.724  30.291  1.00  0.00           C  \nATOM   2104  CD2 PHE A 968     -19.183  18.615  28.604  1.00  0.00           C  \nATOM   2105  CE1 PHE A 968     -20.211  16.447  29.939  1.00  0.00           C  \nATOM   2106  CE2 PHE A 968     -18.804  17.318  28.245  1.00  0.00           C  \nATOM   2107  CZ  PHE A 968     -19.323  16.243  28.920  1.00  0.00           C  \nATOM   2108  N   SER A 969     -22.410  22.651  30.418  1.00  0.00           N  \nATOM   2109  CA  SER A 969     -22.921  23.671  31.295  1.00  0.00           C  \nATOM   2110  C   SER A 969     -24.426  23.554  31.382  1.00  0.00           C  \nATOM   2111  O   SER A 969     -24.985  23.518  32.484  1.00  0.00           O  \nATOM   2112  CB  SER A 969     -22.518  25.037  30.784  1.00  0.00           C  \nATOM   2113  OG  SER A 969     -22.908  26.042  31.693  1.00  0.00           O  \nATOM   2114  N   LYS A 970     -25.062  23.477  30.209  1.00  0.00           N  \nATOM   2115  CA  LYS A 970     -26.486  23.201  30.102  1.00  0.00           C  \nATOM   2116  C   LYS A 970     -26.810  22.038  31.011  1.00  0.00           C  \nATOM   2117  O   LYS A 970     -27.750  22.086  31.795  1.00  0.00           O  \nATOM   2118  CB  LYS A 970     -26.860  22.778  28.686  1.00  0.00           C  \nATOM   2119  CG  LYS A 970     -27.308  23.856  27.746  1.00  0.00           C  \nATOM   2120  CD  LYS A 970     -27.252  23.299  26.325  1.00  0.00           C  \nATOM   2121  CE  LYS A 970     -27.491  24.360  25.243  1.00  0.00           C  \nATOM   2122  NZ  LYS A 970     -27.248  23.820  23.844  1.00  0.00           N1+\nATOM   2123  N   MET A 971     -26.030  20.975  30.898  1.00  0.00           N  \nATOM   2124  CA  MET A 971     -26.384  19.758  31.581  1.00  0.00           C  \nATOM   2125  C   MET A 971     -26.210  19.899  33.056  1.00  0.00           C  \nATOM   2126  O   MET A 971     -26.987  19.356  33.812  1.00  0.00           O  \nATOM   2127  CB  MET A 971     -25.563  18.608  31.072  1.00  0.00           C  \nATOM   2128  CG  MET A 971     -26.020  18.182  29.730  1.00  0.00           C  \nATOM   2129  SD  MET A 971     -24.952  16.844  29.281  1.00  0.00           S  \nATOM   2130  CE  MET A 971     -25.965  16.208  27.959  1.00  0.00           C  \nATOM   2131  N   ALA A 972     -25.209  20.654  33.484  1.00  0.00           N  \nATOM   2132  CA  ALA A 972     -24.960  20.761  34.901  1.00  0.00           C  \nATOM   2133  C   ALA A 972     -26.034  21.575  35.594  1.00  0.00           C  \nATOM   2134  O   ALA A 972     -26.002  21.697  36.805  1.00  0.00           O  \nATOM   2135  CB  ALA A 972     -23.594  21.313  35.163  1.00  0.00           C  \nATOM   2136  N   ARG A 973     -26.989  22.103  34.829  1.00  0.00           N  \nATOM   2137  CA  ARG A 973     -28.200  22.738  35.380  1.00  0.00           C  \nATOM   2138  C   ARG A 973     -29.267  21.767  35.859  1.00  0.00           C  \nATOM   2139  O   ARG A 973     -30.138  22.124  36.632  1.00  0.00           O  \nATOM   2140  CB  ARG A 973     -28.871  23.602  34.342  1.00  0.00           C  \nATOM   2141  CG  ARG A 973     -28.645  25.003  34.557  1.00  0.00           C  \nATOM   2142  CD  ARG A 973     -29.476  25.831  33.606  1.00  0.00           C  \nATOM   2143  NE  ARG A 973     -28.625  26.939  33.200  1.00  0.00           N  \nATOM   2144  CZ  ARG A 973     -28.309  27.975  33.977  1.00  0.00           C  \nATOM   2145  NH1 ARG A 973     -28.814  28.091  35.206  1.00  0.00           N1+\nATOM   2146  NH2 ARG A 973     -27.493  28.911  33.521  1.00  0.00           N  \nATOM   2147  N   ASP A 974     -29.239  20.552  35.369  1.00  0.00           N  \nATOM   2148  CA  ASP A 974     -30.251  19.619  35.730  1.00  0.00           C  \nATOM   2149  C   ASP A 974     -29.556  18.276  35.783  1.00  0.00           C  \nATOM   2150  O   ASP A 974     -29.824  17.395  34.971  1.00  0.00           O  \nATOM   2151  CB  ASP A 974     -31.314  19.656  34.657  1.00  0.00           C  \nATOM   2152  CG  ASP A 974     -32.604  19.044  35.102  1.00  0.00           C  \nATOM   2153  OD1 ASP A 974     -33.552  19.000  34.278  1.00  0.00           O  \nATOM   2154  OD2 ASP A 974     -32.665  18.596  36.270  1.00  0.00           O1-\nATOM   2155  N   PRO A 975     -28.616  18.124  36.723  1.00  0.00           N  \nATOM   2156  CA  PRO A 975     -27.663  17.026  36.652  1.00  0.00           C  \nATOM   2157  C   PRO A 975     -28.277  15.613  36.620  1.00  0.00           C  \nATOM   2158  O   PRO A 975     -27.801  14.762  35.852  1.00  0.00           O  \nATOM   2159  CB  PRO A 975     -26.808  17.237  37.897  1.00  0.00           C  \nATOM   2160  CG  PRO A 975     -26.937  18.668  38.194  1.00  0.00           C  \nATOM   2161  CD  PRO A 975     -28.363  18.975  37.894  1.00  0.00           C  \nATOM   2162  N   GLN A 976     -29.325  15.360  37.409  1.00  0.00           N  \nATOM   2163  CA  GLN A 976     -29.937  14.008  37.442  1.00  0.00           C  \nATOM   2164  C   GLN A 976     -30.689  13.576  36.180  1.00  0.00           C  \nATOM   2165  O   GLN A 976     -31.145  12.428  36.088  1.00  0.00           O  \nATOM   2166  CB  GLN A 976     -30.853  13.817  38.642  1.00  0.00           C  \nATOM   2167  CG  GLN A 976     -30.155  13.314  39.875  1.00  0.00           C  \nATOM   2168  CD  GLN A 976     -30.230  14.339  40.964  1.00  0.00           C  \nATOM   2169  OE1 GLN A 976     -30.048  15.531  40.701  1.00  0.00           O  \nATOM   2170  NE2 GLN A 976     -30.533  13.904  42.191  1.00  0.00           N  \nATOM   2171  N   ARG A 977     -30.823  14.492  35.230  1.00  0.00           N  \nATOM   2172  CA  ARG A 977     -31.432  14.208  33.962  1.00  0.00           C  \nATOM   2173  C   ARG A 977     -30.377  13.618  33.029  1.00  0.00           C  \nATOM   2174  O   ARG A 977     -30.710  13.068  31.972  1.00  0.00           O  \nATOM   2175  CB  ARG A 977     -32.003  15.499  33.399  1.00  0.00           C  \nATOM   2176  CG  ARG A 977     -32.735  15.349  32.132  1.00  0.00           C  \nATOM   2177  CD  ARG A 977     -33.330  16.632  31.687  1.00  0.00           C  \nATOM   2178  NE  ARG A 977     -33.561  16.572  30.244  1.00  0.00           N  \nATOM   2179  CZ  ARG A 977     -34.334  17.418  29.557  1.00  0.00           C  \nATOM   2180  NH1 ARG A 977     -34.984  18.402  30.186  1.00  0.00           N1+\nATOM   2181  NH2 ARG A 977     -34.465  17.280  28.235  1.00  0.00           N  \nATOM   2182  N   TYR A 978     -29.106  13.706  33.428  1.00  0.00           N  \nATOM   2183  CA  TYR A 978     -28.003  13.410  32.507  1.00  0.00           C  \nATOM   2184  C   TYR A 978     -27.005  12.383  32.983  1.00  0.00           C  \nATOM   2185  O   TYR A 978     -26.336  11.740  32.161  1.00  0.00           O  \nATOM   2186  CB  TYR A 978     -27.293  14.687  32.081  1.00  0.00           C  \nATOM   2187  CG  TYR A 978     -28.236  15.624  31.384  1.00  0.00           C  \nATOM   2188  CD1 TYR A 978     -28.608  16.826  31.970  1.00  0.00           C  \nATOM   2189  CD2 TYR A 978     -28.801  15.285  30.148  1.00  0.00           C  \nATOM   2190  CE1 TYR A 978     -29.488  17.669  31.325  1.00  0.00           C  \nATOM   2191  CE2 TYR A 978     -29.672  16.116  29.512  1.00  0.00           C  \nATOM   2192  CZ  TYR A 978     -30.014  17.296  30.106  1.00  0.00           C  \nATOM   2193  OH  TYR A 978     -30.890  18.122  29.486  1.00  0.00           O  \nATOM   2194  N   LEU A 979     -26.886  12.249  34.303  1.00  0.00           N  \nATOM   2195  CA  LEU A 979     -26.207  11.095  34.884  1.00  0.00           C  \nATOM   2196  C   LEU A 979     -27.124  10.482  35.898  1.00  0.00           C  \nATOM   2197  O   LEU A 979     -27.864  11.179  36.590  1.00  0.00           O  \nATOM   2198  CB  LEU A 979     -24.873  11.462  35.510  1.00  0.00           C  \nATOM   2199  CG  LEU A 979     -23.843  12.115  34.594  1.00  0.00           C  \nATOM   2200  CD1 LEU A 979     -22.652  12.523  35.433  1.00  0.00           C  \nATOM   2201  CD2 LEU A 979     -23.412  11.209  33.433  1.00  0.00           C  \nATOM   2202  N   VAL A 980     -27.107   9.167  35.960  1.00  0.00           N  \nATOM   2203  CA  VAL A 980     -28.023   8.486  36.824  1.00  0.00           C  \nATOM   2204  C   VAL A 980     -27.158   7.794  37.833  1.00  0.00           C  \nATOM   2205  O   VAL A 980     -26.622   6.727  37.549  1.00  0.00           O  \nATOM   2206  CB  VAL A 980     -28.890   7.491  36.052  1.00  0.00           C  \nATOM   2207  CG1 VAL A 980     -30.119   7.212  36.823  1.00  0.00           C  \nATOM   2208  CG2 VAL A 980     -29.285   8.059  34.692  1.00  0.00           C  \nATOM   2209  N   ILE A 981     -26.991   8.427  38.995  1.00  0.00           N  \nATOM   2210  CA  ILE A 981     -26.153   7.864  40.072  1.00  0.00           C  \nATOM   2211  C   ILE A 981     -26.973   7.460  41.316  1.00  0.00           C  \nATOM   2212  O   ILE A 981     -27.805   8.227  41.777  1.00  0.00           O  \nATOM   2213  CB  ILE A 981     -24.998   8.840  40.470  1.00  0.00           C  \nATOM   2214  CG1 ILE A 981     -24.083   9.151  39.263  1.00  0.00           C  \nATOM   2215  CG2 ILE A 981     -24.190   8.277  41.642  1.00  0.00           C  \nATOM   2216  CD1 ILE A 981     -23.219  10.391  39.408  1.00  0.00           C  \nATOM   2217  N   GLN A 982     -26.717   6.258  41.843  1.00  0.00           N  \nATOM   2218  CA  GLN A 982     -27.405   5.667  43.020  1.00  0.00           C  \nATOM   2219  C   GLN A 982     -27.338   6.494  44.311  1.00  0.00           C  \nATOM   2220  O   GLN A 982     -26.258   6.697  44.877  1.00  0.00           O  \nATOM   2221  CB  GLN A 982     -26.817   4.277  43.325  1.00  0.00           C  \nATOM   2222  CG  GLN A 982     -26.980   3.233  42.199  1.00  0.00           C  \nATOM   2223  CD  GLN A 982     -26.226   3.602  40.890  1.00  0.00           C  \nATOM   2224  OE1 GLN A 982     -24.987   3.464  40.794  1.00  0.00           O  \nATOM   2225  NE2 GLN A 982     -26.984   4.059  39.879  1.00  0.00           N  \nATOM   2226  N   GLY A 983     -28.498   6.932  44.796  1.00  0.00           N  \nATOM   2227  CA  GLY A 983     -28.575   7.781  45.994  1.00  0.00           C  \nATOM   2228  C   GLY A 983     -27.840   9.096  45.817  1.00  0.00           C  \nATOM   2229  O   GLY A 983     -27.187   9.598  46.736  1.00  0.00           O  \nATOM   2230  N   ASP A 984     -27.963   9.641  44.616  1.00  0.00           N  \nATOM   2231  CA  ASP A 984     -27.255  10.823  44.182  1.00  0.00           C  \nATOM   2232  C   ASP A 984     -27.475  11.989  45.133  1.00  0.00           C  \nATOM   2233  O   ASP A 984     -26.557  12.380  45.858  1.00  0.00           O  \nATOM   2234  CB  ASP A 984     -27.752  11.196  42.792  1.00  0.00           C  \nATOM   2235  CG  ASP A 984     -26.828  12.139  42.061  1.00  0.00           C  \nATOM   2236  OD1 ASP A 984     -26.954  12.206  40.819  1.00  0.00           O  \nATOM   2237  OD2 ASP A 984     -25.994  12.812  42.697  1.00  0.00           O1-\nATOM   2238  N   GLU A 985     -28.697  12.522  45.130  1.00  0.00           N  \nATOM   2239  CA  GLU A 985     -29.043  13.768  45.835  1.00  0.00           C  \nATOM   2240  C   GLU A 985     -28.698  13.764  47.330  1.00  0.00           C  \nATOM   2241  O   GLU A 985     -28.754  14.824  47.970  1.00  0.00           O  \nATOM   2242  CB  GLU A 985     -30.523  14.134  45.620  1.00  0.00           C  \nATOM   2243  CG  GLU A 985     -31.512  13.206  46.310  1.00  0.00           C  \nATOM   2244  CD  GLU A 985     -31.493  11.787  45.749  1.00  0.00           C  \nATOM   2245  OE1 GLU A 985     -31.080  10.864  46.494  1.00  0.00           O  \nATOM   2246  OE2 GLU A 985     -31.874  11.598  44.563  1.00  0.00           O1-\nATOM   2247  N   ARG A 986     -28.341  12.589  47.874  1.00  0.00           N  \nATOM   2248  CA  ARG A 986     -27.900  12.458  49.289  1.00  0.00           C  \nATOM   2249  C   ARG A 986     -26.363  12.519  49.555  1.00  0.00           C  \nATOM   2250  O   ARG A 986     -25.915  12.157  50.646  1.00  0.00           O  \nATOM   2251  CB  ARG A 986     -28.534  11.216  49.968  1.00  0.00           C  \nATOM   2252  CG  ARG A 986     -27.828   9.864  49.757  1.00  0.00           C  \nATOM   2253  CD  ARG A 986     -28.155   8.915  50.905  1.00  0.00           C  \nATOM   2254  NE  ARG A 986     -28.530   7.576  50.450  1.00  0.00           N  \nATOM   2255  CZ  ARG A 986     -29.758   7.218  50.069  1.00  0.00           C  \nATOM   2256  NH1 ARG A 986     -30.751   8.097  50.061  1.00  0.00           N1+\nATOM   2257  NH2 ARG A 986     -29.995   5.974  49.680  1.00  0.00           N  \nATOM   2258  N   MET A 987     -25.574  12.988  48.577  1.00  0.00           N  \nATOM   2259  CA  MET A 987     -24.095  13.095  48.711  1.00  0.00           C  \nATOM   2260  C   MET A 987     -23.586  14.535  48.968  1.00  0.00           C  \nATOM   2261  O   MET A 987     -24.254  15.522  48.632  1.00  0.00           O  \nATOM   2262  CB  MET A 987     -23.372  12.447  47.502  1.00  0.00           C  \nATOM   2263  CG  MET A 987     -23.602  10.929  47.385  1.00  0.00           C  \nATOM   2264  SD  MET A 987     -23.056  10.100  45.875  1.00  0.00           S  \nATOM   2265  CE  MET A 987     -23.798   8.489  46.124  1.00  0.00           C  \nATOM   2266  N   HIS A 988     -22.412  14.632  49.593  1.00  0.00           N  \nATOM   2267  CA  HIS A 988     -21.699  15.903  49.792  1.00  0.00           C  \nATOM   2268  C   HIS A 988     -20.216  15.593  50.068  1.00  0.00           C  \nATOM   2269  O   HIS A 988     -19.898  14.704  50.866  1.00  0.00           O  \nATOM   2270  CB  HIS A 988     -22.332  16.733  50.928  1.00  0.00           C  \nATOM   2271  N   LEU A 989     -19.311  16.305  49.396  1.00  0.00           N  \nATOM   2272  CA  LEU A 989     -17.880  15.967  49.466  1.00  0.00           C  \nATOM   2273  C   LEU A 989     -17.049  16.788  50.467  1.00  0.00           C  \nATOM   2274  O   LEU A 989     -17.089  18.021  50.490  1.00  0.00           O  \nATOM   2275  CB  LEU A 989     -17.256  15.986  48.065  1.00  0.00           C  \nATOM   2276  CG  LEU A 989     -17.472  14.706  47.248  1.00  0.00           C  \nATOM   2277  CD1 LEU A 989     -17.261  14.965  45.772  1.00  0.00           C  \nATOM   2278  CD2 LEU A 989     -16.582  13.571  47.731  1.00  0.00           C  \nATOM   2279  N   MET A1002      -3.305  18.973  56.604  1.00  0.00           N1+\nATOM   2280  CA  MET A1002      -4.138  20.139  56.315  1.00  0.00           C  \nATOM   2281  C   MET A1002      -3.830  21.360  57.221  1.00  0.00           C  \nATOM   2282  O   MET A1002      -4.673  22.272  57.312  1.00  0.00           O  \nATOM   2283  CB  MET A1002      -5.644  19.789  56.420  1.00  0.00           C  \nATOM   2284  CG  MET A1002      -6.080  18.341  56.023  1.00  0.00           C  \nATOM   2285  SD  MET A1002      -6.021  17.817  54.258  1.00  0.00           S  \nATOM   2286  CE  MET A1002      -7.181  18.916  53.396  1.00  0.00           C  \nATOM   2287  N   ASP A1003      -2.647  21.386  57.874  1.00  0.00           N  \nATOM   2288  CA  ASP A1003      -2.296  22.461  58.877  1.00  0.00           C  \nATOM   2289  C   ASP A1003      -0.860  22.495  59.555  1.00  0.00           C  \nATOM   2290  O   ASP A1003       0.178  22.311  58.878  1.00  0.00           O  \nATOM   2291  CB  ASP A1003      -3.398  22.552  59.968  1.00  0.00           C  \nATOM   2292  CG  ASP A1003      -3.611  21.218  60.718  1.00  0.00           C  \nATOM   2293  OD1 ASP A1003      -3.323  20.138  60.141  1.00  0.00           O  \nATOM   2294  OD2 ASP A1003      -4.061  21.259  61.888  1.00  0.00           O1-\nATOM   2295  N   GLU A1004      -0.850  22.742  60.887  1.00  0.00           N  \nATOM   2296  CA  GLU A1004       0.342  22.990  61.759  1.00  0.00           C  \nATOM   2297  C   GLU A1004       0.690  24.492  61.825  1.00  0.00           C  \nATOM   2298  O   GLU A1004      -0.023  25.315  61.215  1.00  0.00           O  \nATOM   2299  CB  GLU A1004       1.570  22.149  61.363  1.00  0.00           C  \nATOM   2300  N   GLU A1005       1.759  24.838  62.566  1.00  0.00           N  \nATOM   2301  CA  GLU A1005       2.333  26.219  62.617  1.00  0.00           C  \nATOM   2302  C   GLU A1005       1.322  27.337  62.903  1.00  0.00           C  \nATOM   2303  O   GLU A1005       0.369  27.127  63.663  1.00  0.00           O  \nATOM   2304  CB  GLU A1005       3.063  26.549  61.319  1.00  0.00           C  \nATOM   2305  CG  GLU A1005       4.371  25.828  61.136  1.00  0.00           C  \nATOM   2306  CD  GLU A1005       5.041  26.237  59.838  1.00  0.00           C  \nATOM   2307  OE1 GLU A1005       4.573  27.243  59.241  1.00  0.00           O  \nATOM   2308  OE2 GLU A1005       6.025  25.567  59.425  1.00  0.00           O1-\nATOM   2309  N   ASP A1006       1.525  28.509  62.285  1.00  0.00           N  \nATOM   2310  CA  ASP A1006       0.593  29.633  62.439  1.00  0.00           C  \nATOM   2311  C   ASP A1006      -0.728  29.397  61.697  1.00  0.00           C  \nATOM   2312  O   ASP A1006      -1.685  28.860  62.271  1.00  0.00           O  \nATOM   2313  CB  ASP A1006       1.222  30.967  62.008  1.00  0.00           C  \nATOM   2314  CG  ASP A1006       0.431  32.193  62.522  1.00  0.00           C  \nATOM   2315  OD1 ASP A1006      -0.340  32.021  63.523  1.00  0.00           O  \nATOM   2316  OD2 ASP A1006       0.590  33.325  61.951  1.00  0.00           O1-\nATOM   2317  N   MET A1007      -0.777  29.775  60.423  1.00  0.00           N  \nATOM   2318  CA  MET A1007      -2.034  29.783  59.657  1.00  0.00           C  \nATOM   2319  C   MET A1007      -2.866  31.061  59.856  1.00  0.00           C  \nATOM   2320  O   MET A1007      -3.942  31.178  59.286  1.00  0.00           O  \nATOM   2321  CB  MET A1007      -2.883  28.501  59.839  1.00  0.00           C  \nATOM   2322  CG  MET A1007      -2.417  27.318  58.992  1.00  0.00           C  \nATOM   2323  SD  MET A1007      -3.623  25.966  58.792  1.00  0.00           S  \nATOM   2324  CE  MET A1007      -4.586  26.467  57.353  1.00  0.00           C  \nATOM   2325  N   ASP A1008      -2.365  32.019  60.633  1.00  0.00           N  \nATOM   2326  CA  ASP A1008      -2.963  33.361  60.693  1.00  0.00           C  \nATOM   2327  C   ASP A1008      -2.748  34.130  59.414  1.00  0.00           C  \nATOM   2328  O   ASP A1008      -3.573  34.938  59.023  1.00  0.00           O  \nATOM   2329  CB  ASP A1008      -2.329  34.208  61.793  1.00  0.00           C  \nATOM   2330  CG  ASP A1008      -3.132  34.210  63.062  1.00  0.00           C  \nATOM   2331  OD1 ASP A1008      -3.622  33.118  63.436  1.00  0.00           O  \nATOM   2332  OD2 ASP A1008      -3.260  35.297  63.689  1.00  0.00           O1-\nATOM   2333  N   ASP A1009      -1.599  33.914  58.792  1.00  0.00           N  \nATOM   2334  CA  ASP A1009      -1.187  34.725  57.677  1.00  0.00           C  \nATOM   2335  C   ASP A1009      -1.219  33.932  56.402  1.00  0.00           C  \nATOM   2336  O   ASP A1009      -0.792  34.407  55.350  1.00  0.00           O  \nATOM   2337  CB  ASP A1009       0.196  35.267  57.955  1.00  0.00           C  \nATOM   2338  CG  ASP A1009       0.137  36.617  58.597  1.00  0.00           C  \nATOM   2339  OD1 ASP A1009       0.841  36.850  59.599  1.00  0.00           O  \nATOM   2340  OD2 ASP A1009      -0.639  37.452  58.106  1.00  0.00           O1-\nATOM   2341  N   VAL A1010      -1.749  32.717  56.508  1.00  0.00           N  \nATOM   2342  CA  VAL A1010      -1.925  31.843  55.365  1.00  0.00           C  \nATOM   2343  C   VAL A1010      -2.984  32.406  54.420  1.00  0.00           C  \nATOM   2344  O   VAL A1010      -4.091  32.728  54.838  1.00  0.00           O  \nATOM   2345  CB  VAL A1010      -2.294  30.417  55.802  1.00  0.00           C  \nATOM   2346  CG1 VAL A1010      -2.652  29.555  54.599  1.00  0.00           C  \nATOM   2347  CG2 VAL A1010      -1.141  29.786  56.526  1.00  0.00           C  \nATOM   2348  N   VAL A1011      -2.610  32.551  53.153  1.00  0.00           N  \nATOM   2349  CA  VAL A1011      -3.530  32.937  52.110  1.00  0.00           C  \nATOM   2350  C   VAL A1011      -3.320  32.008  50.949  1.00  0.00           C  \nATOM   2351  O   VAL A1011      -2.207  31.588  50.692  1.00  0.00           O  \nATOM   2352  CB  VAL A1011      -3.275  34.351  51.623  1.00  0.00           C  \nATOM   2353  CG1 VAL A1011      -4.318  34.738  50.605  1.00  0.00           C  \nATOM   2354  CG2 VAL A1011      -3.347  35.311  52.771  1.00  0.00           C  \nATOM   2355  N   ASP A1012      -4.394  31.683  50.242  1.00  0.00           N  \nATOM   2356  CA  ASP A1012      -4.282  30.819  49.092  1.00  0.00           C  \nATOM   2357  C   ASP A1012      -3.735  31.619  47.926  1.00  0.00           C  \nATOM   2358  O   ASP A1012      -3.962  32.812  47.833  1.00  0.00           O  \nATOM   2359  CB  ASP A1012      -5.621  30.193  48.749  1.00  0.00           C  \nATOM   2360  CG  ASP A1012      -5.501  29.206  47.627  1.00  0.00           C  \nATOM   2361  OD1 ASP A1012      -5.322  28.002  47.907  1.00  0.00           O  \nATOM   2362  OD2 ASP A1012      -5.516  29.640  46.458  1.00  0.00           O1-\nATOM   2363  N   ALA A1013      -3.008  30.964  47.036  1.00  0.00           N  \nATOM   2364  CA  ALA A1013      -2.261  31.656  45.997  1.00  0.00           C  \nATOM   2365  C   ALA A1013      -3.140  32.401  45.010  1.00  0.00           C  \nATOM   2366  O   ALA A1013      -2.700  33.363  44.401  1.00  0.00           O  \nATOM   2367  CB  ALA A1013      -1.359  30.684  45.283  1.00  0.00           C  \nATOM   2368  N   ASP A1014      -4.381  31.948  44.862  1.00  0.00           N  \nATOM   2369  CA  ASP A1014      -5.367  32.564  43.979  1.00  0.00           C  \nATOM   2370  C   ASP A1014      -5.768  33.949  44.450  1.00  0.00           C  \nATOM   2371  O   ASP A1014      -6.448  34.681  43.737  1.00  0.00           O  \nATOM   2372  CB  ASP A1014      -6.613  31.677  43.878  1.00  0.00           C  \nATOM   2373  CG  ASP A1014      -6.391  30.461  43.005  1.00  0.00           C  \nATOM   2374  OD1 ASP A1014      -5.449  30.484  42.215  1.00  0.00           O  \nATOM   2375  OD2 ASP A1014      -7.139  29.480  43.088  1.00  0.00           O1-\nATOM   2376  N   GLU A1015      -5.356  34.298  45.663  1.00  0.00           N  \nATOM   2377  CA  GLU A1015      -5.614  35.608  46.232  1.00  0.00           C  \nATOM   2378  C   GLU A1015      -4.288  36.338  46.460  1.00  0.00           C  \nATOM   2379  O   GLU A1015      -4.232  37.404  47.082  1.00  0.00           O  \nATOM   2380  CB  GLU A1015      -6.447  35.498  47.513  1.00  0.00           C  \nATOM   2381  CG  GLU A1015      -7.917  35.104  47.303  1.00  0.00           C  \nATOM   2382  CD  GLU A1015      -8.099  33.609  47.065  1.00  0.00           C  \nATOM   2383  OE1 GLU A1015      -8.972  33.232  46.255  1.00  0.00           O  \nATOM   2384  OE2 GLU A1015      -7.358  32.800  47.677  1.00  0.00           O1-\nATOM   2385  N   TYR A1016      -3.222  35.768  45.916  1.00  0.00           N  \nATOM   2386  CA  TYR A1016      -1.944  36.431  45.891  1.00  0.00           C  \nATOM   2387  C   TYR A1016      -1.537  36.804  44.468  1.00  0.00           C  \nATOM   2388  O   TYR A1016      -1.128  35.951  43.681  1.00  0.00           O  \nATOM   2389  CB  TYR A1016      -0.900  35.538  46.529  1.00  0.00           C  \nATOM   2390  CG  TYR A1016       0.464  36.164  46.531  1.00  0.00           C  \nATOM   2391  CD1 TYR A1016       1.445  35.726  45.640  1.00  0.00           C  \nATOM   2392  CD2 TYR A1016       0.778  37.213  47.410  1.00  0.00           C  \nATOM   2393  CE1 TYR A1016       2.709  36.298  45.627  1.00  0.00           C  \nATOM   2394  CE2 TYR A1016       2.046  37.800  47.404  1.00  0.00           C  \nATOM   2395  CZ  TYR A1016       3.009  37.330  46.507  1.00  0.00           C  \nATOM   2396  OH  TYR A1016       4.267  37.881  46.464  1.00  0.00           O  \nATOM   2397  N   LEU A1017      -1.665  38.085  44.140  1.00  0.00           N  \nATOM   2398  CA  LEU A1017      -1.268  38.591  42.814  1.00  0.00           C  \nATOM   2399  C   LEU A1017      -0.432  39.857  42.959  1.00  0.00           C  \nATOM   2400  O   LEU A1017      -0.787  40.770  43.715  1.00  0.00           O  \nATOM   2401  CB  LEU A1017      -2.480  38.902  41.910  1.00  0.00           C  \nATOM   2402  CG  LEU A1017      -3.828  38.189  42.059  1.00  0.00           C  \nATOM   2403  CD1 LEU A1017      -4.928  39.117  41.621  1.00  0.00           C  \nATOM   2404  CD2 LEU A1017      -3.878  36.870  41.306  1.00  0.00           C  \nATOM   2405  N   ILE A1018       0.691  39.890  42.244  1.00  0.00           N  \nATOM   2406  CA  ILE A1018       1.493  41.107  42.048  1.00  0.00           C  \nATOM   2407  C   ILE A1018       1.145  41.525  40.586  1.00  0.00           C  \nATOM   2408  O   ILE A1018       0.736  40.641  39.812  1.00  0.00           O  \nATOM   2409  CB  ILE A1018       3.036  40.823  42.366  1.00  0.00           C  \nATOM   2410  CG1 ILE A1018       3.868  42.140  42.491  1.00  0.00           C  \nATOM   2411  CG2 ILE A1018       3.610  39.729  41.408  1.00  0.00           C  \nATOM   2412  CD1 ILE A1018       5.122  42.093  43.440  1.00  0.00           C  \nATOM   2413  N   PRO A1019       1.235  42.850  40.221  1.00  0.00           N  \nATOM   2414  CA  PRO A1019       0.867  43.296  38.837  1.00  0.00           C  \nATOM   2415  C   PRO A1019       1.556  42.534  37.691  1.00  0.00           C  \nATOM   2416  O   PRO A1019       0.888  42.107  36.735  1.00  0.00           O  \nATOM   2417  CB  PRO A1019       1.256  44.795  38.804  1.00  0.00           C  \nATOM   2418  CG  PRO A1019       2.080  45.040  40.034  1.00  0.00           C  \nATOM   2419  CD  PRO A1019       1.650  44.000  41.056  1.00  0.00           C  \nTER    2420      PRO A1019 \nHETATM 2421  O   HOH A3001      -0.720  32.696  13.423  1.00  0.00           O  \nHETATM 2422  O   HOH A3002       5.456  36.148  21.936  1.00  0.00           O  \nHETATM 2423  O   HOH A3003      10.979  37.893  41.629  1.00  0.00           O  \nHETATM 2424  O   HOH A3004      -1.562  15.740  51.465  1.00  0.00           O  \nHETATM 2425  O   HOH A3005       7.374  10.123  51.869  1.00  0.00           O  \nHETATM 2426  O   HOH A3006       5.391   6.993  45.593  1.00  0.00           O  \nHETATM 2427  O   HOH A3007      -3.811  14.200  49.033  1.00  0.00           O  \nHETATM 2428  O   HOH A3008      -2.469   6.768  45.536  1.00  0.00           O  \nHETATM 2429  O   HOH A3009      -6.708   8.604  48.403  1.00  0.00           O  \nHETATM 2430  O   HOH A3010     -12.228   1.983  39.953  1.00  0.00           O  \nHETATM 2431  O   HOH A3011     -15.810  28.498  36.272  1.00  0.00           O  \nHETATM 2432  O   HOH A3012     -13.030  26.156  21.950  1.00  0.00           O  \nHETATM 2433  O   HOH A3013       0.748  36.084  24.252  1.00  0.00           O  \nHETATM 2434  O   HOH A3014      -3.946   8.070  34.039  1.00  0.00           O  \nHETATM 2435  O   HOH A3015     -14.669  28.481  40.870  1.00  0.00           O  \nHETATM 2436  O   HOH A3016       6.763  24.732  23.882  1.00  0.00           O  \nHETATM 2437  O   HOH A3017       1.068   6.557  29.112  1.00  0.00           O  \nHETATM 2438  O   HOH A3018      -1.453   4.670  27.554  1.00  0.00           O  \nHETATM 2439  O   HOH A3019      -4.078   0.018  39.248  1.00  0.00           O  \nHETATM 2440  O   HOH A3020     -17.037  -0.228  21.460  1.00  0.00           O  \nHETATM 2441  O   HOH A3021     -25.958  15.249  22.543  1.00  0.00           O  \nHETATM 2442  O   HOH A3022     -26.114  15.481  19.413  1.00  0.00           O  \nHETATM 2443  O   HOH A3023     -24.653  17.918  21.126  1.00  0.00           O  \nHETATM 2444  O   HOH A3024     -15.393  11.754  11.200  1.00  0.00           O  \nHETATM 2445  O   HOH A3025      -8.632  14.640  10.757  1.00  0.00           O  \nHETATM 2446  O   HOH A3026     -27.365  18.700  25.840  1.00  0.00           O  \nHETATM 2447  O   HOH A3027     -30.732   5.070  43.920  1.00  0.00           O  \nHETATM 2448  O   HOH A3028     -26.423  17.269  49.640  1.00  0.00           O  \nHETATM 2449  O   HOH A3029     -15.580  17.724  52.631  1.00  0.00           O  \nHETATM 2450  O   HOH A3030       0.141  19.395  61.505  1.00  0.00           O  \nHETATM 2451  O   HOH A3031      -0.830  23.794  65.158  1.00  0.00           O  \nHETATM 2452  O   HOH A3032      -9.087   0.446  38.671  1.00  0.00           O  \nHETATM 2453  O   HOH A3033     -14.200  31.527  35.394  1.00  0.00           O  \nHETATM 2454  O   HOH A3034      -1.662  37.679  38.874  1.00  0.00           O  \nHETATM 2455  CAO IRE A2020       0.199  10.004  44.679  1.00  0.00           C  \nHETATM 2456  CAL IRE A2020       0.217   8.465  44.652  1.00  0.00           C  \nHETATM 2457  OAU IRE A2020       1.301   8.036  43.762  1.00  0.00           O  \nHETATM 2458  CAM IRE A2020       1.098   8.455  42.373  1.00  0.00           C  \nHETATM 2459  CAP IRE A2020       0.952   9.984  42.225  1.00  0.00           C  \nHETATM 2460  NBE IRE A2020       0.122  10.605  43.307  1.00  0.00           N1+\nHETATM 2461  CAN IRE A2020       0.584  12.001  43.444  1.00  0.00           C  \nHETATM 2462  CAJ IRE A2020      -0.502  13.019  43.064  1.00  0.00           C  \nHETATM 2463  CAK IRE A2020       0.113  14.435  42.975  1.00  0.00           C  \nHETATM 2464  OAV IRE A2020       0.112  15.200  44.231  1.00  0.00           O  \nHETATM 2465  CBA IRE A2020      -0.002  16.565  44.108  1.00  0.00           C  \nHETATM 2466  CAZ IRE A2020      -0.785  17.235  45.045  1.00  0.00           C  \nHETATM 2467  CAH IRE A2020      -0.914  18.623  44.949  1.00  0.00           C  \nHETATM 2468  OAT IRE A2020      -1.422  16.504  46.023  1.00  0.00           O  \nHETATM 2469  CAA IRE A2020      -1.429  17.063  47.346  1.00  0.00           C  \nHETATM 2470  CAI IRE A2020       0.659  17.288  43.102  1.00  0.00           C  \nHETATM 2471  C5  IRE A2020       0.529  18.670  43.020  1.00  0.00           C  \nHETATM 2472  C4  IRE A2020      -0.259  19.330  43.943  1.00  0.00           C  \nHETATM 2473  N3  IRE A2020      -0.377  20.664  43.857  1.00  0.00           N  \nHETATM 2474  C2  IRE A2020       0.222  21.371  42.908  1.00  0.00           C  \nHETATM 2475  N1  IRE A2020       0.975  20.775  42.010  1.00  0.00           N  \nHETATM 2476  C6  IRE A2020       1.147  19.439  42.037  1.00  0.00           C  \nHETATM 2477  NAS IRE A2020       1.897  18.866  41.106  1.00  0.00           N  \nHETATM 2478  CAY IRE A2020       2.607  19.576  40.231  1.00  0.00           C  \nHETATM 2479  CAG IRE A2020       3.514  20.520  40.700  1.00  0.00           C  \nHETATM 2480  CAX IRE A2020       4.280  21.255  39.811  1.00  0.00           C  \nHETATM 2481 CL   IRE A2020       5.383  22.414  40.434  1.00  0.00          CL  \nHETATM 2482  CAW IRE A2020       4.158  21.062  38.442  1.00  0.00           C  \nHETATM 2483  FAB IRE A2020       4.920  21.795  37.603  1.00  0.00           F  \nHETATM 2484  CAD IRE A2020       3.253  20.111  37.963  1.00  0.00           C  \nHETATM 2485  CAE IRE A2020       2.480  19.364  38.860  1.00  0.00           C  \nCONECT 2266 2267\nCONECT 2267 2266 2268 2270\nCONECT 2268 2267 2269 2269\nCONECT 2269 2268 2268\nCONECT 2270 2267\nCONECT 2295 2296\nCONECT 2296 2295 2297 2299\nCONECT 2297 2296 2298 2298\nCONECT 2298 2297 2297\nCONECT 2299 2296\nCONECT 2455 2456 2460\nCONECT 2456 2455 2457\nCONECT 2457 2456 2458\nCONECT 2458 2457 2459\nCONECT 2459 2458 2460\nCONECT 2460 2455 2459 2461\nCONECT 2461 2460 2462\nCONECT 2462 2461 2463\nCONECT 2463 2462 2464\nCONECT 2464 2463 2465\nCONECT 2465 2464 2466 2470 2470\nCONECT 2466 2465 2467 2467 2468\nCONECT 2467 2466 2466 2472\nCONECT 2468 2466 2469\nCONECT 2469 2468\nCONECT 2470 2465 2465 2471\nCONECT 2471 2470 2472 2476 2476\nCONECT 2472 2467 2471 2473 2473\nCONECT 2473 2472 2472 2474\nCONECT 2474 2473 2475 2475\nCONECT 2475 2474 2474 2476\nCONECT 2476 2471 2471 2475 2477\nCONECT 2477 2476 2478\nCONECT 2478 2477 2479 2485 2485\nCONECT 2479 2478 2480 2480\nCONECT 2480 2479 2479 2481 2482\nCONECT 2481 2480\nCONECT 2482 2480 2483 2484 2484\nCONECT 2483 2482\nCONECT 2484 2482 2482 2485\nCONECT 2485 2478 2478 2484\nEND\n",
           "type": "blob"
          }
         ],
         "kwargs": {
          "defaultRepresentation": true,
          "ext": "pdb"
         },
         "methodName": "loadFile",
         "reconstruc_color_scheme": false,
         "target": "Stage",
         "type": "call_method"
        },
        {
         "args": [],
         "component_index": 0,
         "kwargs": {},
         "methodName": "removeAllRepresentations",
         "reconstruc_color_scheme": false,
         "target": "compList",
         "type": "call_method"
        },
        {
         "args": [
          "cartoon"
         ],
         "component_index": 0,
         "kwargs": {
          "color": "grey",
          "sele": "protein"
         },
         "methodName": "addRepresentation",
         "reconstruc_color_scheme": false,
         "target": "compList",
         "type": "call_method"
        },
        {
         "args": [
          "shape",
          [
           [
            "sphere",
            [
             1.077117681503296,
             20.7691650390625,
             37.087493896484375
            ],
            [
             0.0,
             0.0,
             1.0
            ],
            2,
            "center: 783"
           ]
          ]
         ],
         "fire_embed": true,
         "kwargs": {},
         "methodName": "addShape",
         "reconstruc_color_scheme": false,
         "target": "Widget",
         "type": "call_method"
        },
        {
         "args": [],
         "component_index": 1,
         "kwargs": {
          "opacity": 0.9,
          "repreIndex": 0
         },
         "methodName": "setParameters",
         "reconstruc_color_scheme": false,
         "repr_index": 0,
         "target": "Representation",
         "type": "call_method"
        },
        {
         "args": [],
         "kwargs": {},
         "methodName": "request_repr_dict",
         "reconstruc_color_scheme": false,
         "target": "Widget",
         "type": "call_method"
        },
        {
         "args": [
          "shape",
          [
           [
            "sphere",
            [
             1.6236666440963745,
             22.22133445739746,
             41.96833419799805
            ],
            [
             1.0,
             0.0,
             1.0
            ],
            2,
            "hinge_region: 783"
           ]
          ]
         ],
         "fire_embed": true,
         "kwargs": {},
         "methodName": "addShape",
         "reconstruc_color_scheme": false,
         "target": "Widget",
         "type": "call_method"
        },
        {
         "args": [],
         "component_index": 2,
         "kwargs": {
          "opacity": 0.9,
          "repreIndex": 0
         },
         "methodName": "setParameters",
         "reconstruc_color_scheme": false,
         "repr_index": 0,
         "target": "Representation",
         "type": "call_method"
        },
        {
         "args": [],
         "kwargs": {},
         "methodName": "request_repr_dict",
         "reconstruc_color_scheme": false,
         "target": "Widget",
         "type": "call_method"
        },
        {
         "args": [
          "shape",
          [
           [
            "sphere",
            [
             7.4029998779296875,
             20.09666633605957,
             34.867000579833984
            ],
            [
             0.39215686274509803,
             0.5843137254901961,
             0.9294117647058824
            ],
            2,
            "dfg_region: 783"
           ]
          ]
         ],
         "fire_embed": true,
         "kwargs": {},
         "methodName": "addShape",
         "reconstruc_color_scheme": false,
         "target": "Widget",
         "type": "call_method"
        },
        {
         "args": [],
         "component_index": 3,
         "kwargs": {
          "opacity": 0.9,
          "repreIndex": 0
         },
         "methodName": "setParameters",
         "reconstruc_color_scheme": false,
         "repr_index": 0,
         "target": "Representation",
         "type": "call_method"
        },
        {
         "args": [],
         "kwargs": {},
         "methodName": "request_repr_dict",
         "reconstruc_color_scheme": false,
         "target": "Widget",
         "type": "call_method"
        },
        {
         "args": [
          "shape",
          [
           [
            "sphere",
            [
             0.17233340442180634,
             16.38166618347168,
             40.08833312988281
            ],
            [
             0.0,
             0.5019607843137255,
             0.0
            ],
            2,
            "front_pocket: 783"
           ]
          ]
         ],
         "fire_embed": true,
         "kwargs": {},
         "methodName": "addShape",
         "reconstruc_color_scheme": false,
         "target": "Widget",
         "type": "call_method"
        },
        {
         "args": [],
         "component_index": 4,
         "kwargs": {
          "opacity": 0.9,
          "repreIndex": 0
         },
         "methodName": "setParameters",
         "reconstruc_color_scheme": false,
         "repr_index": 0,
         "target": "Representation",
         "type": "call_method"
        },
        {
         "args": [],
         "kwargs": {},
         "methodName": "request_repr_dict",
         "reconstruc_color_scheme": false,
         "target": "Widget",
         "type": "call_method"
        },
        {
         "args": [
          "shape",
          [
           [
            "sphere",
            [
             7.4029998779296875,
             22.148000717163086,
             44.483001708984375
            ],
            [
             1.0,
             0.0,
             1.0
            ],
            0.5
           ]
          ]
         ],
         "fire_embed": true,
         "kwargs": {},
         "methodName": "addShape",
         "reconstruc_color_scheme": false,
         "target": "Widget",
         "type": "call_method"
        },
        {
         "args": [],
         "component_index": 5,
         "kwargs": {
          "opacity": 0.9,
          "repreIndex": 0
         },
         "methodName": "setParameters",
         "reconstruc_color_scheme": false,
         "repr_index": 0,
         "target": "Representation",
         "type": "call_method"
        },
        {
         "args": [],
         "kwargs": {},
         "methodName": "request_repr_dict",
         "reconstruc_color_scheme": false,
         "target": "Widget",
         "type": "call_method"
        },
        {
         "args": [
          "shape",
          [
           [
            "sphere",
            [
             -0.7310000061988831,
             23.56599998474121,
             46.441001892089844
            ],
            [
             1.0,
             0.0,
             1.0
            ],
            0.5
           ]
          ]
         ],
         "fire_embed": true,
         "kwargs": {},
         "methodName": "addShape",
         "reconstruc_color_scheme": false,
         "target": "Widget",
         "type": "call_method"
        },
        {
         "args": [],
         "component_index": 6,
         "kwargs": {
          "opacity": 0.9,
          "repreIndex": 0
         },
         "methodName": "setParameters",
         "reconstruc_color_scheme": false,
         "repr_index": 0,
         "target": "Representation",
         "type": "call_method"
        },
        {
         "args": [],
         "kwargs": {},
         "methodName": "request_repr_dict",
         "reconstruc_color_scheme": false,
         "target": "Widget",
         "type": "call_method"
        },
        {
         "args": [
          "shape",
          [
           [
            "sphere",
            [
             -1.8009999990463257,
             20.950000762939453,
             34.98099899291992
            ],
            [
             1.0,
             0.0,
             1.0
            ],
            0.5
           ]
          ]
         ],
         "fire_embed": true,
         "kwargs": {},
         "methodName": "addShape",
         "reconstruc_color_scheme": false,
         "target": "Widget",
         "type": "call_method"
        },
        {
         "args": [],
         "component_index": 7,
         "kwargs": {
          "opacity": 0.9,
          "repreIndex": 0
         },
         "methodName": "setParameters",
         "reconstruc_color_scheme": false,
         "repr_index": 0,
         "target": "Representation",
         "type": "call_method"
        },
        {
         "args": [],
         "kwargs": {},
         "methodName": "request_repr_dict",
         "reconstruc_color_scheme": false,
         "target": "Widget",
         "type": "call_method"
        },
        {
         "args": [
          "shape",
          [
           [
            "sphere",
            [
             13.803000450134277,
             17.49799919128418,
             39.073001861572266
            ],
            [
             0.39215686274509803,
             0.5843137254901961,
             0.9294117647058824
            ],
            0.5
           ]
          ]
         ],
         "fire_embed": true,
         "kwargs": {},
         "methodName": "addShape",
         "reconstruc_color_scheme": false,
         "target": "Widget",
         "type": "call_method"
        },
        {
         "args": [],
         "component_index": 8,
         "kwargs": {
          "opacity": 0.9,
          "repreIndex": 0
         },
         "methodName": "setParameters",
         "reconstruc_color_scheme": false,
         "repr_index": 0,
         "target": "Representation",
         "type": "call_method"
        },
        {
         "args": [],
         "kwargs": {},
         "methodName": "request_repr_dict",
         "reconstruc_color_scheme": false,
         "target": "Widget",
         "type": "call_method"
        },
        {
         "args": [
          "shape",
          [
           [
            "sphere",
            [
             7.061999797821045,
             23.577999114990234,
             31.801000595092773
            ],
            [
             0.39215686274509803,
             0.5843137254901961,
             0.9294117647058824
            ],
            0.5
           ]
          ]
         ],
         "fire_embed": true,
         "kwargs": {},
         "methodName": "addShape",
         "reconstruc_color_scheme": false,
         "target": "Widget",
         "type": "call_method"
        },
        {
         "args": [],
         "component_index": 9,
         "kwargs": {
          "opacity": 0.9,
          "repreIndex": 0
         },
         "methodName": "setParameters",
         "reconstruc_color_scheme": false,
         "repr_index": 0,
         "target": "Representation",
         "type": "call_method"
        },
        {
         "args": [],
         "kwargs": {},
         "methodName": "request_repr_dict",
         "reconstruc_color_scheme": false,
         "target": "Widget",
         "type": "call_method"
        },
        {
         "args": [
          "shape",
          [
           [
            "sphere",
            [
             1.343999981880188,
             19.214000701904297,
             33.72700119018555
            ],
            [
             0.39215686274509803,
             0.5843137254901961,
             0.9294117647058824
            ],
            0.5
           ]
          ]
         ],
         "fire_embed": true,
         "kwargs": {},
         "methodName": "addShape",
         "reconstruc_color_scheme": false,
         "target": "Widget",
         "type": "call_method"
        },
        {
         "args": [],
         "component_index": 10,
         "kwargs": {
          "opacity": 0.9,
          "repreIndex": 0
         },
         "methodName": "setParameters",
         "reconstruc_color_scheme": false,
         "repr_index": 0,
         "target": "Representation",
         "type": "call_method"
        },
        {
         "args": [],
         "kwargs": {},
         "methodName": "request_repr_dict",
         "reconstruc_color_scheme": false,
         "target": "Widget",
         "type": "call_method"
        },
        {
         "args": [
          "shape",
          [
           [
            "sphere",
            [
             10.03600025177002,
             14.60099983215332,
             43.60200119018555
            ],
            [
             0.0,
             0.5019607843137255,
             0.0
            ],
            0.5
           ]
          ]
         ],
         "fire_embed": true,
         "kwargs": {},
         "methodName": "addShape",
         "reconstruc_color_scheme": false,
         "target": "Widget",
         "type": "call_method"
        },
        {
         "args": [],
         "component_index": 11,
         "kwargs": {
          "opacity": 0.9,
          "repreIndex": 0
         },
         "methodName": "setParameters",
         "reconstruc_color_scheme": false,
         "repr_index": 0,
         "target": "Representation",
         "type": "call_method"
        },
        {
         "args": [],
         "kwargs": {},
         "methodName": "request_repr_dict",
         "reconstruc_color_scheme": false,
         "target": "Widget",
         "type": "call_method"
        },
        {
         "args": [
          "shape",
          [
           [
            "sphere",
            [
             -3.627000093460083,
             21.448999404907227,
             45.19300079345703
            ],
            [
             0.0,
             0.5019607843137255,
             0.0
            ],
            0.5
           ]
          ]
         ],
         "fire_embed": true,
         "kwargs": {},
         "methodName": "addShape",
         "reconstruc_color_scheme": false,
         "target": "Widget",
         "type": "call_method"
        },
        {
         "args": [],
         "component_index": 12,
         "kwargs": {
          "opacity": 0.9,
          "repreIndex": 0
         },
         "methodName": "setParameters",
         "reconstruc_color_scheme": false,
         "repr_index": 0,
         "target": "Representation",
         "type": "call_method"
        },
        {
         "args": [],
         "kwargs": {},
         "methodName": "request_repr_dict",
         "reconstruc_color_scheme": false,
         "target": "Widget",
         "type": "call_method"
        },
        {
         "args": [
          "shape",
          [
           [
            "sphere",
            [
             -5.892000198364258,
             13.095000267028809,
             31.469999313354492
            ],
            [
             0.0,
             0.5019607843137255,
             0.0
            ],
            0.5
           ]
          ]
         ],
         "fire_embed": true,
         "kwargs": {},
         "methodName": "addShape",
         "reconstruc_color_scheme": false,
         "target": "Widget",
         "type": "call_method"
        },
        {
         "args": [],
         "component_index": 13,
         "kwargs": {
          "opacity": 0.9,
          "repreIndex": 0
         },
         "methodName": "setParameters",
         "reconstruc_color_scheme": false,
         "repr_index": 0,
         "target": "Representation",
         "type": "call_method"
        },
        {
         "args": [],
         "kwargs": {},
         "methodName": "request_repr_dict",
         "reconstruc_color_scheme": false,
         "target": "Widget",
         "type": "call_method"
        }
       ],
       "_ngl_original_stage_parameters": {},
       "_ngl_repr_dict": {},
       "_ngl_serialize": false,
       "_ngl_version": "",
       "_ngl_view_id": [],
       "_player_dict": {},
       "_scene_position": {},
       "_scene_rotation": {},
       "_synced_model_ids": [],
       "_synced_repr_model_ids": [],
       "_view_count": null,
       "_view_height": "",
       "_view_module": "nglview-js-widgets",
       "_view_module_version": "3.0.1",
       "_view_name": "NGLView",
       "_view_width": "",
       "background": "white",
       "frame": 0,
       "gui_style": "ngl",
       "layout": "IPY_MODEL_794805ceb4f843bf885c7a525ae8cae9",
       "max_frame": 0,
       "n_components": 0,
       "picked": {}
      }
     },
     "6686d0c945fc40f1bf4ae33d1eababc6": {
      "model_module": "@jupyter-widgets/base",
      "model_module_version": "1.2.0",
      "model_name": "LayoutModel",
      "state": {
       "_model_module": "@jupyter-widgets/base",
       "_model_module_version": "1.2.0",
       "_model_name": "LayoutModel",
       "_view_count": null,
       "_view_module": "@jupyter-widgets/base",
       "_view_module_version": "1.2.0",
       "_view_name": "LayoutView",
       "align_content": null,
       "align_items": null,
       "align_self": null,
       "border": null,
       "bottom": null,
       "display": null,
       "flex": null,
       "flex_flow": null,
       "grid_area": null,
       "grid_auto_columns": null,
       "grid_auto_flow": null,
       "grid_auto_rows": null,
       "grid_column": null,
       "grid_gap": null,
       "grid_row": null,
       "grid_template_areas": null,
       "grid_template_columns": null,
       "grid_template_rows": null,
       "height": null,
       "justify_content": null,
       "justify_items": null,
       "left": null,
       "margin": null,
       "max_height": null,
       "max_width": null,
       "min_height": null,
       "min_width": null,
       "object_fit": null,
       "object_position": null,
       "order": null,
       "overflow": null,
       "overflow_x": null,
       "overflow_y": null,
       "padding": null,
       "right": null,
       "top": null,
       "visibility": null,
       "width": null
      }
     },
     "6872209bbca94fc79c33a4c937acd098": {
      "model_module": "@jupyter-widgets/base",
      "model_module_version": "1.2.0",
      "model_name": "LayoutModel",
      "state": {
       "_model_module": "@jupyter-widgets/base",
       "_model_module_version": "1.2.0",
       "_model_name": "LayoutModel",
       "_view_count": null,
       "_view_module": "@jupyter-widgets/base",
       "_view_module_version": "1.2.0",
       "_view_name": "LayoutView",
       "align_content": null,
       "align_items": null,
       "align_self": null,
       "border": null,
       "bottom": null,
       "display": null,
       "flex": null,
       "flex_flow": null,
       "grid_area": null,
       "grid_auto_columns": null,
       "grid_auto_flow": null,
       "grid_auto_rows": null,
       "grid_column": null,
       "grid_gap": null,
       "grid_row": null,
       "grid_template_areas": null,
       "grid_template_columns": null,
       "grid_template_rows": null,
       "height": null,
       "justify_content": null,
       "justify_items": null,
       "left": null,
       "margin": null,
       "max_height": null,
       "max_width": null,
       "min_height": null,
       "min_width": null,
       "object_fit": null,
       "object_position": null,
       "order": null,
       "overflow": null,
       "overflow_x": null,
       "overflow_y": null,
       "padding": null,
       "right": null,
       "top": null,
       "visibility": null,
       "width": null
      }
     },
     "6a34a608054446b4906634dd4ee83f15": {
      "buffers": [
       {
        "data": "",
        "encoding": "base64",
        "path": [
         "value"
        ]
       }
      ],
      "model_module": "@jupyter-widgets/controls",
      "model_module_version": "1.5.0",
      "model_name": "ImageModel",
      "state": {
       "_dom_classes": [],
       "_model_module": "@jupyter-widgets/controls",
       "_model_module_version": "1.5.0",
       "_model_name": "ImageModel",
       "_view_count": null,
       "_view_module": "@jupyter-widgets/controls",
       "_view_module_version": "1.5.0",
       "_view_name": "ImageView",
       "format": "png",
       "height": "",
       "layout": "IPY_MODEL_c94911a990b040bd8e61331e1f4dea77",
       "width": "900.0"
      }
     },
     "794805ceb4f843bf885c7a525ae8cae9": {
      "model_module": "@jupyter-widgets/base",
      "model_module_version": "1.2.0",
      "model_name": "LayoutModel",
      "state": {
       "_model_module": "@jupyter-widgets/base",
       "_model_module_version": "1.2.0",
       "_model_name": "LayoutModel",
       "_view_count": null,
       "_view_module": "@jupyter-widgets/base",
       "_view_module_version": "1.2.0",
       "_view_name": "LayoutView",
       "align_content": null,
       "align_items": null,
       "align_self": null,
       "border": null,
       "bottom": null,
       "display": null,
       "flex": null,
       "flex_flow": null,
       "grid_area": null,
       "grid_auto_columns": null,
       "grid_auto_flow": null,
       "grid_auto_rows": null,
       "grid_column": null,
       "grid_gap": null,
       "grid_row": null,
       "grid_template_areas": null,
       "grid_template_columns": null,
       "grid_template_rows": null,
       "height": null,
       "justify_content": null,
       "justify_items": null,
       "left": null,
       "margin": null,
       "max_height": null,
       "max_width": null,
       "min_height": null,
       "min_width": null,
       "object_fit": null,
       "object_position": null,
       "order": null,
       "overflow": null,
       "overflow_x": null,
       "overflow_y": null,
       "padding": null,
       "right": null,
       "top": null,
       "visibility": null,
       "width": null
      }
     },
     "7b3def9b32bd41f2b6e1e38a1bee877f": {
      "model_module": "@jupyter-widgets/controls",
      "model_module_version": "1.5.0",
      "model_name": "HBoxModel",
      "state": {
       "_dom_classes": [],
       "_model_module": "@jupyter-widgets/controls",
       "_model_module_version": "1.5.0",
       "_model_name": "HBoxModel",
       "_view_count": null,
       "_view_module": "@jupyter-widgets/controls",
       "_view_module_version": "1.5.0",
       "_view_name": "HBoxView",
       "box_style": "",
       "children": [
        "IPY_MODEL_2d19bf6714f347c1a615d9d3ce83c260",
        "IPY_MODEL_91454e7573994c6f8dccf0385108f796"
       ],
       "layout": "IPY_MODEL_adea1e8bdf2943ceb72f735d46835814"
      }
     },
     "80b34639e656400bb7c48f4719d38b49": {
      "model_module": "@jupyter-widgets/controls",
      "model_module_version": "1.5.0",
      "model_name": "PlayModel",
      "state": {
       "_dom_classes": [],
       "_model_module": "@jupyter-widgets/controls",
       "_model_module_version": "1.5.0",
       "_model_name": "PlayModel",
       "_playing": false,
       "_repeat": false,
       "_view_count": null,
       "_view_module": "@jupyter-widgets/controls",
       "_view_module_version": "1.5.0",
       "_view_name": "PlayView",
       "description": "",
       "description_tooltip": null,
       "disabled": false,
       "interval": 100,
       "layout": "IPY_MODEL_d6cd76e1e9784eeeb2470f68fbc7a085",
       "max": 0,
       "min": 0,
       "show_repeat": true,
       "step": 1,
       "style": "IPY_MODEL_a80ce6f0c0194e63bf13f2dabbbe3795",
       "value": 0
      }
     },
     "8415adf9a6c740f69a1b6dcc11989ab0": {
      "model_module": "@jupyter-widgets/controls",
      "model_module_version": "1.5.0",
      "model_name": "LinkModel",
      "state": {
       "_model_module": "@jupyter-widgets/controls",
       "_model_module_version": "1.5.0",
       "_model_name": "LinkModel",
       "_view_count": null,
       "_view_module": "@jupyter-widgets/controls",
       "_view_module_version": "1.5.0",
       "_view_name": null,
       "source": [
        "IPY_MODEL_2d19bf6714f347c1a615d9d3ce83c260",
        "value"
       ],
       "target": [
        "IPY_MODEL_8861648eef084c6084d2668192af78f8",
        "frame"
       ]
      }
     },
     "864ad299438f472082531430b3ee9214": {
      "model_module": "@jupyter-widgets/controls",
      "model_module_version": "1.5.0",
      "model_name": "ButtonStyleModel",
      "state": {
       "_model_module": "@jupyter-widgets/controls",
       "_model_module_version": "1.5.0",
       "_model_name": "ButtonStyleModel",
       "_view_count": null,
       "_view_module": "@jupyter-widgets/base",
       "_view_module_version": "1.2.0",
       "_view_name": "StyleView",
       "button_color": null,
       "font_weight": ""
      }
     },
     "87d4b56c2b204b71bfd7305fc1cf2f03": {
      "model_module": "@jupyter-widgets/base",
      "model_module_version": "1.2.0",
      "model_name": "LayoutModel",
      "state": {
       "_model_module": "@jupyter-widgets/base",
       "_model_module_version": "1.2.0",
       "_model_name": "LayoutModel",
       "_view_count": null,
       "_view_module": "@jupyter-widgets/base",
       "_view_module_version": "1.2.0",
       "_view_name": "LayoutView",
       "align_content": null,
       "align_items": null,
       "align_self": null,
       "border": null,
       "bottom": null,
       "display": null,
       "flex": null,
       "flex_flow": null,
       "grid_area": null,
       "grid_auto_columns": null,
       "grid_auto_flow": null,
       "grid_auto_rows": null,
       "grid_column": null,
       "grid_gap": null,
       "grid_row": null,
       "grid_template_areas": null,
       "grid_template_columns": null,
       "grid_template_rows": null,
       "height": null,
       "justify_content": null,
       "justify_items": null,
       "left": null,
       "margin": null,
       "max_height": null,
       "max_width": null,
       "min_height": null,
       "min_width": null,
       "object_fit": null,
       "object_position": null,
       "order": null,
       "overflow": null,
       "overflow_x": null,
       "overflow_y": null,
       "padding": null,
       "right": null,
       "top": null,
       "visibility": null,
       "width": null
      }
     },
     "8861648eef084c6084d2668192af78f8": {
      "model_module": "nglview-js-widgets",
      "model_module_version": "3.0.1",
      "model_name": "NGLModel",
      "state": {
       "_camera_orientation": [],
       "_camera_str": "orthographic",
       "_dom_classes": [],
       "_gui_theme": null,
       "_ibtn_fullscreen": "IPY_MODEL_1a1b5e3389da4a3985c689ce7dc3bd9f",
       "_igui": null,
       "_iplayer": "IPY_MODEL_7b3def9b32bd41f2b6e1e38a1bee877f",
       "_model_module": "nglview-js-widgets",
       "_model_module_version": "3.0.1",
       "_model_name": "NGLModel",
       "_ngl_color_dict": {},
       "_ngl_coordinate_resource": {},
       "_ngl_full_stage_parameters": {},
       "_ngl_msg_archive": [
        {
         "args": [
          "1000px",
          "600px"
         ],
         "kwargs": {},
         "methodName": "setSize",
         "reconstruc_color_scheme": false,
         "target": "Widget",
         "type": "call_method"
        },
        {
         "args": [
          {
           "binary": false,
           "data": "HEADER    2ito.A                                                      \nREMARK  99                                                                      \nREMARK  99 MOE v2012.10 (Chemical Computing Group Inc.) Fri Mar  3 16:16:42 2017\nHELIX    1   1 GLU A  709  GLU A  711  5               Generated by MOE    3\nHELIX    2   2 PRO A  753  SER A  768  1               Generated by MOE   16\nHELIX    3   3 LEU A  798  GLU A  804  1               Generated by MOE    7\nHELIX    4   4 SER A  811  ASP A  830  1               Generated by MOE   20\nHELIX    5   5 ALA A  840  ASN A  842  5               Generated by MOE    3\nHELIX    6   6 ILE A  878  TRP A  880  5               Generated by MOE    3\nHELIX    7   7 LEU A  883  HIS A  888  1               Generated by MOE    6\nHELIX    8   8 HIS A  893  MET A  908  1               Generated by MOE   16\nHELIX    9   9 ALA A  920  GLU A  922  5               Generated by MOE    3\nHELIX   10  10 ILE A  923  LYS A  929  1               Generated by MOE    7\nHELIX   11  11 ILE A  941  LYS A  949  1               Generated by MOE    9\nHELIX   12  12 PHE A  961  MET A  971  1               Generated by MOE   11\nHELIX   13  13 PRO A  975  ARG A  977  5               Generated by MOE    3\nHELIX   14  14 ASP A  984  ARG A  986  5               Generated by MOE    3\nHELIX   15  15 ALA A 1013  GLU A 1015  5               Generated by MOE    3\nSHEET    1       LYS A 714  SER A 719                  Generated by MOE\nSHEET    2       GLY A 724  TRP A 731                  Generated by MOE\nSHEET    3       ILE A 740  LEU A 747                  Generated by MOE\nSHEET    4       LEU A 777  GLY A 779                  Generated by MOE\nSHEET    5       ILE A 780  ILE A 780                  Generated by MOE\nSHEET    6       CYS A 781  CYS A 781                  Generated by MOE\nSHEET    7       GLN A 787  GLN A 791                  Generated by MOE\nSHEET    8       LEU A 833  VAL A 834                  Generated by MOE\nSHEET    9       VAL A 843  THR A 847                  Generated by MOE\nSHEET   10       HIS A 850  LYS A 852                  Generated by MOE\nSHEET   11       ILE A 853  ILE A 853                  Generated by MOE\nSHEET   12       LYS A 860  LEU A 861                  Generated by MOE\nCRYST1   10.000   10.000   10.000  90.00  90.00  90.00 P1         \nATOM      1  N   GLY A 696      -0.609  39.507  14.365  1.00  0.00           N1+\nATOM      2  CA  GLY A 696       0.120  38.206  14.276  1.00  0.00           C  \nATOM      3  C   GLY A 696       0.191  37.470  15.605  1.00  0.00           C  \nATOM      4  O   GLY A 696      -0.798  36.866  16.044  1.00  0.00           O  \nATOM      5  N   GLU A 697       1.366  37.502  16.236  1.00  0.00           N  \nATOM      6  CA  GLU A 697       1.525  36.944  17.585  1.00  0.00           C  \nATOM      7  C   GLU A 697       2.033  37.945  18.613  1.00  0.00           C  \nATOM      8  O   GLU A 697       3.091  38.539  18.422  1.00  0.00           O  \nATOM      9  CB  GLU A 697       2.397  35.689  17.577  1.00  0.00           C  \nATOM     10  CG  GLU A 697       1.597  34.409  17.824  1.00  0.00           C  \nATOM     11  CD  GLU A 697       0.741  34.456  19.102  1.00  0.00           C  \nATOM     12  OE1 GLU A 697       0.328  35.569  19.509  1.00  0.00           O  \nATOM     13  OE2 GLU A 697       0.475  33.373  19.696  1.00  0.00           O1-\nATOM     14  N   ALA A 698       1.278  38.113  19.701  1.00  0.00           N  \nATOM     15  CA  ALA A 698       1.584  39.114  20.716  1.00  0.00           C  \nATOM     16  C   ALA A 698       2.791  38.735  21.603  1.00  0.00           C  \nATOM     17  O   ALA A 698       3.056  37.545  21.800  1.00  0.00           O  \nATOM     18  CB  ALA A 698       0.345  39.421  21.562  1.00  0.00           C  \nATOM     19  N   PRO A 699       3.546  39.755  22.088  1.00  0.00           N  \nATOM     20  CA  PRO A 699       4.587  39.713  23.122  1.00  0.00           C  \nATOM     21  C   PRO A 699       4.109  39.129  24.431  1.00  0.00           C  \nATOM     22  O   PRO A 699       3.225  39.687  25.088  1.00  0.00           O  \nATOM     23  CB  PRO A 699       4.878  41.186  23.371  1.00  0.00           C  \nATOM     24  CG  PRO A 699       3.703  41.914  22.766  1.00  0.00           C  \nATOM     25  CD  PRO A 699       3.412  41.122  21.567  1.00  0.00           C  \nATOM     26  N   ASN A 700       4.709  38.021  24.820  1.00  0.00           N  \nATOM     27  CA  ASN A 700       4.296  37.315  26.014  1.00  0.00           C  \nATOM     28  C   ASN A 700       5.002  37.929  27.192  1.00  0.00           C  \nATOM     29  O   ASN A 700       6.155  37.629  27.471  1.00  0.00           O  \nATOM     30  CB  ASN A 700       4.627  35.833  25.869  1.00  0.00           C  \nATOM     31  CG  ASN A 700       4.403  35.046  27.134  1.00  0.00           C  \nATOM     32  OD1 ASN A 700       4.782  33.883  27.186  1.00  0.00           O  \nATOM     33  ND2 ASN A 700       3.790  35.655  28.151  1.00  0.00           N  \nATOM     34  N   GLN A 701       4.291  38.789  27.898  1.00  0.00           N  \nATOM     35  CA  GLN A 701       4.925  39.583  28.937  1.00  0.00           C  \nATOM     36  C   GLN A 701       4.820  39.018  30.342  1.00  0.00           C  \nATOM     37  O   GLN A 701       4.978  39.748  31.315  1.00  0.00           O  \nATOM     38  CB  GLN A 701       4.403  40.998  28.865  1.00  0.00           C  \nATOM     39  CG  GLN A 701       4.518  41.501  27.464  1.00  0.00           C  \nATOM     40  CD  GLN A 701       4.206  42.938  27.355  1.00  0.00           C  \nATOM     41  OE1 GLN A 701       4.979  43.792  27.785  1.00  0.00           O  \nATOM     42  NE2 GLN A 701       3.058  43.234  26.769  1.00  0.00           N  \nATOM     43  N   ALA A 702       4.598  37.717  30.447  1.00  0.00           N  \nATOM     44  CA  ALA A 702       4.562  37.074  31.731  1.00  0.00           C  \nATOM     45  C   ALA A 702       5.813  37.421  32.561  1.00  0.00           C  \nATOM     46  O   ALA A 702       6.924  37.403  32.014  1.00  0.00           O  \nATOM     47  CB  ALA A 702       4.466  35.601  31.523  1.00  0.00           C  \nATOM     48  N   LEU A 703       5.652  37.743  33.853  1.00  0.00           N  \nATOM     49  CA  LEU A 703       6.828  37.906  34.732  1.00  0.00           C  \nATOM     50  C   LEU A 703       7.225  36.572  35.322  1.00  0.00           C  \nATOM     51  O   LEU A 703       6.395  35.877  35.868  1.00  0.00           O  \nATOM     52  CB  LEU A 703       6.624  38.946  35.847  1.00  0.00           C  \nATOM     53  CG  LEU A 703       6.423  40.417  35.406  1.00  0.00           C  \nATOM     54  CD1 LEU A 703       6.052  41.355  36.579  1.00  0.00           C  \nATOM     55  CD2 LEU A 703       7.591  41.032  34.517  1.00  0.00           C  \nATOM     56  N   LEU A 704       8.488  36.195  35.166  1.00  0.00           N  \nATOM     57  CA  LEU A 704       8.994  34.972  35.761  1.00  0.00           C  \nATOM     58  C   LEU A 704       9.699  35.328  37.053  1.00  0.00           C  \nATOM     59  O   LEU A 704      10.673  36.073  37.048  1.00  0.00           O  \nATOM     60  CB  LEU A 704       9.949  34.228  34.819  1.00  0.00           C  \nATOM     61  CG  LEU A 704      10.829  33.173  35.508  1.00  0.00           C  \nATOM     62  CD1 LEU A 704      10.016  31.974  35.972  1.00  0.00           C  \nATOM     63  CD2 LEU A 704      11.961  32.724  34.599  1.00  0.00           C  \nATOM     64  N   ARG A 705       9.210  34.772  38.154  1.00  0.00           N  \nATOM     65  CA  ARG A 705       9.700  35.125  39.470  1.00  0.00           C  \nATOM     66  C   ARG A 705      10.808  34.190  39.960  1.00  0.00           C  \nATOM     67  O   ARG A 705      10.697  32.977  39.904  1.00  0.00           O  \nATOM     68  CB  ARG A 705       8.534  35.134  40.415  1.00  0.00           C  \nATOM     69  CG  ARG A 705       8.537  36.259  41.360  1.00  0.00           C  \nATOM     70  CD  ARG A 705       7.665  35.882  42.526  1.00  0.00           C  \nATOM     71  NE  ARG A 705       8.071  36.521  43.773  1.00  0.00           N  \nATOM     72  CZ  ARG A 705       7.411  37.524  44.340  1.00  0.00           C  \nATOM     73  NH1 ARG A 705       6.312  38.012  43.772  1.00  0.00           N1+\nATOM     74  NH2 ARG A 705       7.856  38.039  45.475  1.00  0.00           N  \nATOM     75  N   ILE A 706      11.900  34.767  40.421  1.00  0.00           N  \nATOM     76  CA  ILE A 706      13.007  33.968  40.904  1.00  0.00           C  \nATOM     77  C   ILE A 706      12.913  33.908  42.413  1.00  0.00           C  \nATOM     78  O   ILE A 706      13.001  34.947  43.056  1.00  0.00           O  \nATOM     79  CB  ILE A 706      14.363  34.583  40.475  1.00  0.00           C  \nATOM     80  CG1 ILE A 706      14.480  34.620  38.944  1.00  0.00           C  \nATOM     81  CG2 ILE A 706      15.537  33.813  41.097  1.00  0.00           C  \nATOM     82  CD1 ILE A 706      14.548  33.254  38.301  1.00  0.00           C  \nATOM     83  N   LEU A 707      12.739  32.720  42.990  1.00  0.00           N  \nATOM     84  CA  LEU A 707      12.608  32.636  44.447  1.00  0.00           C  \nATOM     85  C   LEU A 707      13.859  32.147  45.131  1.00  0.00           C  \nATOM     86  O   LEU A 707      14.437  31.136  44.727  1.00  0.00           O  \nATOM     87  CB  LEU A 707      11.454  31.735  44.866  1.00  0.00           C  \nATOM     88  CG  LEU A 707      10.123  31.790  44.111  1.00  0.00           C  \nATOM     89  CD1 LEU A 707       9.228  30.714  44.667  1.00  0.00           C  \nATOM     90  CD2 LEU A 707       9.456  33.172  44.172  1.00  0.00           C  \nATOM     91  N   LYS A 708      14.265  32.880  46.168  1.00  0.00           N  \nATOM     92  CA  LYS A 708      15.371  32.491  47.033  1.00  0.00           C  \nATOM     93  C   LYS A 708      15.055  31.213  47.770  1.00  0.00           C  \nATOM     94  O   LYS A 708      13.945  31.038  48.263  1.00  0.00           O  \nATOM     95  CB  LYS A 708      15.664  33.577  48.053  1.00  0.00           C  \nATOM     96  CG  LYS A 708      16.928  34.337  47.770  1.00  0.00           C  \nATOM     97  CD  LYS A 708      16.859  35.761  48.300  1.00  0.00           C  \nATOM     98  CE  LYS A 708      15.666  36.488  47.684  1.00  0.00           C  \nATOM     99  NZ  LYS A 708      15.961  37.915  47.393  1.00  0.00           N1+\nATOM    100  N   GLU A 709      16.049  30.337  47.852  1.00  0.00           N  \nATOM    101  CA  GLU A 709      15.915  29.078  48.565  1.00  0.00           C  \nATOM    102  C   GLU A 709      15.580  29.242  50.053  1.00  0.00           C  \nATOM    103  O   GLU A 709      15.089  28.309  50.692  1.00  0.00           O  \nATOM    104  CB  GLU A 709      17.180  28.239  48.426  1.00  0.00           C  \nATOM    105  CG  GLU A 709      16.916  26.763  48.717  1.00  0.00           C  \nATOM    106  CD  GLU A 709      18.119  26.055  49.274  1.00  0.00           C  \nATOM    107  OE1 GLU A 709      18.871  26.677  50.057  1.00  0.00           O  \nATOM    108  OE2 GLU A 709      18.306  24.871  48.932  1.00  0.00           O1-\nATOM    109  N   THR A 710      15.858  30.420  50.601  1.00  0.00           N  \nATOM    110  CA  THR A 710      15.513  30.731  51.991  1.00  0.00           C  \nATOM    111  C   THR A 710      14.005  30.980  52.165  1.00  0.00           C  \nATOM    112  O   THR A 710      13.478  30.822  53.265  1.00  0.00           O  \nATOM    113  CB  THR A 710      16.378  31.930  52.579  1.00  0.00           C  \nATOM    114  OG1 THR A 710      15.893  33.217  52.145  1.00  0.00           O  \nATOM    115  CG2 THR A 710      17.842  31.795  52.163  1.00  0.00           C  \nATOM    116  N   GLU A 711      13.314  31.332  51.075  1.00  0.00           N  \nATOM    117  CA  GLU A 711      11.959  31.903  51.152  1.00  0.00           C  \nATOM    118  C   GLU A 711      10.853  30.921  51.536  1.00  0.00           C  \nATOM    119  O   GLU A 711       9.691  31.314  51.678  1.00  0.00           O  \nATOM    120  CB  GLU A 711      11.597  32.615  49.844  1.00  0.00           C  \nATOM    121  CG  GLU A 711      12.158  34.004  49.707  1.00  0.00           C  \nATOM    122  CD  GLU A 711      11.808  34.631  48.372  1.00  0.00           C  \nATOM    123  OE1 GLU A 711      12.640  34.594  47.438  1.00  0.00           O  \nATOM    124  OE2 GLU A 711      10.683  35.156  48.248  1.00  0.00           O1-\nATOM    125  N   PHE A 712      11.197  29.656  51.720  1.00  0.00           N  \nATOM    126  CA  PHE A 712      10.173  28.682  51.999  1.00  0.00           C  \nATOM    127  C   PHE A 712      10.696  27.382  52.558  1.00  0.00           C  \nATOM    128  O   PHE A 712      11.774  26.929  52.184  1.00  0.00           O  \nATOM    129  CB  PHE A 712       9.382  28.381  50.722  1.00  0.00           C  \nATOM    130  CG  PHE A 712      10.219  27.918  49.590  1.00  0.00           C  \nATOM    131  CD1 PHE A 712      10.684  26.622  49.541  1.00  0.00           C  \nATOM    132  CD2 PHE A 712      10.535  28.777  48.567  1.00  0.00           C  \nATOM    133  CE1 PHE A 712      11.469  26.195  48.493  1.00  0.00           C  \nATOM    134  CE2 PHE A 712      11.313  28.365  47.513  1.00  0.00           C  \nATOM    135  CZ  PHE A 712      11.786  27.073  47.472  1.00  0.00           C  \nATOM    136  N   LYS A 713       9.902  26.770  53.431  1.00  0.00           N  \nATOM    137  CA  LYS A 713      10.172  25.416  53.918  1.00  0.00           C  \nATOM    138  C   LYS A 713       9.477  24.320  53.084  1.00  0.00           C  \nATOM    139  O   LYS A 713       8.278  24.439  52.772  1.00  0.00           O  \nATOM    140  CB  LYS A 713       9.795  25.273  55.403  1.00  0.00           C  \nATOM    141  CG  LYS A 713       8.628  26.126  55.862  1.00  0.00           C  \nATOM    142  CD  LYS A 713       9.101  27.403  56.572  1.00  0.00           C  \nATOM    143  CE  LYS A 713       7.862  28.165  57.119  1.00  0.00           C  \nATOM    144  NZ  LYS A 713       8.097  28.612  58.591  1.00  0.00           N1+\nATOM    145  N   LYS A 714      10.241  23.275  52.714  1.00  0.00           N  \nATOM    146  CA  LYS A 714       9.689  21.943  52.414  1.00  0.00           C  \nATOM    147  C   LYS A 714       9.052  21.364  53.681  1.00  0.00           C  \nATOM    148  O   LYS A 714       9.340  21.809  54.807  1.00  0.00           O  \nATOM    149  CB  LYS A 714      10.761  20.986  51.898  1.00  0.00           C  \nATOM    150  CG  LYS A 714      11.030  21.096  50.408  1.00  0.00           C  \nATOM    151  CD  LYS A 714      12.331  20.369  49.976  1.00  0.00           C  \nATOM    152  CE  LYS A 714      13.112  21.183  48.909  1.00  0.00           C  \nATOM    153  NZ  LYS A 714      14.008  20.327  48.080  1.00  0.00           N1+\nATOM    154  N   ILE A 715       8.185  20.373  53.502  1.00  0.00           N  \nATOM    155  CA  ILE A 715       7.343  19.935  54.611  1.00  0.00           C  \nATOM    156  C   ILE A 715       6.950  18.457  54.573  1.00  0.00           C  \nATOM    157  O   ILE A 715       6.586  17.887  55.607  1.00  0.00           O  \nATOM    158  CB  ILE A 715       6.157  20.965  54.880  1.00  0.00           C  \nATOM    159  CG1 ILE A 715       6.444  21.753  56.164  1.00  0.00           C  \nATOM    160  CG2 ILE A 715       4.782  20.296  54.951  1.00  0.00           C  \nATOM    161  CD1 ILE A 715       5.973  23.170  56.146  1.00  0.00           C  \nATOM    162  N   LYS A 716       7.073  17.834  53.399  1.00  0.00           N  \nATOM    163  CA  LYS A 716       6.693  16.428  53.216  1.00  0.00           C  \nATOM    164  C   LYS A 716       6.718  16.094  51.728  1.00  0.00           C  \nATOM    165  O   LYS A 716       6.393  16.936  50.902  1.00  0.00           O  \nATOM    166  CB  LYS A 716       5.300  16.158  53.843  1.00  0.00           C  \nATOM    167  CG  LYS A 716       4.600  14.836  53.483  1.00  0.00           C  \nATOM    168  CD  LYS A 716       3.294  14.656  54.267  1.00  0.00           C  \nATOM    169  CE  LYS A 716       2.311  13.736  53.539  1.00  0.00           C  \nATOM    170  NZ  LYS A 716       1.330  14.499  52.712  1.00  0.00           N1+\nATOM    171  N   VAL A 717       7.130  14.872  51.395  1.00  0.00           N  \nATOM    172  CA  VAL A 717       7.095  14.378  50.017  1.00  0.00           C  \nATOM    173  C   VAL A 717       5.653  14.135  49.611  1.00  0.00           C  \nATOM    174  O   VAL A 717       4.815  13.847  50.455  1.00  0.00           O  \nATOM    175  CB  VAL A 717       7.937  13.073  49.842  1.00  0.00           C  \nATOM    176  CG1 VAL A 717       7.499  12.255  48.621  1.00  0.00           C  \nATOM    177  CG2 VAL A 717       9.406  13.411  49.739  1.00  0.00           C  \nATOM    178  N   LEU A 718       5.372  14.277  48.321  1.00  0.00           N  \nATOM    179  CA  LEU A 718       4.063  13.984  47.781  1.00  0.00           C  \nATOM    180  C   LEU A 718       4.167  12.928  46.705  1.00  0.00           C  \nATOM    181  O   LEU A 718       3.234  12.150  46.486  1.00  0.00           O  \nATOM    182  CB  LEU A 718       3.441  15.230  47.178  1.00  0.00           C  \nATOM    183  CG  LEU A 718       3.059  16.327  48.142  1.00  0.00           C  \nATOM    184  CD1 LEU A 718       2.686  17.555  47.363  1.00  0.00           C  \nATOM    185  CD2 LEU A 718       1.906  15.867  48.989  1.00  0.00           C  \nATOM    186  N   SER A 719       5.291  12.900  46.009  1.00  0.00           N  \nATOM    187  CA  SER A 719       5.396  11.997  44.900  1.00  0.00           C  \nATOM    188  C   SER A 719       6.826  11.911  44.512  1.00  0.00           C  \nATOM    189  O   SER A 719       7.413  12.904  44.117  1.00  0.00           O  \nATOM    190  CB  SER A 719       4.583  12.528  43.729  1.00  0.00           C  \nATOM    191  OG  SER A 719       3.916  11.462  43.101  1.00  0.00           O  \nATOM    192  N   SER A 720       7.410  10.733  44.646  1.00  0.00           N  \nATOM    193  CA  SER A 720       8.761  10.545  44.140  1.00  0.00           C  \nATOM    194  C   SER A 720       8.756   9.387  43.152  1.00  0.00           C  \nATOM    195  O   SER A 720       7.685   8.961  42.706  1.00  0.00           O  \nATOM    196  CB  SER A 720       9.796  10.389  45.273  1.00  0.00           C  \nATOM    197  OG  SER A 720       9.788   9.096  45.860  1.00  0.00           O  \nATOM    198  N   GLY A 721       9.942   8.887  42.815  1.00  0.00           N  \nATOM    199  CA  GLY A 721      10.103   7.936  41.723  1.00  0.00           C  \nATOM    200  C   GLY A 721       9.980   8.725  40.436  1.00  0.00           C  \nATOM    201  O   GLY A 721      10.649   9.754  40.279  1.00  0.00           O  \nATOM    202  N   ALA A 722       9.105   8.252  39.543  1.00  0.00           N  \nATOM    203  CA  ALA A 722       8.839   8.843  38.201  1.00  0.00           C  \nATOM    204  C   ALA A 722      10.025   9.549  37.478  1.00  0.00           C  \nATOM    205  O   ALA A 722      10.986   8.905  36.994  1.00  0.00           O  \nATOM    206  CB  ALA A 722       7.569   9.765  38.241  1.00  0.00           C  \nATOM    207  N   PHE A 723       9.920  10.878  37.424  1.00  0.00           N  \nATOM    208  CA  PHE A 723      10.913  11.752  36.806  1.00  0.00           C  \nATOM    209  C   PHE A 723      11.261  12.916  37.773  1.00  0.00           C  \nATOM    210  O   PHE A 723      11.742  13.982  37.350  1.00  0.00           O  \nATOM    211  CB  PHE A 723      10.382  12.260  35.442  1.00  0.00           C  \nATOM    212  CG  PHE A 723       9.557  11.222  34.656  1.00  0.00           C  \nATOM    213  CD1 PHE A 723      10.171  10.087  34.075  1.00  0.00           C  \nATOM    214  CD2 PHE A 723       8.167  11.391  34.485  1.00  0.00           C  \nATOM    215  CE1 PHE A 723       9.411   9.132  33.347  1.00  0.00           C  \nATOM    216  CE2 PHE A 723       7.401  10.444  33.753  1.00  0.00           C  \nATOM    217  CZ  PHE A 723       8.026   9.315  33.186  1.00  0.00           C  \nATOM    218  N   GLY A 724      11.014  12.695  39.070  1.00  0.00           N  \nATOM    219  CA  GLY A 724      11.343  13.665  40.128  1.00  0.00           C  \nATOM    220  C   GLY A 724      10.388  13.685  41.322  1.00  0.00           C  \nATOM    221  O   GLY A 724       9.273  13.131  41.255  1.00  0.00           O  \nATOM    222  N   THR A 725      10.844  14.323  42.410  1.00  0.00           N  \nATOM    223  CA  THR A 725      10.036  14.601  43.602  1.00  0.00           C  \nATOM    224  C   THR A 725       9.072  15.755  43.367  1.00  0.00           C  \nATOM    225  O   THR A 725       9.330  16.614  42.533  1.00  0.00           O  \nATOM    226  CB  THR A 725      10.904  15.058  44.783  1.00  0.00           C  \nATOM    227  OG1 THR A 725      12.233  14.576  44.614  1.00  0.00           O  \nATOM    228  CG2 THR A 725      10.343  14.561  46.099  1.00  0.00           C  \nATOM    229  N   VAL A 726       7.970  15.752  44.118  1.00  0.00           N  \nATOM    230  CA  VAL A 726       7.091  16.903  44.303  1.00  0.00           C  \nATOM    231  C   VAL A 726       6.852  16.980  45.797  1.00  0.00           C  \nATOM    232  O   VAL A 726       6.460  15.994  46.379  1.00  0.00           O  \nATOM    233  CB  VAL A 726       5.737  16.717  43.597  1.00  0.00           C  \nATOM    234  CG1 VAL A 726       4.762  17.774  44.056  1.00  0.00           C  \nATOM    235  CG2 VAL A 726       5.901  16.770  42.081  1.00  0.00           C  \nATOM    236  N   TYR A 727       7.107  18.122  46.422  1.00  0.00           N  \nATOM    237  CA  TYR A 727       6.857  18.265  47.858  1.00  0.00           C  \nATOM    238  C   TYR A 727       5.664  19.145  48.165  1.00  0.00           C  \nATOM    239  O   TYR A 727       5.254  19.942  47.351  1.00  0.00           O  \nATOM    240  CB  TYR A 727       8.049  18.873  48.593  1.00  0.00           C  \nATOM    241  CG  TYR A 727       9.363  18.163  48.413  1.00  0.00           C  \nATOM    242  CD1 TYR A 727      10.267  18.583  47.432  1.00  0.00           C  \nATOM    243  CD2 TYR A 727       9.729  17.083  49.222  1.00  0.00           C  \nATOM    244  CE1 TYR A 727      11.507  17.939  47.248  1.00  0.00           C  \nATOM    245  CE2 TYR A 727      10.972  16.433  49.039  1.00  0.00           C  \nATOM    246  CZ  TYR A 727      11.844  16.880  48.052  1.00  0.00           C  \nATOM    247  OH  TYR A 727      13.051  16.285  47.850  1.00  0.00           O  \nATOM    248  N   LYS A 728       5.115  18.985  49.354  1.00  0.00           N  \nATOM    249  CA  LYS A 728       4.239  19.974  49.942  1.00  0.00           C  \nATOM    250  C   LYS A 728       5.186  21.026  50.489  1.00  0.00           C  \nATOM    251  O   LYS A 728       6.344  20.739  50.703  1.00  0.00           O  \nATOM    252  CB  LYS A 728       3.411  19.309  51.054  1.00  0.00           C  \nATOM    253  CG  LYS A 728       2.801  20.229  52.123  1.00  0.00           C  \nATOM    254  CD  LYS A 728       1.550  19.622  52.796  1.00  0.00           C  \nATOM    255  CE  LYS A 728       1.733  18.148  53.181  1.00  0.00           C  \nATOM    256  NZ  LYS A 728       0.537  17.579  53.888  1.00  0.00           N1+\nATOM    257  N   GLY A 729       4.722  22.247  50.696  1.00  0.00           N  \nATOM    258  CA  GLY A 729       5.582  23.261  51.289  1.00  0.00           C  \nATOM    259  C   GLY A 729       4.898  24.566  51.635  1.00  0.00           C  \nATOM    260  O   GLY A 729       3.800  24.854  51.176  1.00  0.00           O  \nATOM    261  N   LEU A 730       5.560  25.365  52.449  1.00  0.00           N  \nATOM    262  CA  LEU A 730       5.088  26.698  52.694  1.00  0.00           C  \nATOM    263  C   LEU A 730       6.009  27.719  52.052  1.00  0.00           C  \nATOM    264  O   LEU A 730       7.173  27.439  51.836  1.00  0.00           O  \nATOM    265  CB  LEU A 730       4.973  26.922  54.185  1.00  0.00           C  \nATOM    266  CG  LEU A 730       3.607  26.490  54.692  1.00  0.00           C  \nATOM    267  CD1 LEU A 730       3.265  27.257  55.949  1.00  0.00           C  \nATOM    268  CD2 LEU A 730       2.563  26.761  53.615  1.00  0.00           C  \nATOM    269  N   TRP A 731       5.488  28.893  51.724  1.00  0.00           N  \nATOM    270  CA  TRP A 731       6.295  29.902  51.049  1.00  0.00           C  \nATOM    271  C   TRP A 731       6.073  31.275  51.652  1.00  0.00           C  \nATOM    272  O   TRP A 731       4.948  31.765  51.696  1.00  0.00           O  \nATOM    273  CB  TRP A 731       6.028  29.927  49.522  1.00  0.00           C  \nATOM    274  CG  TRP A 731       6.770  31.046  48.792  1.00  0.00           C  \nATOM    275  CD1 TRP A 731       8.082  31.386  48.939  1.00  0.00           C  \nATOM    276  CD2 TRP A 731       6.236  31.961  47.826  1.00  0.00           C  \nATOM    277  NE1 TRP A 731       8.396  32.451  48.141  1.00  0.00           N  \nATOM    278  CE2 TRP A 731       7.282  32.827  47.446  1.00  0.00           C  \nATOM    279  CE3 TRP A 731       4.972  32.145  47.255  1.00  0.00           C  \nATOM    280  CZ2 TRP A 731       7.110  33.853  46.520  1.00  0.00           C  \nATOM    281  CZ3 TRP A 731       4.808  33.161  46.319  1.00  0.00           C  \nATOM    282  CH2 TRP A 731       5.872  34.001  45.967  1.00  0.00           C  \nATOM    283  N   ILE A 732       7.141  31.906  52.116  1.00  0.00           N  \nATOM    284  CA  ILE A 732       7.001  33.291  52.519  1.00  0.00           C  \nATOM    285  C   ILE A 732       7.690  34.214  51.504  1.00  0.00           C  \nATOM    286  O   ILE A 732       8.916  34.373  51.538  1.00  0.00           O  \nATOM    287  CB  ILE A 732       7.446  33.577  53.997  1.00  0.00           C  \nATOM    288  CG1 ILE A 732       6.720  32.674  55.007  1.00  0.00           C  \nATOM    289  CG2 ILE A 732       7.126  35.029  54.358  1.00  0.00           C  \nATOM    290  CD1 ILE A 732       7.423  31.415  55.398  1.00  0.00           C  \nATOM    291  N   PRO A 733       6.902  34.829  50.596  1.00  0.00           N  \nATOM    292  CA  PRO A 733       7.461  35.820  49.703  1.00  0.00           C  \nATOM    293  C   PRO A 733       8.018  36.943  50.572  1.00  0.00           C  \nATOM    294  O   PRO A 733       7.313  37.938  50.853  1.00  0.00           O  \nATOM    295  CB  PRO A 733       6.246  36.312  48.909  1.00  0.00           C  \nATOM    296  CG  PRO A 733       5.095  35.986  49.720  1.00  0.00           C  \nATOM    297  CD  PRO A 733       5.457  34.689  50.386  1.00  0.00           C  \nATOM    298  N   GLU A 734       9.271  36.745  51.002  1.00  0.00           N  \nATOM    299  CA  GLU A 734       9.965  37.606  51.960  1.00  0.00           C  \nATOM    300  C   GLU A 734       9.660  39.103  51.785  1.00  0.00           C  \nATOM    301  O   GLU A 734       9.615  39.635  50.653  1.00  0.00           O  \nATOM    302  CB  GLU A 734      11.479  37.364  51.897  1.00  0.00           C  \nATOM    303  CG  GLU A 734      12.152  37.974  50.635  1.00  0.00           C  \nATOM    304  CD  GLU A 734      13.697  37.968  50.669  1.00  0.00           C  \nATOM    305  OE1 GLU A 734      14.311  37.586  51.712  1.00  0.00           O  \nATOM    306  OE2 GLU A 734      14.284  38.358  49.626  1.00  0.00           O1-\nATOM    307  N   GLY A 735       9.453  39.756  52.928  1.00  0.00           N  \nATOM    308  CA  GLY A 735       9.117  41.165  52.972  1.00  0.00           C  \nATOM    309  C   GLY A 735       7.652  41.410  52.685  1.00  0.00           C  \nATOM    310  O   GLY A 735       7.248  42.526  52.327  1.00  0.00           O  \nATOM    311  N   GLU A 736       6.839  40.371  52.830  1.00  0.00           N  \nATOM    312  CA  GLU A 736       5.421  40.571  52.649  1.00  0.00           C  \nATOM    313  C   GLU A 736       4.618  40.009  53.800  1.00  0.00           C  \nATOM    314  O   GLU A 736       3.494  40.429  54.028  1.00  0.00           O  \nATOM    315  CB  GLU A 736       4.947  40.057  51.284  1.00  0.00           C  \nATOM    316  CG  GLU A 736       5.231  41.022  50.105  1.00  0.00           C  \nATOM    317  CD  GLU A 736       4.260  40.828  48.930  1.00  0.00           C  \nATOM    318  OE1 GLU A 736       3.125  41.354  48.990  1.00  0.00           O  \nATOM    319  OE2 GLU A 736       4.627  40.159  47.935  1.00  0.00           O1-\nATOM    320  N   LYS A 737       5.204  39.092  54.552  1.00  0.00           N  \nATOM    321  CA  LYS A 737       4.525  38.533  55.738  1.00  0.00           C  \nATOM    322  C   LYS A 737       3.128  37.899  55.448  1.00  0.00           C  \nATOM    323  O   LYS A 737       2.066  38.354  55.913  1.00  0.00           O  \nATOM    324  CB  LYS A 737       4.543  39.537  56.914  1.00  0.00           C  \nATOM    325  CG  LYS A 737       3.295  40.353  57.149  1.00  0.00           C  \nATOM    326  CD  LYS A 737       2.887  40.177  58.611  1.00  0.00           C  \nATOM    327  CE  LYS A 737       1.653  40.994  59.003  1.00  0.00           C  \nATOM    328  NZ  LYS A 737       0.861  40.257  60.044  1.00  0.00           N1+\nATOM    329  N   VAL A 738       3.192  36.850  54.628  1.00  0.00           N  \nATOM    330  CA  VAL A 738       2.052  36.069  54.157  1.00  0.00           C  \nATOM    331  C   VAL A 738       2.576  34.662  53.876  1.00  0.00           C  \nATOM    332  O   VAL A 738       3.606  34.507  53.210  1.00  0.00           O  \nATOM    333  CB  VAL A 738       1.361  36.651  52.849  1.00  0.00           C  \nATOM    334  CG1 VAL A 738       0.855  38.052  53.062  1.00  0.00           C  \nATOM    335  CG2 VAL A 738       2.281  36.654  51.651  1.00  0.00           C  \nATOM    336  N   LYS A 739       1.902  33.638  54.396  1.00  0.00           N  \nATOM    337  CA  LYS A 739       2.294  32.270  54.083  1.00  0.00           C  \nATOM    338  C   LYS A 739       1.440  31.751  52.932  1.00  0.00           C  \nATOM    339  O   LYS A 739       0.291  32.157  52.789  1.00  0.00           O  \nATOM    340  CB  LYS A 739       2.187  31.375  55.301  1.00  0.00           C  \nATOM    341  CG  LYS A 739       3.095  31.762  56.401  1.00  0.00           C  \nATOM    342  CD  LYS A 739       3.156  30.644  57.385  1.00  0.00           C  \nATOM    343  CE  LYS A 739       3.038  31.162  58.813  1.00  0.00           C  \nATOM    344  NZ  LYS A 739       3.036  29.998  59.757  1.00  0.00           N1+\nATOM    345  N   ILE A 740       2.016  30.878  52.107  1.00  0.00           N  \nATOM    346  CA  ILE A 740       1.383  30.410  50.883  1.00  0.00           C  \nATOM    347  C   ILE A 740       1.644  28.910  50.705  1.00  0.00           C  \nATOM    348  O   ILE A 740       2.765  28.488  50.417  1.00  0.00           O  \nATOM    349  CB  ILE A 740       1.860  31.223  49.630  1.00  0.00           C  \nATOM    350  CG1 ILE A 740       1.620  32.723  49.829  1.00  0.00           C  \nATOM    351  CG2 ILE A 740       1.192  30.739  48.363  1.00  0.00           C  \nATOM    352  CD1 ILE A 740       0.878  33.425  48.716  1.00  0.00           C  \nATOM    353  N   PRO A 741       0.601  28.090  50.901  1.00  0.00           N  \nATOM    354  CA  PRO A 741       0.828  26.672  50.708  1.00  0.00           C  \nATOM    355  C   PRO A 741       1.163  26.437  49.258  1.00  0.00           C  \nATOM    356  O   PRO A 741       0.501  26.956  48.379  1.00  0.00           O  \nATOM    357  CB  PRO A 741      -0.515  26.047  51.098  1.00  0.00           C  \nATOM    358  CG  PRO A 741      -1.198  27.092  51.924  1.00  0.00           C  \nATOM    359  CD  PRO A 741      -0.786  28.374  51.310  1.00  0.00           C  \nATOM    360  N   VAL A 742       2.226  25.693  49.022  1.00  0.00           N  \nATOM    361  CA  VAL A 742       2.713  25.467  47.666  1.00  0.00           C  \nATOM    362  C   VAL A 742       3.089  24.015  47.417  1.00  0.00           C  \nATOM    363  O   VAL A 742       3.337  23.259  48.344  1.00  0.00           O  \nATOM    364  CB  VAL A 742       3.951  26.383  47.316  1.00  0.00           C  \nATOM    365  CG1 VAL A 742       3.597  27.862  47.423  1.00  0.00           C  \nATOM    366  CG2 VAL A 742       5.154  26.061  48.189  1.00  0.00           C  \nATOM    367  N   ALA A 743       3.130  23.644  46.153  1.00  0.00           N  \nATOM    368  CA  ALA A 743       3.827  22.448  45.753  1.00  0.00           C  \nATOM    369  C   ALA A 743       5.103  22.815  44.980  1.00  0.00           C  \nATOM    370  O   ALA A 743       5.212  23.898  44.388  1.00  0.00           O  \nATOM    371  CB  ALA A 743       2.933  21.562  44.947  1.00  0.00           C  \nATOM    372  N   ILE A 744       6.077  21.910  45.036  1.00  0.00           N  \nATOM    373  CA  ILE A 744       7.403  22.148  44.483  1.00  0.00           C  \nATOM    374  C   ILE A 744       7.908  20.919  43.749  1.00  0.00           C  \nATOM    375  O   ILE A 744       8.348  19.969  44.370  1.00  0.00           O  \nATOM    376  CB  ILE A 744       8.444  22.517  45.567  1.00  0.00           C  \nATOM    377  CG1 ILE A 744       7.969  23.693  46.410  1.00  0.00           C  \nATOM    378  CG2 ILE A 744       9.769  22.885  44.916  1.00  0.00           C  \nATOM    379  CD1 ILE A 744       8.288  23.571  47.863  1.00  0.00           C  \nATOM    380  N   LYS A 745       7.838  20.955  42.424  1.00  0.00           N  \nATOM    381  CA  LYS A 745       8.370  19.890  41.599  1.00  0.00           C  \nATOM    382  C   LYS A 745       9.831  20.156  41.406  1.00  0.00           C  \nATOM    383  O   LYS A 745      10.220  21.111  40.750  1.00  0.00           O  \nATOM    384  CB  LYS A 745       7.667  19.790  40.243  1.00  0.00           C  \nATOM    385  CG  LYS A 745       8.375  18.866  39.268  1.00  0.00           C  \nATOM    386  CD  LYS A 745       7.416  17.999  38.527  1.00  0.00           C  \nATOM    387  CE  LYS A 745       6.712  18.780  37.479  1.00  0.00           C  \nATOM    388  NZ  LYS A 745       5.766  17.918  36.737  1.00  0.00           N1+\nATOM    389  N   GLU A 746      10.633  19.301  42.024  1.00  0.00           N  \nATOM    390  CA  GLU A 746      12.081  19.317  41.907  1.00  0.00           C  \nATOM    391  C   GLU A 746      12.445  18.159  41.010  1.00  0.00           C  \nATOM    392  O   GLU A 746      11.908  17.045  41.150  1.00  0.00           O  \nATOM    393  CB  GLU A 746      12.727  19.187  43.292  1.00  0.00           C  \nATOM    394  CG  GLU A 746      14.100  18.551  43.343  1.00  0.00           C  \nATOM    395  CD  GLU A 746      14.831  18.912  44.619  1.00  0.00           C  \nATOM    396  OE1 GLU A 746      14.283  18.666  45.718  1.00  0.00           O  \nATOM    397  OE2 GLU A 746      15.952  19.456  44.527  1.00  0.00           O1-\nATOM    398  N   LEU A 747      13.339  18.452  40.070  1.00  0.00           N  \nATOM    399  CA  LEU A 747      13.803  17.498  39.073  1.00  0.00           C  \nATOM    400  C   LEU A 747      14.743  16.471  39.713  1.00  0.00           C  \nATOM    401  O   LEU A 747      15.461  16.806  40.687  1.00  0.00           O  \nATOM    402  CB  LEU A 747      14.535  18.264  37.972  1.00  0.00           C  \nATOM    403  CG  LEU A 747      14.943  17.515  36.711  1.00  0.00           C  \nATOM    404  CD1 LEU A 747      13.703  16.893  36.039  1.00  0.00           C  \nATOM    405  CD2 LEU A 747      15.706  18.468  35.783  1.00  0.00           C  \nATOM    406  N   ARG A 748      14.733  15.238  39.173  1.00  0.00           N  \nATOM    407  CA  ARG A 748      15.676  14.176  39.586  1.00  0.00           C  \nATOM    408  C   ARG A 748      17.030  14.788  39.989  1.00  0.00           C  \nATOM    409  O   ARG A 748      17.623  15.575  39.223  1.00  0.00           O  \nATOM    410  CB  ARG A 748      15.904  13.123  38.475  1.00  0.00           C  \nATOM    411  CG  ARG A 748      14.662  12.614  37.736  1.00  0.00           C  \nATOM    412  CD  ARG A 748      14.692  11.091  37.561  1.00  0.00           C  \nATOM    413  NE  ARG A 748      13.748  10.402  38.449  1.00  0.00           N  \nATOM    414  CZ  ARG A 748      13.936  10.192  39.754  1.00  0.00           C  \nATOM    415  NH1 ARG A 748      15.037  10.618  40.361  1.00  0.00           N1+\nATOM    416  NH2 ARG A 748      13.015   9.549  40.457  1.00  0.00           N  \nATOM    417  N   GLU A 749      17.500  14.441  41.192  1.00  0.00           N  \nATOM    418  CA  GLU A 749      18.791  14.924  41.711  1.00  0.00           C  \nATOM    419  C   GLU A 749      19.941  14.765  40.683  1.00  0.00           C  \nATOM    420  O   GLU A 749      20.788  15.668  40.539  1.00  0.00           O  \nATOM    421  CB  GLU A 749      19.125  14.237  43.050  1.00  0.00           C  \nATOM    422  CG  GLU A 749      18.065  14.414  44.164  1.00  0.00           C  \nATOM    423  CD  GLU A 749      17.961  15.858  44.683  1.00  0.00           C  \nATOM    424  OE1 GLU A 749      18.005  16.049  45.923  1.00  0.00           O  \nATOM    425  OE2 GLU A 749      17.831  16.802  43.859  1.00  0.00           O1-\nATOM    426  N   ALA A 750      19.953  13.615  39.987  1.00  0.00           N  \nATOM    427  CA  ALA A 750      20.700  13.423  38.730  1.00  0.00           C  \nATOM    428  C   ALA A 750      20.292  14.531  37.733  1.00  0.00           C  \nATOM    429  O   ALA A 750      19.394  14.344  36.899  1.00  0.00           O  \nATOM    430  CB  ALA A 750      20.429  12.007  38.141  1.00  0.00           C  \nATOM    431  N   THR A 751      20.962  15.683  37.852  1.00  0.00           N  \nATOM    432  CA  THR A 751      20.582  16.938  37.187  1.00  0.00           C  \nATOM    433  C   THR A 751      21.280  17.114  35.825  1.00  0.00           C  \nATOM    434  O   THR A 751      21.827  18.184  35.522  1.00  0.00           O  \nATOM    435  CB  THR A 751      20.816  18.155  38.156  1.00  0.00           C  \nATOM    436  OG1 THR A 751      19.985  18.005  39.319  1.00  0.00           O  \nATOM    437  CG2 THR A 751      20.517  19.507  37.489  1.00  0.00           C  \nATOM    438  N   SER A 752      21.240  16.050  35.018  1.00  0.00           N  \nATOM    439  CA  SER A 752      21.724  16.058  33.633  1.00  0.00           C  \nATOM    440  C   SER A 752      21.091  17.213  32.824  1.00  0.00           C  \nATOM    441  O   SER A 752      19.924  17.574  33.077  1.00  0.00           O  \nATOM    442  CB  SER A 752      21.410  14.717  32.959  1.00  0.00           C  \nATOM    443  OG  SER A 752      20.018  14.574  32.723  1.00  0.00           O  \nATOM    444  N   PRO A 753      21.856  17.806  31.864  1.00  0.00           N  \nATOM    445  CA  PRO A 753      21.345  18.903  31.002  1.00  0.00           C  \nATOM    446  C   PRO A 753      20.171  18.496  30.066  1.00  0.00           C  \nATOM    447  O   PRO A 753      19.313  19.338  29.736  1.00  0.00           O  \nATOM    448  CB  PRO A 753      22.584  19.327  30.188  1.00  0.00           C  \nATOM    449  CG  PRO A 753      23.767  18.752  30.934  1.00  0.00           C  \nATOM    450  CD  PRO A 753      23.261  17.481  31.543  1.00  0.00           C  \nATOM    451  N   LYS A 754      20.149  17.222  29.657  1.00  0.00           N  \nATOM    452  CA  LYS A 754      19.037  16.622  28.905  1.00  0.00           C  \nATOM    453  C   LYS A 754      17.659  16.813  29.614  1.00  0.00           C  \nATOM    454  O   LYS A 754      16.614  16.849  28.950  1.00  0.00           O  \nATOM    455  CB  LYS A 754      19.392  15.143  28.558  1.00  0.00           C  \nATOM    456  CG  LYS A 754      18.341  14.181  27.870  1.00  0.00           C  \nATOM    457  CD  LYS A 754      17.209  14.819  26.995  1.00  0.00           C  \nATOM    458  CE  LYS A 754      17.666  15.496  25.693  1.00  0.00           C  \nATOM    459  NZ  LYS A 754      16.563  16.320  25.096  1.00  0.00           N1+\nATOM    460  N   ALA A 755      17.662  16.991  30.940  1.00  0.00           N  \nATOM    461  CA  ALA A 755      16.415  17.158  31.710  1.00  0.00           C  \nATOM    462  C   ALA A 755      16.046  18.609  32.048  1.00  0.00           C  \nATOM    463  O   ALA A 755      14.892  19.006  31.887  1.00  0.00           O  \nATOM    464  CB  ALA A 755      16.460  16.314  32.969  1.00  0.00           C  \nATOM    465  N   ASN A 756      17.024  19.384  32.523  1.00  0.00           N  \nATOM    466  CA  ASN A 756      16.820  20.794  32.879  1.00  0.00           C  \nATOM    467  C   ASN A 756      16.068  21.542  31.805  1.00  0.00           C  \nATOM    468  O   ASN A 756      15.322  22.462  32.108  1.00  0.00           O  \nATOM    469  CB  ASN A 756      18.144  21.528  33.129  1.00  0.00           C  \nATOM    470  CG  ASN A 756      18.813  21.129  34.440  1.00  0.00           C  \nATOM    471  OD1 ASN A 756      18.696  21.832  35.453  1.00  0.00           O  \nATOM    472  ND2 ASN A 756      19.541  20.004  34.419  1.00  0.00           N  \nATOM    473  N   LYS A 757      16.283  21.154  30.552  1.00  0.00           N  \nATOM    474  CA  LYS A 757      15.542  21.733  29.438  1.00  0.00           C  \nATOM    475  C   LYS A 757      14.032  21.534  29.630  1.00  0.00           C  \nATOM    476  O   LYS A 757      13.261  22.492  29.563  1.00  0.00           O  \nATOM    477  CB  LYS A 757      16.042  21.162  28.099  1.00  0.00           C  \nATOM    478  CG  LYS A 757      15.027  21.139  26.933  1.00  0.00           C  \nATOM    479  CD  LYS A 757      14.404  19.731  26.767  1.00  0.00           C  \nATOM    480  CE  LYS A 757      14.002  19.413  25.326  1.00  0.00           C  \nATOM    481  NZ  LYS A 757      12.914  20.298  24.807  1.00  0.00           N1+\nATOM    482  N   GLU A 758      13.634  20.299  29.918  1.00  0.00           N  \nATOM    483  CA  GLU A 758      12.222  19.892  29.899  1.00  0.00           C  \nATOM    484  C   GLU A 758      11.388  20.520  30.998  1.00  0.00           C  \nATOM    485  O   GLU A 758      10.195  20.804  30.819  1.00  0.00           O  \nATOM    486  CB  GLU A 758      12.120  18.376  30.027  1.00  0.00           C  \nATOM    487  CG  GLU A 758      13.287  17.622  29.410  1.00  0.00           C  \nATOM    488  CD  GLU A 758      12.868  16.288  28.835  1.00  0.00           C  \nATOM    489  OE1 GLU A 758      11.634  16.065  28.705  1.00  0.00           O  \nATOM    490  OE2 GLU A 758      13.774  15.476  28.510  1.00  0.00           O1-\nATOM    491  N   ILE A 759      12.027  20.696  32.145  1.00  0.00           N  \nATOM    492  CA  ILE A 759      11.378  21.269  33.288  1.00  0.00           C  \nATOM    493  C   ILE A 759      11.326  22.787  33.130  1.00  0.00           C  \nATOM    494  O   ILE A 759      10.414  23.438  33.631  1.00  0.00           O  \nATOM    495  CB  ILE A 759      12.050  20.792  34.587  1.00  0.00           C  \nATOM    496  CG1 ILE A 759      11.303  21.300  35.820  1.00  0.00           C  \nATOM    497  CG2 ILE A 759      13.499  21.169  34.607  1.00  0.00           C  \nATOM    498  CD1 ILE A 759      11.471  20.435  37.038  1.00  0.00           C  \nATOM    499  N   LEU A 760      12.268  23.353  32.392  1.00  0.00           N  \nATOM    500  CA  LEU A 760      12.215  24.787  32.142  1.00  0.00           C  \nATOM    501  C   LEU A 760      11.134  25.094  31.129  1.00  0.00           C  \nATOM    502  O   LEU A 760      10.501  26.137  31.176  1.00  0.00           O  \nATOM    503  CB  LEU A 760      13.575  25.347  31.728  1.00  0.00           C  \nATOM    504  CG  LEU A 760      14.584  25.527  32.870  1.00  0.00           C  \nATOM    505  CD1 LEU A 760      15.970  25.720  32.327  1.00  0.00           C  \nATOM    506  CD2 LEU A 760      14.223  26.683  33.766  1.00  0.00           C  \nATOM    507  N   ASP A 761      10.899  24.150  30.238  1.00  0.00           N  \nATOM    508  CA  ASP A 761       9.822  24.267  29.287  1.00  0.00           C  \nATOM    509  C   ASP A 761       8.502  24.427  30.009  1.00  0.00           C  \nATOM    510  O   ASP A 761       7.764  25.386  29.749  1.00  0.00           O  \nATOM    511  CB  ASP A 761       9.807  23.042  28.383  1.00  0.00           C  \nATOM    512  CG  ASP A 761      10.793  23.169  27.229  1.00  0.00           C  \nATOM    513  OD1 ASP A 761      10.948  24.308  26.728  1.00  0.00           O  \nATOM    514  OD2 ASP A 761      11.420  22.153  26.820  1.00  0.00           O1-\nATOM    515  N   GLU A 762       8.227  23.496  30.925  1.00  0.00           N  \nATOM    516  CA  GLU A 762       7.062  23.578  31.801  1.00  0.00           C  \nATOM    517  C   GLU A 762       6.955  24.971  32.361  1.00  0.00           C  \nATOM    518  O   GLU A 762       5.992  25.700  32.086  1.00  0.00           O  \nATOM    519  CB  GLU A 762       7.193  22.620  32.974  1.00  0.00           C  \nATOM    520  CG  GLU A 762       6.742  21.226  32.686  1.00  0.00           C  \nATOM    521  CD  GLU A 762       6.297  20.478  33.936  1.00  0.00           C  \nATOM    522  OE1 GLU A 762       7.014  19.534  34.324  1.00  0.00           O  \nATOM    523  OE2 GLU A 762       5.243  20.824  34.525  1.00  0.00           O1-\nATOM    524  N   ALA A 763       7.982  25.326  33.139  1.00  0.00           N  \nATOM    525  CA  ALA A 763       8.087  26.620  33.781  1.00  0.00           C  \nATOM    526  C   ALA A 763       7.699  27.713  32.808  1.00  0.00           C  \nATOM    527  O   ALA A 763       6.871  28.558  33.144  1.00  0.00           O  \nATOM    528  CB  ALA A 763       9.470  26.836  34.300  1.00  0.00           C  \nATOM    529  N   TYR A 764       8.254  27.680  31.600  1.00  0.00           N  \nATOM    530  CA  TYR A 764       7.905  28.697  30.630  1.00  0.00           C  \nATOM    531  C   TYR A 764       6.384  28.768  30.452  1.00  0.00           C  \nATOM    532  O   TYR A 764       5.777  29.828  30.619  1.00  0.00           O  \nATOM    533  CB  TYR A 764       8.631  28.501  29.299  1.00  0.00           C  \nATOM    534  CG  TYR A 764       8.189  29.482  28.226  1.00  0.00           C  \nATOM    535  CD1 TYR A 764       7.087  29.212  27.428  1.00  0.00           C  \nATOM    536  CD2 TYR A 764       8.871  30.671  28.010  1.00  0.00           C  \nATOM    537  CE1 TYR A 764       6.667  30.104  26.449  1.00  0.00           C  \nATOM    538  CE2 TYR A 764       8.459  31.575  27.024  1.00  0.00           C  \nATOM    539  CZ  TYR A 764       7.349  31.287  26.249  1.00  0.00           C  \nATOM    540  OH  TYR A 764       6.895  32.162  25.279  1.00  0.00           O  \nATOM    541  N   VAL A 765       5.765  27.635  30.147  1.00  0.00           N  \nATOM    542  CA  VAL A 765       4.314  27.606  29.931  1.00  0.00           C  \nATOM    543  C   VAL A 765       3.532  27.981  31.218  1.00  0.00           C  \nATOM    544  O   VAL A 765       2.691  28.891  31.224  1.00  0.00           O  \nATOM    545  CB  VAL A 765       3.880  26.241  29.376  1.00  0.00           C  \nATOM    546  CG1 VAL A 765       2.395  26.190  29.203  1.00  0.00           C  \nATOM    547  CG2 VAL A 765       4.548  26.005  28.051  1.00  0.00           C  \nATOM    548  N   MET A 766       3.844  27.288  32.311  1.00  0.00           N  \nATOM    549  CA  MET A 766       3.160  27.484  33.569  1.00  0.00           C  \nATOM    550  C   MET A 766       3.237  28.924  34.001  1.00  0.00           C  \nATOM    551  O   MET A 766       2.329  29.435  34.630  1.00  0.00           O  \nATOM    552  CB  MET A 766       3.799  26.613  34.616  1.00  0.00           C  \nATOM    553  CG  MET A 766       2.784  25.953  35.482  1.00  0.00           C  \nATOM    554  SD  MET A 766       3.419  24.404  36.172  1.00  0.00           S  \nATOM    555  CE  MET A 766       3.286  23.190  34.823  1.00  0.00           C  \nATOM    556  N   ALA A 767       4.341  29.565  33.653  1.00  0.00           N  \nATOM    557  CA  ALA A 767       4.530  30.968  33.898  1.00  0.00           C  \nATOM    558  C   ALA A 767       3.631  31.832  32.971  1.00  0.00           C  \nATOM    559  O   ALA A 767       3.323  33.003  33.261  1.00  0.00           O  \nATOM    560  CB  ALA A 767       5.987  31.311  33.717  1.00  0.00           C  \nATOM    561  N   SER A 768       3.181  31.250  31.866  1.00  0.00           N  \nATOM    562  CA  SER A 768       2.557  32.059  30.824  1.00  0.00           C  \nATOM    563  C   SER A 768       1.063  32.002  30.821  1.00  0.00           C  \nATOM    564  O   SER A 768       0.422  32.688  30.028  1.00  0.00           O  \nATOM    565  CB  SER A 768       3.064  31.650  29.439  1.00  0.00           C  \nATOM    566  OG  SER A 768       4.281  32.301  29.118  1.00  0.00           O  \nATOM    567  N   VAL A 769       0.479  31.213  31.704  1.00  0.00           N  \nATOM    568  CA  VAL A 769      -0.966  31.104  31.735  1.00  0.00           C  \nATOM    569  C   VAL A 769      -1.611  31.753  32.942  1.00  0.00           C  \nATOM    570  O   VAL A 769      -0.967  31.964  33.958  1.00  0.00           O  \nATOM    571  CB  VAL A 769      -1.381  29.657  31.700  1.00  0.00           C  \nATOM    572  CG1 VAL A 769      -0.429  28.879  30.839  1.00  0.00           C  \nATOM    573  CG2 VAL A 769      -1.399  29.106  33.090  1.00  0.00           C  \nATOM    574  N   ASP A 770      -2.896  32.063  32.821  1.00  0.00           N  \nATOM    575  CA  ASP A 770      -3.646  32.676  33.906  1.00  0.00           C  \nATOM    576  C   ASP A 770      -5.137  32.443  33.770  1.00  0.00           C  \nATOM    577  O   ASP A 770      -5.831  33.212  33.122  1.00  0.00           O  \nATOM    578  CB  ASP A 770      -3.373  34.168  33.980  1.00  0.00           C  \nATOM    579  CG  ASP A 770      -3.878  34.781  35.260  1.00  0.00           C  \nATOM    580  OD1 ASP A 770      -4.309  34.024  36.148  1.00  0.00           O  \nATOM    581  OD2 ASP A 770      -3.842  36.016  35.386  1.00  0.00           O1-\nATOM    582  N   ASN A 771      -5.628  31.380  34.392  1.00  0.00           N  \nATOM    583  CA  ASN A 771      -7.037  31.047  34.339  1.00  0.00           C  \nATOM    584  C   ASN A 771      -7.450  30.247  35.552  1.00  0.00           C  \nATOM    585  O   ASN A 771      -6.748  29.340  35.977  1.00  0.00           O  \nATOM    586  CB  ASN A 771      -7.344  30.253  33.080  1.00  0.00           C  \nATOM    587  CG  ASN A 771      -8.815  30.177  32.789  1.00  0.00           C  \nATOM    588  OD1 ASN A 771      -9.471  29.205  33.130  1.00  0.00           O  \nATOM    589  ND2 ASN A 771      -9.343  31.203  32.151  1.00  0.00           N  \nATOM    590  N   PRO A 772      -8.596  30.589  36.110  1.00  0.00           N  \nATOM    591  CA  PRO A 772      -9.101  29.906  37.291  1.00  0.00           C  \nATOM    592  C   PRO A 772      -9.067  28.402  37.152  1.00  0.00           C  \nATOM    593  O   PRO A 772      -9.317  27.699  38.122  1.00  0.00           O  \nATOM    594  CB  PRO A 772     -10.545  30.381  37.364  1.00  0.00           C  \nATOM    595  CG  PRO A 772     -10.532  31.687  36.733  1.00  0.00           C  \nATOM    596  CD  PRO A 772      -9.546  31.596  35.625  1.00  0.00           C  \nATOM    597  N   HIS A 773      -8.770  27.909  35.962  1.00  0.00           N  \nATOM    598  CA  HIS A 773      -8.740  26.475  35.758  1.00  0.00           C  \nATOM    599  C   HIS A 773      -7.492  26.015  35.050  1.00  0.00           C  \nATOM    600  O   HIS A 773      -7.534  25.141  34.204  1.00  0.00           O  \nATOM    601  CB  HIS A 773      -9.975  26.028  35.000  1.00  0.00           C  \nATOM    602  CG  HIS A 773     -11.254  26.433  35.653  1.00  0.00           C  \nATOM    603  ND1 HIS A 773     -11.688  25.887  36.837  1.00  0.00           N  \nATOM    604  CD2 HIS A 773     -12.193  27.334  35.289  1.00  0.00           C  \nATOM    605  CE1 HIS A 773     -12.841  26.431  37.173  1.00  0.00           C  \nATOM    606  NE2 HIS A 773     -13.168  27.317  36.251  1.00  0.00           N  \nATOM    607  N   VAL A 774      -6.373  26.611  35.418  1.00  0.00           N  \nATOM    608  CA  VAL A 774      -5.097  26.272  34.829  1.00  0.00           C  \nATOM    609  C   VAL A 774      -4.033  26.602  35.846  1.00  0.00           C  \nATOM    610  O   VAL A 774      -3.892  27.744  36.260  1.00  0.00           O  \nATOM    611  CB  VAL A 774      -4.861  27.078  33.575  1.00  0.00           C  \nATOM    612  CG1 VAL A 774      -3.482  26.856  33.073  1.00  0.00           C  \nATOM    613  CG2 VAL A 774      -5.856  26.692  32.535  1.00  0.00           C  \nATOM    614  N   CYS A 775      -3.305  25.583  36.271  1.00  0.00           N  \nATOM    615  CA  CYS A 775      -2.273  25.759  37.266  1.00  0.00           C  \nATOM    616  C   CYS A 775      -1.191  26.706  36.799  1.00  0.00           C  \nATOM    617  O   CYS A 775      -0.448  26.403  35.878  1.00  0.00           O  \nATOM    618  CB  CYS A 775      -1.680  24.414  37.659  1.00  0.00           C  \nATOM    619  SG  CYS A 775      -2.672  23.493  38.835  1.00  0.00           S  \nATOM    620  N   ARG A 776      -1.107  27.858  37.451  1.00  0.00           N  \nATOM    621  CA  ARG A 776      -0.102  28.867  37.119  1.00  0.00           C  \nATOM    622  C   ARG A 776       1.146  28.693  37.979  1.00  0.00           C  \nATOM    623  O   ARG A 776       1.067  28.239  39.125  1.00  0.00           O  \nATOM    624  CB  ARG A 776      -0.696  30.263  37.269  1.00  0.00           C  \nATOM    625  CG  ARG A 776       0.216  31.389  36.852  1.00  0.00           C  \nATOM    626  CD  ARG A 776      -0.370  32.730  37.236  1.00  0.00           C  \nATOM    627  NE  ARG A 776       0.632  33.486  37.985  1.00  0.00           N  \nATOM    628  CZ  ARG A 776       0.613  33.713  39.309  1.00  0.00           C  \nATOM    629  NH1 ARG A 776      -0.380  33.265  40.085  1.00  0.00           N1+\nATOM    630  NH2 ARG A 776       1.598  34.408  39.867  1.00  0.00           N  \nATOM    631  N   LEU A 777       2.300  29.033  37.406  1.00  0.00           N  \nATOM    632  CA  LEU A 777       3.591  28.983  38.109  1.00  0.00           C  \nATOM    633  C   LEU A 777       3.764  30.152  39.081  1.00  0.00           C  \nATOM    634  O   LEU A 777       3.560  31.291  38.719  1.00  0.00           O  \nATOM    635  CB  LEU A 777       4.742  28.974  37.102  1.00  0.00           C  \nATOM    636  CG  LEU A 777       6.163  28.911  37.661  1.00  0.00           C  \nATOM    637  CD1 LEU A 777       6.483  27.582  38.312  1.00  0.00           C  \nATOM    638  CD2 LEU A 777       7.119  29.159  36.535  1.00  0.00           C  \nATOM    639  N   LEU A 778       4.125  29.874  40.319  1.00  0.00           N  \nATOM    640  CA  LEU A 778       4.382  30.955  41.237  1.00  0.00           C  \nATOM    641  C   LEU A 778       5.770  31.536  41.040  1.00  0.00           C  \nATOM    642  O   LEU A 778       5.952  32.746  41.114  1.00  0.00           O  \nATOM    643  CB  LEU A 778       4.173  30.532  42.687  1.00  0.00           C  \nATOM    644  CG  LEU A 778       2.689  30.405  43.040  1.00  0.00           C  \nATOM    645  CD1 LEU A 778       2.483  29.663  44.377  1.00  0.00           C  \nATOM    646  CD2 LEU A 778       1.979  31.771  43.018  1.00  0.00           C  \nATOM    647  N   GLY A 779       6.750  30.686  40.776  1.00  0.00           N  \nATOM    648  CA  GLY A 779       8.110  31.140  40.611  1.00  0.00           C  \nATOM    649  C   GLY A 779       9.033  29.966  40.555  1.00  0.00           C  \nATOM    650  O   GLY A 779       8.620  28.840  40.797  1.00  0.00           O  \nATOM    651  N   ILE A 780      10.289  30.204  40.212  1.00  0.00           N  \nATOM    652  CA  ILE A 780      11.247  29.119  40.317  1.00  0.00           C  \nATOM    653  C   ILE A 780      12.447  29.490  41.114  1.00  0.00           C  \nATOM    654  O   ILE A 780      12.663  30.643  41.464  1.00  0.00           O  \nATOM    655  CB  ILE A 780      11.679  28.531  38.978  1.00  0.00           C  \nATOM    656  CG1 ILE A 780      12.558  29.515  38.217  1.00  0.00           C  \nATOM    657  CG2 ILE A 780      10.477  28.075  38.189  1.00  0.00           C  \nATOM    658  CD1 ILE A 780      13.595  28.819  37.407  1.00  0.00           C  \nATOM    659  N   CYS A 781      13.228  28.463  41.374  1.00  0.00           N  \nATOM    660  CA  CYS A 781      14.251  28.506  42.365  1.00  0.00           C  \nATOM    661  C   CYS A 781      15.438  27.780  41.817  1.00  0.00           C  \nATOM    662  O   CYS A 781      15.309  26.660  41.308  1.00  0.00           O  \nATOM    663  CB  CYS A 781      13.766  27.776  43.594  1.00  0.00           C  \nATOM    664  SG  CYS A 781      14.811  28.072  44.970  1.00  0.00           S  \nATOM    665  N   LEU A 782      16.605  28.394  41.946  1.00  0.00           N  \nATOM    666  CA  LEU A 782      17.739  27.934  41.152  1.00  0.00           C  \nATOM    667  C   LEU A 782      18.804  27.048  41.783  1.00  0.00           C  \nATOM    668  O   LEU A 782      19.820  26.814  41.138  1.00  0.00           O  \nATOM    669  CB  LEU A 782      18.389  29.104  40.420  1.00  0.00           C  \nATOM    670  CG  LEU A 782      17.577  29.584  39.221  1.00  0.00           C  \nATOM    671  CD1 LEU A 782      18.112  30.901  38.769  1.00  0.00           C  \nATOM    672  CD2 LEU A 782      17.610  28.579  38.084  1.00  0.00           C  \nATOM    673  N   THR A 783      18.558  26.525  42.989  1.00  0.00           N  \nATOM    674  CA  THR A 783      19.579  25.779  43.756  1.00  0.00           C  \nATOM    675  C   THR A 783      20.656  25.105  42.904  1.00  0.00           C  \nATOM    676  O   THR A 783      21.795  25.594  42.816  1.00  0.00           O  \nATOM    677  CB  THR A 783      18.988  24.672  44.667  1.00  0.00           C  \nATOM    678  OG1 THR A 783      18.472  23.582  43.867  1.00  0.00           O  \nATOM    679  CG2 THR A 783      17.924  25.250  45.596  1.00  0.00           C  \nATOM    680  N   SER A 784      20.305  23.979  42.290  1.00  0.00           N  \nATOM    681  CA  SER A 784      21.298  23.137  41.629  1.00  0.00           C  \nATOM    682  C   SER A 784      20.514  22.278  40.658  1.00  0.00           C  \nATOM    683  O   SER A 784      20.918  22.055  39.497  1.00  0.00           O  \nATOM    684  CB  SER A 784      22.011  22.240  42.649  1.00  0.00           C  \nATOM    685  OG  SER A 784      21.503  22.456  43.955  1.00  0.00           O  \nATOM    686  N   THR A 785      19.396  21.767  41.171  1.00  0.00           N  \nATOM    687  CA  THR A 785      18.325  21.294  40.329  1.00  0.00           C  \nATOM    688  C   THR A 785      17.304  22.423  40.409  1.00  0.00           C  \nATOM    689  O   THR A 785      17.149  23.096  41.453  1.00  0.00           O  \nATOM    690  CB  THR A 785      17.774  19.908  40.799  1.00  0.00           C  \nATOM    691  OG1 THR A 785      17.008  19.278  39.754  1.00  0.00           O  \nATOM    692  CG2 THR A 785      16.964  20.045  42.092  1.00  0.00           C  \nATOM    693  N   VAL A 786      16.658  22.664  39.283  1.00  0.00           N  \nATOM    694  CA  VAL A 786      15.649  23.692  39.200  1.00  0.00           C  \nATOM    695  C   VAL A 786      14.406  23.217  39.994  1.00  0.00           C  \nATOM    696  O   VAL A 786      13.988  22.068  39.883  1.00  0.00           O  \nATOM    697  CB  VAL A 786      15.394  24.069  37.690  1.00  0.00           C  \nATOM    698  CG1 VAL A 786      14.372  25.183  37.535  1.00  0.00           C  \nATOM    699  CG2 VAL A 786      16.697  24.511  37.038  1.00  0.00           C  \nATOM    700  N   GLN A 787      13.873  24.091  40.842  1.00  0.00           N  \nATOM    701  CA  GLN A 787      12.621  23.825  41.533  1.00  0.00           C  \nATOM    702  C   GLN A 787      11.492  24.691  40.993  1.00  0.00           C  \nATOM    703  O   GLN A 787      11.543  25.928  41.081  1.00  0.00           O  \nATOM    704  CB  GLN A 787      12.758  24.081  43.025  1.00  0.00           C  \nATOM    705  CG  GLN A 787      13.552  23.037  43.796  1.00  0.00           C  \nATOM    706  CD  GLN A 787      13.879  23.521  45.211  1.00  0.00           C  \nATOM    707  OE1 GLN A 787      13.441  22.927  46.214  1.00  0.00           O  \nATOM    708  NE2 GLN A 787      14.629  24.629  45.298  1.00  0.00           N  \nATOM    709  N   LEU A 788      10.483  24.027  40.427  1.00  0.00           N  \nATOM    710  CA  LEU A 788       9.200  24.640  40.058  1.00  0.00           C  \nATOM    711  C   LEU A 788       8.293  24.798  41.252  1.00  0.00           C  \nATOM    712  O   LEU A 788       7.951  23.836  41.909  1.00  0.00           O  \nATOM    713  CB  LEU A 788       8.480  23.771  39.038  1.00  0.00           C  \nATOM    714  CG  LEU A 788       8.475  24.266  37.600  1.00  0.00           C  \nATOM    715  CD1 LEU A 788       9.875  24.448  37.071  1.00  0.00           C  \nATOM    716  CD2 LEU A 788       7.688  23.289  36.750  1.00  0.00           C  \nATOM    717  N   ILE A 789       7.900  26.024  41.523  1.00  0.00           N  \nATOM    718  CA  ILE A 789       7.009  26.268  42.641  1.00  0.00           C  \nATOM    719  C   ILE A 789       5.638  26.734  42.154  1.00  0.00           C  \nATOM    720  O   ILE A 789       5.476  27.828  41.644  1.00  0.00           O  \nATOM    721  CB  ILE A 789       7.628  27.231  43.705  1.00  0.00           C  \nATOM    722  CG1 ILE A 789       8.765  26.558  44.473  1.00  0.00           C  \nATOM    723  CG2 ILE A 789       6.609  27.617  44.738  1.00  0.00           C  \nATOM    724  CD1 ILE A 789      10.077  26.541  43.755  1.00  0.00           C  \nATOM    725  N   THR A 790       4.654  25.863  42.307  1.00  0.00           N  \nATOM    726  CA  THR A 790       3.290  26.225  42.021  1.00  0.00           C  \nATOM    727  C   THR A 790       2.432  26.148  43.275  1.00  0.00           C  \nATOM    728  O   THR A 790       2.873  25.649  44.309  1.00  0.00           O  \nATOM    729  CB  THR A 790       2.701  25.280  41.044  1.00  0.00           C  \nATOM    730  OG1 THR A 790       1.377  25.733  40.729  1.00  0.00           O  \nATOM    731  CG2 THR A 790       2.647  23.880  41.658  1.00  0.00           C  \nATOM    732  N   GLN A 791       1.202  26.637  43.161  1.00  0.00           N  \nATOM    733  CA  GLN A 791       0.178  26.578  44.233  1.00  0.00           C  \nATOM    734  C   GLN A 791      -0.211  25.156  44.595  1.00  0.00           C  \nATOM    735  O   GLN A 791      -0.417  24.334  43.702  1.00  0.00           O  \nATOM    736  CB  GLN A 791      -1.079  27.326  43.769  1.00  0.00           C  \nATOM    737  CG  GLN A 791      -2.285  27.256  44.665  1.00  0.00           C  \nATOM    738  CD  GLN A 791      -3.578  27.395  43.858  1.00  0.00           C  \nATOM    739  OE1 GLN A 791      -4.543  28.071  44.287  1.00  0.00           O  \nATOM    740  NE2 GLN A 791      -3.608  26.749  42.669  1.00  0.00           N  \nATOM    741  N   LEU A 792      -0.320  24.888  45.899  1.00  0.00           N  \nATOM    742  CA  LEU A 792      -0.731  23.566  46.441  1.00  0.00           C  \nATOM    743  C   LEU A 792      -2.185  23.154  46.160  1.00  0.00           C  \nATOM    744  O   LEU A 792      -3.126  23.870  46.483  1.00  0.00           O  \nATOM    745  CB  LEU A 792      -0.488  23.516  47.943  1.00  0.00           C  \nATOM    746  CG  LEU A 792      -0.814  22.204  48.618  1.00  0.00           C  \nATOM    747  CD1 LEU A 792       0.071  21.077  48.103  1.00  0.00           C  \nATOM    748  CD2 LEU A 792      -0.606  22.407  50.058  1.00  0.00           C  \nATOM    749  N   MET A 793      -2.336  21.976  45.574  1.00  0.00           N  \nATOM    750  CA  MET A 793      -3.627  21.449  45.193  1.00  0.00           C  \nATOM    751  C   MET A 793      -3.924  20.349  46.180  1.00  0.00           C  \nATOM    752  O   MET A 793      -3.634  19.176  45.926  1.00  0.00           O  \nATOM    753  CB  MET A 793      -3.595  20.927  43.747  1.00  0.00           C  \nATOM    754  CG  MET A 793      -3.338  22.014  42.714  1.00  0.00           C  \nATOM    755  SD  MET A 793      -4.366  23.480  42.994  1.00  0.00           S  \nATOM    756  CE  MET A 793      -5.766  22.839  42.100  1.00  0.00           C  \nATOM    757  N   PRO A 794      -4.514  20.721  47.323  1.00  0.00           N  \nATOM    758  CA  PRO A 794      -4.397  19.875  48.511  1.00  0.00           C  \nATOM    759  C   PRO A 794      -5.030  18.511  48.284  1.00  0.00           C  \nATOM    760  O   PRO A 794      -4.410  17.495  48.569  1.00  0.00           O  \nATOM    761  CB  PRO A 794      -5.131  20.671  49.595  1.00  0.00           C  \nATOM    762  CG  PRO A 794      -5.272  22.064  49.064  1.00  0.00           C  \nATOM    763  CD  PRO A 794      -5.364  21.896  47.570  1.00  0.00           C  \nATOM    764  N   PHE A 795      -6.221  18.496  47.703  1.00  0.00           N  \nATOM    765  CA  PHE A 795      -6.922  17.258  47.413  1.00  0.00           C  \nATOM    766  C   PHE A 795      -6.260  16.358  46.330  1.00  0.00           C  \nATOM    767  O   PHE A 795      -6.742  15.263  46.036  1.00  0.00           O  \nATOM    768  CB  PHE A 795      -8.412  17.555  47.153  1.00  0.00           C  \nATOM    769  CG  PHE A 795      -9.137  18.130  48.370  1.00  0.00           C  \nATOM    770  CD1 PHE A 795      -9.181  19.496  48.594  1.00  0.00           C  \nATOM    771  CD2 PHE A 795      -9.759  17.297  49.290  1.00  0.00           C  \nATOM    772  CE1 PHE A 795      -9.826  20.021  49.732  1.00  0.00           C  \nATOM    773  CE2 PHE A 795     -10.411  17.815  50.414  1.00  0.00           C  \nATOM    774  CZ  PHE A 795     -10.441  19.178  50.638  1.00  0.00           C  \nATOM    775  N   GLY A 796      -5.132  16.784  45.775  1.00  0.00           N  \nATOM    776  CA  GLY A 796      -4.395  15.911  44.865  1.00  0.00           C  \nATOM    777  C   GLY A 796      -5.052  15.813  43.504  1.00  0.00           C  \nATOM    778  O   GLY A 796      -5.918  16.630  43.175  1.00  0.00           O  \nATOM    779  N   CYS A 797      -4.663  14.815  42.707  1.00  0.00           N  \nATOM    780  CA  CYS A 797      -5.136  14.748  41.314  1.00  0.00           C  \nATOM    781  C   CYS A 797      -6.494  14.075  41.177  1.00  0.00           C  \nATOM    782  O   CYS A 797      -6.837  13.215  41.981  1.00  0.00           O  \nATOM    783  CB  CYS A 797      -4.101  14.086  40.410  1.00  0.00           C  \nATOM    784  SG  CYS A 797      -4.185  12.351  40.462  1.00  0.00           S  \nATOM    785  N   LEU A 798      -7.239  14.449  40.145  1.00  0.00           N  \nATOM    786  CA  LEU A 798      -8.656  14.111  40.053  1.00  0.00           C  \nATOM    787  C   LEU A 798      -8.886  12.622  39.951  1.00  0.00           C  \nATOM    788  O   LEU A 798      -9.822  12.103  40.557  1.00  0.00           O  \nATOM    789  CB  LEU A 798      -9.323  14.828  38.868  1.00  0.00           C  \nATOM    790  CG  LEU A 798     -10.854  14.898  38.844  1.00  0.00           C  \nATOM    791  CD1 LEU A 798     -11.383  15.499  40.113  1.00  0.00           C  \nATOM    792  CD2 LEU A 798     -11.344  15.703  37.691  1.00  0.00           C  \nATOM    793  N   LEU A 799      -8.029  11.951  39.178  1.00  0.00           N  \nATOM    794  CA  LEU A 799      -8.058  10.491  39.030  1.00  0.00           C  \nATOM    795  C   LEU A 799      -8.077   9.816  40.399  1.00  0.00           C  \nATOM    796  O   LEU A 799      -9.047   9.163  40.784  1.00  0.00           O  \nATOM    797  CB  LEU A 799      -6.839  10.029  38.227  1.00  0.00           C  \nATOM    798  CG  LEU A 799      -6.795   8.615  37.658  1.00  0.00           C  \nATOM    799  CD1 LEU A 799      -8.168   8.156  37.219  1.00  0.00           C  \nATOM    800  CD2 LEU A 799      -5.811   8.526  36.503  1.00  0.00           C  \nATOM    801  N   ASP A 800      -6.996  10.027  41.135  1.00  0.00           N  \nATOM    802  CA  ASP A 800      -6.865   9.563  42.498  1.00  0.00           C  \nATOM    803  C   ASP A 800      -8.082   9.863  43.359  1.00  0.00           C  \nATOM    804  O   ASP A 800      -8.519   9.016  44.155  1.00  0.00           O  \nATOM    805  CB  ASP A 800      -5.595  10.128  43.121  1.00  0.00           C  \nATOM    806  CG  ASP A 800      -4.386   9.251  42.835  1.00  0.00           C  \nATOM    807  OD1 ASP A 800      -3.237   9.708  43.046  1.00  0.00           O  \nATOM    808  OD2 ASP A 800      -4.572   8.091  42.392  1.00  0.00           O1-\nATOM    809  N   TYR A 801      -8.639  11.055  43.172  1.00  0.00           N  \nATOM    810  CA  TYR A 801      -9.795  11.507  43.928  1.00  0.00           C  \nATOM    811  C   TYR A 801     -11.074  10.715  43.662  1.00  0.00           C  \nATOM    812  O   TYR A 801     -11.749  10.319  44.609  1.00  0.00           O  \nATOM    813  CB  TYR A 801     -10.053  12.975  43.634  1.00  0.00           C  \nATOM    814  CG  TYR A 801     -11.043  13.589  44.563  1.00  0.00           C  \nATOM    815  CD1 TYR A 801     -12.382  13.734  44.199  1.00  0.00           C  \nATOM    816  CD2 TYR A 801     -10.647  14.015  45.809  1.00  0.00           C  \nATOM    817  CE1 TYR A 801     -13.303  14.303  45.073  1.00  0.00           C  \nATOM    818  CE2 TYR A 801     -11.533  14.583  46.678  1.00  0.00           C  \nATOM    819  CZ  TYR A 801     -12.859  14.733  46.317  1.00  0.00           C  \nATOM    820  OH  TYR A 801     -13.713  15.313  47.227  1.00  0.00           O  \nATOM    821  N   VAL A 802     -11.421  10.508  42.391  1.00  0.00           N  \nATOM    822  CA  VAL A 802     -12.703   9.876  42.084  1.00  0.00           C  \nATOM    823  C   VAL A 802     -12.648   8.404  42.365  1.00  0.00           C  \nATOM    824  O   VAL A 802     -13.677   7.799  42.681  1.00  0.00           O  \nATOM    825  CB  VAL A 802     -13.194  10.081  40.641  1.00  0.00           C  \nATOM    826  CG1 VAL A 802     -13.349  11.560  40.343  1.00  0.00           C  \nATOM    827  CG2 VAL A 802     -12.290   9.360  39.632  1.00  0.00           C  \nATOM    828  N   ARG A 803     -11.441   7.847  42.246  1.00  0.00           N  \nATOM    829  CA  ARG A 803     -11.185   6.454  42.572  1.00  0.00           C  \nATOM    830  C   ARG A 803     -11.405   6.232  44.036  1.00  0.00           C  \nATOM    831  O   ARG A 803     -12.016   5.250  44.429  1.00  0.00           O  \nATOM    832  CB  ARG A 803      -9.773   6.084  42.229  1.00  0.00           C  \nATOM    833  CG  ARG A 803      -9.650   5.790  40.805  1.00  0.00           C  \nATOM    834  CD  ARG A 803      -8.248   5.518  40.480  1.00  0.00           C  \nATOM    835  NE  ARG A 803      -8.165   4.809  39.222  1.00  0.00           N  \nATOM    836  CZ  ARG A 803      -7.079   4.768  38.465  1.00  0.00           C  \nATOM    837  NH1 ARG A 803      -5.984   5.412  38.842  1.00  0.00           N1+\nATOM    838  NH2 ARG A 803      -7.077   4.094  37.325  1.00  0.00           N  \nATOM    839  N   GLU A 804     -10.930   7.178  44.833  1.00  0.00           N  \nATOM    840  CA  GLU A 804     -10.925   7.033  46.263  1.00  0.00           C  \nATOM    841  C   GLU A 804     -12.235   7.500  46.923  1.00  0.00           C  \nATOM    842  O   GLU A 804     -12.526   7.098  48.051  1.00  0.00           O  \nATOM    843  CB  GLU A 804      -9.650   7.676  46.838  1.00  0.00           C  \nATOM    844  CG  GLU A 804      -9.780   8.382  48.190  1.00  0.00           C  \nATOM    845  CD  GLU A 804      -9.351   7.533  49.392  1.00  0.00           C  \nATOM    846  OE1 GLU A 804      -9.039   8.144  50.459  1.00  0.00           O  \nATOM    847  OE2 GLU A 804      -9.319   6.276  49.269  1.00  0.00           O1-\nATOM    848  N   HIS A 805     -13.043   8.304  46.225  1.00  0.00           N  \nATOM    849  CA  HIS A 805     -14.334   8.780  46.784  1.00  0.00           C  \nATOM    850  C   HIS A 805     -15.551   8.358  45.953  1.00  0.00           C  \nATOM    851  O   HIS A 805     -16.613   8.990  46.066  1.00  0.00           O  \nATOM    852  CB  HIS A 805     -14.376  10.300  46.922  1.00  0.00           C  \nATOM    853  CG  HIS A 805     -13.403  10.871  47.905  1.00  0.00           C  \nATOM    854  ND1 HIS A 805     -13.785  11.748  48.901  1.00  0.00           N  \nATOM    855  CD2 HIS A 805     -12.058  10.751  48.011  1.00  0.00           C  \nATOM    856  CE1 HIS A 805     -12.723  12.126  49.591  1.00  0.00           C  \nATOM    857  NE2 HIS A 805     -11.664  11.528  49.076  1.00  0.00           N  \nATOM    858  N   LYS A 806     -15.380   7.320  45.121  1.00  0.00           N  \nATOM    859  CA  LYS A 806     -16.456   6.675  44.338  1.00  0.00           C  \nATOM    860  C   LYS A 806     -17.895   6.906  44.802  1.00  0.00           C  \nATOM    861  O   LYS A 806     -18.834   6.883  44.000  1.00  0.00           O  \nATOM    862  CB  LYS A 806     -16.248   5.170  44.353  1.00  0.00           C  \nATOM    863  CG  LYS A 806     -15.816   4.556  43.050  1.00  0.00           C  \nATOM    864  CD  LYS A 806     -15.421   3.084  43.287  1.00  0.00           C  \nATOM    865  CE  LYS A 806     -14.475   2.570  42.213  1.00  0.00           C  \nATOM    866  NZ  LYS A 806     -13.292   1.896  42.826  1.00  0.00           N1+\nATOM    867  N   ASP A 807     -18.063   7.117  46.102  1.00  0.00           N  \nATOM    868  CA  ASP A 807     -19.354   6.963  46.738  1.00  0.00           C  \nATOM    869  C   ASP A 807     -19.949   8.258  47.167  1.00  0.00           C  \nATOM    870  O   ASP A 807     -21.114   8.316  47.532  1.00  0.00           O  \nATOM    871  CB  ASP A 807     -19.197   6.033  47.920  1.00  0.00           C  \nATOM    872  CG  ASP A 807     -18.558   4.727  47.509  1.00  0.00           C  \nATOM    873  OD1 ASP A 807     -19.246   3.914  46.849  1.00  0.00           O  \nATOM    874  OD2 ASP A 807     -17.355   4.530  47.792  1.00  0.00           O1-\nATOM    875  N   ASN A 808     -19.149   9.303  47.115  1.00  0.00           N  \nATOM    876  CA  ASN A 808     -19.646  10.617  47.458  1.00  0.00           C  \nATOM    877  C   ASN A 808     -19.668  11.529  46.259  1.00  0.00           C  \nATOM    878  O   ASN A 808     -19.870  12.739  46.373  1.00  0.00           O  \nATOM    879  CB  ASN A 808     -18.809  11.225  48.579  1.00  0.00           C  \nATOM    880  CG  ASN A 808     -19.502  11.156  49.918  1.00  0.00           C  \nATOM    881  OD1 ASN A 808     -20.012  10.098  50.321  1.00  0.00           O  \nATOM    882  ND2 ASN A 808     -19.529  12.290  50.622  1.00  0.00           N  \nATOM    883  N   ILE A 809     -19.479  10.944  45.094  1.00  0.00           N  \nATOM    884  CA  ILE A 809     -19.438  11.762  43.915  1.00  0.00           C  \nATOM    885  C   ILE A 809     -20.817  11.793  43.245  1.00  0.00           C  \nATOM    886  O   ILE A 809     -21.312  10.777  42.786  1.00  0.00           O  \nATOM    887  CB  ILE A 809     -18.249  11.362  43.014  1.00  0.00           C  \nATOM    888  CG1 ILE A 809     -16.942  11.754  43.712  1.00  0.00           C  \nATOM    889  CG2 ILE A 809     -18.318  12.064  41.687  1.00  0.00           C  \nATOM    890  CD1 ILE A 809     -15.733  11.036  43.204  1.00  0.00           C  \nATOM    891  N   GLY A 810     -21.435  12.976  43.260  1.00  0.00           N  \nATOM    892  CA  GLY A 810     -22.737  13.211  42.645  1.00  0.00           C  \nATOM    893  C   GLY A 810     -22.613  13.720  41.219  1.00  0.00           C  \nATOM    894  O   GLY A 810     -21.520  14.053  40.768  1.00  0.00           O  \nATOM    895  N   SER A 811     -23.727  13.780  40.497  1.00  0.00           N  \nATOM    896  CA  SER A 811     -23.698  14.215  39.109  1.00  0.00           C  \nATOM    897  C   SER A 811     -23.212  15.639  39.030  1.00  0.00           C  \nATOM    898  O   SER A 811     -22.423  15.967  38.155  1.00  0.00           O  \nATOM    899  CB  SER A 811     -25.064  14.082  38.457  1.00  0.00           C  \nATOM    900  OG  SER A 811     -26.078  14.583  39.303  1.00  0.00           O  \nATOM    901  N   GLN A 812     -23.678  16.455  39.975  1.00  0.00           N  \nATOM    902  CA  GLN A 812     -23.306  17.856  40.134  1.00  0.00           C  \nATOM    903  C   GLN A 812     -21.804  18.065  40.091  1.00  0.00           C  \nATOM    904  O   GLN A 812     -21.307  18.990  39.472  1.00  0.00           O  \nATOM    905  CB  GLN A 812     -23.848  18.358  41.478  1.00  0.00           C  \nATOM    906  CG  GLN A 812     -23.908  19.871  41.638  1.00  0.00           C  \nATOM    907  CD  GLN A 812     -24.753  20.532  40.552  1.00  0.00           C  \nATOM    908  OE1 GLN A 812     -25.871  20.991  40.819  1.00  0.00           O  \nATOM    909  NE2 GLN A 812     -24.226  20.574  39.313  1.00  0.00           N  \nATOM    910  N   TYR A 813     -21.082  17.194  40.763  1.00  0.00           N  \nATOM    911  CA  TYR A 813     -19.658  17.292  40.781  1.00  0.00           C  \nATOM    912  C   TYR A 813     -19.003  16.869  39.477  1.00  0.00           C  \nATOM    913  O   TYR A 813     -18.197  17.611  38.907  1.00  0.00           O  \nATOM    914  CB  TYR A 813     -19.128  16.506  41.959  1.00  0.00           C  \nATOM    915  CG  TYR A 813     -19.063  17.397  43.157  1.00  0.00           C  \nATOM    916  CD1 TYR A 813     -18.020  18.321  43.286  1.00  0.00           C  \nATOM    917  CD2 TYR A 813     -20.061  17.382  44.138  1.00  0.00           C  \nATOM    918  CE1 TYR A 813     -17.948  19.180  44.378  1.00  0.00           C  \nATOM    919  CE2 TYR A 813     -19.989  18.249  45.248  1.00  0.00           C  \nATOM    920  CZ  TYR A 813     -18.927  19.143  45.349  1.00  0.00           C  \nATOM    921  OH  TYR A 813     -18.805  20.020  46.405  1.00  0.00           O  \nATOM    922  N   LEU A 814     -19.366  15.684  39.000  1.00  0.00           N  \nATOM    923  CA  LEU A 814     -18.858  15.175  37.770  1.00  0.00           C  \nATOM    924  C   LEU A 814     -19.102  16.145  36.622  1.00  0.00           C  \nATOM    925  O   LEU A 814     -18.189  16.484  35.859  1.00  0.00           O  \nATOM    926  CB  LEU A 814     -19.534  13.864  37.503  1.00  0.00           C  \nATOM    927  CG  LEU A 814     -18.868  12.720  38.239  1.00  0.00           C  \nATOM    928  CD1 LEU A 814     -19.893  11.658  38.382  1.00  0.00           C  \nATOM    929  CD2 LEU A 814     -17.622  12.178  37.512  1.00  0.00           C  \nATOM    930  N   LEU A 815     -20.337  16.613  36.518  1.00  0.00           N  \nATOM    931  CA  LEU A 815     -20.731  17.527  35.451  1.00  0.00           C  \nATOM    932  C   LEU A 815     -20.025  18.857  35.548  1.00  0.00           C  \nATOM    933  O   LEU A 815     -19.709  19.459  34.530  1.00  0.00           O  \nATOM    934  CB  LEU A 815     -22.243  17.747  35.440  1.00  0.00           C  \nATOM    935  CG  LEU A 815     -23.090  16.623  34.862  1.00  0.00           C  \nATOM    936  CD1 LEU A 815     -24.487  17.099  34.685  1.00  0.00           C  \nATOM    937  CD2 LEU A 815     -22.491  16.219  33.522  1.00  0.00           C  \nATOM    938  N   ASN A 816     -19.775  19.310  36.770  1.00  0.00           N  \nATOM    939  CA  ASN A 816     -19.017  20.537  36.997  1.00  0.00           C  \nATOM    940  C   ASN A 816     -17.557  20.491  36.572  1.00  0.00           C  \nATOM    941  O   ASN A 816     -17.053  21.453  35.988  1.00  0.00           O  \nATOM    942  CB  ASN A 816     -19.084  20.926  38.455  1.00  0.00           C  \nATOM    943  CG  ASN A 816     -20.291  21.727  38.767  1.00  0.00           C  \nATOM    944  OD1 ASN A 816     -21.155  21.947  37.907  1.00  0.00           O  \nATOM    945  ND2 ASN A 816     -20.379  22.179  40.020  1.00  0.00           N  \nATOM    946  N   TRP A 817     -16.880  19.393  36.882  1.00  0.00           N  \nATOM    947  CA  TRP A 817     -15.516  19.237  36.470  1.00  0.00           C  \nATOM    948  C   TRP A 817     -15.414  19.205  34.963  1.00  0.00           C  \nATOM    949  O   TRP A 817     -14.473  19.732  34.380  1.00  0.00           O  \nATOM    950  CB  TRP A 817     -14.977  17.961  37.038  1.00  0.00           C  \nATOM    951  CG  TRP A 817     -15.054  17.940  38.477  1.00  0.00           C  \nATOM    952  CD1 TRP A 817     -14.996  19.012  39.317  1.00  0.00           C  \nATOM    953  CD2 TRP A 817     -15.159  16.783  39.302  1.00  0.00           C  \nATOM    954  NE1 TRP A 817     -15.077  18.591  40.628  1.00  0.00           N  \nATOM    955  CE2 TRP A 817     -15.176  17.224  40.646  1.00  0.00           C  \nATOM    956  CE3 TRP A 817     -15.258  15.410  39.040  1.00  0.00           C  \nATOM    957  CZ2 TRP A 817     -15.296  16.348  41.712  1.00  0.00           C  \nATOM    958  CZ3 TRP A 817     -15.372  14.539  40.111  1.00  0.00           C  \nATOM    959  CH2 TRP A 817     -15.388  15.011  41.425  1.00  0.00           C  \nATOM    960  N   CYS A 818     -16.405  18.602  34.331  1.00  0.00           N  \nATOM    961  CA  CYS A 818     -16.502  18.687  32.891  1.00  0.00           C  \nATOM    962  C   CYS A 818     -16.530  20.119  32.403  1.00  0.00           C  \nATOM    963  O   CYS A 818     -15.749  20.505  31.547  1.00  0.00           O  \nATOM    964  CB  CYS A 818     -17.691  17.895  32.398  1.00  0.00           C  \nATOM    965  SG  CYS A 818     -17.287  16.171  32.599  1.00  0.00           S  \nATOM    966  N   VAL A 819     -17.405  20.923  32.967  1.00  0.00           N  \nATOM    967  CA  VAL A 819     -17.371  22.327  32.624  1.00  0.00           C  \nATOM    968  C   VAL A 819     -15.993  22.948  32.912  1.00  0.00           C  \nATOM    969  O   VAL A 819     -15.427  23.647  32.066  1.00  0.00           O  \nATOM    970  CB  VAL A 819     -18.482  23.136  33.330  1.00  0.00           C  \nATOM    971  CG1 VAL A 819     -18.192  24.626  33.237  1.00  0.00           C  \nATOM    972  CG2 VAL A 819     -19.816  22.828  32.703  1.00  0.00           C  \nATOM    973  N   GLN A 820     -15.440  22.703  34.089  1.00  0.00           N  \nATOM    974  CA  GLN A 820     -14.280  23.466  34.460  1.00  0.00           C  \nATOM    975  C   GLN A 820     -13.108  23.080  33.600  1.00  0.00           C  \nATOM    976  O   GLN A 820     -12.328  23.951  33.222  1.00  0.00           O  \nATOM    977  CB  GLN A 820     -13.957  23.323  35.930  1.00  0.00           C  \nATOM    978  CG  GLN A 820     -14.996  23.931  36.851  1.00  0.00           C  \nATOM    979  CD  GLN A 820     -14.714  23.580  38.271  1.00  0.00           C  \nATOM    980  OE1 GLN A 820     -13.562  23.374  38.636  1.00  0.00           O  \nATOM    981  NE2 GLN A 820     -15.755  23.484  39.086  1.00  0.00           N  \nATOM    982  N   ILE A 821     -12.993  21.800  33.251  1.00  0.00           N  \nATOM    983  CA  ILE A 821     -11.913  21.385  32.364  1.00  0.00           C  \nATOM    984  C   ILE A 821     -12.096  21.928  30.927  1.00  0.00           C  \nATOM    985  O   ILE A 821     -11.137  22.389  30.283  1.00  0.00           O  \nATOM    986  CB  ILE A 821     -11.747  19.884  32.324  1.00  0.00           C  \nATOM    987  CG1 ILE A 821     -11.538  19.334  33.743  1.00  0.00           C  \nATOM    988  CG2 ILE A 821     -10.528  19.557  31.510  1.00  0.00           C  \nATOM    989  CD1 ILE A 821     -11.846  17.816  33.963  1.00  0.00           C  \nATOM    990  N   ALA A 822     -13.326  21.887  30.422  1.00  0.00           N  \nATOM    991  CA  ALA A 822     -13.607  22.483  29.127  1.00  0.00           C  \nATOM    992  C   ALA A 822     -13.170  23.941  29.198  1.00  0.00           C  \nATOM    993  O   ALA A 822     -12.467  24.418  28.297  1.00  0.00           O  \nATOM    994  CB  ALA A 822     -15.079  22.333  28.739  1.00  0.00           C  \nATOM    995  N   LYS A 823     -13.514  24.629  30.290  1.00  0.00           N  \nATOM    996  CA  LYS A 823     -13.058  26.001  30.476  1.00  0.00           C  \nATOM    997  C   LYS A 823     -11.538  26.124  30.414  1.00  0.00           C  \nATOM    998  O   LYS A 823     -11.006  26.849  29.571  1.00  0.00           O  \nATOM    999  CB  LYS A 823     -13.596  26.588  31.757  1.00  0.00           C  \nATOM   1000  CG  LYS A 823     -14.942  27.222  31.585  1.00  0.00           C  \nATOM   1001  CD  LYS A 823     -15.481  27.727  32.904  1.00  0.00           C  \nATOM   1002  CE  LYS A 823     -16.790  28.416  32.724  1.00  0.00           C  \nATOM   1003  NZ  LYS A 823     -17.178  28.903  34.036  1.00  0.00           N1+\nATOM   1004  N   GLY A 824     -10.845  25.396  31.285  1.00  0.00           N  \nATOM   1005  CA  GLY A 824      -9.399  25.410  31.277  1.00  0.00           C  \nATOM   1006  C   GLY A 824      -8.866  25.249  29.860  1.00  0.00           C  \nATOM   1007  O   GLY A 824      -8.051  26.056  29.363  1.00  0.00           O  \nATOM   1008  N   MET A 825      -9.360  24.209  29.186  1.00  0.00           N  \nATOM   1009  CA  MET A 825      -8.818  23.822  27.887  1.00  0.00           C  \nATOM   1010  C   MET A 825      -9.125  24.857  26.845  1.00  0.00           C  \nATOM   1011  O   MET A 825      -8.292  25.104  25.986  1.00  0.00           O  \nATOM   1012  CB  MET A 825      -9.344  22.472  27.457  1.00  0.00           C  \nATOM   1013  CG  MET A 825      -8.731  21.344  28.233  1.00  0.00           C  \nATOM   1014  SD  MET A 825      -6.964  21.228  27.991  1.00  0.00           S  \nATOM   1015  CE  MET A 825      -6.840  21.103  26.222  1.00  0.00           C  \nATOM   1016  N   ASN A 826     -10.300  25.470  26.931  1.00  0.00           N  \nATOM   1017  CA  ASN A 826     -10.653  26.502  25.973  1.00  0.00           C  \nATOM   1018  C   ASN A 826      -9.698  27.691  26.045  1.00  0.00           C  \nATOM   1019  O   ASN A 826      -9.239  28.192  25.017  1.00  0.00           O  \nATOM   1020  CB  ASN A 826     -12.073  26.982  26.200  1.00  0.00           C  \nATOM   1021  CG  ASN A 826     -12.456  28.098  25.262  1.00  0.00           C  \nATOM   1022  OD1 ASN A 826     -12.627  27.888  24.070  1.00  0.00           O  \nATOM   1023  ND2 ASN A 826     -12.595  29.287  25.799  1.00  0.00           N  \nATOM   1024  N   TYR A 827      -9.416  28.132  27.273  1.00  0.00           N  \nATOM   1025  CA  TYR A 827      -8.415  29.141  27.524  1.00  0.00           C  \nATOM   1026  C   TYR A 827      -7.153  28.752  26.767  1.00  0.00           C  \nATOM   1027  O   TYR A 827      -6.742  29.462  25.863  1.00  0.00           O  \nATOM   1028  CB  TYR A 827      -8.132  29.267  29.018  1.00  0.00           C  \nATOM   1029  CG  TYR A 827      -7.061  30.277  29.324  1.00  0.00           C  \nATOM   1030  CD1 TYR A 827      -7.367  31.615  29.439  1.00  0.00           C  \nATOM   1031  CD2 TYR A 827      -5.738  29.896  29.481  1.00  0.00           C  \nATOM   1032  CE1 TYR A 827      -6.396  32.539  29.696  1.00  0.00           C  \nATOM   1033  CE2 TYR A 827      -4.761  30.811  29.746  1.00  0.00           C  \nATOM   1034  CZ  TYR A 827      -5.093  32.132  29.845  1.00  0.00           C  \nATOM   1035  OH  TYR A 827      -4.128  33.070  30.122  1.00  0.00           O  \nATOM   1036  N   LEU A 828      -6.562  27.609  27.090  1.00  0.00           N  \nATOM   1037  CA  LEU A 828      -5.315  27.207  26.422  1.00  0.00           C  \nATOM   1038  C   LEU A 828      -5.417  27.333  24.907  1.00  0.00           C  \nATOM   1039  O   LEU A 828      -4.473  27.759  24.265  1.00  0.00           O  \nATOM   1040  CB  LEU A 828      -4.878  25.787  26.809  1.00  0.00           C  \nATOM   1041  CG  LEU A 828      -4.727  25.329  28.265  1.00  0.00           C  \nATOM   1042  CD1 LEU A 828      -3.824  24.119  28.329  1.00  0.00           C  \nATOM   1043  CD2 LEU A 828      -4.134  26.399  29.126  1.00  0.00           C  \nATOM   1044  N   GLU A 829      -6.567  26.963  24.341  1.00  0.00           N  \nATOM   1045  CA  GLU A 829      -6.824  27.172  22.916  1.00  0.00           C  \nATOM   1046  C   GLU A 829      -6.640  28.664  22.560  1.00  0.00           C  \nATOM   1047  O   GLU A 829      -5.759  28.981  21.755  1.00  0.00           O  \nATOM   1048  CB  GLU A 829      -8.180  26.601  22.472  1.00  0.00           C  \nATOM   1049  CG  GLU A 829      -8.314  26.466  20.953  1.00  0.00           C  \nATOM   1050  CD  GLU A 829      -9.555  25.689  20.476  1.00  0.00           C  \nATOM   1051  OE1 GLU A 829      -9.484  25.077  19.390  1.00  0.00           O  \nATOM   1052  OE2 GLU A 829     -10.614  25.672  21.154  1.00  0.00           O1-\nATOM   1053  N   ASP A 830      -7.412  29.568  23.176  1.00  0.00           N  \nATOM   1054  CA  ASP A 830      -7.156  31.005  23.038  1.00  0.00           C  \nATOM   1055  C   ASP A 830      -5.669  31.367  23.082  1.00  0.00           C  \nATOM   1056  O   ASP A 830      -5.189  32.096  22.215  1.00  0.00           O  \nATOM   1057  CB  ASP A 830      -7.864  31.800  24.108  1.00  0.00           C  \nATOM   1058  CG  ASP A 830      -9.354  31.734  23.980  1.00  0.00           C  \nATOM   1059  OD1 ASP A 830     -10.058  31.996  24.990  1.00  0.00           O  \nATOM   1060  OD2 ASP A 830      -9.833  31.419  22.866  1.00  0.00           O1-\nATOM   1061  N   ARG A 831      -4.924  30.871  24.067  1.00  0.00           N  \nATOM   1062  CA  ARG A 831      -3.498  31.151  24.104  1.00  0.00           C  \nATOM   1063  C   ARG A 831      -2.813  30.198  23.173  1.00  0.00           C  \nATOM   1064  O   ARG A 831      -1.762  29.679  23.516  1.00  0.00           O  \nATOM   1065  CB  ARG A 831      -2.920  30.976  25.507  1.00  0.00           C  \nATOM   1066  CG  ARG A 831      -3.740  31.605  26.603  1.00  0.00           C  \nATOM   1067  CD  ARG A 831      -3.315  33.032  26.882  1.00  0.00           C  \nATOM   1068  NE  ARG A 831      -1.983  33.104  27.491  1.00  0.00           N  \nATOM   1069  CZ  ARG A 831      -0.872  33.476  26.853  1.00  0.00           C  \nATOM   1070  NH1 ARG A 831      -0.900  33.827  25.572  1.00  0.00           N1+\nATOM   1071  NH2 ARG A 831       0.280  33.499  27.503  1.00  0.00           N  \nATOM   1072  N   ARG A 832      -3.414  29.930  22.016  1.00  0.00           N  \nATOM   1073  CA  ARG A 832      -2.785  29.099  20.976  1.00  0.00           C  \nATOM   1074  C   ARG A 832      -1.857  27.956  21.463  1.00  0.00           C  \nATOM   1075  O   ARG A 832      -0.764  27.791  20.933  1.00  0.00           O  \nATOM   1076  CB  ARG A 832      -2.031  29.999  19.980  1.00  0.00           C  \nATOM   1077  CG  ARG A 832      -2.549  29.981  18.514  1.00  0.00           C  \nATOM   1078  CD  ARG A 832      -2.674  31.412  17.964  1.00  0.00           C  \nATOM   1079  NE  ARG A 832      -3.792  32.096  18.636  1.00  0.00           N  \nATOM   1080  CZ  ARG A 832      -3.902  33.416  18.817  1.00  0.00           C  \nATOM   1081  NH1 ARG A 832      -2.950  34.243  18.377  1.00  0.00           N1+\nATOM   1082  NH2 ARG A 832      -4.975  33.911  19.444  1.00  0.00           N  \nATOM   1083  N   LEU A 833      -2.303  27.179  22.454  1.00  0.00           N  \nATOM   1084  CA  LEU A 833      -1.504  26.101  23.043  1.00  0.00           C  \nATOM   1085  C   LEU A 833      -2.128  24.744  22.942  1.00  0.00           C  \nATOM   1086  O   LEU A 833      -3.332  24.581  23.098  1.00  0.00           O  \nATOM   1087  CB  LEU A 833      -1.246  26.353  24.513  1.00  0.00           C  \nATOM   1088  CG  LEU A 833       0.029  27.097  24.903  1.00  0.00           C  \nATOM   1089  CD1 LEU A 833      -0.280  27.979  26.109  1.00  0.00           C  \nATOM   1090  CD2 LEU A 833       1.209  26.151  25.193  1.00  0.00           C  \nATOM   1091  N   VAL A 834      -1.289  23.755  22.715  1.00  0.00           N  \nATOM   1092  CA  VAL A 834      -1.744  22.389  22.660  1.00  0.00           C  \nATOM   1093  C   VAL A 834      -1.132  21.709  23.881  1.00  0.00           C  \nATOM   1094  O   VAL A 834       0.013  21.980  24.242  1.00  0.00           O  \nATOM   1095  CB  VAL A 834      -1.386  21.713  21.297  1.00  0.00           C  \nATOM   1096  CG1 VAL A 834      -1.161  20.231  21.454  1.00  0.00           C  \nATOM   1097  CG2 VAL A 834      -2.464  21.985  20.259  1.00  0.00           C  \nATOM   1098  N   HIS A 835      -1.915  20.866  24.545  1.00  0.00           N  \nATOM   1099  CA  HIS A 835      -1.499  20.302  25.805  1.00  0.00           C  \nATOM   1100  C   HIS A 835      -0.795  18.982  25.603  1.00  0.00           C  \nATOM   1101  O   HIS A 835       0.318  18.790  26.098  1.00  0.00           O  \nATOM   1102  CB  HIS A 835      -2.686  20.139  26.722  1.00  0.00           C  \nATOM   1103  CG  HIS A 835      -2.311  19.721  28.104  1.00  0.00           C  \nATOM   1104  ND1 HIS A 835      -1.814  18.470  28.390  1.00  0.00           N  \nATOM   1105  CD2 HIS A 835      -2.362  20.384  29.281  1.00  0.00           C  \nATOM   1106  CE1 HIS A 835      -1.580  18.378  29.685  1.00  0.00           C  \nATOM   1107  NE2 HIS A 835      -1.898  19.527  30.249  1.00  0.00           N  \nATOM   1108  N   ARG A 836      -1.454  18.074  24.870  1.00  0.00           N  \nATOM   1109  CA  ARG A 836      -0.904  16.738  24.494  1.00  0.00           C  \nATOM   1110  C   ARG A 836      -0.868  15.763  25.666  1.00  0.00           C  \nATOM   1111  O   ARG A 836      -0.051  14.846  25.674  1.00  0.00           O  \nATOM   1112  CB  ARG A 836       0.502  16.851  23.867  1.00  0.00           C  \nATOM   1113  CG  ARG A 836       0.514  17.642  22.584  1.00  0.00           C  \nATOM   1114  CD  ARG A 836       1.800  18.400  22.370  1.00  0.00           C  \nATOM   1115  NE  ARG A 836       2.690  17.772  21.383  1.00  0.00           N  \nATOM   1116  CZ  ARG A 836       3.888  17.234  21.634  1.00  0.00           C  \nATOM   1117  NH1 ARG A 836       4.399  17.202  22.869  1.00  0.00           N1+\nATOM   1118  NH2 ARG A 836       4.585  16.720  20.626  1.00  0.00           N  \nATOM   1119  N   ASP A 837      -1.725  15.963  26.664  1.00  0.00           N  \nATOM   1120  CA  ASP A 837      -1.728  15.076  27.805  1.00  0.00           C  \nATOM   1121  C   ASP A 837      -2.791  15.397  28.827  1.00  0.00           C  \nATOM   1122  O   ASP A 837      -2.560  15.308  30.044  1.00  0.00           O  \nATOM   1123  CB  ASP A 837      -0.375  15.046  28.474  1.00  0.00           C  \nATOM   1124  CG  ASP A 837      -0.070  13.693  29.024  1.00  0.00           C  \nATOM   1125  OD1 ASP A 837      -0.774  12.713  28.630  1.00  0.00           O  \nATOM   1126  OD2 ASP A 837       0.849  13.600  29.867  1.00  0.00           O1-\nATOM   1127  N   LEU A 838      -3.957  15.784  28.306  1.00  0.00           N  \nATOM   1128  CA  LEU A 838      -5.159  15.947  29.095  1.00  0.00           C  \nATOM   1129  C   LEU A 838      -5.543  14.560  29.576  1.00  0.00           C  \nATOM   1130  O   LEU A 838      -5.675  13.657  28.783  1.00  0.00           O  \nATOM   1131  CB  LEU A 838      -6.249  16.560  28.226  1.00  0.00           C  \nATOM   1132  CG  LEU A 838      -7.521  17.110  28.872  1.00  0.00           C  \nATOM   1133  CD1 LEU A 838      -7.219  18.071  30.002  1.00  0.00           C  \nATOM   1134  CD2 LEU A 838      -8.380  17.797  27.831  1.00  0.00           C  \nATOM   1135  N   ALA A 839      -5.690  14.392  30.879  1.00  0.00           N  \nATOM   1136  CA  ALA A 839      -5.892  13.095  31.470  1.00  0.00           C  \nATOM   1137  C   ALA A 839      -6.281  13.315  32.898  1.00  0.00           C  \nATOM   1138  O   ALA A 839      -5.767  14.206  33.547  1.00  0.00           O  \nATOM   1139  CB  ALA A 839      -4.619  12.353  31.435  1.00  0.00           C  \nATOM   1140  N   ALA A 840      -7.162  12.484  33.422  1.00  0.00           N  \nATOM   1141  CA  ALA A 840      -7.577  12.642  34.812  1.00  0.00           C  \nATOM   1142  C   ALA A 840      -6.380  12.783  35.757  1.00  0.00           C  \nATOM   1143  O   ALA A 840      -6.472  13.497  36.784  1.00  0.00           O  \nATOM   1144  CB  ALA A 840      -8.472  11.492  35.255  1.00  0.00           C  \nATOM   1145  N   ARG A 841      -5.267  12.117  35.401  1.00  0.00           N  \nATOM   1146  CA  ARG A 841      -4.081  12.069  36.261  1.00  0.00           C  \nATOM   1147  C   ARG A 841      -3.430  13.419  36.275  1.00  0.00           C  \nATOM   1148  O   ARG A 841      -2.707  13.744  37.218  1.00  0.00           O  \nATOM   1149  CB  ARG A 841      -3.095  11.038  35.765  1.00  0.00           C  \nATOM   1150  CG  ARG A 841      -1.974  11.572  34.918  1.00  0.00           C  \nATOM   1151  CD  ARG A 841      -1.236  10.414  34.259  1.00  0.00           C  \nATOM   1152  NE  ARG A 841      -1.860  10.062  32.984  1.00  0.00           N  \nATOM   1153  CZ  ARG A 841      -1.521  10.622  31.826  1.00  0.00           C  \nATOM   1154  NH1 ARG A 841      -0.549  11.549  31.803  1.00  0.00           N1+\nATOM   1155  NH2 ARG A 841      -2.141  10.258  30.702  1.00  0.00           N  \nATOM   1156  N   ASN A 842      -3.728  14.197  35.233  1.00  0.00           N  \nATOM   1157  CA  ASN A 842      -3.223  15.551  35.081  1.00  0.00           C  \nATOM   1158  C   ASN A 842      -4.167  16.714  35.338  1.00  0.00           C  \nATOM   1159  O   ASN A 842      -3.893  17.829  34.930  1.00  0.00           O  \nATOM   1160  CB  ASN A 842      -2.617  15.694  33.713  1.00  0.00           C  \nATOM   1161  CG  ASN A 842      -1.318  14.995  33.620  1.00  0.00           C  \nATOM   1162  OD1 ASN A 842      -0.630  14.773  34.645  1.00  0.00           O  \nATOM   1163  ND2 ASN A 842      -0.943  14.635  32.395  1.00  0.00           N  \nATOM   1164  N   VAL A 843      -5.280  16.453  35.993  1.00  0.00           N  \nATOM   1165  CA  VAL A 843      -6.159  17.515  36.447  1.00  0.00           C  \nATOM   1166  C   VAL A 843      -6.027  17.411  37.937  1.00  0.00           C  \nATOM   1167  O   VAL A 843      -6.128  16.303  38.459  1.00  0.00           O  \nATOM   1168  CB  VAL A 843      -7.650  17.267  36.033  1.00  0.00           C  \nATOM   1169  CG1 VAL A 843      -8.598  18.163  36.814  1.00  0.00           C  \nATOM   1170  CG2 VAL A 843      -7.843  17.466  34.532  1.00  0.00           C  \nATOM   1171  N   LEU A 844      -5.780  18.526  38.622  1.00  0.00           N  \nATOM   1172  CA  LEU A 844      -5.750  18.506  40.087  1.00  0.00           C  \nATOM   1173  C   LEU A 844      -6.880  19.291  40.687  1.00  0.00           C  \nATOM   1174  O   LEU A 844      -7.572  20.031  39.993  1.00  0.00           O  \nATOM   1175  CB  LEU A 844      -4.441  19.029  40.678  1.00  0.00           C  \nATOM   1176  CG  LEU A 844      -3.135  18.666  39.999  1.00  0.00           C  \nATOM   1177  CD1 LEU A 844      -2.187  19.829  40.181  1.00  0.00           C  \nATOM   1178  CD2 LEU A 844      -2.569  17.409  40.575  1.00  0.00           C  \nATOM   1179  N   VAL A 845      -6.991  19.147  42.004  1.00  0.00           N  \nATOM   1180  CA  VAL A 845      -8.145  19.542  42.802  1.00  0.00           C  \nATOM   1181  C   VAL A 845      -7.740  20.588  43.884  1.00  0.00           C  \nATOM   1182  O   VAL A 845      -6.933  20.305  44.788  1.00  0.00           O  \nATOM   1183  CB  VAL A 845      -8.803  18.255  43.408  1.00  0.00           C  \nATOM   1184  CG1 VAL A 845     -10.130  18.561  44.087  1.00  0.00           C  \nATOM   1185  CG2 VAL A 845      -8.952  17.202  42.324  1.00  0.00           C  \nATOM   1186  N   LYS A 846      -8.265  21.805  43.773  1.00  0.00           N  \nATOM   1187  CA  LYS A 846      -8.039  22.807  44.798  1.00  0.00           C  \nATOM   1188  C   LYS A 846      -9.015  22.539  45.916  1.00  0.00           C  \nATOM   1189  O   LYS A 846      -8.613  22.378  47.064  1.00  0.00           O  \nATOM   1190  CB  LYS A 846      -8.273  24.206  44.263  1.00  0.00           C  \nATOM   1191  CG  LYS A 846      -8.248  25.267  45.325  1.00  0.00           C  \nATOM   1192  CD  LYS A 846      -8.839  26.580  44.853  1.00  0.00           C  \nATOM   1193  CE  LYS A 846      -8.168  27.680  45.658  1.00  0.00           C  \nATOM   1194  NZ  LYS A 846      -8.768  29.056  45.589  1.00  0.00           N1+\nATOM   1195  N   THR A 847     -10.303  22.537  45.569  1.00  0.00           N  \nATOM   1196  CA  THR A 847     -11.388  22.074  46.430  1.00  0.00           C  \nATOM   1197  C   THR A 847     -12.122  21.022  45.593  1.00  0.00           C  \nATOM   1198  O   THR A 847     -11.864  20.899  44.390  1.00  0.00           O  \nATOM   1199  CB  THR A 847     -12.384  23.207  46.752  1.00  0.00           C  \nATOM   1200  OG1 THR A 847     -13.201  23.494  45.598  1.00  0.00           O  \nATOM   1201  CG2 THR A 847     -11.655  24.454  47.161  1.00  0.00           C  \nATOM   1202  N   PRO A 848     -13.016  20.233  46.218  1.00  0.00           N  \nATOM   1203  CA  PRO A 848     -13.978  19.450  45.434  1.00  0.00           C  \nATOM   1204  C   PRO A 848     -14.733  20.169  44.312  1.00  0.00           C  \nATOM   1205  O   PRO A 848     -15.085  19.520  43.324  1.00  0.00           O  \nATOM   1206  CB  PRO A 848     -14.924  18.897  46.506  1.00  0.00           C  \nATOM   1207  CG  PRO A 848     -13.983  18.620  47.640  1.00  0.00           C  \nATOM   1208  CD  PRO A 848     -13.122  19.895  47.653  1.00  0.00           C  \nATOM   1209  N   GLN A 849     -14.977  21.467  44.414  1.00  0.00           N  \nATOM   1210  CA  GLN A 849     -15.631  22.127  43.273  1.00  0.00           C  \nATOM   1211  C   GLN A 849     -14.690  23.053  42.527  1.00  0.00           C  \nATOM   1212  O   GLN A 849     -15.112  24.054  41.920  1.00  0.00           O  \nATOM   1213  CB  GLN A 849     -16.915  22.849  43.666  1.00  0.00           C  \nATOM   1214  CG  GLN A 849     -16.718  23.807  44.791  1.00  0.00           C  \nATOM   1215  CD  GLN A 849     -16.816  23.123  46.113  1.00  0.00           C  \nATOM   1216  OE1 GLN A 849     -16.049  22.204  46.435  1.00  0.00           O  \nATOM   1217  NE2 GLN A 849     -17.784  23.556  46.895  1.00  0.00           N  \nATOM   1218  N   HIS A 850     -13.409  22.702  42.566  1.00  0.00           N  \nATOM   1219  CA  HIS A 850     -12.442  23.457  41.837  1.00  0.00           C  \nATOM   1220  C   HIS A 850     -11.339  22.597  41.310  1.00  0.00           C  \nATOM   1221  O   HIS A 850     -10.403  22.290  42.019  1.00  0.00           O  \nATOM   1222  CB  HIS A 850     -11.855  24.537  42.711  1.00  0.00           C  \nATOM   1223  CG  HIS A 850     -11.348  25.692  41.930  1.00  0.00           C  \nATOM   1224  ND1 HIS A 850     -11.906  26.943  42.016  1.00  0.00           N  \nATOM   1225  CD2 HIS A 850     -10.367  25.773  41.001  1.00  0.00           C  \nATOM   1226  CE1 HIS A 850     -11.271  27.758  41.196  1.00  0.00           C  \nATOM   1227  NE2 HIS A 850     -10.331  27.074  40.567  1.00  0.00           N  \nATOM   1228  N   VAL A 851     -11.430  22.223  40.053  1.00  0.00           N  \nATOM   1229  CA  VAL A 851     -10.322  21.537  39.434  1.00  0.00           C  \nATOM   1230  C   VAL A 851      -9.531  22.477  38.504  1.00  0.00           C  \nATOM   1231  O   VAL A 851     -10.098  23.442  37.954  1.00  0.00           O  \nATOM   1232  CB  VAL A 851     -10.798  20.271  38.688  1.00  0.00           C  \nATOM   1233  CG1 VAL A 851     -11.505  19.323  39.646  1.00  0.00           C  \nATOM   1234  CG2 VAL A 851     -11.697  20.631  37.511  1.00  0.00           C  \nATOM   1235  N   LYS A 852      -8.234  22.195  38.332  1.00  0.00           N  \nATOM   1236  CA  LYS A 852      -7.373  22.962  37.433  1.00  0.00           C  \nATOM   1237  C   LYS A 852      -6.564  22.023  36.580  1.00  0.00           C  \nATOM   1238  O   LYS A 852      -6.197  20.946  37.036  1.00  0.00           O  \nATOM   1239  CB  LYS A 852      -6.436  23.854  38.237  1.00  0.00           C  \nATOM   1240  CG  LYS A 852      -7.167  25.007  38.865  1.00  0.00           C  \nATOM   1241  CD  LYS A 852      -6.306  25.802  39.802  1.00  0.00           C  \nATOM   1242  CE  LYS A 852      -7.049  27.034  40.288  1.00  0.00           C  \nATOM   1243  NZ  LYS A 852      -6.088  28.053  40.790  1.00  0.00           N1+\nATOM   1244  N   ILE A 853      -6.285  22.425  35.341  1.00  0.00           N  \nATOM   1245  CA  ILE A 853      -5.460  21.617  34.459  1.00  0.00           C  \nATOM   1246  C   ILE A 853      -3.994  21.884  34.725  1.00  0.00           C  \nATOM   1247  O   ILE A 853      -3.579  23.014  34.930  1.00  0.00           O  \nATOM   1248  CB  ILE A 853      -5.762  21.859  32.982  1.00  0.00           C  \nATOM   1249  CG1 ILE A 853      -7.199  21.506  32.663  1.00  0.00           C  \nATOM   1250  CG2 ILE A 853      -4.906  20.976  32.116  1.00  0.00           C  \nATOM   1251  CD1 ILE A 853      -7.737  22.217  31.466  1.00  0.00           C  \nATOM   1252  N   THR A 854      -3.208  20.824  34.713  1.00  0.00           N  \nATOM   1253  CA  THR A 854      -1.801  20.950  34.981  1.00  0.00           C  \nATOM   1254  C   THR A 854      -0.954  20.060  34.076  1.00  0.00           C  \nATOM   1255  O   THR A 854      -1.439  19.563  33.053  1.00  0.00           O  \nATOM   1256  CB  THR A 854      -1.487  20.695  36.478  1.00  0.00           C  \nATOM   1257  OG1 THR A 854      -0.286  21.395  36.845  1.00  0.00           O  \nATOM   1258  CG2 THR A 854      -1.339  19.195  36.780  1.00  0.00           C  \nATOM   1259  N   ASP A 855       0.320  19.964  34.444  1.00  0.00           N  \nATOM   1260  CA  ASP A 855       1.344  19.214  33.727  1.00  0.00           C  \nATOM   1261  C   ASP A 855       1.547  19.651  32.287  1.00  0.00           C  \nATOM   1262  O   ASP A 855       0.884  19.159  31.381  1.00  0.00           O  \nATOM   1263  CB  ASP A 855       1.151  17.712  33.859  1.00  0.00           C  \nATOM   1264  CG  ASP A 855       1.948  17.128  35.009  1.00  0.00           C  \nATOM   1265  OD1 ASP A 855       3.188  17.062  34.901  1.00  0.00           O  \nATOM   1266  OD2 ASP A 855       1.337  16.735  36.022  1.00  0.00           O1-\nATOM   1267  N   PHE A 856       2.479  20.581  32.090  1.00  0.00           N  \nATOM   1268  CA  PHE A 856       2.771  21.111  30.769  1.00  0.00           C  \nATOM   1269  C   PHE A 856       4.060  20.584  30.157  1.00  0.00           C  \nATOM   1270  O   PHE A 856       4.484  21.053  29.099  1.00  0.00           O  \nATOM   1271  CB  PHE A 856       2.709  22.625  30.790  1.00  0.00           C  \nATOM   1272  CG  PHE A 856       1.374  23.133  31.204  1.00  0.00           C  \nATOM   1273  CD1 PHE A 856       0.311  23.132  30.305  1.00  0.00           C  \nATOM   1274  CD2 PHE A 856       1.152  23.561  32.502  1.00  0.00           C  \nATOM   1275  CE1 PHE A 856      -0.947  23.582  30.691  1.00  0.00           C  \nATOM   1276  CE2 PHE A 856      -0.088  24.014  32.888  1.00  0.00           C  \nATOM   1277  CZ  PHE A 856      -1.141  24.016  31.982  1.00  0.00           C  \nATOM   1278  N   GLY A 857       4.649  19.585  30.809  1.00  0.00           N  \nATOM   1279  CA  GLY A 857       5.795  18.870  30.265  1.00  0.00           C  \nATOM   1280  C   GLY A 857       5.667  18.383  28.826  1.00  0.00           C  \nATOM   1281  O   GLY A 857       6.588  17.768  28.313  1.00  0.00           O  \nATOM   1282  N   LEU A 858       4.546  18.651  28.163  1.00  0.00           N  \nATOM   1283  CA  LEU A 858       4.326  18.121  26.824  1.00  0.00           C  \nATOM   1284  C   LEU A 858       3.716  19.126  25.871  1.00  0.00           C  \nATOM   1285  O   LEU A 858       3.450  18.796  24.730  1.00  0.00           O  \nATOM   1286  CB  LEU A 858       3.420  16.886  26.894  1.00  0.00           C  \nATOM   1287  CG  LEU A 858       3.986  15.456  26.805  1.00  0.00           C  \nATOM   1288  CD1 LEU A 858       3.564  14.607  28.021  1.00  0.00           C  \nATOM   1289  CD2 LEU A 858       3.664  14.743  25.478  1.00  0.00           C  \nATOM   1290  N   ALA A 859       3.506  20.350  26.338  1.00  0.00           N  \nATOM   1291  CA  ALA A 859       2.752  21.348  25.593  1.00  0.00           C  \nATOM   1292  C   ALA A 859       3.461  21.808  24.325  1.00  0.00           C  \nATOM   1293  O   ALA A 859       4.616  21.472  24.116  1.00  0.00           O  \nATOM   1294  CB  ALA A 859       2.446  22.515  26.484  1.00  0.00           C  \nATOM   1295  N   LYS A 860       2.749  22.561  23.481  1.00  0.00           N  \nATOM   1296  CA  LYS A 860       3.272  23.156  22.237  1.00  0.00           C  \nATOM   1297  C   LYS A 860       2.438  24.349  21.806  1.00  0.00           C  \nATOM   1298  O   LYS A 860       1.249  24.398  22.094  1.00  0.00           O  \nATOM   1299  CB  LYS A 860       3.215  22.154  21.078  1.00  0.00           C  \nATOM   1300  CG  LYS A 860       4.348  21.127  20.997  1.00  0.00           C  \nATOM   1301  CD  LYS A 860       5.689  21.766  20.573  1.00  0.00           C  \nATOM   1302  CE  LYS A 860       6.662  21.807  21.787  1.00  0.00           C  \nATOM   1303  NZ  LYS A 860       7.797  22.788  21.596  1.00  0.00           N1+\nATOM   1304  N   LEU A 861       3.062  25.309  21.124  1.00  0.00           N  \nATOM   1305  CA  LEU A 861       2.334  26.249  20.265  1.00  0.00           C  \nATOM   1306  C   LEU A 861       1.880  25.469  19.047  1.00  0.00           C  \nATOM   1307  O   LEU A 861       2.652  24.655  18.532  1.00  0.00           O  \nATOM   1308  CB  LEU A 861       3.241  27.357  19.754  1.00  0.00           C  \nATOM   1309  CG  LEU A 861       3.731  28.515  20.619  1.00  0.00           C  \nATOM   1310  CD1 LEU A 861       4.240  29.651  19.689  1.00  0.00           C  \nATOM   1311  CD2 LEU A 861       2.665  29.026  21.610  1.00  0.00           C  \nATOM   1312  N   LEU A 862       0.659  25.735  18.573  1.00  0.00           N  \nATOM   1313  CA  LEU A 862       0.013  24.951  17.500  1.00  0.00           C  \nATOM   1314  C   LEU A 862       0.685  25.109  16.137  1.00  0.00           C  \nATOM   1315  O   LEU A 862       0.705  26.209  15.575  1.00  0.00           O  \nATOM   1316  CB  LEU A 862      -1.470  25.321  17.387  1.00  0.00           C  \nATOM   1317  CG  LEU A 862      -2.223  24.874  16.134  1.00  0.00           C  \nATOM   1318  CD1 LEU A 862      -2.535  23.399  16.219  1.00  0.00           C  \nATOM   1319  CD2 LEU A 862      -3.485  25.678  15.966  1.00  0.00           C  \nATOM   1320  N   GLY A 863       1.223  24.006  15.606  1.00  0.00           N  \nATOM   1321  CA  GLY A 863       1.883  24.010  14.288  1.00  0.00           C  \nATOM   1322  C   GLY A 863       3.412  23.970  14.264  1.00  0.00           C  \nATOM   1323  O   GLY A 863       4.012  23.684  13.216  1.00  0.00           O  \nATOM   1324  N   ALA A 864       4.044  24.261  15.405  1.00  0.00           N  \nATOM   1325  CA  ALA A 864       5.508  24.190  15.543  1.00  0.00           C  \nATOM   1326  C   ALA A 864       6.000  22.732  15.610  1.00  0.00           C  \nATOM   1327  O   ALA A 864       5.190  21.789  15.591  1.00  0.00           O  \nATOM   1328  CB  ALA A 864       5.973  24.992  16.778  1.00  0.00           C  \nATOM   1329  N   GLU A 865       7.327  22.544  15.657  1.00  0.00           N  \nATOM   1330  CA  GLU A 865       7.868  21.211  15.951  1.00  0.00           C  \nATOM   1331  C   GLU A 865       8.694  21.223  17.234  1.00  0.00           C  \nATOM   1332  O   GLU A 865       9.262  22.258  17.623  1.00  0.00           O  \nATOM   1333  CB  GLU A 865       8.747  20.654  14.806  1.00  0.00           C  \nATOM   1334  CG  GLU A 865       8.137  20.659  13.388  1.00  0.00           C  \nATOM   1335  CD  GLU A 865       8.742  21.857  12.572  1.00  0.00           C  \nATOM   1336  OE1 GLU A 865       9.555  22.689  13.130  1.00  0.00           O  \nATOM   1337  OE2 GLU A 865       8.405  21.949  11.372  1.00  0.00           O1-\nATOM   1338  N   GLU A 866       8.736  20.063  17.887  1.00  0.00           N  \nATOM   1339  CA  GLU A 866       9.815  19.730  18.806  1.00  0.00           C  \nATOM   1340  C   GLU A 866      10.125  18.255  18.616  1.00  0.00           C  \nATOM   1341  O   GLU A 866      11.210  17.908  18.164  1.00  0.00           O  \nATOM   1342  CB  GLU A 866       9.459  20.034  20.268  1.00  0.00           C  \nATOM   1343  CG  GLU A 866      10.672  20.080  21.206  1.00  0.00           C  \nATOM   1344  CD  GLU A 866      11.614  18.895  21.005  1.00  0.00           C  \nATOM   1345  OE1 GLU A 866      12.700  19.086  20.411  1.00  0.00           O  \nATOM   1346  OE2 GLU A 866      11.248  17.763  21.404  1.00  0.00           O1-\nATOM   1347  N   VAL A 876       4.696   8.488  26.105  1.00  0.00           N1+\nATOM   1348  CA  VAL A 876       3.575   8.410  25.168  1.00  0.00           C  \nATOM   1349  C   VAL A 876       2.299   7.801  25.808  1.00  0.00           C  \nATOM   1350  O   VAL A 876       2.218   6.578  26.020  1.00  0.00           O  \nATOM   1351  CB  VAL A 876       3.973   7.674  23.847  1.00  0.00           C  \nATOM   1352  CG1 VAL A 876       4.163   8.687  22.732  1.00  0.00           C  \nATOM   1353  CG2 VAL A 876       5.241   6.768  24.043  1.00  0.00           C  \nATOM   1354  N   PRO A 877       1.300   8.653  26.129  1.00  0.00           N  \nATOM   1355  CA  PRO A 877       0.032   8.142  26.678  1.00  0.00           C  \nATOM   1356  C   PRO A 877      -0.867   7.742  25.510  1.00  0.00           C  \nATOM   1357  O   PRO A 877      -1.656   8.558  25.022  1.00  0.00           O  \nATOM   1358  CB  PRO A 877      -0.528   9.350  27.428  1.00  0.00           C  \nATOM   1359  CG  PRO A 877      -0.010  10.536  26.635  1.00  0.00           C  \nATOM   1360  CD  PRO A 877       1.291  10.121  25.974  1.00  0.00           C  \nATOM   1361  N   ILE A 878      -0.711   6.508  25.044  1.00  0.00           N  \nATOM   1362  CA  ILE A 878      -1.261   6.125  23.752  1.00  0.00           C  \nATOM   1363  C   ILE A 878      -2.776   6.067  23.800  1.00  0.00           C  \nATOM   1364  O   ILE A 878      -3.466   6.499  22.872  1.00  0.00           O  \nATOM   1365  CB  ILE A 878      -0.623   4.806  23.249  1.00  0.00           C  \nATOM   1366  CG1 ILE A 878       0.516   5.120  22.281  1.00  0.00           C  \nATOM   1367  CG2 ILE A 878      -1.627   3.915  22.552  1.00  0.00           C  \nATOM   1368  CD1 ILE A 878       0.070   5.824  21.005  1.00  0.00           C  \nATOM   1369  N   LYS A 879      -3.277   5.570  24.927  1.00  0.00           N  \nATOM   1370  CA  LYS A 879      -4.688   5.289  25.110  1.00  0.00           C  \nATOM   1371  C   LYS A 879      -5.510   6.571  25.273  1.00  0.00           C  \nATOM   1372  O   LYS A 879      -6.732   6.524  25.373  1.00  0.00           O  \nATOM   1373  CB  LYS A 879      -4.862   4.364  26.317  1.00  0.00           C  \nATOM   1374  CG  LYS A 879      -4.146   3.019  26.195  1.00  0.00           C  \nATOM   1375  CD  LYS A 879      -4.300   2.217  27.478  1.00  0.00           C  \nATOM   1376  CE  LYS A 879      -4.452   0.721  27.201  1.00  0.00           C  \nATOM   1377  NZ  LYS A 879      -4.620  -0.144  28.433  1.00  0.00           N1+\nATOM   1378  N   TRP A 880      -4.845   7.718  25.293  1.00  0.00           N  \nATOM   1379  CA  TRP A 880      -5.535   8.985  25.429  1.00  0.00           C  \nATOM   1380  C   TRP A 880      -5.462   9.822  24.144  1.00  0.00           C  \nATOM   1381  O   TRP A 880      -5.919  10.968  24.112  1.00  0.00           O  \nATOM   1382  CB  TRP A 880      -4.932   9.776  26.574  1.00  0.00           C  \nATOM   1383  CG  TRP A 880      -5.401   9.438  27.958  1.00  0.00           C  \nATOM   1384  CD1 TRP A 880      -6.245  10.175  28.718  1.00  0.00           C  \nATOM   1385  CD2 TRP A 880      -4.986   8.335  28.777  1.00  0.00           C  \nATOM   1386  NE1 TRP A 880      -6.403   9.602  29.941  1.00  0.00           N  \nATOM   1387  CE2 TRP A 880      -5.642   8.469  30.009  1.00  0.00           C  \nATOM   1388  CE3 TRP A 880      -4.126   7.243  28.585  1.00  0.00           C  \nATOM   1389  CZ2 TRP A 880      -5.486   7.540  31.057  1.00  0.00           C  \nATOM   1390  CZ3 TRP A 880      -3.968   6.316  29.634  1.00  0.00           C  \nATOM   1391  CH2 TRP A 880      -4.650   6.477  30.851  1.00  0.00           C  \nATOM   1392  N   MET A 881      -4.920   9.236  23.081  1.00  0.00           N  \nATOM   1393  CA  MET A 881      -4.571   9.991  21.883  1.00  0.00           C  \nATOM   1394  C   MET A 881      -5.554   9.864  20.747  1.00  0.00           C  \nATOM   1395  O   MET A 881      -6.046   8.782  20.441  1.00  0.00           O  \nATOM   1396  CB  MET A 881      -3.194   9.564  21.382  1.00  0.00           C  \nATOM   1397  CG  MET A 881      -2.114   9.575  22.462  1.00  0.00           C  \nATOM   1398  SD  MET A 881      -0.411   9.309  21.923  1.00  0.00           S  \nATOM   1399  CE  MET A 881      -0.345  10.209  20.362  1.00  0.00           C  \nATOM   1400  N   ALA A 882      -5.801  10.992  20.103  1.00  0.00           N  \nATOM   1401  CA  ALA A 882      -6.484  11.030  18.829  1.00  0.00           C  \nATOM   1402  C   ALA A 882      -5.766  10.132  17.820  1.00  0.00           C  \nATOM   1403  O   ALA A 882      -4.670   9.654  18.079  1.00  0.00           O  \nATOM   1404  CB  ALA A 882      -6.551  12.464  18.331  1.00  0.00           C  \nATOM   1405  N   LEU A 883      -6.389   9.896  16.670  1.00  0.00           N  \nATOM   1406  CA  LEU A 883      -5.824   9.010  15.653  1.00  0.00           C  \nATOM   1407  C   LEU A 883      -4.685   9.691  14.911  1.00  0.00           C  \nATOM   1408  O   LEU A 883      -3.576   9.149  14.915  1.00  0.00           O  \nATOM   1409  CB  LEU A 883      -6.893   8.522  14.673  1.00  0.00           C  \nATOM   1410  CG  LEU A 883      -6.593   7.182  14.002  1.00  0.00           C  \nATOM   1411  CD1 LEU A 883      -6.727   6.024  14.988  1.00  0.00           C  \nATOM   1412  CD2 LEU A 883      -7.537   6.997  12.840  1.00  0.00           C  \nATOM   1413  N   GLU A 884      -4.937  10.868  14.313  1.00  0.00           N  \nATOM   1414  CA  GLU A 884      -3.883  11.605  13.594  1.00  0.00           C  \nATOM   1415  C   GLU A 884      -2.640  11.721  14.444  1.00  0.00           C  \nATOM   1416  O   GLU A 884      -1.551  11.932  13.938  1.00  0.00           O  \nATOM   1417  CB  GLU A 884      -4.284  13.029  13.199  1.00  0.00           C  \nATOM   1418  CG  GLU A 884      -5.727  13.374  13.342  1.00  0.00           C  \nATOM   1419  CD  GLU A 884      -6.051  13.909  14.717  1.00  0.00           C  \nATOM   1420  OE1 GLU A 884      -5.821  15.128  14.969  1.00  0.00           O  \nATOM   1421  OE2 GLU A 884      -6.539  13.097  15.534  1.00  0.00           O1-\nATOM   1422  N   SER A 885      -2.827  11.614  15.753  1.00  0.00           N  \nATOM   1423  CA  SER A 885      -1.733  11.654  16.695  1.00  0.00           C  \nATOM   1424  C   SER A 885      -0.898  10.388  16.586  1.00  0.00           C  \nATOM   1425  O   SER A 885       0.297  10.450  16.280  1.00  0.00           O  \nATOM   1426  CB  SER A 885      -2.281  11.834  18.099  1.00  0.00           C  \nATOM   1427  OG  SER A 885      -2.977  13.059  18.180  1.00  0.00           O  \nATOM   1428  N   ILE A 886      -1.531   9.237  16.798  1.00  0.00           N  \nATOM   1429  CA  ILE A 886      -0.794   7.964  16.831  1.00  0.00           C  \nATOM   1430  C   ILE A 886      -0.165   7.612  15.477  1.00  0.00           C  \nATOM   1431  O   ILE A 886       0.972   7.160  15.421  1.00  0.00           O  \nATOM   1432  CB  ILE A 886      -1.634   6.769  17.394  1.00  0.00           C  \nATOM   1433  CG1 ILE A 886      -2.513   7.211  18.577  1.00  0.00           C  \nATOM   1434  CG2 ILE A 886      -0.704   5.671  17.858  1.00  0.00           C  \nATOM   1435  CD1 ILE A 886      -3.528   6.187  19.086  1.00  0.00           C  \nATOM   1436  N   LEU A 887      -0.882   7.856  14.392  1.00  0.00           N  \nATOM   1437  CA  LEU A 887      -0.387   7.488  13.075  1.00  0.00           C  \nATOM   1438  C   LEU A 887       0.393   8.573  12.315  1.00  0.00           C  \nATOM   1439  O   LEU A 887       0.959   8.285  11.253  1.00  0.00           O  \nATOM   1440  CB  LEU A 887      -1.546   7.034  12.188  1.00  0.00           C  \nATOM   1441  CG  LEU A 887      -2.641   6.065  12.611  1.00  0.00           C  \nATOM   1442  CD1 LEU A 887      -3.594   6.011  11.441  1.00  0.00           C  \nATOM   1443  CD2 LEU A 887      -2.115   4.673  12.977  1.00  0.00           C  \nATOM   1444  N   HIS A 888       0.401   9.814  12.806  1.00  0.00           N  \nATOM   1445  CA  HIS A 888       0.917  10.947  12.009  1.00  0.00           C  \nATOM   1446  C   HIS A 888       1.502  12.054  12.850  1.00  0.00           C  \nATOM   1447  O   HIS A 888       1.716  13.161  12.353  1.00  0.00           O  \nATOM   1448  CB  HIS A 888      -0.207  11.580  11.179  1.00  0.00           C  \nATOM   1449  CG  HIS A 888      -0.802  10.670  10.157  1.00  0.00           C  \nATOM   1450  ND1 HIS A 888      -1.167   9.370  10.435  1.00  0.00           N  \nATOM   1451  CD2 HIS A 888      -1.124  10.882   8.859  1.00  0.00           C  \nATOM   1452  CE1 HIS A 888      -1.662   8.809   9.350  1.00  0.00           C  \nATOM   1453  NE2 HIS A 888      -1.653   9.707   8.380  1.00  0.00           N  \nATOM   1454  N   ARG A 889       1.704  11.780  14.131  1.00  0.00           N  \nATOM   1455  CA  ARG A 889       2.142  12.794  15.077  1.00  0.00           C  \nATOM   1456  C   ARG A 889       1.484  14.174  14.909  1.00  0.00           C  \nATOM   1457  O   ARG A 889       2.042  15.162  15.346  1.00  0.00           O  \nATOM   1458  CB  ARG A 889       3.667  12.894  15.051  1.00  0.00           C  \nATOM   1459  CG  ARG A 889       4.340  11.597  15.501  1.00  0.00           C  \nATOM   1460  CD  ARG A 889       5.852  11.599  15.235  1.00  0.00           C  \nATOM   1461  NE  ARG A 889       6.522  10.377  15.718  1.00  0.00           N  \nATOM   1462  CZ  ARG A 889       7.789  10.031  15.435  1.00  0.00           C  \nATOM   1463  NH1 ARG A 889       8.560  10.806  14.658  1.00  0.00           N1+\nATOM   1464  NH2 ARG A 889       8.291   8.897  15.928  1.00  0.00           N  \nATOM   1465  N   ILE A 890       0.303  14.238  14.296  1.00  0.00           N  \nATOM   1466  CA  ILE A 890      -0.446  15.497  14.145  1.00  0.00           C  \nATOM   1467  C   ILE A 890      -1.171  15.876  15.443  1.00  0.00           C  \nATOM   1468  O   ILE A 890      -1.790  15.015  16.085  1.00  0.00           O  \nATOM   1469  CB  ILE A 890      -1.491  15.411  13.027  1.00  0.00           C  \nATOM   1470  CG1 ILE A 890      -0.816  15.424  11.668  1.00  0.00           C  \nATOM   1471  CG2 ILE A 890      -2.488  16.556  13.120  1.00  0.00           C  \nATOM   1472  CD1 ILE A 890      -1.614  14.716  10.623  1.00  0.00           C  \nATOM   1473  N   TYR A 891      -1.094  17.160  15.812  1.00  0.00           N  \nATOM   1474  CA  TYR A 891      -1.661  17.670  17.066  1.00  0.00           C  \nATOM   1475  C   TYR A 891      -2.410  18.986  16.909  1.00  0.00           C  \nATOM   1476  O   TYR A 891      -1.821  20.054  16.936  1.00  0.00           O  \nATOM   1477  CB  TYR A 891      -0.568  17.856  18.098  1.00  0.00           C  \nATOM   1478  CG  TYR A 891       0.066  16.568  18.565  1.00  0.00           C  \nATOM   1479  CD1 TYR A 891      -0.258  16.016  19.808  1.00  0.00           C  \nATOM   1480  CD2 TYR A 891       1.010  15.904  17.782  1.00  0.00           C  \nATOM   1481  CE1 TYR A 891       0.331  14.850  20.255  1.00  0.00           C  \nATOM   1482  CE2 TYR A 891       1.600  14.726  18.221  1.00  0.00           C  \nATOM   1483  CZ  TYR A 891       1.252  14.213  19.454  1.00  0.00           C  \nATOM   1484  OH  TYR A 891       1.831  13.051  19.875  1.00  0.00           O  \nATOM   1485  N   THR A 892      -3.719  18.922  16.737  1.00  0.00           N  \nATOM   1486  CA  THR A 892      -4.490  20.146  16.793  1.00  0.00           C  \nATOM   1487  C   THR A 892      -5.102  20.262  18.193  1.00  0.00           C  \nATOM   1488  O   THR A 892      -4.960  19.364  19.013  1.00  0.00           O  \nATOM   1489  CB  THR A 892      -5.497  20.300  15.579  1.00  0.00           C  \nATOM   1490  OG1 THR A 892      -6.574  21.188  15.917  1.00  0.00           O  \nATOM   1491  CG2 THR A 892      -6.056  18.945  15.085  1.00  0.00           C  \nATOM   1492  N   HIS A 893      -5.702  21.407  18.483  1.00  0.00           N  \nATOM   1493  CA  HIS A 893      -6.526  21.557  19.640  1.00  0.00           C  \nATOM   1494  C   HIS A 893      -7.583  20.473  19.538  1.00  0.00           C  \nATOM   1495  O   HIS A 893      -7.957  19.880  20.542  1.00  0.00           O  \nATOM   1496  CB  HIS A 893      -7.209  22.909  19.615  1.00  0.00           C  \nATOM   1497  CG  HIS A 893      -6.273  24.067  19.734  1.00  0.00           C  \nATOM   1498  ND1 HIS A 893      -5.642  24.401  20.912  1.00  0.00           N  \nATOM   1499  CD2 HIS A 893      -5.893  24.994  18.831  1.00  0.00           C  \nATOM   1500  CE1 HIS A 893      -4.888  25.466  20.719  1.00  0.00           C  \nATOM   1501  NE2 HIS A 893      -5.028  25.851  19.467  1.00  0.00           N  \nATOM   1502  N   GLN A 894      -8.062  20.196  18.326  1.00  0.00           N  \nATOM   1503  CA  GLN A 894      -9.074  19.169  18.152  1.00  0.00           C  \nATOM   1504  C   GLN A 894      -8.547  17.786  18.467  1.00  0.00           C  \nATOM   1505  O   GLN A 894      -9.320  16.869  18.647  1.00  0.00           O  \nATOM   1506  CB  GLN A 894      -9.650  19.203  16.759  1.00  0.00           C  \nATOM   1507  CG  GLN A 894     -10.225  20.522  16.433  1.00  0.00           C  \nATOM   1508  CD  GLN A 894     -11.401  20.834  17.306  1.00  0.00           C  \nATOM   1509  OE1 GLN A 894     -11.280  21.547  18.307  1.00  0.00           O  \nATOM   1510  NE2 GLN A 894     -12.556  20.292  16.946  1.00  0.00           N  \nATOM   1511  N   SER A 895      -7.237  17.610  18.547  1.00  0.00           N  \nATOM   1512  CA  SER A 895      -6.741  16.359  19.096  1.00  0.00           C  \nATOM   1513  C   SER A 895      -6.822  16.396  20.637  1.00  0.00           C  \nATOM   1514  O   SER A 895      -6.976  15.353  21.278  1.00  0.00           O  \nATOM   1515  CB  SER A 895      -5.328  16.043  18.601  1.00  0.00           C  \nATOM   1516  OG  SER A 895      -4.348  16.570  19.476  1.00  0.00           O  \nATOM   1517  N   ASP A 896      -6.729  17.588  21.235  1.00  0.00           N  \nATOM   1518  CA  ASP A 896      -6.803  17.701  22.692  1.00  0.00           C  \nATOM   1519  C   ASP A 896      -8.205  17.316  23.111  1.00  0.00           C  \nATOM   1520  O   ASP A 896      -8.414  16.722  24.179  1.00  0.00           O  \nATOM   1521  CB  ASP A 896      -6.502  19.127  23.169  1.00  0.00           C  \nATOM   1522  CG  ASP A 896      -4.992  19.427  23.338  1.00  0.00           C  \nATOM   1523  OD1 ASP A 896      -4.686  20.644  23.478  1.00  0.00           O  \nATOM   1524  OD2 ASP A 896      -4.128  18.495  23.353  1.00  0.00           O1-\nATOM   1525  N   VAL A 897      -9.157  17.644  22.239  1.00  0.00           N  \nATOM   1526  CA  VAL A 897     -10.559  17.350  22.452  1.00  0.00           C  \nATOM   1527  C   VAL A 897     -10.771  15.841  22.640  1.00  0.00           C  \nATOM   1528  O   VAL A 897     -11.477  15.425  23.554  1.00  0.00           O  \nATOM   1529  CB  VAL A 897     -11.365  17.903  21.307  1.00  0.00           C  \nATOM   1530  CG1 VAL A 897     -12.803  17.591  21.469  1.00  0.00           C  \nATOM   1531  CG2 VAL A 897     -11.177  19.386  21.251  1.00  0.00           C  \nATOM   1532  N   TRP A 898     -10.125  15.025  21.811  1.00  0.00           N  \nATOM   1533  CA  TRP A 898     -10.165  13.576  21.973  1.00  0.00           C  \nATOM   1534  C   TRP A 898      -9.758  13.140  23.390  1.00  0.00           C  \nATOM   1535  O   TRP A 898     -10.441  12.345  24.026  1.00  0.00           O  \nATOM   1536  CB  TRP A 898      -9.262  12.925  20.930  1.00  0.00           C  \nATOM   1537  CG  TRP A 898      -9.322  11.390  20.863  1.00  0.00           C  \nATOM   1538  CD1 TRP A 898      -9.015  10.502  21.867  1.00  0.00           C  \nATOM   1539  CD2 TRP A 898      -9.675  10.583  19.718  1.00  0.00           C  \nATOM   1540  NE1 TRP A 898      -9.172   9.202  21.423  1.00  0.00           N  \nATOM   1541  CE2 TRP A 898      -9.568   9.223  20.111  1.00  0.00           C  \nATOM   1542  CE3 TRP A 898     -10.069  10.878  18.399  1.00  0.00           C  \nATOM   1543  CZ2 TRP A 898      -9.849   8.162  19.239  1.00  0.00           C  \nATOM   1544  CZ3 TRP A 898     -10.342   9.819  17.529  1.00  0.00           C  \nATOM   1545  CH2 TRP A 898     -10.234   8.476  17.960  1.00  0.00           C  \nATOM   1546  N   SER A 899      -8.650  13.668  23.893  1.00  0.00           N  \nATOM   1547  CA  SER A 899      -8.215  13.351  25.261  1.00  0.00           C  \nATOM   1548  C   SER A 899      -9.205  13.868  26.291  1.00  0.00           C  \nATOM   1549  O   SER A 899      -9.386  13.246  27.335  1.00  0.00           O  \nATOM   1550  CB  SER A 899      -6.841  13.946  25.551  1.00  0.00           C  \nATOM   1551  OG  SER A 899      -5.933  13.648  24.520  1.00  0.00           O  \nATOM   1552  N   TYR A 900      -9.829  15.009  25.988  1.00  0.00           N  \nATOM   1553  CA  TYR A 900     -10.983  15.484  26.762  1.00  0.00           C  \nATOM   1554  C   TYR A 900     -12.056  14.399  26.947  1.00  0.00           C  \nATOM   1555  O   TYR A 900     -12.427  14.059  28.078  1.00  0.00           O  \nATOM   1556  CB  TYR A 900     -11.616  16.726  26.121  1.00  0.00           C  \nATOM   1557  CG  TYR A 900     -12.685  17.326  27.000  1.00  0.00           C  \nATOM   1558  CD1 TYR A 900     -14.023  16.984  26.826  1.00  0.00           C  \nATOM   1559  CD2 TYR A 900     -12.359  18.198  28.036  1.00  0.00           C  \nATOM   1560  CE1 TYR A 900     -15.019  17.510  27.647  1.00  0.00           C  \nATOM   1561  CE2 TYR A 900     -13.339  18.725  28.860  1.00  0.00           C  \nATOM   1562  CZ  TYR A 900     -14.672  18.374  28.658  1.00  0.00           C  \nATOM   1563  OH  TYR A 900     -15.657  18.887  29.454  1.00  0.00           O  \nATOM   1564  N   GLY A 901     -12.538  13.887  25.811  1.00  0.00           N  \nATOM   1565  CA  GLY A 901     -13.477  12.778  25.760  1.00  0.00           C  \nATOM   1566  C   GLY A 901     -12.989  11.639  26.621  1.00  0.00           C  \nATOM   1567  O   GLY A 901     -13.719  11.101  27.464  1.00  0.00           O  \nATOM   1568  N   VAL A 902     -11.733  11.272  26.440  1.00  0.00           N  \nATOM   1569  CA  VAL A 902     -11.213  10.195  27.235  1.00  0.00           C  \nATOM   1570  C   VAL A 902     -11.242  10.624  28.699  1.00  0.00           C  \nATOM   1571  O   VAL A 902     -11.566   9.837  29.587  1.00  0.00           O  \nATOM   1572  CB  VAL A 902      -9.827   9.779  26.786  1.00  0.00           C  \nATOM   1573  CG1 VAL A 902      -9.372   8.596  27.578  1.00  0.00           C  \nATOM   1574  CG2 VAL A 902      -9.861   9.425  25.329  1.00  0.00           C  \nATOM   1575  N   THR A 903     -10.941  11.886  28.955  1.00  0.00           N  \nATOM   1576  CA  THR A 903     -10.824  12.273  30.338  1.00  0.00           C  \nATOM   1577  C   THR A 903     -12.205  12.218  30.948  1.00  0.00           C  \nATOM   1578  O   THR A 903     -12.348  11.818  32.103  1.00  0.00           O  \nATOM   1579  CB  THR A 903     -10.136  13.630  30.535  1.00  0.00           C  \nATOM   1580  OG1 THR A 903      -8.789  13.530  30.065  1.00  0.00           O  \nATOM   1581  CG2 THR A 903     -10.111  14.006  32.018  1.00  0.00           C  \nATOM   1582  N   VAL A 904     -13.219  12.578  30.164  1.00  0.00           N  \nATOM   1583  CA  VAL A 904     -14.591  12.508  30.660  1.00  0.00           C  \nATOM   1584  C   VAL A 904     -14.867  11.055  31.022  1.00  0.00           C  \nATOM   1585  O   VAL A 904     -15.275  10.755  32.149  1.00  0.00           O  \nATOM   1586  CB  VAL A 904     -15.634  13.071  29.652  1.00  0.00           C  \nATOM   1587  CG1 VAL A 904     -17.032  13.003  30.235  1.00  0.00           C  \nATOM   1588  CG2 VAL A 904     -15.274  14.499  29.285  1.00  0.00           C  \nATOM   1589  N   TRP A 905     -14.574  10.159  30.091  1.00  0.00           N  \nATOM   1590  CA  TRP A 905     -14.795   8.747  30.310  1.00  0.00           C  \nATOM   1591  C   TRP A 905     -14.162   8.245  31.602  1.00  0.00           C  \nATOM   1592  O   TRP A 905     -14.793   7.544  32.347  1.00  0.00           O  \nATOM   1593  CB  TRP A 905     -14.288   7.962  29.111  1.00  0.00           C  \nATOM   1594  CG  TRP A 905     -14.666   6.519  29.136  1.00  0.00           C  \nATOM   1595  CD1 TRP A 905     -15.737   5.941  28.508  1.00  0.00           C  \nATOM   1596  CD2 TRP A 905     -13.981   5.458  29.827  1.00  0.00           C  \nATOM   1597  NE1 TRP A 905     -15.767   4.591  28.771  1.00  0.00           N  \nATOM   1598  CE2 TRP A 905     -14.701   4.266  29.577  1.00  0.00           C  \nATOM   1599  CE3 TRP A 905     -12.829   5.399  30.644  1.00  0.00           C  \nATOM   1600  CZ2 TRP A 905     -14.298   3.018  30.105  1.00  0.00           C  \nATOM   1601  CZ3 TRP A 905     -12.439   4.159  31.176  1.00  0.00           C  \nATOM   1602  CH2 TRP A 905     -13.174   2.993  30.900  1.00  0.00           C  \nATOM   1603  N   GLU A 906     -12.918   8.616  31.868  1.00  0.00           N  \nATOM   1604  CA  GLU A 906     -12.266   8.296  33.148  1.00  0.00           C  \nATOM   1605  C   GLU A 906     -13.117   8.704  34.330  1.00  0.00           C  \nATOM   1606  O   GLU A 906     -13.290   7.949  35.272  1.00  0.00           O  \nATOM   1607  CB  GLU A 906     -10.922   9.015  33.285  1.00  0.00           C  \nATOM   1608  CG  GLU A 906      -9.892   8.590  32.256  1.00  0.00           C  \nATOM   1609  CD  GLU A 906      -8.527   9.249  32.446  1.00  0.00           C  \nATOM   1610  OE1 GLU A 906      -7.848   9.001  33.491  1.00  0.00           O  \nATOM   1611  OE2 GLU A 906      -8.138  10.006  31.515  1.00  0.00           O1-\nATOM   1612  N   LEU A 907     -13.642   9.914  34.284  1.00  0.00           N  \nATOM   1613  CA  LEU A 907     -14.417  10.414  35.378  1.00  0.00           C  \nATOM   1614  C   LEU A 907     -15.725   9.657  35.483  1.00  0.00           C  \nATOM   1615  O   LEU A 907     -16.028   9.085  36.522  1.00  0.00           O  \nATOM   1616  CB  LEU A 907     -14.704  11.889  35.183  1.00  0.00           C  \nATOM   1617  CG  LEU A 907     -13.587  12.909  35.052  1.00  0.00           C  \nATOM   1618  CD1 LEU A 907     -14.310  14.226  34.985  1.00  0.00           C  \nATOM   1619  CD2 LEU A 907     -12.627  12.871  36.222  1.00  0.00           C  \nATOM   1620  N   MET A 908     -16.498   9.654  34.405  1.00  0.00           N  \nATOM   1621  CA  MET A 908     -17.793   8.983  34.412  1.00  0.00           C  \nATOM   1622  C   MET A 908     -17.674   7.542  34.843  1.00  0.00           C  \nATOM   1623  O   MET A 908     -18.629   6.988  35.355  1.00  0.00           O  \nATOM   1624  CB  MET A 908     -18.451   9.027  33.038  1.00  0.00           C  \nATOM   1625  CG  MET A 908     -18.613  10.407  32.517  1.00  0.00           C  \nATOM   1626  SD  MET A 908     -19.675  11.259  33.647  1.00  0.00           S  \nATOM   1627  CE  MET A 908     -19.100  12.931  33.439  1.00  0.00           C  \nATOM   1628  N   THR A 909     -16.520   6.920  34.622  1.00  0.00           N  \nATOM   1629  CA  THR A 909     -16.351   5.538  35.040  1.00  0.00           C  \nATOM   1630  C   THR A 909     -15.559   5.468  36.335  1.00  0.00           C  \nATOM   1631  O   THR A 909     -14.864   4.494  36.593  1.00  0.00           O  \nATOM   1632  CB  THR A 909     -15.645   4.688  33.988  1.00  0.00           C  \nATOM   1633  OG1 THR A 909     -14.312   5.179  33.819  1.00  0.00           O  \nATOM   1634  CG2 THR A 909     -16.398   4.696  32.647  1.00  0.00           C  \nATOM   1635  N   PHE A 910     -15.644   6.522  37.139  1.00  0.00           N  \nATOM   1636  CA  PHE A 910     -15.051   6.546  38.480  1.00  0.00           C  \nATOM   1637  C   PHE A 910     -13.596   6.124  38.519  1.00  0.00           C  \nATOM   1638  O   PHE A 910     -13.136   5.511  39.471  1.00  0.00           O  \nATOM   1639  CB  PHE A 910     -15.918   5.724  39.434  1.00  0.00           C  \nATOM   1640  CG  PHE A 910     -17.267   6.311  39.616  1.00  0.00           C  \nATOM   1641  CD1 PHE A 910     -17.526   7.168  40.688  1.00  0.00           C  \nATOM   1642  CD2 PHE A 910     -18.255   6.096  38.667  1.00  0.00           C  \nATOM   1643  CE1 PHE A 910     -18.775   7.773  40.837  1.00  0.00           C  \nATOM   1644  CE2 PHE A 910     -19.495   6.678  38.809  1.00  0.00           C  \nATOM   1645  CZ  PHE A 910     -19.760   7.523  39.898  1.00  0.00           C  \nATOM   1646  N   GLY A 911     -12.878   6.464  37.462  1.00  0.00           N  \nATOM   1647  CA  GLY A 911     -11.462   6.231  37.411  1.00  0.00           C  \nATOM   1648  C   GLY A 911     -11.096   4.910  36.791  1.00  0.00           C  \nATOM   1649  O   GLY A 911     -10.066   4.367  37.111  1.00  0.00           O  \nATOM   1650  N   SER A 912     -11.909   4.387  35.892  1.00  0.00           N  \nATOM   1651  CA  SER A 912     -11.536   3.136  35.255  1.00  0.00           C  \nATOM   1652  C   SER A 912     -10.356   3.365  34.342  1.00  0.00           C  \nATOM   1653  O   SER A 912     -10.023   4.519  34.066  1.00  0.00           O  \nATOM   1654  CB  SER A 912     -12.696   2.571  34.467  1.00  0.00           C  \nATOM   1655  OG  SER A 912     -13.668   2.077  35.366  1.00  0.00           O  \nATOM   1656  N   LYS A 913      -9.717   2.287  33.888  1.00  0.00           N  \nATOM   1657  CA  LYS A 913      -8.601   2.409  32.956  1.00  0.00           C  \nATOM   1658  C   LYS A 913      -9.096   2.178  31.557  1.00  0.00           C  \nATOM   1659  O   LYS A 913      -9.630   1.119  31.263  1.00  0.00           O  \nATOM   1660  CB  LYS A 913      -7.514   1.393  33.253  1.00  0.00           C  \nATOM   1661  CG  LYS A 913      -7.212   1.236  34.679  1.00  0.00           C  \nATOM   1662  CD  LYS A 913      -5.973   0.436  34.826  1.00  0.00           C  \nATOM   1663  CE  LYS A 913      -5.613   0.340  36.296  1.00  0.00           C  \nATOM   1664  NZ  LYS A 913      -4.184  -0.089  36.513  1.00  0.00           N1+\nATOM   1665  N   PRO A 914      -8.913   3.156  30.674  1.00  0.00           N  \nATOM   1666  CA  PRO A 914      -9.401   2.998  29.300  1.00  0.00           C  \nATOM   1667  C   PRO A 914      -8.708   1.843  28.557  1.00  0.00           C  \nATOM   1668  O   PRO A 914      -7.481   1.719  28.611  1.00  0.00           O  \nATOM   1669  CB  PRO A 914      -9.055   4.339  28.651  1.00  0.00           C  \nATOM   1670  CG  PRO A 914      -7.902   4.859  29.487  1.00  0.00           C  \nATOM   1671  CD  PRO A 914      -8.242   4.447  30.878  1.00  0.00           C  \nATOM   1672  N   TYR A 915      -9.503   1.021  27.872  1.00  0.00           N  \nATOM   1673  CA  TYR A 915      -9.006  -0.129  27.131  1.00  0.00           C  \nATOM   1674  C   TYR A 915      -8.216  -1.076  28.021  1.00  0.00           C  \nATOM   1675  O   TYR A 915      -7.170  -1.605  27.612  1.00  0.00           O  \nATOM   1676  CB  TYR A 915      -8.131   0.310  25.980  1.00  0.00           C  \nATOM   1677  CG  TYR A 915      -8.707   1.426  25.190  1.00  0.00           C  \nATOM   1678  CD1 TYR A 915      -9.711   1.189  24.263  1.00  0.00           C  \nATOM   1679  CD2 TYR A 915      -8.244   2.730  25.354  1.00  0.00           C  \nATOM   1680  CE1 TYR A 915     -10.246   2.221  23.505  1.00  0.00           C  \nATOM   1681  CE2 TYR A 915      -8.772   3.769  24.606  1.00  0.00           C  \nATOM   1682  CZ  TYR A 915      -9.771   3.501  23.683  1.00  0.00           C  \nATOM   1683  OH  TYR A 915     -10.306   4.503  22.942  1.00  0.00           O  \nATOM   1684  N   ASP A 916      -8.725  -1.289  29.234  1.00  0.00           N  \nATOM   1685  CA  ASP A 916      -8.071  -2.129  30.230  1.00  0.00           C  \nATOM   1686  C   ASP A 916      -7.571  -3.463  29.690  1.00  0.00           C  \nATOM   1687  O   ASP A 916      -8.266  -4.136  28.919  1.00  0.00           O  \nATOM   1688  CB  ASP A 916      -9.019  -2.398  31.373  1.00  0.00           C  \nATOM   1689  CG  ASP A 916      -8.295  -2.579  32.663  1.00  0.00           C  \nATOM   1690  OD1 ASP A 916      -8.969  -2.563  33.716  1.00  0.00           O  \nATOM   1691  OD2 ASP A 916      -7.050  -2.712  32.621  1.00  0.00           O1-\nATOM   1692  N   GLY A 917      -6.360  -3.838  30.101  1.00  0.00           N  \nATOM   1693  CA  GLY A 917      -5.705  -5.033  29.570  1.00  0.00           C  \nATOM   1694  C   GLY A 917      -5.118  -4.778  28.188  1.00  0.00           C  \nATOM   1695  O   GLY A 917      -3.884  -4.714  28.033  1.00  0.00           O  \nATOM   1696  N   ILE A 918      -6.013  -4.640  27.196  1.00  0.00           N  \nATOM   1697  CA  ILE A 918      -5.675  -4.342  25.797  1.00  0.00           C  \nATOM   1698  C   ILE A 918      -4.324  -3.645  25.684  1.00  0.00           C  \nATOM   1699  O   ILE A 918      -4.202  -2.488  26.083  1.00  0.00           O  \nATOM   1700  CB  ILE A 918      -6.691  -3.376  25.164  1.00  0.00           C  \nATOM   1701  CG1 ILE A 918      -8.127  -3.671  25.629  1.00  0.00           C  \nATOM   1702  CG2 ILE A 918      -6.484  -3.307  23.645  1.00  0.00           C  \nATOM   1703  CD1 ILE A 918      -8.957  -4.485  24.685  1.00  0.00           C  \nATOM   1704  N   PRO A 919      -3.297  -4.359  25.182  1.00  0.00           N  \nATOM   1705  CA  PRO A 919      -1.961  -3.765  24.912  1.00  0.00           C  \nATOM   1706  C   PRO A 919      -1.938  -2.642  23.850  1.00  0.00           C  \nATOM   1707  O   PRO A 919      -2.671  -2.704  22.847  1.00  0.00           O  \nATOM   1708  CB  PRO A 919      -1.118  -4.977  24.482  1.00  0.00           C  \nATOM   1709  CG  PRO A 919      -1.875  -6.194  25.085  1.00  0.00           C  \nATOM   1710  CD  PRO A 919      -3.315  -5.814  24.921  1.00  0.00           C  \nATOM   1711  N   ALA A 920      -1.081  -1.643  24.085  1.00  0.00           N  \nATOM   1712  CA  ALA A 920      -1.107  -0.374  23.349  1.00  0.00           C  \nATOM   1713  C   ALA A 920      -0.831  -0.442  21.837  1.00  0.00           C  \nATOM   1714  O   ALA A 920      -1.587   0.127  21.055  1.00  0.00           O  \nATOM   1715  CB  ALA A 920      -0.221   0.667  24.029  1.00  0.00           C  \nATOM   1716  N   SER A 921       0.232  -1.121  21.417  1.00  0.00           N  \nATOM   1717  CA  SER A 921       0.528  -1.263  19.979  1.00  0.00           C  \nATOM   1718  C   SER A 921      -0.721  -1.649  19.155  1.00  0.00           C  \nATOM   1719  O   SER A 921      -0.784  -1.435  17.936  1.00  0.00           O  \nATOM   1720  CB  SER A 921       1.652  -2.271  19.774  1.00  0.00           C  \nATOM   1721  OG  SER A 921       1.460  -3.382  20.659  1.00  0.00           O  \nATOM   1722  N   GLU A 922      -1.728  -2.185  19.842  1.00  0.00           N  \nATOM   1723  CA  GLU A 922      -3.004  -2.539  19.211  1.00  0.00           C  \nATOM   1724  C   GLU A 922      -4.065  -1.424  19.120  1.00  0.00           C  \nATOM   1725  O   GLU A 922      -4.997  -1.540  18.310  1.00  0.00           O  \nATOM   1726  CB  GLU A 922      -3.594  -3.773  19.886  1.00  0.00           C  \nATOM   1727  CG  GLU A 922      -3.033  -5.064  19.340  1.00  0.00           C  \nATOM   1728  CD  GLU A 922      -3.073  -6.213  20.345  1.00  0.00           C  \nATOM   1729  OE1 GLU A 922      -3.777  -6.122  21.384  1.00  0.00           O  \nATOM   1730  OE2 GLU A 922      -2.383  -7.226  20.087  1.00  0.00           O1-\nATOM   1731  N   ILE A 923      -3.927  -0.362  19.927  1.00  0.00           N  \nATOM   1732  CA  ILE A 923      -4.913   0.734  19.945  1.00  0.00           C  \nATOM   1733  C   ILE A 923      -5.130   1.371  18.563  1.00  0.00           C  \nATOM   1734  O   ILE A 923      -6.263   1.651  18.184  1.00  0.00           O  \nATOM   1735  CB  ILE A 923      -4.597   1.834  21.001  1.00  0.00           C  \nATOM   1736  CG1 ILE A 923      -4.344   1.241  22.395  1.00  0.00           C  \nATOM   1737  CG2 ILE A 923      -5.699   2.886  21.046  1.00  0.00           C  \nATOM   1738  CD1 ILE A 923      -5.530   0.630  23.085  1.00  0.00           C  \nATOM   1739  N   SER A 924      -4.062   1.573  17.805  1.00  0.00           N  \nATOM   1740  CA  SER A 924      -4.187   2.160  16.470  1.00  0.00           C  \nATOM   1741  C   SER A 924      -5.107   1.319  15.614  1.00  0.00           C  \nATOM   1742  O   SER A 924      -5.733   1.802  14.661  1.00  0.00           O  \nATOM   1743  CB  SER A 924      -2.827   2.187  15.789  1.00  0.00           C  \nATOM   1744  OG  SER A 924      -2.315   0.861  15.675  1.00  0.00           O  \nATOM   1745  N   SER A 925      -5.157   0.042  15.969  1.00  0.00           N  \nATOM   1746  CA  SER A 925      -5.757  -0.977  15.135  1.00  0.00           C  \nATOM   1747  C   SER A 925      -7.249  -1.043  15.384  1.00  0.00           C  \nATOM   1748  O   SER A 925      -8.050  -0.899  14.450  1.00  0.00           O  \nATOM   1749  CB  SER A 925      -5.109  -2.324  15.438  1.00  0.00           C  \nATOM   1750  OG  SER A 925      -5.544  -3.279  14.502  1.00  0.00           O  \nATOM   1751  N   ILE A 926      -7.584  -1.281  16.658  1.00  0.00           N  \nATOM   1752  CA  ILE A 926      -8.934  -1.226  17.196  1.00  0.00           C  \nATOM   1753  C   ILE A 926      -9.609   0.058  16.761  1.00  0.00           C  \nATOM   1754  O   ILE A 926     -10.631   0.028  16.085  1.00  0.00           O  \nATOM   1755  CB  ILE A 926      -8.899  -1.284  18.739  1.00  0.00           C  \nATOM   1756  CG1 ILE A 926      -8.525  -2.694  19.220  1.00  0.00           C  \nATOM   1757  CG2 ILE A 926     -10.215  -0.820  19.331  1.00  0.00           C  \nATOM   1758  CD1 ILE A 926      -8.723  -2.947  20.715  1.00  0.00           C  \nATOM   1759  N   LEU A 927      -9.012   1.186  17.129  1.00  0.00           N  \nATOM   1760  CA  LEU A 927      -9.590   2.483  16.813  1.00  0.00           C  \nATOM   1761  C   LEU A 927      -9.911   2.587  15.344  1.00  0.00           C  \nATOM   1762  O   LEU A 927     -10.888   3.224  14.957  1.00  0.00           O  \nATOM   1763  CB  LEU A 927      -8.656   3.640  17.205  1.00  0.00           C  \nATOM   1764  CG  LEU A 927      -8.511   4.147  18.657  1.00  0.00           C  \nATOM   1765  CD1 LEU A 927      -7.461   5.262  18.709  1.00  0.00           C  \nATOM   1766  CD2 LEU A 927      -9.829   4.625  19.280  1.00  0.00           C  \nATOM   1767  N   GLU A 928      -9.094   1.948  14.523  1.00  0.00           N  \nATOM   1768  CA  GLU A 928      -9.223   2.114  13.087  1.00  0.00           C  \nATOM   1769  C   GLU A 928     -10.335   1.276  12.495  1.00  0.00           C  \nATOM   1770  O   GLU A 928     -10.745   1.506  11.361  1.00  0.00           O  \nATOM   1771  CB  GLU A 928      -7.907   1.826  12.393  1.00  0.00           C  \nATOM   1772  CG  GLU A 928      -7.676   2.767  11.228  1.00  0.00           C  \nATOM   1773  CD  GLU A 928      -6.222   2.842  10.833  1.00  0.00           C  \nATOM   1774  OE1 GLU A 928      -5.370   2.276  11.572  1.00  0.00           O  \nATOM   1775  OE2 GLU A 928      -5.946   3.474   9.782  1.00  0.00           O1-\nATOM   1776  N   LYS A 929     -10.814   0.313  13.277  1.00  0.00           N  \nATOM   1777  CA  LYS A 929     -11.981  -0.497  12.924  1.00  0.00           C  \nATOM   1778  C   LYS A 929     -13.293   0.214  13.257  1.00  0.00           C  \nATOM   1779  O   LYS A 929     -14.367  -0.178  12.774  1.00  0.00           O  \nATOM   1780  CB  LYS A 929     -11.916  -1.854  13.610  1.00  0.00           C  \nATOM   1781  CG  LYS A 929     -10.918  -2.782  12.953  1.00  0.00           C  \nATOM   1782  CD  LYS A 929     -10.483  -3.882  13.898  1.00  0.00           C  \nATOM   1783  CE  LYS A 929      -9.503  -4.824  13.218  1.00  0.00           C  \nATOM   1784  NZ  LYS A 929      -9.259  -5.956  14.148  1.00  0.00           N1+\nATOM   1785  N   GLY A 930     -13.173   1.263  14.075  1.00  0.00           N  \nATOM   1786  CA  GLY A 930     -14.256   2.200  14.350  1.00  0.00           C  \nATOM   1787  C   GLY A 930     -14.810   1.974  15.730  1.00  0.00           C  \nATOM   1788  O   GLY A 930     -15.960   2.334  16.011  1.00  0.00           O  \nATOM   1789  N   GLU A 931     -13.977   1.370  16.577  1.00  0.00           N  \nATOM   1790  CA  GLU A 931     -14.344   0.991  17.933  1.00  0.00           C  \nATOM   1791  C   GLU A 931     -13.896   2.049  18.949  1.00  0.00           C  \nATOM   1792  O   GLU A 931     -12.771   2.548  18.879  1.00  0.00           O  \nATOM   1793  CB  GLU A 931     -13.711  -0.352  18.276  1.00  0.00           C  \nATOM   1794  CG  GLU A 931     -14.383  -1.084  19.436  1.00  0.00           C  \nATOM   1795  CD  GLU A 931     -13.466  -2.119  20.103  1.00  0.00           C  \nATOM   1796  OE1 GLU A 931     -13.091  -1.884  21.280  1.00  0.00           O  \nATOM   1797  OE2 GLU A 931     -13.117  -3.149  19.461  1.00  0.00           O1-\nATOM   1798  N   ARG A 932     -14.782   2.387  19.888  1.00  0.00           N  \nATOM   1799  CA  ARG A 932     -14.501   3.405  20.890  1.00  0.00           C  \nATOM   1800  C   ARG A 932     -14.787   2.816  22.245  1.00  0.00           C  \nATOM   1801  O   ARG A 932     -15.097   1.637  22.354  1.00  0.00           O  \nATOM   1802  CB  ARG A 932     -15.371   4.645  20.680  1.00  0.00           C  \nATOM   1803  CG  ARG A 932     -15.303   5.268  19.309  1.00  0.00           C  \nATOM   1804  CD  ARG A 932     -13.901   5.729  18.980  1.00  0.00           C  \nATOM   1805  NE  ARG A 932     -13.361   5.035  17.803  1.00  0.00           N  \nATOM   1806  CZ  ARG A 932     -13.034   5.625  16.654  1.00  0.00           C  \nATOM   1807  NH1 ARG A 932     -13.183   6.930  16.506  1.00  0.00           N1+\nATOM   1808  NH2 ARG A 932     -12.542   4.909  15.649  1.00  0.00           N  \nATOM   1809  N   LEU A 933     -14.684   3.640  23.280  1.00  0.00           N  \nATOM   1810  CA  LEU A 933     -14.932   3.210  24.644  1.00  0.00           C  \nATOM   1811  C   LEU A 933     -16.441   3.094  24.861  1.00  0.00           C  \nATOM   1812  O   LEU A 933     -17.212   3.860  24.271  1.00  0.00           O  \nATOM   1813  CB  LEU A 933     -14.339   4.228  25.615  1.00  0.00           C  \nATOM   1814  CG  LEU A 933     -12.855   4.587  25.519  1.00  0.00           C  \nATOM   1815  CD1 LEU A 933     -12.629   5.915  26.154  1.00  0.00           C  \nATOM   1816  CD2 LEU A 933     -12.056   3.565  26.253  1.00  0.00           C  \nATOM   1817  N   PRO A 934     -16.864   2.163  25.739  1.00  0.00           N  \nATOM   1818  CA  PRO A 934     -18.270   1.919  26.059  1.00  0.00           C  \nATOM   1819  C   PRO A 934     -18.937   3.070  26.790  1.00  0.00           C  \nATOM   1820  O   PRO A 934     -18.293   3.782  27.564  1.00  0.00           O  \nATOM   1821  CB  PRO A 934     -18.193   0.743  27.033  1.00  0.00           C  \nATOM   1822  CG  PRO A 934     -16.846   0.871  27.680  1.00  0.00           C  \nATOM   1823  CD  PRO A 934     -15.972   1.293  26.533  1.00  0.00           C  \nATOM   1824  N   GLN A 935     -20.234   3.231  26.566  1.00  0.00           N  \nATOM   1825  CA  GLN A 935     -21.040   4.071  27.430  1.00  0.00           C  \nATOM   1826  C   GLN A 935     -20.711   3.655  28.854  1.00  0.00           C  \nATOM   1827  O   GLN A 935     -20.776   2.475  29.151  1.00  0.00           O  \nATOM   1828  CB  GLN A 935     -22.516   3.813  27.135  1.00  0.00           C  \nATOM   1829  CG  GLN A 935     -23.516   4.804  27.730  1.00  0.00           C  \nATOM   1830  CD  GLN A 935     -24.740   5.003  26.818  1.00  0.00           C  \nATOM   1831  OE1 GLN A 935     -24.760   4.572  25.677  1.00  0.00           O  \nATOM   1832  NE2 GLN A 935     -25.744   5.676  27.323  1.00  0.00           N  \nATOM   1833  N   PRO A 936     -20.298   4.598  29.723  1.00  0.00           N  \nATOM   1834  CA  PRO A 936     -20.279   4.247  31.154  1.00  0.00           C  \nATOM   1835  C   PRO A 936     -21.698   4.014  31.649  1.00  0.00           C  \nATOM   1836  O   PRO A 936     -22.640   4.719  31.256  1.00  0.00           O  \nATOM   1837  CB  PRO A 936     -19.693   5.486  31.845  1.00  0.00           C  \nATOM   1838  CG  PRO A 936     -19.050   6.270  30.755  1.00  0.00           C  \nATOM   1839  CD  PRO A 936     -19.820   5.970  29.485  1.00  0.00           C  \nATOM   1840  N   PRO A 937     -21.854   3.023  32.522  1.00  0.00           N  \nATOM   1841  CA  PRO A 937     -23.121   2.652  33.105  1.00  0.00           C  \nATOM   1842  C   PRO A 937     -23.890   3.817  33.729  1.00  0.00           C  \nATOM   1843  O   PRO A 937     -25.055   3.658  34.026  1.00  0.00           O  \nATOM   1844  CB  PRO A 937     -22.712   1.689  34.217  1.00  0.00           C  \nATOM   1845  CG  PRO A 937     -21.245   1.940  34.428  1.00  0.00           C  \nATOM   1846  CD  PRO A 937     -20.766   2.196  33.052  1.00  0.00           C  \nATOM   1847  N   ILE A 938     -23.280   4.967  33.971  1.00  0.00           N  \nATOM   1848  CA  ILE A 938     -24.076   6.019  34.569  1.00  0.00           C  \nATOM   1849  C   ILE A 938     -24.506   7.008  33.531  1.00  0.00           C  \nATOM   1850  O   ILE A 938     -25.314   7.877  33.828  1.00  0.00           O  \nATOM   1851  CB  ILE A 938     -23.424   6.759  35.793  1.00  0.00           C  \nATOM   1852  CG1 ILE A 938     -22.046   7.290  35.461  1.00  0.00           C  \nATOM   1853  CG2 ILE A 938     -23.347   5.878  37.000  1.00  0.00           C  \nATOM   1854  CD1 ILE A 938     -21.782   8.619  36.066  1.00  0.00           C  \nATOM   1855  N   CYS A 939     -23.999   6.879  32.312  1.00  0.00           N  \nATOM   1856  CA  CYS A 939     -24.209   7.944  31.307  1.00  0.00           C  \nATOM   1857  C   CYS A 939     -25.493   7.863  30.481  1.00  0.00           C  \nATOM   1858  O   CYS A 939     -25.705   6.939  29.727  1.00  0.00           O  \nATOM   1859  CB  CYS A 939     -22.984   8.095  30.380  1.00  0.00           C  \nATOM   1860  SG  CYS A 939     -21.494   8.787  31.219  1.00  0.00           S  \nATOM   1861  N   THR A 940     -26.351   8.854  30.595  1.00  0.00           N  \nATOM   1862  CA  THR A 940     -27.412   8.912  29.638  1.00  0.00           C  \nATOM   1863  C   THR A 940     -26.776   8.989  28.269  1.00  0.00           C  \nATOM   1864  O   THR A 940     -25.652   9.474  28.101  1.00  0.00           O  \nATOM   1865  CB  THR A 940     -28.186  10.181  29.757  1.00  0.00           C  \nATOM   1866  OG1 THR A 940     -27.267  11.270  29.716  1.00  0.00           O  \nATOM   1867  CG2 THR A 940     -28.995  10.193  31.035  1.00  0.00           C  \nATOM   1868  N   ILE A 941     -27.517   8.523  27.281  1.00  0.00           N  \nATOM   1869  CA  ILE A 941     -27.190   8.763  25.899  1.00  0.00           C  \nATOM   1870  C   ILE A 941     -26.642  10.196  25.628  1.00  0.00           C  \nATOM   1871  O   ILE A 941     -25.714  10.349  24.846  1.00  0.00           O  \nATOM   1872  CB  ILE A 941     -28.412   8.448  25.020  1.00  0.00           C  \nATOM   1873  CG1 ILE A 941     -27.982   8.019  23.628  1.00  0.00           C  \nATOM   1874  CG2 ILE A 941     -29.331   9.626  24.947  1.00  0.00           C  \nATOM   1875  CD1 ILE A 941     -28.773   8.683  22.548  1.00  0.00           C  \nATOM   1876  N   ASP A 942     -27.174  11.235  26.273  1.00  0.00           N  \nATOM   1877  CA  ASP A 942     -26.755  12.608  25.904  1.00  0.00           C  \nATOM   1878  C   ASP A 942     -25.319  12.932  26.261  1.00  0.00           C  \nATOM   1879  O   ASP A 942     -24.602  13.588  25.483  1.00  0.00           O  \nATOM   1880  CB  ASP A 942     -27.613  13.674  26.547  1.00  0.00           C  \nATOM   1881  CG  ASP A 942     -29.014  13.281  26.632  1.00  0.00           C  \nATOM   1882  OD1 ASP A 942     -29.256  12.128  27.069  1.00  0.00           O  \nATOM   1883  OD2 ASP A 942     -29.858  14.129  26.270  1.00  0.00           O1-\nATOM   1884  N   VAL A 943     -24.927  12.517  27.464  1.00  0.00           N  \nATOM   1885  CA  VAL A 943     -23.547  12.601  27.862  1.00  0.00           C  \nATOM   1886  C   VAL A 943     -22.727  11.700  26.925  1.00  0.00           C  \nATOM   1887  O   VAL A 943     -21.793  12.173  26.236  1.00  0.00           O  \nATOM   1888  CB  VAL A 943     -23.379  12.221  29.317  1.00  0.00           C  \nATOM   1889  CG1 VAL A 943     -21.951  12.067  29.629  1.00  0.00           C  \nATOM   1890  CG2 VAL A 943     -23.925  13.298  30.145  1.00  0.00           C  \nATOM   1891  N   TYR A 944     -23.112  10.426  26.844  1.00  0.00           N  \nATOM   1892  CA  TYR A 944     -22.297   9.489  26.103  1.00  0.00           C  \nATOM   1893  C   TYR A 944     -22.088   9.941  24.691  1.00  0.00           C  \nATOM   1894  O   TYR A 944     -21.058   9.661  24.092  1.00  0.00           O  \nATOM   1895  CB  TYR A 944     -22.872   8.081  26.101  1.00  0.00           C  \nATOM   1896  CG  TYR A 944     -21.962   7.090  25.394  1.00  0.00           C  \nATOM   1897  CD1 TYR A 944     -22.396   6.383  24.288  1.00  0.00           C  \nATOM   1898  CD2 TYR A 944     -20.652   6.901  25.824  1.00  0.00           C  \nATOM   1899  CE1 TYR A 944     -21.562   5.496  23.651  1.00  0.00           C  \nATOM   1900  CE2 TYR A 944     -19.819   6.021  25.196  1.00  0.00           C  \nATOM   1901  CZ  TYR A 944     -20.277   5.315  24.114  1.00  0.00           C  \nATOM   1902  OH  TYR A 944     -19.428   4.442  23.489  1.00  0.00           O  \nATOM   1903  N   MET A 945     -23.074  10.639  24.159  1.00  0.00           N  \nATOM   1904  CA  MET A 945     -23.016  11.072  22.791  1.00  0.00           C  \nATOM   1905  C   MET A 945     -21.889  12.050  22.644  1.00  0.00           C  \nATOM   1906  O   MET A 945     -21.073  11.921  21.751  1.00  0.00           O  \nATOM   1907  CB  MET A 945     -24.311  11.772  22.442  1.00  0.00           C  \nATOM   1908  CG  MET A 945     -24.372  12.251  21.012  1.00  0.00           C  \nATOM   1909  SD  MET A 945     -25.368  11.150  20.005  1.00  0.00           S  \nATOM   1910  CE  MET A 945     -25.405  12.156  18.523  1.00  0.00           C  \nATOM   1911  N   ILE A 946     -21.859  13.021  23.545  1.00  0.00           N  \nATOM   1912  CA  ILE A 946     -20.919  14.109  23.490  1.00  0.00           C  \nATOM   1913  C   ILE A 946     -19.501  13.598  23.584  1.00  0.00           C  \nATOM   1914  O   ILE A 946     -18.630  14.117  22.922  1.00  0.00           O  \nATOM   1915  CB  ILE A 946     -21.255  15.147  24.558  1.00  0.00           C  \nATOM   1916  CG1 ILE A 946     -22.344  16.073  24.001  1.00  0.00           C  \nATOM   1917  CG2 ILE A 946     -20.039  15.974  24.940  1.00  0.00           C  \nATOM   1918  CD1 ILE A 946     -23.588  16.228  24.891  1.00  0.00           C  \nATOM   1919  N   MET A 947     -19.278  12.569  24.397  1.00  0.00           N  \nATOM   1920  CA  MET A 947     -18.011  11.835  24.410  1.00  0.00           C  \nATOM   1921  C   MET A 947     -17.683  11.274  23.037  1.00  0.00           C  \nATOM   1922  O   MET A 947     -16.592  11.440  22.532  1.00  0.00           O  \nATOM   1923  CB  MET A 947     -18.091  10.659  25.383  1.00  0.00           C  \nATOM   1924  CG  MET A 947     -17.817  11.029  26.858  1.00  0.00           C  \nATOM   1925  SD  MET A 947     -17.976   9.576  27.965  1.00  0.00           S  \nATOM   1926  CE  MET A 947     -19.634   9.927  28.570  1.00  0.00           C  \nATOM   1927  N   VAL A 948     -18.639  10.586  22.436  1.00  0.00           N  \nATOM   1928  CA  VAL A 948     -18.409   9.935  21.152  1.00  0.00           C  \nATOM   1929  C   VAL A 948     -18.116  10.979  20.045  1.00  0.00           C  \nATOM   1930  O   VAL A 948     -17.390  10.708  19.084  1.00  0.00           O  \nATOM   1931  CB  VAL A 948     -19.611   8.997  20.776  1.00  0.00           C  \nATOM   1932  CG1 VAL A 948     -19.536   8.532  19.321  1.00  0.00           C  \nATOM   1933  CG2 VAL A 948     -19.681   7.799  21.697  1.00  0.00           C  \nATOM   1934  N   LYS A 949     -18.664  12.173  20.182  1.00  0.00           N  \nATOM   1935  CA  LYS A 949     -18.396  13.200  19.207  1.00  0.00           C  \nATOM   1936  C   LYS A 949     -16.901  13.590  19.132  1.00  0.00           C  \nATOM   1937  O   LYS A 949     -16.425  14.013  18.075  1.00  0.00           O  \nATOM   1938  CB  LYS A 949     -19.293  14.397  19.467  1.00  0.00           C  \nATOM   1939  CG  LYS A 949     -20.703  14.215  18.935  1.00  0.00           C  \nATOM   1940  CD  LYS A 949     -21.625  15.322  19.403  1.00  0.00           C  \nATOM   1941  CE  LYS A 949     -22.583  15.696  18.305  1.00  0.00           C  \nATOM   1942  NZ  LYS A 949     -23.590  16.702  18.735  1.00  0.00           N1+\nATOM   1943  N   CYS A 950     -16.165  13.416  20.234  1.00  0.00           N  \nATOM   1944  CA  CYS A 950     -14.727  13.721  20.300  1.00  0.00           C  \nATOM   1945  C   CYS A 950     -13.899  12.678  19.628  1.00  0.00           C  \nATOM   1946  O   CYS A 950     -12.684  12.806  19.511  1.00  0.00           O  \nATOM   1947  CB  CYS A 950     -14.226  13.740  21.733  1.00  0.00           C  \nATOM   1948  SG  CYS A 950     -15.005  14.927  22.743  1.00  0.00           S  \nATOM   1949  N   TRP A 951     -14.551  11.606  19.235  1.00  0.00           N  \nATOM   1950  CA  TRP A 951     -13.819  10.473  18.728  1.00  0.00           C  \nATOM   1951  C   TRP A 951     -14.082  10.243  17.253  1.00  0.00           C  \nATOM   1952  O   TRP A 951     -13.662   9.233  16.700  1.00  0.00           O  \nATOM   1953  CB  TRP A 951     -14.099   9.244  19.591  1.00  0.00           C  \nATOM   1954  CG  TRP A 951     -13.736   9.474  21.026  1.00  0.00           C  \nATOM   1955  CD1 TRP A 951     -12.752  10.289  21.489  1.00  0.00           C  \nATOM   1956  CD2 TRP A 951     -14.323   8.858  22.179  1.00  0.00           C  \nATOM   1957  NE1 TRP A 951     -12.688  10.228  22.855  1.00  0.00           N  \nATOM   1958  CE2 TRP A 951     -13.638   9.354  23.309  1.00  0.00           C  \nATOM   1959  CE3 TRP A 951     -15.360   7.933  22.365  1.00  0.00           C  \nATOM   1960  CZ2 TRP A 951     -13.955   8.968  24.615  1.00  0.00           C  \nATOM   1961  CZ3 TRP A 951     -15.669   7.527  23.668  1.00  0.00           C  \nATOM   1962  CH2 TRP A 951     -14.976   8.056  24.775  1.00  0.00           C  \nATOM   1963  N   MET A 952     -14.758  11.198  16.624  1.00  0.00           N  \nATOM   1964  CA  MET A 952     -14.876  11.236  15.182  1.00  0.00           C  \nATOM   1965  C   MET A 952     -13.502  11.259  14.513  1.00  0.00           C  \nATOM   1966  O   MET A 952     -12.576  11.864  15.046  1.00  0.00           O  \nATOM   1967  CB  MET A 952     -15.577  12.511  14.786  1.00  0.00           C  \nATOM   1968  CG  MET A 952     -16.661  12.260  13.814  1.00  0.00           C  \nATOM   1969  SD  MET A 952     -18.189  12.368  14.727  1.00  0.00           S  \nATOM   1970  CE  MET A 952     -18.931  13.804  13.923  1.00  0.00           C  \nATOM   1971  N   ILE A 953     -13.387  10.635  13.335  1.00  0.00           N  \nATOM   1972  CA  ILE A 953     -12.124  10.602  12.564  1.00  0.00           C  \nATOM   1973  C   ILE A 953     -11.705  11.970  12.026  1.00  0.00           C  \nATOM   1974  O   ILE A 953     -10.623  12.455  12.335  1.00  0.00           O  \nATOM   1975  CB  ILE A 953     -12.188   9.550  11.427  1.00  0.00           C  \nATOM   1976  CG1 ILE A 953     -11.815   8.191  11.984  1.00  0.00           C  \nATOM   1977  CG2 ILE A 953     -11.253   9.892  10.291  1.00  0.00           C  \nATOM   1978  CD1 ILE A 953     -10.860   8.260  13.171  1.00  0.00           C  \nATOM   1979  N   ASP A 954     -12.569  12.552  11.198  1.00  0.00           N  \nATOM   1980  CA  ASP A 954     -12.453  13.913  10.743  1.00  0.00           C  \nATOM   1981  C   ASP A 954     -12.495  14.800  11.978  1.00  0.00           C  \nATOM   1982  O   ASP A 954     -13.528  14.894  12.654  1.00  0.00           O  \nATOM   1983  CB  ASP A 954     -13.621  14.226   9.813  1.00  0.00           C  \nATOM   1984  CG  ASP A 954     -13.829  15.711   9.617  1.00  0.00           C  \nATOM   1985  OD1 ASP A 954     -14.999  16.141   9.652  1.00  0.00           O  \nATOM   1986  OD2 ASP A 954     -12.835  16.461   9.436  1.00  0.00           O1-\nATOM   1987  N   ALA A 955     -11.369  15.445  12.268  1.00  0.00           N  \nATOM   1988  CA  ALA A 955     -11.180  16.111  13.544  1.00  0.00           C  \nATOM   1989  C   ALA A 955     -11.899  17.464  13.670  1.00  0.00           C  \nATOM   1990  O   ALA A 955     -12.066  17.992  14.771  1.00  0.00           O  \nATOM   1991  CB  ALA A 955      -9.695  16.234  13.852  1.00  0.00           C  \nATOM   1992  N   ASP A 956     -12.334  18.034  12.555  1.00  0.00           N  \nATOM   1993  CA  ASP A 956     -13.119  19.262  12.627  1.00  0.00           C  \nATOM   1994  C   ASP A 956     -14.562  18.887  12.873  1.00  0.00           C  \nATOM   1995  O   ASP A 956     -15.428  19.739  13.057  1.00  0.00           O  \nATOM   1996  CB  ASP A 956     -13.033  20.072  11.330  1.00  0.00           C  \nATOM   1997  CG  ASP A 956     -11.593  20.397  10.912  1.00  0.00           C  \nATOM   1998  OD1 ASP A 956     -11.323  20.294   9.692  1.00  0.00           O  \nATOM   1999  OD2 ASP A 956     -10.744  20.767  11.771  1.00  0.00           O1-\nATOM   2000  N   SER A 957     -14.821  17.594  12.841  1.00  0.00           N  \nATOM   2001  CA  SER A 957     -16.117  17.114  13.211  1.00  0.00           C  \nATOM   2002  C   SER A 957     -16.214  16.881  14.698  1.00  0.00           C  \nATOM   2003  O   SER A 957     -17.308  16.709  15.228  1.00  0.00           O  \nATOM   2004  CB  SER A 957     -16.448  15.841  12.456  1.00  0.00           C  \nATOM   2005  OG  SER A 957     -17.295  16.161  11.362  1.00  0.00           O  \nATOM   2006  N   ARG A 958     -15.075  16.860  15.377  1.00  0.00           N  \nATOM   2007  CA  ARG A 958     -15.086  16.914  16.822  1.00  0.00           C  \nATOM   2008  C   ARG A 958     -15.711  18.229  17.292  1.00  0.00           C  \nATOM   2009  O   ARG A 958     -15.785  19.195  16.535  1.00  0.00           O  \nATOM   2010  CB  ARG A 958     -13.677  16.759  17.344  1.00  0.00           C  \nATOM   2011  CG  ARG A 958     -13.325  15.332  17.610  1.00  0.00           C  \nATOM   2012  CD  ARG A 958     -12.540  14.679  16.511  1.00  0.00           C  \nATOM   2013  NE  ARG A 958     -11.114  14.853  16.737  1.00  0.00           N  \nATOM   2014  CZ  ARG A 958     -10.184  13.946  16.464  1.00  0.00           C  \nATOM   2015  NH1 ARG A 958     -10.518  12.777  15.961  1.00  0.00           N1+\nATOM   2016  NH2 ARG A 958      -8.908  14.206  16.706  1.00  0.00           N  \nATOM   2017  N   PRO A 959     -16.223  18.273  18.521  1.00  0.00           N  \nATOM   2018  CA  PRO A 959     -16.687  19.602  18.922  1.00  0.00           C  \nATOM   2019  C   PRO A 959     -15.553  20.472  19.460  1.00  0.00           C  \nATOM   2020  O   PRO A 959     -14.469  19.973  19.772  1.00  0.00           O  \nATOM   2021  CB  PRO A 959     -17.713  19.304  20.012  1.00  0.00           C  \nATOM   2022  CG  PRO A 959     -17.317  17.938  20.557  1.00  0.00           C  \nATOM   2023  CD  PRO A 959     -16.455  17.242  19.552  1.00  0.00           C  \nATOM   2024  N   LYS A 960     -15.805  21.773  19.554  1.00  0.00           N  \nATOM   2025  CA  LYS A 960     -14.815  22.686  20.114  1.00  0.00           C  \nATOM   2026  C   LYS A 960     -15.035  22.813  21.620  1.00  0.00           C  \nATOM   2027  O   LYS A 960     -16.177  22.741  22.103  1.00  0.00           O  \nATOM   2028  CB  LYS A 960     -14.869  24.075  19.454  1.00  0.00           C  \nATOM   2029  CG  LYS A 960     -15.241  24.153  17.957  1.00  0.00           C  \nATOM   2030  CD  LYS A 960     -14.226  23.514  16.951  1.00  0.00           C  \nATOM   2031  CE  LYS A 960     -12.986  24.379  16.690  1.00  0.00           C  \nATOM   2032  NZ  LYS A 960     -11.991  24.299  17.838  1.00  0.00           N1+\nATOM   2033  N   PHE A 961     -13.939  23.011  22.347  1.00  0.00           N  \nATOM   2034  CA  PHE A 961     -13.987  23.240  23.783  1.00  0.00           C  \nATOM   2035  C   PHE A 961     -14.997  24.311  24.182  1.00  0.00           C  \nATOM   2036  O   PHE A 961     -15.578  24.247  25.270  1.00  0.00           O  \nATOM   2037  CB  PHE A 961     -12.609  23.596  24.326  1.00  0.00           C  \nATOM   2038  CG  PHE A 961     -11.693  22.423  24.453  1.00  0.00           C  \nATOM   2039  CD1 PHE A 961     -12.073  21.298  25.162  1.00  0.00           C  \nATOM   2040  CD2 PHE A 961     -10.436  22.436  23.869  1.00  0.00           C  \nATOM   2041  CE1 PHE A 961     -11.219  20.192  25.270  1.00  0.00           C  \nATOM   2042  CE2 PHE A 961      -9.564  21.335  23.986  1.00  0.00           C  \nATOM   2043  CZ  PHE A 961      -9.956  20.215  24.683  1.00  0.00           C  \nATOM   2044  N   ARG A 962     -15.226  25.283  23.304  1.00  0.00           N  \nATOM   2045  CA  ARG A 962     -16.174  26.339  23.606  1.00  0.00           C  \nATOM   2046  C   ARG A 962     -17.613  25.828  23.650  1.00  0.00           C  \nATOM   2047  O   ARG A 962     -18.397  26.245  24.493  1.00  0.00           O  \nATOM   2048  CB  ARG A 962     -15.999  27.530  22.647  1.00  0.00           C  \nATOM   2049  CG  ARG A 962     -16.782  27.484  21.346  1.00  0.00           C  \nATOM   2050  CD  ARG A 962     -16.812  28.856  20.691  1.00  0.00           C  \nATOM   2051  NE  ARG A 962     -17.879  29.734  21.194  1.00  0.00           N  \nATOM   2052  CZ  ARG A 962     -19.175  29.611  20.881  1.00  0.00           C  \nATOM   2053  NH1 ARG A 962     -20.076  30.472  21.366  1.00  0.00           N1+\nATOM   2054  NH2 ARG A 962     -19.574  28.624  20.082  1.00  0.00           N  \nATOM   2055  N   GLU A 963     -17.942  24.918  22.736  1.00  0.00           N  \nATOM   2056  CA  GLU A 963     -19.256  24.297  22.706  1.00  0.00           C  \nATOM   2057  C   GLU A 963     -19.343  23.294  23.831  1.00  0.00           C  \nATOM   2058  O   GLU A 963     -20.412  23.131  24.458  1.00  0.00           O  \nATOM   2059  CB  GLU A 963     -19.482  23.566  21.398  1.00  0.00           C  \nATOM   2060  CG  GLU A 963     -19.421  24.428  20.167  1.00  0.00           C  \nATOM   2061  CD  GLU A 963     -19.048  23.625  18.905  1.00  0.00           C  \nATOM   2062  OE1 GLU A 963     -18.324  22.580  18.988  1.00  0.00           O  \nATOM   2063  OE2 GLU A 963     -19.483  24.059  17.814  1.00  0.00           O1-\nATOM   2064  N   LEU A 964     -18.225  22.606  24.070  1.00  0.00           N  \nATOM   2065  CA  LEU A 964     -18.131  21.680  25.182  1.00  0.00           C  \nATOM   2066  C   LEU A 964     -18.508  22.330  26.515  1.00  0.00           C  \nATOM   2067  O   LEU A 964     -19.255  21.738  27.321  1.00  0.00           O  \nATOM   2068  CB  LEU A 964     -16.757  21.053  25.229  1.00  0.00           C  \nATOM   2069  CG  LEU A 964     -16.717  19.975  24.161  1.00  0.00           C  \nATOM   2070  CD1 LEU A 964     -15.315  19.569  23.806  1.00  0.00           C  \nATOM   2071  CD2 LEU A 964     -17.492  18.778  24.604  1.00  0.00           C  \nATOM   2072  N   ILE A 965     -18.013  23.548  26.737  1.00  0.00           N  \nATOM   2073  CA  ILE A 965     -18.470  24.348  27.863  1.00  0.00           C  \nATOM   2074  C   ILE A 965     -20.005  24.466  27.818  1.00  0.00           C  \nATOM   2075  O   ILE A 965     -20.677  24.141  28.782  1.00  0.00           O  \nATOM   2076  CB  ILE A 965     -17.786  25.757  27.902  1.00  0.00           C  \nATOM   2077  CG1 ILE A 965     -16.288  25.627  28.204  1.00  0.00           C  \nATOM   2078  CG2 ILE A 965     -18.461  26.684  28.923  1.00  0.00           C  \nATOM   2079  CD1 ILE A 965     -15.448  26.683  27.607  1.00  0.00           C  \nATOM   2080  N   ILE A 966     -20.567  24.878  26.690  1.00  0.00           N  \nATOM   2081  CA  ILE A 966     -22.005  25.124  26.640  1.00  0.00           C  \nATOM   2082  C   ILE A 966     -22.888  23.883  26.943  1.00  0.00           C  \nATOM   2083  O   ILE A 966     -23.711  23.909  27.875  1.00  0.00           O  \nATOM   2084  CB  ILE A 966     -22.404  25.819  25.335  1.00  0.00           C  \nATOM   2085  CG1 ILE A 966     -21.436  26.971  25.076  1.00  0.00           C  \nATOM   2086  CG2 ILE A 966     -23.840  26.312  25.403  1.00  0.00           C  \nATOM   2087  CD1 ILE A 966     -22.034  28.191  24.348  1.00  0.00           C  \nATOM   2088  N   GLU A 967     -22.711  22.803  26.190  1.00  0.00           N  \nATOM   2089  CA  GLU A 967     -23.507  21.606  26.447  1.00  0.00           C  \nATOM   2090  C   GLU A 967     -23.395  21.140  27.895  1.00  0.00           C  \nATOM   2091  O   GLU A 967     -24.381  21.050  28.598  1.00  0.00           O  \nATOM   2092  CB  GLU A 967     -23.137  20.475  25.485  1.00  0.00           C  \nATOM   2093  CG  GLU A 967     -23.388  20.755  23.968  1.00  0.00           C  \nATOM   2094  CD  GLU A 967     -24.662  21.561  23.686  1.00  0.00           C  \nATOM   2095  OE1 GLU A 967     -24.516  22.631  23.069  1.00  0.00           O  \nATOM   2096  OE2 GLU A 967     -25.784  21.157  24.091  1.00  0.00           O1-\nATOM   2097  N   PHE A 968     -22.178  20.892  28.354  1.00  0.00           N  \nATOM   2098  CA  PHE A 968     -21.982  20.423  29.708  1.00  0.00           C  \nATOM   2099  C   PHE A 968     -22.576  21.371  30.688  1.00  0.00           C  \nATOM   2100  O   PHE A 968     -23.192  20.961  31.645  1.00  0.00           O  \nATOM   2101  CB  PHE A 968     -20.510  20.186  30.003  1.00  0.00           C  \nATOM   2102  CG  PHE A 968     -20.068  18.821  29.638  1.00  0.00           C  \nATOM   2103  CD1 PHE A 968     -20.586  17.724  30.291  1.00  0.00           C  \nATOM   2104  CD2 PHE A 968     -19.183  18.615  28.604  1.00  0.00           C  \nATOM   2105  CE1 PHE A 968     -20.211  16.447  29.939  1.00  0.00           C  \nATOM   2106  CE2 PHE A 968     -18.804  17.318  28.245  1.00  0.00           C  \nATOM   2107  CZ  PHE A 968     -19.323  16.243  28.920  1.00  0.00           C  \nATOM   2108  N   SER A 969     -22.410  22.651  30.418  1.00  0.00           N  \nATOM   2109  CA  SER A 969     -22.921  23.671  31.295  1.00  0.00           C  \nATOM   2110  C   SER A 969     -24.426  23.554  31.382  1.00  0.00           C  \nATOM   2111  O   SER A 969     -24.985  23.518  32.484  1.00  0.00           O  \nATOM   2112  CB  SER A 969     -22.518  25.037  30.784  1.00  0.00           C  \nATOM   2113  OG  SER A 969     -22.908  26.042  31.693  1.00  0.00           O  \nATOM   2114  N   LYS A 970     -25.062  23.477  30.209  1.00  0.00           N  \nATOM   2115  CA  LYS A 970     -26.486  23.201  30.102  1.00  0.00           C  \nATOM   2116  C   LYS A 970     -26.810  22.038  31.011  1.00  0.00           C  \nATOM   2117  O   LYS A 970     -27.750  22.086  31.795  1.00  0.00           O  \nATOM   2118  CB  LYS A 970     -26.860  22.778  28.686  1.00  0.00           C  \nATOM   2119  CG  LYS A 970     -27.308  23.856  27.746  1.00  0.00           C  \nATOM   2120  CD  LYS A 970     -27.252  23.299  26.325  1.00  0.00           C  \nATOM   2121  CE  LYS A 970     -27.491  24.360  25.243  1.00  0.00           C  \nATOM   2122  NZ  LYS A 970     -27.248  23.820  23.844  1.00  0.00           N1+\nATOM   2123  N   MET A 971     -26.030  20.975  30.898  1.00  0.00           N  \nATOM   2124  CA  MET A 971     -26.384  19.758  31.581  1.00  0.00           C  \nATOM   2125  C   MET A 971     -26.210  19.899  33.056  1.00  0.00           C  \nATOM   2126  O   MET A 971     -26.987  19.356  33.812  1.00  0.00           O  \nATOM   2127  CB  MET A 971     -25.563  18.608  31.072  1.00  0.00           C  \nATOM   2128  CG  MET A 971     -26.020  18.182  29.730  1.00  0.00           C  \nATOM   2129  SD  MET A 971     -24.952  16.844  29.281  1.00  0.00           S  \nATOM   2130  CE  MET A 971     -25.965  16.208  27.959  1.00  0.00           C  \nATOM   2131  N   ALA A 972     -25.209  20.654  33.484  1.00  0.00           N  \nATOM   2132  CA  ALA A 972     -24.960  20.761  34.901  1.00  0.00           C  \nATOM   2133  C   ALA A 972     -26.034  21.575  35.594  1.00  0.00           C  \nATOM   2134  O   ALA A 972     -26.002  21.697  36.805  1.00  0.00           O  \nATOM   2135  CB  ALA A 972     -23.594  21.313  35.163  1.00  0.00           C  \nATOM   2136  N   ARG A 973     -26.989  22.103  34.829  1.00  0.00           N  \nATOM   2137  CA  ARG A 973     -28.200  22.738  35.380  1.00  0.00           C  \nATOM   2138  C   ARG A 973     -29.267  21.767  35.859  1.00  0.00           C  \nATOM   2139  O   ARG A 973     -30.138  22.124  36.632  1.00  0.00           O  \nATOM   2140  CB  ARG A 973     -28.871  23.602  34.342  1.00  0.00           C  \nATOM   2141  CG  ARG A 973     -28.645  25.003  34.557  1.00  0.00           C  \nATOM   2142  CD  ARG A 973     -29.476  25.831  33.606  1.00  0.00           C  \nATOM   2143  NE  ARG A 973     -28.625  26.939  33.200  1.00  0.00           N  \nATOM   2144  CZ  ARG A 973     -28.309  27.975  33.977  1.00  0.00           C  \nATOM   2145  NH1 ARG A 973     -28.814  28.091  35.206  1.00  0.00           N1+\nATOM   2146  NH2 ARG A 973     -27.493  28.911  33.521  1.00  0.00           N  \nATOM   2147  N   ASP A 974     -29.239  20.552  35.369  1.00  0.00           N  \nATOM   2148  CA  ASP A 974     -30.251  19.619  35.730  1.00  0.00           C  \nATOM   2149  C   ASP A 974     -29.556  18.276  35.783  1.00  0.00           C  \nATOM   2150  O   ASP A 974     -29.824  17.395  34.971  1.00  0.00           O  \nATOM   2151  CB  ASP A 974     -31.314  19.656  34.657  1.00  0.00           C  \nATOM   2152  CG  ASP A 974     -32.604  19.044  35.102  1.00  0.00           C  \nATOM   2153  OD1 ASP A 974     -33.552  19.000  34.278  1.00  0.00           O  \nATOM   2154  OD2 ASP A 974     -32.665  18.596  36.270  1.00  0.00           O1-\nATOM   2155  N   PRO A 975     -28.616  18.124  36.723  1.00  0.00           N  \nATOM   2156  CA  PRO A 975     -27.663  17.026  36.652  1.00  0.00           C  \nATOM   2157  C   PRO A 975     -28.277  15.613  36.620  1.00  0.00           C  \nATOM   2158  O   PRO A 975     -27.801  14.762  35.852  1.00  0.00           O  \nATOM   2159  CB  PRO A 975     -26.808  17.237  37.897  1.00  0.00           C  \nATOM   2160  CG  PRO A 975     -26.937  18.668  38.194  1.00  0.00           C  \nATOM   2161  CD  PRO A 975     -28.363  18.975  37.894  1.00  0.00           C  \nATOM   2162  N   GLN A 976     -29.325  15.360  37.409  1.00  0.00           N  \nATOM   2163  CA  GLN A 976     -29.937  14.008  37.442  1.00  0.00           C  \nATOM   2164  C   GLN A 976     -30.689  13.576  36.180  1.00  0.00           C  \nATOM   2165  O   GLN A 976     -31.145  12.428  36.088  1.00  0.00           O  \nATOM   2166  CB  GLN A 976     -30.853  13.817  38.642  1.00  0.00           C  \nATOM   2167  CG  GLN A 976     -30.155  13.314  39.875  1.00  0.00           C  \nATOM   2168  CD  GLN A 976     -30.230  14.339  40.964  1.00  0.00           C  \nATOM   2169  OE1 GLN A 976     -30.048  15.531  40.701  1.00  0.00           O  \nATOM   2170  NE2 GLN A 976     -30.533  13.904  42.191  1.00  0.00           N  \nATOM   2171  N   ARG A 977     -30.823  14.492  35.230  1.00  0.00           N  \nATOM   2172  CA  ARG A 977     -31.432  14.208  33.962  1.00  0.00           C  \nATOM   2173  C   ARG A 977     -30.377  13.618  33.029  1.00  0.00           C  \nATOM   2174  O   ARG A 977     -30.710  13.068  31.972  1.00  0.00           O  \nATOM   2175  CB  ARG A 977     -32.003  15.499  33.399  1.00  0.00           C  \nATOM   2176  CG  ARG A 977     -32.735  15.349  32.132  1.00  0.00           C  \nATOM   2177  CD  ARG A 977     -33.330  16.632  31.687  1.00  0.00           C  \nATOM   2178  NE  ARG A 977     -33.561  16.572  30.244  1.00  0.00           N  \nATOM   2179  CZ  ARG A 977     -34.334  17.418  29.557  1.00  0.00           C  \nATOM   2180  NH1 ARG A 977     -34.984  18.402  30.186  1.00  0.00           N1+\nATOM   2181  NH2 ARG A 977     -34.465  17.280  28.235  1.00  0.00           N  \nATOM   2182  N   TYR A 978     -29.106  13.706  33.428  1.00  0.00           N  \nATOM   2183  CA  TYR A 978     -28.003  13.410  32.507  1.00  0.00           C  \nATOM   2184  C   TYR A 978     -27.005  12.383  32.983  1.00  0.00           C  \nATOM   2185  O   TYR A 978     -26.336  11.740  32.161  1.00  0.00           O  \nATOM   2186  CB  TYR A 978     -27.293  14.687  32.081  1.00  0.00           C  \nATOM   2187  CG  TYR A 978     -28.236  15.624  31.384  1.00  0.00           C  \nATOM   2188  CD1 TYR A 978     -28.608  16.826  31.970  1.00  0.00           C  \nATOM   2189  CD2 TYR A 978     -28.801  15.285  30.148  1.00  0.00           C  \nATOM   2190  CE1 TYR A 978     -29.488  17.669  31.325  1.00  0.00           C  \nATOM   2191  CE2 TYR A 978     -29.672  16.116  29.512  1.00  0.00           C  \nATOM   2192  CZ  TYR A 978     -30.014  17.296  30.106  1.00  0.00           C  \nATOM   2193  OH  TYR A 978     -30.890  18.122  29.486  1.00  0.00           O  \nATOM   2194  N   LEU A 979     -26.886  12.249  34.303  1.00  0.00           N  \nATOM   2195  CA  LEU A 979     -26.207  11.095  34.884  1.00  0.00           C  \nATOM   2196  C   LEU A 979     -27.124  10.482  35.898  1.00  0.00           C  \nATOM   2197  O   LEU A 979     -27.864  11.179  36.590  1.00  0.00           O  \nATOM   2198  CB  LEU A 979     -24.873  11.462  35.510  1.00  0.00           C  \nATOM   2199  CG  LEU A 979     -23.843  12.115  34.594  1.00  0.00           C  \nATOM   2200  CD1 LEU A 979     -22.652  12.523  35.433  1.00  0.00           C  \nATOM   2201  CD2 LEU A 979     -23.412  11.209  33.433  1.00  0.00           C  \nATOM   2202  N   VAL A 980     -27.107   9.167  35.960  1.00  0.00           N  \nATOM   2203  CA  VAL A 980     -28.023   8.486  36.824  1.00  0.00           C  \nATOM   2204  C   VAL A 980     -27.158   7.794  37.833  1.00  0.00           C  \nATOM   2205  O   VAL A 980     -26.622   6.727  37.549  1.00  0.00           O  \nATOM   2206  CB  VAL A 980     -28.890   7.491  36.052  1.00  0.00           C  \nATOM   2207  CG1 VAL A 980     -30.119   7.212  36.823  1.00  0.00           C  \nATOM   2208  CG2 VAL A 980     -29.285   8.059  34.692  1.00  0.00           C  \nATOM   2209  N   ILE A 981     -26.991   8.427  38.995  1.00  0.00           N  \nATOM   2210  CA  ILE A 981     -26.153   7.864  40.072  1.00  0.00           C  \nATOM   2211  C   ILE A 981     -26.973   7.460  41.316  1.00  0.00           C  \nATOM   2212  O   ILE A 981     -27.805   8.227  41.777  1.00  0.00           O  \nATOM   2213  CB  ILE A 981     -24.998   8.840  40.470  1.00  0.00           C  \nATOM   2214  CG1 ILE A 981     -24.083   9.151  39.263  1.00  0.00           C  \nATOM   2215  CG2 ILE A 981     -24.190   8.277  41.642  1.00  0.00           C  \nATOM   2216  CD1 ILE A 981     -23.219  10.391  39.408  1.00  0.00           C  \nATOM   2217  N   GLN A 982     -26.717   6.258  41.843  1.00  0.00           N  \nATOM   2218  CA  GLN A 982     -27.405   5.667  43.020  1.00  0.00           C  \nATOM   2219  C   GLN A 982     -27.338   6.494  44.311  1.00  0.00           C  \nATOM   2220  O   GLN A 982     -26.258   6.697  44.877  1.00  0.00           O  \nATOM   2221  CB  GLN A 982     -26.817   4.277  43.325  1.00  0.00           C  \nATOM   2222  CG  GLN A 982     -26.980   3.233  42.199  1.00  0.00           C  \nATOM   2223  CD  GLN A 982     -26.226   3.602  40.890  1.00  0.00           C  \nATOM   2224  OE1 GLN A 982     -24.987   3.464  40.794  1.00  0.00           O  \nATOM   2225  NE2 GLN A 982     -26.984   4.059  39.879  1.00  0.00           N  \nATOM   2226  N   GLY A 983     -28.498   6.932  44.796  1.00  0.00           N  \nATOM   2227  CA  GLY A 983     -28.575   7.781  45.994  1.00  0.00           C  \nATOM   2228  C   GLY A 983     -27.840   9.096  45.817  1.00  0.00           C  \nATOM   2229  O   GLY A 983     -27.187   9.598  46.736  1.00  0.00           O  \nATOM   2230  N   ASP A 984     -27.963   9.641  44.616  1.00  0.00           N  \nATOM   2231  CA  ASP A 984     -27.255  10.823  44.182  1.00  0.00           C  \nATOM   2232  C   ASP A 984     -27.475  11.989  45.133  1.00  0.00           C  \nATOM   2233  O   ASP A 984     -26.557  12.380  45.858  1.00  0.00           O  \nATOM   2234  CB  ASP A 984     -27.752  11.196  42.792  1.00  0.00           C  \nATOM   2235  CG  ASP A 984     -26.828  12.139  42.061  1.00  0.00           C  \nATOM   2236  OD1 ASP A 984     -26.954  12.206  40.819  1.00  0.00           O  \nATOM   2237  OD2 ASP A 984     -25.994  12.812  42.697  1.00  0.00           O1-\nATOM   2238  N   GLU A 985     -28.697  12.522  45.130  1.00  0.00           N  \nATOM   2239  CA  GLU A 985     -29.043  13.768  45.835  1.00  0.00           C  \nATOM   2240  C   GLU A 985     -28.698  13.764  47.330  1.00  0.00           C  \nATOM   2241  O   GLU A 985     -28.754  14.824  47.970  1.00  0.00           O  \nATOM   2242  CB  GLU A 985     -30.523  14.134  45.620  1.00  0.00           C  \nATOM   2243  CG  GLU A 985     -31.512  13.206  46.310  1.00  0.00           C  \nATOM   2244  CD  GLU A 985     -31.493  11.787  45.749  1.00  0.00           C  \nATOM   2245  OE1 GLU A 985     -31.080  10.864  46.494  1.00  0.00           O  \nATOM   2246  OE2 GLU A 985     -31.874  11.598  44.563  1.00  0.00           O1-\nATOM   2247  N   ARG A 986     -28.341  12.589  47.874  1.00  0.00           N  \nATOM   2248  CA  ARG A 986     -27.900  12.458  49.289  1.00  0.00           C  \nATOM   2249  C   ARG A 986     -26.363  12.519  49.555  1.00  0.00           C  \nATOM   2250  O   ARG A 986     -25.915  12.157  50.646  1.00  0.00           O  \nATOM   2251  CB  ARG A 986     -28.534  11.216  49.968  1.00  0.00           C  \nATOM   2252  CG  ARG A 986     -27.828   9.864  49.757  1.00  0.00           C  \nATOM   2253  CD  ARG A 986     -28.155   8.915  50.905  1.00  0.00           C  \nATOM   2254  NE  ARG A 986     -28.530   7.576  50.450  1.00  0.00           N  \nATOM   2255  CZ  ARG A 986     -29.758   7.218  50.069  1.00  0.00           C  \nATOM   2256  NH1 ARG A 986     -30.751   8.097  50.061  1.00  0.00           N1+\nATOM   2257  NH2 ARG A 986     -29.995   5.974  49.680  1.00  0.00           N  \nATOM   2258  N   MET A 987     -25.574  12.988  48.577  1.00  0.00           N  \nATOM   2259  CA  MET A 987     -24.095  13.095  48.711  1.00  0.00           C  \nATOM   2260  C   MET A 987     -23.586  14.535  48.968  1.00  0.00           C  \nATOM   2261  O   MET A 987     -24.254  15.522  48.632  1.00  0.00           O  \nATOM   2262  CB  MET A 987     -23.372  12.447  47.502  1.00  0.00           C  \nATOM   2263  CG  MET A 987     -23.602  10.929  47.385  1.00  0.00           C  \nATOM   2264  SD  MET A 987     -23.056  10.100  45.875  1.00  0.00           S  \nATOM   2265  CE  MET A 987     -23.798   8.489  46.124  1.00  0.00           C  \nATOM   2266  N   HIS A 988     -22.412  14.632  49.593  1.00  0.00           N  \nATOM   2267  CA  HIS A 988     -21.699  15.903  49.792  1.00  0.00           C  \nATOM   2268  C   HIS A 988     -20.216  15.593  50.068  1.00  0.00           C  \nATOM   2269  O   HIS A 988     -19.898  14.704  50.866  1.00  0.00           O  \nATOM   2270  CB  HIS A 988     -22.332  16.733  50.928  1.00  0.00           C  \nATOM   2271  N   LEU A 989     -19.311  16.305  49.396  1.00  0.00           N  \nATOM   2272  CA  LEU A 989     -17.880  15.967  49.466  1.00  0.00           C  \nATOM   2273  C   LEU A 989     -17.049  16.788  50.467  1.00  0.00           C  \nATOM   2274  O   LEU A 989     -17.089  18.021  50.490  1.00  0.00           O  \nATOM   2275  CB  LEU A 989     -17.256  15.986  48.065  1.00  0.00           C  \nATOM   2276  CG  LEU A 989     -17.472  14.706  47.248  1.00  0.00           C  \nATOM   2277  CD1 LEU A 989     -17.261  14.965  45.772  1.00  0.00           C  \nATOM   2278  CD2 LEU A 989     -16.582  13.571  47.731  1.00  0.00           C  \nATOM   2279  N   MET A1002      -3.305  18.973  56.604  1.00  0.00           N1+\nATOM   2280  CA  MET A1002      -4.138  20.139  56.315  1.00  0.00           C  \nATOM   2281  C   MET A1002      -3.830  21.360  57.221  1.00  0.00           C  \nATOM   2282  O   MET A1002      -4.673  22.272  57.312  1.00  0.00           O  \nATOM   2283  CB  MET A1002      -5.644  19.789  56.420  1.00  0.00           C  \nATOM   2284  CG  MET A1002      -6.080  18.341  56.023  1.00  0.00           C  \nATOM   2285  SD  MET A1002      -6.021  17.817  54.258  1.00  0.00           S  \nATOM   2286  CE  MET A1002      -7.181  18.916  53.396  1.00  0.00           C  \nATOM   2287  N   ASP A1003      -2.647  21.386  57.874  1.00  0.00           N  \nATOM   2288  CA  ASP A1003      -2.296  22.461  58.877  1.00  0.00           C  \nATOM   2289  C   ASP A1003      -0.860  22.495  59.555  1.00  0.00           C  \nATOM   2290  O   ASP A1003       0.178  22.311  58.878  1.00  0.00           O  \nATOM   2291  CB  ASP A1003      -3.398  22.552  59.968  1.00  0.00           C  \nATOM   2292  CG  ASP A1003      -3.611  21.218  60.718  1.00  0.00           C  \nATOM   2293  OD1 ASP A1003      -3.323  20.138  60.141  1.00  0.00           O  \nATOM   2294  OD2 ASP A1003      -4.061  21.259  61.888  1.00  0.00           O1-\nATOM   2295  N   GLU A1004      -0.850  22.742  60.887  1.00  0.00           N  \nATOM   2296  CA  GLU A1004       0.342  22.990  61.759  1.00  0.00           C  \nATOM   2297  C   GLU A1004       0.690  24.492  61.825  1.00  0.00           C  \nATOM   2298  O   GLU A1004      -0.023  25.315  61.215  1.00  0.00           O  \nATOM   2299  CB  GLU A1004       1.570  22.149  61.363  1.00  0.00           C  \nATOM   2300  N   GLU A1005       1.759  24.838  62.566  1.00  0.00           N  \nATOM   2301  CA  GLU A1005       2.333  26.219  62.617  1.00  0.00           C  \nATOM   2302  C   GLU A1005       1.322  27.337  62.903  1.00  0.00           C  \nATOM   2303  O   GLU A1005       0.369  27.127  63.663  1.00  0.00           O  \nATOM   2304  CB  GLU A1005       3.063  26.549  61.319  1.00  0.00           C  \nATOM   2305  CG  GLU A1005       4.371  25.828  61.136  1.00  0.00           C  \nATOM   2306  CD  GLU A1005       5.041  26.237  59.838  1.00  0.00           C  \nATOM   2307  OE1 GLU A1005       4.573  27.243  59.241  1.00  0.00           O  \nATOM   2308  OE2 GLU A1005       6.025  25.567  59.425  1.00  0.00           O1-\nATOM   2309  N   ASP A1006       1.525  28.509  62.285  1.00  0.00           N  \nATOM   2310  CA  ASP A1006       0.593  29.633  62.439  1.00  0.00           C  \nATOM   2311  C   ASP A1006      -0.728  29.397  61.697  1.00  0.00           C  \nATOM   2312  O   ASP A1006      -1.685  28.860  62.271  1.00  0.00           O  \nATOM   2313  CB  ASP A1006       1.222  30.967  62.008  1.00  0.00           C  \nATOM   2314  CG  ASP A1006       0.431  32.193  62.522  1.00  0.00           C  \nATOM   2315  OD1 ASP A1006      -0.340  32.021  63.523  1.00  0.00           O  \nATOM   2316  OD2 ASP A1006       0.590  33.325  61.951  1.00  0.00           O1-\nATOM   2317  N   MET A1007      -0.777  29.775  60.423  1.00  0.00           N  \nATOM   2318  CA  MET A1007      -2.034  29.783  59.657  1.00  0.00           C  \nATOM   2319  C   MET A1007      -2.866  31.061  59.856  1.00  0.00           C  \nATOM   2320  O   MET A1007      -3.942  31.178  59.286  1.00  0.00           O  \nATOM   2321  CB  MET A1007      -2.883  28.501  59.839  1.00  0.00           C  \nATOM   2322  CG  MET A1007      -2.417  27.318  58.992  1.00  0.00           C  \nATOM   2323  SD  MET A1007      -3.623  25.966  58.792  1.00  0.00           S  \nATOM   2324  CE  MET A1007      -4.586  26.467  57.353  1.00  0.00           C  \nATOM   2325  N   ASP A1008      -2.365  32.019  60.633  1.00  0.00           N  \nATOM   2326  CA  ASP A1008      -2.963  33.361  60.693  1.00  0.00           C  \nATOM   2327  C   ASP A1008      -2.748  34.130  59.414  1.00  0.00           C  \nATOM   2328  O   ASP A1008      -3.573  34.938  59.023  1.00  0.00           O  \nATOM   2329  CB  ASP A1008      -2.329  34.208  61.793  1.00  0.00           C  \nATOM   2330  CG  ASP A1008      -3.132  34.210  63.062  1.00  0.00           C  \nATOM   2331  OD1 ASP A1008      -3.622  33.118  63.436  1.00  0.00           O  \nATOM   2332  OD2 ASP A1008      -3.260  35.297  63.689  1.00  0.00           O1-\nATOM   2333  N   ASP A1009      -1.599  33.914  58.792  1.00  0.00           N  \nATOM   2334  CA  ASP A1009      -1.187  34.725  57.677  1.00  0.00           C  \nATOM   2335  C   ASP A1009      -1.219  33.932  56.402  1.00  0.00           C  \nATOM   2336  O   ASP A1009      -0.792  34.407  55.350  1.00  0.00           O  \nATOM   2337  CB  ASP A1009       0.196  35.267  57.955  1.00  0.00           C  \nATOM   2338  CG  ASP A1009       0.137  36.617  58.597  1.00  0.00           C  \nATOM   2339  OD1 ASP A1009       0.841  36.850  59.599  1.00  0.00           O  \nATOM   2340  OD2 ASP A1009      -0.639  37.452  58.106  1.00  0.00           O1-\nATOM   2341  N   VAL A1010      -1.749  32.717  56.508  1.00  0.00           N  \nATOM   2342  CA  VAL A1010      -1.925  31.843  55.365  1.00  0.00           C  \nATOM   2343  C   VAL A1010      -2.984  32.406  54.420  1.00  0.00           C  \nATOM   2344  O   VAL A1010      -4.091  32.728  54.838  1.00  0.00           O  \nATOM   2345  CB  VAL A1010      -2.294  30.417  55.802  1.00  0.00           C  \nATOM   2346  CG1 VAL A1010      -2.652  29.555  54.599  1.00  0.00           C  \nATOM   2347  CG2 VAL A1010      -1.141  29.786  56.526  1.00  0.00           C  \nATOM   2348  N   VAL A1011      -2.610  32.551  53.153  1.00  0.00           N  \nATOM   2349  CA  VAL A1011      -3.530  32.937  52.110  1.00  0.00           C  \nATOM   2350  C   VAL A1011      -3.320  32.008  50.949  1.00  0.00           C  \nATOM   2351  O   VAL A1011      -2.207  31.588  50.692  1.00  0.00           O  \nATOM   2352  CB  VAL A1011      -3.275  34.351  51.623  1.00  0.00           C  \nATOM   2353  CG1 VAL A1011      -4.318  34.738  50.605  1.00  0.00           C  \nATOM   2354  CG2 VAL A1011      -3.347  35.311  52.771  1.00  0.00           C  \nATOM   2355  N   ASP A1012      -4.394  31.683  50.242  1.00  0.00           N  \nATOM   2356  CA  ASP A1012      -4.282  30.819  49.092  1.00  0.00           C  \nATOM   2357  C   ASP A1012      -3.735  31.619  47.926  1.00  0.00           C  \nATOM   2358  O   ASP A1012      -3.962  32.812  47.833  1.00  0.00           O  \nATOM   2359  CB  ASP A1012      -5.621  30.193  48.749  1.00  0.00           C  \nATOM   2360  CG  ASP A1012      -5.501  29.206  47.627  1.00  0.00           C  \nATOM   2361  OD1 ASP A1012      -5.322  28.002  47.907  1.00  0.00           O  \nATOM   2362  OD2 ASP A1012      -5.516  29.640  46.458  1.00  0.00           O1-\nATOM   2363  N   ALA A1013      -3.008  30.964  47.036  1.00  0.00           N  \nATOM   2364  CA  ALA A1013      -2.261  31.656  45.997  1.00  0.00           C  \nATOM   2365  C   ALA A1013      -3.140  32.401  45.010  1.00  0.00           C  \nATOM   2366  O   ALA A1013      -2.700  33.363  44.401  1.00  0.00           O  \nATOM   2367  CB  ALA A1013      -1.359  30.684  45.283  1.00  0.00           C  \nATOM   2368  N   ASP A1014      -4.381  31.948  44.862  1.00  0.00           N  \nATOM   2369  CA  ASP A1014      -5.367  32.564  43.979  1.00  0.00           C  \nATOM   2370  C   ASP A1014      -5.768  33.949  44.450  1.00  0.00           C  \nATOM   2371  O   ASP A1014      -6.448  34.681  43.737  1.00  0.00           O  \nATOM   2372  CB  ASP A1014      -6.613  31.677  43.878  1.00  0.00           C  \nATOM   2373  CG  ASP A1014      -6.391  30.461  43.005  1.00  0.00           C  \nATOM   2374  OD1 ASP A1014      -5.449  30.484  42.215  1.00  0.00           O  \nATOM   2375  OD2 ASP A1014      -7.139  29.480  43.088  1.00  0.00           O1-\nATOM   2376  N   GLU A1015      -5.356  34.298  45.663  1.00  0.00           N  \nATOM   2377  CA  GLU A1015      -5.614  35.608  46.232  1.00  0.00           C  \nATOM   2378  C   GLU A1015      -4.288  36.338  46.460  1.00  0.00           C  \nATOM   2379  O   GLU A1015      -4.232  37.404  47.082  1.00  0.00           O  \nATOM   2380  CB  GLU A1015      -6.447  35.498  47.513  1.00  0.00           C  \nATOM   2381  CG  GLU A1015      -7.917  35.104  47.303  1.00  0.00           C  \nATOM   2382  CD  GLU A1015      -8.099  33.609  47.065  1.00  0.00           C  \nATOM   2383  OE1 GLU A1015      -8.972  33.232  46.255  1.00  0.00           O  \nATOM   2384  OE2 GLU A1015      -7.358  32.800  47.677  1.00  0.00           O1-\nATOM   2385  N   TYR A1016      -3.222  35.768  45.916  1.00  0.00           N  \nATOM   2386  CA  TYR A1016      -1.944  36.431  45.891  1.00  0.00           C  \nATOM   2387  C   TYR A1016      -1.537  36.804  44.468  1.00  0.00           C  \nATOM   2388  O   TYR A1016      -1.128  35.951  43.681  1.00  0.00           O  \nATOM   2389  CB  TYR A1016      -0.900  35.538  46.529  1.00  0.00           C  \nATOM   2390  CG  TYR A1016       0.464  36.164  46.531  1.00  0.00           C  \nATOM   2391  CD1 TYR A1016       1.445  35.726  45.640  1.00  0.00           C  \nATOM   2392  CD2 TYR A1016       0.778  37.213  47.410  1.00  0.00           C  \nATOM   2393  CE1 TYR A1016       2.709  36.298  45.627  1.00  0.00           C  \nATOM   2394  CE2 TYR A1016       2.046  37.800  47.404  1.00  0.00           C  \nATOM   2395  CZ  TYR A1016       3.009  37.330  46.507  1.00  0.00           C  \nATOM   2396  OH  TYR A1016       4.267  37.881  46.464  1.00  0.00           O  \nATOM   2397  N   LEU A1017      -1.665  38.085  44.140  1.00  0.00           N  \nATOM   2398  CA  LEU A1017      -1.268  38.591  42.814  1.00  0.00           C  \nATOM   2399  C   LEU A1017      -0.432  39.857  42.959  1.00  0.00           C  \nATOM   2400  O   LEU A1017      -0.787  40.770  43.715  1.00  0.00           O  \nATOM   2401  CB  LEU A1017      -2.480  38.902  41.910  1.00  0.00           C  \nATOM   2402  CG  LEU A1017      -3.828  38.189  42.059  1.00  0.00           C  \nATOM   2403  CD1 LEU A1017      -4.928  39.117  41.621  1.00  0.00           C  \nATOM   2404  CD2 LEU A1017      -3.878  36.870  41.306  1.00  0.00           C  \nATOM   2405  N   ILE A1018       0.691  39.890  42.244  1.00  0.00           N  \nATOM   2406  CA  ILE A1018       1.493  41.107  42.048  1.00  0.00           C  \nATOM   2407  C   ILE A1018       1.145  41.525  40.586  1.00  0.00           C  \nATOM   2408  O   ILE A1018       0.736  40.641  39.812  1.00  0.00           O  \nATOM   2409  CB  ILE A1018       3.036  40.823  42.366  1.00  0.00           C  \nATOM   2410  CG1 ILE A1018       3.868  42.140  42.491  1.00  0.00           C  \nATOM   2411  CG2 ILE A1018       3.610  39.729  41.408  1.00  0.00           C  \nATOM   2412  CD1 ILE A1018       5.122  42.093  43.440  1.00  0.00           C  \nATOM   2413  N   PRO A1019       1.235  42.850  40.221  1.00  0.00           N  \nATOM   2414  CA  PRO A1019       0.867  43.296  38.837  1.00  0.00           C  \nATOM   2415  C   PRO A1019       1.556  42.534  37.691  1.00  0.00           C  \nATOM   2416  O   PRO A1019       0.888  42.107  36.735  1.00  0.00           O  \nATOM   2417  CB  PRO A1019       1.256  44.795  38.804  1.00  0.00           C  \nATOM   2418  CG  PRO A1019       2.080  45.040  40.034  1.00  0.00           C  \nATOM   2419  CD  PRO A1019       1.650  44.000  41.056  1.00  0.00           C  \nTER    2420      PRO A1019 \nHETATM 2421  O   HOH A3001      -0.720  32.696  13.423  1.00  0.00           O  \nHETATM 2422  O   HOH A3002       5.456  36.148  21.936  1.00  0.00           O  \nHETATM 2423  O   HOH A3003      10.979  37.893  41.629  1.00  0.00           O  \nHETATM 2424  O   HOH A3004      -1.562  15.740  51.465  1.00  0.00           O  \nHETATM 2425  O   HOH A3005       7.374  10.123  51.869  1.00  0.00           O  \nHETATM 2426  O   HOH A3006       5.391   6.993  45.593  1.00  0.00           O  \nHETATM 2427  O   HOH A3007      -3.811  14.200  49.033  1.00  0.00           O  \nHETATM 2428  O   HOH A3008      -2.469   6.768  45.536  1.00  0.00           O  \nHETATM 2429  O   HOH A3009      -6.708   8.604  48.403  1.00  0.00           O  \nHETATM 2430  O   HOH A3010     -12.228   1.983  39.953  1.00  0.00           O  \nHETATM 2431  O   HOH A3011     -15.810  28.498  36.272  1.00  0.00           O  \nHETATM 2432  O   HOH A3012     -13.030  26.156  21.950  1.00  0.00           O  \nHETATM 2433  O   HOH A3013       0.748  36.084  24.252  1.00  0.00           O  \nHETATM 2434  O   HOH A3014      -3.946   8.070  34.039  1.00  0.00           O  \nHETATM 2435  O   HOH A3015     -14.669  28.481  40.870  1.00  0.00           O  \nHETATM 2436  O   HOH A3016       6.763  24.732  23.882  1.00  0.00           O  \nHETATM 2437  O   HOH A3017       1.068   6.557  29.112  1.00  0.00           O  \nHETATM 2438  O   HOH A3018      -1.453   4.670  27.554  1.00  0.00           O  \nHETATM 2439  O   HOH A3019      -4.078   0.018  39.248  1.00  0.00           O  \nHETATM 2440  O   HOH A3020     -17.037  -0.228  21.460  1.00  0.00           O  \nHETATM 2441  O   HOH A3021     -25.958  15.249  22.543  1.00  0.00           O  \nHETATM 2442  O   HOH A3022     -26.114  15.481  19.413  1.00  0.00           O  \nHETATM 2443  O   HOH A3023     -24.653  17.918  21.126  1.00  0.00           O  \nHETATM 2444  O   HOH A3024     -15.393  11.754  11.200  1.00  0.00           O  \nHETATM 2445  O   HOH A3025      -8.632  14.640  10.757  1.00  0.00           O  \nHETATM 2446  O   HOH A3026     -27.365  18.700  25.840  1.00  0.00           O  \nHETATM 2447  O   HOH A3027     -30.732   5.070  43.920  1.00  0.00           O  \nHETATM 2448  O   HOH A3028     -26.423  17.269  49.640  1.00  0.00           O  \nHETATM 2449  O   HOH A3029     -15.580  17.724  52.631  1.00  0.00           O  \nHETATM 2450  O   HOH A3030       0.141  19.395  61.505  1.00  0.00           O  \nHETATM 2451  O   HOH A3031      -0.830  23.794  65.158  1.00  0.00           O  \nHETATM 2452  O   HOH A3032      -9.087   0.446  38.671  1.00  0.00           O  \nHETATM 2453  O   HOH A3033     -14.200  31.527  35.394  1.00  0.00           O  \nHETATM 2454  O   HOH A3034      -1.662  37.679  38.874  1.00  0.00           O  \nHETATM 2455  CAO IRE A2020       0.199  10.004  44.679  1.00  0.00           C  \nHETATM 2456  CAL IRE A2020       0.217   8.465  44.652  1.00  0.00           C  \nHETATM 2457  OAU IRE A2020       1.301   8.036  43.762  1.00  0.00           O  \nHETATM 2458  CAM IRE A2020       1.098   8.455  42.373  1.00  0.00           C  \nHETATM 2459  CAP IRE A2020       0.952   9.984  42.225  1.00  0.00           C  \nHETATM 2460  NBE IRE A2020       0.122  10.605  43.307  1.00  0.00           N1+\nHETATM 2461  CAN IRE A2020       0.584  12.001  43.444  1.00  0.00           C  \nHETATM 2462  CAJ IRE A2020      -0.502  13.019  43.064  1.00  0.00           C  \nHETATM 2463  CAK IRE A2020       0.113  14.435  42.975  1.00  0.00           C  \nHETATM 2464  OAV IRE A2020       0.112  15.200  44.231  1.00  0.00           O  \nHETATM 2465  CBA IRE A2020      -0.002  16.565  44.108  1.00  0.00           C  \nHETATM 2466  CAZ IRE A2020      -0.785  17.235  45.045  1.00  0.00           C  \nHETATM 2467  CAH IRE A2020      -0.914  18.623  44.949  1.00  0.00           C  \nHETATM 2468  OAT IRE A2020      -1.422  16.504  46.023  1.00  0.00           O  \nHETATM 2469  CAA IRE A2020      -1.429  17.063  47.346  1.00  0.00           C  \nHETATM 2470  CAI IRE A2020       0.659  17.288  43.102  1.00  0.00           C  \nHETATM 2471  C5  IRE A2020       0.529  18.670  43.020  1.00  0.00           C  \nHETATM 2472  C4  IRE A2020      -0.259  19.330  43.943  1.00  0.00           C  \nHETATM 2473  N3  IRE A2020      -0.377  20.664  43.857  1.00  0.00           N  \nHETATM 2474  C2  IRE A2020       0.222  21.371  42.908  1.00  0.00           C  \nHETATM 2475  N1  IRE A2020       0.975  20.775  42.010  1.00  0.00           N  \nHETATM 2476  C6  IRE A2020       1.147  19.439  42.037  1.00  0.00           C  \nHETATM 2477  NAS IRE A2020       1.897  18.866  41.106  1.00  0.00           N  \nHETATM 2478  CAY IRE A2020       2.607  19.576  40.231  1.00  0.00           C  \nHETATM 2479  CAG IRE A2020       3.514  20.520  40.700  1.00  0.00           C  \nHETATM 2480  CAX IRE A2020       4.280  21.255  39.811  1.00  0.00           C  \nHETATM 2481 CL   IRE A2020       5.383  22.414  40.434  1.00  0.00          CL  \nHETATM 2482  CAW IRE A2020       4.158  21.062  38.442  1.00  0.00           C  \nHETATM 2483  FAB IRE A2020       4.920  21.795  37.603  1.00  0.00           F  \nHETATM 2484  CAD IRE A2020       3.253  20.111  37.963  1.00  0.00           C  \nHETATM 2485  CAE IRE A2020       2.480  19.364  38.860  1.00  0.00           C  \nCONECT 2266 2267\nCONECT 2267 2266 2268 2270\nCONECT 2268 2267 2269 2269\nCONECT 2269 2268 2268\nCONECT 2270 2267\nCONECT 2295 2296\nCONECT 2296 2295 2297 2299\nCONECT 2297 2296 2298 2298\nCONECT 2298 2297 2297\nCONECT 2299 2296\nCONECT 2455 2456 2460\nCONECT 2456 2455 2457\nCONECT 2457 2456 2458\nCONECT 2458 2457 2459\nCONECT 2459 2458 2460\nCONECT 2460 2455 2459 2461\nCONECT 2461 2460 2462\nCONECT 2462 2461 2463\nCONECT 2463 2462 2464\nCONECT 2464 2463 2465\nCONECT 2465 2464 2466 2470 2470\nCONECT 2466 2465 2467 2467 2468\nCONECT 2467 2466 2466 2472\nCONECT 2468 2466 2469\nCONECT 2469 2468\nCONECT 2470 2465 2465 2471\nCONECT 2471 2470 2472 2476 2476\nCONECT 2472 2467 2471 2473 2473\nCONECT 2473 2472 2472 2474\nCONECT 2474 2473 2475 2475\nCONECT 2475 2474 2474 2476\nCONECT 2476 2471 2471 2475 2477\nCONECT 2477 2476 2478\nCONECT 2478 2477 2479 2485 2485\nCONECT 2479 2478 2480 2480\nCONECT 2480 2479 2479 2481 2482\nCONECT 2481 2480\nCONECT 2482 2480 2483 2484 2484\nCONECT 2483 2482\nCONECT 2484 2482 2482 2485\nCONECT 2485 2478 2478 2484\nEND\n",
           "type": "blob"
          }
         ],
         "kwargs": {
          "defaultRepresentation": true,
          "ext": "pdb"
         },
         "methodName": "loadFile",
         "reconstruc_color_scheme": false,
         "target": "Stage",
         "type": "call_method"
        },
        {
         "args": [],
         "component_index": 0,
         "kwargs": {},
         "methodName": "removeAllRepresentations",
         "reconstruc_color_scheme": false,
         "target": "compList",
         "type": "call_method"
        },
        {
         "args": [
          "cartoon"
         ],
         "component_index": 0,
         "kwargs": {
          "color": "grey",
          "sele": "protein"
         },
         "methodName": "addRepresentation",
         "reconstruc_color_scheme": false,
         "target": "compList",
         "type": "call_method"
        },
        {
         "args": [],
         "component_index": 0,
         "kwargs": {},
         "methodName": "removeAllRepresentations",
         "reconstruc_color_scheme": false,
         "target": "compList",
         "type": "call_method"
        },
        {
         "args": [
          "cartoon"
         ],
         "component_index": 0,
         "kwargs": {
          "color": [
           [
            "orange",
            "790"
           ],
           [
            "khaki",
            "716"
           ],
           [
            "khaki",
            "717"
           ],
           [
            "khaki",
            "718"
           ],
           [
            "khaki",
            "725"
           ],
           [
            "khaki",
            "726"
           ],
           [
            "khaki",
            "727"
           ],
           [
            "khaki",
            "728"
           ],
           [
            "khaki",
            "742"
           ],
           [
            "khaki",
            "743"
           ],
           [
            "khaki",
            "744"
           ],
           [
            "khaki",
            "745"
           ],
           [
            "khaki",
            "746"
           ],
           [
            "khaki",
            "747"
           ],
           [
            "khaki",
            "777"
           ],
           [
            "khaki",
            "778"
           ],
           [
            "khaki",
            "779"
           ],
           [
            "khaki",
            "780"
           ],
           [
            "khaki",
            "787"
           ],
           [
            "khaki",
            "788"
           ],
           [
            "khaki",
            "789"
           ],
           [
            "khaki",
            "832"
           ],
           [
            "khaki",
            "833"
           ],
           [
            "khaki",
            "834"
           ],
           [
            "khaki",
            "843"
           ],
           [
            "khaki",
            "844"
           ],
           [
            "khaki",
            "845"
           ],
           [
            "khaki",
            "853"
           ],
           [
            "cornflowerblue",
            "858"
           ],
           [
            "cornflowerblue",
            "859"
           ],
           [
            "green",
            "769"
           ],
           [
            "green",
            "770"
           ],
           [
            "green",
            "772"
           ],
           [
            "green",
            "773"
           ],
           [
            "green",
            "774"
           ],
           [
            "green",
            "775"
           ],
           [
            "green",
            "776"
           ],
           [
            "darkorange",
            "835"
           ],
           [
            "darkorange",
            "836"
           ],
           [
            "darkorange",
            "837"
           ],
           [
            "darkorange",
            "838"
           ],
           [
            "darkorange",
            "839"
           ],
           [
            "darkorange",
            "840"
           ],
           [
            "darkorange",
            "841"
           ],
           [
            "darkorange",
            "842"
           ],
           [
            "green",
            "719"
           ],
           [
            "green",
            "720"
           ],
           [
            "green",
            "721"
           ],
           [
            "green",
            "722"
           ],
           [
            "green",
            "723"
           ],
           [
            "green",
            "724"
           ],
           [
            "magenta",
            "791"
           ],
           [
            "magenta",
            "792"
           ],
           [
            "magenta",
            "793"
           ],
           [
            "cyan",
            "794"
           ],
           [
            "cyan",
            "795"
           ],
           [
            "cyan",
            "796"
           ],
           [
            "cyan",
            "797"
           ],
           [
            "cornflowerblue",
            "854"
           ],
           [
            "cornflowerblue",
            "855"
           ],
           [
            "cornflowerblue",
            "856"
           ],
           [
            "cornflowerblue",
            "857"
           ],
           [
            "red",
            "758"
           ],
           [
            "red",
            "759"
           ],
           [
            "red",
            "760"
           ],
           [
            "red",
            "761"
           ],
           [
            "red",
            "762"
           ],
           [
            "red",
            "763"
           ],
           [
            "red",
            "764"
           ],
           [
            "red",
            "765"
           ],
           [
            "red",
            "766"
           ],
           [
            "red",
            "767"
           ],
           [
            "red",
            "768"
           ],
           [
            "red",
            "798"
           ],
           [
            "red",
            "799"
           ],
           [
            "red",
            "800"
           ],
           [
            "red",
            "801"
           ],
           [
            "red",
            "802"
           ],
           [
            "red",
            "803"
           ],
           [
            "red",
            "804"
           ],
           [
            "red",
            "827"
           ],
           [
            "red",
            "828"
           ],
           [
            "red",
            "829"
           ],
           [
            "red",
            "830"
           ],
           [
            "red",
            "831"
           ]
          ],
          "color_label": "user_scheme_regions",
          "sele": "protein"
         },
         "methodName": "addRepresentation",
         "reconstruc_color_scheme": true,
         "target": "compList",
         "type": "call_method"
        },
        {
         "args": [
          "shape",
          [
           [
            "sphere",
            [
             1.077117681503296,
             20.7691650390625,
             37.087493896484375
            ],
            [
             0.0,
             0.0,
             1.0
            ],
            2,
            "center: 783"
           ]
          ]
         ],
         "fire_embed": true,
         "kwargs": {},
         "methodName": "addShape",
         "reconstruc_color_scheme": false,
         "target": "Widget",
         "type": "call_method"
        },
        {
         "args": [],
         "component_index": 1,
         "kwargs": {
          "opacity": 0.7,
          "repreIndex": 0
         },
         "methodName": "setParameters",
         "reconstruc_color_scheme": false,
         "repr_index": 0,
         "target": "Representation",
         "type": "call_method"
        },
        {
         "args": [],
         "kwargs": {},
         "methodName": "request_repr_dict",
         "reconstruc_color_scheme": false,
         "target": "Widget",
         "type": "call_method"
        },
        {
         "args": [
          "licorice"
         ],
         "component_index": 0,
         "kwargs": {
          "sele": "856"
         },
         "methodName": "addRepresentation",
         "reconstruc_color_scheme": false,
         "target": "compList",
         "type": "call_method"
        },
        {
         "args": [
          "cartoon"
         ],
         "component_index": 0,
         "kwargs": {
          "opacity": 1.0,
          "sele": "854-858"
         },
         "methodName": "addRepresentation",
         "reconstruc_color_scheme": false,
         "target": "compList",
         "type": "call_method"
        },
        {
         "args": [
          "shape",
          [
           [
            "sphere",
            [
             1.077117681503296,
             20.7691650390625,
             37.087493896484375
            ],
            [
             0.6,
             0,
             0
            ],
            0.5
           ]
          ]
         ],
         "fire_embed": true,
         "kwargs": {},
         "methodName": "addShape",
         "reconstruc_color_scheme": false,
         "target": "Widget",
         "type": "call_method"
        },
        {
         "args": [
          "shape",
          [
           [
            "sphere",
            [
             -1.1410000324249268,
             24.016000747680664,
             31.98200035095215
            ],
            [
             0.39,
             0.58,
             0.93
            ],
            0.5
           ]
          ]
         ],
         "fire_embed": true,
         "kwargs": {},
         "methodName": "addShape",
         "reconstruc_color_scheme": false,
         "target": "Widget",
         "type": "call_method"
        },
        {
         "args": [
          "shape",
          [
           [
            "sphere",
            [
             2.7709999084472656,
             21.111000061035156,
             30.768999099731445
            ],
            [
             0.0,
             0.6,
             0.0
            ],
            0.5
           ]
          ]
         ],
         "fire_embed": true,
         "kwargs": {},
         "methodName": "addShape",
         "reconstruc_color_scheme": false,
         "target": "Widget",
         "type": "call_method"
        }
       ],
       "_ngl_original_stage_parameters": {},
       "_ngl_repr_dict": {},
       "_ngl_serialize": false,
       "_ngl_version": "",
       "_ngl_view_id": [],
       "_player_dict": {},
       "_scene_position": {},
       "_scene_rotation": {},
       "_synced_model_ids": [],
       "_synced_repr_model_ids": [],
       "_view_count": null,
       "_view_height": "",
       "_view_module": "nglview-js-widgets",
       "_view_module_version": "3.0.1",
       "_view_name": "NGLView",
       "_view_width": "",
       "background": "white",
       "frame": 0,
       "gui_style": "ngl",
       "layout": "IPY_MODEL_e723663b4ea04cbfaa51db31d5993e28",
       "max_frame": 0,
       "n_components": 0,
       "picked": {}
      }
     },
     "8b16581f02e64bc5a6b855252c9eb236": {
      "model_module": "@jupyter-widgets/controls",
      "model_module_version": "1.5.0",
      "model_name": "LinkModel",
      "state": {
       "_model_module": "@jupyter-widgets/controls",
       "_model_module_version": "1.5.0",
       "_model_name": "LinkModel",
       "_view_count": null,
       "_view_module": "@jupyter-widgets/controls",
       "_view_module_version": "1.5.0",
       "_view_name": null,
       "source": [
        "IPY_MODEL_5cb564679855405382df599cea69d824",
        "value"
       ],
       "target": [
        "IPY_MODEL_49cedaf2296f4c889df0d0afca56b3b4",
        "frame"
       ]
      }
     },
     "90918660b6ad4bccbb1c184e7bc1ce34": {
      "model_module": "@jupyter-widgets/controls",
      "model_module_version": "1.5.0",
      "model_name": "HBoxModel",
      "state": {
       "_dom_classes": [],
       "_model_module": "@jupyter-widgets/controls",
       "_model_module_version": "1.5.0",
       "_model_name": "HBoxModel",
       "_view_count": null,
       "_view_module": "@jupyter-widgets/controls",
       "_view_module_version": "1.5.0",
       "_view_name": "HBoxView",
       "box_style": "",
       "children": [
        "IPY_MODEL_5cb564679855405382df599cea69d824",
        "IPY_MODEL_b1ceaa4116e9439289404409abc09447"
       ],
       "layout": "IPY_MODEL_d8e180ad513646cbb912d24bd61cb5eb"
      }
     },
     "90db436ab24044e7864d06939e207358": {
      "buffers": [
       {
        "data": "",
        "encoding": "base64",
        "path": [
         "value"
        ]
       }
      ],
      "model_module": "@jupyter-widgets/controls",
      "model_module_version": "1.5.0",
      "model_name": "ImageModel",
      "state": {
       "_dom_classes": [],
       "_model_module": "@jupyter-widgets/controls",
       "_model_module_version": "1.5.0",
       "_model_name": "ImageModel",
       "_view_count": null,
       "_view_module": "@jupyter-widgets/controls",
       "_view_module_version": "1.5.0",
       "_view_name": "ImageView",
       "format": "png",
       "height": "",
       "layout": "IPY_MODEL_94e007ae794943f58de17d1d55919b15",
       "width": "900.0"
      }
     },
     "91454e7573994c6f8dccf0385108f796": {
      "model_module": "@jupyter-widgets/controls",
      "model_module_version": "1.5.0",
      "model_name": "IntSliderModel",
      "state": {
       "_dom_classes": [],
       "_model_module": "@jupyter-widgets/controls",
       "_model_module_version": "1.5.0",
       "_model_name": "IntSliderModel",
       "_view_count": null,
       "_view_module": "@jupyter-widgets/controls",
       "_view_module_version": "1.5.0",
       "_view_name": "IntSliderView",
       "continuous_update": true,
       "description": "",
       "description_tooltip": null,
       "disabled": false,
       "layout": "IPY_MODEL_3adb36b1fd004e68a14ec308a89409bf",
       "max": 0,
       "min": 0,
       "orientation": "horizontal",
       "readout": true,
       "readout_format": "d",
       "step": 1,
       "style": "IPY_MODEL_1fadb2668f994355905cfdaeda1aaa27",
       "value": 0
      }
     },
     "94e007ae794943f58de17d1d55919b15": {
      "model_module": "@jupyter-widgets/base",
      "model_module_version": "1.2.0",
      "model_name": "LayoutModel",
      "state": {
       "_model_module": "@jupyter-widgets/base",
       "_model_module_version": "1.2.0",
       "_model_name": "LayoutModel",
       "_view_count": null,
       "_view_module": "@jupyter-widgets/base",
       "_view_module_version": "1.2.0",
       "_view_name": "LayoutView",
       "align_content": null,
       "align_items": null,
       "align_self": null,
       "border": null,
       "bottom": null,
       "display": null,
       "flex": null,
       "flex_flow": null,
       "grid_area": null,
       "grid_auto_columns": null,
       "grid_auto_flow": null,
       "grid_auto_rows": null,
       "grid_column": null,
       "grid_gap": null,
       "grid_row": null,
       "grid_template_areas": null,
       "grid_template_columns": null,
       "grid_template_rows": null,
       "height": null,
       "justify_content": null,
       "justify_items": null,
       "left": null,
       "margin": null,
       "max_height": null,
       "max_width": null,
       "min_height": null,
       "min_width": null,
       "object_fit": null,
       "object_position": null,
       "order": null,
       "overflow": null,
       "overflow_x": null,
       "overflow_y": null,
       "padding": null,
       "right": null,
       "top": null,
       "visibility": null,
       "width": null
      }
     },
     "a57a90eb7ec74075a6825005a3358b0e": {
      "model_module": "@jupyter-widgets/base",
      "model_module_version": "1.2.0",
      "model_name": "LayoutModel",
      "state": {
       "_model_module": "@jupyter-widgets/base",
       "_model_module_version": "1.2.0",
       "_model_name": "LayoutModel",
       "_view_count": null,
       "_view_module": "@jupyter-widgets/base",
       "_view_module_version": "1.2.0",
       "_view_name": "LayoutView",
       "align_content": null,
       "align_items": null,
       "align_self": null,
       "border": null,
       "bottom": null,
       "display": null,
       "flex": null,
       "flex_flow": null,
       "grid_area": null,
       "grid_auto_columns": null,
       "grid_auto_flow": null,
       "grid_auto_rows": null,
       "grid_column": null,
       "grid_gap": null,
       "grid_row": null,
       "grid_template_areas": null,
       "grid_template_columns": null,
       "grid_template_rows": null,
       "height": null,
       "justify_content": null,
       "justify_items": null,
       "left": null,
       "margin": null,
       "max_height": null,
       "max_width": null,
       "min_height": null,
       "min_width": null,
       "object_fit": null,
       "object_position": null,
       "order": null,
       "overflow": null,
       "overflow_x": null,
       "overflow_y": null,
       "padding": null,
       "right": null,
       "top": null,
       "visibility": null,
       "width": null
      }
     },
     "a80ce6f0c0194e63bf13f2dabbbe3795": {
      "model_module": "@jupyter-widgets/controls",
      "model_module_version": "1.5.0",
      "model_name": "DescriptionStyleModel",
      "state": {
       "_model_module": "@jupyter-widgets/controls",
       "_model_module_version": "1.5.0",
       "_model_name": "DescriptionStyleModel",
       "_view_count": null,
       "_view_module": "@jupyter-widgets/base",
       "_view_module_version": "1.2.0",
       "_view_name": "StyleView",
       "description_width": ""
      }
     },
     "adea1e8bdf2943ceb72f735d46835814": {
      "model_module": "@jupyter-widgets/base",
      "model_module_version": "1.2.0",
      "model_name": "LayoutModel",
      "state": {
       "_model_module": "@jupyter-widgets/base",
       "_model_module_version": "1.2.0",
       "_model_name": "LayoutModel",
       "_view_count": null,
       "_view_module": "@jupyter-widgets/base",
       "_view_module_version": "1.2.0",
       "_view_name": "LayoutView",
       "align_content": null,
       "align_items": null,
       "align_self": null,
       "border": null,
       "bottom": null,
       "display": null,
       "flex": null,
       "flex_flow": null,
       "grid_area": null,
       "grid_auto_columns": null,
       "grid_auto_flow": null,
       "grid_auto_rows": null,
       "grid_column": null,
       "grid_gap": null,
       "grid_row": null,
       "grid_template_areas": null,
       "grid_template_columns": null,
       "grid_template_rows": null,
       "height": null,
       "justify_content": null,
       "justify_items": null,
       "left": null,
       "margin": null,
       "max_height": null,
       "max_width": null,
       "min_height": null,
       "min_width": null,
       "object_fit": null,
       "object_position": null,
       "order": null,
       "overflow": null,
       "overflow_x": null,
       "overflow_y": null,
       "padding": null,
       "right": null,
       "top": null,
       "visibility": null,
       "width": null
      }
     },
     "b13ce4ae87c5458b87e91a2e73e5cd6f": {
      "buffers": [
       {
        "data": "",
        "encoding": "base64",
        "path": [
         "value"
        ]
       }
      ],
      "model_module": "@jupyter-widgets/controls",
      "model_module_version": "1.5.0",
      "model_name": "ImageModel",
      "state": {
       "_dom_classes": [],
       "_model_module": "@jupyter-widgets/controls",
       "_model_module_version": "1.5.0",
       "_model_name": "ImageModel",
       "_view_count": null,
       "_view_module": "@jupyter-widgets/controls",
       "_view_module_version": "1.5.0",
       "_view_name": "ImageView",
       "format": "png",
       "height": "",
       "layout": "IPY_MODEL_53261e0277694348a7f0961a544c1e52",
       "width": "900.0"
      }
     },
     "b198f93b7e79402085b66eabe9dd0c8c": {
      "model_module": "@jupyter-widgets/controls",
      "model_module_version": "1.5.0",
      "model_name": "ButtonStyleModel",
      "state": {
       "_model_module": "@jupyter-widgets/controls",
       "_model_module_version": "1.5.0",
       "_model_name": "ButtonStyleModel",
       "_view_count": null,
       "_view_module": "@jupyter-widgets/base",
       "_view_module_version": "1.2.0",
       "_view_name": "StyleView",
       "button_color": null,
       "font_weight": ""
      }
     },
     "b1ceaa4116e9439289404409abc09447": {
      "model_module": "@jupyter-widgets/controls",
      "model_module_version": "1.5.0",
      "model_name": "IntSliderModel",
      "state": {
       "_dom_classes": [],
       "_model_module": "@jupyter-widgets/controls",
       "_model_module_version": "1.5.0",
       "_model_name": "IntSliderModel",
       "_view_count": null,
       "_view_module": "@jupyter-widgets/controls",
       "_view_module_version": "1.5.0",
       "_view_name": "IntSliderView",
       "continuous_update": true,
       "description": "",
       "description_tooltip": null,
       "disabled": false,
       "layout": "IPY_MODEL_d5710bbba10e425ba9f29c931cf8d4a2",
       "max": 0,
       "min": 0,
       "orientation": "horizontal",
       "readout": true,
       "readout_format": "d",
       "step": 1,
       "style": "IPY_MODEL_15f0e26b5c074a0ea05ac443b1c9bc45",
       "value": 0
      }
     },
     "b1fe272d3d8044fea589ac5e21452427": {
      "model_module": "@jupyter-widgets/controls",
      "model_module_version": "1.5.0",
      "model_name": "DescriptionStyleModel",
      "state": {
       "_model_module": "@jupyter-widgets/controls",
       "_model_module_version": "1.5.0",
       "_model_name": "DescriptionStyleModel",
       "_view_count": null,
       "_view_module": "@jupyter-widgets/base",
       "_view_module_version": "1.2.0",
       "_view_name": "StyleView",
       "description_width": ""
      }
     },
     "b632e212c1ef4205b626d8702b0fa81e": {
      "model_module": "@jupyter-widgets/controls",
      "model_module_version": "1.5.0",
      "model_name": "LinkModel",
      "state": {
       "_model_module": "@jupyter-widgets/controls",
       "_model_module_version": "1.5.0",
       "_model_name": "LinkModel",
       "_view_count": null,
       "_view_module": "@jupyter-widgets/controls",
       "_view_module_version": "1.5.0",
       "_view_name": null,
       "source": [
        "IPY_MODEL_80b34639e656400bb7c48f4719d38b49",
        "value"
       ],
       "target": [
        "IPY_MODEL_606161b57c384988bbf0fd6e7773557a",
        "frame"
       ]
      }
     },
     "b74806350a664e95b8329c34353bb3c8": {
      "model_module": "@jupyter-widgets/controls",
      "model_module_version": "1.5.0",
      "model_name": "HBoxModel",
      "state": {
       "_dom_classes": [],
       "_model_module": "@jupyter-widgets/controls",
       "_model_module_version": "1.5.0",
       "_model_name": "HBoxModel",
       "_view_count": null,
       "_view_module": "@jupyter-widgets/controls",
       "_view_module_version": "1.5.0",
       "_view_name": "HBoxView",
       "box_style": "",
       "children": [
        "IPY_MODEL_80b34639e656400bb7c48f4719d38b49",
        "IPY_MODEL_0f96e577740e4281ad0397cf5431d183"
       ],
       "layout": "IPY_MODEL_a57a90eb7ec74075a6825005a3358b0e"
      }
     },
     "c94911a990b040bd8e61331e1f4dea77": {
      "model_module": "@jupyter-widgets/base",
      "model_module_version": "1.2.0",
      "model_name": "LayoutModel",
      "state": {
       "_model_module": "@jupyter-widgets/base",
       "_model_module_version": "1.2.0",
       "_model_name": "LayoutModel",
       "_view_count": null,
       "_view_module": "@jupyter-widgets/base",
       "_view_module_version": "1.2.0",
       "_view_name": "LayoutView",
       "align_content": null,
       "align_items": null,
       "align_self": null,
       "border": null,
       "bottom": null,
       "display": null,
       "flex": null,
       "flex_flow": null,
       "grid_area": null,
       "grid_auto_columns": null,
       "grid_auto_flow": null,
       "grid_auto_rows": null,
       "grid_column": null,
       "grid_gap": null,
       "grid_row": null,
       "grid_template_areas": null,
       "grid_template_columns": null,
       "grid_template_rows": null,
       "height": null,
       "justify_content": null,
       "justify_items": null,
       "left": null,
       "margin": null,
       "max_height": null,
       "max_width": null,
       "min_height": null,
       "min_width": null,
       "object_fit": null,
       "object_position": null,
       "order": null,
       "overflow": null,
       "overflow_x": null,
       "overflow_y": null,
       "padding": null,
       "right": null,
       "top": null,
       "visibility": null,
       "width": null
      }
     },
     "cb76df58e2cd41a9a7fdf9936be8ae97": {
      "model_module": "nglview-js-widgets",
      "model_module_version": "3.0.1",
      "model_name": "ThemeManagerModel",
      "state": {
       "_dom_classes": [],
       "_model_module": "nglview-js-widgets",
       "_model_module_version": "3.0.1",
       "_model_name": "ThemeManagerModel",
       "_msg_ar": [
        {
         "args": [],
         "kwargs": {},
         "methodName": "handleThemeChanged",
         "type": "callMethod"
        }
       ],
       "_msg_q": [],
       "_ready": false,
       "_theme_css": "﻿/* light theme */\n/* text color */\n\n* {\n    color: #555555;\n}\n\ninput,\ntextarea,\nbutton,\nselect,\noption {\n    color: #111111;\n}\n\ninput[type=range]:focus:after {\n    color: #555555;\n}\n\na{\n    color: #1956d8;\n}\n\ninput.Number, input.File {\n    color: #79952e;\n}\n\n\n/* background color */\n\n.OverlayPanel,\n#menubar_ngl,\n#menubar_ngl .menu .options,\n#sidebar_ngl,\n#toolbar_ngl\n{\n    background-color: #e1e4eb;\n}\n\n\n/* border color */\n\n.OverlayPanel,\n#menubar_ngl .menu .options hr,\n#sidebar_ngl > .Panel,\n#sidebar_ngl > .Content > .Panel {\n    border-color: #cccccc;\n}\n\n\n/* special */\n\n#menubar_ngl .menu .options .option:hover,\n.option:hover > .Icon,\n.option:hover > .Text {\n    color: #D8D8D8;\n    background-color: #345a69;\n}\n\n.highlight,\n.highlight > .Icon,\n.highlight > .Text {\n    color: #D8D8D8;\n    background-color: #345a69;\n}\n\n.EllipsisMultilineText:after {\n    background: linear-gradient(to right, rgba(255, 255, 255, 0), #e1e4eb 50%, #e1e4eb);\n}\n\n* {\n\tvertical-align: middle;\n}\n\n/* Webkit micro scrollbars */\n\n::-webkit-scrollbar {\n    width:9px;\n    height:9px;\n}\n\n::-webkit-scrollbar-track {\n    -webkit-border-radius:5px;\n    border-radius:5px;\n    background:rgba(140,140,140,0.1);\n}\n\n::-webkit-scrollbar-thumb {\n    -webkit-border-radius:5px;\n    border-radius:5px;\n    background:rgba(140,140,140,0.2);\n}\n\n::-webkit-scrollbar-thumb:hover {\n    background:rgba(140,140,140,0.4);\n}\n\n::-webkit-scrollbar-thumb:window-inactive {\n    background:rgba(140,140,140,0.5);\n}\n\n/* elmement */\n\nbody {\n\tfont-family: Arial, sans-serif;\n\tfont-size: 14px;\n\tmargin: 0;\n\t/* overflow: hidden; */ /*will cause unscroll in notebook embeding*/\n}\n\nhr {\n\tborder: 0px;\n\tborder-top: 1px solid #ccc;\n}\n\nbutton {\n    position: relative;\n    margin-left: 0px;\n}\n\nselect {\n    margin-left: 1px;\n}\n\n/* NOTE (FIXME): turning this on will affect notebook */\n\n/**\ntextarea {\n\twhite-space: pre;\n\tword-wrap: normal;\n}\n\n\ttextarea.success {\n\t\tborder-color: #8b8 !important;\n\t}\n\n\ttextarea.fail {\n\t\tborder-color: #f00 !important;\n\t\tbackground-color: rgba(255,0,0,0.05);\n\t}\n\ntextarea, input { outline: none; } /* osx */\n\ninput.Number {\n    font-size: 12px;                            /** TODO: Use of !imporant is not ideal **/\n    background-color: transparent!important;    /* For now this is a quick fix a rendering issue due to inherited background */\n    border: 1px solid transparent;\n    padding: 2px;\n    cursor: col-resize;\n}\n\ninput.File {\n    border: 0px solid !important;\n    padding: 0px !important;\n}\n\ninput[type=range]:focus:after {\n    position: absolute;\n    transform: translate(-100%,-50% );\n    content: attr(value);\n    font-size: 12px;\n}\n\n/* class */\n\n.deleteInfo:after {\n    position: absolute;\n    transform: translate(-50%,-250% );\n    content: \"double-click to delete\";\n    font-size: 10px;\n    display: block;\n}\n\n.Panel {\n\n    -moz-user-select: none;\n    -webkit-user-select: none;\n    -ms-user-select: none;\n\n    /* No support for these yet */\n    -o-user-select: none;\n    user-select: none;\n}\n\n.OverlayPanel {\n    z-index: 10;\n    position: absolute;\n    padding: 10px;\n    overflow: auto;\n    border: 1px solid;\n}\n\n.OverlayPanel:focus {\n    z-index: 20;\n}\n\n.Text {\n    cursor: default;\n}\n\n.FancySelect {\n    padding: 0;\n    cursor: default;\n    overflow: auto;\n    outline: none;\n}\n\n    .FancySelect .option {\n        padding: 4px;\n        white-space: nowrap;\n    }\n\n.CollapsiblePanel .CollapsiblePanelButton {\n    float: left;\n    margin-right: 6px;\n    width: 0px;\n    height: 0px;\n    border: 6px solid transparent;\n}\n\n.CollapsiblePanel.collapsed > .CollapsiblePanelButton {\n    margin-top: 2px;\n    border-left-color: #555;\n}\n\n.CollapsiblePanel:not(.collapsed) > .CollapsiblePanelButton {\n    margin-top: 6px;\n    border-top-color: #555;\n}\n\n.CollapsiblePanel.collapsed .CollapsibleContent {\n    display: none;\n}\n\n.CollapsiblePanel:not(.collapsed) > .CollapsibleContent {\n    clear: both;\n}\n\n/* http://www.brianchu.com/blog/2013/11/02/creating-an-auto-growing-text-input/ */\n\n.AdaptiveTextAreaContainer {\n    position: relative;\n    display: inline-block;\n    margin-top: 2px;\n    margin-bottom: 2px;\n}\n\n.AdaptiveTextArea, .AdaptiveTextAreaSize {\n    min-height: 21px;\n    /* need to manually set font and font size */\n    font-family: Arial, sans-serif;\n    font-size: 13px;\n    box-sizing: border-box;\n    padding: 2px;\n    border: 1px solid #ccc;\n\n    overflow: hidden;\n    width: 100%;\n}\n\n.AdaptiveTextArea {\n    height: 100%;\n    position: absolute;\n    resize: none;\n\n    /*\n    \"pre\" or \"preline\" or \"normal\" fixes Chrome issue where\n    whitespace at end of lines does not trigger a line break.\n    However, it causes the text to exhibit the behavior seen with\n    \"pre\" that is described below.\n    */\n    white-space: normal;\n    word-wrap: break-word;\n    overflow-wrap: break-word;\n}\n\n.AdaptiveTextAreaSize {\n    visibility: hidden;\n\n    /*\n    Pre-wrap: preserve spacing and newlines, but wrap text.\n    Pre: preserve spacing and newlines but don't wrap text.\n\n    \"pre\" does not wrap well on Firefox, even with word-wrap:break-word.\n    \"pre\" on Chrome works with word-wrap, but exhibits different behavior:\n    Instead of entire words being moved to the next line for wrapping,\n    the browser will cut words in the middle for wrapping.\n    \"pre-line\" has Firefox issues\n    */\n    white-space: pre-wrap;\n    /* Required for wrapping lines in Webkit,\n    but not necessary in Firefox if you have white-space wrapping\n    (pre-wrap, normal, pre-line) already set */\n    word-wrap: break-word;\n    overflow-wrap: break-word;\n}\n\n/* FlexiColorPicker */\n\n.picker-wrapper,\n.slide-wrapper {\n    position: relative;\n    float: left;\n}\n\n.picker-indicator,\n.slide-indicator {\n    position: absolute;\n    left: 0;\n    top: 0;\n    pointer-events: none;\n}\n\n.picker,\n.slide {\n    cursor: crosshair;\n    float: left;\n}\n\n.slide-wrapper {\n    margin-left: 10px;\n}\n\n.picker-indicator {\n    width: 5px;\n    height: 5px;\n    border: 2px solid darkblue;\n    -moz-border-radius: 4px;\n    -o-border-radius: 4px;\n    -webkit-border-radius: 4px;\n    border-radius: 4px;\n    opacity: .5;\n    -ms-filter: \"progid:DXImageTransform.Microsoft.Alpha(Opacity=50)\";\n    filter: progid:DXImageTransform.Microsoft.Alpha(Opacity=50);\n    filter: alpha(opacity=50);\n    background-color: white;\n}\n\n.slide-indicator {\n    width: 100%;\n    height: 10px;\n    left: -4px;\n    opacity: .6;\n    -ms-filter: \"progid:DXImageTransform.Microsoft.Alpha(Opacity=60)\";\n    filter: progid:DXImageTransform.Microsoft.Alpha(Opacity=60);\n    filter: alpha(opacity=60);\n    border: 4px solid lightblue;\n    -moz-border-radius: 4px;\n    -o-border-radius: 4px;\n    -webkit-border-radius: 4px;\n    border-radius: 4px;\n    background-color: white;\n}\n\n/* http://www.mobify.com/blog/multiline-ellipsis-in-pure-css/ */\n\n.EllipsisMultilineText {\n    overflow: hidden;\n    max-height: 2.6em;\n    line-height: 1.3em;\n}\n\n.EllipsisMultilineText:before {\n    content:\"\";\n    float: left;\n    width: 5px;\n    max-height: 2.6em;\n}\n\n.EllipsisMultilineText > *:first-child {\n    float: right;\n    width: 100%;\n    margin-top: 0px;\n    margin-bottom: 0px;\n    margin-left: -5px;\n    word-wrap: break-word;\n}\n\n.EllipsisMultilineText:after {\n    content: \"\\02026\";\n\n    box-sizing: content-box;\n    -webkit-box-sizing: content-box;\n    -moz-box-sizing: content-box;\n\n    float: right; position: relative;\n    top: 1.3em; left: 100%;\n    width: 3em; margin-left: -3em;\n    padding-right: 5px;\n\n    text-align: right;\n}\n\n/* resize */\n\n.ResizeLeft, .ResizeLeft:hover {\n    position: relative;\n    float: left;\n    height: 100%;\n    width: 10px;\n}\n\n.ResizeLeft:hover{\n    cursor: col-resize;\n}\n\n/* virtual list */\n\n.VirtualListRow {\n    position: absolute;\n    overflow: hidden;\n    white-space: nowrap;\n    display: inline-block;\n}\n\n.VirtualListRow > .Text {\n    cursor: inherit;\n}\n\n/* id */\n\n#viewport {\n    position: absolute;\n    top: 32px;\n    left: 0px;\n    right: 300px;\n    bottom: 32px;\n}\n\n#menubar_ngl {\n    position: absolute;\n    width: 100%;\n    height: 32px;\n    padding: 0px;\n    margin: 0px;\n    z-index: 100;\n    top: 0px;\n    left: 0px;\n}\n\n    #menubar_ngl .menu {\n        float: left;\n        cursor: pointer;\n        position: relative;\n    }\n\n        #menubar_ngl .menu .title {\n            margin: 0px;\n            padding: 8px;\n        }\n\n        #menubar_ngl .menu .options {\n            display: none;\n            padding: 5px 0px;\n            width: 140px;\n            position: absolute;\n            top: 32px;\n        }\n\n        #menubar_ngl .menu:hover .options {\n            display: block;\n            max-height: 600px;\n            overflow: auto;\n        }\n\n            #menubar_ngl .menu .options .option {\n                background-color: transparent;\n                padding: 5px 10px;\n                margin: 0px !important;\n            }\n\n#sidebar_ngl {\n    position: absolute;\n    right: 0px;\n    top: 32px;\n    bottom: 0px;\n    width: 300px;\n    overflow: hidden;\n}\n\n    #sidebar_ngl .Panel {\n        margin-bottom: 10px;\n    }\n\n    #sidebar_ngl .Panel.collapsed {\n        margin-bottom: 0px;\n    }\n\n    #sidebar_ngl .CollapsibleContent {\n        margin-top: 10px;\n    }\n\n    #sidebar_ngl > .Panel {\n        padding: 10px;\n        border-top: 1px solid;\n    }\n\n    #sidebar_ngl > .Content > .Panel {\n        padding: 10px;\n        border-top: 1px solid;\n    }\n\n    #sidebar_ngl .Content {\n        top: 40px;\n        bottom: 0px;\n        position: absolute;\n        overflow: auto;\n        right: 0px;\n        width: 100%;\n    }\n\n#toolbar_ngl {\n    position: absolute;\n    left: 0px;\n    right: 300px;\n    bottom: 0px;\n    height: 32px;\n}\n\n    #toolbar_ngl .Panel {\n        padding: 6px;\n    }\n\n    #toolbar_ngl button {\n        margin-right: 6px;\n    }\n",
       "_view_count": null,
       "_view_module": "nglview-js-widgets",
       "_view_module_version": "3.0.1",
       "_view_name": "ThemeManagerView",
       "layout": "IPY_MODEL_281bd770daea4577ac94704e068f6c73"
      }
     },
     "d014763b5b494b18854195f71d302d22": {
      "model_module": "@jupyter-widgets/controls",
      "model_module_version": "1.5.0",
      "model_name": "LinkModel",
      "state": {
       "_model_module": "@jupyter-widgets/controls",
       "_model_module_version": "1.5.0",
       "_model_name": "LinkModel",
       "_view_count": null,
       "_view_module": "@jupyter-widgets/controls",
       "_view_module_version": "1.5.0",
       "_view_name": null,
       "source": [
        "IPY_MODEL_0f96e577740e4281ad0397cf5431d183",
        "max"
       ],
       "target": [
        "IPY_MODEL_606161b57c384988bbf0fd6e7773557a",
        "max_frame"
       ]
      }
     },
     "d5710bbba10e425ba9f29c931cf8d4a2": {
      "model_module": "@jupyter-widgets/base",
      "model_module_version": "1.2.0",
      "model_name": "LayoutModel",
      "state": {
       "_model_module": "@jupyter-widgets/base",
       "_model_module_version": "1.2.0",
       "_model_name": "LayoutModel",
       "_view_count": null,
       "_view_module": "@jupyter-widgets/base",
       "_view_module_version": "1.2.0",
       "_view_name": "LayoutView",
       "align_content": null,
       "align_items": null,
       "align_self": null,
       "border": null,
       "bottom": null,
       "display": null,
       "flex": null,
       "flex_flow": null,
       "grid_area": null,
       "grid_auto_columns": null,
       "grid_auto_flow": null,
       "grid_auto_rows": null,
       "grid_column": null,
       "grid_gap": null,
       "grid_row": null,
       "grid_template_areas": null,
       "grid_template_columns": null,
       "grid_template_rows": null,
       "height": null,
       "justify_content": null,
       "justify_items": null,
       "left": null,
       "margin": null,
       "max_height": null,
       "max_width": null,
       "min_height": null,
       "min_width": null,
       "object_fit": null,
       "object_position": null,
       "order": null,
       "overflow": null,
       "overflow_x": null,
       "overflow_y": null,
       "padding": null,
       "right": null,
       "top": null,
       "visibility": null,
       "width": null
      }
     },
     "d6cd76e1e9784eeeb2470f68fbc7a085": {
      "model_module": "@jupyter-widgets/base",
      "model_module_version": "1.2.0",
      "model_name": "LayoutModel",
      "state": {
       "_model_module": "@jupyter-widgets/base",
       "_model_module_version": "1.2.0",
       "_model_name": "LayoutModel",
       "_view_count": null,
       "_view_module": "@jupyter-widgets/base",
       "_view_module_version": "1.2.0",
       "_view_name": "LayoutView",
       "align_content": null,
       "align_items": null,
       "align_self": null,
       "border": null,
       "bottom": null,
       "display": null,
       "flex": null,
       "flex_flow": null,
       "grid_area": null,
       "grid_auto_columns": null,
       "grid_auto_flow": null,
       "grid_auto_rows": null,
       "grid_column": null,
       "grid_gap": null,
       "grid_row": null,
       "grid_template_areas": null,
       "grid_template_columns": null,
       "grid_template_rows": null,
       "height": null,
       "justify_content": null,
       "justify_items": null,
       "left": null,
       "margin": null,
       "max_height": null,
       "max_width": null,
       "min_height": null,
       "min_width": null,
       "object_fit": null,
       "object_position": null,
       "order": null,
       "overflow": null,
       "overflow_x": null,
       "overflow_y": null,
       "padding": null,
       "right": null,
       "top": null,
       "visibility": null,
       "width": null
      }
     },
     "d8e180ad513646cbb912d24bd61cb5eb": {
      "model_module": "@jupyter-widgets/base",
      "model_module_version": "1.2.0",
      "model_name": "LayoutModel",
      "state": {
       "_model_module": "@jupyter-widgets/base",
       "_model_module_version": "1.2.0",
       "_model_name": "LayoutModel",
       "_view_count": null,
       "_view_module": "@jupyter-widgets/base",
       "_view_module_version": "1.2.0",
       "_view_name": "LayoutView",
       "align_content": null,
       "align_items": null,
       "align_self": null,
       "border": null,
       "bottom": null,
       "display": null,
       "flex": null,
       "flex_flow": null,
       "grid_area": null,
       "grid_auto_columns": null,
       "grid_auto_flow": null,
       "grid_auto_rows": null,
       "grid_column": null,
       "grid_gap": null,
       "grid_row": null,
       "grid_template_areas": null,
       "grid_template_columns": null,
       "grid_template_rows": null,
       "height": null,
       "justify_content": null,
       "justify_items": null,
       "left": null,
       "margin": null,
       "max_height": null,
       "max_width": null,
       "min_height": null,
       "min_width": null,
       "object_fit": null,
       "object_position": null,
       "order": null,
       "overflow": null,
       "overflow_x": null,
       "overflow_y": null,
       "padding": null,
       "right": null,
       "top": null,
       "visibility": null,
       "width": null
      }
     },
     "ddc61149d3824e16bc56815e85dff4dd": {
      "model_module": "@jupyter-widgets/controls",
      "model_module_version": "1.5.0",
      "model_name": "LinkModel",
      "state": {
       "_model_module": "@jupyter-widgets/controls",
       "_model_module_version": "1.5.0",
       "_model_name": "LinkModel",
       "_view_count": null,
       "_view_module": "@jupyter-widgets/controls",
       "_view_module_version": "1.5.0",
       "_view_name": null,
       "source": [
        "IPY_MODEL_91454e7573994c6f8dccf0385108f796",
        "max"
       ],
       "target": [
        "IPY_MODEL_8861648eef084c6084d2668192af78f8",
        "max_frame"
       ]
      }
     },
     "e723663b4ea04cbfaa51db31d5993e28": {
      "model_module": "@jupyter-widgets/base",
      "model_module_version": "1.2.0",
      "model_name": "LayoutModel",
      "state": {
       "_model_module": "@jupyter-widgets/base",
       "_model_module_version": "1.2.0",
       "_model_name": "LayoutModel",
       "_view_count": null,
       "_view_module": "@jupyter-widgets/base",
       "_view_module_version": "1.2.0",
       "_view_name": "LayoutView",
       "align_content": null,
       "align_items": null,
       "align_self": null,
       "border": null,
       "bottom": null,
       "display": null,
       "flex": null,
       "flex_flow": null,
       "grid_area": null,
       "grid_auto_columns": null,
       "grid_auto_flow": null,
       "grid_auto_rows": null,
       "grid_column": null,
       "grid_gap": null,
       "grid_row": null,
       "grid_template_areas": null,
       "grid_template_columns": null,
       "grid_template_rows": null,
       "height": null,
       "justify_content": null,
       "justify_items": null,
       "left": null,
       "margin": null,
       "max_height": null,
       "max_width": null,
       "min_height": null,
       "min_width": null,
       "object_fit": null,
       "object_position": null,
       "order": null,
       "overflow": null,
       "overflow_x": null,
       "overflow_y": null,
       "padding": null,
       "right": null,
       "top": null,
       "visibility": null,
       "width": null
      }
     }
    },
    "version_major": 2,
    "version_minor": 0
   }
  }
 },
 "nbformat": 4,
 "nbformat_minor": 5
}
