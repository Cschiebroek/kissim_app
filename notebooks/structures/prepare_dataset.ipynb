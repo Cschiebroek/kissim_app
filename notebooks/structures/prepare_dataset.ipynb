{
 "cells": [
  {
   "cell_type": "markdown",
   "metadata": {},
   "source": [
    "# Data preparation and exploration"
   ]
  },
  {
   "cell_type": "markdown",
   "metadata": {},
   "source": [
    "## Aim of this notebook\n",
    "\n",
    "1. Fetch all structures in KLIFS (metadata).\n",
    "2. Filter dataset by\n",
    "  - Species\n",
    "  - DFG conformation (optional)\n",
    "  - Resolution\n",
    "  - Quality score\n",
    "  - Best struture per kinase-PDB pair\n",
    "3. Save the KLIFS structure IDs for the filtered dataset.\n",
    "\n",
    "__Note__: The KLIFS data is prepared only on the basis of the structures' metadata from KLIFS. Additional filtering will happen during fingerprint generation, where the actual structural data (coordiantes ect.) are used."
   ]
  },
  {
   "cell_type": "code",
   "execution_count": 1,
   "metadata": {},
   "outputs": [],
   "source": [
    "%load_ext autoreload\n",
    "%autoreload 2"
   ]
  },
  {
   "cell_type": "code",
   "execution_count": 2,
   "metadata": {},
   "outputs": [
    {
     "name": "stderr",
     "output_type": "stream",
     "text": [
      "RDKit WARNING: [16:27:25] Enabling RDKit 2019.09.3 jupyter extensions\n",
      "INFO:opencadd.databases.klifs.api:If you want to see an non-truncated version of the DataFrames in this module, use `pd.set_option('display.max_columns', 50)` in your notebook.\n"
     ]
    }
   ],
   "source": [
    "from pathlib import Path\n",
    "import logging\n",
    "\n",
    "import pandas as pd\n",
    "from opencadd.databases.klifs import setup_remote\n",
    "\n",
    "from src.data.structures import filters, explorer"
   ]
  },
  {
   "cell_type": "code",
   "execution_count": 3,
   "metadata": {},
   "outputs": [],
   "source": [
    "logging.basicConfig(level=logging.INFO)\n",
    "pd.set_option(\"display.max_columns\", 50)"
   ]
  },
  {
   "cell_type": "code",
   "execution_count": 4,
   "metadata": {},
   "outputs": [],
   "source": [
    "SPECIES = \"Human\"\n",
    "DFG_CONFORMATION = \"in\"\n",
    "RESOLUTION_MAX = 4\n",
    "QUALITYSCORE_MIN = 4\n",
    "\n",
    "HERE = Path(_dh[-1])  # noqa: F821\n",
    "DATA = HERE / \"../../data/processed/\""
   ]
  },
  {
   "cell_type": "markdown",
   "metadata": {},
   "source": [
    "## Fetch structures (metadata)"
   ]
  },
  {
   "cell_type": "code",
   "execution_count": 5,
   "metadata": {},
   "outputs": [
    {
     "name": "stderr",
     "output_type": "stream",
     "text": [
      "INFO:opencadd.databases.klifs.api:Set up remote session...\n",
      "INFO:opencadd.databases.klifs.api:Remote session is ready!\n"
     ]
    }
   ],
   "source": [
    "remote = setup_remote()"
   ]
  },
  {
   "cell_type": "code",
   "execution_count": 6,
   "metadata": {},
   "outputs": [
    {
     "name": "stdout",
     "output_type": "stream",
     "text": [
      "(11710, 41)\n"
     ]
    },
    {
     "data": {
      "text/html": [
       "<div>\n",
       "<style scoped>\n",
       "    .dataframe tbody tr th:only-of-type {\n",
       "        vertical-align: middle;\n",
       "    }\n",
       "\n",
       "    .dataframe tbody tr th {\n",
       "        vertical-align: top;\n",
       "    }\n",
       "\n",
       "    .dataframe thead th {\n",
       "        text-align: right;\n",
       "    }\n",
       "</style>\n",
       "<table border=\"1\" class=\"dataframe\">\n",
       "  <thead>\n",
       "    <tr style=\"text-align: right;\">\n",
       "      <th></th>\n",
       "      <th>structure.klifs_id</th>\n",
       "      <th>structure.pdb_id</th>\n",
       "      <th>structure.alternate_model</th>\n",
       "      <th>structure.chain</th>\n",
       "      <th>species.klifs</th>\n",
       "      <th>kinase.klifs_id</th>\n",
       "      <th>kinase.klifs_name</th>\n",
       "      <th>kinase.family</th>\n",
       "      <th>kinase.group</th>\n",
       "      <th>structure.pocket</th>\n",
       "      <th>ligand.expo_id</th>\n",
       "      <th>ligand_allosteric.expo_id</th>\n",
       "      <th>ligand.name</th>\n",
       "      <th>ligand_allosteric.name</th>\n",
       "      <th>structure.dfg</th>\n",
       "      <th>structure.ac_helix</th>\n",
       "      <th>structure.resolution</th>\n",
       "      <th>structure.qualityscore</th>\n",
       "      <th>structure.missing_residues</th>\n",
       "      <th>structure.missing_atoms</th>\n",
       "      <th>structure.rmsd1</th>\n",
       "      <th>structure.rmsd2</th>\n",
       "      <th>structure.front</th>\n",
       "      <th>structure.gate</th>\n",
       "      <th>structure.back</th>\n",
       "      <th>structure.fp_i</th>\n",
       "      <th>structure.fp_ii</th>\n",
       "      <th>structure.bp_i_a</th>\n",
       "      <th>structure.bp_i_b</th>\n",
       "      <th>structure.bp_ii_in</th>\n",
       "      <th>structure.bp_ii_a_in</th>\n",
       "      <th>structure.bp_ii_b_in</th>\n",
       "      <th>structure.bp_ii_out</th>\n",
       "      <th>structure.bp_ii_b</th>\n",
       "      <th>structure.bp_iii</th>\n",
       "      <th>structure.bp_iv</th>\n",
       "      <th>structure.bp_v</th>\n",
       "      <th>structure.grich_distance</th>\n",
       "      <th>structure.grich_angle</th>\n",
       "      <th>structure.grich_rotation</th>\n",
       "      <th>structure.filepath</th>\n",
       "    </tr>\n",
       "  </thead>\n",
       "  <tbody>\n",
       "    <tr>\n",
       "      <th>0</th>\n",
       "      <td>11746</td>\n",
       "      <td>6s9x</td>\n",
       "      <td>-</td>\n",
       "      <td>A</td>\n",
       "      <td>Human</td>\n",
       "      <td>1</td>\n",
       "      <td>AKT1</td>\n",
       "      <td>None</td>\n",
       "      <td>None</td>\n",
       "      <td>KLLGKGTFGKVILYAMKIL_________QNSRPFLTALKYSCFVME...</td>\n",
       "      <td>L1W</td>\n",
       "      <td>-</td>\n",
       "      <td>None</td>\n",
       "      <td>None</td>\n",
       "      <td>out</td>\n",
       "      <td>na</td>\n",
       "      <td>2.6</td>\n",
       "      <td>3.2</td>\n",
       "      <td>9</td>\n",
       "      <td>0</td>\n",
       "      <td>0.959</td>\n",
       "      <td>2.388</td>\n",
       "      <td>False</td>\n",
       "      <td>False</td>\n",
       "      <td>True</td>\n",
       "      <td>False</td>\n",
       "      <td>False</td>\n",
       "      <td>False</td>\n",
       "      <td>False</td>\n",
       "      <td>False</td>\n",
       "      <td>False</td>\n",
       "      <td>False</td>\n",
       "      <td>True</td>\n",
       "      <td>False</td>\n",
       "      <td>True</td>\n",
       "      <td>True</td>\n",
       "      <td>False</td>\n",
       "      <td>20.2643</td>\n",
       "      <td>67.6543</td>\n",
       "      <td>58.3549</td>\n",
       "      <td>None</td>\n",
       "    </tr>\n",
       "    <tr>\n",
       "      <th>1</th>\n",
       "      <td>2534</td>\n",
       "      <td>3ocb</td>\n",
       "      <td>-</td>\n",
       "      <td>B</td>\n",
       "      <td>Human</td>\n",
       "      <td>1</td>\n",
       "      <td>AKT1</td>\n",
       "      <td>None</td>\n",
       "      <td>None</td>\n",
       "      <td>KLLGKGTFGKVILYAMKILHTLTENRVLQNSRPFLTALKYSCFVME...</td>\n",
       "      <td>XM1</td>\n",
       "      <td>-</td>\n",
       "      <td>None</td>\n",
       "      <td>None</td>\n",
       "      <td>in</td>\n",
       "      <td>in</td>\n",
       "      <td>2.7</td>\n",
       "      <td>8.0</td>\n",
       "      <td>0</td>\n",
       "      <td>0</td>\n",
       "      <td>0.778</td>\n",
       "      <td>2.095</td>\n",
       "      <td>True</td>\n",
       "      <td>False</td>\n",
       "      <td>False</td>\n",
       "      <td>False</td>\n",
       "      <td>True</td>\n",
       "      <td>False</td>\n",
       "      <td>False</td>\n",
       "      <td>False</td>\n",
       "      <td>False</td>\n",
       "      <td>False</td>\n",
       "      <td>False</td>\n",
       "      <td>False</td>\n",
       "      <td>False</td>\n",
       "      <td>False</td>\n",
       "      <td>False</td>\n",
       "      <td>18.7554</td>\n",
       "      <td>61.4035</td>\n",
       "      <td>57.8721</td>\n",
       "      <td>None</td>\n",
       "    </tr>\n",
       "    <tr>\n",
       "      <th>2</th>\n",
       "      <td>11747</td>\n",
       "      <td>6s9w</td>\n",
       "      <td>B</td>\n",
       "      <td>A</td>\n",
       "      <td>Human</td>\n",
       "      <td>1</td>\n",
       "      <td>AKT1</td>\n",
       "      <td>None</td>\n",
       "      <td>None</td>\n",
       "      <td>KLLGKGTFGKVILYAMKILHTLTENRVLQNSRPFLTALKYSCFVME...</td>\n",
       "      <td>L1Z</td>\n",
       "      <td>-</td>\n",
       "      <td>None</td>\n",
       "      <td>None</td>\n",
       "      <td>out</td>\n",
       "      <td>out</td>\n",
       "      <td>2.3</td>\n",
       "      <td>6.8</td>\n",
       "      <td>0</td>\n",
       "      <td>0</td>\n",
       "      <td>0.965</td>\n",
       "      <td>2.647</td>\n",
       "      <td>False</td>\n",
       "      <td>False</td>\n",
       "      <td>True</td>\n",
       "      <td>False</td>\n",
       "      <td>False</td>\n",
       "      <td>False</td>\n",
       "      <td>False</td>\n",
       "      <td>False</td>\n",
       "      <td>False</td>\n",
       "      <td>False</td>\n",
       "      <td>True</td>\n",
       "      <td>False</td>\n",
       "      <td>True</td>\n",
       "      <td>True</td>\n",
       "      <td>False</td>\n",
       "      <td>20.3600</td>\n",
       "      <td>67.5534</td>\n",
       "      <td>58.5184</td>\n",
       "      <td>None</td>\n",
       "    </tr>\n",
       "    <tr>\n",
       "      <th>3</th>\n",
       "      <td>6765</td>\n",
       "      <td>3cqw</td>\n",
       "      <td>B</td>\n",
       "      <td>A</td>\n",
       "      <td>Human</td>\n",
       "      <td>1</td>\n",
       "      <td>AKT1</td>\n",
       "      <td>None</td>\n",
       "      <td>None</td>\n",
       "      <td>KLLGKGTFGKVILYAMKILHTLTENRVLQNSRPFLTALKYSCFVME...</td>\n",
       "      <td>CQW</td>\n",
       "      <td>-</td>\n",
       "      <td>None</td>\n",
       "      <td>None</td>\n",
       "      <td>in</td>\n",
       "      <td>in</td>\n",
       "      <td>2.0</td>\n",
       "      <td>8.0</td>\n",
       "      <td>0</td>\n",
       "      <td>0</td>\n",
       "      <td>0.779</td>\n",
       "      <td>2.093</td>\n",
       "      <td>True</td>\n",
       "      <td>False</td>\n",
       "      <td>False</td>\n",
       "      <td>False</td>\n",
       "      <td>False</td>\n",
       "      <td>False</td>\n",
       "      <td>False</td>\n",
       "      <td>False</td>\n",
       "      <td>False</td>\n",
       "      <td>False</td>\n",
       "      <td>False</td>\n",
       "      <td>False</td>\n",
       "      <td>False</td>\n",
       "      <td>False</td>\n",
       "      <td>False</td>\n",
       "      <td>17.9435</td>\n",
       "      <td>58.2835</td>\n",
       "      <td>52.7742</td>\n",
       "      <td>None</td>\n",
       "    </tr>\n",
       "    <tr>\n",
       "      <th>4</th>\n",
       "      <td>2533</td>\n",
       "      <td>3ow4</td>\n",
       "      <td>-</td>\n",
       "      <td>B</td>\n",
       "      <td>Human</td>\n",
       "      <td>1</td>\n",
       "      <td>AKT1</td>\n",
       "      <td>None</td>\n",
       "      <td>None</td>\n",
       "      <td>KLLGKGTFGKVILYAMKILHTLTENRVLQNSRPFLTALKYSCFVME...</td>\n",
       "      <td>SMY</td>\n",
       "      <td>-</td>\n",
       "      <td>None</td>\n",
       "      <td>None</td>\n",
       "      <td>in</td>\n",
       "      <td>in</td>\n",
       "      <td>2.6</td>\n",
       "      <td>8.0</td>\n",
       "      <td>0</td>\n",
       "      <td>0</td>\n",
       "      <td>0.780</td>\n",
       "      <td>2.104</td>\n",
       "      <td>True</td>\n",
       "      <td>False</td>\n",
       "      <td>False</td>\n",
       "      <td>False</td>\n",
       "      <td>True</td>\n",
       "      <td>False</td>\n",
       "      <td>False</td>\n",
       "      <td>False</td>\n",
       "      <td>False</td>\n",
       "      <td>False</td>\n",
       "      <td>False</td>\n",
       "      <td>False</td>\n",
       "      <td>False</td>\n",
       "      <td>False</td>\n",
       "      <td>False</td>\n",
       "      <td>19.1640</td>\n",
       "      <td>61.7818</td>\n",
       "      <td>50.6247</td>\n",
       "      <td>None</td>\n",
       "    </tr>\n",
       "  </tbody>\n",
       "</table>\n",
       "</div>"
      ],
      "text/plain": [
       "   structure.klifs_id structure.pdb_id structure.alternate_model  \\\n",
       "0               11746             6s9x                         -   \n",
       "1                2534             3ocb                         -   \n",
       "2               11747             6s9w                         B   \n",
       "3                6765             3cqw                         B   \n",
       "4                2533             3ow4                         -   \n",
       "\n",
       "  structure.chain species.klifs  kinase.klifs_id kinase.klifs_name  \\\n",
       "0               A         Human                1              AKT1   \n",
       "1               B         Human                1              AKT1   \n",
       "2               A         Human                1              AKT1   \n",
       "3               A         Human                1              AKT1   \n",
       "4               B         Human                1              AKT1   \n",
       "\n",
       "  kinase.family kinase.group  \\\n",
       "0          None         None   \n",
       "1          None         None   \n",
       "2          None         None   \n",
       "3          None         None   \n",
       "4          None         None   \n",
       "\n",
       "                                    structure.pocket ligand.expo_id  \\\n",
       "0  KLLGKGTFGKVILYAMKIL_________QNSRPFLTALKYSCFVME...            L1W   \n",
       "1  KLLGKGTFGKVILYAMKILHTLTENRVLQNSRPFLTALKYSCFVME...            XM1   \n",
       "2  KLLGKGTFGKVILYAMKILHTLTENRVLQNSRPFLTALKYSCFVME...            L1Z   \n",
       "3  KLLGKGTFGKVILYAMKILHTLTENRVLQNSRPFLTALKYSCFVME...            CQW   \n",
       "4  KLLGKGTFGKVILYAMKILHTLTENRVLQNSRPFLTALKYSCFVME...            SMY   \n",
       "\n",
       "  ligand_allosteric.expo_id ligand.name ligand_allosteric.name structure.dfg  \\\n",
       "0                         -        None                   None           out   \n",
       "1                         -        None                   None            in   \n",
       "2                         -        None                   None           out   \n",
       "3                         -        None                   None            in   \n",
       "4                         -        None                   None            in   \n",
       "\n",
       "  structure.ac_helix  structure.resolution  structure.qualityscore  \\\n",
       "0                 na                   2.6                     3.2   \n",
       "1                 in                   2.7                     8.0   \n",
       "2                out                   2.3                     6.8   \n",
       "3                 in                   2.0                     8.0   \n",
       "4                 in                   2.6                     8.0   \n",
       "\n",
       "   structure.missing_residues  structure.missing_atoms  structure.rmsd1  \\\n",
       "0                           9                        0            0.959   \n",
       "1                           0                        0            0.778   \n",
       "2                           0                        0            0.965   \n",
       "3                           0                        0            0.779   \n",
       "4                           0                        0            0.780   \n",
       "\n",
       "   structure.rmsd2  structure.front  structure.gate  structure.back  \\\n",
       "0            2.388            False           False            True   \n",
       "1            2.095             True           False           False   \n",
       "2            2.647            False           False            True   \n",
       "3            2.093             True           False           False   \n",
       "4            2.104             True           False           False   \n",
       "\n",
       "   structure.fp_i  structure.fp_ii  structure.bp_i_a  structure.bp_i_b  \\\n",
       "0           False            False             False             False   \n",
       "1           False             True             False             False   \n",
       "2           False            False             False             False   \n",
       "3           False            False             False             False   \n",
       "4           False             True             False             False   \n",
       "\n",
       "   structure.bp_ii_in  structure.bp_ii_a_in  structure.bp_ii_b_in  \\\n",
       "0               False                 False                 False   \n",
       "1               False                 False                 False   \n",
       "2               False                 False                 False   \n",
       "3               False                 False                 False   \n",
       "4               False                 False                 False   \n",
       "\n",
       "   structure.bp_ii_out  structure.bp_ii_b  structure.bp_iii  structure.bp_iv  \\\n",
       "0                 True              False              True             True   \n",
       "1                False              False             False            False   \n",
       "2                 True              False              True             True   \n",
       "3                False              False             False            False   \n",
       "4                False              False             False            False   \n",
       "\n",
       "   structure.bp_v  structure.grich_distance  structure.grich_angle  \\\n",
       "0           False                   20.2643                67.6543   \n",
       "1           False                   18.7554                61.4035   \n",
       "2           False                   20.3600                67.5534   \n",
       "3           False                   17.9435                58.2835   \n",
       "4           False                   19.1640                61.7818   \n",
       "\n",
       "   structure.grich_rotation structure.filepath  \n",
       "0                   58.3549               None  \n",
       "1                   57.8721               None  \n",
       "2                   58.5184               None  \n",
       "3                   52.7742               None  \n",
       "4                   50.6247               None  "
      ]
     },
     "execution_count": 6,
     "metadata": {},
     "output_type": "execute_result"
    }
   ],
   "source": [
    "structures = remote.structures.all_structures()\n",
    "print(structures.shape)\n",
    "structures.head()"
   ]
  },
  {
   "cell_type": "markdown",
   "metadata": {},
   "source": [
    "## Explore structures in full dataset"
   ]
  },
  {
   "cell_type": "markdown",
   "metadata": {},
   "source": [
    "### Species, DFG/aC-helix conformations, ligand"
   ]
  },
  {
   "cell_type": "code",
   "execution_count": 7,
   "metadata": {},
   "outputs": [
    {
     "data": {
      "image/png": "[encoded data removed]",
      "text/plain": [
       "<Figure size 1080x216 with 4 Axes>"
      ]
     },
     "metadata": {
      "needs_background": "light"
     },
     "output_type": "display_data"
    }
   ],
   "source": [
    "explorer.plot_important_categories(structures);"
   ]
  },
  {
   "cell_type": "markdown",
   "metadata": {},
   "source": [
    "### Resolution vs. quality score"
   ]
  },
  {
   "cell_type": "code",
   "execution_count": 8,
   "metadata": {},
   "outputs": [
    {
     "data": {
      "image/png": "[encoded data removed]",
      "text/plain": [
       "<Figure size 288x288 with 1 Axes>"
      ]
     },
     "metadata": {
      "needs_background": "light"
     },
     "output_type": "display_data"
    }
   ],
   "source": [
    "explorer.plot_resolution_vs_qualityscore(structures);"
   ]
  },
  {
   "cell_type": "markdown",
   "metadata": {},
   "source": [
    "### Number of structures per kinase-PDB pair\n",
    "\n",
    "How many kinase-PDB pairs are represented by how many structures?"
   ]
  },
  {
   "cell_type": "code",
   "execution_count": 9,
   "metadata": {},
   "outputs": [
    {
     "data": {
      "image/png": "[encoded data removed]",
      "text/plain": [
       "<Figure size 432x288 with 1 Axes>"
      ]
     },
     "metadata": {
      "needs_background": "light"
     },
     "output_type": "display_data"
    }
   ],
   "source": [
    "explorer.plot_number_of_structures_per_kinase_pdb_pair(structures);"
   ]
  },
  {
   "cell_type": "markdown",
   "metadata": {},
   "source": [
    "## Filter structures"
   ]
  },
  {
   "cell_type": "code",
   "execution_count": 10,
   "metadata": {},
   "outputs": [
    {
     "name": "stderr",
     "output_type": "stream",
     "text": [
      "INFO:kissim.dataset.filters:make_copy                       11710 structures (-1 day, 23:59:59.998703s)\n",
      "INFO:kissim.dataset.filters:select_species                  11050 structures (-1 day, 23:59:59.995662s)\n",
      "INFO:kissim.dataset.filters:select_resolution               10773 structures (-1 day, 23:59:59.996302s)\n",
      "INFO:kissim.dataset.filters:select_qualityscore             10687 structures (-1 day, 23:59:59.996084s)\n",
      "INFO:kissim.dataset.filters:select_best_pdb_kinase_pairs     4944 structures (-1 day, 23:59:59.979564s)\n"
     ]
    }
   ],
   "source": [
    "structures_filtered = (\n",
    "    structures.pipe(filters.make_copy)\n",
    "    .pipe(filters.select_species, SPECIES)\n",
    "    # .pipe(filters.select_dfg, DFG_CONFORMATION)\n",
    "    .pipe(filters.select_resolution, RESOLUTION_MAX)\n",
    "    .pipe(filters.select_qualityscore, QUALITYSCORE_MIN)\n",
    "    .pipe(filters.select_best_pdb_kinase_pairs)\n",
    ")\n",
    "structures_filtered.reset_index(inplace=True, drop=True)"
   ]
  },
  {
   "cell_type": "markdown",
   "metadata": {},
   "source": [
    "## Save filtered structures"
   ]
  },
  {
   "cell_type": "code",
   "execution_count": 11,
   "metadata": {},
   "outputs": [],
   "source": [
    "structures_filtered[\"structure.klifs_id\"].to_csv(\n",
    "    DATA / \"structure_klifs_ids.txt\", index=None, header=None\n",
    ")"
   ]
  }
 ],
 "metadata": {
  "kernelspec": {
   "display_name": "Python 3",
   "language": "python",
   "name": "python3"
  },
  "language_info": {
   "codemirror_mode": {
    "name": "ipython",
    "version": 3
   },
   "file_extension": ".py",
   "mimetype": "text/x-python",
   "name": "python",
   "nbconvert_exporter": "python",
   "pygments_lexer": "ipython3",
   "version": "3.9.5"
  }
 },
 "nbformat": 4,
 "nbformat_minor": 4
}
