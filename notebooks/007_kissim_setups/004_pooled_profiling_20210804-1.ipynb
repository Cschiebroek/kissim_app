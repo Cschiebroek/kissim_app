{
 "cells": [
  {
   "cell_type": "markdown",
   "id": "64d6a8c1-dda5-4aac-8dc3-6a44e5891638",
   "metadata": {},
   "source": [
    "# Evaluate performace of `kissim` vs. profiling datasets\n",
    "\n",
    "Summarize ligand-kinase pair performances based on multiple profiling datasets:\n",
    "\n",
    "- Profiling datasets: Karaman and Davis\n",
    "- `kissim` datasets: Different feature weighting schemes"
   ]
  },
  {
   "cell_type": "code",
   "execution_count": 1,
   "id": "9a0464ab-edf2-4ee5-9c9b-974796cd7585",
   "metadata": {},
   "outputs": [],
   "source": [
    "%load_ext autoreload\n",
    "%autoreload 2"
   ]
  },
  {
   "cell_type": "code",
   "execution_count": 2,
   "id": "31a14492-a5a4-4fc5-83dc-a9ec00455314",
   "metadata": {},
   "outputs": [
    {
     "data": {
      "application/vnd.jupyter.widget-view+json": {
       "model_id": "629a098c9be043b59d7fb514ac03489d",
       "version_major": 2,
       "version_minor": 0
      },
      "text/plain": []
     },
     "metadata": {},
     "output_type": "display_data"
    }
   ],
   "source": [
    "from pathlib import Path\n",
    "import logging\n",
    "import math\n",
    "import itertools\n",
    "\n",
    "import pandas as pd\n",
    "import matplotlib.pyplot as plt\n",
    "from IPython.display import display, Markdown\n",
    "\n",
    "from src import data\n",
    "from src.evaluation.ligand_vs_kinase_evaluator import LigandVsKinaseEvaluator"
   ]
  },
  {
   "cell_type": "code",
   "execution_count": 3,
   "id": "c3c70fed-b2f5-4e6a-b86a-b78143928bd8",
   "metadata": {},
   "outputs": [],
   "source": [
    "logger = logging.getLogger()\n",
    "logger.setLevel(logging.CRITICAL)"
   ]
  },
  {
   "cell_type": "code",
   "execution_count": 4,
   "id": "a5582152-a55a-4034-8b53-ede952eddd76",
   "metadata": {},
   "outputs": [],
   "source": [
    "HERE = Path(_dh[-1])  # noqa: F821\n",
    "RESULTS = HERE / \"../../results_archive/20210804-1/dfg_in\""
   ]
  },
  {
   "cell_type": "markdown",
   "id": "574c5b10-1751-4f4a-86b4-1633c4818d3f",
   "metadata": {},
   "source": [
    "## Define parameters"
   ]
  },
  {
   "cell_type": "code",
   "execution_count": 5,
   "id": "6d43a1e7-bc3f-4922-b3b6-0ce2f9000dbf",
   "metadata": {},
   "outputs": [],
   "source": [
    "KINASE_DISTANCES_METHOD = \"kissim\"\n",
    "KINASE_ACTIVITY_CUTOFF = 100\n",
    "KINASE_ACTIVITY_MAX = True\n",
    "MIN_N_SHARED_KINASES = 10\n",
    "MIN_N_SHARED_ACTIVE_KINASES = 3"
   ]
  },
  {
   "cell_type": "code",
   "execution_count": 6,
   "id": "f3f63983-86ef-4cc4-a7f4-ba387027c46c",
   "metadata": {},
   "outputs": [],
   "source": [
    "suffixes = [\"15\", \"100\", \"010\", \"001\", \"110\", \"011\", \"101\", \"111\"]\n",
    "ligand_profiling_methods = [\"karaman-davis\"]"
   ]
  },
  {
   "cell_type": "markdown",
   "id": "a8ae628d-7fb1-49c5-af2c-f3168df9d305",
   "metadata": {},
   "source": [
    "## Generate ROC/AUC data"
   ]
  },
  {
   "cell_type": "code",
   "execution_count": null,
   "id": "c6e96bd4-fc04-4a24-834c-9f3a20a9c14d",
   "metadata": {
    "tags": []
   },
   "outputs": [
    {
     "data": {
      "text/markdown": [
       "### Ligand profiling method: karaman-davis"
      ],
      "text/plain": [
       "<IPython.core.display.Markdown object>"
      ]
     },
     "metadata": {},
     "output_type": "display_data"
    },
    {
     "data": {
      "text/markdown": [
       "#### Kinase-kinase dataset: 15"
      ],
      "text/plain": [
       "<IPython.core.display.Markdown object>"
      ]
     },
     "metadata": {},
     "output_type": "display_data"
    },
    {
     "name": "stdout",
     "output_type": "stream",
     "text": [
      "Karaman matrix: (268, 16)\n",
      "Davis matrix: (350, 33)\n",
      "Number of shared ligands: 15\n",
      "Number of shared kinases: 265\n",
      "Number of total ligands: 34\n",
      "Number of total kinases: 353\n",
      "Karaman-Davis matrix: (353, 34)\n",
      "Karaman-Davis matrix: (353, 34)\n",
      "Karaman matrix: (268, 16)\n",
      "Davis matrix: (350, 33)\n",
      "Number of shared ligands: 15\n",
      "Number of shared kinases: 265\n",
      "Number of total ligands: 34\n",
      "Number of total kinases: 353\n",
      "Karaman-Davis matrix: (353, 34)\n",
      "Karaman-Davis matrix: (353, 34)\n"
     ]
    }
   ],
   "source": [
    "auc_dict = {}\n",
    "\n",
    "for ligand_profiling_method in ligand_profiling_methods:\n",
    "    display(Markdown(f\"### Ligand profiling method: {ligand_profiling_method}\"))\n",
    "    auc_dict[ligand_profiling_method] = {}\n",
    "\n",
    "    for suffix in suffixes:\n",
    "\n",
    "        # Set path to file\n",
    "        display(Markdown(f\"#### Kinase-kinase dataset: {suffix}\"))\n",
    "        if suffix == \"15\":\n",
    "            KINASE_KINASE_PATH = RESULTS / \"fingerprint_distances.csv\"\n",
    "        else:\n",
    "            KINASE_KINASE_PATH = RESULTS / f\"fingerprint_distances_{suffix}.csv\"\n",
    "\n",
    "        # Kinase-kinase distances dataset\n",
    "        kissim_df = data.distances.kissim(\n",
    "            structure_kinase_mapping_by=\"minimum\",\n",
    "            kinmap_kinases=True,\n",
    "            distances_path=KINASE_KINASE_PATH,\n",
    "        )\n",
    "        # Kinase-ligand profiling dataset\n",
    "        profiling_df = data.profiling.load(\n",
    "            ligand_profiling_method, pkidb_ligands=True, fda_approved=True\n",
    "        )\n",
    "\n",
    "        ligand_names = profiling_df.columns\n",
    "        ligand_targets = data.targets.pkidb(ligand_names, fda_approved=False)\n",
    "        ligand_kinase_pairs = (\n",
    "            ligand_targets[[\"ligand.input\", \"targets.kinmap\"]]\n",
    "            .explode(\"targets.kinmap\")\n",
    "            .to_numpy()\n",
    "            .tolist()\n",
    "        )\n",
    "        evaluator = LigandVsKinaseEvaluator(\n",
    "            ligand_kinase_pairs,\n",
    "            ligand_profiling_method,\n",
    "            KINASE_DISTANCES_METHOD,\n",
    "            KINASE_ACTIVITY_CUTOFF,\n",
    "            KINASE_ACTIVITY_MAX,\n",
    "            MIN_N_SHARED_KINASES,\n",
    "            MIN_N_SHARED_ACTIVE_KINASES,\n",
    "            kinase_kinase_path=KINASE_KINASE_PATH,\n",
    "        )\n",
    "        auc_list = evaluator.plot_roc_curves()\n",
    "        # output_file = f\"roc_{ligand_profiling_method}_{suffix}.png\"\n",
    "        # auc_list = evaluator.plot_roc_curves(output_file=output_file)\n",
    "        plt.show()\n",
    "        auc_dict[ligand_profiling_method][suffix] = auc_list"
   ]
  },
  {
   "cell_type": "markdown",
   "id": "8b31ea1b-51e6-455f-8c91-8776baefba12",
   "metadata": {},
   "source": [
    "## Plot AUC distribution"
   ]
  },
  {
   "cell_type": "code",
   "execution_count": null,
   "id": "533dacc1-46ec-46e5-816d-5fe297c1d9a2",
   "metadata": {},
   "outputs": [],
   "source": [
    "for profiling_name, auc in auc_dict.items():\n",
    "    display(Markdown(f\"### Ligand profiling method: {profiling_name}\"))\n",
    "    auc_df = pd.DataFrame(auc)\n",
    "    auc_df.plot(kind=\"box\", title=f\"{profiling_name} ({auc_df.shape[0]} kinase-ligand pairs)\")\n",
    "    # plt.savefig(f\"auc_{profiling_name}.png\", bbox_inches=\"tight\", dpi=300)\n",
    "    plt.show()"
   ]
  },
  {
   "cell_type": "code",
   "execution_count": null,
   "id": "4043596b-1619-41bf-b3f5-0d76a83b2a07",
   "metadata": {},
   "outputs": [],
   "source": [
    "auc_df.describe()"
   ]
  },
  {
   "cell_type": "code",
   "execution_count": null,
   "id": "ab246bad-c52e-4b36-a88b-48a703357395",
   "metadata": {},
   "outputs": [],
   "source": [
    "auc_df.to_csv(RESULTS / \"auc.csv\", index=None)"
   ]
  },
  {
   "cell_type": "markdown",
   "id": "3e9429aa-f9c5-4679-83fd-3adfccbaadca",
   "metadata": {},
   "source": [
    "## Scatter AUC values between weighting schemes"
   ]
  },
  {
   "cell_type": "markdown",
   "id": "5f7f3705-9004-4ab4-a997-6d8d5c3eee44",
   "metadata": {},
   "source": [
    "Use only best performing feature weights:"
   ]
  },
  {
   "cell_type": "code",
   "execution_count": null,
   "id": "6e67c656-981b-467a-97bd-d63fd746c537",
   "metadata": {},
   "outputs": [],
   "source": [
    "best_feature_weights = [\"15\", \"100\", \"110\", \"101\", \"111\"]"
   ]
  },
  {
   "cell_type": "code",
   "execution_count": null,
   "id": "82fab948-819c-4f9d-9ec8-d3edcc18b568",
   "metadata": {},
   "outputs": [],
   "source": [
    "for profiling_name, auc in auc_dict.items():\n",
    "\n",
    "    display(Markdown(f\"### Ligand profiling method: {profiling_name}\"))\n",
    "    pairs = list(itertools.combinations(best_feature_weights, 2))\n",
    "    n_cols = 5\n",
    "    n_rows = math.ceil(len(pairs) / n_cols)\n",
    "    _, axes = plt.subplots(figsize=(n_cols * 5, n_rows * 5), nrows=n_rows, ncols=n_cols)\n",
    "    axes = axes.reshape(-1)\n",
    "\n",
    "    for i, pair in enumerate(pairs):\n",
    "\n",
    "        axes[i].plot([0, 1], [0, 1], \"grey\")\n",
    "        axes[i].plot(auc_df[pair[0]], auc_df[pair[1]], \".\")\n",
    "        axes[i].set_box_aspect(1)\n",
    "        axes[i].set_xlim([0, 1])\n",
    "        axes[i].set_ylim([0, 1])\n",
    "        axes[i].set_xlabel(f\"AUCs from {pair[0]}\")\n",
    "        axes[i].set_ylabel(f\"AUCs from {pair[1]}\")\n",
    "\n",
    "    plt.show()"
   ]
  },
  {
   "cell_type": "code",
   "execution_count": null,
   "id": "9b647817-7e27-47d9-b7a2-b9da19d98765",
   "metadata": {},
   "outputs": [],
   "source": []
  }
 ],
 "metadata": {
  "kernelspec": {
   "display_name": "Python 3",
   "language": "python",
   "name": "python3"
  },
  "language_info": {
   "codemirror_mode": {
    "name": "ipython",
    "version": 3
   },
   "file_extension": ".py",
   "mimetype": "text/x-python",
   "name": "python",
   "nbconvert_exporter": "python",
   "pygments_lexer": "ipython3",
   "version": "3.9.5"
  },
  "widgets": {
   "application/vnd.jupyter.widget-state+json": {
    "state": {
     "629a098c9be043b59d7fb514ac03489d": {
      "model_module": "nglview-js-widgets",
      "model_module_version": "3.0.1",
      "model_name": "ColormakerRegistryModel",
      "state": {
       "_msg_ar": [],
       "_msg_q": [],
       "_ready": true,
       "layout": "IPY_MODEL_721292c2dc214c3b94acf404ee5b70bc"
      }
     },
     "721292c2dc214c3b94acf404ee5b70bc": {
      "model_module": "@jupyter-widgets/base",
      "model_module_version": "1.2.0",
      "model_name": "LayoutModel",
      "state": {}
     }
    },
    "version_major": 2,
    "version_minor": 0
   }
  }
 },
 "nbformat": 4,
 "nbformat_minor": 5
}
