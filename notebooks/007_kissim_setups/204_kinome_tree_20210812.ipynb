{
 "cells": [
  {
   "cell_type": "markdown",
   "id": "3d01b241-3f4d-4795-937a-4fbd37a1b4b5",
   "metadata": {},
   "source": [
    "# `kissim`-based kinome tree\n",
    "\n",
    "We generate `kissim`-based kinome matrices and trees based on for the 20210812 runs."
   ]
  },
  {
   "cell_type": "code",
   "execution_count": 1,
   "id": "6c791f44-57df-4ba4-9759-c8281e27bb14",
   "metadata": {
    "execution": {
     "iopub.execute_input": "2021-09-16T19:50:32.916598Z",
     "iopub.status.busy": "2021-09-16T19:50:32.915567Z",
     "iopub.status.idle": "2021-09-16T19:50:32.931666Z",
     "shell.execute_reply": "2021-09-16T19:50:32.932083Z"
    }
   },
   "outputs": [],
   "source": [
    "%load_ext autoreload\n",
    "%autoreload 2"
   ]
  },
  {
   "cell_type": "code",
   "execution_count": 2,
   "id": "0020c32e-7c64-4b84-981e-6c84ddb65179",
   "metadata": {
    "execution": {
     "iopub.execute_input": "2021-09-16T19:50:32.936407Z",
     "iopub.status.busy": "2021-09-16T19:50:32.935804Z",
     "iopub.status.idle": "2021-09-16T19:50:34.060302Z",
     "shell.execute_reply": "2021-09-16T19:50:34.060002Z"
    },
    "tags": []
   },
   "outputs": [
    {
     "data": {
      "application/vnd.jupyter.widget-view+json": {
       "model_id": "9e13bb642a034a9bace7a410a0fb7299",
       "version_major": 2,
       "version_minor": 0
      },
      "text/plain": []
     },
     "metadata": {},
     "output_type": "display_data"
    }
   ],
   "source": [
    "from pathlib import Path\n",
    "\n",
    "import matplotlib\n",
    "import matplotlib.pyplot as plt\n",
    "from Bio import Phylo\n",
    "from opencadd.databases.klifs import setup_remote\n",
    "from IPython.display import display, Markdown\n",
    "\n",
    "from kissim.comparison import FingerprintDistanceGenerator\n",
    "from kissim.comparison import matrix, tree"
   ]
  },
  {
   "cell_type": "code",
   "execution_count": 3,
   "id": "8daf3237-767b-4473-95c9-4a6e8b3e9945",
   "metadata": {
    "execution": {
     "iopub.execute_input": "2021-09-16T19:50:34.062782Z",
     "iopub.status.busy": "2021-09-16T19:50:34.062471Z",
     "iopub.status.idle": "2021-09-16T19:50:34.073277Z",
     "shell.execute_reply": "2021-09-16T19:50:34.073533Z"
    }
   },
   "outputs": [],
   "source": [
    "matplotlib.rc(\"font\", size=6)"
   ]
  },
  {
   "cell_type": "code",
   "execution_count": 4,
   "id": "31334d9e-1563-4a74-9be2-86a06e23416c",
   "metadata": {
    "execution": {
     "iopub.execute_input": "2021-09-16T19:50:34.075615Z",
     "iopub.status.busy": "2021-09-16T19:50:34.075266Z",
     "iopub.status.idle": "2021-09-16T19:50:34.086213Z",
     "shell.execute_reply": "2021-09-16T19:50:34.085958Z"
    }
   },
   "outputs": [],
   "source": [
    "# Set path to this notebook\n",
    "HERE = Path(_dh[-1])  # noqa: F821\n",
    "RESULTS = HERE / \"../../results_archive\""
   ]
  },
  {
   "cell_type": "code",
   "execution_count": 5,
   "id": "10453025-c469-4051-8d32-ade6740f0785",
   "metadata": {
    "execution": {
     "iopub.execute_input": "2021-09-16T19:50:34.088603Z",
     "iopub.status.busy": "2021-09-16T19:50:34.088296Z",
     "iopub.status.idle": "2021-09-16T19:50:34.099157Z",
     "shell.execute_reply": "2021-09-16T19:50:34.099394Z"
    }
   },
   "outputs": [],
   "source": [
    "# Set bit coverage between fingerprint pairs\n",
    "COVERAGE_MIN = 0.8\n",
    "RUN_IDS = [\"20210812-1\", \"20210812-2\"]\n",
    "WEIGHTING_SCHEMES = [\"15\", \"110\", \"101\", \"100\"]\n",
    "DFG_CONFORMATIONS = [\"in\"]\n",
    "CLUSTERING_METHODS = [\"ward\", \"average\", \"weighted\"]\n",
    "FIG_HEIGHT = {\"all\": 25, \"in\": 25, \"out\": 10}"
   ]
  },
  {
   "cell_type": "markdown",
   "id": "61d0459f-9d41-4d31-a036-09f274c5a6aa",
   "metadata": {},
   "source": [
    "## Data\n",
    "\n",
    "- 20210630 KLIFS download\n",
    "- With 3 pocket mutations onnly and resolution <= 3A\n",
    "- DFG-in\n",
    "- Different `kissim` setups:\n",
    "  - 20210812-1: Normalized fingerprint + all residues\n",
    "  - 20210812-2: Normalized fingerprint + subset of residues"
   ]
  },
  {
   "cell_type": "markdown",
   "id": "b7d40b87-f871-4fce-844b-fbd85695ad71",
   "metadata": {},
   "source": [
    "## Kinase-color mapping"
   ]
  },
  {
   "cell_type": "code",
   "execution_count": 6,
   "id": "9368d0c3-3e17-4641-96bd-29d5e4848fac",
   "metadata": {
    "execution": {
     "iopub.execute_input": "2021-09-16T19:50:34.102541Z",
     "iopub.status.busy": "2021-09-16T19:50:34.102220Z",
     "iopub.status.idle": "2021-09-16T19:50:34.432104Z",
     "shell.execute_reply": "2021-09-16T19:50:34.431707Z"
    }
   },
   "outputs": [],
   "source": [
    "klifs_session = setup_remote()\n",
    "kinases = klifs_session.kinases.all_kinases(species=\"Human\")\n",
    "kinases = klifs_session.kinases.by_kinase_klifs_id(kinases[\"kinase.klifs_id\"].to_list())\n",
    "kinases = kinases[[\"kinase.klifs_name\", \"kinase.group\"]]\n",
    "kinase_groups = kinases[\"kinase.group\"].sort_values().unique()\n",
    "colors = [\n",
    "    \"red\",\n",
    "    \"orange\",\n",
    "    \"yellowgreen\",\n",
    "    \"limegreen\",\n",
    "    \"turquoise\",\n",
    "    \"cornflowerblue\",\n",
    "    \"grey\",\n",
    "    \"mediumblue\",\n",
    "    \"darkorchid\",\n",
    "    \"violet\",\n",
    "]\n",
    "groups_to_color = {g: c for g, c in zip(kinase_groups, colors)}\n",
    "kinases[\"color\"] = kinases[\"kinase.group\"].apply(lambda x: groups_to_color[x])\n",
    "label_colors = kinases.set_index(\"kinase.klifs_name\")[\"color\"].to_dict()\n",
    "LABEL_COLORS = label_colors"
   ]
  },
  {
   "cell_type": "markdown",
   "id": "70254db8-5171-4496-b574-b3c8150293f6",
   "metadata": {},
   "source": [
    "## Helper functions"
   ]
  },
  {
   "cell_type": "code",
   "execution_count": 7,
   "id": "725ef361-7e57-4a0a-8fa2-bd579fbe0463",
   "metadata": {
    "execution": {
     "iopub.execute_input": "2021-09-16T19:50:34.438048Z",
     "iopub.status.busy": "2021-09-16T19:50:34.437497Z",
     "iopub.status.idle": "2021-09-16T19:50:34.449327Z",
     "shell.execute_reply": "2021-09-16T19:50:34.449581Z"
    }
   },
   "outputs": [],
   "source": [
    "def generate_trees(\n",
    "    path_results=RESULTS,\n",
    "    run_ids=RUN_IDS,\n",
    "    weighting_schemes=WEIGHTING_SCHEMES,\n",
    "    dfg_conformations=DFG_CONFORMATIONS,\n",
    "    clustering_methods=CLUSTERING_METHODS,\n",
    "    coverage_min=COVERAGE_MIN,\n",
    "):\n",
    "    def _load_fingerprint_distances(path_results, weighting):\n",
    "        \"\"\"\n",
    "        Load fingerprint distances (all conformations).\n",
    "        \"\"\"\n",
    "\n",
    "        if weighting == \"15\":\n",
    "            filepath = path_results / \"fingerprint_distances.csv\"\n",
    "        else:\n",
    "            filepath = path_results / f\"fingerprint_distances_{weighting}.csv\"\n",
    "        fingerprint_distances = FingerprintDistanceGenerator.from_csv(filepath)\n",
    "\n",
    "        return fingerprint_distances.data\n",
    "\n",
    "    def _generate_distance_matrix(distances, coverage_min, weighting, path):\n",
    "        \"\"\"\n",
    "        Generate and save distance matrix.\n",
    "        \"\"\"\n",
    "        distance_matrix = matrix.kinase_distance_matrix(\n",
    "            distances,\n",
    "            by=\"minimum\",\n",
    "            fill_diagonal=True,\n",
    "            coverage_min=coverage_min,\n",
    "        )\n",
    "        distance_matrix.to_csv(path / f\"kinase_matrix_{coverage_min}_{weighting}.csv\")\n",
    "        return distance_matrix\n",
    "\n",
    "    def _generate_tree(distance_matrix, weighting, cmethod, coverage_min, path):\n",
    "        \"\"\"\n",
    "        Generate and save tree.\n",
    "        \"\"\"\n",
    "        tree.from_distance_matrix(\n",
    "            distance_matrix,\n",
    "            path / f\"tree_{coverage_min}_{weighting}_{cmethod}.tree\",\n",
    "            clustering_method=cmethod,\n",
    "        )\n",
    "\n",
    "    for run_id in run_ids:\n",
    "        for dfg in dfg_conformations:\n",
    "            path = path_results / f\"{run_id}/dfg_{dfg}\"\n",
    "            print(path)\n",
    "            (path / \"matrices\").mkdir(parents=True, exist_ok=True)\n",
    "            (path / \"trees\").mkdir(parents=True, exist_ok=True)\n",
    "\n",
    "            for weighting in weighting_schemes:\n",
    "                distances = _load_fingerprint_distances(path, weighting)\n",
    "                distance_matrix = _generate_distance_matrix(\n",
    "                    distances, coverage_min, weighting, path / \"matrices\"\n",
    "                )\n",
    "                for cmethod in clustering_methods:\n",
    "                    print(f\"{weighting}_{dfg}_{cmethod}_{coverage_min}\")\n",
    "                    _generate_tree(\n",
    "                        distance_matrix, weighting, cmethod, coverage_min, path / \"trees\"\n",
    "                    )"
   ]
  },
  {
   "cell_type": "code",
   "execution_count": 8,
   "id": "1aaeed18-f9fd-46ed-9f6d-281a9623557d",
   "metadata": {
    "execution": {
     "iopub.execute_input": "2021-09-16T19:50:34.453475Z",
     "iopub.status.busy": "2021-09-16T19:50:34.452991Z",
     "iopub.status.idle": "2021-09-16T19:50:34.464131Z",
     "shell.execute_reply": "2021-09-16T19:50:34.464388Z"
    }
   },
   "outputs": [],
   "source": [
    "def visualize_trees(\n",
    "    path_results=RESULTS,\n",
    "    run_ids=RUN_IDS,\n",
    "    weighting_schemes=WEIGHTING_SCHEMES,\n",
    "    dfg_conformations=DFG_CONFORMATIONS,\n",
    "    clustering_methods=CLUSTERING_METHODS,\n",
    "    fig_height=FIG_HEIGHT,\n",
    "    label_colors=LABEL_COLORS,\n",
    "    coverage_min=COVERAGE_MIN,\n",
    "):\n",
    "    for run_id in run_ids:\n",
    "        display(Markdown(f\"## Run {run_id}\"))\n",
    "        for weighting in weighting_schemes:\n",
    "            display(Markdown(f\"### Weighing {weighting}\"))\n",
    "            for dfg in dfg_conformations:\n",
    "                for cmethod in clustering_methods:\n",
    "                    display(Markdown(f\"##### {cmethod}\"))\n",
    "                    path_newick = (\n",
    "                        path_results\n",
    "                        / f\"{run_id}/dfg_{dfg}/trees\"\n",
    "                        / f\"tree_{coverage_min}_{weighting}_{cmethod}.tree\"\n",
    "                    )\n",
    "                    kissim_tree = Phylo.read(path_newick, \"newick\")\n",
    "                    kissim_tree.ladderize()  # Flip branches so deeper clades are displayed at top\n",
    "\n",
    "                    fig, ax = plt.subplots(1, 1, figsize=(5, fig_height[dfg]))\n",
    "                    ax.set_title(\n",
    "                        f\"weighting {weighting} | DFG-{dfg} \"\n",
    "                        f\"| cmethod {cmethod} | {kissim_tree.count_terminals()} leafs\"\n",
    "                    )\n",
    "                    Phylo.draw(kissim_tree, axes=ax, label_colors=label_colors)"
   ]
  },
  {
   "cell_type": "code",
   "execution_count": 9,
   "id": "51658cfa-38f5-465b-b15b-2bf153c8b895",
   "metadata": {
    "execution": {
     "iopub.execute_input": "2021-09-16T19:50:34.466836Z",
     "iopub.status.busy": "2021-09-16T19:50:34.466369Z",
     "iopub.status.idle": "2021-09-16T19:50:34.575966Z",
     "shell.execute_reply": "2021-09-16T19:50:34.575667Z"
    }
   },
   "outputs": [
    {
     "name": "stdout",
     "output_type": "stream",
     "text": [
      "/home/dominique/Documents/GitHub/kissim_app/notebooks/007_kissim_setups/../../results_archive/20210812-1/dfg_in\n"
     ]
    },
    {
     "ename": "FileExistsError",
     "evalue": "[Errno 17] File exists: '/home/dominique/Documents/GitHub/kissim_app/notebooks/007_kissim_setups/../../results_archive'",
     "output_type": "error",
     "traceback": [
      "\u001b[0;31m---------------------------------------------------------------------------\u001b[0m",
      "\u001b[0;31mFileNotFoundError\u001b[0m                         Traceback (most recent call last)",
      "\u001b[0;32m~/.local/miniconda/envs/kissim-app-dev/lib/python3.9/pathlib.py\u001b[0m in \u001b[0;36mmkdir\u001b[0;34m(self, mode, parents, exist_ok)\u001b[0m\n\u001b[1;32m   1322\u001b[0m         \u001b[0;32mtry\u001b[0m\u001b[0;34m:\u001b[0m\u001b[0;34m\u001b[0m\u001b[0;34m\u001b[0m\u001b[0m\n\u001b[0;32m-> 1323\u001b[0;31m             \u001b[0mself\u001b[0m\u001b[0;34m.\u001b[0m\u001b[0m_accessor\u001b[0m\u001b[0;34m.\u001b[0m\u001b[0mmkdir\u001b[0m\u001b[0;34m(\u001b[0m\u001b[0mself\u001b[0m\u001b[0;34m,\u001b[0m \u001b[0mmode\u001b[0m\u001b[0;34m)\u001b[0m\u001b[0;34m\u001b[0m\u001b[0;34m\u001b[0m\u001b[0m\n\u001b[0m\u001b[1;32m   1324\u001b[0m         \u001b[0;32mexcept\u001b[0m \u001b[0mFileNotFoundError\u001b[0m\u001b[0;34m:\u001b[0m\u001b[0;34m\u001b[0m\u001b[0;34m\u001b[0m\u001b[0m\n",
      "\u001b[0;31mFileNotFoundError\u001b[0m: [Errno 2] No such file or directory: '/home/dominique/Documents/GitHub/kissim_app/notebooks/007_kissim_setups/../../results_archive/20210812-1/dfg_in/matrices'",
      "\nDuring handling of the above exception, another exception occurred:\n",
      "\u001b[0;31mFileNotFoundError\u001b[0m                         Traceback (most recent call last)",
      "\u001b[0;32m~/.local/miniconda/envs/kissim-app-dev/lib/python3.9/pathlib.py\u001b[0m in \u001b[0;36mmkdir\u001b[0;34m(self, mode, parents, exist_ok)\u001b[0m\n\u001b[1;32m   1322\u001b[0m         \u001b[0;32mtry\u001b[0m\u001b[0;34m:\u001b[0m\u001b[0;34m\u001b[0m\u001b[0;34m\u001b[0m\u001b[0m\n\u001b[0;32m-> 1323\u001b[0;31m             \u001b[0mself\u001b[0m\u001b[0;34m.\u001b[0m\u001b[0m_accessor\u001b[0m\u001b[0;34m.\u001b[0m\u001b[0mmkdir\u001b[0m\u001b[0;34m(\u001b[0m\u001b[0mself\u001b[0m\u001b[0;34m,\u001b[0m \u001b[0mmode\u001b[0m\u001b[0;34m)\u001b[0m\u001b[0;34m\u001b[0m\u001b[0;34m\u001b[0m\u001b[0m\n\u001b[0m\u001b[1;32m   1324\u001b[0m         \u001b[0;32mexcept\u001b[0m \u001b[0mFileNotFoundError\u001b[0m\u001b[0;34m:\u001b[0m\u001b[0;34m\u001b[0m\u001b[0;34m\u001b[0m\u001b[0m\n",
      "\u001b[0;31mFileNotFoundError\u001b[0m: [Errno 2] No such file or directory: '/home/dominique/Documents/GitHub/kissim_app/notebooks/007_kissim_setups/../../results_archive/20210812-1/dfg_in'",
      "\nDuring handling of the above exception, another exception occurred:\n",
      "\u001b[0;31mFileNotFoundError\u001b[0m                         Traceback (most recent call last)",
      "\u001b[0;32m~/.local/miniconda/envs/kissim-app-dev/lib/python3.9/pathlib.py\u001b[0m in \u001b[0;36mmkdir\u001b[0;34m(self, mode, parents, exist_ok)\u001b[0m\n\u001b[1;32m   1322\u001b[0m         \u001b[0;32mtry\u001b[0m\u001b[0;34m:\u001b[0m\u001b[0;34m\u001b[0m\u001b[0;34m\u001b[0m\u001b[0m\n\u001b[0;32m-> 1323\u001b[0;31m             \u001b[0mself\u001b[0m\u001b[0;34m.\u001b[0m\u001b[0m_accessor\u001b[0m\u001b[0;34m.\u001b[0m\u001b[0mmkdir\u001b[0m\u001b[0;34m(\u001b[0m\u001b[0mself\u001b[0m\u001b[0;34m,\u001b[0m \u001b[0mmode\u001b[0m\u001b[0;34m)\u001b[0m\u001b[0;34m\u001b[0m\u001b[0;34m\u001b[0m\u001b[0m\n\u001b[0m\u001b[1;32m   1324\u001b[0m         \u001b[0;32mexcept\u001b[0m \u001b[0mFileNotFoundError\u001b[0m\u001b[0;34m:\u001b[0m\u001b[0;34m\u001b[0m\u001b[0;34m\u001b[0m\u001b[0m\n",
      "\u001b[0;31mFileNotFoundError\u001b[0m: [Errno 2] No such file or directory: '/home/dominique/Documents/GitHub/kissim_app/notebooks/007_kissim_setups/../../results_archive/20210812-1'",
      "\nDuring handling of the above exception, another exception occurred:\n",
      "\u001b[0;31mFileExistsError\u001b[0m                           Traceback (most recent call last)",
      "\u001b[0;32m<timed eval>\u001b[0m in \u001b[0;36m<module>\u001b[0;34m\u001b[0m\n",
      "\u001b[0;32m/tmp/ipykernel_2138/258106335.py\u001b[0m in \u001b[0;36mgenerate_trees\u001b[0;34m(path_results, run_ids, weighting_schemes, dfg_conformations, clustering_methods, coverage_min)\u001b[0m\n\u001b[1;32m     47\u001b[0m             \u001b[0mpath\u001b[0m \u001b[0;34m=\u001b[0m \u001b[0mpath_results\u001b[0m \u001b[0;34m/\u001b[0m \u001b[0;34mf\"{run_id}/dfg_{dfg}\"\u001b[0m\u001b[0;34m\u001b[0m\u001b[0;34m\u001b[0m\u001b[0m\n\u001b[1;32m     48\u001b[0m             \u001b[0mprint\u001b[0m\u001b[0;34m(\u001b[0m\u001b[0mpath\u001b[0m\u001b[0;34m)\u001b[0m\u001b[0;34m\u001b[0m\u001b[0;34m\u001b[0m\u001b[0m\n\u001b[0;32m---> 49\u001b[0;31m             \u001b[0;34m(\u001b[0m\u001b[0mpath\u001b[0m \u001b[0;34m/\u001b[0m \u001b[0;34m\"matrices\"\u001b[0m\u001b[0;34m)\u001b[0m\u001b[0;34m.\u001b[0m\u001b[0mmkdir\u001b[0m\u001b[0;34m(\u001b[0m\u001b[0mparents\u001b[0m\u001b[0;34m=\u001b[0m\u001b[0;32mTrue\u001b[0m\u001b[0;34m,\u001b[0m \u001b[0mexist_ok\u001b[0m\u001b[0;34m=\u001b[0m\u001b[0;32mTrue\u001b[0m\u001b[0;34m)\u001b[0m\u001b[0;34m\u001b[0m\u001b[0;34m\u001b[0m\u001b[0m\n\u001b[0m\u001b[1;32m     50\u001b[0m             \u001b[0;34m(\u001b[0m\u001b[0mpath\u001b[0m \u001b[0;34m/\u001b[0m \u001b[0;34m\"trees\"\u001b[0m\u001b[0;34m)\u001b[0m\u001b[0;34m.\u001b[0m\u001b[0mmkdir\u001b[0m\u001b[0;34m(\u001b[0m\u001b[0mparents\u001b[0m\u001b[0;34m=\u001b[0m\u001b[0;32mTrue\u001b[0m\u001b[0;34m,\u001b[0m \u001b[0mexist_ok\u001b[0m\u001b[0;34m=\u001b[0m\u001b[0;32mTrue\u001b[0m\u001b[0;34m)\u001b[0m\u001b[0;34m\u001b[0m\u001b[0;34m\u001b[0m\u001b[0m\n\u001b[1;32m     51\u001b[0m \u001b[0;34m\u001b[0m\u001b[0m\n",
      "\u001b[0;32m~/.local/miniconda/envs/kissim-app-dev/lib/python3.9/pathlib.py\u001b[0m in \u001b[0;36mmkdir\u001b[0;34m(self, mode, parents, exist_ok)\u001b[0m\n\u001b[1;32m   1325\u001b[0m             \u001b[0;32mif\u001b[0m \u001b[0;32mnot\u001b[0m \u001b[0mparents\u001b[0m \u001b[0;32mor\u001b[0m \u001b[0mself\u001b[0m\u001b[0;34m.\u001b[0m\u001b[0mparent\u001b[0m \u001b[0;34m==\u001b[0m \u001b[0mself\u001b[0m\u001b[0;34m:\u001b[0m\u001b[0;34m\u001b[0m\u001b[0;34m\u001b[0m\u001b[0m\n\u001b[1;32m   1326\u001b[0m                 \u001b[0;32mraise\u001b[0m\u001b[0;34m\u001b[0m\u001b[0;34m\u001b[0m\u001b[0m\n\u001b[0;32m-> 1327\u001b[0;31m             \u001b[0mself\u001b[0m\u001b[0;34m.\u001b[0m\u001b[0mparent\u001b[0m\u001b[0;34m.\u001b[0m\u001b[0mmkdir\u001b[0m\u001b[0;34m(\u001b[0m\u001b[0mparents\u001b[0m\u001b[0;34m=\u001b[0m\u001b[0;32mTrue\u001b[0m\u001b[0;34m,\u001b[0m \u001b[0mexist_ok\u001b[0m\u001b[0;34m=\u001b[0m\u001b[0;32mTrue\u001b[0m\u001b[0;34m)\u001b[0m\u001b[0;34m\u001b[0m\u001b[0;34m\u001b[0m\u001b[0m\n\u001b[0m\u001b[1;32m   1328\u001b[0m             \u001b[0mself\u001b[0m\u001b[0;34m.\u001b[0m\u001b[0mmkdir\u001b[0m\u001b[0;34m(\u001b[0m\u001b[0mmode\u001b[0m\u001b[0;34m,\u001b[0m \u001b[0mparents\u001b[0m\u001b[0;34m=\u001b[0m\u001b[0;32mFalse\u001b[0m\u001b[0;34m,\u001b[0m \u001b[0mexist_ok\u001b[0m\u001b[0;34m=\u001b[0m\u001b[0mexist_ok\u001b[0m\u001b[0;34m)\u001b[0m\u001b[0;34m\u001b[0m\u001b[0;34m\u001b[0m\u001b[0m\n\u001b[1;32m   1329\u001b[0m         \u001b[0;32mexcept\u001b[0m \u001b[0mOSError\u001b[0m\u001b[0;34m:\u001b[0m\u001b[0;34m\u001b[0m\u001b[0;34m\u001b[0m\u001b[0m\n",
      "\u001b[0;32m~/.local/miniconda/envs/kissim-app-dev/lib/python3.9/pathlib.py\u001b[0m in \u001b[0;36mmkdir\u001b[0;34m(self, mode, parents, exist_ok)\u001b[0m\n\u001b[1;32m   1325\u001b[0m             \u001b[0;32mif\u001b[0m \u001b[0;32mnot\u001b[0m \u001b[0mparents\u001b[0m \u001b[0;32mor\u001b[0m \u001b[0mself\u001b[0m\u001b[0;34m.\u001b[0m\u001b[0mparent\u001b[0m \u001b[0;34m==\u001b[0m \u001b[0mself\u001b[0m\u001b[0;34m:\u001b[0m\u001b[0;34m\u001b[0m\u001b[0;34m\u001b[0m\u001b[0m\n\u001b[1;32m   1326\u001b[0m                 \u001b[0;32mraise\u001b[0m\u001b[0;34m\u001b[0m\u001b[0;34m\u001b[0m\u001b[0m\n\u001b[0;32m-> 1327\u001b[0;31m             \u001b[0mself\u001b[0m\u001b[0;34m.\u001b[0m\u001b[0mparent\u001b[0m\u001b[0;34m.\u001b[0m\u001b[0mmkdir\u001b[0m\u001b[0;34m(\u001b[0m\u001b[0mparents\u001b[0m\u001b[0;34m=\u001b[0m\u001b[0;32mTrue\u001b[0m\u001b[0;34m,\u001b[0m \u001b[0mexist_ok\u001b[0m\u001b[0;34m=\u001b[0m\u001b[0;32mTrue\u001b[0m\u001b[0;34m)\u001b[0m\u001b[0;34m\u001b[0m\u001b[0;34m\u001b[0m\u001b[0m\n\u001b[0m\u001b[1;32m   1328\u001b[0m             \u001b[0mself\u001b[0m\u001b[0;34m.\u001b[0m\u001b[0mmkdir\u001b[0m\u001b[0;34m(\u001b[0m\u001b[0mmode\u001b[0m\u001b[0;34m,\u001b[0m \u001b[0mparents\u001b[0m\u001b[0;34m=\u001b[0m\u001b[0;32mFalse\u001b[0m\u001b[0;34m,\u001b[0m \u001b[0mexist_ok\u001b[0m\u001b[0;34m=\u001b[0m\u001b[0mexist_ok\u001b[0m\u001b[0;34m)\u001b[0m\u001b[0;34m\u001b[0m\u001b[0;34m\u001b[0m\u001b[0m\n\u001b[1;32m   1329\u001b[0m         \u001b[0;32mexcept\u001b[0m \u001b[0mOSError\u001b[0m\u001b[0;34m:\u001b[0m\u001b[0;34m\u001b[0m\u001b[0;34m\u001b[0m\u001b[0m\n",
      "\u001b[0;32m~/.local/miniconda/envs/kissim-app-dev/lib/python3.9/pathlib.py\u001b[0m in \u001b[0;36mmkdir\u001b[0;34m(self, mode, parents, exist_ok)\u001b[0m\n\u001b[1;32m   1325\u001b[0m             \u001b[0;32mif\u001b[0m \u001b[0;32mnot\u001b[0m \u001b[0mparents\u001b[0m \u001b[0;32mor\u001b[0m \u001b[0mself\u001b[0m\u001b[0;34m.\u001b[0m\u001b[0mparent\u001b[0m \u001b[0;34m==\u001b[0m \u001b[0mself\u001b[0m\u001b[0;34m:\u001b[0m\u001b[0;34m\u001b[0m\u001b[0;34m\u001b[0m\u001b[0m\n\u001b[1;32m   1326\u001b[0m                 \u001b[0;32mraise\u001b[0m\u001b[0;34m\u001b[0m\u001b[0;34m\u001b[0m\u001b[0m\n\u001b[0;32m-> 1327\u001b[0;31m             \u001b[0mself\u001b[0m\u001b[0;34m.\u001b[0m\u001b[0mparent\u001b[0m\u001b[0;34m.\u001b[0m\u001b[0mmkdir\u001b[0m\u001b[0;34m(\u001b[0m\u001b[0mparents\u001b[0m\u001b[0;34m=\u001b[0m\u001b[0;32mTrue\u001b[0m\u001b[0;34m,\u001b[0m \u001b[0mexist_ok\u001b[0m\u001b[0;34m=\u001b[0m\u001b[0;32mTrue\u001b[0m\u001b[0;34m)\u001b[0m\u001b[0;34m\u001b[0m\u001b[0;34m\u001b[0m\u001b[0m\n\u001b[0m\u001b[1;32m   1328\u001b[0m             \u001b[0mself\u001b[0m\u001b[0;34m.\u001b[0m\u001b[0mmkdir\u001b[0m\u001b[0;34m(\u001b[0m\u001b[0mmode\u001b[0m\u001b[0;34m,\u001b[0m \u001b[0mparents\u001b[0m\u001b[0;34m=\u001b[0m\u001b[0;32mFalse\u001b[0m\u001b[0;34m,\u001b[0m \u001b[0mexist_ok\u001b[0m\u001b[0;34m=\u001b[0m\u001b[0mexist_ok\u001b[0m\u001b[0;34m)\u001b[0m\u001b[0;34m\u001b[0m\u001b[0;34m\u001b[0m\u001b[0m\n\u001b[1;32m   1329\u001b[0m         \u001b[0;32mexcept\u001b[0m \u001b[0mOSError\u001b[0m\u001b[0;34m:\u001b[0m\u001b[0;34m\u001b[0m\u001b[0;34m\u001b[0m\u001b[0m\n",
      "\u001b[0;32m~/.local/miniconda/envs/kissim-app-dev/lib/python3.9/pathlib.py\u001b[0m in \u001b[0;36mmkdir\u001b[0;34m(self, mode, parents, exist_ok)\u001b[0m\n\u001b[1;32m   1321\u001b[0m         \"\"\"\n\u001b[1;32m   1322\u001b[0m         \u001b[0;32mtry\u001b[0m\u001b[0;34m:\u001b[0m\u001b[0;34m\u001b[0m\u001b[0;34m\u001b[0m\u001b[0m\n\u001b[0;32m-> 1323\u001b[0;31m             \u001b[0mself\u001b[0m\u001b[0;34m.\u001b[0m\u001b[0m_accessor\u001b[0m\u001b[0;34m.\u001b[0m\u001b[0mmkdir\u001b[0m\u001b[0;34m(\u001b[0m\u001b[0mself\u001b[0m\u001b[0;34m,\u001b[0m \u001b[0mmode\u001b[0m\u001b[0;34m)\u001b[0m\u001b[0;34m\u001b[0m\u001b[0;34m\u001b[0m\u001b[0m\n\u001b[0m\u001b[1;32m   1324\u001b[0m         \u001b[0;32mexcept\u001b[0m \u001b[0mFileNotFoundError\u001b[0m\u001b[0;34m:\u001b[0m\u001b[0;34m\u001b[0m\u001b[0;34m\u001b[0m\u001b[0m\n\u001b[1;32m   1325\u001b[0m             \u001b[0;32mif\u001b[0m \u001b[0;32mnot\u001b[0m \u001b[0mparents\u001b[0m \u001b[0;32mor\u001b[0m \u001b[0mself\u001b[0m\u001b[0;34m.\u001b[0m\u001b[0mparent\u001b[0m \u001b[0;34m==\u001b[0m \u001b[0mself\u001b[0m\u001b[0;34m:\u001b[0m\u001b[0;34m\u001b[0m\u001b[0;34m\u001b[0m\u001b[0m\n",
      "\u001b[0;31mFileExistsError\u001b[0m: [Errno 17] File exists: '/home/dominique/Documents/GitHub/kissim_app/notebooks/007_kissim_setups/../../results_archive'"
     ]
    }
   ],
   "source": [
    "%%time\n",
    "generate_trees()"
   ]
  },
  {
   "cell_type": "code",
   "execution_count": 10,
   "id": "6a73e710-e94b-491d-a12b-229700187fa5",
   "metadata": {
    "execution": {
     "iopub.execute_input": "2021-09-16T19:50:34.578703Z",
     "iopub.status.busy": "2021-09-16T19:50:34.578225Z",
     "iopub.status.idle": "2021-09-16T19:50:34.599744Z",
     "shell.execute_reply": "2021-09-16T19:50:34.599997Z"
    }
   },
   "outputs": [
    {
     "data": {
      "text/markdown": [
       "## Run 20210812-1"
      ],
      "text/plain": [
       "<IPython.core.display.Markdown object>"
      ]
     },
     "metadata": {},
     "output_type": "display_data"
    },
    {
     "data": {
      "text/markdown": [
       "### Weighing 15"
      ],
      "text/plain": [
       "<IPython.core.display.Markdown object>"
      ]
     },
     "metadata": {},
     "output_type": "display_data"
    },
    {
     "data": {
      "text/markdown": [
       "##### ward"
      ],
      "text/plain": [
       "<IPython.core.display.Markdown object>"
      ]
     },
     "metadata": {},
     "output_type": "display_data"
    },
    {
     "ename": "FileNotFoundError",
     "evalue": "[Errno 2] No such file or directory: '/home/dominique/Documents/GitHub/kissim_app/notebooks/007_kissim_setups/../../results_archive/20210812-1/dfg_in/trees/tree_0.8_15_ward.tree'",
     "output_type": "error",
     "traceback": [
      "\u001b[0;31m---------------------------------------------------------------------------\u001b[0m",
      "\u001b[0;31mFileNotFoundError\u001b[0m                         Traceback (most recent call last)",
      "\u001b[0;32m<timed eval>\u001b[0m in \u001b[0;36m<module>\u001b[0;34m\u001b[0m\n",
      "\u001b[0;32m/tmp/ipykernel_2138/940827356.py\u001b[0m in \u001b[0;36mvisualize_trees\u001b[0;34m(path_results, run_ids, weighting_schemes, dfg_conformations, clustering_methods, fig_height, label_colors, coverage_min)\u001b[0m\n\u001b[1;32m     21\u001b[0m                         \u001b[0;34m/\u001b[0m \u001b[0;34mf\"tree_{coverage_min}_{weighting}_{cmethod}.tree\"\u001b[0m\u001b[0;34m\u001b[0m\u001b[0;34m\u001b[0m\u001b[0m\n\u001b[1;32m     22\u001b[0m                     )\n\u001b[0;32m---> 23\u001b[0;31m                     \u001b[0mkissim_tree\u001b[0m \u001b[0;34m=\u001b[0m \u001b[0mPhylo\u001b[0m\u001b[0;34m.\u001b[0m\u001b[0mread\u001b[0m\u001b[0;34m(\u001b[0m\u001b[0mpath_newick\u001b[0m\u001b[0;34m,\u001b[0m \u001b[0;34m\"newick\"\u001b[0m\u001b[0;34m)\u001b[0m\u001b[0;34m\u001b[0m\u001b[0;34m\u001b[0m\u001b[0m\n\u001b[0m\u001b[1;32m     24\u001b[0m                     \u001b[0mkissim_tree\u001b[0m\u001b[0;34m.\u001b[0m\u001b[0mladderize\u001b[0m\u001b[0;34m(\u001b[0m\u001b[0;34m)\u001b[0m  \u001b[0;31m# Flip branches so deeper clades are displayed at top\u001b[0m\u001b[0;34m\u001b[0m\u001b[0;34m\u001b[0m\u001b[0m\n\u001b[1;32m     25\u001b[0m \u001b[0;34m\u001b[0m\u001b[0m\n",
      "\u001b[0;32m~/.local/miniconda/envs/kissim-app-dev/lib/python3.9/site-packages/Bio/Phylo/_io.py\u001b[0m in \u001b[0;36mread\u001b[0;34m(file, format, **kwargs)\u001b[0m\n\u001b[1;32m     58\u001b[0m     \u001b[0;32mtry\u001b[0m\u001b[0;34m:\u001b[0m\u001b[0;34m\u001b[0m\u001b[0;34m\u001b[0m\u001b[0m\n\u001b[1;32m     59\u001b[0m         \u001b[0mtree_gen\u001b[0m \u001b[0;34m=\u001b[0m \u001b[0mparse\u001b[0m\u001b[0;34m(\u001b[0m\u001b[0mfile\u001b[0m\u001b[0;34m,\u001b[0m \u001b[0mformat\u001b[0m\u001b[0;34m,\u001b[0m \u001b[0;34m**\u001b[0m\u001b[0mkwargs\u001b[0m\u001b[0;34m)\u001b[0m\u001b[0;34m\u001b[0m\u001b[0;34m\u001b[0m\u001b[0m\n\u001b[0;32m---> 60\u001b[0;31m         \u001b[0mtree\u001b[0m \u001b[0;34m=\u001b[0m \u001b[0mnext\u001b[0m\u001b[0;34m(\u001b[0m\u001b[0mtree_gen\u001b[0m\u001b[0;34m)\u001b[0m\u001b[0;34m\u001b[0m\u001b[0;34m\u001b[0m\u001b[0m\n\u001b[0m\u001b[1;32m     61\u001b[0m     \u001b[0;32mexcept\u001b[0m \u001b[0mStopIteration\u001b[0m\u001b[0;34m:\u001b[0m\u001b[0;34m\u001b[0m\u001b[0;34m\u001b[0m\u001b[0m\n\u001b[1;32m     62\u001b[0m         \u001b[0;32mraise\u001b[0m \u001b[0mValueError\u001b[0m\u001b[0;34m(\u001b[0m\u001b[0;34m\"There are no trees in this file.\"\u001b[0m\u001b[0;34m)\u001b[0m \u001b[0;32mfrom\u001b[0m \u001b[0;32mNone\u001b[0m\u001b[0;34m\u001b[0m\u001b[0;34m\u001b[0m\u001b[0m\n",
      "\u001b[0;32m~/.local/miniconda/envs/kissim-app-dev/lib/python3.9/site-packages/Bio/Phylo/_io.py\u001b[0m in \u001b[0;36mparse\u001b[0;34m(file, format, **kwargs)\u001b[0m\n\u001b[1;32m     46\u001b[0m \u001b[0;34m\u001b[0m\u001b[0m\n\u001b[1;32m     47\u001b[0m     \"\"\"\n\u001b[0;32m---> 48\u001b[0;31m     \u001b[0;32mwith\u001b[0m \u001b[0mFile\u001b[0m\u001b[0;34m.\u001b[0m\u001b[0mas_handle\u001b[0m\u001b[0;34m(\u001b[0m\u001b[0mfile\u001b[0m\u001b[0;34m)\u001b[0m \u001b[0;32mas\u001b[0m \u001b[0mfp\u001b[0m\u001b[0;34m:\u001b[0m\u001b[0;34m\u001b[0m\u001b[0;34m\u001b[0m\u001b[0m\n\u001b[0m\u001b[1;32m     49\u001b[0m         \u001b[0;32myield\u001b[0m \u001b[0;32mfrom\u001b[0m \u001b[0mgetattr\u001b[0m\u001b[0;34m(\u001b[0m\u001b[0msupported_formats\u001b[0m\u001b[0;34m[\u001b[0m\u001b[0mformat\u001b[0m\u001b[0;34m]\u001b[0m\u001b[0;34m,\u001b[0m \u001b[0;34m\"parse\"\u001b[0m\u001b[0;34m)\u001b[0m\u001b[0;34m(\u001b[0m\u001b[0mfp\u001b[0m\u001b[0;34m,\u001b[0m \u001b[0;34m**\u001b[0m\u001b[0mkwargs\u001b[0m\u001b[0;34m)\u001b[0m\u001b[0;34m\u001b[0m\u001b[0;34m\u001b[0m\u001b[0m\n\u001b[1;32m     50\u001b[0m \u001b[0;34m\u001b[0m\u001b[0m\n",
      "\u001b[0;32m~/.local/miniconda/envs/kissim-app-dev/lib/python3.9/contextlib.py\u001b[0m in \u001b[0;36m__enter__\u001b[0;34m(self)\u001b[0m\n\u001b[1;32m    117\u001b[0m         \u001b[0;32mdel\u001b[0m \u001b[0mself\u001b[0m\u001b[0;34m.\u001b[0m\u001b[0margs\u001b[0m\u001b[0;34m,\u001b[0m \u001b[0mself\u001b[0m\u001b[0;34m.\u001b[0m\u001b[0mkwds\u001b[0m\u001b[0;34m,\u001b[0m \u001b[0mself\u001b[0m\u001b[0;34m.\u001b[0m\u001b[0mfunc\u001b[0m\u001b[0;34m\u001b[0m\u001b[0;34m\u001b[0m\u001b[0m\n\u001b[1;32m    118\u001b[0m         \u001b[0;32mtry\u001b[0m\u001b[0;34m:\u001b[0m\u001b[0;34m\u001b[0m\u001b[0;34m\u001b[0m\u001b[0m\n\u001b[0;32m--> 119\u001b[0;31m             \u001b[0;32mreturn\u001b[0m \u001b[0mnext\u001b[0m\u001b[0;34m(\u001b[0m\u001b[0mself\u001b[0m\u001b[0;34m.\u001b[0m\u001b[0mgen\u001b[0m\u001b[0;34m)\u001b[0m\u001b[0;34m\u001b[0m\u001b[0;34m\u001b[0m\u001b[0m\n\u001b[0m\u001b[1;32m    120\u001b[0m         \u001b[0;32mexcept\u001b[0m \u001b[0mStopIteration\u001b[0m\u001b[0;34m:\u001b[0m\u001b[0;34m\u001b[0m\u001b[0;34m\u001b[0m\u001b[0m\n\u001b[1;32m    121\u001b[0m             \u001b[0;32mraise\u001b[0m \u001b[0mRuntimeError\u001b[0m\u001b[0;34m(\u001b[0m\u001b[0;34m\"generator didn't yield\"\u001b[0m\u001b[0;34m)\u001b[0m \u001b[0;32mfrom\u001b[0m \u001b[0;32mNone\u001b[0m\u001b[0;34m\u001b[0m\u001b[0;34m\u001b[0m\u001b[0m\n",
      "\u001b[0;32m~/.local/miniconda/envs/kissim-app-dev/lib/python3.9/site-packages/Bio/File.py\u001b[0m in \u001b[0;36mas_handle\u001b[0;34m(handleish, mode, **kwargs)\u001b[0m\n\u001b[1;32m     69\u001b[0m     \"\"\"\n\u001b[1;32m     70\u001b[0m     \u001b[0;32mtry\u001b[0m\u001b[0;34m:\u001b[0m\u001b[0;34m\u001b[0m\u001b[0;34m\u001b[0m\u001b[0m\n\u001b[0;32m---> 71\u001b[0;31m         \u001b[0;32mwith\u001b[0m \u001b[0mopen\u001b[0m\u001b[0;34m(\u001b[0m\u001b[0mhandleish\u001b[0m\u001b[0;34m,\u001b[0m \u001b[0mmode\u001b[0m\u001b[0;34m,\u001b[0m \u001b[0;34m**\u001b[0m\u001b[0mkwargs\u001b[0m\u001b[0;34m)\u001b[0m \u001b[0;32mas\u001b[0m \u001b[0mfp\u001b[0m\u001b[0;34m:\u001b[0m\u001b[0;34m\u001b[0m\u001b[0;34m\u001b[0m\u001b[0m\n\u001b[0m\u001b[1;32m     72\u001b[0m             \u001b[0;32myield\u001b[0m \u001b[0mfp\u001b[0m\u001b[0;34m\u001b[0m\u001b[0;34m\u001b[0m\u001b[0m\n\u001b[1;32m     73\u001b[0m     \u001b[0;32mexcept\u001b[0m \u001b[0mTypeError\u001b[0m\u001b[0;34m:\u001b[0m\u001b[0;34m\u001b[0m\u001b[0;34m\u001b[0m\u001b[0m\n",
      "\u001b[0;31mFileNotFoundError\u001b[0m: [Errno 2] No such file or directory: '/home/dominique/Documents/GitHub/kissim_app/notebooks/007_kissim_setups/../../results_archive/20210812-1/dfg_in/trees/tree_0.8_15_ward.tree'"
     ]
    }
   ],
   "source": [
    "%%time\n",
    "visualize_trees()"
   ]
  }
 ],
 "metadata": {
  "kernelspec": {
   "display_name": "Python 3",
   "language": "python",
   "name": "python3"
  },
  "language_info": {
   "codemirror_mode": {
    "name": "ipython",
    "version": 3
   },
   "file_extension": ".py",
   "mimetype": "text/x-python",
   "name": "python",
   "nbconvert_exporter": "python",
   "pygments_lexer": "ipython3",
   "version": "3.9.7"
  },
  "widgets": {
   "application/vnd.jupyter.widget-state+json": {
    "state": {
     "6cb2767d3d9148bfa3002518f8c2de66": {
      "model_module": "@jupyter-widgets/base",
      "model_module_version": "1.2.0",
      "model_name": "LayoutModel",
      "state": {
       "_model_module": "@jupyter-widgets/base",
       "_model_module_version": "1.2.0",
       "_model_name": "LayoutModel",
       "_view_count": null,
       "_view_module": "@jupyter-widgets/base",
       "_view_module_version": "1.2.0",
       "_view_name": "LayoutView",
       "align_content": null,
       "align_items": null,
       "align_self": null,
       "border": null,
       "bottom": null,
       "display": null,
       "flex": null,
       "flex_flow": null,
       "grid_area": null,
       "grid_auto_columns": null,
       "grid_auto_flow": null,
       "grid_auto_rows": null,
       "grid_column": null,
       "grid_gap": null,
       "grid_row": null,
       "grid_template_areas": null,
       "grid_template_columns": null,
       "grid_template_rows": null,
       "height": null,
       "justify_content": null,
       "justify_items": null,
       "left": null,
       "margin": null,
       "max_height": null,
       "max_width": null,
       "min_height": null,
       "min_width": null,
       "object_fit": null,
       "object_position": null,
       "order": null,
       "overflow": null,
       "overflow_x": null,
       "overflow_y": null,
       "padding": null,
       "right": null,
       "top": null,
       "visibility": null,
       "width": null
      }
     },
     "9e13bb642a034a9bace7a410a0fb7299": {
      "model_module": "nglview-js-widgets",
      "model_module_version": "3.0.1",
      "model_name": "ColormakerRegistryModel",
      "state": {
       "_dom_classes": [],
       "_model_module": "nglview-js-widgets",
       "_model_module_version": "3.0.1",
       "_model_name": "ColormakerRegistryModel",
       "_msg_ar": [],
       "_msg_q": [],
       "_ready": false,
       "_view_count": null,
       "_view_module": "nglview-js-widgets",
       "_view_module_version": "3.0.1",
       "_view_name": "ColormakerRegistryView",
       "layout": "IPY_MODEL_6cb2767d3d9148bfa3002518f8c2de66"
      }
     }
    },
    "version_major": 2,
    "version_minor": 0
   }
  }
 },
 "nbformat": 4,
 "nbformat_minor": 5
}
