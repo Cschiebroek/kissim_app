{
 "cells": [
  {
   "cell_type": "markdown",
   "id": "fa0c08b4-d542-4ca5-95eb-53de0b5ae119",
   "metadata": {},
   "source": [
    "# Summary of AUC distributions and tree distances\n",
    "\n",
    "Based on for the 20210810 runs."
   ]
  },
  {
   "cell_type": "code",
   "execution_count": 1,
   "id": "e5880b78-8570-424a-b628-d3aeaf1f58a1",
   "metadata": {},
   "outputs": [],
   "source": [
    "from pathlib import Path\n",
    "\n",
    "from IPython.display import display, HTML\n",
    "import pandas as pd\n",
    "import seaborn as sns\n",
    "from Bio import Phylo"
   ]
  },
  {
   "cell_type": "code",
   "execution_count": 2,
   "id": "81aed0b4-b94e-40a9-8055-9b2f8021801c",
   "metadata": {},
   "outputs": [],
   "source": [
    "cm = sns.light_palette(\"blue\", as_cmap=True)"
   ]
  },
  {
   "cell_type": "code",
   "execution_count": 3,
   "id": "b098dd62-c9b0-4d95-b73c-5ce05100613e",
   "metadata": {},
   "outputs": [],
   "source": [
    "HERE = Path(_dh[-1])  # noqa: F821\n",
    "RESULTS = HERE / f\"../../results_archive\""
   ]
  },
  {
   "cell_type": "markdown",
   "id": "08d0b280-5a2a-4c5c-a6f0-f7ff55d3e290",
   "metadata": {},
   "source": [
    "## Run IDs"
   ]
  },
  {
   "cell_type": "code",
   "execution_count": 4,
   "id": "cc6ffc9d-bc95-4c50-a479-542184af75a0",
   "metadata": {},
   "outputs": [],
   "source": [
    "RUN_IDS = [\n",
    "    \"20210810-1\",\n",
    "    \"20210810-2\",\n",
    "]\n",
    "WEIGHTING_SCHEMES = [\"15\", \"110\", \"101\", \"100\"]\n",
    "CLUSTERING_METHODS = [\"ward\", \"average\", \"weighted\"]"
   ]
  },
  {
   "cell_type": "markdown",
   "id": "0c7bf156-8eca-4ada-876b-8f1010e39907",
   "metadata": {},
   "source": [
    "## AUCs per run/weighting"
   ]
  },
  {
   "cell_type": "code",
   "execution_count": 5,
   "id": "faf34dd5-2a89-4cae-b196-1531351cc9ff",
   "metadata": {},
   "outputs": [],
   "source": [
    "auc_dfs = {}\n",
    "mean_df = []\n",
    "median_df = []\n",
    "std_df = []\n",
    "for run_id in RUN_IDS:\n",
    "    path = RESULTS / f\"{run_id}/dfg_in\"\n",
    "    auc_df = pd.read_csv(path / \"auc.csv\") \n",
    "    auc_dfs[run_id] = auc_df[[\"15\", \"100\", \"110\", \"101\", \"111\"]]\n",
    "    \n",
    "    mean = auc_dfs[run_id].describe().loc[\"mean\", :]\n",
    "    mean.name = run_id\n",
    "    mean_df.append(mean)\n",
    "    \n",
    "    median = auc_dfs[run_id].describe().loc[\"50%\", :]\n",
    "    median.name = run_id\n",
    "    median_df.append(median)\n",
    "    \n",
    "    std = auc_dfs[run_id].describe().loc[\"std\", :]\n",
    "    std.name = run_id\n",
    "    std_df.append(std)\n",
    "mean_df = pd.concat(mean_df, axis=1)\n",
    "median_df = pd.concat(median_df, axis=1)\n",
    "std_df = pd.concat(std_df, axis=1)"
   ]
  },
  {
   "cell_type": "markdown",
   "id": "6c88e552-26eb-400f-98dc-adbe5451d424",
   "metadata": {},
   "source": [
    "### Mean"
   ]
  },
  {
   "cell_type": "code",
   "execution_count": 6,
   "id": "78c7a77c-a375-4a29-9eba-6f09255e4817",
   "metadata": {},
   "outputs": [
    {
     "data": {
      "text/html": [
       "<style  type=\"text/css\" >\n",
       "#T_197a6_row0_col0{\n",
       "            background-color:  #6565fa;\n",
       "            color:  #000000;\n",
       "        }#T_197a6_row0_col1,#T_197a6_row2_col0{\n",
       "            background-color:  #3333fc;\n",
       "            color:  #f1f1f1;\n",
       "        }#T_197a6_row1_col0,#T_197a6_row2_col1{\n",
       "            background-color:  #0000ff;\n",
       "            color:  #f1f1f1;\n",
       "        }#T_197a6_row1_col1{\n",
       "            background-color:  #8c8cf8;\n",
       "            color:  #000000;\n",
       "        }#T_197a6_row3_col0,#T_197a6_row3_col1{\n",
       "            background-color:  #f0f0f3;\n",
       "            color:  #000000;\n",
       "        }#T_197a6_row4_col0{\n",
       "            background-color:  #e3e3f3;\n",
       "            color:  #000000;\n",
       "        }#T_197a6_row4_col1{\n",
       "            background-color:  #9090f8;\n",
       "            color:  #000000;\n",
       "        }</style><table id=\"T_197a6_\" ><thead>    <tr>        <th class=\"blank level0\" ></th>        <th class=\"col_heading level0 col0\" >20210810-1</th>        <th class=\"col_heading level0 col1\" >20210810-2</th>    </tr></thead><tbody>\n",
       "                <tr>\n",
       "                        <th id=\"T_197a6_level0_row0\" class=\"row_heading level0 row0\" >15</th>\n",
       "                        <td id=\"T_197a6_row0_col0\" class=\"data row0 col0\" >0.732158</td>\n",
       "                        <td id=\"T_197a6_row0_col1\" class=\"data row0 col1\" >0.734549</td>\n",
       "            </tr>\n",
       "            <tr>\n",
       "                        <th id=\"T_197a6_level0_row1\" class=\"row_heading level0 row1\" >100</th>\n",
       "                        <td id=\"T_197a6_row1_col0\" class=\"data row1 col0\" >0.734574</td>\n",
       "                        <td id=\"T_197a6_row1_col1\" class=\"data row1 col1\" >0.733362</td>\n",
       "            </tr>\n",
       "            <tr>\n",
       "                        <th id=\"T_197a6_level0_row2\" class=\"row_heading level0 row2\" >110</th>\n",
       "                        <td id=\"T_197a6_row2_col0\" class=\"data row2 col0\" >0.733351</td>\n",
       "                        <td id=\"T_197a6_row2_col1\" class=\"data row2 col1\" >0.735241</td>\n",
       "            </tr>\n",
       "            <tr>\n",
       "                        <th id=\"T_197a6_level0_row3\" class=\"row_heading level0 row3\" >101</th>\n",
       "                        <td id=\"T_197a6_row3_col0\" class=\"data row3 col0\" >0.728847</td>\n",
       "                        <td id=\"T_197a6_row3_col1\" class=\"data row3 col1\" >0.732000</td>\n",
       "            </tr>\n",
       "            <tr>\n",
       "                        <th id=\"T_197a6_level0_row4\" class=\"row_heading level0 row4\" >111</th>\n",
       "                        <td id=\"T_197a6_row4_col0\" class=\"data row4 col0\" >0.729180</td>\n",
       "                        <td id=\"T_197a6_row4_col1\" class=\"data row4 col1\" >0.733298</td>\n",
       "            </tr>\n",
       "    </tbody></table>"
      ],
      "text/plain": [
       "<pandas.io.formats.style.Styler at 0x7f3190a04730>"
      ]
     },
     "execution_count": 6,
     "metadata": {},
     "output_type": "execute_result"
    }
   ],
   "source": [
    "mean_df.style.background_gradient(cmap=cm)"
   ]
  },
  {
   "cell_type": "code",
   "execution_count": 7,
   "id": "9a6dd559-1975-4c23-967b-51146a1d1f2b",
   "metadata": {},
   "outputs": [
    {
     "data": {
      "text/html": [
       "<style  type=\"text/css\" >\n",
       "#T_04fa1_row2_col1{\n",
       "            background-color:  yellow;\n",
       "        }</style><table id=\"T_04fa1_\" ><thead>    <tr>        <th class=\"blank level0\" ></th>        <th class=\"col_heading level0 col0\" >20210810-1</th>        <th class=\"col_heading level0 col1\" >20210810-2</th>    </tr></thead><tbody>\n",
       "                <tr>\n",
       "                        <th id=\"T_04fa1_level0_row0\" class=\"row_heading level0 row0\" >15</th>\n",
       "                        <td id=\"T_04fa1_row0_col0\" class=\"data row0 col0\" >0.732158</td>\n",
       "                        <td id=\"T_04fa1_row0_col1\" class=\"data row0 col1\" >0.734549</td>\n",
       "            </tr>\n",
       "            <tr>\n",
       "                        <th id=\"T_04fa1_level0_row1\" class=\"row_heading level0 row1\" >100</th>\n",
       "                        <td id=\"T_04fa1_row1_col0\" class=\"data row1 col0\" >0.734574</td>\n",
       "                        <td id=\"T_04fa1_row1_col1\" class=\"data row1 col1\" >0.733362</td>\n",
       "            </tr>\n",
       "            <tr>\n",
       "                        <th id=\"T_04fa1_level0_row2\" class=\"row_heading level0 row2\" >110</th>\n",
       "                        <td id=\"T_04fa1_row2_col0\" class=\"data row2 col0\" >0.733351</td>\n",
       "                        <td id=\"T_04fa1_row2_col1\" class=\"data row2 col1\" >0.735241</td>\n",
       "            </tr>\n",
       "            <tr>\n",
       "                        <th id=\"T_04fa1_level0_row3\" class=\"row_heading level0 row3\" >101</th>\n",
       "                        <td id=\"T_04fa1_row3_col0\" class=\"data row3 col0\" >0.728847</td>\n",
       "                        <td id=\"T_04fa1_row3_col1\" class=\"data row3 col1\" >0.732000</td>\n",
       "            </tr>\n",
       "            <tr>\n",
       "                        <th id=\"T_04fa1_level0_row4\" class=\"row_heading level0 row4\" >111</th>\n",
       "                        <td id=\"T_04fa1_row4_col0\" class=\"data row4 col0\" >0.729180</td>\n",
       "                        <td id=\"T_04fa1_row4_col1\" class=\"data row4 col1\" >0.733298</td>\n",
       "            </tr>\n",
       "    </tbody></table>"
      ],
      "text/plain": [
       "<pandas.io.formats.style.Styler at 0x7f3190a04a60>"
      ]
     },
     "execution_count": 7,
     "metadata": {},
     "output_type": "execute_result"
    }
   ],
   "source": [
    "mean_df.style.highlight_max(axis=None, color='yellow')"
   ]
  },
  {
   "cell_type": "code",
   "execution_count": 8,
   "id": "4d85b24d-9189-4ada-acc2-0b3c06d42a23",
   "metadata": {},
   "outputs": [
    {
     "data": {
      "text/html": [
       "<style  type=\"text/css\" >\n",
       "#T_31228_row1_col0,#T_31228_row2_col1{\n",
       "            background-color:  yellow;\n",
       "        }</style><table id=\"T_31228_\" ><thead>    <tr>        <th class=\"blank level0\" ></th>        <th class=\"col_heading level0 col0\" >20210810-1</th>        <th class=\"col_heading level0 col1\" >20210810-2</th>    </tr></thead><tbody>\n",
       "                <tr>\n",
       "                        <th id=\"T_31228_level0_row0\" class=\"row_heading level0 row0\" >15</th>\n",
       "                        <td id=\"T_31228_row0_col0\" class=\"data row0 col0\" >0.732158</td>\n",
       "                        <td id=\"T_31228_row0_col1\" class=\"data row0 col1\" >0.734549</td>\n",
       "            </tr>\n",
       "            <tr>\n",
       "                        <th id=\"T_31228_level0_row1\" class=\"row_heading level0 row1\" >100</th>\n",
       "                        <td id=\"T_31228_row1_col0\" class=\"data row1 col0\" >0.734574</td>\n",
       "                        <td id=\"T_31228_row1_col1\" class=\"data row1 col1\" >0.733362</td>\n",
       "            </tr>\n",
       "            <tr>\n",
       "                        <th id=\"T_31228_level0_row2\" class=\"row_heading level0 row2\" >110</th>\n",
       "                        <td id=\"T_31228_row2_col0\" class=\"data row2 col0\" >0.733351</td>\n",
       "                        <td id=\"T_31228_row2_col1\" class=\"data row2 col1\" >0.735241</td>\n",
       "            </tr>\n",
       "            <tr>\n",
       "                        <th id=\"T_31228_level0_row3\" class=\"row_heading level0 row3\" >101</th>\n",
       "                        <td id=\"T_31228_row3_col0\" class=\"data row3 col0\" >0.728847</td>\n",
       "                        <td id=\"T_31228_row3_col1\" class=\"data row3 col1\" >0.732000</td>\n",
       "            </tr>\n",
       "            <tr>\n",
       "                        <th id=\"T_31228_level0_row4\" class=\"row_heading level0 row4\" >111</th>\n",
       "                        <td id=\"T_31228_row4_col0\" class=\"data row4 col0\" >0.729180</td>\n",
       "                        <td id=\"T_31228_row4_col1\" class=\"data row4 col1\" >0.733298</td>\n",
       "            </tr>\n",
       "    </tbody></table>"
      ],
      "text/plain": [
       "<pandas.io.formats.style.Styler at 0x7f3190a04070>"
      ]
     },
     "execution_count": 8,
     "metadata": {},
     "output_type": "execute_result"
    }
   ],
   "source": [
    "mean_df.style.highlight_max(axis=0, color='yellow')"
   ]
  },
  {
   "cell_type": "code",
   "execution_count": 9,
   "id": "96a16baa-56cb-4ca9-9437-0ea14db1683e",
   "metadata": {},
   "outputs": [
    {
     "data": {
      "text/html": [
       "<style  type=\"text/css\" >\n",
       "#T_c96f7_row0_col1,#T_c96f7_row1_col0,#T_c96f7_row2_col1,#T_c96f7_row3_col1,#T_c96f7_row4_col1{\n",
       "            background-color:  yellow;\n",
       "        }</style><table id=\"T_c96f7_\" ><thead>    <tr>        <th class=\"blank level0\" ></th>        <th class=\"col_heading level0 col0\" >20210810-1</th>        <th class=\"col_heading level0 col1\" >20210810-2</th>    </tr></thead><tbody>\n",
       "                <tr>\n",
       "                        <th id=\"T_c96f7_level0_row0\" class=\"row_heading level0 row0\" >15</th>\n",
       "                        <td id=\"T_c96f7_row0_col0\" class=\"data row0 col0\" >0.732158</td>\n",
       "                        <td id=\"T_c96f7_row0_col1\" class=\"data row0 col1\" >0.734549</td>\n",
       "            </tr>\n",
       "            <tr>\n",
       "                        <th id=\"T_c96f7_level0_row1\" class=\"row_heading level0 row1\" >100</th>\n",
       "                        <td id=\"T_c96f7_row1_col0\" class=\"data row1 col0\" >0.734574</td>\n",
       "                        <td id=\"T_c96f7_row1_col1\" class=\"data row1 col1\" >0.733362</td>\n",
       "            </tr>\n",
       "            <tr>\n",
       "                        <th id=\"T_c96f7_level0_row2\" class=\"row_heading level0 row2\" >110</th>\n",
       "                        <td id=\"T_c96f7_row2_col0\" class=\"data row2 col0\" >0.733351</td>\n",
       "                        <td id=\"T_c96f7_row2_col1\" class=\"data row2 col1\" >0.735241</td>\n",
       "            </tr>\n",
       "            <tr>\n",
       "                        <th id=\"T_c96f7_level0_row3\" class=\"row_heading level0 row3\" >101</th>\n",
       "                        <td id=\"T_c96f7_row3_col0\" class=\"data row3 col0\" >0.728847</td>\n",
       "                        <td id=\"T_c96f7_row3_col1\" class=\"data row3 col1\" >0.732000</td>\n",
       "            </tr>\n",
       "            <tr>\n",
       "                        <th id=\"T_c96f7_level0_row4\" class=\"row_heading level0 row4\" >111</th>\n",
       "                        <td id=\"T_c96f7_row4_col0\" class=\"data row4 col0\" >0.729180</td>\n",
       "                        <td id=\"T_c96f7_row4_col1\" class=\"data row4 col1\" >0.733298</td>\n",
       "            </tr>\n",
       "    </tbody></table>"
      ],
      "text/plain": [
       "<pandas.io.formats.style.Styler at 0x7f3190a04520>"
      ]
     },
     "execution_count": 9,
     "metadata": {},
     "output_type": "execute_result"
    }
   ],
   "source": [
    "mean_df.style.highlight_max(axis=1, color='yellow')"
   ]
  },
  {
   "cell_type": "markdown",
   "id": "f17b8948-d921-4f90-ad8d-1232197743ae",
   "metadata": {},
   "source": [
    "### Median"
   ]
  },
  {
   "cell_type": "code",
   "execution_count": 10,
   "id": "0c611d42-d06d-4d8b-9ef5-cf117a7e53eb",
   "metadata": {},
   "outputs": [
    {
     "data": {
      "text/html": [
       "<style  type=\"text/css\" >\n",
       "#T_200c3_row0_col0{\n",
       "            background-color:  #3a3afc;\n",
       "            color:  #f1f1f1;\n",
       "        }#T_200c3_row0_col1,#T_200c3_row1_col1,#T_200c3_row2_col1{\n",
       "            background-color:  #2d2dfd;\n",
       "            color:  #f1f1f1;\n",
       "        }#T_200c3_row1_col0,#T_200c3_row4_col1{\n",
       "            background-color:  #0000ff;\n",
       "            color:  #f1f1f1;\n",
       "        }#T_200c3_row2_col0{\n",
       "            background-color:  #7f7ff9;\n",
       "            color:  #000000;\n",
       "        }#T_200c3_row3_col0,#T_200c3_row3_col1{\n",
       "            background-color:  #f0f0f3;\n",
       "            color:  #000000;\n",
       "        }#T_200c3_row4_col0{\n",
       "            background-color:  #d9d9f4;\n",
       "            color:  #000000;\n",
       "        }</style><table id=\"T_200c3_\" ><thead>    <tr>        <th class=\"blank level0\" ></th>        <th class=\"col_heading level0 col0\" >20210810-1</th>        <th class=\"col_heading level0 col1\" >20210810-2</th>    </tr></thead><tbody>\n",
       "                <tr>\n",
       "                        <th id=\"T_200c3_level0_row0\" class=\"row_heading level0 row0\" >15</th>\n",
       "                        <td id=\"T_200c3_row0_col0\" class=\"data row0 col0\" >0.775239</td>\n",
       "                        <td id=\"T_200c3_row0_col1\" class=\"data row0 col1\" >0.776538</td>\n",
       "            </tr>\n",
       "            <tr>\n",
       "                        <th id=\"T_200c3_level0_row1\" class=\"row_heading level0 row1\" >100</th>\n",
       "                        <td id=\"T_200c3_row1_col0\" class=\"data row1 col0\" >0.779885</td>\n",
       "                        <td id=\"T_200c3_row1_col1\" class=\"data row1 col1\" >0.776538</td>\n",
       "            </tr>\n",
       "            <tr>\n",
       "                        <th id=\"T_200c3_level0_row2\" class=\"row_heading level0 row2\" >110</th>\n",
       "                        <td id=\"T_200c3_row2_col0\" class=\"data row2 col0\" >0.769600</td>\n",
       "                        <td id=\"T_200c3_row2_col1\" class=\"data row2 col1\" >0.776538</td>\n",
       "            </tr>\n",
       "            <tr>\n",
       "                        <th id=\"T_200c3_level0_row3\" class=\"row_heading level0 row3\" >101</th>\n",
       "                        <td id=\"T_200c3_row3_col0\" class=\"data row3 col0\" >0.760425</td>\n",
       "                        <td id=\"T_200c3_row3_col1\" class=\"data row3 col1\" >0.775637</td>\n",
       "            </tr>\n",
       "            <tr>\n",
       "                        <th id=\"T_200c3_level0_row4\" class=\"row_heading level0 row4\" >111</th>\n",
       "                        <td id=\"T_200c3_row4_col0\" class=\"data row4 col0\" >0.762348</td>\n",
       "                        <td id=\"T_200c3_row4_col1\" class=\"data row4 col1\" >0.776748</td>\n",
       "            </tr>\n",
       "    </tbody></table>"
      ],
      "text/plain": [
       "<pandas.io.formats.style.Styler at 0x7f31908d6310>"
      ]
     },
     "execution_count": 10,
     "metadata": {},
     "output_type": "execute_result"
    }
   ],
   "source": [
    "median_df.style.background_gradient(cmap=cm)"
   ]
  },
  {
   "cell_type": "code",
   "execution_count": 11,
   "id": "0a89df56-f130-44f2-9dea-7dad30e4560b",
   "metadata": {},
   "outputs": [
    {
     "data": {
      "text/html": [
       "<style  type=\"text/css\" >\n",
       "#T_3c0eb_row1_col0{\n",
       "            background-color:  yellow;\n",
       "        }</style><table id=\"T_3c0eb_\" ><thead>    <tr>        <th class=\"blank level0\" ></th>        <th class=\"col_heading level0 col0\" >20210810-1</th>        <th class=\"col_heading level0 col1\" >20210810-2</th>    </tr></thead><tbody>\n",
       "                <tr>\n",
       "                        <th id=\"T_3c0eb_level0_row0\" class=\"row_heading level0 row0\" >15</th>\n",
       "                        <td id=\"T_3c0eb_row0_col0\" class=\"data row0 col0\" >0.775239</td>\n",
       "                        <td id=\"T_3c0eb_row0_col1\" class=\"data row0 col1\" >0.776538</td>\n",
       "            </tr>\n",
       "            <tr>\n",
       "                        <th id=\"T_3c0eb_level0_row1\" class=\"row_heading level0 row1\" >100</th>\n",
       "                        <td id=\"T_3c0eb_row1_col0\" class=\"data row1 col0\" >0.779885</td>\n",
       "                        <td id=\"T_3c0eb_row1_col1\" class=\"data row1 col1\" >0.776538</td>\n",
       "            </tr>\n",
       "            <tr>\n",
       "                        <th id=\"T_3c0eb_level0_row2\" class=\"row_heading level0 row2\" >110</th>\n",
       "                        <td id=\"T_3c0eb_row2_col0\" class=\"data row2 col0\" >0.769600</td>\n",
       "                        <td id=\"T_3c0eb_row2_col1\" class=\"data row2 col1\" >0.776538</td>\n",
       "            </tr>\n",
       "            <tr>\n",
       "                        <th id=\"T_3c0eb_level0_row3\" class=\"row_heading level0 row3\" >101</th>\n",
       "                        <td id=\"T_3c0eb_row3_col0\" class=\"data row3 col0\" >0.760425</td>\n",
       "                        <td id=\"T_3c0eb_row3_col1\" class=\"data row3 col1\" >0.775637</td>\n",
       "            </tr>\n",
       "            <tr>\n",
       "                        <th id=\"T_3c0eb_level0_row4\" class=\"row_heading level0 row4\" >111</th>\n",
       "                        <td id=\"T_3c0eb_row4_col0\" class=\"data row4 col0\" >0.762348</td>\n",
       "                        <td id=\"T_3c0eb_row4_col1\" class=\"data row4 col1\" >0.776748</td>\n",
       "            </tr>\n",
       "    </tbody></table>"
      ],
      "text/plain": [
       "<pandas.io.formats.style.Styler at 0x7f31908d6820>"
      ]
     },
     "execution_count": 11,
     "metadata": {},
     "output_type": "execute_result"
    }
   ],
   "source": [
    "median_df.style.highlight_max(axis=None, color='yellow')"
   ]
  },
  {
   "cell_type": "code",
   "execution_count": 12,
   "id": "79d4b539-9c45-44a6-a524-5b2feabad18c",
   "metadata": {},
   "outputs": [
    {
     "data": {
      "text/html": [
       "<style  type=\"text/css\" >\n",
       "#T_bf3d0_row1_col0,#T_bf3d0_row4_col1{\n",
       "            background-color:  yellow;\n",
       "        }</style><table id=\"T_bf3d0_\" ><thead>    <tr>        <th class=\"blank level0\" ></th>        <th class=\"col_heading level0 col0\" >20210810-1</th>        <th class=\"col_heading level0 col1\" >20210810-2</th>    </tr></thead><tbody>\n",
       "                <tr>\n",
       "                        <th id=\"T_bf3d0_level0_row0\" class=\"row_heading level0 row0\" >15</th>\n",
       "                        <td id=\"T_bf3d0_row0_col0\" class=\"data row0 col0\" >0.775239</td>\n",
       "                        <td id=\"T_bf3d0_row0_col1\" class=\"data row0 col1\" >0.776538</td>\n",
       "            </tr>\n",
       "            <tr>\n",
       "                        <th id=\"T_bf3d0_level0_row1\" class=\"row_heading level0 row1\" >100</th>\n",
       "                        <td id=\"T_bf3d0_row1_col0\" class=\"data row1 col0\" >0.779885</td>\n",
       "                        <td id=\"T_bf3d0_row1_col1\" class=\"data row1 col1\" >0.776538</td>\n",
       "            </tr>\n",
       "            <tr>\n",
       "                        <th id=\"T_bf3d0_level0_row2\" class=\"row_heading level0 row2\" >110</th>\n",
       "                        <td id=\"T_bf3d0_row2_col0\" class=\"data row2 col0\" >0.769600</td>\n",
       "                        <td id=\"T_bf3d0_row2_col1\" class=\"data row2 col1\" >0.776538</td>\n",
       "            </tr>\n",
       "            <tr>\n",
       "                        <th id=\"T_bf3d0_level0_row3\" class=\"row_heading level0 row3\" >101</th>\n",
       "                        <td id=\"T_bf3d0_row3_col0\" class=\"data row3 col0\" >0.760425</td>\n",
       "                        <td id=\"T_bf3d0_row3_col1\" class=\"data row3 col1\" >0.775637</td>\n",
       "            </tr>\n",
       "            <tr>\n",
       "                        <th id=\"T_bf3d0_level0_row4\" class=\"row_heading level0 row4\" >111</th>\n",
       "                        <td id=\"T_bf3d0_row4_col0\" class=\"data row4 col0\" >0.762348</td>\n",
       "                        <td id=\"T_bf3d0_row4_col1\" class=\"data row4 col1\" >0.776748</td>\n",
       "            </tr>\n",
       "    </tbody></table>"
      ],
      "text/plain": [
       "<pandas.io.formats.style.Styler at 0x7f319067b0a0>"
      ]
     },
     "execution_count": 12,
     "metadata": {},
     "output_type": "execute_result"
    }
   ],
   "source": [
    "median_df.style.highlight_max(axis=0, color='yellow')"
   ]
  },
  {
   "cell_type": "code",
   "execution_count": 13,
   "id": "c0d0c735-6829-4b11-9933-5dc2ba498d41",
   "metadata": {},
   "outputs": [
    {
     "data": {
      "text/html": [
       "<style  type=\"text/css\" >\n",
       "#T_ed8f4_row0_col1,#T_ed8f4_row1_col0,#T_ed8f4_row2_col1,#T_ed8f4_row3_col1,#T_ed8f4_row4_col1{\n",
       "            background-color:  yellow;\n",
       "        }</style><table id=\"T_ed8f4_\" ><thead>    <tr>        <th class=\"blank level0\" ></th>        <th class=\"col_heading level0 col0\" >20210810-1</th>        <th class=\"col_heading level0 col1\" >20210810-2</th>    </tr></thead><tbody>\n",
       "                <tr>\n",
       "                        <th id=\"T_ed8f4_level0_row0\" class=\"row_heading level0 row0\" >15</th>\n",
       "                        <td id=\"T_ed8f4_row0_col0\" class=\"data row0 col0\" >0.775239</td>\n",
       "                        <td id=\"T_ed8f4_row0_col1\" class=\"data row0 col1\" >0.776538</td>\n",
       "            </tr>\n",
       "            <tr>\n",
       "                        <th id=\"T_ed8f4_level0_row1\" class=\"row_heading level0 row1\" >100</th>\n",
       "                        <td id=\"T_ed8f4_row1_col0\" class=\"data row1 col0\" >0.779885</td>\n",
       "                        <td id=\"T_ed8f4_row1_col1\" class=\"data row1 col1\" >0.776538</td>\n",
       "            </tr>\n",
       "            <tr>\n",
       "                        <th id=\"T_ed8f4_level0_row2\" class=\"row_heading level0 row2\" >110</th>\n",
       "                        <td id=\"T_ed8f4_row2_col0\" class=\"data row2 col0\" >0.769600</td>\n",
       "                        <td id=\"T_ed8f4_row2_col1\" class=\"data row2 col1\" >0.776538</td>\n",
       "            </tr>\n",
       "            <tr>\n",
       "                        <th id=\"T_ed8f4_level0_row3\" class=\"row_heading level0 row3\" >101</th>\n",
       "                        <td id=\"T_ed8f4_row3_col0\" class=\"data row3 col0\" >0.760425</td>\n",
       "                        <td id=\"T_ed8f4_row3_col1\" class=\"data row3 col1\" >0.775637</td>\n",
       "            </tr>\n",
       "            <tr>\n",
       "                        <th id=\"T_ed8f4_level0_row4\" class=\"row_heading level0 row4\" >111</th>\n",
       "                        <td id=\"T_ed8f4_row4_col0\" class=\"data row4 col0\" >0.762348</td>\n",
       "                        <td id=\"T_ed8f4_row4_col1\" class=\"data row4 col1\" >0.776748</td>\n",
       "            </tr>\n",
       "    </tbody></table>"
      ],
      "text/plain": [
       "<pandas.io.formats.style.Styler at 0x7f319067b250>"
      ]
     },
     "execution_count": 13,
     "metadata": {},
     "output_type": "execute_result"
    }
   ],
   "source": [
    "median_df.style.highlight_max(axis=1, color='yellow')"
   ]
  },
  {
   "cell_type": "markdown",
   "id": "071b241e-405f-47a4-808a-443ea32671e6",
   "metadata": {},
   "source": [
    "### Standard deviation"
   ]
  },
  {
   "cell_type": "code",
   "execution_count": 14,
   "id": "166f8e3d-b7f6-4dc1-acea-84e00ea7fccf",
   "metadata": {},
   "outputs": [
    {
     "data": {
      "text/html": [
       "<style  type=\"text/css\" >\n",
       "#T_9dc97_row0_col0{\n",
       "            background-color:  #7c7cf9;\n",
       "            color:  #000000;\n",
       "        }#T_9dc97_row0_col1{\n",
       "            background-color:  #2121fd;\n",
       "            color:  #f1f1f1;\n",
       "        }#T_9dc97_row1_col0,#T_9dc97_row1_col1{\n",
       "            background-color:  #0000ff;\n",
       "            color:  #f1f1f1;\n",
       "        }#T_9dc97_row2_col0{\n",
       "            background-color:  #3232fc;\n",
       "            color:  #f1f1f1;\n",
       "        }#T_9dc97_row2_col1{\n",
       "            background-color:  #4e4efb;\n",
       "            color:  #f1f1f1;\n",
       "        }#T_9dc97_row3_col0,#T_9dc97_row4_col0,#T_9dc97_row4_col1{\n",
       "            background-color:  #f0f0f3;\n",
       "            color:  #000000;\n",
       "        }#T_9dc97_row3_col1{\n",
       "            background-color:  #7272f9;\n",
       "            color:  #000000;\n",
       "        }</style><table id=\"T_9dc97_\" ><thead>    <tr>        <th class=\"blank level0\" ></th>        <th class=\"col_heading level0 col0\" >20210810-1</th>        <th class=\"col_heading level0 col1\" >20210810-2</th>    </tr></thead><tbody>\n",
       "                <tr>\n",
       "                        <th id=\"T_9dc97_level0_row0\" class=\"row_heading level0 row0\" >15</th>\n",
       "                        <td id=\"T_9dc97_row0_col0\" class=\"data row0 col0\" >0.140730</td>\n",
       "                        <td id=\"T_9dc97_row0_col1\" class=\"data row0 col1\" >0.140837</td>\n",
       "            </tr>\n",
       "            <tr>\n",
       "                        <th id=\"T_9dc97_level0_row1\" class=\"row_heading level0 row1\" >100</th>\n",
       "                        <td id=\"T_9dc97_row1_col0\" class=\"data row1 col0\" >0.145065</td>\n",
       "                        <td id=\"T_9dc97_row1_col1\" class=\"data row1 col1\" >0.141067</td>\n",
       "            </tr>\n",
       "            <tr>\n",
       "                        <th id=\"T_9dc97_level0_row2\" class=\"row_heading level0 row2\" >110</th>\n",
       "                        <td id=\"T_9dc97_row2_col0\" class=\"data row2 col0\" >0.143323</td>\n",
       "                        <td id=\"T_9dc97_row2_col1\" class=\"data row2 col1\" >0.140535</td>\n",
       "            </tr>\n",
       "            <tr>\n",
       "                        <th id=\"T_9dc97_level0_row3\" class=\"row_heading level0 row3\" >101</th>\n",
       "                        <td id=\"T_9dc97_row3_col0\" class=\"data row3 col0\" >0.136722</td>\n",
       "                        <td id=\"T_9dc97_row3_col1\" class=\"data row3 col1\" >0.140287</td>\n",
       "            </tr>\n",
       "            <tr>\n",
       "                        <th id=\"T_9dc97_level0_row4\" class=\"row_heading level0 row4\" >111</th>\n",
       "                        <td id=\"T_9dc97_row4_col0\" class=\"data row4 col0\" >0.136699</td>\n",
       "                        <td id=\"T_9dc97_row4_col1\" class=\"data row4 col1\" >0.139429</td>\n",
       "            </tr>\n",
       "    </tbody></table>"
      ],
      "text/plain": [
       "<pandas.io.formats.style.Styler at 0x7f319068eb80>"
      ]
     },
     "execution_count": 14,
     "metadata": {},
     "output_type": "execute_result"
    }
   ],
   "source": [
    "std_df.style.background_gradient(cmap=cm)"
   ]
  },
  {
   "cell_type": "code",
   "execution_count": 15,
   "id": "2bd00dd3-29ae-4199-9b56-e272f01624fa",
   "metadata": {},
   "outputs": [
    {
     "data": {
      "text/html": [
       "<style  type=\"text/css\" >\n",
       "#T_70666_row1_col0{\n",
       "            background-color:  yellow;\n",
       "        }</style><table id=\"T_70666_\" ><thead>    <tr>        <th class=\"blank level0\" ></th>        <th class=\"col_heading level0 col0\" >20210810-1</th>        <th class=\"col_heading level0 col1\" >20210810-2</th>    </tr></thead><tbody>\n",
       "                <tr>\n",
       "                        <th id=\"T_70666_level0_row0\" class=\"row_heading level0 row0\" >15</th>\n",
       "                        <td id=\"T_70666_row0_col0\" class=\"data row0 col0\" >0.140730</td>\n",
       "                        <td id=\"T_70666_row0_col1\" class=\"data row0 col1\" >0.140837</td>\n",
       "            </tr>\n",
       "            <tr>\n",
       "                        <th id=\"T_70666_level0_row1\" class=\"row_heading level0 row1\" >100</th>\n",
       "                        <td id=\"T_70666_row1_col0\" class=\"data row1 col0\" >0.145065</td>\n",
       "                        <td id=\"T_70666_row1_col1\" class=\"data row1 col1\" >0.141067</td>\n",
       "            </tr>\n",
       "            <tr>\n",
       "                        <th id=\"T_70666_level0_row2\" class=\"row_heading level0 row2\" >110</th>\n",
       "                        <td id=\"T_70666_row2_col0\" class=\"data row2 col0\" >0.143323</td>\n",
       "                        <td id=\"T_70666_row2_col1\" class=\"data row2 col1\" >0.140535</td>\n",
       "            </tr>\n",
       "            <tr>\n",
       "                        <th id=\"T_70666_level0_row3\" class=\"row_heading level0 row3\" >101</th>\n",
       "                        <td id=\"T_70666_row3_col0\" class=\"data row3 col0\" >0.136722</td>\n",
       "                        <td id=\"T_70666_row3_col1\" class=\"data row3 col1\" >0.140287</td>\n",
       "            </tr>\n",
       "            <tr>\n",
       "                        <th id=\"T_70666_level0_row4\" class=\"row_heading level0 row4\" >111</th>\n",
       "                        <td id=\"T_70666_row4_col0\" class=\"data row4 col0\" >0.136699</td>\n",
       "                        <td id=\"T_70666_row4_col1\" class=\"data row4 col1\" >0.139429</td>\n",
       "            </tr>\n",
       "    </tbody></table>"
      ],
      "text/plain": [
       "<pandas.io.formats.style.Styler at 0x7f319067ba00>"
      ]
     },
     "execution_count": 15,
     "metadata": {},
     "output_type": "execute_result"
    }
   ],
   "source": [
    "std_df.style.highlight_max(axis=None, color='yellow')"
   ]
  },
  {
   "cell_type": "code",
   "execution_count": 16,
   "id": "917c6c7b-d03b-482b-9f93-ee1537631193",
   "metadata": {},
   "outputs": [
    {
     "data": {
      "text/html": [
       "<style  type=\"text/css\" >\n",
       "#T_7e8b1_row1_col0,#T_7e8b1_row1_col1{\n",
       "            background-color:  yellow;\n",
       "        }</style><table id=\"T_7e8b1_\" ><thead>    <tr>        <th class=\"blank level0\" ></th>        <th class=\"col_heading level0 col0\" >20210810-1</th>        <th class=\"col_heading level0 col1\" >20210810-2</th>    </tr></thead><tbody>\n",
       "                <tr>\n",
       "                        <th id=\"T_7e8b1_level0_row0\" class=\"row_heading level0 row0\" >15</th>\n",
       "                        <td id=\"T_7e8b1_row0_col0\" class=\"data row0 col0\" >0.140730</td>\n",
       "                        <td id=\"T_7e8b1_row0_col1\" class=\"data row0 col1\" >0.140837</td>\n",
       "            </tr>\n",
       "            <tr>\n",
       "                        <th id=\"T_7e8b1_level0_row1\" class=\"row_heading level0 row1\" >100</th>\n",
       "                        <td id=\"T_7e8b1_row1_col0\" class=\"data row1 col0\" >0.145065</td>\n",
       "                        <td id=\"T_7e8b1_row1_col1\" class=\"data row1 col1\" >0.141067</td>\n",
       "            </tr>\n",
       "            <tr>\n",
       "                        <th id=\"T_7e8b1_level0_row2\" class=\"row_heading level0 row2\" >110</th>\n",
       "                        <td id=\"T_7e8b1_row2_col0\" class=\"data row2 col0\" >0.143323</td>\n",
       "                        <td id=\"T_7e8b1_row2_col1\" class=\"data row2 col1\" >0.140535</td>\n",
       "            </tr>\n",
       "            <tr>\n",
       "                        <th id=\"T_7e8b1_level0_row3\" class=\"row_heading level0 row3\" >101</th>\n",
       "                        <td id=\"T_7e8b1_row3_col0\" class=\"data row3 col0\" >0.136722</td>\n",
       "                        <td id=\"T_7e8b1_row3_col1\" class=\"data row3 col1\" >0.140287</td>\n",
       "            </tr>\n",
       "            <tr>\n",
       "                        <th id=\"T_7e8b1_level0_row4\" class=\"row_heading level0 row4\" >111</th>\n",
       "                        <td id=\"T_7e8b1_row4_col0\" class=\"data row4 col0\" >0.136699</td>\n",
       "                        <td id=\"T_7e8b1_row4_col1\" class=\"data row4 col1\" >0.139429</td>\n",
       "            </tr>\n",
       "    </tbody></table>"
      ],
      "text/plain": [
       "<pandas.io.formats.style.Styler at 0x7f319066e4f0>"
      ]
     },
     "execution_count": 16,
     "metadata": {},
     "output_type": "execute_result"
    }
   ],
   "source": [
    "std_df.style.highlight_max(axis=0, color='yellow')"
   ]
  },
  {
   "cell_type": "code",
   "execution_count": 17,
   "id": "0026e51e-a7b4-4e8b-8bf7-b64285da5888",
   "metadata": {},
   "outputs": [
    {
     "data": {
      "text/html": [
       "<style  type=\"text/css\" >\n",
       "#T_bb35c_row0_col1,#T_bb35c_row1_col0,#T_bb35c_row2_col0,#T_bb35c_row3_col1,#T_bb35c_row4_col1{\n",
       "            background-color:  yellow;\n",
       "        }</style><table id=\"T_bb35c_\" ><thead>    <tr>        <th class=\"blank level0\" ></th>        <th class=\"col_heading level0 col0\" >20210810-1</th>        <th class=\"col_heading level0 col1\" >20210810-2</th>    </tr></thead><tbody>\n",
       "                <tr>\n",
       "                        <th id=\"T_bb35c_level0_row0\" class=\"row_heading level0 row0\" >15</th>\n",
       "                        <td id=\"T_bb35c_row0_col0\" class=\"data row0 col0\" >0.140730</td>\n",
       "                        <td id=\"T_bb35c_row0_col1\" class=\"data row0 col1\" >0.140837</td>\n",
       "            </tr>\n",
       "            <tr>\n",
       "                        <th id=\"T_bb35c_level0_row1\" class=\"row_heading level0 row1\" >100</th>\n",
       "                        <td id=\"T_bb35c_row1_col0\" class=\"data row1 col0\" >0.145065</td>\n",
       "                        <td id=\"T_bb35c_row1_col1\" class=\"data row1 col1\" >0.141067</td>\n",
       "            </tr>\n",
       "            <tr>\n",
       "                        <th id=\"T_bb35c_level0_row2\" class=\"row_heading level0 row2\" >110</th>\n",
       "                        <td id=\"T_bb35c_row2_col0\" class=\"data row2 col0\" >0.143323</td>\n",
       "                        <td id=\"T_bb35c_row2_col1\" class=\"data row2 col1\" >0.140535</td>\n",
       "            </tr>\n",
       "            <tr>\n",
       "                        <th id=\"T_bb35c_level0_row3\" class=\"row_heading level0 row3\" >101</th>\n",
       "                        <td id=\"T_bb35c_row3_col0\" class=\"data row3 col0\" >0.136722</td>\n",
       "                        <td id=\"T_bb35c_row3_col1\" class=\"data row3 col1\" >0.140287</td>\n",
       "            </tr>\n",
       "            <tr>\n",
       "                        <th id=\"T_bb35c_level0_row4\" class=\"row_heading level0 row4\" >111</th>\n",
       "                        <td id=\"T_bb35c_row4_col0\" class=\"data row4 col0\" >0.136699</td>\n",
       "                        <td id=\"T_bb35c_row4_col1\" class=\"data row4 col1\" >0.139429</td>\n",
       "            </tr>\n",
       "    </tbody></table>"
      ],
      "text/plain": [
       "<pandas.io.formats.style.Styler at 0x7f319066e070>"
      ]
     },
     "execution_count": 17,
     "metadata": {},
     "output_type": "execute_result"
    }
   ],
   "source": [
    "std_df.style.highlight_max(axis=1, color='yellow')"
   ]
  },
  {
   "cell_type": "markdown",
   "id": "83f8f4b1-f92e-4933-9cdf-3b915dc38b37",
   "metadata": {},
   "source": [
    "## Tree distances per run/weighting"
   ]
  },
  {
   "cell_type": "code",
   "execution_count": 18,
   "id": "2930c7e5-208c-491a-ab8f-1015879be925",
   "metadata": {},
   "outputs": [],
   "source": [
    "def get_tree_distance_matrix(tree):\n",
    "    \"\"\"\n",
    "    Get a matrix of all-against-all kinase distances in the kinase tree.\n",
    "    \"\"\"\n",
    "    \n",
    "    kinases = [clade.name for clade in kissim_tree.get_terminals()]\n",
    "\n",
    "    tree_distance_matrix = []\n",
    "    \n",
    "    for kinase1 in kinases:\n",
    "        tree_distances_vector = []\n",
    "        for kinase2 in kinases:\n",
    "            tree_distances_vector.append(tree.distance(kinase1, kinase2))\n",
    "        tree_distance_matrix.append(tree_distances_vector)\n",
    "    \n",
    "    tree_distance_matrix = pd.DataFrame(tree_distance_matrix, index=kinases, columns=kinases)\n",
    "    \n",
    "    return tree_distance_matrix\n",
    "\n",
    "def get_ranks(tree_distance_matrix, rank_from, rank_to):\n",
    "    \"\"\"\n",
    "    Get ranks for all kinases w.r.t. to a query kinase.\n",
    "    \"\"\"\n",
    "    \n",
    "    ranks = pd.concat(\n",
    "        [\n",
    "            tree_distance_matrix[rank_from].sort_values(),\n",
    "            tree_distance_matrix[rank_from].sort_values().rank()\n",
    "        ],\n",
    "        axis=1\n",
    "    )\n",
    "    ranks.columns = [\"distance\", \"rank\"]\n",
    "    if rank_to is not None:\n",
    "        ranks = ranks.loc[rank_to, :]\n",
    "    return ranks"
   ]
  },
  {
   "cell_type": "code",
   "execution_count": 19,
   "id": "84966342-a80b-4d3d-bcf2-141c4539a603",
   "metadata": {},
   "outputs": [],
   "source": [
    "WEIGHTING_SCHEMES = [\"15\", \"110\", \"101\", \"100\"]\n",
    "CLUSTERING_METHODS = [\"ward\", \"average\", \"weighted\"]"
   ]
  },
  {
   "cell_type": "code",
   "execution_count": 20,
   "id": "bb645b90-6601-48b9-9d5d-2244435c080e",
   "metadata": {},
   "outputs": [
    {
     "name": "stdout",
     "output_type": "stream",
     "text": [
      "['20210810-1', '15', 'ward']\n",
      "['20210810-1', '15', 'average']\n",
      "['20210810-1', '15', 'weighted']\n",
      "['20210810-1', '110', 'ward']\n",
      "['20210810-1', '110', 'average']\n",
      "['20210810-1', '110', 'weighted']\n",
      "['20210810-1', '101', 'ward']\n",
      "['20210810-1', '101', 'average']\n",
      "['20210810-1', '101', 'weighted']\n",
      "['20210810-1', '100', 'ward']\n",
      "['20210810-1', '100', 'average']\n",
      "['20210810-1', '100', 'weighted']\n",
      "['20210810-2', '15', 'ward']\n",
      "['20210810-2', '15', 'average']\n",
      "['20210810-2', '15', 'weighted']\n",
      "['20210810-2', '110', 'ward']\n",
      "['20210810-2', '110', 'average']\n",
      "['20210810-2', '110', 'weighted']\n",
      "['20210810-2', '101', 'ward']\n",
      "['20210810-2', '101', 'average']\n",
      "['20210810-2', '101', 'weighted']\n",
      "['20210810-2', '100', 'ward']\n",
      "['20210810-2', '100', 'average']\n",
      "['20210810-2', '100', 'weighted']\n",
      "CPU times: user 8min 22s, sys: 0 ns, total: 8min 22s\n",
      "Wall time: 8min 22s\n"
     ]
    }
   ],
   "source": [
    "%%time\n",
    "\n",
    "results_list = []\n",
    "\n",
    "for run_id in RUN_IDS:\n",
    "    for weighting in WEIGHTING_SCHEMES:\n",
    "        for cmethod in CLUSTERING_METHODS:\n",
    "            results = []\n",
    "            results.extend([run_id, weighting, cmethod])\n",
    "            print(results)\n",
    "            \n",
    "            tree_path = RESULTS / f\"{run_id}/dfg_in/trees/tree_0.8_{weighting}_{cmethod}.tree\"\n",
    "            kissim_tree = Phylo.read(tree_path, \"newick\")\n",
    "            tree_distance_matrix = get_tree_distance_matrix(kissim_tree)\n",
    "            \n",
    "            ranks = get_ranks(tree_distance_matrix, \"EGFR\", [\"SLK\", \"LOK\", \"GAK\"])\n",
    "            results.extend(ranks[\"rank\"].to_list())\n",
    "            ranks = get_ranks(tree_distance_matrix, \"DRAK2\", [\"CaMKK2\"])\n",
    "            results.extend(ranks[\"rank\"].to_list())\n",
    "            \n",
    "            results_list.append(results)"
   ]
  },
  {
   "cell_type": "code",
   "execution_count": 21,
   "id": "54debcf9-861b-4825-b29f-6fbd2966ba94",
   "metadata": {},
   "outputs": [],
   "source": [
    "results_df = pd.DataFrame(\n",
    "    results_list, \n",
    "    columns=[\"run_id\", \"weighting\", \"cmethod\", \"EGFR-SLK\", \"EGFR-LOK\", \"EGFR-GAK\", \"DRAK2-CaMKK2\"]\n",
    ")"
   ]
  },
  {
   "cell_type": "code",
   "execution_count": 22,
   "id": "21393a4c-b1c3-474f-bbb7-27a49db50dea",
   "metadata": {},
   "outputs": [],
   "source": [
    "results_df.to_csv(\"tree_ranks_20210810.csv\", index=None)"
   ]
  },
  {
   "cell_type": "code",
   "execution_count": 23,
   "id": "3d13d5a2-801c-439b-93f9-bfa5a60ed12d",
   "metadata": {},
   "outputs": [],
   "source": [
    "results_df = results_df.set_index([\"run_id\", \"weighting\", \"cmethod\"])"
   ]
  },
  {
   "cell_type": "code",
   "execution_count": 24,
   "id": "4ccb8c5e-9ab6-4201-8ce5-cfcd55e22bcc",
   "metadata": {},
   "outputs": [
    {
     "data": {
      "text/html": [
       "<style  type=\"text/css\" >\n",
       "#T_a5d39_row2_col3,#T_a5d39_row4_col3,#T_a5d39_row8_col3,#T_a5d39_row13_col3,#T_a5d39_row16_col3,#T_a5d39_row18_col3,#T_a5d39_row21_col3,#T_a5d39_row22_col3,#T_a5d39_row23_col3{\n",
       "            background-color :  yellow;\n",
       "        }</style><table id=\"T_a5d39_\" ><thead>    <tr>        <th class=\"blank\" ></th>        <th class=\"blank\" ></th>        <th class=\"blank level0\" ></th>        <th class=\"col_heading level0 col0\" >EGFR-SLK</th>        <th class=\"col_heading level0 col1\" >EGFR-LOK</th>        <th class=\"col_heading level0 col2\" >EGFR-GAK</th>        <th class=\"col_heading level0 col3\" >DRAK2-CaMKK2</th>    </tr>    <tr>        <th class=\"index_name level0\" >run_id</th>        <th class=\"index_name level1\" >weighting</th>        <th class=\"index_name level2\" >cmethod</th>        <th class=\"blank\" ></th>        <th class=\"blank\" ></th>        <th class=\"blank\" ></th>        <th class=\"blank\" ></th>    </tr></thead><tbody>\n",
       "                <tr>\n",
       "                        <th id=\"T_a5d39_level0_row0\" class=\"row_heading level0 row0\" rowspan=\"12\">20210810-1</th>\n",
       "                        <th id=\"T_a5d39_level1_row0\" class=\"row_heading level1 row0\" rowspan=\"3\">15</th>\n",
       "                        <th id=\"T_a5d39_level2_row0\" class=\"row_heading level2 row0\" >ward</th>\n",
       "                        <td id=\"T_a5d39_row0_col0\" class=\"data row0 col0\" >211.000000</td>\n",
       "                        <td id=\"T_a5d39_row0_col1\" class=\"data row0 col1\" >211.000000</td>\n",
       "                        <td id=\"T_a5d39_row0_col2\" class=\"data row0 col2\" >162.500000</td>\n",
       "                        <td id=\"T_a5d39_row0_col3\" class=\"data row0 col3\" >10.000000</td>\n",
       "            </tr>\n",
       "            <tr>\n",
       "                                        <th id=\"T_a5d39_level2_row1\" class=\"row_heading level2 row1\" >average</th>\n",
       "                        <td id=\"T_a5d39_row1_col0\" class=\"data row1 col0\" >96.500000</td>\n",
       "                        <td id=\"T_a5d39_row1_col1\" class=\"data row1 col1\" >96.500000</td>\n",
       "                        <td id=\"T_a5d39_row1_col2\" class=\"data row1 col2\" >152.000000</td>\n",
       "                        <td id=\"T_a5d39_row1_col3\" class=\"data row1 col3\" >10.000000</td>\n",
       "            </tr>\n",
       "            <tr>\n",
       "                                        <th id=\"T_a5d39_level2_row2\" class=\"row_heading level2 row2\" >weighted</th>\n",
       "                        <td id=\"T_a5d39_row2_col0\" class=\"data row2 col0\" >120.000000</td>\n",
       "                        <td id=\"T_a5d39_row2_col1\" class=\"data row2 col1\" >120.000000</td>\n",
       "                        <td id=\"T_a5d39_row2_col2\" class=\"data row2 col2\" >162.000000</td>\n",
       "                        <td id=\"T_a5d39_row2_col3\" class=\"data row2 col3\" >2.000000</td>\n",
       "            </tr>\n",
       "            <tr>\n",
       "                                <th id=\"T_a5d39_level1_row3\" class=\"row_heading level1 row3\" rowspan=\"3\">110</th>\n",
       "                        <th id=\"T_a5d39_level2_row3\" class=\"row_heading level2 row3\" >ward</th>\n",
       "                        <td id=\"T_a5d39_row3_col0\" class=\"data row3 col0\" >149.000000</td>\n",
       "                        <td id=\"T_a5d39_row3_col1\" class=\"data row3 col1\" >149.000000</td>\n",
       "                        <td id=\"T_a5d39_row3_col2\" class=\"data row3 col2\" >149.000000</td>\n",
       "                        <td id=\"T_a5d39_row3_col3\" class=\"data row3 col3\" >18.500000</td>\n",
       "            </tr>\n",
       "            <tr>\n",
       "                                        <th id=\"T_a5d39_level2_row4\" class=\"row_heading level2 row4\" >average</th>\n",
       "                        <td id=\"T_a5d39_row4_col0\" class=\"data row4 col0\" >84.000000</td>\n",
       "                        <td id=\"T_a5d39_row4_col1\" class=\"data row4 col1\" >84.000000</td>\n",
       "                        <td id=\"T_a5d39_row4_col2\" class=\"data row4 col2\" >134.500000</td>\n",
       "                        <td id=\"T_a5d39_row4_col3\" class=\"data row4 col3\" >7.500000</td>\n",
       "            </tr>\n",
       "            <tr>\n",
       "                                        <th id=\"T_a5d39_level2_row5\" class=\"row_heading level2 row5\" >weighted</th>\n",
       "                        <td id=\"T_a5d39_row5_col0\" class=\"data row5 col0\" >57.000000</td>\n",
       "                        <td id=\"T_a5d39_row5_col1\" class=\"data row5 col1\" >57.000000</td>\n",
       "                        <td id=\"T_a5d39_row5_col2\" class=\"data row5 col2\" >71.500000</td>\n",
       "                        <td id=\"T_a5d39_row5_col3\" class=\"data row5 col3\" >19.000000</td>\n",
       "            </tr>\n",
       "            <tr>\n",
       "                                <th id=\"T_a5d39_level1_row6\" class=\"row_heading level1 row6\" rowspan=\"3\">101</th>\n",
       "                        <th id=\"T_a5d39_level2_row6\" class=\"row_heading level2 row6\" >ward</th>\n",
       "                        <td id=\"T_a5d39_row6_col0\" class=\"data row6 col0\" >74.000000</td>\n",
       "                        <td id=\"T_a5d39_row6_col1\" class=\"data row6 col1\" >74.000000</td>\n",
       "                        <td id=\"T_a5d39_row6_col2\" class=\"data row6 col2\" >155.500000</td>\n",
       "                        <td id=\"T_a5d39_row6_col3\" class=\"data row6 col3\" >22.000000</td>\n",
       "            </tr>\n",
       "            <tr>\n",
       "                                        <th id=\"T_a5d39_level2_row7\" class=\"row_heading level2 row7\" >average</th>\n",
       "                        <td id=\"T_a5d39_row7_col0\" class=\"data row7 col0\" >109.000000</td>\n",
       "                        <td id=\"T_a5d39_row7_col1\" class=\"data row7 col1\" >109.000000</td>\n",
       "                        <td id=\"T_a5d39_row7_col2\" class=\"data row7 col2\" >185.500000</td>\n",
       "                        <td id=\"T_a5d39_row7_col3\" class=\"data row7 col3\" >12.000000</td>\n",
       "            </tr>\n",
       "            <tr>\n",
       "                                        <th id=\"T_a5d39_level2_row8\" class=\"row_heading level2 row8\" >weighted</th>\n",
       "                        <td id=\"T_a5d39_row8_col0\" class=\"data row8 col0\" >149.500000</td>\n",
       "                        <td id=\"T_a5d39_row8_col1\" class=\"data row8 col1\" >149.500000</td>\n",
       "                        <td id=\"T_a5d39_row8_col2\" class=\"data row8 col2\" >210.000000</td>\n",
       "                        <td id=\"T_a5d39_row8_col3\" class=\"data row8 col3\" >2.000000</td>\n",
       "            </tr>\n",
       "            <tr>\n",
       "                                <th id=\"T_a5d39_level1_row9\" class=\"row_heading level1 row9\" rowspan=\"3\">100</th>\n",
       "                        <th id=\"T_a5d39_level2_row9\" class=\"row_heading level2 row9\" >ward</th>\n",
       "                        <td id=\"T_a5d39_row9_col0\" class=\"data row9 col0\" >136.000000</td>\n",
       "                        <td id=\"T_a5d39_row9_col1\" class=\"data row9 col1\" >136.000000</td>\n",
       "                        <td id=\"T_a5d39_row9_col2\" class=\"data row9 col2\" >136.000000</td>\n",
       "                        <td id=\"T_a5d39_row9_col3\" class=\"data row9 col3\" >20.500000</td>\n",
       "            </tr>\n",
       "            <tr>\n",
       "                                        <th id=\"T_a5d39_level2_row10\" class=\"row_heading level2 row10\" >average</th>\n",
       "                        <td id=\"T_a5d39_row10_col0\" class=\"data row10 col0\" >69.500000</td>\n",
       "                        <td id=\"T_a5d39_row10_col1\" class=\"data row10 col1\" >69.500000</td>\n",
       "                        <td id=\"T_a5d39_row10_col2\" class=\"data row10 col2\" >69.500000</td>\n",
       "                        <td id=\"T_a5d39_row10_col3\" class=\"data row10 col3\" >15.000000</td>\n",
       "            </tr>\n",
       "            <tr>\n",
       "                                        <th id=\"T_a5d39_level2_row11\" class=\"row_heading level2 row11\" >weighted</th>\n",
       "                        <td id=\"T_a5d39_row11_col0\" class=\"data row11 col0\" >106.500000</td>\n",
       "                        <td id=\"T_a5d39_row11_col1\" class=\"data row11 col1\" >106.500000</td>\n",
       "                        <td id=\"T_a5d39_row11_col2\" class=\"data row11 col2\" >145.500000</td>\n",
       "                        <td id=\"T_a5d39_row11_col3\" class=\"data row11 col3\" >28.000000</td>\n",
       "            </tr>\n",
       "            <tr>\n",
       "                        <th id=\"T_a5d39_level0_row12\" class=\"row_heading level0 row12\" rowspan=\"12\">20210810-2</th>\n",
       "                        <th id=\"T_a5d39_level1_row12\" class=\"row_heading level1 row12\" rowspan=\"3\">15</th>\n",
       "                        <th id=\"T_a5d39_level2_row12\" class=\"row_heading level2 row12\" >ward</th>\n",
       "                        <td id=\"T_a5d39_row12_col0\" class=\"data row12 col0\" >169.500000</td>\n",
       "                        <td id=\"T_a5d39_row12_col1\" class=\"data row12 col1\" >169.500000</td>\n",
       "                        <td id=\"T_a5d39_row12_col2\" class=\"data row12 col2\" >131.500000</td>\n",
       "                        <td id=\"T_a5d39_row12_col3\" class=\"data row12 col3\" >10.500000</td>\n",
       "            </tr>\n",
       "            <tr>\n",
       "                                        <th id=\"T_a5d39_level2_row13\" class=\"row_heading level2 row13\" >average</th>\n",
       "                        <td id=\"T_a5d39_row13_col0\" class=\"data row13 col0\" >107.500000</td>\n",
       "                        <td id=\"T_a5d39_row13_col1\" class=\"data row13 col1\" >107.500000</td>\n",
       "                        <td id=\"T_a5d39_row13_col2\" class=\"data row13 col2\" >107.500000</td>\n",
       "                        <td id=\"T_a5d39_row13_col3\" class=\"data row13 col3\" >7.500000</td>\n",
       "            </tr>\n",
       "            <tr>\n",
       "                                        <th id=\"T_a5d39_level2_row14\" class=\"row_heading level2 row14\" >weighted</th>\n",
       "                        <td id=\"T_a5d39_row14_col0\" class=\"data row14 col0\" >49.500000</td>\n",
       "                        <td id=\"T_a5d39_row14_col1\" class=\"data row14 col1\" >49.500000</td>\n",
       "                        <td id=\"T_a5d39_row14_col2\" class=\"data row14 col2\" >63.500000</td>\n",
       "                        <td id=\"T_a5d39_row14_col3\" class=\"data row14 col3\" >59.500000</td>\n",
       "            </tr>\n",
       "            <tr>\n",
       "                                <th id=\"T_a5d39_level1_row15\" class=\"row_heading level1 row15\" rowspan=\"3\">110</th>\n",
       "                        <th id=\"T_a5d39_level2_row15\" class=\"row_heading level2 row15\" >ward</th>\n",
       "                        <td id=\"T_a5d39_row15_col0\" class=\"data row15 col0\" >250.000000</td>\n",
       "                        <td id=\"T_a5d39_row15_col1\" class=\"data row15 col1\" >250.000000</td>\n",
       "                        <td id=\"T_a5d39_row15_col2\" class=\"data row15 col2\" >237.000000</td>\n",
       "                        <td id=\"T_a5d39_row15_col3\" class=\"data row15 col3\" >11.000000</td>\n",
       "            </tr>\n",
       "            <tr>\n",
       "                                        <th id=\"T_a5d39_level2_row16\" class=\"row_heading level2 row16\" >average</th>\n",
       "                        <td id=\"T_a5d39_row16_col0\" class=\"data row16 col0\" >159.000000</td>\n",
       "                        <td id=\"T_a5d39_row16_col1\" class=\"data row16 col1\" >159.000000</td>\n",
       "                        <td id=\"T_a5d39_row16_col2\" class=\"data row16 col2\" >176.500000</td>\n",
       "                        <td id=\"T_a5d39_row16_col3\" class=\"data row16 col3\" >8.500000</td>\n",
       "            </tr>\n",
       "            <tr>\n",
       "                                        <th id=\"T_a5d39_level2_row17\" class=\"row_heading level2 row17\" >weighted</th>\n",
       "                        <td id=\"T_a5d39_row17_col0\" class=\"data row17 col0\" >183.500000</td>\n",
       "                        <td id=\"T_a5d39_row17_col1\" class=\"data row17 col1\" >183.500000</td>\n",
       "                        <td id=\"T_a5d39_row17_col2\" class=\"data row17 col2\" >146.500000</td>\n",
       "                        <td id=\"T_a5d39_row17_col3\" class=\"data row17 col3\" >16.000000</td>\n",
       "            </tr>\n",
       "            <tr>\n",
       "                                <th id=\"T_a5d39_level1_row18\" class=\"row_heading level1 row18\" rowspan=\"3\">101</th>\n",
       "                        <th id=\"T_a5d39_level2_row18\" class=\"row_heading level2 row18\" >ward</th>\n",
       "                        <td id=\"T_a5d39_row18_col0\" class=\"data row18 col0\" >210.500000</td>\n",
       "                        <td id=\"T_a5d39_row18_col1\" class=\"data row18 col1\" >210.500000</td>\n",
       "                        <td id=\"T_a5d39_row18_col2\" class=\"data row18 col2\" >56.500000</td>\n",
       "                        <td id=\"T_a5d39_row18_col3\" class=\"data row18 col3\" >9.000000</td>\n",
       "            </tr>\n",
       "            <tr>\n",
       "                                        <th id=\"T_a5d39_level2_row19\" class=\"row_heading level2 row19\" >average</th>\n",
       "                        <td id=\"T_a5d39_row19_col0\" class=\"data row19 col0\" >106.000000</td>\n",
       "                        <td id=\"T_a5d39_row19_col1\" class=\"data row19 col1\" >106.000000</td>\n",
       "                        <td id=\"T_a5d39_row19_col2\" class=\"data row19 col2\" >106.000000</td>\n",
       "                        <td id=\"T_a5d39_row19_col3\" class=\"data row19 col3\" >10.000000</td>\n",
       "            </tr>\n",
       "            <tr>\n",
       "                                        <th id=\"T_a5d39_level2_row20\" class=\"row_heading level2 row20\" >weighted</th>\n",
       "                        <td id=\"T_a5d39_row20_col0\" class=\"data row20 col0\" >54.500000</td>\n",
       "                        <td id=\"T_a5d39_row20_col1\" class=\"data row20 col1\" >54.500000</td>\n",
       "                        <td id=\"T_a5d39_row20_col2\" class=\"data row20 col2\" >92.500000</td>\n",
       "                        <td id=\"T_a5d39_row20_col3\" class=\"data row20 col3\" >19.500000</td>\n",
       "            </tr>\n",
       "            <tr>\n",
       "                                <th id=\"T_a5d39_level1_row21\" class=\"row_heading level1 row21\" rowspan=\"3\">100</th>\n",
       "                        <th id=\"T_a5d39_level2_row21\" class=\"row_heading level2 row21\" >ward</th>\n",
       "                        <td id=\"T_a5d39_row21_col0\" class=\"data row21 col0\" >153.500000</td>\n",
       "                        <td id=\"T_a5d39_row21_col1\" class=\"data row21 col1\" >153.500000</td>\n",
       "                        <td id=\"T_a5d39_row21_col2\" class=\"data row21 col2\" >61.500000</td>\n",
       "                        <td id=\"T_a5d39_row21_col3\" class=\"data row21 col3\" >7.500000</td>\n",
       "            </tr>\n",
       "            <tr>\n",
       "                                        <th id=\"T_a5d39_level2_row22\" class=\"row_heading level2 row22\" >average</th>\n",
       "                        <td id=\"T_a5d39_row22_col0\" class=\"data row22 col0\" >53.500000</td>\n",
       "                        <td id=\"T_a5d39_row22_col1\" class=\"data row22 col1\" >53.500000</td>\n",
       "                        <td id=\"T_a5d39_row22_col2\" class=\"data row22 col2\" >179.000000</td>\n",
       "                        <td id=\"T_a5d39_row22_col3\" class=\"data row22 col3\" >5.500000</td>\n",
       "            </tr>\n",
       "            <tr>\n",
       "                                        <th id=\"T_a5d39_level2_row23\" class=\"row_heading level2 row23\" >weighted</th>\n",
       "                        <td id=\"T_a5d39_row23_col0\" class=\"data row23 col0\" >79.500000</td>\n",
       "                        <td id=\"T_a5d39_row23_col1\" class=\"data row23 col1\" >79.500000</td>\n",
       "                        <td id=\"T_a5d39_row23_col2\" class=\"data row23 col2\" >165.000000</td>\n",
       "                        <td id=\"T_a5d39_row23_col3\" class=\"data row23 col3\" >3.000000</td>\n",
       "            </tr>\n",
       "    </tbody></table>"
      ],
      "text/plain": [
       "<pandas.io.formats.style.Styler at 0x7f3190558580>"
      ]
     },
     "execution_count": 24,
     "metadata": {},
     "output_type": "execute_result"
    }
   ],
   "source": [
    "cm = sns.light_palette(\"blue\", as_cmap=True, reverse=True)\n",
    "results_df.style.applymap(lambda x: 'background-color : yellow' if x < 10 else '')"
   ]
  }
 ],
 "metadata": {
  "kernelspec": {
   "display_name": "Python 3",
   "language": "python",
   "name": "python3"
  },
  "language_info": {
   "codemirror_mode": {
    "name": "ipython",
    "version": 3
   },
   "file_extension": ".py",
   "mimetype": "text/x-python",
   "name": "python",
   "nbconvert_exporter": "python",
   "pygments_lexer": "ipython3",
   "version": "3.9.5"
  },
  "widgets": {
   "application/vnd.jupyter.widget-state+json": {
    "state": {},
    "version_major": 2,
    "version_minor": 0
   }
  }
 },
 "nbformat": 4,
 "nbformat_minor": 5
}
