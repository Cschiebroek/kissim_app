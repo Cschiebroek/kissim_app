{
 "cells": [
  {
   "cell_type": "markdown",
   "id": "64d6a8c1-dda5-4aac-8dc3-6a44e5891638",
   "metadata": {},
   "source": [
    "# Evaluate performace of `kissim` vs. profiling datasets\n",
    "\n",
    "Summarize ligand-kinase pair performances based on multiple profiling datasets:\n",
    "\n",
    "- Profiling datasets: Karaman and Davis\n",
    "- `kissim` datasets: Different feature weighting schemes\n",
    "- Saves AUC values per setting combination"
   ]
  },
  {
   "cell_type": "code",
   "execution_count": 1,
   "id": "9a0464ab-edf2-4ee5-9c9b-974796cd7585",
   "metadata": {
    "execution": {
     "iopub.execute_input": "2021-09-16T19:50:20.702603Z",
     "iopub.status.busy": "2021-09-16T19:50:20.702274Z",
     "iopub.status.idle": "2021-09-16T19:50:20.709796Z",
     "shell.execute_reply": "2021-09-16T19:50:20.709444Z"
    }
   },
   "outputs": [],
   "source": [
    "%load_ext autoreload\n",
    "%autoreload 2"
   ]
  },
  {
   "cell_type": "code",
   "execution_count": 2,
   "id": "31a14492-a5a4-4fc5-83dc-a9ec00455314",
   "metadata": {
    "execution": {
     "iopub.execute_input": "2021-09-16T19:50:20.712319Z",
     "iopub.status.busy": "2021-09-16T19:50:20.711997Z",
     "iopub.status.idle": "2021-09-16T19:50:21.772918Z",
     "shell.execute_reply": "2021-09-16T19:50:21.772631Z"
    }
   },
   "outputs": [
    {
     "data": {
      "application/vnd.jupyter.widget-view+json": {
       "model_id": "ce28d81b21834ed0b04ea1fa7b19bed4",
       "version_major": 2,
       "version_minor": 0
      },
      "text/plain": []
     },
     "metadata": {},
     "output_type": "display_data"
    }
   ],
   "source": [
    "from pathlib import Path\n",
    "import logging\n",
    "import math\n",
    "import itertools\n",
    "\n",
    "import pandas as pd\n",
    "import matplotlib.pyplot as plt\n",
    "from IPython.display import display, Markdown, HTML\n",
    "\n",
    "from src import data\n",
    "from src.evaluation.ligand_vs_kinase_evaluator import LigandVsKinaseEvaluator"
   ]
  },
  {
   "cell_type": "code",
   "execution_count": 3,
   "id": "c3c70fed-b2f5-4e6a-b86a-b78143928bd8",
   "metadata": {
    "execution": {
     "iopub.execute_input": "2021-09-16T19:50:21.775241Z",
     "iopub.status.busy": "2021-09-16T19:50:21.774932Z",
     "iopub.status.idle": "2021-09-16T19:50:21.786975Z",
     "shell.execute_reply": "2021-09-16T19:50:21.787230Z"
    }
   },
   "outputs": [],
   "source": [
    "logger = logging.getLogger()\n",
    "logger.setLevel(logging.CRITICAL)"
   ]
  },
  {
   "cell_type": "code",
   "execution_count": 4,
   "id": "a5582152-a55a-4034-8b53-ede952eddd76",
   "metadata": {
    "execution": {
     "iopub.execute_input": "2021-09-16T19:50:21.789460Z",
     "iopub.status.busy": "2021-09-16T19:50:21.789148Z",
     "iopub.status.idle": "2021-09-16T19:50:21.801030Z",
     "shell.execute_reply": "2021-09-16T19:50:21.800728Z"
    }
   },
   "outputs": [],
   "source": [
    "HERE = Path(_dh[-1])  # noqa: F821\n",
    "RESULTS = HERE / \"../../results_archive\""
   ]
  },
  {
   "cell_type": "markdown",
   "id": "574c5b10-1751-4f4a-86b4-1633c4818d3f",
   "metadata": {},
   "source": [
    "## Define parameters"
   ]
  },
  {
   "cell_type": "code",
   "execution_count": 5,
   "id": "6d43a1e7-bc3f-4922-b3b6-0ce2f9000dbf",
   "metadata": {
    "execution": {
     "iopub.execute_input": "2021-09-16T19:50:21.804390Z",
     "iopub.status.busy": "2021-09-16T19:50:21.804026Z",
     "iopub.status.idle": "2021-09-16T19:50:21.816320Z",
     "shell.execute_reply": "2021-09-16T19:50:21.816037Z"
    }
   },
   "outputs": [],
   "source": [
    "LIGAND_PROFILING_METHODS = [\"karaman-davis\"]\n",
    "KINASE_DISTANCES_METHOD = \"kissim\"\n",
    "KINASE_ACTIVITY_CUTOFF = 100\n",
    "KINASE_ACTIVITY_MAX = True\n",
    "MIN_N_SHARED_KINASES = 10\n",
    "MIN_N_SHARED_ACTIVE_KINASES = 3"
   ]
  },
  {
   "cell_type": "code",
   "execution_count": 6,
   "id": "f3f63983-86ef-4cc4-a7f4-ba387027c46c",
   "metadata": {
    "execution": {
     "iopub.execute_input": "2021-09-16T19:50:21.819169Z",
     "iopub.status.busy": "2021-09-16T19:50:21.818838Z",
     "iopub.status.idle": "2021-09-16T19:50:21.830224Z",
     "shell.execute_reply": "2021-09-16T19:50:21.830512Z"
    }
   },
   "outputs": [],
   "source": [
    "RUN_IDS = [\n",
    "    \"20210712\",\n",
    "    \"20210804-1\",\n",
    "    \"20210804-2\",\n",
    "    \"20210804-3\",\n",
    "    \"20210804-4\",\n",
    "    \"20210804-5\",\n",
    "    \"20210810-1\",\n",
    "    \"20210810-2\",\n",
    "    \"20210812-1\",\n",
    "    \"20210812-2\",\n",
    "]\n",
    "DATA_SUBSETS = [\"dfg_in\"]\n",
    "WEIGHTING_SCHEMES = [\"15\", \"100\", \"010\", \"001\", \"110\", \"011\", \"101\", \"111\"]"
   ]
  },
  {
   "cell_type": "markdown",
   "id": "a8ae628d-7fb1-49c5-af2c-f3168df9d305",
   "metadata": {},
   "source": [
    "## Generate ROC/AUC data"
   ]
  },
  {
   "cell_type": "code",
   "execution_count": 7,
   "id": "c6e96bd4-fc04-4a24-834c-9f3a20a9c14d",
   "metadata": {
    "execution": {
     "iopub.execute_input": "2021-09-16T19:50:21.835724Z",
     "iopub.status.busy": "2021-09-16T19:50:21.835320Z",
     "iopub.status.idle": "2021-09-16T19:50:21.960333Z",
     "shell.execute_reply": "2021-09-16T19:50:21.960009Z"
    },
    "tags": []
   },
   "outputs": [
    {
     "data": {
      "text/markdown": [
       "### Ligand profiling method: karaman-davis"
      ],
      "text/plain": [
       "<IPython.core.display.Markdown object>"
      ]
     },
     "metadata": {},
     "output_type": "display_data"
    },
    {
     "data": {
      "text/markdown": [
       "#### 20210712 | dfg_in"
      ],
      "text/plain": [
       "<IPython.core.display.Markdown object>"
      ]
     },
     "metadata": {},
     "output_type": "display_data"
    },
    {
     "data": {
      "text/markdown": [
       "##### 15"
      ],
      "text/plain": [
       "<IPython.core.display.Markdown object>"
      ]
     },
     "metadata": {},
     "output_type": "display_data"
    },
    {
     "ename": "FileNotFoundError",
     "evalue": "[Errno 2] No such file or directory: '/home/dominique/Documents/GitHub/kissim_app/notebooks/007_kissim_setups/../../results_archive/20210712/dfg_in/fingerprint_distances.csv'",
     "output_type": "error",
     "traceback": [
      "\u001b[0;31m---------------------------------------------------------------------------\u001b[0m",
      "\u001b[0;31mFileNotFoundError\u001b[0m                         Traceback (most recent call last)",
      "\u001b[0;32m/tmp/ipykernel_1996/1578295076.py\u001b[0m in \u001b[0;36m<module>\u001b[0;34m\u001b[0m\n\u001b[1;32m     27\u001b[0m \u001b[0;34m\u001b[0m\u001b[0m\n\u001b[1;32m     28\u001b[0m                 \u001b[0;31m# Kinase-kinase distances dataset\u001b[0m\u001b[0;34m\u001b[0m\u001b[0;34m\u001b[0m\u001b[0m\n\u001b[0;32m---> 29\u001b[0;31m                 kissim_df = data.distances.kissim(\n\u001b[0m\u001b[1;32m     30\u001b[0m                     \u001b[0mstructure_kinase_mapping_by\u001b[0m\u001b[0;34m=\u001b[0m\u001b[0;34m\"minimum\"\u001b[0m\u001b[0;34m,\u001b[0m\u001b[0;34m\u001b[0m\u001b[0;34m\u001b[0m\u001b[0m\n\u001b[1;32m     31\u001b[0m                     \u001b[0mkinmap_kinases\u001b[0m\u001b[0;34m=\u001b[0m\u001b[0;32mTrue\u001b[0m\u001b[0;34m,\u001b[0m\u001b[0;34m\u001b[0m\u001b[0;34m\u001b[0m\u001b[0m\n",
      "\u001b[0;32m~/Documents/GitHub/kissim_app/src/data/distances.py\u001b[0m in \u001b[0;36mkissim\u001b[0;34m(structure_kinase_mapping_by, kinmap_kinases, distances_path, coverage_min)\u001b[0m\n\u001b[1;32m     95\u001b[0m     \"\"\"\n\u001b[1;32m     96\u001b[0m \u001b[0;34m\u001b[0m\u001b[0m\n\u001b[0;32m---> 97\u001b[0;31m     \u001b[0mfingerprint_distance_generator\u001b[0m \u001b[0;34m=\u001b[0m \u001b[0mFingerprintDistanceGenerator\u001b[0m\u001b[0;34m.\u001b[0m\u001b[0mfrom_csv\u001b[0m\u001b[0;34m(\u001b[0m\u001b[0mdistances_path\u001b[0m\u001b[0;34m)\u001b[0m\u001b[0;34m\u001b[0m\u001b[0;34m\u001b[0m\u001b[0m\n\u001b[0m\u001b[1;32m     98\u001b[0m     distance_matrix = fingerprint_distance_generator.kinase_distance_matrix(\n\u001b[1;32m     99\u001b[0m         \u001b[0mstructure_kinase_mapping_by\u001b[0m\u001b[0;34m,\u001b[0m \u001b[0mcoverage_min\u001b[0m\u001b[0;34m=\u001b[0m\u001b[0mcoverage_min\u001b[0m\u001b[0;34m\u001b[0m\u001b[0;34m\u001b[0m\u001b[0m\n",
      "\u001b[0;32m~/Documents/GitHub/kissim/kissim/comparison/base_generator.py\u001b[0m in \u001b[0;36mfrom_csv\u001b[0;34m(cls, filepath)\u001b[0m\n\u001b[1;32m    133\u001b[0m         \u001b[0mfilepath\u001b[0m \u001b[0;34m=\u001b[0m \u001b[0mPath\u001b[0m\u001b[0;34m(\u001b[0m\u001b[0mfilepath\u001b[0m\u001b[0;34m)\u001b[0m\u001b[0;34m\u001b[0m\u001b[0;34m\u001b[0m\u001b[0m\n\u001b[1;32m    134\u001b[0m \u001b[0;34m\u001b[0m\u001b[0m\n\u001b[0;32m--> 135\u001b[0;31m         \u001b[0mdata\u001b[0m \u001b[0;34m=\u001b[0m \u001b[0mpd\u001b[0m\u001b[0;34m.\u001b[0m\u001b[0mread_csv\u001b[0m\u001b[0;34m(\u001b[0m\u001b[0mfilepath\u001b[0m\u001b[0;34m)\u001b[0m\u001b[0;34m\u001b[0m\u001b[0;34m\u001b[0m\u001b[0m\n\u001b[0m\u001b[1;32m    136\u001b[0m \u001b[0;34m\u001b[0m\u001b[0m\n\u001b[1;32m    137\u001b[0m         \u001b[0mbase_generator\u001b[0m \u001b[0;34m=\u001b[0m \u001b[0mcls\u001b[0m\u001b[0;34m(\u001b[0m\u001b[0;34m)\u001b[0m\u001b[0;34m\u001b[0m\u001b[0;34m\u001b[0m\u001b[0m\n",
      "\u001b[0;32m~/.local/miniconda/envs/kissim-app-dev/lib/python3.9/site-packages/pandas/util/_decorators.py\u001b[0m in \u001b[0;36mwrapper\u001b[0;34m(*args, **kwargs)\u001b[0m\n\u001b[1;32m    309\u001b[0m                     \u001b[0mstacklevel\u001b[0m\u001b[0;34m=\u001b[0m\u001b[0mstacklevel\u001b[0m\u001b[0;34m,\u001b[0m\u001b[0;34m\u001b[0m\u001b[0;34m\u001b[0m\u001b[0m\n\u001b[1;32m    310\u001b[0m                 )\n\u001b[0;32m--> 311\u001b[0;31m             \u001b[0;32mreturn\u001b[0m \u001b[0mfunc\u001b[0m\u001b[0;34m(\u001b[0m\u001b[0;34m*\u001b[0m\u001b[0margs\u001b[0m\u001b[0;34m,\u001b[0m \u001b[0;34m**\u001b[0m\u001b[0mkwargs\u001b[0m\u001b[0;34m)\u001b[0m\u001b[0;34m\u001b[0m\u001b[0;34m\u001b[0m\u001b[0m\n\u001b[0m\u001b[1;32m    312\u001b[0m \u001b[0;34m\u001b[0m\u001b[0m\n\u001b[1;32m    313\u001b[0m         \u001b[0;32mreturn\u001b[0m \u001b[0mwrapper\u001b[0m\u001b[0;34m\u001b[0m\u001b[0;34m\u001b[0m\u001b[0m\n",
      "\u001b[0;32m~/.local/miniconda/envs/kissim-app-dev/lib/python3.9/site-packages/pandas/io/parsers/readers.py\u001b[0m in \u001b[0;36mread_csv\u001b[0;34m(filepath_or_buffer, sep, delimiter, header, names, index_col, usecols, squeeze, prefix, mangle_dupe_cols, dtype, engine, converters, true_values, false_values, skipinitialspace, skiprows, skipfooter, nrows, na_values, keep_default_na, na_filter, verbose, skip_blank_lines, parse_dates, infer_datetime_format, keep_date_col, date_parser, dayfirst, cache_dates, iterator, chunksize, compression, thousands, decimal, lineterminator, quotechar, quoting, doublequote, escapechar, comment, encoding, encoding_errors, dialect, error_bad_lines, warn_bad_lines, on_bad_lines, delim_whitespace, low_memory, memory_map, float_precision, storage_options)\u001b[0m\n\u001b[1;32m    584\u001b[0m     \u001b[0mkwds\u001b[0m\u001b[0;34m.\u001b[0m\u001b[0mupdate\u001b[0m\u001b[0;34m(\u001b[0m\u001b[0mkwds_defaults\u001b[0m\u001b[0;34m)\u001b[0m\u001b[0;34m\u001b[0m\u001b[0;34m\u001b[0m\u001b[0m\n\u001b[1;32m    585\u001b[0m \u001b[0;34m\u001b[0m\u001b[0m\n\u001b[0;32m--> 586\u001b[0;31m     \u001b[0;32mreturn\u001b[0m \u001b[0m_read\u001b[0m\u001b[0;34m(\u001b[0m\u001b[0mfilepath_or_buffer\u001b[0m\u001b[0;34m,\u001b[0m \u001b[0mkwds\u001b[0m\u001b[0;34m)\u001b[0m\u001b[0;34m\u001b[0m\u001b[0;34m\u001b[0m\u001b[0m\n\u001b[0m\u001b[1;32m    587\u001b[0m \u001b[0;34m\u001b[0m\u001b[0m\n\u001b[1;32m    588\u001b[0m \u001b[0;34m\u001b[0m\u001b[0m\n",
      "\u001b[0;32m~/.local/miniconda/envs/kissim-app-dev/lib/python3.9/site-packages/pandas/io/parsers/readers.py\u001b[0m in \u001b[0;36m_read\u001b[0;34m(filepath_or_buffer, kwds)\u001b[0m\n\u001b[1;32m    480\u001b[0m \u001b[0;34m\u001b[0m\u001b[0m\n\u001b[1;32m    481\u001b[0m     \u001b[0;31m# Create the parser.\u001b[0m\u001b[0;34m\u001b[0m\u001b[0;34m\u001b[0m\u001b[0m\n\u001b[0;32m--> 482\u001b[0;31m     \u001b[0mparser\u001b[0m \u001b[0;34m=\u001b[0m \u001b[0mTextFileReader\u001b[0m\u001b[0;34m(\u001b[0m\u001b[0mfilepath_or_buffer\u001b[0m\u001b[0;34m,\u001b[0m \u001b[0;34m**\u001b[0m\u001b[0mkwds\u001b[0m\u001b[0;34m)\u001b[0m\u001b[0;34m\u001b[0m\u001b[0;34m\u001b[0m\u001b[0m\n\u001b[0m\u001b[1;32m    483\u001b[0m \u001b[0;34m\u001b[0m\u001b[0m\n\u001b[1;32m    484\u001b[0m     \u001b[0;32mif\u001b[0m \u001b[0mchunksize\u001b[0m \u001b[0;32mor\u001b[0m \u001b[0miterator\u001b[0m\u001b[0;34m:\u001b[0m\u001b[0;34m\u001b[0m\u001b[0;34m\u001b[0m\u001b[0m\n",
      "\u001b[0;32m~/.local/miniconda/envs/kissim-app-dev/lib/python3.9/site-packages/pandas/io/parsers/readers.py\u001b[0m in \u001b[0;36m__init__\u001b[0;34m(self, f, engine, **kwds)\u001b[0m\n\u001b[1;32m    809\u001b[0m             \u001b[0mself\u001b[0m\u001b[0;34m.\u001b[0m\u001b[0moptions\u001b[0m\u001b[0;34m[\u001b[0m\u001b[0;34m\"has_index_names\"\u001b[0m\u001b[0;34m]\u001b[0m \u001b[0;34m=\u001b[0m \u001b[0mkwds\u001b[0m\u001b[0;34m[\u001b[0m\u001b[0;34m\"has_index_names\"\u001b[0m\u001b[0;34m]\u001b[0m\u001b[0;34m\u001b[0m\u001b[0;34m\u001b[0m\u001b[0m\n\u001b[1;32m    810\u001b[0m \u001b[0;34m\u001b[0m\u001b[0m\n\u001b[0;32m--> 811\u001b[0;31m         \u001b[0mself\u001b[0m\u001b[0;34m.\u001b[0m\u001b[0m_engine\u001b[0m \u001b[0;34m=\u001b[0m \u001b[0mself\u001b[0m\u001b[0;34m.\u001b[0m\u001b[0m_make_engine\u001b[0m\u001b[0;34m(\u001b[0m\u001b[0mself\u001b[0m\u001b[0;34m.\u001b[0m\u001b[0mengine\u001b[0m\u001b[0;34m)\u001b[0m\u001b[0;34m\u001b[0m\u001b[0;34m\u001b[0m\u001b[0m\n\u001b[0m\u001b[1;32m    812\u001b[0m \u001b[0;34m\u001b[0m\u001b[0m\n\u001b[1;32m    813\u001b[0m     \u001b[0;32mdef\u001b[0m \u001b[0mclose\u001b[0m\u001b[0;34m(\u001b[0m\u001b[0mself\u001b[0m\u001b[0;34m)\u001b[0m\u001b[0;34m:\u001b[0m\u001b[0;34m\u001b[0m\u001b[0;34m\u001b[0m\u001b[0m\n",
      "\u001b[0;32m~/.local/miniconda/envs/kissim-app-dev/lib/python3.9/site-packages/pandas/io/parsers/readers.py\u001b[0m in \u001b[0;36m_make_engine\u001b[0;34m(self, engine)\u001b[0m\n\u001b[1;32m   1038\u001b[0m             )\n\u001b[1;32m   1039\u001b[0m         \u001b[0;31m# error: Too many arguments for \"ParserBase\"\u001b[0m\u001b[0;34m\u001b[0m\u001b[0;34m\u001b[0m\u001b[0m\n\u001b[0;32m-> 1040\u001b[0;31m         \u001b[0;32mreturn\u001b[0m \u001b[0mmapping\u001b[0m\u001b[0;34m[\u001b[0m\u001b[0mengine\u001b[0m\u001b[0;34m]\u001b[0m\u001b[0;34m(\u001b[0m\u001b[0mself\u001b[0m\u001b[0;34m.\u001b[0m\u001b[0mf\u001b[0m\u001b[0;34m,\u001b[0m \u001b[0;34m**\u001b[0m\u001b[0mself\u001b[0m\u001b[0;34m.\u001b[0m\u001b[0moptions\u001b[0m\u001b[0;34m)\u001b[0m  \u001b[0;31m# type: ignore[call-arg]\u001b[0m\u001b[0;34m\u001b[0m\u001b[0;34m\u001b[0m\u001b[0m\n\u001b[0m\u001b[1;32m   1041\u001b[0m \u001b[0;34m\u001b[0m\u001b[0m\n\u001b[1;32m   1042\u001b[0m     \u001b[0;32mdef\u001b[0m \u001b[0m_failover_to_python\u001b[0m\u001b[0;34m(\u001b[0m\u001b[0mself\u001b[0m\u001b[0;34m)\u001b[0m\u001b[0;34m:\u001b[0m\u001b[0;34m\u001b[0m\u001b[0;34m\u001b[0m\u001b[0m\n",
      "\u001b[0;32m~/.local/miniconda/envs/kissim-app-dev/lib/python3.9/site-packages/pandas/io/parsers/c_parser_wrapper.py\u001b[0m in \u001b[0;36m__init__\u001b[0;34m(self, src, **kwds)\u001b[0m\n\u001b[1;32m     49\u001b[0m \u001b[0;34m\u001b[0m\u001b[0m\n\u001b[1;32m     50\u001b[0m         \u001b[0;31m# open handles\u001b[0m\u001b[0;34m\u001b[0m\u001b[0;34m\u001b[0m\u001b[0m\n\u001b[0;32m---> 51\u001b[0;31m         \u001b[0mself\u001b[0m\u001b[0;34m.\u001b[0m\u001b[0m_open_handles\u001b[0m\u001b[0;34m(\u001b[0m\u001b[0msrc\u001b[0m\u001b[0;34m,\u001b[0m \u001b[0mkwds\u001b[0m\u001b[0;34m)\u001b[0m\u001b[0;34m\u001b[0m\u001b[0;34m\u001b[0m\u001b[0m\n\u001b[0m\u001b[1;32m     52\u001b[0m         \u001b[0;32massert\u001b[0m \u001b[0mself\u001b[0m\u001b[0;34m.\u001b[0m\u001b[0mhandles\u001b[0m \u001b[0;32mis\u001b[0m \u001b[0;32mnot\u001b[0m \u001b[0;32mNone\u001b[0m\u001b[0;34m\u001b[0m\u001b[0;34m\u001b[0m\u001b[0m\n\u001b[1;32m     53\u001b[0m \u001b[0;34m\u001b[0m\u001b[0m\n",
      "\u001b[0;32m~/.local/miniconda/envs/kissim-app-dev/lib/python3.9/site-packages/pandas/io/parsers/base_parser.py\u001b[0m in \u001b[0;36m_open_handles\u001b[0;34m(self, src, kwds)\u001b[0m\n\u001b[1;32m    220\u001b[0m         \u001b[0mLet\u001b[0m \u001b[0mthe\u001b[0m \u001b[0mreaders\u001b[0m \u001b[0mopen\u001b[0m \u001b[0mIOHandles\u001b[0m \u001b[0mafter\u001b[0m \u001b[0mthey\u001b[0m \u001b[0mare\u001b[0m \u001b[0mdone\u001b[0m \u001b[0;32mwith\u001b[0m \u001b[0mtheir\u001b[0m \u001b[0mpotential\u001b[0m \u001b[0mraises\u001b[0m\u001b[0;34m.\u001b[0m\u001b[0;34m\u001b[0m\u001b[0;34m\u001b[0m\u001b[0m\n\u001b[1;32m    221\u001b[0m         \"\"\"\n\u001b[0;32m--> 222\u001b[0;31m         self.handles = get_handle(\n\u001b[0m\u001b[1;32m    223\u001b[0m             \u001b[0msrc\u001b[0m\u001b[0;34m,\u001b[0m\u001b[0;34m\u001b[0m\u001b[0;34m\u001b[0m\u001b[0m\n\u001b[1;32m    224\u001b[0m             \u001b[0;34m\"r\"\u001b[0m\u001b[0;34m,\u001b[0m\u001b[0;34m\u001b[0m\u001b[0;34m\u001b[0m\u001b[0m\n",
      "\u001b[0;32m~/.local/miniconda/envs/kissim-app-dev/lib/python3.9/site-packages/pandas/io/common.py\u001b[0m in \u001b[0;36mget_handle\u001b[0;34m(path_or_buf, mode, encoding, compression, memory_map, is_text, errors, storage_options)\u001b[0m\n\u001b[1;32m    700\u001b[0m         \u001b[0;32mif\u001b[0m \u001b[0mioargs\u001b[0m\u001b[0;34m.\u001b[0m\u001b[0mencoding\u001b[0m \u001b[0;32mand\u001b[0m \u001b[0;34m\"b\"\u001b[0m \u001b[0;32mnot\u001b[0m \u001b[0;32min\u001b[0m \u001b[0mioargs\u001b[0m\u001b[0;34m.\u001b[0m\u001b[0mmode\u001b[0m\u001b[0;34m:\u001b[0m\u001b[0;34m\u001b[0m\u001b[0;34m\u001b[0m\u001b[0m\n\u001b[1;32m    701\u001b[0m             \u001b[0;31m# Encoding\u001b[0m\u001b[0;34m\u001b[0m\u001b[0;34m\u001b[0m\u001b[0m\n\u001b[0;32m--> 702\u001b[0;31m             handle = open(\n\u001b[0m\u001b[1;32m    703\u001b[0m                 \u001b[0mhandle\u001b[0m\u001b[0;34m,\u001b[0m\u001b[0;34m\u001b[0m\u001b[0;34m\u001b[0m\u001b[0m\n\u001b[1;32m    704\u001b[0m                 \u001b[0mioargs\u001b[0m\u001b[0;34m.\u001b[0m\u001b[0mmode\u001b[0m\u001b[0;34m,\u001b[0m\u001b[0;34m\u001b[0m\u001b[0;34m\u001b[0m\u001b[0m\n",
      "\u001b[0;31mFileNotFoundError\u001b[0m: [Errno 2] No such file or directory: '/home/dominique/Documents/GitHub/kissim_app/notebooks/007_kissim_setups/../../results_archive/20210712/dfg_in/fingerprint_distances.csv'"
     ]
    }
   ],
   "source": [
    "auc_dict = {}\n",
    "\n",
    "for ligand_profiling_method in LIGAND_PROFILING_METHODS:\n",
    "    display(Markdown(f\"### Ligand profiling method: {ligand_profiling_method}\"))\n",
    "    auc_dict[ligand_profiling_method] = {}\n",
    "\n",
    "    for run_id in RUN_IDS:\n",
    "        auc_dict[ligand_profiling_method][run_id] = {}\n",
    "\n",
    "        for data_subset in DATA_SUBSETS:\n",
    "            auc_dict[ligand_profiling_method][run_id][data_subset] = {}\n",
    "            display(Markdown(f\"#### {run_id} | {data_subset}\"))\n",
    "\n",
    "            for weighting in WEIGHTING_SCHEMES:\n",
    "                auc_dict[ligand_profiling_method][run_id][data_subset][weighting] = {}\n",
    "\n",
    "                # Set path to file\n",
    "                display(Markdown(f\"##### {weighting}\"))\n",
    "                if weighting == \"15\":\n",
    "                    KINASE_KINASE_PATH = (\n",
    "                        RESULTS / f\"{run_id}/{data_subset}/fingerprint_distances.csv\"\n",
    "                    )\n",
    "                else:\n",
    "                    KINASE_KINASE_PATH = (\n",
    "                        RESULTS / f\"{run_id}/{data_subset}/fingerprint_distances_{weighting}.csv\"\n",
    "                    )\n",
    "\n",
    "                # Kinase-kinase distances dataset\n",
    "                kissim_df = data.distances.kissim(\n",
    "                    structure_kinase_mapping_by=\"minimum\",\n",
    "                    kinmap_kinases=True,\n",
    "                    distances_path=KINASE_KINASE_PATH,\n",
    "                )\n",
    "                # Kinase-ligand profiling dataset\n",
    "                profiling_df = data.profiling.load(\n",
    "                    ligand_profiling_method, pkidb_ligands=True, fda_approved=True\n",
    "                )\n",
    "\n",
    "                ligand_names = profiling_df.columns\n",
    "                ligand_targets = data.targets.pkidb(ligand_names, fda_approved=False)\n",
    "                ligand_kinase_pairs = (\n",
    "                    ligand_targets[[\"ligand.input\", \"targets.kinmap\"]]\n",
    "                    .explode(\"targets.kinmap\")\n",
    "                    .to_numpy()\n",
    "                    .tolist()\n",
    "                )\n",
    "                evaluator = LigandVsKinaseEvaluator(\n",
    "                    ligand_kinase_pairs,\n",
    "                    ligand_profiling_method,\n",
    "                    KINASE_DISTANCES_METHOD,\n",
    "                    KINASE_ACTIVITY_CUTOFF,\n",
    "                    KINASE_ACTIVITY_MAX,\n",
    "                    MIN_N_SHARED_KINASES,\n",
    "                    MIN_N_SHARED_ACTIVE_KINASES,\n",
    "                    kinase_kinase_path=KINASE_KINASE_PATH,\n",
    "                )\n",
    "                try:\n",
    "                    auc_list = evaluator.plot_roc_curves()\n",
    "                    plt.show()\n",
    "                    auc_dict[ligand_profiling_method][run_id][data_subset][weighting] = auc_list\n",
    "                except ValueError as e:\n",
    "                    print(e)"
   ]
  },
  {
   "cell_type": "markdown",
   "id": "8b31ea1b-51e6-455f-8c91-8776baefba12",
   "metadata": {},
   "source": [
    "## Plot AUC distribution"
   ]
  },
  {
   "cell_type": "code",
   "execution_count": 8,
   "id": "533dacc1-46ec-46e5-816d-5fe297c1d9a2",
   "metadata": {
    "execution": {
     "iopub.execute_input": "2021-09-16T19:50:21.963822Z",
     "iopub.status.busy": "2021-09-16T19:50:21.963512Z",
     "iopub.status.idle": "2021-09-16T19:50:21.986003Z",
     "shell.execute_reply": "2021-09-16T19:50:21.986338Z"
    }
   },
   "outputs": [
    {
     "data": {
      "text/markdown": [
       "### Ligand profiling method: karaman-davis"
      ],
      "text/plain": [
       "<IPython.core.display.Markdown object>"
      ]
     },
     "metadata": {},
     "output_type": "display_data"
    },
    {
     "data": {
      "text/markdown": [
       "#### 20210712 | dfg_in"
      ],
      "text/plain": [
       "<IPython.core.display.Markdown object>"
      ]
     },
     "metadata": {},
     "output_type": "display_data"
    },
    {
     "ename": "FileNotFoundError",
     "evalue": "[Errno 2] No such file or directory: '/home/dominique/Documents/GitHub/kissim_app/notebooks/007_kissim_setups/../../results_archive/20210712/dfg_in/auc.csv'",
     "output_type": "error",
     "traceback": [
      "\u001b[0;31m---------------------------------------------------------------------------\u001b[0m",
      "\u001b[0;31mFileNotFoundError\u001b[0m                         Traceback (most recent call last)",
      "\u001b[0;32m/tmp/ipykernel_1996/2543156488.py\u001b[0m in \u001b[0;36m<module>\u001b[0;34m\u001b[0m\n\u001b[1;32m     10\u001b[0m \u001b[0;34m\u001b[0m\u001b[0m\n\u001b[1;32m     11\u001b[0m             \u001b[0;31m# Save to file\u001b[0m\u001b[0;34m\u001b[0m\u001b[0;34m\u001b[0m\u001b[0m\n\u001b[0;32m---> 12\u001b[0;31m             \u001b[0mauc_df\u001b[0m\u001b[0;34m.\u001b[0m\u001b[0mto_csv\u001b[0m\u001b[0;34m(\u001b[0m\u001b[0mRESULTS\u001b[0m \u001b[0;34m/\u001b[0m \u001b[0;34mf\"{run_id}/{data_subset}/auc.csv\"\u001b[0m\u001b[0;34m,\u001b[0m \u001b[0mindex\u001b[0m\u001b[0;34m=\u001b[0m\u001b[0;32mNone\u001b[0m\u001b[0;34m)\u001b[0m\u001b[0;34m\u001b[0m\u001b[0;34m\u001b[0m\u001b[0m\n\u001b[0m\u001b[1;32m     13\u001b[0m             \u001b[0;31m# Plot\u001b[0m\u001b[0;34m\u001b[0m\u001b[0;34m\u001b[0m\u001b[0m\n\u001b[1;32m     14\u001b[0m             \u001b[0mauc_df\u001b[0m\u001b[0;34m.\u001b[0m\u001b[0mplot\u001b[0m\u001b[0;34m(\u001b[0m\u001b[0mkind\u001b[0m\u001b[0;34m=\u001b[0m\u001b[0;34m\"box\"\u001b[0m\u001b[0;34m,\u001b[0m \u001b[0mtitle\u001b[0m\u001b[0;34m=\u001b[0m\u001b[0;34mf\"{data_subset} ({auc_df.shape[0]} kinase-ligand pairs)\"\u001b[0m\u001b[0;34m)\u001b[0m\u001b[0;34m\u001b[0m\u001b[0;34m\u001b[0m\u001b[0m\n",
      "\u001b[0;32m~/.local/miniconda/envs/kissim-app-dev/lib/python3.9/site-packages/pandas/core/generic.py\u001b[0m in \u001b[0;36mto_csv\u001b[0;34m(self, path_or_buf, sep, na_rep, float_format, columns, header, index, index_label, mode, encoding, compression, quoting, quotechar, line_terminator, chunksize, date_format, doublequote, escapechar, decimal, errors, storage_options)\u001b[0m\n\u001b[1;32m   3464\u001b[0m         )\n\u001b[1;32m   3465\u001b[0m \u001b[0;34m\u001b[0m\u001b[0m\n\u001b[0;32m-> 3466\u001b[0;31m         return DataFrameRenderer(formatter).to_csv(\n\u001b[0m\u001b[1;32m   3467\u001b[0m             \u001b[0mpath_or_buf\u001b[0m\u001b[0;34m,\u001b[0m\u001b[0;34m\u001b[0m\u001b[0;34m\u001b[0m\u001b[0m\n\u001b[1;32m   3468\u001b[0m             \u001b[0mline_terminator\u001b[0m\u001b[0;34m=\u001b[0m\u001b[0mline_terminator\u001b[0m\u001b[0;34m,\u001b[0m\u001b[0;34m\u001b[0m\u001b[0;34m\u001b[0m\u001b[0m\n",
      "\u001b[0;32m~/.local/miniconda/envs/kissim-app-dev/lib/python3.9/site-packages/pandas/io/formats/format.py\u001b[0m in \u001b[0;36mto_csv\u001b[0;34m(self, path_or_buf, encoding, sep, columns, index_label, mode, compression, quoting, quotechar, line_terminator, chunksize, date_format, doublequote, escapechar, errors, storage_options)\u001b[0m\n\u001b[1;32m   1103\u001b[0m             \u001b[0mformatter\u001b[0m\u001b[0;34m=\u001b[0m\u001b[0mself\u001b[0m\u001b[0;34m.\u001b[0m\u001b[0mfmt\u001b[0m\u001b[0;34m,\u001b[0m\u001b[0;34m\u001b[0m\u001b[0;34m\u001b[0m\u001b[0m\n\u001b[1;32m   1104\u001b[0m         )\n\u001b[0;32m-> 1105\u001b[0;31m         \u001b[0mcsv_formatter\u001b[0m\u001b[0;34m.\u001b[0m\u001b[0msave\u001b[0m\u001b[0;34m(\u001b[0m\u001b[0;34m)\u001b[0m\u001b[0;34m\u001b[0m\u001b[0;34m\u001b[0m\u001b[0m\n\u001b[0m\u001b[1;32m   1106\u001b[0m \u001b[0;34m\u001b[0m\u001b[0m\n\u001b[1;32m   1107\u001b[0m         \u001b[0;32mif\u001b[0m \u001b[0mcreated_buffer\u001b[0m\u001b[0;34m:\u001b[0m\u001b[0;34m\u001b[0m\u001b[0;34m\u001b[0m\u001b[0m\n",
      "\u001b[0;32m~/.local/miniconda/envs/kissim-app-dev/lib/python3.9/site-packages/pandas/io/formats/csvs.py\u001b[0m in \u001b[0;36msave\u001b[0;34m(self)\u001b[0m\n\u001b[1;32m    235\u001b[0m         \"\"\"\n\u001b[1;32m    236\u001b[0m         \u001b[0;31m# apply compression and byte/text conversion\u001b[0m\u001b[0;34m\u001b[0m\u001b[0;34m\u001b[0m\u001b[0m\n\u001b[0;32m--> 237\u001b[0;31m         with get_handle(\n\u001b[0m\u001b[1;32m    238\u001b[0m             \u001b[0mself\u001b[0m\u001b[0;34m.\u001b[0m\u001b[0mfilepath_or_buffer\u001b[0m\u001b[0;34m,\u001b[0m\u001b[0;34m\u001b[0m\u001b[0;34m\u001b[0m\u001b[0m\n\u001b[1;32m    239\u001b[0m             \u001b[0mself\u001b[0m\u001b[0;34m.\u001b[0m\u001b[0mmode\u001b[0m\u001b[0;34m,\u001b[0m\u001b[0;34m\u001b[0m\u001b[0;34m\u001b[0m\u001b[0m\n",
      "\u001b[0;32m~/.local/miniconda/envs/kissim-app-dev/lib/python3.9/site-packages/pandas/io/common.py\u001b[0m in \u001b[0;36mget_handle\u001b[0;34m(path_or_buf, mode, encoding, compression, memory_map, is_text, errors, storage_options)\u001b[0m\n\u001b[1;32m    700\u001b[0m         \u001b[0;32mif\u001b[0m \u001b[0mioargs\u001b[0m\u001b[0;34m.\u001b[0m\u001b[0mencoding\u001b[0m \u001b[0;32mand\u001b[0m \u001b[0;34m\"b\"\u001b[0m \u001b[0;32mnot\u001b[0m \u001b[0;32min\u001b[0m \u001b[0mioargs\u001b[0m\u001b[0;34m.\u001b[0m\u001b[0mmode\u001b[0m\u001b[0;34m:\u001b[0m\u001b[0;34m\u001b[0m\u001b[0;34m\u001b[0m\u001b[0m\n\u001b[1;32m    701\u001b[0m             \u001b[0;31m# Encoding\u001b[0m\u001b[0;34m\u001b[0m\u001b[0;34m\u001b[0m\u001b[0m\n\u001b[0;32m--> 702\u001b[0;31m             handle = open(\n\u001b[0m\u001b[1;32m    703\u001b[0m                 \u001b[0mhandle\u001b[0m\u001b[0;34m,\u001b[0m\u001b[0;34m\u001b[0m\u001b[0;34m\u001b[0m\u001b[0m\n\u001b[1;32m    704\u001b[0m                 \u001b[0mioargs\u001b[0m\u001b[0;34m.\u001b[0m\u001b[0mmode\u001b[0m\u001b[0;34m,\u001b[0m\u001b[0;34m\u001b[0m\u001b[0;34m\u001b[0m\u001b[0m\n",
      "\u001b[0;31mFileNotFoundError\u001b[0m: [Errno 2] No such file or directory: '/home/dominique/Documents/GitHub/kissim_app/notebooks/007_kissim_setups/../../results_archive/20210712/dfg_in/auc.csv'"
     ]
    }
   ],
   "source": [
    "for ligand_profiling_method, run_id_dict in auc_dict.items():\n",
    "    display(Markdown(f\"### Ligand profiling method: {ligand_profiling_method}\"))\n",
    "    for run_id, data_subset_dict in run_id_dict.items():\n",
    "        for data_subset, weighting_dict in data_subset_dict.items():\n",
    "            display(Markdown(f\"#### {run_id} | {data_subset}\"))\n",
    "            weighting_dict = {\n",
    "                key: values for key, values in weighting_dict.items() if values != {}\n",
    "            }\n",
    "            auc_df = pd.DataFrame(weighting_dict)\n",
    "\n",
    "            # Save to file\n",
    "            auc_df.to_csv(RESULTS / f\"{run_id}/{data_subset}/auc.csv\", index=None)\n",
    "            # Plot\n",
    "            auc_df.plot(kind=\"box\", title=f\"{data_subset} ({auc_df.shape[0]} kinase-ligand pairs)\")\n",
    "            plt.show()\n",
    "            # Show descriptive stats\n",
    "            display(HTML(auc_df.describe().to_html()))"
   ]
  },
  {
   "cell_type": "markdown",
   "id": "3e9429aa-f9c5-4679-83fd-3adfccbaadca",
   "metadata": {},
   "source": [
    "## Scatter AUC values between weighting schemes"
   ]
  },
  {
   "cell_type": "code",
   "execution_count": 9,
   "id": "44c5da8c-2397-4efb-bd85-c88219a5c2c6",
   "metadata": {
    "execution": {
     "iopub.execute_input": "2021-09-16T19:50:21.990775Z",
     "iopub.status.busy": "2021-09-16T19:50:21.990463Z",
     "iopub.status.idle": "2021-09-16T19:50:22.003131Z",
     "shell.execute_reply": "2021-09-16T19:50:22.002749Z"
    }
   },
   "outputs": [],
   "source": [
    "def show_auc_scatter(\n",
    "    auc_dict,\n",
    "    run_id,\n",
    "    ligand_profiling_method=\"karaman-davis\",\n",
    "    data_subset=\"dfg_in\",\n",
    "    feature_weights=[\"15\", \"100\", \"110\", \"101\", \"111\"],\n",
    "):\n",
    "\n",
    "    auc_by_weighting_dict = auc_dict[ligand_profiling_method][run_id][data_subset]\n",
    "    auc_df = pd.DataFrame(auc_by_weighting_dict)\n",
    "    for profiling_name, auc in auc_dict.items():\n",
    "\n",
    "        display(Markdown(f\"### Ligand profiling method: {ligand_profiling_method}\"))\n",
    "        pairs = list(itertools.combinations(feature_weights, 2))\n",
    "        n_cols = 5\n",
    "        n_rows = math.ceil(len(pairs) / n_cols)\n",
    "        _, axes = plt.subplots(figsize=(n_cols * 5, n_rows * 5), nrows=n_rows, ncols=n_cols)\n",
    "        axes = axes.reshape(-1)\n",
    "\n",
    "        for i, pair in enumerate(pairs):\n",
    "\n",
    "            axes[i].plot([0, 1], [0, 1], \"grey\")\n",
    "            axes[i].plot(auc_df[pair[0]], auc_df[pair[1]], \".\")\n",
    "            axes[i].set_box_aspect(1)\n",
    "            axes[i].set_xlim([0, 1])\n",
    "            axes[i].set_ylim([0, 1])\n",
    "            axes[i].set_xlabel(f\"AUCs from {pair[0]}\")\n",
    "            axes[i].set_ylabel(f\"AUCs from {pair[1]}\")\n",
    "\n",
    "        plt.show()"
   ]
  },
  {
   "cell_type": "code",
   "execution_count": 10,
   "id": "82fab948-819c-4f9d-9ec8-d3edcc18b568",
   "metadata": {
    "execution": {
     "iopub.execute_input": "2021-09-16T19:50:22.005626Z",
     "iopub.status.busy": "2021-09-16T19:50:22.005321Z",
     "iopub.status.idle": "2021-09-16T19:50:22.022041Z",
     "shell.execute_reply": "2021-09-16T19:50:22.021725Z"
    }
   },
   "outputs": [
    {
     "ename": "KeyError",
     "evalue": "'20210812-1'",
     "output_type": "error",
     "traceback": [
      "\u001b[0;31m---------------------------------------------------------------------------\u001b[0m",
      "\u001b[0;31mKeyError\u001b[0m                                  Traceback (most recent call last)",
      "\u001b[0;32m/tmp/ipykernel_1996/3488916845.py\u001b[0m in \u001b[0;36m<module>\u001b[0;34m\u001b[0m\n\u001b[0;32m----> 1\u001b[0;31m \u001b[0mshow_auc_scatter\u001b[0m\u001b[0;34m(\u001b[0m\u001b[0mauc_dict\u001b[0m\u001b[0;34m,\u001b[0m \u001b[0;34m\"20210812-1\"\u001b[0m\u001b[0;34m)\u001b[0m\u001b[0;34m\u001b[0m\u001b[0;34m\u001b[0m\u001b[0m\n\u001b[0m",
      "\u001b[0;32m/tmp/ipykernel_1996/3655376568.py\u001b[0m in \u001b[0;36mshow_auc_scatter\u001b[0;34m(auc_dict, run_id, ligand_profiling_method, data_subset, feature_weights)\u001b[0m\n\u001b[1;32m      7\u001b[0m ):\n\u001b[1;32m      8\u001b[0m \u001b[0;34m\u001b[0m\u001b[0m\n\u001b[0;32m----> 9\u001b[0;31m     \u001b[0mauc_by_weighting_dict\u001b[0m \u001b[0;34m=\u001b[0m \u001b[0mauc_dict\u001b[0m\u001b[0;34m[\u001b[0m\u001b[0mligand_profiling_method\u001b[0m\u001b[0;34m]\u001b[0m\u001b[0;34m[\u001b[0m\u001b[0mrun_id\u001b[0m\u001b[0;34m]\u001b[0m\u001b[0;34m[\u001b[0m\u001b[0mdata_subset\u001b[0m\u001b[0;34m]\u001b[0m\u001b[0;34m\u001b[0m\u001b[0;34m\u001b[0m\u001b[0m\n\u001b[0m\u001b[1;32m     10\u001b[0m     \u001b[0mauc_df\u001b[0m \u001b[0;34m=\u001b[0m \u001b[0mpd\u001b[0m\u001b[0;34m.\u001b[0m\u001b[0mDataFrame\u001b[0m\u001b[0;34m(\u001b[0m\u001b[0mauc_by_weighting_dict\u001b[0m\u001b[0;34m)\u001b[0m\u001b[0;34m\u001b[0m\u001b[0;34m\u001b[0m\u001b[0m\n\u001b[1;32m     11\u001b[0m     \u001b[0;32mfor\u001b[0m \u001b[0mprofiling_name\u001b[0m\u001b[0;34m,\u001b[0m \u001b[0mauc\u001b[0m \u001b[0;32min\u001b[0m \u001b[0mauc_dict\u001b[0m\u001b[0;34m.\u001b[0m\u001b[0mitems\u001b[0m\u001b[0;34m(\u001b[0m\u001b[0;34m)\u001b[0m\u001b[0;34m:\u001b[0m\u001b[0;34m\u001b[0m\u001b[0;34m\u001b[0m\u001b[0m\n",
      "\u001b[0;31mKeyError\u001b[0m: '20210812-1'"
     ]
    }
   ],
   "source": [
    "show_auc_scatter(auc_dict, \"20210812-1\")"
   ]
  }
 ],
 "metadata": {
  "kernelspec": {
   "display_name": "Python 3",
   "language": "python",
   "name": "python3"
  },
  "language_info": {
   "codemirror_mode": {
    "name": "ipython",
    "version": 3
   },
   "file_extension": ".py",
   "mimetype": "text/x-python",
   "name": "python",
   "nbconvert_exporter": "python",
   "pygments_lexer": "ipython3",
   "version": "3.9.7"
  },
  "widgets": {
   "application/vnd.jupyter.widget-state+json": {
    "state": {
     "0c9072dff4af4623ace76137beb70b5a": {
      "model_module": "@jupyter-widgets/base",
      "model_module_version": "1.2.0",
      "model_name": "LayoutModel",
      "state": {
       "_model_module": "@jupyter-widgets/base",
       "_model_module_version": "1.2.0",
       "_model_name": "LayoutModel",
       "_view_count": null,
       "_view_module": "@jupyter-widgets/base",
       "_view_module_version": "1.2.0",
       "_view_name": "LayoutView",
       "align_content": null,
       "align_items": null,
       "align_self": null,
       "border": null,
       "bottom": null,
       "display": null,
       "flex": null,
       "flex_flow": null,
       "grid_area": null,
       "grid_auto_columns": null,
       "grid_auto_flow": null,
       "grid_auto_rows": null,
       "grid_column": null,
       "grid_gap": null,
       "grid_row": null,
       "grid_template_areas": null,
       "grid_template_columns": null,
       "grid_template_rows": null,
       "height": null,
       "justify_content": null,
       "justify_items": null,
       "left": null,
       "margin": null,
       "max_height": null,
       "max_width": null,
       "min_height": null,
       "min_width": null,
       "object_fit": null,
       "object_position": null,
       "order": null,
       "overflow": null,
       "overflow_x": null,
       "overflow_y": null,
       "padding": null,
       "right": null,
       "top": null,
       "visibility": null,
       "width": null
      }
     },
     "ce28d81b21834ed0b04ea1fa7b19bed4": {
      "model_module": "nglview-js-widgets",
      "model_module_version": "3.0.1",
      "model_name": "ColormakerRegistryModel",
      "state": {
       "_dom_classes": [],
       "_model_module": "nglview-js-widgets",
       "_model_module_version": "3.0.1",
       "_model_name": "ColormakerRegistryModel",
       "_msg_ar": [],
       "_msg_q": [],
       "_ready": false,
       "_view_count": null,
       "_view_module": "nglview-js-widgets",
       "_view_module_version": "3.0.1",
       "_view_name": "ColormakerRegistryView",
       "layout": "IPY_MODEL_0c9072dff4af4623ace76137beb70b5a"
      }
     }
    },
    "version_major": 2,
    "version_minor": 0
   }
  }
 },
 "nbformat": 4,
 "nbformat_minor": 5
}
