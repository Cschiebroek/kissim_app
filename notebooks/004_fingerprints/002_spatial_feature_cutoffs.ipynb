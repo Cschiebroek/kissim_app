{
 "cells": [
  {
   "cell_type": "markdown",
   "metadata": {},
   "source": [
    "# Min-max cutoffs for continuous (=spatial) features\n",
    "\n",
    "We define the min-max cutoffs for the min-max normalization of continuous features such as the distances and moments features: Use the floor/ceiling values of the minimum/maximum values of the distances w.r.t. to each subpocket center."
   ]
  },
  {
   "cell_type": "code",
   "execution_count": 1,
   "metadata": {},
   "outputs": [
    {
     "data": {
      "application/vnd.jupyter.widget-view+json": {
       "model_id": "9d1942319c894acd8f594a59dd76ac73",
       "version_major": 2,
       "version_minor": 0
      },
      "text/plain": []
     },
     "metadata": {},
     "output_type": "display_data"
    }
   ],
   "source": [
    "from pathlib import Path\n",
    "\n",
    "import numpy as np\n",
    "import pandas as pd\n",
    "\n",
    "from kissim.encoding import FingerprintGenerator"
   ]
  },
  {
   "cell_type": "code",
   "execution_count": 2,
   "metadata": {},
   "outputs": [],
   "source": [
    "HERE = Path(_dh[-1])  # noqa: F821\n",
    "RESULTS = HERE / \"../../results/\""
   ]
  },
  {
   "cell_type": "markdown",
   "metadata": {},
   "source": [
    "## Load fingerprints"
   ]
  },
  {
   "cell_type": "code",
   "execution_count": 3,
   "metadata": {},
   "outputs": [
    {
     "name": "stdout",
     "output_type": "stream",
     "text": [
      "Number of fingerprints: 5222\n"
     ]
    }
   ],
   "source": [
    "fingerprint_generator = FingerprintGenerator.from_json(RESULTS / \"fingerprints_clean.json\")\n",
    "print(f\"Number of fingerprints: {len(fingerprint_generator.data)}\")\n",
    "# NBVAL_CHECK_OUTPUT"
   ]
  },
  {
   "cell_type": "markdown",
   "metadata": {},
   "source": [
    "## Distances features"
   ]
  },
  {
   "cell_type": "code",
   "execution_count": 4,
   "metadata": {},
   "outputs": [
    {
     "data": {
      "text/html": [
       "<div>\n",
       "<style scoped>\n",
       "    .dataframe tbody tr th:only-of-type {\n",
       "        vertical-align: middle;\n",
       "    }\n",
       "\n",
       "    .dataframe tbody tr th {\n",
       "        vertical-align: top;\n",
       "    }\n",
       "\n",
       "    .dataframe thead th {\n",
       "        text-align: right;\n",
       "    }\n",
       "</style>\n",
       "<table border=\"1\" class=\"dataframe\">\n",
       "  <thead>\n",
       "    <tr style=\"text-align: right;\">\n",
       "      <th></th>\n",
       "      <th></th>\n",
       "      <th>hinge_region</th>\n",
       "      <th>dfg_region</th>\n",
       "      <th>front_pocket</th>\n",
       "      <th>center</th>\n",
       "    </tr>\n",
       "    <tr>\n",
       "      <th>structure_klifs_id</th>\n",
       "      <th>residue_ix</th>\n",
       "      <th></th>\n",
       "      <th></th>\n",
       "      <th></th>\n",
       "      <th></th>\n",
       "    </tr>\n",
       "  </thead>\n",
       "  <tbody>\n",
       "    <tr>\n",
       "      <th rowspan=\"5\" valign=\"top\">3833</th>\n",
       "      <th>1</th>\n",
       "      <td>12.797916</td>\n",
       "      <td>19.079002</td>\n",
       "      <td>14.099449</td>\n",
       "      <td>17.262196</td>\n",
       "    </tr>\n",
       "    <tr>\n",
       "      <th>2</th>\n",
       "      <td>11.639592</td>\n",
       "      <td>16.480698</td>\n",
       "      <td>11.631843</td>\n",
       "      <td>15.175067</td>\n",
       "    </tr>\n",
       "    <tr>\n",
       "      <th>3</th>\n",
       "      <td>9.241100</td>\n",
       "      <td>15.125705</td>\n",
       "      <td>8.280284</td>\n",
       "      <td>12.448807</td>\n",
       "    </tr>\n",
       "    <tr>\n",
       "      <th>4</th>\n",
       "      <td>10.344558</td>\n",
       "      <td>13.665124</td>\n",
       "      <td>7.234079</td>\n",
       "      <td>11.854320</td>\n",
       "    </tr>\n",
       "    <tr>\n",
       "      <th>5</th>\n",
       "      <td>12.414777</td>\n",
       "      <td>12.788165</td>\n",
       "      <td>9.115113</td>\n",
       "      <td>12.904052</td>\n",
       "    </tr>\n",
       "    <tr>\n",
       "      <th>...</th>\n",
       "      <th>...</th>\n",
       "      <td>...</td>\n",
       "      <td>...</td>\n",
       "      <td>...</td>\n",
       "      <td>...</td>\n",
       "    </tr>\n",
       "    <tr>\n",
       "      <th rowspan=\"5\" valign=\"top\">7219</th>\n",
       "      <th>81</th>\n",
       "      <td>8.892165</td>\n",
       "      <td>7.109349</td>\n",
       "      <td>6.723064</td>\n",
       "      <td>3.793342</td>\n",
       "    </tr>\n",
       "    <tr>\n",
       "      <th>82</th>\n",
       "      <td>11.366709</td>\n",
       "      <td>6.088001</td>\n",
       "      <td>10.422721</td>\n",
       "      <td>6.788561</td>\n",
       "    </tr>\n",
       "    <tr>\n",
       "      <th>83</th>\n",
       "      <td>13.247789</td>\n",
       "      <td>5.919116</td>\n",
       "      <td>11.564625</td>\n",
       "      <td>9.319808</td>\n",
       "    </tr>\n",
       "    <tr>\n",
       "      <th>84</th>\n",
       "      <td>16.129894</td>\n",
       "      <td>9.708284</td>\n",
       "      <td>13.088131</td>\n",
       "      <td>11.473628</td>\n",
       "    </tr>\n",
       "    <tr>\n",
       "      <th>85</th>\n",
       "      <td>16.746517</td>\n",
       "      <td>10.580341</td>\n",
       "      <td>14.536907</td>\n",
       "      <td>11.731262</td>\n",
       "    </tr>\n",
       "  </tbody>\n",
       "</table>\n",
       "<p>443870 rows × 4 columns</p>\n",
       "</div>"
      ],
      "text/plain": [
       "                               hinge_region  dfg_region  front_pocket  \\\n",
       "structure_klifs_id residue_ix                                           \n",
       "3833               1              12.797916   19.079002     14.099449   \n",
       "                   2              11.639592   16.480698     11.631843   \n",
       "                   3               9.241100   15.125705      8.280284   \n",
       "                   4              10.344558   13.665124      7.234079   \n",
       "                   5              12.414777   12.788165      9.115113   \n",
       "...                                     ...         ...           ...   \n",
       "7219               81              8.892165    7.109349      6.723064   \n",
       "                   82             11.366709    6.088001     10.422721   \n",
       "                   83             13.247789    5.919116     11.564625   \n",
       "                   84             16.129894    9.708284     13.088131   \n",
       "                   85             16.746517   10.580341     14.536907   \n",
       "\n",
       "                                  center  \n",
       "structure_klifs_id residue_ix             \n",
       "3833               1           17.262196  \n",
       "                   2           15.175067  \n",
       "                   3           12.448807  \n",
       "                   4           11.854320  \n",
       "                   5           12.904052  \n",
       "...                                  ...  \n",
       "7219               81           3.793342  \n",
       "                   82           6.788561  \n",
       "                   83           9.319808  \n",
       "                   84          11.473628  \n",
       "                   85          11.731262  \n",
       "\n",
       "[443870 rows x 4 columns]"
      ]
     },
     "execution_count": 4,
     "metadata": {},
     "output_type": "execute_result"
    }
   ],
   "source": [
    "features_d = fingerprint_generator.distances_exploded()\n",
    "features_d"
   ]
  },
  {
   "cell_type": "code",
   "execution_count": 5,
   "metadata": {},
   "outputs": [
    {
     "data": {
      "text/html": [
       "<div>\n",
       "<style scoped>\n",
       "    .dataframe tbody tr th:only-of-type {\n",
       "        vertical-align: middle;\n",
       "    }\n",
       "\n",
       "    .dataframe tbody tr th {\n",
       "        vertical-align: top;\n",
       "    }\n",
       "\n",
       "    .dataframe thead th {\n",
       "        text-align: right;\n",
       "    }\n",
       "</style>\n",
       "<table border=\"1\" class=\"dataframe\">\n",
       "  <thead>\n",
       "    <tr style=\"text-align: right;\">\n",
       "      <th></th>\n",
       "      <th>hinge_region</th>\n",
       "      <th>dfg_region</th>\n",
       "      <th>front_pocket</th>\n",
       "      <th>center</th>\n",
       "    </tr>\n",
       "  </thead>\n",
       "  <tbody>\n",
       "    <tr>\n",
       "      <th>count</th>\n",
       "      <td>436060.000000</td>\n",
       "      <td>431769.000000</td>\n",
       "      <td>436162.000000</td>\n",
       "      <td>436886.000000</td>\n",
       "    </tr>\n",
       "    <tr>\n",
       "      <th>mean</th>\n",
       "      <td>12.873753</td>\n",
       "      <td>13.574359</td>\n",
       "      <td>13.034014</td>\n",
       "      <td>12.005602</td>\n",
       "    </tr>\n",
       "    <tr>\n",
       "      <th>std</th>\n",
       "      <td>4.565766</td>\n",
       "      <td>4.860071</td>\n",
       "      <td>4.283397</td>\n",
       "      <td>3.482221</td>\n",
       "    </tr>\n",
       "    <tr>\n",
       "      <th>min</th>\n",
       "      <td>2.373261</td>\n",
       "      <td>0.873535</td>\n",
       "      <td>1.355564</td>\n",
       "      <td>0.890727</td>\n",
       "    </tr>\n",
       "    <tr>\n",
       "      <th>0.1%</th>\n",
       "      <td>3.702720</td>\n",
       "      <td>3.586912</td>\n",
       "      <td>4.528594</td>\n",
       "      <td>2.315035</td>\n",
       "    </tr>\n",
       "    <tr>\n",
       "      <th>1%</th>\n",
       "      <td>4.110608</td>\n",
       "      <td>4.646228</td>\n",
       "      <td>5.453957</td>\n",
       "      <td>3.056130</td>\n",
       "    </tr>\n",
       "    <tr>\n",
       "      <th>50%</th>\n",
       "      <td>12.564068</td>\n",
       "      <td>13.298356</td>\n",
       "      <td>12.452536</td>\n",
       "      <td>12.017167</td>\n",
       "    </tr>\n",
       "    <tr>\n",
       "      <th>99%</th>\n",
       "      <td>23.064425</td>\n",
       "      <td>26.701407</td>\n",
       "      <td>23.431880</td>\n",
       "      <td>21.186535</td>\n",
       "    </tr>\n",
       "    <tr>\n",
       "      <th>99.9%</th>\n",
       "      <td>25.084040</td>\n",
       "      <td>29.263488</td>\n",
       "      <td>25.884926</td>\n",
       "      <td>23.517875</td>\n",
       "    </tr>\n",
       "    <tr>\n",
       "      <th>max</th>\n",
       "      <td>30.791023</td>\n",
       "      <td>33.760345</td>\n",
       "      <td>33.154510</td>\n",
       "      <td>28.318304</td>\n",
       "    </tr>\n",
       "  </tbody>\n",
       "</table>\n",
       "</div>"
      ],
      "text/plain": [
       "        hinge_region     dfg_region   front_pocket         center\n",
       "count  436060.000000  431769.000000  436162.000000  436886.000000\n",
       "mean       12.873753      13.574359      13.034014      12.005602\n",
       "std         4.565766       4.860071       4.283397       3.482221\n",
       "min         2.373261       0.873535       1.355564       0.890727\n",
       "0.1%        3.702720       3.586912       4.528594       2.315035\n",
       "1%          4.110608       4.646228       5.453957       3.056130\n",
       "50%        12.564068      13.298356      12.452536      12.017167\n",
       "99%        23.064425      26.701407      23.431880      21.186535\n",
       "99.9%      25.084040      29.263488      25.884926      23.517875\n",
       "max        30.791023      33.760345      33.154510      28.318304"
      ]
     },
     "execution_count": 5,
     "metadata": {},
     "output_type": "execute_result"
    }
   ],
   "source": [
    "features_d_stats = features_d.describe(percentiles=[0.001, 0.01, 0.99, 0.999])\n",
    "features_d_stats"
   ]
  },
  {
   "cell_type": "code",
   "execution_count": 6,
   "metadata": {},
   "outputs": [
    {
     "data": {
      "text/html": [
       "<div>\n",
       "<style scoped>\n",
       "    .dataframe tbody tr th:only-of-type {\n",
       "        vertical-align: middle;\n",
       "    }\n",
       "\n",
       "    .dataframe tbody tr th {\n",
       "        vertical-align: top;\n",
       "    }\n",
       "\n",
       "    .dataframe thead th {\n",
       "        text-align: right;\n",
       "    }\n",
       "</style>\n",
       "<table border=\"1\" class=\"dataframe\">\n",
       "  <thead>\n",
       "    <tr style=\"text-align: right;\">\n",
       "      <th></th>\n",
       "      <th>hinge_region</th>\n",
       "      <th>dfg_region</th>\n",
       "      <th>front_pocket</th>\n",
       "      <th>center</th>\n",
       "    </tr>\n",
       "  </thead>\n",
       "  <tbody>\n",
       "    <tr>\n",
       "      <th>min</th>\n",
       "      <td>2.373261</td>\n",
       "      <td>0.873535</td>\n",
       "      <td>1.355564</td>\n",
       "      <td>0.890727</td>\n",
       "    </tr>\n",
       "    <tr>\n",
       "      <th>max</th>\n",
       "      <td>30.791023</td>\n",
       "      <td>33.760345</td>\n",
       "      <td>33.154510</td>\n",
       "      <td>28.318304</td>\n",
       "    </tr>\n",
       "  </tbody>\n",
       "</table>\n",
       "</div>"
      ],
      "text/plain": [
       "     hinge_region  dfg_region  front_pocket     center\n",
       "min      2.373261    0.873535      1.355564   0.890727\n",
       "max     30.791023   33.760345     33.154510  28.318304"
      ]
     },
     "execution_count": 6,
     "metadata": {},
     "output_type": "execute_result"
    }
   ],
   "source": [
    "features_d_stats.loc[[\"min\", \"max\"], :]"
   ]
  },
  {
   "cell_type": "code",
   "execution_count": 7,
   "metadata": {},
   "outputs": [
    {
     "data": {
      "text/html": [
       "<div>\n",
       "<style scoped>\n",
       "    .dataframe tbody tr th:only-of-type {\n",
       "        vertical-align: middle;\n",
       "    }\n",
       "\n",
       "    .dataframe tbody tr th {\n",
       "        vertical-align: top;\n",
       "    }\n",
       "\n",
       "    .dataframe thead th {\n",
       "        text-align: right;\n",
       "    }\n",
       "</style>\n",
       "<table border=\"1\" class=\"dataframe\">\n",
       "  <thead>\n",
       "    <tr style=\"text-align: right;\">\n",
       "      <th></th>\n",
       "      <th>hinge_region</th>\n",
       "      <th>dfg_region</th>\n",
       "      <th>front_pocket</th>\n",
       "      <th>center</th>\n",
       "    </tr>\n",
       "  </thead>\n",
       "  <tbody>\n",
       "    <tr>\n",
       "      <th>min</th>\n",
       "      <td>2.0</td>\n",
       "      <td>0.0</td>\n",
       "      <td>1.0</td>\n",
       "      <td>0.0</td>\n",
       "    </tr>\n",
       "    <tr>\n",
       "      <th>max</th>\n",
       "      <td>31.0</td>\n",
       "      <td>34.0</td>\n",
       "      <td>34.0</td>\n",
       "      <td>29.0</td>\n",
       "    </tr>\n",
       "  </tbody>\n",
       "</table>\n",
       "</div>"
      ],
      "text/plain": [
       "     hinge_region  dfg_region  front_pocket  center\n",
       "min           2.0         0.0           1.0     0.0\n",
       "max          31.0        34.0          34.0    29.0"
      ]
     },
     "execution_count": 7,
     "metadata": {},
     "output_type": "execute_result"
    }
   ],
   "source": [
    "distance_cutoff = pd.concat(\n",
    "    [np.floor(features_d_stats.loc[\"min\", :]), np.ceil(features_d_stats.loc[\"max\", :])], axis=1\n",
    ").transpose()\n",
    "distance_cutoff"
   ]
  },
  {
   "cell_type": "markdown",
   "metadata": {},
   "source": [
    "Format as dictionary as needed for `kissim`: \n",
    "https://github.com/volkamerlab/kissim/blob/master/kissim/definitions.py"
   ]
  },
  {
   "cell_type": "code",
   "execution_count": 8,
   "metadata": {},
   "outputs": [
    {
     "data": {
      "text/plain": [
       "{'hinge_region': (2.0, 31.0),\n",
       " 'dfg_region': (0.0, 34.0),\n",
       " 'front_pocket': (1.0, 34.0),\n",
       " 'center': (0.0, 29.0)}"
      ]
     },
     "execution_count": 8,
     "metadata": {},
     "output_type": "execute_result"
    }
   ],
   "source": [
    "{subpocket_name: tuple(values) for subpocket_name, values in distance_cutoff.items()}"
   ]
  },
  {
   "cell_type": "markdown",
   "metadata": {},
   "source": [
    "## Moments features"
   ]
  },
  {
   "cell_type": "code",
   "execution_count": 9,
   "metadata": {},
   "outputs": [],
   "source": [
    "features_m = fingerprint_generator.moments_exploded()\n",
    "features_m = features_m.stack().unstack(level=1).reset_index(drop=True)"
   ]
  },
  {
   "cell_type": "code",
   "execution_count": 10,
   "metadata": {},
   "outputs": [
    {
     "data": {
      "text/html": [
       "<div>\n",
       "<style scoped>\n",
       "    .dataframe tbody tr th:only-of-type {\n",
       "        vertical-align: middle;\n",
       "    }\n",
       "\n",
       "    .dataframe tbody tr th {\n",
       "        vertical-align: top;\n",
       "    }\n",
       "\n",
       "    .dataframe thead th {\n",
       "        text-align: right;\n",
       "    }\n",
       "</style>\n",
       "<table border=\"1\" class=\"dataframe\">\n",
       "  <thead>\n",
       "    <tr style=\"text-align: right;\">\n",
       "      <th>moment</th>\n",
       "      <th>1</th>\n",
       "      <th>2</th>\n",
       "      <th>3</th>\n",
       "    </tr>\n",
       "  </thead>\n",
       "  <tbody>\n",
       "    <tr>\n",
       "      <th>count</th>\n",
       "      <td>20800.000000</td>\n",
       "      <td>20800.000000</td>\n",
       "      <td>20800.000000</td>\n",
       "    </tr>\n",
       "    <tr>\n",
       "      <th>mean</th>\n",
       "      <td>12.870258</td>\n",
       "      <td>4.283153</td>\n",
       "      <td>2.780543</td>\n",
       "    </tr>\n",
       "    <tr>\n",
       "      <th>std</th>\n",
       "      <td>0.617352</td>\n",
       "      <td>0.557114</td>\n",
       "      <td>1.071235</td>\n",
       "    </tr>\n",
       "    <tr>\n",
       "      <th>min</th>\n",
       "      <td>11.206953</td>\n",
       "      <td>2.838044</td>\n",
       "      <td>-2.786872</td>\n",
       "    </tr>\n",
       "    <tr>\n",
       "      <th>0.1%</th>\n",
       "      <td>11.557383</td>\n",
       "      <td>3.036482</td>\n",
       "      <td>-2.113185</td>\n",
       "    </tr>\n",
       "    <tr>\n",
       "      <th>1%</th>\n",
       "      <td>11.679099</td>\n",
       "      <td>3.259589</td>\n",
       "      <td>-1.696522</td>\n",
       "    </tr>\n",
       "    <tr>\n",
       "      <th>50%</th>\n",
       "      <td>12.922318</td>\n",
       "      <td>4.422952</td>\n",
       "      <td>2.884637</td>\n",
       "    </tr>\n",
       "    <tr>\n",
       "      <th>99%</th>\n",
       "      <td>14.196597</td>\n",
       "      <td>5.283267</td>\n",
       "      <td>4.708257</td>\n",
       "    </tr>\n",
       "    <tr>\n",
       "      <th>99.9%</th>\n",
       "      <td>14.835826</td>\n",
       "      <td>5.577127</td>\n",
       "      <td>5.655943</td>\n",
       "    </tr>\n",
       "    <tr>\n",
       "      <th>max</th>\n",
       "      <td>16.848968</td>\n",
       "      <td>6.377253</td>\n",
       "      <td>6.178007</td>\n",
       "    </tr>\n",
       "  </tbody>\n",
       "</table>\n",
       "</div>"
      ],
      "text/plain": [
       "moment             1             2             3\n",
       "count   20800.000000  20800.000000  20800.000000\n",
       "mean       12.870258      4.283153      2.780543\n",
       "std         0.617352      0.557114      1.071235\n",
       "min        11.206953      2.838044     -2.786872\n",
       "0.1%       11.557383      3.036482     -2.113185\n",
       "1%         11.679099      3.259589     -1.696522\n",
       "50%        12.922318      4.422952      2.884637\n",
       "99%        14.196597      5.283267      4.708257\n",
       "99.9%      14.835826      5.577127      5.655943\n",
       "max        16.848968      6.377253      6.178007"
      ]
     },
     "execution_count": 10,
     "metadata": {},
     "output_type": "execute_result"
    }
   ],
   "source": [
    "features_m_stats = features_m.describe(percentiles=[0.001, 0.01, 0.99, 0.999])\n",
    "features_m_stats"
   ]
  },
  {
   "cell_type": "code",
   "execution_count": 11,
   "metadata": {},
   "outputs": [
    {
     "data": {
      "text/html": [
       "<div>\n",
       "<style scoped>\n",
       "    .dataframe tbody tr th:only-of-type {\n",
       "        vertical-align: middle;\n",
       "    }\n",
       "\n",
       "    .dataframe tbody tr th {\n",
       "        vertical-align: top;\n",
       "    }\n",
       "\n",
       "    .dataframe thead th {\n",
       "        text-align: right;\n",
       "    }\n",
       "</style>\n",
       "<table border=\"1\" class=\"dataframe\">\n",
       "  <thead>\n",
       "    <tr style=\"text-align: right;\">\n",
       "      <th>moment</th>\n",
       "      <th>1</th>\n",
       "      <th>2</th>\n",
       "      <th>3</th>\n",
       "    </tr>\n",
       "  </thead>\n",
       "  <tbody>\n",
       "    <tr>\n",
       "      <th>min</th>\n",
       "      <td>11.0</td>\n",
       "      <td>2.0</td>\n",
       "      <td>-3.0</td>\n",
       "    </tr>\n",
       "    <tr>\n",
       "      <th>max</th>\n",
       "      <td>17.0</td>\n",
       "      <td>7.0</td>\n",
       "      <td>7.0</td>\n",
       "    </tr>\n",
       "  </tbody>\n",
       "</table>\n",
       "</div>"
      ],
      "text/plain": [
       "moment     1    2    3\n",
       "min     11.0  2.0 -3.0\n",
       "max     17.0  7.0  7.0"
      ]
     },
     "execution_count": 11,
     "metadata": {},
     "output_type": "execute_result"
    }
   ],
   "source": [
    "moment_cutoff = pd.concat(\n",
    "    [np.floor(features_m_stats.loc[\"min\", :]), np.ceil(features_m_stats.loc[\"max\", :])], axis=1\n",
    ").transpose()\n",
    "moment_cutoff"
   ]
  },
  {
   "cell_type": "markdown",
   "metadata": {},
   "source": [
    "Format as dictionary as needed for `kissim`: \n",
    "https://github.com/volkamerlab/kissim/blob/master/kissim/definitions.py"
   ]
  },
  {
   "cell_type": "code",
   "execution_count": 12,
   "metadata": {},
   "outputs": [
    {
     "data": {
      "text/plain": [
       "{1: (11.0, 17.0), 2: (2.0, 7.0), 3: (-3.0, 7.0)}"
      ]
     },
     "execution_count": 12,
     "metadata": {},
     "output_type": "execute_result"
    }
   ],
   "source": [
    "{subpocket_name: tuple(values) for subpocket_name, values in moment_cutoff.items()}"
   ]
  }
 ],
 "metadata": {
  "kernelspec": {
   "display_name": "Python 3",
   "language": "python",
   "name": "python3"
  },
  "language_info": {
   "codemirror_mode": {
    "name": "ipython",
    "version": 3
   },
   "file_extension": ".py",
   "mimetype": "text/x-python",
   "name": "python",
   "nbconvert_exporter": "python",
   "pygments_lexer": "ipython3",
   "version": "3.9.5"
  },
  "widgets": {
   "application/vnd.jupyter.widget-state+json": {
    "state": {
     "9d1942319c894acd8f594a59dd76ac73": {
      "model_module": "nglview-js-widgets",
      "model_module_version": "3.0.1",
      "model_name": "ColormakerRegistryModel",
      "state": {
       "_msg_ar": [],
       "_msg_q": [],
       "_ready": true,
       "layout": "IPY_MODEL_e122433b5ee144308f7a27485a9a6b28"
      }
     },
     "e122433b5ee144308f7a27485a9a6b28": {
      "model_module": "@jupyter-widgets/base",
      "model_module_version": "1.2.0",
      "model_name": "LayoutModel",
      "state": {}
     }
    },
    "version_major": 2,
    "version_minor": 0
   }
  }
 },
 "nbformat": 4,
 "nbformat_minor": 4
}
