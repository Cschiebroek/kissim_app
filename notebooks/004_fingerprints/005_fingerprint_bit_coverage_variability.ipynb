{
 "cells": [
  {
   "cell_type": "markdown",
   "metadata": {},
   "source": [
    "# Fingerprint bit coverage and variability\n",
    "\n",
    "We check the coverage and variability of fingerprint bit positions across all fingerprints in our dataset.\n",
    "\n",
    "- Investigate missing bits across fingerprints\n",
    "- Investigate bit variability across fingerprints (standard deviation)\n",
    "- Get top X bit positions with no/high standard deviation"
   ]
  },
  {
   "cell_type": "code",
   "execution_count": 1,
   "metadata": {},
   "outputs": [],
   "source": [
    "%load_ext autoreload\n",
    "%autoreload 2"
   ]
  },
  {
   "cell_type": "code",
   "execution_count": 2,
   "metadata": {},
   "outputs": [
    {
     "data": {
      "application/vnd.jupyter.widget-view+json": {
       "model_id": "579685ee008e417aae30b22515c66804",
       "version_major": 2,
       "version_minor": 0
      },
      "text/plain": []
     },
     "metadata": {},
     "output_type": "display_data"
    }
   ],
   "source": [
    "from pathlib import Path\n",
    "\n",
    "import matplotlib.pyplot as plt\n",
    "import pandas as pd\n",
    "import seaborn as sns\n",
    "\n",
    "from kissim.encoding import FingerprintGenerator"
   ]
  },
  {
   "cell_type": "code",
   "execution_count": 3,
   "metadata": {},
   "outputs": [],
   "source": [
    "plt.style.use(\"seaborn\")"
   ]
  },
  {
   "cell_type": "code",
   "execution_count": 4,
   "metadata": {},
   "outputs": [],
   "source": [
    "HERE = Path(_dh[-1])  # noqa: F821\n",
    "RESULTS = HERE / \"../../results/\""
   ]
  },
  {
   "cell_type": "markdown",
   "metadata": {},
   "source": [
    "## Load fingerprints\n",
    "\n",
    "Let's load our pre-calculated fingerprint saved in a _json_ file as `FingerprintGenerator` object."
   ]
  },
  {
   "cell_type": "code",
   "execution_count": 5,
   "metadata": {},
   "outputs": [],
   "source": [
    "fingerprint_generator = FingerprintGenerator.from_json(\n",
    "    RESULTS / \"fingerprints_clean.json\", normalize=True\n",
    ")"
   ]
  },
  {
   "cell_type": "code",
   "execution_count": 6,
   "metadata": {},
   "outputs": [
    {
     "name": "stdout",
     "output_type": "stream",
     "text": [
      "Number of fingerprints: 5222\n"
     ]
    }
   ],
   "source": [
    "n_fingerprints = len(fingerprint_generator.data)\n",
    "print(f\"Number of fingerprints: {n_fingerprints}\")"
   ]
  },
  {
   "cell_type": "markdown",
   "metadata": {},
   "source": [
    "## Missing bits across fingerprints"
   ]
  },
  {
   "cell_type": "code",
   "execution_count": 7,
   "metadata": {},
   "outputs": [],
   "source": [
    "def nan_bit_ratio(fingerprint_generator, feature_group):\n",
    "\n",
    "    if feature_group == \"physicochemical\":\n",
    "        features = fingerprint_generator.physicochemical_exploded()\n",
    "        features = features.drop([\"sco.vertex_angle\", \"exposure.ratio\"], axis=1)\n",
    "    elif feature_group == \"distances\":\n",
    "        features = fingerprint_generator.distances_exploded()\n",
    "    elif feature_group == \"moments\":\n",
    "        features = fingerprint_generator.moments_exploded()\n",
    "    else:\n",
    "        raise KeyError(\"Feature group unknown.\")\n",
    "\n",
    "    features = features.unstack()\n",
    "    features_nan = features.isnull().sum(axis=0) / len(features)\n",
    "    features_nan = features_nan.unstack(0)\n",
    "\n",
    "    return features_nan"
   ]
  },
  {
   "cell_type": "markdown",
   "metadata": {},
   "source": [
    "![KLIFS kinase sequence logo](https://klifs.net/images/faq/colors.png)"
   ]
  },
  {
   "cell_type": "markdown",
   "metadata": {},
   "source": [
    "### Missing physicochemical bits"
   ]
  },
  {
   "cell_type": "code",
   "execution_count": 8,
   "metadata": {},
   "outputs": [
    {
     "data": {
      "text/html": [
       "<div>\n",
       "<style scoped>\n",
       "    .dataframe tbody tr th:only-of-type {\n",
       "        vertical-align: middle;\n",
       "    }\n",
       "\n",
       "    .dataframe tbody tr th {\n",
       "        vertical-align: top;\n",
       "    }\n",
       "\n",
       "    .dataframe thead th {\n",
       "        text-align: right;\n",
       "    }\n",
       "</style>\n",
       "<table border=\"1\" class=\"dataframe\">\n",
       "  <thead>\n",
       "    <tr style=\"text-align: right;\">\n",
       "      <th></th>\n",
       "      <th>size</th>\n",
       "      <th>hbd</th>\n",
       "      <th>hba</th>\n",
       "      <th>charge</th>\n",
       "      <th>aromatic</th>\n",
       "      <th>aliphatic</th>\n",
       "      <th>sco</th>\n",
       "      <th>exposure</th>\n",
       "    </tr>\n",
       "    <tr>\n",
       "      <th>residue_ix</th>\n",
       "      <th></th>\n",
       "      <th></th>\n",
       "      <th></th>\n",
       "      <th></th>\n",
       "      <th></th>\n",
       "      <th></th>\n",
       "      <th></th>\n",
       "      <th></th>\n",
       "    </tr>\n",
       "  </thead>\n",
       "  <tbody>\n",
       "    <tr>\n",
       "      <th>1</th>\n",
       "      <td>0.005936</td>\n",
       "      <td>0.005936</td>\n",
       "      <td>0.005936</td>\n",
       "      <td>0.005936</td>\n",
       "      <td>0.005936</td>\n",
       "      <td>0.005936</td>\n",
       "      <td>0.073152</td>\n",
       "      <td>0.005936</td>\n",
       "    </tr>\n",
       "    <tr>\n",
       "      <th>2</th>\n",
       "      <td>0.005170</td>\n",
       "      <td>0.005170</td>\n",
       "      <td>0.005170</td>\n",
       "      <td>0.005170</td>\n",
       "      <td>0.005170</td>\n",
       "      <td>0.005170</td>\n",
       "      <td>0.033129</td>\n",
       "      <td>0.005170</td>\n",
       "    </tr>\n",
       "    <tr>\n",
       "      <th>3</th>\n",
       "      <td>0.005745</td>\n",
       "      <td>0.005745</td>\n",
       "      <td>0.005745</td>\n",
       "      <td>0.005745</td>\n",
       "      <td>0.005745</td>\n",
       "      <td>0.005745</td>\n",
       "      <td>0.010915</td>\n",
       "      <td>0.005936</td>\n",
       "    </tr>\n",
       "    <tr>\n",
       "      <th>4</th>\n",
       "      <td>0.017043</td>\n",
       "      <td>0.017043</td>\n",
       "      <td>0.017043</td>\n",
       "      <td>0.017043</td>\n",
       "      <td>0.017043</td>\n",
       "      <td>0.017043</td>\n",
       "      <td>0.941210</td>\n",
       "      <td>0.017235</td>\n",
       "    </tr>\n",
       "    <tr>\n",
       "      <th>5</th>\n",
       "      <td>0.044427</td>\n",
       "      <td>0.044427</td>\n",
       "      <td>0.044427</td>\n",
       "      <td>0.044427</td>\n",
       "      <td>0.044427</td>\n",
       "      <td>0.044427</td>\n",
       "      <td>0.144581</td>\n",
       "      <td>0.044810</td>\n",
       "    </tr>\n",
       "    <tr>\n",
       "      <th>...</th>\n",
       "      <td>...</td>\n",
       "      <td>...</td>\n",
       "      <td>...</td>\n",
       "      <td>...</td>\n",
       "      <td>...</td>\n",
       "      <td>...</td>\n",
       "      <td>...</td>\n",
       "      <td>...</td>\n",
       "    </tr>\n",
       "    <tr>\n",
       "      <th>81</th>\n",
       "      <td>0.001915</td>\n",
       "      <td>0.001915</td>\n",
       "      <td>0.001915</td>\n",
       "      <td>0.001915</td>\n",
       "      <td>0.001915</td>\n",
       "      <td>0.001915</td>\n",
       "      <td>0.010149</td>\n",
       "      <td>0.002298</td>\n",
       "    </tr>\n",
       "    <tr>\n",
       "      <th>82</th>\n",
       "      <td>0.010532</td>\n",
       "      <td>0.010532</td>\n",
       "      <td>0.010532</td>\n",
       "      <td>0.010532</td>\n",
       "      <td>0.010532</td>\n",
       "      <td>0.010532</td>\n",
       "      <td>0.014171</td>\n",
       "      <td>0.010532</td>\n",
       "    </tr>\n",
       "    <tr>\n",
       "      <th>83</th>\n",
       "      <td>0.036193</td>\n",
       "      <td>0.036193</td>\n",
       "      <td>0.036193</td>\n",
       "      <td>0.036193</td>\n",
       "      <td>0.036193</td>\n",
       "      <td>0.036193</td>\n",
       "      <td>0.982382</td>\n",
       "      <td>0.036768</td>\n",
       "    </tr>\n",
       "    <tr>\n",
       "      <th>84</th>\n",
       "      <td>0.072003</td>\n",
       "      <td>0.072003</td>\n",
       "      <td>0.072003</td>\n",
       "      <td>0.072003</td>\n",
       "      <td>0.072003</td>\n",
       "      <td>0.072003</td>\n",
       "      <td>0.088089</td>\n",
       "      <td>0.072769</td>\n",
       "    </tr>\n",
       "    <tr>\n",
       "      <th>85</th>\n",
       "      <td>0.114516</td>\n",
       "      <td>0.114516</td>\n",
       "      <td>0.114516</td>\n",
       "      <td>0.114516</td>\n",
       "      <td>0.114516</td>\n",
       "      <td>0.114516</td>\n",
       "      <td>0.156070</td>\n",
       "      <td>0.115856</td>\n",
       "    </tr>\n",
       "  </tbody>\n",
       "</table>\n",
       "<p>85 rows × 8 columns</p>\n",
       "</div>"
      ],
      "text/plain": [
       "                size       hbd       hba    charge  aromatic  aliphatic  \\\n",
       "residue_ix                                                                \n",
       "1           0.005936  0.005936  0.005936  0.005936  0.005936   0.005936   \n",
       "2           0.005170  0.005170  0.005170  0.005170  0.005170   0.005170   \n",
       "3           0.005745  0.005745  0.005745  0.005745  0.005745   0.005745   \n",
       "4           0.017043  0.017043  0.017043  0.017043  0.017043   0.017043   \n",
       "5           0.044427  0.044427  0.044427  0.044427  0.044427   0.044427   \n",
       "...              ...       ...       ...       ...       ...        ...   \n",
       "81          0.001915  0.001915  0.001915  0.001915  0.001915   0.001915   \n",
       "82          0.010532  0.010532  0.010532  0.010532  0.010532   0.010532   \n",
       "83          0.036193  0.036193  0.036193  0.036193  0.036193   0.036193   \n",
       "84          0.072003  0.072003  0.072003  0.072003  0.072003   0.072003   \n",
       "85          0.114516  0.114516  0.114516  0.114516  0.114516   0.114516   \n",
       "\n",
       "                 sco  exposure  \n",
       "residue_ix                      \n",
       "1           0.073152  0.005936  \n",
       "2           0.033129  0.005170  \n",
       "3           0.010915  0.005936  \n",
       "4           0.941210  0.017235  \n",
       "5           0.144581  0.044810  \n",
       "...              ...       ...  \n",
       "81          0.010149  0.002298  \n",
       "82          0.014171  0.010532  \n",
       "83          0.982382  0.036768  \n",
       "84          0.088089  0.072769  \n",
       "85          0.156070  0.115856  \n",
       "\n",
       "[85 rows x 8 columns]"
      ]
     },
     "execution_count": 8,
     "metadata": {},
     "output_type": "execute_result"
    }
   ],
   "source": [
    "feature_group = \"physicochemical\"\n",
    "features_nan = nan_bit_ratio(fingerprint_generator, feature_group)\n",
    "features_nan"
   ]
  },
  {
   "cell_type": "code",
   "execution_count": 9,
   "metadata": {},
   "outputs": [
    {
     "data": {
      "text/html": [
       "<div>\n",
       "<style scoped>\n",
       "    .dataframe tbody tr th:only-of-type {\n",
       "        vertical-align: middle;\n",
       "    }\n",
       "\n",
       "    .dataframe tbody tr th {\n",
       "        vertical-align: top;\n",
       "    }\n",
       "\n",
       "    .dataframe thead th {\n",
       "        text-align: right;\n",
       "    }\n",
       "</style>\n",
       "<table border=\"1\" class=\"dataframe\">\n",
       "  <thead>\n",
       "    <tr style=\"text-align: right;\">\n",
       "      <th></th>\n",
       "      <th>size</th>\n",
       "      <th>hbd</th>\n",
       "      <th>hba</th>\n",
       "      <th>charge</th>\n",
       "      <th>aromatic</th>\n",
       "      <th>aliphatic</th>\n",
       "      <th>sco</th>\n",
       "      <th>exposure</th>\n",
       "    </tr>\n",
       "  </thead>\n",
       "  <tbody>\n",
       "    <tr>\n",
       "      <th>count</th>\n",
       "      <td>85.000000</td>\n",
       "      <td>85.000000</td>\n",
       "      <td>85.000000</td>\n",
       "      <td>85.000000</td>\n",
       "      <td>85.000000</td>\n",
       "      <td>85.000000</td>\n",
       "      <td>85.000000</td>\n",
       "      <td>85.000000</td>\n",
       "    </tr>\n",
       "    <tr>\n",
       "      <th>mean</th>\n",
       "      <td>0.015635</td>\n",
       "      <td>0.015635</td>\n",
       "      <td>0.015635</td>\n",
       "      <td>0.015635</td>\n",
       "      <td>0.015635</td>\n",
       "      <td>0.015635</td>\n",
       "      <td>0.099187</td>\n",
       "      <td>0.015842</td>\n",
       "    </tr>\n",
       "    <tr>\n",
       "      <th>std</th>\n",
       "      <td>0.040772</td>\n",
       "      <td>0.040772</td>\n",
       "      <td>0.040772</td>\n",
       "      <td>0.040772</td>\n",
       "      <td>0.040772</td>\n",
       "      <td>0.040772</td>\n",
       "      <td>0.211893</td>\n",
       "      <td>0.040899</td>\n",
       "    </tr>\n",
       "    <tr>\n",
       "      <th>min</th>\n",
       "      <td>0.000000</td>\n",
       "      <td>0.000000</td>\n",
       "      <td>0.000000</td>\n",
       "      <td>0.000000</td>\n",
       "      <td>0.000000</td>\n",
       "      <td>0.000000</td>\n",
       "      <td>0.000383</td>\n",
       "      <td>0.000000</td>\n",
       "    </tr>\n",
       "    <tr>\n",
       "      <th>25%</th>\n",
       "      <td>0.000574</td>\n",
       "      <td>0.000574</td>\n",
       "      <td>0.000574</td>\n",
       "      <td>0.000574</td>\n",
       "      <td>0.000574</td>\n",
       "      <td>0.000574</td>\n",
       "      <td>0.006319</td>\n",
       "      <td>0.000957</td>\n",
       "    </tr>\n",
       "    <tr>\n",
       "      <th>50%</th>\n",
       "      <td>0.002298</td>\n",
       "      <td>0.002298</td>\n",
       "      <td>0.002298</td>\n",
       "      <td>0.002298</td>\n",
       "      <td>0.002298</td>\n",
       "      <td>0.002298</td>\n",
       "      <td>0.022788</td>\n",
       "      <td>0.002489</td>\n",
       "    </tr>\n",
       "    <tr>\n",
       "      <th>75%</th>\n",
       "      <td>0.008426</td>\n",
       "      <td>0.008426</td>\n",
       "      <td>0.008426</td>\n",
       "      <td>0.008426</td>\n",
       "      <td>0.008426</td>\n",
       "      <td>0.008426</td>\n",
       "      <td>0.068173</td>\n",
       "      <td>0.008426</td>\n",
       "    </tr>\n",
       "    <tr>\n",
       "      <th>max</th>\n",
       "      <td>0.316162</td>\n",
       "      <td>0.316162</td>\n",
       "      <td>0.316162</td>\n",
       "      <td>0.316162</td>\n",
       "      <td>0.316162</td>\n",
       "      <td>0.316162</td>\n",
       "      <td>0.982382</td>\n",
       "      <td>0.316545</td>\n",
       "    </tr>\n",
       "  </tbody>\n",
       "</table>\n",
       "</div>"
      ],
      "text/plain": [
       "            size        hbd        hba     charge   aromatic  aliphatic  \\\n",
       "count  85.000000  85.000000  85.000000  85.000000  85.000000  85.000000   \n",
       "mean    0.015635   0.015635   0.015635   0.015635   0.015635   0.015635   \n",
       "std     0.040772   0.040772   0.040772   0.040772   0.040772   0.040772   \n",
       "min     0.000000   0.000000   0.000000   0.000000   0.000000   0.000000   \n",
       "25%     0.000574   0.000574   0.000574   0.000574   0.000574   0.000574   \n",
       "50%     0.002298   0.002298   0.002298   0.002298   0.002298   0.002298   \n",
       "75%     0.008426   0.008426   0.008426   0.008426   0.008426   0.008426   \n",
       "max     0.316162   0.316162   0.316162   0.316162   0.316162   0.316162   \n",
       "\n",
       "             sco   exposure  \n",
       "count  85.000000  85.000000  \n",
       "mean    0.099187   0.015842  \n",
       "std     0.211893   0.040899  \n",
       "min     0.000383   0.000000  \n",
       "25%     0.006319   0.000957  \n",
       "50%     0.022788   0.002489  \n",
       "75%     0.068173   0.008426  \n",
       "max     0.982382   0.316545  "
      ]
     },
     "execution_count": 9,
     "metadata": {},
     "output_type": "execute_result"
    }
   ],
   "source": [
    "features_nan.describe()"
   ]
  },
  {
   "cell_type": "markdown",
   "metadata": {},
   "source": [
    "#### Heatmap (for an overview)"
   ]
  },
  {
   "cell_type": "code",
   "execution_count": 10,
   "metadata": {},
   "outputs": [
    {
     "data": {
      "image/png": "[encoded data removed]",
      "text/plain": [
       "<Figure size 1440x216 with 2 Axes>"
      ]
     },
     "metadata": {},
     "output_type": "display_data"
    }
   ],
   "source": [
    "plt.figure(figsize=(20, 3))\n",
    "sns.heatmap(\n",
    "    features_nan.transpose(),\n",
    "    cmap=\"Blues\",\n",
    "    cbar_kws={\"label\": f\"Ratio of NaN bits ({n_fingerprints} fingerprints)\"},\n",
    "    vmin=0,\n",
    "    vmax=1,\n",
    ")\n",
    "plt.xlabel(\"KLIFS pocket residue index\")\n",
    "plt.ylabel(\"Feature\");"
   ]
  },
  {
   "cell_type": "markdown",
   "metadata": {},
   "source": [
    "![KLIFS kinase sequence logo](https://klifs.net/images/faq/colors.png)"
   ]
  },
  {
   "cell_type": "markdown",
   "metadata": {},
   "source": [
    "#### Barplot (for concrete values)"
   ]
  },
  {
   "cell_type": "code",
   "execution_count": 11,
   "metadata": {},
   "outputs": [
    {
     "data": {
      "image/png": "[encoded data removed]",
      "text/plain": [
       "<Figure size 1584x360 with 1 Axes>"
      ]
     },
     "metadata": {},
     "output_type": "display_data"
    }
   ],
   "source": [
    "ax = features_nan.plot(kind=\"bar\", figsize=(22, 5), width=1, colormap=\"Set1\")\n",
    "ax.set_ylabel(f\"Ratio of NaN bits ({n_fingerprints} fingerprints)\");"
   ]
  },
  {
   "cell_type": "markdown",
   "metadata": {},
   "source": [
    "__Observations__\n",
    "\n",
    "- _Side chain orientation_: Gly-rich positions (e.g. 4, 6, 9, 83) have high ratios of missing side orientation values because Gly has no side chain.\n",
    "- _All feature types_: Higher ratios of missing bits for pocket positions with high ratio of missing residues (e.g. 50, 4-9, 83-58). Check out pattern resemblance with plot on \"Missing residues in the kinase binding site\" in [this notebook](https://github.com/volkamerlab/kissim_app/blob/master/notebooks/dataset/explore_dataset.ipynb)."
   ]
  },
  {
   "cell_type": "markdown",
   "metadata": {},
   "source": [
    "### Missing distance bits"
   ]
  },
  {
   "cell_type": "code",
   "execution_count": 12,
   "metadata": {},
   "outputs": [
    {
     "data": {
      "text/html": [
       "<div>\n",
       "<style scoped>\n",
       "    .dataframe tbody tr th:only-of-type {\n",
       "        vertical-align: middle;\n",
       "    }\n",
       "\n",
       "    .dataframe tbody tr th {\n",
       "        vertical-align: top;\n",
       "    }\n",
       "\n",
       "    .dataframe thead th {\n",
       "        text-align: right;\n",
       "    }\n",
       "</style>\n",
       "<table border=\"1\" class=\"dataframe\">\n",
       "  <thead>\n",
       "    <tr style=\"text-align: right;\">\n",
       "      <th></th>\n",
       "      <th>hinge_region</th>\n",
       "      <th>dfg_region</th>\n",
       "      <th>front_pocket</th>\n",
       "      <th>center</th>\n",
       "    </tr>\n",
       "    <tr>\n",
       "      <th>residue_ix</th>\n",
       "      <th></th>\n",
       "      <th></th>\n",
       "      <th></th>\n",
       "      <th></th>\n",
       "    </tr>\n",
       "  </thead>\n",
       "  <tbody>\n",
       "    <tr>\n",
       "      <th>1</th>\n",
       "      <td>0.007660</td>\n",
       "      <td>0.017618</td>\n",
       "      <td>0.006319</td>\n",
       "      <td>0.005936</td>\n",
       "    </tr>\n",
       "    <tr>\n",
       "      <th>2</th>\n",
       "      <td>0.006894</td>\n",
       "      <td>0.017043</td>\n",
       "      <td>0.005553</td>\n",
       "      <td>0.005170</td>\n",
       "    </tr>\n",
       "    <tr>\n",
       "      <th>3</th>\n",
       "      <td>0.007468</td>\n",
       "      <td>0.017618</td>\n",
       "      <td>0.006128</td>\n",
       "      <td>0.005745</td>\n",
       "    </tr>\n",
       "    <tr>\n",
       "      <th>4</th>\n",
       "      <td>0.019150</td>\n",
       "      <td>0.029299</td>\n",
       "      <td>0.017809</td>\n",
       "      <td>0.017426</td>\n",
       "    </tr>\n",
       "    <tr>\n",
       "      <th>5</th>\n",
       "      <td>0.046534</td>\n",
       "      <td>0.055917</td>\n",
       "      <td>0.045193</td>\n",
       "      <td>0.044810</td>\n",
       "    </tr>\n",
       "    <tr>\n",
       "      <th>...</th>\n",
       "      <td>...</td>\n",
       "      <td>...</td>\n",
       "      <td>...</td>\n",
       "      <td>...</td>\n",
       "    </tr>\n",
       "    <tr>\n",
       "      <th>81</th>\n",
       "      <td>0.002872</td>\n",
       "      <td>0.012830</td>\n",
       "      <td>0.004021</td>\n",
       "      <td>0.001915</td>\n",
       "    </tr>\n",
       "    <tr>\n",
       "      <th>82</th>\n",
       "      <td>0.011490</td>\n",
       "      <td>0.021448</td>\n",
       "      <td>0.012639</td>\n",
       "      <td>0.010532</td>\n",
       "    </tr>\n",
       "    <tr>\n",
       "      <th>83</th>\n",
       "      <td>0.037725</td>\n",
       "      <td>0.047491</td>\n",
       "      <td>0.038874</td>\n",
       "      <td>0.036768</td>\n",
       "    </tr>\n",
       "    <tr>\n",
       "      <th>84</th>\n",
       "      <td>0.073535</td>\n",
       "      <td>0.082535</td>\n",
       "      <td>0.074684</td>\n",
       "      <td>0.072578</td>\n",
       "    </tr>\n",
       "    <tr>\n",
       "      <th>85</th>\n",
       "      <td>0.115473</td>\n",
       "      <td>0.124473</td>\n",
       "      <td>0.116622</td>\n",
       "      <td>0.114516</td>\n",
       "    </tr>\n",
       "  </tbody>\n",
       "</table>\n",
       "<p>85 rows × 4 columns</p>\n",
       "</div>"
      ],
      "text/plain": [
       "            hinge_region  dfg_region  front_pocket    center\n",
       "residue_ix                                                  \n",
       "1               0.007660    0.017618      0.006319  0.005936\n",
       "2               0.006894    0.017043      0.005553  0.005170\n",
       "3               0.007468    0.017618      0.006128  0.005745\n",
       "4               0.019150    0.029299      0.017809  0.017426\n",
       "5               0.046534    0.055917      0.045193  0.044810\n",
       "...                  ...         ...           ...       ...\n",
       "81              0.002872    0.012830      0.004021  0.001915\n",
       "82              0.011490    0.021448      0.012639  0.010532\n",
       "83              0.037725    0.047491      0.038874  0.036768\n",
       "84              0.073535    0.082535      0.074684  0.072578\n",
       "85              0.115473    0.124473      0.116622  0.114516\n",
       "\n",
       "[85 rows x 4 columns]"
      ]
     },
     "execution_count": 12,
     "metadata": {},
     "output_type": "execute_result"
    }
   ],
   "source": [
    "feature_group = \"distances\"\n",
    "features_nan = nan_bit_ratio(fingerprint_generator, feature_group)\n",
    "features_nan"
   ]
  },
  {
   "cell_type": "code",
   "execution_count": 13,
   "metadata": {},
   "outputs": [
    {
     "data": {
      "text/html": [
       "<div>\n",
       "<style scoped>\n",
       "    .dataframe tbody tr th:only-of-type {\n",
       "        vertical-align: middle;\n",
       "    }\n",
       "\n",
       "    .dataframe tbody tr th {\n",
       "        vertical-align: top;\n",
       "    }\n",
       "\n",
       "    .dataframe thead th {\n",
       "        text-align: right;\n",
       "    }\n",
       "</style>\n",
       "<table border=\"1\" class=\"dataframe\">\n",
       "  <thead>\n",
       "    <tr style=\"text-align: right;\">\n",
       "      <th></th>\n",
       "      <th>hinge_region</th>\n",
       "      <th>dfg_region</th>\n",
       "      <th>front_pocket</th>\n",
       "      <th>center</th>\n",
       "    </tr>\n",
       "  </thead>\n",
       "  <tbody>\n",
       "    <tr>\n",
       "      <th>count</th>\n",
       "      <td>85.000000</td>\n",
       "      <td>85.000000</td>\n",
       "      <td>85.000000</td>\n",
       "      <td>85.000000</td>\n",
       "    </tr>\n",
       "    <tr>\n",
       "      <th>mean</th>\n",
       "      <td>0.017595</td>\n",
       "      <td>0.027262</td>\n",
       "      <td>0.017365</td>\n",
       "      <td>0.015734</td>\n",
       "    </tr>\n",
       "    <tr>\n",
       "      <th>std</th>\n",
       "      <td>0.040630</td>\n",
       "      <td>0.040425</td>\n",
       "      <td>0.040655</td>\n",
       "      <td>0.040792</td>\n",
       "    </tr>\n",
       "    <tr>\n",
       "      <th>min</th>\n",
       "      <td>0.002298</td>\n",
       "      <td>0.012447</td>\n",
       "      <td>0.002106</td>\n",
       "      <td>0.000000</td>\n",
       "    </tr>\n",
       "    <tr>\n",
       "      <th>25%</th>\n",
       "      <td>0.002489</td>\n",
       "      <td>0.012830</td>\n",
       "      <td>0.002298</td>\n",
       "      <td>0.000766</td>\n",
       "    </tr>\n",
       "    <tr>\n",
       "      <th>50%</th>\n",
       "      <td>0.004404</td>\n",
       "      <td>0.013788</td>\n",
       "      <td>0.004213</td>\n",
       "      <td>0.002489</td>\n",
       "    </tr>\n",
       "    <tr>\n",
       "      <th>75%</th>\n",
       "      <td>0.010149</td>\n",
       "      <td>0.018767</td>\n",
       "      <td>0.009958</td>\n",
       "      <td>0.008426</td>\n",
       "    </tr>\n",
       "    <tr>\n",
       "      <th>max</th>\n",
       "      <td>0.317120</td>\n",
       "      <td>0.327461</td>\n",
       "      <td>0.317311</td>\n",
       "      <td>0.316162</td>\n",
       "    </tr>\n",
       "  </tbody>\n",
       "</table>\n",
       "</div>"
      ],
      "text/plain": [
       "       hinge_region  dfg_region  front_pocket     center\n",
       "count     85.000000   85.000000     85.000000  85.000000\n",
       "mean       0.017595    0.027262      0.017365   0.015734\n",
       "std        0.040630    0.040425      0.040655   0.040792\n",
       "min        0.002298    0.012447      0.002106   0.000000\n",
       "25%        0.002489    0.012830      0.002298   0.000766\n",
       "50%        0.004404    0.013788      0.004213   0.002489\n",
       "75%        0.010149    0.018767      0.009958   0.008426\n",
       "max        0.317120    0.327461      0.317311   0.316162"
      ]
     },
     "execution_count": 13,
     "metadata": {},
     "output_type": "execute_result"
    }
   ],
   "source": [
    "features_nan.describe()"
   ]
  },
  {
   "cell_type": "markdown",
   "metadata": {},
   "source": [
    "#### Heatmap (for an overview)"
   ]
  },
  {
   "cell_type": "code",
   "execution_count": 14,
   "metadata": {},
   "outputs": [
    {
     "data": {
      "image/png": "[encoded data removed]",
      "text/plain": [
       "<Figure size 1440x144 with 2 Axes>"
      ]
     },
     "metadata": {},
     "output_type": "display_data"
    }
   ],
   "source": [
    "plt.figure(figsize=(20, 2))\n",
    "sns.heatmap(\n",
    "    features_nan.transpose(),\n",
    "    cmap=\"Blues\",\n",
    "    cbar_kws={\"label\": f\"Ratio of NaN bits ({n_fingerprints} fingerprints)\"},\n",
    "    vmin=0,\n",
    "    vmax=1,\n",
    ")\n",
    "plt.xlabel(\"KLIFS pocket residue index\")\n",
    "plt.ylabel(\"Feature\");"
   ]
  },
  {
   "cell_type": "markdown",
   "metadata": {},
   "source": [
    "#### Barplot (for concrete values)"
   ]
  },
  {
   "cell_type": "code",
   "execution_count": 15,
   "metadata": {},
   "outputs": [
    {
     "data": {
      "image/png": "[encoded data removed]",
      "text/plain": [
       "<Figure size 1584x360 with 1 Axes>"
      ]
     },
     "metadata": {},
     "output_type": "display_data"
    }
   ],
   "source": [
    "ax = features_nan.plot(kind=\"bar\", figsize=(22, 5), width=1, colormap=\"Set1\")\n",
    "ax.set_ylabel(f\"Ratio of NaN bits ({n_fingerprints} fingerprints)\");"
   ]
  },
  {
   "cell_type": "markdown",
   "metadata": {},
   "source": [
    "__Observations__\n",
    "\n",
    "- As before for the physicochemical bits, the pattern here resembles the missing residue pattern."
   ]
  },
  {
   "cell_type": "markdown",
   "metadata": {},
   "source": [
    "### Missing moments bits"
   ]
  },
  {
   "cell_type": "code",
   "execution_count": 16,
   "metadata": {},
   "outputs": [
    {
     "data": {
      "text/html": [
       "<div>\n",
       "<style scoped>\n",
       "    .dataframe tbody tr th:only-of-type {\n",
       "        vertical-align: middle;\n",
       "    }\n",
       "\n",
       "    .dataframe tbody tr th {\n",
       "        vertical-align: top;\n",
       "    }\n",
       "\n",
       "    .dataframe thead th {\n",
       "        text-align: right;\n",
       "    }\n",
       "</style>\n",
       "<table border=\"1\" class=\"dataframe\">\n",
       "  <thead>\n",
       "    <tr style=\"text-align: right;\">\n",
       "      <th></th>\n",
       "      <th>hinge_region</th>\n",
       "      <th>dfg_region</th>\n",
       "      <th>front_pocket</th>\n",
       "      <th>center</th>\n",
       "    </tr>\n",
       "    <tr>\n",
       "      <th>moment</th>\n",
       "      <th></th>\n",
       "      <th></th>\n",
       "      <th></th>\n",
       "      <th></th>\n",
       "    </tr>\n",
       "  </thead>\n",
       "  <tbody>\n",
       "    <tr>\n",
       "      <th>1</th>\n",
       "      <td>0.002298</td>\n",
       "      <td>0.012447</td>\n",
       "      <td>0.002106</td>\n",
       "      <td>0.0</td>\n",
       "    </tr>\n",
       "    <tr>\n",
       "      <th>2</th>\n",
       "      <td>0.002298</td>\n",
       "      <td>0.012447</td>\n",
       "      <td>0.002106</td>\n",
       "      <td>0.0</td>\n",
       "    </tr>\n",
       "    <tr>\n",
       "      <th>3</th>\n",
       "      <td>0.002298</td>\n",
       "      <td>0.012447</td>\n",
       "      <td>0.002106</td>\n",
       "      <td>0.0</td>\n",
       "    </tr>\n",
       "  </tbody>\n",
       "</table>\n",
       "</div>"
      ],
      "text/plain": [
       "        hinge_region  dfg_region  front_pocket  center\n",
       "moment                                                \n",
       "1           0.002298    0.012447      0.002106     0.0\n",
       "2           0.002298    0.012447      0.002106     0.0\n",
       "3           0.002298    0.012447      0.002106     0.0"
      ]
     },
     "execution_count": 16,
     "metadata": {},
     "output_type": "execute_result"
    }
   ],
   "source": [
    "feature_group = \"moments\"\n",
    "features_nan = nan_bit_ratio(fingerprint_generator, feature_group)\n",
    "features_nan"
   ]
  },
  {
   "cell_type": "code",
   "execution_count": 17,
   "metadata": {},
   "outputs": [
    {
     "name": "stdout",
     "output_type": "stream",
     "text": [
      "Number of structures with at least one NaN moment: 73\n"
     ]
    },
    {
     "data": {
      "text/html": [
       "<div>\n",
       "<style scoped>\n",
       "    .dataframe tbody tr th:only-of-type {\n",
       "        vertical-align: middle;\n",
       "    }\n",
       "\n",
       "    .dataframe tbody tr th {\n",
       "        vertical-align: top;\n",
       "    }\n",
       "\n",
       "    .dataframe thead th {\n",
       "        text-align: right;\n",
       "    }\n",
       "</style>\n",
       "<table border=\"1\" class=\"dataframe\">\n",
       "  <thead>\n",
       "    <tr style=\"text-align: right;\">\n",
       "      <th></th>\n",
       "      <th></th>\n",
       "      <th>hinge_region</th>\n",
       "      <th>dfg_region</th>\n",
       "      <th>front_pocket</th>\n",
       "      <th>center</th>\n",
       "    </tr>\n",
       "    <tr>\n",
       "      <th>structure_klifs_id</th>\n",
       "      <th>moment</th>\n",
       "      <th></th>\n",
       "      <th></th>\n",
       "      <th></th>\n",
       "      <th></th>\n",
       "    </tr>\n",
       "  </thead>\n",
       "  <tbody>\n",
       "    <tr>\n",
       "      <th rowspan=\"3\" valign=\"top\">3408</th>\n",
       "      <th>1</th>\n",
       "      <td>12.649982</td>\n",
       "      <td>NaN</td>\n",
       "      <td>12.883488</td>\n",
       "      <td>11.804442</td>\n",
       "    </tr>\n",
       "    <tr>\n",
       "      <th>2</th>\n",
       "      <td>4.611194</td>\n",
       "      <td>NaN</td>\n",
       "      <td>4.181470</td>\n",
       "      <td>3.537722</td>\n",
       "    </tr>\n",
       "    <tr>\n",
       "      <th>3</th>\n",
       "      <td>2.942645</td>\n",
       "      <td>NaN</td>\n",
       "      <td>2.775222</td>\n",
       "      <td>1.975019</td>\n",
       "    </tr>\n",
       "    <tr>\n",
       "      <th rowspan=\"2\" valign=\"top\">2542</th>\n",
       "      <th>1</th>\n",
       "      <td>12.814661</td>\n",
       "      <td>NaN</td>\n",
       "      <td>12.929758</td>\n",
       "      <td>12.332133</td>\n",
       "    </tr>\n",
       "    <tr>\n",
       "      <th>2</th>\n",
       "      <td>4.806795</td>\n",
       "      <td>NaN</td>\n",
       "      <td>4.490312</td>\n",
       "      <td>3.976784</td>\n",
       "    </tr>\n",
       "    <tr>\n",
       "      <th>...</th>\n",
       "      <th>...</th>\n",
       "      <td>...</td>\n",
       "      <td>...</td>\n",
       "      <td>...</td>\n",
       "      <td>...</td>\n",
       "    </tr>\n",
       "    <tr>\n",
       "      <th rowspan=\"2\" valign=\"top\">13458</th>\n",
       "      <th>2</th>\n",
       "      <td>NaN</td>\n",
       "      <td>NaN</td>\n",
       "      <td>4.831459</td>\n",
       "      <td>3.488443</td>\n",
       "    </tr>\n",
       "    <tr>\n",
       "      <th>3</th>\n",
       "      <td>NaN</td>\n",
       "      <td>NaN</td>\n",
       "      <td>4.697454</td>\n",
       "      <td>3.374173</td>\n",
       "    </tr>\n",
       "    <tr>\n",
       "      <th rowspan=\"3\" valign=\"top\">13457</th>\n",
       "      <th>1</th>\n",
       "      <td>NaN</td>\n",
       "      <td>NaN</td>\n",
       "      <td>13.185625</td>\n",
       "      <td>12.382970</td>\n",
       "    </tr>\n",
       "    <tr>\n",
       "      <th>2</th>\n",
       "      <td>NaN</td>\n",
       "      <td>NaN</td>\n",
       "      <td>4.790415</td>\n",
       "      <td>3.443742</td>\n",
       "    </tr>\n",
       "    <tr>\n",
       "      <th>3</th>\n",
       "      <td>NaN</td>\n",
       "      <td>NaN</td>\n",
       "      <td>4.584029</td>\n",
       "      <td>3.295044</td>\n",
       "    </tr>\n",
       "  </tbody>\n",
       "</table>\n",
       "<p>219 rows × 4 columns</p>\n",
       "</div>"
      ],
      "text/plain": [
       "                           hinge_region  dfg_region  front_pocket     center\n",
       "structure_klifs_id moment                                                   \n",
       "3408               1          12.649982         NaN     12.883488  11.804442\n",
       "                   2           4.611194         NaN      4.181470   3.537722\n",
       "                   3           2.942645         NaN      2.775222   1.975019\n",
       "2542               1          12.814661         NaN     12.929758  12.332133\n",
       "                   2           4.806795         NaN      4.490312   3.976784\n",
       "...                                 ...         ...           ...        ...\n",
       "13458              2                NaN         NaN      4.831459   3.488443\n",
       "                   3                NaN         NaN      4.697454   3.374173\n",
       "13457              1                NaN         NaN     13.185625  12.382970\n",
       "                   2                NaN         NaN      4.790415   3.443742\n",
       "                   3                NaN         NaN      4.584029   3.295044\n",
       "\n",
       "[219 rows x 4 columns]"
      ]
     },
     "execution_count": 17,
     "metadata": {},
     "output_type": "execute_result"
    }
   ],
   "source": [
    "features = fingerprint_generator.moments_exploded()\n",
    "structures_nan = features[features.isna().any(axis=1)]\n",
    "print(\n",
    "    f\"Number of structures with at least one NaN moment: \"\n",
    "    f\"{len(structures_nan.index.get_level_values(0).unique())}\"\n",
    ")\n",
    "structures_nan"
   ]
  },
  {
   "cell_type": "markdown",
   "metadata": {},
   "source": [
    "__Observations__\n",
    "\n",
    "- About 70 structures show at least one empty moment, matching well with the number of structures for which one or more subpocket centers could not be determined and thus, no distance distribution and no corresponding moments could be inferred. Check out \"Number of structures that will have no subpocket centers\" in [this notebook](https://github.com/volkamerlab/kissim_app/blob/master/notebooks/dataset/explore_dataset.ipynb)."
   ]
  },
  {
   "cell_type": "markdown",
   "metadata": {},
   "source": [
    "## Bit variability across fingerprints"
   ]
  },
  {
   "cell_type": "code",
   "execution_count": 18,
   "metadata": {},
   "outputs": [],
   "source": [
    "def bit_variability(fingerprint_generator, feature_group):\n",
    "\n",
    "    if feature_group == \"physicochemical\":\n",
    "        features = fingerprint_generator.physicochemical_exploded()\n",
    "        features = features.drop([\"sco.vertex_angle\", \"exposure.ratio\"], axis=1)\n",
    "    elif feature_group == \"distances\":\n",
    "        features = fingerprint_generator.distances_exploded()\n",
    "    elif feature_group == \"moments\":\n",
    "        features = fingerprint_generator.moments_exploded()\n",
    "    else:\n",
    "        raise KeyError(\"Feature group unknown.\")\n",
    "\n",
    "    features = features.unstack()\n",
    "    features_std = features.std()\n",
    "    features_std = features_std.unstack(0)\n",
    "\n",
    "    return features_std"
   ]
  },
  {
   "cell_type": "markdown",
   "metadata": {},
   "source": [
    "### Physicochemical bit variability"
   ]
  },
  {
   "cell_type": "code",
   "execution_count": 19,
   "metadata": {},
   "outputs": [
    {
     "data": {
      "text/html": [
       "<div>\n",
       "<style scoped>\n",
       "    .dataframe tbody tr th:only-of-type {\n",
       "        vertical-align: middle;\n",
       "    }\n",
       "\n",
       "    .dataframe tbody tr th {\n",
       "        vertical-align: top;\n",
       "    }\n",
       "\n",
       "    .dataframe thead th {\n",
       "        text-align: right;\n",
       "    }\n",
       "</style>\n",
       "<table border=\"1\" class=\"dataframe\">\n",
       "  <thead>\n",
       "    <tr style=\"text-align: right;\">\n",
       "      <th></th>\n",
       "      <th>size</th>\n",
       "      <th>hbd</th>\n",
       "      <th>hba</th>\n",
       "      <th>charge</th>\n",
       "      <th>aromatic</th>\n",
       "      <th>aliphatic</th>\n",
       "      <th>sco</th>\n",
       "      <th>exposure</th>\n",
       "    </tr>\n",
       "    <tr>\n",
       "      <th>residue_ix</th>\n",
       "      <th></th>\n",
       "      <th></th>\n",
       "      <th></th>\n",
       "      <th></th>\n",
       "      <th></th>\n",
       "      <th></th>\n",
       "      <th></th>\n",
       "      <th></th>\n",
       "    </tr>\n",
       "  </thead>\n",
       "  <tbody>\n",
       "    <tr>\n",
       "      <th>1</th>\n",
       "      <td>0.619667</td>\n",
       "      <td>0.973695</td>\n",
       "      <td>0.839013</td>\n",
       "      <td>0.788640</td>\n",
       "      <td>0.147822</td>\n",
       "      <td>0.325461</td>\n",
       "      <td>0.499800</td>\n",
       "      <td>0.534327</td>\n",
       "    </tr>\n",
       "    <tr>\n",
       "      <th>2</th>\n",
       "      <td>0.615464</td>\n",
       "      <td>0.713208</td>\n",
       "      <td>0.701777</td>\n",
       "      <td>0.616877</td>\n",
       "      <td>0.191489</td>\n",
       "      <td>0.499848</td>\n",
       "      <td>0.444900</td>\n",
       "      <td>0.294509</td>\n",
       "    </tr>\n",
       "    <tr>\n",
       "      <th>3</th>\n",
       "      <td>0.319752</td>\n",
       "      <td>0.064963</td>\n",
       "      <td>0.063520</td>\n",
       "      <td>0.036717</td>\n",
       "      <td>0.051862</td>\n",
       "      <td>0.073245</td>\n",
       "      <td>0.477106</td>\n",
       "      <td>0.249808</td>\n",
       "    </tr>\n",
       "    <tr>\n",
       "      <th>4</th>\n",
       "      <td>0.244984</td>\n",
       "      <td>0.174421</td>\n",
       "      <td>0.137261</td>\n",
       "      <td>0.062422</td>\n",
       "      <td>0.059119</td>\n",
       "      <td>0.202121</td>\n",
       "      <td>0.653328</td>\n",
       "      <td>0.900002</td>\n",
       "    </tr>\n",
       "    <tr>\n",
       "      <th>5</th>\n",
       "      <td>0.647314</td>\n",
       "      <td>0.888735</td>\n",
       "      <td>0.795963</td>\n",
       "      <td>0.729345</td>\n",
       "      <td>0.132367</td>\n",
       "      <td>0.339897</td>\n",
       "      <td>0.216861</td>\n",
       "      <td>0.381621</td>\n",
       "    </tr>\n",
       "    <tr>\n",
       "      <th>...</th>\n",
       "      <td>...</td>\n",
       "      <td>...</td>\n",
       "      <td>...</td>\n",
       "      <td>...</td>\n",
       "      <td>...</td>\n",
       "      <td>...</td>\n",
       "      <td>...</td>\n",
       "      <td>...</td>\n",
       "    </tr>\n",
       "    <tr>\n",
       "      <th>81</th>\n",
       "      <td>0.086306</td>\n",
       "      <td>0.041523</td>\n",
       "      <td>0.191472</td>\n",
       "      <td>0.102192</td>\n",
       "      <td>0.027695</td>\n",
       "      <td>0.057024</td>\n",
       "      <td>0.419858</td>\n",
       "      <td>0.528382</td>\n",
       "    </tr>\n",
       "    <tr>\n",
       "      <th>82</th>\n",
       "      <td>0.297498</td>\n",
       "      <td>0.234975</td>\n",
       "      <td>0.140715</td>\n",
       "      <td>0.031096</td>\n",
       "      <td>0.236063</td>\n",
       "      <td>0.229438</td>\n",
       "      <td>0.326291</td>\n",
       "      <td>0.494333</td>\n",
       "    </tr>\n",
       "    <tr>\n",
       "      <th>83</th>\n",
       "      <td>0.094310</td>\n",
       "      <td>0.120640</td>\n",
       "      <td>0.161522</td>\n",
       "      <td>0.066024</td>\n",
       "      <td>0.024410</td>\n",
       "      <td>0.096193</td>\n",
       "      <td>0.435385</td>\n",
       "      <td>0.724784</td>\n",
       "    </tr>\n",
       "    <tr>\n",
       "      <th>84</th>\n",
       "      <td>0.493950</td>\n",
       "      <td>0.497860</td>\n",
       "      <td>0.384196</td>\n",
       "      <td>0.120698</td>\n",
       "      <td>0.331745</td>\n",
       "      <td>0.421196</td>\n",
       "      <td>0.678566</td>\n",
       "      <td>0.726874</td>\n",
       "    </tr>\n",
       "    <tr>\n",
       "      <th>85</th>\n",
       "      <td>0.312533</td>\n",
       "      <td>0.471082</td>\n",
       "      <td>0.436534</td>\n",
       "      <td>0.056942</td>\n",
       "      <td>0.131996</td>\n",
       "      <td>0.446497</td>\n",
       "      <td>0.674759</td>\n",
       "      <td>0.699521</td>\n",
       "    </tr>\n",
       "  </tbody>\n",
       "</table>\n",
       "<p>85 rows × 8 columns</p>\n",
       "</div>"
      ],
      "text/plain": [
       "                size       hbd       hba    charge  aromatic  aliphatic  \\\n",
       "residue_ix                                                                \n",
       "1           0.619667  0.973695  0.839013  0.788640  0.147822   0.325461   \n",
       "2           0.615464  0.713208  0.701777  0.616877  0.191489   0.499848   \n",
       "3           0.319752  0.064963  0.063520  0.036717  0.051862   0.073245   \n",
       "4           0.244984  0.174421  0.137261  0.062422  0.059119   0.202121   \n",
       "5           0.647314  0.888735  0.795963  0.729345  0.132367   0.339897   \n",
       "...              ...       ...       ...       ...       ...        ...   \n",
       "81          0.086306  0.041523  0.191472  0.102192  0.027695   0.057024   \n",
       "82          0.297498  0.234975  0.140715  0.031096  0.236063   0.229438   \n",
       "83          0.094310  0.120640  0.161522  0.066024  0.024410   0.096193   \n",
       "84          0.493950  0.497860  0.384196  0.120698  0.331745   0.421196   \n",
       "85          0.312533  0.471082  0.436534  0.056942  0.131996   0.446497   \n",
       "\n",
       "                 sco  exposure  \n",
       "residue_ix                      \n",
       "1           0.499800  0.534327  \n",
       "2           0.444900  0.294509  \n",
       "3           0.477106  0.249808  \n",
       "4           0.653328  0.900002  \n",
       "5           0.216861  0.381621  \n",
       "...              ...       ...  \n",
       "81          0.419858  0.528382  \n",
       "82          0.326291  0.494333  \n",
       "83          0.435385  0.724784  \n",
       "84          0.678566  0.726874  \n",
       "85          0.674759  0.699521  \n",
       "\n",
       "[85 rows x 8 columns]"
      ]
     },
     "execution_count": 19,
     "metadata": {},
     "output_type": "execute_result"
    }
   ],
   "source": [
    "features_std = bit_variability(fingerprint_generator, \"physicochemical\")\n",
    "features_std"
   ]
  },
  {
   "cell_type": "code",
   "execution_count": 20,
   "metadata": {},
   "outputs": [
    {
     "data": {
      "text/html": [
       "<div>\n",
       "<style scoped>\n",
       "    .dataframe tbody tr th:only-of-type {\n",
       "        vertical-align: middle;\n",
       "    }\n",
       "\n",
       "    .dataframe tbody tr th {\n",
       "        vertical-align: top;\n",
       "    }\n",
       "\n",
       "    .dataframe thead th {\n",
       "        text-align: right;\n",
       "    }\n",
       "</style>\n",
       "<table border=\"1\" class=\"dataframe\">\n",
       "  <thead>\n",
       "    <tr style=\"text-align: right;\">\n",
       "      <th></th>\n",
       "      <th>size</th>\n",
       "      <th>hbd</th>\n",
       "      <th>hba</th>\n",
       "      <th>charge</th>\n",
       "      <th>aromatic</th>\n",
       "      <th>aliphatic</th>\n",
       "      <th>sco</th>\n",
       "      <th>exposure</th>\n",
       "    </tr>\n",
       "  </thead>\n",
       "  <tbody>\n",
       "    <tr>\n",
       "      <th>count</th>\n",
       "      <td>85.000000</td>\n",
       "      <td>85.000000</td>\n",
       "      <td>85.000000</td>\n",
       "      <td>85.000000</td>\n",
       "      <td>85.000000</td>\n",
       "      <td>85.000000</td>\n",
       "      <td>85.000000</td>\n",
       "      <td>85.000000</td>\n",
       "    </tr>\n",
       "    <tr>\n",
       "      <th>mean</th>\n",
       "      <td>0.487516</td>\n",
       "      <td>0.495476</td>\n",
       "      <td>0.411051</td>\n",
       "      <td>0.280591</td>\n",
       "      <td>0.208545</td>\n",
       "      <td>0.305540</td>\n",
       "      <td>0.374135</td>\n",
       "      <td>0.524183</td>\n",
       "    </tr>\n",
       "    <tr>\n",
       "      <th>std</th>\n",
       "      <td>0.189946</td>\n",
       "      <td>0.303126</td>\n",
       "      <td>0.256747</td>\n",
       "      <td>0.248739</td>\n",
       "      <td>0.142390</td>\n",
       "      <td>0.140259</td>\n",
       "      <td>0.195444</td>\n",
       "      <td>0.162449</td>\n",
       "    </tr>\n",
       "    <tr>\n",
       "      <th>min</th>\n",
       "      <td>0.027738</td>\n",
       "      <td>0.000000</td>\n",
       "      <td>0.000000</td>\n",
       "      <td>0.000000</td>\n",
       "      <td>0.000000</td>\n",
       "      <td>0.039125</td>\n",
       "      <td>0.027850</td>\n",
       "      <td>0.064806</td>\n",
       "    </tr>\n",
       "    <tr>\n",
       "      <th>25%</th>\n",
       "      <td>0.373239</td>\n",
       "      <td>0.255949</td>\n",
       "      <td>0.195785</td>\n",
       "      <td>0.058638</td>\n",
       "      <td>0.103323</td>\n",
       "      <td>0.202121</td>\n",
       "      <td>0.222950</td>\n",
       "      <td>0.438225</td>\n",
       "    </tr>\n",
       "    <tr>\n",
       "      <th>50%</th>\n",
       "      <td>0.505429</td>\n",
       "      <td>0.483873</td>\n",
       "      <td>0.424170</td>\n",
       "      <td>0.195328</td>\n",
       "      <td>0.192201</td>\n",
       "      <td>0.325461</td>\n",
       "      <td>0.419858</td>\n",
       "      <td>0.526467</td>\n",
       "    </tr>\n",
       "    <tr>\n",
       "      <th>75%</th>\n",
       "      <td>0.619667</td>\n",
       "      <td>0.680912</td>\n",
       "      <td>0.614840</td>\n",
       "      <td>0.505784</td>\n",
       "      <td>0.319676</td>\n",
       "      <td>0.433938</td>\n",
       "      <td>0.510163</td>\n",
       "      <td>0.615960</td>\n",
       "    </tr>\n",
       "    <tr>\n",
       "      <th>max</th>\n",
       "      <td>0.824865</td>\n",
       "      <td>1.249968</td>\n",
       "      <td>0.920223</td>\n",
       "      <td>0.792068</td>\n",
       "      <td>0.499924</td>\n",
       "      <td>0.500041</td>\n",
       "      <td>0.812722</td>\n",
       "      <td>0.900002</td>\n",
       "    </tr>\n",
       "  </tbody>\n",
       "</table>\n",
       "</div>"
      ],
      "text/plain": [
       "            size        hbd        hba     charge   aromatic  aliphatic  \\\n",
       "count  85.000000  85.000000  85.000000  85.000000  85.000000  85.000000   \n",
       "mean    0.487516   0.495476   0.411051   0.280591   0.208545   0.305540   \n",
       "std     0.189946   0.303126   0.256747   0.248739   0.142390   0.140259   \n",
       "min     0.027738   0.000000   0.000000   0.000000   0.000000   0.039125   \n",
       "25%     0.373239   0.255949   0.195785   0.058638   0.103323   0.202121   \n",
       "50%     0.505429   0.483873   0.424170   0.195328   0.192201   0.325461   \n",
       "75%     0.619667   0.680912   0.614840   0.505784   0.319676   0.433938   \n",
       "max     0.824865   1.249968   0.920223   0.792068   0.499924   0.500041   \n",
       "\n",
       "             sco   exposure  \n",
       "count  85.000000  85.000000  \n",
       "mean    0.374135   0.524183  \n",
       "std     0.195444   0.162449  \n",
       "min     0.027850   0.064806  \n",
       "25%     0.222950   0.438225  \n",
       "50%     0.419858   0.526467  \n",
       "75%     0.510163   0.615960  \n",
       "max     0.812722   0.900002  "
      ]
     },
     "execution_count": 20,
     "metadata": {},
     "output_type": "execute_result"
    }
   ],
   "source": [
    "features_std.describe()"
   ]
  },
  {
   "cell_type": "code",
   "execution_count": 21,
   "metadata": {},
   "outputs": [
    {
     "data": {
      "image/png": "[encoded data removed]",
      "text/plain": [
       "<Figure size 1440x216 with 2 Axes>"
      ]
     },
     "metadata": {},
     "output_type": "display_data"
    }
   ],
   "source": [
    "plt.figure(figsize=(20, 3))\n",
    "sns.heatmap(\n",
    "    features_std.transpose(),\n",
    "    cmap=\"Blues\",\n",
    "    cbar_kws={\"label\": f\"Bit standard deviation ({n_fingerprints} fingerprints)\"},\n",
    ")\n",
    "plt.xlabel(\"KLIFS pocket residue index\")\n",
    "plt.ylabel(\"Feature\");"
   ]
  },
  {
   "cell_type": "markdown",
   "metadata": {},
   "source": [
    "__Observations__\n",
    "\n",
    "- Highest variability for HBD, lowest for aromatic and aliphatic\n",
    "- Conserved regions show as expected rigid size/pharmacophoric feature variability (e.g. 4, 6, 17, 24, 70, 75, 81-83).\n",
    "\n",
    "![KLIFS kinase sequence logo](https://klifs.net/images/faq/colors.png)"
   ]
  },
  {
   "cell_type": "markdown",
   "metadata": {},
   "source": [
    "### Distances bit variability"
   ]
  },
  {
   "cell_type": "code",
   "execution_count": 22,
   "metadata": {},
   "outputs": [
    {
     "data": {
      "text/html": [
       "<div>\n",
       "<style scoped>\n",
       "    .dataframe tbody tr th:only-of-type {\n",
       "        vertical-align: middle;\n",
       "    }\n",
       "\n",
       "    .dataframe tbody tr th {\n",
       "        vertical-align: top;\n",
       "    }\n",
       "\n",
       "    .dataframe thead th {\n",
       "        text-align: right;\n",
       "    }\n",
       "</style>\n",
       "<table border=\"1\" class=\"dataframe\">\n",
       "  <thead>\n",
       "    <tr style=\"text-align: right;\">\n",
       "      <th></th>\n",
       "      <th>hinge_region</th>\n",
       "      <th>dfg_region</th>\n",
       "      <th>front_pocket</th>\n",
       "      <th>center</th>\n",
       "    </tr>\n",
       "    <tr>\n",
       "      <th>residue_ix</th>\n",
       "      <th></th>\n",
       "      <th></th>\n",
       "      <th></th>\n",
       "      <th></th>\n",
       "    </tr>\n",
       "  </thead>\n",
       "  <tbody>\n",
       "    <tr>\n",
       "      <th>1</th>\n",
       "      <td>0.556834</td>\n",
       "      <td>0.932361</td>\n",
       "      <td>0.791084</td>\n",
       "      <td>0.622932</td>\n",
       "    </tr>\n",
       "    <tr>\n",
       "      <th>2</th>\n",
       "      <td>0.611980</td>\n",
       "      <td>1.132765</td>\n",
       "      <td>0.919286</td>\n",
       "      <td>0.784218</td>\n",
       "    </tr>\n",
       "    <tr>\n",
       "      <th>3</th>\n",
       "      <td>0.913001</td>\n",
       "      <td>1.089721</td>\n",
       "      <td>1.247761</td>\n",
       "      <td>1.033830</td>\n",
       "    </tr>\n",
       "    <tr>\n",
       "      <th>4</th>\n",
       "      <td>0.890977</td>\n",
       "      <td>1.411021</td>\n",
       "      <td>1.298377</td>\n",
       "      <td>1.079320</td>\n",
       "    </tr>\n",
       "    <tr>\n",
       "      <th>5</th>\n",
       "      <td>0.956074</td>\n",
       "      <td>1.694623</td>\n",
       "      <td>1.391972</td>\n",
       "      <td>1.253788</td>\n",
       "    </tr>\n",
       "    <tr>\n",
       "      <th>...</th>\n",
       "      <td>...</td>\n",
       "      <td>...</td>\n",
       "      <td>...</td>\n",
       "      <td>...</td>\n",
       "    </tr>\n",
       "    <tr>\n",
       "      <th>81</th>\n",
       "      <td>0.659300</td>\n",
       "      <td>0.772370</td>\n",
       "      <td>0.868227</td>\n",
       "      <td>0.693279</td>\n",
       "    </tr>\n",
       "    <tr>\n",
       "      <th>82</th>\n",
       "      <td>1.121988</td>\n",
       "      <td>1.065912</td>\n",
       "      <td>1.793751</td>\n",
       "      <td>0.746917</td>\n",
       "    </tr>\n",
       "    <tr>\n",
       "      <th>83</th>\n",
       "      <td>1.224078</td>\n",
       "      <td>1.736341</td>\n",
       "      <td>1.759962</td>\n",
       "      <td>0.939910</td>\n",
       "    </tr>\n",
       "    <tr>\n",
       "      <th>84</th>\n",
       "      <td>1.790820</td>\n",
       "      <td>2.059838</td>\n",
       "      <td>1.844390</td>\n",
       "      <td>1.359876</td>\n",
       "    </tr>\n",
       "    <tr>\n",
       "      <th>85</th>\n",
       "      <td>1.840505</td>\n",
       "      <td>1.924626</td>\n",
       "      <td>2.125995</td>\n",
       "      <td>1.601777</td>\n",
       "    </tr>\n",
       "  </tbody>\n",
       "</table>\n",
       "<p>85 rows × 4 columns</p>\n",
       "</div>"
      ],
      "text/plain": [
       "            hinge_region  dfg_region  front_pocket    center\n",
       "residue_ix                                                  \n",
       "1               0.556834    0.932361      0.791084  0.622932\n",
       "2               0.611980    1.132765      0.919286  0.784218\n",
       "3               0.913001    1.089721      1.247761  1.033830\n",
       "4               0.890977    1.411021      1.298377  1.079320\n",
       "5               0.956074    1.694623      1.391972  1.253788\n",
       "...                  ...         ...           ...       ...\n",
       "81              0.659300    0.772370      0.868227  0.693279\n",
       "82              1.121988    1.065912      1.793751  0.746917\n",
       "83              1.224078    1.736341      1.759962  0.939910\n",
       "84              1.790820    2.059838      1.844390  1.359876\n",
       "85              1.840505    1.924626      2.125995  1.601777\n",
       "\n",
       "[85 rows x 4 columns]"
      ]
     },
     "execution_count": 22,
     "metadata": {},
     "output_type": "execute_result"
    }
   ],
   "source": [
    "features_std = bit_variability(fingerprint_generator, \"distances\")\n",
    "features_std"
   ]
  },
  {
   "cell_type": "code",
   "execution_count": 23,
   "metadata": {},
   "outputs": [
    {
     "data": {
      "text/html": [
       "<div>\n",
       "<style scoped>\n",
       "    .dataframe tbody tr th:only-of-type {\n",
       "        vertical-align: middle;\n",
       "    }\n",
       "\n",
       "    .dataframe tbody tr th {\n",
       "        vertical-align: top;\n",
       "    }\n",
       "\n",
       "    .dataframe thead th {\n",
       "        text-align: right;\n",
       "    }\n",
       "</style>\n",
       "<table border=\"1\" class=\"dataframe\">\n",
       "  <thead>\n",
       "    <tr style=\"text-align: right;\">\n",
       "      <th></th>\n",
       "      <th>hinge_region</th>\n",
       "      <th>dfg_region</th>\n",
       "      <th>front_pocket</th>\n",
       "      <th>center</th>\n",
       "    </tr>\n",
       "  </thead>\n",
       "  <tbody>\n",
       "    <tr>\n",
       "      <th>count</th>\n",
       "      <td>85.000000</td>\n",
       "      <td>85.000000</td>\n",
       "      <td>85.000000</td>\n",
       "      <td>85.000000</td>\n",
       "    </tr>\n",
       "    <tr>\n",
       "      <th>mean</th>\n",
       "      <td>0.861550</td>\n",
       "      <td>1.048813</td>\n",
       "      <td>0.997024</td>\n",
       "      <td>0.907436</td>\n",
       "    </tr>\n",
       "    <tr>\n",
       "      <th>std</th>\n",
       "      <td>0.448798</td>\n",
       "      <td>0.381460</td>\n",
       "      <td>0.515740</td>\n",
       "      <td>0.410115</td>\n",
       "    </tr>\n",
       "    <tr>\n",
       "      <th>min</th>\n",
       "      <td>0.286982</td>\n",
       "      <td>0.503634</td>\n",
       "      <td>0.396263</td>\n",
       "      <td>0.440120</td>\n",
       "    </tr>\n",
       "    <tr>\n",
       "      <th>25%</th>\n",
       "      <td>0.512859</td>\n",
       "      <td>0.772732</td>\n",
       "      <td>0.611381</td>\n",
       "      <td>0.631784</td>\n",
       "    </tr>\n",
       "    <tr>\n",
       "      <th>50%</th>\n",
       "      <td>0.809806</td>\n",
       "      <td>0.996977</td>\n",
       "      <td>0.856632</td>\n",
       "      <td>0.784218</td>\n",
       "    </tr>\n",
       "    <tr>\n",
       "      <th>75%</th>\n",
       "      <td>1.035744</td>\n",
       "      <td>1.208698</td>\n",
       "      <td>1.144141</td>\n",
       "      <td>1.068337</td>\n",
       "    </tr>\n",
       "    <tr>\n",
       "      <th>max</th>\n",
       "      <td>2.305634</td>\n",
       "      <td>2.173340</td>\n",
       "      <td>2.912288</td>\n",
       "      <td>2.383548</td>\n",
       "    </tr>\n",
       "  </tbody>\n",
       "</table>\n",
       "</div>"
      ],
      "text/plain": [
       "       hinge_region  dfg_region  front_pocket     center\n",
       "count     85.000000   85.000000     85.000000  85.000000\n",
       "mean       0.861550    1.048813      0.997024   0.907436\n",
       "std        0.448798    0.381460      0.515740   0.410115\n",
       "min        0.286982    0.503634      0.396263   0.440120\n",
       "25%        0.512859    0.772732      0.611381   0.631784\n",
       "50%        0.809806    0.996977      0.856632   0.784218\n",
       "75%        1.035744    1.208698      1.144141   1.068337\n",
       "max        2.305634    2.173340      2.912288   2.383548"
      ]
     },
     "execution_count": 23,
     "metadata": {},
     "output_type": "execute_result"
    }
   ],
   "source": [
    "features_std.describe()"
   ]
  },
  {
   "cell_type": "code",
   "execution_count": 24,
   "metadata": {},
   "outputs": [
    {
     "data": {
      "image/png": "[encoded data removed]",
      "text/plain": [
       "<Figure size 1440x216 with 2 Axes>"
      ]
     },
     "metadata": {},
     "output_type": "display_data"
    }
   ],
   "source": [
    "plt.figure(figsize=(20, 3))\n",
    "sns.heatmap(\n",
    "    features_std.transpose(),\n",
    "    cmap=\"Blues\",\n",
    "    cbar_kws={\"label\": f\"Bit standard deviation ({n_fingerprints} fingerprints)\"},\n",
    ")\n",
    "plt.xlabel(\"KLIFS pocket residue index\")\n",
    "plt.ylabel(\"Feature\");"
   ]
  },
  {
   "cell_type": "markdown",
   "metadata": {},
   "source": [
    "__Observations__\n",
    "\n",
    "- Higher variability for \n",
    "  - residues 6-8 (part of the G-loop, known for loop flexibility) \n",
    "  - residues 20-24 (part of aC-helix, known for conformational changes)\n",
    "  - residues 82-85 (part of DFG-loop and activation loop, know for conformational changes) \n",
    "  - residues 59-61 (part of aE-helix, ???)\n",
    "  - residue 33 w.r.t. hinge region (???)"
   ]
  },
  {
   "cell_type": "markdown",
   "metadata": {},
   "source": [
    "![KLIFS kinase sequence logo](https://klifs.net/images/faq/colors.png)"
   ]
  },
  {
   "cell_type": "markdown",
   "metadata": {},
   "source": [
    "![](https://klifs.net/images/faq/pocket.png)"
   ]
  },
  {
   "cell_type": "markdown",
   "metadata": {},
   "source": [
    "### Moments bit variability"
   ]
  },
  {
   "cell_type": "code",
   "execution_count": 25,
   "metadata": {},
   "outputs": [
    {
     "data": {
      "text/html": [
       "<div>\n",
       "<style scoped>\n",
       "    .dataframe tbody tr th:only-of-type {\n",
       "        vertical-align: middle;\n",
       "    }\n",
       "\n",
       "    .dataframe tbody tr th {\n",
       "        vertical-align: top;\n",
       "    }\n",
       "\n",
       "    .dataframe thead th {\n",
       "        text-align: right;\n",
       "    }\n",
       "</style>\n",
       "<table border=\"1\" class=\"dataframe\">\n",
       "  <thead>\n",
       "    <tr style=\"text-align: right;\">\n",
       "      <th></th>\n",
       "      <th>hinge_region</th>\n",
       "      <th>dfg_region</th>\n",
       "      <th>front_pocket</th>\n",
       "      <th>center</th>\n",
       "    </tr>\n",
       "    <tr>\n",
       "      <th>moment</th>\n",
       "      <th></th>\n",
       "      <th></th>\n",
       "      <th></th>\n",
       "      <th></th>\n",
       "    </tr>\n",
       "  </thead>\n",
       "  <tbody>\n",
       "    <tr>\n",
       "      <th>1</th>\n",
       "      <td>0.196949</td>\n",
       "      <td>0.339818</td>\n",
       "      <td>0.239254</td>\n",
       "      <td>0.204455</td>\n",
       "    </tr>\n",
       "    <tr>\n",
       "      <th>2</th>\n",
       "      <td>0.165404</td>\n",
       "      <td>0.224037</td>\n",
       "      <td>0.301386</td>\n",
       "      <td>0.163233</td>\n",
       "    </tr>\n",
       "    <tr>\n",
       "      <th>3</th>\n",
       "      <td>0.540371</td>\n",
       "      <td>0.626146</td>\n",
       "      <td>0.578200</td>\n",
       "      <td>1.158101</td>\n",
       "    </tr>\n",
       "  </tbody>\n",
       "</table>\n",
       "</div>"
      ],
      "text/plain": [
       "        hinge_region  dfg_region  front_pocket    center\n",
       "moment                                                  \n",
       "1           0.196949    0.339818      0.239254  0.204455\n",
       "2           0.165404    0.224037      0.301386  0.163233\n",
       "3           0.540371    0.626146      0.578200  1.158101"
      ]
     },
     "execution_count": 25,
     "metadata": {},
     "output_type": "execute_result"
    }
   ],
   "source": [
    "features_std = bit_variability(fingerprint_generator, \"moments\")\n",
    "features_std"
   ]
  },
  {
   "cell_type": "code",
   "execution_count": 26,
   "metadata": {},
   "outputs": [
    {
     "data": {
      "image/png": "[encoded data removed]",
      "text/plain": [
       "<Figure size 216x216 with 2 Axes>"
      ]
     },
     "metadata": {},
     "output_type": "display_data"
    }
   ],
   "source": [
    "plt.figure(figsize=(3, 3))\n",
    "sns.heatmap(\n",
    "    features_std.transpose(),\n",
    "    cmap=\"Blues\",\n",
    "    cbar_kws={\"label\": f\"Bit standard deviation ({n_fingerprints} fingerprints)\"},\n",
    ")\n",
    "plt.xlabel(\"KLIFS pocket residue index\")\n",
    "plt.ylabel(\"Feature\");"
   ]
  },
  {
   "cell_type": "markdown",
   "metadata": {},
   "source": [
    "## Top X bit with no/low/high variability\n",
    "\n",
    "Get per-bit standard deviation for all feature types and check for bits with no/low/high variability."
   ]
  },
  {
   "cell_type": "code",
   "execution_count": 27,
   "metadata": {},
   "outputs": [
    {
     "name": "stdout",
     "output_type": "stream",
     "text": [
      "Number of bits with std: 1032\n"
     ]
    }
   ],
   "source": [
    "bits_std = []\n",
    "for feature_group in [\"physicochemical\", \"distances\", \"moments\"]:\n",
    "    bits_std.append(bit_variability(fingerprint_generator, feature_group).unstack())\n",
    "bits_std = pd.concat(bits_std)\n",
    "bits_std.index.names = [\"feature\", \"residue_ix\"]\n",
    "print(f\"Number of bits with std: {len(bits_std)}\")"
   ]
  },
  {
   "cell_type": "markdown",
   "metadata": {},
   "source": [
    "### No variability"
   ]
  },
  {
   "cell_type": "code",
   "execution_count": 28,
   "metadata": {},
   "outputs": [
    {
     "data": {
      "text/plain": [
       "feature   residue_ix\n",
       "hba       16            0.0\n",
       "aromatic  17            0.0\n",
       "hba       17            0.0\n",
       "aromatic  36            0.0\n",
       "charge    43            0.0\n",
       "aromatic  70            0.0\n",
       "charge    76            0.0\n",
       "          77            0.0\n",
       "hba       77            0.0\n",
       "hbd       77            0.0\n",
       "dtype: float64"
      ]
     },
     "execution_count": 28,
     "metadata": {},
     "output_type": "execute_result"
    }
   ],
   "source": [
    "bits_std_no_variability = bits_std[bits_std == 0]\n",
    "bits_std_no_variability.sort_index(level=1)"
   ]
  },
  {
   "cell_type": "code",
   "execution_count": 29,
   "metadata": {},
   "outputs": [
    {
     "name": "stdout",
     "output_type": "stream",
     "text": [
      "Number of bits with no effect because they are always (or almost always) the same: 10\n"
     ]
    }
   ],
   "source": [
    "print(\n",
    "    f\"Number of bits with no effect because they are always \"\n",
    "    f\"(or almost always) the same: {len(bits_std_no_variability)}\"\n",
    ")"
   ]
  },
  {
   "cell_type": "markdown",
   "metadata": {},
   "source": [
    "### Low variability"
   ]
  },
  {
   "cell_type": "code",
   "execution_count": 30,
   "metadata": {},
   "outputs": [
    {
     "data": {
      "text/plain": [
       "feature    residue_ix\n",
       "charge     3             0.036717\n",
       "aromatic   6             0.014402\n",
       "           9             0.028450\n",
       "charge     14            0.036606\n",
       "aliphatic  15            0.039125\n",
       "aromatic   15            0.023971\n",
       "charge     15            0.027677\n",
       "hba        15            0.030940\n",
       "aromatic   24            0.036672\n",
       "size       24            0.027738\n",
       "charge     35            0.013844\n",
       "           38            0.019570\n",
       "sco        42            0.039291\n",
       "           44            0.027850\n",
       "charge     45            0.027682\n",
       "           48            0.033890\n",
       "aromatic   53            0.041499\n",
       "           67            0.027735\n",
       "           71            0.033884\n",
       "sco        73            0.036886\n",
       "aromatic   75            0.019568\n",
       "charge     75            0.027669\n",
       "hbd        75            0.030931\n",
       "hba        76            0.019568\n",
       "charge     79            0.023986\n",
       "aromatic   80            0.013862\n",
       "charge     80            0.036679\n",
       "aromatic   81            0.027695\n",
       "charge     82            0.031096\n",
       "aromatic   83            0.024410\n",
       "dtype: float64"
      ]
     },
     "execution_count": 30,
     "metadata": {},
     "output_type": "execute_result"
    }
   ],
   "source": [
    "bits_std_low_variability = bits_std[bits_std != 0].sort_values().head(30)\n",
    "bits_std_low_variability.sort_index(level=1)"
   ]
  },
  {
   "cell_type": "markdown",
   "metadata": {},
   "source": [
    "### High variability"
   ]
  },
  {
   "cell_type": "code",
   "execution_count": 31,
   "metadata": {},
   "outputs": [
    {
     "data": {
      "text/plain": [
       "feature       residue_ix\n",
       "center        6             1.894815\n",
       "dfg_region    6             1.951965\n",
       "front_pocket  6             1.853232\n",
       "center        7             2.083341\n",
       "dfg_region    7             1.999326\n",
       "front_pocket  7             1.982328\n",
       "center        8             1.770940\n",
       "dfg_region    8             1.744013\n",
       "front_pocket  8             1.863213\n",
       "center        20            2.383548\n",
       "dfg_region    20            2.173340\n",
       "front_pocket  20            2.912288\n",
       "hinge_region  20            2.305634\n",
       "center        21            1.764560\n",
       "front_pocket  21            2.189540\n",
       "hinge_region  21            2.029776\n",
       "front_pocket  23            1.984741\n",
       "center        24            1.949804\n",
       "front_pocket  24            2.240621\n",
       "hinge_region  24            1.929066\n",
       "front_pocket  61            1.817676\n",
       "              82            1.793751\n",
       "dfg_region    83            1.736341\n",
       "front_pocket  83            1.759962\n",
       "dfg_region    84            2.059838\n",
       "front_pocket  84            1.844390\n",
       "hinge_region  84            1.790820\n",
       "dfg_region    85            1.924626\n",
       "front_pocket  85            2.125995\n",
       "hinge_region  85            1.840505\n",
       "dtype: float64"
      ]
     },
     "execution_count": 31,
     "metadata": {},
     "output_type": "execute_result"
    }
   ],
   "source": [
    "bits_std_high_variability = bits_std[bits_std != 0].sort_values().tail(30)\n",
    "bits_std_high_variability.sort_index(level=1)"
   ]
  }
 ],
 "metadata": {
  "kernelspec": {
   "display_name": "Python 3",
   "language": "python",
   "name": "python3"
  },
  "language_info": {
   "codemirror_mode": {
    "name": "ipython",
    "version": 3
   },
   "file_extension": ".py",
   "mimetype": "text/x-python",
   "name": "python",
   "nbconvert_exporter": "python",
   "pygments_lexer": "ipython3",
   "version": "3.9.5"
  },
  "widgets": {
   "application/vnd.jupyter.widget-state+json": {
    "state": {
     "579685ee008e417aae30b22515c66804": {
      "model_module": "nglview-js-widgets",
      "model_module_version": "3.0.1",
      "model_name": "ColormakerRegistryModel",
      "state": {
       "_msg_ar": [],
       "_msg_q": [],
       "_ready": true,
       "layout": "IPY_MODEL_5a0f0f0b5fd14573a17499e50aa5b285"
      }
     },
     "5a0f0f0b5fd14573a17499e50aa5b285": {
      "model_module": "@jupyter-widgets/base",
      "model_module_version": "1.2.0",
      "model_name": "LayoutModel",
      "state": {}
     }
    },
    "version_major": 2,
    "version_minor": 0
   }
  }
 },
 "nbformat": 4,
 "nbformat_minor": 4
}
