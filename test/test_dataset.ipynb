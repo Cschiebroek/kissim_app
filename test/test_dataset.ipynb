{
 "cells": [
  {
   "cell_type": "markdown",
   "id": "b1465541-8d5c-4509-9628-00b3a8a72c0b",
   "metadata": {},
   "source": [
    "# Test dataset\n",
    "\n",
    "This dataset is used to run the notebooks on the CI."
   ]
  },
  {
   "cell_type": "code",
   "execution_count": 1,
   "id": "6f6f1dce-9e80-420f-bb44-e70c83218255",
   "metadata": {},
   "outputs": [],
   "source": [
    "%load_ext autoreload\n",
    "%autoreload 2"
   ]
  },
  {
   "cell_type": "code",
   "execution_count": 2,
   "id": "00da361b-4f81-4add-affa-172b376a315b",
   "metadata": {},
   "outputs": [
    {
     "data": {
      "application/vnd.jupyter.widget-view+json": {
       "model_id": "a3d97c8f883640ba919d263f1f778083",
       "version_major": 2,
       "version_minor": 0
      },
      "text/plain": []
     },
     "metadata": {},
     "output_type": "display_data"
    },
    {
     "name": "stdout",
     "output_type": "stream",
     "text": [
      "Folder does not exist: /home/dominique/Documents/GitHub/kissim_app/src/../results\n",
      "Use test folder instead: /home/dominique/Documents/GitHub/kissim_app/src/../test/results\n"
     ]
    }
   ],
   "source": [
    "from pathlib import Path\n",
    "import csv\n",
    "import shutil\n",
    "\n",
    "import pandas as pd\n",
    "from opencadd.databases.klifs import setup_remote, setup_local\n",
    "\n",
    "from src.paths import PATH_DATA_KLIFS_DOWNLOAD, PATH_DATA"
   ]
  },
  {
   "cell_type": "code",
   "execution_count": 3,
   "id": "9224362a-e012-4746-a234-d709186df950",
   "metadata": {},
   "outputs": [],
   "source": [
    "HERE = Path(_dh[-1])  # noqa: F821"
   ]
  },
  {
   "cell_type": "markdown",
   "id": "f7763c96-4fa2-4917-a3a4-5810f401630d",
   "metadata": {},
   "source": [
    "## Prepare KLIFS test dataset\n",
    "\n",
    "Use KLIFS reference structures and a few DFG-out structures."
   ]
  },
  {
   "cell_type": "code",
   "execution_count": 4,
   "id": "e7136ea5-3442-4004-95ec-e4d71182d695",
   "metadata": {},
   "outputs": [],
   "source": [
    "klifs_reference_structures = pd.read_csv(\n",
    "    PATH_DATA / \"external/structures/klifs_reference_structures.csv\", delimiter=\";\"\n",
    ")"
   ]
  },
  {
   "cell_type": "code",
   "execution_count": 5,
   "id": "dba364e9-606c-4b81-a5ed-8106f5182733",
   "metadata": {},
   "outputs": [],
   "source": [
    "session = setup_local(PATH_DATA_KLIFS_DOWNLOAD)"
   ]
  },
  {
   "cell_type": "code",
   "execution_count": 6,
   "id": "72d6a3d2-80bb-4bdc-8a62-62178a3ac897",
   "metadata": {},
   "outputs": [],
   "source": [
    "# Get KLIFS reference structures\n",
    "klifs_reference_structures.loc[\n",
    "    klifs_reference_structures[\"structure.alternate_model\"] == \" \", \n",
    "    \"structure.alternate_model\"\n",
    "] = \"-\"\n",
    "klifs_reference_structures[\"structure.pdb_id\"] = (\n",
    "    klifs_reference_structures[\"structure.pdb_id\"].str.lower()\n",
    ")\n",
    "# Look them up in local KLIFS download (contains filepaths)\n",
    "structures_selected = []\n",
    "for _, x in klifs_reference_structures.iterrows():\n",
    "    structure = session.structures.by_structure_pdb_id(\n",
    "        x[\"structure.pdb_id\"],\n",
    "        None if x[\"structure.alternate_model\"] == \" \" else x[\"structure.alternate_model\"],\n",
    "        x[\"structure.chain\"],\n",
    "    )\n",
    "    structures_selected.append(structure)\n",
    "structures_selected = pd.concat(structures_selected)"
   ]
  },
  {
   "cell_type": "code",
   "execution_count": 7,
   "id": "69c5f60f-d9db-4a11-a39d-1cbfb4df1edb",
   "metadata": {},
   "outputs": [],
   "source": [
    "# Add some DFG-out structures, incl. ABL1\n",
    "structures = session.structures.all_structures()\n",
    "structures_selected = pd.concat(\n",
    "    [\n",
    "        structures_selected,\n",
    "        structures[structures[\"structure.dfg\"] == \"out\"].sample(5),\n",
    "        #structures[structures[\"kinase.klifs_name\"] == \"ABL1\"].sample(1)\n",
    "    ]\n",
    ")"
   ]
  },
  {
   "cell_type": "code",
   "execution_count": 8,
   "id": "ffa1dec3-9af6-4860-acaf-7b14a7eabfa0",
   "metadata": {},
   "outputs": [],
   "source": [
    "# Add more kinases\n",
    "structures = session.structures.by_kinase_name(\n",
    "    [\"ErbB2\", \"p110a\", \"MET\", \"SLK\", \"KDR\", \"BRAF\", \"p38a\", \"LOK\", \"GAK\"]  #, \"ABL1\"\n",
    ")\n",
    "structures = structures[structures[\"structure.dfg\"] == \"in\"]\n",
    "structures = structures.groupby(\"kinase.klifs_name\").first().reset_index()\n",
    "structures_selected = pd.concat(\n",
    "    [structures_selected, structures]\n",
    ")"
   ]
  },
  {
   "cell_type": "markdown",
   "id": "0ae24c45-13e7-4ece-8954-a4be9ce026d1",
   "metadata": {},
   "source": [
    "#### Write test `KLIFS_export.csv`"
   ]
  },
  {
   "cell_type": "code",
   "execution_count": 9,
   "id": "fa53f8bc-7fc7-4df5-b214-e773460d0b3b",
   "metadata": {},
   "outputs": [
    {
     "name": "stdout",
     "output_type": "stream",
     "text": [
      "(11806, 13)\n"
     ]
    },
    {
     "data": {
      "text/plain": [
       "(38, 13)"
      ]
     },
     "execution_count": 9,
     "metadata": {},
     "output_type": "execute_result"
    }
   ],
   "source": [
    "klifs_export = pd.read_csv(PATH_DATA_KLIFS_DOWNLOAD / \"KLIFS_export.csv\")\n",
    "print(klifs_export.shape)\n",
    "klifs_export_selected = pd.merge(\n",
    "    klifs_export, \n",
    "    structures_selected, \n",
    "    how=\"inner\", \n",
    "    left_on=[\"PDB\", \"CHAIN\", \"ALTERNATE_MODEL\"], \n",
    "    right_on=[\"structure.pdb_id\", \"structure.chain\", \"structure.alternate_model\"]\n",
    ")[klifs_export.columns]\n",
    "klifs_export_selected.shape"
   ]
  },
  {
   "cell_type": "code",
   "execution_count": 10,
   "id": "d5e9dbf6-2ed8-4641-987a-4e11944d6abf",
   "metadata": {},
   "outputs": [],
   "source": [
    "klifs_export_selected.to_csv(\n",
    "    HERE / \"data/external/klifs_test/KLIFS_export.csv\", \n",
    "    quoting=csv.QUOTE_ALL, \n",
    "    index=None\n",
    ")"
   ]
  },
  {
   "cell_type": "markdown",
   "id": "86e592fa-7ccd-4398-974e-5d654ec39477",
   "metadata": {},
   "source": [
    "#### Write test `overview.csv`"
   ]
  },
  {
   "cell_type": "code",
   "execution_count": 11,
   "id": "04f3aa3a-60c6-486b-945f-d224f30d3bb5",
   "metadata": {},
   "outputs": [],
   "source": [
    "structures_selected.loc[\n",
    "    structures_selected[\"structure.alternate_model\"] == \"-\", \n",
    "    \"structure.alternate_model\"\n",
    "] = \" \""
   ]
  },
  {
   "cell_type": "code",
   "execution_count": 12,
   "id": "374b03d5-c7e5-4a05-a295-997da6c62a08",
   "metadata": {},
   "outputs": [
    {
     "name": "stdout",
     "output_type": "stream",
     "text": [
      "(11806, 27)\n"
     ]
    },
    {
     "data": {
      "text/plain": [
       "(38, 27)"
      ]
     },
     "execution_count": 12,
     "metadata": {},
     "output_type": "execute_result"
    }
   ],
   "source": [
    "overview = pd.read_csv(PATH_DATA_KLIFS_DOWNLOAD / \"overview.csv\")\n",
    "print(overview.shape)\n",
    "overview_selected = pd.merge(\n",
    "    overview, \n",
    "    structures_selected, \n",
    "    how=\"inner\", \n",
    "    left_on=[\"pdb\", \"chain\", \"alt\"], \n",
    "    right_on=[\"structure.pdb_id\", \"structure.chain\", \"structure.alternate_model\"]\n",
    ")[overview.columns]\n",
    "overview_selected.shape"
   ]
  },
  {
   "cell_type": "code",
   "execution_count": 13,
   "id": "a1bb9af0-b957-4c11-a532-93d7bcd0d3e7",
   "metadata": {},
   "outputs": [],
   "source": [
    "overview_selected.to_csv(\n",
    "    HERE / \"data/external/klifs_test/overview.csv\", \n",
    "    index=None\n",
    ")"
   ]
  },
  {
   "cell_type": "markdown",
   "id": "1de00fd2-4c96-4dc3-b7ef-b4357f23562f",
   "metadata": {},
   "source": [
    "#### Copy test PDB files"
   ]
  },
  {
   "cell_type": "code",
   "execution_count": 14,
   "id": "6beb7980-4380-4e5b-b0c6-5dafae53d036",
   "metadata": {},
   "outputs": [],
   "source": [
    "for folder in structures_selected[\"structure.filepath\"]:\n",
    "    shutil.copytree(\n",
    "        src=PATH_DATA_KLIFS_DOWNLOAD / folder, \n",
    "        dst=HERE / \"data/external/klifs_test\" / folder\n",
    "    )"
   ]
  },
  {
   "cell_type": "markdown",
   "id": "b7632df1-5306-4ec9-8b37-94fe9ab1b32d",
   "metadata": {},
   "source": [
    "#### Check KLIFS test folder"
   ]
  },
  {
   "cell_type": "code",
   "execution_count": 15,
   "id": "e0bec964-c835-4d57-a0d0-e44e3d0cf874",
   "metadata": {},
   "outputs": [
    {
     "data": {
      "text/plain": [
       "<opencadd.databases.klifs.session.Session at 0x7f90438a76a0>"
      ]
     },
     "execution_count": 15,
     "metadata": {},
     "output_type": "execute_result"
    }
   ],
   "source": [
    "setup_local(HERE / \"data/external/klifs_test\")"
   ]
  },
  {
   "cell_type": "markdown",
   "id": "b9060125-9bbd-46b3-9b3e-10ae272f1cd5",
   "metadata": {},
   "source": [
    "#### Write test structure KLIFS IDs files"
   ]
  },
  {
   "cell_type": "code",
   "execution_count": 16,
   "id": "eac65d91-592f-4458-83f8-cf967729f874",
   "metadata": {},
   "outputs": [],
   "source": [
    "structures_selected[\"structure.klifs_id\"].to_csv(\n",
    "    HERE / f\"data/processed/structure_klifs_ids_all.txt\", index=None, header=None\n",
    ")"
   ]
  },
  {
   "cell_type": "code",
   "execution_count": 17,
   "id": "fc750be1-0059-4268-b2c4-af0ca7d55d31",
   "metadata": {},
   "outputs": [],
   "source": [
    "for dfg in [\"in\", \"out\"]:\n",
    "    structures_selected[\n",
    "        structures_selected[\"structure.dfg\"] == dfg\n",
    "    ][\"structure.klifs_id\"].to_csv(\n",
    "        HERE / f\"data/processed/structure_klifs_ids_dfg_{dfg}.txt\", index=None, header=None\n",
    "    )"
   ]
  },
  {
   "cell_type": "markdown",
   "id": "8cee515a-e73f-44ed-9029-4a77580aaa18",
   "metadata": {},
   "source": [
    "## Generate `kissim` fingerprints and distances"
   ]
  },
  {
   "cell_type": "markdown",
   "id": "15abcd6a-35df-4349-946e-cc498082e11b",
   "metadata": {},
   "source": [
    "### All"
   ]
  },
  {
   "cell_type": "code",
   "execution_count": 18,
   "id": "161f7b0e-9b30-48d5-9cde-f5d87a40bec7",
   "metadata": {
    "collapsed": true,
    "jupyter": {
     "outputs_hidden": true
    },
    "tags": []
   },
   "outputs": [
    {
     "name": "stdout",
     "output_type": "stream",
     "text": [
      "# packages in environment at /home/dominique/.local/miniconda/envs/kissim-app-dev:\n",
      "#\n",
      "# Name                    Version                   Build  Channel\n",
      "kissim                    0.4.1+9.g378e5b5           dev_0    <develop>\n",
      "Job settings\n",
      "------------\n",
      "Structure subset: all\n",
      "KLIFS download folder: klifs_test\n",
      "Normalized? normalized\n",
      "Residue subset? full\n",
      "INFO:kissim.encoding.fingerprint_generator:GENERATE FINGERPRINTS\n",
      "INFO:kissim.encoding.fingerprint_generator:Number of input structures: 38\n",
      "INFO:kissim.encoding.fingerprint_generator:Fingerprint generation started at: 2021-11-22 13:12:41.905818\n",
      "INFO:kissim.utils:Number of cores used: 8.\n",
      "INFO:kissim.encoding.fingerprint_generator:3180: Generate fingerprint...\n",
      "INFO:kissim.encoding.fingerprint_generator:2696: Generate fingerprint...\n",
      "INFO:kissim.encoding.fingerprint_generator:1894: Generate fingerprint...\n",
      "INFO:kissim.encoding.fingerprint_generator:4554: Generate fingerprint...\n",
      "INFO:kissim.encoding.fingerprint_generator:2228: Generate fingerprint...\n",
      "INFO:kissim.encoding.fingerprint_generator:2220: Generate fingerprint...\n",
      "INFO:kissim.encoding.fingerprint_generator:4714: Generate fingerprint...\n",
      "INFO:kissim.encoding.fingerprint_generator:209: Generate fingerprint...\n",
      "INFO:kissim.encoding.fingerprint_generator:1954: Generate fingerprint...\n",
      "INFO:kissim.encoding.fingerprint_generator:5611: Generate fingerprint...\n",
      "INFO:kissim.encoding.fingerprint_generator:5616: Generate fingerprint...\n",
      "INFO:kissim.encoding.fingerprint_generator:2267: Generate fingerprint...\n",
      "INFO:kissim.encoding.fingerprint_generator:5424: Generate fingerprint...\n",
      "INFO:kissim.encoding.fingerprint_generator:5567: Generate fingerprint...\n",
      "INFO:kissim.encoding.fingerprint_generator:751: Generate fingerprint...\n",
      "INFO:kissim.encoding.fingerprint_generator:463: Generate fingerprint...\n",
      "INFO:kissim.encoding.fingerprint_generator:1912: Generate fingerprint...\n",
      "INFO:kissim.encoding.fingerprint_generator:1169: Generate fingerprint...\n",
      "INFO:kissim.encoding.fingerprint_generator:813: Generate fingerprint...\n",
      "INFO:kissim.encoding.fingerprint_generator:2682: Generate fingerprint...\n",
      "INFO:kissim.encoding.fingerprint_generator:7569: Generate fingerprint...\n",
      "INFO:kissim.encoding.fingerprint_generator:3599: Generate fingerprint...\n",
      "INFO:kissim.encoding.fingerprint_generator:10006: Generate fingerprint...\n",
      "INFO:kissim.encoding.fingerprint_generator:4755: Generate fingerprint...\n",
      "INFO:kissim.encoding.fingerprint_generator:3652: Generate fingerprint...\n",
      "INFO:kissim.encoding.fingerprint_generator:4815: Generate fingerprint...\n",
      "INFO:kissim.encoding.fingerprint_generator:1246: Generate fingerprint...\n",
      "INFO:kissim.encoding.fingerprint_generator:2125: Generate fingerprint...\n",
      "INFO:kissim.encoding.fingerprint_generator:11824: Generate fingerprint...\n",
      "INFO:kissim.encoding.fingerprint_generator:248: Generate fingerprint...\n",
      "INFO:kissim.encoding.fingerprint_generator:5310: Generate fingerprint...\n",
      "INFO:kissim.encoding.fingerprint_generator:3051: Generate fingerprint...\n",
      "INFO:kissim.encoding.fingerprint_generator:7961: Generate fingerprint...\n",
      "INFO:kissim.encoding.fingerprint_generator:333: Generate fingerprint...\n",
      "INFO:kissim.encoding.fingerprint_generator:9863: Generate fingerprint...\n",
      "INFO:kissim.encoding.fingerprint_generator:10624: Generate fingerprint...\n",
      "INFO:kissim.encoding.fingerprint_generator:940: Generate fingerprint...\n",
      "INFO:kissim.encoding.fingerprint_generator:8031: Generate fingerprint...\n",
      "INFO:kissim.encoding.fingerprint_generator:Number of output fingerprints: 38\n",
      "INFO:kissim.encoding.fingerprint_generator:Runtime: 0:00:33.678440\n",
      "INFO:kissim.api.encode:Write fingerprints to file: /home/dominique/Documents/GitHub/kissim_app/test/results/all/fingerprints.json\n",
      "Fingerprints used for next step: fingerprints.json\n",
      "INFO:kissim.api.outliers:Read fingerprints...\n",
      "INFO:kissim.api.outliers:Number of fingerprints: 38\n",
      "INFO:kissim.api.outliers:Use the following distance minimum/maximum cutoffs to identify outlier structures: 34.0\n",
      "INFO:kissim.api.outliers:Structure IDs to be removed: []\n",
      "INFO:kissim.api.outliers:Remove fingerprints with distance outliers...\n",
      "INFO:kissim.api.outliers:Number of fingerprints: 38\n",
      "INFO:kissim.api.outliers:Save cleaned fingerprints to /home/dominique/Documents/GitHub/kissim_app/test/results/all/fingerprints_clean.json...\n",
      "Fingerprints used for next step: fingerprints_clean.json\n",
      "Normalize fingerprints...\n",
      "INFO:kissim.api.normalize:Read fingerprints...\n",
      "INFO:kissim.api.normalize:Number of fingerprints: 38\n",
      "INFO:kissim.api.normalize:Normalize fingerprints...\n",
      "INFO:kissim.api.normalize:Normalization method: min_max\n",
      "INFO:kissim.api.normalize:Use fine-grained normalization: True\n",
      "INFO:kissim.api.normalize:Number of fingerprints: 38\n",
      "Fingerprints used for next step: fingerprints_normalized.json\n",
      "Do not subset fingerprints - carry on...\n",
      "Fingerprints used for next step: fingerprints_normalized.json\n",
      "INFO:kissim.comparison.feature_distances_generator:GENERATE FEATURE DISTANCES\n",
      "INFO:kissim.comparison.feature_distances_generator:Number of input fingerprints: 38\n",
      "INFO:kissim.comparison.feature_distances_generator:Feature distances generation started at: 2021-11-22 13:13:21.554330\n",
      "INFO:kissim.utils:Number of cores used: 8.\n",
      "INFO:kissim.comparison.feature_distances_generator:Number of ouput feature distances: 703\n",
      "INFO:kissim.comparison.feature_distances_generator:Runtime: 0:00:00.754404\n",
      "INFO:kissim.comparison.fingerprint_distance_generator:GENERATE FINGERPRINT DISTANCES\n",
      "INFO:kissim.comparison.fingerprint_distance_generator:Fingerprint distance generation started at: 2021-11-22 13:13:22.350624\n",
      "INFO:kissim.comparison.fingerprint_distance_generator:Feature weights: [0.06666667 0.06666667 0.06666667 0.06666667 0.06666667 0.06666667\n",
      " 0.06666667 0.06666667 0.06666667 0.06666667 0.06666667 0.06666667\n",
      " 0.06666667 0.06666667 0.06666667]\n",
      "Calculate pairwise fingerprint distance: 100%|█| 703/703 [00:00<00:00, 22524.53i\n",
      "Calculate pairwise fingerprint coverage: 100%|█| 703/703 [00:00<00:00, 24387.30i\n",
      "INFO:kissim.comparison.fingerprint_distance_generator:Number of output fingerprint distances: 703\n",
      "INFO:kissim.comparison.fingerprint_distance_generator:Runtime: 0:00:00.064792\n",
      "INFO:kissim.comparison.tree:Clustering (method: ward) and calculating branch distances\n",
      "INFO:kissim.comparison.tree:Converting clustering to a Newick tree\n",
      "INFO:kissim.comparison.tree:Writing resulting tree to /home/dominique/Documents/GitHub/kissim_app/test/results/all/fingerprint_distances_to_kinase_clusters.tree\n",
      "INFO:kissim.comparison.tree:Writing resulting kinase annotation to /home/dominique/Documents/GitHub/kissim_app/test/results/all/kinase_annotation.csv\n"
     ]
    }
   ],
   "source": [
    "!bash src/kissim_encode_compare.sh all klifs_test normalized full"
   ]
  },
  {
   "cell_type": "code",
   "execution_count": 19,
   "id": "2131a100-0fb4-4e9d-bf71-d9922fa56a83",
   "metadata": {
    "collapsed": true,
    "jupyter": {
     "outputs_hidden": true
    },
    "tags": []
   },
   "outputs": [
    {
     "name": "stdout",
     "output_type": "stream",
     "text": [
      "# packages in environment at /home/dominique/.local/miniconda/envs/kissim-app-dev:\n",
      "#\n",
      "# Name                    Version                   Build  Channel\n",
      "kissim                    0.4.1+9.g378e5b5           dev_0    <develop>\n",
      "Job settings\n",
      "------------\n",
      "Structure subset: all\n",
      "INFO:kissim.api.weights:Read feature distances from /home/dominique/Documents/GitHub/kissim_app/test/results/all/feature_distances.csv.bz2...\n",
      "INFO:kissim.comparison.fingerprint_distance_generator:GENERATE FINGERPRINT DISTANCES\n",
      "INFO:kissim.comparison.fingerprint_distance_generator:Fingerprint distance generation started at: 2021-11-22 13:13:26.357916\n",
      "INFO:kissim.comparison.fingerprint_distance_generator:Feature weights: [0.125 0.125 0.125 0.125 0.125 0.125 0.125 0.125 0.    0.    0.    0.\n",
      " 0.    0.    0.   ]\n",
      "Calculate pairwise fingerprint distance: 100%|█| 703/703 [00:00<00:00, 29447.97i\n",
      "Calculate pairwise fingerprint coverage: 100%|█| 703/703 [00:00<00:00, 31958.59i\n",
      "INFO:kissim.comparison.fingerprint_distance_generator:Number of output fingerprint distances: 703\n",
      "INFO:kissim.comparison.fingerprint_distance_generator:Runtime: 0:00:00.049880\n",
      "INFO:kissim.api.weights:To file /home/dominique/Documents/GitHub/kissim_app/test/results/all/fingerprint_distances_100.csv.bz2\n",
      "INFO:kissim.api.weights:Read feature distances from /home/dominique/Documents/GitHub/kissim_app/test/results/all/feature_distances.csv.bz2...\n",
      "INFO:kissim.comparison.fingerprint_distance_generator:GENERATE FINGERPRINT DISTANCES\n",
      "INFO:kissim.comparison.fingerprint_distance_generator:Fingerprint distance generation started at: 2021-11-22 13:13:28.253296\n",
      "INFO:kissim.comparison.fingerprint_distance_generator:Feature weights: [0.   0.   0.   0.   0.   0.   0.   0.   0.25 0.25 0.25 0.25 0.   0.\n",
      " 0.  ]\n",
      "Calculate pairwise fingerprint distance: 100%|█| 703/703 [00:00<00:00, 27357.03i\n",
      "Calculate pairwise fingerprint coverage: 100%|█| 703/703 [00:00<00:00, 32820.52i\n",
      "INFO:kissim.comparison.fingerprint_distance_generator:Number of output fingerprint distances: 703\n",
      "INFO:kissim.comparison.fingerprint_distance_generator:Runtime: 0:00:00.051012\n",
      "INFO:kissim.api.weights:To file /home/dominique/Documents/GitHub/kissim_app/test/results/all/fingerprint_distances_010.csv.bz2\n",
      "INFO:kissim.api.weights:Read feature distances from /home/dominique/Documents/GitHub/kissim_app/test/results/all/feature_distances.csv.bz2...\n",
      "INFO:kissim.comparison.fingerprint_distance_generator:GENERATE FINGERPRINT DISTANCES\n",
      "INFO:kissim.comparison.fingerprint_distance_generator:Fingerprint distance generation started at: 2021-11-22 13:13:30.340222\n",
      "INFO:kissim.comparison.fingerprint_distance_generator:Feature weights: [0.    0.    0.    0.    0.    0.    0.    0.    0.    0.    0.    0.\n",
      " 0.333 0.333 0.333]\n",
      "Calculate pairwise fingerprint distance: 100%|█| 703/703 [00:00<00:00, 27989.10i\n",
      "Calculate pairwise fingerprint coverage: 100%|█| 703/703 [00:00<00:00, 31320.06i\n",
      "INFO:kissim.comparison.fingerprint_distance_generator:Number of output fingerprint distances: 703\n",
      "INFO:kissim.comparison.fingerprint_distance_generator:Runtime: 0:00:00.051578\n",
      "INFO:kissim.api.weights:To file /home/dominique/Documents/GitHub/kissim_app/test/results/all/fingerprint_distances_001.csv.bz2\n",
      "INFO:kissim.api.weights:Read feature distances from /home/dominique/Documents/GitHub/kissim_app/test/results/all/feature_distances.csv.bz2...\n",
      "INFO:kissim.comparison.fingerprint_distance_generator:GENERATE FINGERPRINT DISTANCES\n",
      "INFO:kissim.comparison.fingerprint_distance_generator:Fingerprint distance generation started at: 2021-11-22 13:13:32.208379\n",
      "INFO:kissim.comparison.fingerprint_distance_generator:Feature weights: [0.062 0.062 0.062 0.062 0.062 0.062 0.062 0.062 0.125 0.125 0.125 0.125\n",
      " 0.    0.    0.   ]\n",
      "Calculate pairwise fingerprint distance: 100%|█| 703/703 [00:00<00:00, 28417.73i\n",
      "Calculate pairwise fingerprint coverage: 100%|█| 703/703 [00:00<00:00, 31547.93i\n",
      "INFO:kissim.comparison.fingerprint_distance_generator:Number of output fingerprint distances: 703\n",
      "INFO:kissim.comparison.fingerprint_distance_generator:Runtime: 0:00:00.050919\n",
      "INFO:kissim.api.weights:To file /home/dominique/Documents/GitHub/kissim_app/test/results/all/fingerprint_distances_110.csv.bz2\n",
      "INFO:kissim.api.weights:Read feature distances from /home/dominique/Documents/GitHub/kissim_app/test/results/all/feature_distances.csv.bz2...\n",
      "INFO:kissim.comparison.fingerprint_distance_generator:GENERATE FINGERPRINT DISTANCES\n",
      "INFO:kissim.comparison.fingerprint_distance_generator:Fingerprint distance generation started at: 2021-11-22 13:13:34.097361\n",
      "INFO:kissim.comparison.fingerprint_distance_generator:Feature weights: [0.062 0.062 0.062 0.062 0.062 0.062 0.062 0.062 0.    0.    0.    0.\n",
      " 0.166 0.166 0.166]\n",
      "Calculate pairwise fingerprint distance: 100%|█| 703/703 [00:00<00:00, 30353.77i\n",
      "Calculate pairwise fingerprint coverage: 100%|█| 703/703 [00:00<00:00, 33001.25i\n",
      "INFO:kissim.comparison.fingerprint_distance_generator:Number of output fingerprint distances: 703\n",
      "INFO:kissim.comparison.fingerprint_distance_generator:Runtime: 0:00:00.048359\n",
      "INFO:kissim.api.weights:To file /home/dominique/Documents/GitHub/kissim_app/test/results/all/fingerprint_distances_101.csv.bz2\n",
      "INFO:kissim.api.weights:Read feature distances from /home/dominique/Documents/GitHub/kissim_app/test/results/all/feature_distances.csv.bz2...\n",
      "INFO:kissim.comparison.fingerprint_distance_generator:GENERATE FINGERPRINT DISTANCES\n",
      "INFO:kissim.comparison.fingerprint_distance_generator:Fingerprint distance generation started at: 2021-11-22 13:13:35.983639\n",
      "INFO:kissim.comparison.fingerprint_distance_generator:Feature weights: [0.    0.    0.    0.    0.    0.    0.    0.    0.125 0.125 0.125 0.125\n",
      " 0.166 0.166 0.166]\n",
      "Calculate pairwise fingerprint distance: 100%|█| 703/703 [00:00<00:00, 29888.56i\n",
      "Calculate pairwise fingerprint coverage: 100%|█| 703/703 [00:00<00:00, 32640.68i\n",
      "INFO:kissim.comparison.fingerprint_distance_generator:Number of output fingerprint distances: 703\n",
      "INFO:kissim.comparison.fingerprint_distance_generator:Runtime: 0:00:00.048965\n",
      "INFO:kissim.api.weights:To file /home/dominique/Documents/GitHub/kissim_app/test/results/all/fingerprint_distances_011.csv.bz2\n",
      "INFO:kissim.api.weights:Read feature distances from /home/dominique/Documents/GitHub/kissim_app/test/results/all/feature_distances.csv.bz2...\n",
      "INFO:kissim.comparison.fingerprint_distance_generator:GENERATE FINGERPRINT DISTANCES\n",
      "INFO:kissim.comparison.fingerprint_distance_generator:Fingerprint distance generation started at: 2021-11-22 13:13:37.886290\n",
      "INFO:kissim.comparison.fingerprint_distance_generator:Feature weights: [0.041 0.041 0.041 0.041 0.041 0.041 0.041 0.041 0.083 0.083 0.083 0.083\n",
      " 0.111 0.111 0.111]\n",
      "Calculate pairwise fingerprint distance: 100%|█| 703/703 [00:00<00:00, 27261.17i\n",
      "Calculate pairwise fingerprint coverage: 100%|█| 703/703 [00:00<00:00, 32085.88i\n",
      "INFO:kissim.comparison.fingerprint_distance_generator:Number of output fingerprint distances: 703\n",
      "INFO:kissim.comparison.fingerprint_distance_generator:Runtime: 0:00:00.052105\n",
      "INFO:kissim.api.weights:To file /home/dominique/Documents/GitHub/kissim_app/test/results/all/fingerprint_distances_111.csv.bz2\n"
     ]
    }
   ],
   "source": [
    "!bash src/kissim_weights.sh all"
   ]
  },
  {
   "cell_type": "markdown",
   "id": "eb4198cd-b727-4820-9f2b-db4fbecfbf2c",
   "metadata": {},
   "source": [
    "### DFG-in"
   ]
  },
  {
   "cell_type": "code",
   "execution_count": 20,
   "id": "02ccb679-0638-4dc1-a008-cb2e39df1d6c",
   "metadata": {
    "collapsed": true,
    "jupyter": {
     "outputs_hidden": true
    },
    "tags": []
   },
   "outputs": [
    {
     "name": "stdout",
     "output_type": "stream",
     "text": [
      "# packages in environment at /home/dominique/.local/miniconda/envs/kissim-app-dev:\n",
      "#\n",
      "# Name                    Version                   Build  Channel\n",
      "kissim                    0.4.1+9.g378e5b5           dev_0    <develop>\n",
      "Job settings\n",
      "------------\n",
      "Structure subset: dfg_in\n",
      "KLIFS download folder: klifs_test\n",
      "Normalized? normalized\n",
      "Residue subset? full\n",
      "INFO:kissim.encoding.fingerprint_generator:GENERATE FINGERPRINTS\n",
      "INFO:kissim.encoding.fingerprint_generator:Number of input structures: 32\n",
      "INFO:kissim.encoding.fingerprint_generator:Fingerprint generation started at: 2021-11-22 13:13:41.568981\n",
      "INFO:kissim.utils:Number of cores used: 8.\n",
      "INFO:kissim.encoding.fingerprint_generator:2696: Generate fingerprint...\n",
      "INFO:kissim.encoding.fingerprint_generator:1912: Generate fingerprint...\n",
      "INFO:kissim.encoding.fingerprint_generator:3180: Generate fingerprint...\n",
      "INFO:kissim.encoding.fingerprint_generator:2267: Generate fingerprint...\n",
      "INFO:kissim.encoding.fingerprint_generator:5616: Generate fingerprint...\n",
      "INFO:kissim.encoding.fingerprint_generator:1894: Generate fingerprint...\n",
      "INFO:kissim.encoding.fingerprint_generator:2228: Generate fingerprint...\n",
      "INFO:kissim.encoding.fingerprint_generator:5567: Generate fingerprint...\n",
      "INFO:kissim.encoding.fingerprint_generator:2220: Generate fingerprint...\n",
      "INFO:kissim.encoding.fingerprint_generator:751: Generate fingerprint...\n",
      "INFO:kissim.encoding.fingerprint_generator:4554: Generate fingerprint...\n",
      "INFO:kissim.encoding.fingerprint_generator:5424: Generate fingerprint...\n",
      "INFO:kissim.encoding.fingerprint_generator:4714: Generate fingerprint...\n",
      "INFO:kissim.encoding.fingerprint_generator:1954: Generate fingerprint...\n",
      "INFO:kissim.encoding.fingerprint_generator:209: Generate fingerprint...\n",
      "INFO:kissim.encoding.fingerprint_generator:5611: Generate fingerprint...\n",
      "INFO:kissim.encoding.fingerprint_generator:463: Generate fingerprint...\n",
      "INFO:kissim.encoding.fingerprint_generator:1169: Generate fingerprint...\n",
      "INFO:kissim.encoding.fingerprint_generator:3652: Generate fingerprint...\n",
      "INFO:kissim.encoding.fingerprint_generator:813: Generate fingerprint...\n",
      "INFO:kissim.encoding.fingerprint_generator:1246: Generate fingerprint...\n",
      "INFO:kissim.encoding.fingerprint_generator:2682: Generate fingerprint...\n",
      "INFO:kissim.encoding.fingerprint_generator:2125: Generate fingerprint...\n",
      "INFO:kissim.encoding.fingerprint_generator:3051: Generate fingerprint...\n",
      "INFO:kissim.encoding.fingerprint_generator:4815: Generate fingerprint...\n",
      "INFO:kissim.encoding.fingerprint_generator:333: Generate fingerprint...\n",
      "INFO:kissim.encoding.fingerprint_generator:5310: Generate fingerprint...\n",
      "INFO:kissim.encoding.fingerprint_generator:940: Generate fingerprint...\n",
      "INFO:kissim.encoding.fingerprint_generator:7961: Generate fingerprint...\n",
      "INFO:kissim.encoding.fingerprint_generator:10624: Generate fingerprint...\n",
      "INFO:kissim.encoding.fingerprint_generator:9863: Generate fingerprint...\n",
      "INFO:kissim.encoding.fingerprint_generator:8031: Generate fingerprint...\n",
      "INFO:kissim.encoding.fingerprint_generator:Number of output fingerprints: 32\n",
      "INFO:kissim.encoding.fingerprint_generator:Runtime: 0:00:29.574318\n",
      "INFO:kissim.api.encode:Write fingerprints to file: /home/dominique/Documents/GitHub/kissim_app/test/results/dfg_in/fingerprints.json\n",
      "Fingerprints used for next step: fingerprints.json\n",
      "INFO:kissim.api.outliers:Read fingerprints...\n",
      "INFO:kissim.api.outliers:Number of fingerprints: 32\n",
      "INFO:kissim.api.outliers:Use the following distance minimum/maximum cutoffs to identify outlier structures: 34.0\n",
      "INFO:kissim.api.outliers:Structure IDs to be removed: []\n",
      "INFO:kissim.api.outliers:Remove fingerprints with distance outliers...\n",
      "INFO:kissim.api.outliers:Number of fingerprints: 32\n",
      "INFO:kissim.api.outliers:Save cleaned fingerprints to /home/dominique/Documents/GitHub/kissim_app/test/results/dfg_in/fingerprints_clean.json...\n",
      "Fingerprints used for next step: fingerprints_clean.json\n",
      "Normalize fingerprints...\n",
      "INFO:kissim.api.normalize:Read fingerprints...\n",
      "INFO:kissim.api.normalize:Number of fingerprints: 32\n",
      "INFO:kissim.api.normalize:Normalize fingerprints...\n",
      "INFO:kissim.api.normalize:Normalization method: min_max\n",
      "INFO:kissim.api.normalize:Use fine-grained normalization: True\n",
      "INFO:kissim.api.normalize:Number of fingerprints: 32\n",
      "Fingerprints used for next step: fingerprints_normalized.json\n",
      "Do not subset fingerprints - carry on...\n",
      "Fingerprints used for next step: fingerprints_normalized.json\n",
      "INFO:kissim.comparison.feature_distances_generator:GENERATE FEATURE DISTANCES\n",
      "INFO:kissim.comparison.feature_distances_generator:Number of input fingerprints: 32\n",
      "INFO:kissim.comparison.feature_distances_generator:Feature distances generation started at: 2021-11-22 13:14:16.929753\n",
      "INFO:kissim.utils:Number of cores used: 8.\n",
      "INFO:kissim.comparison.feature_distances_generator:Number of ouput feature distances: 496\n",
      "INFO:kissim.comparison.feature_distances_generator:Runtime: 0:00:00.516195\n",
      "INFO:kissim.comparison.fingerprint_distance_generator:GENERATE FINGERPRINT DISTANCES\n",
      "INFO:kissim.comparison.fingerprint_distance_generator:Fingerprint distance generation started at: 2021-11-22 13:14:17.470437\n",
      "INFO:kissim.comparison.fingerprint_distance_generator:Feature weights: [0.06666667 0.06666667 0.06666667 0.06666667 0.06666667 0.06666667\n",
      " 0.06666667 0.06666667 0.06666667 0.06666667 0.06666667 0.06666667\n",
      " 0.06666667 0.06666667 0.06666667]\n",
      "Calculate pairwise fingerprint distance: 100%|█| 496/496 [00:00<00:00, 30059.31i\n",
      "Calculate pairwise fingerprint coverage: 100%|█| 496/496 [00:00<00:00, 32652.28i\n",
      "INFO:kissim.comparison.fingerprint_distance_generator:Number of output fingerprint distances: 496\n",
      "INFO:kissim.comparison.fingerprint_distance_generator:Runtime: 0:00:00.035057\n",
      "INFO:kissim.comparison.tree:Clustering (method: ward) and calculating branch distances\n",
      "INFO:kissim.comparison.tree:Converting clustering to a Newick tree\n",
      "INFO:kissim.comparison.tree:Writing resulting tree to /home/dominique/Documents/GitHub/kissim_app/test/results/dfg_in/fingerprint_distances_to_kinase_clusters.tree\n",
      "INFO:kissim.comparison.tree:Writing resulting kinase annotation to /home/dominique/Documents/GitHub/kissim_app/test/results/dfg_in/kinase_annotation.csv\n"
     ]
    }
   ],
   "source": [
    "!bash src/kissim_encode_compare.sh dfg_in klifs_test normalized full"
   ]
  },
  {
   "cell_type": "code",
   "execution_count": 21,
   "id": "eab114ce-7dd4-441d-85ec-2aefd5002c9a",
   "metadata": {
    "collapsed": true,
    "jupyter": {
     "outputs_hidden": true
    },
    "tags": []
   },
   "outputs": [
    {
     "name": "stdout",
     "output_type": "stream",
     "text": [
      "# packages in environment at /home/dominique/.local/miniconda/envs/kissim-app-dev:\n",
      "#\n",
      "# Name                    Version                   Build  Channel\n",
      "kissim                    0.4.1+9.g378e5b5           dev_0    <develop>\n",
      "Job settings\n",
      "------------\n",
      "Structure subset: dfg_in\n",
      "INFO:kissim.api.weights:Read feature distances from /home/dominique/Documents/GitHub/kissim_app/test/results/dfg_in/feature_distances.csv.bz2...\n",
      "INFO:kissim.comparison.fingerprint_distance_generator:GENERATE FINGERPRINT DISTANCES\n",
      "INFO:kissim.comparison.fingerprint_distance_generator:Fingerprint distance generation started at: 2021-11-22 13:14:21.348687\n",
      "INFO:kissim.comparison.fingerprint_distance_generator:Feature weights: [0.125 0.125 0.125 0.125 0.125 0.125 0.125 0.125 0.    0.    0.    0.\n",
      " 0.    0.    0.   ]\n",
      "Calculate pairwise fingerprint distance: 100%|█| 496/496 [00:00<00:00, 29119.77i\n",
      "Calculate pairwise fingerprint coverage: 100%|█| 496/496 [00:00<00:00, 27277.16i\n",
      "INFO:kissim.comparison.fingerprint_distance_generator:Number of output fingerprint distances: 496\n",
      "INFO:kissim.comparison.fingerprint_distance_generator:Runtime: 0:00:00.039074\n",
      "INFO:kissim.api.weights:To file /home/dominique/Documents/GitHub/kissim_app/test/results/dfg_in/fingerprint_distances_100.csv.bz2\n",
      "INFO:kissim.api.weights:Read feature distances from /home/dominique/Documents/GitHub/kissim_app/test/results/dfg_in/feature_distances.csv.bz2...\n",
      "INFO:kissim.comparison.fingerprint_distance_generator:GENERATE FINGERPRINT DISTANCES\n",
      "INFO:kissim.comparison.fingerprint_distance_generator:Fingerprint distance generation started at: 2021-11-22 13:14:23.238946\n",
      "INFO:kissim.comparison.fingerprint_distance_generator:Feature weights: [0.   0.   0.   0.   0.   0.   0.   0.   0.25 0.25 0.25 0.25 0.   0.\n",
      " 0.  ]\n",
      "Calculate pairwise fingerprint distance: 100%|█| 496/496 [00:00<00:00, 24367.21i\n",
      "Calculate pairwise fingerprint coverage: 100%|█| 496/496 [00:00<00:00, 25343.84i\n",
      "INFO:kissim.comparison.fingerprint_distance_generator:Number of output fingerprint distances: 496\n",
      "INFO:kissim.comparison.fingerprint_distance_generator:Runtime: 0:00:00.043970\n",
      "INFO:kissim.api.weights:To file /home/dominique/Documents/GitHub/kissim_app/test/results/dfg_in/fingerprint_distances_010.csv.bz2\n",
      "INFO:kissim.api.weights:Read feature distances from /home/dominique/Documents/GitHub/kissim_app/test/results/dfg_in/feature_distances.csv.bz2...\n",
      "INFO:kissim.comparison.fingerprint_distance_generator:GENERATE FINGERPRINT DISTANCES\n",
      "INFO:kissim.comparison.fingerprint_distance_generator:Fingerprint distance generation started at: 2021-11-22 13:14:25.240461\n",
      "INFO:kissim.comparison.fingerprint_distance_generator:Feature weights: [0.    0.    0.    0.    0.    0.    0.    0.    0.    0.    0.    0.\n",
      " 0.333 0.333 0.333]\n",
      "Calculate pairwise fingerprint distance: 100%|█| 496/496 [00:00<00:00, 27951.13i\n",
      "Calculate pairwise fingerprint coverage: 100%|█| 496/496 [00:00<00:00, 28016.63i\n",
      "INFO:kissim.comparison.fingerprint_distance_generator:Number of output fingerprint distances: 496\n",
      "INFO:kissim.comparison.fingerprint_distance_generator:Runtime: 0:00:00.039728\n",
      "INFO:kissim.api.weights:To file /home/dominique/Documents/GitHub/kissim_app/test/results/dfg_in/fingerprint_distances_001.csv.bz2\n",
      "INFO:kissim.api.weights:Read feature distances from /home/dominique/Documents/GitHub/kissim_app/test/results/dfg_in/feature_distances.csv.bz2...\n",
      "INFO:kissim.comparison.fingerprint_distance_generator:GENERATE FINGERPRINT DISTANCES\n",
      "INFO:kissim.comparison.fingerprint_distance_generator:Fingerprint distance generation started at: 2021-11-22 13:14:27.144287\n",
      "INFO:kissim.comparison.fingerprint_distance_generator:Feature weights: [0.062 0.062 0.062 0.062 0.062 0.062 0.062 0.062 0.125 0.125 0.125 0.125\n",
      " 0.    0.    0.   ]\n",
      "Calculate pairwise fingerprint distance: 100%|█| 496/496 [00:00<00:00, 27362.55i\n",
      "Calculate pairwise fingerprint coverage: 100%|█| 496/496 [00:00<00:00, 32638.96i\n",
      "INFO:kissim.comparison.fingerprint_distance_generator:Number of output fingerprint distances: 496\n",
      "INFO:kissim.comparison.fingerprint_distance_generator:Runtime: 0:00:00.037510\n",
      "INFO:kissim.api.weights:To file /home/dominique/Documents/GitHub/kissim_app/test/results/dfg_in/fingerprint_distances_110.csv.bz2\n",
      "INFO:kissim.api.weights:Read feature distances from /home/dominique/Documents/GitHub/kissim_app/test/results/dfg_in/feature_distances.csv.bz2...\n",
      "INFO:kissim.comparison.fingerprint_distance_generator:GENERATE FINGERPRINT DISTANCES\n",
      "INFO:kissim.comparison.fingerprint_distance_generator:Fingerprint distance generation started at: 2021-11-22 13:14:29.040740\n",
      "INFO:kissim.comparison.fingerprint_distance_generator:Feature weights: [0.062 0.062 0.062 0.062 0.062 0.062 0.062 0.062 0.    0.    0.    0.\n",
      " 0.166 0.166 0.166]\n",
      "Calculate pairwise fingerprint distance: 100%|█| 496/496 [00:00<00:00, 29741.31i\n",
      "Calculate pairwise fingerprint coverage: 100%|█| 496/496 [00:00<00:00, 28819.24i\n",
      "INFO:kissim.comparison.fingerprint_distance_generator:Number of output fingerprint distances: 496\n",
      "INFO:kissim.comparison.fingerprint_distance_generator:Runtime: 0:00:00.038001\n",
      "INFO:kissim.api.weights:To file /home/dominique/Documents/GitHub/kissim_app/test/results/dfg_in/fingerprint_distances_101.csv.bz2\n",
      "INFO:kissim.api.weights:Read feature distances from /home/dominique/Documents/GitHub/kissim_app/test/results/dfg_in/feature_distances.csv.bz2...\n",
      "INFO:kissim.comparison.fingerprint_distance_generator:GENERATE FINGERPRINT DISTANCES\n",
      "INFO:kissim.comparison.fingerprint_distance_generator:Fingerprint distance generation started at: 2021-11-22 13:14:31.146733\n",
      "INFO:kissim.comparison.fingerprint_distance_generator:Feature weights: [0.    0.    0.    0.    0.    0.    0.    0.    0.125 0.125 0.125 0.125\n",
      " 0.166 0.166 0.166]\n",
      "Calculate pairwise fingerprint distance: 100%|█| 496/496 [00:00<00:00, 19883.35i\n",
      "Calculate pairwise fingerprint coverage: 100%|█| 496/496 [00:00<00:00, 30415.73i\n",
      "INFO:kissim.comparison.fingerprint_distance_generator:Number of output fingerprint distances: 496\n",
      "INFO:kissim.comparison.fingerprint_distance_generator:Runtime: 0:00:00.045338\n",
      "INFO:kissim.api.weights:To file /home/dominique/Documents/GitHub/kissim_app/test/results/dfg_in/fingerprint_distances_011.csv.bz2\n",
      "INFO:kissim.api.weights:Read feature distances from /home/dominique/Documents/GitHub/kissim_app/test/results/dfg_in/feature_distances.csv.bz2...\n",
      "INFO:kissim.comparison.fingerprint_distance_generator:GENERATE FINGERPRINT DISTANCES\n",
      "INFO:kissim.comparison.fingerprint_distance_generator:Fingerprint distance generation started at: 2021-11-22 13:14:33.121287\n",
      "INFO:kissim.comparison.fingerprint_distance_generator:Feature weights: [0.041 0.041 0.041 0.041 0.041 0.041 0.041 0.041 0.083 0.083 0.083 0.083\n",
      " 0.111 0.111 0.111]\n",
      "Calculate pairwise fingerprint distance: 100%|█| 496/496 [00:00<00:00, 20544.48i\n",
      "Calculate pairwise fingerprint coverage: 100%|█| 496/496 [00:00<00:00, 30187.98i\n",
      "INFO:kissim.comparison.fingerprint_distance_generator:Number of output fingerprint distances: 496\n",
      "INFO:kissim.comparison.fingerprint_distance_generator:Runtime: 0:00:00.044968\n",
      "INFO:kissim.api.weights:To file /home/dominique/Documents/GitHub/kissim_app/test/results/dfg_in/fingerprint_distances_111.csv.bz2\n"
     ]
    }
   ],
   "source": [
    "!bash src/kissim_weights.sh dfg_in"
   ]
  },
  {
   "cell_type": "markdown",
   "id": "263c0ead-a514-4609-afcd-76db0a638cd5",
   "metadata": {},
   "source": [
    "### DFG-out"
   ]
  },
  {
   "cell_type": "code",
   "execution_count": 22,
   "id": "daaf34bb-5e73-4b0e-a2bd-518c23cced15",
   "metadata": {
    "collapsed": true,
    "jupyter": {
     "outputs_hidden": true
    },
    "tags": []
   },
   "outputs": [
    {
     "name": "stdout",
     "output_type": "stream",
     "text": [
      "# packages in environment at /home/dominique/.local/miniconda/envs/kissim-app-dev:\n",
      "#\n",
      "# Name                    Version                   Build  Channel\n",
      "kissim                    0.4.1+9.g378e5b5           dev_0    <develop>\n",
      "Job settings\n",
      "------------\n",
      "Structure subset: dfg_out\n",
      "KLIFS download folder: klifs_test\n",
      "Normalized? normalized\n",
      "Residue subset? full\n",
      "INFO:kissim.encoding.fingerprint_generator:GENERATE FINGERPRINTS\n",
      "INFO:kissim.encoding.fingerprint_generator:Number of input structures: 5\n",
      "INFO:kissim.encoding.fingerprint_generator:Fingerprint generation started at: 2021-11-22 13:14:36.926368\n",
      "INFO:kissim.utils:Number of cores used: 8.\n",
      "INFO:kissim.encoding.fingerprint_generator:11824: Generate fingerprint...\n",
      "INFO:kissim.encoding.fingerprint_generator:7569: Generate fingerprint...\n",
      "INFO:kissim.encoding.fingerprint_generator:3599: Generate fingerprint...\n",
      "INFO:kissim.encoding.fingerprint_generator:248: Generate fingerprint...\n",
      "INFO:kissim.encoding.fingerprint_generator:10006: Generate fingerprint...\n",
      "INFO:kissim.encoding.fingerprint_generator:Number of output fingerprints: 5\n",
      "INFO:kissim.encoding.fingerprint_generator:Runtime: 0:00:03.006323\n",
      "INFO:kissim.api.encode:Write fingerprints to file: /home/dominique/Documents/GitHub/kissim_app/test/results/dfg_out/fingerprints.json\n",
      "Fingerprints used for next step: fingerprints.json\n",
      "INFO:kissim.api.outliers:Read fingerprints...\n",
      "INFO:kissim.api.outliers:Number of fingerprints: 5\n",
      "INFO:kissim.api.outliers:Use the following distance minimum/maximum cutoffs to identify outlier structures: 34.0\n",
      "INFO:kissim.api.outliers:Structure IDs to be removed: []\n",
      "INFO:kissim.api.outliers:Remove fingerprints with distance outliers...\n",
      "INFO:kissim.api.outliers:Number of fingerprints: 5\n",
      "INFO:kissim.api.outliers:Save cleaned fingerprints to /home/dominique/Documents/GitHub/kissim_app/test/results/dfg_out/fingerprints_clean.json...\n",
      "Fingerprints used for next step: fingerprints_clean.json\n",
      "Normalize fingerprints...\n",
      "INFO:kissim.api.normalize:Read fingerprints...\n",
      "INFO:kissim.api.normalize:Number of fingerprints: 5\n",
      "INFO:kissim.api.normalize:Normalize fingerprints...\n",
      "INFO:kissim.api.normalize:Normalization method: min_max\n",
      "INFO:kissim.api.normalize:Use fine-grained normalization: True\n",
      "INFO:kissim.api.normalize:Number of fingerprints: 5\n",
      "Fingerprints used for next step: fingerprints_normalized.json\n",
      "Do not subset fingerprints - carry on...\n",
      "Fingerprints used for next step: fingerprints_normalized.json\n",
      "INFO:kissim.comparison.feature_distances_generator:GENERATE FEATURE DISTANCES\n",
      "INFO:kissim.comparison.feature_distances_generator:Number of input fingerprints: 5\n",
      "INFO:kissim.comparison.feature_distances_generator:Feature distances generation started at: 2021-11-22 13:14:45.492936\n",
      "INFO:kissim.utils:Number of cores used: 8.\n",
      "INFO:kissim.comparison.feature_distances_generator:Number of ouput feature distances: 10\n",
      "INFO:kissim.comparison.feature_distances_generator:Runtime: 0:00:00.062340\n",
      "INFO:kissim.comparison.fingerprint_distance_generator:GENERATE FINGERPRINT DISTANCES\n",
      "INFO:kissim.comparison.fingerprint_distance_generator:Fingerprint distance generation started at: 2021-11-22 13:14:45.557552\n",
      "INFO:kissim.comparison.fingerprint_distance_generator:Feature weights: [0.06666667 0.06666667 0.06666667 0.06666667 0.06666667 0.06666667\n",
      " 0.06666667 0.06666667 0.06666667 0.06666667 0.06666667 0.06666667\n",
      " 0.06666667 0.06666667 0.06666667]\n",
      "Calculate pairwise fingerprint distance: 100%|█| 10/10 [00:00<00:00, 22944.77it/\n",
      "Calculate pairwise fingerprint coverage: 100%|█| 10/10 [00:00<00:00, 25512.80it/\n",
      "INFO:kissim.comparison.fingerprint_distance_generator:Number of output fingerprint distances: 10\n",
      "INFO:kissim.comparison.fingerprint_distance_generator:Runtime: 0:00:00.003587\n",
      "INFO:kissim.comparison.tree:Clustering (method: ward) and calculating branch distances\n",
      "INFO:kissim.comparison.tree:Converting clustering to a Newick tree\n",
      "INFO:kissim.comparison.tree:Writing resulting tree to /home/dominique/Documents/GitHub/kissim_app/test/results/dfg_out/fingerprint_distances_to_kinase_clusters.tree\n",
      "INFO:kissim.comparison.tree:Writing resulting kinase annotation to /home/dominique/Documents/GitHub/kissim_app/test/results/dfg_out/kinase_annotation.csv\n"
     ]
    }
   ],
   "source": [
    "!bash src/kissim_encode_compare.sh dfg_out klifs_test normalized full"
   ]
  },
  {
   "cell_type": "code",
   "execution_count": 23,
   "id": "f4b2ac78-e447-4d27-92b5-6cefcff43221",
   "metadata": {
    "collapsed": true,
    "jupyter": {
     "outputs_hidden": true
    },
    "tags": []
   },
   "outputs": [
    {
     "name": "stdout",
     "output_type": "stream",
     "text": [
      "# packages in environment at /home/dominique/.local/miniconda/envs/kissim-app-dev:\n",
      "#\n",
      "# Name                    Version                   Build  Channel\n",
      "kissim                    0.4.1+9.g378e5b5           dev_0    <develop>\n",
      "Job settings\n",
      "------------\n",
      "Structure subset: dfg_out\n",
      "INFO:kissim.api.weights:Read feature distances from /home/dominique/Documents/GitHub/kissim_app/test/results/dfg_out/feature_distances.csv.bz2...\n",
      "INFO:kissim.comparison.fingerprint_distance_generator:GENERATE FINGERPRINT DISTANCES\n",
      "INFO:kissim.comparison.fingerprint_distance_generator:Fingerprint distance generation started at: 2021-11-22 13:14:49.299712\n",
      "INFO:kissim.comparison.fingerprint_distance_generator:Feature weights: [0.125 0.125 0.125 0.125 0.125 0.125 0.125 0.125 0.    0.    0.    0.\n",
      " 0.    0.    0.   ]\n",
      "Calculate pairwise fingerprint distance: 100%|█| 10/10 [00:00<00:00, 23523.86it/\n",
      "Calculate pairwise fingerprint coverage: 100%|█| 10/10 [00:00<00:00, 25842.91it/\n",
      "INFO:kissim.comparison.fingerprint_distance_generator:Number of output fingerprint distances: 10\n",
      "INFO:kissim.comparison.fingerprint_distance_generator:Runtime: 0:00:00.004226\n",
      "INFO:kissim.api.weights:To file /home/dominique/Documents/GitHub/kissim_app/test/results/dfg_out/fingerprint_distances_100.csv.bz2\n",
      "INFO:kissim.api.weights:Read feature distances from /home/dominique/Documents/GitHub/kissim_app/test/results/dfg_out/feature_distances.csv.bz2...\n",
      "INFO:kissim.comparison.fingerprint_distance_generator:GENERATE FINGERPRINT DISTANCES\n",
      "INFO:kissim.comparison.fingerprint_distance_generator:Fingerprint distance generation started at: 2021-11-22 13:14:51.433646\n",
      "INFO:kissim.comparison.fingerprint_distance_generator:Feature weights: [0.   0.   0.   0.   0.   0.   0.   0.   0.25 0.25 0.25 0.25 0.   0.\n",
      " 0.  ]\n",
      "Calculate pairwise fingerprint distance: 100%|█| 10/10 [00:00<00:00, 23510.67it/\n",
      "Calculate pairwise fingerprint coverage: 100%|█| 10/10 [00:00<00:00, 25070.56it/\n",
      "INFO:kissim.comparison.fingerprint_distance_generator:Number of output fingerprint distances: 10\n",
      "INFO:kissim.comparison.fingerprint_distance_generator:Runtime: 0:00:00.004175\n",
      "INFO:kissim.api.weights:To file /home/dominique/Documents/GitHub/kissim_app/test/results/dfg_out/fingerprint_distances_010.csv.bz2\n",
      "INFO:kissim.api.weights:Read feature distances from /home/dominique/Documents/GitHub/kissim_app/test/results/dfg_out/feature_distances.csv.bz2...\n",
      "INFO:kissim.comparison.fingerprint_distance_generator:GENERATE FINGERPRINT DISTANCES\n",
      "INFO:kissim.comparison.fingerprint_distance_generator:Fingerprint distance generation started at: 2021-11-22 13:14:53.482298\n",
      "INFO:kissim.comparison.fingerprint_distance_generator:Feature weights: [0.    0.    0.    0.    0.    0.    0.    0.    0.    0.    0.    0.\n",
      " 0.333 0.333 0.333]\n",
      "Calculate pairwise fingerprint distance: 100%|█| 10/10 [00:00<00:00, 23314.64it/\n",
      "Calculate pairwise fingerprint coverage: 100%|█| 10/10 [00:00<00:00, 25040.62it/\n",
      "INFO:kissim.comparison.fingerprint_distance_generator:Number of output fingerprint distances: 10\n",
      "INFO:kissim.comparison.fingerprint_distance_generator:Runtime: 0:00:00.004199\n",
      "INFO:kissim.api.weights:To file /home/dominique/Documents/GitHub/kissim_app/test/results/dfg_out/fingerprint_distances_001.csv.bz2\n",
      "INFO:kissim.api.weights:Read feature distances from /home/dominique/Documents/GitHub/kissim_app/test/results/dfg_out/feature_distances.csv.bz2...\n",
      "INFO:kissim.comparison.fingerprint_distance_generator:GENERATE FINGERPRINT DISTANCES\n",
      "INFO:kissim.comparison.fingerprint_distance_generator:Fingerprint distance generation started at: 2021-11-22 13:14:55.333329\n",
      "INFO:kissim.comparison.fingerprint_distance_generator:Feature weights: [0.062 0.062 0.062 0.062 0.062 0.062 0.062 0.062 0.125 0.125 0.125 0.125\n",
      " 0.    0.    0.   ]\n",
      "Calculate pairwise fingerprint distance: 100%|█| 10/10 [00:00<00:00, 20753.61it/\n",
      "Calculate pairwise fingerprint coverage: 100%|█| 10/10 [00:00<00:00, 25343.23it/\n",
      "INFO:kissim.comparison.fingerprint_distance_generator:Number of output fingerprint distances: 10\n",
      "INFO:kissim.comparison.fingerprint_distance_generator:Runtime: 0:00:00.004330\n",
      "INFO:kissim.api.weights:To file /home/dominique/Documents/GitHub/kissim_app/test/results/dfg_out/fingerprint_distances_110.csv.bz2\n",
      "INFO:kissim.api.weights:Read feature distances from /home/dominique/Documents/GitHub/kissim_app/test/results/dfg_out/feature_distances.csv.bz2...\n",
      "INFO:kissim.comparison.fingerprint_distance_generator:GENERATE FINGERPRINT DISTANCES\n",
      "INFO:kissim.comparison.fingerprint_distance_generator:Fingerprint distance generation started at: 2021-11-22 13:14:57.250541\n",
      "INFO:kissim.comparison.fingerprint_distance_generator:Feature weights: [0.062 0.062 0.062 0.062 0.062 0.062 0.062 0.062 0.    0.    0.    0.\n",
      " 0.166 0.166 0.166]\n",
      "Calculate pairwise fingerprint distance: 100%|█| 10/10 [00:00<00:00, 19391.14it/\n",
      "Calculate pairwise fingerprint coverage: 100%|█| 10/10 [00:00<00:00, 23523.86it/\n",
      "INFO:kissim.comparison.fingerprint_distance_generator:Number of output fingerprint distances: 10\n",
      "INFO:kissim.comparison.fingerprint_distance_generator:Runtime: 0:00:00.004505\n",
      "INFO:kissim.api.weights:To file /home/dominique/Documents/GitHub/kissim_app/test/results/dfg_out/fingerprint_distances_101.csv.bz2\n",
      "INFO:kissim.api.weights:Read feature distances from /home/dominique/Documents/GitHub/kissim_app/test/results/dfg_out/feature_distances.csv.bz2...\n",
      "INFO:kissim.comparison.fingerprint_distance_generator:GENERATE FINGERPRINT DISTANCES\n",
      "INFO:kissim.comparison.fingerprint_distance_generator:Fingerprint distance generation started at: 2021-11-22 13:14:59.126489\n",
      "INFO:kissim.comparison.fingerprint_distance_generator:Feature weights: [0.    0.    0.    0.    0.    0.    0.    0.    0.125 0.125 0.125 0.125\n",
      " 0.166 0.166 0.166]\n",
      "Calculate pairwise fingerprint distance: 100%|█| 10/10 [00:00<00:00, 21098.11it/\n",
      "Calculate pairwise fingerprint coverage: 100%|█| 10/10 [00:00<00:00, 23070.98it/\n",
      "INFO:kissim.comparison.fingerprint_distance_generator:Number of output fingerprint distances: 10\n",
      "INFO:kissim.comparison.fingerprint_distance_generator:Runtime: 0:00:00.004710\n",
      "INFO:kissim.api.weights:To file /home/dominique/Documents/GitHub/kissim_app/test/results/dfg_out/fingerprint_distances_011.csv.bz2\n",
      "INFO:kissim.api.weights:Read feature distances from /home/dominique/Documents/GitHub/kissim_app/test/results/dfg_out/feature_distances.csv.bz2...\n",
      "INFO:kissim.comparison.fingerprint_distance_generator:GENERATE FINGERPRINT DISTANCES\n",
      "INFO:kissim.comparison.fingerprint_distance_generator:Fingerprint distance generation started at: 2021-11-22 13:15:00.956228\n",
      "INFO:kissim.comparison.fingerprint_distance_generator:Feature weights: [0.041 0.041 0.041 0.041 0.041 0.041 0.041 0.041 0.083 0.083 0.083 0.083\n",
      " 0.111 0.111 0.111]\n",
      "Calculate pairwise fingerprint distance: 100%|█| 10/10 [00:00<00:00, 22075.28it/\n",
      "Calculate pairwise fingerprint coverage: 100%|█| 10/10 [00:00<00:00, 23523.86it/\n",
      "INFO:kissim.comparison.fingerprint_distance_generator:Number of output fingerprint distances: 10\n",
      "INFO:kissim.comparison.fingerprint_distance_generator:Runtime: 0:00:00.004364\n",
      "INFO:kissim.api.weights:To file /home/dominique/Documents/GitHub/kissim_app/test/results/dfg_out/fingerprint_distances_111.csv.bz2\n"
     ]
    }
   ],
   "source": [
    "!bash src/kissim_weights.sh dfg_out"
   ]
  }
 ],
 "metadata": {
  "kernelspec": {
   "display_name": "Python 3 (ipykernel)",
   "language": "python",
   "name": "python3"
  },
  "language_info": {
   "codemirror_mode": {
    "name": "ipython",
    "version": 3
   },
   "file_extension": ".py",
   "mimetype": "text/x-python",
   "name": "python",
   "nbconvert_exporter": "python",
   "pygments_lexer": "ipython3",
   "version": "3.9.7"
  },
  "widgets": {
   "application/vnd.jupyter.widget-state+json": {
    "state": {
     "1470bd0df510438098e5008c36940cd4": {
      "model_module": "@jupyter-widgets/base",
      "model_module_version": "1.2.0",
      "model_name": "LayoutModel",
      "state": {}
     },
     "a3d97c8f883640ba919d263f1f778083": {
      "model_module": "nglview-js-widgets",
      "model_module_version": "3.0.1",
      "model_name": "ColormakerRegistryModel",
      "state": {
       "_msg_ar": [],
       "_msg_q": [],
       "_ready": true,
       "layout": "IPY_MODEL_1470bd0df510438098e5008c36940cd4"
      }
     }
    },
    "version_major": 2,
    "version_minor": 0
   }
  }
 },
 "nbformat": 4,
 "nbformat_minor": 5
}
