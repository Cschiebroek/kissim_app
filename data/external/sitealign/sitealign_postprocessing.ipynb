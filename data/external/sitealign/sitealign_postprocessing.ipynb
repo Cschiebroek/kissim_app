{
 "cells": [
  {
   "cell_type": "markdown",
   "id": "5bcec54d-2efa-4e8a-a288-b5775c5be6bd",
   "metadata": {},
   "source": [
    "# SiteAlign postprocessing\n",
    "\n",
    "- Paper\n",
    "  - https://doi.org/10.1002/prot.21858\n",
    "  - https://drugdesign.unistra.fr/labwebsite/publications/paper102.pdf\n",
    "- SiteAlign setup\n",
    "  - Based on the existing KLIFS alignment, reduce the number of steps to 1 (instead of 3) and the translational steps and adjusting the rotational and translational intensity\n",
    "  - Exclude pocket residues with modifications to avoid segmentation fault\n",
    "  - 3-4 weeks of calculations; 1/10 minute per pocket pair"
   ]
  },
  {
   "cell_type": "code",
   "execution_count": 1,
   "id": "14360803-0e11-4e2b-b411-5cbd4169de38",
   "metadata": {},
   "outputs": [],
   "source": [
    "%load_ext autoreload\n",
    "%autoreload 2"
   ]
  },
  {
   "cell_type": "code",
   "execution_count": 2,
   "id": "fc71c855-0266-459c-b3ac-b34091aec556",
   "metadata": {},
   "outputs": [
    {
     "data": {
      "application/vnd.jupyter.widget-view+json": {
       "model_id": "2e850455a22d455ca46632daa7d510f7",
       "version_major": 2,
       "version_minor": 0
      },
      "text/plain": []
     },
     "metadata": {},
     "output_type": "display_data"
    }
   ],
   "source": [
    "from pathlib import Path\n",
    "\n",
    "import numpy as np\n",
    "import pandas as pd\n",
    "from opencadd.databases import klifs\n",
    "\n",
    "from src.paths import PATH_DATA"
   ]
  },
  {
   "cell_type": "markdown",
   "id": "5675dbfb-57ef-4be0-812a-99b9a609ee42",
   "metadata": {},
   "source": [
    "## Load KLIFS structures (remote)"
   ]
  },
  {
   "cell_type": "code",
   "execution_count": 3,
   "id": "40ee5209-e452-469f-8262-52ab03082bf1",
   "metadata": {},
   "outputs": [
    {
     "data": {
      "text/html": [
       "<div>\n",
       "<style scoped>\n",
       "    .dataframe tbody tr th:only-of-type {\n",
       "        vertical-align: middle;\n",
       "    }\n",
       "\n",
       "    .dataframe tbody tr th {\n",
       "        vertical-align: top;\n",
       "    }\n",
       "\n",
       "    .dataframe thead th {\n",
       "        text-align: right;\n",
       "    }\n",
       "</style>\n",
       "<table border=\"1\" class=\"dataframe\">\n",
       "  <thead>\n",
       "    <tr style=\"text-align: right;\">\n",
       "      <th></th>\n",
       "      <th>structure.klifs_id</th>\n",
       "      <th>structure.pdb_id</th>\n",
       "      <th>structure.alternate_model</th>\n",
       "      <th>structure.chain</th>\n",
       "      <th>species.klifs</th>\n",
       "      <th>kinase.klifs_id</th>\n",
       "      <th>kinase.klifs_name</th>\n",
       "      <th>kinase.names</th>\n",
       "      <th>kinase.family</th>\n",
       "      <th>kinase.group</th>\n",
       "      <th>...</th>\n",
       "      <th>structure.bp_ii_b</th>\n",
       "      <th>structure.bp_iii</th>\n",
       "      <th>structure.bp_iv</th>\n",
       "      <th>structure.bp_v</th>\n",
       "      <th>structure.grich_distance</th>\n",
       "      <th>structure.grich_angle</th>\n",
       "      <th>structure.grich_rotation</th>\n",
       "      <th>structure.filepath</th>\n",
       "      <th>structure.curation_flag</th>\n",
       "      <th>structure.code</th>\n",
       "    </tr>\n",
       "  </thead>\n",
       "  <tbody>\n",
       "    <tr>\n",
       "      <th>0</th>\n",
       "      <td>10970</td>\n",
       "      <td>6hhf</td>\n",
       "      <td>-</td>\n",
       "      <td>A</td>\n",
       "      <td>Human</td>\n",
       "      <td>1</td>\n",
       "      <td>AKT1</td>\n",
       "      <td>&lt;NA&gt;</td>\n",
       "      <td>&lt;NA&gt;</td>\n",
       "      <td>&lt;NA&gt;</td>\n",
       "      <td>...</td>\n",
       "      <td>False</td>\n",
       "      <td>True</td>\n",
       "      <td>True</td>\n",
       "      <td>False</td>\n",
       "      <td>20.2232</td>\n",
       "      <td>67.835503</td>\n",
       "      <td>55.009102</td>\n",
       "      <td>&lt;NA&gt;</td>\n",
       "      <td>False</td>\n",
       "      <td>6hhf_chainA</td>\n",
       "    </tr>\n",
       "    <tr>\n",
       "      <th>1</th>\n",
       "      <td>10439</td>\n",
       "      <td>6buu</td>\n",
       "      <td>B</td>\n",
       "      <td>B</td>\n",
       "      <td>Human</td>\n",
       "      <td>1</td>\n",
       "      <td>AKT1</td>\n",
       "      <td>&lt;NA&gt;</td>\n",
       "      <td>&lt;NA&gt;</td>\n",
       "      <td>&lt;NA&gt;</td>\n",
       "      <td>...</td>\n",
       "      <td>False</td>\n",
       "      <td>False</td>\n",
       "      <td>False</td>\n",
       "      <td>False</td>\n",
       "      <td>17.9011</td>\n",
       "      <td>59.594799</td>\n",
       "      <td>60.872501</td>\n",
       "      <td>&lt;NA&gt;</td>\n",
       "      <td>False</td>\n",
       "      <td>6buu_altB_chainB</td>\n",
       "    </tr>\n",
       "    <tr>\n",
       "      <th>2</th>\n",
       "      <td>2532</td>\n",
       "      <td>3mv5</td>\n",
       "      <td>B</td>\n",
       "      <td>A</td>\n",
       "      <td>Human</td>\n",
       "      <td>1</td>\n",
       "      <td>AKT1</td>\n",
       "      <td>&lt;NA&gt;</td>\n",
       "      <td>&lt;NA&gt;</td>\n",
       "      <td>&lt;NA&gt;</td>\n",
       "      <td>...</td>\n",
       "      <td>False</td>\n",
       "      <td>False</td>\n",
       "      <td>False</td>\n",
       "      <td>False</td>\n",
       "      <td>17.3969</td>\n",
       "      <td>57.091900</td>\n",
       "      <td>55.166599</td>\n",
       "      <td>&lt;NA&gt;</td>\n",
       "      <td>False</td>\n",
       "      <td>3mv5_altB_chainA</td>\n",
       "    </tr>\n",
       "    <tr>\n",
       "      <th>3</th>\n",
       "      <td>10437</td>\n",
       "      <td>6c0i</td>\n",
       "      <td>B</td>\n",
       "      <td>B</td>\n",
       "      <td>Human</td>\n",
       "      <td>1</td>\n",
       "      <td>AKT1</td>\n",
       "      <td>&lt;NA&gt;</td>\n",
       "      <td>&lt;NA&gt;</td>\n",
       "      <td>&lt;NA&gt;</td>\n",
       "      <td>...</td>\n",
       "      <td>False</td>\n",
       "      <td>False</td>\n",
       "      <td>False</td>\n",
       "      <td>False</td>\n",
       "      <td>17.9011</td>\n",
       "      <td>59.594799</td>\n",
       "      <td>60.872501</td>\n",
       "      <td>&lt;NA&gt;</td>\n",
       "      <td>False</td>\n",
       "      <td>6c0i_altB_chainB</td>\n",
       "    </tr>\n",
       "    <tr>\n",
       "      <th>4</th>\n",
       "      <td>2533</td>\n",
       "      <td>3ow4</td>\n",
       "      <td>-</td>\n",
       "      <td>B</td>\n",
       "      <td>Human</td>\n",
       "      <td>1</td>\n",
       "      <td>AKT1</td>\n",
       "      <td>&lt;NA&gt;</td>\n",
       "      <td>&lt;NA&gt;</td>\n",
       "      <td>&lt;NA&gt;</td>\n",
       "      <td>...</td>\n",
       "      <td>False</td>\n",
       "      <td>False</td>\n",
       "      <td>False</td>\n",
       "      <td>False</td>\n",
       "      <td>19.1640</td>\n",
       "      <td>61.781799</td>\n",
       "      <td>50.624699</td>\n",
       "      <td>&lt;NA&gt;</td>\n",
       "      <td>False</td>\n",
       "      <td>3ow4_chainB</td>\n",
       "    </tr>\n",
       "  </tbody>\n",
       "</table>\n",
       "<p>5 rows × 47 columns</p>\n",
       "</div>"
      ],
      "text/plain": [
       "   structure.klifs_id structure.pdb_id structure.alternate_model  \\\n",
       "0               10970             6hhf                         -   \n",
       "1               10439             6buu                         B   \n",
       "2                2532             3mv5                         B   \n",
       "3               10437             6c0i                         B   \n",
       "4                2533             3ow4                         -   \n",
       "\n",
       "  structure.chain species.klifs  kinase.klifs_id kinase.klifs_name  \\\n",
       "0               A         Human                1              AKT1   \n",
       "1               B         Human                1              AKT1   \n",
       "2               A         Human                1              AKT1   \n",
       "3               B         Human                1              AKT1   \n",
       "4               B         Human                1              AKT1   \n",
       "\n",
       "  kinase.names kinase.family kinase.group  ... structure.bp_ii_b  \\\n",
       "0         <NA>          <NA>         <NA>  ...             False   \n",
       "1         <NA>          <NA>         <NA>  ...             False   \n",
       "2         <NA>          <NA>         <NA>  ...             False   \n",
       "3         <NA>          <NA>         <NA>  ...             False   \n",
       "4         <NA>          <NA>         <NA>  ...             False   \n",
       "\n",
       "  structure.bp_iii structure.bp_iv  structure.bp_v  structure.grich_distance  \\\n",
       "0             True            True           False                   20.2232   \n",
       "1            False           False           False                   17.9011   \n",
       "2            False           False           False                   17.3969   \n",
       "3            False           False           False                   17.9011   \n",
       "4            False           False           False                   19.1640   \n",
       "\n",
       "  structure.grich_angle structure.grich_rotation structure.filepath  \\\n",
       "0             67.835503                55.009102               <NA>   \n",
       "1             59.594799                60.872501               <NA>   \n",
       "2             57.091900                55.166599               <NA>   \n",
       "3             59.594799                60.872501               <NA>   \n",
       "4             61.781799                50.624699               <NA>   \n",
       "\n",
       "  structure.curation_flag    structure.code  \n",
       "0                   False       6hhf_chainA  \n",
       "1                   False  6buu_altB_chainB  \n",
       "2                   False  3mv5_altB_chainA  \n",
       "3                   False  6c0i_altB_chainB  \n",
       "4                   False       3ow4_chainB  \n",
       "\n",
       "[5 rows x 47 columns]"
      ]
     },
     "execution_count": 3,
     "metadata": {},
     "output_type": "execute_result"
    }
   ],
   "source": [
    "session = klifs.setup_remote()\n",
    "structures = session.structures.all_structures()\n",
    "structures[\"structure.code\"] = structures.apply(\n",
    "    lambda x: \n",
    "    f\"{x['structure.pdb_id']}\"\n",
    "    f\"{'' if x['structure.alternate_model'] == '-' else '_alt' + x['structure.alternate_model']}\"\n",
    "    f\"{'' if x['structure.chain'] == '-' else '_chain' + x['structure.chain']}\",\n",
    "    axis=1\n",
    ")\n",
    "structures.head()"
   ]
  },
  {
   "cell_type": "markdown",
   "id": "4225ea37-3af7-416b-8863-4a96654f162e",
   "metadata": {
    "tags": []
   },
   "source": [
    "## Load SiteAlign structure pairs"
   ]
  },
  {
   "cell_type": "code",
   "execution_count": 4,
   "id": "b96c7193-9143-4893-933d-b9904c180f65",
   "metadata": {},
   "outputs": [],
   "source": [
    "#sitealign_path = Path(\"SiteAlign_KiSSim.txt.gz\")\n",
    "sitealign_path = Path(\"complete_SiteAlign.txt.gz\")"
   ]
  },
  {
   "cell_type": "code",
   "execution_count": 5,
   "id": "408b42ac-4e2c-4b38-94be-df96e51d1155",
   "metadata": {},
   "outputs": [
    {
     "name": "stderr",
     "output_type": "stream",
     "text": [
      "/home/dominique/.local/miniforge3/envs/kissim-app-dev/lib/python3.9/site-packages/IPython/core/interactiveshell.py:3444: DtypeWarning: Columns (7) have mixed types.Specify dtype option on import or set low_memory=False.\n",
      "  exec(code_obj, self.user_global_ns, self.user_ns)\n"
     ]
    },
    {
     "data": {
      "text/plain": [
       "(8464555, 11)"
      ]
     },
     "execution_count": 5,
     "metadata": {},
     "output_type": "execute_result"
    }
   ],
   "source": [
    "sitealign_df = pd.read_table(sitealign_path, delimiter=\"\\t\", index_col=0)\n",
    "sitealign_df = sitealign_df.rename(columns={\"ID\": \"structure1\", \"Reference Target\": \"structure2\"})\n",
    "sitealign_df.shape"
   ]
  },
  {
   "cell_type": "code",
   "execution_count": 6,
   "id": "12d9026b-080c-4806-81ba-9375c04b09da",
   "metadata": {},
   "outputs": [
    {
     "data": {
      "text/plain": [
       "4115"
      ]
     },
     "execution_count": 6,
     "metadata": {},
     "output_type": "execute_result"
    }
   ],
   "source": [
    "structure_codes = pd.concat([sitealign_df[\"structure1\"], sitealign_df[\"structure2\"]]).unique().tolist()\n",
    "len(structure_codes)"
   ]
  },
  {
   "cell_type": "markdown",
   "id": "8f4e123e-659b-46f8-ba3d-59aa1f86ac12",
   "metadata": {},
   "source": [
    "In theory, we should have the following number of pairwise distances (without self-comparison):"
   ]
  },
  {
   "cell_type": "code",
   "execution_count": 7,
   "id": "06b42f68-b9ba-43d0-82f1-ea9e8dab016f",
   "metadata": {},
   "outputs": [
    {
     "data": {
      "text/plain": [
       "8464555"
      ]
     },
     "execution_count": 7,
     "metadata": {},
     "output_type": "execute_result"
    }
   ],
   "source": [
    "n_structures = len(structure_codes)\n",
    "n_distances_theory = int((n_structures * n_structures - n_structures) / 2)\n",
    "n_distances_theory"
   ]
  },
  {
   "cell_type": "markdown",
   "id": "a0a47261-d355-4465-a2ee-2a22a29132aa",
   "metadata": {},
   "source": [
    "In practice, we have:"
   ]
  },
  {
   "cell_type": "code",
   "execution_count": 8,
   "id": "1e7168be-be32-4013-95c6-f2c5bfae2d65",
   "metadata": {},
   "outputs": [
    {
     "data": {
      "text/plain": [
       "8464555"
      ]
     },
     "execution_count": 8,
     "metadata": {},
     "output_type": "execute_result"
    }
   ],
   "source": [
    "n_distances_practice = sitealign_df.shape[0]\n",
    "n_distances_practice"
   ]
  },
  {
   "cell_type": "code",
   "execution_count": 9,
   "id": "001b1c10-e608-45d2-a238-740da4b3b08f",
   "metadata": {},
   "outputs": [
    {
     "data": {
      "text/plain": [
       "1.0"
      ]
     },
     "execution_count": 9,
     "metadata": {},
     "output_type": "execute_result"
    }
   ],
   "source": [
    "n_distances_practice / n_distances_theory"
   ]
  },
  {
   "cell_type": "markdown",
   "id": "e2d130da-d387-408c-90f4-73cca30a8725",
   "metadata": {
    "tags": []
   },
   "source": [
    "### Remove entries with invalid structure codes"
   ]
  },
  {
   "cell_type": "code",
   "execution_count": 10,
   "id": "72c0245f-a5c1-40da-a45e-4a6446d2d31e",
   "metadata": {},
   "outputs": [
    {
     "data": {
      "text/plain": [
       "'(^[a-zA-Z0-9]{4}_chain[a-zA-Z0-9]$)|(^[a-zA-Z0-9]{4}_alt[A-Z0-9]$)|(^[a-zA-Z0-9]{4}_alt[A-Z0-9]_chain[a-zA-Z0-9]$)'"
      ]
     },
     "execution_count": 10,
     "metadata": {},
     "output_type": "execute_result"
    }
   ],
   "source": [
    "regex = (\n",
    "    r\"(^[a-zA-Z0-9]{4}_chain[a-zA-Z0-9]$)\"\n",
    "    r\"|(^[a-zA-Z0-9]{4}_alt[A-Z0-9]$)|\"\n",
    "    r\"(^[a-zA-Z0-9]{4}_alt[A-Z0-9]_chain[a-zA-Z0-9]$)\"\n",
    ")\n",
    "regex"
   ]
  },
  {
   "cell_type": "code",
   "execution_count": 11,
   "id": "db58eb08-546c-40cc-953c-7d7d067d9a95",
   "metadata": {},
   "outputs": [
    {
     "data": {
      "text/html": [
       "<div>\n",
       "<style scoped>\n",
       "    .dataframe tbody tr th:only-of-type {\n",
       "        vertical-align: middle;\n",
       "    }\n",
       "\n",
       "    .dataframe tbody tr th {\n",
       "        vertical-align: top;\n",
       "    }\n",
       "\n",
       "    .dataframe thead th {\n",
       "        text-align: right;\n",
       "    }\n",
       "</style>\n",
       "<table border=\"1\" class=\"dataframe\">\n",
       "  <thead>\n",
       "    <tr style=\"text-align: right;\">\n",
       "      <th></th>\n",
       "      <th>structure1</th>\n",
       "      <th>structure2</th>\n",
       "      <th>Residue_count</th>\n",
       "      <th>Distance1</th>\n",
       "      <th>Distance2</th>\n",
       "      <th>Distance3</th>\n",
       "      <th>Distance4</th>\n",
       "      <th>N</th>\n",
       "      <th>N2</th>\n",
       "      <th>N3</th>\n",
       "      <th>N4</th>\n",
       "    </tr>\n",
       "  </thead>\n",
       "  <tbody>\n",
       "  </tbody>\n",
       "</table>\n",
       "</div>"
      ],
      "text/plain": [
       "Empty DataFrame\n",
       "Columns: [structure1, structure2, Residue_count, Distance1, Distance2, Distance3, Distance4, N, N2, N3, N4]\n",
       "Index: []"
      ]
     },
     "execution_count": 11,
     "metadata": {},
     "output_type": "execute_result"
    }
   ],
   "source": [
    "# Show invalid structure codes\n",
    "sitealign_df[\n",
    "    ~sitealign_df[\"structure1\"].str.match(regex, na=False) |\n",
    "    ~sitealign_df[\"structure2\"].str.match(regex, na=False)\n",
    "]"
   ]
  },
  {
   "cell_type": "code",
   "execution_count": 12,
   "id": "1b1c15ce-74f6-4184-9170-829cca9141b2",
   "metadata": {},
   "outputs": [
    {
     "data": {
      "text/plain": [
       "(8464555, 11)"
      ]
     },
     "execution_count": 12,
     "metadata": {},
     "output_type": "execute_result"
    }
   ],
   "source": [
    "# Drop entries with invalid structure codes\n",
    "sitealign_df = sitealign_df[sitealign_df[\"structure1\"].str.match(regex, na=False)]\n",
    "sitealign_df = sitealign_df[sitealign_df[\"structure2\"].str.match(regex, na=False)]\n",
    "sitealign_df.shape"
   ]
  },
  {
   "cell_type": "markdown",
   "id": "66a29fd2-9530-4265-ab64-7df668e56df4",
   "metadata": {},
   "source": [
    "### Map structure code to KLIFS ID/kinase name"
   ]
  },
  {
   "cell_type": "code",
   "execution_count": 13,
   "id": "ec72cdb1-07b4-45e7-a34a-2e866f59ab92",
   "metadata": {},
   "outputs": [],
   "source": [
    "structure_code_to_kinase_names = {\n",
    "    row[\"structure.code\"]: row[\"kinase.klifs_name\"] \n",
    "    for _, row \n",
    "    in structures.iterrows()\n",
    "}"
   ]
  },
  {
   "cell_type": "code",
   "execution_count": 14,
   "id": "f8017635-abd7-442e-a8d1-80fed3dfef30",
   "metadata": {},
   "outputs": [],
   "source": [
    "structure_code_to_klifs_id = {\n",
    "    row[\"structure.code\"]: row[\"structure.klifs_id\"] \n",
    "    for _, row \n",
    "    in structures.iterrows()\n",
    "}"
   ]
  },
  {
   "cell_type": "code",
   "execution_count": 15,
   "id": "6c38c8e5-861b-4068-a7b1-22e83a82e705",
   "metadata": {},
   "outputs": [
    {
     "name": "stdout",
     "output_type": "stream",
     "text": [
      "CPU times: user 6min 24s, sys: 11.1 s, total: 6min 35s\n",
      "Wall time: 6min 42s\n"
     ]
    }
   ],
   "source": [
    "%%time\n",
    "# Add columns for kinase names\n",
    "sitealign_df[\"kinase1\"] = sitealign_df.apply(\n",
    "    lambda x: structure_code_to_kinase_names[x[\"structure1\"]], \n",
    "    axis=1\n",
    ")\n",
    "sitealign_df[\"kinase2\"] = sitealign_df.apply(\n",
    "    lambda x: structure_code_to_kinase_names[x[\"structure2\"]], \n",
    "    axis=1\n",
    ")"
   ]
  },
  {
   "cell_type": "code",
   "execution_count": 16,
   "id": "921db267-2d15-4dde-b624-d4ef2a622399",
   "metadata": {},
   "outputs": [
    {
     "name": "stdout",
     "output_type": "stream",
     "text": [
      "CPU times: user 7min 43s, sys: 14 s, total: 7min 57s\n",
      "Wall time: 8min 5s\n"
     ]
    }
   ],
   "source": [
    "%%time\n",
    "# Add columns for structure KLIFS ID\n",
    "sitealign_df[\"structure1.klifs_id\"] = sitealign_df.apply(\n",
    "    lambda x: structure_code_to_klifs_id[x[\"structure1\"]], \n",
    "    axis=1\n",
    ")\n",
    "sitealign_df[\"structure2.klifs_id\"] = sitealign_df.apply(\n",
    "    lambda x: structure_code_to_klifs_id[x[\"structure2\"]], \n",
    "    axis=1\n",
    ")"
   ]
  },
  {
   "cell_type": "markdown",
   "id": "d31f3861-7da1-4f9f-8c6e-496eb90bad69",
   "metadata": {},
   "source": [
    "### [FYI] Show entries with missing values"
   ]
  },
  {
   "cell_type": "code",
   "execution_count": 17,
   "id": "79553998-86d2-4559-9d8c-665315329606",
   "metadata": {
    "tags": []
   },
   "outputs": [
    {
     "name": "stdout",
     "output_type": "stream",
     "text": [
      "(21, 15)\n"
     ]
    },
    {
     "data": {
      "text/html": [
       "<div>\n",
       "<style scoped>\n",
       "    .dataframe tbody tr th:only-of-type {\n",
       "        vertical-align: middle;\n",
       "    }\n",
       "\n",
       "    .dataframe tbody tr th {\n",
       "        vertical-align: top;\n",
       "    }\n",
       "\n",
       "    .dataframe thead th {\n",
       "        text-align: right;\n",
       "    }\n",
       "</style>\n",
       "<table border=\"1\" class=\"dataframe\">\n",
       "  <thead>\n",
       "    <tr style=\"text-align: right;\">\n",
       "      <th></th>\n",
       "      <th>structure1</th>\n",
       "      <th>structure2</th>\n",
       "      <th>Residue_count</th>\n",
       "      <th>Distance1</th>\n",
       "      <th>Distance2</th>\n",
       "      <th>Distance3</th>\n",
       "      <th>Distance4</th>\n",
       "      <th>N</th>\n",
       "      <th>N2</th>\n",
       "      <th>N3</th>\n",
       "      <th>N4</th>\n",
       "      <th>kinase1</th>\n",
       "      <th>kinase2</th>\n",
       "      <th>structure1.klifs_id</th>\n",
       "      <th>structure2.klifs_id</th>\n",
       "    </tr>\n",
       "  </thead>\n",
       "  <tbody>\n",
       "    <tr>\n",
       "      <th>52</th>\n",
       "      <td>1h24_chainA</td>\n",
       "      <td>3fc1_chainX</td>\n",
       "      <td>78</td>\n",
       "      <td>0.9836</td>\n",
       "      <td>0.0792</td>\n",
       "      <td>0.125</td>\n",
       "      <td>NaN</td>\n",
       "      <td>56</td>\n",
       "      <td>1</td>\n",
       "      <td>1</td>\n",
       "      <td>0</td>\n",
       "      <td>CDK2</td>\n",
       "      <td>p38a</td>\n",
       "      <td>4199</td>\n",
       "      <td>5110</td>\n",
       "    </tr>\n",
       "    <tr>\n",
       "      <th>53</th>\n",
       "      <td>1h25_chainA</td>\n",
       "      <td>3fc1_chainX</td>\n",
       "      <td>78</td>\n",
       "      <td>0.9834</td>\n",
       "      <td>0.0708</td>\n",
       "      <td>0.125</td>\n",
       "      <td>NaN</td>\n",
       "      <td>56</td>\n",
       "      <td>1</td>\n",
       "      <td>1</td>\n",
       "      <td>0</td>\n",
       "      <td>CDK2</td>\n",
       "      <td>p38a</td>\n",
       "      <td>4273</td>\n",
       "      <td>5110</td>\n",
       "    </tr>\n",
       "    <tr>\n",
       "      <th>247</th>\n",
       "      <td>2a2a_altA_chainA</td>\n",
       "      <td>3fc1_chainX</td>\n",
       "      <td>78</td>\n",
       "      <td>0.9842</td>\n",
       "      <td>0.0833</td>\n",
       "      <td>0.125</td>\n",
       "      <td>NaN</td>\n",
       "      <td>58</td>\n",
       "      <td>1</td>\n",
       "      <td>1</td>\n",
       "      <td>0</td>\n",
       "      <td>DAPK2</td>\n",
       "      <td>p38a</td>\n",
       "      <td>1145</td>\n",
       "      <td>5110</td>\n",
       "    </tr>\n",
       "    <tr>\n",
       "      <th>287</th>\n",
       "      <td>2c0t_altA_chainA</td>\n",
       "      <td>2yjr_altA_chainA</td>\n",
       "      <td>84</td>\n",
       "      <td>1.0000</td>\n",
       "      <td>1.0000</td>\n",
       "      <td>1.000</td>\n",
       "      <td>NaN</td>\n",
       "      <td>0</td>\n",
       "      <td>0</td>\n",
       "      <td>0</td>\n",
       "      <td>0</td>\n",
       "      <td>HCK</td>\n",
       "      <td>ALK</td>\n",
       "      <td>2653</td>\n",
       "      <td>5399</td>\n",
       "    </tr>\n",
       "    <tr>\n",
       "      <th>570</th>\n",
       "      <td>2w4k_altA_chainA</td>\n",
       "      <td>3fc1_chainX</td>\n",
       "      <td>78</td>\n",
       "      <td>0.9831</td>\n",
       "      <td>0.0375</td>\n",
       "      <td>0.125</td>\n",
       "      <td>NaN</td>\n",
       "      <td>57</td>\n",
       "      <td>1</td>\n",
       "      <td>1</td>\n",
       "      <td>0</td>\n",
       "      <td>DAPK1</td>\n",
       "      <td>p38a</td>\n",
       "      <td>5653</td>\n",
       "      <td>5110</td>\n",
       "    </tr>\n",
       "  </tbody>\n",
       "</table>\n",
       "</div>"
      ],
      "text/plain": [
       "           structure1        structure2  Residue_count  Distance1  Distance2  \\\n",
       "52        1h24_chainA       3fc1_chainX             78     0.9836     0.0792   \n",
       "53        1h25_chainA       3fc1_chainX             78     0.9834     0.0708   \n",
       "247  2a2a_altA_chainA       3fc1_chainX             78     0.9842     0.0833   \n",
       "287  2c0t_altA_chainA  2yjr_altA_chainA             84     1.0000     1.0000   \n",
       "570  2w4k_altA_chainA       3fc1_chainX             78     0.9831     0.0375   \n",
       "\n",
       "     Distance3 Distance4   N  N2  N3  N4 kinase1 kinase2  structure1.klifs_id  \\\n",
       "52       0.125       NaN  56   1   1   0    CDK2    p38a                 4199   \n",
       "53       0.125       NaN  56   1   1   0    CDK2    p38a                 4273   \n",
       "247      0.125       NaN  58   1   1   0   DAPK2    p38a                 1145   \n",
       "287      1.000       NaN   0   0   0   0     HCK     ALK                 2653   \n",
       "570      0.125       NaN  57   1   1   0   DAPK1    p38a                 5653   \n",
       "\n",
       "     structure2.klifs_id  \n",
       "52                  5110  \n",
       "53                  5110  \n",
       "247                 5110  \n",
       "287                 5399  \n",
       "570                 5110  "
      ]
     },
     "execution_count": 17,
     "metadata": {},
     "output_type": "execute_result"
    }
   ],
   "source": [
    "# Show missing values\n",
    "sitealign_df_missing_values = sitealign_df[sitealign_df.isna().any(axis=1)]\n",
    "print(sitealign_df_missing_values.shape)\n",
    "sitealign_df_missing_values.head()"
   ]
  },
  {
   "cell_type": "markdown",
   "id": "85e1f9f6-765e-48c2-a752-ce7d11a24739",
   "metadata": {},
   "source": [
    "### Remove structures that are not part of KiSSim-DFG-in dataset?"
   ]
  },
  {
   "cell_type": "code",
   "execution_count": 18,
   "id": "6d7cb631-66e8-4ac5-aca4-28890697336c",
   "metadata": {
    "tags": []
   },
   "outputs": [],
   "source": [
    "# KiSSim structure KLIFS IDs\n",
    "kissim_structure_klifs_ids = pd.read_csv(\n",
    "    PATH_DATA / \"processed/structure_klifs_ids_dfg_in.txt\"\n",
    ").squeeze().to_list()\n",
    "# SiteAlign structure KLIFS IDs\n",
    "sitealign_structure_klifs_ids = pd.concat(\n",
    "    [sitealign_df[\"structure1.klifs_id\"], sitealign_df[\"structure2.klifs_id\"]]\n",
    ").unique().tolist()"
   ]
  },
  {
   "cell_type": "code",
   "execution_count": 19,
   "id": "7e9b2292-4b3d-4c38-a72e-7711bc8937de",
   "metadata": {},
   "outputs": [
    {
     "data": {
      "text/plain": [
       "[4]"
      ]
     },
     "execution_count": 19,
     "metadata": {},
     "output_type": "execute_result"
    }
   ],
   "source": [
    "unwanted_structure_klifs_ids = list(\n",
    "    set(sitealign_structure_klifs_ids) - set(kissim_structure_klifs_ids)\n",
    ")\n",
    "unwanted_structure_klifs_ids"
   ]
  },
  {
   "cell_type": "code",
   "execution_count": 20,
   "id": "f2946126-c6b8-4a3a-a23e-67ad60272021",
   "metadata": {},
   "outputs": [
    {
     "data": {
      "text/plain": [
       "(8460441, 15)"
      ]
     },
     "execution_count": 20,
     "metadata": {},
     "output_type": "execute_result"
    }
   ],
   "source": [
    "# Remove unwanted structure pairs\n",
    "sitealign_df = sitealign_df[\n",
    "    ~(\n",
    "        sitealign_df[\"structure1.klifs_id\"].isin(unwanted_structure_klifs_ids) |\n",
    "        sitealign_df[\"structure2.klifs_id\"].isin(unwanted_structure_klifs_ids) \n",
    "    )\n",
    "]\n",
    "sitealign_df.shape"
   ]
  },
  {
   "cell_type": "markdown",
   "id": "2c43d561-2f6e-4d28-a2ab-cb820cbdb8a5",
   "metadata": {},
   "source": [
    "### Structure pair stats"
   ]
  },
  {
   "cell_type": "code",
   "execution_count": 21,
   "id": "ec2d9b3a-67d0-4f07-829a-ff6559f6223e",
   "metadata": {},
   "outputs": [
    {
     "name": "stdout",
     "output_type": "stream",
     "text": [
      "Number of structure pairs: 8460441\n"
     ]
    }
   ],
   "source": [
    "sitealign_df = sitealign_df[sitealign_df[\"Distance1\"].notna()]\n",
    "print(f\"Number of structure pairs: {sitealign_df.shape[0]}\")"
   ]
  },
  {
   "cell_type": "code",
   "execution_count": 22,
   "id": "3f8cea79-c626-48a1-bb84-e718245fe442",
   "metadata": {},
   "outputs": [
    {
     "name": "stdout",
     "output_type": "stream",
     "text": [
      "Number of structures: 4114\n"
     ]
    }
   ],
   "source": [
    "structure_codes = pd.concat(\n",
    "    [sitealign_df[\"structure1\"], sitealign_df[\"structure2\"]]\n",
    ").unique().tolist()\n",
    "print(f\"Number of structures: {len(structure_codes)}\")"
   ]
  },
  {
   "cell_type": "markdown",
   "id": "f7b4e78a-43c9-475c-964c-27c172dd08ae",
   "metadata": {},
   "source": [
    "## Map SiteAlign structure to kinase distance pairs"
   ]
  },
  {
   "cell_type": "code",
   "execution_count": 23,
   "id": "54a781df-19eb-44d1-8a74-0f577839fa33",
   "metadata": {},
   "outputs": [],
   "source": [
    "sitealign_kinase_distance_df = sitealign_df[\n",
    "    [\"kinase1\", \"kinase2\", \"Distance1\"]\n",
    "].copy()\n",
    "# Sort kinase pairs by name\n",
    "sitealign_kinase_distance_df[[\"kinase1\", \"kinase2\"]] = (\n",
    "    np.sort(sitealign_kinase_distance_df[[\"kinase1\", \"kinase2\"]], axis=1)\n",
    ")\n",
    "# Group structures by kinase pairs and take minimum distances\n",
    "sitealign_kinase_distance_df = sitealign_kinase_distance_df.groupby(\n",
    "    [\"kinase1\", \"kinase2\"]\n",
    ").min()\n",
    "sitealign_kinase_distance_df = sitealign_kinase_distance_df.reset_index()"
   ]
  },
  {
   "cell_type": "markdown",
   "id": "90b5dd17-e773-4210-af03-8a8adf2781c7",
   "metadata": {},
   "source": [
    "## Generate SiteAlign distance matrix"
   ]
  },
  {
   "cell_type": "code",
   "execution_count": 24,
   "id": "20047126-968d-4573-b755-f00d307b287f",
   "metadata": {},
   "outputs": [],
   "source": [
    "def distance_pairs_to_matrix(\n",
    "    pairs, item1_col_name, item2_col_name, distance_col_name\n",
    "):\n",
    "    \"\"\"\n",
    "    Transform list of pairwise distances into a\n",
    "    distance matrix.\n",
    "    \n",
    "    Parameters\n",
    "    ----------\n",
    "    pairs : pandas.DataFrame\n",
    "        Table of pairwise distances.\n",
    "    item1_col_name : str\n",
    "        Name of column in `pairs` that contains first items of pairs.\n",
    "    item2_col_name : str\n",
    "        Name of column in `pairs` that contains second items of pairs.\n",
    "    distance_col_name : str\n",
    "        Name of column in `pairs` that contains distances.\n",
    "        \n",
    "    Returns\n",
    "    -------\n",
    "    pandas.DataFrame\n",
    "        Distance matrix.\n",
    "    \"\"\"\n",
    "    # Get all item names to be set in the matrix\n",
    "    index_column_names = pd.concat(\n",
    "        [pairs[item1_col_name], pairs[item2_col_name]]\n",
    "    ).unique().tolist()\n",
    "    \n",
    "    # Initialize matrix\n",
    "    matrix = pd.DataFrame([], columns=index_column_names, index=index_column_names)\n",
    "    \n",
    "    # Fill matrix\n",
    "    for index, row in pairs.iterrows():\n",
    "        if index % 1000000 == 0:\n",
    "            print(index)\n",
    "        matrix.loc[row[item1_col_name], row[item2_col_name]] = row[distance_col_name]\n",
    "        matrix.loc[row[item2_col_name], row[item1_col_name]] = row[distance_col_name]\n",
    "        \n",
    "    # Fill diagonal\n",
    "    for name in index_column_names:\n",
    "        matrix.loc[name, name] = 0\n",
    "        \n",
    "    return matrix"
   ]
  },
  {
   "cell_type": "markdown",
   "id": "b47cc60e-a20e-47da-a4dd-70cb3a4d9abc",
   "metadata": {},
   "source": [
    "### Structure distance matrix"
   ]
  },
  {
   "cell_type": "raw",
   "id": "c5610682-fe1e-4fcb-b6e7-f135cff4f6e7",
   "metadata": {
    "tags": []
   },
   "source": [
    "%%time\n",
    "# ~ 20 minutes\n",
    "sitealign_structure_matrix = distance_pairs_to_matrix(\n",
    "    sitealign_df,\n",
    "    \"structure1\",\n",
    "    \"structure2\",\n",
    "    \"Distance1\"\n",
    ")\n",
    "sitealign_structure_matrix.to_csv(\n",
    "    Path(\"sitealign_structure_distance_matrix.csv\"),\n",
    "    index=True\n",
    ")"
   ]
  },
  {
   "cell_type": "raw",
   "id": "40741fcd-064c-4b0a-9a30-0938857a95fa",
   "metadata": {},
   "source": [
    "sitealign_structure_matrix = pd.read_csv(\n",
    "    Path(\"sitealign_structure_distance_matrix.csv\"),\n",
    "    index_col=0\n",
    ")"
   ]
  },
  {
   "cell_type": "markdown",
   "id": "1e8b993a-6e6c-4b12-a814-130b52e053b3",
   "metadata": {},
   "source": [
    "### Kinase distance matrix"
   ]
  },
  {
   "cell_type": "code",
   "execution_count": 25,
   "id": "77b5a67d-26b1-421a-bcc2-c02a520b522d",
   "metadata": {},
   "outputs": [
    {
     "name": "stdout",
     "output_type": "stream",
     "text": [
      "0\n",
      "CPU times: user 21 s, sys: 48.5 ms, total: 21.1 s\n",
      "Wall time: 21.5 s\n"
     ]
    }
   ],
   "source": [
    "%%time\n",
    "sitealign_kinase_matix = distance_pairs_to_matrix(\n",
    "    sitealign_kinase_distance_df,\n",
    "    \"kinase1\",\n",
    "    \"kinase2\",\n",
    "    \"Distance1\"\n",
    ")\n",
    "sitealign_kinase_matix.to_csv(\n",
    "    Path(\"sitealign_kinase_distance_matrix.csv\"),\n",
    "    index=True\n",
    ")"
   ]
  },
  {
   "cell_type": "code",
   "execution_count": 26,
   "id": "c2ea3ff3-9600-4c54-8663-e401d2c2d713",
   "metadata": {},
   "outputs": [],
   "source": [
    "sitealign_kinase_matix = pd.read_csv(\n",
    "    Path(\"sitealign_kinase_distance_matrix.csv\"),\n",
    "    index_col=0\n",
    ")"
   ]
  }
 ],
 "metadata": {
  "kernelspec": {
   "display_name": "Python 3 (ipykernel)",
   "language": "python",
   "name": "python3"
  },
  "language_info": {
   "codemirror_mode": {
    "name": "ipython",
    "version": 3
   },
   "file_extension": ".py",
   "mimetype": "text/x-python",
   "name": "python",
   "nbconvert_exporter": "python",
   "pygments_lexer": "ipython3",
   "version": "3.9.7"
  },
  "widgets": {
   "application/vnd.jupyter.widget-state+json": {
    "state": {},
    "version_major": 2,
    "version_minor": 0
   }
  }
 },
 "nbformat": 4,
 "nbformat_minor": 5
}
